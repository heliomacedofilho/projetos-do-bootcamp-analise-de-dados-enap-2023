{
 "cells": [
  {
   "cell_type": "code",
   "execution_count": 200,
   "metadata": {},
   "outputs": [],
   "source": [
    "from bs4 import  BeautifulSoup\n",
    "import re\n",
    "from collections import OrderedDict\n",
    "import pandas as pd"
   ]
  },
  {
   "cell_type": "code",
   "execution_count": 263,
   "metadata": {},
   "outputs": [
    {
     "data": {
      "text/html": [
       "<div>\n",
       "<style scoped>\n",
       "    .dataframe tbody tr th:only-of-type {\n",
       "        vertical-align: middle;\n",
       "    }\n",
       "\n",
       "    .dataframe tbody tr th {\n",
       "        vertical-align: top;\n",
       "    }\n",
       "\n",
       "    .dataframe thead th {\n",
       "        text-align: right;\n",
       "    }\n",
       "</style>\n",
       "<table border=\"1\" class=\"dataframe\">\n",
       "  <thead>\n",
       "    <tr style=\"text-align: right;\">\n",
       "      <th></th>\n",
       "      <th>Observações</th>\n",
       "      <th>ACEITO</th>\n",
       "    </tr>\n",
       "  </thead>\n",
       "  <tbody>\n",
       "    <tr>\n",
       "      <th>0</th>\n",
       "      <td>O testemunho SL-01-RS solicitado encontra-se n...</td>\n",
       "      <td>True</td>\n",
       "    </tr>\n",
       "  </tbody>\n",
       "</table>\n",
       "</div>"
      ],
      "text/plain": [
       "                                         Observações  ACEITO\n",
       "0  O testemunho SL-01-RS solicitado encontra-se n...    True"
      ]
     },
     "execution_count": 263,
     "metadata": {},
     "output_type": "execute_result"
    }
   ],
   "source": [
    "fname = 'jocker_sei/1159758.html'\n",
    "\n",
    "with open(fname, \"r\", encoding=\"utf-8\") as f:\n",
    "    soup = BeautifulSoup(f.read(), \"html.parser\")\n",
    "\n",
    "tags = [tag for tag in soup.find(\"div\", id=\"conteudo\").children if len(tag.text.strip()) > 0 and not re.match(r\"^\\d+\\.\", tag.text.strip())]\n",
    "# Cada HTML, um dicionário ordenado\n",
    "dict_series = OrderedDict()\n",
    "\n",
    "for index in range(len(tags)):\n",
    "    tag = tags[index]\n",
    "    \n",
    "    if tag.name == \"b\":\n",
    "        key = tag.text.strip().rstrip(\":\")\n",
    "        value = tags[index + 1].text.strip()\n",
    "        \n",
    "        dict_series[key] = value\n",
    "\n",
    "\n",
    "# Empilhar todos os dicionários para criar o df e interpretar os dtypes\n",
    "df = (\n",
    "    pd.DataFrame([dict_series])\n",
    "        .apply(lambda x: pd.to_numeric(x.str.replace(\",\", \".\"), errors=\"ignore\"))\n",
    "        .apply(lambda x: x.replace(\"Sim\", True).replace(\"Não\", False))\n",
    "        \n",
    ")\n",
    "\n",
    "df[df.columns[50:]] #.info()\n"
   ]
  },
  {
   "cell_type": "code",
   "execution_count": null,
   "metadata": {},
   "outputs": [],
   "source": [
    "# content = [item for item in soup.find(\"div\", id=\"conteudo\").get_text(separator=\"|\", strip=True).split(\"|\") if not re.match(r\"^\\d+\\.\", item)]\n",
    "\n",
    "#[x for x in re.split(\"[\\n]+\", content)]\n",
    "\n",
    "#list(zip(content[::2], content[1::2]))"
   ]
  },
  {
   "cell_type": "code",
   "execution_count": 45,
   "metadata": {},
   "outputs": [
    {
     "ename": "UnicodeDecodeError",
     "evalue": "'charmap' codec can't decode byte 0x81 in position 2079: character maps to <undefined>",
     "output_type": "error",
     "traceback": [
      "\u001b[1;31m---------------------------------------------------------------------------\u001b[0m",
      "\u001b[1;31mUnicodeDecodeError\u001b[0m                        Traceback (most recent call last)",
      "\u001b[1;32md:\\Daiana Sales\\projetos-do-bootcamp-analise-de-dados-enap-2023-2\\automatizacao_de_relatorio_de_dados_de_documentos\\retirar_html.ipynb Cell 1\u001b[0m line \u001b[0;36m6\n\u001b[0;32m      <a href='vscode-notebook-cell:/d%3A/Daiana%20Sales/projetos-do-bootcamp-analise-de-dados-enap-2023-2/automatizacao_de_relatorio_de_dados_de_documentos/retirar_html.ipynb#W0sZmlsZQ%3D%3D?line=2'>3</a>\u001b[0m fname \u001b[39m=\u001b[39m \u001b[39m'\u001b[39m\u001b[39mjocker_sei/1159758.html\u001b[39m\u001b[39m'\u001b[39m\n\u001b[0;32m      <a href='vscode-notebook-cell:/d%3A/Daiana%20Sales/projetos-do-bootcamp-analise-de-dados-enap-2023-2/automatizacao_de_relatorio_de_dados_de_documentos/retirar_html.ipynb#W0sZmlsZQ%3D%3D?line=3'>4</a>\u001b[0m html_file \u001b[39m=\u001b[39m \u001b[39mopen\u001b[39m(fname, \u001b[39m'\u001b[39m\u001b[39mr\u001b[39m\u001b[39m'\u001b[39m)\n\u001b[1;32m----> <a href='vscode-notebook-cell:/d%3A/Daiana%20Sales/projetos-do-bootcamp-analise-de-dados-enap-2023-2/automatizacao_de_relatorio_de_dados_de_documentos/retirar_html.ipynb#W0sZmlsZQ%3D%3D?line=5'>6</a>\u001b[0m \u001b[39mprint\u001b[39m(html\u001b[39m.\u001b[39munescape(html_file\u001b[39m.\u001b[39;49mread()))\n\u001b[0;32m      <a href='vscode-notebook-cell:/d%3A/Daiana%20Sales/projetos-do-bootcamp-analise-de-dados-enap-2023-2/automatizacao_de_relatorio_de_dados_de_documentos/retirar_html.ipynb#W0sZmlsZQ%3D%3D?line=7'>8</a>\u001b[0m \u001b[39m# Sua string HTML com entidades HTML\u001b[39;00m\n\u001b[0;32m      <a href='vscode-notebook-cell:/d%3A/Daiana%20Sales/projetos-do-bootcamp-analise-de-dados-enap-2023-2/automatizacao_de_relatorio_de_dados_de_documentos/retirar_html.ipynb#W0sZmlsZQ%3D%3D?line=8'>9</a>\u001b[0m \u001b[39m#html_string = \"&nbsp;&nbsp;&lt;Texto&gt;\"\u001b[39;00m\n\u001b[0;32m     <a href='vscode-notebook-cell:/d%3A/Daiana%20Sales/projetos-do-bootcamp-analise-de-dados-enap-2023-2/automatizacao_de_relatorio_de_dados_de_documentos/retirar_html.ipynb#W0sZmlsZQ%3D%3D?line=9'>10</a>\u001b[0m \n\u001b[1;32m   (...)\u001b[0m\n\u001b[0;32m     <a href='vscode-notebook-cell:/d%3A/Daiana%20Sales/projetos-do-bootcamp-analise-de-dados-enap-2023-2/automatizacao_de_relatorio_de_dados_de_documentos/retirar_html.ipynb#W0sZmlsZQ%3D%3D?line=13'>14</a>\u001b[0m \u001b[39m# Exiba o resultado\u001b[39;00m\n\u001b[0;32m     <a href='vscode-notebook-cell:/d%3A/Daiana%20Sales/projetos-do-bootcamp-analise-de-dados-enap-2023-2/automatizacao_de_relatorio_de_dados_de_documentos/retirar_html.ipynb#W0sZmlsZQ%3D%3D?line=14'>15</a>\u001b[0m \u001b[39m#print(texto_limpo)\u001b[39;00m\n",
      "File \u001b[1;32m~\\AppData\\Local\\Programs\\Python\\Python311\\Lib\\encodings\\cp1252.py:23\u001b[0m, in \u001b[0;36mIncrementalDecoder.decode\u001b[1;34m(self, input, final)\u001b[0m\n\u001b[0;32m     22\u001b[0m \u001b[39mdef\u001b[39;00m \u001b[39mdecode\u001b[39m(\u001b[39mself\u001b[39m, \u001b[39minput\u001b[39m, final\u001b[39m=\u001b[39m\u001b[39mFalse\u001b[39;00m):\n\u001b[1;32m---> 23\u001b[0m     \u001b[39mreturn\u001b[39;00m codecs\u001b[39m.\u001b[39mcharmap_decode(\u001b[39minput\u001b[39m,\u001b[39mself\u001b[39m\u001b[39m.\u001b[39merrors,decoding_table)[\u001b[39m0\u001b[39m]\n",
      "\u001b[1;31mUnicodeDecodeError\u001b[0m: 'charmap' codec can't decode byte 0x81 in position 2079: character maps to <undefined>"
     ]
    }
   ],
   "source": [
    "import html\n",
    "\n",
    "fname = 'jocker_sei/1159758.html'\n",
    "html_file = open(fname, 'r')\n",
    "\n",
    "print(html_file.read())\n",
    "\n",
    "# Sua string HTML com entidades HTML\n",
    "#html_string = \"&nbsp;&nbsp;&lt;Texto&gt;\"\n",
    "\n",
    "# Use a função unescape() para remover as entidades HTML\n",
    "#texto_limpo = html.unescape(html_string)\n",
    "\n",
    "# Exiba o resultado\n",
    "#print(texto_limpo)"
   ]
  },
  {
   "cell_type": "code",
   "execution_count": 47,
   "metadata": {},
   "outputs": [],
   "source": [
    "\n",
    "def download_file_and_save(url, filename):\n",
    "    folderpath = build_path()\n",
    "    filepath = os.path.join(folderpath, filename)\n",
    "    \n",
    "    content = read_file(url)\n",
    "\n",
    "    if not os.path.exists(folderpath):\n",
    "        os.makedirs(folderpath)\n",
    "    with open(filepath, mode='wb') as file:\n",
    "        file.write(content)"
   ]
  },
  {
   "cell_type": "code",
   "execution_count": 33,
   "metadata": {},
   "outputs": [
    {
     "ename": "InvalidSchema",
     "evalue": "No connection adapters were found for 'D:\\\\Daiana Sales\\\\projetos-do-bootcamp-analise-de-dados-enap-2023-2\\x07utomatizacao_de_relatorio_de_dados_de_documentos\\\\jocker_seiM9758.html'",
     "output_type": "error",
     "traceback": [
      "\u001b[1;31m---------------------------------------------------------------------------\u001b[0m",
      "\u001b[1;31mInvalidSchema\u001b[0m                             Traceback (most recent call last)",
      "\u001b[1;32md:\\Daiana Sales\\projetos-do-bootcamp-analise-de-dados-enap-2023-2\\automatizacao_de_relatorio_de_dados_de_documentos\\retirar_html.ipynb Cell 3\u001b[0m line \u001b[0;36m1\n\u001b[0;32m     <a href='vscode-notebook-cell:/d%3A/Daiana%20Sales/projetos-do-bootcamp-analise-de-dados-enap-2023-2/automatizacao_de_relatorio_de_dados_de_documentos/retirar_html.ipynb#W5sZmlsZQ%3D%3D?line=13'>14</a>\u001b[0m         conteudo \u001b[39m=\u001b[39m response\u001b[39m.\u001b[39mcontent\n\u001b[0;32m     <a href='vscode-notebook-cell:/d%3A/Daiana%20Sales/projetos-do-bootcamp-analise-de-dados-enap-2023-2/automatizacao_de_relatorio_de_dados_de_documentos/retirar_html.ipynb#W5sZmlsZQ%3D%3D?line=14'>15</a>\u001b[0m         \u001b[39mreturn\u001b[39;00m conteudo\n\u001b[1;32m---> <a href='vscode-notebook-cell:/d%3A/Daiana%20Sales/projetos-do-bootcamp-analise-de-dados-enap-2023-2/automatizacao_de_relatorio_de_dados_de_documentos/retirar_html.ipynb#W5sZmlsZQ%3D%3D?line=16'>17</a>\u001b[0m conteudo \u001b[39m=\u001b[39m ler_file(url)\n\u001b[0;32m     <a href='vscode-notebook-cell:/d%3A/Daiana%20Sales/projetos-do-bootcamp-analise-de-dados-enap-2023-2/automatizacao_de_relatorio_de_dados_de_documentos/retirar_html.ipynb#W5sZmlsZQ%3D%3D?line=17'>18</a>\u001b[0m conteudo[:\u001b[39m200\u001b[39m]\n",
      "\u001b[1;32md:\\Daiana Sales\\projetos-do-bootcamp-analise-de-dados-enap-2023-2\\automatizacao_de_relatorio_de_dados_de_documentos\\retirar_html.ipynb Cell 3\u001b[0m line \u001b[0;36m1\n\u001b[0;32m     <a href='vscode-notebook-cell:/d%3A/Daiana%20Sales/projetos-do-bootcamp-analise-de-dados-enap-2023-2/automatizacao_de_relatorio_de_dados_de_documentos/retirar_html.ipynb#W5sZmlsZQ%3D%3D?line=9'>10</a>\u001b[0m \u001b[39mdef\u001b[39;00m \u001b[39mler_file\u001b[39m(url):\n\u001b[1;32m---> <a href='vscode-notebook-cell:/d%3A/Daiana%20Sales/projetos-do-bootcamp-analise-de-dados-enap-2023-2/automatizacao_de_relatorio_de_dados_de_documentos/retirar_html.ipynb#W5sZmlsZQ%3D%3D?line=10'>11</a>\u001b[0m     response \u001b[39m=\u001b[39m requests\u001b[39m.\u001b[39;49mget(url)\n\u001b[0;32m     <a href='vscode-notebook-cell:/d%3A/Daiana%20Sales/projetos-do-bootcamp-analise-de-dados-enap-2023-2/automatizacao_de_relatorio_de_dados_de_documentos/retirar_html.ipynb#W5sZmlsZQ%3D%3D?line=12'>13</a>\u001b[0m     \u001b[39mif\u001b[39;00m response\u001b[39m.\u001b[39mstatus_code \u001b[39m==\u001b[39m \u001b[39m200\u001b[39m:\n\u001b[0;32m     <a href='vscode-notebook-cell:/d%3A/Daiana%20Sales/projetos-do-bootcamp-analise-de-dados-enap-2023-2/automatizacao_de_relatorio_de_dados_de_documentos/retirar_html.ipynb#W5sZmlsZQ%3D%3D?line=13'>14</a>\u001b[0m         conteudo \u001b[39m=\u001b[39m response\u001b[39m.\u001b[39mcontent\n",
      "File \u001b[1;32md:\\Daiana Sales\\projetos-do-bootcamp-analise-de-dados-enap-2023-2\\.venv\\Lib\\site-packages\\requests\\api.py:73\u001b[0m, in \u001b[0;36mget\u001b[1;34m(url, params, **kwargs)\u001b[0m\n\u001b[0;32m     62\u001b[0m \u001b[39mdef\u001b[39;00m \u001b[39mget\u001b[39m(url, params\u001b[39m=\u001b[39m\u001b[39mNone\u001b[39;00m, \u001b[39m*\u001b[39m\u001b[39m*\u001b[39mkwargs):\n\u001b[0;32m     63\u001b[0m \u001b[39m    \u001b[39m\u001b[39mr\u001b[39m\u001b[39m\"\"\"Sends a GET request.\u001b[39;00m\n\u001b[0;32m     64\u001b[0m \n\u001b[0;32m     65\u001b[0m \u001b[39m    :param url: URL for the new :class:`Request` object.\u001b[39;00m\n\u001b[1;32m   (...)\u001b[0m\n\u001b[0;32m     70\u001b[0m \u001b[39m    :rtype: requests.Response\u001b[39;00m\n\u001b[0;32m     71\u001b[0m \u001b[39m    \"\"\"\u001b[39;00m\n\u001b[1;32m---> 73\u001b[0m     \u001b[39mreturn\u001b[39;00m request(\u001b[39m\"\u001b[39;49m\u001b[39mget\u001b[39;49m\u001b[39m\"\u001b[39;49m, url, params\u001b[39m=\u001b[39;49mparams, \u001b[39m*\u001b[39;49m\u001b[39m*\u001b[39;49mkwargs)\n",
      "File \u001b[1;32md:\\Daiana Sales\\projetos-do-bootcamp-analise-de-dados-enap-2023-2\\.venv\\Lib\\site-packages\\requests\\api.py:59\u001b[0m, in \u001b[0;36mrequest\u001b[1;34m(method, url, **kwargs)\u001b[0m\n\u001b[0;32m     55\u001b[0m \u001b[39m# By using the 'with' statement we are sure the session is closed, thus we\u001b[39;00m\n\u001b[0;32m     56\u001b[0m \u001b[39m# avoid leaving sockets open which can trigger a ResourceWarning in some\u001b[39;00m\n\u001b[0;32m     57\u001b[0m \u001b[39m# cases, and look like a memory leak in others.\u001b[39;00m\n\u001b[0;32m     58\u001b[0m \u001b[39mwith\u001b[39;00m sessions\u001b[39m.\u001b[39mSession() \u001b[39mas\u001b[39;00m session:\n\u001b[1;32m---> 59\u001b[0m     \u001b[39mreturn\u001b[39;00m session\u001b[39m.\u001b[39;49mrequest(method\u001b[39m=\u001b[39;49mmethod, url\u001b[39m=\u001b[39;49murl, \u001b[39m*\u001b[39;49m\u001b[39m*\u001b[39;49mkwargs)\n",
      "File \u001b[1;32md:\\Daiana Sales\\projetos-do-bootcamp-analise-de-dados-enap-2023-2\\.venv\\Lib\\site-packages\\requests\\sessions.py:589\u001b[0m, in \u001b[0;36mSession.request\u001b[1;34m(self, method, url, params, data, headers, cookies, files, auth, timeout, allow_redirects, proxies, hooks, stream, verify, cert, json)\u001b[0m\n\u001b[0;32m    584\u001b[0m send_kwargs \u001b[39m=\u001b[39m {\n\u001b[0;32m    585\u001b[0m     \u001b[39m\"\u001b[39m\u001b[39mtimeout\u001b[39m\u001b[39m\"\u001b[39m: timeout,\n\u001b[0;32m    586\u001b[0m     \u001b[39m\"\u001b[39m\u001b[39mallow_redirects\u001b[39m\u001b[39m\"\u001b[39m: allow_redirects,\n\u001b[0;32m    587\u001b[0m }\n\u001b[0;32m    588\u001b[0m send_kwargs\u001b[39m.\u001b[39mupdate(settings)\n\u001b[1;32m--> 589\u001b[0m resp \u001b[39m=\u001b[39m \u001b[39mself\u001b[39;49m\u001b[39m.\u001b[39;49msend(prep, \u001b[39m*\u001b[39;49m\u001b[39m*\u001b[39;49msend_kwargs)\n\u001b[0;32m    591\u001b[0m \u001b[39mreturn\u001b[39;00m resp\n",
      "File \u001b[1;32md:\\Daiana Sales\\projetos-do-bootcamp-analise-de-dados-enap-2023-2\\.venv\\Lib\\site-packages\\requests\\sessions.py:697\u001b[0m, in \u001b[0;36mSession.send\u001b[1;34m(self, request, **kwargs)\u001b[0m\n\u001b[0;32m    694\u001b[0m hooks \u001b[39m=\u001b[39m request\u001b[39m.\u001b[39mhooks\n\u001b[0;32m    696\u001b[0m \u001b[39m# Get the appropriate adapter to use\u001b[39;00m\n\u001b[1;32m--> 697\u001b[0m adapter \u001b[39m=\u001b[39m \u001b[39mself\u001b[39;49m\u001b[39m.\u001b[39;49mget_adapter(url\u001b[39m=\u001b[39;49mrequest\u001b[39m.\u001b[39;49murl)\n\u001b[0;32m    699\u001b[0m \u001b[39m# Start time (approximately) of the request\u001b[39;00m\n\u001b[0;32m    700\u001b[0m start \u001b[39m=\u001b[39m preferred_clock()\n",
      "File \u001b[1;32md:\\Daiana Sales\\projetos-do-bootcamp-analise-de-dados-enap-2023-2\\.venv\\Lib\\site-packages\\requests\\sessions.py:794\u001b[0m, in \u001b[0;36mSession.get_adapter\u001b[1;34m(self, url)\u001b[0m\n\u001b[0;32m    791\u001b[0m         \u001b[39mreturn\u001b[39;00m adapter\n\u001b[0;32m    793\u001b[0m \u001b[39m# Nothing matches :-/\u001b[39;00m\n\u001b[1;32m--> 794\u001b[0m \u001b[39mraise\u001b[39;00m InvalidSchema(\u001b[39mf\u001b[39m\u001b[39m\"\u001b[39m\u001b[39mNo connection adapters were found for \u001b[39m\u001b[39m{\u001b[39;00murl\u001b[39m!r}\u001b[39;00m\u001b[39m\"\u001b[39m)\n",
      "\u001b[1;31mInvalidSchema\u001b[0m: No connection adapters were found for 'D:\\\\Daiana Sales\\\\projetos-do-bootcamp-analise-de-dados-enap-2023-2\\x07utomatizacao_de_relatorio_de_dados_de_documentos\\\\jocker_seiM9758.html'"
     ]
    }
   ],
   "source": [
    "from bs4 import BeautifulSoup\n",
    "\n",
    "# links do html tirados via sterium\n",
    "#url = 'https://sei.sgb.gov.br/sei/controlador.php?acao=documento_visualizar&acao_origem=protocolo_pesquisar&id_documento=1989085&infra_sistema=100000100&infra_unidade_atual=110000381&infra_hash=b23e7840e3d389666c6db40824176104cb4ad1a0a009aaa1d91814225dc284b3'\n",
    "\n",
    "url =  '1159758.html'\n",
    "\n",
    "import requests\n",
    "\n",
    "def ler_file(url):\n",
    "    response = requests.get(url)\n",
    "\n",
    "    if response.status_code == 200:\n",
    "        conteudo = response.content\n",
    "        return conteudo\n",
    "\n",
    "conteudo = ler_file(url)\n",
    "conteudo[:200]"
   ]
  },
  {
   "cell_type": "code",
   "execution_count": null,
   "metadata": {},
   "outputs": [],
   "source": []
  }
 ],
 "metadata": {
  "kernelspec": {
   "display_name": ".venv",
   "language": "python",
   "name": "python3"
  },
  "language_info": {
   "codemirror_mode": {
    "name": "ipython",
    "version": 3
   },
   "file_extension": ".py",
   "mimetype": "text/x-python",
   "name": "python",
   "nbconvert_exporter": "python",
   "pygments_lexer": "ipython3",
   "version": "3.11.6"
  },
  "orig_nbformat": 4
 },
 "nbformat": 4,
 "nbformat_minor": 2
}
