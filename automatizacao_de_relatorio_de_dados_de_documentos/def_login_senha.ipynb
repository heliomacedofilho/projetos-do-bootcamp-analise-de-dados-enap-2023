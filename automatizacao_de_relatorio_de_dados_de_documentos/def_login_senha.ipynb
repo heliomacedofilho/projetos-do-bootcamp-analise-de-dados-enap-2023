{
 "cells": [
  {
   "cell_type": "code",
   "execution_count": 43,
   "id": "100685fd-0c04-44cb-9327-a28988ce88ae",
   "metadata": {
    "scrolled": true
   },
   "outputs": [
    {
     "name": "stdout",
     "output_type": "stream",
     "text": [
      "Login do SEI:\n"
     ]
    },
    {
     "name": "stdin",
     "output_type": "stream",
     "text": [
      " daiana.sales\n",
      "Digite sua senha (não vai aparecer na tela):  ········\n"
     ]
    }
   ],
   "source": [
    "import os\n",
    "from datetime import datetime\n",
    "from selenium import webdriver\n",
    "from selenium.webdriver.common.by import By\n",
    "from selenium.webdriver.support.wait import WebDriverWait\n",
    "import time, getpass\n",
    "\n",
    "def build_path(subfolder):\n",
    "    current_folder = os.getcwd()\n",
    "    folderpath = os.path.join(current_folder, subfolder)\n",
    "    folderpath = os.path.abspath(folderpath)\n",
    "    if not os.path.exists(folderpath): os.makedirs(folderpath)\n",
    "    return folderpath\n",
    "\n",
    "build_path('nomes_arquivos')\n",
    "build_path('arquivos')\n",
    "\n",
    "def DigitaNaCaixaId(idCaixa, Texto):\n",
    "  global driver\n",
    "  Caixa = driver.find_element_by_id(idCaixa)\n",
    "  Caixa.clear()\n",
    "  Caixa.send_keys(Texto)\n",
    "\n",
    "def UsuarioDigitaLoginEsenha():\n",
    "  global LoginUsuario, Senha\n",
    "  print('Login do SEI:')\n",
    "  LoginUsuario = input()\n",
    "  Senha = getpass.getpass(\"Digite sua senha (não vai aparecer na tela): \")\n",
    "\n",
    "def FazLogin():\n",
    "  global driver, WebEspera\n",
    "  global LoginUsuario, Senha\n",
    "  url = 'https://sip.sgb.gov.br/sip/login.php?sigla_orgao_sistema=CPRM&sigla_sistema=SEI&infra_url=L3NlaS8='\n",
    "  driver = webdriver.Edge('C:\\Program Files\\Edge\\msedgedriver.exe')\n",
    "  driver.implicitly_wait(10)\n",
    "  driver.get(url)\n",
    "  driver.maximize_window()\n",
    "  WebEspera = WebDriverWait(driver, 20)\n",
    "  \n",
    "  DigitaNaCaixaId('txtUsuario', LoginUsuario)\n",
    "  time.sleep(1)\n",
    "  DigitaNaCaixaId('pwdSenha', Senha)\n",
    "  time.sleep(1)\n",
    "\n",
    "  # ContagemRegressiva(TempoEsperaLogin)\n",
    "\n",
    "  LoginEnter = driver.find_element(\"xpath\", '//*[@id=\"sbmLogin\"]')\n",
    "  LoginEnter.click()\n",
    "  time.sleep(2)\n",
    "# Fim FazLogin()\n",
    "\n",
    "UsuarioDigitaLoginEsenha()\n",
    "FazLogin()"
   ]
  }
 ],
 "metadata": {
  "kernelspec": {
   "display_name": "Python 3 (ipykernel)",
   "language": "python",
   "name": "python3"
  },
  "language_info": {
   "codemirror_mode": {
    "name": "ipython",
    "version": 3
   },
   "file_extension": ".py",
   "mimetype": "text/x-python",
   "name": "python",
   "nbconvert_exporter": "python",
   "pygments_lexer": "ipython3",
   "version": "3.10.9"
  }
 },
 "nbformat": 4,
 "nbformat_minor": 5
}
