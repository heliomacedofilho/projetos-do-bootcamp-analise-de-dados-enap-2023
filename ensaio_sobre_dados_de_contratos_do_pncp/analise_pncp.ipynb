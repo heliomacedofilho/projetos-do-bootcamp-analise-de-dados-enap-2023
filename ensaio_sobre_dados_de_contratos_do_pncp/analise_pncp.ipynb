{
 "cells": [
  {
   "cell_type": "code",
   "execution_count": 1,
   "id": "b5ae545f-c3a3-4606-b42b-6faafec26f3b",
   "metadata": {},
   "outputs": [],
   "source": [
    "# para recarregar a biblioteca automaticamente, e não ter que restartar o kernel a cada mudança\n",
    "%load_ext autoreload\n",
    "%autoreload 2"
   ]
  },
  {
   "cell_type": "code",
   "execution_count": 2,
   "id": "66f8f9a7-956a-4798-a80c-b5cfa4f42619",
   "metadata": {},
   "outputs": [],
   "source": [
    "from analises import bibl_pncp"
   ]
  },
  {
   "cell_type": "code",
   "execution_count": 4,
   "id": "89bf7ab0-58db-4d20-b21d-4b2e1728061d",
   "metadata": {},
   "outputs": [],
   "source": [
    "import pandas as pd"
   ]
  },
  {
   "cell_type": "code",
   "execution_count": null,
   "id": "80966316-db50-4d1f-a136-e105c6bb8db7",
   "metadata": {},
   "outputs": [],
   "source": [
    "df = pd.read_csv('dados/dadosPNCP_completo_tratado.csv', low_memory=False) #low_memory = Flase: para corrigir o erro d dtype em algumas colunas"
   ]
  },
  {
   "cell_type": "code",
   "execution_count": null,
   "id": "15518b56-8dcb-43b3-880c-7649a0f836a5",
   "metadata": {},
   "outputs": [],
   "source": [
    "df.info()"
   ]
  },
  {
   "cell_type": "code",
   "execution_count": null,
   "id": "58f76bba-4b40-4bec-ab37-bc95b38771db",
   "metadata": {},
   "outputs": [],
   "source": []
  }
 ],
 "metadata": {
  "kernelspec": {
   "display_name": "Python 3 (ipykernel)",
   "language": "python",
   "name": "python3"
  },
  "language_info": {
   "codemirror_mode": {
    "name": "ipython",
    "version": 3
   },
   "file_extension": ".py",
   "mimetype": "text/x-python",
   "name": "python",
   "nbconvert_exporter": "python",
   "pygments_lexer": "ipython3",
   "version": "3.11.6"
  }
 },
 "nbformat": 4,
 "nbformat_minor": 5
}
