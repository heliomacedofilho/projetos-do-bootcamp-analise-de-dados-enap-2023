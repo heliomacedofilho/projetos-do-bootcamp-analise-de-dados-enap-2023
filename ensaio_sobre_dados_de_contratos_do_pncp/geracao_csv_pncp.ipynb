{
 "cells": [
  {
   "cell_type": "code",
   "execution_count": 51,
   "id": "5c17f5ac-4658-4cbc-b46a-a208543e57e9",
   "metadata": {},
   "outputs": [
    {
     "name": "stdout",
     "output_type": "stream",
     "text": [
      "The autoreload extension is already loaded. To reload it, use:\n",
      "  %reload_ext autoreload\n"
     ]
    }
   ],
   "source": [
    "# para recarregar a biblioteca automaticamente, e não ter que restartar o kernel a cada mudança\n",
    "%load_ext autoreload\n",
    "%autoreload 2"
   ]
  },
  {
   "cell_type": "code",
   "execution_count": 52,
   "id": "1b8e1ac4-d250-4512-b442-95cd907aa3c0",
   "metadata": {},
   "outputs": [],
   "source": [
    "from analises import bibl_pncp"
   ]
  },
  {
   "cell_type": "code",
   "execution_count": 46,
   "id": "192c0f2c-bc8f-4916-b14a-1d373dcc5460",
   "metadata": {},
   "outputs": [],
   "source": [
    "data_inicio = \"20210101\"\n",
    "data_fim = \"20211231\""
   ]
  },
  {
   "cell_type": "code",
   "execution_count": null,
   "id": "42b7e0d9-4e96-4f00-a5f4-bdc080233902",
   "metadata": {},
   "outputs": [],
   "source": [
    "#lê os dados da api e joga em um dataframe, conforme os parâmetros de data filtrados\n",
    "df = bibl_pncp.leitura_api(data_inicio, data_fim)"
   ]
  },
  {
   "cell_type": "code",
   "execution_count": 48,
   "id": "f2ded490-aa4e-4989-9ff7-5fcfb7c17c85",
   "metadata": {},
   "outputs": [],
   "source": [
    "#gerar um arquivo csv a partir do dataframe para o período especificado\n",
    "#(comentado pois só era necessário rodar uma vez para poder gerar os csv)\n",
    "#bibl_pncp.gera_csv(data_inicio, data_fim, df)"
   ]
  },
  {
   "cell_type": "code",
   "execution_count": null,
   "id": "81b18641-e191-46fe-8ed1-843cbd509726",
   "metadata": {},
   "outputs": [],
   "source": [
    "#une todos os arquivos csv gerados por período (1 de 2021, 1 de 2022 e os 3 de 2023) em um csv somente\n",
    "#(comentado pois só era necessário rodar uma vez para poder gerar o csv único e completo)\n",
    "#bibl_pncp.une_csv()"
   ]
  },
  {
   "cell_type": "code",
   "execution_count": 55,
   "id": "23a96bb8-cc42-4134-9948-9f04737bd434",
   "metadata": {},
   "outputs": [],
   "source": [
    "#trata o csv completo orginal pois ele tinha dados aninhados em algumas colunas - que foram separadas, e 291 registros duplicados (idênticos) - que foram excluídos\n",
    "#(comentado pois só era necessário rodar uma vez para poder gerar o novo csv adequadamente tratado, a prtir do csv original)\n",
    "bibl_pncp.trata_csv_completo()"
   ]
  },
  {
   "cell_type": "code",
   "execution_count": null,
   "id": "71f77768-b0c0-4040-9dc5-e0a51136c927",
   "metadata": {},
   "outputs": [],
   "source": []
  }
 ],
 "metadata": {
  "kernelspec": {
   "display_name": "Python 3 (ipykernel)",
   "language": "python",
   "name": "python3"
  },
  "language_info": {
   "codemirror_mode": {
    "name": "ipython",
    "version": 3
   },
   "file_extension": ".py",
   "mimetype": "text/x-python",
   "name": "python",
   "nbconvert_exporter": "python",
   "pygments_lexer": "ipython3",
   "version": "3.11.6"
  }
 },
 "nbformat": 4,
 "nbformat_minor": 5
}
