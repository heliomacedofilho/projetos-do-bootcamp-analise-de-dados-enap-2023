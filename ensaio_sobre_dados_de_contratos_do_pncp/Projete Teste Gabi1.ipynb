{
 "cells": [
  {
   "cell_type": "code",
   "execution_count": 1,
   "id": "af07ef50-7ffe-48ab-a1a3-91d649115fff",
   "metadata": {},
   "outputs": [],
   "source": [
    "import pandas as pd\n"
   ]
  },
  {
   "cell_type": "code",
   "execution_count": 12,
   "id": "32c8301c-2f5e-4648-9143-2a98de00f80f",
   "metadata": {},
   "outputs": [],
   "source": [
    "# Substitua 'seuarquivo.csv' pelo caminho do seu arquivo CSV.\n",
    "arquivo_csv = 'dadosPNCP_20210101_20211231.csv'\n"
   ]
  },
  {
   "cell_type": "code",
   "execution_count": 15,
   "id": "e5bfdd27-e9d3-4fe7-8c05-a5d0cb54c286",
   "metadata": {},
   "outputs": [],
   "source": [
    "# Use a função 'read_csv' do pandas para ler o arquivo CSV e criar um DataFrame.\n",
    "pncp = pd.read_csv(arquivo_csv)"
   ]
  },
  {
   "cell_type": "code",
   "execution_count": 16,
   "id": "34d7cd09-5d7d-480a-91f3-c4b08bed12ce",
   "metadata": {},
   "outputs": [
    {
     "data": {
      "text/html": [
       "<div>\n",
       "<style scoped>\n",
       "    .dataframe tbody tr th:only-of-type {\n",
       "        vertical-align: middle;\n",
       "    }\n",
       "\n",
       "    .dataframe tbody tr th {\n",
       "        vertical-align: top;\n",
       "    }\n",
       "\n",
       "    .dataframe thead th {\n",
       "        text-align: right;\n",
       "    }\n",
       "</style>\n",
       "<table border=\"1\" class=\"dataframe\">\n",
       "  <thead>\n",
       "    <tr style=\"text-align: right;\">\n",
       "      <th></th>\n",
       "      <th>numeroControlePncpCompra</th>\n",
       "      <th>codigoPaisFornecedor</th>\n",
       "      <th>dataPublicacaoPncp</th>\n",
       "      <th>dataAtualizacao</th>\n",
       "      <th>anoContrato</th>\n",
       "      <th>tipoContrato</th>\n",
       "      <th>numeroContratoEmpenho</th>\n",
       "      <th>dataAssinatura</th>\n",
       "      <th>dataVigenciaInicio</th>\n",
       "      <th>dataVigenciaFim</th>\n",
       "      <th>...</th>\n",
       "      <th>objetoContrato</th>\n",
       "      <th>valorInicial</th>\n",
       "      <th>numeroParcelas</th>\n",
       "      <th>valorParcela</th>\n",
       "      <th>valorGlobal</th>\n",
       "      <th>valorAcumulado</th>\n",
       "      <th>numeroRetificacao</th>\n",
       "      <th>identificadorCipi</th>\n",
       "      <th>urlCipi</th>\n",
       "      <th>usuarioNome</th>\n",
       "    </tr>\n",
       "  </thead>\n",
       "  <tbody>\n",
       "    <tr>\n",
       "      <th>0</th>\n",
       "      <td>00394452000103-1-000010/2021</td>\n",
       "      <td>BRA</td>\n",
       "      <td>2021-09-08T11:38:58</td>\n",
       "      <td>2021-09-10T14:13:48</td>\n",
       "      <td>2021</td>\n",
       "      <td>{'id': 7, 'nome': 'Empenho'}</td>\n",
       "      <td>2021NE000356</td>\n",
       "      <td>2021-08-17</td>\n",
       "      <td>2021-08-17</td>\n",
       "      <td>2021-12-31</td>\n",
       "      <td>...</td>\n",
       "      <td>AQS DE TONERS P/ IMPRESSORAS DO PMED DA OM, CO...</td>\n",
       "      <td>868.74</td>\n",
       "      <td>1</td>\n",
       "      <td>868.74</td>\n",
       "      <td>868.74</td>\n",
       "      <td>868.74</td>\n",
       "      <td>1</td>\n",
       "      <td>NaN</td>\n",
       "      <td>NaN</td>\n",
       "      <td>Compras.gov.br</td>\n",
       "    </tr>\n",
       "    <tr>\n",
       "      <th>1</th>\n",
       "      <td>00394452000103-1-000030/2021</td>\n",
       "      <td>BRA</td>\n",
       "      <td>2021-09-10T15:23:47</td>\n",
       "      <td>2021-09-10T15:23:47</td>\n",
       "      <td>2021</td>\n",
       "      <td>{'id': 7, 'nome': 'Empenho'}</td>\n",
       "      <td>2021NE400175</td>\n",
       "      <td>2021-08-19</td>\n",
       "      <td>2021-08-19</td>\n",
       "      <td>2021-12-31</td>\n",
       "      <td>...</td>\n",
       "      <td>AQS MAT CNST - ND 339030-24 - 2021NC002231, F ...</td>\n",
       "      <td>6555.00</td>\n",
       "      <td>1</td>\n",
       "      <td>6555.00</td>\n",
       "      <td>6555.00</td>\n",
       "      <td>6555.00</td>\n",
       "      <td>0</td>\n",
       "      <td>NaN</td>\n",
       "      <td>NaN</td>\n",
       "      <td>Compras.gov.br</td>\n",
       "    </tr>\n",
       "    <tr>\n",
       "      <th>2</th>\n",
       "      <td>33663683000116-1-000003/2021</td>\n",
       "      <td>BRA</td>\n",
       "      <td>2021-09-06T18:07:53</td>\n",
       "      <td>2021-09-10T14:17:32</td>\n",
       "      <td>2021</td>\n",
       "      <td>{'id': 7, 'nome': 'Empenho'}</td>\n",
       "      <td>2021NE000021</td>\n",
       "      <td>2021-08-19</td>\n",
       "      <td>2021-08-19</td>\n",
       "      <td>2021-12-31</td>\n",
       "      <td>...</td>\n",
       "      <td>AQUISIÇÃO DE 10 CADEADOS 40MM PARA O FÓRUM DE ...</td>\n",
       "      <td>198.99</td>\n",
       "      <td>1</td>\n",
       "      <td>198.99</td>\n",
       "      <td>198.99</td>\n",
       "      <td>198.99</td>\n",
       "      <td>1</td>\n",
       "      <td>NaN</td>\n",
       "      <td>NaN</td>\n",
       "      <td>Compras.gov.br</td>\n",
       "    </tr>\n",
       "    <tr>\n",
       "      <th>3</th>\n",
       "      <td>17217985000104-1-000003/2021</td>\n",
       "      <td>BRA</td>\n",
       "      <td>2021-09-06T18:30:56</td>\n",
       "      <td>2022-01-12T09:12:41</td>\n",
       "      <td>2021</td>\n",
       "      <td>{'id': 7, 'nome': 'Empenho'}</td>\n",
       "      <td>2021NE000022</td>\n",
       "      <td>2021-08-20</td>\n",
       "      <td>2021-08-20</td>\n",
       "      <td>2021-12-31</td>\n",
       "      <td>...</td>\n",
       "      <td>ATENDER NECESSIDADES DA ESCOLA DE ENFERMAGEM U...</td>\n",
       "      <td>385.00</td>\n",
       "      <td>1</td>\n",
       "      <td>385.00</td>\n",
       "      <td>385.00</td>\n",
       "      <td>385.00</td>\n",
       "      <td>1</td>\n",
       "      <td>NaN</td>\n",
       "      <td>NaN</td>\n",
       "      <td>Compras.gov.br</td>\n",
       "    </tr>\n",
       "    <tr>\n",
       "      <th>4</th>\n",
       "      <td>00394452000103-1-000012/2021</td>\n",
       "      <td>BRA</td>\n",
       "      <td>2021-09-06T18:20:46</td>\n",
       "      <td>2021-09-10T14:21:42</td>\n",
       "      <td>2021</td>\n",
       "      <td>{'id': 7, 'nome': 'Empenho'}</td>\n",
       "      <td>2021NE000322</td>\n",
       "      <td>2021-08-20</td>\n",
       "      <td>2021-08-20</td>\n",
       "      <td>2021-12-31</td>\n",
       "      <td>...</td>\n",
       "      <td>AQUISIÇÃO DE MATERIAL DE COPA E COZINHA // 202...</td>\n",
       "      <td>2442.00</td>\n",
       "      <td>1</td>\n",
       "      <td>2442.00</td>\n",
       "      <td>2442.00</td>\n",
       "      <td>2442.00</td>\n",
       "      <td>1</td>\n",
       "      <td>NaN</td>\n",
       "      <td>NaN</td>\n",
       "      <td>Compras.gov.br</td>\n",
       "    </tr>\n",
       "  </tbody>\n",
       "</table>\n",
       "<p>5 rows × 36 columns</p>\n",
       "</div>"
      ],
      "text/plain": [
       "       numeroControlePncpCompra codigoPaisFornecedor   dataPublicacaoPncp  \\\n",
       "0  00394452000103-1-000010/2021                  BRA  2021-09-08T11:38:58   \n",
       "1  00394452000103-1-000030/2021                  BRA  2021-09-10T15:23:47   \n",
       "2  33663683000116-1-000003/2021                  BRA  2021-09-06T18:07:53   \n",
       "3  17217985000104-1-000003/2021                  BRA  2021-09-06T18:30:56   \n",
       "4  00394452000103-1-000012/2021                  BRA  2021-09-06T18:20:46   \n",
       "\n",
       "       dataAtualizacao  anoContrato                  tipoContrato  \\\n",
       "0  2021-09-10T14:13:48         2021  {'id': 7, 'nome': 'Empenho'}   \n",
       "1  2021-09-10T15:23:47         2021  {'id': 7, 'nome': 'Empenho'}   \n",
       "2  2021-09-10T14:17:32         2021  {'id': 7, 'nome': 'Empenho'}   \n",
       "3  2022-01-12T09:12:41         2021  {'id': 7, 'nome': 'Empenho'}   \n",
       "4  2021-09-10T14:21:42         2021  {'id': 7, 'nome': 'Empenho'}   \n",
       "\n",
       "  numeroContratoEmpenho dataAssinatura dataVigenciaInicio dataVigenciaFim  \\\n",
       "0          2021NE000356     2021-08-17         2021-08-17      2021-12-31   \n",
       "1          2021NE400175     2021-08-19         2021-08-19      2021-12-31   \n",
       "2          2021NE000021     2021-08-19         2021-08-19      2021-12-31   \n",
       "3          2021NE000022     2021-08-20         2021-08-20      2021-12-31   \n",
       "4          2021NE000322     2021-08-20         2021-08-20      2021-12-31   \n",
       "\n",
       "   ...                                     objetoContrato valorInicial  \\\n",
       "0  ...  AQS DE TONERS P/ IMPRESSORAS DO PMED DA OM, CO...       868.74   \n",
       "1  ...  AQS MAT CNST - ND 339030-24 - 2021NC002231, F ...      6555.00   \n",
       "2  ...  AQUISIÇÃO DE 10 CADEADOS 40MM PARA O FÓRUM DE ...       198.99   \n",
       "3  ...  ATENDER NECESSIDADES DA ESCOLA DE ENFERMAGEM U...       385.00   \n",
       "4  ...  AQUISIÇÃO DE MATERIAL DE COPA E COZINHA // 202...      2442.00   \n",
       "\n",
       "  numeroParcelas valorParcela  valorGlobal valorAcumulado numeroRetificacao  \\\n",
       "0              1       868.74       868.74         868.74                 1   \n",
       "1              1      6555.00      6555.00        6555.00                 0   \n",
       "2              1       198.99       198.99         198.99                 1   \n",
       "3              1       385.00       385.00         385.00                 1   \n",
       "4              1      2442.00      2442.00        2442.00                 1   \n",
       "\n",
       "   identificadorCipi  urlCipi     usuarioNome  \n",
       "0                NaN      NaN  Compras.gov.br  \n",
       "1                NaN      NaN  Compras.gov.br  \n",
       "2                NaN      NaN  Compras.gov.br  \n",
       "3                NaN      NaN  Compras.gov.br  \n",
       "4                NaN      NaN  Compras.gov.br  \n",
       "\n",
       "[5 rows x 36 columns]"
      ]
     },
     "execution_count": 16,
     "metadata": {},
     "output_type": "execute_result"
    }
   ],
   "source": [
    "pncp.head()"
   ]
  },
  {
   "cell_type": "code",
   "execution_count": 19,
   "id": "c5fdc123-0498-4eff-a916-2223ec8502b4",
   "metadata": {},
   "outputs": [
    {
     "name": "stdout",
     "output_type": "stream",
     "text": [
      "<class 'pandas.core.frame.DataFrame'>\n",
      "RangeIndex: 5308 entries, 0 to 5307\n",
      "Data columns (total 36 columns):\n",
      " #   Column                       Non-Null Count  Dtype  \n",
      "---  ------                       --------------  -----  \n",
      " 0   numeroControlePncpCompra     5308 non-null   object \n",
      " 1   codigoPaisFornecedor         5286 non-null   object \n",
      " 2   dataPublicacaoPncp           5308 non-null   object \n",
      " 3   dataAtualizacao              5308 non-null   object \n",
      " 4   anoContrato                  5308 non-null   int64  \n",
      " 5   tipoContrato                 5308 non-null   object \n",
      " 6   numeroContratoEmpenho        5308 non-null   object \n",
      " 7   dataAssinatura               5308 non-null   object \n",
      " 8   dataVigenciaInicio           5308 non-null   object \n",
      " 9   dataVigenciaFim              5308 non-null   object \n",
      " 10  niFornecedor                 5308 non-null   object \n",
      " 11  tipoPessoa                   5308 non-null   object \n",
      " 12  orgaoEntidade                5308 non-null   object \n",
      " 13  categoriaProcesso            5308 non-null   object \n",
      " 14  sequencialContrato           5308 non-null   int64  \n",
      " 15  unidadeOrgao                 5308 non-null   object \n",
      " 16  nomeRazaoSocialFornecedor    5308 non-null   object \n",
      " 17  niFornecedorSubContratado    0 non-null      float64\n",
      " 18  nomeFornecedorSubContratado  0 non-null      float64\n",
      " 19  informacaoComplementar       5237 non-null   object \n",
      " 20  processo                     5308 non-null   object \n",
      " 21  unidadeSubRogada             0 non-null      float64\n",
      " 22  orgaoSubRogado               27 non-null     object \n",
      " 23  numeroControlePNCP           5308 non-null   object \n",
      " 24  receita                      5308 non-null   bool   \n",
      " 25  tipoPessoaSubContratada      0 non-null      float64\n",
      " 26  objetoContrato               5308 non-null   object \n",
      " 27  valorInicial                 5308 non-null   float64\n",
      " 28  numeroParcelas               5308 non-null   int64  \n",
      " 29  valorParcela                 5308 non-null   float64\n",
      " 30  valorGlobal                  5308 non-null   float64\n",
      " 31  valorAcumulado               5235 non-null   float64\n",
      " 32  numeroRetificacao            5308 non-null   int64  \n",
      " 33  identificadorCipi            0 non-null      float64\n",
      " 34  urlCipi                      0 non-null      float64\n",
      " 35  usuarioNome                  5308 non-null   object \n",
      "dtypes: bool(1), float64(10), int64(4), object(21)\n",
      "memory usage: 1.4+ MB\n"
     ]
    }
   ],
   "source": [
    "pncp.info()"
   ]
  },
  {
   "cell_type": "code",
   "execution_count": 20,
   "id": "26096019-1a38-48c5-9de3-b74406dfbdae",
   "metadata": {},
   "outputs": [
    {
     "data": {
      "text/plain": [
       "['numeroControlePncpCompra',\n",
       " 'codigoPaisFornecedor',\n",
       " 'dataPublicacaoPncp',\n",
       " 'dataAtualizacao',\n",
       " 'anoContrato',\n",
       " 'tipoContrato',\n",
       " 'numeroContratoEmpenho',\n",
       " 'dataAssinatura',\n",
       " 'dataVigenciaInicio',\n",
       " 'dataVigenciaFim',\n",
       " 'niFornecedor',\n",
       " 'tipoPessoa',\n",
       " 'orgaoEntidade',\n",
       " 'categoriaProcesso',\n",
       " 'sequencialContrato',\n",
       " 'unidadeOrgao',\n",
       " 'nomeRazaoSocialFornecedor',\n",
       " 'niFornecedorSubContratado',\n",
       " 'nomeFornecedorSubContratado',\n",
       " 'informacaoComplementar',\n",
       " 'processo',\n",
       " 'unidadeSubRogada',\n",
       " 'orgaoSubRogado',\n",
       " 'numeroControlePNCP',\n",
       " 'receita',\n",
       " 'tipoPessoaSubContratada',\n",
       " 'objetoContrato',\n",
       " 'valorInicial',\n",
       " 'numeroParcelas',\n",
       " 'valorParcela',\n",
       " 'valorGlobal',\n",
       " 'valorAcumulado',\n",
       " 'numeroRetificacao',\n",
       " 'identificadorCipi',\n",
       " 'urlCipi',\n",
       " 'usuarioNome']"
      ]
     },
     "execution_count": 20,
     "metadata": {},
     "output_type": "execute_result"
    }
   ],
   "source": [
    "pncp.columns.tolist()"
   ]
  },
  {
   "cell_type": "code",
   "execution_count": 22,
   "id": "5f2da904-9bac-4d43-b418-3d9929528ae7",
   "metadata": {},
   "outputs": [
    {
     "ename": "AttributeError",
     "evalue": "'Index' object has no attribute 'value'",
     "output_type": "error",
     "traceback": [
      "\u001b[1;31m---------------------------------------------------------------------------\u001b[0m",
      "\u001b[1;31mAttributeError\u001b[0m                            Traceback (most recent call last)",
      "Cell \u001b[1;32mIn[22], line 1\u001b[0m\n\u001b[1;32m----> 1\u001b[0m \u001b[43mpncp\u001b[49m\u001b[38;5;241;43m.\u001b[39;49m\u001b[43mcolumns\u001b[49m\u001b[38;5;241;43m.\u001b[39;49m\u001b[43mvalue\u001b[49m()\n",
      "\u001b[1;31mAttributeError\u001b[0m: 'Index' object has no attribute 'value'"
     ]
    }
   ],
   "source": [
    "pncp.columns.value()"
   ]
  },
  {
   "cell_type": "code",
   "execution_count": 25,
   "id": "0f2124de-bc99-42f7-8d99-db275f6bce44",
   "metadata": {},
   "outputs": [
    {
     "data": {
      "text/plain": [
       "numeroControlePncpCompra\n",
       "00043711000143-1-000001/2021    20100.000\n",
       "00043711000143-1-000004/2021    49950.000\n",
       "00059311000126-1-000001/2021    18900.000\n",
       "00059311000126-1-000002/2021    13124.201\n",
       "00059311000126-1-000004/2021    16040.350\n",
       "                                  ...    \n",
       "92969856000198-1-000004/2021    35493.170\n",
       "92969856000198-1-000005/2021    93404.080\n",
       "92969856000198-1-000006/2021    49999.800\n",
       "92969856000198-1-000007/2021    25216.000\n",
       "92969856000198-1-000008/2021    42630.000\n",
       "Name: valorGlobal, Length: 2792, dtype: float64"
      ]
     },
     "execution_count": 25,
     "metadata": {},
     "output_type": "execute_result"
    }
   ],
   "source": [
    "#agrupado_somado = dataframe.groupby('coluna_agrupada')['coluna_para_somar'].sum()\n",
    "pncp.groupby('numeroControlePncpCompra')['valorGlobal'].sum()"
   ]
  },
  {
   "cell_type": "code",
   "execution_count": 29,
   "id": "f46ee363-e1f1-40a5-9c0a-fabf31bd3fb3",
   "metadata": {},
   "outputs": [
    {
     "name": "stdout",
     "output_type": "stream",
     "text": [
      "          numeroControlePncpCompra codigoPaisFornecedor   dataPublicacaoPncp  \\\n",
      "3951  00043711000143-1-000001/2021                  BRA  2021-12-10T12:44:24   \n",
      "3961  00043711000143-1-000001/2021                  BRA  2021-12-10T12:44:19   \n",
      "3973  00043711000143-1-000001/2021                  BRA  2021-12-10T12:44:49   \n",
      "4050  00043711000143-1-000001/2021                  BRA  2021-12-10T12:44:46   \n",
      "\n",
      "          dataAtualizacao  anoContrato                  tipoContrato  \\\n",
      "3951  2021-12-10T12:44:24         2021  {'id': 7, 'nome': 'Empenho'}   \n",
      "3961  2021-12-10T12:44:19         2021  {'id': 7, 'nome': 'Empenho'}   \n",
      "3973  2021-12-10T12:44:49         2021  {'id': 7, 'nome': 'Empenho'}   \n",
      "4050  2021-12-10T12:44:46         2021  {'id': 7, 'nome': 'Empenho'}   \n",
      "\n",
      "     numeroContratoEmpenho dataAssinatura dataVigenciaInicio dataVigenciaFim  \\\n",
      "3951          2021NE000051     2021-12-06         2021-12-06      2021-12-31   \n",
      "3961          2021NE000052     2021-12-06         2021-12-06      2021-12-31   \n",
      "3973          2021NE000053     2021-12-06         2021-12-06      2021-12-31   \n",
      "4050          2021NE000054     2021-12-06         2021-12-06      2021-12-31   \n",
      "\n",
      "      ...                                     objetoContrato valorInicial  \\\n",
      "3951  ...  AQUISIÇÃO DE MESA REUNIÃO RETANGULAR, MATERIAL...       4000.0   \n",
      "3961  ...  AQUISIÇÃO DE MOBILIÁRIO CONFORME CONDIÇÕES PRE...       5000.0   \n",
      "3973  ...  AQUISIÇÃO DE MOBILIÁRIO DE ACORDO COM AS CONDI...       5600.0   \n",
      "4050  ...  AQUISIÇÃO DE MOBILIÁRIO DE ACORDO COM AS CONDI...       5500.0   \n",
      "\n",
      "     numeroParcelas valorParcela  valorGlobal valorAcumulado  \\\n",
      "3951              1       4000.0       4000.0         4000.0   \n",
      "3961              1       5000.0       5000.0         5000.0   \n",
      "3973              1       5600.0       5600.0         5600.0   \n",
      "4050              1       5500.0       5500.0         5500.0   \n",
      "\n",
      "     numeroRetificacao  identificadorCipi  urlCipi     usuarioNome  \n",
      "3951                 0                NaN      NaN  Compras.gov.br  \n",
      "3961                 0                NaN      NaN  Compras.gov.br  \n",
      "3973                 0                NaN      NaN  Compras.gov.br  \n",
      "4050                 0                NaN      NaN  Compras.gov.br  \n",
      "\n",
      "[4 rows x 36 columns]\n"
     ]
    }
   ],
   "source": [
    "print(pncp[pncp['numeroControlePncpCompra'] == '00043711000143-1-000001/2021'])"
   ]
  },
  {
   "cell_type": "code",
   "execution_count": 30,
   "id": "42a7126f-2e16-479e-a0ab-a5ca025a65c9",
   "metadata": {},
   "outputs": [
    {
     "data": {
      "text/plain": [
       "numeroControlePncpCompra      niFornecedor  \n",
       "00043711000143-1-000001/2021  29003455000142     5500.00\n",
       "                              29463840000172     5000.00\n",
       "                              34213521000149     4000.00\n",
       "                              36513363000178     5600.00\n",
       "00043711000143-1-000004/2021  10422851000186    49950.00\n",
       "                                                  ...   \n",
       "92969856000198-1-000005/2021  EX2625223         93404.08\n",
       "92969856000198-1-000006/2021  09433075000130    49999.80\n",
       "92969856000198-1-000007/2021  11258338000164    18016.00\n",
       "                              21308808000100     7200.00\n",
       "92969856000198-1-000008/2021  EX0201222         42630.00\n",
       "Name: valorGlobal, Length: 4215, dtype: float64"
      ]
     },
     "execution_count": 30,
     "metadata": {},
     "output_type": "execute_result"
    }
   ],
   "source": [
    "pncp.groupby(['numeroControlePncpCompra', 'niFornecedor'])['valorGlobal'].sum()"
   ]
  },
  {
   "cell_type": "code",
   "execution_count": 31,
   "id": "bb15bfdd-3e30-4154-aea5-a1894ee72143",
   "metadata": {},
   "outputs": [
    {
     "data": {
      "text/plain": [
       "numeroControlePNCP            niFornecedor  \n",
       "00043711000143-2-000001/2021  29463840000172     5000.00\n",
       "00043711000143-2-000002/2021  34213521000149     4000.00\n",
       "00043711000143-2-000003/2021  29003455000142     5500.00\n",
       "00043711000143-2-000004/2021  36513363000178     5600.00\n",
       "00043711000143-2-000005/2021  10422851000186    49950.00\n",
       "                                                  ...   \n",
       "92969856000198-2-000004/2021  EX1503903         35493.17\n",
       "92969856000198-2-000005/2021  EX2620250         36378.41\n",
       "92969856000198-2-000006/2021  21308808000100     7200.00\n",
       "92969856000198-2-000007/2021  09433075000130    49999.80\n",
       "92969856000198-2-000008/2021  11258338000164    18016.00\n",
       "Name: valorGlobal, Length: 5017, dtype: float64"
      ]
     },
     "execution_count": 31,
     "metadata": {},
     "output_type": "execute_result"
    }
   ],
   "source": [
    "pncp.groupby(['numeroControlePNCP', 'niFornecedor'])['valorGlobal'].sum()"
   ]
  },
  {
   "cell_type": "code",
   "execution_count": 33,
   "id": "bd39c8a5-bc47-4566-a0c3-8c7843f5353c",
   "metadata": {},
   "outputs": [
    {
     "data": {
      "text/plain": [
       "0           868.74\n",
       "1          6555.00\n",
       "2           198.99\n",
       "3           385.00\n",
       "4          2442.00\n",
       "           ...    \n",
       "5303       4588.00\n",
       "5304       5999.85\n",
       "5305       6284.21\n",
       "5306      41500.00\n",
       "5307    2300000.00\n",
       "Name: valorGlobal, Length: 5308, dtype: float64"
      ]
     },
     "execution_count": 33,
     "metadata": {},
     "output_type": "execute_result"
    }
   ],
   "source": [
    "pncp.groupby(['numeroControlePNCP', 'niFornecedor'])['valorGlobal'].head()"
   ]
  },
  {
   "cell_type": "code",
   "execution_count": 39,
   "id": "6beb2cbe-c2ef-4c5c-9c7b-269804bd8525",
   "metadata": {},
   "outputs": [
    {
     "data": {
      "text/plain": [
       "niFornecedor\n",
       "43679576000130    2.179026e+08\n",
       "02385669000174    2.939290e+07\n",
       "08234805000101    2.200000e+06\n",
       "26555322000190    7.450556e+05\n",
       "09383469000121    5.353812e+05\n",
       "                      ...     \n",
       "19915068000129    4.500000e+01\n",
       "42716796000123    3.998000e+01\n",
       "39681877000120    3.524000e+01\n",
       "40054598000116    1.400000e+01\n",
       "19393712000146    6.600000e+00\n",
       "Name: valorGlobal, Length: 2127, dtype: float64"
      ]
     },
     "execution_count": 39,
     "metadata": {},
     "output_type": "execute_result"
    }
   ],
   "source": [
    "pncp.groupby(['niFornecedor'])['valorGlobal'].sum().sort_values(ascending=False)"
   ]
  },
  {
   "cell_type": "code",
   "execution_count": 41,
   "id": "6fe6a916-33a1-40c6-ba36-9cd926d43fc3",
   "metadata": {},
   "outputs": [
    {
     "data": {
      "text/html": [
       "<div>\n",
       "<style scoped>\n",
       "    .dataframe tbody tr th:only-of-type {\n",
       "        vertical-align: middle;\n",
       "    }\n",
       "\n",
       "    .dataframe tbody tr th {\n",
       "        vertical-align: top;\n",
       "    }\n",
       "\n",
       "    .dataframe thead th {\n",
       "        text-align: right;\n",
       "    }\n",
       "</style>\n",
       "<table border=\"1\" class=\"dataframe\">\n",
       "  <thead>\n",
       "    <tr style=\"text-align: right;\">\n",
       "      <th></th>\n",
       "      <th>numeroControlePncpCompra</th>\n",
       "      <th>codigoPaisFornecedor</th>\n",
       "      <th>dataPublicacaoPncp</th>\n",
       "      <th>dataAtualizacao</th>\n",
       "      <th>anoContrato</th>\n",
       "      <th>tipoContrato</th>\n",
       "      <th>numeroContratoEmpenho</th>\n",
       "      <th>dataAssinatura</th>\n",
       "      <th>dataVigenciaInicio</th>\n",
       "      <th>dataVigenciaFim</th>\n",
       "      <th>...</th>\n",
       "      <th>objetoContrato</th>\n",
       "      <th>valorInicial</th>\n",
       "      <th>numeroParcelas</th>\n",
       "      <th>valorParcela</th>\n",
       "      <th>valorGlobal</th>\n",
       "      <th>valorAcumulado</th>\n",
       "      <th>numeroRetificacao</th>\n",
       "      <th>identificadorCipi</th>\n",
       "      <th>urlCipi</th>\n",
       "      <th>usuarioNome</th>\n",
       "    </tr>\n",
       "  </thead>\n",
       "  <tbody>\n",
       "    <tr>\n",
       "      <th>529</th>\n",
       "      <td>33781055000135-1-000003/2021</td>\n",
       "      <td>BRA</td>\n",
       "      <td>2021-10-05T10:38:08</td>\n",
       "      <td>2021-10-05T10:38:08</td>\n",
       "      <td>2021</td>\n",
       "      <td>{'id': 7, 'nome': 'Empenho'}</td>\n",
       "      <td>2021NE000768</td>\n",
       "      <td>2021-10-05</td>\n",
       "      <td>2021-10-05</td>\n",
       "      <td>2021-12-31</td>\n",
       "      <td>...</td>\n",
       "      <td>EMPENHO PARCIAL PARA AMPLIAÇÃO DE DIAGNÓSTICOS...</td>\n",
       "      <td>1.003326e+07</td>\n",
       "      <td>1</td>\n",
       "      <td>1.003326e+07</td>\n",
       "      <td>1.003326e+07</td>\n",
       "      <td>10033264.27</td>\n",
       "      <td>0</td>\n",
       "      <td>NaN</td>\n",
       "      <td>NaN</td>\n",
       "      <td>Compras.gov.br</td>\n",
       "    </tr>\n",
       "    <tr>\n",
       "      <th>531</th>\n",
       "      <td>33781055000135-1-000003/2021</td>\n",
       "      <td>BRA</td>\n",
       "      <td>2021-10-05T10:38:09</td>\n",
       "      <td>2021-10-05T10:38:09</td>\n",
       "      <td>2021</td>\n",
       "      <td>{'id': 7, 'nome': 'Empenho'}</td>\n",
       "      <td>2021NE000769</td>\n",
       "      <td>2021-10-05</td>\n",
       "      <td>2021-10-05</td>\n",
       "      <td>2021-12-31</td>\n",
       "      <td>...</td>\n",
       "      <td>EMPENHO PARCIAL PARA AMPLIAÇÃO DE DIAGNÓSTICOS...</td>\n",
       "      <td>9.025037e+05</td>\n",
       "      <td>1</td>\n",
       "      <td>9.025037e+05</td>\n",
       "      <td>9.025037e+05</td>\n",
       "      <td>902503.65</td>\n",
       "      <td>0</td>\n",
       "      <td>NaN</td>\n",
       "      <td>NaN</td>\n",
       "      <td>Compras.gov.br</td>\n",
       "    </tr>\n",
       "    <tr>\n",
       "      <th>5286</th>\n",
       "      <td>33781055000135-1-000003/2021</td>\n",
       "      <td>BRA</td>\n",
       "      <td>2021-10-14T15:06:40</td>\n",
       "      <td>2022-06-22T15:52:39</td>\n",
       "      <td>2021</td>\n",
       "      <td>{'id': 1, 'nome': 'Contrato (termo inicial)'}</td>\n",
       "      <td>00049</td>\n",
       "      <td>2021-10-01</td>\n",
       "      <td>2021-10-01</td>\n",
       "      <td>2022-12-31</td>\n",
       "      <td>...</td>\n",
       "      <td>REALIZAÇÃO DE DESENVOLVIMENTO DE PROJETOS DE A...</td>\n",
       "      <td>2.069669e+08</td>\n",
       "      <td>1</td>\n",
       "      <td>2.069669e+08</td>\n",
       "      <td>2.069669e+08</td>\n",
       "      <td>NaN</td>\n",
       "      <td>2</td>\n",
       "      <td>NaN</td>\n",
       "      <td>NaN</td>\n",
       "      <td>Compras.gov.br</td>\n",
       "    </tr>\n",
       "  </tbody>\n",
       "</table>\n",
       "<p>3 rows × 36 columns</p>\n",
       "</div>"
      ],
      "text/plain": [
       "          numeroControlePncpCompra codigoPaisFornecedor   dataPublicacaoPncp  \\\n",
       "529   33781055000135-1-000003/2021                  BRA  2021-10-05T10:38:08   \n",
       "531   33781055000135-1-000003/2021                  BRA  2021-10-05T10:38:09   \n",
       "5286  33781055000135-1-000003/2021                  BRA  2021-10-14T15:06:40   \n",
       "\n",
       "          dataAtualizacao  anoContrato  \\\n",
       "529   2021-10-05T10:38:08         2021   \n",
       "531   2021-10-05T10:38:09         2021   \n",
       "5286  2022-06-22T15:52:39         2021   \n",
       "\n",
       "                                       tipoContrato numeroContratoEmpenho  \\\n",
       "529                    {'id': 7, 'nome': 'Empenho'}          2021NE000768   \n",
       "531                    {'id': 7, 'nome': 'Empenho'}          2021NE000769   \n",
       "5286  {'id': 1, 'nome': 'Contrato (termo inicial)'}                 00049   \n",
       "\n",
       "     dataAssinatura dataVigenciaInicio dataVigenciaFim  ...  \\\n",
       "529      2021-10-05         2021-10-05      2021-12-31  ...   \n",
       "531      2021-10-05         2021-10-05      2021-12-31  ...   \n",
       "5286     2021-10-01         2021-10-01      2022-12-31  ...   \n",
       "\n",
       "                                         objetoContrato  valorInicial  \\\n",
       "529   EMPENHO PARCIAL PARA AMPLIAÇÃO DE DIAGNÓSTICOS...  1.003326e+07   \n",
       "531   EMPENHO PARCIAL PARA AMPLIAÇÃO DE DIAGNÓSTICOS...  9.025037e+05   \n",
       "5286  REALIZAÇÃO DE DESENVOLVIMENTO DE PROJETOS DE A...  2.069669e+08   \n",
       "\n",
       "     numeroParcelas  valorParcela   valorGlobal valorAcumulado  \\\n",
       "529               1  1.003326e+07  1.003326e+07    10033264.27   \n",
       "531               1  9.025037e+05  9.025037e+05      902503.65   \n",
       "5286              1  2.069669e+08  2.069669e+08            NaN   \n",
       "\n",
       "     numeroRetificacao  identificadorCipi  urlCipi     usuarioNome  \n",
       "529                  0                NaN      NaN  Compras.gov.br  \n",
       "531                  0                NaN      NaN  Compras.gov.br  \n",
       "5286                 2                NaN      NaN  Compras.gov.br  \n",
       "\n",
       "[3 rows x 36 columns]"
      ]
     },
     "execution_count": 41,
     "metadata": {},
     "output_type": "execute_result"
    }
   ],
   "source": [
    "pncp[pncp['niFornecedor'] == '43679576000130']"
   ]
  },
  {
   "cell_type": "code",
   "execution_count": 49,
   "id": "bed0688c-2c54-4935-9129-8df9624694de",
   "metadata": {},
   "outputs": [
    {
     "ename": "SyntaxError",
     "evalue": "invalid syntax (576289028.py, line 4)",
     "output_type": "error",
     "traceback": [
      "\u001b[1;36m  Cell \u001b[1;32mIn[49], line 4\u001b[1;36m\u001b[0m\n\u001b[1;33m    fornecedor.apply(Lambda 'valorGlobal': f'{x:.2f}')\u001b[0m\n\u001b[1;37m                            ^\u001b[0m\n\u001b[1;31mSyntaxError\u001b[0m\u001b[1;31m:\u001b[0m invalid syntax\n"
     ]
    }
   ],
   "source": [
    "fornecedor = pncp.groupby(['niFornecedor'])['valorGlobal'].sum().sort_values(ascending=False)\n",
    "# Formate o resultado para usar a notação decimal padrão\n",
    "#agrupado_somado = agrupado_somado.apply(lambda x: f'{x:.0f}')\n",
    "fornecedor.apply(Lambda 'valorGlobal': f'{x:.2f}')"
   ]
  },
  {
   "cell_type": "code",
   "execution_count": 46,
   "id": "12eaae4b-319f-49cc-a53e-6fe78ae961dc",
   "metadata": {},
   "outputs": [
    {
     "ename": "SyntaxError",
     "evalue": "invalid decimal literal (2208659894.py, line 1)",
     "output_type": "error",
     "traceback": [
      "\u001b[1;36m  Cell \u001b[1;32mIn[46], line 1\u001b[1;36m\u001b[0m\n\u001b[1;33m    print(fornecedor:.2f)\u001b[0m\n\u001b[1;37m                      ^\u001b[0m\n\u001b[1;31mSyntaxError\u001b[0m\u001b[1;31m:\u001b[0m invalid decimal literal\n"
     ]
    }
   ],
   "source": [
    "# Formate o resultado para usar a notação decimal padrão\n",
    "#agrupado_somado = agrupado_somado.apply(lambda x: f'{x:.0f}')"
   ]
  },
  {
   "cell_type": "code",
   "execution_count": null,
   "id": "200dcbd2-4aa3-4724-bdf7-4d636839fbde",
   "metadata": {},
   "outputs": [],
   "source": []
  }
 ],
 "metadata": {
  "kernelspec": {
   "display_name": "Python 3 (ipykernel)",
   "language": "python",
   "name": "python3"
  },
  "language_info": {
   "codemirror_mode": {
    "name": "ipython",
    "version": 3
   },
   "file_extension": ".py",
   "mimetype": "text/x-python",
   "name": "python",
   "nbconvert_exporter": "python",
   "pygments_lexer": "ipython3",
   "version": "3.11.5"
  }
 },
 "nbformat": 4,
 "nbformat_minor": 5
}
