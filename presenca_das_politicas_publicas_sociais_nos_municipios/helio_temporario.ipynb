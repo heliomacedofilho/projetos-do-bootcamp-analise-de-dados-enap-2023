{
 "cells": [
  {
   "cell_type": "code",
   "execution_count": null,
   "id": "0716d89f-7df7-445b-a4e8-81e478663915",
   "metadata": {},
   "outputs": [],
   "source": [
    "#criando uma cópia segura dos dados\n",
    "resultados_df = resultados.copy()\n",
    "\n",
    "#criando dataframe com informações de georreferenciamento de municípios\n",
    "georreferenciamento_df = pd.read_csv('https://raw.githubusercontent.com/kelvins/Municipios-Brasileiros/main/csv/municipios.csv')\n",
    "\n",
    "#os dados de georreferenciamento tem 7 dígitos (vamos remover o dígito verificador e atualizar o dataframe)\n",
    "georreferenciamento_df['codigo_ibge'] = georreferenciamento_df['codigo_ibge'].astype('str').map(lambda x: x[:-1]).astype('int')\n",
    "\n",
    "#cruzamento do dataframe resultados com as informações de georreferenciamento\n",
    "resultados_df = pd.merge(resultados[['ibge_6', 'ano', 'Dif_Perc_bx_renda_pob']],\n",
    "                         georreferenciamento_df[['codigo_ibge', 'nome', 'latitude', 'longitude']],\n",
    "                         left_on='ibge_6',\n",
    "                         right_on='codigo_ibge',\n",
    "                         how='inner')\n",
    "\n",
    "#puxar a malha geográfica do brasil a nível de município\n",
    "import requests\n",
    "geojson = requests.get(f'http://servicodados.ibge.gov.br/api/v3/malhas/paises/BR?formato=application/vnd.geo+json&qualidade=minima&intrarregiao=municipio').json()\n",
    "\n",
    "#a malha geográfica do ibge tem 7 dígitos (vamos remover o dígito verificador e atualizar a malha)\n",
    "from geojson_rewind import rewind\n",
    "for feature in geojson['features']:\n",
    "    feature['properties']['codarea'] = feature['properties']['codarea'][:-1]\n",
    "geojson = rewind(geojson, rfc7946=False)\n",
    "\n",
    "#construir o mapa choroplético com timeline no campo de ano\n",
    "import plotly.express as px\n",
    "import plotly.io as pio\n",
    "pio.renderers.default = 'iframe'\n",
    "\n",
    "fig = px.choropleth(resultados_df,\n",
    "                    geojson=geojson,\n",
    "                    scope='south america',\n",
    "                    color='Dif_Perc_bx_renda_pob',\n",
    "                    color_continuous_scale=\"Reds\",\n",
    "                    locations='ibge_6',\n",
    "                    featureidkey='properties.codarea',\n",
    "                    hover_name='nome',\n",
    "                    animation_frame='ano').update_layout(height=800, width=1000, autosize=False)\n",
    "\n",
    "fig.show()"
   ]
  }
 ],
 "metadata": {
  "kernelspec": {
   "display_name": "Python 3 (ipykernel)",
   "language": "python",
   "name": "python3"
  },
  "language_info": {
   "codemirror_mode": {
    "name": "ipython",
    "version": 3
   },
   "file_extension": ".py",
   "mimetype": "text/x-python",
   "name": "python",
   "nbconvert_exporter": "python",
   "pygments_lexer": "ipython3",
   "version": "3.10.6"
  }
 },
 "nbformat": 4,
 "nbformat_minor": 5
}
