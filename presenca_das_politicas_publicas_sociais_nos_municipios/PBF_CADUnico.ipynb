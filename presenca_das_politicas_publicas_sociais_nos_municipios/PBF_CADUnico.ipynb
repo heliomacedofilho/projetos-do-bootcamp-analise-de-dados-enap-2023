{
 "cells": [
  {
   "cell_type": "markdown",
   "id": "d8ee28ea-24ef-47ef-97e2-a1ecdd0d64c6",
   "metadata": {},
   "source": [
    "# PBF X CADÚnico"
   ]
  },
  {
   "cell_type": "code",
   "execution_count": 1,
   "id": "ee403c79-553c-4853-9521-3aa5132772ad",
   "metadata": {},
   "outputs": [],
   "source": [
    "# Arquivos da pasta DATA\n",
    "# 'data/municipios_codigos.json'"
   ]
  },
  {
   "cell_type": "code",
   "execution_count": 2,
   "id": "9a842475-60f1-49dc-857a-5260cc0dc3c7",
   "metadata": {},
   "outputs": [],
   "source": [
    "# Bibliotecas utilizadas \n",
    "import pandas as pd\n",
    "import matplotlib.pyplot as plt\n",
    "import seaborn as sns\n",
    "import requests\n",
    "from geojson_rewind import rewind\n",
    "import plotly.express as px\n",
    "import plotly.io as pio\n",
    "import json\n",
    "pio.renderers.default = 'iframe'\n"
   ]
  },
  {
   "cell_type": "markdown",
   "id": "687c0d9d-cb50-44e3-8faa-10e8637a3081",
   "metadata": {},
   "source": [
    "## I. Bases de dados\n",
    "As bases de dados que serão utilizadas aqui são:\n",
    "- Programa Bolsa Família - setembro/2023\n",
    "- Cadastro Único - agosto/2023 "
   ]
  },
  {
   "cell_type": "code",
   "execution_count": null,
   "id": "1d93b3e1-0282-427d-8416-e822947e003a",
   "metadata": {},
   "outputs": [],
   "source": []
  },
  {
   "cell_type": "markdown",
   "id": "bada41f7-d7f7-4fac-987e-d145c7365380",
   "metadata": {},
   "source": [
    "### 1. PBF 2023\n",
    "Dados do programa Bolsa Família do ano de 2023"
   ]
  },
  {
   "cell_type": "code",
   "execution_count": 3,
   "id": "24b1bf20-59b4-42bf-aeaa-a0ca1b2cf138",
   "metadata": {},
   "outputs": [
    {
     "data": {
      "text/html": [
       "<div>\n",
       "<style scoped>\n",
       "    .dataframe tbody tr th:only-of-type {\n",
       "        vertical-align: middle;\n",
       "    }\n",
       "\n",
       "    .dataframe tbody tr th {\n",
       "        vertical-align: top;\n",
       "    }\n",
       "\n",
       "    .dataframe thead th {\n",
       "        text-align: right;\n",
       "    }\n",
       "</style>\n",
       "<table border=\"1\" class=\"dataframe\">\n",
       "  <thead>\n",
       "    <tr style=\"text-align: right;\">\n",
       "      <th></th>\n",
       "      <th>ibge_6</th>\n",
       "      <th>anomes_s</th>\n",
       "      <th>qtd_familias_beneficiarias_bolsa_familia_s</th>\n",
       "      <th>valor_repassado_bolsa_familia_s</th>\n",
       "      <th>pbf_vlr_medio_benef_f</th>\n",
       "    </tr>\n",
       "  </thead>\n",
       "  <tbody>\n",
       "    <tr>\n",
       "      <th>0</th>\n",
       "      <td>110001</td>\n",
       "      <td>202310</td>\n",
       "      <td>1765</td>\n",
       "      <td>1213683.0</td>\n",
       "      <td>687.64</td>\n",
       "    </tr>\n",
       "    <tr>\n",
       "      <th>1</th>\n",
       "      <td>110002</td>\n",
       "      <td>202310</td>\n",
       "      <td>6573</td>\n",
       "      <td>4535509.0</td>\n",
       "      <td>690.02</td>\n",
       "    </tr>\n",
       "    <tr>\n",
       "      <th>2</th>\n",
       "      <td>110003</td>\n",
       "      <td>202310</td>\n",
       "      <td>319</td>\n",
       "      <td>212850.0</td>\n",
       "      <td>669.34</td>\n",
       "    </tr>\n",
       "    <tr>\n",
       "      <th>3</th>\n",
       "      <td>110004</td>\n",
       "      <td>202310</td>\n",
       "      <td>5968</td>\n",
       "      <td>4118652.0</td>\n",
       "      <td>690.12</td>\n",
       "    </tr>\n",
       "    <tr>\n",
       "      <th>4</th>\n",
       "      <td>110005</td>\n",
       "      <td>202310</td>\n",
       "      <td>1112</td>\n",
       "      <td>809881.0</td>\n",
       "      <td>728.31</td>\n",
       "    </tr>\n",
       "  </tbody>\n",
       "</table>\n",
       "</div>"
      ],
      "text/plain": [
       "   ibge_6  anomes_s  qtd_familias_beneficiarias_bolsa_familia_s  \\\n",
       "0  110001    202310                                        1765   \n",
       "1  110002    202310                                        6573   \n",
       "2  110003    202310                                         319   \n",
       "3  110004    202310                                        5968   \n",
       "4  110005    202310                                        1112   \n",
       "\n",
       "   valor_repassado_bolsa_familia_s  pbf_vlr_medio_benef_f  \n",
       "0                        1213683.0                 687.64  \n",
       "1                        4535509.0                 690.02  \n",
       "2                         212850.0                 669.34  \n",
       "3                        4118652.0                 690.12  \n",
       "4                         809881.0                 728.31  "
      ]
     },
     "execution_count": 3,
     "metadata": {},
     "output_type": "execute_result"
    }
   ],
   "source": [
    "url_pbf = 'https://aplicacoes.mds.gov.br/sagi/servicos/misocial/?fq=anomes_s:2023*&fl=codigo_ibge%2Canomes_s%2Cqtd_familias_beneficiarias_bolsa_familia_s%2Cvalor_repassado_bolsa_familia_s%2Cpbf_vlr_medio_benef_f&fq=valor_repassado_bolsa_familia_s%3A*&q=*%3A*&rows=100000&sort=anomes_s%20desc%2C%20codigo_ibge%20asc&wt=csv'\n",
    "pd_pbf_2023 = pd.read_csv(url_pbf, sep = \",\")\n",
    "pd_pbf_2023.rename(columns={'codigo_ibge': 'ibge_6'}, inplace=True)\n",
    "pd_pbf_2023.head()"
   ]
  },
  {
   "cell_type": "markdown",
   "id": "831a14f6-0f13-4509-a65d-54e8c63864c0",
   "metadata": {},
   "source": [
    "#### 1a) Setembro de 2023\n",
    "Recorte dos dados de Setembro de 2023"
   ]
  },
  {
   "cell_type": "code",
   "execution_count": 4,
   "id": "6c1a5b0c-a6ab-4df5-9f41-7e820ffa42be",
   "metadata": {},
   "outputs": [
    {
     "data": {
      "text/html": [
       "<div>\n",
       "<style scoped>\n",
       "    .dataframe tbody tr th:only-of-type {\n",
       "        vertical-align: middle;\n",
       "    }\n",
       "\n",
       "    .dataframe tbody tr th {\n",
       "        vertical-align: top;\n",
       "    }\n",
       "\n",
       "    .dataframe thead th {\n",
       "        text-align: right;\n",
       "    }\n",
       "</style>\n",
       "<table border=\"1\" class=\"dataframe\">\n",
       "  <thead>\n",
       "    <tr style=\"text-align: right;\">\n",
       "      <th></th>\n",
       "      <th>ibge_6</th>\n",
       "      <th>anomes_s</th>\n",
       "      <th>qtd_familias_beneficiarias_bolsa_familia_s</th>\n",
       "      <th>valor_repassado_bolsa_familia_s</th>\n",
       "      <th>pbf_vlr_medio_benef_f</th>\n",
       "    </tr>\n",
       "  </thead>\n",
       "  <tbody>\n",
       "    <tr>\n",
       "      <th>count</th>\n",
       "      <td>5570.000000</td>\n",
       "      <td>5570.0</td>\n",
       "      <td>5570.000000</td>\n",
       "      <td>5.570000e+03</td>\n",
       "      <td>5570.000000</td>\n",
       "    </tr>\n",
       "    <tr>\n",
       "      <th>mean</th>\n",
       "      <td>325358.627828</td>\n",
       "      <td>202309.0</td>\n",
       "      <td>3856.147935</td>\n",
       "      <td>2.618194e+06</td>\n",
       "      <td>686.351321</td>\n",
       "    </tr>\n",
       "    <tr>\n",
       "      <th>std</th>\n",
       "      <td>98491.033878</td>\n",
       "      <td>0.0</td>\n",
       "      <td>16968.597271</td>\n",
       "      <td>1.145936e+07</td>\n",
       "      <td>28.937782</td>\n",
       "    </tr>\n",
       "    <tr>\n",
       "      <th>min</th>\n",
       "      <td>110001.000000</td>\n",
       "      <td>202309.0</td>\n",
       "      <td>6.000000</td>\n",
       "      <td>4.125000e+03</td>\n",
       "      <td>497.730000</td>\n",
       "    </tr>\n",
       "    <tr>\n",
       "      <th>25%</th>\n",
       "      <td>251212.500000</td>\n",
       "      <td>202309.0</td>\n",
       "      <td>520.250000</td>\n",
       "      <td>3.533988e+05</td>\n",
       "      <td>669.430000</td>\n",
       "    </tr>\n",
       "    <tr>\n",
       "      <th>50%</th>\n",
       "      <td>314627.500000</td>\n",
       "      <td>202309.0</td>\n",
       "      <td>1358.500000</td>\n",
       "      <td>9.281800e+05</td>\n",
       "      <td>682.655000</td>\n",
       "    </tr>\n",
       "    <tr>\n",
       "      <th>75%</th>\n",
       "      <td>411918.750000</td>\n",
       "      <td>202309.0</td>\n",
       "      <td>3395.750000</td>\n",
       "      <td>2.319366e+06</td>\n",
       "      <td>698.105000</td>\n",
       "    </tr>\n",
       "    <tr>\n",
       "      <th>max</th>\n",
       "      <td>530010.000000</td>\n",
       "      <td>202309.0</td>\n",
       "      <td>752313.000000</td>\n",
       "      <td>5.109573e+08</td>\n",
       "      <td>970.140000</td>\n",
       "    </tr>\n",
       "  </tbody>\n",
       "</table>\n",
       "</div>"
      ],
      "text/plain": [
       "              ibge_6  anomes_s  qtd_familias_beneficiarias_bolsa_familia_s  \\\n",
       "count    5570.000000    5570.0                                 5570.000000   \n",
       "mean   325358.627828  202309.0                                 3856.147935   \n",
       "std     98491.033878       0.0                                16968.597271   \n",
       "min    110001.000000  202309.0                                    6.000000   \n",
       "25%    251212.500000  202309.0                                  520.250000   \n",
       "50%    314627.500000  202309.0                                 1358.500000   \n",
       "75%    411918.750000  202309.0                                 3395.750000   \n",
       "max    530010.000000  202309.0                               752313.000000   \n",
       "\n",
       "       valor_repassado_bolsa_familia_s  pbf_vlr_medio_benef_f  \n",
       "count                     5.570000e+03            5570.000000  \n",
       "mean                      2.618194e+06             686.351321  \n",
       "std                       1.145936e+07              28.937782  \n",
       "min                       4.125000e+03             497.730000  \n",
       "25%                       3.533988e+05             669.430000  \n",
       "50%                       9.281800e+05             682.655000  \n",
       "75%                       2.319366e+06             698.105000  \n",
       "max                       5.109573e+08             970.140000  "
      ]
     },
     "execution_count": 4,
     "metadata": {},
     "output_type": "execute_result"
    }
   ],
   "source": [
    "pd_pbf_set23 = pd_pbf_2023[pd_pbf_2023['anomes_s'] == 202309]\n",
    "pd_pbf_set23.describe()"
   ]
  },
  {
   "cell_type": "markdown",
   "id": "b05c8350-2994-4ef7-b8bf-f8e90347627c",
   "metadata": {},
   "source": [
    "### 2. CADÚnico 2023\n",
    "Dados do programa Bolsa Família do ano de 2023"
   ]
  },
  {
   "cell_type": "code",
   "execution_count": 5,
   "id": "24f8ef2f-b278-4ed7-87b2-66388891ae56",
   "metadata": {},
   "outputs": [
    {
     "data": {
      "text/html": [
       "<div>\n",
       "<style scoped>\n",
       "    .dataframe tbody tr th:only-of-type {\n",
       "        vertical-align: middle;\n",
       "    }\n",
       "\n",
       "    .dataframe tbody tr th {\n",
       "        vertical-align: top;\n",
       "    }\n",
       "\n",
       "    .dataframe thead th {\n",
       "        text-align: right;\n",
       "    }\n",
       "</style>\n",
       "<table border=\"1\" class=\"dataframe\">\n",
       "  <thead>\n",
       "    <tr style=\"text-align: right;\">\n",
       "      <th></th>\n",
       "      <th>ibge_6</th>\n",
       "      <th>anomes</th>\n",
       "      <th>cadunico_tot_fam</th>\n",
       "      <th>cadunico_tot_pes</th>\n",
       "      <th>cadunico_tot_fam_rpc_ate_meio_sm</th>\n",
       "      <th>cadunico_tot_pes_rpc_ate_meio_sm</th>\n",
       "      <th>cadunico_tot_fam_pob</th>\n",
       "      <th>cadunico_tot_pes_pob</th>\n",
       "      <th>cadunico_tot_fam_ext_pob</th>\n",
       "      <th>cadunico_tot_pes_ext_pob</th>\n",
       "      <th>cadunico_tot_fam_pob_e_ext_pob</th>\n",
       "      <th>cadunico_tot_pes_pob_e_ext_pob</th>\n",
       "    </tr>\n",
       "  </thead>\n",
       "  <tbody>\n",
       "    <tr>\n",
       "      <th>0</th>\n",
       "      <td>110001</td>\n",
       "      <td>202308</td>\n",
       "      <td>4863</td>\n",
       "      <td>12536</td>\n",
       "      <td>2916</td>\n",
       "      <td>8712</td>\n",
       "      <td>753</td>\n",
       "      <td>2403</td>\n",
       "      <td>794</td>\n",
       "      <td>2176</td>\n",
       "      <td>1547</td>\n",
       "      <td>4579</td>\n",
       "    </tr>\n",
       "    <tr>\n",
       "      <th>1</th>\n",
       "      <td>110002</td>\n",
       "      <td>202308</td>\n",
       "      <td>18435</td>\n",
       "      <td>43034</td>\n",
       "      <td>11545</td>\n",
       "      <td>30454</td>\n",
       "      <td>2826</td>\n",
       "      <td>7904</td>\n",
       "      <td>3326</td>\n",
       "      <td>8153</td>\n",
       "      <td>6152</td>\n",
       "      <td>16057</td>\n",
       "    </tr>\n",
       "    <tr>\n",
       "      <th>2</th>\n",
       "      <td>110003</td>\n",
       "      <td>202308</td>\n",
       "      <td>933</td>\n",
       "      <td>2529</td>\n",
       "      <td>596</td>\n",
       "      <td>1807</td>\n",
       "      <td>159</td>\n",
       "      <td>493</td>\n",
       "      <td>112</td>\n",
       "      <td>310</td>\n",
       "      <td>271</td>\n",
       "      <td>803</td>\n",
       "    </tr>\n",
       "    <tr>\n",
       "      <th>3</th>\n",
       "      <td>110004</td>\n",
       "      <td>202308</td>\n",
       "      <td>18058</td>\n",
       "      <td>42056</td>\n",
       "      <td>10222</td>\n",
       "      <td>27382</td>\n",
       "      <td>2302</td>\n",
       "      <td>6428</td>\n",
       "      <td>3467</td>\n",
       "      <td>8541</td>\n",
       "      <td>5769</td>\n",
       "      <td>14969</td>\n",
       "    </tr>\n",
       "    <tr>\n",
       "      <th>4</th>\n",
       "      <td>110005</td>\n",
       "      <td>202308</td>\n",
       "      <td>3136</td>\n",
       "      <td>7653</td>\n",
       "      <td>1876</td>\n",
       "      <td>5311</td>\n",
       "      <td>531</td>\n",
       "      <td>1524</td>\n",
       "      <td>554</td>\n",
       "      <td>1557</td>\n",
       "      <td>1085</td>\n",
       "      <td>3081</td>\n",
       "    </tr>\n",
       "  </tbody>\n",
       "</table>\n",
       "</div>"
      ],
      "text/plain": [
       "   ibge_6  anomes  cadunico_tot_fam  cadunico_tot_pes  \\\n",
       "0  110001  202308              4863             12536   \n",
       "1  110002  202308             18435             43034   \n",
       "2  110003  202308               933              2529   \n",
       "3  110004  202308             18058             42056   \n",
       "4  110005  202308              3136              7653   \n",
       "\n",
       "   cadunico_tot_fam_rpc_ate_meio_sm  cadunico_tot_pes_rpc_ate_meio_sm  \\\n",
       "0                              2916                              8712   \n",
       "1                             11545                             30454   \n",
       "2                               596                              1807   \n",
       "3                             10222                             27382   \n",
       "4                              1876                              5311   \n",
       "\n",
       "   cadunico_tot_fam_pob  cadunico_tot_pes_pob  cadunico_tot_fam_ext_pob  \\\n",
       "0                   753                  2403                       794   \n",
       "1                  2826                  7904                      3326   \n",
       "2                   159                   493                       112   \n",
       "3                  2302                  6428                      3467   \n",
       "4                   531                  1524                       554   \n",
       "\n",
       "   cadunico_tot_pes_ext_pob  cadunico_tot_fam_pob_e_ext_pob  \\\n",
       "0                      2176                            1547   \n",
       "1                      8153                            6152   \n",
       "2                       310                             271   \n",
       "3                      8541                            5769   \n",
       "4                      1557                            1085   \n",
       "\n",
       "   cadunico_tot_pes_pob_e_ext_pob  \n",
       "0                            4579  \n",
       "1                           16057  \n",
       "2                             803  \n",
       "3                           14969  \n",
       "4                            3081  "
      ]
     },
     "execution_count": 5,
     "metadata": {},
     "output_type": "execute_result"
    }
   ],
   "source": [
    "url_cad_2023 = 'https://aplicacoes.mds.gov.br/sagi/servicos/misocial?fq=anomes_s:2023*&wt=csv&omitHeader=true&fq=cadunico_tot_fam_i:{0%20TO%20*]&q=*&fl=ibge:codigo_ibge,anomes:anomes_s,cadunico_tot_fam:cadunico_tot_fam_i,cadunico_tot_pes:cadunico_tot_pes_i,cadunico_tot_fam_rpc_ate_meio_sm:cadunico_tot_fam_rpc_ate_meio_sm_i,cadunico_tot_pes_rpc_ate_meio_sm:cadunico_tot_pes_rpc_ate_meio_sm_i,cadunico_tot_fam_pob:cadunico_tot_fam_pob_i,cadunico_tot_pes_pob:cadunico_tot_pes_pob_i,cadunico_tot_fam_ext_pob:cadunico_tot_fam_ext_pob_i,cadunico_tot_pes_ext_pob:cadunico_tot_pes_ext_pob_i,cadunico_tot_fam_pob_e_ext_pob:cadunico_tot_fam_pob_e_ext_pob_i,cadunico_tot_pes_pob_e_ext_pob:cadunico_tot_pes_pob_e_ext_pob_i&rows=100000000&sort=anomes_s%20desc,%20codigo_ibge%20asc'\n",
    "pd_cadunico_2023 = pd.read_csv(url_cad_2023, sep = \",\")\n",
    "pd_cadunico_2023.rename(columns={'ibge': 'ibge_6'}, inplace=True)\n",
    "pd_cadunico_2023.head()\n"
   ]
  },
  {
   "cell_type": "markdown",
   "id": "63032441-1293-4485-a5ef-ad6b4c7ac032",
   "metadata": {},
   "source": [
    "#### 2a) Agosto de 2023\n",
    "Recorte dos dados de Agosto de 2023"
   ]
  },
  {
   "cell_type": "code",
   "execution_count": 6,
   "id": "8a0d8af2-fbbf-499c-851d-616b40d108b2",
   "metadata": {},
   "outputs": [
    {
     "data": {
      "text/plain": [
       "Index(['ibge_6', 'anomes', 'cadunico_tot_fam', 'cadunico_tot_pes',\n",
       "       'cadunico_tot_fam_rpc_ate_meio_sm', 'cadunico_tot_pes_rpc_ate_meio_sm',\n",
       "       'cadunico_tot_fam_pob', 'cadunico_tot_pes_pob',\n",
       "       'cadunico_tot_fam_ext_pob', 'cadunico_tot_pes_ext_pob',\n",
       "       'cadunico_tot_fam_pob_e_ext_pob', 'cadunico_tot_pes_pob_e_ext_pob'],\n",
       "      dtype='object')"
      ]
     },
     "execution_count": 6,
     "metadata": {},
     "output_type": "execute_result"
    }
   ],
   "source": [
    "#pd_cadunico_2023['anomes'].unique()\n",
    "pd_cadu_ago23 = pd_cadunico_2023[pd_cadunico_2023['anomes'] == 202308]\n",
    "pd_cadu_ago23.columns"
   ]
  },
  {
   "cell_type": "code",
   "execution_count": 7,
   "id": "5b5dce6c-f980-44c3-999e-33fcc38c08c5",
   "metadata": {},
   "outputs": [
    {
     "data": {
      "text/html": [
       "<div>\n",
       "<style scoped>\n",
       "    .dataframe tbody tr th:only-of-type {\n",
       "        vertical-align: middle;\n",
       "    }\n",
       "\n",
       "    .dataframe tbody tr th {\n",
       "        vertical-align: top;\n",
       "    }\n",
       "\n",
       "    .dataframe thead th {\n",
       "        text-align: right;\n",
       "    }\n",
       "</style>\n",
       "<table border=\"1\" class=\"dataframe\">\n",
       "  <thead>\n",
       "    <tr style=\"text-align: right;\">\n",
       "      <th></th>\n",
       "      <th>ibge_6</th>\n",
       "      <th>anomes</th>\n",
       "      <th>cadunico_tot_fam</th>\n",
       "      <th>cadunico_tot_pes</th>\n",
       "      <th>cadunico_tot_fam_rpc_ate_meio_sm</th>\n",
       "      <th>cadunico_tot_pes_rpc_ate_meio_sm</th>\n",
       "      <th>cadunico_tot_fam_pob</th>\n",
       "      <th>cadunico_tot_pes_pob</th>\n",
       "      <th>cadunico_tot_fam_ext_pob</th>\n",
       "      <th>cadunico_tot_pes_ext_pob</th>\n",
       "      <th>cadunico_tot_fam_pob_e_ext_pob</th>\n",
       "      <th>cadunico_tot_pes_pob_e_ext_pob</th>\n",
       "    </tr>\n",
       "  </thead>\n",
       "  <tbody>\n",
       "    <tr>\n",
       "      <th>count</th>\n",
       "      <td>5570.000000</td>\n",
       "      <td>5570.0</td>\n",
       "      <td>5.570000e+03</td>\n",
       "      <td>5.570000e+03</td>\n",
       "      <td>5.570000e+03</td>\n",
       "      <td>5.570000e+03</td>\n",
       "      <td>5570.000000</td>\n",
       "      <td>5570.000000</td>\n",
       "      <td>5570.000000</td>\n",
       "      <td>5.570000e+03</td>\n",
       "      <td>5570.000000</td>\n",
       "      <td>5.570000e+03</td>\n",
       "    </tr>\n",
       "    <tr>\n",
       "      <th>mean</th>\n",
       "      <td>325358.627828</td>\n",
       "      <td>202308.0</td>\n",
       "      <td>7.687290e+03</td>\n",
       "      <td>1.726919e+04</td>\n",
       "      <td>5.500938e+03</td>\n",
       "      <td>1.342370e+04</td>\n",
       "      <td>664.597127</td>\n",
       "      <td>1734.261221</td>\n",
       "      <td>3476.244704</td>\n",
       "      <td>7.934391e+03</td>\n",
       "      <td>4140.841831</td>\n",
       "      <td>9.668652e+03</td>\n",
       "    </tr>\n",
       "    <tr>\n",
       "      <th>std</th>\n",
       "      <td>98491.033878</td>\n",
       "      <td>0.0</td>\n",
       "      <td>3.618983e+04</td>\n",
       "      <td>7.710320e+04</td>\n",
       "      <td>2.535108e+04</td>\n",
       "      <td>5.700553e+04</td>\n",
       "      <td>3412.697478</td>\n",
       "      <td>8392.476936</td>\n",
       "      <td>16167.518908</td>\n",
       "      <td>3.318053e+04</td>\n",
       "      <td>19263.197401</td>\n",
       "      <td>4.079842e+04</td>\n",
       "    </tr>\n",
       "    <tr>\n",
       "      <th>min</th>\n",
       "      <td>110001.000000</td>\n",
       "      <td>202308.0</td>\n",
       "      <td>3.700000e+01</td>\n",
       "      <td>9.200000e+01</td>\n",
       "      <td>2.200000e+01</td>\n",
       "      <td>5.700000e+01</td>\n",
       "      <td>1.000000</td>\n",
       "      <td>1.000000</td>\n",
       "      <td>0.000000</td>\n",
       "      <td>0.000000e+00</td>\n",
       "      <td>3.000000</td>\n",
       "      <td>9.000000e+00</td>\n",
       "    </tr>\n",
       "    <tr>\n",
       "      <th>25%</th>\n",
       "      <td>251212.500000</td>\n",
       "      <td>202308.0</td>\n",
       "      <td>1.292250e+03</td>\n",
       "      <td>3.041500e+03</td>\n",
       "      <td>8.290000e+02</td>\n",
       "      <td>2.175250e+03</td>\n",
       "      <td>78.000000</td>\n",
       "      <td>226.000000</td>\n",
       "      <td>363.250000</td>\n",
       "      <td>8.682500e+02</td>\n",
       "      <td>526.000000</td>\n",
       "      <td>1.311000e+03</td>\n",
       "    </tr>\n",
       "    <tr>\n",
       "      <th>50%</th>\n",
       "      <td>314627.500000</td>\n",
       "      <td>202308.0</td>\n",
       "      <td>2.825000e+03</td>\n",
       "      <td>6.615500e+03</td>\n",
       "      <td>1.943500e+03</td>\n",
       "      <td>5.009000e+03</td>\n",
       "      <td>183.000000</td>\n",
       "      <td>511.000000</td>\n",
       "      <td>1091.000000</td>\n",
       "      <td>2.595000e+03</td>\n",
       "      <td>1382.500000</td>\n",
       "      <td>3.407000e+03</td>\n",
       "    </tr>\n",
       "    <tr>\n",
       "      <th>75%</th>\n",
       "      <td>411918.750000</td>\n",
       "      <td>202308.0</td>\n",
       "      <td>6.281750e+03</td>\n",
       "      <td>1.463475e+04</td>\n",
       "      <td>4.536750e+03</td>\n",
       "      <td>1.170575e+04</td>\n",
       "      <td>463.750000</td>\n",
       "      <td>1267.250000</td>\n",
       "      <td>2984.750000</td>\n",
       "      <td>7.241750e+03</td>\n",
       "      <td>3471.500000</td>\n",
       "      <td>8.556250e+03</td>\n",
       "    </tr>\n",
       "    <tr>\n",
       "      <th>max</th>\n",
       "      <td>530010.000000</td>\n",
       "      <td>202308.0</td>\n",
       "      <td>1.842573e+06</td>\n",
       "      <td>4.129005e+06</td>\n",
       "      <td>1.155211e+06</td>\n",
       "      <td>2.748069e+06</td>\n",
       "      <td>171399.000000</td>\n",
       "      <td>442307.000000</td>\n",
       "      <td>634135.000000</td>\n",
       "      <td>1.350343e+06</td>\n",
       "      <td>805534.000000</td>\n",
       "      <td>1.792650e+06</td>\n",
       "    </tr>\n",
       "  </tbody>\n",
       "</table>\n",
       "</div>"
      ],
      "text/plain": [
       "              ibge_6    anomes  cadunico_tot_fam  cadunico_tot_pes  \\\n",
       "count    5570.000000    5570.0      5.570000e+03      5.570000e+03   \n",
       "mean   325358.627828  202308.0      7.687290e+03      1.726919e+04   \n",
       "std     98491.033878       0.0      3.618983e+04      7.710320e+04   \n",
       "min    110001.000000  202308.0      3.700000e+01      9.200000e+01   \n",
       "25%    251212.500000  202308.0      1.292250e+03      3.041500e+03   \n",
       "50%    314627.500000  202308.0      2.825000e+03      6.615500e+03   \n",
       "75%    411918.750000  202308.0      6.281750e+03      1.463475e+04   \n",
       "max    530010.000000  202308.0      1.842573e+06      4.129005e+06   \n",
       "\n",
       "       cadunico_tot_fam_rpc_ate_meio_sm  cadunico_tot_pes_rpc_ate_meio_sm  \\\n",
       "count                      5.570000e+03                      5.570000e+03   \n",
       "mean                       5.500938e+03                      1.342370e+04   \n",
       "std                        2.535108e+04                      5.700553e+04   \n",
       "min                        2.200000e+01                      5.700000e+01   \n",
       "25%                        8.290000e+02                      2.175250e+03   \n",
       "50%                        1.943500e+03                      5.009000e+03   \n",
       "75%                        4.536750e+03                      1.170575e+04   \n",
       "max                        1.155211e+06                      2.748069e+06   \n",
       "\n",
       "       cadunico_tot_fam_pob  cadunico_tot_pes_pob  cadunico_tot_fam_ext_pob  \\\n",
       "count           5570.000000           5570.000000               5570.000000   \n",
       "mean             664.597127           1734.261221               3476.244704   \n",
       "std             3412.697478           8392.476936              16167.518908   \n",
       "min                1.000000              1.000000                  0.000000   \n",
       "25%               78.000000            226.000000                363.250000   \n",
       "50%              183.000000            511.000000               1091.000000   \n",
       "75%              463.750000           1267.250000               2984.750000   \n",
       "max           171399.000000         442307.000000             634135.000000   \n",
       "\n",
       "       cadunico_tot_pes_ext_pob  cadunico_tot_fam_pob_e_ext_pob  \\\n",
       "count              5.570000e+03                     5570.000000   \n",
       "mean               7.934391e+03                     4140.841831   \n",
       "std                3.318053e+04                    19263.197401   \n",
       "min                0.000000e+00                        3.000000   \n",
       "25%                8.682500e+02                      526.000000   \n",
       "50%                2.595000e+03                     1382.500000   \n",
       "75%                7.241750e+03                     3471.500000   \n",
       "max                1.350343e+06                   805534.000000   \n",
       "\n",
       "       cadunico_tot_pes_pob_e_ext_pob  \n",
       "count                    5.570000e+03  \n",
       "mean                     9.668652e+03  \n",
       "std                      4.079842e+04  \n",
       "min                      9.000000e+00  \n",
       "25%                      1.311000e+03  \n",
       "50%                      3.407000e+03  \n",
       "75%                      8.556250e+03  \n",
       "max                      1.792650e+06  "
      ]
     },
     "execution_count": 7,
     "metadata": {},
     "output_type": "execute_result"
    }
   ],
   "source": [
    "pd_cadu_ago23.describe()"
   ]
  },
  {
   "cell_type": "markdown",
   "id": "d517e0fc-da09-452e-b639-def37457213f",
   "metadata": {},
   "source": [
    "## II. Porcentagem de famílias necessitadas atendidas \n",
    "Para cada município cada município, foi calculado :\n",
    " \n",
    " Número de Famílias atendidas pelo bolsa família em setembro de 2023 pd_pbf_set23[qtd_familias_beneficiarias_bolsa_familia_s]\n",
    " \n",
    " /\n",
    " \n",
    " Número de famílias cadastradas nas faixas de pobreza e extrama pobreza no CAdÚnico de agosto de 2023 pd_cadu_ago23['cadunico_tot_fam_pob'] + pd_cadu_ago23['cadunico_tot_fam_ext_pob']\n",
    " \n",
    " X\n",
    " \n",
    " 100"
   ]
  },
  {
   "cell_type": "markdown",
   "id": "a005dda7-b301-4719-bdba-45e9b5a92582",
   "metadata": {},
   "source": [
    "### 1. Criando base única\n",
    "O primeiro passo para  calcular  Porcentagem de famílias necessitadas atendidas foi juntar as bases de dados do Programa Bolsa Família setembro/2023 e do Cadastro Único agosto/2023.\n",
    "\n",
    "Também incluímos as informações municipais da base do IBGE.\n"
   ]
  },
  {
   "cell_type": "code",
   "execution_count": 8,
   "id": "1d01acaf-22e2-4a8d-87fc-c5ae93178d7b",
   "metadata": {},
   "outputs": [],
   "source": [
    "# Chamando informações municipais\n",
    "cd_municipio = pd.read_json('data/municipios_codigos.json')\n",
    "cd_municipio['ibge_6'] = ((cd_municipio['id'].astype(str)).str[:6]).astype(int)\n",
    "cd_municipio.rename(columns={'id': 'ibge_7'}, inplace=True)"
   ]
  },
  {
   "cell_type": "code",
   "execution_count": 9,
   "id": "9d5a573f-d475-422d-b8fe-20ad217cb932",
   "metadata": {},
   "outputs": [],
   "source": [
    "# MESCLANDO as Bases e adicionando informações municipais\n",
    "pd_pbf_cadUnico_total = pd.merge(pd_pbf_set23, pd_cadu_ago23, left_on = ['ibge_6'], \n",
    "         right_on=['ibge_6'], how = 'outer')\n",
    "pd_pbf_cadUnico_total = pd.merge(pd_pbf_cadUnico_total, cd_municipio, left_on = ['ibge_6'], \n",
    "         right_on=['ibge_6'], how = 'outer')"
   ]
  },
  {
   "cell_type": "code",
   "execution_count": 10,
   "id": "e03260dd-8532-437b-9605-8b1139be9723",
   "metadata": {},
   "outputs": [
    {
     "data": {
      "text/plain": [
       "Index(['ibge_6', 'qtd_fam_beneficiadas', 'valor_repassado_bf',\n",
       "       'cadunico_tot_fam', 'cadunico_fam_rpc_ate_meio_sm', 'cadunico_fam_pob',\n",
       "       'cadunico_fam_ext_pob', 'cadunico_fam_pob_e_ext_pob', 'ibge_7', 'city'],\n",
       "      dtype='object')"
      ]
     },
     "execution_count": 10,
     "metadata": {},
     "output_type": "execute_result"
    }
   ],
   "source": [
    "# Limpeza da base: retirar as colunas desnecessárias e renomear conforme necessidade\n",
    "pd_pbf_cadUnico = pd_pbf_cadUnico_total.drop(columns = ['anomes_s', 'pbf_vlr_medio_benef_f', 'anomes', 'cadunico_tot_pes', 'cadunico_tot_pes_rpc_ate_meio_sm',\n",
    "                                                        'cadunico_tot_pes_pob', 'cadunico_tot_pes_ext_pob','cadunico_tot_pes_pob_e_ext_pob'])\n",
    "\n",
    "\n",
    "pd_pbf_cadUnico = pd_pbf_cadUnico.rename(columns = {'qtd_familias_beneficiarias_bolsa_familia_s': 'qtd_fam_beneficiadas', \n",
    "                                         'valor_repassado_bolsa_familia_s': 'valor_repassado_bf', 'cadunico_tot_fam_rpc_ate_meio_sm': 'cadunico_fam_rpc_ate_meio_sm', \n",
    "                                         'cadunico_tot_fam_pob': 'cadunico_fam_pob', 'cadunico_tot_fam_ext_pob': 'cadunico_fam_ext_pob', \n",
    "                                         'cadunico_tot_fam_pob_e_ext_pob': 'cadunico_fam_pob_e_ext_pob'})\n",
    "\n",
    "pd_pbf_cadUnico.columns\n"
   ]
  },
  {
   "cell_type": "code",
   "execution_count": 11,
   "id": "3b972e25-1134-4941-b32d-c581ac0dd764",
   "metadata": {},
   "outputs": [],
   "source": [
    "# Cálculo da porcentagem de famílias necessitadas atendidas\n",
    "pd_pbf_cadUnico['pbf_cadUnico_pob_ep'] = pd_pbf_cadUnico['qtd_fam_beneficiadas'] / pd_pbf_cadUnico['cadunico_fam_pob_e_ext_pob'] * 100\n",
    "\n",
    "# Complementarmente, foi realizado também o cálculo sobre todas as famílias cadunico_fam_rpc_ate_meio_sm \n",
    "#(cadunico_tot_fam_rpc_ate_meio_sm: total de famílias com renda per capita até meio salário mínimo)\n",
    "\n",
    "pd_pbf_cadUnico['pbf_cadUnico_ate_meio_sm'] = pd_pbf_cadUnico['qtd_fam_beneficiadas'] / pd_pbf_cadUnico['cadunico_fam_rpc_ate_meio_sm'] * 100\n"
   ]
  },
  {
   "cell_type": "code",
   "execution_count": 12,
   "id": "67c4f99a-9d3b-4625-a511-211e0138f353",
   "metadata": {},
   "outputs": [
    {
     "data": {
      "text/plain": [
       "Index(['ibge_6', 'qtd_fam_beneficiadas', 'valor_repassado_bf',\n",
       "       'cadunico_tot_fam', 'cadunico_fam_rpc_ate_meio_sm', 'cadunico_fam_pob',\n",
       "       'cadunico_fam_ext_pob', 'cadunico_fam_pob_e_ext_pob', 'ibge_7', 'city',\n",
       "       'pbf_cadUnico_pob_ep', 'pbf_cadUnico_ate_meio_sm'],\n",
       "      dtype='object')"
      ]
     },
     "execution_count": 12,
     "metadata": {},
     "output_type": "execute_result"
    }
   ],
   "source": [
    "pd_pbf_cadUnico.columns"
   ]
  },
  {
   "cell_type": "markdown",
   "id": "1d9f5d70-e411-4431-a3f6-9ab097bb695b",
   "metadata": {},
   "source": [
    "### 2. Limpando e Visualizando os Dados \n",
    "- Visualizar os dados para verificar distribuição, identificar outliers"
   ]
  },
  {
   "cell_type": "code",
   "execution_count": 13,
   "id": "f197e199-daa0-4567-8e62-37ff93f4e015",
   "metadata": {},
   "outputs": [
    {
     "data": {
      "text/plain": [
       "[<matplotlib.lines.Line2D at 0x212956a2510>]"
      ]
     },
     "execution_count": 13,
     "metadata": {},
     "output_type": "execute_result"
    },
    {
     "data": {
      "image/png": "[encoded data removed]",
      "text/plain": [
       "<Figure size 640x480 with 1 Axes>"
      ]
     },
     "metadata": {},
     "output_type": "display_data"
    }
   ],
   "source": [
    "# Porcentagem pobreza e extrema pobreza\n",
    "plt.plot(pd_pbf_cadUnico['pbf_cadUnico_pob_ep'])"
   ]
  },
  {
   "cell_type": "code",
   "execution_count": 14,
   "id": "e62fed7b-5769-4a66-96b5-b090eb348046",
   "metadata": {},
   "outputs": [
    {
     "data": {
      "text/plain": [
       "[<matplotlib.lines.Line2D at 0x212958c4ed0>]"
      ]
     },
     "execution_count": 14,
     "metadata": {},
     "output_type": "execute_result"
    },
    {
     "data": {
      "image/png": "[encoded data removed]",
      "text/plain": [
       "<Figure size 640x480 with 1 Axes>"
      ]
     },
     "metadata": {},
     "output_type": "display_data"
    }
   ],
   "source": [
    "# Porcentagem até meio salário mínimo\n",
    "plt.plot(pd_pbf_cadUnico['pbf_cadUnico_ate_meio_sm'])"
   ]
  },
  {
   "cell_type": "code",
   "execution_count": 15,
   "id": "6e4e7d21-ab34-4799-a3f4-58f28ac0cb22",
   "metadata": {},
   "outputs": [
    {
     "data": {
      "text/plain": [
       "<Axes: >"
      ]
     },
     "execution_count": 15,
     "metadata": {},
     "output_type": "execute_result"
    },
    {
     "data": {
      "image/png": "[encoded data removed]",
      "text/plain": [
       "<Figure size 640x480 with 1 Axes>"
      ]
     },
     "metadata": {},
     "output_type": "display_data"
    }
   ],
   "source": [
    "# Pobreza e Extrema Pobreza\n",
    "pd_pbf_cadUnico[['pbf_cadUnico_pob_ep']].boxplot()"
   ]
  },
  {
   "cell_type": "code",
   "execution_count": 16,
   "id": "3cb50550-dca9-4605-9f7a-8273ec0ce5dc",
   "metadata": {},
   "outputs": [],
   "source": [
    "maiores_valores = pd_pbf_cadUnico['pbf_cadUnico_pob_ep'].nlargest(10)\n",
    "menores_valores = pd_pbf_cadUnico['pbf_cadUnico_pob_ep'].nsmallest(10)"
   ]
  },
  {
   "cell_type": "code",
   "execution_count": 17,
   "id": "268dfb2e-006c-499e-b114-421f17003246",
   "metadata": {},
   "outputs": [
    {
     "data": {
      "text/plain": [
       "4988    366.666667\n",
       "4395    215.000000\n",
       "4968    212.500000\n",
       "4211    166.666667\n",
       "4594    158.928571\n",
       "4429    150.000000\n",
       "4889    150.000000\n",
       "3029    148.742138\n",
       "4411    147.540984\n",
       "4585    147.435897\n",
       "Name: pbf_cadUnico_pob_ep, dtype: float64"
      ]
     },
     "execution_count": 17,
     "metadata": {},
     "output_type": "execute_result"
    }
   ],
   "source": [
    "maiores_valores"
   ]
  },
  {
   "cell_type": "code",
   "execution_count": 18,
   "id": "164a091c-a0cb-43c7-bfc4-5120a79aa4f8",
   "metadata": {},
   "outputs": [
    {
     "data": {
      "text/plain": [
       "3583    42.310757\n",
       "4724    60.000000\n",
       "4354    67.582418\n",
       "146     68.718210\n",
       "3255    69.927348\n",
       "1525    70.967742\n",
       "5482    71.731449\n",
       "3214    71.845560\n",
       "3272    71.980676\n",
       "4026    72.463768\n",
       "Name: pbf_cadUnico_pob_ep, dtype: float64"
      ]
     },
     "execution_count": 18,
     "metadata": {},
     "output_type": "execute_result"
    }
   ],
   "source": [
    "menores_valores"
   ]
  },
  {
   "cell_type": "markdown",
   "id": "5a63cb85-23da-4a03-a84f-5ae321e78b26",
   "metadata": {},
   "source": [
    "#### 2a) Teste com remoção de outliers\n",
    "Ao final, decidimos manter todos os valores, sem remoção de dados."
   ]
  },
  {
   "cell_type": "code",
   "execution_count": 19,
   "id": "3b86cced-506e-4288-b7e7-ea9f02166401",
   "metadata": {},
   "outputs": [
    {
     "data": {
      "text/html": [
       "<div>\n",
       "<style scoped>\n",
       "    .dataframe tbody tr th:only-of-type {\n",
       "        vertical-align: middle;\n",
       "    }\n",
       "\n",
       "    .dataframe tbody tr th {\n",
       "        vertical-align: top;\n",
       "    }\n",
       "\n",
       "    .dataframe thead th {\n",
       "        text-align: right;\n",
       "    }\n",
       "</style>\n",
       "<table border=\"1\" class=\"dataframe\">\n",
       "  <thead>\n",
       "    <tr style=\"text-align: right;\">\n",
       "      <th></th>\n",
       "      <th>ibge_6</th>\n",
       "      <th>qtd_fam_beneficiadas</th>\n",
       "      <th>valor_repassado_bf</th>\n",
       "      <th>cadunico_tot_fam</th>\n",
       "      <th>cadunico_fam_rpc_ate_meio_sm</th>\n",
       "      <th>cadunico_fam_pob</th>\n",
       "      <th>cadunico_fam_ext_pob</th>\n",
       "      <th>cadunico_fam_pob_e_ext_pob</th>\n",
       "      <th>ibge_7</th>\n",
       "      <th>pbf_cadUnico_pob_ep</th>\n",
       "      <th>pbf_cadUnico_ate_meio_sm</th>\n",
       "    </tr>\n",
       "  </thead>\n",
       "  <tbody>\n",
       "    <tr>\n",
       "      <th>count</th>\n",
       "      <td>5566.000000</td>\n",
       "      <td>5566.000000</td>\n",
       "      <td>5.566000e+03</td>\n",
       "      <td>5.566000e+03</td>\n",
       "      <td>5.566000e+03</td>\n",
       "      <td>5566.000000</td>\n",
       "      <td>5566.00000</td>\n",
       "      <td>5566.000000</td>\n",
       "      <td>5.566000e+03</td>\n",
       "      <td>5566.000000</td>\n",
       "      <td>5566.000000</td>\n",
       "    </tr>\n",
       "    <tr>\n",
       "      <th>mean</th>\n",
       "      <td>325298.373518</td>\n",
       "      <td>3858.807941</td>\n",
       "      <td>2.619999e+06</td>\n",
       "      <td>7.692228e+03</td>\n",
       "      <td>5.504562e+03</td>\n",
       "      <td>665.042580</td>\n",
       "      <td>3478.54258</td>\n",
       "      <td>4143.585160</td>\n",
       "      <td>3.252988e+06</td>\n",
       "      <td>98.762358</td>\n",
       "      <td>68.315773</td>\n",
       "    </tr>\n",
       "    <tr>\n",
       "      <th>std</th>\n",
       "      <td>98496.815894</td>\n",
       "      <td>16974.403226</td>\n",
       "      <td>1.146328e+07</td>\n",
       "      <td>3.620236e+04</td>\n",
       "      <td>2.535982e+04</td>\n",
       "      <td>3413.882855</td>\n",
       "      <td>16173.09592</td>\n",
       "      <td>19269.841776</td>\n",
       "      <td>9.849682e+05</td>\n",
       "      <td>9.034104</td>\n",
       "      <td>12.525842</td>\n",
       "    </tr>\n",
       "    <tr>\n",
       "      <th>min</th>\n",
       "      <td>110001.000000</td>\n",
       "      <td>6.000000</td>\n",
       "      <td>4.125000e+03</td>\n",
       "      <td>3.700000e+01</td>\n",
       "      <td>2.200000e+01</td>\n",
       "      <td>1.000000</td>\n",
       "      <td>3.00000</td>\n",
       "      <td>7.000000</td>\n",
       "      <td>1.100015e+06</td>\n",
       "      <td>60.000000</td>\n",
       "      <td>11.666667</td>\n",
       "    </tr>\n",
       "    <tr>\n",
       "      <th>25%</th>\n",
       "      <td>251207.750000</td>\n",
       "      <td>521.000000</td>\n",
       "      <td>3.539100e+05</td>\n",
       "      <td>1.295000e+03</td>\n",
       "      <td>8.290000e+02</td>\n",
       "      <td>78.000000</td>\n",
       "      <td>364.25000</td>\n",
       "      <td>528.000000</td>\n",
       "      <td>2.512083e+06</td>\n",
       "      <td>93.724438</td>\n",
       "      <td>59.593022</td>\n",
       "    </tr>\n",
       "    <tr>\n",
       "      <th>50%</th>\n",
       "      <td>314615.000000</td>\n",
       "      <td>1360.500000</td>\n",
       "      <td>9.300275e+05</td>\n",
       "      <td>2.827500e+03</td>\n",
       "      <td>1.947000e+03</td>\n",
       "      <td>183.000000</td>\n",
       "      <td>1091.50000</td>\n",
       "      <td>1384.000000</td>\n",
       "      <td>3.146156e+06</td>\n",
       "      <td>98.593825</td>\n",
       "      <td>68.974458</td>\n",
       "    </tr>\n",
       "    <tr>\n",
       "      <th>75%</th>\n",
       "      <td>411907.500000</td>\n",
       "      <td>3398.250000</td>\n",
       "      <td>2.319625e+06</td>\n",
       "      <td>6.282750e+03</td>\n",
       "      <td>4.538500e+03</td>\n",
       "      <td>465.500000</td>\n",
       "      <td>2985.75000</td>\n",
       "      <td>3473.500000</td>\n",
       "      <td>4.119078e+06</td>\n",
       "      <td>103.293079</td>\n",
       "      <td>78.690709</td>\n",
       "    </tr>\n",
       "    <tr>\n",
       "      <th>max</th>\n",
       "      <td>530010.000000</td>\n",
       "      <td>752313.000000</td>\n",
       "      <td>5.109573e+08</td>\n",
       "      <td>1.842573e+06</td>\n",
       "      <td>1.155211e+06</td>\n",
       "      <td>171399.000000</td>\n",
       "      <td>634135.00000</td>\n",
       "      <td>805534.000000</td>\n",
       "      <td>5.300108e+06</td>\n",
       "      <td>166.666667</td>\n",
       "      <td>94.142094</td>\n",
       "    </tr>\n",
       "  </tbody>\n",
       "</table>\n",
       "</div>"
      ],
      "text/plain": [
       "              ibge_6  qtd_fam_beneficiadas  valor_repassado_bf  \\\n",
       "count    5566.000000           5566.000000        5.566000e+03   \n",
       "mean   325298.373518           3858.807941        2.619999e+06   \n",
       "std     98496.815894          16974.403226        1.146328e+07   \n",
       "min    110001.000000              6.000000        4.125000e+03   \n",
       "25%    251207.750000            521.000000        3.539100e+05   \n",
       "50%    314615.000000           1360.500000        9.300275e+05   \n",
       "75%    411907.500000           3398.250000        2.319625e+06   \n",
       "max    530010.000000         752313.000000        5.109573e+08   \n",
       "\n",
       "       cadunico_tot_fam  cadunico_fam_rpc_ate_meio_sm  cadunico_fam_pob  \\\n",
       "count      5.566000e+03                  5.566000e+03       5566.000000   \n",
       "mean       7.692228e+03                  5.504562e+03        665.042580   \n",
       "std        3.620236e+04                  2.535982e+04       3413.882855   \n",
       "min        3.700000e+01                  2.200000e+01          1.000000   \n",
       "25%        1.295000e+03                  8.290000e+02         78.000000   \n",
       "50%        2.827500e+03                  1.947000e+03        183.000000   \n",
       "75%        6.282750e+03                  4.538500e+03        465.500000   \n",
       "max        1.842573e+06                  1.155211e+06     171399.000000   \n",
       "\n",
       "       cadunico_fam_ext_pob  cadunico_fam_pob_e_ext_pob        ibge_7  \\\n",
       "count            5566.00000                 5566.000000  5.566000e+03   \n",
       "mean             3478.54258                 4143.585160  3.252988e+06   \n",
       "std             16173.09592                19269.841776  9.849682e+05   \n",
       "min                 3.00000                    7.000000  1.100015e+06   \n",
       "25%               364.25000                  528.000000  2.512083e+06   \n",
       "50%              1091.50000                 1384.000000  3.146156e+06   \n",
       "75%              2985.75000                 3473.500000  4.119078e+06   \n",
       "max            634135.00000               805534.000000  5.300108e+06   \n",
       "\n",
       "       pbf_cadUnico_pob_ep  pbf_cadUnico_ate_meio_sm  \n",
       "count          5566.000000               5566.000000  \n",
       "mean             98.762358                 68.315773  \n",
       "std               9.034104                 12.525842  \n",
       "min              60.000000                 11.666667  \n",
       "25%              93.724438                 59.593022  \n",
       "50%              98.593825                 68.974458  \n",
       "75%             103.293079                 78.690709  \n",
       "max             166.666667                 94.142094  "
      ]
     },
     "execution_count": 19,
     "metadata": {},
     "output_type": "execute_result"
    }
   ],
   "source": [
    "retira_maiores_outliers = pd_pbf_cadUnico['pbf_cadUnico_pob_ep'] < 200\n",
    "pd_pbf_cadUnico_semout_mai = pd_pbf_cadUnico[retira_maiores_outliers] \n",
    "\n",
    "retira_menores_outliers = pd_pbf_cadUnico_semout_mai['pbf_cadUnico_pob_ep'] >= 60\n",
    "pd_pbf_cadUnico_semout = pd_pbf_cadUnico_semout_mai[retira_menores_outliers]\n",
    "\n",
    "pd_pbf_cadUnico_semout.describe()"
   ]
  },
  {
   "cell_type": "code",
   "execution_count": 20,
   "id": "d3f90f03-8454-4ca1-9cfa-65448be0ddc4",
   "metadata": {},
   "outputs": [
    {
     "data": {
      "text/plain": [
       "(5566, 12)"
      ]
     },
     "execution_count": 20,
     "metadata": {},
     "output_type": "execute_result"
    }
   ],
   "source": [
    "pd_pbf_cadUnico_semout.shape"
   ]
  },
  {
   "cell_type": "code",
   "execution_count": 21,
   "id": "ecf01f35-5aa1-447c-be0d-043bf8a2a4ff",
   "metadata": {},
   "outputs": [
    {
     "data": {
      "text/plain": [
       "<Axes: >"
      ]
     },
     "execution_count": 21,
     "metadata": {},
     "output_type": "execute_result"
    },
    {
     "data": {
      "image/png": "[encoded data removed]",
      "text/plain": [
       "<Figure size 640x480 with 1 Axes>"
      ]
     },
     "metadata": {},
     "output_type": "display_data"
    }
   ],
   "source": [
    "pd_pbf_cadUnico_semout[['pbf_cadUnico_pob_ep']].boxplot()"
   ]
  },
  {
   "cell_type": "code",
   "execution_count": 22,
   "id": "cb9e9ca7-7786-43ae-99d3-e63d2319d9fa",
   "metadata": {},
   "outputs": [
    {
     "data": {
      "image/png": "[encoded data removed]",
      "text/plain": [
       "<Figure size 1200x700 with 3 Axes>"
      ]
     },
     "metadata": {},
     "output_type": "display_data"
    }
   ],
   "source": [
    "fig = plt.figure(figsize=(12,7))\n",
    "\n",
    "ax1 = plt.subplot(2, 2, 1)\n",
    "ax1.set_title('Matplotlib')\n",
    "ax1.hist(x=pd_pbf_cadUnico_semout['pbf_cadUnico_pob_ep'], bins=5);\n",
    "\n",
    "ax2 = plt.subplot(2, 2, 2, sharey=ax1)\n",
    "ax2.set_title('Pandas')\n",
    "pd_pbf_cadUnico_semout.plot.hist(column='pbf_cadUnico_pob_ep', bins=10, ax=ax2);\n",
    "\n",
    "ax3 = plt.subplot(2, 1, 2)\n",
    "plt.title('Seaborn')\n",
    "\n",
    "sns.histplot(data=pd_pbf_cadUnico_semout, x='pbf_cadUnico_pob_ep', \n",
    "             multiple='stack', bins=10, ax=ax3);\n",
    "             "
   ]
  },
  {
   "cell_type": "markdown",
   "id": "07a9e2b9-3bb5-48bb-b0fd-7159c604b2c9",
   "metadata": {},
   "source": [
    "#### 2b) Criando classes"
   ]
  },
  {
   "cell_type": "code",
   "execution_count": 23,
   "id": "a02b90b5-7c04-44c3-ab04-1c2d86d5ac69",
   "metadata": {},
   "outputs": [],
   "source": [
    "# Criando dataframe apenas com colunas que serão utilizadas\n",
    "pd_indice_pbf_cadunico = pd_pbf_cadUnico[['ibge_6', 'qtd_fam_beneficiadas', 'cadunico_fam_rpc_ate_meio_sm', 'cadunico_fam_pob_e_ext_pob', 'ibge_7', 'city',\n",
    "       'pbf_cadUnico_pob_ep', 'pbf_cadUnico_ate_meio_sm']]"
   ]
  },
  {
   "cell_type": "code",
   "execution_count": 24,
   "id": "75dd0d5f-7632-436b-a0b2-b9d20e63b48a",
   "metadata": {},
   "outputs": [
    {
     "data": {
      "text/html": [
       "<div>\n",
       "<style scoped>\n",
       "    .dataframe tbody tr th:only-of-type {\n",
       "        vertical-align: middle;\n",
       "    }\n",
       "\n",
       "    .dataframe tbody tr th {\n",
       "        vertical-align: top;\n",
       "    }\n",
       "\n",
       "    .dataframe thead th {\n",
       "        text-align: right;\n",
       "    }\n",
       "</style>\n",
       "<table border=\"1\" class=\"dataframe\">\n",
       "  <thead>\n",
       "    <tr style=\"text-align: right;\">\n",
       "      <th></th>\n",
       "      <th>ibge_6</th>\n",
       "      <th>qtd_fam_beneficiadas</th>\n",
       "      <th>cadunico_fam_rpc_ate_meio_sm</th>\n",
       "      <th>cadunico_fam_pob_e_ext_pob</th>\n",
       "      <th>ibge_7</th>\n",
       "      <th>pbf_cadUnico_pob_ep</th>\n",
       "      <th>pbf_cadUnico_ate_meio_sm</th>\n",
       "    </tr>\n",
       "  </thead>\n",
       "  <tbody>\n",
       "    <tr>\n",
       "      <th>count</th>\n",
       "      <td>5570.000000</td>\n",
       "      <td>5570.000000</td>\n",
       "      <td>5.570000e+03</td>\n",
       "      <td>5570.000000</td>\n",
       "      <td>5.570000e+03</td>\n",
       "      <td>5570.000000</td>\n",
       "      <td>5570.000000</td>\n",
       "    </tr>\n",
       "    <tr>\n",
       "      <th>mean</th>\n",
       "      <td>325358.627828</td>\n",
       "      <td>3856.147935</td>\n",
       "      <td>5.500938e+03</td>\n",
       "      <td>4140.841831</td>\n",
       "      <td>3.253591e+06</td>\n",
       "      <td>98.841609</td>\n",
       "      <td>68.288749</td>\n",
       "    </tr>\n",
       "    <tr>\n",
       "      <th>std</th>\n",
       "      <td>98491.033878</td>\n",
       "      <td>16968.597271</td>\n",
       "      <td>2.535108e+04</td>\n",
       "      <td>19263.197401</td>\n",
       "      <td>9.849103e+05</td>\n",
       "      <td>9.987958</td>\n",
       "      <td>12.562562</td>\n",
       "    </tr>\n",
       "    <tr>\n",
       "      <th>min</th>\n",
       "      <td>110001.000000</td>\n",
       "      <td>6.000000</td>\n",
       "      <td>2.200000e+01</td>\n",
       "      <td>3.000000</td>\n",
       "      <td>1.100015e+06</td>\n",
       "      <td>42.310757</td>\n",
       "      <td>11.666667</td>\n",
       "    </tr>\n",
       "    <tr>\n",
       "      <th>25%</th>\n",
       "      <td>251212.500000</td>\n",
       "      <td>520.250000</td>\n",
       "      <td>8.290000e+02</td>\n",
       "      <td>526.000000</td>\n",
       "      <td>2.512126e+06</td>\n",
       "      <td>93.724438</td>\n",
       "      <td>59.576283</td>\n",
       "    </tr>\n",
       "    <tr>\n",
       "      <th>50%</th>\n",
       "      <td>314627.500000</td>\n",
       "      <td>1358.500000</td>\n",
       "      <td>1.943500e+03</td>\n",
       "      <td>1382.500000</td>\n",
       "      <td>3.146280e+06</td>\n",
       "      <td>98.595738</td>\n",
       "      <td>68.963711</td>\n",
       "    </tr>\n",
       "    <tr>\n",
       "      <th>75%</th>\n",
       "      <td>411918.750000</td>\n",
       "      <td>3395.750000</td>\n",
       "      <td>4.536750e+03</td>\n",
       "      <td>3471.500000</td>\n",
       "      <td>4.119190e+06</td>\n",
       "      <td>103.299707</td>\n",
       "      <td>78.684953</td>\n",
       "    </tr>\n",
       "    <tr>\n",
       "      <th>max</th>\n",
       "      <td>530010.000000</td>\n",
       "      <td>752313.000000</td>\n",
       "      <td>1.155211e+06</td>\n",
       "      <td>805534.000000</td>\n",
       "      <td>5.300108e+06</td>\n",
       "      <td>366.666667</td>\n",
       "      <td>94.142094</td>\n",
       "    </tr>\n",
       "  </tbody>\n",
       "</table>\n",
       "</div>"
      ],
      "text/plain": [
       "              ibge_6  qtd_fam_beneficiadas  cadunico_fam_rpc_ate_meio_sm  \\\n",
       "count    5570.000000           5570.000000                  5.570000e+03   \n",
       "mean   325358.627828           3856.147935                  5.500938e+03   \n",
       "std     98491.033878          16968.597271                  2.535108e+04   \n",
       "min    110001.000000              6.000000                  2.200000e+01   \n",
       "25%    251212.500000            520.250000                  8.290000e+02   \n",
       "50%    314627.500000           1358.500000                  1.943500e+03   \n",
       "75%    411918.750000           3395.750000                  4.536750e+03   \n",
       "max    530010.000000         752313.000000                  1.155211e+06   \n",
       "\n",
       "       cadunico_fam_pob_e_ext_pob        ibge_7  pbf_cadUnico_pob_ep  \\\n",
       "count                 5570.000000  5.570000e+03          5570.000000   \n",
       "mean                  4140.841831  3.253591e+06            98.841609   \n",
       "std                  19263.197401  9.849103e+05             9.987958   \n",
       "min                      3.000000  1.100015e+06            42.310757   \n",
       "25%                    526.000000  2.512126e+06            93.724438   \n",
       "50%                   1382.500000  3.146280e+06            98.595738   \n",
       "75%                   3471.500000  4.119190e+06           103.299707   \n",
       "max                 805534.000000  5.300108e+06           366.666667   \n",
       "\n",
       "       pbf_cadUnico_ate_meio_sm  \n",
       "count               5570.000000  \n",
       "mean                  68.288749  \n",
       "std                   12.562562  \n",
       "min                   11.666667  \n",
       "25%                   59.576283  \n",
       "50%                   68.963711  \n",
       "75%                   78.684953  \n",
       "max                   94.142094  "
      ]
     },
     "execution_count": 24,
     "metadata": {},
     "output_type": "execute_result"
    }
   ],
   "source": [
    "pd_indice_pbf_cadunico.describe()"
   ]
  },
  {
   "cell_type": "code",
   "execution_count": 25,
   "id": "10c061b8-9510-4c2d-b87e-06d1e4ae4dea",
   "metadata": {},
   "outputs": [
    {
     "name": "stderr",
     "output_type": "stream",
     "text": [
      "C:\\Users\\DELL\\AppData\\Local\\Temp\\ipykernel_7644\\379573606.py:2: SettingWithCopyWarning:\n",
      "\n",
      "\n",
      "A value is trying to be set on a copy of a slice from a DataFrame.\n",
      "Try using .loc[row_indexer,col_indexer] = value instead\n",
      "\n",
      "See the caveats in the documentation: https://pandas.pydata.org/pandas-docs/stable/user_guide/indexing.html#returning-a-view-versus-a-copy\n",
      "\n"
     ]
    }
   ],
   "source": [
    "# Definindo os intervalos de cada classe\n",
    "pd_indice_pbf_cadunico['indice_bf'] = pd.cut(pd_indice_pbf_cadunico['pbf_cadUnico_pob_ep'], bins = [40, 80, 85, 90, 95, 100, 400]) \n"
   ]
  },
  {
   "cell_type": "code",
   "execution_count": 26,
   "id": "57a92c57-d3ad-4a18-a64a-8f68705915a9",
   "metadata": {},
   "outputs": [
    {
     "data": {
      "text/plain": [
       "Index(['ibge_6', 'qtd_fam_beneficiadas', 'cadunico_fam_rpc_ate_meio_sm',\n",
       "       'cadunico_fam_pob_e_ext_pob', 'ibge_7', 'city', 'pbf_cadUnico_pob_ep',\n",
       "       'pbf_cadUnico_ate_meio_sm', 'indice_bf'],\n",
       "      dtype='object')"
      ]
     },
     "execution_count": 26,
     "metadata": {},
     "output_type": "execute_result"
    }
   ],
   "source": [
    "pd_indice_pbf_cadunico.columns"
   ]
  },
  {
   "cell_type": "code",
   "execution_count": 27,
   "id": "9ae6cee0-7e51-4e96-be04-24fa86a0cfce",
   "metadata": {},
   "outputs": [
    {
     "name": "stderr",
     "output_type": "stream",
     "text": [
      "C:\\Users\\DELL\\AppData\\Local\\Temp\\ipykernel_7644\\963506897.py:15: SettingWithCopyWarning:\n",
      "\n",
      "\n",
      "A value is trying to be set on a copy of a slice from a DataFrame.\n",
      "Try using .loc[row_indexer,col_indexer] = value instead\n",
      "\n",
      "See the caveats in the documentation: https://pandas.pydata.org/pandas-docs/stable/user_guide/indexing.html#returning-a-view-versus-a-copy\n",
      "\n",
      "C:\\Users\\DELL\\AppData\\Local\\Temp\\ipykernel_7644\\963506897.py:17: SettingWithCopyWarning:\n",
      "\n",
      "\n",
      "A value is trying to be set on a copy of a slice from a DataFrame.\n",
      "Try using .loc[row_indexer,col_indexer] = value instead\n",
      "\n",
      "See the caveats in the documentation: https://pandas.pydata.org/pandas-docs/stable/user_guide/indexing.html#returning-a-view-versus-a-copy\n",
      "\n"
     ]
    }
   ],
   "source": [
    "def mapear_valor(valor):\n",
    "    if valor <= 80:\n",
    "        return 1\n",
    "    elif valor <= 85:\n",
    "        return 2\n",
    "    elif valor <= 90:\n",
    "        return 3\n",
    "    elif valor <= 95:\n",
    "        return 4\n",
    "    elif valor <= 100:\n",
    "        return 5\n",
    "    else:\n",
    "        return 6\n",
    "\n",
    "pd_indice_pbf_cadunico['cl_indice_bf'] = pd_pbf_cadUnico['pbf_cadUnico_pob_ep'].astype(float)\n",
    "\n",
    "pd_indice_pbf_cadunico['cl_indice_bf'] = pd_indice_pbf_cadunico['cl_indice_bf'].map(mapear_valor)"
   ]
  },
  {
   "cell_type": "code",
   "execution_count": 28,
   "id": "95b025fd-c406-47e0-8ed9-c74662655355",
   "metadata": {},
   "outputs": [
    {
     "data": {
      "text/html": [
       "<div>\n",
       "<style scoped>\n",
       "    .dataframe tbody tr th:only-of-type {\n",
       "        vertical-align: middle;\n",
       "    }\n",
       "\n",
       "    .dataframe tbody tr th {\n",
       "        vertical-align: top;\n",
       "    }\n",
       "\n",
       "    .dataframe thead th {\n",
       "        text-align: right;\n",
       "    }\n",
       "</style>\n",
       "<table border=\"1\" class=\"dataframe\">\n",
       "  <thead>\n",
       "    <tr style=\"text-align: right;\">\n",
       "      <th></th>\n",
       "      <th>count</th>\n",
       "    </tr>\n",
       "    <tr>\n",
       "      <th>indice_bf</th>\n",
       "      <th></th>\n",
       "    </tr>\n",
       "  </thead>\n",
       "  <tbody>\n",
       "    <tr>\n",
       "      <th>(100, 400]</th>\n",
       "      <td>2314</td>\n",
       "    </tr>\n",
       "    <tr>\n",
       "      <th>(95, 100]</th>\n",
       "      <td>1564</td>\n",
       "    </tr>\n",
       "    <tr>\n",
       "      <th>(90, 95]</th>\n",
       "      <td>947</td>\n",
       "    </tr>\n",
       "    <tr>\n",
       "      <th>(85, 90]</th>\n",
       "      <td>427</td>\n",
       "    </tr>\n",
       "    <tr>\n",
       "      <th>(80, 85]</th>\n",
       "      <td>205</td>\n",
       "    </tr>\n",
       "    <tr>\n",
       "      <th>(40, 80]</th>\n",
       "      <td>113</td>\n",
       "    </tr>\n",
       "  </tbody>\n",
       "</table>\n",
       "</div>"
      ],
      "text/plain": [
       "            count\n",
       "indice_bf        \n",
       "(100, 400]   2314\n",
       "(95, 100]    1564\n",
       "(90, 95]      947\n",
       "(85, 90]      427\n",
       "(80, 85]      205\n",
       "(40, 80]      113"
      ]
     },
     "execution_count": 28,
     "metadata": {},
     "output_type": "execute_result"
    }
   ],
   "source": [
    "# Contando valores de cada classe do índice \n",
    "indice_pbf_cadunico = pd_indice_pbf_cadunico['indice_bf'].value_counts()\n",
    "indice_pbf_cadunico = pd.DataFrame(indice_pbf_cadunico)\n",
    "indice_pbf_cadunico"
   ]
  },
  {
   "cell_type": "code",
   "execution_count": 29,
   "id": "98e3ec4f-7afc-4f05-abcc-63a4c40adced",
   "metadata": {},
   "outputs": [
    {
     "data": {
      "text/html": [
       "<div>\n",
       "<style scoped>\n",
       "    .dataframe tbody tr th:only-of-type {\n",
       "        vertical-align: middle;\n",
       "    }\n",
       "\n",
       "    .dataframe tbody tr th {\n",
       "        vertical-align: top;\n",
       "    }\n",
       "\n",
       "    .dataframe thead th {\n",
       "        text-align: right;\n",
       "    }\n",
       "</style>\n",
       "<table border=\"1\" class=\"dataframe\">\n",
       "  <thead>\n",
       "    <tr style=\"text-align: right;\">\n",
       "      <th></th>\n",
       "      <th>indice_bf</th>\n",
       "      <th>count</th>\n",
       "      <th>Classe</th>\n",
       "    </tr>\n",
       "  </thead>\n",
       "  <tbody>\n",
       "    <tr>\n",
       "      <th>0</th>\n",
       "      <td>(100, 400]</td>\n",
       "      <td>2314</td>\n",
       "      <td>6</td>\n",
       "    </tr>\n",
       "    <tr>\n",
       "      <th>1</th>\n",
       "      <td>(95, 100]</td>\n",
       "      <td>1564</td>\n",
       "      <td>5</td>\n",
       "    </tr>\n",
       "    <tr>\n",
       "      <th>2</th>\n",
       "      <td>(90, 95]</td>\n",
       "      <td>947</td>\n",
       "      <td>4</td>\n",
       "    </tr>\n",
       "    <tr>\n",
       "      <th>3</th>\n",
       "      <td>(85, 90]</td>\n",
       "      <td>427</td>\n",
       "      <td>3</td>\n",
       "    </tr>\n",
       "    <tr>\n",
       "      <th>4</th>\n",
       "      <td>(80, 85]</td>\n",
       "      <td>205</td>\n",
       "      <td>2</td>\n",
       "    </tr>\n",
       "    <tr>\n",
       "      <th>5</th>\n",
       "      <td>(40, 80]</td>\n",
       "      <td>113</td>\n",
       "      <td>1</td>\n",
       "    </tr>\n",
       "  </tbody>\n",
       "</table>\n",
       "</div>"
      ],
      "text/plain": [
       "    indice_bf  count  Classe\n",
       "0  (100, 400]   2314       6\n",
       "1   (95, 100]   1564       5\n",
       "2    (90, 95]    947       4\n",
       "3    (85, 90]    427       3\n",
       "4    (80, 85]    205       2\n",
       "5    (40, 80]    113       1"
      ]
     },
     "execution_count": 29,
     "metadata": {},
     "output_type": "execute_result"
    }
   ],
   "source": [
    "# Atribuindo valor na escala de 1 a 6 para cada classe\n",
    "df_indice_pbf_cadunico = indice_pbf_cadunico.reset_index(drop=False).copy()\n",
    "df_indice_pbf_cadunico['Classe'] = [6, 5, 4, 3, 2, 1]\n",
    "df_indice_pbf_cadunico"
   ]
  },
  {
   "cell_type": "code",
   "execution_count": 50,
   "id": "071760cd-4780-4698-ac76-cdb37cea12d0",
   "metadata": {},
   "outputs": [],
   "source": [
    "df_indice_pbf_cadunico.to_csv('data\\Streamlit\\indice_pbf_cadunico.csv',encoding = 'UTF-8')"
   ]
  },
  {
   "cell_type": "markdown",
   "id": "8dea4f22-c9a7-4171-a68d-fb3c4e831708",
   "metadata": {},
   "source": [
    "#### 2c) Visualizando as classes em gráfico de barras"
   ]
  },
  {
   "cell_type": "code",
   "execution_count": 31,
   "id": "6d4dd6ec-ec51-454a-b1db-3fd2b932ae55",
   "metadata": {},
   "outputs": [
    {
     "name": "stderr",
     "output_type": "stream",
     "text": [
      "C:\\Users\\DELL\\AppData\\Local\\Temp\\ipykernel_7644\\3882941735.py:9: UserWarning:\n",
      "\n",
      "set_ticklabels() should only be used with a fixed number of ticks, i.e. after set_ticks() or using a FixedLocator.\n",
      "\n"
     ]
    },
    {
     "data": {
      "image/png": "[encoded data removed]",
      "text/plain": [
       "<Figure size 640x480 with 1 Axes>"
      ]
     },
     "metadata": {},
     "output_type": "display_data"
    }
   ],
   "source": [
    "fig, ax = plt.subplots()\n",
    "\n",
    "X = df_indice_pbf_cadunico['Classe']\n",
    "Y = df_indice_pbf_cadunico['count']\n",
    "ax.bar(X, Y)\n",
    "\n",
    "plt.title('Setembro de 2023')\n",
    "\n",
    "ax.set_xticklabels(['', '<=80%', '80-85%', '85-90%', '90-95%', '95-100%', '>100%'], \n",
    "                   rotation=0, fontsize=8)\n",
    "\n",
    "ax.set_xlabel('Famílias em Situação de Pobreza/Extrema Pobreza que receberam o Bolsa Família', fontsize=8)\n",
    "\n",
    "ax.set_ylabel('Número de Municípios', fontsize=8)\n",
    "\n",
    "plt.show()\n",
    "\n",
    "\n",
    "\n"
   ]
  },
  {
   "cell_type": "markdown",
   "id": "a376fce2-1c72-445d-9caa-a1f6bdedb5c0",
   "metadata": {},
   "source": [
    "#### 2d) Visualizando em mapas"
   ]
  },
  {
   "cell_type": "code",
   "execution_count": 32,
   "id": "b2b5e150-6856-4abc-ab33-6c6d269d2df8",
   "metadata": {},
   "outputs": [
    {
     "data": {
      "text/html": [
       "<div>\n",
       "<style scoped>\n",
       "    .dataframe tbody tr th:only-of-type {\n",
       "        vertical-align: middle;\n",
       "    }\n",
       "\n",
       "    .dataframe tbody tr th {\n",
       "        vertical-align: top;\n",
       "    }\n",
       "\n",
       "    .dataframe thead th {\n",
       "        text-align: right;\n",
       "    }\n",
       "</style>\n",
       "<table border=\"1\" class=\"dataframe\">\n",
       "  <thead>\n",
       "    <tr style=\"text-align: right;\">\n",
       "      <th></th>\n",
       "      <th>codigo_ibge</th>\n",
       "      <th>nome</th>\n",
       "      <th>latitude</th>\n",
       "      <th>longitude</th>\n",
       "      <th>capital</th>\n",
       "      <th>codigo_uf</th>\n",
       "      <th>siafi_id</th>\n",
       "      <th>ddd</th>\n",
       "      <th>fuso_horario</th>\n",
       "    </tr>\n",
       "  </thead>\n",
       "  <tbody>\n",
       "    <tr>\n",
       "      <th>0</th>\n",
       "      <td>520005</td>\n",
       "      <td>Abadia de Goiás</td>\n",
       "      <td>-16.75730</td>\n",
       "      <td>-49.4412</td>\n",
       "      <td>0</td>\n",
       "      <td>52</td>\n",
       "      <td>1050</td>\n",
       "      <td>62</td>\n",
       "      <td>America/Sao_Paulo</td>\n",
       "    </tr>\n",
       "    <tr>\n",
       "      <th>1</th>\n",
       "      <td>310010</td>\n",
       "      <td>Abadia dos Dourados</td>\n",
       "      <td>-18.48310</td>\n",
       "      <td>-47.3916</td>\n",
       "      <td>0</td>\n",
       "      <td>31</td>\n",
       "      <td>4001</td>\n",
       "      <td>34</td>\n",
       "      <td>America/Sao_Paulo</td>\n",
       "    </tr>\n",
       "    <tr>\n",
       "      <th>2</th>\n",
       "      <td>520010</td>\n",
       "      <td>Abadiânia</td>\n",
       "      <td>-16.19700</td>\n",
       "      <td>-48.7057</td>\n",
       "      <td>0</td>\n",
       "      <td>52</td>\n",
       "      <td>9201</td>\n",
       "      <td>62</td>\n",
       "      <td>America/Sao_Paulo</td>\n",
       "    </tr>\n",
       "    <tr>\n",
       "      <th>3</th>\n",
       "      <td>310020</td>\n",
       "      <td>Abaeté</td>\n",
       "      <td>-19.15510</td>\n",
       "      <td>-45.4444</td>\n",
       "      <td>0</td>\n",
       "      <td>31</td>\n",
       "      <td>4003</td>\n",
       "      <td>37</td>\n",
       "      <td>America/Sao_Paulo</td>\n",
       "    </tr>\n",
       "    <tr>\n",
       "      <th>4</th>\n",
       "      <td>150010</td>\n",
       "      <td>Abaetetuba</td>\n",
       "      <td>-1.72183</td>\n",
       "      <td>-48.8788</td>\n",
       "      <td>0</td>\n",
       "      <td>15</td>\n",
       "      <td>401</td>\n",
       "      <td>91</td>\n",
       "      <td>America/Sao_Paulo</td>\n",
       "    </tr>\n",
       "  </tbody>\n",
       "</table>\n",
       "</div>"
      ],
      "text/plain": [
       "   codigo_ibge                 nome  latitude  longitude  capital  codigo_uf  \\\n",
       "0       520005      Abadia de Goiás -16.75730   -49.4412        0         52   \n",
       "1       310010  Abadia dos Dourados -18.48310   -47.3916        0         31   \n",
       "2       520010            Abadiânia -16.19700   -48.7057        0         52   \n",
       "3       310020               Abaeté -19.15510   -45.4444        0         31   \n",
       "4       150010           Abaetetuba  -1.72183   -48.8788        0         15   \n",
       "\n",
       "   siafi_id  ddd       fuso_horario  \n",
       "0      1050   62  America/Sao_Paulo  \n",
       "1      4001   34  America/Sao_Paulo  \n",
       "2      9201   62  America/Sao_Paulo  \n",
       "3      4003   37  America/Sao_Paulo  \n",
       "4       401   91  America/Sao_Paulo  "
      ]
     },
     "execution_count": 32,
     "metadata": {},
     "output_type": "execute_result"
    }
   ],
   "source": [
    "georreferenciamento_df = pd.read_csv('https://raw.githubusercontent.com/kelvins/Municipios-Brasileiros/main/csv/municipios.csv')\n",
    "\n",
    "#os dados de georreferenciamento tem 7 dígitos (vamos remover o dígito verificador e atualizar o dataframe)\n",
    "georreferenciamento_df['codigo_ibge'] = georreferenciamento_df['codigo_ibge'].astype('str').map(lambda x: x[:-1]).astype('int')\n",
    "\n",
    "georreferenciamento_df.head()"
   ]
  },
  {
   "cell_type": "code",
   "execution_count": 33,
   "id": "6626dc3c-fae0-44d6-93d5-3a39c0dbaf2b",
   "metadata": {},
   "outputs": [
    {
     "data": {
      "text/plain": [
       "Index(['ibge_6', 'qtd_fam_beneficiadas', 'cadunico_fam_rpc_ate_meio_sm',\n",
       "       'cadunico_fam_pob_e_ext_pob', 'ibge_7', 'city', 'pbf_cadUnico_pob_ep',\n",
       "       'pbf_cadUnico_ate_meio_sm', 'indice_bf', 'cl_indice_bf'],\n",
       "      dtype='object')"
      ]
     },
     "execution_count": 33,
     "metadata": {},
     "output_type": "execute_result"
    }
   ],
   "source": [
    "pd_indice_pbf_cadunico.columns"
   ]
  },
  {
   "cell_type": "code",
   "execution_count": 34,
   "id": "0a955241-3623-4c3d-aff8-896ae8eca18e",
   "metadata": {},
   "outputs": [],
   "source": [
    "#cruzamento do dataframe resultados com as informações de georreferenciamento\n",
    "pd_indice_pbf_cadunico_geo = pd.merge(pd_indice_pbf_cadunico[['ibge_6', 'cl_indice_bf']],\n",
    "                         georreferenciamento_df[['codigo_ibge', 'nome', 'latitude', 'longitude']],\n",
    "                         left_on='ibge_6',\n",
    "                         right_on='codigo_ibge',\n",
    "                         how='inner')"
   ]
  },
  {
   "cell_type": "code",
   "execution_count": 52,
   "id": "500616b6-2197-4d9d-8193-bf30a7fbf6a3",
   "metadata": {},
   "outputs": [],
   "source": [
    "pd_indice_pbf_cadunico_geo.to_csv('data\\IndiceGeral\\pd_indice_pbf_cadunico_geo.csv',encoding = 'UTF-8')\n",
    "pd_indice_pbf_cadunico_geo.to_csv('data\\Streamlit\\pd_indice_pbf_cadunico_geo.csv',encoding = 'UTF-8')"
   ]
  },
  {
   "cell_type": "code",
   "execution_count": 35,
   "id": "b2e3d2c3-2ecd-44dc-8932-c510f60fbfac",
   "metadata": {},
   "outputs": [],
   "source": [
    "#puxar a malha geográfica do brasil a nível de município\n",
    "geojson = requests.get(f'http://servicodados.ibge.gov.br/api/v3/malhas/paises/BR?formato=application/vnd.geo+json&qualidade=minima&intrarregiao=municipio').json()\n"
   ]
  },
  {
   "cell_type": "code",
   "execution_count": 36,
   "id": "9c7d4710-f091-4d59-890f-79533e131642",
   "metadata": {},
   "outputs": [],
   "source": [
    "#a malha geográfica do ibge tem 7 dígitos (vamos remover o dígito verificador e atualizar a malha)\n",
    "for feature in geojson['features']:\n",
    "    feature['properties']['codarea'] = feature['properties']['codarea'][:-1]\n",
    "geojson = rewind(geojson, rfc7946=False)"
   ]
  },
  {
   "cell_type": "code",
   "execution_count": 51,
   "id": "68f3ead5-b230-4355-ada3-704f5eec0c84",
   "metadata": {},
   "outputs": [],
   "source": [
    "with open('data\\Streamlit\\geojson', 'w') as arquivo:\n",
    "    json.dump(geojson, arquivo)"
   ]
  },
  {
   "cell_type": "code",
   "execution_count": 37,
   "id": "689a2271-a4f4-4cbe-9994-aed43c181900",
   "metadata": {
    "scrolled": true
   },
   "outputs": [
    {
     "data": {
      "text/html": [
       "<iframe\n",
       "    scrolling=\"no\"\n",
       "    width=\"1020px\"\n",
       "    height=\"820\"\n",
       "    src=\"iframe_figures/figure_37.html\"\n",
       "    frameborder=\"0\"\n",
       "    allowfullscreen\n",
       "></iframe>\n"
      ]
     },
     "metadata": {},
     "output_type": "display_data"
    }
   ],
   "source": [
    "fig = px.choropleth(pd_indice_pbf_cadunico_geo,\n",
    "                    geojson=geojson,\n",
    "                    scope='south america',\n",
    "                    color='cl_indice_bf',\n",
    "                    color_continuous_scale=\"Reds\",\n",
    "                    locations='ibge_6',\n",
    "                    featureidkey='properties.codarea',\n",
    "                    hover_name='nome').update_layout(height=800, width=1000, autosize=False)\n",
    "\n",
    "fig.update_geos(fitbounds=\"locations\", visible=False)\n",
    "\n",
    "fig.update_traces(marker_line_width=0)\n",
    "# Exiba o mapa\n",
    "fig.show()"
   ]
  },
  {
   "cell_type": "code",
   "execution_count": null,
   "id": "ae14c878-e81c-46bd-8fa1-727fac94aa26",
   "metadata": {},
   "outputs": [],
   "source": []
  }
 ],
 "metadata": {
  "kernelspec": {
   "display_name": "Python 3 (ipykernel)",
   "language": "python",
   "name": "python3"
  },
  "language_info": {
   "codemirror_mode": {
    "name": "ipython",
    "version": 3
   },
   "file_extension": ".py",
   "mimetype": "text/x-python",
   "name": "python",
   "nbconvert_exporter": "python",
   "pygments_lexer": "ipython3",
   "version": "3.11.6"
  }
 },
 "nbformat": 4,
 "nbformat_minor": 5
}
