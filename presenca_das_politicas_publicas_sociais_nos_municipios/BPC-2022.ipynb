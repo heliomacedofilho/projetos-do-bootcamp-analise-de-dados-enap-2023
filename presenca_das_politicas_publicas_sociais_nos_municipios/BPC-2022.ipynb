{
 "cells": [
  {
   "cell_type": "code",
   "execution_count": 1,
   "id": "27dcc4ca-7bb7-4ec5-bebb-53388f1aeb0d",
   "metadata": {
    "jupyter": {
     "source_hidden": true
    }
   },
   "outputs": [],
   "source": [
    "#importando as bibliotecas\n",
    "import pandas as pd\n",
    "import matplotlib.pyplot as plt\n",
    "import seaborn as sns\n",
    "import plotly.express as px\n",
    "import pickle\n",
    "import os\n",
    "import requests\n",
    "import plotly.io as pio\n",
    "import math\n",
    "from geojson_rewind import rewind\n",
    "pio.renderers.default = 'iframe'"
   ]
  },
  {
   "cell_type": "code",
   "execution_count": 2,
   "id": "010200bb-dbe7-41a8-b7f5-b587b8864267",
   "metadata": {
    "jupyter": {
     "source_hidden": true
    }
   },
   "outputs": [],
   "source": [
    "#carregando os arquivos\n",
    "df_bpc_2022 = pd.read_csv('https://aplicacoes.mds.gov.br/sagi/servicos/misocial?fq=anomes_s:2022*&fq=tipo_s:mes_mu&wt=csv&q=*&rows=100000000&sort=anomes_s%20asc,%20codigo_ibge%20asc&fl=ibge:codigo_ibge,anomes:anomes_s,bpc_ben:bpc_ben_i,bpc_pcd_ben:bpc_pcd_ben_i,bpc_idoso_ben:bpc_idoso_ben_i,bpc_pcd_val:bpc_pcd_val_s,bpc_idoso_val:bpc_idoso_val_s,bpc_val:bpc_val_s')\n",
    "\n",
    "df_mul_siafi_ibge = pd.read_excel('municipios.xlsx')\n",
    "\n",
    "df_fpm_2022 = pd.read_csv('FPM-por-Municipio.csv', sep = \";\", encoding = 'ISO-8859-1')"
   ]
  },
  {
   "cell_type": "code",
   "execution_count": 3,
   "id": "08be552a-8b27-4e63-8eae-f7239680d68b",
   "metadata": {
    "jupyter": {
     "source_hidden": true
    }
   },
   "outputs": [],
   "source": [
    "#limpando a base de dados do BPC-2022\n",
    "df_bpc_2022['ano'] = df_bpc_2022['anomes'].apply(lambda x: int(str(x)[:4]))\n",
    "df_bpc_2022['mês'] = df_bpc_2022['anomes'].apply(lambda x: int(str(x)[4:]))\n",
    "df_bpc_2022 = df_bpc_2022.drop('anomes', axis=1)\n",
    "df_bpc_2022.rename(columns={'ibge': 'ibge_6'}, inplace=True)\n",
    "\n",
    "\n",
    "df_bpc_por_mul =  df_bpc_2022.groupby('ibge_6').agg(\n",
    "    ano  = ('ano', 'first'),\n",
    "    bpc_ben = ('bpc_ben', 'sum'),\n",
    "    bpc_pcd_ben = ( 'bpc_pcd_ben','sum'),\n",
    "    bpc_idoso_ben = ( 'bpc_idoso_ben','sum'),\n",
    "    bpc_pcd_val = ( 'bpc_pcd_val','sum'),\n",
    "    bpc_idoso_val = ('bpc_idoso_val','sum'),\n",
    "    bpc_val = ('bpc_val', 'sum')\n",
    ")\n",
    "df_bpc_por_mul = df_bpc_por_mul.reset_index()"
   ]
  },
  {
   "cell_type": "code",
   "execution_count": 4,
   "id": "f9b8fcd1-2fe5-4910-8e94-635afc280895",
   "metadata": {
    "jupyter": {
     "source_hidden": true
    },
    "scrolled": true
   },
   "outputs": [
    {
     "data": {
      "text/html": [
       "<div>\n",
       "<style scoped>\n",
       "    .dataframe tbody tr th:only-of-type {\n",
       "        vertical-align: middle;\n",
       "    }\n",
       "\n",
       "    .dataframe tbody tr th {\n",
       "        vertical-align: top;\n",
       "    }\n",
       "\n",
       "    .dataframe thead th {\n",
       "        text-align: right;\n",
       "    }\n",
       "</style>\n",
       "<table border=\"1\" class=\"dataframe\">\n",
       "  <thead>\n",
       "    <tr style=\"text-align: right;\">\n",
       "      <th></th>\n",
       "      <th>COD_MUN</th>\n",
       "      <th>Município - UF</th>\n",
       "      <th>Mês</th>\n",
       "      <th>2022</th>\n",
       "    </tr>\n",
       "  </thead>\n",
       "  <tbody>\n",
       "    <tr>\n",
       "      <th>0</th>\n",
       "      <td>643.0</td>\n",
       "      <td>Acrelândia - AC</td>\n",
       "      <td>1.0</td>\n",
       "      <td>962058.02</td>\n",
       "    </tr>\n",
       "    <tr>\n",
       "      <th>1</th>\n",
       "      <td>643.0</td>\n",
       "      <td>Acrelândia - AC</td>\n",
       "      <td>2.0</td>\n",
       "      <td>1342951.89</td>\n",
       "    </tr>\n",
       "    <tr>\n",
       "      <th>2</th>\n",
       "      <td>643.0</td>\n",
       "      <td>Acrelândia - AC</td>\n",
       "      <td>3.0</td>\n",
       "      <td>814151.92</td>\n",
       "    </tr>\n",
       "    <tr>\n",
       "      <th>3</th>\n",
       "      <td>643.0</td>\n",
       "      <td>Acrelândia - AC</td>\n",
       "      <td>4.0</td>\n",
       "      <td>965058.31</td>\n",
       "    </tr>\n",
       "    <tr>\n",
       "      <th>4</th>\n",
       "      <td>643.0</td>\n",
       "      <td>Acrelândia - AC</td>\n",
       "      <td>5.0</td>\n",
       "      <td>1073531.06</td>\n",
       "    </tr>\n",
       "    <tr>\n",
       "      <th>...</th>\n",
       "      <td>...</td>\n",
       "      <td>...</td>\n",
       "      <td>...</td>\n",
       "      <td>...</td>\n",
       "    </tr>\n",
       "    <tr>\n",
       "      <th>66823</th>\n",
       "      <td>9643.0</td>\n",
       "      <td>Xambioá - TO</td>\n",
       "      <td>8.0</td>\n",
       "      <td>956248.73</td>\n",
       "    </tr>\n",
       "    <tr>\n",
       "      <th>66824</th>\n",
       "      <td>9643.0</td>\n",
       "      <td>Xambioá - TO</td>\n",
       "      <td>9.0</td>\n",
       "      <td>902260.29</td>\n",
       "    </tr>\n",
       "    <tr>\n",
       "      <th>66825</th>\n",
       "      <td>9643.0</td>\n",
       "      <td>Xambioá - TO</td>\n",
       "      <td>10.0</td>\n",
       "      <td>837947.90</td>\n",
       "    </tr>\n",
       "    <tr>\n",
       "      <th>66826</th>\n",
       "      <td>9643.0</td>\n",
       "      <td>Xambioá - TO</td>\n",
       "      <td>11.0</td>\n",
       "      <td>1053147.96</td>\n",
       "    </tr>\n",
       "    <tr>\n",
       "      <th>66827</th>\n",
       "      <td>9643.0</td>\n",
       "      <td>Xambioá - TO</td>\n",
       "      <td>12.0</td>\n",
       "      <td>1763696.62</td>\n",
       "    </tr>\n",
       "  </tbody>\n",
       "</table>\n",
       "<p>66828 rows × 4 columns</p>\n",
       "</div>"
      ],
      "text/plain": [
       "       COD_MUN   Município - UF   Mês        2022\n",
       "0        643.0  Acrelândia - AC   1.0   962058.02\n",
       "1        643.0  Acrelândia - AC   2.0  1342951.89\n",
       "2        643.0  Acrelândia - AC   3.0   814151.92\n",
       "3        643.0  Acrelândia - AC   4.0   965058.31\n",
       "4        643.0  Acrelândia - AC   5.0  1073531.06\n",
       "...        ...              ...   ...         ...\n",
       "66823   9643.0     Xambioá - TO   8.0   956248.73\n",
       "66824   9643.0     Xambioá - TO   9.0   902260.29\n",
       "66825   9643.0     Xambioá - TO  10.0   837947.90\n",
       "66826   9643.0     Xambioá - TO  11.0  1053147.96\n",
       "66827   9643.0     Xambioá - TO  12.0  1763696.62\n",
       "\n",
       "[66828 rows x 4 columns]"
      ]
     },
     "execution_count": 4,
     "metadata": {},
     "output_type": "execute_result"
    }
   ],
   "source": [
    "#limpando a base de dados do FPM\n",
    "\n",
    "df_fpm_2022 = df_fpm_2022.drop(['Município', 'UF', '1996', '1997',\n",
    "       '1998', '1999', '2000', '2001', '2002', '2003', '2004', '2005', '2006',\n",
    "       '2007', '2008', '2009', '2010', '2011', '2012', '2013', '2014', '2015',\n",
    "       '2016', '2017', '2018', '2019', '2020', '2021', '2023'], axis=1)\n",
    "\n",
    "df_fpm_2022 = df_fpm_2022.dropna()\n",
    "\n",
    "df_fpm_2022['2022'] = df_fpm_2022['2022'].str.replace('-','0')\n",
    "\n",
    "df_fpm_2022['2022'] = df_fpm_2022['2022'].str.replace('.','',2)\n",
    "\n",
    "df_fpm_2022['2022'] = df_fpm_2022['2022'].str.replace(',', '.').astype(float)\n",
    "\n",
    "df_fpm_2022"
   ]
  },
  {
   "cell_type": "code",
   "execution_count": 5,
   "id": "11e89bf2-faab-41d2-b7b3-3272eaea2352",
   "metadata": {
    "jupyter": {
     "source_hidden": true
    }
   },
   "outputs": [],
   "source": [
    "#limpando a base de dados com código siafi\n",
    "\n",
    "df_mul_siafi_ibge = df_mul_siafi_ibge.drop(['capital', 'codigo_uf', 'ddd', 'fuso_horario'], axis=1)\n",
    "df_mul_siafi_ibge.rename(columns={'codigo_ibge': 'ibge_6'}, inplace=True)\n",
    "df_mul_siafi_ibge['ibge_6'] = df_mul_siafi_ibge['ibge_6'].apply(lambda x: int(str(x)[:6]))\n"
   ]
  },
  {
   "cell_type": "code",
   "execution_count": 6,
   "id": "8df9cd59-e16a-43e7-aae3-95dcc1534bf3",
   "metadata": {
    "jupyter": {
     "source_hidden": true
    },
    "scrolled": true
   },
   "outputs": [
    {
     "data": {
      "text/html": [
       "<div>\n",
       "<style scoped>\n",
       "    .dataframe tbody tr th:only-of-type {\n",
       "        vertical-align: middle;\n",
       "    }\n",
       "\n",
       "    .dataframe tbody tr th {\n",
       "        vertical-align: top;\n",
       "    }\n",
       "\n",
       "    .dataframe thead th {\n",
       "        text-align: right;\n",
       "    }\n",
       "</style>\n",
       "<table border=\"1\" class=\"dataframe\">\n",
       "  <thead>\n",
       "    <tr style=\"text-align: right;\">\n",
       "      <th></th>\n",
       "      <th>COD_MUN</th>\n",
       "      <th>Município - UF</th>\n",
       "      <th>Mês</th>\n",
       "      <th>2022</th>\n",
       "      <th>ibge_6</th>\n",
       "    </tr>\n",
       "  </thead>\n",
       "  <tbody>\n",
       "    <tr>\n",
       "      <th>0</th>\n",
       "      <td>643.0</td>\n",
       "      <td>Acrelândia - AC</td>\n",
       "      <td>1.0</td>\n",
       "      <td>962058.02</td>\n",
       "      <td>120001</td>\n",
       "    </tr>\n",
       "    <tr>\n",
       "      <th>1</th>\n",
       "      <td>643.0</td>\n",
       "      <td>Acrelândia - AC</td>\n",
       "      <td>2.0</td>\n",
       "      <td>1342951.89</td>\n",
       "      <td>120001</td>\n",
       "    </tr>\n",
       "    <tr>\n",
       "      <th>2</th>\n",
       "      <td>643.0</td>\n",
       "      <td>Acrelândia - AC</td>\n",
       "      <td>3.0</td>\n",
       "      <td>814151.92</td>\n",
       "      <td>120001</td>\n",
       "    </tr>\n",
       "    <tr>\n",
       "      <th>3</th>\n",
       "      <td>643.0</td>\n",
       "      <td>Acrelândia - AC</td>\n",
       "      <td>4.0</td>\n",
       "      <td>965058.31</td>\n",
       "      <td>120001</td>\n",
       "    </tr>\n",
       "    <tr>\n",
       "      <th>4</th>\n",
       "      <td>643.0</td>\n",
       "      <td>Acrelândia - AC</td>\n",
       "      <td>5.0</td>\n",
       "      <td>1073531.06</td>\n",
       "      <td>120001</td>\n",
       "    </tr>\n",
       "    <tr>\n",
       "      <th>...</th>\n",
       "      <td>...</td>\n",
       "      <td>...</td>\n",
       "      <td>...</td>\n",
       "      <td>...</td>\n",
       "      <td>...</td>\n",
       "    </tr>\n",
       "    <tr>\n",
       "      <th>66823</th>\n",
       "      <td>9643.0</td>\n",
       "      <td>Xambioá - TO</td>\n",
       "      <td>8.0</td>\n",
       "      <td>956248.73</td>\n",
       "      <td>172210</td>\n",
       "    </tr>\n",
       "    <tr>\n",
       "      <th>66824</th>\n",
       "      <td>9643.0</td>\n",
       "      <td>Xambioá - TO</td>\n",
       "      <td>9.0</td>\n",
       "      <td>902260.29</td>\n",
       "      <td>172210</td>\n",
       "    </tr>\n",
       "    <tr>\n",
       "      <th>66825</th>\n",
       "      <td>9643.0</td>\n",
       "      <td>Xambioá - TO</td>\n",
       "      <td>10.0</td>\n",
       "      <td>837947.90</td>\n",
       "      <td>172210</td>\n",
       "    </tr>\n",
       "    <tr>\n",
       "      <th>66826</th>\n",
       "      <td>9643.0</td>\n",
       "      <td>Xambioá - TO</td>\n",
       "      <td>11.0</td>\n",
       "      <td>1053147.96</td>\n",
       "      <td>172210</td>\n",
       "    </tr>\n",
       "    <tr>\n",
       "      <th>66827</th>\n",
       "      <td>9643.0</td>\n",
       "      <td>Xambioá - TO</td>\n",
       "      <td>12.0</td>\n",
       "      <td>1763696.62</td>\n",
       "      <td>172210</td>\n",
       "    </tr>\n",
       "  </tbody>\n",
       "</table>\n",
       "<p>66828 rows × 5 columns</p>\n",
       "</div>"
      ],
      "text/plain": [
       "       COD_MUN   Município - UF   Mês        2022  ibge_6\n",
       "0        643.0  Acrelândia - AC   1.0   962058.02  120001\n",
       "1        643.0  Acrelândia - AC   2.0  1342951.89  120001\n",
       "2        643.0  Acrelândia - AC   3.0   814151.92  120001\n",
       "3        643.0  Acrelândia - AC   4.0   965058.31  120001\n",
       "4        643.0  Acrelândia - AC   5.0  1073531.06  120001\n",
       "...        ...              ...   ...         ...     ...\n",
       "66823   9643.0     Xambioá - TO   8.0   956248.73  172210\n",
       "66824   9643.0     Xambioá - TO   9.0   902260.29  172210\n",
       "66825   9643.0     Xambioá - TO  10.0   837947.90  172210\n",
       "66826   9643.0     Xambioá - TO  11.0  1053147.96  172210\n",
       "66827   9643.0     Xambioá - TO  12.0  1763696.62  172210\n",
       "\n",
       "[66828 rows x 5 columns]"
      ]
     },
     "execution_count": 6,
     "metadata": {},
     "output_type": "execute_result"
    }
   ],
   "source": [
    "#incluindo o código IBGE na base do FPM\n",
    "df_fpm_2022['ibge_6'] = df_fpm_2022['COD_MUN'].map(df_mul_siafi_ibge.set_index('siafi_id')['ibge_6'])\n",
    "df_fpm_2022"
   ]
  },
  {
   "cell_type": "code",
   "execution_count": 7,
   "id": "8891f22e-dc1b-42a8-83dd-f86488f1f7b6",
   "metadata": {
    "jupyter": {
     "source_hidden": true
    }
   },
   "outputs": [],
   "source": [
    "#Agrupando a base do FPM por município\n",
    "df_fpm_por_mul =  df_fpm_2022.groupby('ibge_6').agg(\n",
    "    Município_UF = ('Município - UF', 'first'),\n",
    "    repasse_fpm = ('2022', 'sum')\n",
    ")\n",
    "df_fpm_por_mul = df_fpm_por_mul.reset_index()"
   ]
  },
  {
   "cell_type": "code",
   "execution_count": 8,
   "id": "addf8d3b-8090-4752-b1da-bf62478395b3",
   "metadata": {
    "jupyter": {
     "source_hidden": true
    }
   },
   "outputs": [
    {
     "data": {
      "text/html": [
       "<div>\n",
       "<style scoped>\n",
       "    .dataframe tbody tr th:only-of-type {\n",
       "        vertical-align: middle;\n",
       "    }\n",
       "\n",
       "    .dataframe tbody tr th {\n",
       "        vertical-align: top;\n",
       "    }\n",
       "\n",
       "    .dataframe thead th {\n",
       "        text-align: right;\n",
       "    }\n",
       "</style>\n",
       "<table border=\"1\" class=\"dataframe\">\n",
       "  <thead>\n",
       "    <tr style=\"text-align: right;\">\n",
       "      <th></th>\n",
       "      <th>ibge_6</th>\n",
       "      <th>ano</th>\n",
       "      <th>bpc_ben</th>\n",
       "      <th>bpc_pcd_ben</th>\n",
       "      <th>bpc_idoso_ben</th>\n",
       "      <th>bpc_pcd_val</th>\n",
       "      <th>bpc_idoso_val</th>\n",
       "      <th>bpc_val</th>\n",
       "      <th>Município_UF</th>\n",
       "      <th>repasse_fpm</th>\n",
       "    </tr>\n",
       "  </thead>\n",
       "  <tbody>\n",
       "    <tr>\n",
       "      <th>0</th>\n",
       "      <td>110001</td>\n",
       "      <td>2022</td>\n",
       "      <td>6201</td>\n",
       "      <td>5040.0</td>\n",
       "      <td>1161.0</td>\n",
       "      <td>6.112212e+06</td>\n",
       "      <td>1.409569e+06</td>\n",
       "      <td>7.521781e+06</td>\n",
       "      <td>Alta Floresta D'Oeste - RO</td>\n",
       "      <td>2.097031e+07</td>\n",
       "    </tr>\n",
       "    <tr>\n",
       "      <th>1</th>\n",
       "      <td>110002</td>\n",
       "      <td>2022</td>\n",
       "      <td>34260</td>\n",
       "      <td>21807.0</td>\n",
       "      <td>12453.0</td>\n",
       "      <td>2.645554e+07</td>\n",
       "      <td>1.510903e+07</td>\n",
       "      <td>4.156456e+07</td>\n",
       "      <td>Ariquemes - RO</td>\n",
       "      <td>4.793213e+07</td>\n",
       "    </tr>\n",
       "    <tr>\n",
       "      <th>2</th>\n",
       "      <td>110003</td>\n",
       "      <td>2022</td>\n",
       "      <td>967</td>\n",
       "      <td>771.0</td>\n",
       "      <td>196.0</td>\n",
       "      <td>9.356818e+05</td>\n",
       "      <td>2.375551e+05</td>\n",
       "      <td>1.173237e+06</td>\n",
       "      <td>Cabixi - RO</td>\n",
       "      <td>8.987274e+06</td>\n",
       "    </tr>\n",
       "    <tr>\n",
       "      <th>3</th>\n",
       "      <td>110004</td>\n",
       "      <td>2022</td>\n",
       "      <td>24588</td>\n",
       "      <td>16599.0</td>\n",
       "      <td>7989.0</td>\n",
       "      <td>2.012921e+07</td>\n",
       "      <td>9.687653e+06</td>\n",
       "      <td>2.981687e+07</td>\n",
       "      <td>Cacoal - RO</td>\n",
       "      <td>4.194061e+07</td>\n",
       "    </tr>\n",
       "    <tr>\n",
       "      <th>4</th>\n",
       "      <td>110005</td>\n",
       "      <td>2022</td>\n",
       "      <td>5171</td>\n",
       "      <td>4090.0</td>\n",
       "      <td>1081.0</td>\n",
       "      <td>4.958360e+06</td>\n",
       "      <td>1.311391e+06</td>\n",
       "      <td>6.269752e+06</td>\n",
       "      <td>Cerejeiras - RO</td>\n",
       "      <td>1.797455e+07</td>\n",
       "    </tr>\n",
       "    <tr>\n",
       "      <th>...</th>\n",
       "      <td>...</td>\n",
       "      <td>...</td>\n",
       "      <td>...</td>\n",
       "      <td>...</td>\n",
       "      <td>...</td>\n",
       "      <td>...</td>\n",
       "      <td>...</td>\n",
       "      <td>...</td>\n",
       "      <td>...</td>\n",
       "      <td>...</td>\n",
       "    </tr>\n",
       "    <tr>\n",
       "      <th>5565</th>\n",
       "      <td>522200</td>\n",
       "      <td>2022</td>\n",
       "      <td>3732</td>\n",
       "      <td>2194.0</td>\n",
       "      <td>1538.0</td>\n",
       "      <td>2.661577e+06</td>\n",
       "      <td>1.866495e+06</td>\n",
       "      <td>4.528072e+06</td>\n",
       "      <td>Vianópolis - GO</td>\n",
       "      <td>1.883207e+07</td>\n",
       "    </tr>\n",
       "    <tr>\n",
       "      <th>5566</th>\n",
       "      <td>522205</td>\n",
       "      <td>2022</td>\n",
       "      <td>1762</td>\n",
       "      <td>1209.0</td>\n",
       "      <td>553.0</td>\n",
       "      <td>1.465338e+06</td>\n",
       "      <td>6.702474e+05</td>\n",
       "      <td>2.135586e+06</td>\n",
       "      <td>Vicentinópolis - GO</td>\n",
       "      <td>1.129924e+07</td>\n",
       "    </tr>\n",
       "    <tr>\n",
       "      <th>5567</th>\n",
       "      <td>522220</td>\n",
       "      <td>2022</td>\n",
       "      <td>1671</td>\n",
       "      <td>1259.0</td>\n",
       "      <td>412.0</td>\n",
       "      <td>1.527127e+06</td>\n",
       "      <td>5.005573e+05</td>\n",
       "      <td>2.027684e+06</td>\n",
       "      <td>Vila Boa - GO</td>\n",
       "      <td>1.129924e+07</td>\n",
       "    </tr>\n",
       "    <tr>\n",
       "      <th>5568</th>\n",
       "      <td>522230</td>\n",
       "      <td>2022</td>\n",
       "      <td>386</td>\n",
       "      <td>342.0</td>\n",
       "      <td>44.0</td>\n",
       "      <td>4.145098e+05</td>\n",
       "      <td>5.332867e+04</td>\n",
       "      <td>4.678385e+05</td>\n",
       "      <td>Vila Propício - GO</td>\n",
       "      <td>1.129924e+07</td>\n",
       "    </tr>\n",
       "    <tr>\n",
       "      <th>5569</th>\n",
       "      <td>530010</td>\n",
       "      <td>2022</td>\n",
       "      <td>664788</td>\n",
       "      <td>337333.0</td>\n",
       "      <td>327455.0</td>\n",
       "      <td>4.091332e+08</td>\n",
       "      <td>3.972600e+08</td>\n",
       "      <td>8.063933e+08</td>\n",
       "      <td>Brasília - DF</td>\n",
       "      <td>2.526189e+08</td>\n",
       "    </tr>\n",
       "  </tbody>\n",
       "</table>\n",
       "<p>5570 rows × 10 columns</p>\n",
       "</div>"
      ],
      "text/plain": [
       "      ibge_6   ano  bpc_ben  bpc_pcd_ben  bpc_idoso_ben   bpc_pcd_val  \\\n",
       "0     110001  2022     6201       5040.0         1161.0  6.112212e+06   \n",
       "1     110002  2022    34260      21807.0        12453.0  2.645554e+07   \n",
       "2     110003  2022      967        771.0          196.0  9.356818e+05   \n",
       "3     110004  2022    24588      16599.0         7989.0  2.012921e+07   \n",
       "4     110005  2022     5171       4090.0         1081.0  4.958360e+06   \n",
       "...      ...   ...      ...          ...            ...           ...   \n",
       "5565  522200  2022     3732       2194.0         1538.0  2.661577e+06   \n",
       "5566  522205  2022     1762       1209.0          553.0  1.465338e+06   \n",
       "5567  522220  2022     1671       1259.0          412.0  1.527127e+06   \n",
       "5568  522230  2022      386        342.0           44.0  4.145098e+05   \n",
       "5569  530010  2022   664788     337333.0       327455.0  4.091332e+08   \n",
       "\n",
       "      bpc_idoso_val       bpc_val                Município_UF   repasse_fpm  \n",
       "0      1.409569e+06  7.521781e+06  Alta Floresta D'Oeste - RO  2.097031e+07  \n",
       "1      1.510903e+07  4.156456e+07              Ariquemes - RO  4.793213e+07  \n",
       "2      2.375551e+05  1.173237e+06                 Cabixi - RO  8.987274e+06  \n",
       "3      9.687653e+06  2.981687e+07                 Cacoal - RO  4.194061e+07  \n",
       "4      1.311391e+06  6.269752e+06             Cerejeiras - RO  1.797455e+07  \n",
       "...             ...           ...                         ...           ...  \n",
       "5565   1.866495e+06  4.528072e+06             Vianópolis - GO  1.883207e+07  \n",
       "5566   6.702474e+05  2.135586e+06         Vicentinópolis - GO  1.129924e+07  \n",
       "5567   5.005573e+05  2.027684e+06               Vila Boa - GO  1.129924e+07  \n",
       "5568   5.332867e+04  4.678385e+05          Vila Propício - GO  1.129924e+07  \n",
       "5569   3.972600e+08  8.063933e+08               Brasília - DF  2.526189e+08  \n",
       "\n",
       "[5570 rows x 10 columns]"
      ]
     },
     "execution_count": 8,
     "metadata": {},
     "output_type": "execute_result"
    }
   ],
   "source": [
    "# incluindo a base do FPM na base do BPC\n",
    "df_bpc_fpm = pd.merge(df_bpc_por_mul, df_fpm_por_mul, left_on = ['ibge_6'], \n",
    "         right_on=['ibge_6'], how = 'outer')\n",
    "df_bpc_fpm"
   ]
  },
  {
   "cell_type": "code",
   "execution_count": 9,
   "id": "67c3f05e-90d5-4959-a790-c4b9c71624dd",
   "metadata": {
    "jupyter": {
     "source_hidden": true
    }
   },
   "outputs": [
    {
     "data": {
      "text/html": [
       "<div>\n",
       "<style scoped>\n",
       "    .dataframe tbody tr th:only-of-type {\n",
       "        vertical-align: middle;\n",
       "    }\n",
       "\n",
       "    .dataframe tbody tr th {\n",
       "        vertical-align: top;\n",
       "    }\n",
       "\n",
       "    .dataframe thead th {\n",
       "        text-align: right;\n",
       "    }\n",
       "</style>\n",
       "<table border=\"1\" class=\"dataframe\">\n",
       "  <thead>\n",
       "    <tr style=\"text-align: right;\">\n",
       "      <th></th>\n",
       "      <th>ibge_6</th>\n",
       "      <th>ano</th>\n",
       "      <th>bpc_ben</th>\n",
       "      <th>bpc_pcd_ben</th>\n",
       "      <th>bpc_idoso_ben</th>\n",
       "      <th>bpc_pcd_val</th>\n",
       "      <th>bpc_idoso_val</th>\n",
       "      <th>bpc_val</th>\n",
       "      <th>repasse_fpm</th>\n",
       "      <th>fpm_bpc</th>\n",
       "    </tr>\n",
       "  </thead>\n",
       "  <tbody>\n",
       "    <tr>\n",
       "      <th>count</th>\n",
       "      <td>5570.000000</td>\n",
       "      <td>5570.0</td>\n",
       "      <td>5.570000e+03</td>\n",
       "      <td>5570.000000</td>\n",
       "      <td>5.570000e+03</td>\n",
       "      <td>5.570000e+03</td>\n",
       "      <td>5.570000e+03</td>\n",
       "      <td>5.570000e+03</td>\n",
       "      <td>5.569000e+03</td>\n",
       "      <td>5569.000000</td>\n",
       "    </tr>\n",
       "    <tr>\n",
       "      <th>mean</th>\n",
       "      <td>325358.627828</td>\n",
       "      <td>2022.0</td>\n",
       "      <td>1.049955e+04</td>\n",
       "      <td>5700.602513</td>\n",
       "      <td>4.798944e+03</td>\n",
       "      <td>6.913409e+06</td>\n",
       "      <td>5.821921e+06</td>\n",
       "      <td>1.273533e+07</td>\n",
       "      <td>2.627572e+07</td>\n",
       "      <td>25.564295</td>\n",
       "    </tr>\n",
       "    <tr>\n",
       "      <th>std</th>\n",
       "      <td>98491.033878</td>\n",
       "      <td>0.0</td>\n",
       "      <td>5.557197e+04</td>\n",
       "      <td>23579.791456</td>\n",
       "      <td>3.270976e+04</td>\n",
       "      <td>2.859884e+07</td>\n",
       "      <td>3.968308e+07</td>\n",
       "      <td>6.741174e+07</td>\n",
       "      <td>4.491662e+07</td>\n",
       "      <td>29.209449</td>\n",
       "    </tr>\n",
       "    <tr>\n",
       "      <th>min</th>\n",
       "      <td>110001.000000</td>\n",
       "      <td>2022.0</td>\n",
       "      <td>6.000000e+00</td>\n",
       "      <td>3.000000</td>\n",
       "      <td>0.000000e+00</td>\n",
       "      <td>3.636600e+03</td>\n",
       "      <td>0.000000e+00</td>\n",
       "      <td>7.272600e+03</td>\n",
       "      <td>4.817499e+06</td>\n",
       "      <td>0.069398</td>\n",
       "    </tr>\n",
       "    <tr>\n",
       "      <th>25%</th>\n",
       "      <td>251212.500000</td>\n",
       "      <td>2022.0</td>\n",
       "      <td>8.262500e+02</td>\n",
       "      <td>560.250000</td>\n",
       "      <td>2.220000e+02</td>\n",
       "      <td>6.799384e+05</td>\n",
       "      <td>2.693702e+05</td>\n",
       "      <td>1.002636e+06</td>\n",
       "      <td>1.202004e+07</td>\n",
       "      <td>8.046183</td>\n",
       "    </tr>\n",
       "    <tr>\n",
       "      <th>50%</th>\n",
       "      <td>314627.500000</td>\n",
       "      <td>2022.0</td>\n",
       "      <td>2.365000e+03</td>\n",
       "      <td>1533.500000</td>\n",
       "      <td>7.280000e+02</td>\n",
       "      <td>1.858618e+06</td>\n",
       "      <td>8.829464e+05</td>\n",
       "      <td>2.869441e+06</td>\n",
       "      <td>1.660055e+07</td>\n",
       "      <td>17.534930</td>\n",
       "    </tr>\n",
       "    <tr>\n",
       "      <th>75%</th>\n",
       "      <td>411918.750000</td>\n",
       "      <td>2022.0</td>\n",
       "      <td>7.230000e+03</td>\n",
       "      <td>4543.250000</td>\n",
       "      <td>2.511750e+03</td>\n",
       "      <td>5.507725e+06</td>\n",
       "      <td>3.046994e+06</td>\n",
       "      <td>8.770101e+06</td>\n",
       "      <td>2.675561e+07</td>\n",
       "      <td>32.958165</td>\n",
       "    </tr>\n",
       "    <tr>\n",
       "      <th>max</th>\n",
       "      <td>530010.000000</td>\n",
       "      <td>2022.0</td>\n",
       "      <td>2.633985e+06</td>\n",
       "      <td>971999.000000</td>\n",
       "      <td>1.661986e+06</td>\n",
       "      <td>1.179028e+09</td>\n",
       "      <td>2.016367e+09</td>\n",
       "      <td>3.195395e+09</td>\n",
       "      <td>1.263095e+09</td>\n",
       "      <td>722.804191</td>\n",
       "    </tr>\n",
       "  </tbody>\n",
       "</table>\n",
       "</div>"
      ],
      "text/plain": [
       "              ibge_6     ano       bpc_ben    bpc_pcd_ben  bpc_idoso_ben  \\\n",
       "count    5570.000000  5570.0  5.570000e+03    5570.000000   5.570000e+03   \n",
       "mean   325358.627828  2022.0  1.049955e+04    5700.602513   4.798944e+03   \n",
       "std     98491.033878     0.0  5.557197e+04   23579.791456   3.270976e+04   \n",
       "min    110001.000000  2022.0  6.000000e+00       3.000000   0.000000e+00   \n",
       "25%    251212.500000  2022.0  8.262500e+02     560.250000   2.220000e+02   \n",
       "50%    314627.500000  2022.0  2.365000e+03    1533.500000   7.280000e+02   \n",
       "75%    411918.750000  2022.0  7.230000e+03    4543.250000   2.511750e+03   \n",
       "max    530010.000000  2022.0  2.633985e+06  971999.000000   1.661986e+06   \n",
       "\n",
       "        bpc_pcd_val  bpc_idoso_val       bpc_val   repasse_fpm      fpm_bpc  \n",
       "count  5.570000e+03   5.570000e+03  5.570000e+03  5.569000e+03  5569.000000  \n",
       "mean   6.913409e+06   5.821921e+06  1.273533e+07  2.627572e+07    25.564295  \n",
       "std    2.859884e+07   3.968308e+07  6.741174e+07  4.491662e+07    29.209449  \n",
       "min    3.636600e+03   0.000000e+00  7.272600e+03  4.817499e+06     0.069398  \n",
       "25%    6.799384e+05   2.693702e+05  1.002636e+06  1.202004e+07     8.046183  \n",
       "50%    1.858618e+06   8.829464e+05  2.869441e+06  1.660055e+07    17.534930  \n",
       "75%    5.507725e+06   3.046994e+06  8.770101e+06  2.675561e+07    32.958165  \n",
       "max    1.179028e+09   2.016367e+09  3.195395e+09  1.263095e+09   722.804191  "
      ]
     },
     "execution_count": 9,
     "metadata": {},
     "output_type": "execute_result"
    }
   ],
   "source": [
    "#incluindo a coluna da relação FPM com BPC\n",
    "df_bpc_fpm['fpm_bpc'] =df_bpc_fpm['bpc_val']/df_bpc_fpm['repasse_fpm']*100\n",
    "df_bpc_fpm.describe()"
   ]
  },
  {
   "cell_type": "code",
   "execution_count": 10,
   "id": "3e2bef3d-9674-41e0-a096-e283cab35ded",
   "metadata": {
    "jupyter": {
     "source_hidden": true
    }
   },
   "outputs": [
    {
     "data": {
      "image/png": "[encoded data removed]",
      "text/plain": [
       "<Figure size 640x480 with 1 Axes>"
      ]
     },
     "metadata": {},
     "output_type": "display_data"
    }
   ],
   "source": [
    "#visualizando os dados do BPC por FPM\n",
    "plt.plot(df_bpc_fpm['bpc_val']);\n",
    "plt.plot(df_bpc_fpm['repasse_fpm']);"
   ]
  },
  {
   "cell_type": "code",
   "execution_count": 11,
   "id": "dede9b3c-d3ba-42ae-aed2-d44f187a65d3",
   "metadata": {
    "jupyter": {
     "source_hidden": true
    }
   },
   "outputs": [
    {
     "data": {
      "image/png": "[encoded data removed]",
      "text/plain": [
       "<Figure size 640x480 with 1 Axes>"
      ]
     },
     "metadata": {},
     "output_type": "display_data"
    }
   ],
   "source": [
    "#visualizando os dados do índice de BPC por FPM\n",
    "plt.plot(df_bpc_fpm['fpm_bpc']);"
   ]
  },
  {
   "cell_type": "code",
   "execution_count": 12,
   "id": "43b792a3-a5ea-4543-8f94-3358aa0e0831",
   "metadata": {
    "jupyter": {
     "source_hidden": true
    }
   },
   "outputs": [
    {
     "data": {
      "text/plain": [
       "<Axes: >"
      ]
     },
     "execution_count": 12,
     "metadata": {},
     "output_type": "execute_result"
    },
    {
     "data": {
      "image/png": "[encoded data removed]",
      "text/plain": [
       "<Figure size 640x480 with 1 Axes>"
      ]
     },
     "metadata": {},
     "output_type": "display_data"
    }
   ],
   "source": [
    "#visuzalizando outliers\n",
    "df_bpc_fpm[['fpm_bpc']].boxplot()"
   ]
  },
  {
   "cell_type": "code",
   "execution_count": 13,
   "id": "2307bd34-25bf-43ab-be9f-c35e7fec6851",
   "metadata": {
    "jupyter": {
     "source_hidden": true
    }
   },
   "outputs": [
    {
     "name": "stdout",
     "output_type": "stream",
     "text": [
      "ibge_6                   355030\n",
      "ano                        2022\n",
      "bpc_ben                 2633985\n",
      "bpc_pcd_ben            971999.0\n",
      "bpc_idoso_ben         1661986.0\n",
      "bpc_pcd_val       1179028227.29\n",
      "bpc_idoso_val     2016366837.97\n",
      "bpc_val           3195395065.26\n",
      "Município_UF     São Paulo - SP\n",
      "repasse_fpm        442083084.93\n",
      "fpm_bpc              722.804191\n",
      "Name: 3829, dtype: object\n",
      "******************\n",
      "3829    722.804191\n",
      "3199    443.197840\n",
      "3242    364.299404\n",
      "3224    322.933582\n",
      "5569    319.213344\n",
      "3479    311.965582\n",
      "308     284.499485\n",
      "3247    262.812670\n",
      "3375    254.246636\n",
      "160     230.249065\n",
      "Name: fpm_bpc, dtype: float64\n",
      "******************\n",
      "4394    0.069398\n",
      "5088    0.126837\n",
      "702     0.151358\n",
      "4716    0.158546\n",
      "4724    0.158546\n",
      "5077    0.179686\n",
      "4976    0.232534\n",
      "1248    0.232659\n",
      "680     0.244508\n",
      "5034    0.306526\n",
      "Name: fpm_bpc, dtype: float64\n"
     ]
    }
   ],
   "source": [
    "#Maiores e menores valores\n",
    "\n",
    "indice_max = df_bpc_fpm['fpm_bpc'].idxmax()\n",
    "linha_max = df_bpc_fpm.loc[indice_max]\n",
    "print(linha_max)\n",
    "print('******************')\n",
    "maiores_valores = df_bpc_fpm['fpm_bpc'].nlargest(10)\n",
    "menores_valores = df_bpc_fpm['fpm_bpc'].nsmallest(10)\n",
    "print(maiores_valores)\n",
    "print('******************')\n",
    "print(menores_valores)"
   ]
  },
  {
   "cell_type": "code",
   "execution_count": 14,
   "id": "5b521ee2-758b-40c3-b817-06049373d7bb",
   "metadata": {
    "jupyter": {
     "source_hidden": true
    }
   },
   "outputs": [
    {
     "data": {
      "image/png": "[encoded data removed]",
      "text/plain": [
       "<Figure size 1200x700 with 3 Axes>"
      ]
     },
     "metadata": {},
     "output_type": "display_data"
    }
   ],
   "source": [
    "#visualizando dados com outliers\n",
    "fig = plt.figure(figsize=(12,7))\n",
    "\n",
    "ax1 = plt.subplot(2, 2, 1)\n",
    "ax1.set_title('Matplotlib')\n",
    "ax1.hist(x=df_bpc_fpm['fpm_bpc'], bins=10);\n",
    "\n",
    "ax2 = plt.subplot(2, 2, 2, sharey=ax1)\n",
    "ax2.set_title('Pandas')\n",
    "df_bpc_fpm.plot.hist(column='fpm_bpc', bins=10, ax=ax2);\n",
    "\n",
    "ax3 = plt.subplot(2, 1, 2)\n",
    "plt.title('Seaborn')\n",
    "\n",
    "sns.histplot(data=df_bpc_fpm, x='fpm_bpc', \n",
    "             multiple='stack', bins=10, ax=ax3);\n",
    "             \n",
    "# sns.histplot(data=pd_pbf_cadUnico, x='pbf_cadUnico_pob_ep', hue='Data', \n",
    "#             multiple='stack', bins=10, ax=ax3);"
   ]
  },
  {
   "cell_type": "code",
   "execution_count": 15,
   "id": "49b19fa8-3850-4b79-b0f9-18b9e3760077",
   "metadata": {
    "jupyter": {
     "source_hidden": true
    }
   },
   "outputs": [
    {
     "name": "stdout",
     "output_type": "stream",
     "text": [
      "              ibge_6     ano        bpc_ben    bpc_pcd_ben  bpc_idoso_ben  \\\n",
      "count    5442.000000  5442.0    5442.000000    5442.000000    5442.000000   \n",
      "mean   326144.653620  2022.0    7043.433113    4152.483278    2890.949835   \n",
      "std     98481.947062     0.0   22865.673305   11954.111536   11312.935171   \n",
      "min    110001.000000  2022.0       6.000000       3.000000       0.000000   \n",
      "25%    251270.500000  2022.0     807.000000     550.000000     214.000000   \n",
      "50%    314765.000000  2022.0    2281.000000    1472.000000     692.000000   \n",
      "75%    412057.500000  2022.0    6643.750000    4157.750000    2282.500000   \n",
      "max    522230.000000  2022.0  899658.000000  430018.000000  469640.000000   \n",
      "\n",
      "        bpc_pcd_val  bpc_idoso_val       bpc_val   repasse_fpm      fpm_bpc  \n",
      "count  5.442000e+03   5.442000e+03  5.442000e+03  5.442000e+03  5442.000000  \n",
      "mean   5.035849e+06   3.507227e+06  8.543076e+06  2.421729e+07    22.741984  \n",
      "std    1.449736e+07   1.372379e+07  2.773436e+07  3.628848e+07    19.787423  \n",
      "min    3.636600e+03   0.000000e+00  7.272600e+03  4.817499e+06     0.069398  \n",
      "25%    6.666018e+05   2.593693e+05  9.780888e+05  1.198303e+07     7.878325  \n",
      "50%    1.785294e+06   8.399228e+05  2.767057e+06  1.602671e+07    16.960852  \n",
      "75%    5.041639e+06   2.767659e+06  8.055972e+06  2.625685e+07    31.476630  \n",
      "max    5.215209e+08   5.697033e+08  1.091224e+09  1.136785e+09    99.970351  \n"
     ]
    },
    {
     "data": {
      "text/plain": [
       "(5442, 11)"
      ]
     },
     "execution_count": 15,
     "metadata": {},
     "output_type": "execute_result"
    }
   ],
   "source": [
    "#removendo outliers\n",
    "retira_maiores_outliers = df_bpc_fpm['fpm_bpc'] < 100\n",
    "df_sem_maiores_outliers = df_bpc_fpm[retira_maiores_outliers] \n",
    "\n",
    "\n",
    "print(df_sem_maiores_outliers.describe())\n",
    "\n",
    "df_sem_maiores_outliers.shape"
   ]
  },
  {
   "cell_type": "code",
   "execution_count": 16,
   "id": "45a2e0d9-67c7-43f6-b679-64f1c7edeab8",
   "metadata": {
    "jupyter": {
     "source_hidden": true
    }
   },
   "outputs": [
    {
     "data": {
      "text/plain": [
       "<Axes: >"
      ]
     },
     "execution_count": 16,
     "metadata": {},
     "output_type": "execute_result"
    },
    {
     "data": {
      "image/png": "[encoded data removed]",
      "text/plain": [
       "<Figure size 640x480 with 1 Axes>"
      ]
     },
     "metadata": {},
     "output_type": "display_data"
    }
   ],
   "source": [
    "#Verificando outliers\n",
    "df_sem_maiores_outliers[['fpm_bpc']].boxplot()"
   ]
  },
  {
   "cell_type": "code",
   "execution_count": 17,
   "id": "7811e3d2-f31e-41bd-99cb-268c748720b5",
   "metadata": {
    "jupyter": {
     "source_hidden": true
    }
   },
   "outputs": [
    {
     "data": {
      "image/png": "[encoded data removed]",
      "text/plain": [
       "<Figure size 1200x700 with 3 Axes>"
      ]
     },
     "metadata": {},
     "output_type": "display_data"
    }
   ],
   "source": [
    "#Visualizando dados sem outliers\n",
    "fig = plt.figure(figsize=(12,7))\n",
    "\n",
    "ax1 = plt.subplot(2, 2, 1)\n",
    "ax1.set_title('Matplotlib')\n",
    "ax1.hist(x=df_sem_maiores_outliers['fpm_bpc'], bins=10);\n",
    "\n",
    "ax2 = plt.subplot(2, 2, 2, sharey=ax1)\n",
    "ax2.set_title('Pandas')\n",
    "df_bpc_fpm.plot.hist(column='fpm_bpc', bins=10, ax=ax2);\n",
    "\n",
    "ax3 = plt.subplot(2, 1, 2)\n",
    "plt.title('Seaborn')\n",
    "\n",
    "sns.histplot(data=df_sem_maiores_outliers, x='fpm_bpc', \n",
    "             multiple='stack', bins=10, ax=ax3);\n",
    "             \n",
    "# sns.histplot(data=pd_pbf_cadUnico, x='pbf_cadUnico_pob_ep', hue='Data', \n",
    "#             multiple='stack', bins=10, ax=ax3);"
   ]
  },
  {
   "cell_type": "code",
   "execution_count": 18,
   "id": "17c26693-c294-44d0-9e5c-8dbe8ef07f71",
   "metadata": {
    "jupyter": {
     "source_hidden": true
    }
   },
   "outputs": [
    {
     "data": {
      "text/html": [
       "<div>\n",
       "<style scoped>\n",
       "    .dataframe tbody tr th:only-of-type {\n",
       "        vertical-align: middle;\n",
       "    }\n",
       "\n",
       "    .dataframe tbody tr th {\n",
       "        vertical-align: top;\n",
       "    }\n",
       "\n",
       "    .dataframe thead th {\n",
       "        text-align: right;\n",
       "    }\n",
       "</style>\n",
       "<table border=\"1\" class=\"dataframe\">\n",
       "  <thead>\n",
       "    <tr style=\"text-align: right;\">\n",
       "      <th></th>\n",
       "      <th>indice_bpc</th>\n",
       "      <th>count</th>\n",
       "      <th>Classe</th>\n",
       "    </tr>\n",
       "  </thead>\n",
       "  <tbody>\n",
       "    <tr>\n",
       "      <th>0</th>\n",
       "      <td>(0, 10]</td>\n",
       "      <td>1724</td>\n",
       "      <td>1</td>\n",
       "    </tr>\n",
       "    <tr>\n",
       "      <th>1</th>\n",
       "      <td>(10, 20]</td>\n",
       "      <td>1346</td>\n",
       "      <td>2</td>\n",
       "    </tr>\n",
       "    <tr>\n",
       "      <th>2</th>\n",
       "      <td>(20, 30]</td>\n",
       "      <td>898</td>\n",
       "      <td>3</td>\n",
       "    </tr>\n",
       "    <tr>\n",
       "      <th>3</th>\n",
       "      <td>(30, 40]</td>\n",
       "      <td>559</td>\n",
       "      <td>4</td>\n",
       "    </tr>\n",
       "    <tr>\n",
       "      <th>4</th>\n",
       "      <td>(40, 50]</td>\n",
       "      <td>355</td>\n",
       "      <td>5</td>\n",
       "    </tr>\n",
       "    <tr>\n",
       "      <th>5</th>\n",
       "      <td>(50, 60]</td>\n",
       "      <td>209</td>\n",
       "      <td>6</td>\n",
       "    </tr>\n",
       "    <tr>\n",
       "      <th>6</th>\n",
       "      <td>(60, 70]</td>\n",
       "      <td>143</td>\n",
       "      <td>7</td>\n",
       "    </tr>\n",
       "    <tr>\n",
       "      <th>7</th>\n",
       "      <td>(100, 800]</td>\n",
       "      <td>127</td>\n",
       "      <td>11</td>\n",
       "    </tr>\n",
       "    <tr>\n",
       "      <th>8</th>\n",
       "      <td>(70, 80]</td>\n",
       "      <td>95</td>\n",
       "      <td>8</td>\n",
       "    </tr>\n",
       "    <tr>\n",
       "      <th>9</th>\n",
       "      <td>(80, 90]</td>\n",
       "      <td>62</td>\n",
       "      <td>9</td>\n",
       "    </tr>\n",
       "    <tr>\n",
       "      <th>10</th>\n",
       "      <td>(90, 100]</td>\n",
       "      <td>51</td>\n",
       "      <td>10</td>\n",
       "    </tr>\n",
       "  </tbody>\n",
       "</table>\n",
       "</div>"
      ],
      "text/plain": [
       "    indice_bpc  count  Classe\n",
       "0      (0, 10]   1724       1\n",
       "1     (10, 20]   1346       2\n",
       "2     (20, 30]    898       3\n",
       "3     (30, 40]    559       4\n",
       "4     (40, 50]    355       5\n",
       "5     (50, 60]    209       6\n",
       "6     (60, 70]    143       7\n",
       "7   (100, 800]    127      11\n",
       "8     (70, 80]     95       8\n",
       "9     (80, 90]     62       9\n",
       "10   (90, 100]     51      10"
      ]
     },
     "execution_count": 18,
     "metadata": {},
     "output_type": "execute_result"
    }
   ],
   "source": [
    "#discretizando ou criando classes\n",
    "df_bpc_fpm['indice_bpc'] = pd.cut(df_bpc_fpm['fpm_bpc'], bins = [0, 10, 20, 30, 40, 50, 60, 70, 80, 90, 100, 800]) \n",
    "indice_bpc_12c = df_bpc_fpm['indice_bpc'].value_counts()\n",
    "indice_bpc_12c = pd.DataFrame(indice_bpc_12c)\n",
    "df_indice_bpc_12c = indice_bpc_12c.reset_index(drop=False).copy()\n",
    "df_indice_bpc_12c['Classe'] = [1,2,3,4,5,6,7,11,8,9,10]\n",
    "df_indice_bpc_12c"
   ]
  },
  {
   "cell_type": "code",
   "execution_count": 19,
   "id": "72974d30-8cc1-43af-aa78-6dbdf6387c34",
   "metadata": {
    "jupyter": {
     "source_hidden": true
    }
   },
   "outputs": [
    {
     "name": "stderr",
     "output_type": "stream",
     "text": [
      "C:\\Users\\mauri\\AppData\\Local\\Temp\\ipykernel_3540\\4253241273.py:13: UserWarning:\n",
      "\n",
      "set_ticklabels() should only be used with a fixed number of ticks, i.e. after set_ticks() or using a FixedLocator.\n",
      "\n"
     ]
    },
    {
     "data": {
      "image/png": "[encoded data removed]",
      "text/plain": [
       "<Figure size 640x480 with 1 Axes>"
      ]
     },
     "metadata": {},
     "output_type": "display_data"
    }
   ],
   "source": [
    "#visualizando dados por classe\n",
    "fig10c, ax = plt.subplots()\n",
    "\n",
    "X = df_indice_bpc_12c['Classe']\n",
    "Y = df_indice_bpc_12c['count']\n",
    "bars = ax.bar(X, Y)\n",
    "\n",
    "plt.title('Relação entre o BPC e o FPM em 2022')\n",
    "\n",
    "ax.set_xlabel('Relação entre o BPC e o FPM', fontsize=8)\n",
    "ax.set_ylabel('Número de Municípios', fontsize=8)\n",
    "\n",
    "ax.set_xticklabels(['','10-20%', '30-40%', '50-60%', '70-80%', '90-100%'], \n",
    "                   rotation=90, fontsize=6)\n",
    "\n",
    "# Adicione etiquetas em todas as barras\n",
    "for bar in bars:\n",
    "    height = bar.get_height()\n",
    "    ax.annotate(f'{height}',\n",
    "                xy=(bar.get_x() + bar.get_width() / 2, height),\n",
    "                xytext=(0, 3),  # Deslocamento vertical das etiquetas\n",
    "                textcoords=\"offset points\",\n",
    "                ha='center', va='bottom', fontsize=6)\n",
    "\n",
    "plt.xticks(rotation=90, fontsize=6)\n",
    "\n",
    "plt.show()\n"
   ]
  },
  {
   "cell_type": "code",
   "execution_count": 20,
   "id": "087ffac1-0730-4a20-b133-3e7956c74fa7",
   "metadata": {
    "scrolled": true
   },
   "outputs": [],
   "source": [
    "#preparando os dados para visualização dos mapas\n",
    "df_bpc_fpm = pd.merge(df_bpc_fpm,df_mul_siafi_ibge, how='left')\n",
    "df_bpc_fpm = df_bpc_fpm.drop(['nome', 'siafi_id'], axis=1)\n",
    "df_bpc_fpm_limpa = df_bpc_fpm.drop(['ano','bpc_ben','bpc_pcd_ben','bpc_idoso_ben','bpc_pcd_val','bpc_idoso_val'], axis=1)"
   ]
  },
  {
   "cell_type": "code",
   "execution_count": 21,
   "id": "49c62026-931f-4c67-b9fa-43d1f0dbada9",
   "metadata": {
    "jupyter": {
     "source_hidden": true
    }
   },
   "outputs": [
    {
     "data": {
      "text/html": [
       "<iframe\n",
       "    scrolling=\"no\"\n",
       "    width=\"1020px\"\n",
       "    height=\"1020\"\n",
       "    src=\"iframe_figures/figure_21.html\"\n",
       "    frameborder=\"0\"\n",
       "    allowfullscreen\n",
       "></iframe>\n"
      ]
     },
     "metadata": {},
     "output_type": "display_data"
    }
   ],
   "source": [
    "#Visualizando os dados nos mapas\n",
    "import plotly.express as px\n",
    "\n",
    "# Certifique-se de que as colunas 'latitude' e 'longitude' sejam do tipo float (graus decimais)\n",
    "df_bpc_fpm_limpa['latitude'] = df_bpc_fpm_limpa['latitude'].astype(float)\n",
    "df_bpc_fpm_limpa['longitude'] = df_bpc_fpm_limpa['longitude'].astype(float)\n",
    "\n",
    "fig = px.scatter_geo(df_bpc_fpm_limpa,  \n",
    "                     lat='latitude', \n",
    "                     lon='longitude',\n",
    "                     hover_name='Município_UF', \n",
    "                     scope='south america', \n",
    "                     title='Relação entre o BPC e FPM nos municípios em 2022')\n",
    "\n",
    "fig.update_geos(projection_type=\"mercator\")  # Defina a projeção correta (pode variar de acordo com sua região)\n",
    "fig.update_layout(height=1000, width=1000, autosize=False)\n",
    "\n",
    "fig.show()\n"
   ]
  },
  {
   "cell_type": "code",
   "execution_count": 22,
   "id": "16cff208-f041-411e-9b33-d093d5e634df",
   "metadata": {
    "jupyter": {
     "source_hidden": true
    }
   },
   "outputs": [
    {
     "data": {
      "text/html": [
       "<iframe\n",
       "    scrolling=\"no\"\n",
       "    width=\"100%\"\n",
       "    height=\"545px\"\n",
       "    src=\"iframe_figures/figure_22.html\"\n",
       "    frameborder=\"0\"\n",
       "    allowfullscreen\n",
       "></iframe>\n"
      ]
     },
     "metadata": {},
     "output_type": "display_data"
    }
   ],
   "source": [
    "#mapa de calor\n",
    "fig = px.density_mapbox(df_bpc_fpm_limpa,\n",
    "                        hover_name=\"Município_UF\", \n",
    "                        lat='latitude', \n",
    "                        lon='longitude',\n",
    "                        z=\"fpm_bpc\",\n",
    "                        radius=10,\n",
    "                        center={'lat': -15.7975, 'lon': -47.8919}, #latitude/longitude de BSB\n",
    "                        zoom=2,\n",
    "                        mapbox_style=\"stamen-terrain\",\n",
    "                        title='Relação entre o BPC e FPM nos municípios em 2022')\n",
    "fig.show()"
   ]
  }
 ],
 "metadata": {
  "kernelspec": {
   "display_name": "Python 3 (ipykernel)",
   "language": "python",
   "name": "python3"
  },
  "language_info": {
   "codemirror_mode": {
    "name": "ipython",
    "version": 3
   },
   "file_extension": ".py",
   "mimetype": "text/x-python",
   "name": "python",
   "nbconvert_exporter": "python",
   "pygments_lexer": "ipython3",
   "version": "3.11.6"
  }
 },
 "nbformat": 4,
 "nbformat_minor": 5
}
