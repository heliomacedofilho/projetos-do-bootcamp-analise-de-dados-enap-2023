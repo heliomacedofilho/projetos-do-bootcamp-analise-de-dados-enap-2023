{
 "cells": [
  {
   "cell_type": "markdown",
   "id": "5b46ae4a-e8f4-4db9-bdb0-e502536cb121",
   "metadata": {},
   "source": [
    "## IGD - M - Índice de Gestão Descentralizada do Município - Fator 1\n",
    "\n",
    "O Índice de Gestão Descentralizada é um indicador que mede a quantidade de ações realizadas pleo município nas ações de cadastramento, atualização cadastral e de acompanhamento das condicionalidades de educação e saúde. Também verifica se o município aderiu ao Sitena Único de Assistência Social (Suas) e se as gestões e os Conselhos Municipais registraram, no Sistema SuasWeb, as informações relativas à prestação de contas.\n",
    "\n",
    "Com base no valor do IGD-M alcançado, o Ministério do Desenvolvimento e Assistência Social, Família e Combate à Fome (MDS) calcula, a cada mês, quanto cada município vai receber. Os recursos financeiros são repassados apenas para os municípios que tenham alcançado índices mínimos nas taxas e na média das taxas do cálculo do IGD-M, além de terem aderido à gestão do Suas e registrado a comprovação dos gastos e a aprovação da prestação de contas do ano anterior no Sistema SuasWeb.\r\n",
    "\n",
    "O cálculo do IGD-M é composto por quatro fatores de operação: 1) taxa de atualização cadastral e taxas de acompanhamento das condicionalidades da saúde e educação; 2) adesão ao Sistema Único de Assistência Social (Suas); 3) prestação de contas; e 4) parecer das contas do uso dos recursos.\n",
    "\n",
    "Foram utilizados para este exercício penas os dados do Fator de Operação 1, cujo cálculo corresponde à médca aritimética simples das seguintes variáveis:\n",
    "\n",
    "1. **TAC - Taxa de Atualização Cadastral**, calculada pela divisão total de cadastros válidos de famílias com renda \"per capta\" até meio salário mínimo atualizados nos últimos dois anos no Cadastro Único no município; e\n",
    "   \n",
    "2. do resultado do acompanhamento de condicionalidades do programa Bolsa Família, composto pela média aritimética simpes das Taxas de:\n",
    "   \n",
    "   1) **TAFE - Taxa de Acompanhamento da Frequência Escolar**, calculada pela divisão do somatório do número de crianças e adolescentes pertencentes às famílias beneficiários do Programa Bolsa Família com perfil educação no município e com informações da frequência escolar, pelo número total de crianças e adolescentes pertencentes a famílias beneficiárias do Programa Bolsa Família com perfil educação no município; e\n",
    "      \n",
    "   2) **TAAS - Taxa de Acompanhamento da Agenda de Saúde**, calculada pela divisão do público com perfil saúde no município e com informações de acompanhamento de condionalidade de saúde, pelo número total do público com perfil de saúde no município.\n",
    "# Dados utilizados\n",
    "\n",
    "A equipe buscou os dados no Portal de Dados Abertos, na página do Ministério do Desenvolvimento Social (https://dados.gov.br/dados/conjuntos-dados/indice-de-gestao-descentralizada---igd---mi-social), porém apresentaram incompatibilidade. A solução foi extrair os valores do VIS Data, que é um sistema de gerenciamento e visualização dos diversos programas, ações e serviços do Ministério do Desenvolvimento Social https://aplicacoes.cidadania.gov.br/vis/data3/data-explorer.php).\n",
    "\n",
    "Para análise foram utilizados os valores de Fator de Operação 1 do mês de julho de 2023. \n",
    "\n",
    "# Municípios com Fator 1 igual a zero\n",
    "\n",
    "São os municípios que não apresentaram um ou mais dados necessários ao cálculo do Fator de Operação 1.\n"
   ]
  },
  {
   "cell_type": "code",
   "execution_count": 66,
   "id": "3ffc50aa-bd32-4a39-a356-59aed8f1e6ae",
   "metadata": {},
   "outputs": [],
   "source": [
    "import pandas as pd"
   ]
  },
  {
   "cell_type": "code",
   "execution_count": 63,
   "id": "4e6598fc-4dbc-4cc6-9fcf-dcbf93d204fc",
   "metadata": {},
   "outputs": [],
   "source": [
    "caminho_arquivo = 'data/bases/Data_IGD_VIS.csv'"
   ]
  },
  {
   "cell_type": "code",
   "execution_count": 62,
   "id": "7fc38273-e20b-4efd-a054-4214d455f716",
   "metadata": {},
   "outputs": [],
   "source": [
    "#decodificando o arquivo\n",
    "try:\n",
    "    # Tenta abrir com ',' como separador\n",
    "    pd_igd_vis = pd.read_csv(caminho_arquivo, sep = \",\", encoding='UTF-8')\n",
    "except pd.errors.ParserError:\n",
    "    # Se ocorrer um erro, tente abrir com ';' como separador\n",
    "    pd_igd_vis = pd.read_csv(caminho_arquivo, sep = \";\", encoding='UTF8')"
   ]
  },
  {
   "cell_type": "code",
   "execution_count": 4,
   "id": "317940b0-a4c8-4f56-a7fb-564f3bb29a7e",
   "metadata": {},
   "outputs": [
    {
     "data": {
      "text/html": [
       "<div>\n",
       "<style scoped>\n",
       "    .dataframe tbody tr th:only-of-type {\n",
       "        vertical-align: middle;\n",
       "    }\n",
       "\n",
       "    .dataframe tbody tr th {\n",
       "        vertical-align: top;\n",
       "    }\n",
       "\n",
       "    .dataframe thead th {\n",
       "        text-align: right;\n",
       "    }\n",
       "</style>\n",
       "<table border=\"1\" class=\"dataframe\">\n",
       "  <thead>\n",
       "    <tr style=\"text-align: right;\">\n",
       "      <th></th>\n",
       "      <th>Código</th>\n",
       "      <th>Unidade Territorial</th>\n",
       "      <th>UF</th>\n",
       "      <th>Referência</th>\n",
       "      <th>TAFE - Taxa de Acompanhamento de Frequência Escolar</th>\n",
       "      <th>TAAS - Taxa de Acompanhamene Agenda de Saúde</th>\n",
       "      <th>TAC - Taxa de Atualização Cadastral</th>\n",
       "      <th>Fator 1: Operação (  (TAFE+TAAS) / 2 +  TAC / 2)</th>\n",
       "    </tr>\n",
       "  </thead>\n",
       "  <tbody>\n",
       "    <tr>\n",
       "      <th>0</th>\n",
       "      <td>120001</td>\n",
       "      <td>ACRELÂNDIA</td>\n",
       "      <td>AC</td>\n",
       "      <td>jul/23</td>\n",
       "      <td>67,55</td>\n",
       "      <td>94,46</td>\n",
       "      <td>83,01</td>\n",
       "      <td>82</td>\n",
       "    </tr>\n",
       "    <tr>\n",
       "      <th>1</th>\n",
       "      <td>120005</td>\n",
       "      <td>ASSIS BRASIL</td>\n",
       "      <td>AC</td>\n",
       "      <td>jul/23</td>\n",
       "      <td>62,2</td>\n",
       "      <td>74,33</td>\n",
       "      <td>89,93</td>\n",
       "      <td>79,09</td>\n",
       "    </tr>\n",
       "    <tr>\n",
       "      <th>2</th>\n",
       "      <td>120010</td>\n",
       "      <td>BRASILÉIA</td>\n",
       "      <td>AC</td>\n",
       "      <td>jul/23</td>\n",
       "      <td>55,69</td>\n",
       "      <td>84,09</td>\n",
       "      <td>85,07</td>\n",
       "      <td>77,48</td>\n",
       "    </tr>\n",
       "    <tr>\n",
       "      <th>3</th>\n",
       "      <td>120013</td>\n",
       "      <td>BUJARI</td>\n",
       "      <td>AC</td>\n",
       "      <td>jul/23</td>\n",
       "      <td>73,72</td>\n",
       "      <td>83,85</td>\n",
       "      <td>92,11</td>\n",
       "      <td>85,44</td>\n",
       "    </tr>\n",
       "    <tr>\n",
       "      <th>4</th>\n",
       "      <td>120017</td>\n",
       "      <td>CAPIXABA</td>\n",
       "      <td>AC</td>\n",
       "      <td>jul/23</td>\n",
       "      <td>72,2</td>\n",
       "      <td>80,24</td>\n",
       "      <td>88,61</td>\n",
       "      <td>82,41</td>\n",
       "    </tr>\n",
       "  </tbody>\n",
       "</table>\n",
       "</div>"
      ],
      "text/plain": [
       "   Código Unidade Territorial  UF Referência  \\\n",
       "0  120001          ACRELÂNDIA  AC     jul/23   \n",
       "1  120005        ASSIS BRASIL  AC     jul/23   \n",
       "2  120010           BRASILÉIA  AC     jul/23   \n",
       "3  120013              BUJARI  AC     jul/23   \n",
       "4  120017            CAPIXABA  AC     jul/23   \n",
       "\n",
       "  TAFE - Taxa de Acompanhamento de Frequência Escolar  \\\n",
       "0                                              67,55    \n",
       "1                                               62,2    \n",
       "2                                              55,69    \n",
       "3                                              73,72    \n",
       "4                                               72,2    \n",
       "\n",
       "  TAAS - Taxa de Acompanhamene Agenda de Saúde  \\\n",
       "0                                        94,46   \n",
       "1                                        74,33   \n",
       "2                                        84,09   \n",
       "3                                        83,85   \n",
       "4                                        80,24   \n",
       "\n",
       "  TAC - Taxa de Atualização Cadastral  \\\n",
       "0                               83,01   \n",
       "1                               89,93   \n",
       "2                               85,07   \n",
       "3                               92,11   \n",
       "4                               88,61   \n",
       "\n",
       "  Fator 1: Operação (  (TAFE+TAAS) / 2 +  TAC / 2)  \n",
       "0                                               82  \n",
       "1                                            79,09  \n",
       "2                                            77,48  \n",
       "3                                            85,44  \n",
       "4                                            82,41  "
      ]
     },
     "execution_count": 4,
     "metadata": {},
     "output_type": "execute_result"
    }
   ],
   "source": [
    "pd_igd_vis.head()"
   ]
  },
  {
   "cell_type": "code",
   "execution_count": 5,
   "id": "f2d6f071-50b1-4f83-ba9e-f6d7b0a105ea",
   "metadata": {},
   "outputs": [
    {
     "data": {
      "text/plain": [
       "<bound method DataFrame.info of       Código Unidade Territorial  UF Referência  \\\n",
       "0     120001          ACRELÂNDIA  AC     jul/23   \n",
       "1     120005        ASSIS BRASIL  AC     jul/23   \n",
       "2     120010           BRASILÉIA  AC     jul/23   \n",
       "3     120013              BUJARI  AC     jul/23   \n",
       "4     120017            CAPIXABA  AC     jul/23   \n",
       "...      ...                 ...  ..        ...   \n",
       "5565  172120      TOCANTINÓPOLIS  TO     jul/23   \n",
       "5566  172125            TUPIRAMA  TO     jul/23   \n",
       "5567  172130          TUPIRATINS  TO     jul/23   \n",
       "5568  172208        WANDERLÂNDIA  TO     jul/23   \n",
       "5569  172210             XAMBIOÁ  TO     jul/23   \n",
       "\n",
       "     TAFE - Taxa de Acompanhamento de Frequência Escolar  \\\n",
       "0                                                 67,55    \n",
       "1                                                  62,2    \n",
       "2                                                 55,69    \n",
       "3                                                 73,72    \n",
       "4                                                  72,2    \n",
       "...                                                 ...    \n",
       "5565                                              88,01    \n",
       "5566                                              71,34    \n",
       "5567                                              88,62    \n",
       "5568                                              69,51    \n",
       "5569                                              69,38    \n",
       "\n",
       "     TAAS - Taxa de Acompanhamene Agenda de Saúde  \\\n",
       "0                                           94,46   \n",
       "1                                           74,33   \n",
       "2                                           84,09   \n",
       "3                                           83,85   \n",
       "4                                           80,24   \n",
       "...                                           ...   \n",
       "5565                                         88,8   \n",
       "5566                                        89,88   \n",
       "5567                                        70,32   \n",
       "5568                                        83,78   \n",
       "5569                                        78,64   \n",
       "\n",
       "     TAC - Taxa de Atualização Cadastral  \\\n",
       "0                                  83,01   \n",
       "1                                  89,93   \n",
       "2                                  85,07   \n",
       "3                                  92,11   \n",
       "4                                  88,61   \n",
       "...                                  ...   \n",
       "5565                               84,26   \n",
       "5566                               82,82   \n",
       "5567                               67,06   \n",
       "5568                               83,68   \n",
       "5569                               85,08   \n",
       "\n",
       "     Fator 1: Operação (  (TAFE+TAAS) / 2 +  TAC / 2)  \n",
       "0                                                  82  \n",
       "1                                               79,09  \n",
       "2                                               77,48  \n",
       "3                                               85,44  \n",
       "4                                               82,41  \n",
       "...                                               ...  \n",
       "5565                                            86,33  \n",
       "5566                                            81,71  \n",
       "5567                                            73,26  \n",
       "5568                                            80,16  \n",
       "5569                                            79,54  \n",
       "\n",
       "[5570 rows x 8 columns]>"
      ]
     },
     "execution_count": 5,
     "metadata": {},
     "output_type": "execute_result"
    }
   ],
   "source": [
    "pd_igd_vis.info"
   ]
  },
  {
   "cell_type": "code",
   "execution_count": 8,
   "id": "f9fa1762-bafb-4606-94e9-1b9c94db8de4",
   "metadata": {},
   "outputs": [],
   "source": [
    "# removendo colunas que não preciso\n",
    "remover_colunas = ['TAFE - Taxa de Acompanhamento de Frequência Escolar' , 'TAAS - Taxa de Acompanhamene Agenda de Saúde' , 'TAC - Taxa de Atualização Cadastral']\n",
    "df_igd = pd_igd_vis.drop(remover_colunas, axis = 1)"
   ]
  },
  {
   "cell_type": "code",
   "execution_count": 9,
   "id": "281b40c7-5b23-42b7-a254-dda56a37187a",
   "metadata": {},
   "outputs": [],
   "source": [
    "#renomeando colunas\n",
    "df_igd = df_igd.rename(columns={'Código': 'ibge_6', 'Unidade Territorial': 'municipio' , 'Referência' : 'ano_mês' , 'Fator 1: Operação (  (TAFE+TAAS) / 2 +  TAC / 2)': 'igd_m'} )"
   ]
  },
  {
   "cell_type": "code",
   "execution_count": 10,
   "id": "9a03e18a-7875-4320-ac20-c50836126760",
   "metadata": {},
   "outputs": [],
   "source": [
    "#convertendo a coluna igd_m em numeric\n",
    "df_igd['igd_m'] = pd.to_numeric(df_igd['igd_m'].str.replace(',', '.', regex=True), errors='coerce')"
   ]
  },
  {
   "cell_type": "code",
   "execution_count": 13,
   "id": "0e43ff48-9d69-4592-b2ea-49f01f1ddab9",
   "metadata": {},
   "outputs": [
    {
     "name": "stdout",
     "output_type": "stream",
     "text": [
      "      ibge_6             municipio  UF ano_mês  igd_m  Ranking\n",
      "5210  353770               PIACATU  SP  jul/23  99.20      1.0\n",
      "4406  432330           VILA FLORES  RS  jul/23  99.13      2.0\n",
      "4231  431445                PINHAL  RS  jul/23  98.32      3.0\n",
      "5039  352215                ITAOCA  SP  jul/23  97.92      4.0\n",
      "3435  411729        NOVO ITACOLOMI  PR  jul/23  97.67      5.0\n",
      "...      ...                   ...  ..     ...    ...      ...\n",
      "4581  421110         MONTE CASTELO  SC  jul/23    NaN      NaN\n",
      "4933  351330              CRUZÁLIA  SP  jul/23    NaN      NaN\n",
      "5108  352870       MARABÁ PAULISTA  SP  jul/23    NaN      NaN\n",
      "5258  354210                RAFARD  SP  jul/23    NaN      NaN\n",
      "5424  355690  VISTA ALEGRE DO ALTO  SP  jul/23    NaN      NaN\n",
      "\n",
      "[5570 rows x 6 columns]\n"
     ]
    }
   ],
   "source": [
    "# Ordenando o DataFrame pelo valor do IGD em ordem crescente\n",
    "df_igd = df_igd.sort_values(by='igd_m', ascending=False)\n",
    "\n",
    "# Criar uma nova coluna chamada 'Ranking' com o ranking do IGD-M\n",
    "df_igd['Ranking'] = df_igd['igd_m'].rank(ascending=False, method='first')\n",
    "\n",
    "# Exibir o DataFrame\n",
    "print(df_igd)"
   ]
  },
  {
   "cell_type": "code",
   "execution_count": 14,
   "id": "2c19f409-b075-47ef-8fbc-a6bbcb7644f1",
   "metadata": {},
   "outputs": [],
   "source": [
    "#tranformando os valores nulos em zero\n",
    "df_igd ['igd_m'] = df_igd ['igd_m']. fillna(0)"
   ]
  },
  {
   "cell_type": "code",
   "execution_count": 15,
   "id": "16bd659e-6ea1-43bc-909a-496f7a23b771",
   "metadata": {},
   "outputs": [
    {
     "data": {
      "text/html": [
       "<div>\n",
       "<style scoped>\n",
       "    .dataframe tbody tr th:only-of-type {\n",
       "        vertical-align: middle;\n",
       "    }\n",
       "\n",
       "    .dataframe tbody tr th {\n",
       "        vertical-align: top;\n",
       "    }\n",
       "\n",
       "    .dataframe thead th {\n",
       "        text-align: right;\n",
       "    }\n",
       "</style>\n",
       "<table border=\"1\" class=\"dataframe\">\n",
       "  <thead>\n",
       "    <tr style=\"text-align: right;\">\n",
       "      <th></th>\n",
       "      <th>ibge_6</th>\n",
       "      <th>municipio</th>\n",
       "      <th>UF</th>\n",
       "      <th>ano_mês</th>\n",
       "      <th>igd_m</th>\n",
       "      <th>Ranking</th>\n",
       "    </tr>\n",
       "  </thead>\n",
       "  <tbody>\n",
       "    <tr>\n",
       "      <th>4581</th>\n",
       "      <td>421110</td>\n",
       "      <td>MONTE CASTELO</td>\n",
       "      <td>SC</td>\n",
       "      <td>jul/23</td>\n",
       "      <td>0.0</td>\n",
       "      <td>NaN</td>\n",
       "    </tr>\n",
       "    <tr>\n",
       "      <th>4933</th>\n",
       "      <td>351330</td>\n",
       "      <td>CRUZÁLIA</td>\n",
       "      <td>SP</td>\n",
       "      <td>jul/23</td>\n",
       "      <td>0.0</td>\n",
       "      <td>NaN</td>\n",
       "    </tr>\n",
       "    <tr>\n",
       "      <th>5108</th>\n",
       "      <td>352870</td>\n",
       "      <td>MARABÁ PAULISTA</td>\n",
       "      <td>SP</td>\n",
       "      <td>jul/23</td>\n",
       "      <td>0.0</td>\n",
       "      <td>NaN</td>\n",
       "    </tr>\n",
       "    <tr>\n",
       "      <th>5258</th>\n",
       "      <td>354210</td>\n",
       "      <td>RAFARD</td>\n",
       "      <td>SP</td>\n",
       "      <td>jul/23</td>\n",
       "      <td>0.0</td>\n",
       "      <td>NaN</td>\n",
       "    </tr>\n",
       "    <tr>\n",
       "      <th>5424</th>\n",
       "      <td>355690</td>\n",
       "      <td>VISTA ALEGRE DO ALTO</td>\n",
       "      <td>SP</td>\n",
       "      <td>jul/23</td>\n",
       "      <td>0.0</td>\n",
       "      <td>NaN</td>\n",
       "    </tr>\n",
       "  </tbody>\n",
       "</table>\n",
       "</div>"
      ],
      "text/plain": [
       "      ibge_6             municipio  UF ano_mês  igd_m  Ranking\n",
       "4581  421110         MONTE CASTELO  SC  jul/23    0.0      NaN\n",
       "4933  351330              CRUZÁLIA  SP  jul/23    0.0      NaN\n",
       "5108  352870       MARABÁ PAULISTA  SP  jul/23    0.0      NaN\n",
       "5258  354210                RAFARD  SP  jul/23    0.0      NaN\n",
       "5424  355690  VISTA ALEGRE DO ALTO  SP  jul/23    0.0      NaN"
      ]
     },
     "execution_count": 15,
     "metadata": {},
     "output_type": "execute_result"
    }
   ],
   "source": [
    "df_igd.tail()"
   ]
  },
  {
   "cell_type": "code",
   "execution_count": 16,
   "id": "3c7fbba5-c1b4-45b8-9cee-1eb7a82db702",
   "metadata": {},
   "outputs": [
    {
     "name": "stdout",
     "output_type": "stream",
     "text": [
      "<class 'pandas.core.frame.DataFrame'>\n",
      "Index: 5570 entries, 5210 to 5424\n",
      "Data columns (total 6 columns):\n",
      " #   Column     Non-Null Count  Dtype  \n",
      "---  ------     --------------  -----  \n",
      " 0   ibge_6     5570 non-null   int64  \n",
      " 1   municipio  5570 non-null   object \n",
      " 2   UF         5570 non-null   object \n",
      " 3   ano_mês    5570 non-null   object \n",
      " 4   igd_m      5570 non-null   float64\n",
      " 5   Ranking    5543 non-null   float64\n",
      "dtypes: float64(2), int64(1), object(3)\n",
      "memory usage: 304.6+ KB\n"
     ]
    }
   ],
   "source": [
    "#Vou visualizar novamente meus dados para entender de que forma eu posso agrupá-los\n",
    "df_igd.info()"
   ]
  },
  {
   "cell_type": "code",
   "execution_count": 17,
   "id": "7b2dcb4f-35b5-4be3-b128-bd668c9c3cba",
   "metadata": {},
   "outputs": [
    {
     "name": "stdout",
     "output_type": "stream",
     "text": [
      "Número de linhas com valor zero na coluna:  27\n",
      "      ibge_6              municipio  UF ano_mês  igd_m  Ranking\n",
      "144   130130                CODAJÁS  AM  jul/23    0.0      NaN\n",
      "154   130200             ITAPIRANGA  AM  jul/23    0.0      NaN\n",
      "228   290220                ARAMARI  BA  jul/23    0.0      NaN\n",
      "303   290830   CONCEIÇÃO DO ALMEIDA  BA  jul/23    0.0      NaN\n",
      "306   290860                  CONDE  BA  jul/23    0.0      NaN\n",
      "359   291310                IBITITÁ  BA  jul/23    0.0      NaN\n",
      "423   291860               JUSSIAPE  BA  jul/23    0.0      NaN\n",
      "574   293030          SERRA DOURADA  BA  jul/23    0.0      NaN\n",
      "2432  150110                  BAGRE  PA  jul/23    0.0      NaN\n",
      "2434  150125                BANNACH  PA  jul/23    0.0      NaN\n",
      "2540  150746      SÃO JOÃO DA PONTA  PA  jul/23    0.0      NaN\n",
      "3742  240520                JANDUÍS  RN  jul/23    0.0      NaN\n",
      "3941  430107        ARROIO DO PADRE  RS  jul/23    0.0      NaN\n",
      "4037  430593          CORONEL PILAR  RS  jul/23    0.0      NaN\n",
      "4094  430865              GARRUCHOS  RS  jul/23    0.0      NaN\n",
      "4117  430995             IBIRAPUITÃ  RS  jul/23    0.0      NaN\n",
      "4192  431295         NOVA BOA VISTA  RS  jul/23    0.0      NaN\n",
      "4202  431335       NOVA ROMA DO SUL  RS  jul/23    0.0      NaN\n",
      "4232  431446        PINHAL DA SERRA  RS  jul/23    0.0      NaN\n",
      "4322  431912  SÃO MARTINHO DA SERRA  RS  jul/23    0.0      NaN\n",
      "4390  432235         UNIÃO DA SERRA  RS  jul/23    0.0      NaN\n",
      "4396  432254              VALE REAL  RS  jul/23    0.0      NaN\n",
      "4581  421110          MONTE CASTELO  SC  jul/23    0.0      NaN\n",
      "4933  351330               CRUZÁLIA  SP  jul/23    0.0      NaN\n",
      "5108  352870        MARABÁ PAULISTA  SP  jul/23    0.0      NaN\n",
      "5258  354210                 RAFARD  SP  jul/23    0.0      NaN\n",
      "5424  355690   VISTA ALEGRE DO ALTO  SP  jul/23    0.0      NaN\n"
     ]
    }
   ],
   "source": [
    "# verificando quantas linhas temos com valor zero e quais municípios são\n",
    "contagem_zeros = (df_igd['igd_m'] == 0).sum()\n",
    "\n",
    "print(\"Número de linhas com valor zero na coluna: \", contagem_zeros)\n",
    "\n",
    "linhas_com_zero = df_igd.loc[df_igd['igd_m'] == 0]\n",
    "\n",
    "print(linhas_com_zero)"
   ]
  },
  {
   "cell_type": "code",
   "execution_count": 18,
   "id": "9534e465-6e5b-489b-9aa0-eb4d2a78ef2a",
   "metadata": {},
   "outputs": [],
   "source": [
    "#criando um gráfico de barras com os dez munícipios com menor IGD-M\n",
    "\n",
    "import matplotlib.pyplot as plt\n",
    "\n",
    "# Ordeando os valores de 'igd_m' em ordem decrescente para os 10 municipios com menor taxa\n",
    "top_10_municipios_menor = df_igd.sort_values(by='igd_m', ascending=True).head(10)"
   ]
  },
  {
   "cell_type": "code",
   "execution_count": 19,
   "id": "31e6940e-21be-443e-9390-1ce686d55bef",
   "metadata": {},
   "outputs": [
    {
     "data": {
      "text/html": [
       "<div>\n",
       "<style scoped>\n",
       "    .dataframe tbody tr th:only-of-type {\n",
       "        vertical-align: middle;\n",
       "    }\n",
       "\n",
       "    .dataframe tbody tr th {\n",
       "        vertical-align: top;\n",
       "    }\n",
       "\n",
       "    .dataframe thead th {\n",
       "        text-align: right;\n",
       "    }\n",
       "</style>\n",
       "<table border=\"1\" class=\"dataframe\">\n",
       "  <thead>\n",
       "    <tr style=\"text-align: right;\">\n",
       "      <th></th>\n",
       "      <th>ibge_6</th>\n",
       "      <th>municipio</th>\n",
       "      <th>UF</th>\n",
       "      <th>ano_mês</th>\n",
       "      <th>igd_m</th>\n",
       "      <th>Ranking</th>\n",
       "    </tr>\n",
       "  </thead>\n",
       "  <tbody>\n",
       "    <tr>\n",
       "      <th>5424</th>\n",
       "      <td>355690</td>\n",
       "      <td>VISTA ALEGRE DO ALTO</td>\n",
       "      <td>SP</td>\n",
       "      <td>jul/23</td>\n",
       "      <td>0.0</td>\n",
       "      <td>NaN</td>\n",
       "    </tr>\n",
       "    <tr>\n",
       "      <th>144</th>\n",
       "      <td>130130</td>\n",
       "      <td>CODAJÁS</td>\n",
       "      <td>AM</td>\n",
       "      <td>jul/23</td>\n",
       "      <td>0.0</td>\n",
       "      <td>NaN</td>\n",
       "    </tr>\n",
       "    <tr>\n",
       "      <th>154</th>\n",
       "      <td>130200</td>\n",
       "      <td>ITAPIRANGA</td>\n",
       "      <td>AM</td>\n",
       "      <td>jul/23</td>\n",
       "      <td>0.0</td>\n",
       "      <td>NaN</td>\n",
       "    </tr>\n",
       "    <tr>\n",
       "      <th>228</th>\n",
       "      <td>290220</td>\n",
       "      <td>ARAMARI</td>\n",
       "      <td>BA</td>\n",
       "      <td>jul/23</td>\n",
       "      <td>0.0</td>\n",
       "      <td>NaN</td>\n",
       "    </tr>\n",
       "    <tr>\n",
       "      <th>303</th>\n",
       "      <td>290830</td>\n",
       "      <td>CONCEIÇÃO DO ALMEIDA</td>\n",
       "      <td>BA</td>\n",
       "      <td>jul/23</td>\n",
       "      <td>0.0</td>\n",
       "      <td>NaN</td>\n",
       "    </tr>\n",
       "    <tr>\n",
       "      <th>306</th>\n",
       "      <td>290860</td>\n",
       "      <td>CONDE</td>\n",
       "      <td>BA</td>\n",
       "      <td>jul/23</td>\n",
       "      <td>0.0</td>\n",
       "      <td>NaN</td>\n",
       "    </tr>\n",
       "    <tr>\n",
       "      <th>359</th>\n",
       "      <td>291310</td>\n",
       "      <td>IBITITÁ</td>\n",
       "      <td>BA</td>\n",
       "      <td>jul/23</td>\n",
       "      <td>0.0</td>\n",
       "      <td>NaN</td>\n",
       "    </tr>\n",
       "    <tr>\n",
       "      <th>423</th>\n",
       "      <td>291860</td>\n",
       "      <td>JUSSIAPE</td>\n",
       "      <td>BA</td>\n",
       "      <td>jul/23</td>\n",
       "      <td>0.0</td>\n",
       "      <td>NaN</td>\n",
       "    </tr>\n",
       "    <tr>\n",
       "      <th>574</th>\n",
       "      <td>293030</td>\n",
       "      <td>SERRA DOURADA</td>\n",
       "      <td>BA</td>\n",
       "      <td>jul/23</td>\n",
       "      <td>0.0</td>\n",
       "      <td>NaN</td>\n",
       "    </tr>\n",
       "    <tr>\n",
       "      <th>2432</th>\n",
       "      <td>150110</td>\n",
       "      <td>BAGRE</td>\n",
       "      <td>PA</td>\n",
       "      <td>jul/23</td>\n",
       "      <td>0.0</td>\n",
       "      <td>NaN</td>\n",
       "    </tr>\n",
       "  </tbody>\n",
       "</table>\n",
       "</div>"
      ],
      "text/plain": [
       "      ibge_6             municipio  UF ano_mês  igd_m  Ranking\n",
       "5424  355690  VISTA ALEGRE DO ALTO  SP  jul/23    0.0      NaN\n",
       "144   130130               CODAJÁS  AM  jul/23    0.0      NaN\n",
       "154   130200            ITAPIRANGA  AM  jul/23    0.0      NaN\n",
       "228   290220               ARAMARI  BA  jul/23    0.0      NaN\n",
       "303   290830  CONCEIÇÃO DO ALMEIDA  BA  jul/23    0.0      NaN\n",
       "306   290860                 CONDE  BA  jul/23    0.0      NaN\n",
       "359   291310               IBITITÁ  BA  jul/23    0.0      NaN\n",
       "423   291860              JUSSIAPE  BA  jul/23    0.0      NaN\n",
       "574   293030         SERRA DOURADA  BA  jul/23    0.0      NaN\n",
       "2432  150110                 BAGRE  PA  jul/23    0.0      NaN"
      ]
     },
     "execution_count": 19,
     "metadata": {},
     "output_type": "execute_result"
    }
   ],
   "source": [
    "#nenhum munícipio tem igd_m, então o grafico fica vazio\n",
    "top_10_municipios_menor"
   ]
  },
  {
   "cell_type": "code",
   "execution_count": 20,
   "id": "7b25e3ce-9028-4cb1-9ff7-078a23f25271",
   "metadata": {},
   "outputs": [
    {
     "data": {
      "image/png": "[encoded data removed]",
      "text/plain": [
       "<Figure size 800x400 with 1 Axes>"
      ]
     },
     "metadata": {},
     "output_type": "display_data"
    }
   ],
   "source": [
    "fig, ax = plt.subplots(nrows=1, ncols=1, figsize=(8, 4))\n",
    "\n",
    "# Plota o gráfico de barras horizontais no subplot 'ax'\n",
    "ax.barh(top_10_municipios_menor['municipio'], top_10_municipios_menor['igd_m'], color='#6B2D58')\n",
    "\n",
    "# Configurações do subplot 'ax'\n",
    "ax.set_xlabel('igd_m')\n",
    "ax.set_ylabel('municipio')\n",
    "ax.set_title('10 municípios com menor IGD-M')\n",
    "ax.tick_params(axis='x')  # Rotaciona os rótulos do eixo x\n",
    "\n",
    "# Exibe a figura\n",
    "plt.show()"
   ]
  },
  {
   "cell_type": "code",
   "execution_count": 21,
   "id": "66e8aba3-bb36-4aa5-8eaa-6a87bddcaada",
   "metadata": {},
   "outputs": [
    {
     "data": {
      "image/png": "[encoded data removed]",
      "text/plain": [
       "<Figure size 800x400 with 1 Axes>"
      ]
     },
     "metadata": {},
     "output_type": "display_data"
    }
   ],
   "source": [
    "#Agora a mesma coisa para os dez municípios com as maiores taxas de IGD-M\n",
    "top_10_municipios_maior = df_igd.sort_values(by='igd_m', ascending=False).head(10)\n",
    "\n",
    "fig, ax = plt.subplots(nrows=1, ncols=1, figsize=(8, 4))\n",
    "\n",
    "# Plota o gráfico de barras horizontais no subplot 'ax'\n",
    "ax.barh(top_10_municipios_maior['municipio'], top_10_municipios_maior['igd_m'], color='#6B2D58')\n",
    "\n",
    "# Configurações do subplot 'ax'\n",
    "ax.set_xlabel('igd_m')\n",
    "ax.set_ylabel('municipio')\n",
    "ax.set_title('10 municípios com maior IGD-M')\n",
    "ax.tick_params(axis='x')  # Rotaciona os rótulos do eixo x\n",
    "\n",
    "# Exibe a figura\n",
    "plt.show()"
   ]
  },
  {
   "cell_type": "code",
   "execution_count": 22,
   "id": "121053d7-ddef-4096-9c66-47f930aaa814",
   "metadata": {},
   "outputs": [
    {
     "name": "stdout",
     "output_type": "stream",
     "text": [
      "  Intervalo  Número de Municípios\n",
      "0         0                    27\n",
      "1      0-70                    87\n",
      "2     70-75                   273\n",
      "3     75-80                   852\n",
      "4     80-85                  1737\n",
      "5     85-90                  1896\n",
      "6     90-95                   662\n",
      "7    95-100                    36\n"
     ]
    },
    {
     "name": "stderr",
     "output_type": "stream",
     "text": [
      "C:\\Users\\sesup\\AppData\\Local\\Temp\\ipykernel_4868\\3158894679.py:13: FutureWarning: The default of observed=False is deprecated and will be changed to True in a future version of pandas. Pass observed=False to retain current behavior or observed=True to adopt the future default and silence this warning.\n",
      "  contagem_municipios = df_igd.groupby('Intervalo')['municipio'].count().reset_index()\n"
     ]
    }
   ],
   "source": [
    "#Dividindo o dataframe em grupos de municípios com base no valor de IGD-M\n",
    "\n",
    "bins = [-1, 1, 70, 75, 80, 85, 90, 95, 100]\n",
    "\n",
    "# Defina os rótulos dos intervalos\n",
    "labels = ['0' ,'0-70', '70-75', '75-80', '80-85', '85-90','90-95', '95-100']\n",
    "\n",
    "# Converter a coluna 'igd_m' para o tipo float\n",
    "df_igd['igd_m'] = df_igd['igd_m'].astype(float)\n",
    "\n",
    "# Crie uma nova coluna 'Intervalo' com base nos rótulos\n",
    "df_igd['Intervalo'] = pd.cut(df_igd['igd_m'], bins=bins, labels=labels)\n",
    "\n",
    "# Use groupby para contar os municípios em cada intervalo\n",
    "contagem_municipios = df_igd.groupby('Intervalo')['municipio'].count().reset_index()\n",
    "\n",
    "# Renomeie a coluna de contagem\n",
    "contagem_municipios = contagem_municipios.rename(columns={'municipio': 'Número de Municípios'})\n",
    "\n",
    "# Exiba o DataFrame com o número de municípios em cada intervalo\n",
    "print(contagem_municipios)\n"
   ]
  },
  {
   "cell_type": "code",
   "execution_count": 23,
   "id": "00c7f069-752c-4c10-84ac-aed4ec6d7b7d",
   "metadata": {},
   "outputs": [
    {
     "data": {
      "image/png": "[encoded data removed]",
      "text/plain": [
       "<Figure size 1000x600 with 1 Axes>"
      ]
     },
     "metadata": {},
     "output_type": "display_data"
    }
   ],
   "source": [
    "# Criando  um gráfico de barras para visualizar os resultados\n",
    "plt.figure(figsize=(10, 6))\n",
    "plt.bar(contagem_municipios['Intervalo'], contagem_municipios['Número de Municípios'])\n",
    "plt.title('Número de Municípios em Cada Intervalo de IGD')\n",
    "plt.xlabel('Intervalo de IGD')\n",
    "plt.ylabel('Número de Municípios')\n",
    "plt.xticks(rotation=45)\n",
    "plt.show()"
   ]
  },
  {
   "cell_type": "code",
   "execution_count": 24,
   "id": "e7a6af91-2fce-467c-bf76-caf7c776e6ea",
   "metadata": {},
   "outputs": [
    {
     "data": {
      "image/png": "[encoded data removed]",
      "text/plain": [
       "<Figure size 800x800 with 1 Axes>"
      ]
     },
     "metadata": {},
     "output_type": "display_data"
    }
   ],
   "source": [
    "#Agora num gráfico de pizza\n",
    "plt.figure(figsize=(8, 8))\n",
    "plt.pie(contagem_municipios['Número de Municípios'], labels=contagem_municipios['Intervalo'], autopct='%1.1f%%', startangle=140)\n",
    "\n",
    "# Defina o título do gráfico\n",
    "plt.title('Distribuição de Municípios por Intervalo de IGD')\n",
    "\n",
    "# Mostre o gráfico\n",
    "plt.show()"
   ]
  },
  {
   "cell_type": "code",
   "execution_count": 65,
   "id": "9ee1a709-947d-47a8-8ec1-a6f616bb65c5",
   "metadata": {},
   "outputs": [
    {
     "data": {
      "text/html": [
       "<div>\n",
       "<style scoped>\n",
       "    .dataframe tbody tr th:only-of-type {\n",
       "        vertical-align: middle;\n",
       "    }\n",
       "\n",
       "    .dataframe tbody tr th {\n",
       "        vertical-align: top;\n",
       "    }\n",
       "\n",
       "    .dataframe thead th {\n",
       "        text-align: right;\n",
       "    }\n",
       "</style>\n",
       "<table border=\"1\" class=\"dataframe\">\n",
       "  <thead>\n",
       "    <tr style=\"text-align: right;\">\n",
       "      <th></th>\n",
       "      <th>codigo_ibge</th>\n",
       "      <th>nome</th>\n",
       "      <th>latitude</th>\n",
       "      <th>longitude</th>\n",
       "      <th>capital</th>\n",
       "      <th>codigo_uf</th>\n",
       "      <th>siafi_id</th>\n",
       "      <th>ddd</th>\n",
       "      <th>fuso_horario</th>\n",
       "    </tr>\n",
       "  </thead>\n",
       "  <tbody>\n",
       "    <tr>\n",
       "      <th>0</th>\n",
       "      <td>520005</td>\n",
       "      <td>Abadia de Goiás</td>\n",
       "      <td>-16.75730</td>\n",
       "      <td>-49.4412</td>\n",
       "      <td>0</td>\n",
       "      <td>52</td>\n",
       "      <td>1050</td>\n",
       "      <td>62</td>\n",
       "      <td>America/Sao_Paulo</td>\n",
       "    </tr>\n",
       "    <tr>\n",
       "      <th>1</th>\n",
       "      <td>310010</td>\n",
       "      <td>Abadia dos Dourados</td>\n",
       "      <td>-18.48310</td>\n",
       "      <td>-47.3916</td>\n",
       "      <td>0</td>\n",
       "      <td>31</td>\n",
       "      <td>4001</td>\n",
       "      <td>34</td>\n",
       "      <td>America/Sao_Paulo</td>\n",
       "    </tr>\n",
       "    <tr>\n",
       "      <th>2</th>\n",
       "      <td>520010</td>\n",
       "      <td>Abadiânia</td>\n",
       "      <td>-16.19700</td>\n",
       "      <td>-48.7057</td>\n",
       "      <td>0</td>\n",
       "      <td>52</td>\n",
       "      <td>9201</td>\n",
       "      <td>62</td>\n",
       "      <td>America/Sao_Paulo</td>\n",
       "    </tr>\n",
       "    <tr>\n",
       "      <th>3</th>\n",
       "      <td>310020</td>\n",
       "      <td>Abaeté</td>\n",
       "      <td>-19.15510</td>\n",
       "      <td>-45.4444</td>\n",
       "      <td>0</td>\n",
       "      <td>31</td>\n",
       "      <td>4003</td>\n",
       "      <td>37</td>\n",
       "      <td>America/Sao_Paulo</td>\n",
       "    </tr>\n",
       "    <tr>\n",
       "      <th>4</th>\n",
       "      <td>150010</td>\n",
       "      <td>Abaetetuba</td>\n",
       "      <td>-1.72183</td>\n",
       "      <td>-48.8788</td>\n",
       "      <td>0</td>\n",
       "      <td>15</td>\n",
       "      <td>401</td>\n",
       "      <td>91</td>\n",
       "      <td>America/Sao_Paulo</td>\n",
       "    </tr>\n",
       "  </tbody>\n",
       "</table>\n",
       "</div>"
      ],
      "text/plain": [
       "   codigo_ibge                 nome  latitude  longitude  capital  codigo_uf  \\\n",
       "0       520005      Abadia de Goiás -16.75730   -49.4412        0         52   \n",
       "1       310010  Abadia dos Dourados -18.48310   -47.3916        0         31   \n",
       "2       520010            Abadiânia -16.19700   -48.7057        0         52   \n",
       "3       310020               Abaeté -19.15510   -45.4444        0         31   \n",
       "4       150010           Abaetetuba  -1.72183   -48.8788        0         15   \n",
       "\n",
       "   siafi_id  ddd       fuso_horario  \n",
       "0      1050   62  America/Sao_Paulo  \n",
       "1      4001   34  America/Sao_Paulo  \n",
       "2      9201   62  America/Sao_Paulo  \n",
       "3      4003   37  America/Sao_Paulo  \n",
       "4       401   91  America/Sao_Paulo  "
      ]
     },
     "execution_count": 65,
     "metadata": {},
     "output_type": "execute_result"
    }
   ],
   "source": [
    "#Agora visualizar esses dados em uma mpa\n",
    "georreferenciamento_df = pd.read_csv('https://raw.githubusercontent.com/kelvins/Municipios-Brasileiros/main/csv/municipios.csv')\n",
    "\n",
    "#os dados de georreferenciamento tem 7 dígitos (vamos remover o dígito verificador e atualizar o dataframe)\n",
    "georreferenciamento_df['codigo_ibge'] = georreferenciamento_df['codigo_ibge'].astype('str').map(lambda x: x[:-1]).astype('int')\n",
    "\n",
    "georreferenciamento_df.head()"
   ]
  },
  {
   "cell_type": "code",
   "execution_count": 26,
   "id": "6f2ea05c-79ba-4ad7-94ac-adcefe62aa58",
   "metadata": {},
   "outputs": [
    {
     "data": {
      "text/plain": [
       "Index(['ibge_6', 'municipio', 'UF', 'ano_mês', 'igd_m', 'Ranking',\n",
       "       'Intervalo'],\n",
       "      dtype='object')"
      ]
     },
     "execution_count": 26,
     "metadata": {},
     "output_type": "execute_result"
    }
   ],
   "source": [
    "df_igd.columns"
   ]
  },
  {
   "cell_type": "code",
   "execution_count": 27,
   "id": "f22504cf-8d41-43d6-a8e5-c38550b3a7ee",
   "metadata": {},
   "outputs": [],
   "source": [
    "#cruzamento do dataframe resultados com as informações de georreferenciamento\n",
    "df_igd_mapa = pd.merge(df_igd[['ibge_6', 'igd_m', 'Intervalo']],\n",
    "                         georreferenciamento_df[['codigo_ibge', 'nome', 'latitude', 'longitude']],\n",
    "                         left_on='ibge_6',\n",
    "                         right_on='codigo_ibge',\n",
    "                         how='inner')"
   ]
  },
  {
   "cell_type": "code",
   "execution_count": 54,
   "id": "e86077a5-1d03-4fd2-b525-7a9408657938",
   "metadata": {},
   "outputs": [
    {
     "data": {
      "text/html": [
       "<div>\n",
       "<style scoped>\n",
       "    .dataframe tbody tr th:only-of-type {\n",
       "        vertical-align: middle;\n",
       "    }\n",
       "\n",
       "    .dataframe tbody tr th {\n",
       "        vertical-align: top;\n",
       "    }\n",
       "\n",
       "    .dataframe thead th {\n",
       "        text-align: right;\n",
       "    }\n",
       "</style>\n",
       "<table border=\"1\" class=\"dataframe\">\n",
       "  <thead>\n",
       "    <tr style=\"text-align: right;\">\n",
       "      <th></th>\n",
       "      <th>ibge_6</th>\n",
       "      <th>igd_m</th>\n",
       "      <th>Intervalo</th>\n",
       "      <th>codigo_ibge</th>\n",
       "      <th>nome</th>\n",
       "      <th>latitude</th>\n",
       "      <th>longitude</th>\n",
       "    </tr>\n",
       "  </thead>\n",
       "  <tbody>\n",
       "    <tr>\n",
       "      <th>0</th>\n",
       "      <td>353770</td>\n",
       "      <td>99.20</td>\n",
       "      <td>95-100</td>\n",
       "      <td>353770</td>\n",
       "      <td>Piacatu</td>\n",
       "      <td>-21.5921</td>\n",
       "      <td>-50.6003</td>\n",
       "    </tr>\n",
       "    <tr>\n",
       "      <th>1</th>\n",
       "      <td>432330</td>\n",
       "      <td>99.13</td>\n",
       "      <td>95-100</td>\n",
       "      <td>432330</td>\n",
       "      <td>Vila Flores</td>\n",
       "      <td>-28.8598</td>\n",
       "      <td>-51.5504</td>\n",
       "    </tr>\n",
       "    <tr>\n",
       "      <th>2</th>\n",
       "      <td>431445</td>\n",
       "      <td>98.32</td>\n",
       "      <td>95-100</td>\n",
       "      <td>431445</td>\n",
       "      <td>Pinhal</td>\n",
       "      <td>-27.5080</td>\n",
       "      <td>-53.2082</td>\n",
       "    </tr>\n",
       "    <tr>\n",
       "      <th>3</th>\n",
       "      <td>352215</td>\n",
       "      <td>97.92</td>\n",
       "      <td>95-100</td>\n",
       "      <td>352215</td>\n",
       "      <td>Itaóca</td>\n",
       "      <td>-24.6393</td>\n",
       "      <td>-48.8413</td>\n",
       "    </tr>\n",
       "    <tr>\n",
       "      <th>4</th>\n",
       "      <td>411729</td>\n",
       "      <td>97.67</td>\n",
       "      <td>95-100</td>\n",
       "      <td>411729</td>\n",
       "      <td>Novo Itacolomi</td>\n",
       "      <td>-23.7631</td>\n",
       "      <td>-51.5079</td>\n",
       "    </tr>\n",
       "  </tbody>\n",
       "</table>\n",
       "</div>"
      ],
      "text/plain": [
       "   ibge_6  igd_m Intervalo  codigo_ibge            nome  latitude  longitude\n",
       "0  353770  99.20    95-100       353770         Piacatu  -21.5921   -50.6003\n",
       "1  432330  99.13    95-100       432330     Vila Flores  -28.8598   -51.5504\n",
       "2  431445  98.32    95-100       431445          Pinhal  -27.5080   -53.2082\n",
       "3  352215  97.92    95-100       352215          Itaóca  -24.6393   -48.8413\n",
       "4  411729  97.67    95-100       411729  Novo Itacolomi  -23.7631   -51.5079"
      ]
     },
     "execution_count": 54,
     "metadata": {},
     "output_type": "execute_result"
    }
   ],
   "source": [
    "df_igd_mapa.head()\n"
   ]
  },
  {
   "cell_type": "code",
   "execution_count": 29,
   "id": "57a341b1-6821-4d84-969c-10bcc51631d9",
   "metadata": {},
   "outputs": [],
   "source": [
    "#df_igd_mapa.to_csv(':\\Users\\sesup\\Desktop\\Bootcamp ENAP\\projetos-do-bootcamp-analise-de-dados-enap-2023\\presenca_das_politicas_publicas_sociais_nos_municipios\\Camila',encoding = 'UTF-8')\n",
    "#df_igd_mapa.to_csv(':\\Users\\sesup\\Desktop\\Bootcamp ENAP\\projetos-do-bootcamp-analise-de-dados-enap-2023\\presenca_das_politicas_publicas_sociais_nos_municipios\\Camila',encoding = 'UTF-8')"
   ]
  },
  {
   "cell_type": "code",
   "execution_count": 53,
   "id": "009a2270-222c-43d9-a413-ac197fccc56c",
   "metadata": {},
   "outputs": [
    {
     "name": "stdout",
     "output_type": "stream",
     "text": [
      "Requirement already satisfied: requests in c:\\users\\sesup\\appdata\\local\\programs\\python\\python311\\lib\\site-packages (2.31.0)\n",
      "Requirement already satisfied: charset-normalizer<4,>=2 in c:\\users\\sesup\\appdata\\local\\programs\\python\\python311\\lib\\site-packages (from requests) (3.3.0)\n",
      "Requirement already satisfied: idna<4,>=2.5 in c:\\users\\sesup\\appdata\\local\\programs\\python\\python311\\lib\\site-packages (from requests) (3.4)\n",
      "Requirement already satisfied: urllib3<3,>=1.21.1 in c:\\users\\sesup\\appdata\\local\\programs\\python\\python311\\lib\\site-packages (from requests) (2.0.6)\n",
      "Requirement already satisfied: certifi>=2017.4.17 in c:\\users\\sesup\\appdata\\local\\programs\\python\\python311\\lib\\site-packages (from requests) (2023.7.22)\n"
     ]
    },
    {
     "name": "stderr",
     "output_type": "stream",
     "text": [
      "\n",
      "[notice] A new release of pip is available: 23.2.1 -> 23.3.1\n",
      "[notice] To update, run: python.exe -m pip install --upgrade pip\n"
     ]
    },
    {
     "name": "stdout",
     "output_type": "stream",
     "text": [
      "Requirement already satisfied: shapely in c:\\users\\sesup\\appdata\\local\\programs\\python\\python311\\lib\\site-packages (2.0.2)\n",
      "Requirement already satisfied: numpy>=1.14 in c:\\users\\sesup\\appdata\\local\\programs\\python\\python311\\lib\\site-packages (from shapely) (1.26.0)\n"
     ]
    },
    {
     "name": "stderr",
     "output_type": "stream",
     "text": [
      "\n",
      "[notice] A new release of pip is available: 23.2.1 -> 23.3.1\n",
      "[notice] To update, run: python.exe -m pip install --upgrade pip\n"
     ]
    },
    {
     "name": "stdout",
     "output_type": "stream",
     "text": [
      "Requirement already satisfied: geojson_rewind in c:\\users\\sesup\\appdata\\local\\programs\\python\\python311\\lib\\site-packages (1.1.0)\n"
     ]
    },
    {
     "name": "stderr",
     "output_type": "stream",
     "text": [
      "\n",
      "[notice] A new release of pip is available: 23.2.1 -> 23.3.1\n",
      "[notice] To update, run: python.exe -m pip install --upgrade pip\n"
     ]
    },
    {
     "name": "stdout",
     "output_type": "stream",
     "text": [
      "Requirement already satisfied: plotly in c:\\users\\sesup\\appdata\\local\\programs\\python\\python311\\lib\\site-packages (5.18.0)\n"
     ]
    },
    {
     "name": "stderr",
     "output_type": "stream",
     "text": [
      "ERROR: Could not find a version that satisfies the requirement upgrade (from versions: none)\n",
      "ERROR: No matching distribution found for upgrade\n",
      "\n",
      "[notice] A new release of pip is available: 23.2.1 -> 23.3.1\n",
      "[notice] To update, run: python.exe -m pip install --upgrade pip\n"
     ]
    }
   ],
   "source": [
    "!pip install requests\n",
    "!pip install shapely\n",
    "!pip install geojson_rewind\n",
    "!pip install plotly -- upgrade\n",
    "from geojson_rewind import rewind\n",
    "import pandas as pd\n",
    "import matplotlib.pyplot as plt\n",
    "import seaborn as sns\n",
    "import requests\n",
    "from geojson_rewind import rewind\n",
    "import plotly.express as px\n",
    "import plotly.io as pio\n",
    "import json\n",
    "from shapely.geometry import shape, mapping\n",
    "from shapely.ops import unary_union\n",
    "import json\n",
    "import geojson_rewind\n",
    "pio.renderers.default = 'iframe'"
   ]
  },
  {
   "cell_type": "code",
   "execution_count": 49,
   "id": "5435bfd3-330d-41b3-91ff-bbf551379b92",
   "metadata": {},
   "outputs": [],
   "source": [
    "geojson = requests.get(f'http://servicodados.ibge.gov.br/api/v3/malhas/paises/BR?formato=application/vnd.geo+json&qualidade=minima').json()"
   ]
  },
  {
   "cell_type": "code",
   "execution_count": 50,
   "id": "e6422251-5399-41ca-b4ca-cba7f208779c",
   "metadata": {},
   "outputs": [],
   "source": [
    "#a malha geográfica do ibge tem 7 dígitos (vamos remover o dígito verificador e atualizar a malha)\n",
    "for feature in geojson['features']:\n",
    "    feature['properties']['codarea'] = feature['properties']['codarea'][:-1]\n",
    "geojson = rewind(geojson, rfc7946=False)"
   ]
  },
  {
   "cell_type": "code",
   "execution_count": 55,
   "id": "c01c42a3-4315-45b3-acaa-11bd611486f7",
   "metadata": {},
   "outputs": [
    {
     "name": "stderr",
     "output_type": "stream",
     "text": [
      "C:\\Users\\sesup\\AppData\\Local\\Programs\\Python\\Python311\\Lib\\site-packages\\plotly\\express\\_core.py:2044: FutureWarning:\n",
      "\n",
      "The default of observed=False is deprecated and will be changed to True in a future version of pandas. Pass observed=False to retain current behavior or observed=True to adopt the future default and silence this warning.\n",
      "\n"
     ]
    },
    {
     "data": {
      "text/html": [
       "<iframe\n",
       "    scrolling=\"no\"\n",
       "    width=\"1020px\"\n",
       "    height=\"820\"\n",
       "    src=\"iframe_figures/figure_55.html\"\n",
       "    frameborder=\"0\"\n",
       "    allowfullscreen\n",
       "></iframe>\n"
      ]
     },
     "metadata": {},
     "output_type": "display_data"
    }
   ],
   "source": [
    "\n",
    "fig = px.choropleth(df_igd_mapa,\n",
    "                    geojson=geojson,\n",
    "                    scope='south america',\n",
    "                    color='Intervalo' ,\n",
    "                    color_continuous_scale=\"Reds\",\n",
    "                    locations='ibge_6',\n",
    "                    featureidkey='properties.codarea',\n",
    "                    hover_name='nome').update_layout(height=800, width=1000, autosize=False)\n",
    "\n",
    "\n",
    "\n",
    "fig.update_traces(marker_line_width=0)\n",
    "# Exiba o mapa\n",
    "fig.show()"
   ]
  },
  {
   "cell_type": "code",
   "execution_count": null,
   "id": "4bb612d6-f0b5-4203-91a9-869668c26bbc",
   "metadata": {},
   "outputs": [],
   "source": []
  },
  {
   "cell_type": "code",
   "execution_count": null,
   "id": "6e2b0f4e-866e-4c2a-a77c-3bca71f55e9a",
   "metadata": {},
   "outputs": [],
   "source": []
  }
 ],
 "metadata": {
  "kernelspec": {
   "display_name": "Python 3 (ipykernel)",
   "language": "python",
   "name": "python3"
  },
  "language_info": {
   "codemirror_mode": {
    "name": "ipython",
    "version": 3
   },
   "file_extension": ".py",
   "mimetype": "text/x-python",
   "name": "python",
   "nbconvert_exporter": "python",
   "pygments_lexer": "ipython3",
   "version": "3.11.6"
  }
 },
 "nbformat": 4,
 "nbformat_minor": 5
}
