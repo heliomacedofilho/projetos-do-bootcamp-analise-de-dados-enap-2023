{
 "cells": [
  {
   "cell_type": "code",
   "execution_count": 1,
   "id": "08418820-4859-4491-91f6-3a66c309ab66",
   "metadata": {
    "tags": []
   },
   "outputs": [],
   "source": [
    "import pandas as pd\n",
    "import re\n",
    "import seaborn as sns\n",
    "import matplotlib.pyplot as plt\n",
    "#para conseguir visualizar os gráficos no notebook\n",
    "%matplotlib inline\n",
    "\n"
   ]
  },
  {
   "cell_type": "code",
   "execution_count": 2,
   "id": "e7070e13-552d-4a14-bf03-ae86c3772389",
   "metadata": {
    "tags": []
   },
   "outputs": [
    {
     "name": "stdout",
     "output_type": "stream",
     "text": [
      "<class 'pandas.core.frame.DataFrame'>\n",
      "RangeIndex: 3791 entries, 0 to 3790\n",
      "Data columns (total 31 columns):\n",
      " #   Column               Non-Null Count  Dtype  \n",
      "---  ------               --------------  -----  \n",
      " 0   ID                   3791 non-null   object \n",
      " 1   data_publicacao      3791 non-null   object \n",
      " 2   diretoria            3791 non-null   object \n",
      " 3   numero_revista       3791 non-null   int64  \n",
      " 4   codigo               3791 non-null   float64\n",
      " 5   titulo               3791 non-null   object \n",
      " 6   numero               3791 non-null   object \n",
      " 7   data_deposito        3791 non-null   object \n",
      " 8   data_prioridade      4 non-null      object \n",
      " 9   cod_prioridade       4 non-null      object \n",
      " 10  classif_internacion  3728 non-null   object \n",
      " 11  classif_nacion       2516 non-null   object \n",
      " 12  titulo_inid          3791 non-null   object \n",
      " 13  titular_nome         3791 non-null   object \n",
      " 14  titular_uf           3782 non-null   object \n",
      " 15  titular_pais         3791 non-null   object \n",
      " 16  inventor_nome        3791 non-null   object \n",
      " 17  titular_1            3791 non-null   object \n",
      " 18  titular_parceiros1   1139 non-null   object \n",
      " 19  titular_parceiros2   286 non-null    object \n",
      " 20  titular_abv          3513 non-null   object \n",
      " 21  titular_uf1          3782 non-null   object \n",
      " 22  titular_uf2          1119 non-null   object \n",
      " 23  classif_nac1         2516 non-null   object \n",
      " 24  classif_nac2         1883 non-null   object \n",
      " 25  classif_nac3         1245 non-null   object \n",
      " 26  classif_internac1    3728 non-null   object \n",
      " 27  classif_internac2    2893 non-null   object \n",
      " 28  classif_internac3    1868 non-null   object \n",
      " 29  inventor_1           3791 non-null   object \n",
      " 30  inventor_outros      3681 non-null   object \n",
      "dtypes: float64(1), int64(1), object(29)\n",
      "memory usage: 918.3+ KB\n"
     ]
    }
   ],
   "source": [
    "data=pd.read_csv('../data_ifes.csv')\n",
    "data.info()\n"
   ]
  },
  {
   "cell_type": "code",
   "execution_count": 3,
   "id": "679b970e-bfdf-4a26-8807-07daa7f90a4d",
   "metadata": {
    "tags": []
   },
   "outputs": [
    {
     "data": {
      "text/html": [
       "<div>\n",
       "<style scoped>\n",
       "    .dataframe tbody tr th:only-of-type {\n",
       "        vertical-align: middle;\n",
       "    }\n",
       "\n",
       "    .dataframe tbody tr th {\n",
       "        vertical-align: top;\n",
       "    }\n",
       "\n",
       "    .dataframe thead th {\n",
       "        text-align: right;\n",
       "    }\n",
       "</style>\n",
       "<table border=\"1\" class=\"dataframe\">\n",
       "  <thead>\n",
       "    <tr style=\"text-align: right;\">\n",
       "      <th></th>\n",
       "      <th>titular_1</th>\n",
       "      <th>titular_uf1</th>\n",
       "      <th>class_int1</th>\n",
       "      <th>class_int2</th>\n",
       "      <th>class_int3</th>\n",
       "      <th>class_int4</th>\n",
       "      <th>class_int5</th>\n",
       "      <th>class_int6</th>\n",
       "      <th>class_int7</th>\n",
       "      <th>class_int8</th>\n",
       "      <th>...</th>\n",
       "      <th>class_int37</th>\n",
       "      <th>class_int38</th>\n",
       "      <th>class_int39</th>\n",
       "      <th>class_int40</th>\n",
       "      <th>class_int41</th>\n",
       "      <th>class_int42</th>\n",
       "      <th>class_int43</th>\n",
       "      <th>class_int44</th>\n",
       "      <th>class_int45</th>\n",
       "      <th>class_int46</th>\n",
       "    </tr>\n",
       "  </thead>\n",
       "  <tbody>\n",
       "    <tr>\n",
       "      <th>0</th>\n",
       "      <td>UNIVERSIDADE FEDERAL DO CEARÁ</td>\n",
       "      <td>CE</td>\n",
       "      <td>H01Q 13/10</td>\n",
       "      <td>H01Q 1/24</td>\n",
       "      <td>None</td>\n",
       "      <td>None</td>\n",
       "      <td>None</td>\n",
       "      <td>None</td>\n",
       "      <td>None</td>\n",
       "      <td>None</td>\n",
       "      <td>...</td>\n",
       "      <td>None</td>\n",
       "      <td>None</td>\n",
       "      <td>None</td>\n",
       "      <td>None</td>\n",
       "      <td>None</td>\n",
       "      <td>None</td>\n",
       "      <td>None</td>\n",
       "      <td>None</td>\n",
       "      <td>None</td>\n",
       "      <td>None</td>\n",
       "    </tr>\n",
       "    <tr>\n",
       "      <th>1</th>\n",
       "      <td>FUNDAÇÃO UNIVERSIDADE DO AMAZONAS</td>\n",
       "      <td>AM</td>\n",
       "      <td>H04L 29/06</td>\n",
       "      <td>H04L 29/12</td>\n",
       "      <td>None</td>\n",
       "      <td>None</td>\n",
       "      <td>None</td>\n",
       "      <td>None</td>\n",
       "      <td>None</td>\n",
       "      <td>None</td>\n",
       "      <td>...</td>\n",
       "      <td>None</td>\n",
       "      <td>None</td>\n",
       "      <td>None</td>\n",
       "      <td>None</td>\n",
       "      <td>None</td>\n",
       "      <td>None</td>\n",
       "      <td>None</td>\n",
       "      <td>None</td>\n",
       "      <td>None</td>\n",
       "      <td>None</td>\n",
       "    </tr>\n",
       "    <tr>\n",
       "      <th>2</th>\n",
       "      <td>INSTITUTO FEDERAL DE EDUCAÇÃO, CIÊNCIA E TECNO...</td>\n",
       "      <td>PE</td>\n",
       "      <td>G01D 3/08</td>\n",
       "      <td>None</td>\n",
       "      <td>None</td>\n",
       "      <td>None</td>\n",
       "      <td>None</td>\n",
       "      <td>None</td>\n",
       "      <td>None</td>\n",
       "      <td>None</td>\n",
       "      <td>...</td>\n",
       "      <td>None</td>\n",
       "      <td>None</td>\n",
       "      <td>None</td>\n",
       "      <td>None</td>\n",
       "      <td>None</td>\n",
       "      <td>None</td>\n",
       "      <td>None</td>\n",
       "      <td>None</td>\n",
       "      <td>None</td>\n",
       "      <td>None</td>\n",
       "    </tr>\n",
       "    <tr>\n",
       "      <th>3</th>\n",
       "      <td>INSTITUTO FEDERAL DE EDUCAÇÃO, CIÊNCIA E TECNO...</td>\n",
       "      <td>GO</td>\n",
       "      <td>A21D 13/045</td>\n",
       "      <td>A21D 13/047</td>\n",
       "      <td>A21D 13/066</td>\n",
       "      <td>None</td>\n",
       "      <td>None</td>\n",
       "      <td>None</td>\n",
       "      <td>None</td>\n",
       "      <td>None</td>\n",
       "      <td>...</td>\n",
       "      <td>None</td>\n",
       "      <td>None</td>\n",
       "      <td>None</td>\n",
       "      <td>None</td>\n",
       "      <td>None</td>\n",
       "      <td>None</td>\n",
       "      <td>None</td>\n",
       "      <td>None</td>\n",
       "      <td>None</td>\n",
       "      <td>None</td>\n",
       "    </tr>\n",
       "    <tr>\n",
       "      <th>4</th>\n",
       "      <td>UNIVERSIDADE FEDERAL DE UBERLÂNDIA</td>\n",
       "      <td>MG</td>\n",
       "      <td>C12Q 1/68</td>\n",
       "      <td>C12R 1/01</td>\n",
       "      <td>None</td>\n",
       "      <td>None</td>\n",
       "      <td>None</td>\n",
       "      <td>None</td>\n",
       "      <td>None</td>\n",
       "      <td>None</td>\n",
       "      <td>...</td>\n",
       "      <td>None</td>\n",
       "      <td>None</td>\n",
       "      <td>None</td>\n",
       "      <td>None</td>\n",
       "      <td>None</td>\n",
       "      <td>None</td>\n",
       "      <td>None</td>\n",
       "      <td>None</td>\n",
       "      <td>None</td>\n",
       "      <td>None</td>\n",
       "    </tr>\n",
       "  </tbody>\n",
       "</table>\n",
       "<p>5 rows × 48 columns</p>\n",
       "</div>"
      ],
      "text/plain": [
       "                                           titular_1 titular_uf1   class_int1  \\\n",
       "0                      UNIVERSIDADE FEDERAL DO CEARÁ          CE   H01Q 13/10   \n",
       "1                  FUNDAÇÃO UNIVERSIDADE DO AMAZONAS          AM   H04L 29/06   \n",
       "2  INSTITUTO FEDERAL DE EDUCAÇÃO, CIÊNCIA E TECNO...          PE    G01D 3/08   \n",
       "3  INSTITUTO FEDERAL DE EDUCAÇÃO, CIÊNCIA E TECNO...          GO  A21D 13/045   \n",
       "4                 UNIVERSIDADE FEDERAL DE UBERLÂNDIA          MG    C12Q 1/68   \n",
       "\n",
       "     class_int2    class_int3 class_int4 class_int5 class_int6 class_int7  \\\n",
       "0     H01Q 1/24          None       None       None       None       None   \n",
       "1    H04L 29/12          None       None       None       None       None   \n",
       "2          None          None       None       None       None       None   \n",
       "3   A21D 13/047   A21D 13/066       None       None       None       None   \n",
       "4     C12R 1/01          None       None       None       None       None   \n",
       "\n",
       "  class_int8  ... class_int37 class_int38 class_int39 class_int40 class_int41  \\\n",
       "0       None  ...        None        None        None        None        None   \n",
       "1       None  ...        None        None        None        None        None   \n",
       "2       None  ...        None        None        None        None        None   \n",
       "3       None  ...        None        None        None        None        None   \n",
       "4       None  ...        None        None        None        None        None   \n",
       "\n",
       "  class_int42 class_int43 class_int44 class_int45 class_int46  \n",
       "0        None        None        None        None        None  \n",
       "1        None        None        None        None        None  \n",
       "2        None        None        None        None        None  \n",
       "3        None        None        None        None        None  \n",
       "4        None        None        None        None        None  \n",
       "\n",
       "[5 rows x 48 columns]"
      ]
     },
     "execution_count": 3,
     "metadata": {},
     "output_type": "execute_result"
    }
   ],
   "source": [
    "data_analise_ci=data[['titular_1','titular_uf1','classif_internacion']]\n",
    "df_classificacao_internacional=data_analise_ci['classif_internacion'].str.split(\";\",expand=True)\n",
    "df_classificacao_internacional.columns = ['class_int' + str(i) for i in range(1, df_classificacao_internacional.shape[1] + 1)]\n",
    "data_analiseCI=pd.concat([data_analise_ci, df_classificacao_internacional], axis=1).drop(columns=['classif_internacion'])\n",
    "data_analiseCI.head()"
   ]
  },
  {
   "cell_type": "code",
   "execution_count": 4,
   "id": "f6db9ee9-e68a-41e8-8137-ac3d55eaf38c",
   "metadata": {
    "tags": []
   },
   "outputs": [],
   "source": [
    "ipc_table=pd.read_excel('ipc_technology.xlsx')\n",
    "ipc_table_tratado=ipc_table[['Sector_en','Field_en','IPC_code']]\n",
    "ipc_table_tratado[['IPC1','IPC2']]=ipc_table_tratado['IPC_code'].str.split('/',expand=True,n=2)\n",
    "mapeamento_area_tecnologica=dict(zip(ipc_table_tratado['IPC1'],ipc_table_tratado['Field_en']))\n",
    "mapeamento_area_tecnologica = {k.strip(): v.strip() for k, v in mapeamento_area_tecnologica.items()}\n"
   ]
  },
  {
   "cell_type": "code",
   "execution_count": 5,
   "id": "77fdb860-c977-4ff7-8018-9f6d20b53910",
   "metadata": {
    "tags": []
   },
   "outputs": [],
   "source": [
    "def generate_counter_df(data_analiseCI):\n",
    "    contador_list = [data_analiseCI[i].value_counts() for i in data_analiseCI.columns[2:]]\n",
    "\n",
    "    data = []\n",
    "\n",
    "    # Preencher a lista com os dados\n",
    "    for series in contador_list:\n",
    "        for value, count in series.items():\n",
    "            data.append([value, count])\n",
    "\n",
    "    # Criar o DataFrame usando a lista\n",
    "    df_contador = pd.DataFrame(data, columns=['IPC', 'Contagem'])\n",
    "    df_contador['IPC'] = df_contador['IPC'].str.lstrip()\n",
    "    df_contador[['IPC1','IPC2']]=df_contador['IPC'].str.split(' ',expand=True,n=2)\n",
    "    df_contador['Porcentagem']=round((df_contador['Contagem']/df_contador['Contagem'].sum())*100, 2)  \n",
    "    df_contador['Area']=df_contador['IPC1'].map(mapeamento_area_tecnologica)\n",
    "    return df_contador[['IPC','IPC1','Area','Contagem','Porcentagem']]"
   ]
  },
  {
   "cell_type": "code",
   "execution_count": 6,
   "id": "73670ff9-d7b7-4f7c-8176-578fd7b7906b",
   "metadata": {
    "tags": []
   },
   "outputs": [],
   "source": [
    "def generate_campo_tecnologico(df_contador):\n",
    "    campo_tecnologico = df_contador[['Contagem','Porcentagem']].groupby(df_contador['Area']).sum().sort_values(by=['Contagem'],ascending=False)\n",
    "    campo_tecnologico=campo_tecnologico.reset_index()\n",
    "    return campo_tecnologico"
   ]
  },
  {
   "cell_type": "code",
   "execution_count": 21,
   "id": "3cd0c564-ba63-498d-8bd8-780c40002dfd",
   "metadata": {
    "tags": []
   },
   "outputs": [
    {
     "data": {
      "text/html": [
       "<div>\n",
       "<style scoped>\n",
       "    .dataframe tbody tr th:only-of-type {\n",
       "        vertical-align: middle;\n",
       "    }\n",
       "\n",
       "    .dataframe tbody tr th {\n",
       "        vertical-align: top;\n",
       "    }\n",
       "\n",
       "    .dataframe thead th {\n",
       "        text-align: right;\n",
       "    }\n",
       "</style>\n",
       "<table border=\"1\" class=\"dataframe\">\n",
       "  <thead>\n",
       "    <tr style=\"text-align: right;\">\n",
       "      <th></th>\n",
       "      <th>IPC</th>\n",
       "      <th>IPC1</th>\n",
       "      <th>Area</th>\n",
       "      <th>Contagem</th>\n",
       "      <th>Porcentagem</th>\n",
       "    </tr>\n",
       "  </thead>\n",
       "  <tbody>\n",
       "    <tr>\n",
       "      <th>0</th>\n",
       "      <td>A61K 36/185</td>\n",
       "      <td>A61K</td>\n",
       "      <td>Pharmaceuticals</td>\n",
       "      <td>35</td>\n",
       "      <td>0.32</td>\n",
       "    </tr>\n",
       "    <tr>\n",
       "      <th>1</th>\n",
       "      <td>G01N 33/569</td>\n",
       "      <td>G01N</td>\n",
       "      <td>Analysis of biological materials</td>\n",
       "      <td>30</td>\n",
       "      <td>0.28</td>\n",
       "    </tr>\n",
       "    <tr>\n",
       "      <th>2</th>\n",
       "      <td>C07K 7/08</td>\n",
       "      <td>C07K</td>\n",
       "      <td>Biotechnology</td>\n",
       "      <td>28</td>\n",
       "      <td>0.26</td>\n",
       "    </tr>\n",
       "    <tr>\n",
       "      <th>3</th>\n",
       "      <td>A23L 19/00</td>\n",
       "      <td>A23L</td>\n",
       "      <td>Food chemistry</td>\n",
       "      <td>22</td>\n",
       "      <td>0.20</td>\n",
       "    </tr>\n",
       "    <tr>\n",
       "      <th>4</th>\n",
       "      <td>A23B 7/02</td>\n",
       "      <td>A23B</td>\n",
       "      <td>Food chemistry</td>\n",
       "      <td>20</td>\n",
       "      <td>0.18</td>\n",
       "    </tr>\n",
       "  </tbody>\n",
       "</table>\n",
       "</div>"
      ],
      "text/plain": [
       "           IPC  IPC1                              Area  Contagem  Porcentagem\n",
       "0  A61K 36/185  A61K                   Pharmaceuticals        35         0.32\n",
       "1  G01N 33/569  G01N  Analysis of biological materials        30         0.28\n",
       "2    C07K 7/08  C07K                     Biotechnology        28         0.26\n",
       "3   A23L 19/00  A23L                    Food chemistry        22         0.20\n",
       "4    A23B 7/02  A23B                    Food chemistry        20         0.18"
      ]
     },
     "execution_count": 21,
     "metadata": {},
     "output_type": "execute_result"
    }
   ],
   "source": [
    "df_contador=generate_counter_df(data_analiseCI)\n",
    "df_contador.head()"
   ]
  },
  {
   "cell_type": "code",
   "execution_count": 8,
   "id": "0bfaddae-01c2-4bcc-809d-903ba768e518",
   "metadata": {
    "collapsed": true,
    "jupyter": {
     "outputs_hidden": true
    },
    "tags": []
   },
   "outputs": [
    {
     "data": {
      "text/html": [
       "<div>\n",
       "<style scoped>\n",
       "    .dataframe tbody tr th:only-of-type {\n",
       "        vertical-align: middle;\n",
       "    }\n",
       "\n",
       "    .dataframe tbody tr th {\n",
       "        vertical-align: top;\n",
       "    }\n",
       "\n",
       "    .dataframe thead th {\n",
       "        text-align: right;\n",
       "    }\n",
       "</style>\n",
       "<table border=\"1\" class=\"dataframe\">\n",
       "  <thead>\n",
       "    <tr style=\"text-align: right;\">\n",
       "      <th></th>\n",
       "      <th>Area</th>\n",
       "      <th>Contagem</th>\n",
       "      <th>Porcentagem</th>\n",
       "    </tr>\n",
       "  </thead>\n",
       "  <tbody>\n",
       "    <tr>\n",
       "      <th>0</th>\n",
       "      <td>Pharmaceuticals</td>\n",
       "      <td>2474</td>\n",
       "      <td>24.14</td>\n",
       "    </tr>\n",
       "    <tr>\n",
       "      <th>1</th>\n",
       "      <td>Biotechnology</td>\n",
       "      <td>998</td>\n",
       "      <td>9.79</td>\n",
       "    </tr>\n",
       "    <tr>\n",
       "      <th>2</th>\n",
       "      <td>Food chemistry</td>\n",
       "      <td>970</td>\n",
       "      <td>9.47</td>\n",
       "    </tr>\n",
       "    <tr>\n",
       "      <th>3</th>\n",
       "      <td>Basic materials chemistry</td>\n",
       "      <td>738</td>\n",
       "      <td>7.29</td>\n",
       "    </tr>\n",
       "    <tr>\n",
       "      <th>4</th>\n",
       "      <td>Medical technology</td>\n",
       "      <td>578</td>\n",
       "      <td>5.73</td>\n",
       "    </tr>\n",
       "  </tbody>\n",
       "</table>\n",
       "</div>"
      ],
      "text/plain": [
       "                        Area  Contagem  Porcentagem\n",
       "0            Pharmaceuticals      2474        24.14\n",
       "1              Biotechnology       998         9.79\n",
       "2             Food chemistry       970         9.47\n",
       "3  Basic materials chemistry       738         7.29\n",
       "4         Medical technology       578         5.73"
      ]
     },
     "execution_count": 8,
     "metadata": {},
     "output_type": "execute_result"
    }
   ],
   "source": [
    "area_tecnologica=generate_campo_tecnologico(df_contador)\n",
    "area_tecnologica.head(5)\n",
    "    "
   ]
  },
  {
   "cell_type": "markdown",
   "id": "b80f4c52-4bc1-4a9d-9f35-06eb12b6b4ab",
   "metadata": {},
   "source": [
    "### Gráfico Área Tecnológica (Todas as Instituições)"
   ]
  },
  {
   "cell_type": "markdown",
   "id": "40cb9e11-0a87-4762-aefe-9db9d805b6f1",
   "metadata": {
    "tags": []
   },
   "source": [
    "## Área Tecnológica por Institutos Federais: Brasil\n",
    "\n",
    "\n",
    "\n",
    "\n"
   ]
  },
  {
   "cell_type": "code",
   "execution_count": 9,
   "id": "84d111c4-3317-48b4-a733-61b181455931",
   "metadata": {
    "collapsed": true,
    "jupyter": {
     "outputs_hidden": true
    },
    "tags": []
   },
   "outputs": [
    {
     "name": "stdout",
     "output_type": "stream",
     "text": [
      "<class 'pandas.core.frame.DataFrame'>\n",
      "Index: 403 entries, 2 to 3786\n",
      "Data columns (total 48 columns):\n",
      " #   Column       Non-Null Count  Dtype \n",
      "---  ------       --------------  ----- \n",
      " 0   titular_1    403 non-null    object\n",
      " 1   titular_uf1  402 non-null    object\n",
      " 2   class_int1   392 non-null    object\n",
      " 3   class_int2   271 non-null    object\n",
      " 4   class_int3   166 non-null    object\n",
      " 5   class_int4   85 non-null     object\n",
      " 6   class_int5   49 non-null     object\n",
      " 7   class_int6   26 non-null     object\n",
      " 8   class_int7   15 non-null     object\n",
      " 9   class_int8   8 non-null      object\n",
      " 10  class_int9   3 non-null      object\n",
      " 11  class_int10  2 non-null      object\n",
      " 12  class_int11  2 non-null      object\n",
      " 13  class_int12  1 non-null      object\n",
      " 14  class_int13  1 non-null      object\n",
      " 15  class_int14  1 non-null      object\n",
      " 16  class_int15  0 non-null      object\n",
      " 17  class_int16  0 non-null      object\n",
      " 18  class_int17  0 non-null      object\n",
      " 19  class_int18  0 non-null      object\n",
      " 20  class_int19  0 non-null      object\n",
      " 21  class_int20  0 non-null      object\n",
      " 22  class_int21  0 non-null      object\n",
      " 23  class_int22  0 non-null      object\n",
      " 24  class_int23  0 non-null      object\n",
      " 25  class_int24  0 non-null      object\n",
      " 26  class_int25  0 non-null      object\n",
      " 27  class_int26  0 non-null      object\n",
      " 28  class_int27  0 non-null      object\n",
      " 29  class_int28  0 non-null      object\n",
      " 30  class_int29  0 non-null      object\n",
      " 31  class_int30  0 non-null      object\n",
      " 32  class_int31  0 non-null      object\n",
      " 33  class_int32  0 non-null      object\n",
      " 34  class_int33  0 non-null      object\n",
      " 35  class_int34  0 non-null      object\n",
      " 36  class_int35  0 non-null      object\n",
      " 37  class_int36  0 non-null      object\n",
      " 38  class_int37  0 non-null      object\n",
      " 39  class_int38  0 non-null      object\n",
      " 40  class_int39  0 non-null      object\n",
      " 41  class_int40  0 non-null      object\n",
      " 42  class_int41  0 non-null      object\n",
      " 43  class_int42  0 non-null      object\n",
      " 44  class_int43  0 non-null      object\n",
      " 45  class_int44  0 non-null      object\n",
      " 46  class_int45  0 non-null      object\n",
      " 47  class_int46  0 non-null      object\n",
      "dtypes: object(48)\n",
      "memory usage: 154.3+ KB\n"
     ]
    }
   ],
   "source": [
    "data_analiseCI_IF=data_analiseCI[data_analiseCI['titular_1'].str.contains('^INSTITUTO')]\n",
    "data_analiseCI_IF.info()"
   ]
  },
  {
   "cell_type": "code",
   "execution_count": 10,
   "id": "228ae8c1-dea5-4a72-b56e-da743e88e7a8",
   "metadata": {
    "tags": []
   },
   "outputs": [
    {
     "data": {
      "text/html": [
       "<div>\n",
       "<style scoped>\n",
       "    .dataframe tbody tr th:only-of-type {\n",
       "        vertical-align: middle;\n",
       "    }\n",
       "\n",
       "    .dataframe tbody tr th {\n",
       "        vertical-align: top;\n",
       "    }\n",
       "\n",
       "    .dataframe thead th {\n",
       "        text-align: right;\n",
       "    }\n",
       "</style>\n",
       "<table border=\"1\" class=\"dataframe\">\n",
       "  <thead>\n",
       "    <tr style=\"text-align: right;\">\n",
       "      <th></th>\n",
       "      <th>IPC</th>\n",
       "      <th>IPC1</th>\n",
       "      <th>Area</th>\n",
       "      <th>Contagem</th>\n",
       "      <th>Porcentagem</th>\n",
       "    </tr>\n",
       "  </thead>\n",
       "  <tbody>\n",
       "    <tr>\n",
       "      <th>0</th>\n",
       "      <td>A21D 13/80</td>\n",
       "      <td>A21D</td>\n",
       "      <td>Food chemistry</td>\n",
       "      <td>5</td>\n",
       "      <td>0.49</td>\n",
       "    </tr>\n",
       "    <tr>\n",
       "      <th>1</th>\n",
       "      <td>C12C 12/00</td>\n",
       "      <td>C12C</td>\n",
       "      <td>Food chemistry</td>\n",
       "      <td>4</td>\n",
       "      <td>0.39</td>\n",
       "    </tr>\n",
       "    <tr>\n",
       "      <th>2</th>\n",
       "      <td>G09B 23/32</td>\n",
       "      <td>G09B</td>\n",
       "      <td>Control</td>\n",
       "      <td>3</td>\n",
       "      <td>0.29</td>\n",
       "    </tr>\n",
       "    <tr>\n",
       "      <th>3</th>\n",
       "      <td>A61K 35/644</td>\n",
       "      <td>A61K</td>\n",
       "      <td>Pharmaceuticals</td>\n",
       "      <td>3</td>\n",
       "      <td>0.29</td>\n",
       "    </tr>\n",
       "    <tr>\n",
       "      <th>4</th>\n",
       "      <td>A23G 3/46</td>\n",
       "      <td>A23G</td>\n",
       "      <td>Food chemistry</td>\n",
       "      <td>3</td>\n",
       "      <td>0.29</td>\n",
       "    </tr>\n",
       "  </tbody>\n",
       "</table>\n",
       "</div>"
      ],
      "text/plain": [
       "           IPC  IPC1             Area  Contagem  Porcentagem\n",
       "0   A21D 13/80  A21D   Food chemistry         5         0.49\n",
       "1   C12C 12/00  C12C   Food chemistry         4         0.39\n",
       "2   G09B 23/32  G09B          Control         3         0.29\n",
       "3  A61K 35/644  A61K  Pharmaceuticals         3         0.29\n",
       "4    A23G 3/46  A23G   Food chemistry         3         0.29"
      ]
     },
     "execution_count": 10,
     "metadata": {},
     "output_type": "execute_result"
    }
   ],
   "source": [
    "df_contadorIF=generate_counter_df(data_analiseCI_IF)\n",
    "df_contadorIF.head()\n"
   ]
  },
  {
   "cell_type": "code",
   "execution_count": 19,
   "id": "4843baad-3121-47ea-9a0f-a4962fbb6dc3",
   "metadata": {
    "tags": []
   },
   "outputs": [
    {
     "data": {
      "text/html": [
       "<div>\n",
       "<style scoped>\n",
       "    .dataframe tbody tr th:only-of-type {\n",
       "        vertical-align: middle;\n",
       "    }\n",
       "\n",
       "    .dataframe tbody tr th {\n",
       "        vertical-align: top;\n",
       "    }\n",
       "\n",
       "    .dataframe thead th {\n",
       "        text-align: right;\n",
       "    }\n",
       "</style>\n",
       "<table border=\"1\" class=\"dataframe\">\n",
       "  <thead>\n",
       "    <tr style=\"text-align: right;\">\n",
       "      <th></th>\n",
       "      <th>Area</th>\n",
       "      <th>Contagem</th>\n",
       "      <th>Porcentagem</th>\n",
       "    </tr>\n",
       "  </thead>\n",
       "  <tbody>\n",
       "    <tr>\n",
       "      <th>0</th>\n",
       "      <td>Food chemistry</td>\n",
       "      <td>129</td>\n",
       "      <td>12.85</td>\n",
       "    </tr>\n",
       "    <tr>\n",
       "      <th>1</th>\n",
       "      <td>Pharmaceuticals</td>\n",
       "      <td>96</td>\n",
       "      <td>9.57</td>\n",
       "    </tr>\n",
       "    <tr>\n",
       "      <th>2</th>\n",
       "      <td>Basic materials chemistry</td>\n",
       "      <td>86</td>\n",
       "      <td>8.58</td>\n",
       "    </tr>\n",
       "    <tr>\n",
       "      <th>3</th>\n",
       "      <td>Other special machines</td>\n",
       "      <td>85</td>\n",
       "      <td>8.49</td>\n",
       "    </tr>\n",
       "    <tr>\n",
       "      <th>4</th>\n",
       "      <td>Medical technology</td>\n",
       "      <td>60</td>\n",
       "      <td>5.99</td>\n",
       "    </tr>\n",
       "  </tbody>\n",
       "</table>\n",
       "</div>"
      ],
      "text/plain": [
       "                        Area  Contagem  Porcentagem\n",
       "0             Food chemistry       129        12.85\n",
       "1            Pharmaceuticals        96         9.57\n",
       "2  Basic materials chemistry        86         8.58\n",
       "3     Other special machines        85         8.49\n",
       "4         Medical technology        60         5.99"
      ]
     },
     "execution_count": 19,
     "metadata": {},
     "output_type": "execute_result"
    }
   ],
   "source": [
    "area_tecnologicaIF=generate_campo_tecnologico(df_contadorIF)\n",
    "area_tecnologicaIF.head()\n"
   ]
  },
  {
   "cell_type": "code",
   "execution_count": 12,
   "id": "ebcd4c90-aed8-4322-9691-cf68fe5706d1",
   "metadata": {
    "jupyter": {
     "source_hidden": true
    },
    "tags": []
   },
   "outputs": [
    {
     "name": "stdout",
     "output_type": "stream",
     "text": [
      "<class 'pandas.core.frame.DataFrame'>\n",
      "Index: 3176 entries, 0 to 3790\n",
      "Data columns (total 48 columns):\n",
      " #   Column       Non-Null Count  Dtype \n",
      "---  ------       --------------  ----- \n",
      " 0   titular_1    3176 non-null   object\n",
      " 1   titular_uf1  3168 non-null   object\n",
      " 2   class_int1   3126 non-null   object\n",
      " 3   class_int2   2448 non-null   object\n",
      " 4   class_int3   1587 non-null   object\n",
      " 5   class_int4   884 non-null    object\n",
      " 6   class_int5   462 non-null    object\n",
      " 7   class_int6   238 non-null    object\n",
      " 8   class_int7   137 non-null    object\n",
      " 9   class_int8   81 non-null     object\n",
      " 10  class_int9   53 non-null     object\n",
      " 11  class_int10  32 non-null     object\n",
      " 12  class_int11  21 non-null     object\n",
      " 13  class_int12  13 non-null     object\n",
      " 14  class_int13  11 non-null     object\n",
      " 15  class_int14  8 non-null      object\n",
      " 16  class_int15  7 non-null      object\n",
      " 17  class_int16  6 non-null      object\n",
      " 18  class_int17  5 non-null      object\n",
      " 19  class_int18  5 non-null      object\n",
      " 20  class_int19  4 non-null      object\n",
      " 21  class_int20  4 non-null      object\n",
      " 22  class_int21  3 non-null      object\n",
      " 23  class_int22  3 non-null      object\n",
      " 24  class_int23  3 non-null      object\n",
      " 25  class_int24  2 non-null      object\n",
      " 26  class_int25  2 non-null      object\n",
      " 27  class_int26  1 non-null      object\n",
      " 28  class_int27  1 non-null      object\n",
      " 29  class_int28  1 non-null      object\n",
      " 30  class_int29  1 non-null      object\n",
      " 31  class_int30  1 non-null      object\n",
      " 32  class_int31  1 non-null      object\n",
      " 33  class_int32  1 non-null      object\n",
      " 34  class_int33  1 non-null      object\n",
      " 35  class_int34  1 non-null      object\n",
      " 36  class_int35  1 non-null      object\n",
      " 37  class_int36  1 non-null      object\n",
      " 38  class_int37  1 non-null      object\n",
      " 39  class_int38  1 non-null      object\n",
      " 40  class_int39  1 non-null      object\n",
      " 41  class_int40  1 non-null      object\n",
      " 42  class_int41  1 non-null      object\n",
      " 43  class_int42  1 non-null      object\n",
      " 44  class_int43  1 non-null      object\n",
      " 45  class_int44  1 non-null      object\n",
      " 46  class_int45  1 non-null      object\n",
      " 47  class_int46  1 non-null      object\n",
      "dtypes: object(48)\n",
      "memory usage: 1.2+ MB\n"
     ]
    }
   ],
   "source": [
    "data_analiseCI_UV=data_analiseCI[data_analiseCI['titular_1'].str.contains('UNIVERSIDADE')]\n",
    "data_analiseCI_UV.info()\n",
    "    "
   ]
  },
  {
   "cell_type": "code",
   "execution_count": null,
   "id": "418e9cf2-54ff-4dd6-b26a-02012b7f26d3",
   "metadata": {},
   "outputs": [],
   "source": []
  },
  {
   "cell_type": "markdown",
   "id": "4311e131-7ff6-4d02-9042-ecd5db6dbaaa",
   "metadata": {
    "tags": []
   },
   "source": [
    "## Área Tecnológica por Universidades Federais: Brasil"
   ]
  },
  {
   "cell_type": "code",
   "execution_count": 13,
   "id": "d5e7aaf6-e217-4f14-94c3-94531fc056d7",
   "metadata": {
    "tags": []
   },
   "outputs": [
    {
     "data": {
      "text/html": [
       "<div>\n",
       "<style scoped>\n",
       "    .dataframe tbody tr th:only-of-type {\n",
       "        vertical-align: middle;\n",
       "    }\n",
       "\n",
       "    .dataframe tbody tr th {\n",
       "        vertical-align: top;\n",
       "    }\n",
       "\n",
       "    .dataframe thead th {\n",
       "        text-align: right;\n",
       "    }\n",
       "</style>\n",
       "<table border=\"1\" class=\"dataframe\">\n",
       "  <thead>\n",
       "    <tr style=\"text-align: right;\">\n",
       "      <th></th>\n",
       "      <th>IPC</th>\n",
       "      <th>IPC1</th>\n",
       "      <th>Area</th>\n",
       "      <th>Contagem</th>\n",
       "      <th>Porcentagem</th>\n",
       "    </tr>\n",
       "  </thead>\n",
       "  <tbody>\n",
       "    <tr>\n",
       "      <th>0</th>\n",
       "      <td>A61K 36/185</td>\n",
       "      <td>A61K</td>\n",
       "      <td>Pharmaceuticals</td>\n",
       "      <td>33</td>\n",
       "      <td>0.36</td>\n",
       "    </tr>\n",
       "    <tr>\n",
       "      <th>1</th>\n",
       "      <td>G01N 33/569</td>\n",
       "      <td>G01N</td>\n",
       "      <td>Analysis of biological materials</td>\n",
       "      <td>30</td>\n",
       "      <td>0.33</td>\n",
       "    </tr>\n",
       "    <tr>\n",
       "      <th>2</th>\n",
       "      <td>C07K 7/08</td>\n",
       "      <td>C07K</td>\n",
       "      <td>Biotechnology</td>\n",
       "      <td>26</td>\n",
       "      <td>0.28</td>\n",
       "    </tr>\n",
       "    <tr>\n",
       "      <th>3</th>\n",
       "      <td>A23L 19/00</td>\n",
       "      <td>A23L</td>\n",
       "      <td>Food chemistry</td>\n",
       "      <td>21</td>\n",
       "      <td>0.23</td>\n",
       "    </tr>\n",
       "    <tr>\n",
       "      <th>4</th>\n",
       "      <td>A23B 7/02</td>\n",
       "      <td>A23B</td>\n",
       "      <td>Food chemistry</td>\n",
       "      <td>18</td>\n",
       "      <td>0.20</td>\n",
       "    </tr>\n",
       "  </tbody>\n",
       "</table>\n",
       "</div>"
      ],
      "text/plain": [
       "           IPC  IPC1                              Area  Contagem  Porcentagem\n",
       "0  A61K 36/185  A61K                   Pharmaceuticals        33         0.36\n",
       "1  G01N 33/569  G01N  Analysis of biological materials        30         0.33\n",
       "2    C07K 7/08  C07K                     Biotechnology        26         0.28\n",
       "3   A23L 19/00  A23L                    Food chemistry        21         0.23\n",
       "4    A23B 7/02  A23B                    Food chemistry        18         0.20"
      ]
     },
     "execution_count": 13,
     "metadata": {},
     "output_type": "execute_result"
    }
   ],
   "source": [
    "df_contadorUV=generate_counter_df(data_analiseCI_UV)\n",
    "df_contadorUV.head()"
   ]
  },
  {
   "cell_type": "code",
   "execution_count": 14,
   "id": "f04905d3-6b7d-49c1-a38d-fb2893d80f14",
   "metadata": {
    "tags": []
   },
   "outputs": [
    {
     "data": {
      "text/html": [
       "<div>\n",
       "<style scoped>\n",
       "    .dataframe tbody tr th:only-of-type {\n",
       "        vertical-align: middle;\n",
       "    }\n",
       "\n",
       "    .dataframe tbody tr th {\n",
       "        vertical-align: top;\n",
       "    }\n",
       "\n",
       "    .dataframe thead th {\n",
       "        text-align: right;\n",
       "    }\n",
       "</style>\n",
       "<table border=\"1\" class=\"dataframe\">\n",
       "  <thead>\n",
       "    <tr style=\"text-align: right;\">\n",
       "      <th></th>\n",
       "      <th>Area</th>\n",
       "      <th>Contagem</th>\n",
       "      <th>Porcentagem</th>\n",
       "    </tr>\n",
       "  </thead>\n",
       "  <tbody>\n",
       "    <tr>\n",
       "      <th>0</th>\n",
       "      <td>Pharmaceuticals</td>\n",
       "      <td>2275</td>\n",
       "      <td>23.42</td>\n",
       "    </tr>\n",
       "    <tr>\n",
       "      <th>1</th>\n",
       "      <td>Biotechnology</td>\n",
       "      <td>901</td>\n",
       "      <td>9.24</td>\n",
       "    </tr>\n",
       "    <tr>\n",
       "      <th>2</th>\n",
       "      <td>Food chemistry</td>\n",
       "      <td>831</td>\n",
       "      <td>8.60</td>\n",
       "    </tr>\n",
       "    <tr>\n",
       "      <th>3</th>\n",
       "      <td>Basic materials chemistry</td>\n",
       "      <td>613</td>\n",
       "      <td>6.22</td>\n",
       "    </tr>\n",
       "    <tr>\n",
       "      <th>4</th>\n",
       "      <td>Medical technology</td>\n",
       "      <td>501</td>\n",
       "      <td>5.05</td>\n",
       "    </tr>\n",
       "  </tbody>\n",
       "</table>\n",
       "</div>"
      ],
      "text/plain": [
       "                        Area  Contagem  Porcentagem\n",
       "0            Pharmaceuticals      2275        23.42\n",
       "1              Biotechnology       901         9.24\n",
       "2             Food chemistry       831         8.60\n",
       "3  Basic materials chemistry       613         6.22\n",
       "4         Medical technology       501         5.05"
      ]
     },
     "execution_count": 14,
     "metadata": {},
     "output_type": "execute_result"
    }
   ],
   "source": [
    "area_tecnologicaUV=generate_campo_tecnologico(df_contadorUV)\n",
    "area_tecnologicaUV.head(5)"
   ]
  },
  {
   "cell_type": "code",
   "execution_count": 15,
   "id": "553e60ab-be40-4ab1-b915-998bf0a23362",
   "metadata": {
    "collapsed": true,
    "jupyter": {
     "outputs_hidden": true
    },
    "tags": []
   },
   "outputs": [
    {
     "data": {
      "text/plain": [
       "array(['INSTITUTO FEDERAL DE EDUCAÇÃO, CIÊNCIA E TECNOLOGIA DE PERNAMBUCO',\n",
       "       'INSTITUTO FEDERAL DE EDUCAÇÃO, CIÊNCIA E TECNOLOGIA GOIANO',\n",
       "       'INSTITUTO DE TECNOLOGIA E PESQUISA',\n",
       "       'INSTITUTO FEDERAL DE EDUCAÇÃO, CIÊNCIA E TECNOLOGIA DO SUL DE MINAS GERAIS - IFSULDEMINAS',\n",
       "       'INSTITUTO FEDERAL DE EDUCAÇÃO CIÊNCIA E TECNOLOGIA DO ESPIRITO SANTO',\n",
       "       'INSTITUTO FEDERAL DE EDUCAÇÃO, CIÊNCIA E TECNOLOGIA DE RONDÔNIA',\n",
       "       'INSTITUTO FEDERAL DE SANTA CATARINA',\n",
       "       'INSTITUTO FEDERAL DE EDUCAÇÃO, CIÊNCIA E TECNOLOGIA DO PIAUÍ',\n",
       "       'INSTITUTO FEDERAL DO PARANÁ',\n",
       "       'INSTITUTO FEDERAL DE EDUCAÇÃO, CIÊNCIA E TECNOLOGIA DO RIO GRANDE DO NORTE',\n",
       "       'INSTITUTO FEDERAL SUL-RIO-GRANDENSE',\n",
       "       'INSTITUTO FEDERAL DE EDUCAÇÃO, CIÊNCIA E TECNOLOGIA DO SERTÃO PERNAMBUCANO',\n",
       "       'INSTITUTO FEDERAL DE EDUCAÇÃO CIÊNCIA E TECNOLOGIA DO AMAZONAS',\n",
       "       'INSTITUTO FEDERAL DE EDUCACAO, CIENCIA E TECNOLOGIA DA PARAIBA',\n",
       "       'INSTITUTO FEDERAL DE EDUCAÇÃO, CIÊNCIA E TECNOLOGIA DO CEARÁ',\n",
       "       'INSTITUTO FEDERAL DE EDUCAÇÃO, CIÊNCIA E TECNOLOGIA BAIANO',\n",
       "       'INSTITUTO FEDERAL DE EDUCAÇÃO CIÊNCIA E TECNOLOGIA DO MARANHÃO',\n",
       "       'INSTITUTO FEDERAL DE EDUCAÇÃO, CIÊNCIA E TECNOLOGIA DA PARAÍBA',\n",
       "       'INSTITUTO FEDERAL DE EDUCAÇÃO, CIÊNCIA E TECNOLOGIA DA BAHIA - IFBA',\n",
       "       'INSTITUTO NACIONAL DE TECNOLOGIA',\n",
       "       'INSTITUTO FEDERAL DE EDUCAÇÃO, CIÊNCIA E TECNOLOGIA DE SANTA CATARINA',\n",
       "       'INSTITUTO FEDERAL DE EDUCAÇÃO, CIÊNCIA E TECNOLOGIA DO RIO GRANDE DO SUL',\n",
       "       'INSTITUTO FEDERAL DE EDUCAÇÃO CIENCIA E TECNOLOGIA DE MINAS GERAIS',\n",
       "       'INSTITUTO FEDERAL DE EDUCAÇÃO, CIÊNCIA E TECNOLOGIA DE ALAGOAS - IFAL',\n",
       "       'INSTITUTO FEDERAL CATARINENSE',\n",
       "       'INSTITUTO FEDERAL DE EDUCAÇÃO CIÊNCIA E TECNOLOGIA DO ESPÍRITO SANTO',\n",
       "       'INSTITUTO FEDERAL DE EDUCAÇÃO, CIÊNCIA E TECNOLOGIA DE GOIÁS',\n",
       "       'INSTITUTO FEDERAL DE EDUCACAO, CIENCIA E TECNOLOGIA FARROUPILHA',\n",
       "       'INSTITUTO FEDERAL DE EDUCAÇÃO, CIÊNCIA E TECNOLOGIA DE MATO GROSSO',\n",
       "       'INSTITUTO FEDERAL DE EDUCAÇÃO, CIÊNCIA E TECNOLOGIA DE SÃO PAULO',\n",
       "       'INSTITUTO FEDERAL DE EDUCAÇÃO, CIÊNCIA E TECNOLOGIA FLUMINENSE',\n",
       "       'INSTITUTO FEDERAL DO TOCANTINS',\n",
       "       'INSTITUTO FEDERAL DE EDUCAÇÃO, CIÊNCIA E TECNOLOGIA DO RIO DE JANEIRO',\n",
       "       'INSTITUTO FEDERAL DE EDUCAÇÃO CIÊNCIA E TECNOLOGIA DO AMAPÁ',\n",
       "       'INSTITUTO FEDERAL DE EDUCAÇÃO, CIÊNCIA E TECNOLOGIA DO SUDESTE DE MINAS',\n",
       "       'INSTITUTO FEDERAL DE EDUCAÇÃO CIÊNCIA E TECNOLOGIA DO PARÁ',\n",
       "       'INSTITUTO FEDERAL DE EDUCAÇÃO,CIENCIA E TECNOLOGIA DO ACRE',\n",
       "       'INSTITUTO FEDERAL DE EDUCAÇÃO, CIÊNCIA E TECNOLOGIA DO RIO DE JANEIRO (IFRJ)',\n",
       "       'INSTITUTO FEDERAL DE EDUCAÇÃO, CIÊNCIA E TECNOLOGIA DO TRIÂNGULO MINEIRO',\n",
       "       'INSTITUTO FEDERAL DE EDUCAÇÃO, CIÊNCIA E TECNOLOGIA DE MATO GROSSO DO SUL'],\n",
       "      dtype=object)"
      ]
     },
     "execution_count": 15,
     "metadata": {},
     "output_type": "execute_result"
    }
   ],
   "source": [
    "data_analiseCI_IF['titular_1'].unique()"
   ]
  },
  {
   "cell_type": "markdown",
   "id": "1c754d89-1c76-4fe0-98ee-df2383d6277b",
   "metadata": {},
   "source": [
    "## Gerando gráficos..."
   ]
  },
  {
   "cell_type": "markdown",
   "id": "7ae8ae0f-4b10-4ffb-8f28-ad5268b66de4",
   "metadata": {},
   "source": [
    "### Área Tecnológica: Universidades Federais Brasileiras"
   ]
  },
  {
   "cell_type": "code",
   "execution_count": 32,
   "id": "a32aa36d-6e26-47b5-ab44-479d8767812a",
   "metadata": {
    "tags": []
   },
   "outputs": [
    {
     "data": {
      "text/plain": [
       "Text(0.5, 1.0, 'Área Tecnologica: Universidades Federais')"
      ]
     },
     "execution_count": 32,
     "metadata": {},
     "output_type": "execute_result"
    },
    {
     "data": {
      "image/png": "[encoded data removed]",
      "text/plain": [
       "<Figure size 800x600 with 1 Axes>"
      ]
     },
     "metadata": {},
     "output_type": "display_data"
    }
   ],
   "source": [
    "plt.figure(figsize=(8, 6)) \n",
    "sns.barplot(x=\"Porcentagem\", y=\"Area\", \n",
    "            hue=\"Area\", data=area_tecnologicaUV.head(5), \n",
    "            palette=\"Greens\") \n",
    "  \n",
    "plt.ylabel(\"Área Tecnológica\", size=14) \n",
    "plt.xlabel(\"Porcentagem\", size=14) \n",
    "plt.title(\"Área Tecnologica: Universidades Federais\", size=18)"
   ]
  },
  {
   "cell_type": "markdown",
   "id": "c867b00d-e0cc-4c00-9c9d-67867c6c14bb",
   "metadata": {},
   "source": [
    "### Área Tecnológica: Institutos Federais Brasileiros"
   ]
  },
  {
   "cell_type": "code",
   "execution_count": null,
   "id": "1ea862db-bdc5-413d-9828-ebbf9f667a4b",
   "metadata": {},
   "outputs": [],
   "source": []
  }
 ],
 "metadata": {
  "kernelspec": {
   "display_name": "Python 3 (ipykernel)",
   "language": "python",
   "name": "python3"
  },
  "language_info": {
   "codemirror_mode": {
    "name": "ipython",
    "version": 3
   },
   "file_extension": ".py",
   "mimetype": "text/x-python",
   "name": "python",
   "nbconvert_exporter": "python",
   "pygments_lexer": "ipython3",
   "version": "3.11.5"
  }
 },
 "nbformat": 4,
 "nbformat_minor": 5
}
