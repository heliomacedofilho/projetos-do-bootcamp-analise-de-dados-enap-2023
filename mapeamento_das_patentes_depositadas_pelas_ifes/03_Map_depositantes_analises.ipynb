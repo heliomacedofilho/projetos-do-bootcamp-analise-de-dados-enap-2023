{
 "cells": [
  {
   "cell_type": "code",
   "execution_count": 1,
   "id": "f9fa0b61-d37b-4625-b612-7f019a29caa9",
   "metadata": {},
   "outputs": [],
   "source": [
    "#!pip install streamlit\n",
    "#!pip install plotly\n",
    "#!pip install seaborn"
   ]
  },
  {
   "cell_type": "code",
   "execution_count": 1,
   "id": "837ecbc1-334a-4e15-bb5e-25c543e6c1b7",
   "metadata": {},
   "outputs": [],
   "source": [
    "import pandas as pd\n",
    "import streamlit as st\n",
    "import matplotlib.pyplot as plt\n",
    "import plotly.express as px\n",
    "import seaborn as sns\n",
    "import plotly.graph_objs as go\n",
    "import plotly.offline as pyo\n",
    "from plotly.offline import iplot"
   ]
  },
  {
   "cell_type": "markdown",
   "id": "ca319bc7-17b1-4cc8-81ab-6dfc69da4572",
   "metadata": {},
   "source": [
    "# Bibliotecas"
   ]
  },
  {
   "cell_type": "markdown",
   "id": "d9819bfa-a700-4b01-afe4-0aaf0b26c94e",
   "metadata": {},
   "source": [
    "# Carregar o Dataframe"
   ]
  },
  {
   "cell_type": "code",
   "execution_count": 2,
   "id": "41b8261a-06e0-4538-b771-64f0b0e96f95",
   "metadata": {},
   "outputs": [
    {
     "name": "stdout",
     "output_type": "stream",
     "text": [
      "<class 'pandas.core.frame.DataFrame'>\n",
      "RangeIndex: 3791 entries, 0 to 3790\n",
      "Data columns (total 31 columns):\n",
      " #   Column               Non-Null Count  Dtype  \n",
      "---  ------               --------------  -----  \n",
      " 0   ID                   3791 non-null   object \n",
      " 1   data_publicacao      3791 non-null   object \n",
      " 2   diretoria            3791 non-null   object \n",
      " 3   numero_revista       3791 non-null   int64  \n",
      " 4   codigo               3791 non-null   float64\n",
      " 5   titulo               3791 non-null   object \n",
      " 6   numero               3791 non-null   object \n",
      " 7   data_deposito        3791 non-null   object \n",
      " 8   data_prioridade      4 non-null      object \n",
      " 9   cod_prioridade       4 non-null      object \n",
      " 10  classif_internacion  3728 non-null   object \n",
      " 11  classif_nacion       2516 non-null   object \n",
      " 12  titulo_inid          3791 non-null   object \n",
      " 13  titular_nome         3791 non-null   object \n",
      " 14  titular_uf           3782 non-null   object \n",
      " 15  titular_pais         3791 non-null   object \n",
      " 16  inventor_nome        3791 non-null   object \n",
      " 17  titular_1            3791 non-null   object \n",
      " 18  titular_parceiros1   1139 non-null   object \n",
      " 19  titular_parceiros2   286 non-null    object \n",
      " 20  titular_abv          3513 non-null   object \n",
      " 21  titular_uf1          3782 non-null   object \n",
      " 22  titular_uf2          1119 non-null   object \n",
      " 23  classif_nac1         2516 non-null   object \n",
      " 24  classif_nac2         1883 non-null   object \n",
      " 25  classif_nac3         1245 non-null   object \n",
      " 26  classif_internac1    3728 non-null   object \n",
      " 27  classif_internac2    2893 non-null   object \n",
      " 28  classif_internac3    1868 non-null   object \n",
      " 29  inventor_1           3791 non-null   object \n",
      " 30  inventor_outros      3681 non-null   object \n",
      "dtypes: float64(1), int64(1), object(29)\n",
      "memory usage: 918.3+ KB\n"
     ]
    }
   ],
   "source": [
    "# Carregar o arquivo CSV\n",
    "df_ifes = pd.read_csv('data_ifes.csv')\n",
    "df_ifes.info()"
   ]
  },
  {
   "cell_type": "code",
   "execution_count": 3,
   "id": "05ab44fc-47cb-4d62-9e54-d165f50523a2",
   "metadata": {},
   "outputs": [
    {
     "data": {
      "text/html": [
       "<div>\n",
       "<style scoped>\n",
       "    .dataframe tbody tr th:only-of-type {\n",
       "        vertical-align: middle;\n",
       "    }\n",
       "\n",
       "    .dataframe tbody tr th {\n",
       "        vertical-align: top;\n",
       "    }\n",
       "\n",
       "    .dataframe thead th {\n",
       "        text-align: right;\n",
       "    }\n",
       "</style>\n",
       "<table border=\"1\" class=\"dataframe\">\n",
       "  <thead>\n",
       "    <tr style=\"text-align: right;\">\n",
       "      <th></th>\n",
       "      <th>ID</th>\n",
       "      <th>data_publicacao</th>\n",
       "      <th>diretoria</th>\n",
       "      <th>numero_revista</th>\n",
       "      <th>codigo</th>\n",
       "      <th>titulo</th>\n",
       "      <th>numero</th>\n",
       "      <th>data_deposito</th>\n",
       "      <th>data_prioridade</th>\n",
       "      <th>cod_prioridade</th>\n",
       "      <th>...</th>\n",
       "      <th>titular_uf1</th>\n",
       "      <th>titular_uf2</th>\n",
       "      <th>classif_nac1</th>\n",
       "      <th>classif_nac2</th>\n",
       "      <th>classif_nac3</th>\n",
       "      <th>classif_internac1</th>\n",
       "      <th>classif_internac2</th>\n",
       "      <th>classif_internac3</th>\n",
       "      <th>inventor_1</th>\n",
       "      <th>inventor_outros</th>\n",
       "    </tr>\n",
       "  </thead>\n",
       "  <tbody>\n",
       "    <tr>\n",
       "      <th>0</th>\n",
       "      <td>ID00003</td>\n",
       "      <td>07/01/2020</td>\n",
       "      <td>Patente</td>\n",
       "      <td>2557</td>\n",
       "      <td>3.1</td>\n",
       "      <td>Publicação do Pedido de Patente ou de Certific...</td>\n",
       "      <td>BR 10 2017 004929-9</td>\n",
       "      <td>13/03/2017</td>\n",
       "      <td>NaN</td>\n",
       "      <td>NaN</td>\n",
       "      <td>...</td>\n",
       "      <td>CE</td>\n",
       "      <td>NaN</td>\n",
       "      <td>H01Q 13/106</td>\n",
       "      <td>H01Q 1/241</td>\n",
       "      <td>NaN</td>\n",
       "      <td>H01Q 13/10</td>\n",
       "      <td>H01Q 1/24</td>\n",
       "      <td>NaN</td>\n",
       "      <td>ANTONIO SERGIO BEZERRA SOMBRA</td>\n",
       "      <td>RONALDO GLAUBER MAIA DE OLIVEIRA; ANTÔNIO JEFF...</td>\n",
       "    </tr>\n",
       "    <tr>\n",
       "      <th>1</th>\n",
       "      <td>ID00005</td>\n",
       "      <td>07/01/2020</td>\n",
       "      <td>Patente</td>\n",
       "      <td>2557</td>\n",
       "      <td>3.1</td>\n",
       "      <td>Publicação do Pedido de Patente ou de Certific...</td>\n",
       "      <td>BR 10 2017 026178-6</td>\n",
       "      <td>05/12/2017</td>\n",
       "      <td>NaN</td>\n",
       "      <td>NaN</td>\n",
       "      <td>...</td>\n",
       "      <td>AM</td>\n",
       "      <td>NaN</td>\n",
       "      <td>H04L 67/42</td>\n",
       "      <td>H04L 61/1558</td>\n",
       "      <td>H04L 29/12141</td>\n",
       "      <td>H04L 29/06</td>\n",
       "      <td>H04L 29/12</td>\n",
       "      <td>NaN</td>\n",
       "      <td>EDUARDO JAMES PEREIRA SOUTO</td>\n",
       "      <td>NAMEDIN PEREIRA TELES JÚNIOR</td>\n",
       "    </tr>\n",
       "    <tr>\n",
       "      <th>2</th>\n",
       "      <td>ID00011</td>\n",
       "      <td>07/01/2020</td>\n",
       "      <td>Patente</td>\n",
       "      <td>2557</td>\n",
       "      <td>3.1</td>\n",
       "      <td>Publicação do Pedido de Patente ou de Certific...</td>\n",
       "      <td>BR 10 2018 012005-0</td>\n",
       "      <td>13/06/2018</td>\n",
       "      <td>NaN</td>\n",
       "      <td>NaN</td>\n",
       "      <td>...</td>\n",
       "      <td>PE</td>\n",
       "      <td>PE; PE</td>\n",
       "      <td>G01D 3/08</td>\n",
       "      <td>NaN</td>\n",
       "      <td>NaN</td>\n",
       "      <td>G01D 3/08</td>\n",
       "      <td>NaN</td>\n",
       "      <td>NaN</td>\n",
       "      <td>JOSÉ EDUARDO FERREIRA DE OLIVEIRA</td>\n",
       "      <td>NELSON GONÇALVES DA SILVA; EDUARDO JOSÉ ALÉCIO...</td>\n",
       "    </tr>\n",
       "    <tr>\n",
       "      <th>3</th>\n",
       "      <td>ID00015</td>\n",
       "      <td>07/01/2020</td>\n",
       "      <td>Patente</td>\n",
       "      <td>2557</td>\n",
       "      <td>3.1</td>\n",
       "      <td>Publicação do Pedido de Patente ou de Certific...</td>\n",
       "      <td>BR 10 2018 012049-2</td>\n",
       "      <td>14/06/2018</td>\n",
       "      <td>NaN</td>\n",
       "      <td>NaN</td>\n",
       "      <td>...</td>\n",
       "      <td>GO</td>\n",
       "      <td>NaN</td>\n",
       "      <td>A21D 13/045</td>\n",
       "      <td>A21D 13/047</td>\n",
       "      <td>A21D 13/066</td>\n",
       "      <td>A21D 13/045</td>\n",
       "      <td>A21D 13/047</td>\n",
       "      <td>A21D 13/066</td>\n",
       "      <td>RAFAIANE MACEDO GUIMARÃES</td>\n",
       "      <td>MARIANA BURANELO EGEA</td>\n",
       "    </tr>\n",
       "    <tr>\n",
       "      <th>4</th>\n",
       "      <td>ID00024</td>\n",
       "      <td>07/01/2020</td>\n",
       "      <td>Patente</td>\n",
       "      <td>2557</td>\n",
       "      <td>3.1</td>\n",
       "      <td>Publicação do Pedido de Patente ou de Certific...</td>\n",
       "      <td>BR 10 2018 012161-8</td>\n",
       "      <td>14/06/2018</td>\n",
       "      <td>NaN</td>\n",
       "      <td>NaN</td>\n",
       "      <td>...</td>\n",
       "      <td>MG</td>\n",
       "      <td>NaN</td>\n",
       "      <td>NaN</td>\n",
       "      <td>NaN</td>\n",
       "      <td>NaN</td>\n",
       "      <td>C12Q 1/68</td>\n",
       "      <td>C12R 1/01</td>\n",
       "      <td>NaN</td>\n",
       "      <td>ANA GRACI BRITO MADURRO</td>\n",
       "      <td>JOÃO MARCOS MADURRO; PEDRO HENRIQUE GONÇALVES ...</td>\n",
       "    </tr>\n",
       "    <tr>\n",
       "      <th>5</th>\n",
       "      <td>ID00026</td>\n",
       "      <td>07/01/2020</td>\n",
       "      <td>Patente</td>\n",
       "      <td>2557</td>\n",
       "      <td>3.1</td>\n",
       "      <td>Publicação do Pedido de Patente ou de Certific...</td>\n",
       "      <td>BR 10 2018 012376-9</td>\n",
       "      <td>18/06/2018</td>\n",
       "      <td>NaN</td>\n",
       "      <td>NaN</td>\n",
       "      <td>...</td>\n",
       "      <td>MA</td>\n",
       "      <td>NaN</td>\n",
       "      <td>NaN</td>\n",
       "      <td>NaN</td>\n",
       "      <td>NaN</td>\n",
       "      <td>C12Q 1/00</td>\n",
       "      <td>NaN</td>\n",
       "      <td>NaN</td>\n",
       "      <td>ALLYSSON KAYRON DE CARVALHO SILVA</td>\n",
       "      <td>LAIANE ARAÚJO DA SILVA SOUTO; TALITA DA SILVA ...</td>\n",
       "    </tr>\n",
       "    <tr>\n",
       "      <th>6</th>\n",
       "      <td>ID00030</td>\n",
       "      <td>07/01/2020</td>\n",
       "      <td>Patente</td>\n",
       "      <td>2557</td>\n",
       "      <td>3.1</td>\n",
       "      <td>Publicação do Pedido de Patente ou de Certific...</td>\n",
       "      <td>BR 10 2018 012385-8</td>\n",
       "      <td>18/06/2018</td>\n",
       "      <td>NaN</td>\n",
       "      <td>NaN</td>\n",
       "      <td>...</td>\n",
       "      <td>PR</td>\n",
       "      <td>NaN</td>\n",
       "      <td>C01B 39/04</td>\n",
       "      <td>NaN</td>\n",
       "      <td>NaN</td>\n",
       "      <td>C01B 39/04</td>\n",
       "      <td>NaN</td>\n",
       "      <td>NaN</td>\n",
       "      <td>PEDRO AUGUSTO ARROYO</td>\n",
       "      <td>MURILO PEREIRA MOISÉS; ELCIANE REGINA ZANATTA</td>\n",
       "    </tr>\n",
       "    <tr>\n",
       "      <th>7</th>\n",
       "      <td>ID00031</td>\n",
       "      <td>07/01/2020</td>\n",
       "      <td>Patente</td>\n",
       "      <td>2557</td>\n",
       "      <td>3.1</td>\n",
       "      <td>Publicação do Pedido de Patente ou de Certific...</td>\n",
       "      <td>BR 10 2018 012394-7</td>\n",
       "      <td>18/06/2018</td>\n",
       "      <td>NaN</td>\n",
       "      <td>NaN</td>\n",
       "      <td>...</td>\n",
       "      <td>RJ</td>\n",
       "      <td>RS</td>\n",
       "      <td>G01N 29/0645</td>\n",
       "      <td>NaN</td>\n",
       "      <td>NaN</td>\n",
       "      <td>G01N 29/06</td>\n",
       "      <td>NaN</td>\n",
       "      <td>NaN</td>\n",
       "      <td>THOMAS GABRIEL ROSAURO CLARKE</td>\n",
       "      <td>SERGIO DAMASCENO SOARES; RICARDO CALLEGARI JAC...</td>\n",
       "    </tr>\n",
       "    <tr>\n",
       "      <th>8</th>\n",
       "      <td>ID00035</td>\n",
       "      <td>07/01/2020</td>\n",
       "      <td>Patente</td>\n",
       "      <td>2557</td>\n",
       "      <td>3.1</td>\n",
       "      <td>Publicação do Pedido de Patente ou de Certific...</td>\n",
       "      <td>BR 10 2018 012412-9</td>\n",
       "      <td>18/06/2018</td>\n",
       "      <td>NaN</td>\n",
       "      <td>NaN</td>\n",
       "      <td>...</td>\n",
       "      <td>PB</td>\n",
       "      <td>NaN</td>\n",
       "      <td>A23C 19/0765</td>\n",
       "      <td>A23L 33/135</td>\n",
       "      <td>A23L 33/21</td>\n",
       "      <td>A23C 19/076</td>\n",
       "      <td>A23L 33/135</td>\n",
       "      <td>A23L 33/21</td>\n",
       "      <td>JANAINA SEVERO DE LIMA GAMA</td>\n",
       "      <td>MARIA ELIEIDY GOMES DE OLIVEIRA; ANA CRISTINA ...</td>\n",
       "    </tr>\n",
       "    <tr>\n",
       "      <th>9</th>\n",
       "      <td>ID00036</td>\n",
       "      <td>07/01/2020</td>\n",
       "      <td>Patente</td>\n",
       "      <td>2557</td>\n",
       "      <td>3.1</td>\n",
       "      <td>Publicação do Pedido de Patente ou de Certific...</td>\n",
       "      <td>BR 10 2018 012435-8</td>\n",
       "      <td>18/06/2018</td>\n",
       "      <td>NaN</td>\n",
       "      <td>NaN</td>\n",
       "      <td>...</td>\n",
       "      <td>MG</td>\n",
       "      <td>NaN</td>\n",
       "      <td>NaN</td>\n",
       "      <td>NaN</td>\n",
       "      <td>NaN</td>\n",
       "      <td>H02S 40/32</td>\n",
       "      <td>G05F 1/67</td>\n",
       "      <td>NaN</td>\n",
       "      <td>LUIZ CARLOS GOMES DE FREITAS</td>\n",
       "      <td>LUCAS PEREIRA PIRES; LUIZ CARLOS DE FREITAS</td>\n",
       "    </tr>\n",
       "  </tbody>\n",
       "</table>\n",
       "<p>10 rows × 31 columns</p>\n",
       "</div>"
      ],
      "text/plain": [
       "        ID data_publicacao diretoria  numero_revista  codigo  \\\n",
       "0  ID00003      07/01/2020   Patente            2557     3.1   \n",
       "1  ID00005      07/01/2020   Patente            2557     3.1   \n",
       "2  ID00011      07/01/2020   Patente            2557     3.1   \n",
       "3  ID00015      07/01/2020   Patente            2557     3.1   \n",
       "4  ID00024      07/01/2020   Patente            2557     3.1   \n",
       "5  ID00026      07/01/2020   Patente            2557     3.1   \n",
       "6  ID00030      07/01/2020   Patente            2557     3.1   \n",
       "7  ID00031      07/01/2020   Patente            2557     3.1   \n",
       "8  ID00035      07/01/2020   Patente            2557     3.1   \n",
       "9  ID00036      07/01/2020   Patente            2557     3.1   \n",
       "\n",
       "                                              titulo               numero  \\\n",
       "0  Publicação do Pedido de Patente ou de Certific...  BR 10 2017 004929-9   \n",
       "1  Publicação do Pedido de Patente ou de Certific...  BR 10 2017 026178-6   \n",
       "2  Publicação do Pedido de Patente ou de Certific...  BR 10 2018 012005-0   \n",
       "3  Publicação do Pedido de Patente ou de Certific...  BR 10 2018 012049-2   \n",
       "4  Publicação do Pedido de Patente ou de Certific...  BR 10 2018 012161-8   \n",
       "5  Publicação do Pedido de Patente ou de Certific...  BR 10 2018 012376-9   \n",
       "6  Publicação do Pedido de Patente ou de Certific...  BR 10 2018 012385-8   \n",
       "7  Publicação do Pedido de Patente ou de Certific...  BR 10 2018 012394-7   \n",
       "8  Publicação do Pedido de Patente ou de Certific...  BR 10 2018 012412-9   \n",
       "9  Publicação do Pedido de Patente ou de Certific...  BR 10 2018 012435-8   \n",
       "\n",
       "  data_deposito data_prioridade cod_prioridade  ... titular_uf1 titular_uf2  \\\n",
       "0    13/03/2017             NaN            NaN  ...          CE         NaN   \n",
       "1    05/12/2017             NaN            NaN  ...          AM         NaN   \n",
       "2    13/06/2018             NaN            NaN  ...          PE      PE; PE   \n",
       "3    14/06/2018             NaN            NaN  ...          GO         NaN   \n",
       "4    14/06/2018             NaN            NaN  ...          MG         NaN   \n",
       "5    18/06/2018             NaN            NaN  ...          MA         NaN   \n",
       "6    18/06/2018             NaN            NaN  ...          PR         NaN   \n",
       "7    18/06/2018             NaN            NaN  ...          RJ          RS   \n",
       "8    18/06/2018             NaN            NaN  ...          PB         NaN   \n",
       "9    18/06/2018             NaN            NaN  ...          MG         NaN   \n",
       "\n",
       "   classif_nac1  classif_nac2   classif_nac3 classif_internac1  \\\n",
       "0   H01Q 13/106    H01Q 1/241            NaN        H01Q 13/10   \n",
       "1    H04L 67/42  H04L 61/1558  H04L 29/12141        H04L 29/06   \n",
       "2     G01D 3/08           NaN            NaN         G01D 3/08   \n",
       "3   A21D 13/045   A21D 13/047    A21D 13/066       A21D 13/045   \n",
       "4           NaN           NaN            NaN         C12Q 1/68   \n",
       "5           NaN           NaN            NaN         C12Q 1/00   \n",
       "6    C01B 39/04           NaN            NaN        C01B 39/04   \n",
       "7  G01N 29/0645           NaN            NaN        G01N 29/06   \n",
       "8  A23C 19/0765   A23L 33/135     A23L 33/21       A23C 19/076   \n",
       "9           NaN           NaN            NaN        H02S 40/32   \n",
       "\n",
       "  classif_internac2 classif_internac3                         inventor_1  \\\n",
       "0         H01Q 1/24               NaN      ANTONIO SERGIO BEZERRA SOMBRA   \n",
       "1        H04L 29/12               NaN        EDUARDO JAMES PEREIRA SOUTO   \n",
       "2               NaN               NaN  JOSÉ EDUARDO FERREIRA DE OLIVEIRA   \n",
       "3       A21D 13/047       A21D 13/066          RAFAIANE MACEDO GUIMARÃES   \n",
       "4         C12R 1/01               NaN            ANA GRACI BRITO MADURRO   \n",
       "5               NaN               NaN  ALLYSSON KAYRON DE CARVALHO SILVA   \n",
       "6               NaN               NaN               PEDRO AUGUSTO ARROYO   \n",
       "7               NaN               NaN      THOMAS GABRIEL ROSAURO CLARKE   \n",
       "8       A23L 33/135        A23L 33/21        JANAINA SEVERO DE LIMA GAMA   \n",
       "9         G05F 1/67               NaN       LUIZ CARLOS GOMES DE FREITAS   \n",
       "\n",
       "                                     inventor_outros  \n",
       "0  RONALDO GLAUBER MAIA DE OLIVEIRA; ANTÔNIO JEFF...  \n",
       "1                       NAMEDIN PEREIRA TELES JÚNIOR  \n",
       "2  NELSON GONÇALVES DA SILVA; EDUARDO JOSÉ ALÉCIO...  \n",
       "3                              MARIANA BURANELO EGEA  \n",
       "4  JOÃO MARCOS MADURRO; PEDRO HENRIQUE GONÇALVES ...  \n",
       "5  LAIANE ARAÚJO DA SILVA SOUTO; TALITA DA SILVA ...  \n",
       "6      MURILO PEREIRA MOISÉS; ELCIANE REGINA ZANATTA  \n",
       "7  SERGIO DAMASCENO SOARES; RICARDO CALLEGARI JAC...  \n",
       "8  MARIA ELIEIDY GOMES DE OLIVEIRA; ANA CRISTINA ...  \n",
       "9        LUCAS PEREIRA PIRES; LUIZ CARLOS DE FREITAS  \n",
       "\n",
       "[10 rows x 31 columns]"
      ]
     },
     "execution_count": 3,
     "metadata": {},
     "output_type": "execute_result"
    }
   ],
   "source": [
    "df_ifes.head(10)"
   ]
  },
  {
   "cell_type": "code",
   "execution_count": 4,
   "id": "0c742d9a-a5f8-4800-a6bc-bcd4834b1e2f",
   "metadata": {},
   "outputs": [],
   "source": [
    "#Transformar colunas data_publicacao, data_deposito e data_prioridade em datas\n",
    "df_ifes['data_publicacao'] = pd.to_datetime(df_ifes['data_publicacao'], format='%d/%m/%Y')\n",
    "df_ifes['data_deposito'] = pd.to_datetime(df_ifes['data_deposito'], format='%d/%m/%Y')\n",
    "df_ifes['data_prioridade'] = pd.to_datetime(df_ifes['data_prioridade'], format='%d/%m/%Y')"
   ]
  },
  {
   "cell_type": "code",
   "execution_count": 16,
   "id": "1639d109-9352-4610-8370-9e3d87d6cd07",
   "metadata": {},
   "outputs": [
    {
     "name": "stdout",
     "output_type": "stream",
     "text": [
      "     Ano  Mês  Patentes  Ano_Mês\n",
      "0   2003    5         1  2003-05\n",
      "1   2003   11         1  2003-11\n",
      "2   2007    3         1  2007-03\n",
      "3   2011    4         1  2011-04\n",
      "4   2011    5         1  2011-05\n",
      "..   ...  ...       ...      ...\n",
      "91  2022    2         1  2022-02\n",
      "92  2022    5         1  2022-05\n",
      "93  2022    6         1  2022-06\n",
      "94  2022    7         2  2022-07\n",
      "95  2022   11         1  2022-11\n",
      "\n",
      "[96 rows x 4 columns]\n"
     ]
    }
   ],
   "source": [
    "# Extrair o ano e o mês\n",
    "df_ifes['ano_dep'] = df_ifes['data_deposito'].dt.year\n",
    "df_ifes['mes_dep'] = df_ifes['data_deposito'].dt.month\n",
    "\n",
    "# Agrupar os dados por ano e mês para contar o número de patentes depositadas\n",
    "df_mes = df_ifes.groupby(['ano_dep', 'mes_dep'])['titular_nome'].count().reset_index()\n",
    "df_mes['ano_mes_dep'] = df_mes.apply(lambda x: f\"{x['ano_dep']}-{x['mes_dep']:02d}\", axis=1)\n",
    "df_mes = df_mes.rename(columns={'titular_nome': 'Patentes', 'ano_dep': 'Ano', 'mes_dep': 'Mês', 'ano_mes_dep':'Ano_Mês'})\n",
    "\n",
    "\n",
    "print(df_mes)\n"
   ]
  },
  {
   "cell_type": "code",
   "execution_count": 7,
   "id": "17d200ba-f1f1-40b5-80b7-d9598f34d78f",
   "metadata": {},
   "outputs": [
    {
     "name": "stdout",
     "output_type": "stream",
     "text": [
      "     Ano  Patentes\n",
      "0   2003         2\n",
      "1   2007         1\n",
      "2   2011         2\n",
      "3   2012         3\n",
      "4   2013         3\n",
      "5   2014        12\n",
      "6   2015        12\n",
      "7   2016        17\n",
      "8   2017        37\n",
      "9   2018       611\n",
      "10  2019      1132\n",
      "11  2020      1116\n",
      "12  2021       825\n",
      "13  2022        18\n"
     ]
    }
   ],
   "source": [
    "# Agrupar os dados por ano para contar o número de patentes depositadas\n",
    "df_ano = df_ifes.groupby(['ano_dep'])['titular_nome'].count().reset_index()\n",
    "df_ano = df_ano.rename(columns={'titular_nome': 'Patentes', 'ano_dep': 'Ano'})\n",
    "print(df_ano)"
   ]
  },
  {
   "cell_type": "code",
   "execution_count": 28,
   "id": "46be16e9-4bc1-4549-88ad-e041ed677304",
   "metadata": {},
   "outputs": [
    {
     "data": {
      "image/png": "[encoded data removed]",
      "text/plain": [
       "<Figure size 1000x800 with 1 Axes>"
      ]
     },
     "metadata": {},
     "output_type": "display_data"
    }
   ],
   "source": [
    "\n",
    "# Configure o estilo do Seaborn (opcional)\n",
    "sns.set_style(\"whitegrid\")\n",
    "\n",
    "# Selecione os dados apos 2016\n",
    "df_ano_corte = df_ano[df_ano['Ano'] >= 2016]\n",
    "\n",
    "# Crie o gráfico de linhas\n",
    "plt.figure(figsize=(10, 8))  # Defina o tamanho da figura (opcional)\n",
    "sns.lineplot(data=df_ano_corte, x='Ano', y='Patentes', linestyle='-', color='b', label='Patentes')\n",
    "\n",
    "# Configure os rótulos e o título\n",
    "plt.xlabel('Ano')\n",
    "plt.ylabel('Número de Patentes')\n",
    "plt.title('Quantidade de Patentes depositadas por Ano')\n",
    "\n",
    "# Configure o intervalo do eixo x para exibir apenas anos inteiros\n",
    "plt.xticks(range(df_ano['Ano'].min(), df_ano['Ano'].max() + 1))\n",
    "\n",
    "# Exiba o gráfico\n",
    "plt.show()\n",
    "\n"
   ]
  },
  {
   "cell_type": "code",
   "execution_count": 29,
   "id": "d3e32ff1-949b-4110-b6be-e411ebbd1958",
   "metadata": {},
   "outputs": [
    {
     "data": {
      "application/vnd.plotly.v1+json": {
       "config": {
        "linkText": "Export to plot.ly",
        "plotlyServerURL": "https://plot.ly",
        "showLink": false
       },
       "data": [
        {
         "line": {
          "color": "blue",
          "dash": "dot"
         },
         "mode": "lines+markers",
         "name": "Patentes",
         "type": "scatter",
         "x": [
          2017,
          2018,
          2019,
          2020,
          2021,
          2022
         ],
         "y": [
          37,
          611,
          1132,
          1116,
          825,
          18
         ]
        }
       ],
       "layout": {
        "autosize": true,
        "showlegend": true,
        "template": {
         "data": {
          "candlestick": [
           {
            "decreasing": {
             "line": {
              "color": "#000033"
             }
            },
            "increasing": {
             "line": {
              "color": "#000032"
             }
            },
            "type": "candlestick"
           }
          ],
          "contour": [
           {
            "colorscale": [
             [
              0,
              "#000011"
             ],
             [
              0.1111111111111111,
              "#000012"
             ],
             [
              0.2222222222222222,
              "#000013"
             ],
             [
              0.3333333333333333,
              "#000014"
             ],
             [
              0.4444444444444444,
              "#000015"
             ],
             [
              0.5555555555555556,
              "#000016"
             ],
             [
              0.6666666666666666,
              "#000017"
             ],
             [
              0.7777777777777778,
              "#000018"
             ],
             [
              0.8888888888888888,
              "#000019"
             ],
             [
              1,
              "#000020"
             ]
            ],
            "type": "contour"
           }
          ],
          "contourcarpet": [
           {
            "colorscale": [
             [
              0,
              "#000011"
             ],
             [
              0.1111111111111111,
              "#000012"
             ],
             [
              0.2222222222222222,
              "#000013"
             ],
             [
              0.3333333333333333,
              "#000014"
             ],
             [
              0.4444444444444444,
              "#000015"
             ],
             [
              0.5555555555555556,
              "#000016"
             ],
             [
              0.6666666666666666,
              "#000017"
             ],
             [
              0.7777777777777778,
              "#000018"
             ],
             [
              0.8888888888888888,
              "#000019"
             ],
             [
              1,
              "#000020"
             ]
            ],
            "type": "contourcarpet"
           }
          ],
          "heatmap": [
           {
            "colorscale": [
             [
              0,
              "#000011"
             ],
             [
              0.1111111111111111,
              "#000012"
             ],
             [
              0.2222222222222222,
              "#000013"
             ],
             [
              0.3333333333333333,
              "#000014"
             ],
             [
              0.4444444444444444,
              "#000015"
             ],
             [
              0.5555555555555556,
              "#000016"
             ],
             [
              0.6666666666666666,
              "#000017"
             ],
             [
              0.7777777777777778,
              "#000018"
             ],
             [
              0.8888888888888888,
              "#000019"
             ],
             [
              1,
              "#000020"
             ]
            ],
            "type": "heatmap"
           }
          ],
          "histogram2d": [
           {
            "colorscale": [
             [
              0,
              "#000011"
             ],
             [
              0.1111111111111111,
              "#000012"
             ],
             [
              0.2222222222222222,
              "#000013"
             ],
             [
              0.3333333333333333,
              "#000014"
             ],
             [
              0.4444444444444444,
              "#000015"
             ],
             [
              0.5555555555555556,
              "#000016"
             ],
             [
              0.6666666666666666,
              "#000017"
             ],
             [
              0.7777777777777778,
              "#000018"
             ],
             [
              0.8888888888888888,
              "#000019"
             ],
             [
              1,
              "#000020"
             ]
            ],
            "type": "histogram2d"
           }
          ],
          "icicle": [
           {
            "textfont": {
             "color": "white"
            },
            "type": "icicle"
           }
          ],
          "sankey": [
           {
            "textfont": {
             "color": "#000036"
            },
            "type": "sankey"
           }
          ],
          "scatter": [
           {
            "marker": {
             "line": {
              "width": 0
             }
            },
            "type": "scatter"
           }
          ],
          "table": [
           {
            "cells": {
             "fill": {
              "color": "#000038"
             },
             "font": {
              "color": "#000037"
             },
             "line": {
              "color": "#000039"
             }
            },
            "header": {
             "fill": {
              "color": "#000040"
             },
             "font": {
              "color": "#000036"
             },
             "line": {
              "color": "#000039"
             }
            },
            "type": "table"
           }
          ],
          "waterfall": [
           {
            "connector": {
             "line": {
              "color": "#000036",
              "width": 2
             }
            },
            "decreasing": {
             "marker": {
              "color": "#000033"
             }
            },
            "increasing": {
             "marker": {
              "color": "#000032"
             }
            },
            "totals": {
             "marker": {
              "color": "#000034"
             }
            },
            "type": "waterfall"
           }
          ]
         },
         "layout": {
          "coloraxis": {
           "colorscale": [
            [
             0,
             "#000011"
            ],
            [
             0.1111111111111111,
             "#000012"
            ],
            [
             0.2222222222222222,
             "#000013"
            ],
            [
             0.3333333333333333,
             "#000014"
            ],
            [
             0.4444444444444444,
             "#000015"
            ],
            [
             0.5555555555555556,
             "#000016"
            ],
            [
             0.6666666666666666,
             "#000017"
            ],
            [
             0.7777777777777778,
             "#000018"
            ],
            [
             0.8888888888888888,
             "#000019"
            ],
            [
             1,
             "#000020"
            ]
           ]
          },
          "colorscale": {
           "diverging": [
            [
             0,
             "#000021"
            ],
            [
             0.1,
             "#000022"
            ],
            [
             0.2,
             "#000023"
            ],
            [
             0.3,
             "#000024"
            ],
            [
             0.4,
             "#000025"
            ],
            [
             0.5,
             "#000026"
            ],
            [
             0.6,
             "#000027"
            ],
            [
             0.7,
             "#000028"
            ],
            [
             0.8,
             "#000029"
            ],
            [
             0.9,
             "#000030"
            ],
            [
             1,
             "#000031"
            ]
           ],
           "sequential": [
            [
             0,
             "#000011"
            ],
            [
             0.1111111111111111,
             "#000012"
            ],
            [
             0.2222222222222222,
             "#000013"
            ],
            [
             0.3333333333333333,
             "#000014"
            ],
            [
             0.4444444444444444,
             "#000015"
            ],
            [
             0.5555555555555556,
             "#000016"
            ],
            [
             0.6666666666666666,
             "#000017"
            ],
            [
             0.7777777777777778,
             "#000018"
            ],
            [
             0.8888888888888888,
             "#000019"
            ],
            [
             1,
             "#000020"
            ]
           ],
           "sequentialminus": [
            [
             0,
             "#000011"
            ],
            [
             0.1111111111111111,
             "#000012"
            ],
            [
             0.2222222222222222,
             "#000013"
            ],
            [
             0.3333333333333333,
             "#000014"
            ],
            [
             0.4444444444444444,
             "#000015"
            ],
            [
             0.5555555555555556,
             "#000016"
            ],
            [
             0.6666666666666666,
             "#000017"
            ],
            [
             0.7777777777777778,
             "#000018"
            ],
            [
             0.8888888888888888,
             "#000019"
            ],
            [
             1,
             "#000020"
            ]
           ]
          },
          "colorway": [
           "#000001",
           "#000002",
           "#000003",
           "#000004",
           "#000005",
           "#000006",
           "#000007",
           "#000008",
           "#000009",
           "#000010"
          ]
         }
        },
        "title": {
         "text": "Quantidade de Patentes depositadas por Ano"
        },
        "xaxis": {
         "autorange": true,
         "range": [
          2016.6978984238178,
          2022.3021015761822
         ],
         "showgrid": true,
         "title": {
          "text": "Ano"
         },
         "type": "linear"
        },
        "yaxis": {
         "autorange": true,
         "range": [
          -73.93203883495146,
          1223.9320388349515
         ],
         "showgrid": true,
         "title": {
          "text": "Número de Patentes"
         },
         "type": "linear"
        }
       }
      },
      "image/png": "[encoded data removed]",
      "text/html": [
       "<div>                            <div id=\"2a057fe9-9d44-4634-ae00-93d33792bd32\" class=\"plotly-graph-div\" style=\"height:525px; width:100%;\"></div>            <script type=\"text/javascript\">                require([\"plotly\"], function(Plotly) {                    window.PLOTLYENV=window.PLOTLYENV || {};                                    if (document.getElementById(\"2a057fe9-9d44-4634-ae00-93d33792bd32\")) {                    Plotly.newPlot(                        \"2a057fe9-9d44-4634-ae00-93d33792bd32\",                        [{\"line\":{\"color\":\"blue\",\"dash\":\"dot\"},\"mode\":\"lines+markers\",\"name\":\"Patentes\",\"x\":[2017,2018,2019,2020,2021,2022],\"y\":[37,611,1132,1116,825,18],\"type\":\"scatter\"}],                        {\"showlegend\":true,\"template\":{\"data\":{\"candlestick\":[{\"decreasing\":{\"line\":{\"color\":\"#000033\"}},\"increasing\":{\"line\":{\"color\":\"#000032\"}},\"type\":\"candlestick\"}],\"contourcarpet\":[{\"colorscale\":[[0.0,\"#000011\"],[0.1111111111111111,\"#000012\"],[0.2222222222222222,\"#000013\"],[0.3333333333333333,\"#000014\"],[0.4444444444444444,\"#000015\"],[0.5555555555555556,\"#000016\"],[0.6666666666666666,\"#000017\"],[0.7777777777777778,\"#000018\"],[0.8888888888888888,\"#000019\"],[1.0,\"#000020\"]],\"type\":\"contourcarpet\"}],\"contour\":[{\"colorscale\":[[0.0,\"#000011\"],[0.1111111111111111,\"#000012\"],[0.2222222222222222,\"#000013\"],[0.3333333333333333,\"#000014\"],[0.4444444444444444,\"#000015\"],[0.5555555555555556,\"#000016\"],[0.6666666666666666,\"#000017\"],[0.7777777777777778,\"#000018\"],[0.8888888888888888,\"#000019\"],[1.0,\"#000020\"]],\"type\":\"contour\"}],\"heatmap\":[{\"colorscale\":[[0.0,\"#000011\"],[0.1111111111111111,\"#000012\"],[0.2222222222222222,\"#000013\"],[0.3333333333333333,\"#000014\"],[0.4444444444444444,\"#000015\"],[0.5555555555555556,\"#000016\"],[0.6666666666666666,\"#000017\"],[0.7777777777777778,\"#000018\"],[0.8888888888888888,\"#000019\"],[1.0,\"#000020\"]],\"type\":\"heatmap\"}],\"histogram2d\":[{\"colorscale\":[[0.0,\"#000011\"],[0.1111111111111111,\"#000012\"],[0.2222222222222222,\"#000013\"],[0.3333333333333333,\"#000014\"],[0.4444444444444444,\"#000015\"],[0.5555555555555556,\"#000016\"],[0.6666666666666666,\"#000017\"],[0.7777777777777778,\"#000018\"],[0.8888888888888888,\"#000019\"],[1.0,\"#000020\"]],\"type\":\"histogram2d\"}],\"icicle\":[{\"textfont\":{\"color\":\"white\"},\"type\":\"icicle\"}],\"sankey\":[{\"textfont\":{\"color\":\"#000036\"},\"type\":\"sankey\"}],\"scatter\":[{\"marker\":{\"line\":{\"width\":0}},\"type\":\"scatter\"}],\"table\":[{\"cells\":{\"fill\":{\"color\":\"#000038\"},\"font\":{\"color\":\"#000037\"},\"line\":{\"color\":\"#000039\"}},\"header\":{\"fill\":{\"color\":\"#000040\"},\"font\":{\"color\":\"#000036\"},\"line\":{\"color\":\"#000039\"}},\"type\":\"table\"}],\"waterfall\":[{\"connector\":{\"line\":{\"color\":\"#000036\",\"width\":2}},\"decreasing\":{\"marker\":{\"color\":\"#000033\"}},\"increasing\":{\"marker\":{\"color\":\"#000032\"}},\"totals\":{\"marker\":{\"color\":\"#000034\"}},\"type\":\"waterfall\"}]},\"layout\":{\"coloraxis\":{\"colorscale\":[[0.0,\"#000011\"],[0.1111111111111111,\"#000012\"],[0.2222222222222222,\"#000013\"],[0.3333333333333333,\"#000014\"],[0.4444444444444444,\"#000015\"],[0.5555555555555556,\"#000016\"],[0.6666666666666666,\"#000017\"],[0.7777777777777778,\"#000018\"],[0.8888888888888888,\"#000019\"],[1.0,\"#000020\"]]},\"colorscale\":{\"diverging\":[[0.0,\"#000021\"],[0.1,\"#000022\"],[0.2,\"#000023\"],[0.3,\"#000024\"],[0.4,\"#000025\"],[0.5,\"#000026\"],[0.6,\"#000027\"],[0.7,\"#000028\"],[0.8,\"#000029\"],[0.9,\"#000030\"],[1.0,\"#000031\"]],\"sequential\":[[0.0,\"#000011\"],[0.1111111111111111,\"#000012\"],[0.2222222222222222,\"#000013\"],[0.3333333333333333,\"#000014\"],[0.4444444444444444,\"#000015\"],[0.5555555555555556,\"#000016\"],[0.6666666666666666,\"#000017\"],[0.7777777777777778,\"#000018\"],[0.8888888888888888,\"#000019\"],[1.0,\"#000020\"]],\"sequentialminus\":[[0.0,\"#000011\"],[0.1111111111111111,\"#000012\"],[0.2222222222222222,\"#000013\"],[0.3333333333333333,\"#000014\"],[0.4444444444444444,\"#000015\"],[0.5555555555555556,\"#000016\"],[0.6666666666666666,\"#000017\"],[0.7777777777777778,\"#000018\"],[0.8888888888888888,\"#000019\"],[1.0,\"#000020\"]]},\"colorway\":[\"#000001\",\"#000002\",\"#000003\",\"#000004\",\"#000005\",\"#000006\",\"#000007\",\"#000008\",\"#000009\",\"#000010\"]}},\"title\":{\"text\":\"Quantidade de Patentes depositadas por Ano\"},\"xaxis\":{\"showgrid\":true,\"title\":{\"text\":\"Ano\"}},\"yaxis\":{\"showgrid\":true,\"title\":{\"text\":\"N\\u00famero de Patentes\"}}},                        {\"responsive\": true}                    ).then(function(){\n",
       "                            \n",
       "var gd = document.getElementById('2a057fe9-9d44-4634-ae00-93d33792bd32');\n",
       "var x = new MutationObserver(function (mutations, observer) {{\n",
       "        var display = window.getComputedStyle(gd).display;\n",
       "        if (!display || display === 'none') {{\n",
       "            console.log([gd, 'removed!']);\n",
       "            Plotly.purge(gd);\n",
       "            observer.disconnect();\n",
       "        }}\n",
       "}});\n",
       "\n",
       "// Listen for the removal of the full notebook cells\n",
       "var notebookContainer = gd.closest('#notebook-container');\n",
       "if (notebookContainer) {{\n",
       "    x.observe(notebookContainer, {childList: true});\n",
       "}}\n",
       "\n",
       "// Listen for the clearing of the current output cell\n",
       "var outputEl = gd.closest('.output');\n",
       "if (outputEl) {{\n",
       "    x.observe(outputEl, {childList: true});\n",
       "}}\n",
       "\n",
       "                        })                };                });            </script>        </div>"
      ]
     },
     "metadata": {},
     "output_type": "display_data"
    }
   ],
   "source": [
    "# Crie o gráfico de dispersão\n",
    "trace = go.Scatter(x=df_ano_corte['Ano'], y=df_ano['Patentes'], mode='lines+markers', line=dict(color='blue', dash='dot'), name='Patentes')\n",
    "layout = go.Layout(title='Quantidade de Patentes depositadas por Ano',\n",
    "                   xaxis=dict(title='Ano'),\n",
    "                   yaxis=dict(title='Número de Patentes'),\n",
    "                   showlegend=True,\n",
    "                   xaxis_showgrid=True,\n",
    "                   yaxis_showgrid=True)\n",
    "fig = go.Figure(data=[trace], layout=layout)\n",
    "\n",
    "pyo.iplot(fig)"
   ]
  },
  {
   "cell_type": "code",
   "execution_count": 30,
   "id": "715d8814-ac15-472f-a3ef-45a55a0d5944",
   "metadata": {},
   "outputs": [
    {
     "data": {
      "application/vnd.plotly.v1+json": {
       "config": {
        "linkText": "Export to plot.ly",
        "plotlyServerURL": "https://plot.ly",
        "showLink": false
       },
       "data": [
        {
         "line": {
          "color": "#341f97",
          "dash": "dot"
         },
         "mode": "lines+markers",
         "name": "Patentes depositadas pelas IFES de 2020 a 2023",
         "type": "scatter",
         "x": [
          "2016-02",
          "2016-03",
          "2016-06",
          "2016-07",
          "2016-08",
          "2016-09",
          "2016-12",
          "2017-01",
          "2017-03",
          "2017-04",
          "2017-05",
          "2017-06",
          "2017-07",
          "2017-08",
          "2017-09",
          "2017-11",
          "2017-12",
          "2018-01",
          "2018-02",
          "2018-03",
          "2018-04",
          "2018-05",
          "2018-06",
          "2018-07",
          "2018-08",
          "2018-09",
          "2018-10",
          "2018-11",
          "2018-12",
          "2019-01",
          "2019-02",
          "2019-03",
          "2019-04",
          "2019-05",
          "2019-06",
          "2019-07",
          "2019-08",
          "2019-09",
          "2019-10",
          "2019-11",
          "2019-12",
          "2020-01",
          "2020-02",
          "2020-03",
          "2020-04",
          "2020-05",
          "2020-06",
          "2020-07",
          "2020-08",
          "2020-09",
          "2020-10",
          "2020-11",
          "2020-12",
          "2021-01",
          "2021-02",
          "2021-03",
          "2021-04",
          "2021-05",
          "2021-06",
          "2021-07",
          "2021-08",
          "2021-09",
          "2021-10",
          "2021-11",
          "2021-12",
          "2022-01",
          "2022-02",
          "2022-05",
          "2022-06",
          "2022-07",
          "2022-11"
         ],
         "y": [
          1,
          1,
          1,
          1,
          1,
          1,
          1,
          1,
          1,
          1,
          1,
          1,
          1,
          1,
          3,
          4,
          2,
          1,
          1,
          1,
          1,
          1,
          1,
          3,
          3,
          1,
          1,
          2,
          4,
          2,
          2,
          5,
          4,
          3,
          3,
          5,
          1,
          2,
          2,
          4,
          1,
          12,
          3,
          4,
          1,
          6,
          5,
          33,
          79,
          74,
          101,
          62,
          111,
          132,
          56,
          85,
          78,
          78,
          119,
          61,
          105,
          93,
          87,
          110,
          109,
          151,
          64,
          72,
          97,
          73,
          87,
          103,
          124,
          98,
          98,
          81,
          108,
          111,
          30,
          52,
          67,
          60,
          69,
          55,
          74,
          61,
          76,
          67,
          78,
          136,
          12,
          1,
          1,
          1,
          2,
          1
         ]
        }
       ],
       "layout": {
        "autosize": true,
        "template": {
         "data": {
          "candlestick": [
           {
            "decreasing": {
             "line": {
              "color": "#000033"
             }
            },
            "increasing": {
             "line": {
              "color": "#000032"
             }
            },
            "type": "candlestick"
           }
          ],
          "contour": [
           {
            "colorscale": [
             [
              0,
              "#000011"
             ],
             [
              0.1111111111111111,
              "#000012"
             ],
             [
              0.2222222222222222,
              "#000013"
             ],
             [
              0.3333333333333333,
              "#000014"
             ],
             [
              0.4444444444444444,
              "#000015"
             ],
             [
              0.5555555555555556,
              "#000016"
             ],
             [
              0.6666666666666666,
              "#000017"
             ],
             [
              0.7777777777777778,
              "#000018"
             ],
             [
              0.8888888888888888,
              "#000019"
             ],
             [
              1,
              "#000020"
             ]
            ],
            "type": "contour"
           }
          ],
          "contourcarpet": [
           {
            "colorscale": [
             [
              0,
              "#000011"
             ],
             [
              0.1111111111111111,
              "#000012"
             ],
             [
              0.2222222222222222,
              "#000013"
             ],
             [
              0.3333333333333333,
              "#000014"
             ],
             [
              0.4444444444444444,
              "#000015"
             ],
             [
              0.5555555555555556,
              "#000016"
             ],
             [
              0.6666666666666666,
              "#000017"
             ],
             [
              0.7777777777777778,
              "#000018"
             ],
             [
              0.8888888888888888,
              "#000019"
             ],
             [
              1,
              "#000020"
             ]
            ],
            "type": "contourcarpet"
           }
          ],
          "heatmap": [
           {
            "colorscale": [
             [
              0,
              "#000011"
             ],
             [
              0.1111111111111111,
              "#000012"
             ],
             [
              0.2222222222222222,
              "#000013"
             ],
             [
              0.3333333333333333,
              "#000014"
             ],
             [
              0.4444444444444444,
              "#000015"
             ],
             [
              0.5555555555555556,
              "#000016"
             ],
             [
              0.6666666666666666,
              "#000017"
             ],
             [
              0.7777777777777778,
              "#000018"
             ],
             [
              0.8888888888888888,
              "#000019"
             ],
             [
              1,
              "#000020"
             ]
            ],
            "type": "heatmap"
           }
          ],
          "histogram2d": [
           {
            "colorscale": [
             [
              0,
              "#000011"
             ],
             [
              0.1111111111111111,
              "#000012"
             ],
             [
              0.2222222222222222,
              "#000013"
             ],
             [
              0.3333333333333333,
              "#000014"
             ],
             [
              0.4444444444444444,
              "#000015"
             ],
             [
              0.5555555555555556,
              "#000016"
             ],
             [
              0.6666666666666666,
              "#000017"
             ],
             [
              0.7777777777777778,
              "#000018"
             ],
             [
              0.8888888888888888,
              "#000019"
             ],
             [
              1,
              "#000020"
             ]
            ],
            "type": "histogram2d"
           }
          ],
          "icicle": [
           {
            "textfont": {
             "color": "white"
            },
            "type": "icicle"
           }
          ],
          "sankey": [
           {
            "textfont": {
             "color": "#000036"
            },
            "type": "sankey"
           }
          ],
          "scatter": [
           {
            "marker": {
             "line": {
              "width": 0
             }
            },
            "type": "scatter"
           }
          ],
          "table": [
           {
            "cells": {
             "fill": {
              "color": "#000038"
             },
             "font": {
              "color": "#000037"
             },
             "line": {
              "color": "#000039"
             }
            },
            "header": {
             "fill": {
              "color": "#000040"
             },
             "font": {
              "color": "#000036"
             },
             "line": {
              "color": "#000039"
             }
            },
            "type": "table"
           }
          ],
          "waterfall": [
           {
            "connector": {
             "line": {
              "color": "#000036",
              "width": 2
             }
            },
            "decreasing": {
             "marker": {
              "color": "#000033"
             }
            },
            "increasing": {
             "marker": {
              "color": "#000032"
             }
            },
            "totals": {
             "marker": {
              "color": "#000034"
             }
            },
            "type": "waterfall"
           }
          ]
         },
         "layout": {
          "coloraxis": {
           "colorscale": [
            [
             0,
             "#000011"
            ],
            [
             0.1111111111111111,
             "#000012"
            ],
            [
             0.2222222222222222,
             "#000013"
            ],
            [
             0.3333333333333333,
             "#000014"
            ],
            [
             0.4444444444444444,
             "#000015"
            ],
            [
             0.5555555555555556,
             "#000016"
            ],
            [
             0.6666666666666666,
             "#000017"
            ],
            [
             0.7777777777777778,
             "#000018"
            ],
            [
             0.8888888888888888,
             "#000019"
            ],
            [
             1,
             "#000020"
            ]
           ]
          },
          "colorscale": {
           "diverging": [
            [
             0,
             "#000021"
            ],
            [
             0.1,
             "#000022"
            ],
            [
             0.2,
             "#000023"
            ],
            [
             0.3,
             "#000024"
            ],
            [
             0.4,
             "#000025"
            ],
            [
             0.5,
             "#000026"
            ],
            [
             0.6,
             "#000027"
            ],
            [
             0.7,
             "#000028"
            ],
            [
             0.8,
             "#000029"
            ],
            [
             0.9,
             "#000030"
            ],
            [
             1,
             "#000031"
            ]
           ],
           "sequential": [
            [
             0,
             "#000011"
            ],
            [
             0.1111111111111111,
             "#000012"
            ],
            [
             0.2222222222222222,
             "#000013"
            ],
            [
             0.3333333333333333,
             "#000014"
            ],
            [
             0.4444444444444444,
             "#000015"
            ],
            [
             0.5555555555555556,
             "#000016"
            ],
            [
             0.6666666666666666,
             "#000017"
            ],
            [
             0.7777777777777778,
             "#000018"
            ],
            [
             0.8888888888888888,
             "#000019"
            ],
            [
             1,
             "#000020"
            ]
           ],
           "sequentialminus": [
            [
             0,
             "#000011"
            ],
            [
             0.1111111111111111,
             "#000012"
            ],
            [
             0.2222222222222222,
             "#000013"
            ],
            [
             0.3333333333333333,
             "#000014"
            ],
            [
             0.4444444444444444,
             "#000015"
            ],
            [
             0.5555555555555556,
             "#000016"
            ],
            [
             0.6666666666666666,
             "#000017"
            ],
            [
             0.7777777777777778,
             "#000018"
            ],
            [
             0.8888888888888888,
             "#000019"
            ],
            [
             1,
             "#000020"
            ]
           ]
          },
          "colorway": [
           "#000001",
           "#000002",
           "#000003",
           "#000004",
           "#000005",
           "#000006",
           "#000007",
           "#000008",
           "#000009",
           "#000010"
          ]
         }
        },
        "xaxis": {
         "range": [
          "2020-01",
          "2022-11"
         ],
         "type": "date"
        },
        "yaxis": {
         "range": [
          0,
          150
         ],
         "showgrid": true,
         "type": "linear"
        }
       }
      },
      "image/png": "[encoded data removed]",
      "text/html": [
       "<div>                            <div id=\"88c56d67-51f3-404e-b90f-a35d9ece0d77\" class=\"plotly-graph-div\" style=\"height:525px; width:100%;\"></div>            <script type=\"text/javascript\">                require([\"plotly\"], function(Plotly) {                    window.PLOTLYENV=window.PLOTLYENV || {};                                    if (document.getElementById(\"88c56d67-51f3-404e-b90f-a35d9ece0d77\")) {                    Plotly.newPlot(                        \"88c56d67-51f3-404e-b90f-a35d9ece0d77\",                        [{\"line\":{\"color\":\"#341f97\",\"dash\":\"dot\"},\"mode\":\"lines+markers\",\"name\":\"Patentes depositadas pelas IFES de 2020 a 2023\",\"x\":[\"2016-02\",\"2016-03\",\"2016-06\",\"2016-07\",\"2016-08\",\"2016-09\",\"2016-12\",\"2017-01\",\"2017-03\",\"2017-04\",\"2017-05\",\"2017-06\",\"2017-07\",\"2017-08\",\"2017-09\",\"2017-11\",\"2017-12\",\"2018-01\",\"2018-02\",\"2018-03\",\"2018-04\",\"2018-05\",\"2018-06\",\"2018-07\",\"2018-08\",\"2018-09\",\"2018-10\",\"2018-11\",\"2018-12\",\"2019-01\",\"2019-02\",\"2019-03\",\"2019-04\",\"2019-05\",\"2019-06\",\"2019-07\",\"2019-08\",\"2019-09\",\"2019-10\",\"2019-11\",\"2019-12\",\"2020-01\",\"2020-02\",\"2020-03\",\"2020-04\",\"2020-05\",\"2020-06\",\"2020-07\",\"2020-08\",\"2020-09\",\"2020-10\",\"2020-11\",\"2020-12\",\"2021-01\",\"2021-02\",\"2021-03\",\"2021-04\",\"2021-05\",\"2021-06\",\"2021-07\",\"2021-08\",\"2021-09\",\"2021-10\",\"2021-11\",\"2021-12\",\"2022-01\",\"2022-02\",\"2022-05\",\"2022-06\",\"2022-07\",\"2022-11\"],\"y\":[1,1,1,1,1,1,1,1,1,1,1,1,1,1,3,4,2,1,1,1,1,1,1,3,3,1,1,2,4,2,2,5,4,3,3,5,1,2,2,4,1,12,3,4,1,6,5,33,79,74,101,62,111,132,56,85,78,78,119,61,105,93,87,110,109,151,64,72,97,73,87,103,124,98,98,81,108,111,30,52,67,60,69,55,74,61,76,67,78,136,12,1,1,1,2,1],\"type\":\"scatter\"}],                        {\"template\":{\"data\":{\"candlestick\":[{\"decreasing\":{\"line\":{\"color\":\"#000033\"}},\"increasing\":{\"line\":{\"color\":\"#000032\"}},\"type\":\"candlestick\"}],\"contourcarpet\":[{\"colorscale\":[[0.0,\"#000011\"],[0.1111111111111111,\"#000012\"],[0.2222222222222222,\"#000013\"],[0.3333333333333333,\"#000014\"],[0.4444444444444444,\"#000015\"],[0.5555555555555556,\"#000016\"],[0.6666666666666666,\"#000017\"],[0.7777777777777778,\"#000018\"],[0.8888888888888888,\"#000019\"],[1.0,\"#000020\"]],\"type\":\"contourcarpet\"}],\"contour\":[{\"colorscale\":[[0.0,\"#000011\"],[0.1111111111111111,\"#000012\"],[0.2222222222222222,\"#000013\"],[0.3333333333333333,\"#000014\"],[0.4444444444444444,\"#000015\"],[0.5555555555555556,\"#000016\"],[0.6666666666666666,\"#000017\"],[0.7777777777777778,\"#000018\"],[0.8888888888888888,\"#000019\"],[1.0,\"#000020\"]],\"type\":\"contour\"}],\"heatmap\":[{\"colorscale\":[[0.0,\"#000011\"],[0.1111111111111111,\"#000012\"],[0.2222222222222222,\"#000013\"],[0.3333333333333333,\"#000014\"],[0.4444444444444444,\"#000015\"],[0.5555555555555556,\"#000016\"],[0.6666666666666666,\"#000017\"],[0.7777777777777778,\"#000018\"],[0.8888888888888888,\"#000019\"],[1.0,\"#000020\"]],\"type\":\"heatmap\"}],\"histogram2d\":[{\"colorscale\":[[0.0,\"#000011\"],[0.1111111111111111,\"#000012\"],[0.2222222222222222,\"#000013\"],[0.3333333333333333,\"#000014\"],[0.4444444444444444,\"#000015\"],[0.5555555555555556,\"#000016\"],[0.6666666666666666,\"#000017\"],[0.7777777777777778,\"#000018\"],[0.8888888888888888,\"#000019\"],[1.0,\"#000020\"]],\"type\":\"histogram2d\"}],\"icicle\":[{\"textfont\":{\"color\":\"white\"},\"type\":\"icicle\"}],\"sankey\":[{\"textfont\":{\"color\":\"#000036\"},\"type\":\"sankey\"}],\"scatter\":[{\"marker\":{\"line\":{\"width\":0}},\"type\":\"scatter\"}],\"table\":[{\"cells\":{\"fill\":{\"color\":\"#000038\"},\"font\":{\"color\":\"#000037\"},\"line\":{\"color\":\"#000039\"}},\"header\":{\"fill\":{\"color\":\"#000040\"},\"font\":{\"color\":\"#000036\"},\"line\":{\"color\":\"#000039\"}},\"type\":\"table\"}],\"waterfall\":[{\"connector\":{\"line\":{\"color\":\"#000036\",\"width\":2}},\"decreasing\":{\"marker\":{\"color\":\"#000033\"}},\"increasing\":{\"marker\":{\"color\":\"#000032\"}},\"totals\":{\"marker\":{\"color\":\"#000034\"}},\"type\":\"waterfall\"}]},\"layout\":{\"coloraxis\":{\"colorscale\":[[0.0,\"#000011\"],[0.1111111111111111,\"#000012\"],[0.2222222222222222,\"#000013\"],[0.3333333333333333,\"#000014\"],[0.4444444444444444,\"#000015\"],[0.5555555555555556,\"#000016\"],[0.6666666666666666,\"#000017\"],[0.7777777777777778,\"#000018\"],[0.8888888888888888,\"#000019\"],[1.0,\"#000020\"]]},\"colorscale\":{\"diverging\":[[0.0,\"#000021\"],[0.1,\"#000022\"],[0.2,\"#000023\"],[0.3,\"#000024\"],[0.4,\"#000025\"],[0.5,\"#000026\"],[0.6,\"#000027\"],[0.7,\"#000028\"],[0.8,\"#000029\"],[0.9,\"#000030\"],[1.0,\"#000031\"]],\"sequential\":[[0.0,\"#000011\"],[0.1111111111111111,\"#000012\"],[0.2222222222222222,\"#000013\"],[0.3333333333333333,\"#000014\"],[0.4444444444444444,\"#000015\"],[0.5555555555555556,\"#000016\"],[0.6666666666666666,\"#000017\"],[0.7777777777777778,\"#000018\"],[0.8888888888888888,\"#000019\"],[1.0,\"#000020\"]],\"sequentialminus\":[[0.0,\"#000011\"],[0.1111111111111111,\"#000012\"],[0.2222222222222222,\"#000013\"],[0.3333333333333333,\"#000014\"],[0.4444444444444444,\"#000015\"],[0.5555555555555556,\"#000016\"],[0.6666666666666666,\"#000017\"],[0.7777777777777778,\"#000018\"],[0.8888888888888888,\"#000019\"],[1.0,\"#000020\"]]},\"colorway\":[\"#000001\",\"#000002\",\"#000003\",\"#000004\",\"#000005\",\"#000006\",\"#000007\",\"#000008\",\"#000009\",\"#000010\"]}},\"xaxis\":{\"range\":[\"2020-01\",\"2022-11\"]},\"yaxis\":{\"range\":[0,150],\"showgrid\":true}},                        {\"responsive\": true}                    ).then(function(){\n",
       "                            \n",
       "var gd = document.getElementById('88c56d67-51f3-404e-b90f-a35d9ece0d77');\n",
       "var x = new MutationObserver(function (mutations, observer) {{\n",
       "        var display = window.getComputedStyle(gd).display;\n",
       "        if (!display || display === 'none') {{\n",
       "            console.log([gd, 'removed!']);\n",
       "            Plotly.purge(gd);\n",
       "            observer.disconnect();\n",
       "        }}\n",
       "}});\n",
       "\n",
       "// Listen for the removal of the full notebook cells\n",
       "var notebookContainer = gd.closest('#notebook-container');\n",
       "if (notebookContainer) {{\n",
       "    x.observe(notebookContainer, {childList: true});\n",
       "}}\n",
       "\n",
       "// Listen for the clearing of the current output cell\n",
       "var outputEl = gd.closest('.output');\n",
       "if (outputEl) {{\n",
       "    x.observe(outputEl, {childList: true});\n",
       "}}\n",
       "\n",
       "                        })                };                });            </script>        </div>"
      ]
     },
     "metadata": {},
     "output_type": "display_data"
    }
   ],
   "source": [
    "# Gráfico 2: Numero de patentes depositadas por mês\n",
    "# Filtre os dados para incluir apenas meses a partir de janeiro de 2016\n",
    "df_mes_corte = df_mes[df_mes['Ano_Mês'] >= '2016-01']\n",
    "\n",
    "trace = go.Scatter(x=df_mes_corte['Ano_Mês'], y=df_mes['Patentes'],\n",
    "                    mode='lines+markers', \n",
    "                    name='Patentes depositadas pelas IFES de 2020 a 2023',\n",
    "                    line={'color': '#341f97', 'dash': 'dot'})\n",
    "\n",
    "layout = go.Layout(yaxis={'range': [0, 150],  'showgrid': True},\n",
    "                   xaxis={'range': ['2020-01', df_mes['Ano_Mês'].max()]})\n",
    "\n",
    "fig = go.Figure(data=[trace], layout=layout)\n",
    "\n",
    "iplot(fig)\n"
   ]
  },
  {
   "cell_type": "code",
   "execution_count": 31,
   "id": "1f779e1f-3c4f-48aa-b5a6-d4e6fe06b890",
   "metadata": {},
   "outputs": [
    {
     "data": {
      "image/png": "[encoded data removed]",
      "text/plain": [
       "<Figure size 1000x800 with 1 Axes>"
      ]
     },
     "metadata": {},
     "output_type": "display_data"
    }
   ],
   "source": [
    "plt.figure(figsize=(10, 8))  # Ajuste o tamanho da figura para melhor acomodar os rótulos do eixo x\n",
    "\n",
    "plt.plot(df_mes['Ano_Mês'], df_mes['Patentes'], linestyle='-', color='#341f97', label='Patentes depositadas pelas IFES de 2020 a 2023')\n",
    "plt.ylim(0, 150)\n",
    "plt.xlabel('Ano_Mês')\n",
    "plt.ylabel('Número de Patentes')\n",
    "plt.title('Número de Patentes depositadas por Mês (2020 a 2023)')\n",
    "\n",
    "# Configure o intervalo para exibir rótulos do eixo x a cada 3 meses\n",
    "step = 6\n",
    "plt.xticks(df_mes['Ano_Mês'][::step], rotation=45)\n",
    "\n",
    "plt.grid(True)\n",
    "plt.legend()\n",
    "\n",
    "plt.tight_layout()  # Ajusta o layout para evitar cortes\n",
    "\n",
    "plt.show()\n",
    "\n"
   ]
  },
  {
   "cell_type": "code",
   "execution_count": 32,
   "id": "543a4d5d-1508-4053-b9b8-6bc3f8df03a5",
   "metadata": {},
   "outputs": [
    {
     "data": {
      "text/html": [
       "<div>\n",
       "<style scoped>\n",
       "    .dataframe tbody tr th:only-of-type {\n",
       "        vertical-align: middle;\n",
       "    }\n",
       "\n",
       "    .dataframe tbody tr th {\n",
       "        vertical-align: top;\n",
       "    }\n",
       "\n",
       "    .dataframe thead th {\n",
       "        text-align: right;\n",
       "    }\n",
       "</style>\n",
       "<table border=\"1\" class=\"dataframe\">\n",
       "  <thead>\n",
       "    <tr style=\"text-align: right;\">\n",
       "      <th></th>\n",
       "      <th>titular_abv</th>\n",
       "      <th>contagem</th>\n",
       "    </tr>\n",
       "  </thead>\n",
       "  <tbody>\n",
       "    <tr>\n",
       "      <th>43</th>\n",
       "      <td>UFCG</td>\n",
       "      <td>268</td>\n",
       "    </tr>\n",
       "    <tr>\n",
       "      <th>54</th>\n",
       "      <td>UFMG</td>\n",
       "      <td>264</td>\n",
       "    </tr>\n",
       "    <tr>\n",
       "      <th>60</th>\n",
       "      <td>UFPB</td>\n",
       "      <td>255</td>\n",
       "    </tr>\n",
       "    <tr>\n",
       "      <th>61</th>\n",
       "      <td>UFPE</td>\n",
       "      <td>148</td>\n",
       "    </tr>\n",
       "    <tr>\n",
       "      <th>81</th>\n",
       "      <td>UFU</td>\n",
       "      <td>114</td>\n",
       "    </tr>\n",
       "    <tr>\n",
       "      <th>...</th>\n",
       "      <td>...</td>\n",
       "      <td>...</td>\n",
       "    </tr>\n",
       "    <tr>\n",
       "      <th>91</th>\n",
       "      <td>UNILAB</td>\n",
       "      <td>1</td>\n",
       "    </tr>\n",
       "    <tr>\n",
       "      <th>30</th>\n",
       "      <td>IFSERTAOPE</td>\n",
       "      <td>1</td>\n",
       "    </tr>\n",
       "    <tr>\n",
       "      <th>74</th>\n",
       "      <td>UFSB</td>\n",
       "      <td>1</td>\n",
       "    </tr>\n",
       "    <tr>\n",
       "      <th>39</th>\n",
       "      <td>UFAPE</td>\n",
       "      <td>1</td>\n",
       "    </tr>\n",
       "    <tr>\n",
       "      <th>50</th>\n",
       "      <td>UFJ</td>\n",
       "      <td>1</td>\n",
       "    </tr>\n",
       "  </tbody>\n",
       "</table>\n",
       "<p>96 rows × 2 columns</p>\n",
       "</div>"
      ],
      "text/plain": [
       "   titular_abv  contagem\n",
       "43        UFCG       268\n",
       "54        UFMG       264\n",
       "60        UFPB       255\n",
       "61        UFPE       148\n",
       "81         UFU       114\n",
       "..         ...       ...\n",
       "91      UNILAB         1\n",
       "30  IFSERTAOPE         1\n",
       "74        UFSB         1\n",
       "39       UFAPE         1\n",
       "50         UFJ         1\n",
       "\n",
       "[96 rows x 2 columns]"
      ]
     },
     "execution_count": 32,
     "metadata": {},
     "output_type": "execute_result"
    }
   ],
   "source": [
    "df_ifes_rank = df_ifes.groupby('titular_abv').agg(contagem=('titular_abv', 'size')).reset_index()\n",
    "df_ifes_rank = df_ifes_rank.sort_values(by='contagem', ascending=False)\n",
    "df_ifes_rank"
   ]
  },
  {
   "cell_type": "code",
   "execution_count": 33,
   "id": "40f7a34c-fc89-4e33-bd98-795df695a0d4",
   "metadata": {},
   "outputs": [
    {
     "name": "stderr",
     "output_type": "stream",
     "text": [
      "C:\\Users\\RaniRob\\AppData\\Local\\Temp\\ipykernel_972\\2443009725.py:2: FutureWarning:\n",
      "\n",
      "\n",
      "\n",
      "Passing `palette` without assigning `hue` is deprecated and will be removed in v0.14.0. Assign the `y` variable to `hue` and set `legend=False` for the same effect.\n",
      "\n",
      "\n"
     ]
    },
    {
     "data": {
      "image/png": "[encoded data removed]",
      "text/plain": [
       "<Figure size 1000x800 with 1 Axes>"
      ]
     },
     "metadata": {},
     "output_type": "display_data"
    }
   ],
   "source": [
    "plt.figure(figsize=(10, 8))\n",
    "sb.barplot(x='contagem', y='titular_abv', data=df_ifes_rank.head(20), palette='viridis')\n",
    "\n",
    "plt.xlabel('Número de Patentes')\n",
    "plt.ylabel('Titular')\n",
    "plt.title('Ranking dos Titulares por Número de Patentes')\n",
    "\n",
    "# Exiba o gráfico\n",
    "plt.show()\n"
   ]
  },
  {
   "cell_type": "code",
   "execution_count": 36,
   "id": "ef412d8b-0a30-4432-860b-09a7c49b3fbe",
   "metadata": {},
   "outputs": [
    {
     "data": {
      "text/plain": [
       "Index(['ID', 'data_publicacao', 'diretoria', 'numero_revista', 'codigo',\n",
       "       'titulo', 'numero', 'data_deposito', 'data_prioridade',\n",
       "       'cod_prioridade', 'classif_internacion', 'classif_nacion',\n",
       "       'titulo_inid', 'titular_nome', 'titular_uf', 'titular_pais',\n",
       "       'inventor_nome', 'titular_1', 'titular_parceiros1',\n",
       "       'titular_parceiros2', 'titular_abv', 'titular_uf1', 'titular_uf2',\n",
       "       'classif_nac1', 'classif_nac2', 'classif_nac3', 'classif_internac1',\n",
       "       'classif_internac2', 'classif_internac3', 'inventor_1',\n",
       "       'inventor_outros', 'ano_dep', 'mes_dep', 'natureza'],\n",
       "      dtype='object')"
      ]
     },
     "execution_count": 36,
     "metadata": {},
     "output_type": "execute_result"
    }
   ],
   "source": [
    "df_ifes.columns"
   ]
  },
  {
   "cell_type": "code",
   "execution_count": 37,
   "id": "e983b0e6-9898-4fa5-8253-cae014feaf44",
   "metadata": {},
   "outputs": [
    {
     "name": "stdout",
     "output_type": "stream",
     "text": [
      "    ano_dep                                     natureza  Patentes\n",
      "0      2003                             Não Identificado         2\n",
      "1      2007                             Não Identificado         1\n",
      "2      2011  Patente de Invenção e Certificado de Adição         2\n",
      "3      2012                  Patente Modelo de Utilidade         1\n",
      "4      2012  Patente de Invenção e Certificado de Adição         2\n",
      "5      2013  Patente de Invenção e Certificado de Adição         3\n",
      "6      2014                  Patente Modelo de Utilidade         1\n",
      "7      2014  Patente de Invenção e Certificado de Adição        11\n",
      "8      2015  Patente de Invenção e Certificado de Adição        12\n",
      "9      2016  Patente de Invenção e Certificado de Adição        17\n",
      "10     2017                  Patente Modelo de Utilidade         1\n",
      "11     2017  Patente de Invenção e Certificado de Adição        36\n",
      "12     2018                  Patente Modelo de Utilidade        25\n",
      "13     2018  Patente de Invenção e Certificado de Adição       586\n",
      "14     2019                  Patente Modelo de Utilidade        68\n",
      "15     2019  Patente de Invenção e Certificado de Adição      1064\n",
      "16     2020                  Patente Modelo de Utilidade        61\n",
      "17     2020  Patente de Invenção e Certificado de Adição      1055\n",
      "18     2021                  Patente Modelo de Utilidade        63\n",
      "19     2021  Patente de Invenção e Certificado de Adição       762\n",
      "20     2022                  Patente Modelo de Utilidade         2\n",
      "21     2022  Patente de Invenção e Certificado de Adição        16\n"
     ]
    }
   ],
   "source": [
    "# Criar a coluna 'natureza' com os 5 primeiros dígitos da coluna 'numero'\n",
    "df_ifes['natureza'] = df_ifes['numero'].str[3:5]\n",
    "\n",
    "# Dicionário de mapeamento de intervalos de códigos de natureza para descrições\n",
    "mapeamento_natureza = {\n",
    "    '01-09': 'Não Identificado',\n",
    "    '10-19': 'Patente de Invenção e Certificado de Adição',\n",
    "    '20-29': 'Patente Modelo de Utilidade',\n",
    "    '30-39': 'Processos de Registro de Desenhos Industriais',\n",
    "    '40-49': 'Processos de Proteção da Indicação Geográfica',\n",
    "    '50-59': 'Processos de Registro de Programas de Computador',\n",
    "    '60-69': 'Processos de Registro de Topografias de Circuitos Integrados',\n",
    "    '70-79': 'Processos de Contratos de Transferência de Tecnologia',\n",
    "}\n",
    "\n",
    "# Mapeie os códigos de natureza para as descrições usando os intervalos\n",
    "df_ifes['natureza'] = df_ifes['natureza'].map(lambda x: next((v for k, v in mapeamento_natureza.items() if k[0] <= x <= k[3:]), x))\n",
    "\n",
    "\n",
    "# Agrupe os dados por 'Ano' e 'natureza' e conte o número de patentes\n",
    "df_ifes_natureza = df_ifes.groupby(['ano_dep', 'natureza'])['titular_nome'].count().reset_index()\n",
    "df_ifes_natureza = df_ifes_natureza.rename(columns={'titular_nome': 'Patentes'})\n",
    "\n",
    "# Certifique-se de que a tabela 'data_tit_natureza' contenha as colunas 'Ano', 'natureza' e 'Patentes'\n",
    "print(df_ifes_natureza)"
   ]
  },
  {
   "cell_type": "code",
   "execution_count": 38,
   "id": "666f1453-e476-4149-b084-e163e524f62a",
   "metadata": {},
   "outputs": [
    {
     "data": {
      "text/html": [
       "<div>\n",
       "<style scoped>\n",
       "    .dataframe tbody tr th:only-of-type {\n",
       "        vertical-align: middle;\n",
       "    }\n",
       "\n",
       "    .dataframe tbody tr th {\n",
       "        vertical-align: top;\n",
       "    }\n",
       "\n",
       "    .dataframe thead th {\n",
       "        text-align: right;\n",
       "    }\n",
       "</style>\n",
       "<table border=\"1\" class=\"dataframe\">\n",
       "  <thead>\n",
       "    <tr style=\"text-align: right;\">\n",
       "      <th></th>\n",
       "      <th>natureza</th>\n",
       "      <th>titular_nome</th>\n",
       "    </tr>\n",
       "  </thead>\n",
       "  <tbody>\n",
       "    <tr>\n",
       "      <th>0</th>\n",
       "      <td>Não Identificado</td>\n",
       "      <td>3</td>\n",
       "    </tr>\n",
       "    <tr>\n",
       "      <th>1</th>\n",
       "      <td>Patente Modelo de Utilidade</td>\n",
       "      <td>222</td>\n",
       "    </tr>\n",
       "    <tr>\n",
       "      <th>2</th>\n",
       "      <td>Patente de Invenção e Certificado de Adição</td>\n",
       "      <td>3566</td>\n",
       "    </tr>\n",
       "  </tbody>\n",
       "</table>\n",
       "</div>"
      ],
      "text/plain": [
       "                                      natureza  titular_nome\n",
       "0                             Não Identificado             3\n",
       "1                  Patente Modelo de Utilidade           222\n",
       "2  Patente de Invenção e Certificado de Adição          3566"
      ]
     },
     "execution_count": 38,
     "metadata": {},
     "output_type": "execute_result"
    }
   ],
   "source": [
    "df_ifes_natureza2 = df_ifes.groupby(['natureza'])['titular_nome'].count().reset_index()\n",
    "df_ifes_natureza2\n"
   ]
  },
  {
   "cell_type": "code",
   "execution_count": 39,
   "id": "d24c8d44-da5e-412c-b1f0-4a4f8029c238",
   "metadata": {},
   "outputs": [
    {
     "data": {
      "image/png": "[encoded data removed]",
      "text/plain": [
       "<Figure size 1000x800 with 1 Axes>"
      ]
     },
     "metadata": {},
     "output_type": "display_data"
    }
   ],
   "source": [
    "# Crie um gráfico de barras\n",
    "plt.figure(figsize=(10, 8))\n",
    "plt.bar(df_ifes_natureza['natureza'], df_ifes_natureza['Patentes'])\n",
    "plt.xlabel('Natureza')\n",
    "plt.ylabel('Número de Patentes')\n",
    "plt.title('Número de Patentes por Natureza')\n",
    "plt.xticks(rotation=45)  # Rotaciona os rótulos do eixo x para melhor legibilidade\n",
    "\n",
    "# Exiba o gráfico\n",
    "plt.show()"
   ]
  },
  {
   "cell_type": "code",
   "execution_count": 42,
   "id": "49e91596-b35e-4ba6-95bb-3fc7c2b3495e",
   "metadata": {},
   "outputs": [
    {
     "data": {
      "text/plain": [
       "Index(['ano_dep', 'natureza', 'Patentes'], dtype='object')"
      ]
     },
     "execution_count": 42,
     "metadata": {},
     "output_type": "execute_result"
    }
   ],
   "source": [
    "df_ifes_natureza.columns"
   ]
  },
  {
   "cell_type": "code",
   "execution_count": 44,
   "id": "fbdc2600-9d9c-4abd-a6e4-9004e7e44cc8",
   "metadata": {},
   "outputs": [
    {
     "name": "stderr",
     "output_type": "stream",
     "text": [
      "C:\\Users\\RaniRob\\AppData\\Local\\Temp\\ipykernel_972\\1621735632.py:5: SettingWithCopyWarning:\n",
      "\n",
      "\n",
      "A value is trying to be set on a copy of a slice from a DataFrame.\n",
      "Try using .loc[row_indexer,col_indexer] = value instead\n",
      "\n",
      "See the caveats in the documentation: https://pandas.pydata.org/pandas-docs/stable/user_guide/indexing.html#returning-a-view-versus-a-copy\n",
      "\n"
     ]
    },
    {
     "data": {
      "image/png": "[encoded data removed]",
      "text/plain": [
       "<Figure size 1000x800 with 1 Axes>"
      ]
     },
     "metadata": {},
     "output_type": "display_data"
    }
   ],
   "source": [
    "# Filtrar os dados para remover aqueles com 'natureza' igual a 'NI'\n",
    "df_ifes_natureza_filtrado = df_ifes_natureza[df_ifes_natureza['natureza'] != 'Não Identificado']\n",
    "\n",
    "# Converter a coluna 'Ano' para números inteiros\n",
    "df_ifes_natureza_filtrado['dep_ano'] = df_ifes_natureza_filtrado['ano_dep'].astype(int)\n",
    "\n",
    "# Criar um gráfico de barras empilhadas com o Seaborn\n",
    "plt.figure(figsize=(10, 8))\n",
    "sb.barplot(x='dep_ano', y='Patentes', hue='natureza', data=df_ifes_natureza_filtrado, palette='viridis')\n",
    "plt.xlabel('Ano')\n",
    "plt.ylabel('Número de Patentes')\n",
    "plt.title('Número de Patentes por Natureza por Ano')\n",
    "\n",
    "# Exiba o gráfico\n",
    "plt.xticks(rotation=45)\n",
    "plt.legend(title='Natureza', loc='center left', bbox_to_anchor=(1.0, 0.5))\n",
    "plt.show()\n",
    "\n"
   ]
  },
  {
   "cell_type": "code",
   "execution_count": null,
   "id": "9fae4936-83c1-4d8c-a3e0-def474e13d73",
   "metadata": {},
   "outputs": [],
   "source": []
  }
 ],
 "metadata": {
  "kernelspec": {
   "display_name": "Python 3 (ipykernel)",
   "language": "python",
   "name": "python3"
  },
  "language_info": {
   "codemirror_mode": {
    "name": "ipython",
    "version": 3
   },
   "file_extension": ".py",
   "mimetype": "text/x-python",
   "name": "python",
   "nbconvert_exporter": "python",
   "pygments_lexer": "ipython3",
   "version": "3.8.10"
  }
 },
 "nbformat": 4,
 "nbformat_minor": 5
}
