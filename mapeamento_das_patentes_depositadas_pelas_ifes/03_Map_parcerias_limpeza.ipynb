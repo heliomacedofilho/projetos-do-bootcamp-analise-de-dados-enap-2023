{
 "cells": [
  {
   "cell_type": "markdown",
   "id": "3232bfff-9aeb-4256-ab92-07e6692b11d0",
   "metadata": {
    "slideshow": {
     "slide_type": "slide"
    },
    "tags": []
   },
   "source": [
    "# Mapeamento de patentes"
   ]
  },
  {
   "cell_type": "markdown",
   "id": "051358b7",
   "metadata": {},
   "source": [
    "## Bibliotecas"
   ]
  },
  {
   "cell_type": "code",
   "execution_count": null,
   "id": "59531522",
   "metadata": {},
   "outputs": [],
   "source": [
    "import pandas as pd\n",
    "import datetime"
   ]
  },
  {
   "cell_type": "markdown",
   "id": "a367af93-d4af-4cab-964d-033d29382c27",
   "metadata": {
    "slideshow": {
     "slide_type": "skip"
    }
   },
   "source": [
    "## Limpeza"
   ]
  },
  {
   "cell_type": "code",
   "execution_count": null,
   "id": "6403e9f9-8fae-40f6-9f0d-930dcd1e1b2e",
   "metadata": {},
   "outputs": [],
   "source": [
    "# Exporte o DataFrame para o arquivo Excel\n",
    "df = pd.read_excel('data_patentes_excel.xlsx')\n",
    "# Crie um DataFrame com a coluna 'ID'\n",
    "df.insert(0, 'ID', [\"ID{:05d}\".format(i) for i in range(1, len(df) + 1)])\n",
    "df.head()"
   ]
  },
  {
   "cell_type": "code",
   "execution_count": null,
   "id": "b760575b",
   "metadata": {},
   "outputs": [],
   "source": [
    "df_titular = df[['ID', 'titular_nome']]\n",
    "df_titular.head()\n",
    "df_titular.info()"
   ]
  },
  {
   "cell_type": "code",
   "execution_count": null,
   "id": "95691825",
   "metadata": {},
   "outputs": [],
   "source": [
    "df_titular.loc[:, 'num_elementos'] = df_titular['titular_nome'].apply(lambda x: len(x.split(';')))\n",
    "max = df_titular['num_elementos'].max()\n",
    "\n",
    "print(max)\n"
   ]
  },
  {
   "cell_type": "code",
   "execution_count": null,
   "id": "d18fa057",
   "metadata": {},
   "outputs": [],
   "source": [
    "df_titular[[\"titular{:02d}\".format(i) for i in range(1, 36)]] = df_titular['titular_nome'].str.split(';', expand=True)"
   ]
  },
  {
   "cell_type": "code",
   "execution_count": null,
   "id": "5b7b5424",
   "metadata": {},
   "outputs": [],
   "source": [
    "titulares_melted = pd.melt(df_titular, \n",
    "                    id_vars=['ID'], \n",
    "                    value_vars=[\"titular{:02d}\".format(i) for i in range(1, 36)], \n",
    "                    var_name='ordem_titularid', \n",
    "                    value_name='titulares')\n",
    "\n",
    "titulares_melted = titulares_melted.dropna(subset= ['titulares'])\n",
    "titulares_melted = titulares_melted.sort_values('ID')\n",
    "\n",
    "def criar_nova_variavel(row):\n",
    "    if row['ordem_titularid'] == 'titular01':\n",
    "        return 'Titular'\n",
    "    else:\n",
    "        return 'Parceiro'\n",
    "    \n",
    "titulares_melted['parceria'] = titulares_melted.apply(criar_nova_variavel, axis=1)\n",
    "titulares_melted['titulares'] = titulares_melted['titulares'].str.strip()\n",
    "\n",
    "titulares_melted.head(10)\n"
   ]
  },
  {
   "cell_type": "code",
   "execution_count": null,
   "id": "70fb6de4",
   "metadata": {},
   "outputs": [],
   "source": [
    "titulares_melted.to_excel('titulares_melted.xlsx', sheet_name='Parcerias', index=False)"
   ]
  },
  {
   "cell_type": "code",
   "execution_count": null,
   "id": "79ddcda9",
   "metadata": {},
   "outputs": [],
   "source": [
    "tab = titulares_melted.groupby('ID').count()\n",
    "n = tab.groupby('titulares').count().reset_index()\n",
    "n['porcentagem'] = round((n['ordem_titularid'] / n['ordem_titularid'].sum()) * 100,2)\n",
    "\n",
    "print(n)"
   ]
  }
 ],
 "metadata": {
  "celltoolbar": "Slideshow",
  "kernelspec": {
   "display_name": "Python 3 (ipykernel)",
   "language": "python",
   "name": "python3"
  },
  "language_info": {
   "codemirror_mode": {
    "name": "ipython",
    "version": 3
   },
   "file_extension": ".py",
   "mimetype": "text/x-python",
   "name": "python",
   "nbconvert_exporter": "python",
   "pygments_lexer": "ipython3",
   "version": "3.11.5"
  },
  "toc": {
   "base_numbering": 1,
   "nav_menu": {},
   "number_sections": true,
   "sideBar": true,
   "skip_h1_title": false,
   "title_cell": "Table of Contents",
   "title_sidebar": "Contents",
   "toc_cell": false,
   "toc_position": {},
   "toc_section_display": true,
   "toc_window_display": false
  }
 },
 "nbformat": 4,
 "nbformat_minor": 5
}
