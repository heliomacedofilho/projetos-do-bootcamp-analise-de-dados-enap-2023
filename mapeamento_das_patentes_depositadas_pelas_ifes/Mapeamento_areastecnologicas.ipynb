{
 "cells": [
  {
   "cell_type": "code",
   "execution_count": 1,
   "id": "08418820-4859-4491-91f6-3a66c309ab66",
   "metadata": {
    "tags": []
   },
   "outputs": [],
   "source": [
    "import pandas as pd\n",
    "import re\n",
    "import seaborn as sns\n",
    "import matplotlib.pyplot as plt\n",
    "#para conseguir visualizar os gráficos no notebook\n",
    "%matplotlib inline\n",
    "import plotly.express as px\n",
    "\n"
   ]
  },
  {
   "cell_type": "code",
   "execution_count": 2,
   "id": "e7070e13-552d-4a14-bf03-ae86c3772389",
   "metadata": {
    "tags": []
   },
   "outputs": [],
   "source": [
    "data=pd.read_csv('../data_ifes.csv')\n",
    "\n"
   ]
  },
  {
   "cell_type": "code",
   "execution_count": 3,
   "id": "de438c3a-b86a-493a-9880-9a086144daba",
   "metadata": {
    "jupyter": {
     "source_hidden": true
    },
    "tags": []
   },
   "outputs": [],
   "source": [
    "regioes_brasileiras = {\n",
    "    \"AC\": \"Norte\",\n",
    "    \"AL\": \"Nordeste\",\n",
    "    \"AP\": \"Norte\",\n",
    "    \"AM\": \"Norte\",\n",
    "    \"BA\": \"Nordeste\",\n",
    "    \"CE\": \"Nordeste\",\n",
    "    \"DF\": \"Centro-Oeste\",\n",
    "    \"ES\": \"Sudeste\",\n",
    "    \"GO\": \"Centro-Oeste\",\n",
    "    \"MA\": \"Nordeste\",\n",
    "    \"MT\": \"Centro-Oeste\",\n",
    "    \"MS\": \"Centro-Oeste\",\n",
    "    \"MG\": \"Sudeste\",\n",
    "    \"PA\": \"Norte\",\n",
    "    \"PB\": \"Nordeste\",\n",
    "    \"PR\": \"Sul\",\n",
    "    \"PE\": \"Nordeste\",\n",
    "    \"PI\": \"Nordeste\",\n",
    "    \"RJ\": \"Sudeste\",\n",
    "    \"RN\": \"Nordeste\",\n",
    "    \"RO\": \"Norte\",\n",
    "    \"RS\": \"Sul\",\n",
    "    \"RR\": \"Norte\",\n",
    "    \"SC\": \"Sul\",\n",
    "    \"SE\": \"Nordeste\",\n",
    "    \"SP\": \"Sudeste\",\n",
    "    \"TO\": \"Centro-Oeste\"\n",
    "}\n"
   ]
  },
  {
   "cell_type": "code",
   "execution_count": 4,
   "id": "9056cf4e-c11a-480e-ad6a-c0ec1f5c7885",
   "metadata": {
    "tags": []
   },
   "outputs": [],
   "source": [
    "ipc_table=pd.read_excel('ipc_technology.xlsx')\n",
    "ipc_table_tratado=ipc_table[['Sector_en','Field_pt','IPC_code']]\n",
    "mapeamento_area_tecnologica=dict(zip(ipc_table_tratado['IPC_code'],ipc_table_tratado['Field_pt']))\n",
    "mapeamento_area_tecnologica = {k.strip(): v.strip() for k, v in mapeamento_area_tecnologica.items()}"
   ]
  },
  {
   "cell_type": "code",
   "execution_count": 5,
   "id": "679b970e-bfdf-4a26-8807-07daa7f90a4d",
   "metadata": {
    "tags": []
   },
   "outputs": [
    {
     "data": {
      "text/html": [
       "<div>\n",
       "<style scoped>\n",
       "    .dataframe tbody tr th:only-of-type {\n",
       "        vertical-align: middle;\n",
       "    }\n",
       "\n",
       "    .dataframe tbody tr th {\n",
       "        vertical-align: top;\n",
       "    }\n",
       "\n",
       "    .dataframe thead th {\n",
       "        text-align: right;\n",
       "    }\n",
       "</style>\n",
       "<table border=\"1\" class=\"dataframe\">\n",
       "  <thead>\n",
       "    <tr style=\"text-align: right;\">\n",
       "      <th></th>\n",
       "      <th>titular_1</th>\n",
       "      <th>titular_parceiros1</th>\n",
       "      <th>titular_parceiros2</th>\n",
       "      <th>titular_abv</th>\n",
       "      <th>titular_uf1</th>\n",
       "      <th>Regiao</th>\n",
       "      <th>class_int1</th>\n",
       "    </tr>\n",
       "  </thead>\n",
       "  <tbody>\n",
       "    <tr>\n",
       "      <th>0</th>\n",
       "      <td>UNIVERSIDADE FEDERAL DO CEARÁ</td>\n",
       "      <td>NaN</td>\n",
       "      <td>NaN</td>\n",
       "      <td>UFC</td>\n",
       "      <td>CE</td>\n",
       "      <td>Nordeste</td>\n",
       "      <td>H01Q 13/10</td>\n",
       "    </tr>\n",
       "    <tr>\n",
       "      <th>1</th>\n",
       "      <td>FUNDAÇÃO UNIVERSIDADE DO AMAZONAS</td>\n",
       "      <td>NaN</td>\n",
       "      <td>NaN</td>\n",
       "      <td>UFAM</td>\n",
       "      <td>AM</td>\n",
       "      <td>Norte</td>\n",
       "      <td>H04L 29/06</td>\n",
       "    </tr>\n",
       "    <tr>\n",
       "      <th>2</th>\n",
       "      <td>INSTITUTO FEDERAL DE EDUCAÇÃO, CIÊNCIA E TECNO...</td>\n",
       "      <td>UNIVERSIDADE FEDERAL DE PERNAMBUCO</td>\n",
       "      <td>ASSOCIAÇÃO INSTITUTO DE TECNOLOGIA DE PERNAMBU...</td>\n",
       "      <td>IFPE</td>\n",
       "      <td>PE</td>\n",
       "      <td>Nordeste</td>\n",
       "      <td>G01D 3/08</td>\n",
       "    </tr>\n",
       "    <tr>\n",
       "      <th>3</th>\n",
       "      <td>INSTITUTO FEDERAL DE EDUCAÇÃO, CIÊNCIA E TECNO...</td>\n",
       "      <td>NaN</td>\n",
       "      <td>NaN</td>\n",
       "      <td>IFGOIANO</td>\n",
       "      <td>GO</td>\n",
       "      <td>Centro-Oeste</td>\n",
       "      <td>A21D 13/045</td>\n",
       "    </tr>\n",
       "    <tr>\n",
       "      <th>4</th>\n",
       "      <td>UNIVERSIDADE FEDERAL DE UBERLÂNDIA</td>\n",
       "      <td>NaN</td>\n",
       "      <td>NaN</td>\n",
       "      <td>UFU</td>\n",
       "      <td>MG</td>\n",
       "      <td>Sudeste</td>\n",
       "      <td>C12Q 1/68</td>\n",
       "    </tr>\n",
       "  </tbody>\n",
       "</table>\n",
       "</div>"
      ],
      "text/plain": [
       "                                           titular_1  \\\n",
       "0                      UNIVERSIDADE FEDERAL DO CEARÁ   \n",
       "1                  FUNDAÇÃO UNIVERSIDADE DO AMAZONAS   \n",
       "2  INSTITUTO FEDERAL DE EDUCAÇÃO, CIÊNCIA E TECNO...   \n",
       "3  INSTITUTO FEDERAL DE EDUCAÇÃO, CIÊNCIA E TECNO...   \n",
       "4                 UNIVERSIDADE FEDERAL DE UBERLÂNDIA   \n",
       "\n",
       "                   titular_parceiros1  \\\n",
       "0                                 NaN   \n",
       "1                                 NaN   \n",
       "2  UNIVERSIDADE FEDERAL DE PERNAMBUCO   \n",
       "3                                 NaN   \n",
       "4                                 NaN   \n",
       "\n",
       "                                  titular_parceiros2 titular_abv titular_uf1  \\\n",
       "0                                                NaN         UFC          CE   \n",
       "1                                                NaN        UFAM          AM   \n",
       "2  ASSOCIAÇÃO INSTITUTO DE TECNOLOGIA DE PERNAMBU...        IFPE          PE   \n",
       "3                                                NaN    IFGOIANO          GO   \n",
       "4                                                NaN         UFU          MG   \n",
       "\n",
       "         Regiao   class_int1  \n",
       "0      Nordeste   H01Q 13/10  \n",
       "1         Norte   H04L 29/06  \n",
       "2      Nordeste    G01D 3/08  \n",
       "3  Centro-Oeste  A21D 13/045  \n",
       "4       Sudeste    C12Q 1/68  "
      ]
     },
     "execution_count": 5,
     "metadata": {},
     "output_type": "execute_result"
    }
   ],
   "source": [
    "data_analise_ci=data[['titular_1','titular_parceiros1','titular_parceiros2','titular_abv','titular_uf1','classif_internacion']]\n",
    "df_classificacao_internacional=data_analise_ci['classif_internacion'].str.split(\";\",expand=True)\n",
    "df_classificacao_internacional.columns = ['class_int' + str(i) for i in range(1, df_classificacao_internacional.shape[1] + 1)]\n",
    "data_analiseCI=pd.concat([data_analise_ci, df_classificacao_internacional], axis=1).drop(columns=['classif_internacion'])\n",
    "data_analiseCI['Regiao'] = data_analiseCI['titular_uf1'].map(regioes_brasileiras)\n",
    "cols = data_analiseCI.columns.tolist()\n",
    "cols.insert(3, cols.pop(cols.index('Regiao')))\n",
    "data_analiseCI = data_analiseCI[cols]\n",
    "data_analise=data_analiseCI[['titular_1','titular_parceiros1','titular_parceiros2','titular_abv','titular_uf1','Regiao','class_int1']]\n",
    "\n",
    "data_analise.head()"
   ]
  },
  {
   "cell_type": "code",
   "execution_count": 6,
   "id": "427f81ea-1de5-4fa1-ade8-28cb164ebd33",
   "metadata": {
    "tags": []
   },
   "outputs": [
    {
     "data": {
      "text/html": [
       "<div>\n",
       "<style scoped>\n",
       "    .dataframe tbody tr th:only-of-type {\n",
       "        vertical-align: middle;\n",
       "    }\n",
       "\n",
       "    .dataframe tbody tr th {\n",
       "        vertical-align: top;\n",
       "    }\n",
       "\n",
       "    .dataframe thead th {\n",
       "        text-align: right;\n",
       "    }\n",
       "</style>\n",
       "<table border=\"1\" class=\"dataframe\">\n",
       "  <thead>\n",
       "    <tr style=\"text-align: right;\">\n",
       "      <th></th>\n",
       "      <th>titular_1</th>\n",
       "      <th>titular_parceiros1</th>\n",
       "      <th>titular_parceiros2</th>\n",
       "      <th>titular_abv</th>\n",
       "      <th>titular_uf1</th>\n",
       "      <th>Regiao</th>\n",
       "      <th>class_int1</th>\n",
       "      <th>IPC1</th>\n",
       "      <th>IPC2</th>\n",
       "    </tr>\n",
       "  </thead>\n",
       "  <tbody>\n",
       "    <tr>\n",
       "      <th>0</th>\n",
       "      <td>UNIVERSIDADE FEDERAL DO CEARÁ</td>\n",
       "      <td>NaN</td>\n",
       "      <td>NaN</td>\n",
       "      <td>UFC</td>\n",
       "      <td>CE</td>\n",
       "      <td>Nordeste</td>\n",
       "      <td>H01Q 13/10</td>\n",
       "      <td>H01Q</td>\n",
       "      <td>13/10</td>\n",
       "    </tr>\n",
       "    <tr>\n",
       "      <th>1</th>\n",
       "      <td>FUNDAÇÃO UNIVERSIDADE DO AMAZONAS</td>\n",
       "      <td>NaN</td>\n",
       "      <td>NaN</td>\n",
       "      <td>UFAM</td>\n",
       "      <td>AM</td>\n",
       "      <td>Norte</td>\n",
       "      <td>H04L 29/06</td>\n",
       "      <td>H04L</td>\n",
       "      <td>29/06</td>\n",
       "    </tr>\n",
       "    <tr>\n",
       "      <th>2</th>\n",
       "      <td>INSTITUTO FEDERAL DE EDUCAÇÃO, CIÊNCIA E TECNO...</td>\n",
       "      <td>UNIVERSIDADE FEDERAL DE PERNAMBUCO</td>\n",
       "      <td>ASSOCIAÇÃO INSTITUTO DE TECNOLOGIA DE PERNAMBU...</td>\n",
       "      <td>IFPE</td>\n",
       "      <td>PE</td>\n",
       "      <td>Nordeste</td>\n",
       "      <td>G01D 3/08</td>\n",
       "      <td>G01D</td>\n",
       "      <td>3/08</td>\n",
       "    </tr>\n",
       "    <tr>\n",
       "      <th>3</th>\n",
       "      <td>INSTITUTO FEDERAL DE EDUCAÇÃO, CIÊNCIA E TECNO...</td>\n",
       "      <td>NaN</td>\n",
       "      <td>NaN</td>\n",
       "      <td>IFGOIANO</td>\n",
       "      <td>GO</td>\n",
       "      <td>Centro-Oeste</td>\n",
       "      <td>A21D 13/045</td>\n",
       "      <td>A21D</td>\n",
       "      <td>13/045</td>\n",
       "    </tr>\n",
       "    <tr>\n",
       "      <th>4</th>\n",
       "      <td>UNIVERSIDADE FEDERAL DE UBERLÂNDIA</td>\n",
       "      <td>NaN</td>\n",
       "      <td>NaN</td>\n",
       "      <td>UFU</td>\n",
       "      <td>MG</td>\n",
       "      <td>Sudeste</td>\n",
       "      <td>C12Q 1/68</td>\n",
       "      <td>C12Q</td>\n",
       "      <td>1/68</td>\n",
       "    </tr>\n",
       "    <tr>\n",
       "      <th>...</th>\n",
       "      <td>...</td>\n",
       "      <td>...</td>\n",
       "      <td>...</td>\n",
       "      <td>...</td>\n",
       "      <td>...</td>\n",
       "      <td>...</td>\n",
       "      <td>...</td>\n",
       "      <td>...</td>\n",
       "      <td>...</td>\n",
       "    </tr>\n",
       "    <tr>\n",
       "      <th>3786</th>\n",
       "      <td>INSTITUTO FEDERAL DE EDUCAÇÃO CIÊNCIA E TECNOL...</td>\n",
       "      <td>NaN</td>\n",
       "      <td>NaN</td>\n",
       "      <td>IFMA</td>\n",
       "      <td>MA</td>\n",
       "      <td>Nordeste</td>\n",
       "      <td>B29C 45/18</td>\n",
       "      <td>B29C</td>\n",
       "      <td>45/18</td>\n",
       "    </tr>\n",
       "    <tr>\n",
       "      <th>3787</th>\n",
       "      <td>UNIVERSIDADE FEDERAL DO MARANHÃO</td>\n",
       "      <td>NaN</td>\n",
       "      <td>NaN</td>\n",
       "      <td>UFMA</td>\n",
       "      <td>MA</td>\n",
       "      <td>Nordeste</td>\n",
       "      <td>A61K 31/403</td>\n",
       "      <td>A61K</td>\n",
       "      <td>31/403</td>\n",
       "    </tr>\n",
       "    <tr>\n",
       "      <th>3788</th>\n",
       "      <td>UNIVERSIDADE FEDERAL DE CAMPINA GRANDE - PB</td>\n",
       "      <td>NaN</td>\n",
       "      <td>NaN</td>\n",
       "      <td>UFCG</td>\n",
       "      <td>PB</td>\n",
       "      <td>Nordeste</td>\n",
       "      <td>C01B 25/32</td>\n",
       "      <td>C01B</td>\n",
       "      <td>25/32</td>\n",
       "    </tr>\n",
       "    <tr>\n",
       "      <th>3789</th>\n",
       "      <td>UNIVERSIDADE FEDERAL DO SUL E SUDESTE DO PARÁ</td>\n",
       "      <td>NaN</td>\n",
       "      <td>NaN</td>\n",
       "      <td>UNIFESSPA</td>\n",
       "      <td>PA</td>\n",
       "      <td>Norte</td>\n",
       "      <td>G01T 1/02</td>\n",
       "      <td>G01T</td>\n",
       "      <td>1/02</td>\n",
       "    </tr>\n",
       "    <tr>\n",
       "      <th>3790</th>\n",
       "      <td>UNIVERSIDADE FEDERAL DE ALAGOAS</td>\n",
       "      <td>NaN</td>\n",
       "      <td>NaN</td>\n",
       "      <td>UFAL</td>\n",
       "      <td>AL</td>\n",
       "      <td>Nordeste</td>\n",
       "      <td>A61K 35/644</td>\n",
       "      <td>A61K</td>\n",
       "      <td>35/644</td>\n",
       "    </tr>\n",
       "  </tbody>\n",
       "</table>\n",
       "<p>3791 rows × 9 columns</p>\n",
       "</div>"
      ],
      "text/plain": [
       "                                              titular_1  \\\n",
       "0                         UNIVERSIDADE FEDERAL DO CEARÁ   \n",
       "1                     FUNDAÇÃO UNIVERSIDADE DO AMAZONAS   \n",
       "2     INSTITUTO FEDERAL DE EDUCAÇÃO, CIÊNCIA E TECNO...   \n",
       "3     INSTITUTO FEDERAL DE EDUCAÇÃO, CIÊNCIA E TECNO...   \n",
       "4                    UNIVERSIDADE FEDERAL DE UBERLÂNDIA   \n",
       "...                                                 ...   \n",
       "3786  INSTITUTO FEDERAL DE EDUCAÇÃO CIÊNCIA E TECNOL...   \n",
       "3787                   UNIVERSIDADE FEDERAL DO MARANHÃO   \n",
       "3788        UNIVERSIDADE FEDERAL DE CAMPINA GRANDE - PB   \n",
       "3789      UNIVERSIDADE FEDERAL DO SUL E SUDESTE DO PARÁ   \n",
       "3790                    UNIVERSIDADE FEDERAL DE ALAGOAS   \n",
       "\n",
       "                      titular_parceiros1  \\\n",
       "0                                    NaN   \n",
       "1                                    NaN   \n",
       "2     UNIVERSIDADE FEDERAL DE PERNAMBUCO   \n",
       "3                                    NaN   \n",
       "4                                    NaN   \n",
       "...                                  ...   \n",
       "3786                                 NaN   \n",
       "3787                                 NaN   \n",
       "3788                                 NaN   \n",
       "3789                                 NaN   \n",
       "3790                                 NaN   \n",
       "\n",
       "                                     titular_parceiros2 titular_abv  \\\n",
       "0                                                   NaN         UFC   \n",
       "1                                                   NaN        UFAM   \n",
       "2     ASSOCIAÇÃO INSTITUTO DE TECNOLOGIA DE PERNAMBU...        IFPE   \n",
       "3                                                   NaN    IFGOIANO   \n",
       "4                                                   NaN         UFU   \n",
       "...                                                 ...         ...   \n",
       "3786                                                NaN        IFMA   \n",
       "3787                                                NaN        UFMA   \n",
       "3788                                                NaN        UFCG   \n",
       "3789                                                NaN   UNIFESSPA   \n",
       "3790                                                NaN        UFAL   \n",
       "\n",
       "     titular_uf1        Regiao   class_int1  IPC1    IPC2  \n",
       "0             CE      Nordeste   H01Q 13/10  H01Q   13/10  \n",
       "1             AM         Norte   H04L 29/06  H04L   29/06  \n",
       "2             PE      Nordeste    G01D 3/08  G01D    3/08  \n",
       "3             GO  Centro-Oeste  A21D 13/045  A21D  13/045  \n",
       "4             MG       Sudeste    C12Q 1/68  C12Q    1/68  \n",
       "...          ...           ...          ...   ...     ...  \n",
       "3786          MA      Nordeste   B29C 45/18  B29C   45/18  \n",
       "3787          MA      Nordeste  A61K 31/403  A61K  31/403  \n",
       "3788          PB      Nordeste   C01B 25/32  C01B   25/32  \n",
       "3789          PA         Norte    G01T 1/02  G01T    1/02  \n",
       "3790          AL      Nordeste  A61K 35/644  A61K  35/644  \n",
       "\n",
       "[3791 rows x 9 columns]"
      ]
     },
     "execution_count": 6,
     "metadata": {},
     "output_type": "execute_result"
    }
   ],
   "source": [
    "class_int=data_analise['class_int1'].str.split(' ',expand=True)\n",
    "class_int.columns = ['IPC' + str(i) for i in range(1, class_int.shape[1] + 1)]\n",
    "dados_ci=pd.concat([data_analise, class_int], axis=1)\n",
    "dados_ci"
   ]
  },
  {
   "cell_type": "code",
   "execution_count": 7,
   "id": "8f13736f-d573-4549-bbe8-0d9b61faa7a2",
   "metadata": {
    "tags": []
   },
   "outputs": [
    {
     "name": "stdout",
     "output_type": "stream",
     "text": [
      "<class 'pandas.core.frame.DataFrame'>\n",
      "RangeIndex: 3791 entries, 0 to 3790\n",
      "Data columns (total 9 columns):\n",
      " #   Column              Non-Null Count  Dtype \n",
      "---  ------              --------------  ----- \n",
      " 0   titular_1           3791 non-null   object\n",
      " 1   titular_parceiros1  1139 non-null   object\n",
      " 2   titular_parceiros2  286 non-null    object\n",
      " 3   titular_abv         3513 non-null   object\n",
      " 4   titular_uf1         3782 non-null   object\n",
      " 5   Regiao              3782 non-null   object\n",
      " 6   class_int1          3728 non-null   object\n",
      " 7   IPC1                3728 non-null   object\n",
      " 8   IPC2                3728 non-null   object\n",
      "dtypes: object(9)\n",
      "memory usage: 266.7+ KB\n"
     ]
    }
   ],
   "source": [
    "dados_tratado=dados_ci.copy()\n",
    "dados_tratado.info()"
   ]
  },
  {
   "cell_type": "code",
   "execution_count": 8,
   "id": "b619fcd4-c4fe-47d4-be6a-b0d0a79e489f",
   "metadata": {
    "tags": []
   },
   "outputs": [],
   "source": [
    "dados_tratado.loc[dados_tratado['class_int1'].str.contains('^A61K 8', na=False), 'IPC1'] = 'A61K/8'\n",
    "dados_tratado.loc[dados_tratado['class_int1'].str.contains('^H04N 1/', na=False), 'IPC1'] = 'H04N/1'\n",
    "dados_tratado.loc[dados_tratado['class_int1'].str.contains('^G01N 33/', na=False), 'IPC1'] = 'G01N/33'\n",
    "dados_tratado.loc[dados_tratado['class_int1'].str.contains('^B01D 50', na=False), 'IPC1'] = '^B01D/50'\n",
    "dados_tratado.loc[dados_tratado['class_int1'].str.contains('^B01D 51', na=False), 'IPC1'] = '^B01D/51'\n",
    "dados_tratado.loc[dados_tratado['class_int1'].str.contains('^B01D 52', na=False), 'IPC1'] = '^B01D/52'\n",
    "dados_tratado.loc[dados_tratado['class_int1'].str.contains('^B01D 53', na=False), 'IPC1'] = '^B01D/53'"
   ]
  },
  {
   "cell_type": "code",
   "execution_count": 9,
   "id": "a4ad4e7c-0cb9-42eb-aa2e-3a17101353ec",
   "metadata": {
    "tags": []
   },
   "outputs": [
    {
     "name": "stdout",
     "output_type": "stream",
     "text": [
      "<class 'pandas.core.frame.DataFrame'>\n",
      "RangeIndex: 3791 entries, 0 to 3790\n",
      "Data columns (total 9 columns):\n",
      " #   Column              Non-Null Count  Dtype \n",
      "---  ------              --------------  ----- \n",
      " 0   titular_1           3791 non-null   object\n",
      " 1   titular_parceiros1  1139 non-null   object\n",
      " 2   titular_parceiros2  286 non-null    object\n",
      " 3   titular_abv         3513 non-null   object\n",
      " 4   titular_uf1         3782 non-null   object\n",
      " 5   Regiao              3782 non-null   object\n",
      " 6   class_int1          3728 non-null   object\n",
      " 7   IPC1                3728 non-null   object\n",
      " 8   IPC2                3728 non-null   object\n",
      "dtypes: object(9)\n",
      "memory usage: 266.7+ KB\n"
     ]
    }
   ],
   "source": [
    "dados_tratado.info()\n"
   ]
  },
  {
   "cell_type": "code",
   "execution_count": 10,
   "id": "54c746ff-ebb8-4314-9b07-f02b15c0d1c0",
   "metadata": {
    "collapsed": true,
    "jupyter": {
     "outputs_hidden": true
    },
    "tags": []
   },
   "outputs": [
    {
     "data": {
      "text/html": [
       "<div>\n",
       "<style scoped>\n",
       "    .dataframe tbody tr th:only-of-type {\n",
       "        vertical-align: middle;\n",
       "    }\n",
       "\n",
       "    .dataframe tbody tr th {\n",
       "        vertical-align: top;\n",
       "    }\n",
       "\n",
       "    .dataframe thead th {\n",
       "        text-align: right;\n",
       "    }\n",
       "</style>\n",
       "<table border=\"1\" class=\"dataframe\">\n",
       "  <thead>\n",
       "    <tr style=\"text-align: right;\">\n",
       "      <th></th>\n",
       "      <th>titular_1</th>\n",
       "      <th>titular_parceiros1</th>\n",
       "      <th>titular_parceiros2</th>\n",
       "      <th>titular_abv</th>\n",
       "      <th>titular_uf1</th>\n",
       "      <th>Regiao</th>\n",
       "      <th>class_int1</th>\n",
       "      <th>IPC1</th>\n",
       "      <th>IPC2</th>\n",
       "      <th>Area</th>\n",
       "    </tr>\n",
       "  </thead>\n",
       "  <tbody>\n",
       "    <tr>\n",
       "      <th>0</th>\n",
       "      <td>UNIVERSIDADE FEDERAL DO CEARÁ</td>\n",
       "      <td>NaN</td>\n",
       "      <td>NaN</td>\n",
       "      <td>UFC</td>\n",
       "      <td>CE</td>\n",
       "      <td>Nordeste</td>\n",
       "      <td>H01Q 13/10</td>\n",
       "      <td>H01Q</td>\n",
       "      <td>13/10</td>\n",
       "      <td>Telecomunicações</td>\n",
       "    </tr>\n",
       "    <tr>\n",
       "      <th>1</th>\n",
       "      <td>FUNDAÇÃO UNIVERSIDADE DO AMAZONAS</td>\n",
       "      <td>NaN</td>\n",
       "      <td>NaN</td>\n",
       "      <td>UFAM</td>\n",
       "      <td>AM</td>\n",
       "      <td>Norte</td>\n",
       "      <td>H04L 29/06</td>\n",
       "      <td>H04L</td>\n",
       "      <td>29/06</td>\n",
       "      <td>Comunicação digital</td>\n",
       "    </tr>\n",
       "    <tr>\n",
       "      <th>2</th>\n",
       "      <td>INSTITUTO FEDERAL DE EDUCAÇÃO, CIÊNCIA E TECNO...</td>\n",
       "      <td>UNIVERSIDADE FEDERAL DE PERNAMBUCO</td>\n",
       "      <td>ASSOCIAÇÃO INSTITUTO DE TECNOLOGIA DE PERNAMBU...</td>\n",
       "      <td>IFPE</td>\n",
       "      <td>PE</td>\n",
       "      <td>Nordeste</td>\n",
       "      <td>G01D 3/08</td>\n",
       "      <td>G01D</td>\n",
       "      <td>3/08</td>\n",
       "      <td>Medição</td>\n",
       "    </tr>\n",
       "    <tr>\n",
       "      <th>3</th>\n",
       "      <td>INSTITUTO FEDERAL DE EDUCAÇÃO, CIÊNCIA E TECNO...</td>\n",
       "      <td>NaN</td>\n",
       "      <td>NaN</td>\n",
       "      <td>IFGOIANO</td>\n",
       "      <td>GO</td>\n",
       "      <td>Centro-Oeste</td>\n",
       "      <td>A21D 13/045</td>\n",
       "      <td>A21D</td>\n",
       "      <td>13/045</td>\n",
       "      <td>Química Alimentar</td>\n",
       "    </tr>\n",
       "    <tr>\n",
       "      <th>4</th>\n",
       "      <td>UNIVERSIDADE FEDERAL DE UBERLÂNDIA</td>\n",
       "      <td>NaN</td>\n",
       "      <td>NaN</td>\n",
       "      <td>UFU</td>\n",
       "      <td>MG</td>\n",
       "      <td>Sudeste</td>\n",
       "      <td>C12Q 1/68</td>\n",
       "      <td>C12Q</td>\n",
       "      <td>1/68</td>\n",
       "      <td>Biotecnologia</td>\n",
       "    </tr>\n",
       "    <tr>\n",
       "      <th>...</th>\n",
       "      <td>...</td>\n",
       "      <td>...</td>\n",
       "      <td>...</td>\n",
       "      <td>...</td>\n",
       "      <td>...</td>\n",
       "      <td>...</td>\n",
       "      <td>...</td>\n",
       "      <td>...</td>\n",
       "      <td>...</td>\n",
       "      <td>...</td>\n",
       "    </tr>\n",
       "    <tr>\n",
       "      <th>3786</th>\n",
       "      <td>INSTITUTO FEDERAL DE EDUCAÇÃO CIÊNCIA E TECNOL...</td>\n",
       "      <td>NaN</td>\n",
       "      <td>NaN</td>\n",
       "      <td>IFMA</td>\n",
       "      <td>MA</td>\n",
       "      <td>Nordeste</td>\n",
       "      <td>B29C 45/18</td>\n",
       "      <td>B29C</td>\n",
       "      <td>45/18</td>\n",
       "      <td>Outras máquinas especiais</td>\n",
       "    </tr>\n",
       "    <tr>\n",
       "      <th>3787</th>\n",
       "      <td>UNIVERSIDADE FEDERAL DO MARANHÃO</td>\n",
       "      <td>NaN</td>\n",
       "      <td>NaN</td>\n",
       "      <td>UFMA</td>\n",
       "      <td>MA</td>\n",
       "      <td>Nordeste</td>\n",
       "      <td>A61K 31/403</td>\n",
       "      <td>A61K</td>\n",
       "      <td>31/403</td>\n",
       "      <td>Produtos farmacêuticos</td>\n",
       "    </tr>\n",
       "    <tr>\n",
       "      <th>3788</th>\n",
       "      <td>UNIVERSIDADE FEDERAL DE CAMPINA GRANDE - PB</td>\n",
       "      <td>NaN</td>\n",
       "      <td>NaN</td>\n",
       "      <td>UFCG</td>\n",
       "      <td>PB</td>\n",
       "      <td>Nordeste</td>\n",
       "      <td>C01B 25/32</td>\n",
       "      <td>C01B</td>\n",
       "      <td>25/32</td>\n",
       "      <td>Materiais, metalurgia</td>\n",
       "    </tr>\n",
       "    <tr>\n",
       "      <th>3789</th>\n",
       "      <td>UNIVERSIDADE FEDERAL DO SUL E SUDESTE DO PARÁ</td>\n",
       "      <td>NaN</td>\n",
       "      <td>NaN</td>\n",
       "      <td>UNIFESSPA</td>\n",
       "      <td>PA</td>\n",
       "      <td>Norte</td>\n",
       "      <td>G01T 1/02</td>\n",
       "      <td>G01T</td>\n",
       "      <td>1/02</td>\n",
       "      <td>Tecnologia Ambiental</td>\n",
       "    </tr>\n",
       "    <tr>\n",
       "      <th>3790</th>\n",
       "      <td>UNIVERSIDADE FEDERAL DE ALAGOAS</td>\n",
       "      <td>NaN</td>\n",
       "      <td>NaN</td>\n",
       "      <td>UFAL</td>\n",
       "      <td>AL</td>\n",
       "      <td>Nordeste</td>\n",
       "      <td>A61K 35/644</td>\n",
       "      <td>A61K</td>\n",
       "      <td>35/644</td>\n",
       "      <td>Produtos farmacêuticos</td>\n",
       "    </tr>\n",
       "  </tbody>\n",
       "</table>\n",
       "<p>3791 rows × 10 columns</p>\n",
       "</div>"
      ],
      "text/plain": [
       "                                              titular_1  \\\n",
       "0                         UNIVERSIDADE FEDERAL DO CEARÁ   \n",
       "1                     FUNDAÇÃO UNIVERSIDADE DO AMAZONAS   \n",
       "2     INSTITUTO FEDERAL DE EDUCAÇÃO, CIÊNCIA E TECNO...   \n",
       "3     INSTITUTO FEDERAL DE EDUCAÇÃO, CIÊNCIA E TECNO...   \n",
       "4                    UNIVERSIDADE FEDERAL DE UBERLÂNDIA   \n",
       "...                                                 ...   \n",
       "3786  INSTITUTO FEDERAL DE EDUCAÇÃO CIÊNCIA E TECNOL...   \n",
       "3787                   UNIVERSIDADE FEDERAL DO MARANHÃO   \n",
       "3788        UNIVERSIDADE FEDERAL DE CAMPINA GRANDE - PB   \n",
       "3789      UNIVERSIDADE FEDERAL DO SUL E SUDESTE DO PARÁ   \n",
       "3790                    UNIVERSIDADE FEDERAL DE ALAGOAS   \n",
       "\n",
       "                      titular_parceiros1  \\\n",
       "0                                    NaN   \n",
       "1                                    NaN   \n",
       "2     UNIVERSIDADE FEDERAL DE PERNAMBUCO   \n",
       "3                                    NaN   \n",
       "4                                    NaN   \n",
       "...                                  ...   \n",
       "3786                                 NaN   \n",
       "3787                                 NaN   \n",
       "3788                                 NaN   \n",
       "3789                                 NaN   \n",
       "3790                                 NaN   \n",
       "\n",
       "                                     titular_parceiros2 titular_abv  \\\n",
       "0                                                   NaN         UFC   \n",
       "1                                                   NaN        UFAM   \n",
       "2     ASSOCIAÇÃO INSTITUTO DE TECNOLOGIA DE PERNAMBU...        IFPE   \n",
       "3                                                   NaN    IFGOIANO   \n",
       "4                                                   NaN         UFU   \n",
       "...                                                 ...         ...   \n",
       "3786                                                NaN        IFMA   \n",
       "3787                                                NaN        UFMA   \n",
       "3788                                                NaN        UFCG   \n",
       "3789                                                NaN   UNIFESSPA   \n",
       "3790                                                NaN        UFAL   \n",
       "\n",
       "     titular_uf1        Regiao   class_int1  IPC1    IPC2  \\\n",
       "0             CE      Nordeste   H01Q 13/10  H01Q   13/10   \n",
       "1             AM         Norte   H04L 29/06  H04L   29/06   \n",
       "2             PE      Nordeste    G01D 3/08  G01D    3/08   \n",
       "3             GO  Centro-Oeste  A21D 13/045  A21D  13/045   \n",
       "4             MG       Sudeste    C12Q 1/68  C12Q    1/68   \n",
       "...          ...           ...          ...   ...     ...   \n",
       "3786          MA      Nordeste   B29C 45/18  B29C   45/18   \n",
       "3787          MA      Nordeste  A61K 31/403  A61K  31/403   \n",
       "3788          PB      Nordeste   C01B 25/32  C01B   25/32   \n",
       "3789          PA         Norte    G01T 1/02  G01T    1/02   \n",
       "3790          AL      Nordeste  A61K 35/644  A61K  35/644   \n",
       "\n",
       "                           Area  \n",
       "0              Telecomunicações  \n",
       "1           Comunicação digital  \n",
       "2                       Medição  \n",
       "3             Química Alimentar  \n",
       "4                 Biotecnologia  \n",
       "...                         ...  \n",
       "3786  Outras máquinas especiais  \n",
       "3787     Produtos farmacêuticos  \n",
       "3788      Materiais, metalurgia  \n",
       "3789       Tecnologia Ambiental  \n",
       "3790     Produtos farmacêuticos  \n",
       "\n",
       "[3791 rows x 10 columns]"
      ]
     },
     "execution_count": 10,
     "metadata": {},
     "output_type": "execute_result"
    }
   ],
   "source": [
    "dados_tratado['Area']=dados_tratado['IPC1'].map(mapeamento_area_tecnologica)\n",
    "dados_tratado"
   ]
  },
  {
   "cell_type": "code",
   "execution_count": 11,
   "id": "51d6f86b-a310-4a7d-815a-d4f2af18508b",
   "metadata": {
    "tags": []
   },
   "outputs": [],
   "source": [
    "#filtro_palavras = ['FEDERAL', 'FEDEERAL', 'UNIFEI', 'Federal', 'UNIVERSIDADE DE BRASILIA', 'UNIVERSIDADE DE BRASÍLIA', 'FUNDAÇÃO UNIVERSIDADE DO AMAZONAS', 'UNIVERSIDADE DA INTEGRAÇÃO INTERNACIONAL']\n",
    "#ifes_titulares=dados_ci[dados_ci['titular_1'].str.contains('|'.join(filtro_palavras), case=False)]\n",
    "#ifes_titulares['titular_1'].unique()"
   ]
  },
  {
   "cell_type": "markdown",
   "id": "b59afb41-1d7c-4c84-a592-f9555c2efd94",
   "metadata": {},
   "source": [
    "## Avaliação das Área Tecnologicas: Brasil"
   ]
  },
  {
   "cell_type": "markdown",
   "id": "707b2aca-2470-48f4-b8c4-85c290fea30e",
   "metadata": {
    "tags": []
   },
   "source": [
    "### 1. Todas as Instituições Federais de Ensino"
   ]
  },
  {
   "cell_type": "code",
   "execution_count": 12,
   "id": "561f9679-1258-4df6-aeaa-df4c1e54a03d",
   "metadata": {
    "tags": []
   },
   "outputs": [
    {
     "data": {
      "text/html": [
       "<div>\n",
       "<style scoped>\n",
       "    .dataframe tbody tr th:only-of-type {\n",
       "        vertical-align: middle;\n",
       "    }\n",
       "\n",
       "    .dataframe tbody tr th {\n",
       "        vertical-align: top;\n",
       "    }\n",
       "\n",
       "    .dataframe thead th {\n",
       "        text-align: right;\n",
       "    }\n",
       "</style>\n",
       "<table border=\"1\" class=\"dataframe\">\n",
       "  <thead>\n",
       "    <tr style=\"text-align: right;\">\n",
       "      <th></th>\n",
       "      <th>contagem</th>\n",
       "    </tr>\n",
       "    <tr>\n",
       "      <th>Area</th>\n",
       "      <th></th>\n",
       "    </tr>\n",
       "  </thead>\n",
       "  <tbody>\n",
       "    <tr>\n",
       "      <th>Produtos farmacêuticos</th>\n",
       "      <td>504</td>\n",
       "    </tr>\n",
       "    <tr>\n",
       "      <th>Química Alimentar</th>\n",
       "      <td>462</td>\n",
       "    </tr>\n",
       "    <tr>\n",
       "      <th>Biotecnologia</th>\n",
       "      <td>371</td>\n",
       "    </tr>\n",
       "    <tr>\n",
       "      <th>Tecnologia médica</th>\n",
       "      <td>270</td>\n",
       "    </tr>\n",
       "    <tr>\n",
       "      <th>Química de materiais básicos</th>\n",
       "      <td>250</td>\n",
       "    </tr>\n",
       "  </tbody>\n",
       "</table>\n",
       "</div>"
      ],
      "text/plain": [
       "                              contagem\n",
       "Area                                  \n",
       "Produtos farmacêuticos             504\n",
       "Química Alimentar                  462\n",
       "Biotecnologia                      371\n",
       "Tecnologia médica                  270\n",
       "Química de materiais básicos       250"
      ]
     },
     "execution_count": 12,
     "metadata": {},
     "output_type": "execute_result"
    }
   ],
   "source": [
    "grouped=dados_tratado.groupby('Area').agg(contagem=('Area','count')).sort_values(by='contagem',ascending=False)\n",
    "grouped.head(5)\n"
   ]
  },
  {
   "cell_type": "code",
   "execution_count": 24,
   "id": "6be59fb9-dbc9-4e28-a80e-395d173c7cf6",
   "metadata": {
    "tags": []
   },
   "outputs": [
    {
     "data": {
      "image/png": "[encoded data removed]",
      "text/plain": [
       "<Figure size 800x600 with 1 Axes>"
      ]
     },
     "metadata": {},
     "output_type": "display_data"
    }
   ],
   "source": [
    "plt.figure(figsize=(8, 6)) \n",
    "sns.barplot(x=\"contagem\", y=\"Area\", \n",
    "            hue=\"contagem\", data=grouped.head(5), \n",
    "            palette=\"Wistia_d\") \n",
    "  \n",
    "plt.ylabel(\"Área Tecnológica\", size=14) \n",
    "plt.xlabel(\"Contagem\", size=14) \n",
    "plt.title(\"Área Tecnologica: Instituições Federais de Ensino\", size=16)\n",
    "plt.subplots_adjust(top=0.9,right = 0.9)\n",
    "plt.tight_layout()\n",
    "plt.savefig('streamlit/img/imagem_area_tecnologica.png')\n",
    "plt.show()\n"
   ]
  },
  {
   "cell_type": "markdown",
   "id": "74b73c16-d79d-41b1-b1b2-4b0a7273e073",
   "metadata": {},
   "source": [
    "### 2.Área Tecnológica por Institutos Federais"
   ]
  },
  {
   "cell_type": "code",
   "execution_count": 15,
   "id": "4ab7f7b4-2165-41d6-803a-6ef8d2b916f8",
   "metadata": {
    "tags": []
   },
   "outputs": [],
   "source": [
    "def aggregate_and_sort(df, group_column, agg_column):\n",
    "    grouped = df.groupby(group_column).agg(contagem=(agg_column, 'count')).sort_values(by='contagem', ascending=False)\n",
    "    return grouped"
   ]
  },
  {
   "cell_type": "code",
   "execution_count": 16,
   "id": "0bfaddae-01c2-4bcc-809d-903ba768e518",
   "metadata": {
    "collapsed": true,
    "jupyter": {
     "outputs_hidden": true
    },
    "tags": []
   },
   "outputs": [
    {
     "data": {
      "text/plain": [
       "array(['INSTITUTO FEDERAL DE EDUCAÇÃO, CIÊNCIA E TECNOLOGIA DE PERNAMBUCO',\n",
       "       'INSTITUTO FEDERAL DE EDUCAÇÃO, CIÊNCIA E TECNOLOGIA GOIANO',\n",
       "       'INSTITUTO DE TECNOLOGIA E PESQUISA',\n",
       "       'INSTITUTO FEDERAL DE EDUCAÇÃO, CIÊNCIA E TECNOLOGIA DO SUL DE MINAS GERAIS - IFSULDEMINAS',\n",
       "       'INSTITUTO FEDERAL DE EDUCAÇÃO CIÊNCIA E TECNOLOGIA DO ESPIRITO SANTO',\n",
       "       'INSTITUTO FEDERAL DE EDUCAÇÃO, CIÊNCIA E TECNOLOGIA DE RONDÔNIA',\n",
       "       'INSTITUTO FEDERAL DE SANTA CATARINA',\n",
       "       'INSTITUTO FEDERAL DE EDUCAÇÃO, CIÊNCIA E TECNOLOGIA DO PIAUÍ',\n",
       "       'FUNDAÇÃO UNIVERSIDADE DE PASSO FUNDO',\n",
       "       'INSTITUTO FEDERAL DO PARANÁ',\n",
       "       'INSTITUTO FEDERAL DE EDUCAÇÃO, CIÊNCIA E TECNOLOGIA DO RIO GRANDE DO NORTE',\n",
       "       'CENTRO FEDERAL DE EDUCAÇÃO TECNOLÓGICA DE MINAS GERAIS',\n",
       "       'INSTITUTO FEDERAL SUL-RIO-GRANDENSE',\n",
       "       'INSTITUTO FEDERAL DE EDUCAÇÃO, CIÊNCIA E TECNOLOGIA DO SERTÃO PERNAMBUCANO',\n",
       "       'INSTITUTO FEDERAL DE EDUCAÇÃO CIÊNCIA E TECNOLOGIA DO AMAZONAS',\n",
       "       'UNIVERSIDADE FEDERAL DO RIO GRANDE DO NORTE',\n",
       "       'UNIVERSIDADE FEDERAL DE VIÇOSA',\n",
       "       'AVAL TECNOLOGIA DA INFORMAÇÃO LTDA - ME',\n",
       "       'FUNDAÇÃO UNIVERSIDADE FEDERAL DO TOCANTINS',\n",
       "       'UNIVERSIDADE PITÁGORAS UNOPAR - EDITORA E DISTRIBUIDORA EDUCACIONAL S/A',\n",
       "       'UNIVERSIDADE FEDERAL DE MINAS GERAIS',\n",
       "       'INSTITUTO FEDERAL DE EDUCACAO, CIENCIA E TECNOLOGIA DA PARAIBA',\n",
       "       'INSTITUTO FEDERAL DE EDUCAÇÃO, CIÊNCIA E TECNOLOGIA DO CEARÁ',\n",
       "       'INSTITUTO FEDERAL DE EDUCAÇÃO, CIÊNCIA E TECNOLOGIA BAIANO',\n",
       "       'INSTITUTO FEDERAL DE EDUCAÇÃO CIÊNCIA E TECNOLOGIA DO MARANHÃO',\n",
       "       'INSTITUTO FEDERAL DE EDUCAÇÃO, CIÊNCIA E TECNOLOGIA DA PARAÍBA',\n",
       "       'INSTITUTO FEDERAL DE EDUCAÇÃO, CIÊNCIA E TECNOLOGIA DA BAHIA - IFBA',\n",
       "       'INSTITUTO NACIONAL DE TECNOLOGIA',\n",
       "       'UNIVERSIDADE ESTADUAL DE MARINGÁ',\n",
       "       'CENTRO TECNOLÓGICO DO EXÉRCITO',\n",
       "       'INSTITUTO FEDERAL DE EDUCAÇÃO, CIÊNCIA E TECNOLOGIA DE SANTA CATARINA',\n",
       "       'INSTITUTO FEDERAL DE EDUCAÇÃO, CIÊNCIA E TECNOLOGIA DO RIO GRANDE DO SUL',\n",
       "       'INSTITUTO FEDERAL DE EDUCAÇÃO CIENCIA E TECNOLOGIA DE MINAS GERAIS',\n",
       "       'UNIVERSIDADE FEDERAL DE GOIÁS',\n",
       "       'UNIVERSIDADE FEDERAL DE CAMPINA GRANDE - PB',\n",
       "       'INSTITUTO FEDERAL DE EDUCAÇÃO, CIÊNCIA E TECNOLOGIA DE ALAGOAS - IFAL',\n",
       "       'INSTITUTO FEDERAL CATARINENSE',\n",
       "       'INSTITUTO FEDERAL DE EDUCAÇÃO CIÊNCIA E TECNOLOGIA DO ESPÍRITO SANTO',\n",
       "       'INSTITUTO FEDERAL DE EDUCAÇÃO, CIÊNCIA E TECNOLOGIA DE GOIÁS',\n",
       "       'UNIVERSIDADE ESTADUAL DO CENTRO-OESTE',\n",
       "       'INSTITUTO FEDERAL DE EDUCACAO, CIENCIA E TECNOLOGIA FARROUPILHA',\n",
       "       'INSTITUTO FEDERAL DE EDUCAÇÃO, CIÊNCIA E TECNOLOGIA DE MATO GROSSO',\n",
       "       'DIRETORIA-GERAL DE DESENVOLVIMENTO NUCLEAR E TECNOLÓGICO DA MARINHA',\n",
       "       'UNIVERSIDADE FEDERAL DE SÃO JOÃO DEL REI',\n",
       "       'INSTITUTO FEDERAL DE EDUCAÇÃO, CIÊNCIA E TECNOLOGIA DE SÃO PAULO',\n",
       "       'UNIVERSIDADE ESTADUAL DE CAMPINAS - UNICAMP',\n",
       "       'INSTITUTO FEDERAL DE EDUCAÇÃO, CIÊNCIA E TECNOLOGIA FLUMINENSE',\n",
       "       'INSTITUTO FEDERAL DO TOCANTINS',\n",
       "       'INSTITUTO FEDERAL DE EDUCAÇÃO, CIÊNCIA E TECNOLOGIA DO RIO DE JANEIRO',\n",
       "       'FUNDAÇÃO UNIVERSIDADE DE BRASILIA',\n",
       "       'UNIVERSIDADE FEDERAL RURAL DE PERNAMBUCO',\n",
       "       'UNIVERSIDADE TECNOLOGICA FEDERAL DO PARANA',\n",
       "       'UNIVERSIDADE FEDERAL DE PERNAMBUCO',\n",
       "       'UNIVERSIDADE FEDERAL DO PARÁ', 'ANHANGUERA EDUCACIONAL LTDA.',\n",
       "       'UNIVERSIDADE FEDERAL DA PARAIBA',\n",
       "       'INSTITUTO FEDERAL DE EDUCAÇÃO CIÊNCIA E TECNOLOGIA DO AMAPÁ',\n",
       "       'CARMOMAQ INDÚSTRIA E COMÉRCIO DE PEÇAS E MÁQUINAS LTDA',\n",
       "       'UNIVERSIDADE FEDERAL FLUMINENSE', 'VALE S.A.',\n",
       "       'UNIVERSIDADE FEDERAL DO PARANA',\n",
       "       'UNIVERSIDADE FEDERAL RURAL DO RIO DE JANEIRO',\n",
       "       'INSTITUTO FEDERAL DE EDUCAÇÃO, CIÊNCIA E TECNOLOGIA DO SUDESTE DE MINAS',\n",
       "       'UNIVERSIDADE FEDERAL DE OURO PRETO - UFOP',\n",
       "       'INSTITUTO FEDERAL DE EDUCAÇÃO CIÊNCIA E TECNOLOGIA DO PARÁ',\n",
       "       'UNIVERSIDADE ESTADUAL DO MARANHÃO - UEMA',\n",
       "       'INSTITUTO FEDERAL DE EDUCAÇÃO,CIENCIA E TECNOLOGIA DO ACRE',\n",
       "       'FUNDAÇÃO OSWALDO CRUZ', 'UNIVERSIDADE FEDERAL DE UBERLANDIA',\n",
       "       'UNIVERSIDADE FEDERAL DE SANTA CATARINA',\n",
       "       'UNIVERSIDADE FEDERAL DO CEARÁ',\n",
       "       'INSTITUTO FEDERAL DE EDUCAÇÃO, CIÊNCIA E TECNOLOGIA DO RIO DE JANEIRO (IFRJ)',\n",
       "       'AUTARQUIA UNIVERSIDADE DO SUDOESTE',\n",
       "       'UNIVERSIDADE FEDERAL DO RIO DE JANEIRO',\n",
       "       'FUNDAÇÃO BAHIANA PARA DESENVOLVIMENTO DAS CIÊNCIAS',\n",
       "       'FUNDACAO UNIVERSIDADE FEDERAL DO VALE DO SAO FRANCISCO',\n",
       "       'INSTITUTO FEDERAL DE EDUCAÇÃO, CIÊNCIA E TECNOLOGIA DO TRIÂNGULO MINEIRO',\n",
       "       'UNIVERSIDADE ESTADUAL DE LONDRINA',\n",
       "       'UNIVERSIDADE FEDERAL DO MARANHÃO',\n",
       "       'FUNDAÇÃO UNIVERSIDADE FEDERAL DE SÃO CARLOS',\n",
       "       'INSTITUTO FEDERAL DE EDUCAÇÃO, CIÊNCIA E TECNOLOGIA DE MATO GROSSO DO SUL',\n",
       "       'UNIVERSIDADE DO ESTADO DO RIO DE JANEIRO',\n",
       "       'MB PRODUTOS FITOTERÁPICOS IMPORTAÇÃO E EXPORTAÇÃO LTDA ME',\n",
       "       'ENERGISA S/A', 'FUNDAÇÃO UNIVERSIDADE FEDERAL DE MATO GROSSO',\n",
       "       'UNIVERSIDADE DE SÃO PAULO - USP',\n",
       "       'UNIVERSIDADE FEDERAL DE ALAGOAS',\n",
       "       'JOÃO ROBERTO DE TOLEDO QUADROS'], dtype=object)"
      ]
     },
     "execution_count": 16,
     "metadata": {},
     "output_type": "execute_result"
    }
   ],
   "source": [
    "data_analise_IF=dados_tratado[dados_tratado['titular_1'].str.contains('^INSTITUTO|^CENTRO FEDERAL')|dados_tratado['titular_parceiros1'].str.contains('^INSTITUTO|^CENTRO FEDERAL')|dados_tratado['titular_parceiros2'].str.contains('^INSTITUTO|^CENTRO FEDERAL') ]\n",
    "data_analise_IF['titular_1'].unique()"
   ]
  },
  {
   "cell_type": "code",
   "execution_count": 17,
   "id": "0bbe0e80-85e5-4e2a-ba60-60bcc7137a19",
   "metadata": {
    "tags": []
   },
   "outputs": [
    {
     "data": {
      "text/html": [
       "<div>\n",
       "<style scoped>\n",
       "    .dataframe tbody tr th:only-of-type {\n",
       "        vertical-align: middle;\n",
       "    }\n",
       "\n",
       "    .dataframe tbody tr th {\n",
       "        vertical-align: top;\n",
       "    }\n",
       "\n",
       "    .dataframe thead th {\n",
       "        text-align: right;\n",
       "    }\n",
       "</style>\n",
       "<table border=\"1\" class=\"dataframe\">\n",
       "  <thead>\n",
       "    <tr style=\"text-align: right;\">\n",
       "      <th></th>\n",
       "      <th>contagem</th>\n",
       "    </tr>\n",
       "    <tr>\n",
       "      <th>Area</th>\n",
       "      <th></th>\n",
       "    </tr>\n",
       "  </thead>\n",
       "  <tbody>\n",
       "    <tr>\n",
       "      <th>Química Alimentar</th>\n",
       "      <td>67</td>\n",
       "    </tr>\n",
       "    <tr>\n",
       "      <th>Outras máquinas especiais</th>\n",
       "      <td>43</td>\n",
       "    </tr>\n",
       "    <tr>\n",
       "      <th>Tecnologia médica</th>\n",
       "      <td>37</td>\n",
       "    </tr>\n",
       "    <tr>\n",
       "      <th>Química de materiais básicos</th>\n",
       "      <td>34</td>\n",
       "    </tr>\n",
       "    <tr>\n",
       "      <th>Materiais, metalurgia</th>\n",
       "      <td>32</td>\n",
       "    </tr>\n",
       "  </tbody>\n",
       "</table>\n",
       "</div>"
      ],
      "text/plain": [
       "                              contagem\n",
       "Area                                  \n",
       "Química Alimentar                   67\n",
       "Outras máquinas especiais           43\n",
       "Tecnologia médica                   37\n",
       "Química de materiais básicos        34\n",
       "Materiais, metalurgia               32"
      ]
     },
     "execution_count": 17,
     "metadata": {},
     "output_type": "execute_result"
    }
   ],
   "source": [
    "area_tecnologica_if=aggregate_and_sort(data_analise_IF,'Area','Area')\n",
    "area_tecnologica_if.head(5)"
   ]
  },
  {
   "cell_type": "code",
   "execution_count": 18,
   "id": "6ff332b1-91e9-4fa5-b965-cd2214632910",
   "metadata": {
    "tags": []
   },
   "outputs": [
    {
     "data": {
      "image/png": "[encoded data removed]",
      "text/plain": [
       "<Figure size 800x600 with 1 Axes>"
      ]
     },
     "metadata": {},
     "output_type": "display_data"
    }
   ],
   "source": [
    "plt.figure(figsize=(8, 6)) \n",
    "sns.barplot(x=\"contagem\", y=\"Area\", \n",
    "            hue=\"contagem\", data=area_tecnologica_if.head(5), \n",
    "            palette=\"YlGn_d\") \n",
    "  \n",
    "plt.ylabel(\"Área Tecnológica\", size=14) \n",
    "plt.xlabel(\"Contagem\", size=14) \n",
    "plt.title(\"Área Tecnologica: Institutos Federais\", size=16)\n",
    "plt.subplots_adjust(top=0.9,right = 0.9)\n",
    "plt.tight_layout()\n",
    "plt.savefig('streamlit/img/imagem_area_tecnologica_if.png')\n",
    "plt.show()"
   ]
  },
  {
   "cell_type": "markdown",
   "id": "40cb9e11-0a87-4762-aefe-9db9d805b6f1",
   "metadata": {
    "tags": []
   },
   "source": [
    "### 3. Área Tecnológica: Universidades Federais\n",
    "\n",
    "\n",
    "\n",
    "\n"
   ]
  },
  {
   "cell_type": "code",
   "execution_count": 19,
   "id": "4843baad-3121-47ea-9a0f-a4962fbb6dc3",
   "metadata": {
    "collapsed": true,
    "jupyter": {
     "outputs_hidden": true
    },
    "tags": []
   },
   "outputs": [
    {
     "data": {
      "text/plain": [
       "array(['UNIVERSIDADE FEDERAL DO CEARÁ',\n",
       "       'FUNDAÇÃO UNIVERSIDADE DO AMAZONAS',\n",
       "       'INSTITUTO FEDERAL DE EDUCAÇÃO, CIÊNCIA E TECNOLOGIA DE PERNAMBUCO',\n",
       "       'UNIVERSIDADE FEDERAL DE UBERLÂNDIA',\n",
       "       'UNIVERSIDADE FEDERAL DO MARANHÃO',\n",
       "       'UNIVERSIDADE TECNOLOGICA FEDERAL DO PARANA',\n",
       "       'PETRÓLEO BRASILEIRO S.A. - PETROBRAS',\n",
       "       'UNIVERSIDADE FEDERAL DE CAMPINA GRANDE - PB',\n",
       "       'UNIVERSIDADE FEDERAL DE MINAS GERAIS',\n",
       "       'UNIVERSIDADE FEDERAL DA PARAIBA',\n",
       "       'UNIVERSIDADE FEDERAL DE PERNAMBUCO',\n",
       "       'UNIVERSIDADE FEDERAL DO PARÁ',\n",
       "       'INSTITUTO DE TECNOLOGIA E PESQUISA',\n",
       "       'UNIVERSIDADE FEDERAL DE JUIZ DE FORA - UFJF',\n",
       "       'FUNDAÇÃO UNIVERSIDADE FEDERAL DO PAMPA',\n",
       "       'UNIVERSIDADE FEDERAL DO RIO GRANDE DO NORTE',\n",
       "       'UNIVERSIDADE FEDERAL DO RIO GRANDE DO SUL',\n",
       "       'UNIVERSIDADE FEDERAL DE SERGIPE',\n",
       "       'UNIVERSIDADE FEDERAL DE SANTA MARIA',\n",
       "       'UNIVERSIDADE FEDERAL DA BAHIA',\n",
       "       'UNIVERSIDADE ESTADUAL DO OESTE DO PARANÁ',\n",
       "       'FUNDACAO UNIVERSIDADE FEDERAL DO VALE DO SAO FRANCISCO',\n",
       "       'UNIVERSIDADE FEDERAL DE SÃO PAULO - UNIFESP',\n",
       "       'UNIVERSIDADE FEDERAL DE LAVRAS',\n",
       "       'UNIFEI - UNIVERSIDADE FEDERAL DE ITAJUBÁ',\n",
       "       'UNIVERSIDADE FEDERAL DE MATO GROSSO DO SUL',\n",
       "       'FUNDAÇÃO UNIVERSIDADE FEDERAL DE MATO GROSSO',\n",
       "       'UNIVERSIDADE FEDERAL RURAL DE PERNAMBUCO',\n",
       "       'UNIVERSIDADE FEDERAL DE OURO PRETO',\n",
       "       'FUNDAÇÃO UNIVERSIDADE FEDERAL DE SÃO CARLOS',\n",
       "       'UNIVERSIDADE FEDERAL DO RECÔNCAVO DA BAHIA',\n",
       "       'UNIVERSIDADE FEDERAL DO ESPÍRITO SANTO - UFES',\n",
       "       'UNIVERSIDADE FEDERAL DO PARANA',\n",
       "       'FUNDAÇÃO UNIVERSIDADE DE BRASILIA',\n",
       "       'UNIVERSIDADE FEDERAL DO RIO DE JANEIRO',\n",
       "       'FUNDAÇÃO UNIVERSIDADE DE PASSO FUNDO',\n",
       "       'INSTITUTO FEDERAL DE EDUCAÇÃO, CIÊNCIA E TECNOLOGIA DO RIO GRANDE DO NORTE',\n",
       "       'CENTRO FEDERAL DE EDUCAÇÃO TECNOLÓGICA DE MINAS GERAIS',\n",
       "       'UNIVERSIDADE FEDERAL DE VIÇOSA',\n",
       "       'UNIVERSIDADE FEDERAL DO RIO DE JANEIRO - UFRJ',\n",
       "       'UNIVERSIDADE ESTADUAL DE CAMPINAS - UNICAMP',\n",
       "       'UNIVERSIDADE FEDERAL DE SÃO JOÃO DEL REI',\n",
       "       'INSTITUTO FEDERAL DE EDUCAÇÃO, CIÊNCIA E TECNOLOGIA DO PIAUÍ',\n",
       "       'UNIVERSIDADE FEDERAL DO PARANÁ', 'UNIVERSIDADE FEDERAL DO CEARA',\n",
       "       'UNIVERSIDADE FEDERAL DO ESPÍRITO SANTO',\n",
       "       'COMPANHIA ENERGÉTICA DO PIAUI',\n",
       "       'FUNDAÇÃO UNIVERSIDADE FEDERAL DO TOCANTINS',\n",
       "       'UNIVERSIDADE FEDERAL FLUMINENSE',\n",
       "       'FUNDAÇÃO UNIVERSIDADE FEDERAL DO ABC- UFABC',\n",
       "       'EMBRAPA-EMPRESA BRASILEIRA DE PESQUISA AGROPECUARIA',\n",
       "       'UNIVERSIDADE FEDERAL DE PELOTAS',\n",
       "       'UNIVERSIDADE FEDERAL DO RIO GRANDE - FURG',\n",
       "       'UNIVERSIDADE PITÁGORAS UNOPAR - EDITORA E DISTRIBUIDORA EDUCACIONAL S/A',\n",
       "       'UNIVERSIDADE FEDERAL DOS VALES DO JEQUITINHONHA E MUCURI',\n",
       "       'UNIVERSIDADE FEDERAL DA GRANDE DOURADOS',\n",
       "       'UNIVERSIDADE FEDERAL DE UBERLANDIA',\n",
       "       'UNIVERSIDADE FEDERAL DE PERNAMBUCO - UFPE',\n",
       "       'FUNDAÇÃO UNIVERSIDADE DE BRASILIA/CENTRO DE APOIO AO DESENVOLVIMENTO TECNOLÓGICO',\n",
       "       'UNIVERSIDADE FEDERAL DE GOIÁS', 'UNIVERSIDADE FEDERAL DE ALAGOAS',\n",
       "       'FUNDACAO UNIVERSIDADE FEDERAL DE CIENCIAS DA SAUDE DE PORTO ALEGRE',\n",
       "       'UNIÃO BRASILEIRA DE EDUCAÇÃO E ASSISTÊNCIA - MANTENEDORA DA PUCRS',\n",
       "       'UNIVERSIDADE FEDERAL DO PIAUÍ',\n",
       "       'UNIVERSIDADE ESTADUAL DE LONDRINA',\n",
       "       'UNIVERSIDADE FEDERAL DE SANTA CATARINA',\n",
       "       'PETRÓLEO BRASILEIRO S. A. - PETROBRAS',\n",
       "       'INSTITUTO NACIONAL DE TECNOLOGIA',\n",
       "       'UNIVERSIDADE FEDERAL RURAL DO SEMI-ARIDO - UFERSA',\n",
       "       'UNIVERSIDADE ESTADUAL DE MARINGÁ',\n",
       "       'UNIVERSIDADE FEDERAL DA PARAÍBA',\n",
       "       'CENTRO TECNOLÓGICO DO EXÉRCITO',\n",
       "       'UNIVERSIDADE FEDERAL DO TRIÂNGULO MINEIRO',\n",
       "       'Universidade Federal de Santa Catarina', 'FIBRIA CELULOSE S.A.',\n",
       "       'SOCIEDADE MINEIRA DE CULTURA',\n",
       "       'INSTITUTO FEDERAL DE EDUCAÇÃO CIÊNCIA E TECNOLOGIA DO MARANHÃO',\n",
       "       'UNIVERSIDADE DE SÃO PAULO - USP', 'VALE S.A.',\n",
       "       'FUNDAÇÃO UNIVERSIDADE FEDERAL DO AMAPÁ',\n",
       "       'UNIVERSIDADE ESTADUAL PAULISTA JULIO DE MESQUITA FILHO',\n",
       "       'UNIVERSIDADE FEDERAL DE ALFENAS - UNIFAL-MG',\n",
       "       'UNIVERSIDADE ESTADUAL DO CENTRO-OESTE',\n",
       "       'INSTITUTO FEDERAL DE EDUCAÇÃO, CIÊNCIA E TECNOLOGIA DE GOIÁS',\n",
       "       'PRO-EFICIÊNCIA SOLUÇÃO AGRONEGÓCIOS S/A',\n",
       "       'SAMSUNG ELETRÔNICA DA AMAZÔNIA LTDA.',\n",
       "       'UNIVERSIDADE ESTADUAL DA PARAIBA',\n",
       "       'DIRETORIA-GERAL DE DESENVOLVIMENTO NUCLEAR E TECNOLÓGICO DA MARINHA',\n",
       "       'FUNDAÇÃO UNIVERSIDADE FEDERAL DO ABC - UFABC',\n",
       "       'UNIVERSIDADE FEDERAL DO OESTE DO PARÁ', 'COPEL DISTRIBUIÇÃO S/A',\n",
       "       'FUNDACAO DE ENSINO SUPERIOR DO VALE DO SAPUCAI',\n",
       "       'SERVICO NACIONAL DE APRENDIZAGEM INDUSTRIAL.',\n",
       "       'MARCELO CAIRRAO ARAUJO RODRIGUES',\n",
       "       'UNIVERSIDADE FEDERAL RURAL DO RIO DE JANEIRO',\n",
       "       'INSTITUTO FEDERAL DE EDUCACAO, CIENCIA E TECNOLOGIA DA PARAIBA',\n",
       "       'UNIVERSIDADE ESTADUAL DO MARANHÃO - UEMA',\n",
       "       'UNIVERSIDADE FEDERAL DE SANTA CATARINA - UFSC',\n",
       "       'INSTITUTO FEDERAL DE EDUCAÇÃO, CIÊNCIA E TECNOLOGIA DE MATO GROSSO',\n",
       "       'INSTITUTO FEDERAL DE EDUCAÇÃO, CIÊNCIA E TECNOLOGIA DO CEARÁ',\n",
       "       'INSTITUTO FEDERAL DE EDUCAÇÃO CIÊNCIA E TECNOLOGIA DO ESPIRITO SANTO',\n",
       "       'UNIVERSIDADE FEDERAL DE OURO PRETO - UFOP',\n",
       "       'ALAMANTEC PESQUISA E DESENVOLVIMENTO LTDA',\n",
       "       'HOSPITAL DE CLÍNICAS DE PORTO ALEGRE',\n",
       "       'UNIVERSIDADE FEDERAL DOS VALES DO JEQUITINHONHA E MUCURI - UFVJM',\n",
       "       'CENTRO BRASILEIRO DE PESQUISAS FÍSICAS-CBPF',\n",
       "       'UNIVERSIDADE FEDERAL DA BAHIA - UFBA',\n",
       "       'BIOART BIOCOSMÉTICOS LTDA - ME', 'ONOFRE MAURICIO DE MOURA',\n",
       "       'INSTITUTO FEDERAL DE EDUCAÇÃO, CIÊNCIA E TECNOLOGIA DE SANTA CATARINA',\n",
       "       'UNIVERSIDADE FEDERAL DO SUL E SUDESTE DO PARÁ',\n",
       "       'UNIVERSIDADE ESTADUAL DE CAMPINAS',\n",
       "       'UNIVERSIDADE FEDERAL DO RECONCAVO DA BAHIA - UFRB',\n",
       "       'COMPANHIA ENERGÉTICA DE PERNAMBUCO - CELPE.',\n",
       "       'FUNDAÇÃO EZEQUIEL DIAS',\n",
       "       'EMBRACO INDÚSTRIA DE COMPRESSORES E SOLUÇÕES EM REFRIGERAÇÃO LTDA.',\n",
       "       'UNIVERSIDADE FEDERAL DO ESTADO DO RIO DE JANEIRO',\n",
       "       'UNIVERSIDADE FEDERAL DA INTEGRAÇÃO LATINO-AMERICANA',\n",
       "       'HYDRA CORONA SISTEMAS DE AQUECIMENTO DE ÁGUA LTDA.',\n",
       "       'UNIVERSIDADE FEDERAL DO CARIRI (UFCA)',\n",
       "       'EDMAR MACIEL LIMA JÚNIOR', 'FUNDAÇÃO OSWALDO CRUZ',\n",
       "       'UNIVERSIDADE DO ESTADO DO RIO GRANDE DO NORTE - UERN',\n",
       "       'IMUNOSCAN ENGENHARIA MOLECULAR LTDA', 'ORBITAL ENGENHARIA LTDA',\n",
       "       'FACULDADES CATOLICAS',\n",
       "       'SENAI DEPARTAMENTO REGIONAL DO CEARA - ISTEMM',\n",
       "       'UNIVERSIDADE DO ESTADO DO RIO DE JANEIRO',\n",
       "       'COMISSÃO NACIONAL DE ENERGIA NUCLEAR',\n",
       "       'UNIVERSIDADE DO ESTADO DO PARA',\n",
       "       'UNIVERSIDADE ESTADUAL DE FEIRA DE SANTANA',\n",
       "       'AUTARQUIA UNIVERSIDADE DO SUDOESTE',\n",
       "       'CEITEC - CENTRO NACIONAL DE TECNOLOGIA ELETRÔNICA AVANÇADA S.A.',\n",
       "       'UNESPAR - UNIVERSIDADE ESTADUAL DO PARANÁ',\n",
       "       'INSTITUTO FEDERAL DE EDUCAÇÃO, CIÊNCIA E TECNOLOGIA GOIANO',\n",
       "       'FUNDAÇÃO UNIVERSIDADE DE CAXIAS DO SUL',\n",
       "       'INSTITUTO FEDERAL DE EDUCAÇÃO, CIÊNCIA E TECNOLOGIA DA BAHIA - IFBA',\n",
       "       'SINOCHEM PETRÓLEO BRASIL LTDA.',\n",
       "       'UNIVERSIDADE DE PERNAMBUCO- UPE',\n",
       "       'UNIVERSIDADE FEDERAL RURAL DA AMAZÔNIA',\n",
       "       'FUNDAÇÃO EDUCACIONAL JAYME DE ALTAVILA - FEJAL',\n",
       "       'VEGOOR TECNOLOGIA APLICADA PESQUISA DESENVOLVIMENTO E ANALISES QUIMICAS LTDA.',\n",
       "       'SUZANO S.A.', 'LIGHT - SERVIÇOS DE ELETRICIDADE S/A',\n",
       "       'SENAI - DEPARTAMENTO REGIONAL DE GOIÁS',\n",
       "       'FUNDAÇÃO UNIVERSIDADE ESTADUAL DO CEARÁ - FUNECE',\n",
       "       'JOSÉ CARLOS TAVARES CARVALHO', 'COMPANHIA BRASILEIRA DE ALUMÍNIO',\n",
       "       'BOTICA COMERCIAL FARMACÊUTICA LTDA.',\n",
       "       'UNIVERSIDADE FEDERAL DO AGRESTE DE PERNAMBUCO',\n",
       "       'CNPEM - CENTRO NACIONAL DE PESQUISA EM ENERGIA E MATERIAIS',\n",
       "       'UNIVERSIDADE DA INTEGRAÇÃO INTERNACIONAL DA LUSOFONIA AFRO-BRASILEIRA (UNILAB)',\n",
       "       'UNIVERSIDADE FEDERAL DO SUL DA BAHIA',\n",
       "       'MISSÃO SALESIANA DE MATO GROSSO - UNIVERSIDADE CATÓLICA DOM BOSCO - UCDB (UCDB)',\n",
       "       'UNIVERSIDADE FEDERAL DE JATAI',\n",
       "       'BRAZIL BIOTECH BIOTECNOLOGIA FARMACEUTICA',\n",
       "       'UNIVERSIDADE DO VALE DO RIO DOS SINOS - UNISINOS',\n",
       "       'UNIVERSIDADE FEDERAL DE RONDONOPOLIS',\n",
       "       'UNIÃO BRASILEIRA DE EDUCAÇÃO CATÓLICA - UBEC',\n",
       "       'UNIVERSIDADE ESTADUAL DO CENTRO-OESTE, UNICENTRO',\n",
       "       'UNIVERSIDADE ESTADUAL DO RIO GRANDE DO SUL',\n",
       "       'ASSOCIAÇÃO PRÓ-ENSINO EM SANTA CRUZ DO SUL',\n",
       "       'UNIVERSIDADE ESTADUAL DE GOIÁS (UEG)'], dtype=object)"
      ]
     },
     "execution_count": 19,
     "metadata": {},
     "output_type": "execute_result"
    }
   ],
   "source": [
    "data_analise_UV=dados_tratado[dados_tratado['titular_1'].str.contains('UNIVER')|dados_tratado['titular_parceiros1'].str.contains('^UNIVER')|dados_tratado['titular_parceiros2'].str.contains('^UNIVER') ]\n",
    "data_analise_UV['titular_1'].unique()"
   ]
  },
  {
   "cell_type": "code",
   "execution_count": 20,
   "id": "3ab1bffe-c58c-42d5-9cc1-a93558687b44",
   "metadata": {
    "tags": []
   },
   "outputs": [
    {
     "data": {
      "text/html": [
       "<div>\n",
       "<style scoped>\n",
       "    .dataframe tbody tr th:only-of-type {\n",
       "        vertical-align: middle;\n",
       "    }\n",
       "\n",
       "    .dataframe tbody tr th {\n",
       "        vertical-align: top;\n",
       "    }\n",
       "\n",
       "    .dataframe thead th {\n",
       "        text-align: right;\n",
       "    }\n",
       "</style>\n",
       "<table border=\"1\" class=\"dataframe\">\n",
       "  <thead>\n",
       "    <tr style=\"text-align: right;\">\n",
       "      <th></th>\n",
       "      <th>contagem</th>\n",
       "    </tr>\n",
       "    <tr>\n",
       "      <th>Area</th>\n",
       "      <th></th>\n",
       "    </tr>\n",
       "  </thead>\n",
       "  <tbody>\n",
       "    <tr>\n",
       "      <th>Produtos farmacêuticos</th>\n",
       "      <td>493</td>\n",
       "    </tr>\n",
       "    <tr>\n",
       "      <th>Química Alimentar</th>\n",
       "      <td>413</td>\n",
       "    </tr>\n",
       "    <tr>\n",
       "      <th>Biotecnologia</th>\n",
       "      <td>356</td>\n",
       "    </tr>\n",
       "    <tr>\n",
       "      <th>Tecnologia médica</th>\n",
       "      <td>244</td>\n",
       "    </tr>\n",
       "    <tr>\n",
       "      <th>Química de materiais básicos</th>\n",
       "      <td>227</td>\n",
       "    </tr>\n",
       "  </tbody>\n",
       "</table>\n",
       "</div>"
      ],
      "text/plain": [
       "                              contagem\n",
       "Area                                  \n",
       "Produtos farmacêuticos             493\n",
       "Química Alimentar                  413\n",
       "Biotecnologia                      356\n",
       "Tecnologia médica                  244\n",
       "Química de materiais básicos       227"
      ]
     },
     "execution_count": 20,
     "metadata": {},
     "output_type": "execute_result"
    }
   ],
   "source": [
    "area_tecnologica_uv=aggregate_and_sort(data_analise_UV,'Area','Area')\n",
    "area_tecnologica_uv.head(5)"
   ]
  },
  {
   "cell_type": "code",
   "execution_count": 21,
   "id": "a45e54cf-e6ba-4061-9414-5648b68de137",
   "metadata": {
    "tags": []
   },
   "outputs": [
    {
     "data": {
      "image/png": "[encoded data removed]",
      "text/plain": [
       "<Figure size 800x600 with 1 Axes>"
      ]
     },
     "metadata": {},
     "output_type": "display_data"
    }
   ],
   "source": [
    "plt.figure(figsize=(8, 6)) \n",
    "sns.barplot(x=\"contagem\", y=\"Area\", \n",
    "            hue=\"contagem\", data=area_tecnologica_uv.head(5), \n",
    "            palette='YlGnBu_d') \n",
    "  \n",
    "plt.ylabel(\"Área Tecnológica\", size=14) \n",
    "plt.xlabel(\"Contagem\", size=14) \n",
    "plt.title(\"Área Tecnologica: Universidades Federais\", size=16)\n",
    "plt.subplots_adjust(top=0.9,right = 0.9)\n",
    "plt.tight_layout()\n",
    "plt.savefig('streamlit/img/imagem_area_tecnologica_univer.png')\n",
    "plt.show()"
   ]
  },
  {
   "cell_type": "markdown",
   "id": "e0100bc9-ed0d-43d9-8eac-e20b99740bdd",
   "metadata": {},
   "source": [
    "## Avaliação das áreas tecnológicas por região"
   ]
  },
  {
   "cell_type": "code",
   "execution_count": 22,
   "id": "1d559ae1-f69c-4c19-b11a-58122b758cc1",
   "metadata": {
    "collapsed": true,
    "jupyter": {
     "outputs_hidden": true
    },
    "tags": []
   },
   "outputs": [
    {
     "data": {
      "text/html": [
       "<div>\n",
       "<style scoped>\n",
       "    .dataframe tbody tr th:only-of-type {\n",
       "        vertical-align: middle;\n",
       "    }\n",
       "\n",
       "    .dataframe tbody tr th {\n",
       "        vertical-align: top;\n",
       "    }\n",
       "\n",
       "    .dataframe thead th {\n",
       "        text-align: right;\n",
       "    }\n",
       "</style>\n",
       "<table border=\"1\" class=\"dataframe\">\n",
       "  <thead>\n",
       "    <tr style=\"text-align: right;\">\n",
       "      <th></th>\n",
       "      <th></th>\n",
       "      <th></th>\n",
       "      <th>contagem</th>\n",
       "      <th>porcentagem</th>\n",
       "    </tr>\n",
       "    <tr>\n",
       "      <th>Regiao</th>\n",
       "      <th>titular_uf1</th>\n",
       "      <th>Area</th>\n",
       "      <th></th>\n",
       "      <th></th>\n",
       "    </tr>\n",
       "  </thead>\n",
       "  <tbody>\n",
       "    <tr>\n",
       "      <th rowspan=\"5\" valign=\"top\">Centro-Oeste</th>\n",
       "      <th rowspan=\"5\" valign=\"top\">DF</th>\n",
       "      <th>Análise de materiais biológicos</th>\n",
       "      <td>2</td>\n",
       "      <td>2.941176</td>\n",
       "    </tr>\n",
       "    <tr>\n",
       "      <th>Biotecnologia</th>\n",
       "      <td>23</td>\n",
       "      <td>33.823529</td>\n",
       "    </tr>\n",
       "    <tr>\n",
       "      <th>Controle</th>\n",
       "      <td>1</td>\n",
       "      <td>1.470588</td>\n",
       "    </tr>\n",
       "    <tr>\n",
       "      <th>Engenharia Civil</th>\n",
       "      <td>2</td>\n",
       "      <td>2.941176</td>\n",
       "    </tr>\n",
       "    <tr>\n",
       "      <th>Materiais, metalurgia</th>\n",
       "      <td>1</td>\n",
       "      <td>1.470588</td>\n",
       "    </tr>\n",
       "    <tr>\n",
       "      <th>...</th>\n",
       "      <th>...</th>\n",
       "      <th>...</th>\n",
       "      <td>...</td>\n",
       "      <td>...</td>\n",
       "    </tr>\n",
       "    <tr>\n",
       "      <th rowspan=\"5\" valign=\"top\">Sul</th>\n",
       "      <th rowspan=\"5\" valign=\"top\">SC</th>\n",
       "      <th>Química fina orgânica</th>\n",
       "      <td>3</td>\n",
       "      <td>2.479339</td>\n",
       "    </tr>\n",
       "    <tr>\n",
       "      <th>Tecnologia Ambiental</th>\n",
       "      <td>4</td>\n",
       "      <td>3.305785</td>\n",
       "    </tr>\n",
       "    <tr>\n",
       "      <th>Tecnologia computacional</th>\n",
       "      <td>4</td>\n",
       "      <td>3.305785</td>\n",
       "    </tr>\n",
       "    <tr>\n",
       "      <th>Tecnologia médica</th>\n",
       "      <td>18</td>\n",
       "      <td>14.876033</td>\n",
       "    </tr>\n",
       "    <tr>\n",
       "      <th>Transporte</th>\n",
       "      <td>2</td>\n",
       "      <td>1.652893</td>\n",
       "    </tr>\n",
       "  </tbody>\n",
       "</table>\n",
       "<p>514 rows × 2 columns</p>\n",
       "</div>"
      ],
      "text/plain": [
       "                                                          contagem  \\\n",
       "Regiao       titular_uf1 Area                                        \n",
       "Centro-Oeste DF          Análise de materiais biológicos         2   \n",
       "                         Biotecnologia                          23   \n",
       "                         Controle                                1   \n",
       "                         Engenharia Civil                        2   \n",
       "                         Materiais, metalurgia                   1   \n",
       "...                                                            ...   \n",
       "Sul          SC          Química fina orgânica                   3   \n",
       "                         Tecnologia Ambiental                    4   \n",
       "                         Tecnologia computacional                4   \n",
       "                         Tecnologia médica                      18   \n",
       "                         Transporte                              2   \n",
       "\n",
       "                                                          porcentagem  \n",
       "Regiao       titular_uf1 Area                                          \n",
       "Centro-Oeste DF          Análise de materiais biológicos     2.941176  \n",
       "                         Biotecnologia                      33.823529  \n",
       "                         Controle                            1.470588  \n",
       "                         Engenharia Civil                    2.941176  \n",
       "                         Materiais, metalurgia               1.470588  \n",
       "...                                                               ...  \n",
       "Sul          SC          Química fina orgânica               2.479339  \n",
       "                         Tecnologia Ambiental                3.305785  \n",
       "                         Tecnologia computacional            3.305785  \n",
       "                         Tecnologia médica                  14.876033  \n",
       "                         Transporte                          1.652893  \n",
       "\n",
       "[514 rows x 2 columns]"
      ]
     },
     "execution_count": 22,
     "metadata": {},
     "output_type": "execute_result"
    }
   ],
   "source": [
    "grouped_regiao = dados_tratado.groupby(['Regiao', 'titular_uf1', 'Area']).agg(contagem=('Area', 'count'))\n",
    "\n",
    "total_por_estado = grouped_regiao.groupby('titular_uf1')['contagem'].transform('sum')\n",
    "\n",
    "\n",
    "grouped_regiao['porcentagem'] = (grouped_regiao['contagem'] / total_por_estado) * 100\n",
    "\n",
    "\n",
    "grouped_regiao"
   ]
  },
  {
   "cell_type": "code",
   "execution_count": 25,
   "id": "f95927f9-41eb-493e-9d75-157fcfbb0ef5",
   "metadata": {
    "tags": []
   },
   "outputs": [
    {
     "data": {
      "application/vnd.plotly.v1+json": {
       "config": {
        "plotlyServerURL": "https://plot.ly"
       },
       "data": [
        {
         "branchvalues": "total",
         "customdata": [
          [
           "Química de materiais básicos"
          ],
          [
           "Telecomunicações"
          ],
          [
           "Materiais, metalurgia"
          ],
          [
           "Outras máquinas especiais"
          ],
          [
           "Produtos farmacêuticos"
          ],
          [
           "Biotecnologia"
          ],
          [
           "Produtos farmacêuticos"
          ],
          [
           "Materiais, metalurgia"
          ],
          [
           "Química Alimentar"
          ],
          [
           "Química de materiais básicos"
          ],
          [
           "Biotecnologia"
          ],
          [
           "Química de materiais básicos"
          ],
          [
           "Tecnologia médica"
          ],
          [
           "Química Alimentar"
          ],
          [
           "Controle"
          ],
          [
           "Biotecnologia"
          ],
          [
           "Química de materiais básicos"
          ],
          [
           "Medição"
          ],
          [
           "Análise de materiais biológicos"
          ],
          [
           "Biotecnologia"
          ],
          [
           "Outras máquinas especiais"
          ],
          [
           "Tecnologia médica"
          ],
          [
           "Medição"
          ],
          [
           "Biotecnologia"
          ],
          [
           "Medição"
          ],
          [
           "Produtos farmacêuticos"
          ],
          [
           "Produtos farmacêuticos"
          ],
          [
           "Química Alimentar"
          ],
          [
           "Química de materiais básicos"
          ],
          [
           "Medição"
          ],
          [
           "Química fina orgânica"
          ],
          [
           "Engenharia química"
          ],
          [
           "Tecnologia médica"
          ],
          [
           "Química fina orgânica"
          ],
          [
           "Medição"
          ],
          [
           "Química fina orgânica"
          ],
          [
           "Química Alimentar"
          ],
          [
           "Produtos farmacêuticos"
          ],
          [
           "Materiais, metalurgia"
          ],
          [
           "Produtos farmacêuticos"
          ],
          [
           "Engenharia química"
          ],
          [
           "Química de materiais básicos"
          ],
          [
           "Outras máquinas especiais"
          ],
          [
           "Produtos farmacêuticos"
          ],
          [
           "Química Alimentar"
          ],
          [
           "Química fina orgânica"
          ],
          [
           "Química fina orgânica"
          ],
          [
           "Biotecnologia"
          ],
          [
           "Produtos farmacêuticos"
          ],
          [
           "Produtos farmacêuticos"
          ],
          [
           "Outras máquinas especiais"
          ],
          [
           "Medição"
          ],
          [
           "Biotecnologia"
          ],
          [
           "Outras máquinas especiais"
          ],
          [
           "Química macromolecular, polímeros"
          ],
          [
           "Química fina orgânica"
          ],
          [
           "Materiais, metalurgia"
          ],
          [
           "Biotecnologia"
          ],
          [
           "Química de materiais básicos"
          ],
          [
           "Química de materiais básicos"
          ],
          [
           "Química de materiais básicos"
          ],
          [
           "Medição"
          ],
          [
           "Química Alimentar"
          ],
          [
           "Química Alimentar"
          ],
          [
           "Biotecnologia"
          ],
          [
           "Produtos farmacêuticos"
          ],
          [
           "Engenharia química"
          ],
          [
           "Medição"
          ],
          [
           "Produtos farmacêuticos"
          ],
          [
           "Biotecnologia"
          ],
          [
           "Produtos farmacêuticos"
          ],
          [
           "Tecnologia médica"
          ],
          [
           "Produtos farmacêuticos"
          ],
          [
           "Química macromolecular, polímeros"
          ],
          [
           "Outros bens de consumo"
          ],
          [
           "Engenharia química"
          ],
          [
           "Comunicação digital"
          ],
          [
           "Tecnologia médica"
          ],
          [
           "Biotecnologia"
          ],
          [
           "Móveis, jogos"
          ],
          [
           "Química Alimentar"
          ],
          [
           "Biotecnologia"
          ],
          [
           "Química de materiais básicos"
          ],
          [
           "Química Alimentar"
          ],
          [
           "Produtos farmacêuticos"
          ],
          [
           "Controle"
          ],
          [
           "Química Alimentar"
          ],
          [
           "Outras máquinas especiais"
          ],
          [
           "Química fina orgânica"
          ],
          [
           "Produtos farmacêuticos"
          ],
          [
           "Química Alimentar"
          ],
          [
           "Tecnologia médica"
          ],
          [
           "Química de materiais básicos"
          ],
          [
           "Produtos farmacêuticos"
          ],
          [
           "Tecnologia médica"
          ],
          [
           "Materiais, metalurgia"
          ],
          [
           "Medição"
          ],
          [
           "Tecnologia médica"
          ],
          [
           "Materiais, metalurgia"
          ],
          [
           "Biotecnologia"
          ],
          [
           "Tecnologia médica"
          ],
          [
           "Medição"
          ],
          [
           "Química de materiais básicos"
          ],
          [
           "Materiais, metalurgia"
          ],
          [
           "Controle"
          ],
          [
           "Outras máquinas especiais"
          ],
          [
           "Produtos farmacêuticos"
          ],
          [
           "Química Alimentar"
          ],
          [
           "Tecnologia médica"
          ],
          [
           "Química Alimentar"
          ],
          [
           "Engenharia química"
          ],
          [
           "Tecnologia médica"
          ],
          [
           "Química Alimentar"
          ],
          [
           "Química fina orgânica"
          ],
          [
           "Materiais, metalurgia"
          ],
          [
           "Química de materiais básicos"
          ],
          [
           "Biotecnologia"
          ],
          [
           "Outras máquinas especiais"
          ],
          [
           "Química Alimentar"
          ],
          [
           "Produtos farmacêuticos"
          ],
          [
           "Tecnologia Ambiental"
          ],
          [
           "Controle"
          ],
          [
           "Produtos farmacêuticos"
          ],
          [
           "(?)"
          ],
          [
           "(?)"
          ],
          [
           "(?)"
          ],
          [
           "(?)"
          ],
          [
           "(?)"
          ],
          [
           "(?)"
          ],
          [
           "(?)"
          ],
          [
           "(?)"
          ],
          [
           "(?)"
          ],
          [
           "(?)"
          ],
          [
           "(?)"
          ],
          [
           "(?)"
          ],
          [
           "(?)"
          ],
          [
           "(?)"
          ],
          [
           "(?)"
          ],
          [
           "(?)"
          ],
          [
           "(?)"
          ],
          [
           "(?)"
          ],
          [
           "(?)"
          ],
          [
           "(?)"
          ],
          [
           "Controle"
          ],
          [
           "(?)"
          ],
          [
           "(?)"
          ],
          [
           "(?)"
          ],
          [
           "(?)"
          ],
          [
           "(?)"
          ],
          [
           "(?)"
          ],
          [
           "(?)"
          ],
          [
           "(?)"
          ],
          [
           "(?)"
          ],
          [
           "(?)"
          ],
          [
           "(?)"
          ]
         ],
         "domain": {
          "x": [
           0,
           1
          ],
          "y": [
           0,
           1
          ]
         },
         "hovertemplate": "labels=%{label}<br>contagem=%{value}<br>parent=%{parent}<br>id=%{id}<br>Area=%{customdata[0]}<extra></extra>",
         "ids": [
          "Brasil/Sul/SC/Química de materiais básicos",
          "Brasil/Norte/PA/Telecomunicações",
          "Brasil/Norte/PA/Materiais, metalurgia",
          "Brasil/Centro-Oeste/MS/Outras máquinas especiais",
          "Brasil/Nordeste/AL/Produtos farmacêuticos",
          "Brasil/Sul/PR/Biotecnologia",
          "Brasil/Centro-Oeste/TO/Produtos farmacêuticos",
          "Brasil/Nordeste/CE/Materiais, metalurgia",
          "Brasil/Norte/AP/Química Alimentar",
          "Brasil/Centro-Oeste/GO/Química de materiais básicos",
          "Brasil/Nordeste/CE/Biotecnologia",
          "Brasil/Centro-Oeste/TO/Química de materiais básicos",
          "Brasil/Centro-Oeste/DF/Tecnologia médica",
          "Brasil/Nordeste/PI/Química Alimentar",
          "Brasil/Sudeste/ES/Controle",
          "Brasil/Sudeste/RJ/Biotecnologia",
          "Brasil/Nordeste/SE/Química de materiais básicos",
          "Brasil/Sudeste/ES/Medição",
          "Brasil/Nordeste/RN/Análise de materiais biológicos",
          "Brasil/Sudeste/SP/Biotecnologia",
          "Brasil/Sul/SC/Outras máquinas especiais",
          "Brasil/Nordeste/RN/Tecnologia médica",
          "Brasil/Sul/RS/Medição",
          "Brasil/Nordeste/PB/Biotecnologia",
          "Brasil/Sudeste/MG/Medição",
          "Brasil/Nordeste/SE/Produtos farmacêuticos",
          "Brasil/Nordeste/PB/Produtos farmacêuticos",
          "Brasil/Norte/PA/Química Alimentar",
          "Brasil/Centro-Oeste/MT/Química de materiais básicos",
          "Brasil/Nordeste/BA/Medição",
          "Brasil/Nordeste/CE/Química fina orgânica",
          "Brasil/Sudeste/MG/Engenharia química",
          "Brasil/Nordeste/AL/Tecnologia médica",
          "Brasil/Centro-Oeste/GO/Química fina orgânica",
          "Brasil/Centro-Oeste/DF/Medição",
          "Brasil/Nordeste/PE/Química fina orgânica",
          "Brasil/Sudeste/RJ/Química Alimentar",
          "Brasil/Sudeste/RJ/Produtos farmacêuticos",
          "Brasil/Sul/RS/Materiais, metalurgia",
          "Brasil/Nordeste/MA/Produtos farmacêuticos",
          "Brasil/Norte/AM/Engenharia química",
          "Brasil/Centro-Oeste/DF/Química de materiais básicos",
          "Brasil/Sul/RS/Outras máquinas especiais",
          "Brasil/Sudeste/MG/Produtos farmacêuticos",
          "Brasil/Nordeste/SE/Química Alimentar",
          "Brasil/Sudeste/SP/Química fina orgânica",
          "Brasil/Norte/AP/Química fina orgânica",
          "Brasil/Nordeste/AL/Biotecnologia",
          "Brasil/Norte/AM/Produtos farmacêuticos",
          "Brasil/Centro-Oeste/MS/Produtos farmacêuticos",
          "Brasil/Centro-Oeste/GO/Outras máquinas especiais",
          "Brasil/Sudeste/RJ/Medição",
          "Brasil/Centro-Oeste/TO/Biotecnologia",
          "Brasil/Centro-Oeste/MT/Outras máquinas especiais",
          "Brasil/Nordeste/PI/Química macromolecular, polímeros",
          "Brasil/Centro-Oeste/MT/Química fina orgânica",
          "Brasil/Nordeste/PB/Materiais, metalurgia",
          "Brasil/Norte/AM/Biotecnologia",
          "Brasil/Sudeste/SP/Química de materiais básicos",
          "Brasil/Nordeste/PE/Química de materiais básicos",
          "Brasil/Nordeste/MA/Química de materiais básicos",
          "Brasil/Centro-Oeste/MT/Medição",
          "Brasil/Nordeste/MA/Química Alimentar",
          "Brasil/Nordeste/AL/Química Alimentar",
          "Brasil/Nordeste/PE/Biotecnologia",
          "Brasil/Sul/RS/Produtos farmacêuticos",
          "Brasil/Centro-Oeste/TO/Engenharia química",
          "Brasil/Sul/SC/Medição",
          "Brasil/Norte/PA/Produtos farmacêuticos",
          "Brasil/Sul/RS/Biotecnologia",
          "Brasil/Norte/AP/Produtos farmacêuticos",
          "Brasil/Sul/SC/Tecnologia médica",
          "Brasil/Nordeste/RN/Produtos farmacêuticos",
          "Brasil/Sudeste/SP/Química macromolecular, polímeros",
          "Brasil/Norte/AP/Outros bens de consumo",
          "Brasil/Centro-Oeste/GO/Engenharia química",
          "Brasil/Norte/AM/Comunicação digital",
          "Brasil/Nordeste/SE/Tecnologia médica",
          "Brasil/Centro-Oeste/DF/Biotecnologia",
          "Brasil/Centro-Oeste/MT/Móveis, jogos",
          "Brasil/Sul/PR/Química Alimentar",
          "Brasil/Centro-Oeste/MS/Biotecnologia",
          "Brasil/Sudeste/ES/Química de materiais básicos",
          "Brasil/Nordeste/PB/Química Alimentar",
          "Brasil/Nordeste/PE/Produtos farmacêuticos",
          "Brasil/Norte/AP/Controle",
          "Brasil/Nordeste/BA/Química Alimentar",
          "Brasil/Nordeste/MA/Outras máquinas especiais",
          "Brasil/Sudeste/RJ/Química fina orgânica",
          "Brasil/Sul/SC/Produtos farmacêuticos",
          "Brasil/Norte/AM/Química Alimentar",
          "Brasil/Sudeste/SP/Tecnologia médica",
          "Brasil/Nordeste/RN/Química de materiais básicos",
          "Brasil/Centro-Oeste/DF/Produtos farmacêuticos",
          "Brasil/Nordeste/BA/Tecnologia médica",
          "Brasil/Nordeste/RN/Materiais, metalurgia",
          "Brasil/Norte/PA/Medição",
          "Brasil/Sul/PR/Tecnologia médica",
          "Brasil/Nordeste/SE/Materiais, metalurgia",
          "Brasil/Nordeste/BA/Biotecnologia",
          "Brasil/Nordeste/PI/Tecnologia médica",
          "Brasil/Sul/PR/Medição",
          "Brasil/Nordeste/AL/Química de materiais básicos",
          "Brasil/Sudeste/ES/Materiais, metalurgia",
          "Brasil/Norte/AC/Controle",
          "Brasil/Norte/AC/Outras máquinas especiais",
          "Brasil/Centro-Oeste/GO/Produtos farmacêuticos",
          "Brasil/Nordeste/CE/Química Alimentar",
          "Brasil/Centro-Oeste/MS/Tecnologia médica",
          "Brasil/Nordeste/PE/Química Alimentar",
          "Brasil/Sudeste/ES/Engenharia química",
          "Brasil/Sudeste/MG/Tecnologia médica",
          "Brasil/Centro-Oeste/TO/Química Alimentar",
          "Brasil/Nordeste/MA/Química fina orgânica",
          "Brasil/Nordeste/PI/Materiais, metalurgia",
          "Brasil/Nordeste/PB/Química de materiais básicos",
          "Brasil/Sudeste/MG/Biotecnologia",
          "Brasil/Sul/PR/Outras máquinas especiais",
          "Brasil/Centro-Oeste/MS/Química Alimentar",
          "Brasil/Nordeste/CE/Produtos farmacêuticos",
          "Brasil/Nordeste/BA/Tecnologia Ambiental",
          "Brasil/Norte/RO/Controle",
          "Brasil/Nordeste/PI/Produtos farmacêuticos",
          "Brasil/Norte/AC",
          "Brasil/Nordeste/AL",
          "Brasil/Norte/AM",
          "Brasil/Norte/AP",
          "Brasil/Nordeste/BA",
          "Brasil/Nordeste/CE",
          "Brasil/Centro-Oeste/DF",
          "Brasil/Sudeste/ES",
          "Brasil/Centro-Oeste/GO",
          "Brasil/Nordeste/MA",
          "Brasil/Sudeste/MG",
          "Brasil/Centro-Oeste/MS",
          "Brasil/Centro-Oeste/MT",
          "Brasil/Norte/PA",
          "Brasil/Nordeste/PB",
          "Brasil/Nordeste/PE",
          "Brasil/Nordeste/PI",
          "Brasil/Sul/PR",
          "Brasil/Sudeste/RJ",
          "Brasil/Nordeste/RN",
          "Brasil/Norte/RO",
          "Brasil/Sul/RS",
          "Brasil/Sul/SC",
          "Brasil/Nordeste/SE",
          "Brasil/Sudeste/SP",
          "Brasil/Centro-Oeste/TO",
          "Brasil/Centro-Oeste",
          "Brasil/Nordeste",
          "Brasil/Norte",
          "Brasil/Sudeste",
          "Brasil/Sul",
          "Brasil"
         ],
         "labels": [
          "Química de materiais básicos",
          "Telecomunicações",
          "Materiais, metalurgia",
          "Outras máquinas especiais",
          "Produtos farmacêuticos",
          "Biotecnologia",
          "Produtos farmacêuticos",
          "Materiais, metalurgia",
          "Química Alimentar",
          "Química de materiais básicos",
          "Biotecnologia",
          "Química de materiais básicos",
          "Tecnologia médica",
          "Química Alimentar",
          "Controle",
          "Biotecnologia",
          "Química de materiais básicos",
          "Medição",
          "Análise de materiais biológicos",
          "Biotecnologia",
          "Outras máquinas especiais",
          "Tecnologia médica",
          "Medição",
          "Biotecnologia",
          "Medição",
          "Produtos farmacêuticos",
          "Produtos farmacêuticos",
          "Química Alimentar",
          "Química de materiais básicos",
          "Medição",
          "Química fina orgânica",
          "Engenharia química",
          "Tecnologia médica",
          "Química fina orgânica",
          "Medição",
          "Química fina orgânica",
          "Química Alimentar",
          "Produtos farmacêuticos",
          "Materiais, metalurgia",
          "Produtos farmacêuticos",
          "Engenharia química",
          "Química de materiais básicos",
          "Outras máquinas especiais",
          "Produtos farmacêuticos",
          "Química Alimentar",
          "Química fina orgânica",
          "Química fina orgânica",
          "Biotecnologia",
          "Produtos farmacêuticos",
          "Produtos farmacêuticos",
          "Outras máquinas especiais",
          "Medição",
          "Biotecnologia",
          "Outras máquinas especiais",
          "Química macromolecular, polímeros",
          "Química fina orgânica",
          "Materiais, metalurgia",
          "Biotecnologia",
          "Química de materiais básicos",
          "Química de materiais básicos",
          "Química de materiais básicos",
          "Medição",
          "Química Alimentar",
          "Química Alimentar",
          "Biotecnologia",
          "Produtos farmacêuticos",
          "Engenharia química",
          "Medição",
          "Produtos farmacêuticos",
          "Biotecnologia",
          "Produtos farmacêuticos",
          "Tecnologia médica",
          "Produtos farmacêuticos",
          "Química macromolecular, polímeros",
          "Outros bens de consumo",
          "Engenharia química",
          "Comunicação digital",
          "Tecnologia médica",
          "Biotecnologia",
          "Móveis, jogos",
          "Química Alimentar",
          "Biotecnologia",
          "Química de materiais básicos",
          "Química Alimentar",
          "Produtos farmacêuticos",
          "Controle",
          "Química Alimentar",
          "Outras máquinas especiais",
          "Química fina orgânica",
          "Produtos farmacêuticos",
          "Química Alimentar",
          "Tecnologia médica",
          "Química de materiais básicos",
          "Produtos farmacêuticos",
          "Tecnologia médica",
          "Materiais, metalurgia",
          "Medição",
          "Tecnologia médica",
          "Materiais, metalurgia",
          "Biotecnologia",
          "Tecnologia médica",
          "Medição",
          "Química de materiais básicos",
          "Materiais, metalurgia",
          "Controle",
          "Outras máquinas especiais",
          "Produtos farmacêuticos",
          "Química Alimentar",
          "Tecnologia médica",
          "Química Alimentar",
          "Engenharia química",
          "Tecnologia médica",
          "Química Alimentar",
          "Química fina orgânica",
          "Materiais, metalurgia",
          "Química de materiais básicos",
          "Biotecnologia",
          "Outras máquinas especiais",
          "Química Alimentar",
          "Produtos farmacêuticos",
          "Tecnologia Ambiental",
          "Controle",
          "Produtos farmacêuticos",
          "AC",
          "AL",
          "AM",
          "AP",
          "BA",
          "CE",
          "DF",
          "ES",
          "GO",
          "MA",
          "MG",
          "MS",
          "MT",
          "PA",
          "PB",
          "PE",
          "PI",
          "PR",
          "RJ",
          "RN",
          "RO",
          "RS",
          "SC",
          "SE",
          "SP",
          "TO",
          "Centro-Oeste",
          "Nordeste",
          "Norte",
          "Sudeste",
          "Sul",
          "Brasil"
         ],
         "marker": {
          "colors": [
           "#636efa",
           "#EF553B",
           "#00cc96",
           "#ab63fa",
           "#FFA15A",
           "#19d3f3",
           "#FFA15A",
           "#00cc96",
           "#FF6692",
           "#636efa",
           "#19d3f3",
           "#636efa",
           "#B6E880",
           "#FF6692",
           "#FF97FF",
           "#19d3f3",
           "#636efa",
           "#FECB52",
           "#636efa",
           "#19d3f3",
           "#ab63fa",
           "#B6E880",
           "#FECB52",
           "#19d3f3",
           "#FECB52",
           "#FFA15A",
           "#FFA15A",
           "#FF6692",
           "#636efa",
           "#FECB52",
           "#EF553B",
           "#00cc96",
           "#B6E880",
           "#EF553B",
           "#FECB52",
           "#EF553B",
           "#FF6692",
           "#FFA15A",
           "#00cc96",
           "#FFA15A",
           "#00cc96",
           "#636efa",
           "#ab63fa",
           "#FFA15A",
           "#FF6692",
           "#EF553B",
           "#EF553B",
           "#19d3f3",
           "#FFA15A",
           "#FFA15A",
           "#ab63fa",
           "#FECB52",
           "#19d3f3",
           "#ab63fa",
           "#ab63fa",
           "#EF553B",
           "#00cc96",
           "#19d3f3",
           "#636efa",
           "#636efa",
           "#636efa",
           "#FECB52",
           "#FF6692",
           "#FF6692",
           "#19d3f3",
           "#FFA15A",
           "#00cc96",
           "#FECB52",
           "#FFA15A",
           "#19d3f3",
           "#FFA15A",
           "#B6E880",
           "#FFA15A",
           "#ab63fa",
           "#FFA15A",
           "#00cc96",
           "#19d3f3",
           "#B6E880",
           "#19d3f3",
           "#FF6692",
           "#FF6692",
           "#19d3f3",
           "#636efa",
           "#FF6692",
           "#FFA15A",
           "#FF97FF",
           "#FF6692",
           "#ab63fa",
           "#EF553B",
           "#FFA15A",
           "#FF6692",
           "#B6E880",
           "#636efa",
           "#FFA15A",
           "#B6E880",
           "#00cc96",
           "#FECB52",
           "#B6E880",
           "#00cc96",
           "#19d3f3",
           "#B6E880",
           "#FECB52",
           "#636efa",
           "#00cc96",
           "#FF97FF",
           "#ab63fa",
           "#FFA15A",
           "#FF6692",
           "#B6E880",
           "#FF6692",
           "#00cc96",
           "#B6E880",
           "#FF6692",
           "#EF553B",
           "#00cc96",
           "#636efa",
           "#19d3f3",
           "#ab63fa",
           "#FF6692",
           "#FFA15A",
           "#B6E880",
           "#FF97FF",
           "#FFA15A",
           "#FF97FF",
           "#FF97FF",
           "#FF97FF",
           "#FF97FF",
           "#FF97FF",
           "#FF97FF",
           "#FF97FF",
           "#FF97FF",
           "#FF97FF",
           "#FF97FF",
           "#FF97FF",
           "#FF97FF",
           "#FF97FF",
           "#FF97FF",
           "#FF97FF",
           "#FF97FF",
           "#FF97FF",
           "#FF97FF",
           "#FF97FF",
           "#FF97FF",
           "#FF97FF",
           "#FF97FF",
           "#FF97FF",
           "#FF97FF",
           "#FF97FF",
           "#FF97FF",
           "#FF97FF",
           "#FF97FF",
           "#FF97FF",
           "#FF97FF",
           "#FF97FF",
           "#FF97FF"
          ]
         },
         "name": "",
         "parents": [
          "Brasil/Sul/SC",
          "Brasil/Norte/PA",
          "Brasil/Norte/PA",
          "Brasil/Centro-Oeste/MS",
          "Brasil/Nordeste/AL",
          "Brasil/Sul/PR",
          "Brasil/Centro-Oeste/TO",
          "Brasil/Nordeste/CE",
          "Brasil/Norte/AP",
          "Brasil/Centro-Oeste/GO",
          "Brasil/Nordeste/CE",
          "Brasil/Centro-Oeste/TO",
          "Brasil/Centro-Oeste/DF",
          "Brasil/Nordeste/PI",
          "Brasil/Sudeste/ES",
          "Brasil/Sudeste/RJ",
          "Brasil/Nordeste/SE",
          "Brasil/Sudeste/ES",
          "Brasil/Nordeste/RN",
          "Brasil/Sudeste/SP",
          "Brasil/Sul/SC",
          "Brasil/Nordeste/RN",
          "Brasil/Sul/RS",
          "Brasil/Nordeste/PB",
          "Brasil/Sudeste/MG",
          "Brasil/Nordeste/SE",
          "Brasil/Nordeste/PB",
          "Brasil/Norte/PA",
          "Brasil/Centro-Oeste/MT",
          "Brasil/Nordeste/BA",
          "Brasil/Nordeste/CE",
          "Brasil/Sudeste/MG",
          "Brasil/Nordeste/AL",
          "Brasil/Centro-Oeste/GO",
          "Brasil/Centro-Oeste/DF",
          "Brasil/Nordeste/PE",
          "Brasil/Sudeste/RJ",
          "Brasil/Sudeste/RJ",
          "Brasil/Sul/RS",
          "Brasil/Nordeste/MA",
          "Brasil/Norte/AM",
          "Brasil/Centro-Oeste/DF",
          "Brasil/Sul/RS",
          "Brasil/Sudeste/MG",
          "Brasil/Nordeste/SE",
          "Brasil/Sudeste/SP",
          "Brasil/Norte/AP",
          "Brasil/Nordeste/AL",
          "Brasil/Norte/AM",
          "Brasil/Centro-Oeste/MS",
          "Brasil/Centro-Oeste/GO",
          "Brasil/Sudeste/RJ",
          "Brasil/Centro-Oeste/TO",
          "Brasil/Centro-Oeste/MT",
          "Brasil/Nordeste/PI",
          "Brasil/Centro-Oeste/MT",
          "Brasil/Nordeste/PB",
          "Brasil/Norte/AM",
          "Brasil/Sudeste/SP",
          "Brasil/Nordeste/PE",
          "Brasil/Nordeste/MA",
          "Brasil/Centro-Oeste/MT",
          "Brasil/Nordeste/MA",
          "Brasil/Nordeste/AL",
          "Brasil/Nordeste/PE",
          "Brasil/Sul/RS",
          "Brasil/Centro-Oeste/TO",
          "Brasil/Sul/SC",
          "Brasil/Norte/PA",
          "Brasil/Sul/RS",
          "Brasil/Norte/AP",
          "Brasil/Sul/SC",
          "Brasil/Nordeste/RN",
          "Brasil/Sudeste/SP",
          "Brasil/Norte/AP",
          "Brasil/Centro-Oeste/GO",
          "Brasil/Norte/AM",
          "Brasil/Nordeste/SE",
          "Brasil/Centro-Oeste/DF",
          "Brasil/Centro-Oeste/MT",
          "Brasil/Sul/PR",
          "Brasil/Centro-Oeste/MS",
          "Brasil/Sudeste/ES",
          "Brasil/Nordeste/PB",
          "Brasil/Nordeste/PE",
          "Brasil/Norte/AP",
          "Brasil/Nordeste/BA",
          "Brasil/Nordeste/MA",
          "Brasil/Sudeste/RJ",
          "Brasil/Sul/SC",
          "Brasil/Norte/AM",
          "Brasil/Sudeste/SP",
          "Brasil/Nordeste/RN",
          "Brasil/Centro-Oeste/DF",
          "Brasil/Nordeste/BA",
          "Brasil/Nordeste/RN",
          "Brasil/Norte/PA",
          "Brasil/Sul/PR",
          "Brasil/Nordeste/SE",
          "Brasil/Nordeste/BA",
          "Brasil/Nordeste/PI",
          "Brasil/Sul/PR",
          "Brasil/Nordeste/AL",
          "Brasil/Sudeste/ES",
          "Brasil/Norte/AC",
          "Brasil/Norte/AC",
          "Brasil/Centro-Oeste/GO",
          "Brasil/Nordeste/CE",
          "Brasil/Centro-Oeste/MS",
          "Brasil/Nordeste/PE",
          "Brasil/Sudeste/ES",
          "Brasil/Sudeste/MG",
          "Brasil/Centro-Oeste/TO",
          "Brasil/Nordeste/MA",
          "Brasil/Nordeste/PI",
          "Brasil/Nordeste/PB",
          "Brasil/Sudeste/MG",
          "Brasil/Sul/PR",
          "Brasil/Centro-Oeste/MS",
          "Brasil/Nordeste/CE",
          "Brasil/Nordeste/BA",
          "Brasil/Norte/RO",
          "Brasil/Nordeste/PI",
          "Brasil/Norte",
          "Brasil/Nordeste",
          "Brasil/Norte",
          "Brasil/Norte",
          "Brasil/Nordeste",
          "Brasil/Nordeste",
          "Brasil/Centro-Oeste",
          "Brasil/Sudeste",
          "Brasil/Centro-Oeste",
          "Brasil/Nordeste",
          "Brasil/Sudeste",
          "Brasil/Centro-Oeste",
          "Brasil/Centro-Oeste",
          "Brasil/Norte",
          "Brasil/Nordeste",
          "Brasil/Nordeste",
          "Brasil/Nordeste",
          "Brasil/Sul",
          "Brasil/Sudeste",
          "Brasil/Nordeste",
          "Brasil/Norte",
          "Brasil/Sul",
          "Brasil/Sul",
          "Brasil/Nordeste",
          "Brasil/Sudeste",
          "Brasil/Centro-Oeste",
          "Brasil",
          "Brasil",
          "Brasil",
          "Brasil",
          "Brasil",
          ""
         ],
         "type": "treemap",
         "values": [
          9,
          7,
          7,
          7,
          23,
          25,
          3,
          16,
          1,
          9,
          10,
          3,
          7,
          4,
          3,
          18,
          8,
          4,
          6,
          19,
          8,
          16,
          22,
          24,
          61,
          29,
          49,
          7,
          6,
          4,
          10,
          42,
          10,
          7,
          3,
          17,
          19,
          18,
          22,
          30,
          3,
          5,
          27,
          123,
          13,
          11,
          1,
          17,
          2,
          7,
          6,
          19,
          1,
          3,
          3,
          4,
          28,
          1,
          10,
          34,
          9,
          3,
          12,
          10,
          25,
          41,
          3,
          9,
          19,
          33,
          2,
          18,
          13,
          12,
          1,
          5,
          1,
          9,
          23,
          3,
          18,
          12,
          8,
          248,
          61,
          1,
          22,
          9,
          22,
          11,
          6,
          18,
          9,
          12,
          9,
          17,
          6,
          15,
          8,
          13,
          5,
          15,
          19,
          6,
          1,
          1,
          10,
          20,
          7,
          22,
          3,
          65,
          3,
          11,
          4,
          33,
          124,
          15,
          18,
          12,
          4,
          1,
          9,
          2,
          79,
          13,
          6,
          52,
          68,
          50,
          24,
          37,
          71,
          415,
          51,
          19,
          46,
          382,
          159,
          25,
          88,
          96,
          61,
          1,
          145,
          55,
          67,
          70,
          13,
          170,
          964,
          68,
          605,
          288,
          2095
         ]
        }
       ],
       "layout": {
        "autosize": true,
        "legend": {
         "tracegroupgap": 0
        },
        "margin": {
         "b": 25,
         "l": 25,
         "r": 25,
         "t": 50
        },
        "template": {
         "data": {
          "bar": [
           {
            "error_x": {
             "color": "#2a3f5f"
            },
            "error_y": {
             "color": "#2a3f5f"
            },
            "marker": {
             "line": {
              "color": "#E5ECF6",
              "width": 0.5
             },
             "pattern": {
              "fillmode": "overlay",
              "size": 10,
              "solidity": 0.2
             }
            },
            "type": "bar"
           }
          ],
          "barpolar": [
           {
            "marker": {
             "line": {
              "color": "#E5ECF6",
              "width": 0.5
             },
             "pattern": {
              "fillmode": "overlay",
              "size": 10,
              "solidity": 0.2
             }
            },
            "type": "barpolar"
           }
          ],
          "carpet": [
           {
            "aaxis": {
             "endlinecolor": "#2a3f5f",
             "gridcolor": "white",
             "linecolor": "white",
             "minorgridcolor": "white",
             "startlinecolor": "#2a3f5f"
            },
            "baxis": {
             "endlinecolor": "#2a3f5f",
             "gridcolor": "white",
             "linecolor": "white",
             "minorgridcolor": "white",
             "startlinecolor": "#2a3f5f"
            },
            "type": "carpet"
           }
          ],
          "choropleth": [
           {
            "colorbar": {
             "outlinewidth": 0,
             "ticks": ""
            },
            "type": "choropleth"
           }
          ],
          "contour": [
           {
            "colorbar": {
             "outlinewidth": 0,
             "ticks": ""
            },
            "colorscale": [
             [
              0,
              "#0d0887"
             ],
             [
              0.1111111111111111,
              "#46039f"
             ],
             [
              0.2222222222222222,
              "#7201a8"
             ],
             [
              0.3333333333333333,
              "#9c179e"
             ],
             [
              0.4444444444444444,
              "#bd3786"
             ],
             [
              0.5555555555555556,
              "#d8576b"
             ],
             [
              0.6666666666666666,
              "#ed7953"
             ],
             [
              0.7777777777777778,
              "#fb9f3a"
             ],
             [
              0.8888888888888888,
              "#fdca26"
             ],
             [
              1,
              "#f0f921"
             ]
            ],
            "type": "contour"
           }
          ],
          "contourcarpet": [
           {
            "colorbar": {
             "outlinewidth": 0,
             "ticks": ""
            },
            "type": "contourcarpet"
           }
          ],
          "heatmap": [
           {
            "colorbar": {
             "outlinewidth": 0,
             "ticks": ""
            },
            "colorscale": [
             [
              0,
              "#0d0887"
             ],
             [
              0.1111111111111111,
              "#46039f"
             ],
             [
              0.2222222222222222,
              "#7201a8"
             ],
             [
              0.3333333333333333,
              "#9c179e"
             ],
             [
              0.4444444444444444,
              "#bd3786"
             ],
             [
              0.5555555555555556,
              "#d8576b"
             ],
             [
              0.6666666666666666,
              "#ed7953"
             ],
             [
              0.7777777777777778,
              "#fb9f3a"
             ],
             [
              0.8888888888888888,
              "#fdca26"
             ],
             [
              1,
              "#f0f921"
             ]
            ],
            "type": "heatmap"
           }
          ],
          "heatmapgl": [
           {
            "colorbar": {
             "outlinewidth": 0,
             "ticks": ""
            },
            "colorscale": [
             [
              0,
              "#0d0887"
             ],
             [
              0.1111111111111111,
              "#46039f"
             ],
             [
              0.2222222222222222,
              "#7201a8"
             ],
             [
              0.3333333333333333,
              "#9c179e"
             ],
             [
              0.4444444444444444,
              "#bd3786"
             ],
             [
              0.5555555555555556,
              "#d8576b"
             ],
             [
              0.6666666666666666,
              "#ed7953"
             ],
             [
              0.7777777777777778,
              "#fb9f3a"
             ],
             [
              0.8888888888888888,
              "#fdca26"
             ],
             [
              1,
              "#f0f921"
             ]
            ],
            "type": "heatmapgl"
           }
          ],
          "histogram": [
           {
            "marker": {
             "pattern": {
              "fillmode": "overlay",
              "size": 10,
              "solidity": 0.2
             }
            },
            "type": "histogram"
           }
          ],
          "histogram2d": [
           {
            "colorbar": {
             "outlinewidth": 0,
             "ticks": ""
            },
            "colorscale": [
             [
              0,
              "#0d0887"
             ],
             [
              0.1111111111111111,
              "#46039f"
             ],
             [
              0.2222222222222222,
              "#7201a8"
             ],
             [
              0.3333333333333333,
              "#9c179e"
             ],
             [
              0.4444444444444444,
              "#bd3786"
             ],
             [
              0.5555555555555556,
              "#d8576b"
             ],
             [
              0.6666666666666666,
              "#ed7953"
             ],
             [
              0.7777777777777778,
              "#fb9f3a"
             ],
             [
              0.8888888888888888,
              "#fdca26"
             ],
             [
              1,
              "#f0f921"
             ]
            ],
            "type": "histogram2d"
           }
          ],
          "histogram2dcontour": [
           {
            "colorbar": {
             "outlinewidth": 0,
             "ticks": ""
            },
            "colorscale": [
             [
              0,
              "#0d0887"
             ],
             [
              0.1111111111111111,
              "#46039f"
             ],
             [
              0.2222222222222222,
              "#7201a8"
             ],
             [
              0.3333333333333333,
              "#9c179e"
             ],
             [
              0.4444444444444444,
              "#bd3786"
             ],
             [
              0.5555555555555556,
              "#d8576b"
             ],
             [
              0.6666666666666666,
              "#ed7953"
             ],
             [
              0.7777777777777778,
              "#fb9f3a"
             ],
             [
              0.8888888888888888,
              "#fdca26"
             ],
             [
              1,
              "#f0f921"
             ]
            ],
            "type": "histogram2dcontour"
           }
          ],
          "mesh3d": [
           {
            "colorbar": {
             "outlinewidth": 0,
             "ticks": ""
            },
            "type": "mesh3d"
           }
          ],
          "parcoords": [
           {
            "line": {
             "colorbar": {
              "outlinewidth": 0,
              "ticks": ""
             }
            },
            "type": "parcoords"
           }
          ],
          "pie": [
           {
            "automargin": true,
            "type": "pie"
           }
          ],
          "scatter": [
           {
            "fillpattern": {
             "fillmode": "overlay",
             "size": 10,
             "solidity": 0.2
            },
            "type": "scatter"
           }
          ],
          "scatter3d": [
           {
            "line": {
             "colorbar": {
              "outlinewidth": 0,
              "ticks": ""
             }
            },
            "marker": {
             "colorbar": {
              "outlinewidth": 0,
              "ticks": ""
             }
            },
            "type": "scatter3d"
           }
          ],
          "scattercarpet": [
           {
            "marker": {
             "colorbar": {
              "outlinewidth": 0,
              "ticks": ""
             }
            },
            "type": "scattercarpet"
           }
          ],
          "scattergeo": [
           {
            "marker": {
             "colorbar": {
              "outlinewidth": 0,
              "ticks": ""
             }
            },
            "type": "scattergeo"
           }
          ],
          "scattergl": [
           {
            "marker": {
             "colorbar": {
              "outlinewidth": 0,
              "ticks": ""
             }
            },
            "type": "scattergl"
           }
          ],
          "scattermapbox": [
           {
            "marker": {
             "colorbar": {
              "outlinewidth": 0,
              "ticks": ""
             }
            },
            "type": "scattermapbox"
           }
          ],
          "scatterpolar": [
           {
            "marker": {
             "colorbar": {
              "outlinewidth": 0,
              "ticks": ""
             }
            },
            "type": "scatterpolar"
           }
          ],
          "scatterpolargl": [
           {
            "marker": {
             "colorbar": {
              "outlinewidth": 0,
              "ticks": ""
             }
            },
            "type": "scatterpolargl"
           }
          ],
          "scatterternary": [
           {
            "marker": {
             "colorbar": {
              "outlinewidth": 0,
              "ticks": ""
             }
            },
            "type": "scatterternary"
           }
          ],
          "surface": [
           {
            "colorbar": {
             "outlinewidth": 0,
             "ticks": ""
            },
            "colorscale": [
             [
              0,
              "#0d0887"
             ],
             [
              0.1111111111111111,
              "#46039f"
             ],
             [
              0.2222222222222222,
              "#7201a8"
             ],
             [
              0.3333333333333333,
              "#9c179e"
             ],
             [
              0.4444444444444444,
              "#bd3786"
             ],
             [
              0.5555555555555556,
              "#d8576b"
             ],
             [
              0.6666666666666666,
              "#ed7953"
             ],
             [
              0.7777777777777778,
              "#fb9f3a"
             ],
             [
              0.8888888888888888,
              "#fdca26"
             ],
             [
              1,
              "#f0f921"
             ]
            ],
            "type": "surface"
           }
          ],
          "table": [
           {
            "cells": {
             "fill": {
              "color": "#EBF0F8"
             },
             "line": {
              "color": "white"
             }
            },
            "header": {
             "fill": {
              "color": "#C8D4E3"
             },
             "line": {
              "color": "white"
             }
            },
            "type": "table"
           }
          ]
         },
         "layout": {
          "annotationdefaults": {
           "arrowcolor": "#2a3f5f",
           "arrowhead": 0,
           "arrowwidth": 1
          },
          "autotypenumbers": "strict",
          "coloraxis": {
           "colorbar": {
            "outlinewidth": 0,
            "ticks": ""
           }
          },
          "colorscale": {
           "diverging": [
            [
             0,
             "#8e0152"
            ],
            [
             0.1,
             "#c51b7d"
            ],
            [
             0.2,
             "#de77ae"
            ],
            [
             0.3,
             "#f1b6da"
            ],
            [
             0.4,
             "#fde0ef"
            ],
            [
             0.5,
             "#f7f7f7"
            ],
            [
             0.6,
             "#e6f5d0"
            ],
            [
             0.7,
             "#b8e186"
            ],
            [
             0.8,
             "#7fbc41"
            ],
            [
             0.9,
             "#4d9221"
            ],
            [
             1,
             "#276419"
            ]
           ],
           "sequential": [
            [
             0,
             "#0d0887"
            ],
            [
             0.1111111111111111,
             "#46039f"
            ],
            [
             0.2222222222222222,
             "#7201a8"
            ],
            [
             0.3333333333333333,
             "#9c179e"
            ],
            [
             0.4444444444444444,
             "#bd3786"
            ],
            [
             0.5555555555555556,
             "#d8576b"
            ],
            [
             0.6666666666666666,
             "#ed7953"
            ],
            [
             0.7777777777777778,
             "#fb9f3a"
            ],
            [
             0.8888888888888888,
             "#fdca26"
            ],
            [
             1,
             "#f0f921"
            ]
           ],
           "sequentialminus": [
            [
             0,
             "#0d0887"
            ],
            [
             0.1111111111111111,
             "#46039f"
            ],
            [
             0.2222222222222222,
             "#7201a8"
            ],
            [
             0.3333333333333333,
             "#9c179e"
            ],
            [
             0.4444444444444444,
             "#bd3786"
            ],
            [
             0.5555555555555556,
             "#d8576b"
            ],
            [
             0.6666666666666666,
             "#ed7953"
            ],
            [
             0.7777777777777778,
             "#fb9f3a"
            ],
            [
             0.8888888888888888,
             "#fdca26"
            ],
            [
             1,
             "#f0f921"
            ]
           ]
          },
          "colorway": [
           "#636efa",
           "#EF553B",
           "#00cc96",
           "#ab63fa",
           "#FFA15A",
           "#19d3f3",
           "#FF6692",
           "#B6E880",
           "#FF97FF",
           "#FECB52"
          ],
          "font": {
           "color": "#2a3f5f"
          },
          "geo": {
           "bgcolor": "white",
           "lakecolor": "white",
           "landcolor": "#E5ECF6",
           "showlakes": true,
           "showland": true,
           "subunitcolor": "white"
          },
          "hoverlabel": {
           "align": "left"
          },
          "hovermode": "closest",
          "mapbox": {
           "style": "light"
          },
          "paper_bgcolor": "white",
          "plot_bgcolor": "#E5ECF6",
          "polar": {
           "angularaxis": {
            "gridcolor": "white",
            "linecolor": "white",
            "ticks": ""
           },
           "bgcolor": "#E5ECF6",
           "radialaxis": {
            "gridcolor": "white",
            "linecolor": "white",
            "ticks": ""
           }
          },
          "scene": {
           "xaxis": {
            "backgroundcolor": "#E5ECF6",
            "gridcolor": "white",
            "gridwidth": 2,
            "linecolor": "white",
            "showbackground": true,
            "ticks": "",
            "zerolinecolor": "white"
           },
           "yaxis": {
            "backgroundcolor": "#E5ECF6",
            "gridcolor": "white",
            "gridwidth": 2,
            "linecolor": "white",
            "showbackground": true,
            "ticks": "",
            "zerolinecolor": "white"
           },
           "zaxis": {
            "backgroundcolor": "#E5ECF6",
            "gridcolor": "white",
            "gridwidth": 2,
            "linecolor": "white",
            "showbackground": true,
            "ticks": "",
            "zerolinecolor": "white"
           }
          },
          "shapedefaults": {
           "line": {
            "color": "#2a3f5f"
           }
          },
          "ternary": {
           "aaxis": {
            "gridcolor": "white",
            "linecolor": "white",
            "ticks": ""
           },
           "baxis": {
            "gridcolor": "white",
            "linecolor": "white",
            "ticks": ""
           },
           "bgcolor": "#E5ECF6",
           "caxis": {
            "gridcolor": "white",
            "linecolor": "white",
            "ticks": ""
           }
          },
          "title": {
           "x": 0.05
          },
          "xaxis": {
           "automargin": true,
           "gridcolor": "white",
           "linecolor": "white",
           "ticks": "",
           "title": {
            "standoff": 15
           },
           "zerolinecolor": "white",
           "zerolinewidth": 2
          },
          "yaxis": {
           "automargin": true,
           "gridcolor": "white",
           "linecolor": "white",
           "ticks": "",
           "title": {
            "standoff": 15
           },
           "zerolinecolor": "white",
           "zerolinewidth": 2
          }
         }
        }
       }
      },
      "image/png": "[encoded data removed]",
      "text/html": [
       "<div>                            <div id=\"76518302-f81a-4e5f-b556-f9cbfb076dc2\" class=\"plotly-graph-div\" style=\"height:525px; width:100%;\"></div>            <script type=\"text/javascript\">                require([\"plotly\"], function(Plotly) {                    window.PLOTLYENV=window.PLOTLYENV || {};                                    if (document.getElementById(\"76518302-f81a-4e5f-b556-f9cbfb076dc2\")) {                    Plotly.newPlot(                        \"76518302-f81a-4e5f-b556-f9cbfb076dc2\",                        [{\"branchvalues\":\"total\",\"customdata\":[[\"Qu\\u00edmica de materiais b\\u00e1sicos\"],[\"Telecomunica\\u00e7\\u00f5es\"],[\"Materiais, metalurgia\"],[\"Outras m\\u00e1quinas especiais\"],[\"Produtos farmac\\u00eauticos\"],[\"Biotecnologia\"],[\"Produtos farmac\\u00eauticos\"],[\"Materiais, metalurgia\"],[\"Qu\\u00edmica Alimentar\"],[\"Qu\\u00edmica de materiais b\\u00e1sicos\"],[\"Biotecnologia\"],[\"Qu\\u00edmica de materiais b\\u00e1sicos\"],[\"Tecnologia m\\u00e9dica\"],[\"Qu\\u00edmica Alimentar\"],[\"Controle\"],[\"Biotecnologia\"],[\"Qu\\u00edmica de materiais b\\u00e1sicos\"],[\"Medi\\u00e7\\u00e3o\"],[\"An\\u00e1lise de materiais biol\\u00f3gicos\"],[\"Biotecnologia\"],[\"Outras m\\u00e1quinas especiais\"],[\"Tecnologia m\\u00e9dica\"],[\"Medi\\u00e7\\u00e3o\"],[\"Biotecnologia\"],[\"Medi\\u00e7\\u00e3o\"],[\"Produtos farmac\\u00eauticos\"],[\"Produtos farmac\\u00eauticos\"],[\"Qu\\u00edmica Alimentar\"],[\"Qu\\u00edmica de materiais b\\u00e1sicos\"],[\"Medi\\u00e7\\u00e3o\"],[\"Qu\\u00edmica fina org\\u00e2nica\"],[\"Engenharia qu\\u00edmica\"],[\"Tecnologia m\\u00e9dica\"],[\"Qu\\u00edmica fina org\\u00e2nica\"],[\"Medi\\u00e7\\u00e3o\"],[\"Qu\\u00edmica fina org\\u00e2nica\"],[\"Qu\\u00edmica Alimentar\"],[\"Produtos farmac\\u00eauticos\"],[\"Materiais, metalurgia\"],[\"Produtos farmac\\u00eauticos\"],[\"Engenharia qu\\u00edmica\"],[\"Qu\\u00edmica de materiais b\\u00e1sicos\"],[\"Outras m\\u00e1quinas especiais\"],[\"Produtos farmac\\u00eauticos\"],[\"Qu\\u00edmica Alimentar\"],[\"Qu\\u00edmica fina org\\u00e2nica\"],[\"Qu\\u00edmica fina org\\u00e2nica\"],[\"Biotecnologia\"],[\"Produtos farmac\\u00eauticos\"],[\"Produtos farmac\\u00eauticos\"],[\"Outras m\\u00e1quinas especiais\"],[\"Medi\\u00e7\\u00e3o\"],[\"Biotecnologia\"],[\"Outras m\\u00e1quinas especiais\"],[\"Qu\\u00edmica macromolecular, pol\\u00edmeros\"],[\"Qu\\u00edmica fina org\\u00e2nica\"],[\"Materiais, metalurgia\"],[\"Biotecnologia\"],[\"Qu\\u00edmica de materiais b\\u00e1sicos\"],[\"Qu\\u00edmica de materiais b\\u00e1sicos\"],[\"Qu\\u00edmica de materiais b\\u00e1sicos\"],[\"Medi\\u00e7\\u00e3o\"],[\"Qu\\u00edmica Alimentar\"],[\"Qu\\u00edmica Alimentar\"],[\"Biotecnologia\"],[\"Produtos farmac\\u00eauticos\"],[\"Engenharia qu\\u00edmica\"],[\"Medi\\u00e7\\u00e3o\"],[\"Produtos farmac\\u00eauticos\"],[\"Biotecnologia\"],[\"Produtos farmac\\u00eauticos\"],[\"Tecnologia m\\u00e9dica\"],[\"Produtos farmac\\u00eauticos\"],[\"Qu\\u00edmica macromolecular, pol\\u00edmeros\"],[\"Outros bens de consumo\"],[\"Engenharia qu\\u00edmica\"],[\"Comunica\\u00e7\\u00e3o digital\"],[\"Tecnologia m\\u00e9dica\"],[\"Biotecnologia\"],[\"M\\u00f3veis, jogos\"],[\"Qu\\u00edmica Alimentar\"],[\"Biotecnologia\"],[\"Qu\\u00edmica de materiais b\\u00e1sicos\"],[\"Qu\\u00edmica Alimentar\"],[\"Produtos farmac\\u00eauticos\"],[\"Controle\"],[\"Qu\\u00edmica Alimentar\"],[\"Outras m\\u00e1quinas especiais\"],[\"Qu\\u00edmica fina org\\u00e2nica\"],[\"Produtos farmac\\u00eauticos\"],[\"Qu\\u00edmica Alimentar\"],[\"Tecnologia m\\u00e9dica\"],[\"Qu\\u00edmica de materiais b\\u00e1sicos\"],[\"Produtos farmac\\u00eauticos\"],[\"Tecnologia m\\u00e9dica\"],[\"Materiais, metalurgia\"],[\"Medi\\u00e7\\u00e3o\"],[\"Tecnologia m\\u00e9dica\"],[\"Materiais, metalurgia\"],[\"Biotecnologia\"],[\"Tecnologia m\\u00e9dica\"],[\"Medi\\u00e7\\u00e3o\"],[\"Qu\\u00edmica de materiais b\\u00e1sicos\"],[\"Materiais, metalurgia\"],[\"Controle\"],[\"Outras m\\u00e1quinas especiais\"],[\"Produtos farmac\\u00eauticos\"],[\"Qu\\u00edmica Alimentar\"],[\"Tecnologia m\\u00e9dica\"],[\"Qu\\u00edmica Alimentar\"],[\"Engenharia qu\\u00edmica\"],[\"Tecnologia m\\u00e9dica\"],[\"Qu\\u00edmica Alimentar\"],[\"Qu\\u00edmica fina org\\u00e2nica\"],[\"Materiais, metalurgia\"],[\"Qu\\u00edmica de materiais b\\u00e1sicos\"],[\"Biotecnologia\"],[\"Outras m\\u00e1quinas especiais\"],[\"Qu\\u00edmica Alimentar\"],[\"Produtos farmac\\u00eauticos\"],[\"Tecnologia Ambiental\"],[\"Controle\"],[\"Produtos farmac\\u00eauticos\"],[\"(?)\"],[\"(?)\"],[\"(?)\"],[\"(?)\"],[\"(?)\"],[\"(?)\"],[\"(?)\"],[\"(?)\"],[\"(?)\"],[\"(?)\"],[\"(?)\"],[\"(?)\"],[\"(?)\"],[\"(?)\"],[\"(?)\"],[\"(?)\"],[\"(?)\"],[\"(?)\"],[\"(?)\"],[\"(?)\"],[\"Controle\"],[\"(?)\"],[\"(?)\"],[\"(?)\"],[\"(?)\"],[\"(?)\"],[\"(?)\"],[\"(?)\"],[\"(?)\"],[\"(?)\"],[\"(?)\"],[\"(?)\"]],\"domain\":{\"x\":[0.0,1.0],\"y\":[0.0,1.0]},\"hovertemplate\":\"labels=%{label}\\u003cbr\\u003econtagem=%{value}\\u003cbr\\u003eparent=%{parent}\\u003cbr\\u003eid=%{id}\\u003cbr\\u003eArea=%{customdata[0]}\\u003cextra\\u003e\\u003c\\u002fextra\\u003e\",\"ids\":[\"Brasil\\u002fSul\\u002fSC\\u002fQu\\u00edmica de materiais b\\u00e1sicos\",\"Brasil\\u002fNorte\\u002fPA\\u002fTelecomunica\\u00e7\\u00f5es\",\"Brasil\\u002fNorte\\u002fPA\\u002fMateriais, metalurgia\",\"Brasil\\u002fCentro-Oeste\\u002fMS\\u002fOutras m\\u00e1quinas especiais\",\"Brasil\\u002fNordeste\\u002fAL\\u002fProdutos farmac\\u00eauticos\",\"Brasil\\u002fSul\\u002fPR\\u002fBiotecnologia\",\"Brasil\\u002fCentro-Oeste\\u002fTO\\u002fProdutos farmac\\u00eauticos\",\"Brasil\\u002fNordeste\\u002fCE\\u002fMateriais, metalurgia\",\"Brasil\\u002fNorte\\u002fAP\\u002fQu\\u00edmica Alimentar\",\"Brasil\\u002fCentro-Oeste\\u002fGO\\u002fQu\\u00edmica de materiais b\\u00e1sicos\",\"Brasil\\u002fNordeste\\u002fCE\\u002fBiotecnologia\",\"Brasil\\u002fCentro-Oeste\\u002fTO\\u002fQu\\u00edmica de materiais b\\u00e1sicos\",\"Brasil\\u002fCentro-Oeste\\u002fDF\\u002fTecnologia m\\u00e9dica\",\"Brasil\\u002fNordeste\\u002fPI\\u002fQu\\u00edmica Alimentar\",\"Brasil\\u002fSudeste\\u002fES\\u002fControle\",\"Brasil\\u002fSudeste\\u002fRJ\\u002fBiotecnologia\",\"Brasil\\u002fNordeste\\u002fSE\\u002fQu\\u00edmica de materiais b\\u00e1sicos\",\"Brasil\\u002fSudeste\\u002fES\\u002fMedi\\u00e7\\u00e3o\",\"Brasil\\u002fNordeste\\u002fRN\\u002fAn\\u00e1lise de materiais biol\\u00f3gicos\",\"Brasil\\u002fSudeste\\u002fSP\\u002fBiotecnologia\",\"Brasil\\u002fSul\\u002fSC\\u002fOutras m\\u00e1quinas especiais\",\"Brasil\\u002fNordeste\\u002fRN\\u002fTecnologia m\\u00e9dica\",\"Brasil\\u002fSul\\u002fRS\\u002fMedi\\u00e7\\u00e3o\",\"Brasil\\u002fNordeste\\u002fPB\\u002fBiotecnologia\",\"Brasil\\u002fSudeste\\u002fMG\\u002fMedi\\u00e7\\u00e3o\",\"Brasil\\u002fNordeste\\u002fSE\\u002fProdutos farmac\\u00eauticos\",\"Brasil\\u002fNordeste\\u002fPB\\u002fProdutos farmac\\u00eauticos\",\"Brasil\\u002fNorte\\u002fPA\\u002fQu\\u00edmica Alimentar\",\"Brasil\\u002fCentro-Oeste\\u002fMT\\u002fQu\\u00edmica de materiais b\\u00e1sicos\",\"Brasil\\u002fNordeste\\u002fBA\\u002fMedi\\u00e7\\u00e3o\",\"Brasil\\u002fNordeste\\u002fCE\\u002fQu\\u00edmica fina org\\u00e2nica\",\"Brasil\\u002fSudeste\\u002fMG\\u002fEngenharia qu\\u00edmica\",\"Brasil\\u002fNordeste\\u002fAL\\u002fTecnologia m\\u00e9dica\",\"Brasil\\u002fCentro-Oeste\\u002fGO\\u002fQu\\u00edmica fina org\\u00e2nica\",\"Brasil\\u002fCentro-Oeste\\u002fDF\\u002fMedi\\u00e7\\u00e3o\",\"Brasil\\u002fNordeste\\u002fPE\\u002fQu\\u00edmica fina org\\u00e2nica\",\"Brasil\\u002fSudeste\\u002fRJ\\u002fQu\\u00edmica Alimentar\",\"Brasil\\u002fSudeste\\u002fRJ\\u002fProdutos farmac\\u00eauticos\",\"Brasil\\u002fSul\\u002fRS\\u002fMateriais, metalurgia\",\"Brasil\\u002fNordeste\\u002fMA\\u002fProdutos farmac\\u00eauticos\",\"Brasil\\u002fNorte\\u002fAM\\u002fEngenharia qu\\u00edmica\",\"Brasil\\u002fCentro-Oeste\\u002fDF\\u002fQu\\u00edmica de materiais b\\u00e1sicos\",\"Brasil\\u002fSul\\u002fRS\\u002fOutras m\\u00e1quinas especiais\",\"Brasil\\u002fSudeste\\u002fMG\\u002fProdutos farmac\\u00eauticos\",\"Brasil\\u002fNordeste\\u002fSE\\u002fQu\\u00edmica Alimentar\",\"Brasil\\u002fSudeste\\u002fSP\\u002fQu\\u00edmica fina org\\u00e2nica\",\"Brasil\\u002fNorte\\u002fAP\\u002fQu\\u00edmica fina org\\u00e2nica\",\"Brasil\\u002fNordeste\\u002fAL\\u002fBiotecnologia\",\"Brasil\\u002fNorte\\u002fAM\\u002fProdutos farmac\\u00eauticos\",\"Brasil\\u002fCentro-Oeste\\u002fMS\\u002fProdutos farmac\\u00eauticos\",\"Brasil\\u002fCentro-Oeste\\u002fGO\\u002fOutras m\\u00e1quinas especiais\",\"Brasil\\u002fSudeste\\u002fRJ\\u002fMedi\\u00e7\\u00e3o\",\"Brasil\\u002fCentro-Oeste\\u002fTO\\u002fBiotecnologia\",\"Brasil\\u002fCentro-Oeste\\u002fMT\\u002fOutras m\\u00e1quinas especiais\",\"Brasil\\u002fNordeste\\u002fPI\\u002fQu\\u00edmica macromolecular, pol\\u00edmeros\",\"Brasil\\u002fCentro-Oeste\\u002fMT\\u002fQu\\u00edmica fina org\\u00e2nica\",\"Brasil\\u002fNordeste\\u002fPB\\u002fMateriais, metalurgia\",\"Brasil\\u002fNorte\\u002fAM\\u002fBiotecnologia\",\"Brasil\\u002fSudeste\\u002fSP\\u002fQu\\u00edmica de materiais b\\u00e1sicos\",\"Brasil\\u002fNordeste\\u002fPE\\u002fQu\\u00edmica de materiais b\\u00e1sicos\",\"Brasil\\u002fNordeste\\u002fMA\\u002fQu\\u00edmica de materiais b\\u00e1sicos\",\"Brasil\\u002fCentro-Oeste\\u002fMT\\u002fMedi\\u00e7\\u00e3o\",\"Brasil\\u002fNordeste\\u002fMA\\u002fQu\\u00edmica Alimentar\",\"Brasil\\u002fNordeste\\u002fAL\\u002fQu\\u00edmica Alimentar\",\"Brasil\\u002fNordeste\\u002fPE\\u002fBiotecnologia\",\"Brasil\\u002fSul\\u002fRS\\u002fProdutos farmac\\u00eauticos\",\"Brasil\\u002fCentro-Oeste\\u002fTO\\u002fEngenharia qu\\u00edmica\",\"Brasil\\u002fSul\\u002fSC\\u002fMedi\\u00e7\\u00e3o\",\"Brasil\\u002fNorte\\u002fPA\\u002fProdutos farmac\\u00eauticos\",\"Brasil\\u002fSul\\u002fRS\\u002fBiotecnologia\",\"Brasil\\u002fNorte\\u002fAP\\u002fProdutos farmac\\u00eauticos\",\"Brasil\\u002fSul\\u002fSC\\u002fTecnologia m\\u00e9dica\",\"Brasil\\u002fNordeste\\u002fRN\\u002fProdutos farmac\\u00eauticos\",\"Brasil\\u002fSudeste\\u002fSP\\u002fQu\\u00edmica macromolecular, pol\\u00edmeros\",\"Brasil\\u002fNorte\\u002fAP\\u002fOutros bens de consumo\",\"Brasil\\u002fCentro-Oeste\\u002fGO\\u002fEngenharia qu\\u00edmica\",\"Brasil\\u002fNorte\\u002fAM\\u002fComunica\\u00e7\\u00e3o digital\",\"Brasil\\u002fNordeste\\u002fSE\\u002fTecnologia m\\u00e9dica\",\"Brasil\\u002fCentro-Oeste\\u002fDF\\u002fBiotecnologia\",\"Brasil\\u002fCentro-Oeste\\u002fMT\\u002fM\\u00f3veis, jogos\",\"Brasil\\u002fSul\\u002fPR\\u002fQu\\u00edmica Alimentar\",\"Brasil\\u002fCentro-Oeste\\u002fMS\\u002fBiotecnologia\",\"Brasil\\u002fSudeste\\u002fES\\u002fQu\\u00edmica de materiais b\\u00e1sicos\",\"Brasil\\u002fNordeste\\u002fPB\\u002fQu\\u00edmica Alimentar\",\"Brasil\\u002fNordeste\\u002fPE\\u002fProdutos farmac\\u00eauticos\",\"Brasil\\u002fNorte\\u002fAP\\u002fControle\",\"Brasil\\u002fNordeste\\u002fBA\\u002fQu\\u00edmica Alimentar\",\"Brasil\\u002fNordeste\\u002fMA\\u002fOutras m\\u00e1quinas especiais\",\"Brasil\\u002fSudeste\\u002fRJ\\u002fQu\\u00edmica fina org\\u00e2nica\",\"Brasil\\u002fSul\\u002fSC\\u002fProdutos farmac\\u00eauticos\",\"Brasil\\u002fNorte\\u002fAM\\u002fQu\\u00edmica Alimentar\",\"Brasil\\u002fSudeste\\u002fSP\\u002fTecnologia m\\u00e9dica\",\"Brasil\\u002fNordeste\\u002fRN\\u002fQu\\u00edmica de materiais b\\u00e1sicos\",\"Brasil\\u002fCentro-Oeste\\u002fDF\\u002fProdutos farmac\\u00eauticos\",\"Brasil\\u002fNordeste\\u002fBA\\u002fTecnologia m\\u00e9dica\",\"Brasil\\u002fNordeste\\u002fRN\\u002fMateriais, metalurgia\",\"Brasil\\u002fNorte\\u002fPA\\u002fMedi\\u00e7\\u00e3o\",\"Brasil\\u002fSul\\u002fPR\\u002fTecnologia m\\u00e9dica\",\"Brasil\\u002fNordeste\\u002fSE\\u002fMateriais, metalurgia\",\"Brasil\\u002fNordeste\\u002fBA\\u002fBiotecnologia\",\"Brasil\\u002fNordeste\\u002fPI\\u002fTecnologia m\\u00e9dica\",\"Brasil\\u002fSul\\u002fPR\\u002fMedi\\u00e7\\u00e3o\",\"Brasil\\u002fNordeste\\u002fAL\\u002fQu\\u00edmica de materiais b\\u00e1sicos\",\"Brasil\\u002fSudeste\\u002fES\\u002fMateriais, metalurgia\",\"Brasil\\u002fNorte\\u002fAC\\u002fControle\",\"Brasil\\u002fNorte\\u002fAC\\u002fOutras m\\u00e1quinas especiais\",\"Brasil\\u002fCentro-Oeste\\u002fGO\\u002fProdutos farmac\\u00eauticos\",\"Brasil\\u002fNordeste\\u002fCE\\u002fQu\\u00edmica Alimentar\",\"Brasil\\u002fCentro-Oeste\\u002fMS\\u002fTecnologia m\\u00e9dica\",\"Brasil\\u002fNordeste\\u002fPE\\u002fQu\\u00edmica Alimentar\",\"Brasil\\u002fSudeste\\u002fES\\u002fEngenharia qu\\u00edmica\",\"Brasil\\u002fSudeste\\u002fMG\\u002fTecnologia m\\u00e9dica\",\"Brasil\\u002fCentro-Oeste\\u002fTO\\u002fQu\\u00edmica Alimentar\",\"Brasil\\u002fNordeste\\u002fMA\\u002fQu\\u00edmica fina org\\u00e2nica\",\"Brasil\\u002fNordeste\\u002fPI\\u002fMateriais, metalurgia\",\"Brasil\\u002fNordeste\\u002fPB\\u002fQu\\u00edmica de materiais b\\u00e1sicos\",\"Brasil\\u002fSudeste\\u002fMG\\u002fBiotecnologia\",\"Brasil\\u002fSul\\u002fPR\\u002fOutras m\\u00e1quinas especiais\",\"Brasil\\u002fCentro-Oeste\\u002fMS\\u002fQu\\u00edmica Alimentar\",\"Brasil\\u002fNordeste\\u002fCE\\u002fProdutos farmac\\u00eauticos\",\"Brasil\\u002fNordeste\\u002fBA\\u002fTecnologia Ambiental\",\"Brasil\\u002fNorte\\u002fRO\\u002fControle\",\"Brasil\\u002fNordeste\\u002fPI\\u002fProdutos farmac\\u00eauticos\",\"Brasil\\u002fNorte\\u002fAC\",\"Brasil\\u002fNordeste\\u002fAL\",\"Brasil\\u002fNorte\\u002fAM\",\"Brasil\\u002fNorte\\u002fAP\",\"Brasil\\u002fNordeste\\u002fBA\",\"Brasil\\u002fNordeste\\u002fCE\",\"Brasil\\u002fCentro-Oeste\\u002fDF\",\"Brasil\\u002fSudeste\\u002fES\",\"Brasil\\u002fCentro-Oeste\\u002fGO\",\"Brasil\\u002fNordeste\\u002fMA\",\"Brasil\\u002fSudeste\\u002fMG\",\"Brasil\\u002fCentro-Oeste\\u002fMS\",\"Brasil\\u002fCentro-Oeste\\u002fMT\",\"Brasil\\u002fNorte\\u002fPA\",\"Brasil\\u002fNordeste\\u002fPB\",\"Brasil\\u002fNordeste\\u002fPE\",\"Brasil\\u002fNordeste\\u002fPI\",\"Brasil\\u002fSul\\u002fPR\",\"Brasil\\u002fSudeste\\u002fRJ\",\"Brasil\\u002fNordeste\\u002fRN\",\"Brasil\\u002fNorte\\u002fRO\",\"Brasil\\u002fSul\\u002fRS\",\"Brasil\\u002fSul\\u002fSC\",\"Brasil\\u002fNordeste\\u002fSE\",\"Brasil\\u002fSudeste\\u002fSP\",\"Brasil\\u002fCentro-Oeste\\u002fTO\",\"Brasil\\u002fCentro-Oeste\",\"Brasil\\u002fNordeste\",\"Brasil\\u002fNorte\",\"Brasil\\u002fSudeste\",\"Brasil\\u002fSul\",\"Brasil\"],\"labels\":[\"Qu\\u00edmica de materiais b\\u00e1sicos\",\"Telecomunica\\u00e7\\u00f5es\",\"Materiais, metalurgia\",\"Outras m\\u00e1quinas especiais\",\"Produtos farmac\\u00eauticos\",\"Biotecnologia\",\"Produtos farmac\\u00eauticos\",\"Materiais, metalurgia\",\"Qu\\u00edmica Alimentar\",\"Qu\\u00edmica de materiais b\\u00e1sicos\",\"Biotecnologia\",\"Qu\\u00edmica de materiais b\\u00e1sicos\",\"Tecnologia m\\u00e9dica\",\"Qu\\u00edmica Alimentar\",\"Controle\",\"Biotecnologia\",\"Qu\\u00edmica de materiais b\\u00e1sicos\",\"Medi\\u00e7\\u00e3o\",\"An\\u00e1lise de materiais biol\\u00f3gicos\",\"Biotecnologia\",\"Outras m\\u00e1quinas especiais\",\"Tecnologia m\\u00e9dica\",\"Medi\\u00e7\\u00e3o\",\"Biotecnologia\",\"Medi\\u00e7\\u00e3o\",\"Produtos farmac\\u00eauticos\",\"Produtos farmac\\u00eauticos\",\"Qu\\u00edmica Alimentar\",\"Qu\\u00edmica de materiais b\\u00e1sicos\",\"Medi\\u00e7\\u00e3o\",\"Qu\\u00edmica fina org\\u00e2nica\",\"Engenharia qu\\u00edmica\",\"Tecnologia m\\u00e9dica\",\"Qu\\u00edmica fina org\\u00e2nica\",\"Medi\\u00e7\\u00e3o\",\"Qu\\u00edmica fina org\\u00e2nica\",\"Qu\\u00edmica Alimentar\",\"Produtos farmac\\u00eauticos\",\"Materiais, metalurgia\",\"Produtos farmac\\u00eauticos\",\"Engenharia qu\\u00edmica\",\"Qu\\u00edmica de materiais b\\u00e1sicos\",\"Outras m\\u00e1quinas especiais\",\"Produtos farmac\\u00eauticos\",\"Qu\\u00edmica Alimentar\",\"Qu\\u00edmica fina org\\u00e2nica\",\"Qu\\u00edmica fina org\\u00e2nica\",\"Biotecnologia\",\"Produtos farmac\\u00eauticos\",\"Produtos farmac\\u00eauticos\",\"Outras m\\u00e1quinas especiais\",\"Medi\\u00e7\\u00e3o\",\"Biotecnologia\",\"Outras m\\u00e1quinas especiais\",\"Qu\\u00edmica macromolecular, pol\\u00edmeros\",\"Qu\\u00edmica fina org\\u00e2nica\",\"Materiais, metalurgia\",\"Biotecnologia\",\"Qu\\u00edmica de materiais b\\u00e1sicos\",\"Qu\\u00edmica de materiais b\\u00e1sicos\",\"Qu\\u00edmica de materiais b\\u00e1sicos\",\"Medi\\u00e7\\u00e3o\",\"Qu\\u00edmica Alimentar\",\"Qu\\u00edmica Alimentar\",\"Biotecnologia\",\"Produtos farmac\\u00eauticos\",\"Engenharia qu\\u00edmica\",\"Medi\\u00e7\\u00e3o\",\"Produtos farmac\\u00eauticos\",\"Biotecnologia\",\"Produtos farmac\\u00eauticos\",\"Tecnologia m\\u00e9dica\",\"Produtos farmac\\u00eauticos\",\"Qu\\u00edmica macromolecular, pol\\u00edmeros\",\"Outros bens de consumo\",\"Engenharia qu\\u00edmica\",\"Comunica\\u00e7\\u00e3o digital\",\"Tecnologia m\\u00e9dica\",\"Biotecnologia\",\"M\\u00f3veis, jogos\",\"Qu\\u00edmica Alimentar\",\"Biotecnologia\",\"Qu\\u00edmica de materiais b\\u00e1sicos\",\"Qu\\u00edmica Alimentar\",\"Produtos farmac\\u00eauticos\",\"Controle\",\"Qu\\u00edmica Alimentar\",\"Outras m\\u00e1quinas especiais\",\"Qu\\u00edmica fina org\\u00e2nica\",\"Produtos farmac\\u00eauticos\",\"Qu\\u00edmica Alimentar\",\"Tecnologia m\\u00e9dica\",\"Qu\\u00edmica de materiais b\\u00e1sicos\",\"Produtos farmac\\u00eauticos\",\"Tecnologia m\\u00e9dica\",\"Materiais, metalurgia\",\"Medi\\u00e7\\u00e3o\",\"Tecnologia m\\u00e9dica\",\"Materiais, metalurgia\",\"Biotecnologia\",\"Tecnologia m\\u00e9dica\",\"Medi\\u00e7\\u00e3o\",\"Qu\\u00edmica de materiais b\\u00e1sicos\",\"Materiais, metalurgia\",\"Controle\",\"Outras m\\u00e1quinas especiais\",\"Produtos farmac\\u00eauticos\",\"Qu\\u00edmica Alimentar\",\"Tecnologia m\\u00e9dica\",\"Qu\\u00edmica Alimentar\",\"Engenharia qu\\u00edmica\",\"Tecnologia m\\u00e9dica\",\"Qu\\u00edmica Alimentar\",\"Qu\\u00edmica fina org\\u00e2nica\",\"Materiais, metalurgia\",\"Qu\\u00edmica de materiais b\\u00e1sicos\",\"Biotecnologia\",\"Outras m\\u00e1quinas especiais\",\"Qu\\u00edmica Alimentar\",\"Produtos farmac\\u00eauticos\",\"Tecnologia Ambiental\",\"Controle\",\"Produtos farmac\\u00eauticos\",\"AC\",\"AL\",\"AM\",\"AP\",\"BA\",\"CE\",\"DF\",\"ES\",\"GO\",\"MA\",\"MG\",\"MS\",\"MT\",\"PA\",\"PB\",\"PE\",\"PI\",\"PR\",\"RJ\",\"RN\",\"RO\",\"RS\",\"SC\",\"SE\",\"SP\",\"TO\",\"Centro-Oeste\",\"Nordeste\",\"Norte\",\"Sudeste\",\"Sul\",\"Brasil\"],\"marker\":{\"colors\":[\"#636efa\",\"#EF553B\",\"#00cc96\",\"#ab63fa\",\"#FFA15A\",\"#19d3f3\",\"#FFA15A\",\"#00cc96\",\"#FF6692\",\"#636efa\",\"#19d3f3\",\"#636efa\",\"#B6E880\",\"#FF6692\",\"#FF97FF\",\"#19d3f3\",\"#636efa\",\"#FECB52\",\"#636efa\",\"#19d3f3\",\"#ab63fa\",\"#B6E880\",\"#FECB52\",\"#19d3f3\",\"#FECB52\",\"#FFA15A\",\"#FFA15A\",\"#FF6692\",\"#636efa\",\"#FECB52\",\"#EF553B\",\"#00cc96\",\"#B6E880\",\"#EF553B\",\"#FECB52\",\"#EF553B\",\"#FF6692\",\"#FFA15A\",\"#00cc96\",\"#FFA15A\",\"#00cc96\",\"#636efa\",\"#ab63fa\",\"#FFA15A\",\"#FF6692\",\"#EF553B\",\"#EF553B\",\"#19d3f3\",\"#FFA15A\",\"#FFA15A\",\"#ab63fa\",\"#FECB52\",\"#19d3f3\",\"#ab63fa\",\"#ab63fa\",\"#EF553B\",\"#00cc96\",\"#19d3f3\",\"#636efa\",\"#636efa\",\"#636efa\",\"#FECB52\",\"#FF6692\",\"#FF6692\",\"#19d3f3\",\"#FFA15A\",\"#00cc96\",\"#FECB52\",\"#FFA15A\",\"#19d3f3\",\"#FFA15A\",\"#B6E880\",\"#FFA15A\",\"#ab63fa\",\"#FFA15A\",\"#00cc96\",\"#19d3f3\",\"#B6E880\",\"#19d3f3\",\"#FF6692\",\"#FF6692\",\"#19d3f3\",\"#636efa\",\"#FF6692\",\"#FFA15A\",\"#FF97FF\",\"#FF6692\",\"#ab63fa\",\"#EF553B\",\"#FFA15A\",\"#FF6692\",\"#B6E880\",\"#636efa\",\"#FFA15A\",\"#B6E880\",\"#00cc96\",\"#FECB52\",\"#B6E880\",\"#00cc96\",\"#19d3f3\",\"#B6E880\",\"#FECB52\",\"#636efa\",\"#00cc96\",\"#FF97FF\",\"#ab63fa\",\"#FFA15A\",\"#FF6692\",\"#B6E880\",\"#FF6692\",\"#00cc96\",\"#B6E880\",\"#FF6692\",\"#EF553B\",\"#00cc96\",\"#636efa\",\"#19d3f3\",\"#ab63fa\",\"#FF6692\",\"#FFA15A\",\"#B6E880\",\"#FF97FF\",\"#FFA15A\",\"#FF97FF\",\"#FF97FF\",\"#FF97FF\",\"#FF97FF\",\"#FF97FF\",\"#FF97FF\",\"#FF97FF\",\"#FF97FF\",\"#FF97FF\",\"#FF97FF\",\"#FF97FF\",\"#FF97FF\",\"#FF97FF\",\"#FF97FF\",\"#FF97FF\",\"#FF97FF\",\"#FF97FF\",\"#FF97FF\",\"#FF97FF\",\"#FF97FF\",\"#FF97FF\",\"#FF97FF\",\"#FF97FF\",\"#FF97FF\",\"#FF97FF\",\"#FF97FF\",\"#FF97FF\",\"#FF97FF\",\"#FF97FF\",\"#FF97FF\",\"#FF97FF\",\"#FF97FF\"]},\"name\":\"\",\"parents\":[\"Brasil\\u002fSul\\u002fSC\",\"Brasil\\u002fNorte\\u002fPA\",\"Brasil\\u002fNorte\\u002fPA\",\"Brasil\\u002fCentro-Oeste\\u002fMS\",\"Brasil\\u002fNordeste\\u002fAL\",\"Brasil\\u002fSul\\u002fPR\",\"Brasil\\u002fCentro-Oeste\\u002fTO\",\"Brasil\\u002fNordeste\\u002fCE\",\"Brasil\\u002fNorte\\u002fAP\",\"Brasil\\u002fCentro-Oeste\\u002fGO\",\"Brasil\\u002fNordeste\\u002fCE\",\"Brasil\\u002fCentro-Oeste\\u002fTO\",\"Brasil\\u002fCentro-Oeste\\u002fDF\",\"Brasil\\u002fNordeste\\u002fPI\",\"Brasil\\u002fSudeste\\u002fES\",\"Brasil\\u002fSudeste\\u002fRJ\",\"Brasil\\u002fNordeste\\u002fSE\",\"Brasil\\u002fSudeste\\u002fES\",\"Brasil\\u002fNordeste\\u002fRN\",\"Brasil\\u002fSudeste\\u002fSP\",\"Brasil\\u002fSul\\u002fSC\",\"Brasil\\u002fNordeste\\u002fRN\",\"Brasil\\u002fSul\\u002fRS\",\"Brasil\\u002fNordeste\\u002fPB\",\"Brasil\\u002fSudeste\\u002fMG\",\"Brasil\\u002fNordeste\\u002fSE\",\"Brasil\\u002fNordeste\\u002fPB\",\"Brasil\\u002fNorte\\u002fPA\",\"Brasil\\u002fCentro-Oeste\\u002fMT\",\"Brasil\\u002fNordeste\\u002fBA\",\"Brasil\\u002fNordeste\\u002fCE\",\"Brasil\\u002fSudeste\\u002fMG\",\"Brasil\\u002fNordeste\\u002fAL\",\"Brasil\\u002fCentro-Oeste\\u002fGO\",\"Brasil\\u002fCentro-Oeste\\u002fDF\",\"Brasil\\u002fNordeste\\u002fPE\",\"Brasil\\u002fSudeste\\u002fRJ\",\"Brasil\\u002fSudeste\\u002fRJ\",\"Brasil\\u002fSul\\u002fRS\",\"Brasil\\u002fNordeste\\u002fMA\",\"Brasil\\u002fNorte\\u002fAM\",\"Brasil\\u002fCentro-Oeste\\u002fDF\",\"Brasil\\u002fSul\\u002fRS\",\"Brasil\\u002fSudeste\\u002fMG\",\"Brasil\\u002fNordeste\\u002fSE\",\"Brasil\\u002fSudeste\\u002fSP\",\"Brasil\\u002fNorte\\u002fAP\",\"Brasil\\u002fNordeste\\u002fAL\",\"Brasil\\u002fNorte\\u002fAM\",\"Brasil\\u002fCentro-Oeste\\u002fMS\",\"Brasil\\u002fCentro-Oeste\\u002fGO\",\"Brasil\\u002fSudeste\\u002fRJ\",\"Brasil\\u002fCentro-Oeste\\u002fTO\",\"Brasil\\u002fCentro-Oeste\\u002fMT\",\"Brasil\\u002fNordeste\\u002fPI\",\"Brasil\\u002fCentro-Oeste\\u002fMT\",\"Brasil\\u002fNordeste\\u002fPB\",\"Brasil\\u002fNorte\\u002fAM\",\"Brasil\\u002fSudeste\\u002fSP\",\"Brasil\\u002fNordeste\\u002fPE\",\"Brasil\\u002fNordeste\\u002fMA\",\"Brasil\\u002fCentro-Oeste\\u002fMT\",\"Brasil\\u002fNordeste\\u002fMA\",\"Brasil\\u002fNordeste\\u002fAL\",\"Brasil\\u002fNordeste\\u002fPE\",\"Brasil\\u002fSul\\u002fRS\",\"Brasil\\u002fCentro-Oeste\\u002fTO\",\"Brasil\\u002fSul\\u002fSC\",\"Brasil\\u002fNorte\\u002fPA\",\"Brasil\\u002fSul\\u002fRS\",\"Brasil\\u002fNorte\\u002fAP\",\"Brasil\\u002fSul\\u002fSC\",\"Brasil\\u002fNordeste\\u002fRN\",\"Brasil\\u002fSudeste\\u002fSP\",\"Brasil\\u002fNorte\\u002fAP\",\"Brasil\\u002fCentro-Oeste\\u002fGO\",\"Brasil\\u002fNorte\\u002fAM\",\"Brasil\\u002fNordeste\\u002fSE\",\"Brasil\\u002fCentro-Oeste\\u002fDF\",\"Brasil\\u002fCentro-Oeste\\u002fMT\",\"Brasil\\u002fSul\\u002fPR\",\"Brasil\\u002fCentro-Oeste\\u002fMS\",\"Brasil\\u002fSudeste\\u002fES\",\"Brasil\\u002fNordeste\\u002fPB\",\"Brasil\\u002fNordeste\\u002fPE\",\"Brasil\\u002fNorte\\u002fAP\",\"Brasil\\u002fNordeste\\u002fBA\",\"Brasil\\u002fNordeste\\u002fMA\",\"Brasil\\u002fSudeste\\u002fRJ\",\"Brasil\\u002fSul\\u002fSC\",\"Brasil\\u002fNorte\\u002fAM\",\"Brasil\\u002fSudeste\\u002fSP\",\"Brasil\\u002fNordeste\\u002fRN\",\"Brasil\\u002fCentro-Oeste\\u002fDF\",\"Brasil\\u002fNordeste\\u002fBA\",\"Brasil\\u002fNordeste\\u002fRN\",\"Brasil\\u002fNorte\\u002fPA\",\"Brasil\\u002fSul\\u002fPR\",\"Brasil\\u002fNordeste\\u002fSE\",\"Brasil\\u002fNordeste\\u002fBA\",\"Brasil\\u002fNordeste\\u002fPI\",\"Brasil\\u002fSul\\u002fPR\",\"Brasil\\u002fNordeste\\u002fAL\",\"Brasil\\u002fSudeste\\u002fES\",\"Brasil\\u002fNorte\\u002fAC\",\"Brasil\\u002fNorte\\u002fAC\",\"Brasil\\u002fCentro-Oeste\\u002fGO\",\"Brasil\\u002fNordeste\\u002fCE\",\"Brasil\\u002fCentro-Oeste\\u002fMS\",\"Brasil\\u002fNordeste\\u002fPE\",\"Brasil\\u002fSudeste\\u002fES\",\"Brasil\\u002fSudeste\\u002fMG\",\"Brasil\\u002fCentro-Oeste\\u002fTO\",\"Brasil\\u002fNordeste\\u002fMA\",\"Brasil\\u002fNordeste\\u002fPI\",\"Brasil\\u002fNordeste\\u002fPB\",\"Brasil\\u002fSudeste\\u002fMG\",\"Brasil\\u002fSul\\u002fPR\",\"Brasil\\u002fCentro-Oeste\\u002fMS\",\"Brasil\\u002fNordeste\\u002fCE\",\"Brasil\\u002fNordeste\\u002fBA\",\"Brasil\\u002fNorte\\u002fRO\",\"Brasil\\u002fNordeste\\u002fPI\",\"Brasil\\u002fNorte\",\"Brasil\\u002fNordeste\",\"Brasil\\u002fNorte\",\"Brasil\\u002fNorte\",\"Brasil\\u002fNordeste\",\"Brasil\\u002fNordeste\",\"Brasil\\u002fCentro-Oeste\",\"Brasil\\u002fSudeste\",\"Brasil\\u002fCentro-Oeste\",\"Brasil\\u002fNordeste\",\"Brasil\\u002fSudeste\",\"Brasil\\u002fCentro-Oeste\",\"Brasil\\u002fCentro-Oeste\",\"Brasil\\u002fNorte\",\"Brasil\\u002fNordeste\",\"Brasil\\u002fNordeste\",\"Brasil\\u002fNordeste\",\"Brasil\\u002fSul\",\"Brasil\\u002fSudeste\",\"Brasil\\u002fNordeste\",\"Brasil\\u002fNorte\",\"Brasil\\u002fSul\",\"Brasil\\u002fSul\",\"Brasil\\u002fNordeste\",\"Brasil\\u002fSudeste\",\"Brasil\\u002fCentro-Oeste\",\"Brasil\",\"Brasil\",\"Brasil\",\"Brasil\",\"Brasil\",\"\"],\"values\":[9,7,7,7,23,25,3,16,1,9,10,3,7,4,3,18,8,4,6,19,8,16,22,24,61,29,49,7,6,4,10,42,10,7,3,17,19,18,22,30,3,5,27,123,13,11,1,17,2,7,6,19,1,3,3,4,28,1,10,34,9,3,12,10,25,41,3,9,19,33,2,18,13,12,1,5,1,9,23,3,18,12,8,248,61,1,22,9,22,11,6,18,9,12,9,17,6,15,8,13,5,15,19,6,1,1,10,20,7,22,3,65,3,11,4,33,124,15,18,12,4,1,9,2,79,13,6,52,68,50,24,37,71,415,51,19,46,382,159,25,88,96,61,1,145,55,67,70,13,170,964,68,605,288,2095],\"type\":\"treemap\"}],                        {\"template\":{\"data\":{\"histogram2dcontour\":[{\"type\":\"histogram2dcontour\",\"colorbar\":{\"outlinewidth\":0,\"ticks\":\"\"},\"colorscale\":[[0.0,\"#0d0887\"],[0.1111111111111111,\"#46039f\"],[0.2222222222222222,\"#7201a8\"],[0.3333333333333333,\"#9c179e\"],[0.4444444444444444,\"#bd3786\"],[0.5555555555555556,\"#d8576b\"],[0.6666666666666666,\"#ed7953\"],[0.7777777777777778,\"#fb9f3a\"],[0.8888888888888888,\"#fdca26\"],[1.0,\"#f0f921\"]]}],\"choropleth\":[{\"type\":\"choropleth\",\"colorbar\":{\"outlinewidth\":0,\"ticks\":\"\"}}],\"histogram2d\":[{\"type\":\"histogram2d\",\"colorbar\":{\"outlinewidth\":0,\"ticks\":\"\"},\"colorscale\":[[0.0,\"#0d0887\"],[0.1111111111111111,\"#46039f\"],[0.2222222222222222,\"#7201a8\"],[0.3333333333333333,\"#9c179e\"],[0.4444444444444444,\"#bd3786\"],[0.5555555555555556,\"#d8576b\"],[0.6666666666666666,\"#ed7953\"],[0.7777777777777778,\"#fb9f3a\"],[0.8888888888888888,\"#fdca26\"],[1.0,\"#f0f921\"]]}],\"heatmap\":[{\"type\":\"heatmap\",\"colorbar\":{\"outlinewidth\":0,\"ticks\":\"\"},\"colorscale\":[[0.0,\"#0d0887\"],[0.1111111111111111,\"#46039f\"],[0.2222222222222222,\"#7201a8\"],[0.3333333333333333,\"#9c179e\"],[0.4444444444444444,\"#bd3786\"],[0.5555555555555556,\"#d8576b\"],[0.6666666666666666,\"#ed7953\"],[0.7777777777777778,\"#fb9f3a\"],[0.8888888888888888,\"#fdca26\"],[1.0,\"#f0f921\"]]}],\"heatmapgl\":[{\"type\":\"heatmapgl\",\"colorbar\":{\"outlinewidth\":0,\"ticks\":\"\"},\"colorscale\":[[0.0,\"#0d0887\"],[0.1111111111111111,\"#46039f\"],[0.2222222222222222,\"#7201a8\"],[0.3333333333333333,\"#9c179e\"],[0.4444444444444444,\"#bd3786\"],[0.5555555555555556,\"#d8576b\"],[0.6666666666666666,\"#ed7953\"],[0.7777777777777778,\"#fb9f3a\"],[0.8888888888888888,\"#fdca26\"],[1.0,\"#f0f921\"]]}],\"contourcarpet\":[{\"type\":\"contourcarpet\",\"colorbar\":{\"outlinewidth\":0,\"ticks\":\"\"}}],\"contour\":[{\"type\":\"contour\",\"colorbar\":{\"outlinewidth\":0,\"ticks\":\"\"},\"colorscale\":[[0.0,\"#0d0887\"],[0.1111111111111111,\"#46039f\"],[0.2222222222222222,\"#7201a8\"],[0.3333333333333333,\"#9c179e\"],[0.4444444444444444,\"#bd3786\"],[0.5555555555555556,\"#d8576b\"],[0.6666666666666666,\"#ed7953\"],[0.7777777777777778,\"#fb9f3a\"],[0.8888888888888888,\"#fdca26\"],[1.0,\"#f0f921\"]]}],\"surface\":[{\"type\":\"surface\",\"colorbar\":{\"outlinewidth\":0,\"ticks\":\"\"},\"colorscale\":[[0.0,\"#0d0887\"],[0.1111111111111111,\"#46039f\"],[0.2222222222222222,\"#7201a8\"],[0.3333333333333333,\"#9c179e\"],[0.4444444444444444,\"#bd3786\"],[0.5555555555555556,\"#d8576b\"],[0.6666666666666666,\"#ed7953\"],[0.7777777777777778,\"#fb9f3a\"],[0.8888888888888888,\"#fdca26\"],[1.0,\"#f0f921\"]]}],\"mesh3d\":[{\"type\":\"mesh3d\",\"colorbar\":{\"outlinewidth\":0,\"ticks\":\"\"}}],\"scatter\":[{\"fillpattern\":{\"fillmode\":\"overlay\",\"size\":10,\"solidity\":0.2},\"type\":\"scatter\"}],\"parcoords\":[{\"type\":\"parcoords\",\"line\":{\"colorbar\":{\"outlinewidth\":0,\"ticks\":\"\"}}}],\"scatterpolargl\":[{\"type\":\"scatterpolargl\",\"marker\":{\"colorbar\":{\"outlinewidth\":0,\"ticks\":\"\"}}}],\"bar\":[{\"error_x\":{\"color\":\"#2a3f5f\"},\"error_y\":{\"color\":\"#2a3f5f\"},\"marker\":{\"line\":{\"color\":\"#E5ECF6\",\"width\":0.5},\"pattern\":{\"fillmode\":\"overlay\",\"size\":10,\"solidity\":0.2}},\"type\":\"bar\"}],\"scattergeo\":[{\"type\":\"scattergeo\",\"marker\":{\"colorbar\":{\"outlinewidth\":0,\"ticks\":\"\"}}}],\"scatterpolar\":[{\"type\":\"scatterpolar\",\"marker\":{\"colorbar\":{\"outlinewidth\":0,\"ticks\":\"\"}}}],\"histogram\":[{\"marker\":{\"pattern\":{\"fillmode\":\"overlay\",\"size\":10,\"solidity\":0.2}},\"type\":\"histogram\"}],\"scattergl\":[{\"type\":\"scattergl\",\"marker\":{\"colorbar\":{\"outlinewidth\":0,\"ticks\":\"\"}}}],\"scatter3d\":[{\"type\":\"scatter3d\",\"line\":{\"colorbar\":{\"outlinewidth\":0,\"ticks\":\"\"}},\"marker\":{\"colorbar\":{\"outlinewidth\":0,\"ticks\":\"\"}}}],\"scattermapbox\":[{\"type\":\"scattermapbox\",\"marker\":{\"colorbar\":{\"outlinewidth\":0,\"ticks\":\"\"}}}],\"scatterternary\":[{\"type\":\"scatterternary\",\"marker\":{\"colorbar\":{\"outlinewidth\":0,\"ticks\":\"\"}}}],\"scattercarpet\":[{\"type\":\"scattercarpet\",\"marker\":{\"colorbar\":{\"outlinewidth\":0,\"ticks\":\"\"}}}],\"carpet\":[{\"aaxis\":{\"endlinecolor\":\"#2a3f5f\",\"gridcolor\":\"white\",\"linecolor\":\"white\",\"minorgridcolor\":\"white\",\"startlinecolor\":\"#2a3f5f\"},\"baxis\":{\"endlinecolor\":\"#2a3f5f\",\"gridcolor\":\"white\",\"linecolor\":\"white\",\"minorgridcolor\":\"white\",\"startlinecolor\":\"#2a3f5f\"},\"type\":\"carpet\"}],\"table\":[{\"cells\":{\"fill\":{\"color\":\"#EBF0F8\"},\"line\":{\"color\":\"white\"}},\"header\":{\"fill\":{\"color\":\"#C8D4E3\"},\"line\":{\"color\":\"white\"}},\"type\":\"table\"}],\"barpolar\":[{\"marker\":{\"line\":{\"color\":\"#E5ECF6\",\"width\":0.5},\"pattern\":{\"fillmode\":\"overlay\",\"size\":10,\"solidity\":0.2}},\"type\":\"barpolar\"}],\"pie\":[{\"automargin\":true,\"type\":\"pie\"}]},\"layout\":{\"autotypenumbers\":\"strict\",\"colorway\":[\"#636efa\",\"#EF553B\",\"#00cc96\",\"#ab63fa\",\"#FFA15A\",\"#19d3f3\",\"#FF6692\",\"#B6E880\",\"#FF97FF\",\"#FECB52\"],\"font\":{\"color\":\"#2a3f5f\"},\"hovermode\":\"closest\",\"hoverlabel\":{\"align\":\"left\"},\"paper_bgcolor\":\"white\",\"plot_bgcolor\":\"#E5ECF6\",\"polar\":{\"bgcolor\":\"#E5ECF6\",\"angularaxis\":{\"gridcolor\":\"white\",\"linecolor\":\"white\",\"ticks\":\"\"},\"radialaxis\":{\"gridcolor\":\"white\",\"linecolor\":\"white\",\"ticks\":\"\"}},\"ternary\":{\"bgcolor\":\"#E5ECF6\",\"aaxis\":{\"gridcolor\":\"white\",\"linecolor\":\"white\",\"ticks\":\"\"},\"baxis\":{\"gridcolor\":\"white\",\"linecolor\":\"white\",\"ticks\":\"\"},\"caxis\":{\"gridcolor\":\"white\",\"linecolor\":\"white\",\"ticks\":\"\"}},\"coloraxis\":{\"colorbar\":{\"outlinewidth\":0,\"ticks\":\"\"}},\"colorscale\":{\"sequential\":[[0.0,\"#0d0887\"],[0.1111111111111111,\"#46039f\"],[0.2222222222222222,\"#7201a8\"],[0.3333333333333333,\"#9c179e\"],[0.4444444444444444,\"#bd3786\"],[0.5555555555555556,\"#d8576b\"],[0.6666666666666666,\"#ed7953\"],[0.7777777777777778,\"#fb9f3a\"],[0.8888888888888888,\"#fdca26\"],[1.0,\"#f0f921\"]],\"sequentialminus\":[[0.0,\"#0d0887\"],[0.1111111111111111,\"#46039f\"],[0.2222222222222222,\"#7201a8\"],[0.3333333333333333,\"#9c179e\"],[0.4444444444444444,\"#bd3786\"],[0.5555555555555556,\"#d8576b\"],[0.6666666666666666,\"#ed7953\"],[0.7777777777777778,\"#fb9f3a\"],[0.8888888888888888,\"#fdca26\"],[1.0,\"#f0f921\"]],\"diverging\":[[0,\"#8e0152\"],[0.1,\"#c51b7d\"],[0.2,\"#de77ae\"],[0.3,\"#f1b6da\"],[0.4,\"#fde0ef\"],[0.5,\"#f7f7f7\"],[0.6,\"#e6f5d0\"],[0.7,\"#b8e186\"],[0.8,\"#7fbc41\"],[0.9,\"#4d9221\"],[1,\"#276419\"]]},\"xaxis\":{\"gridcolor\":\"white\",\"linecolor\":\"white\",\"ticks\":\"\",\"title\":{\"standoff\":15},\"zerolinecolor\":\"white\",\"automargin\":true,\"zerolinewidth\":2},\"yaxis\":{\"gridcolor\":\"white\",\"linecolor\":\"white\",\"ticks\":\"\",\"title\":{\"standoff\":15},\"zerolinecolor\":\"white\",\"automargin\":true,\"zerolinewidth\":2},\"scene\":{\"xaxis\":{\"backgroundcolor\":\"#E5ECF6\",\"gridcolor\":\"white\",\"linecolor\":\"white\",\"showbackground\":true,\"ticks\":\"\",\"zerolinecolor\":\"white\",\"gridwidth\":2},\"yaxis\":{\"backgroundcolor\":\"#E5ECF6\",\"gridcolor\":\"white\",\"linecolor\":\"white\",\"showbackground\":true,\"ticks\":\"\",\"zerolinecolor\":\"white\",\"gridwidth\":2},\"zaxis\":{\"backgroundcolor\":\"#E5ECF6\",\"gridcolor\":\"white\",\"linecolor\":\"white\",\"showbackground\":true,\"ticks\":\"\",\"zerolinecolor\":\"white\",\"gridwidth\":2}},\"shapedefaults\":{\"line\":{\"color\":\"#2a3f5f\"}},\"annotationdefaults\":{\"arrowcolor\":\"#2a3f5f\",\"arrowhead\":0,\"arrowwidth\":1},\"geo\":{\"bgcolor\":\"white\",\"landcolor\":\"#E5ECF6\",\"subunitcolor\":\"white\",\"showland\":true,\"showlakes\":true,\"lakecolor\":\"white\"},\"title\":{\"x\":0.05},\"mapbox\":{\"style\":\"light\"}}},\"legend\":{\"tracegroupgap\":0},\"margin\":{\"t\":50,\"l\":25,\"r\":25,\"b\":25}},                        {\"responsive\": true}                    ).then(function(){\n",
       "                            \n",
       "var gd = document.getElementById('76518302-f81a-4e5f-b556-f9cbfb076dc2');\n",
       "var x = new MutationObserver(function (mutations, observer) {{\n",
       "        var display = window.getComputedStyle(gd).display;\n",
       "        if (!display || display === 'none') {{\n",
       "            console.log([gd, 'removed!']);\n",
       "            Plotly.purge(gd);\n",
       "            observer.disconnect();\n",
       "        }}\n",
       "}});\n",
       "\n",
       "// Listen for the removal of the full notebook cells\n",
       "var notebookContainer = gd.closest('#notebook-container');\n",
       "if (notebookContainer) {{\n",
       "    x.observe(notebookContainer, {childList: true});\n",
       "}}\n",
       "\n",
       "// Listen for the clearing of the current output cell\n",
       "var outputEl = gd.closest('.output');\n",
       "if (outputEl) {{\n",
       "    x.observe(outputEl, {childList: true});\n",
       "}}\n",
       "\n",
       "                        })                };                });            </script>        </div>"
      ]
     },
     "metadata": {},
     "output_type": "display_data"
    }
   ],
   "source": [
    "import plotly.express as px\n",
    "\n",
    "grouped_regiao_sorted = grouped_regiao.sort_values(by=['titular_uf1', 'contagem'], ascending=[True, False])\n",
    "\n",
    "\n",
    "top_5_per_state = grouped_regiao_sorted.groupby('titular_uf1').head(5).reset_index()\n",
    "\n",
    "\n",
    "fig = px.treemap(top_5_per_state, \n",
    "                 path=[px.Constant(\"Brasil\"),'Regiao', 'titular_uf1', 'Area'], \n",
    "                 values='contagem', \n",
    "                 color='Area',\n",
    "                 color_continuous_scale='RdBu')\n",
    "\n",
    "fig.update_layout(margin=dict(t=50, l=25, r=25, b=25))\n",
    "fig.write_image('streamlit/img/imagem_area_tecnologica_regiao.png')\n",
    "\n",
    "fig.show()\n"
   ]
  },
  {
   "cell_type": "markdown",
   "id": "77710f07-58a8-4fa7-baa0-24d1a10492b7",
   "metadata": {},
   "source": [
    "### 1. Institutos Federais"
   ]
  },
  {
   "cell_type": "code",
   "execution_count": 31,
   "id": "4ea37f7e-c4d2-4210-878e-bac51e5bf12e",
   "metadata": {
    "collapsed": true,
    "jupyter": {
     "outputs_hidden": true
    },
    "tags": []
   },
   "outputs": [
    {
     "data": {
      "text/html": [
       "<div>\n",
       "<style scoped>\n",
       "    .dataframe tbody tr th:only-of-type {\n",
       "        vertical-align: middle;\n",
       "    }\n",
       "\n",
       "    .dataframe tbody tr th {\n",
       "        vertical-align: top;\n",
       "    }\n",
       "\n",
       "    .dataframe thead th {\n",
       "        text-align: right;\n",
       "    }\n",
       "</style>\n",
       "<table border=\"1\" class=\"dataframe\">\n",
       "  <thead>\n",
       "    <tr style=\"text-align: right;\">\n",
       "      <th></th>\n",
       "      <th></th>\n",
       "      <th></th>\n",
       "      <th>contagem</th>\n",
       "      <th>porcentagem</th>\n",
       "    </tr>\n",
       "    <tr>\n",
       "      <th>Regiao</th>\n",
       "      <th>titular_uf1</th>\n",
       "      <th>Area</th>\n",
       "      <th></th>\n",
       "      <th></th>\n",
       "    </tr>\n",
       "  </thead>\n",
       "  <tbody>\n",
       "    <tr>\n",
       "      <th rowspan=\"5\" valign=\"top\">Centro-Oeste</th>\n",
       "      <th rowspan=\"2\" valign=\"top\">DF</th>\n",
       "      <th>Biotecnologia</th>\n",
       "      <td>1</td>\n",
       "      <td>50.000000</td>\n",
       "    </tr>\n",
       "    <tr>\n",
       "      <th>Medição</th>\n",
       "      <td>1</td>\n",
       "      <td>50.000000</td>\n",
       "    </tr>\n",
       "    <tr>\n",
       "      <th rowspan=\"3\" valign=\"top\">GO</th>\n",
       "      <th>Controle</th>\n",
       "      <td>1</td>\n",
       "      <td>4.000000</td>\n",
       "    </tr>\n",
       "    <tr>\n",
       "      <th>Engenharia química</th>\n",
       "      <td>3</td>\n",
       "      <td>12.000000</td>\n",
       "    </tr>\n",
       "    <tr>\n",
       "      <th>Materiais, metalurgia</th>\n",
       "      <td>1</td>\n",
       "      <td>4.000000</td>\n",
       "    </tr>\n",
       "    <tr>\n",
       "      <th>...</th>\n",
       "      <th>...</th>\n",
       "      <th>...</th>\n",
       "      <td>...</td>\n",
       "      <td>...</td>\n",
       "    </tr>\n",
       "    <tr>\n",
       "      <th rowspan=\"5\" valign=\"top\">Sul</th>\n",
       "      <th rowspan=\"5\" valign=\"top\">SC</th>\n",
       "      <th>Química de materiais básicos</th>\n",
       "      <td>4</td>\n",
       "      <td>9.302326</td>\n",
       "    </tr>\n",
       "    <tr>\n",
       "      <th>Química fina orgânica</th>\n",
       "      <td>2</td>\n",
       "      <td>4.651163</td>\n",
       "    </tr>\n",
       "    <tr>\n",
       "      <th>Tecnologia Ambiental</th>\n",
       "      <td>1</td>\n",
       "      <td>2.325581</td>\n",
       "    </tr>\n",
       "    <tr>\n",
       "      <th>Tecnologia computacional</th>\n",
       "      <td>3</td>\n",
       "      <td>6.976744</td>\n",
       "    </tr>\n",
       "    <tr>\n",
       "      <th>Tecnologia médica</th>\n",
       "      <td>3</td>\n",
       "      <td>6.976744</td>\n",
       "    </tr>\n",
       "  </tbody>\n",
       "</table>\n",
       "<p>242 rows × 2 columns</p>\n",
       "</div>"
      ],
      "text/plain": [
       "                                                       contagem  porcentagem\n",
       "Regiao       titular_uf1 Area                                               \n",
       "Centro-Oeste DF          Biotecnologia                        1    50.000000\n",
       "                         Medição                              1    50.000000\n",
       "             GO          Controle                             1     4.000000\n",
       "                         Engenharia química                   3    12.000000\n",
       "                         Materiais, metalurgia                1     4.000000\n",
       "...                                                         ...          ...\n",
       "Sul          SC          Química de materiais básicos         4     9.302326\n",
       "                         Química fina orgânica                2     4.651163\n",
       "                         Tecnologia Ambiental                 1     2.325581\n",
       "                         Tecnologia computacional             3     6.976744\n",
       "                         Tecnologia médica                    3     6.976744\n",
       "\n",
       "[242 rows x 2 columns]"
      ]
     },
     "execution_count": 31,
     "metadata": {},
     "output_type": "execute_result"
    }
   ],
   "source": [
    "grouped_regiao_IF = data_analise_IF.groupby(['Regiao', 'titular_uf1', 'Area']).agg(contagem=('Area', 'count'))\n",
    "\n",
    "total_por_estado = grouped_regiao_IF.groupby('titular_uf1')['contagem'].transform('sum')\n",
    "\n",
    "\n",
    "grouped_regiao_IF['porcentagem'] = (grouped_regiao_IF['contagem'] / total_por_estado) * 100\n",
    "\n",
    "\n",
    "grouped_regiao_IF"
   ]
  },
  {
   "cell_type": "code",
   "execution_count": 28,
   "id": "bd1a703a-dcc8-4648-a0e9-8ff115589aa0",
   "metadata": {
    "tags": []
   },
   "outputs": [
    {
     "data": {
      "application/vnd.plotly.v1+json": {
       "config": {
        "plotlyServerURL": "https://plot.ly"
       },
       "data": [
        {
         "branchvalues": "total",
         "customdata": [
          [
           "Medição"
          ],
          [
           "Medição"
          ],
          [
           "Biotecnologia"
          ],
          [
           "Outras máquinas especiais"
          ],
          [
           "Tecnologia médica"
          ],
          [
           "Química fina orgânica"
          ],
          [
           "Controle"
          ],
          [
           "Elementos mecânicos"
          ],
          [
           "Outras máquinas especiais"
          ],
          [
           "Análise de materiais biológicos"
          ],
          [
           "Produtos farmacêuticos"
          ],
          [
           "Química Alimentar"
          ],
          [
           "Engenharia química"
          ],
          [
           "Controle"
          ],
          [
           "Química Alimentar"
          ],
          [
           "Medição"
          ],
          [
           "Química de materiais básicos"
          ],
          [
           "Tecnologia médica"
          ],
          [
           "Medição"
          ],
          [
           "Produtos farmacêuticos"
          ],
          [
           "Medição"
          ],
          [
           "Controle"
          ],
          [
           "Materiais, metalurgia"
          ],
          [
           "Tecnologia médica"
          ],
          [
           "Tecnologia médica"
          ],
          [
           "Manuseio"
          ],
          [
           "Controle"
          ],
          [
           "Química macromolecular, polímeros"
          ],
          [
           "Química de materiais básicos"
          ],
          [
           "Química de materiais básicos"
          ],
          [
           "Outros bens de consumo"
          ],
          [
           "Engenharia química"
          ],
          [
           "Química Alimentar"
          ],
          [
           "Móveis, jogos"
          ],
          [
           "Tecnologia médica"
          ],
          [
           "Medição"
          ],
          [
           "Biotecnologia"
          ],
          [
           "Controle"
          ],
          [
           "Química de materiais básicos"
          ],
          [
           "Outras máquinas especiais"
          ],
          [
           "Máquinas têxteis e de papel"
          ],
          [
           "Química de materiais básicos"
          ],
          [
           "Móveis, jogos"
          ],
          [
           "Engenharia química"
          ],
          [
           "Materiais, metalurgia"
          ],
          [
           "Medição"
          ],
          [
           "Engenharia Civil"
          ],
          [
           "Materiais, metalurgia"
          ],
          [
           "Outras máquinas especiais"
          ],
          [
           "Química Alimentar"
          ],
          [
           "Química Alimentar"
          ],
          [
           "Móveis, jogos"
          ],
          [
           "Outras máquinas especiais"
          ],
          [
           "Biotecnologia"
          ],
          [
           "Química Alimentar"
          ],
          [
           "Química de materiais básicos"
          ],
          [
           "Medição"
          ],
          [
           "Controle"
          ],
          [
           "Engenharia química"
          ],
          [
           "Produtos farmacêuticos"
          ],
          [
           "Engenharia química"
          ],
          [
           "Química Alimentar"
          ],
          [
           "Química de materiais básicos"
          ],
          [
           "Tecnologia médica"
          ],
          [
           "Outras máquinas especiais"
          ],
          [
           "Biotecnologia"
          ],
          [
           "Materiais, metalurgia"
          ],
          [
           "Biotecnologia"
          ],
          [
           "Química Alimentar"
          ],
          [
           "Química fina orgânica"
          ],
          [
           "Materiais, metalurgia"
          ],
          [
           "Máquinas elétricas, aparelhos, energia"
          ],
          [
           "Biotecnologia"
          ],
          [
           "Química Alimentar"
          ],
          [
           "Móveis, jogos"
          ],
          [
           "Biotecnologia"
          ],
          [
           "Química Alimentar"
          ],
          [
           "Controle"
          ],
          [
           "Comunicação digital"
          ],
          [
           "Produtos farmacêuticos"
          ],
          [
           "Controle"
          ],
          [
           "Engenharia química"
          ],
          [
           "Outras máquinas especiais"
          ],
          [
           "Química de materiais básicos"
          ],
          [
           "Medição"
          ],
          [
           "Transporte"
          ],
          [
           "Medição"
          ],
          [
           "Engenharia Civil"
          ],
          [
           "Máquinas elétricas, aparelhos, energia"
          ],
          [
           "Materiais, metalurgia"
          ],
          [
           "Outras máquinas especiais"
          ],
          [
           "Manuseio"
          ],
          [
           "Materiais, metalurgia"
          ],
          [
           "Elementos mecânicos"
          ],
          [
           "Química fina orgânica"
          ],
          [
           "Processos e aparelhos térmicos"
          ],
          [
           "Química Alimentar"
          ],
          [
           "Química macromolecular, polímeros"
          ],
          [
           "Controle"
          ],
          [
           "Tecnologia médica"
          ],
          [
           "Materiais, metalurgia"
          ],
          [
           "Produtos farmacêuticos"
          ],
          [
           "Química Alimentar"
          ],
          [
           "Outras máquinas especiais"
          ],
          [
           "Química de materiais básicos"
          ],
          [
           "Controle"
          ],
          [
           "(?)"
          ],
          [
           "(?)"
          ],
          [
           "Química Alimentar"
          ],
          [
           "(?)"
          ],
          [
           "(?)"
          ],
          [
           "(?)"
          ],
          [
           "(?)"
          ],
          [
           "(?)"
          ],
          [
           "(?)"
          ],
          [
           "(?)"
          ],
          [
           "(?)"
          ],
          [
           "(?)"
          ],
          [
           "(?)"
          ],
          [
           "(?)"
          ],
          [
           "(?)"
          ],
          [
           "(?)"
          ],
          [
           "(?)"
          ],
          [
           "(?)"
          ],
          [
           "(?)"
          ],
          [
           "Controle"
          ],
          [
           "(?)"
          ],
          [
           "(?)"
          ],
          [
           "(?)"
          ],
          [
           "(?)"
          ],
          [
           "(?)"
          ],
          [
           "(?)"
          ],
          [
           "(?)"
          ],
          [
           "(?)"
          ],
          [
           "(?)"
          ],
          [
           "(?)"
          ],
          [
           "(?)"
          ]
         ],
         "domain": {
          "x": [
           0,
           1
          ],
          "y": [
           0,
           1
          ]
         },
         "hovertemplate": "labels=%{label}<br>contagem=%{value}<br>parent=%{parent}<br>id=%{id}<br>Area=%{customdata[0]}<extra></extra>",
         "ids": [
          "Brasil/Nordeste/PB/Medição",
          "Brasil/Centro-Oeste/DF/Medição",
          "Brasil/Nordeste/BA/Biotecnologia",
          "Brasil/Sudeste/ES/Outras máquinas especiais",
          "Brasil/Nordeste/PI/Tecnologia médica",
          "Brasil/Nordeste/MA/Química fina orgânica",
          "Brasil/Sudeste/ES/Controle",
          "Brasil/Sul/PR/Elementos mecânicos",
          "Brasil/Sul/PR/Outras máquinas especiais",
          "Brasil/Centro-Oeste/MT/Análise de materiais biológicos",
          "Brasil/Nordeste/MA/Produtos farmacêuticos",
          "Brasil/Nordeste/BA/Química Alimentar",
          "Brasil/Centro-Oeste/GO/Engenharia química",
          "Brasil/Norte/RO/Controle",
          "Brasil/Sudeste/RJ/Química Alimentar",
          "Brasil/Nordeste/MA/Medição",
          "Brasil/Nordeste/PE/Química de materiais básicos",
          "Brasil/Sul/PR/Tecnologia médica",
          "Brasil/Nordeste/PE/Medição",
          "Brasil/Nordeste/SE/Produtos farmacêuticos",
          "Brasil/Sul/RS/Medição",
          "Brasil/Centro-Oeste/MS/Controle",
          "Brasil/Centro-Oeste/TO/Materiais, metalurgia",
          "Brasil/Nordeste/SE/Tecnologia médica",
          "Brasil/Nordeste/RN/Tecnologia médica",
          "Brasil/Sul/RS/Manuseio",
          "Brasil/Sul/SC/Controle",
          "Brasil/Sudeste/RJ/Química macromolecular, polímeros",
          "Brasil/Sul/SC/Química de materiais básicos",
          "Brasil/Centro-Oeste/GO/Química de materiais básicos",
          "Brasil/Nordeste/PE/Outros bens de consumo",
          "Brasil/Nordeste/CE/Engenharia química",
          "Brasil/Centro-Oeste/GO/Química Alimentar",
          "Brasil/Sul/RS/Móveis, jogos",
          "Brasil/Sudeste/SP/Tecnologia médica",
          "Brasil/Sul/SC/Medição",
          "Brasil/Nordeste/AL/Biotecnologia",
          "Brasil/Sul/PR/Controle",
          "Brasil/Centro-Oeste/TO/Química de materiais básicos",
          "Brasil/Centro-Oeste/GO/Outras máquinas especiais",
          "Brasil/Nordeste/RN/Máquinas têxteis e de papel",
          "Brasil/Sudeste/MG/Química de materiais básicos",
          "Brasil/Nordeste/PB/Móveis, jogos",
          "Brasil/Sudeste/MG/Engenharia química",
          "Brasil/Nordeste/AL/Materiais, metalurgia",
          "Brasil/Sudeste/ES/Medição",
          "Brasil/Nordeste/BA/Engenharia Civil",
          "Brasil/Nordeste/PI/Materiais, metalurgia",
          "Brasil/Nordeste/CE/Outras máquinas especiais",
          "Brasil/Nordeste/PB/Química Alimentar",
          "Brasil/Nordeste/PI/Química Alimentar",
          "Brasil/Nordeste/PI/Móveis, jogos",
          "Brasil/Sul/SC/Outras máquinas especiais",
          "Brasil/Centro-Oeste/DF/Biotecnologia",
          "Brasil/Nordeste/RN/Química Alimentar",
          "Brasil/Centro-Oeste/MT/Química de materiais básicos",
          "Brasil/Sudeste/MG/Medição",
          "Brasil/Sudeste/SP/Controle",
          "Brasil/Nordeste/SE/Engenharia química",
          "Brasil/Sudeste/MG/Produtos farmacêuticos",
          "Brasil/Sudeste/SP/Engenharia química",
          "Brasil/Norte/AP/Química Alimentar",
          "Brasil/Nordeste/MA/Química de materiais básicos",
          "Brasil/Nordeste/BA/Tecnologia médica",
          "Brasil/Sudeste/RJ/Outras máquinas especiais",
          "Brasil/Sudeste/SP/Biotecnologia",
          "Brasil/Nordeste/RN/Materiais, metalurgia",
          "Brasil/Sudeste/MG/Biotecnologia",
          "Brasil/Nordeste/CE/Química Alimentar",
          "Brasil/Nordeste/CE/Química fina orgânica",
          "Brasil/Norte/PA/Materiais, metalurgia",
          "Brasil/Nordeste/PB/Máquinas elétricas, aparelhos, energia",
          "Brasil/Nordeste/PE/Biotecnologia",
          "Brasil/Norte/PA/Química Alimentar",
          "Brasil/Nordeste/AL/Móveis, jogos",
          "Brasil/Nordeste/SE/Biotecnologia",
          "Brasil/Nordeste/AL/Química Alimentar",
          "Brasil/Sudeste/RJ/Controle",
          "Brasil/Nordeste/PE/Comunicação digital",
          "Brasil/Nordeste/AL/Produtos farmacêuticos",
          "Brasil/Nordeste/CE/Controle",
          "Brasil/Centro-Oeste/TO/Engenharia química",
          "Brasil/Sudeste/SP/Outras máquinas especiais",
          "Brasil/Norte/PA/Química de materiais básicos",
          "Brasil/Norte/PA/Medição",
          "Brasil/Sul/RS/Transporte",
          "Brasil/Centro-Oeste/GO/Medição",
          "Brasil/Centro-Oeste/MT/Engenharia Civil",
          "Brasil/Nordeste/RN/Máquinas elétricas, aparelhos, energia",
          "Brasil/Nordeste/BA/Materiais, metalurgia",
          "Brasil/Centro-Oeste/MS/Outras máquinas especiais",
          "Brasil/Sul/SC/Manuseio",
          "Brasil/Nordeste/PB/Materiais, metalurgia",
          "Brasil/Centro-Oeste/MT/Elementos mecânicos",
          "Brasil/Nordeste/SE/Química fina orgânica",
          "Brasil/Norte/AM/Processos e aparelhos térmicos",
          "Brasil/Norte/AM/Química Alimentar",
          "Brasil/Nordeste/PI/Química macromolecular, polímeros",
          "Brasil/Norte/AC/Controle",
          "Brasil/Nordeste/MA/Tecnologia médica",
          "Brasil/Sudeste/ES/Materiais, metalurgia",
          "Brasil/Sudeste/RJ/Produtos farmacêuticos",
          "Brasil/Sul/PR/Química Alimentar",
          "Brasil/Sul/RS/Outras máquinas especiais",
          "Brasil/Sudeste/ES/Química de materiais básicos",
          "Brasil/Norte/AC",
          "Brasil/Nordeste/AL",
          "Brasil/Norte/AM",
          "Brasil/Norte/AP",
          "Brasil/Nordeste/BA",
          "Brasil/Nordeste/CE",
          "Brasil/Centro-Oeste/DF",
          "Brasil/Sudeste/ES",
          "Brasil/Centro-Oeste/GO",
          "Brasil/Nordeste/MA",
          "Brasil/Sudeste/MG",
          "Brasil/Centro-Oeste/MS",
          "Brasil/Centro-Oeste/MT",
          "Brasil/Norte/PA",
          "Brasil/Nordeste/PB",
          "Brasil/Nordeste/PE",
          "Brasil/Nordeste/PI",
          "Brasil/Sul/PR",
          "Brasil/Sudeste/RJ",
          "Brasil/Nordeste/RN",
          "Brasil/Norte/RO",
          "Brasil/Sul/RS",
          "Brasil/Sul/SC",
          "Brasil/Nordeste/SE",
          "Brasil/Sudeste/SP",
          "Brasil/Centro-Oeste/TO",
          "Brasil/Centro-Oeste",
          "Brasil/Nordeste",
          "Brasil/Norte",
          "Brasil/Sudeste",
          "Brasil/Sul",
          "Brasil"
         ],
         "labels": [
          "Medição",
          "Medição",
          "Biotecnologia",
          "Outras máquinas especiais",
          "Tecnologia médica",
          "Química fina orgânica",
          "Controle",
          "Elementos mecânicos",
          "Outras máquinas especiais",
          "Análise de materiais biológicos",
          "Produtos farmacêuticos",
          "Química Alimentar",
          "Engenharia química",
          "Controle",
          "Química Alimentar",
          "Medição",
          "Química de materiais básicos",
          "Tecnologia médica",
          "Medição",
          "Produtos farmacêuticos",
          "Medição",
          "Controle",
          "Materiais, metalurgia",
          "Tecnologia médica",
          "Tecnologia médica",
          "Manuseio",
          "Controle",
          "Química macromolecular, polímeros",
          "Química de materiais básicos",
          "Química de materiais básicos",
          "Outros bens de consumo",
          "Engenharia química",
          "Química Alimentar",
          "Móveis, jogos",
          "Tecnologia médica",
          "Medição",
          "Biotecnologia",
          "Controle",
          "Química de materiais básicos",
          "Outras máquinas especiais",
          "Máquinas têxteis e de papel",
          "Química de materiais básicos",
          "Móveis, jogos",
          "Engenharia química",
          "Materiais, metalurgia",
          "Medição",
          "Engenharia Civil",
          "Materiais, metalurgia",
          "Outras máquinas especiais",
          "Química Alimentar",
          "Química Alimentar",
          "Móveis, jogos",
          "Outras máquinas especiais",
          "Biotecnologia",
          "Química Alimentar",
          "Química de materiais básicos",
          "Medição",
          "Controle",
          "Engenharia química",
          "Produtos farmacêuticos",
          "Engenharia química",
          "Química Alimentar",
          "Química de materiais básicos",
          "Tecnologia médica",
          "Outras máquinas especiais",
          "Biotecnologia",
          "Materiais, metalurgia",
          "Biotecnologia",
          "Química Alimentar",
          "Química fina orgânica",
          "Materiais, metalurgia",
          "Máquinas elétricas, aparelhos, energia",
          "Biotecnologia",
          "Química Alimentar",
          "Móveis, jogos",
          "Biotecnologia",
          "Química Alimentar",
          "Controle",
          "Comunicação digital",
          "Produtos farmacêuticos",
          "Controle",
          "Engenharia química",
          "Outras máquinas especiais",
          "Química de materiais básicos",
          "Medição",
          "Transporte",
          "Medição",
          "Engenharia Civil",
          "Máquinas elétricas, aparelhos, energia",
          "Materiais, metalurgia",
          "Outras máquinas especiais",
          "Manuseio",
          "Materiais, metalurgia",
          "Elementos mecânicos",
          "Química fina orgânica",
          "Processos e aparelhos térmicos",
          "Química Alimentar",
          "Química macromolecular, polímeros",
          "Controle",
          "Tecnologia médica",
          "Materiais, metalurgia",
          "Produtos farmacêuticos",
          "Química Alimentar",
          "Outras máquinas especiais",
          "Química de materiais básicos",
          "AC",
          "AL",
          "AM",
          "AP",
          "BA",
          "CE",
          "DF",
          "ES",
          "GO",
          "MA",
          "MG",
          "MS",
          "MT",
          "PA",
          "PB",
          "PE",
          "PI",
          "PR",
          "RJ",
          "RN",
          "RO",
          "RS",
          "SC",
          "SE",
          "SP",
          "TO",
          "Centro-Oeste",
          "Nordeste",
          "Norte",
          "Sudeste",
          "Sul",
          "Brasil"
         ],
         "marker": {
          "colors": [
           "#636efa",
           "#636efa",
           "#EF553B",
           "#00cc96",
           "#ab63fa",
           "#FFA15A",
           "#19d3f3",
           "#FF6692",
           "#00cc96",
           "#B6E880",
           "#FF97FF",
           "#FECB52",
           "#636efa",
           "#19d3f3",
           "#FECB52",
           "#636efa",
           "#EF553B",
           "#ab63fa",
           "#636efa",
           "#FF97FF",
           "#636efa",
           "#19d3f3",
           "#00cc96",
           "#ab63fa",
           "#ab63fa",
           "#ab63fa",
           "#19d3f3",
           "#FFA15A",
           "#EF553B",
           "#EF553B",
           "#19d3f3",
           "#636efa",
           "#FECB52",
           "#FF6692",
           "#ab63fa",
           "#636efa",
           "#EF553B",
           "#19d3f3",
           "#EF553B",
           "#00cc96",
           "#B6E880",
           "#EF553B",
           "#FF6692",
           "#636efa",
           "#00cc96",
           "#636efa",
           "#FF97FF",
           "#00cc96",
           "#00cc96",
           "#FECB52",
           "#FECB52",
           "#FF6692",
           "#00cc96",
           "#EF553B",
           "#FECB52",
           "#EF553B",
           "#636efa",
           "#19d3f3",
           "#636efa",
           "#FF97FF",
           "#636efa",
           "#FECB52",
           "#EF553B",
           "#ab63fa",
           "#00cc96",
           "#EF553B",
           "#00cc96",
           "#EF553B",
           "#FECB52",
           "#FFA15A",
           "#00cc96",
           "#FECB52",
           "#EF553B",
           "#FECB52",
           "#FF6692",
           "#EF553B",
           "#FECB52",
           "#19d3f3",
           "#636efa",
           "#FF97FF",
           "#19d3f3",
           "#636efa",
           "#00cc96",
           "#EF553B",
           "#636efa",
           "#EF553B",
           "#636efa",
           "#FF97FF",
           "#FECB52",
           "#00cc96",
           "#00cc96",
           "#ab63fa",
           "#00cc96",
           "#FF6692",
           "#FFA15A",
           "#00cc96",
           "#FECB52",
           "#FFA15A",
           "#19d3f3",
           "#ab63fa",
           "#00cc96",
           "#FF97FF",
           "#FECB52",
           "#00cc96",
           "#EF553B",
           "#19d3f3",
           "#ab63fa",
           "#ab63fa",
           "#FECB52",
           "#ab63fa",
           "#ab63fa",
           "#ab63fa",
           "#ab63fa",
           "#ab63fa",
           "#ab63fa",
           "#ab63fa",
           "#ab63fa",
           "#ab63fa",
           "#ab63fa",
           "#ab63fa",
           "#ab63fa",
           "#ab63fa",
           "#ab63fa",
           "#ab63fa",
           "#ab63fa",
           "#19d3f3",
           "#ab63fa",
           "#ab63fa",
           "#ab63fa",
           "#ab63fa",
           "#ab63fa",
           "#ab63fa",
           "#ab63fa",
           "#ab63fa",
           "#ab63fa",
           "#ab63fa",
           "#ab63fa"
          ]
         },
         "name": "",
         "parents": [
          "Brasil/Nordeste/PB",
          "Brasil/Centro-Oeste/DF",
          "Brasil/Nordeste/BA",
          "Brasil/Sudeste/ES",
          "Brasil/Nordeste/PI",
          "Brasil/Nordeste/MA",
          "Brasil/Sudeste/ES",
          "Brasil/Sul/PR",
          "Brasil/Sul/PR",
          "Brasil/Centro-Oeste/MT",
          "Brasil/Nordeste/MA",
          "Brasil/Nordeste/BA",
          "Brasil/Centro-Oeste/GO",
          "Brasil/Norte/RO",
          "Brasil/Sudeste/RJ",
          "Brasil/Nordeste/MA",
          "Brasil/Nordeste/PE",
          "Brasil/Sul/PR",
          "Brasil/Nordeste/PE",
          "Brasil/Nordeste/SE",
          "Brasil/Sul/RS",
          "Brasil/Centro-Oeste/MS",
          "Brasil/Centro-Oeste/TO",
          "Brasil/Nordeste/SE",
          "Brasil/Nordeste/RN",
          "Brasil/Sul/RS",
          "Brasil/Sul/SC",
          "Brasil/Sudeste/RJ",
          "Brasil/Sul/SC",
          "Brasil/Centro-Oeste/GO",
          "Brasil/Nordeste/PE",
          "Brasil/Nordeste/CE",
          "Brasil/Centro-Oeste/GO",
          "Brasil/Sul/RS",
          "Brasil/Sudeste/SP",
          "Brasil/Sul/SC",
          "Brasil/Nordeste/AL",
          "Brasil/Sul/PR",
          "Brasil/Centro-Oeste/TO",
          "Brasil/Centro-Oeste/GO",
          "Brasil/Nordeste/RN",
          "Brasil/Sudeste/MG",
          "Brasil/Nordeste/PB",
          "Brasil/Sudeste/MG",
          "Brasil/Nordeste/AL",
          "Brasil/Sudeste/ES",
          "Brasil/Nordeste/BA",
          "Brasil/Nordeste/PI",
          "Brasil/Nordeste/CE",
          "Brasil/Nordeste/PB",
          "Brasil/Nordeste/PI",
          "Brasil/Nordeste/PI",
          "Brasil/Sul/SC",
          "Brasil/Centro-Oeste/DF",
          "Brasil/Nordeste/RN",
          "Brasil/Centro-Oeste/MT",
          "Brasil/Sudeste/MG",
          "Brasil/Sudeste/SP",
          "Brasil/Nordeste/SE",
          "Brasil/Sudeste/MG",
          "Brasil/Sudeste/SP",
          "Brasil/Norte/AP",
          "Brasil/Nordeste/MA",
          "Brasil/Nordeste/BA",
          "Brasil/Sudeste/RJ",
          "Brasil/Sudeste/SP",
          "Brasil/Nordeste/RN",
          "Brasil/Sudeste/MG",
          "Brasil/Nordeste/CE",
          "Brasil/Nordeste/CE",
          "Brasil/Norte/PA",
          "Brasil/Nordeste/PB",
          "Brasil/Nordeste/PE",
          "Brasil/Norte/PA",
          "Brasil/Nordeste/AL",
          "Brasil/Nordeste/SE",
          "Brasil/Nordeste/AL",
          "Brasil/Sudeste/RJ",
          "Brasil/Nordeste/PE",
          "Brasil/Nordeste/AL",
          "Brasil/Nordeste/CE",
          "Brasil/Centro-Oeste/TO",
          "Brasil/Sudeste/SP",
          "Brasil/Norte/PA",
          "Brasil/Norte/PA",
          "Brasil/Sul/RS",
          "Brasil/Centro-Oeste/GO",
          "Brasil/Centro-Oeste/MT",
          "Brasil/Nordeste/RN",
          "Brasil/Nordeste/BA",
          "Brasil/Centro-Oeste/MS",
          "Brasil/Sul/SC",
          "Brasil/Nordeste/PB",
          "Brasil/Centro-Oeste/MT",
          "Brasil/Nordeste/SE",
          "Brasil/Norte/AM",
          "Brasil/Norte/AM",
          "Brasil/Nordeste/PI",
          "Brasil/Norte/AC",
          "Brasil/Nordeste/MA",
          "Brasil/Sudeste/ES",
          "Brasil/Sudeste/RJ",
          "Brasil/Sul/PR",
          "Brasil/Sul/RS",
          "Brasil/Sudeste/ES",
          "Brasil/Norte",
          "Brasil/Nordeste",
          "Brasil/Norte",
          "Brasil/Norte",
          "Brasil/Nordeste",
          "Brasil/Nordeste",
          "Brasil/Centro-Oeste",
          "Brasil/Sudeste",
          "Brasil/Centro-Oeste",
          "Brasil/Nordeste",
          "Brasil/Sudeste",
          "Brasil/Centro-Oeste",
          "Brasil/Centro-Oeste",
          "Brasil/Norte",
          "Brasil/Nordeste",
          "Brasil/Nordeste",
          "Brasil/Nordeste",
          "Brasil/Sul",
          "Brasil/Sudeste",
          "Brasil/Nordeste",
          "Brasil/Norte",
          "Brasil/Sul",
          "Brasil/Sul",
          "Brasil/Nordeste",
          "Brasil/Sudeste",
          "Brasil/Centro-Oeste",
          "Brasil",
          "Brasil",
          "Brasil",
          "Brasil",
          "Brasil",
          ""
         ],
         "type": "treemap",
         "values": [
          3,
          1,
          1,
          2,
          4,
          3,
          2,
          3,
          5,
          1,
          3,
          3,
          3,
          1,
          13,
          2,
          3,
          4,
          3,
          7,
          3,
          1,
          1,
          2,
          2,
          4,
          3,
          7,
          4,
          3,
          2,
          2,
          4,
          7,
          2,
          3,
          1,
          6,
          1,
          5,
          2,
          4,
          3,
          8,
          3,
          2,
          1,
          1,
          2,
          7,
          2,
          2,
          8,
          1,
          3,
          2,
          4,
          1,
          1,
          10,
          1,
          1,
          4,
          8,
          6,
          1,
          10,
          4,
          5,
          2,
          3,
          2,
          4,
          3,
          1,
          2,
          1,
          3,
          2,
          1,
          2,
          1,
          3,
          2,
          1,
          6,
          2,
          1,
          2,
          1,
          1,
          3,
          2,
          1,
          2,
          1,
          5,
          1,
          1,
          4,
          4,
          3,
          8,
          4,
          6,
          1,
          7,
          6,
          1,
          14,
          13,
          2,
          16,
          17,
          16,
          30,
          2,
          5,
          9,
          17,
          14,
          10,
          26,
          32,
          19,
          1,
          24,
          21,
          14,
          8,
          3,
          29,
          124,
          18,
          86,
          71,
          328
         ]
        }
       ],
       "layout": {
        "autosize": true,
        "legend": {
         "tracegroupgap": 0
        },
        "margin": {
         "b": 25,
         "l": 25,
         "r": 25,
         "t": 50
        },
        "template": {
         "data": {
          "bar": [
           {
            "error_x": {
             "color": "#2a3f5f"
            },
            "error_y": {
             "color": "#2a3f5f"
            },
            "marker": {
             "line": {
              "color": "#E5ECF6",
              "width": 0.5
             },
             "pattern": {
              "fillmode": "overlay",
              "size": 10,
              "solidity": 0.2
             }
            },
            "type": "bar"
           }
          ],
          "barpolar": [
           {
            "marker": {
             "line": {
              "color": "#E5ECF6",
              "width": 0.5
             },
             "pattern": {
              "fillmode": "overlay",
              "size": 10,
              "solidity": 0.2
             }
            },
            "type": "barpolar"
           }
          ],
          "carpet": [
           {
            "aaxis": {
             "endlinecolor": "#2a3f5f",
             "gridcolor": "white",
             "linecolor": "white",
             "minorgridcolor": "white",
             "startlinecolor": "#2a3f5f"
            },
            "baxis": {
             "endlinecolor": "#2a3f5f",
             "gridcolor": "white",
             "linecolor": "white",
             "minorgridcolor": "white",
             "startlinecolor": "#2a3f5f"
            },
            "type": "carpet"
           }
          ],
          "choropleth": [
           {
            "colorbar": {
             "outlinewidth": 0,
             "ticks": ""
            },
            "type": "choropleth"
           }
          ],
          "contour": [
           {
            "colorbar": {
             "outlinewidth": 0,
             "ticks": ""
            },
            "colorscale": [
             [
              0,
              "#0d0887"
             ],
             [
              0.1111111111111111,
              "#46039f"
             ],
             [
              0.2222222222222222,
              "#7201a8"
             ],
             [
              0.3333333333333333,
              "#9c179e"
             ],
             [
              0.4444444444444444,
              "#bd3786"
             ],
             [
              0.5555555555555556,
              "#d8576b"
             ],
             [
              0.6666666666666666,
              "#ed7953"
             ],
             [
              0.7777777777777778,
              "#fb9f3a"
             ],
             [
              0.8888888888888888,
              "#fdca26"
             ],
             [
              1,
              "#f0f921"
             ]
            ],
            "type": "contour"
           }
          ],
          "contourcarpet": [
           {
            "colorbar": {
             "outlinewidth": 0,
             "ticks": ""
            },
            "type": "contourcarpet"
           }
          ],
          "heatmap": [
           {
            "colorbar": {
             "outlinewidth": 0,
             "ticks": ""
            },
            "colorscale": [
             [
              0,
              "#0d0887"
             ],
             [
              0.1111111111111111,
              "#46039f"
             ],
             [
              0.2222222222222222,
              "#7201a8"
             ],
             [
              0.3333333333333333,
              "#9c179e"
             ],
             [
              0.4444444444444444,
              "#bd3786"
             ],
             [
              0.5555555555555556,
              "#d8576b"
             ],
             [
              0.6666666666666666,
              "#ed7953"
             ],
             [
              0.7777777777777778,
              "#fb9f3a"
             ],
             [
              0.8888888888888888,
              "#fdca26"
             ],
             [
              1,
              "#f0f921"
             ]
            ],
            "type": "heatmap"
           }
          ],
          "heatmapgl": [
           {
            "colorbar": {
             "outlinewidth": 0,
             "ticks": ""
            },
            "colorscale": [
             [
              0,
              "#0d0887"
             ],
             [
              0.1111111111111111,
              "#46039f"
             ],
             [
              0.2222222222222222,
              "#7201a8"
             ],
             [
              0.3333333333333333,
              "#9c179e"
             ],
             [
              0.4444444444444444,
              "#bd3786"
             ],
             [
              0.5555555555555556,
              "#d8576b"
             ],
             [
              0.6666666666666666,
              "#ed7953"
             ],
             [
              0.7777777777777778,
              "#fb9f3a"
             ],
             [
              0.8888888888888888,
              "#fdca26"
             ],
             [
              1,
              "#f0f921"
             ]
            ],
            "type": "heatmapgl"
           }
          ],
          "histogram": [
           {
            "marker": {
             "pattern": {
              "fillmode": "overlay",
              "size": 10,
              "solidity": 0.2
             }
            },
            "type": "histogram"
           }
          ],
          "histogram2d": [
           {
            "colorbar": {
             "outlinewidth": 0,
             "ticks": ""
            },
            "colorscale": [
             [
              0,
              "#0d0887"
             ],
             [
              0.1111111111111111,
              "#46039f"
             ],
             [
              0.2222222222222222,
              "#7201a8"
             ],
             [
              0.3333333333333333,
              "#9c179e"
             ],
             [
              0.4444444444444444,
              "#bd3786"
             ],
             [
              0.5555555555555556,
              "#d8576b"
             ],
             [
              0.6666666666666666,
              "#ed7953"
             ],
             [
              0.7777777777777778,
              "#fb9f3a"
             ],
             [
              0.8888888888888888,
              "#fdca26"
             ],
             [
              1,
              "#f0f921"
             ]
            ],
            "type": "histogram2d"
           }
          ],
          "histogram2dcontour": [
           {
            "colorbar": {
             "outlinewidth": 0,
             "ticks": ""
            },
            "colorscale": [
             [
              0,
              "#0d0887"
             ],
             [
              0.1111111111111111,
              "#46039f"
             ],
             [
              0.2222222222222222,
              "#7201a8"
             ],
             [
              0.3333333333333333,
              "#9c179e"
             ],
             [
              0.4444444444444444,
              "#bd3786"
             ],
             [
              0.5555555555555556,
              "#d8576b"
             ],
             [
              0.6666666666666666,
              "#ed7953"
             ],
             [
              0.7777777777777778,
              "#fb9f3a"
             ],
             [
              0.8888888888888888,
              "#fdca26"
             ],
             [
              1,
              "#f0f921"
             ]
            ],
            "type": "histogram2dcontour"
           }
          ],
          "mesh3d": [
           {
            "colorbar": {
             "outlinewidth": 0,
             "ticks": ""
            },
            "type": "mesh3d"
           }
          ],
          "parcoords": [
           {
            "line": {
             "colorbar": {
              "outlinewidth": 0,
              "ticks": ""
             }
            },
            "type": "parcoords"
           }
          ],
          "pie": [
           {
            "automargin": true,
            "type": "pie"
           }
          ],
          "scatter": [
           {
            "fillpattern": {
             "fillmode": "overlay",
             "size": 10,
             "solidity": 0.2
            },
            "type": "scatter"
           }
          ],
          "scatter3d": [
           {
            "line": {
             "colorbar": {
              "outlinewidth": 0,
              "ticks": ""
             }
            },
            "marker": {
             "colorbar": {
              "outlinewidth": 0,
              "ticks": ""
             }
            },
            "type": "scatter3d"
           }
          ],
          "scattercarpet": [
           {
            "marker": {
             "colorbar": {
              "outlinewidth": 0,
              "ticks": ""
             }
            },
            "type": "scattercarpet"
           }
          ],
          "scattergeo": [
           {
            "marker": {
             "colorbar": {
              "outlinewidth": 0,
              "ticks": ""
             }
            },
            "type": "scattergeo"
           }
          ],
          "scattergl": [
           {
            "marker": {
             "colorbar": {
              "outlinewidth": 0,
              "ticks": ""
             }
            },
            "type": "scattergl"
           }
          ],
          "scattermapbox": [
           {
            "marker": {
             "colorbar": {
              "outlinewidth": 0,
              "ticks": ""
             }
            },
            "type": "scattermapbox"
           }
          ],
          "scatterpolar": [
           {
            "marker": {
             "colorbar": {
              "outlinewidth": 0,
              "ticks": ""
             }
            },
            "type": "scatterpolar"
           }
          ],
          "scatterpolargl": [
           {
            "marker": {
             "colorbar": {
              "outlinewidth": 0,
              "ticks": ""
             }
            },
            "type": "scatterpolargl"
           }
          ],
          "scatterternary": [
           {
            "marker": {
             "colorbar": {
              "outlinewidth": 0,
              "ticks": ""
             }
            },
            "type": "scatterternary"
           }
          ],
          "surface": [
           {
            "colorbar": {
             "outlinewidth": 0,
             "ticks": ""
            },
            "colorscale": [
             [
              0,
              "#0d0887"
             ],
             [
              0.1111111111111111,
              "#46039f"
             ],
             [
              0.2222222222222222,
              "#7201a8"
             ],
             [
              0.3333333333333333,
              "#9c179e"
             ],
             [
              0.4444444444444444,
              "#bd3786"
             ],
             [
              0.5555555555555556,
              "#d8576b"
             ],
             [
              0.6666666666666666,
              "#ed7953"
             ],
             [
              0.7777777777777778,
              "#fb9f3a"
             ],
             [
              0.8888888888888888,
              "#fdca26"
             ],
             [
              1,
              "#f0f921"
             ]
            ],
            "type": "surface"
           }
          ],
          "table": [
           {
            "cells": {
             "fill": {
              "color": "#EBF0F8"
             },
             "line": {
              "color": "white"
             }
            },
            "header": {
             "fill": {
              "color": "#C8D4E3"
             },
             "line": {
              "color": "white"
             }
            },
            "type": "table"
           }
          ]
         },
         "layout": {
          "annotationdefaults": {
           "arrowcolor": "#2a3f5f",
           "arrowhead": 0,
           "arrowwidth": 1
          },
          "autotypenumbers": "strict",
          "coloraxis": {
           "colorbar": {
            "outlinewidth": 0,
            "ticks": ""
           }
          },
          "colorscale": {
           "diverging": [
            [
             0,
             "#8e0152"
            ],
            [
             0.1,
             "#c51b7d"
            ],
            [
             0.2,
             "#de77ae"
            ],
            [
             0.3,
             "#f1b6da"
            ],
            [
             0.4,
             "#fde0ef"
            ],
            [
             0.5,
             "#f7f7f7"
            ],
            [
             0.6,
             "#e6f5d0"
            ],
            [
             0.7,
             "#b8e186"
            ],
            [
             0.8,
             "#7fbc41"
            ],
            [
             0.9,
             "#4d9221"
            ],
            [
             1,
             "#276419"
            ]
           ],
           "sequential": [
            [
             0,
             "#0d0887"
            ],
            [
             0.1111111111111111,
             "#46039f"
            ],
            [
             0.2222222222222222,
             "#7201a8"
            ],
            [
             0.3333333333333333,
             "#9c179e"
            ],
            [
             0.4444444444444444,
             "#bd3786"
            ],
            [
             0.5555555555555556,
             "#d8576b"
            ],
            [
             0.6666666666666666,
             "#ed7953"
            ],
            [
             0.7777777777777778,
             "#fb9f3a"
            ],
            [
             0.8888888888888888,
             "#fdca26"
            ],
            [
             1,
             "#f0f921"
            ]
           ],
           "sequentialminus": [
            [
             0,
             "#0d0887"
            ],
            [
             0.1111111111111111,
             "#46039f"
            ],
            [
             0.2222222222222222,
             "#7201a8"
            ],
            [
             0.3333333333333333,
             "#9c179e"
            ],
            [
             0.4444444444444444,
             "#bd3786"
            ],
            [
             0.5555555555555556,
             "#d8576b"
            ],
            [
             0.6666666666666666,
             "#ed7953"
            ],
            [
             0.7777777777777778,
             "#fb9f3a"
            ],
            [
             0.8888888888888888,
             "#fdca26"
            ],
            [
             1,
             "#f0f921"
            ]
           ]
          },
          "colorway": [
           "#636efa",
           "#EF553B",
           "#00cc96",
           "#ab63fa",
           "#FFA15A",
           "#19d3f3",
           "#FF6692",
           "#B6E880",
           "#FF97FF",
           "#FECB52"
          ],
          "font": {
           "color": "#2a3f5f"
          },
          "geo": {
           "bgcolor": "white",
           "lakecolor": "white",
           "landcolor": "#E5ECF6",
           "showlakes": true,
           "showland": true,
           "subunitcolor": "white"
          },
          "hoverlabel": {
           "align": "left"
          },
          "hovermode": "closest",
          "mapbox": {
           "style": "light"
          },
          "paper_bgcolor": "white",
          "plot_bgcolor": "#E5ECF6",
          "polar": {
           "angularaxis": {
            "gridcolor": "white",
            "linecolor": "white",
            "ticks": ""
           },
           "bgcolor": "#E5ECF6",
           "radialaxis": {
            "gridcolor": "white",
            "linecolor": "white",
            "ticks": ""
           }
          },
          "scene": {
           "xaxis": {
            "backgroundcolor": "#E5ECF6",
            "gridcolor": "white",
            "gridwidth": 2,
            "linecolor": "white",
            "showbackground": true,
            "ticks": "",
            "zerolinecolor": "white"
           },
           "yaxis": {
            "backgroundcolor": "#E5ECF6",
            "gridcolor": "white",
            "gridwidth": 2,
            "linecolor": "white",
            "showbackground": true,
            "ticks": "",
            "zerolinecolor": "white"
           },
           "zaxis": {
            "backgroundcolor": "#E5ECF6",
            "gridcolor": "white",
            "gridwidth": 2,
            "linecolor": "white",
            "showbackground": true,
            "ticks": "",
            "zerolinecolor": "white"
           }
          },
          "shapedefaults": {
           "line": {
            "color": "#2a3f5f"
           }
          },
          "ternary": {
           "aaxis": {
            "gridcolor": "white",
            "linecolor": "white",
            "ticks": ""
           },
           "baxis": {
            "gridcolor": "white",
            "linecolor": "white",
            "ticks": ""
           },
           "bgcolor": "#E5ECF6",
           "caxis": {
            "gridcolor": "white",
            "linecolor": "white",
            "ticks": ""
           }
          },
          "title": {
           "x": 0.05
          },
          "xaxis": {
           "automargin": true,
           "gridcolor": "white",
           "linecolor": "white",
           "ticks": "",
           "title": {
            "standoff": 15
           },
           "zerolinecolor": "white",
           "zerolinewidth": 2
          },
          "yaxis": {
           "automargin": true,
           "gridcolor": "white",
           "linecolor": "white",
           "ticks": "",
           "title": {
            "standoff": 15
           },
           "zerolinecolor": "white",
           "zerolinewidth": 2
          }
         }
        }
       }
      },
      "image/png": "[encoded data removed]",
      "text/html": [
       "<div>                            <div id=\"9c09ebb0-847c-4aa6-b6c2-663419908a29\" class=\"plotly-graph-div\" style=\"height:525px; width:100%;\"></div>            <script type=\"text/javascript\">                require([\"plotly\"], function(Plotly) {                    window.PLOTLYENV=window.PLOTLYENV || {};                                    if (document.getElementById(\"9c09ebb0-847c-4aa6-b6c2-663419908a29\")) {                    Plotly.newPlot(                        \"9c09ebb0-847c-4aa6-b6c2-663419908a29\",                        [{\"branchvalues\":\"total\",\"customdata\":[[\"Medi\\u00e7\\u00e3o\"],[\"Medi\\u00e7\\u00e3o\"],[\"Biotecnologia\"],[\"Outras m\\u00e1quinas especiais\"],[\"Tecnologia m\\u00e9dica\"],[\"Qu\\u00edmica fina org\\u00e2nica\"],[\"Controle\"],[\"Elementos mec\\u00e2nicos\"],[\"Outras m\\u00e1quinas especiais\"],[\"An\\u00e1lise de materiais biol\\u00f3gicos\"],[\"Produtos farmac\\u00eauticos\"],[\"Qu\\u00edmica Alimentar\"],[\"Engenharia qu\\u00edmica\"],[\"Controle\"],[\"Qu\\u00edmica Alimentar\"],[\"Medi\\u00e7\\u00e3o\"],[\"Qu\\u00edmica de materiais b\\u00e1sicos\"],[\"Tecnologia m\\u00e9dica\"],[\"Medi\\u00e7\\u00e3o\"],[\"Produtos farmac\\u00eauticos\"],[\"Medi\\u00e7\\u00e3o\"],[\"Controle\"],[\"Materiais, metalurgia\"],[\"Tecnologia m\\u00e9dica\"],[\"Tecnologia m\\u00e9dica\"],[\"Manuseio\"],[\"Controle\"],[\"Qu\\u00edmica macromolecular, pol\\u00edmeros\"],[\"Qu\\u00edmica de materiais b\\u00e1sicos\"],[\"Qu\\u00edmica de materiais b\\u00e1sicos\"],[\"Outros bens de consumo\"],[\"Engenharia qu\\u00edmica\"],[\"Qu\\u00edmica Alimentar\"],[\"M\\u00f3veis, jogos\"],[\"Tecnologia m\\u00e9dica\"],[\"Medi\\u00e7\\u00e3o\"],[\"Biotecnologia\"],[\"Controle\"],[\"Qu\\u00edmica de materiais b\\u00e1sicos\"],[\"Outras m\\u00e1quinas especiais\"],[\"M\\u00e1quinas t\\u00eaxteis e de papel\"],[\"Qu\\u00edmica de materiais b\\u00e1sicos\"],[\"M\\u00f3veis, jogos\"],[\"Engenharia qu\\u00edmica\"],[\"Materiais, metalurgia\"],[\"Medi\\u00e7\\u00e3o\"],[\"Engenharia Civil\"],[\"Materiais, metalurgia\"],[\"Outras m\\u00e1quinas especiais\"],[\"Qu\\u00edmica Alimentar\"],[\"Qu\\u00edmica Alimentar\"],[\"M\\u00f3veis, jogos\"],[\"Outras m\\u00e1quinas especiais\"],[\"Biotecnologia\"],[\"Qu\\u00edmica Alimentar\"],[\"Qu\\u00edmica de materiais b\\u00e1sicos\"],[\"Medi\\u00e7\\u00e3o\"],[\"Controle\"],[\"Engenharia qu\\u00edmica\"],[\"Produtos farmac\\u00eauticos\"],[\"Engenharia qu\\u00edmica\"],[\"Qu\\u00edmica Alimentar\"],[\"Qu\\u00edmica de materiais b\\u00e1sicos\"],[\"Tecnologia m\\u00e9dica\"],[\"Outras m\\u00e1quinas especiais\"],[\"Biotecnologia\"],[\"Materiais, metalurgia\"],[\"Biotecnologia\"],[\"Qu\\u00edmica Alimentar\"],[\"Qu\\u00edmica fina org\\u00e2nica\"],[\"Materiais, metalurgia\"],[\"M\\u00e1quinas el\\u00e9tricas, aparelhos, energia\"],[\"Biotecnologia\"],[\"Qu\\u00edmica Alimentar\"],[\"M\\u00f3veis, jogos\"],[\"Biotecnologia\"],[\"Qu\\u00edmica Alimentar\"],[\"Controle\"],[\"Comunica\\u00e7\\u00e3o digital\"],[\"Produtos farmac\\u00eauticos\"],[\"Controle\"],[\"Engenharia qu\\u00edmica\"],[\"Outras m\\u00e1quinas especiais\"],[\"Qu\\u00edmica de materiais b\\u00e1sicos\"],[\"Medi\\u00e7\\u00e3o\"],[\"Transporte\"],[\"Medi\\u00e7\\u00e3o\"],[\"Engenharia Civil\"],[\"M\\u00e1quinas el\\u00e9tricas, aparelhos, energia\"],[\"Materiais, metalurgia\"],[\"Outras m\\u00e1quinas especiais\"],[\"Manuseio\"],[\"Materiais, metalurgia\"],[\"Elementos mec\\u00e2nicos\"],[\"Qu\\u00edmica fina org\\u00e2nica\"],[\"Processos e aparelhos t\\u00e9rmicos\"],[\"Qu\\u00edmica Alimentar\"],[\"Qu\\u00edmica macromolecular, pol\\u00edmeros\"],[\"Controle\"],[\"Tecnologia m\\u00e9dica\"],[\"Materiais, metalurgia\"],[\"Produtos farmac\\u00eauticos\"],[\"Qu\\u00edmica Alimentar\"],[\"Outras m\\u00e1quinas especiais\"],[\"Qu\\u00edmica de materiais b\\u00e1sicos\"],[\"Controle\"],[\"(?)\"],[\"(?)\"],[\"Qu\\u00edmica Alimentar\"],[\"(?)\"],[\"(?)\"],[\"(?)\"],[\"(?)\"],[\"(?)\"],[\"(?)\"],[\"(?)\"],[\"(?)\"],[\"(?)\"],[\"(?)\"],[\"(?)\"],[\"(?)\"],[\"(?)\"],[\"(?)\"],[\"(?)\"],[\"(?)\"],[\"Controle\"],[\"(?)\"],[\"(?)\"],[\"(?)\"],[\"(?)\"],[\"(?)\"],[\"(?)\"],[\"(?)\"],[\"(?)\"],[\"(?)\"],[\"(?)\"],[\"(?)\"]],\"domain\":{\"x\":[0.0,1.0],\"y\":[0.0,1.0]},\"hovertemplate\":\"labels=%{label}\\u003cbr\\u003econtagem=%{value}\\u003cbr\\u003eparent=%{parent}\\u003cbr\\u003eid=%{id}\\u003cbr\\u003eArea=%{customdata[0]}\\u003cextra\\u003e\\u003c\\u002fextra\\u003e\",\"ids\":[\"Brasil\\u002fNordeste\\u002fPB\\u002fMedi\\u00e7\\u00e3o\",\"Brasil\\u002fCentro-Oeste\\u002fDF\\u002fMedi\\u00e7\\u00e3o\",\"Brasil\\u002fNordeste\\u002fBA\\u002fBiotecnologia\",\"Brasil\\u002fSudeste\\u002fES\\u002fOutras m\\u00e1quinas especiais\",\"Brasil\\u002fNordeste\\u002fPI\\u002fTecnologia m\\u00e9dica\",\"Brasil\\u002fNordeste\\u002fMA\\u002fQu\\u00edmica fina org\\u00e2nica\",\"Brasil\\u002fSudeste\\u002fES\\u002fControle\",\"Brasil\\u002fSul\\u002fPR\\u002fElementos mec\\u00e2nicos\",\"Brasil\\u002fSul\\u002fPR\\u002fOutras m\\u00e1quinas especiais\",\"Brasil\\u002fCentro-Oeste\\u002fMT\\u002fAn\\u00e1lise de materiais biol\\u00f3gicos\",\"Brasil\\u002fNordeste\\u002fMA\\u002fProdutos farmac\\u00eauticos\",\"Brasil\\u002fNordeste\\u002fBA\\u002fQu\\u00edmica Alimentar\",\"Brasil\\u002fCentro-Oeste\\u002fGO\\u002fEngenharia qu\\u00edmica\",\"Brasil\\u002fNorte\\u002fRO\\u002fControle\",\"Brasil\\u002fSudeste\\u002fRJ\\u002fQu\\u00edmica Alimentar\",\"Brasil\\u002fNordeste\\u002fMA\\u002fMedi\\u00e7\\u00e3o\",\"Brasil\\u002fNordeste\\u002fPE\\u002fQu\\u00edmica de materiais b\\u00e1sicos\",\"Brasil\\u002fSul\\u002fPR\\u002fTecnologia m\\u00e9dica\",\"Brasil\\u002fNordeste\\u002fPE\\u002fMedi\\u00e7\\u00e3o\",\"Brasil\\u002fNordeste\\u002fSE\\u002fProdutos farmac\\u00eauticos\",\"Brasil\\u002fSul\\u002fRS\\u002fMedi\\u00e7\\u00e3o\",\"Brasil\\u002fCentro-Oeste\\u002fMS\\u002fControle\",\"Brasil\\u002fCentro-Oeste\\u002fTO\\u002fMateriais, metalurgia\",\"Brasil\\u002fNordeste\\u002fSE\\u002fTecnologia m\\u00e9dica\",\"Brasil\\u002fNordeste\\u002fRN\\u002fTecnologia m\\u00e9dica\",\"Brasil\\u002fSul\\u002fRS\\u002fManuseio\",\"Brasil\\u002fSul\\u002fSC\\u002fControle\",\"Brasil\\u002fSudeste\\u002fRJ\\u002fQu\\u00edmica macromolecular, pol\\u00edmeros\",\"Brasil\\u002fSul\\u002fSC\\u002fQu\\u00edmica de materiais b\\u00e1sicos\",\"Brasil\\u002fCentro-Oeste\\u002fGO\\u002fQu\\u00edmica de materiais b\\u00e1sicos\",\"Brasil\\u002fNordeste\\u002fPE\\u002fOutros bens de consumo\",\"Brasil\\u002fNordeste\\u002fCE\\u002fEngenharia qu\\u00edmica\",\"Brasil\\u002fCentro-Oeste\\u002fGO\\u002fQu\\u00edmica Alimentar\",\"Brasil\\u002fSul\\u002fRS\\u002fM\\u00f3veis, jogos\",\"Brasil\\u002fSudeste\\u002fSP\\u002fTecnologia m\\u00e9dica\",\"Brasil\\u002fSul\\u002fSC\\u002fMedi\\u00e7\\u00e3o\",\"Brasil\\u002fNordeste\\u002fAL\\u002fBiotecnologia\",\"Brasil\\u002fSul\\u002fPR\\u002fControle\",\"Brasil\\u002fCentro-Oeste\\u002fTO\\u002fQu\\u00edmica de materiais b\\u00e1sicos\",\"Brasil\\u002fCentro-Oeste\\u002fGO\\u002fOutras m\\u00e1quinas especiais\",\"Brasil\\u002fNordeste\\u002fRN\\u002fM\\u00e1quinas t\\u00eaxteis e de papel\",\"Brasil\\u002fSudeste\\u002fMG\\u002fQu\\u00edmica de materiais b\\u00e1sicos\",\"Brasil\\u002fNordeste\\u002fPB\\u002fM\\u00f3veis, jogos\",\"Brasil\\u002fSudeste\\u002fMG\\u002fEngenharia qu\\u00edmica\",\"Brasil\\u002fNordeste\\u002fAL\\u002fMateriais, metalurgia\",\"Brasil\\u002fSudeste\\u002fES\\u002fMedi\\u00e7\\u00e3o\",\"Brasil\\u002fNordeste\\u002fBA\\u002fEngenharia Civil\",\"Brasil\\u002fNordeste\\u002fPI\\u002fMateriais, metalurgia\",\"Brasil\\u002fNordeste\\u002fCE\\u002fOutras m\\u00e1quinas especiais\",\"Brasil\\u002fNordeste\\u002fPB\\u002fQu\\u00edmica Alimentar\",\"Brasil\\u002fNordeste\\u002fPI\\u002fQu\\u00edmica Alimentar\",\"Brasil\\u002fNordeste\\u002fPI\\u002fM\\u00f3veis, jogos\",\"Brasil\\u002fSul\\u002fSC\\u002fOutras m\\u00e1quinas especiais\",\"Brasil\\u002fCentro-Oeste\\u002fDF\\u002fBiotecnologia\",\"Brasil\\u002fNordeste\\u002fRN\\u002fQu\\u00edmica Alimentar\",\"Brasil\\u002fCentro-Oeste\\u002fMT\\u002fQu\\u00edmica de materiais b\\u00e1sicos\",\"Brasil\\u002fSudeste\\u002fMG\\u002fMedi\\u00e7\\u00e3o\",\"Brasil\\u002fSudeste\\u002fSP\\u002fControle\",\"Brasil\\u002fNordeste\\u002fSE\\u002fEngenharia qu\\u00edmica\",\"Brasil\\u002fSudeste\\u002fMG\\u002fProdutos farmac\\u00eauticos\",\"Brasil\\u002fSudeste\\u002fSP\\u002fEngenharia qu\\u00edmica\",\"Brasil\\u002fNorte\\u002fAP\\u002fQu\\u00edmica Alimentar\",\"Brasil\\u002fNordeste\\u002fMA\\u002fQu\\u00edmica de materiais b\\u00e1sicos\",\"Brasil\\u002fNordeste\\u002fBA\\u002fTecnologia m\\u00e9dica\",\"Brasil\\u002fSudeste\\u002fRJ\\u002fOutras m\\u00e1quinas especiais\",\"Brasil\\u002fSudeste\\u002fSP\\u002fBiotecnologia\",\"Brasil\\u002fNordeste\\u002fRN\\u002fMateriais, metalurgia\",\"Brasil\\u002fSudeste\\u002fMG\\u002fBiotecnologia\",\"Brasil\\u002fNordeste\\u002fCE\\u002fQu\\u00edmica Alimentar\",\"Brasil\\u002fNordeste\\u002fCE\\u002fQu\\u00edmica fina org\\u00e2nica\",\"Brasil\\u002fNorte\\u002fPA\\u002fMateriais, metalurgia\",\"Brasil\\u002fNordeste\\u002fPB\\u002fM\\u00e1quinas el\\u00e9tricas, aparelhos, energia\",\"Brasil\\u002fNordeste\\u002fPE\\u002fBiotecnologia\",\"Brasil\\u002fNorte\\u002fPA\\u002fQu\\u00edmica Alimentar\",\"Brasil\\u002fNordeste\\u002fAL\\u002fM\\u00f3veis, jogos\",\"Brasil\\u002fNordeste\\u002fSE\\u002fBiotecnologia\",\"Brasil\\u002fNordeste\\u002fAL\\u002fQu\\u00edmica Alimentar\",\"Brasil\\u002fSudeste\\u002fRJ\\u002fControle\",\"Brasil\\u002fNordeste\\u002fPE\\u002fComunica\\u00e7\\u00e3o digital\",\"Brasil\\u002fNordeste\\u002fAL\\u002fProdutos farmac\\u00eauticos\",\"Brasil\\u002fNordeste\\u002fCE\\u002fControle\",\"Brasil\\u002fCentro-Oeste\\u002fTO\\u002fEngenharia qu\\u00edmica\",\"Brasil\\u002fSudeste\\u002fSP\\u002fOutras m\\u00e1quinas especiais\",\"Brasil\\u002fNorte\\u002fPA\\u002fQu\\u00edmica de materiais b\\u00e1sicos\",\"Brasil\\u002fNorte\\u002fPA\\u002fMedi\\u00e7\\u00e3o\",\"Brasil\\u002fSul\\u002fRS\\u002fTransporte\",\"Brasil\\u002fCentro-Oeste\\u002fGO\\u002fMedi\\u00e7\\u00e3o\",\"Brasil\\u002fCentro-Oeste\\u002fMT\\u002fEngenharia Civil\",\"Brasil\\u002fNordeste\\u002fRN\\u002fM\\u00e1quinas el\\u00e9tricas, aparelhos, energia\",\"Brasil\\u002fNordeste\\u002fBA\\u002fMateriais, metalurgia\",\"Brasil\\u002fCentro-Oeste\\u002fMS\\u002fOutras m\\u00e1quinas especiais\",\"Brasil\\u002fSul\\u002fSC\\u002fManuseio\",\"Brasil\\u002fNordeste\\u002fPB\\u002fMateriais, metalurgia\",\"Brasil\\u002fCentro-Oeste\\u002fMT\\u002fElementos mec\\u00e2nicos\",\"Brasil\\u002fNordeste\\u002fSE\\u002fQu\\u00edmica fina org\\u00e2nica\",\"Brasil\\u002fNorte\\u002fAM\\u002fProcessos e aparelhos t\\u00e9rmicos\",\"Brasil\\u002fNorte\\u002fAM\\u002fQu\\u00edmica Alimentar\",\"Brasil\\u002fNordeste\\u002fPI\\u002fQu\\u00edmica macromolecular, pol\\u00edmeros\",\"Brasil\\u002fNorte\\u002fAC\\u002fControle\",\"Brasil\\u002fNordeste\\u002fMA\\u002fTecnologia m\\u00e9dica\",\"Brasil\\u002fSudeste\\u002fES\\u002fMateriais, metalurgia\",\"Brasil\\u002fSudeste\\u002fRJ\\u002fProdutos farmac\\u00eauticos\",\"Brasil\\u002fSul\\u002fPR\\u002fQu\\u00edmica Alimentar\",\"Brasil\\u002fSul\\u002fRS\\u002fOutras m\\u00e1quinas especiais\",\"Brasil\\u002fSudeste\\u002fES\\u002fQu\\u00edmica de materiais b\\u00e1sicos\",\"Brasil\\u002fNorte\\u002fAC\",\"Brasil\\u002fNordeste\\u002fAL\",\"Brasil\\u002fNorte\\u002fAM\",\"Brasil\\u002fNorte\\u002fAP\",\"Brasil\\u002fNordeste\\u002fBA\",\"Brasil\\u002fNordeste\\u002fCE\",\"Brasil\\u002fCentro-Oeste\\u002fDF\",\"Brasil\\u002fSudeste\\u002fES\",\"Brasil\\u002fCentro-Oeste\\u002fGO\",\"Brasil\\u002fNordeste\\u002fMA\",\"Brasil\\u002fSudeste\\u002fMG\",\"Brasil\\u002fCentro-Oeste\\u002fMS\",\"Brasil\\u002fCentro-Oeste\\u002fMT\",\"Brasil\\u002fNorte\\u002fPA\",\"Brasil\\u002fNordeste\\u002fPB\",\"Brasil\\u002fNordeste\\u002fPE\",\"Brasil\\u002fNordeste\\u002fPI\",\"Brasil\\u002fSul\\u002fPR\",\"Brasil\\u002fSudeste\\u002fRJ\",\"Brasil\\u002fNordeste\\u002fRN\",\"Brasil\\u002fNorte\\u002fRO\",\"Brasil\\u002fSul\\u002fRS\",\"Brasil\\u002fSul\\u002fSC\",\"Brasil\\u002fNordeste\\u002fSE\",\"Brasil\\u002fSudeste\\u002fSP\",\"Brasil\\u002fCentro-Oeste\\u002fTO\",\"Brasil\\u002fCentro-Oeste\",\"Brasil\\u002fNordeste\",\"Brasil\\u002fNorte\",\"Brasil\\u002fSudeste\",\"Brasil\\u002fSul\",\"Brasil\"],\"labels\":[\"Medi\\u00e7\\u00e3o\",\"Medi\\u00e7\\u00e3o\",\"Biotecnologia\",\"Outras m\\u00e1quinas especiais\",\"Tecnologia m\\u00e9dica\",\"Qu\\u00edmica fina org\\u00e2nica\",\"Controle\",\"Elementos mec\\u00e2nicos\",\"Outras m\\u00e1quinas especiais\",\"An\\u00e1lise de materiais biol\\u00f3gicos\",\"Produtos farmac\\u00eauticos\",\"Qu\\u00edmica Alimentar\",\"Engenharia qu\\u00edmica\",\"Controle\",\"Qu\\u00edmica Alimentar\",\"Medi\\u00e7\\u00e3o\",\"Qu\\u00edmica de materiais b\\u00e1sicos\",\"Tecnologia m\\u00e9dica\",\"Medi\\u00e7\\u00e3o\",\"Produtos farmac\\u00eauticos\",\"Medi\\u00e7\\u00e3o\",\"Controle\",\"Materiais, metalurgia\",\"Tecnologia m\\u00e9dica\",\"Tecnologia m\\u00e9dica\",\"Manuseio\",\"Controle\",\"Qu\\u00edmica macromolecular, pol\\u00edmeros\",\"Qu\\u00edmica de materiais b\\u00e1sicos\",\"Qu\\u00edmica de materiais b\\u00e1sicos\",\"Outros bens de consumo\",\"Engenharia qu\\u00edmica\",\"Qu\\u00edmica Alimentar\",\"M\\u00f3veis, jogos\",\"Tecnologia m\\u00e9dica\",\"Medi\\u00e7\\u00e3o\",\"Biotecnologia\",\"Controle\",\"Qu\\u00edmica de materiais b\\u00e1sicos\",\"Outras m\\u00e1quinas especiais\",\"M\\u00e1quinas t\\u00eaxteis e de papel\",\"Qu\\u00edmica de materiais b\\u00e1sicos\",\"M\\u00f3veis, jogos\",\"Engenharia qu\\u00edmica\",\"Materiais, metalurgia\",\"Medi\\u00e7\\u00e3o\",\"Engenharia Civil\",\"Materiais, metalurgia\",\"Outras m\\u00e1quinas especiais\",\"Qu\\u00edmica Alimentar\",\"Qu\\u00edmica Alimentar\",\"M\\u00f3veis, jogos\",\"Outras m\\u00e1quinas especiais\",\"Biotecnologia\",\"Qu\\u00edmica Alimentar\",\"Qu\\u00edmica de materiais b\\u00e1sicos\",\"Medi\\u00e7\\u00e3o\",\"Controle\",\"Engenharia qu\\u00edmica\",\"Produtos farmac\\u00eauticos\",\"Engenharia qu\\u00edmica\",\"Qu\\u00edmica Alimentar\",\"Qu\\u00edmica de materiais b\\u00e1sicos\",\"Tecnologia m\\u00e9dica\",\"Outras m\\u00e1quinas especiais\",\"Biotecnologia\",\"Materiais, metalurgia\",\"Biotecnologia\",\"Qu\\u00edmica Alimentar\",\"Qu\\u00edmica fina org\\u00e2nica\",\"Materiais, metalurgia\",\"M\\u00e1quinas el\\u00e9tricas, aparelhos, energia\",\"Biotecnologia\",\"Qu\\u00edmica Alimentar\",\"M\\u00f3veis, jogos\",\"Biotecnologia\",\"Qu\\u00edmica Alimentar\",\"Controle\",\"Comunica\\u00e7\\u00e3o digital\",\"Produtos farmac\\u00eauticos\",\"Controle\",\"Engenharia qu\\u00edmica\",\"Outras m\\u00e1quinas especiais\",\"Qu\\u00edmica de materiais b\\u00e1sicos\",\"Medi\\u00e7\\u00e3o\",\"Transporte\",\"Medi\\u00e7\\u00e3o\",\"Engenharia Civil\",\"M\\u00e1quinas el\\u00e9tricas, aparelhos, energia\",\"Materiais, metalurgia\",\"Outras m\\u00e1quinas especiais\",\"Manuseio\",\"Materiais, metalurgia\",\"Elementos mec\\u00e2nicos\",\"Qu\\u00edmica fina org\\u00e2nica\",\"Processos e aparelhos t\\u00e9rmicos\",\"Qu\\u00edmica Alimentar\",\"Qu\\u00edmica macromolecular, pol\\u00edmeros\",\"Controle\",\"Tecnologia m\\u00e9dica\",\"Materiais, metalurgia\",\"Produtos farmac\\u00eauticos\",\"Qu\\u00edmica Alimentar\",\"Outras m\\u00e1quinas especiais\",\"Qu\\u00edmica de materiais b\\u00e1sicos\",\"AC\",\"AL\",\"AM\",\"AP\",\"BA\",\"CE\",\"DF\",\"ES\",\"GO\",\"MA\",\"MG\",\"MS\",\"MT\",\"PA\",\"PB\",\"PE\",\"PI\",\"PR\",\"RJ\",\"RN\",\"RO\",\"RS\",\"SC\",\"SE\",\"SP\",\"TO\",\"Centro-Oeste\",\"Nordeste\",\"Norte\",\"Sudeste\",\"Sul\",\"Brasil\"],\"marker\":{\"colors\":[\"#636efa\",\"#636efa\",\"#EF553B\",\"#00cc96\",\"#ab63fa\",\"#FFA15A\",\"#19d3f3\",\"#FF6692\",\"#00cc96\",\"#B6E880\",\"#FF97FF\",\"#FECB52\",\"#636efa\",\"#19d3f3\",\"#FECB52\",\"#636efa\",\"#EF553B\",\"#ab63fa\",\"#636efa\",\"#FF97FF\",\"#636efa\",\"#19d3f3\",\"#00cc96\",\"#ab63fa\",\"#ab63fa\",\"#ab63fa\",\"#19d3f3\",\"#FFA15A\",\"#EF553B\",\"#EF553B\",\"#19d3f3\",\"#636efa\",\"#FECB52\",\"#FF6692\",\"#ab63fa\",\"#636efa\",\"#EF553B\",\"#19d3f3\",\"#EF553B\",\"#00cc96\",\"#B6E880\",\"#EF553B\",\"#FF6692\",\"#636efa\",\"#00cc96\",\"#636efa\",\"#FF97FF\",\"#00cc96\",\"#00cc96\",\"#FECB52\",\"#FECB52\",\"#FF6692\",\"#00cc96\",\"#EF553B\",\"#FECB52\",\"#EF553B\",\"#636efa\",\"#19d3f3\",\"#636efa\",\"#FF97FF\",\"#636efa\",\"#FECB52\",\"#EF553B\",\"#ab63fa\",\"#00cc96\",\"#EF553B\",\"#00cc96\",\"#EF553B\",\"#FECB52\",\"#FFA15A\",\"#00cc96\",\"#FECB52\",\"#EF553B\",\"#FECB52\",\"#FF6692\",\"#EF553B\",\"#FECB52\",\"#19d3f3\",\"#636efa\",\"#FF97FF\",\"#19d3f3\",\"#636efa\",\"#00cc96\",\"#EF553B\",\"#636efa\",\"#EF553B\",\"#636efa\",\"#FF97FF\",\"#FECB52\",\"#00cc96\",\"#00cc96\",\"#ab63fa\",\"#00cc96\",\"#FF6692\",\"#FFA15A\",\"#00cc96\",\"#FECB52\",\"#FFA15A\",\"#19d3f3\",\"#ab63fa\",\"#00cc96\",\"#FF97FF\",\"#FECB52\",\"#00cc96\",\"#EF553B\",\"#19d3f3\",\"#ab63fa\",\"#ab63fa\",\"#FECB52\",\"#ab63fa\",\"#ab63fa\",\"#ab63fa\",\"#ab63fa\",\"#ab63fa\",\"#ab63fa\",\"#ab63fa\",\"#ab63fa\",\"#ab63fa\",\"#ab63fa\",\"#ab63fa\",\"#ab63fa\",\"#ab63fa\",\"#ab63fa\",\"#ab63fa\",\"#ab63fa\",\"#19d3f3\",\"#ab63fa\",\"#ab63fa\",\"#ab63fa\",\"#ab63fa\",\"#ab63fa\",\"#ab63fa\",\"#ab63fa\",\"#ab63fa\",\"#ab63fa\",\"#ab63fa\",\"#ab63fa\"]},\"name\":\"\",\"parents\":[\"Brasil\\u002fNordeste\\u002fPB\",\"Brasil\\u002fCentro-Oeste\\u002fDF\",\"Brasil\\u002fNordeste\\u002fBA\",\"Brasil\\u002fSudeste\\u002fES\",\"Brasil\\u002fNordeste\\u002fPI\",\"Brasil\\u002fNordeste\\u002fMA\",\"Brasil\\u002fSudeste\\u002fES\",\"Brasil\\u002fSul\\u002fPR\",\"Brasil\\u002fSul\\u002fPR\",\"Brasil\\u002fCentro-Oeste\\u002fMT\",\"Brasil\\u002fNordeste\\u002fMA\",\"Brasil\\u002fNordeste\\u002fBA\",\"Brasil\\u002fCentro-Oeste\\u002fGO\",\"Brasil\\u002fNorte\\u002fRO\",\"Brasil\\u002fSudeste\\u002fRJ\",\"Brasil\\u002fNordeste\\u002fMA\",\"Brasil\\u002fNordeste\\u002fPE\",\"Brasil\\u002fSul\\u002fPR\",\"Brasil\\u002fNordeste\\u002fPE\",\"Brasil\\u002fNordeste\\u002fSE\",\"Brasil\\u002fSul\\u002fRS\",\"Brasil\\u002fCentro-Oeste\\u002fMS\",\"Brasil\\u002fCentro-Oeste\\u002fTO\",\"Brasil\\u002fNordeste\\u002fSE\",\"Brasil\\u002fNordeste\\u002fRN\",\"Brasil\\u002fSul\\u002fRS\",\"Brasil\\u002fSul\\u002fSC\",\"Brasil\\u002fSudeste\\u002fRJ\",\"Brasil\\u002fSul\\u002fSC\",\"Brasil\\u002fCentro-Oeste\\u002fGO\",\"Brasil\\u002fNordeste\\u002fPE\",\"Brasil\\u002fNordeste\\u002fCE\",\"Brasil\\u002fCentro-Oeste\\u002fGO\",\"Brasil\\u002fSul\\u002fRS\",\"Brasil\\u002fSudeste\\u002fSP\",\"Brasil\\u002fSul\\u002fSC\",\"Brasil\\u002fNordeste\\u002fAL\",\"Brasil\\u002fSul\\u002fPR\",\"Brasil\\u002fCentro-Oeste\\u002fTO\",\"Brasil\\u002fCentro-Oeste\\u002fGO\",\"Brasil\\u002fNordeste\\u002fRN\",\"Brasil\\u002fSudeste\\u002fMG\",\"Brasil\\u002fNordeste\\u002fPB\",\"Brasil\\u002fSudeste\\u002fMG\",\"Brasil\\u002fNordeste\\u002fAL\",\"Brasil\\u002fSudeste\\u002fES\",\"Brasil\\u002fNordeste\\u002fBA\",\"Brasil\\u002fNordeste\\u002fPI\",\"Brasil\\u002fNordeste\\u002fCE\",\"Brasil\\u002fNordeste\\u002fPB\",\"Brasil\\u002fNordeste\\u002fPI\",\"Brasil\\u002fNordeste\\u002fPI\",\"Brasil\\u002fSul\\u002fSC\",\"Brasil\\u002fCentro-Oeste\\u002fDF\",\"Brasil\\u002fNordeste\\u002fRN\",\"Brasil\\u002fCentro-Oeste\\u002fMT\",\"Brasil\\u002fSudeste\\u002fMG\",\"Brasil\\u002fSudeste\\u002fSP\",\"Brasil\\u002fNordeste\\u002fSE\",\"Brasil\\u002fSudeste\\u002fMG\",\"Brasil\\u002fSudeste\\u002fSP\",\"Brasil\\u002fNorte\\u002fAP\",\"Brasil\\u002fNordeste\\u002fMA\",\"Brasil\\u002fNordeste\\u002fBA\",\"Brasil\\u002fSudeste\\u002fRJ\",\"Brasil\\u002fSudeste\\u002fSP\",\"Brasil\\u002fNordeste\\u002fRN\",\"Brasil\\u002fSudeste\\u002fMG\",\"Brasil\\u002fNordeste\\u002fCE\",\"Brasil\\u002fNordeste\\u002fCE\",\"Brasil\\u002fNorte\\u002fPA\",\"Brasil\\u002fNordeste\\u002fPB\",\"Brasil\\u002fNordeste\\u002fPE\",\"Brasil\\u002fNorte\\u002fPA\",\"Brasil\\u002fNordeste\\u002fAL\",\"Brasil\\u002fNordeste\\u002fSE\",\"Brasil\\u002fNordeste\\u002fAL\",\"Brasil\\u002fSudeste\\u002fRJ\",\"Brasil\\u002fNordeste\\u002fPE\",\"Brasil\\u002fNordeste\\u002fAL\",\"Brasil\\u002fNordeste\\u002fCE\",\"Brasil\\u002fCentro-Oeste\\u002fTO\",\"Brasil\\u002fSudeste\\u002fSP\",\"Brasil\\u002fNorte\\u002fPA\",\"Brasil\\u002fNorte\\u002fPA\",\"Brasil\\u002fSul\\u002fRS\",\"Brasil\\u002fCentro-Oeste\\u002fGO\",\"Brasil\\u002fCentro-Oeste\\u002fMT\",\"Brasil\\u002fNordeste\\u002fRN\",\"Brasil\\u002fNordeste\\u002fBA\",\"Brasil\\u002fCentro-Oeste\\u002fMS\",\"Brasil\\u002fSul\\u002fSC\",\"Brasil\\u002fNordeste\\u002fPB\",\"Brasil\\u002fCentro-Oeste\\u002fMT\",\"Brasil\\u002fNordeste\\u002fSE\",\"Brasil\\u002fNorte\\u002fAM\",\"Brasil\\u002fNorte\\u002fAM\",\"Brasil\\u002fNordeste\\u002fPI\",\"Brasil\\u002fNorte\\u002fAC\",\"Brasil\\u002fNordeste\\u002fMA\",\"Brasil\\u002fSudeste\\u002fES\",\"Brasil\\u002fSudeste\\u002fRJ\",\"Brasil\\u002fSul\\u002fPR\",\"Brasil\\u002fSul\\u002fRS\",\"Brasil\\u002fSudeste\\u002fES\",\"Brasil\\u002fNorte\",\"Brasil\\u002fNordeste\",\"Brasil\\u002fNorte\",\"Brasil\\u002fNorte\",\"Brasil\\u002fNordeste\",\"Brasil\\u002fNordeste\",\"Brasil\\u002fCentro-Oeste\",\"Brasil\\u002fSudeste\",\"Brasil\\u002fCentro-Oeste\",\"Brasil\\u002fNordeste\",\"Brasil\\u002fSudeste\",\"Brasil\\u002fCentro-Oeste\",\"Brasil\\u002fCentro-Oeste\",\"Brasil\\u002fNorte\",\"Brasil\\u002fNordeste\",\"Brasil\\u002fNordeste\",\"Brasil\\u002fNordeste\",\"Brasil\\u002fSul\",\"Brasil\\u002fSudeste\",\"Brasil\\u002fNordeste\",\"Brasil\\u002fNorte\",\"Brasil\\u002fSul\",\"Brasil\\u002fSul\",\"Brasil\\u002fNordeste\",\"Brasil\\u002fSudeste\",\"Brasil\\u002fCentro-Oeste\",\"Brasil\",\"Brasil\",\"Brasil\",\"Brasil\",\"Brasil\",\"\"],\"values\":[3,1,1,2,4,3,2,3,5,1,3,3,3,1,13,2,3,4,3,7,3,1,1,2,2,4,3,7,4,3,2,2,4,7,2,3,1,6,1,5,2,4,3,8,3,2,1,1,2,7,2,2,8,1,3,2,4,1,1,10,1,1,4,8,6,1,10,4,5,2,3,2,4,3,1,2,1,3,2,1,2,1,3,2,1,6,2,1,2,1,1,3,2,1,2,1,5,1,1,4,4,3,8,4,6,1,7,6,1,14,13,2,16,17,16,30,2,5,9,17,14,10,26,32,19,1,24,21,14,8,3,29,124,18,86,71,328],\"type\":\"treemap\"}],                        {\"template\":{\"data\":{\"histogram2dcontour\":[{\"type\":\"histogram2dcontour\",\"colorbar\":{\"outlinewidth\":0,\"ticks\":\"\"},\"colorscale\":[[0.0,\"#0d0887\"],[0.1111111111111111,\"#46039f\"],[0.2222222222222222,\"#7201a8\"],[0.3333333333333333,\"#9c179e\"],[0.4444444444444444,\"#bd3786\"],[0.5555555555555556,\"#d8576b\"],[0.6666666666666666,\"#ed7953\"],[0.7777777777777778,\"#fb9f3a\"],[0.8888888888888888,\"#fdca26\"],[1.0,\"#f0f921\"]]}],\"choropleth\":[{\"type\":\"choropleth\",\"colorbar\":{\"outlinewidth\":0,\"ticks\":\"\"}}],\"histogram2d\":[{\"type\":\"histogram2d\",\"colorbar\":{\"outlinewidth\":0,\"ticks\":\"\"},\"colorscale\":[[0.0,\"#0d0887\"],[0.1111111111111111,\"#46039f\"],[0.2222222222222222,\"#7201a8\"],[0.3333333333333333,\"#9c179e\"],[0.4444444444444444,\"#bd3786\"],[0.5555555555555556,\"#d8576b\"],[0.6666666666666666,\"#ed7953\"],[0.7777777777777778,\"#fb9f3a\"],[0.8888888888888888,\"#fdca26\"],[1.0,\"#f0f921\"]]}],\"heatmap\":[{\"type\":\"heatmap\",\"colorbar\":{\"outlinewidth\":0,\"ticks\":\"\"},\"colorscale\":[[0.0,\"#0d0887\"],[0.1111111111111111,\"#46039f\"],[0.2222222222222222,\"#7201a8\"],[0.3333333333333333,\"#9c179e\"],[0.4444444444444444,\"#bd3786\"],[0.5555555555555556,\"#d8576b\"],[0.6666666666666666,\"#ed7953\"],[0.7777777777777778,\"#fb9f3a\"],[0.8888888888888888,\"#fdca26\"],[1.0,\"#f0f921\"]]}],\"heatmapgl\":[{\"type\":\"heatmapgl\",\"colorbar\":{\"outlinewidth\":0,\"ticks\":\"\"},\"colorscale\":[[0.0,\"#0d0887\"],[0.1111111111111111,\"#46039f\"],[0.2222222222222222,\"#7201a8\"],[0.3333333333333333,\"#9c179e\"],[0.4444444444444444,\"#bd3786\"],[0.5555555555555556,\"#d8576b\"],[0.6666666666666666,\"#ed7953\"],[0.7777777777777778,\"#fb9f3a\"],[0.8888888888888888,\"#fdca26\"],[1.0,\"#f0f921\"]]}],\"contourcarpet\":[{\"type\":\"contourcarpet\",\"colorbar\":{\"outlinewidth\":0,\"ticks\":\"\"}}],\"contour\":[{\"type\":\"contour\",\"colorbar\":{\"outlinewidth\":0,\"ticks\":\"\"},\"colorscale\":[[0.0,\"#0d0887\"],[0.1111111111111111,\"#46039f\"],[0.2222222222222222,\"#7201a8\"],[0.3333333333333333,\"#9c179e\"],[0.4444444444444444,\"#bd3786\"],[0.5555555555555556,\"#d8576b\"],[0.6666666666666666,\"#ed7953\"],[0.7777777777777778,\"#fb9f3a\"],[0.8888888888888888,\"#fdca26\"],[1.0,\"#f0f921\"]]}],\"surface\":[{\"type\":\"surface\",\"colorbar\":{\"outlinewidth\":0,\"ticks\":\"\"},\"colorscale\":[[0.0,\"#0d0887\"],[0.1111111111111111,\"#46039f\"],[0.2222222222222222,\"#7201a8\"],[0.3333333333333333,\"#9c179e\"],[0.4444444444444444,\"#bd3786\"],[0.5555555555555556,\"#d8576b\"],[0.6666666666666666,\"#ed7953\"],[0.7777777777777778,\"#fb9f3a\"],[0.8888888888888888,\"#fdca26\"],[1.0,\"#f0f921\"]]}],\"mesh3d\":[{\"type\":\"mesh3d\",\"colorbar\":{\"outlinewidth\":0,\"ticks\":\"\"}}],\"scatter\":[{\"fillpattern\":{\"fillmode\":\"overlay\",\"size\":10,\"solidity\":0.2},\"type\":\"scatter\"}],\"parcoords\":[{\"type\":\"parcoords\",\"line\":{\"colorbar\":{\"outlinewidth\":0,\"ticks\":\"\"}}}],\"scatterpolargl\":[{\"type\":\"scatterpolargl\",\"marker\":{\"colorbar\":{\"outlinewidth\":0,\"ticks\":\"\"}}}],\"bar\":[{\"error_x\":{\"color\":\"#2a3f5f\"},\"error_y\":{\"color\":\"#2a3f5f\"},\"marker\":{\"line\":{\"color\":\"#E5ECF6\",\"width\":0.5},\"pattern\":{\"fillmode\":\"overlay\",\"size\":10,\"solidity\":0.2}},\"type\":\"bar\"}],\"scattergeo\":[{\"type\":\"scattergeo\",\"marker\":{\"colorbar\":{\"outlinewidth\":0,\"ticks\":\"\"}}}],\"scatterpolar\":[{\"type\":\"scatterpolar\",\"marker\":{\"colorbar\":{\"outlinewidth\":0,\"ticks\":\"\"}}}],\"histogram\":[{\"marker\":{\"pattern\":{\"fillmode\":\"overlay\",\"size\":10,\"solidity\":0.2}},\"type\":\"histogram\"}],\"scattergl\":[{\"type\":\"scattergl\",\"marker\":{\"colorbar\":{\"outlinewidth\":0,\"ticks\":\"\"}}}],\"scatter3d\":[{\"type\":\"scatter3d\",\"line\":{\"colorbar\":{\"outlinewidth\":0,\"ticks\":\"\"}},\"marker\":{\"colorbar\":{\"outlinewidth\":0,\"ticks\":\"\"}}}],\"scattermapbox\":[{\"type\":\"scattermapbox\",\"marker\":{\"colorbar\":{\"outlinewidth\":0,\"ticks\":\"\"}}}],\"scatterternary\":[{\"type\":\"scatterternary\",\"marker\":{\"colorbar\":{\"outlinewidth\":0,\"ticks\":\"\"}}}],\"scattercarpet\":[{\"type\":\"scattercarpet\",\"marker\":{\"colorbar\":{\"outlinewidth\":0,\"ticks\":\"\"}}}],\"carpet\":[{\"aaxis\":{\"endlinecolor\":\"#2a3f5f\",\"gridcolor\":\"white\",\"linecolor\":\"white\",\"minorgridcolor\":\"white\",\"startlinecolor\":\"#2a3f5f\"},\"baxis\":{\"endlinecolor\":\"#2a3f5f\",\"gridcolor\":\"white\",\"linecolor\":\"white\",\"minorgridcolor\":\"white\",\"startlinecolor\":\"#2a3f5f\"},\"type\":\"carpet\"}],\"table\":[{\"cells\":{\"fill\":{\"color\":\"#EBF0F8\"},\"line\":{\"color\":\"white\"}},\"header\":{\"fill\":{\"color\":\"#C8D4E3\"},\"line\":{\"color\":\"white\"}},\"type\":\"table\"}],\"barpolar\":[{\"marker\":{\"line\":{\"color\":\"#E5ECF6\",\"width\":0.5},\"pattern\":{\"fillmode\":\"overlay\",\"size\":10,\"solidity\":0.2}},\"type\":\"barpolar\"}],\"pie\":[{\"automargin\":true,\"type\":\"pie\"}]},\"layout\":{\"autotypenumbers\":\"strict\",\"colorway\":[\"#636efa\",\"#EF553B\",\"#00cc96\",\"#ab63fa\",\"#FFA15A\",\"#19d3f3\",\"#FF6692\",\"#B6E880\",\"#FF97FF\",\"#FECB52\"],\"font\":{\"color\":\"#2a3f5f\"},\"hovermode\":\"closest\",\"hoverlabel\":{\"align\":\"left\"},\"paper_bgcolor\":\"white\",\"plot_bgcolor\":\"#E5ECF6\",\"polar\":{\"bgcolor\":\"#E5ECF6\",\"angularaxis\":{\"gridcolor\":\"white\",\"linecolor\":\"white\",\"ticks\":\"\"},\"radialaxis\":{\"gridcolor\":\"white\",\"linecolor\":\"white\",\"ticks\":\"\"}},\"ternary\":{\"bgcolor\":\"#E5ECF6\",\"aaxis\":{\"gridcolor\":\"white\",\"linecolor\":\"white\",\"ticks\":\"\"},\"baxis\":{\"gridcolor\":\"white\",\"linecolor\":\"white\",\"ticks\":\"\"},\"caxis\":{\"gridcolor\":\"white\",\"linecolor\":\"white\",\"ticks\":\"\"}},\"coloraxis\":{\"colorbar\":{\"outlinewidth\":0,\"ticks\":\"\"}},\"colorscale\":{\"sequential\":[[0.0,\"#0d0887\"],[0.1111111111111111,\"#46039f\"],[0.2222222222222222,\"#7201a8\"],[0.3333333333333333,\"#9c179e\"],[0.4444444444444444,\"#bd3786\"],[0.5555555555555556,\"#d8576b\"],[0.6666666666666666,\"#ed7953\"],[0.7777777777777778,\"#fb9f3a\"],[0.8888888888888888,\"#fdca26\"],[1.0,\"#f0f921\"]],\"sequentialminus\":[[0.0,\"#0d0887\"],[0.1111111111111111,\"#46039f\"],[0.2222222222222222,\"#7201a8\"],[0.3333333333333333,\"#9c179e\"],[0.4444444444444444,\"#bd3786\"],[0.5555555555555556,\"#d8576b\"],[0.6666666666666666,\"#ed7953\"],[0.7777777777777778,\"#fb9f3a\"],[0.8888888888888888,\"#fdca26\"],[1.0,\"#f0f921\"]],\"diverging\":[[0,\"#8e0152\"],[0.1,\"#c51b7d\"],[0.2,\"#de77ae\"],[0.3,\"#f1b6da\"],[0.4,\"#fde0ef\"],[0.5,\"#f7f7f7\"],[0.6,\"#e6f5d0\"],[0.7,\"#b8e186\"],[0.8,\"#7fbc41\"],[0.9,\"#4d9221\"],[1,\"#276419\"]]},\"xaxis\":{\"gridcolor\":\"white\",\"linecolor\":\"white\",\"ticks\":\"\",\"title\":{\"standoff\":15},\"zerolinecolor\":\"white\",\"automargin\":true,\"zerolinewidth\":2},\"yaxis\":{\"gridcolor\":\"white\",\"linecolor\":\"white\",\"ticks\":\"\",\"title\":{\"standoff\":15},\"zerolinecolor\":\"white\",\"automargin\":true,\"zerolinewidth\":2},\"scene\":{\"xaxis\":{\"backgroundcolor\":\"#E5ECF6\",\"gridcolor\":\"white\",\"linecolor\":\"white\",\"showbackground\":true,\"ticks\":\"\",\"zerolinecolor\":\"white\",\"gridwidth\":2},\"yaxis\":{\"backgroundcolor\":\"#E5ECF6\",\"gridcolor\":\"white\",\"linecolor\":\"white\",\"showbackground\":true,\"ticks\":\"\",\"zerolinecolor\":\"white\",\"gridwidth\":2},\"zaxis\":{\"backgroundcolor\":\"#E5ECF6\",\"gridcolor\":\"white\",\"linecolor\":\"white\",\"showbackground\":true,\"ticks\":\"\",\"zerolinecolor\":\"white\",\"gridwidth\":2}},\"shapedefaults\":{\"line\":{\"color\":\"#2a3f5f\"}},\"annotationdefaults\":{\"arrowcolor\":\"#2a3f5f\",\"arrowhead\":0,\"arrowwidth\":1},\"geo\":{\"bgcolor\":\"white\",\"landcolor\":\"#E5ECF6\",\"subunitcolor\":\"white\",\"showland\":true,\"showlakes\":true,\"lakecolor\":\"white\"},\"title\":{\"x\":0.05},\"mapbox\":{\"style\":\"light\"}}},\"legend\":{\"tracegroupgap\":0},\"margin\":{\"t\":50,\"l\":25,\"r\":25,\"b\":25}},                        {\"responsive\": true}                    ).then(function(){\n",
       "                            \n",
       "var gd = document.getElementById('9c09ebb0-847c-4aa6-b6c2-663419908a29');\n",
       "var x = new MutationObserver(function (mutations, observer) {{\n",
       "        var display = window.getComputedStyle(gd).display;\n",
       "        if (!display || display === 'none') {{\n",
       "            console.log([gd, 'removed!']);\n",
       "            Plotly.purge(gd);\n",
       "            observer.disconnect();\n",
       "        }}\n",
       "}});\n",
       "\n",
       "// Listen for the removal of the full notebook cells\n",
       "var notebookContainer = gd.closest('#notebook-container');\n",
       "if (notebookContainer) {{\n",
       "    x.observe(notebookContainer, {childList: true});\n",
       "}}\n",
       "\n",
       "// Listen for the clearing of the current output cell\n",
       "var outputEl = gd.closest('.output');\n",
       "if (outputEl) {{\n",
       "    x.observe(outputEl, {childList: true});\n",
       "}}\n",
       "\n",
       "                        })                };                });            </script>        </div>"
      ]
     },
     "metadata": {},
     "output_type": "display_data"
    }
   ],
   "source": [
    "import plotly.express as px\n",
    "\n",
    "grouped_regiao_sorted = grouped_regiao_IF.sort_values(by=['titular_uf1', 'contagem'], ascending=[True, False])\n",
    "\n",
    "\n",
    "top_5_per_state = grouped_regiao_sorted.groupby('titular_uf1').head(5).reset_index()\n",
    "\n",
    "\n",
    "fig = px.treemap(top_5_per_state, \n",
    "                 path=[px.Constant(\"Brasil\"),'Regiao', 'titular_uf1', 'Area'], \n",
    "                 values='contagem', \n",
    "                 color='Area',\n",
    "                 color_continuous_scale='RdBu')\n",
    "\n",
    "fig.update_layout(margin=dict(t=50, l=25, r=25, b=25))\n",
    "fig.write_image('streamlit/img/imagem_area_tecnologica_regiaoIF.png')\n",
    "\n",
    "fig.show()\n"
   ]
  },
  {
   "cell_type": "markdown",
   "id": "47aa6dc4-6c80-419b-8f9e-7047dae0e8f7",
   "metadata": {},
   "source": [
    "### 2. Universidades"
   ]
  },
  {
   "cell_type": "code",
   "execution_count": 29,
   "id": "a6903088-49b9-4792-8c89-021a25b36d76",
   "metadata": {
    "tags": []
   },
   "outputs": [
    {
     "data": {
      "application/vnd.plotly.v1+json": {
       "config": {
        "plotlyServerURL": "https://plot.ly"
       },
       "data": [
        {
         "branchvalues": "total",
         "customdata": [
          [
           "Química Alimentar"
          ],
          [
           "Química de materiais básicos"
          ],
          [
           "Telecomunicações"
          ],
          [
           "Produtos farmacêuticos"
          ],
          [
           "Produtos farmacêuticos"
          ],
          [
           "Química Alimentar"
          ],
          [
           "Química Alimentar"
          ],
          [
           "Materiais, metalurgia"
          ],
          [
           "Outras máquinas especiais"
          ],
          [
           "Química de materiais básicos"
          ],
          [
           "Comunicação digital"
          ],
          [
           "Química de materiais básicos"
          ],
          [
           "Engenharia química"
          ],
          [
           "Biotecnologia"
          ],
          [
           "Biotecnologia"
          ],
          [
           "Tecnologia médica"
          ],
          [
           "Biotecnologia"
          ],
          [
           "Biotecnologia"
          ],
          [
           "Materiais, metalurgia"
          ],
          [
           "Tecnologia médica"
          ],
          [
           "Medição"
          ],
          [
           "Produtos farmacêuticos"
          ],
          [
           "Materiais, metalurgia"
          ],
          [
           "Química de materiais básicos"
          ],
          [
           "Biotecnologia"
          ],
          [
           "Química Alimentar"
          ],
          [
           "Química fina orgânica"
          ],
          [
           "Química Alimentar"
          ],
          [
           "Produtos farmacêuticos"
          ],
          [
           "Produtos farmacêuticos"
          ],
          [
           "Engenharia química"
          ],
          [
           "Química de materiais básicos"
          ],
          [
           "Química fina orgânica"
          ],
          [
           "Química macromolecular, polímeros"
          ],
          [
           "Medição"
          ],
          [
           "Produtos farmacêuticos"
          ],
          [
           "Materiais, metalurgia"
          ],
          [
           "Outras máquinas especiais"
          ],
          [
           "Medição"
          ],
          [
           "Química fina orgânica"
          ],
          [
           "Química de materiais básicos"
          ],
          [
           "Controle"
          ],
          [
           "Química fina orgânica"
          ],
          [
           "Produtos farmacêuticos"
          ],
          [
           "Produtos farmacêuticos"
          ],
          [
           "Produtos farmacêuticos"
          ],
          [
           "Química fina orgânica"
          ],
          [
           "Produtos farmacêuticos"
          ],
          [
           "Medição"
          ],
          [
           "Biotecnologia"
          ],
          [
           "Outras máquinas especiais"
          ],
          [
           "Materiais, metalurgia"
          ],
          [
           "Produtos farmacêuticos"
          ],
          [
           "Química Alimentar"
          ],
          [
           "Materiais, metalurgia"
          ],
          [
           "Engenharia química"
          ],
          [
           "Química de materiais básicos"
          ],
          [
           "Química de materiais básicos"
          ],
          [
           "Medição"
          ],
          [
           "Biotecnologia"
          ],
          [
           "Química fina orgânica"
          ],
          [
           "Biotecnologia"
          ],
          [
           "Química fina orgânica"
          ],
          [
           "Tecnologia médica"
          ],
          [
           "Química de materiais básicos"
          ],
          [
           "Produtos farmacêuticos"
          ],
          [
           "Química de materiais básicos"
          ],
          [
           "Análise de materiais biológicos"
          ],
          [
           "Medição"
          ],
          [
           "Produtos farmacêuticos"
          ],
          [
           "Produtos farmacêuticos"
          ],
          [
           "Medição"
          ],
          [
           "Produtos farmacêuticos"
          ],
          [
           "Biotecnologia"
          ],
          [
           "Biotecnologia"
          ],
          [
           "Produtos farmacêuticos"
          ],
          [
           "Química Alimentar"
          ],
          [
           "Biotecnologia"
          ],
          [
           "Química Alimentar"
          ],
          [
           "Tecnologia médica"
          ],
          [
           "Química macromolecular, polímeros"
          ],
          [
           "Engenharia química"
          ],
          [
           "Engenharia química"
          ],
          [
           "Móveis, jogos"
          ],
          [
           "Química fina orgânica"
          ],
          [
           "Tecnologia Ambiental"
          ],
          [
           "Produtos farmacêuticos"
          ],
          [
           "Tecnologia médica"
          ],
          [
           "Análise de materiais biológicos"
          ],
          [
           "Produtos farmacêuticos"
          ],
          [
           "Química de materiais básicos"
          ],
          [
           "Tecnologia médica"
          ],
          [
           "Química Alimentar"
          ],
          [
           "Química de materiais básicos"
          ],
          [
           "Materiais, metalurgia"
          ],
          [
           "Medição"
          ],
          [
           "Materiais, metalurgia"
          ],
          [
           "Química Alimentar"
          ],
          [
           "Medição"
          ],
          [
           "Tecnologia médica"
          ],
          [
           "Engenharia química"
          ],
          [
           "Medição"
          ],
          [
           "Outros bens de consumo"
          ],
          [
           "Biotecnologia"
          ],
          [
           "Produtos farmacêuticos"
          ],
          [
           "Química de materiais básicos"
          ],
          [
           "Biotecnologia"
          ],
          [
           "Tecnologia médica"
          ],
          [
           "Química de materiais básicos"
          ],
          [
           "Elementos mecânicos"
          ],
          [
           "Tecnologia médica"
          ],
          [
           "Química de materiais básicos"
          ],
          [
           "Química macromolecular, polímeros"
          ],
          [
           "Materiais, metalurgia"
          ],
          [
           "Química fina orgânica"
          ],
          [
           "Produtos farmacêuticos"
          ],
          [
           "Outras máquinas especiais"
          ],
          [
           "Biotecnologia"
          ],
          [
           "Química Alimentar"
          ],
          [
           "Produtos farmacêuticos"
          ],
          [
           "(?)"
          ],
          [
           "(?)"
          ],
          [
           "(?)"
          ],
          [
           "(?)"
          ],
          [
           "(?)"
          ],
          [
           "(?)"
          ],
          [
           "(?)"
          ],
          [
           "(?)"
          ],
          [
           "(?)"
          ],
          [
           "(?)"
          ],
          [
           "(?)"
          ],
          [
           "(?)"
          ],
          [
           "(?)"
          ],
          [
           "(?)"
          ],
          [
           "(?)"
          ],
          [
           "(?)"
          ],
          [
           "(?)"
          ],
          [
           "(?)"
          ],
          [
           "(?)"
          ],
          [
           "(?)"
          ],
          [
           "(?)"
          ],
          [
           "(?)"
          ],
          [
           "(?)"
          ],
          [
           "(?)"
          ],
          [
           "(?)"
          ],
          [
           "(?)"
          ],
          [
           "(?)"
          ],
          [
           "(?)"
          ],
          [
           "(?)"
          ],
          [
           "(?)"
          ]
         ],
         "domain": {
          "x": [
           0,
           1
          ],
          "y": [
           0,
           1
          ]
         },
         "hovertemplate": "labels=%{label}<br>contagem=%{value}<br>parent=%{parent}<br>id=%{id}<br>Area=%{customdata[0]}<extra></extra>",
         "ids": [
          "Brasil/Nordeste/PI/Química Alimentar",
          "Brasil/Nordeste/SE/Química de materiais básicos",
          "Brasil/Norte/PA/Telecomunicações",
          "Brasil/Norte/AM/Produtos farmacêuticos",
          "Brasil/Nordeste/SE/Produtos farmacêuticos",
          "Brasil/Norte/AM/Química Alimentar",
          "Brasil/Nordeste/SE/Química Alimentar",
          "Brasil/Nordeste/CE/Materiais, metalurgia",
          "Brasil/Nordeste/MA/Outras máquinas especiais",
          "Brasil/Centro-Oeste/GO/Química de materiais básicos",
          "Brasil/Norte/AM/Comunicação digital",
          "Brasil/Centro-Oeste/TO/Química de materiais básicos",
          "Brasil/Sudeste/RJ/Engenharia química",
          "Brasil/Nordeste/AL/Biotecnologia",
          "Brasil/Sudeste/MG/Biotecnologia",
          "Brasil/Nordeste/AL/Tecnologia médica",
          "Brasil/Centro-Oeste/MS/Biotecnologia",
          "Brasil/Sul/PR/Biotecnologia",
          "Brasil/Nordeste/SE/Materiais, metalurgia",
          "Brasil/Nordeste/RN/Tecnologia médica",
          "Brasil/Sudeste/MG/Medição",
          "Brasil/Nordeste/PE/Produtos farmacêuticos",
          "Brasil/Sul/RS/Materiais, metalurgia",
          "Brasil/Centro-Oeste/MT/Química de materiais básicos",
          "Brasil/Nordeste/CE/Biotecnologia",
          "Brasil/Centro-Oeste/TO/Química Alimentar",
          "Brasil/Nordeste/CE/Química fina orgânica",
          "Brasil/Centro-Oeste/MS/Química Alimentar",
          "Brasil/Nordeste/PI/Produtos farmacêuticos",
          "Brasil/Sul/SC/Produtos farmacêuticos",
          "Brasil/Sudeste/ES/Engenharia química",
          "Brasil/Sul/PR/Química de materiais básicos",
          "Brasil/Centro-Oeste/MT/Química fina orgânica",
          "Brasil/Sudeste/SP/Química macromolecular, polímeros",
          "Brasil/Centro-Oeste/MT/Medição",
          "Brasil/Nordeste/MA/Produtos farmacêuticos",
          "Brasil/Sul/PR/Materiais, metalurgia",
          "Brasil/Sul/RS/Outras máquinas especiais",
          "Brasil/Nordeste/BA/Medição",
          "Brasil/Sudeste/RJ/Química fina orgânica",
          "Brasil/Nordeste/PB/Química de materiais básicos",
          "Brasil/Norte/AP/Controle",
          "Brasil/Centro-Oeste/GO/Química fina orgânica",
          "Brasil/Sul/PR/Produtos farmacêuticos",
          "Brasil/Sudeste/MG/Produtos farmacêuticos",
          "Brasil/Centro-Oeste/DF/Produtos farmacêuticos",
          "Brasil/Norte/AP/Química fina orgânica",
          "Brasil/Centro-Oeste/MS/Produtos farmacêuticos",
          "Brasil/Sul/SC/Medição",
          "Brasil/Sudeste/RJ/Biotecnologia",
          "Brasil/Centro-Oeste/MS/Outras máquinas especiais",
          "Brasil/Sul/SC/Materiais, metalurgia",
          "Brasil/Centro-Oeste/TO/Produtos farmacêuticos",
          "Brasil/Nordeste/MA/Química Alimentar",
          "Brasil/Norte/PA/Materiais, metalurgia",
          "Brasil/Norte/PA/Engenharia química",
          "Brasil/Nordeste/MA/Química de materiais básicos",
          "Brasil/Sudeste/SP/Química de materiais básicos",
          "Brasil/Centro-Oeste/DF/Medição",
          "Brasil/Nordeste/PE/Biotecnologia",
          "Brasil/Sudeste/MG/Química fina orgânica",
          "Brasil/Centro-Oeste/DF/Biotecnologia",
          "Brasil/Sudeste/SP/Química fina orgânica",
          "Brasil/Sul/SC/Tecnologia médica",
          "Brasil/Nordeste/RN/Química de materiais básicos",
          "Brasil/Nordeste/RN/Produtos farmacêuticos",
          "Brasil/Nordeste/BA/Química de materiais básicos",
          "Brasil/Nordeste/PI/Análise de materiais biológicos",
          "Brasil/Norte/PA/Medição",
          "Brasil/Norte/AP/Produtos farmacêuticos",
          "Brasil/Norte/PA/Produtos farmacêuticos",
          "Brasil/Sul/RS/Medição",
          "Brasil/Sudeste/RJ/Produtos farmacêuticos",
          "Brasil/Centro-Oeste/TO/Biotecnologia",
          "Brasil/Nordeste/PB/Biotecnologia",
          "Brasil/Nordeste/AL/Produtos farmacêuticos",
          "Brasil/Nordeste/PB/Química Alimentar",
          "Brasil/Nordeste/BA/Biotecnologia",
          "Brasil/Nordeste/BA/Química Alimentar",
          "Brasil/Nordeste/SE/Tecnologia médica",
          "Brasil/Norte/AP/Química macromolecular, polímeros",
          "Brasil/Centro-Oeste/GO/Engenharia química",
          "Brasil/Norte/AM/Engenharia química",
          "Brasil/Centro-Oeste/MT/Móveis, jogos",
          "Brasil/Nordeste/PE/Química fina orgânica",
          "Brasil/Nordeste/BA/Tecnologia Ambiental",
          "Brasil/Sudeste/ES/Produtos farmacêuticos",
          "Brasil/Centro-Oeste/MS/Tecnologia médica",
          "Brasil/Nordeste/RN/Análise de materiais biológicos",
          "Brasil/Sul/RS/Produtos farmacêuticos",
          "Brasil/Sul/SC/Química de materiais básicos",
          "Brasil/Sudeste/SP/Tecnologia médica",
          "Brasil/Nordeste/AL/Química Alimentar",
          "Brasil/Centro-Oeste/DF/Química de materiais básicos",
          "Brasil/Nordeste/PI/Materiais, metalurgia",
          "Brasil/Sudeste/ES/Medição",
          "Brasil/Nordeste/RN/Materiais, metalurgia",
          "Brasil/Nordeste/CE/Química Alimentar",
          "Brasil/Sudeste/RJ/Medição",
          "Brasil/Nordeste/PI/Tecnologia médica",
          "Brasil/Centro-Oeste/TO/Engenharia química",
          "Brasil/Centro-Oeste/GO/Medição",
          "Brasil/Norte/AP/Outros bens de consumo",
          "Brasil/Sul/RS/Biotecnologia",
          "Brasil/Centro-Oeste/GO/Produtos farmacêuticos",
          "Brasil/Sudeste/ES/Química de materiais básicos",
          "Brasil/Sudeste/SP/Biotecnologia",
          "Brasil/Sudeste/MG/Tecnologia médica",
          "Brasil/Nordeste/AL/Química de materiais básicos",
          "Brasil/Sudeste/ES/Elementos mecânicos",
          "Brasil/Centro-Oeste/DF/Tecnologia médica",
          "Brasil/Nordeste/PE/Química de materiais básicos",
          "Brasil/Sul/PR/Química macromolecular, polímeros",
          "Brasil/Nordeste/PB/Materiais, metalurgia",
          "Brasil/Nordeste/MA/Química fina orgânica",
          "Brasil/Nordeste/CE/Produtos farmacêuticos",
          "Brasil/Centro-Oeste/MT/Outras máquinas especiais",
          "Brasil/Norte/AM/Biotecnologia",
          "Brasil/Nordeste/PE/Química Alimentar",
          "Brasil/Nordeste/PB/Produtos farmacêuticos",
          "Brasil/Nordeste/AL",
          "Brasil/Norte/AM",
          "Brasil/Norte/AP",
          "Brasil/Nordeste/BA",
          "Brasil/Nordeste/CE",
          "Brasil/Centro-Oeste/DF",
          "Brasil/Sudeste/ES",
          "Brasil/Centro-Oeste/GO",
          "Brasil/Nordeste/MA",
          "Brasil/Sudeste/MG",
          "Brasil/Centro-Oeste/MS",
          "Brasil/Centro-Oeste/MT",
          "Brasil/Norte/PA",
          "Brasil/Nordeste/PB",
          "Brasil/Nordeste/PE",
          "Brasil/Nordeste/PI",
          "Brasil/Sul/PR",
          "Brasil/Sudeste/RJ",
          "Brasil/Nordeste/RN",
          "Brasil/Sul/RS",
          "Brasil/Sul/SC",
          "Brasil/Nordeste/SE",
          "Brasil/Sudeste/SP",
          "Brasil/Centro-Oeste/TO",
          "Brasil/Centro-Oeste",
          "Brasil/Nordeste",
          "Brasil/Norte",
          "Brasil/Sudeste",
          "Brasil/Sul",
          "Brasil"
         ],
         "labels": [
          "Química Alimentar",
          "Química de materiais básicos",
          "Telecomunicações",
          "Produtos farmacêuticos",
          "Produtos farmacêuticos",
          "Química Alimentar",
          "Química Alimentar",
          "Materiais, metalurgia",
          "Outras máquinas especiais",
          "Química de materiais básicos",
          "Comunicação digital",
          "Química de materiais básicos",
          "Engenharia química",
          "Biotecnologia",
          "Biotecnologia",
          "Tecnologia médica",
          "Biotecnologia",
          "Biotecnologia",
          "Materiais, metalurgia",
          "Tecnologia médica",
          "Medição",
          "Produtos farmacêuticos",
          "Materiais, metalurgia",
          "Química de materiais básicos",
          "Biotecnologia",
          "Química Alimentar",
          "Química fina orgânica",
          "Química Alimentar",
          "Produtos farmacêuticos",
          "Produtos farmacêuticos",
          "Engenharia química",
          "Química de materiais básicos",
          "Química fina orgânica",
          "Química macromolecular, polímeros",
          "Medição",
          "Produtos farmacêuticos",
          "Materiais, metalurgia",
          "Outras máquinas especiais",
          "Medição",
          "Química fina orgânica",
          "Química de materiais básicos",
          "Controle",
          "Química fina orgânica",
          "Produtos farmacêuticos",
          "Produtos farmacêuticos",
          "Produtos farmacêuticos",
          "Química fina orgânica",
          "Produtos farmacêuticos",
          "Medição",
          "Biotecnologia",
          "Outras máquinas especiais",
          "Materiais, metalurgia",
          "Produtos farmacêuticos",
          "Química Alimentar",
          "Materiais, metalurgia",
          "Engenharia química",
          "Química de materiais básicos",
          "Química de materiais básicos",
          "Medição",
          "Biotecnologia",
          "Química fina orgânica",
          "Biotecnologia",
          "Química fina orgânica",
          "Tecnologia médica",
          "Química de materiais básicos",
          "Produtos farmacêuticos",
          "Química de materiais básicos",
          "Análise de materiais biológicos",
          "Medição",
          "Produtos farmacêuticos",
          "Produtos farmacêuticos",
          "Medição",
          "Produtos farmacêuticos",
          "Biotecnologia",
          "Biotecnologia",
          "Produtos farmacêuticos",
          "Química Alimentar",
          "Biotecnologia",
          "Química Alimentar",
          "Tecnologia médica",
          "Química macromolecular, polímeros",
          "Engenharia química",
          "Engenharia química",
          "Móveis, jogos",
          "Química fina orgânica",
          "Tecnologia Ambiental",
          "Produtos farmacêuticos",
          "Tecnologia médica",
          "Análise de materiais biológicos",
          "Produtos farmacêuticos",
          "Química de materiais básicos",
          "Tecnologia médica",
          "Química Alimentar",
          "Química de materiais básicos",
          "Materiais, metalurgia",
          "Medição",
          "Materiais, metalurgia",
          "Química Alimentar",
          "Medição",
          "Tecnologia médica",
          "Engenharia química",
          "Medição",
          "Outros bens de consumo",
          "Biotecnologia",
          "Produtos farmacêuticos",
          "Química de materiais básicos",
          "Biotecnologia",
          "Tecnologia médica",
          "Química de materiais básicos",
          "Elementos mecânicos",
          "Tecnologia médica",
          "Química de materiais básicos",
          "Química macromolecular, polímeros",
          "Materiais, metalurgia",
          "Química fina orgânica",
          "Produtos farmacêuticos",
          "Outras máquinas especiais",
          "Biotecnologia",
          "Química Alimentar",
          "Produtos farmacêuticos",
          "AL",
          "AM",
          "AP",
          "BA",
          "CE",
          "DF",
          "ES",
          "GO",
          "MA",
          "MG",
          "MS",
          "MT",
          "PA",
          "PB",
          "PE",
          "PI",
          "PR",
          "RJ",
          "RN",
          "RS",
          "SC",
          "SE",
          "SP",
          "TO",
          "Centro-Oeste",
          "Nordeste",
          "Norte",
          "Sudeste",
          "Sul",
          "Brasil"
         ],
         "marker": {
          "colors": [
           "#636efa",
           "#EF553B",
           "#00cc96",
           "#ab63fa",
           "#ab63fa",
           "#636efa",
           "#636efa",
           "#FFA15A",
           "#19d3f3",
           "#EF553B",
           "#FF6692",
           "#EF553B",
           "#B6E880",
           "#FF97FF",
           "#FF97FF",
           "#FECB52",
           "#FF97FF",
           "#FF97FF",
           "#FFA15A",
           "#FECB52",
           "#636efa",
           "#ab63fa",
           "#FFA15A",
           "#EF553B",
           "#FF97FF",
           "#636efa",
           "#EF553B",
           "#636efa",
           "#ab63fa",
           "#ab63fa",
           "#B6E880",
           "#EF553B",
           "#EF553B",
           "#00cc96",
           "#636efa",
           "#ab63fa",
           "#FFA15A",
           "#19d3f3",
           "#636efa",
           "#EF553B",
           "#EF553B",
           "#ab63fa",
           "#EF553B",
           "#ab63fa",
           "#ab63fa",
           "#ab63fa",
           "#EF553B",
           "#ab63fa",
           "#636efa",
           "#FF97FF",
           "#19d3f3",
           "#FFA15A",
           "#ab63fa",
           "#636efa",
           "#FFA15A",
           "#B6E880",
           "#EF553B",
           "#EF553B",
           "#636efa",
           "#FF97FF",
           "#EF553B",
           "#FF97FF",
           "#EF553B",
           "#FECB52",
           "#EF553B",
           "#ab63fa",
           "#EF553B",
           "#FFA15A",
           "#636efa",
           "#ab63fa",
           "#ab63fa",
           "#636efa",
           "#ab63fa",
           "#FF97FF",
           "#FF97FF",
           "#ab63fa",
           "#636efa",
           "#FF97FF",
           "#636efa",
           "#FECB52",
           "#00cc96",
           "#B6E880",
           "#B6E880",
           "#19d3f3",
           "#EF553B",
           "#FF6692",
           "#ab63fa",
           "#FECB52",
           "#FFA15A",
           "#ab63fa",
           "#EF553B",
           "#FECB52",
           "#636efa",
           "#EF553B",
           "#FFA15A",
           "#636efa",
           "#FFA15A",
           "#636efa",
           "#636efa",
           "#FECB52",
           "#B6E880",
           "#636efa",
           "#B6E880",
           "#FF97FF",
           "#ab63fa",
           "#EF553B",
           "#FF97FF",
           "#FECB52",
           "#EF553B",
           "#FF97FF",
           "#FECB52",
           "#EF553B",
           "#00cc96",
           "#FFA15A",
           "#EF553B",
           "#ab63fa",
           "#19d3f3",
           "#FF97FF",
           "#636efa",
           "#ab63fa",
           "#FECB52",
           "#FECB52",
           "#FECB52",
           "#FECB52",
           "#FECB52",
           "#FECB52",
           "#FECB52",
           "#FECB52",
           "#FECB52",
           "#FECB52",
           "#FECB52",
           "#FECB52",
           "#FECB52",
           "#FECB52",
           "#FECB52",
           "#FECB52",
           "#FECB52",
           "#FECB52",
           "#FECB52",
           "#FECB52",
           "#FECB52",
           "#FECB52",
           "#FECB52",
           "#FECB52",
           "#FECB52",
           "#FECB52",
           "#FECB52",
           "#FECB52",
           "#FECB52",
           "#FECB52"
          ]
         },
         "name": "",
         "parents": [
          "Brasil/Nordeste/PI",
          "Brasil/Nordeste/SE",
          "Brasil/Norte/PA",
          "Brasil/Norte/AM",
          "Brasil/Nordeste/SE",
          "Brasil/Norte/AM",
          "Brasil/Nordeste/SE",
          "Brasil/Nordeste/CE",
          "Brasil/Nordeste/MA",
          "Brasil/Centro-Oeste/GO",
          "Brasil/Norte/AM",
          "Brasil/Centro-Oeste/TO",
          "Brasil/Sudeste/RJ",
          "Brasil/Nordeste/AL",
          "Brasil/Sudeste/MG",
          "Brasil/Nordeste/AL",
          "Brasil/Centro-Oeste/MS",
          "Brasil/Sul/PR",
          "Brasil/Nordeste/SE",
          "Brasil/Nordeste/RN",
          "Brasil/Sudeste/MG",
          "Brasil/Nordeste/PE",
          "Brasil/Sul/RS",
          "Brasil/Centro-Oeste/MT",
          "Brasil/Nordeste/CE",
          "Brasil/Centro-Oeste/TO",
          "Brasil/Nordeste/CE",
          "Brasil/Centro-Oeste/MS",
          "Brasil/Nordeste/PI",
          "Brasil/Sul/SC",
          "Brasil/Sudeste/ES",
          "Brasil/Sul/PR",
          "Brasil/Centro-Oeste/MT",
          "Brasil/Sudeste/SP",
          "Brasil/Centro-Oeste/MT",
          "Brasil/Nordeste/MA",
          "Brasil/Sul/PR",
          "Brasil/Sul/RS",
          "Brasil/Nordeste/BA",
          "Brasil/Sudeste/RJ",
          "Brasil/Nordeste/PB",
          "Brasil/Norte/AP",
          "Brasil/Centro-Oeste/GO",
          "Brasil/Sul/PR",
          "Brasil/Sudeste/MG",
          "Brasil/Centro-Oeste/DF",
          "Brasil/Norte/AP",
          "Brasil/Centro-Oeste/MS",
          "Brasil/Sul/SC",
          "Brasil/Sudeste/RJ",
          "Brasil/Centro-Oeste/MS",
          "Brasil/Sul/SC",
          "Brasil/Centro-Oeste/TO",
          "Brasil/Nordeste/MA",
          "Brasil/Norte/PA",
          "Brasil/Norte/PA",
          "Brasil/Nordeste/MA",
          "Brasil/Sudeste/SP",
          "Brasil/Centro-Oeste/DF",
          "Brasil/Nordeste/PE",
          "Brasil/Sudeste/MG",
          "Brasil/Centro-Oeste/DF",
          "Brasil/Sudeste/SP",
          "Brasil/Sul/SC",
          "Brasil/Nordeste/RN",
          "Brasil/Nordeste/RN",
          "Brasil/Nordeste/BA",
          "Brasil/Nordeste/PI",
          "Brasil/Norte/PA",
          "Brasil/Norte/AP",
          "Brasil/Norte/PA",
          "Brasil/Sul/RS",
          "Brasil/Sudeste/RJ",
          "Brasil/Centro-Oeste/TO",
          "Brasil/Nordeste/PB",
          "Brasil/Nordeste/AL",
          "Brasil/Nordeste/PB",
          "Brasil/Nordeste/BA",
          "Brasil/Nordeste/BA",
          "Brasil/Nordeste/SE",
          "Brasil/Norte/AP",
          "Brasil/Centro-Oeste/GO",
          "Brasil/Norte/AM",
          "Brasil/Centro-Oeste/MT",
          "Brasil/Nordeste/PE",
          "Brasil/Nordeste/BA",
          "Brasil/Sudeste/ES",
          "Brasil/Centro-Oeste/MS",
          "Brasil/Nordeste/RN",
          "Brasil/Sul/RS",
          "Brasil/Sul/SC",
          "Brasil/Sudeste/SP",
          "Brasil/Nordeste/AL",
          "Brasil/Centro-Oeste/DF",
          "Brasil/Nordeste/PI",
          "Brasil/Sudeste/ES",
          "Brasil/Nordeste/RN",
          "Brasil/Nordeste/CE",
          "Brasil/Sudeste/RJ",
          "Brasil/Nordeste/PI",
          "Brasil/Centro-Oeste/TO",
          "Brasil/Centro-Oeste/GO",
          "Brasil/Norte/AP",
          "Brasil/Sul/RS",
          "Brasil/Centro-Oeste/GO",
          "Brasil/Sudeste/ES",
          "Brasil/Sudeste/SP",
          "Brasil/Sudeste/MG",
          "Brasil/Nordeste/AL",
          "Brasil/Sudeste/ES",
          "Brasil/Centro-Oeste/DF",
          "Brasil/Nordeste/PE",
          "Brasil/Sul/PR",
          "Brasil/Nordeste/PB",
          "Brasil/Nordeste/MA",
          "Brasil/Nordeste/CE",
          "Brasil/Centro-Oeste/MT",
          "Brasil/Norte/AM",
          "Brasil/Nordeste/PE",
          "Brasil/Nordeste/PB",
          "Brasil/Nordeste",
          "Brasil/Norte",
          "Brasil/Norte",
          "Brasil/Nordeste",
          "Brasil/Nordeste",
          "Brasil/Centro-Oeste",
          "Brasil/Sudeste",
          "Brasil/Centro-Oeste",
          "Brasil/Nordeste",
          "Brasil/Sudeste",
          "Brasil/Centro-Oeste",
          "Brasil/Centro-Oeste",
          "Brasil/Norte",
          "Brasil/Nordeste",
          "Brasil/Nordeste",
          "Brasil/Nordeste",
          "Brasil/Sul",
          "Brasil/Sudeste",
          "Brasil/Nordeste",
          "Brasil/Sul",
          "Brasil/Sul",
          "Brasil/Nordeste",
          "Brasil/Sudeste",
          "Brasil/Centro-Oeste",
          "Brasil",
          "Brasil",
          "Brasil",
          "Brasil",
          "Brasil",
          ""
         ],
         "type": "treemap",
         "values": [
          3,
          8,
          7,
          2,
          29,
          1,
          13,
          16,
          7,
          7,
          1,
          2,
          16,
          16,
          123,
          10,
          11,
          25,
          8,
          16,
          57,
          61,
          21,
          4,
          10,
          3,
          10,
          17,
          8,
          7,
          3,
          13,
          4,
          12,
          3,
          28,
          14,
          23,
          4,
          22,
          33,
          1,
          7,
          13,
          122,
          12,
          1,
          7,
          4,
          18,
          6,
          5,
          3,
          10,
          5,
          5,
          7,
          10,
          3,
          25,
          38,
          18,
          10,
          13,
          9,
          13,
          3,
          2,
          5,
          2,
          19,
          19,
          18,
          1,
          23,
          23,
          248,
          13,
          20,
          9,
          1,
          3,
          2,
          3,
          17,
          4,
          3,
          7,
          6,
          41,
          5,
          16,
          9,
          4,
          3,
          2,
          15,
          16,
          16,
          3,
          3,
          3,
          1,
          32,
          9,
          5,
          19,
          63,
          19,
          2,
          7,
          34,
          14,
          26,
          11,
          12,
          3,
          1,
          20,
          49,
          77,
          7,
          6,
          44,
          64,
          44,
          15,
          29,
          63,
          403,
          48,
          17,
          41,
          379,
          157,
          19,
          79,
          90,
          59,
          136,
          34,
          67,
          67,
          12,
          150,
          929,
          54,
          575,
          249,
          1957
         ]
        }
       ],
       "layout": {
        "autosize": true,
        "legend": {
         "tracegroupgap": 0
        },
        "margin": {
         "b": 25,
         "l": 25,
         "r": 25,
         "t": 50
        },
        "template": {
         "data": {
          "bar": [
           {
            "error_x": {
             "color": "#2a3f5f"
            },
            "error_y": {
             "color": "#2a3f5f"
            },
            "marker": {
             "line": {
              "color": "#E5ECF6",
              "width": 0.5
             },
             "pattern": {
              "fillmode": "overlay",
              "size": 10,
              "solidity": 0.2
             }
            },
            "type": "bar"
           }
          ],
          "barpolar": [
           {
            "marker": {
             "line": {
              "color": "#E5ECF6",
              "width": 0.5
             },
             "pattern": {
              "fillmode": "overlay",
              "size": 10,
              "solidity": 0.2
             }
            },
            "type": "barpolar"
           }
          ],
          "carpet": [
           {
            "aaxis": {
             "endlinecolor": "#2a3f5f",
             "gridcolor": "white",
             "linecolor": "white",
             "minorgridcolor": "white",
             "startlinecolor": "#2a3f5f"
            },
            "baxis": {
             "endlinecolor": "#2a3f5f",
             "gridcolor": "white",
             "linecolor": "white",
             "minorgridcolor": "white",
             "startlinecolor": "#2a3f5f"
            },
            "type": "carpet"
           }
          ],
          "choropleth": [
           {
            "colorbar": {
             "outlinewidth": 0,
             "ticks": ""
            },
            "type": "choropleth"
           }
          ],
          "contour": [
           {
            "colorbar": {
             "outlinewidth": 0,
             "ticks": ""
            },
            "colorscale": [
             [
              0,
              "#0d0887"
             ],
             [
              0.1111111111111111,
              "#46039f"
             ],
             [
              0.2222222222222222,
              "#7201a8"
             ],
             [
              0.3333333333333333,
              "#9c179e"
             ],
             [
              0.4444444444444444,
              "#bd3786"
             ],
             [
              0.5555555555555556,
              "#d8576b"
             ],
             [
              0.6666666666666666,
              "#ed7953"
             ],
             [
              0.7777777777777778,
              "#fb9f3a"
             ],
             [
              0.8888888888888888,
              "#fdca26"
             ],
             [
              1,
              "#f0f921"
             ]
            ],
            "type": "contour"
           }
          ],
          "contourcarpet": [
           {
            "colorbar": {
             "outlinewidth": 0,
             "ticks": ""
            },
            "type": "contourcarpet"
           }
          ],
          "heatmap": [
           {
            "colorbar": {
             "outlinewidth": 0,
             "ticks": ""
            },
            "colorscale": [
             [
              0,
              "#0d0887"
             ],
             [
              0.1111111111111111,
              "#46039f"
             ],
             [
              0.2222222222222222,
              "#7201a8"
             ],
             [
              0.3333333333333333,
              "#9c179e"
             ],
             [
              0.4444444444444444,
              "#bd3786"
             ],
             [
              0.5555555555555556,
              "#d8576b"
             ],
             [
              0.6666666666666666,
              "#ed7953"
             ],
             [
              0.7777777777777778,
              "#fb9f3a"
             ],
             [
              0.8888888888888888,
              "#fdca26"
             ],
             [
              1,
              "#f0f921"
             ]
            ],
            "type": "heatmap"
           }
          ],
          "heatmapgl": [
           {
            "colorbar": {
             "outlinewidth": 0,
             "ticks": ""
            },
            "colorscale": [
             [
              0,
              "#0d0887"
             ],
             [
              0.1111111111111111,
              "#46039f"
             ],
             [
              0.2222222222222222,
              "#7201a8"
             ],
             [
              0.3333333333333333,
              "#9c179e"
             ],
             [
              0.4444444444444444,
              "#bd3786"
             ],
             [
              0.5555555555555556,
              "#d8576b"
             ],
             [
              0.6666666666666666,
              "#ed7953"
             ],
             [
              0.7777777777777778,
              "#fb9f3a"
             ],
             [
              0.8888888888888888,
              "#fdca26"
             ],
             [
              1,
              "#f0f921"
             ]
            ],
            "type": "heatmapgl"
           }
          ],
          "histogram": [
           {
            "marker": {
             "pattern": {
              "fillmode": "overlay",
              "size": 10,
              "solidity": 0.2
             }
            },
            "type": "histogram"
           }
          ],
          "histogram2d": [
           {
            "colorbar": {
             "outlinewidth": 0,
             "ticks": ""
            },
            "colorscale": [
             [
              0,
              "#0d0887"
             ],
             [
              0.1111111111111111,
              "#46039f"
             ],
             [
              0.2222222222222222,
              "#7201a8"
             ],
             [
              0.3333333333333333,
              "#9c179e"
             ],
             [
              0.4444444444444444,
              "#bd3786"
             ],
             [
              0.5555555555555556,
              "#d8576b"
             ],
             [
              0.6666666666666666,
              "#ed7953"
             ],
             [
              0.7777777777777778,
              "#fb9f3a"
             ],
             [
              0.8888888888888888,
              "#fdca26"
             ],
             [
              1,
              "#f0f921"
             ]
            ],
            "type": "histogram2d"
           }
          ],
          "histogram2dcontour": [
           {
            "colorbar": {
             "outlinewidth": 0,
             "ticks": ""
            },
            "colorscale": [
             [
              0,
              "#0d0887"
             ],
             [
              0.1111111111111111,
              "#46039f"
             ],
             [
              0.2222222222222222,
              "#7201a8"
             ],
             [
              0.3333333333333333,
              "#9c179e"
             ],
             [
              0.4444444444444444,
              "#bd3786"
             ],
             [
              0.5555555555555556,
              "#d8576b"
             ],
             [
              0.6666666666666666,
              "#ed7953"
             ],
             [
              0.7777777777777778,
              "#fb9f3a"
             ],
             [
              0.8888888888888888,
              "#fdca26"
             ],
             [
              1,
              "#f0f921"
             ]
            ],
            "type": "histogram2dcontour"
           }
          ],
          "mesh3d": [
           {
            "colorbar": {
             "outlinewidth": 0,
             "ticks": ""
            },
            "type": "mesh3d"
           }
          ],
          "parcoords": [
           {
            "line": {
             "colorbar": {
              "outlinewidth": 0,
              "ticks": ""
             }
            },
            "type": "parcoords"
           }
          ],
          "pie": [
           {
            "automargin": true,
            "type": "pie"
           }
          ],
          "scatter": [
           {
            "fillpattern": {
             "fillmode": "overlay",
             "size": 10,
             "solidity": 0.2
            },
            "type": "scatter"
           }
          ],
          "scatter3d": [
           {
            "line": {
             "colorbar": {
              "outlinewidth": 0,
              "ticks": ""
             }
            },
            "marker": {
             "colorbar": {
              "outlinewidth": 0,
              "ticks": ""
             }
            },
            "type": "scatter3d"
           }
          ],
          "scattercarpet": [
           {
            "marker": {
             "colorbar": {
              "outlinewidth": 0,
              "ticks": ""
             }
            },
            "type": "scattercarpet"
           }
          ],
          "scattergeo": [
           {
            "marker": {
             "colorbar": {
              "outlinewidth": 0,
              "ticks": ""
             }
            },
            "type": "scattergeo"
           }
          ],
          "scattergl": [
           {
            "marker": {
             "colorbar": {
              "outlinewidth": 0,
              "ticks": ""
             }
            },
            "type": "scattergl"
           }
          ],
          "scattermapbox": [
           {
            "marker": {
             "colorbar": {
              "outlinewidth": 0,
              "ticks": ""
             }
            },
            "type": "scattermapbox"
           }
          ],
          "scatterpolar": [
           {
            "marker": {
             "colorbar": {
              "outlinewidth": 0,
              "ticks": ""
             }
            },
            "type": "scatterpolar"
           }
          ],
          "scatterpolargl": [
           {
            "marker": {
             "colorbar": {
              "outlinewidth": 0,
              "ticks": ""
             }
            },
            "type": "scatterpolargl"
           }
          ],
          "scatterternary": [
           {
            "marker": {
             "colorbar": {
              "outlinewidth": 0,
              "ticks": ""
             }
            },
            "type": "scatterternary"
           }
          ],
          "surface": [
           {
            "colorbar": {
             "outlinewidth": 0,
             "ticks": ""
            },
            "colorscale": [
             [
              0,
              "#0d0887"
             ],
             [
              0.1111111111111111,
              "#46039f"
             ],
             [
              0.2222222222222222,
              "#7201a8"
             ],
             [
              0.3333333333333333,
              "#9c179e"
             ],
             [
              0.4444444444444444,
              "#bd3786"
             ],
             [
              0.5555555555555556,
              "#d8576b"
             ],
             [
              0.6666666666666666,
              "#ed7953"
             ],
             [
              0.7777777777777778,
              "#fb9f3a"
             ],
             [
              0.8888888888888888,
              "#fdca26"
             ],
             [
              1,
              "#f0f921"
             ]
            ],
            "type": "surface"
           }
          ],
          "table": [
           {
            "cells": {
             "fill": {
              "color": "#EBF0F8"
             },
             "line": {
              "color": "white"
             }
            },
            "header": {
             "fill": {
              "color": "#C8D4E3"
             },
             "line": {
              "color": "white"
             }
            },
            "type": "table"
           }
          ]
         },
         "layout": {
          "annotationdefaults": {
           "arrowcolor": "#2a3f5f",
           "arrowhead": 0,
           "arrowwidth": 1
          },
          "autotypenumbers": "strict",
          "coloraxis": {
           "colorbar": {
            "outlinewidth": 0,
            "ticks": ""
           }
          },
          "colorscale": {
           "diverging": [
            [
             0,
             "#8e0152"
            ],
            [
             0.1,
             "#c51b7d"
            ],
            [
             0.2,
             "#de77ae"
            ],
            [
             0.3,
             "#f1b6da"
            ],
            [
             0.4,
             "#fde0ef"
            ],
            [
             0.5,
             "#f7f7f7"
            ],
            [
             0.6,
             "#e6f5d0"
            ],
            [
             0.7,
             "#b8e186"
            ],
            [
             0.8,
             "#7fbc41"
            ],
            [
             0.9,
             "#4d9221"
            ],
            [
             1,
             "#276419"
            ]
           ],
           "sequential": [
            [
             0,
             "#0d0887"
            ],
            [
             0.1111111111111111,
             "#46039f"
            ],
            [
             0.2222222222222222,
             "#7201a8"
            ],
            [
             0.3333333333333333,
             "#9c179e"
            ],
            [
             0.4444444444444444,
             "#bd3786"
            ],
            [
             0.5555555555555556,
             "#d8576b"
            ],
            [
             0.6666666666666666,
             "#ed7953"
            ],
            [
             0.7777777777777778,
             "#fb9f3a"
            ],
            [
             0.8888888888888888,
             "#fdca26"
            ],
            [
             1,
             "#f0f921"
            ]
           ],
           "sequentialminus": [
            [
             0,
             "#0d0887"
            ],
            [
             0.1111111111111111,
             "#46039f"
            ],
            [
             0.2222222222222222,
             "#7201a8"
            ],
            [
             0.3333333333333333,
             "#9c179e"
            ],
            [
             0.4444444444444444,
             "#bd3786"
            ],
            [
             0.5555555555555556,
             "#d8576b"
            ],
            [
             0.6666666666666666,
             "#ed7953"
            ],
            [
             0.7777777777777778,
             "#fb9f3a"
            ],
            [
             0.8888888888888888,
             "#fdca26"
            ],
            [
             1,
             "#f0f921"
            ]
           ]
          },
          "colorway": [
           "#636efa",
           "#EF553B",
           "#00cc96",
           "#ab63fa",
           "#FFA15A",
           "#19d3f3",
           "#FF6692",
           "#B6E880",
           "#FF97FF",
           "#FECB52"
          ],
          "font": {
           "color": "#2a3f5f"
          },
          "geo": {
           "bgcolor": "white",
           "lakecolor": "white",
           "landcolor": "#E5ECF6",
           "showlakes": true,
           "showland": true,
           "subunitcolor": "white"
          },
          "hoverlabel": {
           "align": "left"
          },
          "hovermode": "closest",
          "mapbox": {
           "style": "light"
          },
          "paper_bgcolor": "white",
          "plot_bgcolor": "#E5ECF6",
          "polar": {
           "angularaxis": {
            "gridcolor": "white",
            "linecolor": "white",
            "ticks": ""
           },
           "bgcolor": "#E5ECF6",
           "radialaxis": {
            "gridcolor": "white",
            "linecolor": "white",
            "ticks": ""
           }
          },
          "scene": {
           "xaxis": {
            "backgroundcolor": "#E5ECF6",
            "gridcolor": "white",
            "gridwidth": 2,
            "linecolor": "white",
            "showbackground": true,
            "ticks": "",
            "zerolinecolor": "white"
           },
           "yaxis": {
            "backgroundcolor": "#E5ECF6",
            "gridcolor": "white",
            "gridwidth": 2,
            "linecolor": "white",
            "showbackground": true,
            "ticks": "",
            "zerolinecolor": "white"
           },
           "zaxis": {
            "backgroundcolor": "#E5ECF6",
            "gridcolor": "white",
            "gridwidth": 2,
            "linecolor": "white",
            "showbackground": true,
            "ticks": "",
            "zerolinecolor": "white"
           }
          },
          "shapedefaults": {
           "line": {
            "color": "#2a3f5f"
           }
          },
          "ternary": {
           "aaxis": {
            "gridcolor": "white",
            "linecolor": "white",
            "ticks": ""
           },
           "baxis": {
            "gridcolor": "white",
            "linecolor": "white",
            "ticks": ""
           },
           "bgcolor": "#E5ECF6",
           "caxis": {
            "gridcolor": "white",
            "linecolor": "white",
            "ticks": ""
           }
          },
          "title": {
           "x": 0.05
          },
          "xaxis": {
           "automargin": true,
           "gridcolor": "white",
           "linecolor": "white",
           "ticks": "",
           "title": {
            "standoff": 15
           },
           "zerolinecolor": "white",
           "zerolinewidth": 2
          },
          "yaxis": {
           "automargin": true,
           "gridcolor": "white",
           "linecolor": "white",
           "ticks": "",
           "title": {
            "standoff": 15
           },
           "zerolinecolor": "white",
           "zerolinewidth": 2
          }
         }
        }
       }
      },
      "image/png": "[encoded data removed]",
      "text/html": [
       "<div>                            <div id=\"b46e5b61-d265-4683-bdaf-f0bf43843d93\" class=\"plotly-graph-div\" style=\"height:525px; width:100%;\"></div>            <script type=\"text/javascript\">                require([\"plotly\"], function(Plotly) {                    window.PLOTLYENV=window.PLOTLYENV || {};                                    if (document.getElementById(\"b46e5b61-d265-4683-bdaf-f0bf43843d93\")) {                    Plotly.newPlot(                        \"b46e5b61-d265-4683-bdaf-f0bf43843d93\",                        [{\"branchvalues\":\"total\",\"customdata\":[[\"Qu\\u00edmica Alimentar\"],[\"Qu\\u00edmica de materiais b\\u00e1sicos\"],[\"Telecomunica\\u00e7\\u00f5es\"],[\"Produtos farmac\\u00eauticos\"],[\"Produtos farmac\\u00eauticos\"],[\"Qu\\u00edmica Alimentar\"],[\"Qu\\u00edmica Alimentar\"],[\"Materiais, metalurgia\"],[\"Outras m\\u00e1quinas especiais\"],[\"Qu\\u00edmica de materiais b\\u00e1sicos\"],[\"Comunica\\u00e7\\u00e3o digital\"],[\"Qu\\u00edmica de materiais b\\u00e1sicos\"],[\"Engenharia qu\\u00edmica\"],[\"Biotecnologia\"],[\"Biotecnologia\"],[\"Tecnologia m\\u00e9dica\"],[\"Biotecnologia\"],[\"Biotecnologia\"],[\"Materiais, metalurgia\"],[\"Tecnologia m\\u00e9dica\"],[\"Medi\\u00e7\\u00e3o\"],[\"Produtos farmac\\u00eauticos\"],[\"Materiais, metalurgia\"],[\"Qu\\u00edmica de materiais b\\u00e1sicos\"],[\"Biotecnologia\"],[\"Qu\\u00edmica Alimentar\"],[\"Qu\\u00edmica fina org\\u00e2nica\"],[\"Qu\\u00edmica Alimentar\"],[\"Produtos farmac\\u00eauticos\"],[\"Produtos farmac\\u00eauticos\"],[\"Engenharia qu\\u00edmica\"],[\"Qu\\u00edmica de materiais b\\u00e1sicos\"],[\"Qu\\u00edmica fina org\\u00e2nica\"],[\"Qu\\u00edmica macromolecular, pol\\u00edmeros\"],[\"Medi\\u00e7\\u00e3o\"],[\"Produtos farmac\\u00eauticos\"],[\"Materiais, metalurgia\"],[\"Outras m\\u00e1quinas especiais\"],[\"Medi\\u00e7\\u00e3o\"],[\"Qu\\u00edmica fina org\\u00e2nica\"],[\"Qu\\u00edmica de materiais b\\u00e1sicos\"],[\"Controle\"],[\"Qu\\u00edmica fina org\\u00e2nica\"],[\"Produtos farmac\\u00eauticos\"],[\"Produtos farmac\\u00eauticos\"],[\"Produtos farmac\\u00eauticos\"],[\"Qu\\u00edmica fina org\\u00e2nica\"],[\"Produtos farmac\\u00eauticos\"],[\"Medi\\u00e7\\u00e3o\"],[\"Biotecnologia\"],[\"Outras m\\u00e1quinas especiais\"],[\"Materiais, metalurgia\"],[\"Produtos farmac\\u00eauticos\"],[\"Qu\\u00edmica Alimentar\"],[\"Materiais, metalurgia\"],[\"Engenharia qu\\u00edmica\"],[\"Qu\\u00edmica de materiais b\\u00e1sicos\"],[\"Qu\\u00edmica de materiais b\\u00e1sicos\"],[\"Medi\\u00e7\\u00e3o\"],[\"Biotecnologia\"],[\"Qu\\u00edmica fina org\\u00e2nica\"],[\"Biotecnologia\"],[\"Qu\\u00edmica fina org\\u00e2nica\"],[\"Tecnologia m\\u00e9dica\"],[\"Qu\\u00edmica de materiais b\\u00e1sicos\"],[\"Produtos farmac\\u00eauticos\"],[\"Qu\\u00edmica de materiais b\\u00e1sicos\"],[\"An\\u00e1lise de materiais biol\\u00f3gicos\"],[\"Medi\\u00e7\\u00e3o\"],[\"Produtos farmac\\u00eauticos\"],[\"Produtos farmac\\u00eauticos\"],[\"Medi\\u00e7\\u00e3o\"],[\"Produtos farmac\\u00eauticos\"],[\"Biotecnologia\"],[\"Biotecnologia\"],[\"Produtos farmac\\u00eauticos\"],[\"Qu\\u00edmica Alimentar\"],[\"Biotecnologia\"],[\"Qu\\u00edmica Alimentar\"],[\"Tecnologia m\\u00e9dica\"],[\"Qu\\u00edmica macromolecular, pol\\u00edmeros\"],[\"Engenharia qu\\u00edmica\"],[\"Engenharia qu\\u00edmica\"],[\"M\\u00f3veis, jogos\"],[\"Qu\\u00edmica fina org\\u00e2nica\"],[\"Tecnologia Ambiental\"],[\"Produtos farmac\\u00eauticos\"],[\"Tecnologia m\\u00e9dica\"],[\"An\\u00e1lise de materiais biol\\u00f3gicos\"],[\"Produtos farmac\\u00eauticos\"],[\"Qu\\u00edmica de materiais b\\u00e1sicos\"],[\"Tecnologia m\\u00e9dica\"],[\"Qu\\u00edmica Alimentar\"],[\"Qu\\u00edmica de materiais b\\u00e1sicos\"],[\"Materiais, metalurgia\"],[\"Medi\\u00e7\\u00e3o\"],[\"Materiais, metalurgia\"],[\"Qu\\u00edmica Alimentar\"],[\"Medi\\u00e7\\u00e3o\"],[\"Tecnologia m\\u00e9dica\"],[\"Engenharia qu\\u00edmica\"],[\"Medi\\u00e7\\u00e3o\"],[\"Outros bens de consumo\"],[\"Biotecnologia\"],[\"Produtos farmac\\u00eauticos\"],[\"Qu\\u00edmica de materiais b\\u00e1sicos\"],[\"Biotecnologia\"],[\"Tecnologia m\\u00e9dica\"],[\"Qu\\u00edmica de materiais b\\u00e1sicos\"],[\"Elementos mec\\u00e2nicos\"],[\"Tecnologia m\\u00e9dica\"],[\"Qu\\u00edmica de materiais b\\u00e1sicos\"],[\"Qu\\u00edmica macromolecular, pol\\u00edmeros\"],[\"Materiais, metalurgia\"],[\"Qu\\u00edmica fina org\\u00e2nica\"],[\"Produtos farmac\\u00eauticos\"],[\"Outras m\\u00e1quinas especiais\"],[\"Biotecnologia\"],[\"Qu\\u00edmica Alimentar\"],[\"Produtos farmac\\u00eauticos\"],[\"(?)\"],[\"(?)\"],[\"(?)\"],[\"(?)\"],[\"(?)\"],[\"(?)\"],[\"(?)\"],[\"(?)\"],[\"(?)\"],[\"(?)\"],[\"(?)\"],[\"(?)\"],[\"(?)\"],[\"(?)\"],[\"(?)\"],[\"(?)\"],[\"(?)\"],[\"(?)\"],[\"(?)\"],[\"(?)\"],[\"(?)\"],[\"(?)\"],[\"(?)\"],[\"(?)\"],[\"(?)\"],[\"(?)\"],[\"(?)\"],[\"(?)\"],[\"(?)\"],[\"(?)\"]],\"domain\":{\"x\":[0.0,1.0],\"y\":[0.0,1.0]},\"hovertemplate\":\"labels=%{label}\\u003cbr\\u003econtagem=%{value}\\u003cbr\\u003eparent=%{parent}\\u003cbr\\u003eid=%{id}\\u003cbr\\u003eArea=%{customdata[0]}\\u003cextra\\u003e\\u003c\\u002fextra\\u003e\",\"ids\":[\"Brasil\\u002fNordeste\\u002fPI\\u002fQu\\u00edmica Alimentar\",\"Brasil\\u002fNordeste\\u002fSE\\u002fQu\\u00edmica de materiais b\\u00e1sicos\",\"Brasil\\u002fNorte\\u002fPA\\u002fTelecomunica\\u00e7\\u00f5es\",\"Brasil\\u002fNorte\\u002fAM\\u002fProdutos farmac\\u00eauticos\",\"Brasil\\u002fNordeste\\u002fSE\\u002fProdutos farmac\\u00eauticos\",\"Brasil\\u002fNorte\\u002fAM\\u002fQu\\u00edmica Alimentar\",\"Brasil\\u002fNordeste\\u002fSE\\u002fQu\\u00edmica Alimentar\",\"Brasil\\u002fNordeste\\u002fCE\\u002fMateriais, metalurgia\",\"Brasil\\u002fNordeste\\u002fMA\\u002fOutras m\\u00e1quinas especiais\",\"Brasil\\u002fCentro-Oeste\\u002fGO\\u002fQu\\u00edmica de materiais b\\u00e1sicos\",\"Brasil\\u002fNorte\\u002fAM\\u002fComunica\\u00e7\\u00e3o digital\",\"Brasil\\u002fCentro-Oeste\\u002fTO\\u002fQu\\u00edmica de materiais b\\u00e1sicos\",\"Brasil\\u002fSudeste\\u002fRJ\\u002fEngenharia qu\\u00edmica\",\"Brasil\\u002fNordeste\\u002fAL\\u002fBiotecnologia\",\"Brasil\\u002fSudeste\\u002fMG\\u002fBiotecnologia\",\"Brasil\\u002fNordeste\\u002fAL\\u002fTecnologia m\\u00e9dica\",\"Brasil\\u002fCentro-Oeste\\u002fMS\\u002fBiotecnologia\",\"Brasil\\u002fSul\\u002fPR\\u002fBiotecnologia\",\"Brasil\\u002fNordeste\\u002fSE\\u002fMateriais, metalurgia\",\"Brasil\\u002fNordeste\\u002fRN\\u002fTecnologia m\\u00e9dica\",\"Brasil\\u002fSudeste\\u002fMG\\u002fMedi\\u00e7\\u00e3o\",\"Brasil\\u002fNordeste\\u002fPE\\u002fProdutos farmac\\u00eauticos\",\"Brasil\\u002fSul\\u002fRS\\u002fMateriais, metalurgia\",\"Brasil\\u002fCentro-Oeste\\u002fMT\\u002fQu\\u00edmica de materiais b\\u00e1sicos\",\"Brasil\\u002fNordeste\\u002fCE\\u002fBiotecnologia\",\"Brasil\\u002fCentro-Oeste\\u002fTO\\u002fQu\\u00edmica Alimentar\",\"Brasil\\u002fNordeste\\u002fCE\\u002fQu\\u00edmica fina org\\u00e2nica\",\"Brasil\\u002fCentro-Oeste\\u002fMS\\u002fQu\\u00edmica Alimentar\",\"Brasil\\u002fNordeste\\u002fPI\\u002fProdutos farmac\\u00eauticos\",\"Brasil\\u002fSul\\u002fSC\\u002fProdutos farmac\\u00eauticos\",\"Brasil\\u002fSudeste\\u002fES\\u002fEngenharia qu\\u00edmica\",\"Brasil\\u002fSul\\u002fPR\\u002fQu\\u00edmica de materiais b\\u00e1sicos\",\"Brasil\\u002fCentro-Oeste\\u002fMT\\u002fQu\\u00edmica fina org\\u00e2nica\",\"Brasil\\u002fSudeste\\u002fSP\\u002fQu\\u00edmica macromolecular, pol\\u00edmeros\",\"Brasil\\u002fCentro-Oeste\\u002fMT\\u002fMedi\\u00e7\\u00e3o\",\"Brasil\\u002fNordeste\\u002fMA\\u002fProdutos farmac\\u00eauticos\",\"Brasil\\u002fSul\\u002fPR\\u002fMateriais, metalurgia\",\"Brasil\\u002fSul\\u002fRS\\u002fOutras m\\u00e1quinas especiais\",\"Brasil\\u002fNordeste\\u002fBA\\u002fMedi\\u00e7\\u00e3o\",\"Brasil\\u002fSudeste\\u002fRJ\\u002fQu\\u00edmica fina org\\u00e2nica\",\"Brasil\\u002fNordeste\\u002fPB\\u002fQu\\u00edmica de materiais b\\u00e1sicos\",\"Brasil\\u002fNorte\\u002fAP\\u002fControle\",\"Brasil\\u002fCentro-Oeste\\u002fGO\\u002fQu\\u00edmica fina org\\u00e2nica\",\"Brasil\\u002fSul\\u002fPR\\u002fProdutos farmac\\u00eauticos\",\"Brasil\\u002fSudeste\\u002fMG\\u002fProdutos farmac\\u00eauticos\",\"Brasil\\u002fCentro-Oeste\\u002fDF\\u002fProdutos farmac\\u00eauticos\",\"Brasil\\u002fNorte\\u002fAP\\u002fQu\\u00edmica fina org\\u00e2nica\",\"Brasil\\u002fCentro-Oeste\\u002fMS\\u002fProdutos farmac\\u00eauticos\",\"Brasil\\u002fSul\\u002fSC\\u002fMedi\\u00e7\\u00e3o\",\"Brasil\\u002fSudeste\\u002fRJ\\u002fBiotecnologia\",\"Brasil\\u002fCentro-Oeste\\u002fMS\\u002fOutras m\\u00e1quinas especiais\",\"Brasil\\u002fSul\\u002fSC\\u002fMateriais, metalurgia\",\"Brasil\\u002fCentro-Oeste\\u002fTO\\u002fProdutos farmac\\u00eauticos\",\"Brasil\\u002fNordeste\\u002fMA\\u002fQu\\u00edmica Alimentar\",\"Brasil\\u002fNorte\\u002fPA\\u002fMateriais, metalurgia\",\"Brasil\\u002fNorte\\u002fPA\\u002fEngenharia qu\\u00edmica\",\"Brasil\\u002fNordeste\\u002fMA\\u002fQu\\u00edmica de materiais b\\u00e1sicos\",\"Brasil\\u002fSudeste\\u002fSP\\u002fQu\\u00edmica de materiais b\\u00e1sicos\",\"Brasil\\u002fCentro-Oeste\\u002fDF\\u002fMedi\\u00e7\\u00e3o\",\"Brasil\\u002fNordeste\\u002fPE\\u002fBiotecnologia\",\"Brasil\\u002fSudeste\\u002fMG\\u002fQu\\u00edmica fina org\\u00e2nica\",\"Brasil\\u002fCentro-Oeste\\u002fDF\\u002fBiotecnologia\",\"Brasil\\u002fSudeste\\u002fSP\\u002fQu\\u00edmica fina org\\u00e2nica\",\"Brasil\\u002fSul\\u002fSC\\u002fTecnologia m\\u00e9dica\",\"Brasil\\u002fNordeste\\u002fRN\\u002fQu\\u00edmica de materiais b\\u00e1sicos\",\"Brasil\\u002fNordeste\\u002fRN\\u002fProdutos farmac\\u00eauticos\",\"Brasil\\u002fNordeste\\u002fBA\\u002fQu\\u00edmica de materiais b\\u00e1sicos\",\"Brasil\\u002fNordeste\\u002fPI\\u002fAn\\u00e1lise de materiais biol\\u00f3gicos\",\"Brasil\\u002fNorte\\u002fPA\\u002fMedi\\u00e7\\u00e3o\",\"Brasil\\u002fNorte\\u002fAP\\u002fProdutos farmac\\u00eauticos\",\"Brasil\\u002fNorte\\u002fPA\\u002fProdutos farmac\\u00eauticos\",\"Brasil\\u002fSul\\u002fRS\\u002fMedi\\u00e7\\u00e3o\",\"Brasil\\u002fSudeste\\u002fRJ\\u002fProdutos farmac\\u00eauticos\",\"Brasil\\u002fCentro-Oeste\\u002fTO\\u002fBiotecnologia\",\"Brasil\\u002fNordeste\\u002fPB\\u002fBiotecnologia\",\"Brasil\\u002fNordeste\\u002fAL\\u002fProdutos farmac\\u00eauticos\",\"Brasil\\u002fNordeste\\u002fPB\\u002fQu\\u00edmica Alimentar\",\"Brasil\\u002fNordeste\\u002fBA\\u002fBiotecnologia\",\"Brasil\\u002fNordeste\\u002fBA\\u002fQu\\u00edmica Alimentar\",\"Brasil\\u002fNordeste\\u002fSE\\u002fTecnologia m\\u00e9dica\",\"Brasil\\u002fNorte\\u002fAP\\u002fQu\\u00edmica macromolecular, pol\\u00edmeros\",\"Brasil\\u002fCentro-Oeste\\u002fGO\\u002fEngenharia qu\\u00edmica\",\"Brasil\\u002fNorte\\u002fAM\\u002fEngenharia qu\\u00edmica\",\"Brasil\\u002fCentro-Oeste\\u002fMT\\u002fM\\u00f3veis, jogos\",\"Brasil\\u002fNordeste\\u002fPE\\u002fQu\\u00edmica fina org\\u00e2nica\",\"Brasil\\u002fNordeste\\u002fBA\\u002fTecnologia Ambiental\",\"Brasil\\u002fSudeste\\u002fES\\u002fProdutos farmac\\u00eauticos\",\"Brasil\\u002fCentro-Oeste\\u002fMS\\u002fTecnologia m\\u00e9dica\",\"Brasil\\u002fNordeste\\u002fRN\\u002fAn\\u00e1lise de materiais biol\\u00f3gicos\",\"Brasil\\u002fSul\\u002fRS\\u002fProdutos farmac\\u00eauticos\",\"Brasil\\u002fSul\\u002fSC\\u002fQu\\u00edmica de materiais b\\u00e1sicos\",\"Brasil\\u002fSudeste\\u002fSP\\u002fTecnologia m\\u00e9dica\",\"Brasil\\u002fNordeste\\u002fAL\\u002fQu\\u00edmica Alimentar\",\"Brasil\\u002fCentro-Oeste\\u002fDF\\u002fQu\\u00edmica de materiais b\\u00e1sicos\",\"Brasil\\u002fNordeste\\u002fPI\\u002fMateriais, metalurgia\",\"Brasil\\u002fSudeste\\u002fES\\u002fMedi\\u00e7\\u00e3o\",\"Brasil\\u002fNordeste\\u002fRN\\u002fMateriais, metalurgia\",\"Brasil\\u002fNordeste\\u002fCE\\u002fQu\\u00edmica Alimentar\",\"Brasil\\u002fSudeste\\u002fRJ\\u002fMedi\\u00e7\\u00e3o\",\"Brasil\\u002fNordeste\\u002fPI\\u002fTecnologia m\\u00e9dica\",\"Brasil\\u002fCentro-Oeste\\u002fTO\\u002fEngenharia qu\\u00edmica\",\"Brasil\\u002fCentro-Oeste\\u002fGO\\u002fMedi\\u00e7\\u00e3o\",\"Brasil\\u002fNorte\\u002fAP\\u002fOutros bens de consumo\",\"Brasil\\u002fSul\\u002fRS\\u002fBiotecnologia\",\"Brasil\\u002fCentro-Oeste\\u002fGO\\u002fProdutos farmac\\u00eauticos\",\"Brasil\\u002fSudeste\\u002fES\\u002fQu\\u00edmica de materiais b\\u00e1sicos\",\"Brasil\\u002fSudeste\\u002fSP\\u002fBiotecnologia\",\"Brasil\\u002fSudeste\\u002fMG\\u002fTecnologia m\\u00e9dica\",\"Brasil\\u002fNordeste\\u002fAL\\u002fQu\\u00edmica de materiais b\\u00e1sicos\",\"Brasil\\u002fSudeste\\u002fES\\u002fElementos mec\\u00e2nicos\",\"Brasil\\u002fCentro-Oeste\\u002fDF\\u002fTecnologia m\\u00e9dica\",\"Brasil\\u002fNordeste\\u002fPE\\u002fQu\\u00edmica de materiais b\\u00e1sicos\",\"Brasil\\u002fSul\\u002fPR\\u002fQu\\u00edmica macromolecular, pol\\u00edmeros\",\"Brasil\\u002fNordeste\\u002fPB\\u002fMateriais, metalurgia\",\"Brasil\\u002fNordeste\\u002fMA\\u002fQu\\u00edmica fina org\\u00e2nica\",\"Brasil\\u002fNordeste\\u002fCE\\u002fProdutos farmac\\u00eauticos\",\"Brasil\\u002fCentro-Oeste\\u002fMT\\u002fOutras m\\u00e1quinas especiais\",\"Brasil\\u002fNorte\\u002fAM\\u002fBiotecnologia\",\"Brasil\\u002fNordeste\\u002fPE\\u002fQu\\u00edmica Alimentar\",\"Brasil\\u002fNordeste\\u002fPB\\u002fProdutos farmac\\u00eauticos\",\"Brasil\\u002fNordeste\\u002fAL\",\"Brasil\\u002fNorte\\u002fAM\",\"Brasil\\u002fNorte\\u002fAP\",\"Brasil\\u002fNordeste\\u002fBA\",\"Brasil\\u002fNordeste\\u002fCE\",\"Brasil\\u002fCentro-Oeste\\u002fDF\",\"Brasil\\u002fSudeste\\u002fES\",\"Brasil\\u002fCentro-Oeste\\u002fGO\",\"Brasil\\u002fNordeste\\u002fMA\",\"Brasil\\u002fSudeste\\u002fMG\",\"Brasil\\u002fCentro-Oeste\\u002fMS\",\"Brasil\\u002fCentro-Oeste\\u002fMT\",\"Brasil\\u002fNorte\\u002fPA\",\"Brasil\\u002fNordeste\\u002fPB\",\"Brasil\\u002fNordeste\\u002fPE\",\"Brasil\\u002fNordeste\\u002fPI\",\"Brasil\\u002fSul\\u002fPR\",\"Brasil\\u002fSudeste\\u002fRJ\",\"Brasil\\u002fNordeste\\u002fRN\",\"Brasil\\u002fSul\\u002fRS\",\"Brasil\\u002fSul\\u002fSC\",\"Brasil\\u002fNordeste\\u002fSE\",\"Brasil\\u002fSudeste\\u002fSP\",\"Brasil\\u002fCentro-Oeste\\u002fTO\",\"Brasil\\u002fCentro-Oeste\",\"Brasil\\u002fNordeste\",\"Brasil\\u002fNorte\",\"Brasil\\u002fSudeste\",\"Brasil\\u002fSul\",\"Brasil\"],\"labels\":[\"Qu\\u00edmica Alimentar\",\"Qu\\u00edmica de materiais b\\u00e1sicos\",\"Telecomunica\\u00e7\\u00f5es\",\"Produtos farmac\\u00eauticos\",\"Produtos farmac\\u00eauticos\",\"Qu\\u00edmica Alimentar\",\"Qu\\u00edmica Alimentar\",\"Materiais, metalurgia\",\"Outras m\\u00e1quinas especiais\",\"Qu\\u00edmica de materiais b\\u00e1sicos\",\"Comunica\\u00e7\\u00e3o digital\",\"Qu\\u00edmica de materiais b\\u00e1sicos\",\"Engenharia qu\\u00edmica\",\"Biotecnologia\",\"Biotecnologia\",\"Tecnologia m\\u00e9dica\",\"Biotecnologia\",\"Biotecnologia\",\"Materiais, metalurgia\",\"Tecnologia m\\u00e9dica\",\"Medi\\u00e7\\u00e3o\",\"Produtos farmac\\u00eauticos\",\"Materiais, metalurgia\",\"Qu\\u00edmica de materiais b\\u00e1sicos\",\"Biotecnologia\",\"Qu\\u00edmica Alimentar\",\"Qu\\u00edmica fina org\\u00e2nica\",\"Qu\\u00edmica Alimentar\",\"Produtos farmac\\u00eauticos\",\"Produtos farmac\\u00eauticos\",\"Engenharia qu\\u00edmica\",\"Qu\\u00edmica de materiais b\\u00e1sicos\",\"Qu\\u00edmica fina org\\u00e2nica\",\"Qu\\u00edmica macromolecular, pol\\u00edmeros\",\"Medi\\u00e7\\u00e3o\",\"Produtos farmac\\u00eauticos\",\"Materiais, metalurgia\",\"Outras m\\u00e1quinas especiais\",\"Medi\\u00e7\\u00e3o\",\"Qu\\u00edmica fina org\\u00e2nica\",\"Qu\\u00edmica de materiais b\\u00e1sicos\",\"Controle\",\"Qu\\u00edmica fina org\\u00e2nica\",\"Produtos farmac\\u00eauticos\",\"Produtos farmac\\u00eauticos\",\"Produtos farmac\\u00eauticos\",\"Qu\\u00edmica fina org\\u00e2nica\",\"Produtos farmac\\u00eauticos\",\"Medi\\u00e7\\u00e3o\",\"Biotecnologia\",\"Outras m\\u00e1quinas especiais\",\"Materiais, metalurgia\",\"Produtos farmac\\u00eauticos\",\"Qu\\u00edmica Alimentar\",\"Materiais, metalurgia\",\"Engenharia qu\\u00edmica\",\"Qu\\u00edmica de materiais b\\u00e1sicos\",\"Qu\\u00edmica de materiais b\\u00e1sicos\",\"Medi\\u00e7\\u00e3o\",\"Biotecnologia\",\"Qu\\u00edmica fina org\\u00e2nica\",\"Biotecnologia\",\"Qu\\u00edmica fina org\\u00e2nica\",\"Tecnologia m\\u00e9dica\",\"Qu\\u00edmica de materiais b\\u00e1sicos\",\"Produtos farmac\\u00eauticos\",\"Qu\\u00edmica de materiais b\\u00e1sicos\",\"An\\u00e1lise de materiais biol\\u00f3gicos\",\"Medi\\u00e7\\u00e3o\",\"Produtos farmac\\u00eauticos\",\"Produtos farmac\\u00eauticos\",\"Medi\\u00e7\\u00e3o\",\"Produtos farmac\\u00eauticos\",\"Biotecnologia\",\"Biotecnologia\",\"Produtos farmac\\u00eauticos\",\"Qu\\u00edmica Alimentar\",\"Biotecnologia\",\"Qu\\u00edmica Alimentar\",\"Tecnologia m\\u00e9dica\",\"Qu\\u00edmica macromolecular, pol\\u00edmeros\",\"Engenharia qu\\u00edmica\",\"Engenharia qu\\u00edmica\",\"M\\u00f3veis, jogos\",\"Qu\\u00edmica fina org\\u00e2nica\",\"Tecnologia Ambiental\",\"Produtos farmac\\u00eauticos\",\"Tecnologia m\\u00e9dica\",\"An\\u00e1lise de materiais biol\\u00f3gicos\",\"Produtos farmac\\u00eauticos\",\"Qu\\u00edmica de materiais b\\u00e1sicos\",\"Tecnologia m\\u00e9dica\",\"Qu\\u00edmica Alimentar\",\"Qu\\u00edmica de materiais b\\u00e1sicos\",\"Materiais, metalurgia\",\"Medi\\u00e7\\u00e3o\",\"Materiais, metalurgia\",\"Qu\\u00edmica Alimentar\",\"Medi\\u00e7\\u00e3o\",\"Tecnologia m\\u00e9dica\",\"Engenharia qu\\u00edmica\",\"Medi\\u00e7\\u00e3o\",\"Outros bens de consumo\",\"Biotecnologia\",\"Produtos farmac\\u00eauticos\",\"Qu\\u00edmica de materiais b\\u00e1sicos\",\"Biotecnologia\",\"Tecnologia m\\u00e9dica\",\"Qu\\u00edmica de materiais b\\u00e1sicos\",\"Elementos mec\\u00e2nicos\",\"Tecnologia m\\u00e9dica\",\"Qu\\u00edmica de materiais b\\u00e1sicos\",\"Qu\\u00edmica macromolecular, pol\\u00edmeros\",\"Materiais, metalurgia\",\"Qu\\u00edmica fina org\\u00e2nica\",\"Produtos farmac\\u00eauticos\",\"Outras m\\u00e1quinas especiais\",\"Biotecnologia\",\"Qu\\u00edmica Alimentar\",\"Produtos farmac\\u00eauticos\",\"AL\",\"AM\",\"AP\",\"BA\",\"CE\",\"DF\",\"ES\",\"GO\",\"MA\",\"MG\",\"MS\",\"MT\",\"PA\",\"PB\",\"PE\",\"PI\",\"PR\",\"RJ\",\"RN\",\"RS\",\"SC\",\"SE\",\"SP\",\"TO\",\"Centro-Oeste\",\"Nordeste\",\"Norte\",\"Sudeste\",\"Sul\",\"Brasil\"],\"marker\":{\"colors\":[\"#636efa\",\"#EF553B\",\"#00cc96\",\"#ab63fa\",\"#ab63fa\",\"#636efa\",\"#636efa\",\"#FFA15A\",\"#19d3f3\",\"#EF553B\",\"#FF6692\",\"#EF553B\",\"#B6E880\",\"#FF97FF\",\"#FF97FF\",\"#FECB52\",\"#FF97FF\",\"#FF97FF\",\"#FFA15A\",\"#FECB52\",\"#636efa\",\"#ab63fa\",\"#FFA15A\",\"#EF553B\",\"#FF97FF\",\"#636efa\",\"#EF553B\",\"#636efa\",\"#ab63fa\",\"#ab63fa\",\"#B6E880\",\"#EF553B\",\"#EF553B\",\"#00cc96\",\"#636efa\",\"#ab63fa\",\"#FFA15A\",\"#19d3f3\",\"#636efa\",\"#EF553B\",\"#EF553B\",\"#ab63fa\",\"#EF553B\",\"#ab63fa\",\"#ab63fa\",\"#ab63fa\",\"#EF553B\",\"#ab63fa\",\"#636efa\",\"#FF97FF\",\"#19d3f3\",\"#FFA15A\",\"#ab63fa\",\"#636efa\",\"#FFA15A\",\"#B6E880\",\"#EF553B\",\"#EF553B\",\"#636efa\",\"#FF97FF\",\"#EF553B\",\"#FF97FF\",\"#EF553B\",\"#FECB52\",\"#EF553B\",\"#ab63fa\",\"#EF553B\",\"#FFA15A\",\"#636efa\",\"#ab63fa\",\"#ab63fa\",\"#636efa\",\"#ab63fa\",\"#FF97FF\",\"#FF97FF\",\"#ab63fa\",\"#636efa\",\"#FF97FF\",\"#636efa\",\"#FECB52\",\"#00cc96\",\"#B6E880\",\"#B6E880\",\"#19d3f3\",\"#EF553B\",\"#FF6692\",\"#ab63fa\",\"#FECB52\",\"#FFA15A\",\"#ab63fa\",\"#EF553B\",\"#FECB52\",\"#636efa\",\"#EF553B\",\"#FFA15A\",\"#636efa\",\"#FFA15A\",\"#636efa\",\"#636efa\",\"#FECB52\",\"#B6E880\",\"#636efa\",\"#B6E880\",\"#FF97FF\",\"#ab63fa\",\"#EF553B\",\"#FF97FF\",\"#FECB52\",\"#EF553B\",\"#FF97FF\",\"#FECB52\",\"#EF553B\",\"#00cc96\",\"#FFA15A\",\"#EF553B\",\"#ab63fa\",\"#19d3f3\",\"#FF97FF\",\"#636efa\",\"#ab63fa\",\"#FECB52\",\"#FECB52\",\"#FECB52\",\"#FECB52\",\"#FECB52\",\"#FECB52\",\"#FECB52\",\"#FECB52\",\"#FECB52\",\"#FECB52\",\"#FECB52\",\"#FECB52\",\"#FECB52\",\"#FECB52\",\"#FECB52\",\"#FECB52\",\"#FECB52\",\"#FECB52\",\"#FECB52\",\"#FECB52\",\"#FECB52\",\"#FECB52\",\"#FECB52\",\"#FECB52\",\"#FECB52\",\"#FECB52\",\"#FECB52\",\"#FECB52\",\"#FECB52\",\"#FECB52\"]},\"name\":\"\",\"parents\":[\"Brasil\\u002fNordeste\\u002fPI\",\"Brasil\\u002fNordeste\\u002fSE\",\"Brasil\\u002fNorte\\u002fPA\",\"Brasil\\u002fNorte\\u002fAM\",\"Brasil\\u002fNordeste\\u002fSE\",\"Brasil\\u002fNorte\\u002fAM\",\"Brasil\\u002fNordeste\\u002fSE\",\"Brasil\\u002fNordeste\\u002fCE\",\"Brasil\\u002fNordeste\\u002fMA\",\"Brasil\\u002fCentro-Oeste\\u002fGO\",\"Brasil\\u002fNorte\\u002fAM\",\"Brasil\\u002fCentro-Oeste\\u002fTO\",\"Brasil\\u002fSudeste\\u002fRJ\",\"Brasil\\u002fNordeste\\u002fAL\",\"Brasil\\u002fSudeste\\u002fMG\",\"Brasil\\u002fNordeste\\u002fAL\",\"Brasil\\u002fCentro-Oeste\\u002fMS\",\"Brasil\\u002fSul\\u002fPR\",\"Brasil\\u002fNordeste\\u002fSE\",\"Brasil\\u002fNordeste\\u002fRN\",\"Brasil\\u002fSudeste\\u002fMG\",\"Brasil\\u002fNordeste\\u002fPE\",\"Brasil\\u002fSul\\u002fRS\",\"Brasil\\u002fCentro-Oeste\\u002fMT\",\"Brasil\\u002fNordeste\\u002fCE\",\"Brasil\\u002fCentro-Oeste\\u002fTO\",\"Brasil\\u002fNordeste\\u002fCE\",\"Brasil\\u002fCentro-Oeste\\u002fMS\",\"Brasil\\u002fNordeste\\u002fPI\",\"Brasil\\u002fSul\\u002fSC\",\"Brasil\\u002fSudeste\\u002fES\",\"Brasil\\u002fSul\\u002fPR\",\"Brasil\\u002fCentro-Oeste\\u002fMT\",\"Brasil\\u002fSudeste\\u002fSP\",\"Brasil\\u002fCentro-Oeste\\u002fMT\",\"Brasil\\u002fNordeste\\u002fMA\",\"Brasil\\u002fSul\\u002fPR\",\"Brasil\\u002fSul\\u002fRS\",\"Brasil\\u002fNordeste\\u002fBA\",\"Brasil\\u002fSudeste\\u002fRJ\",\"Brasil\\u002fNordeste\\u002fPB\",\"Brasil\\u002fNorte\\u002fAP\",\"Brasil\\u002fCentro-Oeste\\u002fGO\",\"Brasil\\u002fSul\\u002fPR\",\"Brasil\\u002fSudeste\\u002fMG\",\"Brasil\\u002fCentro-Oeste\\u002fDF\",\"Brasil\\u002fNorte\\u002fAP\",\"Brasil\\u002fCentro-Oeste\\u002fMS\",\"Brasil\\u002fSul\\u002fSC\",\"Brasil\\u002fSudeste\\u002fRJ\",\"Brasil\\u002fCentro-Oeste\\u002fMS\",\"Brasil\\u002fSul\\u002fSC\",\"Brasil\\u002fCentro-Oeste\\u002fTO\",\"Brasil\\u002fNordeste\\u002fMA\",\"Brasil\\u002fNorte\\u002fPA\",\"Brasil\\u002fNorte\\u002fPA\",\"Brasil\\u002fNordeste\\u002fMA\",\"Brasil\\u002fSudeste\\u002fSP\",\"Brasil\\u002fCentro-Oeste\\u002fDF\",\"Brasil\\u002fNordeste\\u002fPE\",\"Brasil\\u002fSudeste\\u002fMG\",\"Brasil\\u002fCentro-Oeste\\u002fDF\",\"Brasil\\u002fSudeste\\u002fSP\",\"Brasil\\u002fSul\\u002fSC\",\"Brasil\\u002fNordeste\\u002fRN\",\"Brasil\\u002fNordeste\\u002fRN\",\"Brasil\\u002fNordeste\\u002fBA\",\"Brasil\\u002fNordeste\\u002fPI\",\"Brasil\\u002fNorte\\u002fPA\",\"Brasil\\u002fNorte\\u002fAP\",\"Brasil\\u002fNorte\\u002fPA\",\"Brasil\\u002fSul\\u002fRS\",\"Brasil\\u002fSudeste\\u002fRJ\",\"Brasil\\u002fCentro-Oeste\\u002fTO\",\"Brasil\\u002fNordeste\\u002fPB\",\"Brasil\\u002fNordeste\\u002fAL\",\"Brasil\\u002fNordeste\\u002fPB\",\"Brasil\\u002fNordeste\\u002fBA\",\"Brasil\\u002fNordeste\\u002fBA\",\"Brasil\\u002fNordeste\\u002fSE\",\"Brasil\\u002fNorte\\u002fAP\",\"Brasil\\u002fCentro-Oeste\\u002fGO\",\"Brasil\\u002fNorte\\u002fAM\",\"Brasil\\u002fCentro-Oeste\\u002fMT\",\"Brasil\\u002fNordeste\\u002fPE\",\"Brasil\\u002fNordeste\\u002fBA\",\"Brasil\\u002fSudeste\\u002fES\",\"Brasil\\u002fCentro-Oeste\\u002fMS\",\"Brasil\\u002fNordeste\\u002fRN\",\"Brasil\\u002fSul\\u002fRS\",\"Brasil\\u002fSul\\u002fSC\",\"Brasil\\u002fSudeste\\u002fSP\",\"Brasil\\u002fNordeste\\u002fAL\",\"Brasil\\u002fCentro-Oeste\\u002fDF\",\"Brasil\\u002fNordeste\\u002fPI\",\"Brasil\\u002fSudeste\\u002fES\",\"Brasil\\u002fNordeste\\u002fRN\",\"Brasil\\u002fNordeste\\u002fCE\",\"Brasil\\u002fSudeste\\u002fRJ\",\"Brasil\\u002fNordeste\\u002fPI\",\"Brasil\\u002fCentro-Oeste\\u002fTO\",\"Brasil\\u002fCentro-Oeste\\u002fGO\",\"Brasil\\u002fNorte\\u002fAP\",\"Brasil\\u002fSul\\u002fRS\",\"Brasil\\u002fCentro-Oeste\\u002fGO\",\"Brasil\\u002fSudeste\\u002fES\",\"Brasil\\u002fSudeste\\u002fSP\",\"Brasil\\u002fSudeste\\u002fMG\",\"Brasil\\u002fNordeste\\u002fAL\",\"Brasil\\u002fSudeste\\u002fES\",\"Brasil\\u002fCentro-Oeste\\u002fDF\",\"Brasil\\u002fNordeste\\u002fPE\",\"Brasil\\u002fSul\\u002fPR\",\"Brasil\\u002fNordeste\\u002fPB\",\"Brasil\\u002fNordeste\\u002fMA\",\"Brasil\\u002fNordeste\\u002fCE\",\"Brasil\\u002fCentro-Oeste\\u002fMT\",\"Brasil\\u002fNorte\\u002fAM\",\"Brasil\\u002fNordeste\\u002fPE\",\"Brasil\\u002fNordeste\\u002fPB\",\"Brasil\\u002fNordeste\",\"Brasil\\u002fNorte\",\"Brasil\\u002fNorte\",\"Brasil\\u002fNordeste\",\"Brasil\\u002fNordeste\",\"Brasil\\u002fCentro-Oeste\",\"Brasil\\u002fSudeste\",\"Brasil\\u002fCentro-Oeste\",\"Brasil\\u002fNordeste\",\"Brasil\\u002fSudeste\",\"Brasil\\u002fCentro-Oeste\",\"Brasil\\u002fCentro-Oeste\",\"Brasil\\u002fNorte\",\"Brasil\\u002fNordeste\",\"Brasil\\u002fNordeste\",\"Brasil\\u002fNordeste\",\"Brasil\\u002fSul\",\"Brasil\\u002fSudeste\",\"Brasil\\u002fNordeste\",\"Brasil\\u002fSul\",\"Brasil\\u002fSul\",\"Brasil\\u002fNordeste\",\"Brasil\\u002fSudeste\",\"Brasil\\u002fCentro-Oeste\",\"Brasil\",\"Brasil\",\"Brasil\",\"Brasil\",\"Brasil\",\"\"],\"values\":[3,8,7,2,29,1,13,16,7,7,1,2,16,16,123,10,11,25,8,16,57,61,21,4,10,3,10,17,8,7,3,13,4,12,3,28,14,23,4,22,33,1,7,13,122,12,1,7,4,18,6,5,3,10,5,5,7,10,3,25,38,18,10,13,9,13,3,2,5,2,19,19,18,1,23,23,248,13,20,9,1,3,2,3,17,4,3,7,6,41,5,16,9,4,3,2,15,16,16,3,3,3,1,32,9,5,19,63,19,2,7,34,14,26,11,12,3,1,20,49,77,7,6,44,64,44,15,29,63,403,48,17,41,379,157,19,79,90,59,136,34,67,67,12,150,929,54,575,249,1957],\"type\":\"treemap\"}],                        {\"template\":{\"data\":{\"histogram2dcontour\":[{\"type\":\"histogram2dcontour\",\"colorbar\":{\"outlinewidth\":0,\"ticks\":\"\"},\"colorscale\":[[0.0,\"#0d0887\"],[0.1111111111111111,\"#46039f\"],[0.2222222222222222,\"#7201a8\"],[0.3333333333333333,\"#9c179e\"],[0.4444444444444444,\"#bd3786\"],[0.5555555555555556,\"#d8576b\"],[0.6666666666666666,\"#ed7953\"],[0.7777777777777778,\"#fb9f3a\"],[0.8888888888888888,\"#fdca26\"],[1.0,\"#f0f921\"]]}],\"choropleth\":[{\"type\":\"choropleth\",\"colorbar\":{\"outlinewidth\":0,\"ticks\":\"\"}}],\"histogram2d\":[{\"type\":\"histogram2d\",\"colorbar\":{\"outlinewidth\":0,\"ticks\":\"\"},\"colorscale\":[[0.0,\"#0d0887\"],[0.1111111111111111,\"#46039f\"],[0.2222222222222222,\"#7201a8\"],[0.3333333333333333,\"#9c179e\"],[0.4444444444444444,\"#bd3786\"],[0.5555555555555556,\"#d8576b\"],[0.6666666666666666,\"#ed7953\"],[0.7777777777777778,\"#fb9f3a\"],[0.8888888888888888,\"#fdca26\"],[1.0,\"#f0f921\"]]}],\"heatmap\":[{\"type\":\"heatmap\",\"colorbar\":{\"outlinewidth\":0,\"ticks\":\"\"},\"colorscale\":[[0.0,\"#0d0887\"],[0.1111111111111111,\"#46039f\"],[0.2222222222222222,\"#7201a8\"],[0.3333333333333333,\"#9c179e\"],[0.4444444444444444,\"#bd3786\"],[0.5555555555555556,\"#d8576b\"],[0.6666666666666666,\"#ed7953\"],[0.7777777777777778,\"#fb9f3a\"],[0.8888888888888888,\"#fdca26\"],[1.0,\"#f0f921\"]]}],\"heatmapgl\":[{\"type\":\"heatmapgl\",\"colorbar\":{\"outlinewidth\":0,\"ticks\":\"\"},\"colorscale\":[[0.0,\"#0d0887\"],[0.1111111111111111,\"#46039f\"],[0.2222222222222222,\"#7201a8\"],[0.3333333333333333,\"#9c179e\"],[0.4444444444444444,\"#bd3786\"],[0.5555555555555556,\"#d8576b\"],[0.6666666666666666,\"#ed7953\"],[0.7777777777777778,\"#fb9f3a\"],[0.8888888888888888,\"#fdca26\"],[1.0,\"#f0f921\"]]}],\"contourcarpet\":[{\"type\":\"contourcarpet\",\"colorbar\":{\"outlinewidth\":0,\"ticks\":\"\"}}],\"contour\":[{\"type\":\"contour\",\"colorbar\":{\"outlinewidth\":0,\"ticks\":\"\"},\"colorscale\":[[0.0,\"#0d0887\"],[0.1111111111111111,\"#46039f\"],[0.2222222222222222,\"#7201a8\"],[0.3333333333333333,\"#9c179e\"],[0.4444444444444444,\"#bd3786\"],[0.5555555555555556,\"#d8576b\"],[0.6666666666666666,\"#ed7953\"],[0.7777777777777778,\"#fb9f3a\"],[0.8888888888888888,\"#fdca26\"],[1.0,\"#f0f921\"]]}],\"surface\":[{\"type\":\"surface\",\"colorbar\":{\"outlinewidth\":0,\"ticks\":\"\"},\"colorscale\":[[0.0,\"#0d0887\"],[0.1111111111111111,\"#46039f\"],[0.2222222222222222,\"#7201a8\"],[0.3333333333333333,\"#9c179e\"],[0.4444444444444444,\"#bd3786\"],[0.5555555555555556,\"#d8576b\"],[0.6666666666666666,\"#ed7953\"],[0.7777777777777778,\"#fb9f3a\"],[0.8888888888888888,\"#fdca26\"],[1.0,\"#f0f921\"]]}],\"mesh3d\":[{\"type\":\"mesh3d\",\"colorbar\":{\"outlinewidth\":0,\"ticks\":\"\"}}],\"scatter\":[{\"fillpattern\":{\"fillmode\":\"overlay\",\"size\":10,\"solidity\":0.2},\"type\":\"scatter\"}],\"parcoords\":[{\"type\":\"parcoords\",\"line\":{\"colorbar\":{\"outlinewidth\":0,\"ticks\":\"\"}}}],\"scatterpolargl\":[{\"type\":\"scatterpolargl\",\"marker\":{\"colorbar\":{\"outlinewidth\":0,\"ticks\":\"\"}}}],\"bar\":[{\"error_x\":{\"color\":\"#2a3f5f\"},\"error_y\":{\"color\":\"#2a3f5f\"},\"marker\":{\"line\":{\"color\":\"#E5ECF6\",\"width\":0.5},\"pattern\":{\"fillmode\":\"overlay\",\"size\":10,\"solidity\":0.2}},\"type\":\"bar\"}],\"scattergeo\":[{\"type\":\"scattergeo\",\"marker\":{\"colorbar\":{\"outlinewidth\":0,\"ticks\":\"\"}}}],\"scatterpolar\":[{\"type\":\"scatterpolar\",\"marker\":{\"colorbar\":{\"outlinewidth\":0,\"ticks\":\"\"}}}],\"histogram\":[{\"marker\":{\"pattern\":{\"fillmode\":\"overlay\",\"size\":10,\"solidity\":0.2}},\"type\":\"histogram\"}],\"scattergl\":[{\"type\":\"scattergl\",\"marker\":{\"colorbar\":{\"outlinewidth\":0,\"ticks\":\"\"}}}],\"scatter3d\":[{\"type\":\"scatter3d\",\"line\":{\"colorbar\":{\"outlinewidth\":0,\"ticks\":\"\"}},\"marker\":{\"colorbar\":{\"outlinewidth\":0,\"ticks\":\"\"}}}],\"scattermapbox\":[{\"type\":\"scattermapbox\",\"marker\":{\"colorbar\":{\"outlinewidth\":0,\"ticks\":\"\"}}}],\"scatterternary\":[{\"type\":\"scatterternary\",\"marker\":{\"colorbar\":{\"outlinewidth\":0,\"ticks\":\"\"}}}],\"scattercarpet\":[{\"type\":\"scattercarpet\",\"marker\":{\"colorbar\":{\"outlinewidth\":0,\"ticks\":\"\"}}}],\"carpet\":[{\"aaxis\":{\"endlinecolor\":\"#2a3f5f\",\"gridcolor\":\"white\",\"linecolor\":\"white\",\"minorgridcolor\":\"white\",\"startlinecolor\":\"#2a3f5f\"},\"baxis\":{\"endlinecolor\":\"#2a3f5f\",\"gridcolor\":\"white\",\"linecolor\":\"white\",\"minorgridcolor\":\"white\",\"startlinecolor\":\"#2a3f5f\"},\"type\":\"carpet\"}],\"table\":[{\"cells\":{\"fill\":{\"color\":\"#EBF0F8\"},\"line\":{\"color\":\"white\"}},\"header\":{\"fill\":{\"color\":\"#C8D4E3\"},\"line\":{\"color\":\"white\"}},\"type\":\"table\"}],\"barpolar\":[{\"marker\":{\"line\":{\"color\":\"#E5ECF6\",\"width\":0.5},\"pattern\":{\"fillmode\":\"overlay\",\"size\":10,\"solidity\":0.2}},\"type\":\"barpolar\"}],\"pie\":[{\"automargin\":true,\"type\":\"pie\"}]},\"layout\":{\"autotypenumbers\":\"strict\",\"colorway\":[\"#636efa\",\"#EF553B\",\"#00cc96\",\"#ab63fa\",\"#FFA15A\",\"#19d3f3\",\"#FF6692\",\"#B6E880\",\"#FF97FF\",\"#FECB52\"],\"font\":{\"color\":\"#2a3f5f\"},\"hovermode\":\"closest\",\"hoverlabel\":{\"align\":\"left\"},\"paper_bgcolor\":\"white\",\"plot_bgcolor\":\"#E5ECF6\",\"polar\":{\"bgcolor\":\"#E5ECF6\",\"angularaxis\":{\"gridcolor\":\"white\",\"linecolor\":\"white\",\"ticks\":\"\"},\"radialaxis\":{\"gridcolor\":\"white\",\"linecolor\":\"white\",\"ticks\":\"\"}},\"ternary\":{\"bgcolor\":\"#E5ECF6\",\"aaxis\":{\"gridcolor\":\"white\",\"linecolor\":\"white\",\"ticks\":\"\"},\"baxis\":{\"gridcolor\":\"white\",\"linecolor\":\"white\",\"ticks\":\"\"},\"caxis\":{\"gridcolor\":\"white\",\"linecolor\":\"white\",\"ticks\":\"\"}},\"coloraxis\":{\"colorbar\":{\"outlinewidth\":0,\"ticks\":\"\"}},\"colorscale\":{\"sequential\":[[0.0,\"#0d0887\"],[0.1111111111111111,\"#46039f\"],[0.2222222222222222,\"#7201a8\"],[0.3333333333333333,\"#9c179e\"],[0.4444444444444444,\"#bd3786\"],[0.5555555555555556,\"#d8576b\"],[0.6666666666666666,\"#ed7953\"],[0.7777777777777778,\"#fb9f3a\"],[0.8888888888888888,\"#fdca26\"],[1.0,\"#f0f921\"]],\"sequentialminus\":[[0.0,\"#0d0887\"],[0.1111111111111111,\"#46039f\"],[0.2222222222222222,\"#7201a8\"],[0.3333333333333333,\"#9c179e\"],[0.4444444444444444,\"#bd3786\"],[0.5555555555555556,\"#d8576b\"],[0.6666666666666666,\"#ed7953\"],[0.7777777777777778,\"#fb9f3a\"],[0.8888888888888888,\"#fdca26\"],[1.0,\"#f0f921\"]],\"diverging\":[[0,\"#8e0152\"],[0.1,\"#c51b7d\"],[0.2,\"#de77ae\"],[0.3,\"#f1b6da\"],[0.4,\"#fde0ef\"],[0.5,\"#f7f7f7\"],[0.6,\"#e6f5d0\"],[0.7,\"#b8e186\"],[0.8,\"#7fbc41\"],[0.9,\"#4d9221\"],[1,\"#276419\"]]},\"xaxis\":{\"gridcolor\":\"white\",\"linecolor\":\"white\",\"ticks\":\"\",\"title\":{\"standoff\":15},\"zerolinecolor\":\"white\",\"automargin\":true,\"zerolinewidth\":2},\"yaxis\":{\"gridcolor\":\"white\",\"linecolor\":\"white\",\"ticks\":\"\",\"title\":{\"standoff\":15},\"zerolinecolor\":\"white\",\"automargin\":true,\"zerolinewidth\":2},\"scene\":{\"xaxis\":{\"backgroundcolor\":\"#E5ECF6\",\"gridcolor\":\"white\",\"linecolor\":\"white\",\"showbackground\":true,\"ticks\":\"\",\"zerolinecolor\":\"white\",\"gridwidth\":2},\"yaxis\":{\"backgroundcolor\":\"#E5ECF6\",\"gridcolor\":\"white\",\"linecolor\":\"white\",\"showbackground\":true,\"ticks\":\"\",\"zerolinecolor\":\"white\",\"gridwidth\":2},\"zaxis\":{\"backgroundcolor\":\"#E5ECF6\",\"gridcolor\":\"white\",\"linecolor\":\"white\",\"showbackground\":true,\"ticks\":\"\",\"zerolinecolor\":\"white\",\"gridwidth\":2}},\"shapedefaults\":{\"line\":{\"color\":\"#2a3f5f\"}},\"annotationdefaults\":{\"arrowcolor\":\"#2a3f5f\",\"arrowhead\":0,\"arrowwidth\":1},\"geo\":{\"bgcolor\":\"white\",\"landcolor\":\"#E5ECF6\",\"subunitcolor\":\"white\",\"showland\":true,\"showlakes\":true,\"lakecolor\":\"white\"},\"title\":{\"x\":0.05},\"mapbox\":{\"style\":\"light\"}}},\"legend\":{\"tracegroupgap\":0},\"margin\":{\"t\":50,\"l\":25,\"r\":25,\"b\":25}},                        {\"responsive\": true}                    ).then(function(){\n",
       "                            \n",
       "var gd = document.getElementById('b46e5b61-d265-4683-bdaf-f0bf43843d93');\n",
       "var x = new MutationObserver(function (mutations, observer) {{\n",
       "        var display = window.getComputedStyle(gd).display;\n",
       "        if (!display || display === 'none') {{\n",
       "            console.log([gd, 'removed!']);\n",
       "            Plotly.purge(gd);\n",
       "            observer.disconnect();\n",
       "        }}\n",
       "}});\n",
       "\n",
       "// Listen for the removal of the full notebook cells\n",
       "var notebookContainer = gd.closest('#notebook-container');\n",
       "if (notebookContainer) {{\n",
       "    x.observe(notebookContainer, {childList: true});\n",
       "}}\n",
       "\n",
       "// Listen for the clearing of the current output cell\n",
       "var outputEl = gd.closest('.output');\n",
       "if (outputEl) {{\n",
       "    x.observe(outputEl, {childList: true});\n",
       "}}\n",
       "\n",
       "                        })                };                });            </script>        </div>"
      ]
     },
     "metadata": {},
     "output_type": "display_data"
    }
   ],
   "source": [
    "grouped_regiao_UV = data_analise_UV.groupby(['Regiao', 'titular_uf1', 'Area']).agg(contagem=('Area', 'count'))\n",
    "grouped_regiao_sorted = grouped_regiao_UV.sort_values(by=['titular_uf1', 'contagem'], ascending=[True, False])\n",
    "\n",
    "\n",
    "top_5_per_state = grouped_regiao_sorted.groupby('titular_uf1').head(5).reset_index()\n",
    "\n",
    "\n",
    "fig = px.treemap(top_5_per_state, \n",
    "                 path=[px.Constant(\"Brasil\"),'Regiao', 'titular_uf1', 'Area'], \n",
    "                 values='contagem', \n",
    "                 color='Area',\n",
    "                 color_continuous_scale='RdBu')\n",
    "\n",
    "fig.update_layout(margin=dict(t=50, l=25, r=25, b=25))\n",
    "fig.write_image('streamlit/img/imagem_area_tecnologica_regiaoUV.png')\n",
    "\n",
    "fig.show()\n"
   ]
  },
  {
   "cell_type": "markdown",
   "id": "4ca241ab-a81a-418b-aa9d-5d3e37e4a194",
   "metadata": {},
   "source": [
    "## Áreas Tecnológicas - 5 Instituições que mais depositaram patentes"
   ]
  },
  {
   "cell_type": "code",
   "execution_count": 37,
   "id": "e2abfa8e-ca65-4380-9eb3-956a8cd00dbf",
   "metadata": {
    "tags": []
   },
   "outputs": [],
   "source": []
  },
  {
   "cell_type": "markdown",
   "id": "ef7aee5d-a6cb-4fee-a3dc-0acc46f8ade8",
   "metadata": {},
   "source": [
    "### 1. Universidades"
   ]
  },
  {
   "cell_type": "code",
   "execution_count": null,
   "id": "14fdf18e-69e4-42a1-b7b4-325b84ba76bd",
   "metadata": {
    "tags": []
   },
   "outputs": [],
   "source": []
  },
  {
   "cell_type": "code",
   "execution_count": null,
   "id": "126a620f-f13f-4bb5-ac69-cf7050c0c6d8",
   "metadata": {
    "tags": []
   },
   "outputs": [],
   "source": []
  },
  {
   "cell_type": "code",
   "execution_count": null,
   "id": "0a824968-16a6-4f79-a09a-71ddf57a8dac",
   "metadata": {
    "tags": []
   },
   "outputs": [],
   "source": []
  },
  {
   "cell_type": "code",
   "execution_count": null,
   "id": "873e99cf-0628-4b61-bf38-ed3904af51ab",
   "metadata": {},
   "outputs": [],
   "source": []
  }
 ],
 "metadata": {
  "kernelspec": {
   "display_name": "Python 3 (ipykernel)",
   "language": "python",
   "name": "python3"
  },
  "language_info": {
   "codemirror_mode": {
    "name": "ipython",
    "version": 3
   },
   "file_extension": ".py",
   "mimetype": "text/x-python",
   "name": "python",
   "nbconvert_exporter": "python",
   "pygments_lexer": "ipython3",
   "version": "3.11.5"
  }
 },
 "nbformat": 4,
 "nbformat_minor": 5
}
