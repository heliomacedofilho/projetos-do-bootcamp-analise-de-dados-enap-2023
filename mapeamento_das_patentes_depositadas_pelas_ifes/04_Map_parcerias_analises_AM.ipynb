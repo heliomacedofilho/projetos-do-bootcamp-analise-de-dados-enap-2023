{
 "cells": [
  {
   "cell_type": "markdown",
   "id": "3232bfff-9aeb-4256-ab92-07e6692b11d0",
   "metadata": {
    "slideshow": {
     "slide_type": "slide"
    },
    "tags": []
   },
   "source": [
    "# Mapeamento de patentes"
   ]
  },
  {
   "cell_type": "markdown",
   "id": "051358b7",
   "metadata": {},
   "source": [
    "## Bibliotecas"
   ]
  },
  {
   "cell_type": "code",
<<<<<<< Updated upstream
   "execution_count": 1,
=======
   "execution_count": 18,
>>>>>>> Stashed changes
   "id": "59531522",
   "metadata": {},
   "outputs": [],
   "source": [
    "import pandas as pd\n",
    "import matplotlib.pyplot as plt\n",
    "import plotly.express as px\n",
    "import seaborn as sns\n",
    "import plotly.graph_objs as go\n",
    "import plotly.offline as pyo\n",
    "from plotly.offline import iplot\n",
    "\n",
    "pd.options.display.float_format = '{:.1f}'.format"
   ]
  },
  {
   "cell_type": "markdown",
   "id": "a367af93-d4af-4cab-964d-033d29382c27",
   "metadata": {
    "slideshow": {
     "slide_type": "skip"
    }
   },
   "source": [
    "### Banco limpo"
   ]
  },
  {
   "cell_type": "code",
<<<<<<< Updated upstream
   "execution_count": 2,
=======
   "execution_count": 19,
>>>>>>> Stashed changes
   "id": "6403e9f9-8fae-40f6-9f0d-930dcd1e1b2e",
   "metadata": {},
   "outputs": [
    {
     "name": "stdout",
     "output_type": "stream",
     "text": [
      "   Unnamed: 0       ID data_publicacao diretoria  numero_revista  codigo  \\\n",
      "0           0  ID00001      2020-01-07   Patente            2557     3.1   \n",
      "1           1  ID00002      2020-01-07   Patente            2557     3.1   \n",
      "2           2  ID00003      2020-01-07   Patente            2557     3.1   \n",
      "3           3  ID00004      2020-01-07   Patente            2557     3.1   \n",
      "4           4  ID00005      2020-01-07   Patente            2557     3.1   \n",
      "\n",
      "                                              titulo               numero  \\\n",
      "0  Publicação do Pedido de Patente ou de Certific...  BR 10 2013 016644-8   \n",
      "1  Publicação do Pedido de Patente ou de Certific...  BR 10 2014 001105-6   \n",
      "2  Publicação do Pedido de Patente ou de Certific...  BR 10 2017 004929-9   \n",
      "3  Publicação do Pedido de Patente ou de Certific...  BR 10 2017 024659-0   \n",
      "4  Publicação do Pedido de Patente ou de Certific...  BR 10 2017 026178-6   \n",
      "\n",
      "  data_deposito data_prioridade  ... titular_uf titular_pais  \\\n",
      "0    2013-06-27             NaN  ...         SP           BR   \n",
      "1    2014-01-16      18/01/2013  ...        NaN           TW   \n",
      "2    2017-03-13             NaN  ...         CE           BR   \n",
      "3    2017-11-17             NaN  ...        NaN           BR   \n",
      "4    2017-12-05             NaN  ...         AM           BR   \n",
      "\n",
      "                                       inventor_nome parceria  \\\n",
      "0                         ABDO CARIM MOUMTEZ EL ORRA  Titular   \n",
      "1                           FU-YI CHEN; CHI, LI-LING  Titular   \n",
      "2  ANTONIO SERGIO BEZERRA SOMBRA; RONALDO GLAUBER...  Titular   \n",
      "3                              CID GRANJA DOS SANTOS  Titular   \n",
      "4  EDUARDO JAMES PEREIRA SOUTO; NAMEDIN PEREIRA T...  Titular   \n",
      "\n",
      "                         responsavel ifes ifes_abrev ano_dep mes_dep  \\\n",
      "0            ACM EL ORRA COLCHÕES ME  Não        NaN    2013       6   \n",
      "1        KEYARROW (TAIWAN) CO., LTD.  Não        NaN    2014       1   \n",
      "2      UNIVERSIDADE FEDERAL DO CEARÁ  Sim        UFC    2017       3   \n",
      "3              CID GRANJA DOS SANTOS  Não        NaN    2017      11   \n",
      "4  FUNDAÇÃO UNIVERSIDADE DO AMAZONAS  Não        NaN    2017      12   \n",
      "\n",
      "  mes_ano_dep  \n",
      "0     06/2013  \n",
      "1     01/2014  \n",
      "2     03/2017  \n",
      "3     11/2017  \n",
      "4     12/2017  \n",
      "\n",
      "[5 rows x 25 columns]\n",
      "<bound method DataFrame.info of        Unnamed: 0       ID data_publicacao diretoria  numero_revista  codigo  \\\n",
      "0               0  ID00001      2020-01-07   Patente            2557     3.1   \n",
      "1               1  ID00002      2020-01-07   Patente            2557     3.1   \n",
      "2               2  ID00003      2020-01-07   Patente            2557     3.1   \n",
      "3               3  ID00004      2020-01-07   Patente            2557     3.1   \n",
      "4               4  ID00005      2020-01-07   Patente            2557     3.1   \n",
      "...           ...      ...             ...       ...             ...     ...   \n",
      "29226       29226  ID24712      2023-07-25   Patente            2742     3.1   \n",
      "29227       29227  ID24712      2023-07-25   Patente            2742     3.1   \n",
      "29228       29228  ID24713      2023-07-25   Patente            2742     3.1   \n",
      "29229       29229  ID24713      2023-07-25   Patente            2742     3.1   \n",
      "29230       29230  ID24714      2023-07-25   Patente            2742     3.1   \n",
      "\n",
      "                                                  titulo               numero  \\\n",
      "0      Publicação do Pedido de Patente ou de Certific...  BR 10 2013 016644-8   \n",
      "1      Publicação do Pedido de Patente ou de Certific...  BR 10 2014 001105-6   \n",
      "2      Publicação do Pedido de Patente ou de Certific...  BR 10 2017 004929-9   \n",
      "3      Publicação do Pedido de Patente ou de Certific...  BR 10 2017 024659-0   \n",
      "4      Publicação do Pedido de Patente ou de Certific...  BR 10 2017 026178-6   \n",
      "...                                                  ...                  ...   \n",
      "29226  Publicação do Pedido de Patente ou de Certific...  BR 20 2023 000366-0   \n",
      "29227  Publicação do Pedido de Patente ou de Certific...  BR 20 2023 000366-0   \n",
      "29228  Publicação do Pedido de Patente ou de Certific...  BR 20 2023 000367-8   \n",
      "29229  Publicação do Pedido de Patente ou de Certific...  BR 20 2023 000367-8   \n",
      "29230  Publicação do Pedido de Patente ou de Certific...  BR 20 2023 000552-2   \n",
      "\n",
      "      data_deposito data_prioridade  ... titular_uf titular_pais  \\\n",
      "0        2013-06-27             NaN  ...         SP           BR   \n",
      "1        2014-01-16      18/01/2013  ...        NaN           TW   \n",
      "2        2017-03-13             NaN  ...         CE           BR   \n",
      "3        2017-11-17             NaN  ...        NaN           BR   \n",
      "4        2017-12-05             NaN  ...         AM           BR   \n",
      "...             ...             ...  ...        ...          ...   \n",
      "29226    2023-01-09      10/01/2022  ...        NaN       TW; TW   \n",
      "29227    2023-01-09      10/01/2022  ...        NaN       TW; TW   \n",
      "29228    2023-01-09      10/01/2022  ...        NaN       TW; TW   \n",
      "29229    2023-01-09      10/01/2022  ...        NaN       TW; TW   \n",
      "29230    2023-01-11      13/01/2022  ...        NaN           CN   \n",
      "\n",
      "                                           inventor_nome  parceria  \\\n",
      "0                             ABDO CARIM MOUMTEZ EL ORRA   Titular   \n",
      "1                               FU-YI CHEN; CHI, LI-LING   Titular   \n",
      "2      ANTONIO SERGIO BEZERRA SOMBRA; RONALDO GLAUBER...   Titular   \n",
      "3                                  CID GRANJA DOS SANTOS   Titular   \n",
      "4      EDUARDO JAMES PEREIRA SOUTO; NAMEDIN PEREIRA T...   Titular   \n",
      "...                                                  ...       ...   \n",
      "29226             SHIH-HSIUNG CHEN; SHU-HSIA CHANG CHIEN  Parceiro   \n",
      "29227             SHIH-HSIUNG CHEN; SHU-HSIA CHANG CHIEN   Titular   \n",
      "29228             SHIH-HSIUNG CHEN; SHU-HSIA CHANG CHIEN   Titular   \n",
      "29229             SHIH-HSIUNG CHEN; SHU-HSIA CHANG CHIEN  Parceiro   \n",
      "29230  XIHUI WANG; HAITIAN ZHANG; YAHUA LI; HAO WANG;...   Titular   \n",
      "\n",
      "                                       responsavel ifes ifes_abrev ano_dep  \\\n",
      "0                          ACM EL ORRA COLCHÕES ME  Não        NaN    2013   \n",
      "1                      KEYARROW (TAIWAN) CO., LTD.  Não        NaN    2014   \n",
      "2                    UNIVERSIDADE FEDERAL DO CEARÁ  Sim        UFC    2017   \n",
      "3                            CID GRANJA DOS SANTOS  Não        NaN    2017   \n",
      "4                FUNDAÇÃO UNIVERSIDADE DO AMAZONAS  Não        NaN    2017   \n",
      "...                                            ...  ...        ...     ...   \n",
      "29226                         SHU-HSIA CHANG CHIEN  Não        NaN    2023   \n",
      "29227                             SHIH-HSIUNG CHEN  Não        NaN    2023   \n",
      "29228                             SHIH-HSIUNG CHEN  Não        NaN    2023   \n",
      "29229                         SHU-HSIA CHANG CHIEN  Não        NaN    2023   \n",
      "29230  AIKE (SHANGHAI) MEDICAL EQUIPMENT CO., LTD.  Não        NaN    2023   \n",
      "\n",
      "      mes_dep mes_ano_dep  \n",
      "0           6     06/2013  \n",
      "1           1     01/2014  \n",
      "2           3     03/2017  \n",
      "3          11     11/2017  \n",
      "4          12     12/2017  \n",
      "...       ...         ...  \n",
      "29226       1     01/2023  \n",
      "29227       1     01/2023  \n",
      "29228       1     01/2023  \n",
      "29229       1     01/2023  \n",
      "29230       1     01/2023  \n",
      "\n",
      "[29231 rows x 25 columns]>\n"
     ]
    }
   ],
   "source": [
    "# Exporte o DataFrame para o arquivo Excel\n",
    "df = pd.read_excel('dados_patentes_longo_AM.xlsx')\n",
    "\n",
    "df['data_publicacao'] = pd.to_datetime(df['data_publicacao'], format=\"%d/%m/%Y\")\n",
    "df['data_deposito'] = pd.to_datetime(df['data_deposito'], format=\"%d/%m/%Y\")\n",
    "\n",
    "df['ifes'] = df['ifes'].astype('category')\n",
    "df['parceria'] = df['parceria'].astype('category')\n",
    "\n",
    "# Extrair o ano, o mês e mês/ano\n",
    "df['ano_dep'] = df['data_deposito'].dt.year\n",
    "df['mes_dep'] = df['data_deposito'].dt.month\n",
    "df['mes_ano_dep'] = df.apply(lambda x: f\"{x['mes_dep']:02d}/{x['ano_dep']}\", axis=1)\n",
    "df['ano_dep'] = df['ano_dep'].astype('int')\n",
    "df['mes_dep'] = df['mes_dep'].astype('int')\n",
    "df['mes_ano_dep'] = df['mes_ano_dep'].astype('str')\n",
    "\n",
    "print(df.head())\n",
    "print(df.info)"
   ]
  },
  {
   "cell_type": "markdown",
   "id": "628c752c",
   "metadata": {},
   "source": [
    "### Exploração das datas"
   ]
  },
  {
   "cell_type": "code",
<<<<<<< Updated upstream
   "execution_count": 3,
=======
   "execution_count": 20,
>>>>>>> Stashed changes
   "id": "69542fd0",
   "metadata": {},
   "outputs": [
    {
     "name": "stdout",
     "output_type": "stream",
     "text": [
      "2020-01-07 00:00:00\n",
      "2023-07-25 00:00:00\n",
      "2003-05-20 00:00:00\n",
      "2023-01-11 00:00:00\n"
     ]
    }
   ],
   "source": [
    "print(df[\"data_publicacao\"].min())\n",
    "print(df[\"data_publicacao\"].max())\n",
    "\n",
    "print(df[\"data_deposito\"].min())\n",
    "print(df[\"data_deposito\"].max())"
   ]
  },
  {
   "cell_type": "markdown",
   "id": "b8abe84d",
   "metadata": {},
   "source": [
    "### Total de patentes depositadas no período"
   ]
  },
  {
   "cell_type": "code",
<<<<<<< Updated upstream
   "execution_count": 4,
=======
   "execution_count": 21,
>>>>>>> Stashed changes
   "id": "aef52979",
   "metadata": {},
   "outputs": [
    {
     "data": {
      "text/html": [
       "<div>\n",
       "<style scoped>\n",
       "    .dataframe tbody tr th:only-of-type {\n",
       "        vertical-align: middle;\n",
       "    }\n",
       "\n",
       "    .dataframe tbody tr th {\n",
       "        vertical-align: top;\n",
       "    }\n",
       "\n",
       "    .dataframe thead th {\n",
       "        text-align: right;\n",
       "    }\n",
       "</style>\n",
       "<table border=\"1\" class=\"dataframe\">\n",
       "  <thead>\n",
       "    <tr style=\"text-align: right;\">\n",
       "      <th></th>\n",
       "      <th>ano_dep</th>\n",
       "      <th>ID</th>\n",
       "    </tr>\n",
       "  </thead>\n",
       "  <tbody>\n",
       "    <tr>\n",
       "      <th>0</th>\n",
       "      <td>2003</td>\n",
       "      <td>2</td>\n",
       "    </tr>\n",
       "    <tr>\n",
       "      <th>1</th>\n",
       "      <td>2007</td>\n",
       "      <td>4</td>\n",
       "    </tr>\n",
       "    <tr>\n",
       "      <th>2</th>\n",
       "      <td>2008</td>\n",
       "      <td>3</td>\n",
       "    </tr>\n",
       "    <tr>\n",
       "      <th>3</th>\n",
       "      <td>2009</td>\n",
       "      <td>7</td>\n",
       "    </tr>\n",
       "    <tr>\n",
       "      <th>4</th>\n",
       "      <td>2010</td>\n",
       "      <td>27</td>\n",
       "    </tr>\n",
       "    <tr>\n",
       "      <th>5</th>\n",
       "      <td>2011</td>\n",
       "      <td>37</td>\n",
       "    </tr>\n",
       "    <tr>\n",
       "      <th>6</th>\n",
       "      <td>2012</td>\n",
       "      <td>54</td>\n",
       "    </tr>\n",
       "    <tr>\n",
       "      <th>7</th>\n",
       "      <td>2013</td>\n",
       "      <td>33</td>\n",
       "    </tr>\n",
       "    <tr>\n",
       "      <th>8</th>\n",
       "      <td>2014</td>\n",
       "      <td>57</td>\n",
       "    </tr>\n",
       "    <tr>\n",
       "      <th>9</th>\n",
       "      <td>2015</td>\n",
       "      <td>48</td>\n",
       "    </tr>\n",
       "    <tr>\n",
       "      <th>10</th>\n",
       "      <td>2016</td>\n",
       "      <td>69</td>\n",
       "    </tr>\n",
       "    <tr>\n",
       "      <th>11</th>\n",
       "      <td>2017</td>\n",
       "      <td>71</td>\n",
       "    </tr>\n",
       "    <tr>\n",
       "      <th>12</th>\n",
       "      <td>2018</td>\n",
       "      <td>3022</td>\n",
       "    </tr>\n",
       "    <tr>\n",
       "      <th>13</th>\n",
       "      <td>2019</td>\n",
       "      <td>6966</td>\n",
       "    </tr>\n",
       "    <tr>\n",
       "      <th>14</th>\n",
       "      <td>2020</td>\n",
       "      <td>6719</td>\n",
       "    </tr>\n",
       "    <tr>\n",
       "      <th>15</th>\n",
       "      <td>2021</td>\n",
       "      <td>6193</td>\n",
       "    </tr>\n",
       "    <tr>\n",
       "      <th>16</th>\n",
       "      <td>2022</td>\n",
       "      <td>1390</td>\n",
       "    </tr>\n",
       "    <tr>\n",
       "      <th>17</th>\n",
       "      <td>2023</td>\n",
       "      <td>12</td>\n",
       "    </tr>\n",
       "  </tbody>\n",
       "</table>\n",
       "</div>"
      ],
      "text/plain": [
       "    ano_dep    ID\n",
       "0      2003     2\n",
       "1      2007     4\n",
       "2      2008     3\n",
       "3      2009     7\n",
       "4      2010    27\n",
       "5      2011    37\n",
       "6      2012    54\n",
       "7      2013    33\n",
       "8      2014    57\n",
       "9      2015    48\n",
       "10     2016    69\n",
       "11     2017    71\n",
       "12     2018  3022\n",
       "13     2019  6966\n",
       "14     2020  6719\n",
       "15     2021  6193\n",
       "16     2022  1390\n",
       "17     2023    12"
      ]
     },
<<<<<<< Updated upstream
     "execution_count": 4,
=======
     "execution_count": 21,
>>>>>>> Stashed changes
     "metadata": {},
     "output_type": "execute_result"
    }
   ],
   "source": [
    "tab = df.groupby(['ano_dep'])['ID'].nunique().reset_index()\n",
    "tab"
   ]
  },
  {
   "cell_type": "code",
<<<<<<< Updated upstream
   "execution_count": 5,
=======
   "execution_count": 22,
>>>>>>> Stashed changes
   "id": "82e5d0f8",
   "metadata": {},
   "outputs": [
    {
     "data": {
      "text/html": [
       "<div>\n",
       "<style scoped>\n",
       "    .dataframe tbody tr th:only-of-type {\n",
       "        vertical-align: middle;\n",
       "    }\n",
       "\n",
       "    .dataframe tbody tr th {\n",
       "        vertical-align: top;\n",
       "    }\n",
       "\n",
       "    .dataframe thead th {\n",
       "        text-align: right;\n",
       "    }\n",
       "</style>\n",
       "<table border=\"1\" class=\"dataframe\">\n",
       "  <thead>\n",
       "    <tr style=\"text-align: right;\">\n",
       "      <th></th>\n",
       "      <th>ifes</th>\n",
       "      <th>n</th>\n",
       "    </tr>\n",
       "  </thead>\n",
       "  <tbody>\n",
       "    <tr>\n",
       "      <th>0</th>\n",
       "      <td>Não</td>\n",
       "      <td>21748</td>\n",
       "    </tr>\n",
       "    <tr>\n",
       "      <th>1</th>\n",
       "      <td>Sim</td>\n",
       "      <td>3779</td>\n",
       "    </tr>\n",
       "  </tbody>\n",
       "</table>\n",
       "</div>"
      ],
      "text/plain": [
       "  ifes      n\n",
       "0  Não  21748\n",
       "1  Sim   3779"
      ]
     },
<<<<<<< Updated upstream
     "execution_count": 5,
=======
     "execution_count": 22,
>>>>>>> Stashed changes
     "metadata": {},
     "output_type": "execute_result"
    }
   ],
   "source": [
    "tab = df.groupby('ifes', observed=True).agg(n=('ID', 'nunique')).reset_index()\n",
    "tab"
   ]
  },
  {
   "cell_type": "markdown",
   "id": "b6e5e83c",
   "metadata": {},
   "source": [
    "### Distribuição do total de patentes depositadas entre 20/05/2003 e 11/01/2023 por participação de IFEs"
   ]
  },
  {
   "cell_type": "code",
<<<<<<< Updated upstream
   "execution_count": 6,
=======
   "execution_count": 23,
>>>>>>> Stashed changes
   "id": "e16a9541",
   "metadata": {},
   "outputs": [
    {
     "name": "stderr",
     "output_type": "stream",
     "text": [
<<<<<<< Updated upstream
      "C:\\Users\\DELL\\AppData\\Local\\Temp\\ipykernel_9760\\462537772.py:1: FutureWarning:\n",
=======
      "C:\\Users\\DELL\\AppData\\Local\\Temp\\ipykernel_29580\\462537772.py:1: FutureWarning:\n",
>>>>>>> Stashed changes
      "\n",
      "The default of observed=False is deprecated and will be changed to True in a future version of pandas. Pass observed=False to retain current behavior or observed=True to adopt the future default and silence this warning.\n",
      "\n"
     ]
    },
    {
     "data": {
      "image/png": "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",
      "text/plain": [
       "<Figure size 1200x600 with 1 Axes>"
      ]
     },
     "metadata": {},
     "output_type": "display_data"
    }
   ],
   "source": [
    "counts = df.groupby('ifes')['ID'].nunique().reset_index()\n",
    "\n",
    "total = counts['ID'].sum()\n",
    "\n",
    "counts['Perc'] = (counts['ID'] / total * 100).round(2)\n",
    "\n",
    "plt.figure(figsize=(12, 6))\n",
    "sns.set(style=\"whitegrid\")  # Estilo de fundo\n",
    "\n",
    "barplot = sns.barplot(\n",
    "    x='ifes', y='ID', hue='ifes', data=counts, \n",
    "    palette=\"Blues\", legend=False, edgecolor='black')\n",
    "\n",
    "for index, row in counts.iterrows():\n",
    "    barplot.text(row.name, row['ID']+100, f\"{row['Perc']}%\", color='black', ha=\"center\")\n",
    "\n",
    "plt.xticks(rotation=0, fontsize=13) \n",
    "plt.yticks(fontsize=13)  # Rotacione os rótulos no eixo x para melhor legibilidade\n",
    "plt.xlabel('\\nParticipação de IFES?', fontsize=16)\n",
    "plt.ylabel('Número absoluto de patentes depositadas\\n', fontsize=16)\n",
    "plt.title('Total de patentes depositadas entre 20/05/2003 e 11/01/2023 por tipo de organização',\n",
    "          fontsize=19)\n",
    "\n",
    "# Personalize os contornos das barras\n",
    "barplot.spines['top'].set_color('black')\n",
    "barplot.spines['right'].set_color('black')\n",
    "barplot.spines['bottom'].set_color('black')\n",
    "barplot.spines['left'].set_color('black')\n",
    "\n",
    "# Personalize os ticks dos eixos\n",
    "barplot.tick_params(axis='x', colors='black')\n",
    "barplot.tick_params(axis='y', colors='black')\n",
    "\n",
    "# Mostre o gráfico\n",
    "plt.tight_layout()\n",
    "plt.savefig(\"fig_total_geral_por_tipo_org.png\")\n",
    "plt.show()\n"
   ]
  },
  {
   "cell_type": "markdown",
   "id": "79f972a6",
   "metadata": {},
   "source": [
    "### Relação entre a data de publicação da revista e data de depósito de patente"
   ]
  },
  {
   "cell_type": "code",
<<<<<<< Updated upstream
   "execution_count": 7,
=======
   "execution_count": 24,
>>>>>>> Stashed changes
   "id": "468d8843",
   "metadata": {},
   "outputs": [
    {
     "data": {
<<<<<<< Updated upstream
      "image/png": "iVBORw0KGgoAAAANSUhEUgAABKAAAAJICAYAAABWnpxpAAAAOXRFWHRTb2Z0d2FyZQBNYXRwbG90bGliIHZlcnNpb24zLjguMCwgaHR0cHM6Ly9tYXRwbG90bGliLm9yZy81sbWrAAAACXBIWXMAAA9hAAAPYQGoP6dpAAEAAElEQVR4nOz9Z5Rch3nm+/533pWrOkcAjUgkEoE5J1EUKVGULcnS2LJlOZ8Zz7n2+NoT1qw7s3TsYy/ZnjPjOeMwGtuyNApWlkhJFHMmSIIkiBwbjc6hunLa8X6oRgPNBkAARCCp97dWr2Z3Ve3aVb3xoR6+QQnDMEQIIYQQQgghhBBCiItEvdwnIIQQQgghhBBCCCHe3ySAEkIIIYQQQgghhBAXlQRQQgghhBBCCCGEEOKikgBKCCGEEEIIIYQQQlxUEkAJIYQQQgghhBBCiItKAighhBBCCCGEEEIIcVFJACWEEEIIIYQQQgghLioJoIQQQgghhBBCCCHERaVf7hP4WfX6668ThiGGYVzuUxFCCCGEEEIIIYQ4Z67roigKmzdvftv7SgXUZRKGIWEYXu7TOCdhGOI4znvuvMWlJdeJOFtyrYi3I9eIOFtyrYi3I9eIOBdyvYi3I9fICeeSbUgF1GVyvPJp48aNl/lMzl61WmXv3r2sXLmSaDR6uU9HvEvJdSLOllwr4u3INSLOllwr4u3INSLOhVwv4u3INXLCzp07z/q+UgElhBBCCCGEEEIIIS4qCaCEEEIIIYQQQgghxEUlAZQQQgghhBBCCCGEuKgkgBJCCCGEEEIIIYQQF5UEUEIIIYQQQgghhBDiopIASgghhBBCCCGEEEJcVBJACSGEEEIIIYQQQoiLSgIoIYQQQgghhBBCCHFRSQAlhBBCCCGEEEIIIS4qCaCEEEIIIYQQQgghxEUlAZQQQgghhBBCCCGEuKgkgBJCCCGEEEIIIYQQF5UEUEIIIYQQQgghhBDiopIASgghhBBCCCGEEEJcVBJACSGEEEIIIYQQQoiLSgIoIYQQQgghhBBCCHFRSQAlhBBCCCGEEEIIIS4qCaCEEEIIIYQQQgghxEUlAZQQQgghhBBCCCGEuKgkgBJCCCGEEEIIIYQQF5UEUEIIIYQQQgghhBAXSbnmcuBYjulcjTAML/fpXDb65T4BIYQQQgghhBBCiPebMAzJFuoMT5aoNTxmizUqtRi9HXEMXbvcp3fJSQAlhBBCCCGEEEIIcQF5fsDYdIXxbBlT0+jIRHFcn7GZCrWGR39ngnjUvNyneUlJC54QQgghhBBCCCHEBVKtuxweLTAyVSJumyRizaDJNDTaUhEKFYcDwz97LXkSQAkhhBBCCCGEEEJcALlSnYPDeWYLNVpTESxzYaudqiq0pSKoKBwezZMt1C/TmV56EkAJIYQQQgghhBBCvANhGDI5W+XwSAHXDWhLRdBU5bT3j0dNCEM8P7iEZ3l5SQAlhBBCCCGEEEKIS67e8BidLr3nQxjPDzg2WWJwLI+hq6QTFopy+vDpZ5UMIRdCCCGEEEIIIcQlFQQho9MVJrJlGk7A0q4Emnb5amSCIMQPAjw/JAxDorZxVo+rOx4jkyWmcjViEYNX90yy8/AMnh8QhhCE4UnfQ4KgWS0VhiGeH7Llig5+79NbLvKre3eQAEoIIYQQQgghhBCXVK5UZzpfJRm1mMhW0DSFvo7EGdvWLiQ/CMmX6hQrDg3Hx3F9/CDED0IUBfo6EnRkImesZCpXXaaLVQrlBscmSvz4xSFmi+c202nXkSxhGP5MVExJACWEEEIIIYQQQohLxnF9xmYqGJpKxNbRNIWx6TKqotDbHke9iCFUGIYUKw4T2Sq5Yg1VUdF0BV1V8byAockS2XyNfKnO2mWtdLXGFp1PGIYUKh7OWIHhqRpPbR9heKoMQCpmctc1S8gkLBRVQQUUVUFRFFQFVOXEfxcqDbau7fyZCJ9AAighhBBCCCGEEEJcQhPZKqWKQ1s6AoBpaCSiJqNTZTRVobstdlFCmXLNZWq2ynS+hhJC1DY4Mlrg0EieQyMFxqbLhHP3jUcMHrhlOTdv6qWnPT5fmeX5AaPTFQ6N19n/2hEODBcAsAyNu67p55ZNvRiaelbthDP5Krb5sxPLvG9eaT6f5y//8i956qmnKJfLrFmzhn/zb/4NV199NQAvvvgiX/jCFzh8+DDd3d387u/+Lvfff//848fHx/nCF77Atm3bcByHK6+8kn/7b/8tq1atAiAIAv7+7/+eb37zm0xOTtLb28tnP/tZPvGJT1yW1yuEEEIIIYQQQrzXFMoNJmYrJGMmqqLMt5/Zpk4YwvBUCU1T37b97VxU6y4z+TrTuSqu55OMWUzlqvz3b71BrtRYcN+OTIQwhOl8ja/9dD9DEyU+cddKlnWncLyAo2MFfvjsIC/uzOMFoCpww8Ye7tjSh6oqFCsOAOm4hWlopz0nPwgJQi5qtde7zfsmgPr93/99pqen+cu//EtaW1v58pe/zK/92q/x3e9+lzAM+a3f+i1+9Vd/lS984Qs89dRT/OEf/iEtLS3ccMMNOI7Db/7mb5JOp/mbv/kbbNvmr/7qr/iVX/kVHnroIVpaWvjbv/1b/v7v/57//J//Mxs2bODFF1/kP/2n/4RhGDz44IOX++ULIYQQQgghhBDvap4fMDZdhhBMXeNbTxzklT0TrB1o4Zq1XVyxNEMQ6hwdKzCTr5KKWcQiBralY5vaOQdSlZrLTKHGTK6G4/kkIiapuMX2fZN847EDuF5AKqqzbnk7K/vT9HcmUBRoOB6PvzLC6wemeP7NMY5NlvjcR9Yzma3w7acOMZ2rAbC0K8H9Nw6QSlroukoiZtKStClXHcayFdpTpw/RCuUGmYRFS9J+x+/re8X7IoAaGhri+eef56tf/Spbt24F4D/+x//Is88+yw9/+EOy2Sxr1qzh937v9wBYsWIFe/bs4Ytf/CI33HADr776KgcOHOCZZ56hs7MTgC984Qtcd911PPHEE3z84x/na1/7Gp/73Oe47777AFiyZAk7duzgm9/8pgRQQgghhBBCCCF+5pRrLtO5Kh2ZKLHI22+Nm85VyZUapOIWX/7xXt44OA3AjoMz7Dg4QzxqsHVNB5tWt6NrKsVqGcIQU9ewLY1kzCJq60QsHdvUTzmbyfNDGo7HTL5GtlBfEDz5Qcj3nznMU6+NALC2y+AXr7bRWtKU1ASGrpJOWCRjJm3pCP2dcX7y0lGGJ0v86ZdeoeH6AEQsjY1LbG6/djntrUlakjaJqEnEakYsiZhJqeZSqDik49ai96HW8FBVhd6OBPpl3Px3qb0vAqhMJsPf/d3fsXHjxvnfKXODvYrFIq+++ip33333gsdcf/31/PEf/zFhGLJq1Sr+7u/+bj58AlDV5kVQLBYJgoA/+7M/Y2BgYMExVFWlWCxexFcmhBBCCCGEEEK8+5SqDoNjBQqlBsWKw5KuBJnE6at5SlWH8ZkKpqHypYf3sPfoLJqq8OBtK5jJ19i+f4py1eXp10d5+vVRopZOZ2uU7tYY7ekImaRNOmkRtXQMXcM2NRIxE9vUcVyfhuNRd3w8P8DxAnw/JBE1SM0FQOWayz/9aA8Hh/MA3L3G5M71ceo1FzM/Qs+S1bR2tRGfC9JakjatqQgDPUm+/ugBJmerAGxc0cZdW7uplyZZsyRDe2tyUZWTZWj0tsc5eCxHw/WxQgfyI+DUCD0Ht1ShPaYRllUafWuwuldchL/Qu8/7IoBKJpPcdtttC373yCOPMDQ0xL//9/+e7373u3R1dS24vaOjg1qtRi6Xo729fdHjv/zlL1Ov17nppptQVZUbbrhhwe1jY2M8/PDDfOpTn7o4L0oIIYQQQgghhHgXKpQbDI4VODpWZN9Qjo0r2/C8gP7OgPa3zG5yXJ+ZfI2J2Qrlqst3njrE4dEChq7yqx9ez9plLQB85Obl7BvK8creCXYdyVJteAyOFRkcW1j0EY8YdLREaU/ZZFIR4rZOsepQrLgUKw0K5WYgFgRhc6B4CCHgej6eH2LqCv9ii8X6gQzFekBXd5qEWscKs1ikgWYApWsqXa0x0nGLZT1JHtt2jJ72OFev7cTWAwYPzWC7Oeqj4ygooCgw9z1oVFDGDtF+ZC/e9BBqbXbBa0gDPpAFtHiGJf/6f/5MbMJ7XwRQb/Xaa6/x7/7dv+Oee+7h9ttvp16vY5rmgvsc/9lxnEWPf/TRR/mLv/gLPvvZz7JmzZpFt8/MzPAbv/EbtLa28ju/8zvnfZ5hGFKtVs/78ZdarVZb8F2IU5HrRJwtuVbE25FrRJwtuVbE25FrRJwLuV7OLF9ucGyizN6jOX74/BCuF7Bt9zj3XNdPqZKmpy1Gd2uUEMiXGkzO1ijXXBQUvvH4IUamK1imxq98aDUDXVHq9TrQ/Hy8pCNCV8sSPnB1D7PFBrOlBjOFOjP5OlO5Grlig3LNpTxa4Mho4ZzPvTWm8stX63S0JymOD5HJ7UE54uD2ryNo6aXhHcDoWIZqLqzk6mmx+MSdA2iqgpIbprz3RRKHX2fmsSkIvDM+5/HQJbCTBFYSXzWIRCMYloWiGVgDm97T19rxIfJn430XQD322GP8wR/8AVu2bOHP//zPAbAsa1HQdPznSCSy4Pdf+9rX+PznP88DDzzAH/7hHy46/pEjR/jN3/xNfN/nn/7pn0gmk+d9rq7rsnfv3vN+/OVy9OjRy30K4j1ArhNxtuRaEW9HrhFxtuRaEW9HrhFxLuR6WaxU85nMuRwYq/HKgQohEDFVak7Aj144xr7Dk1y1PEp70sD1Qyr15sykoekGu4dqlOsBlqFw39YkNLIcPDxD3QnwgxAATVMwNAVTV1HCkJQREs9Af1ojWBLD82OUqh7FWkCx5lGo+DTckIilEjVVopZKzFaJWCqmBjHNQ/fr6F4VzXdJ2T6RmSnYf4A2p1mV5ALu6D5CVcdL9+J0rsHpvQpUDbWWRytPo5Zn0ErTGLNDqE4FOBGmhCigqqCozf9WVNB0/Hg7XqqbUrSHIa8VPRqj2ghpS2p0pBYWyPAezAVO9taCn9N5XwVQX/nKV/jjP/5j7r33Xv7sz/5s/k3o7u5mampqwX2npqaIRqMkEon5333hC1/gi1/8Ir/6q7/KH/3RHy1K8bZv387v/M7v0NnZyRe/+MUFM6POh2EYrFy58h0d41Kq1WocPXqUZcuWLQruhDhOrhNxtuRaEW9HrhFxtuRaEW9HrhFxLuR6ObVsoU5tosjg4UlePtAMYTavbuO2Td3sHszx+KsjHJlskK/B/TcsIRLVGBqb5fUDMzheAEAqZvKr968hFTcp11x0TSUZM0nGTExDxTI0LEObHy4eBCGeH8x9hbhe87/rjk/D8XHcgJAQQ1exTY2IpaOrAWE5z/ToGG6lRkKto9UKqKUJtKF9KF6j+YJUDbN/PVqihcbRNwnKsxizQxizQ8SPPEfo1iEIFr8RqobavpRKrIvWDTcS61uNqmmg6ijq4oHiYRiSmapwbKrMsoTFyr4Uhv7+GTx+6NChs77v+yaA+upXv8rnP/95PvOZz/Af/sN/WBAeXX311bz88ssL7v/SSy+xZcuW+WHjx8OnP/qjP+Jzn/vcouO/+eab/Pqv/zrr1q3jr//6r99R5dNxiqIQjUbf8XEutUgk8p48b3FpyXUizpZcK+LtyDUizpZcK+LtyDUizoVcLydM5aqMZhs8+soYr+1vbq67Y2sfN2zspi0dIZmI0deZ5HtPH2a22OB/P3qIYK6qCaCrNcotm3pZu6wF1w9QNI1lPQna0hFiEeO85x/5QUgYhvOb5PxaifrYYSr7nqUjO4YzM4oyV7E0/xg7RWTlVtKrt6CaNmHgE6y5Bi87Su3oLhoj+wgbc6NyNB091Y7R0oPZ1ofdv5bIso3UvYC9e/eSXLH2rK6RgT4bVIPOliipxOKteO9l5/K3e18EUIODg/zJn/wJH/jAB/it3/otZmZm5m+zbZvPfOYzfOxjH+PP//zP+djHPsbTTz/NT37yE774xS8CsG3bNr74xS/ymc98ho985CNMT0/PPz4ajWJZFn/wB39Aa2srf/qnf0qj0Zi/j6ZptLS0XNoXLIQQQgghhBBCnEIQhIzPlLEtndbUO6vgCsOQ6VyNI6MFvvPUIfYenUVR4P6bBtiyppMlXQk6MhGKFYd4RCcVt3jkpaHm/YC1Ay1cv6GbnrYYQdisVOpujdGSsonaxjt+rZraHPwdBj5ufprq/pfIv/R9gmpzcLkCoKh40Vb8eCdOaikty6+gpSWOoqoouoWiG6imjdKziuSmuwnDAHdmFC3dgZFqQ1FOUa3kndssZ9PQWNWfnq/s+ln1vgigHnnkEVzX5dFHH+XRRx9dcNvHPvYx/vRP/5T/8T/+B1/4whf40pe+RF9fH1/4whfmN9s99NBDQHPz3Ze//OUFj/9X/+pfcdNNNzE0NATA3XffveD23t5ennjiiYv10oQQQgghhBBCvE+4no+qKGjaxWnBCsOQsekyB0fztCQsMgn7vEOPMAyZyFY4NlHiiVeH2Xt0Fl1T+fk7VrJ+eStLu5O0JJvDulNxi6htkIyZpGImB4bztCRsUgkTy9RIxiwyCYt41MQytAv5kvHrFZypIQovP0x1/0sAaLE00TXXYnWvxOpeQdk3GJttkIxH6O7OoOk6qNppq3f0eOaCniPwMx8+wfskgPrt3/5tfvu3f/uM97n11lu59dZbT3nb5z//eT7/+c+f8fH79+8/7/MTQgghhBBCCPGzyfUCSlWH2WKdctVBURQ0VcHQVUxDwzRUMol3XhEUhiHjMxV2D87wDz/cQ8TW+Yt/fSst51EFdfxYw1Ml3jg4zYu7xgH4yC0DbFrdztLuJInowsHThq7S25EgGbdIxiwMoznf6UKETmEYEHpu88uf+3IdgkYNZ2qI/IvfxctNAGAv20jbB38do7V3PmCygES7j6apc1VT4nJ4XwRQQgghhBBCCCHEu0UQhJRrLoVyg9linWrdQ1MUIrZOGIZ4XkDD8fEDB9fzmY03GOhOEo+e3TaxU5nIVjg2WeTHLwxRqXtU6h7b9kzwoRsGzvtYI5NlHn5+EIA7tvRx45U9LO1KErFOHyUkoiaJpad+HWEYENSrBPUyfq1MUCsBYC9ZD2FAGPgQ+IS+Txi4BE6D0KkTuHXwPULfIwwDmBsvVR/aSen1xwh9F8WMkNj8AZKb78Zo6VlU3WRe4Morce4kgBJCCCGEEEIIIS6QctVhIlthttjADwKiloEfBPxk2zF2HZkhZhukExYtSZtMwiaTsOhuj+H7Acu6U6TPY0j1VK7KsckyOw9lOTxamP/9s2+McufVS86pAqnueExkqxRKDl9/9ABhCFvWtHPH1X0s6UycMXw6LnAbODMjOJNHcSYGcaaHcLNj+JUC8+nRSeIbbiO+/mbC0IcgJJy7j6KoKMc3zBk2qq2hqBp+rUz++W9RP7YHALN7JYlNd2P3rMTIdJ33UHNxcUkAJYQQQgghhBBCvEMN12dqtsrUbBXHD0jHLArlBt975jDb900SzuUujtsgV2owOFacf6xtatx34wBBELK0O3na4eF+ENJwPIIgnI9xanWPoxNFqjWXn7x0FIANK1rZdTjL3sEck9kqS7oSZ/06csU607kqX/nJPhquz4reFPdcu5S+juSiNsHQc3HzkzhTQzTGj+BMHcWdGcErZZl/waeg6CaqFUUxLLz8JOXdz2D1rMTqWQmKesYAqT68j9xz/0xQK4Oqkdx6L/aSdWjxDGZbH4oqlU7vVhJACSGEEEIIIYR4X3E9n2LFIRW30C/QwG/fD5jK1VBVBV1TMHQNQ1fRNYV8yWE8W6ZcdUlETVw/4NtPHuSVPRMEcznM+uWt3LqpF01VKFQa5EsOuVKdwbEio9NlvvPUIQ6P5Ln3hmWsXpKhLR3B8Xwajk/d8SlXXSo1B8cL8INwPuAJwhDT0Pj+M4dx3IClXQk+fc8a/vKrr5Et1Hn69WF+6d61Z1UV5Ho+YzMVvvPUIfLlBh2ZCA/cupzuthjxygizO17BnR3HzU/iF7OnrWgCUKwoRksPVscSjI5lWF3LMDI9aJE4in4iyBr/5/+b2sFXyT37z3Q8+Htokfgpjxd6LoVXHqay9wUA9HQnLbd9GmUuyLLalyw4rnj3kQBKCCGEEEIIIcR5y5calKsOPe3xd8WmrzAMGZ0qM56tkIpbdLfFSMet0wYwtYaHrqkY+pmDqmyxzuBYAVWBEAVVAV1T0TSFWsNH1xTGZyp8d9ch9g/l5mOZtctauOvqfhKx5jDuIIRUwqS/s3n77Zv7eHHXOE9sH2bHoRmOTZV48NYVrF6SoeH6uJ5PGIKuNoeWR20dXVVh7uUowLM7xjg8WsA0VO6/aYDu1jhbr+jgp9uOsW33BA/etnLR0PBTyZUaPPvaMKPTFWKWxqdvyNDhTRB98yeMv/EohMGixyi6iZ7pwmzvx+wcwOoawGxfihZPn1Xo1XrnZxifGMQvZck983Va7/kcirLwb+Fkx8g9/TW8/CQAsXU3kbr6PgLPgcDHau9Htc592Lq4tCSAEkIIIYQQQghxXgrlBoNjBeqOh2XqtGcufwiQLdSZmK2QiJpUai4HhnK0Z6J0tUbnW8gark95bjNdseKQSdgs606eNkBruD67j2R57OVj2KZOKt7c7paIGNimxqGRAq/snaBUdecfc8XSDHdfu4TWZAQ/DOjMROloiQLNzXjHvyp1l5s39dLTEeehZ4+QKzb40sN7uPPqJdx1TT+JqIl6hiBnOlfloeeOAHDX1iUs74qRVCvcti7FT7fB0HiJwyN5Nq3uOOP75jXqHDs8xAtvjgFw31qNVm+KxN4XqI7tA8Dqv4LI0g0YmW6M1h70VAdaLPWOZi7p8QzpGz9G9rF/pDF6gPLOp0lceQfQHFpe3vUsxe0/gcBHjcTJ3PIL2H1rCH2PwKlhdQ6gxVLn/fzi0pEASgghhBBCCCHEOStXHY6OF/G8ANvUGZ0uEYvoi+YEnasgCKnUXWp1D9vSidk62lm20VXrLiNTJQ4PF9hzdJafu2MlsYjB5GyVfLlOZ0sUxw3Ileo0HB9NUdg1mMXQVBJR87QB2tRslSe3D/PmoZkzPn8ianDd+i6u29BN3DYoVh0itkZPW3O4+OmCmlLVIZ2w6MxE+fGLR5th1yvH8IOAj9y8/Izv1dce3Y/rBazoiXNNX0Cmdgx33KM7CFnWbnJ02uHp10dZv7wVQ184HykMQ0KnhlfOMTs+xmMvTlBzQ7pSOmvbfFL7fohfngFFJbn1Xlru+mXUC9zmplgRzPYlJLfeS/HlhyhufwSzcwA9niH3zDdojB8CwF6yjvRNH59v0fMqeYxkG3qy9YKej7h4JIASQgghhBBCCHFOqnWXwfEidcfD80KOTZbobosyMlVmRW/qlIFRGIbMFuv4QYgx1/J2vPVN01Tqjkex4pDN1yhVXTw/QFMVIpZOOmGTiBrEIgbmaTa6+X7AyFSZQ8M5vvnEQfwgRFMVfvm+dbSnI1TqLkMTJTRFIWobJFImuwezfPepw2iqwuolGWKRxR+Ry1WHqdkqxyZKAFy7rgvTUCmUHYqVBsWKQ2dLlOvWd7GyL40XhHieT9316e9M0NUaXRT8vFUiahKPGLSnI3S2Rnl02xA/3XaMJ7ePoKkK99040Oy4K2dh6gAUJ1DKWfKTkzxYLvGMvYFb1qwmE+aIR9tQrTRR1+Ga3jxHp+H1vePki6tob2mGN4HbIKiV8UqzBLUSvuswONFg27EAhYBP9I3SsuNJ8B3UaJLkNfeT3HjbBQ+foLnpTounsfvX4s6MUDvyBrNPfJnQ9widGopukLr2I0TXXDcf4Pm1EqoZwWjpkaHj7yESQAkhhBBCCCGEOGv1hsfgWIFKzSVXrPPFH+zCcQM+dMMyNq1uJxE16G5bOEja9wNGpyuMzZTnZmeHqIoyP0NJ11Qcz6fe8DENjWTURNdVfD+g5viMzZQhBNvSaE1FaE9HsK2FH2cnZisMjhb4zlOHm0O6gdcPTHPrpgLLelLEbIPYSdVZnh/w/WearWt+ELJvaJbWlE1X5sSspCAImchWyBZqZAt1FAVu2dyDZehAiKIoaG4DH8CwCIFEzCQVawZK8bOYu3Scoiik4hZxWyN12zIUr86uN/bSeHMvk2MFuoNxlEZpwWPagDYdus2XqSc20drdjjb3GnXT4oaN3Xz3zSGyJZcdr+7ktutWEdSK+JUCgdtA0QxUK0odi5ff3M9H7f1stY8RG68BYHYtJ3X9g2ixFFosfdav5Vxpdrz5+m/8GM7MMH4xC4DR1kfmtk9jpNrn7xt6LqHrYHWvkLlP7zESQAkhhBBCCCGEOCsN12dwvECx4pIt1Pj7H+7G9ZqDqR956Sh9HXEsQ2vOR5oLXxquz/BEkelcjWTMwjKbFStBEOL5Ab4f4noBjhMwW6gxMlVhZLpErtigqzXK0u4ky7qSdLREcVyf4ckS2UKNzpYorakIpqFRKDc4Nl7me88cplR16WqN0tUS442D03zvmcP8n7+weVH727NvjDKTr83/PDpdYTpfw9BODNrOlxvMFOpMzjbv19seZ+2yZsuX7/v4hRm82himqWOnOoi3tGPFTr3F7bjAbeDMjOBMDuJMHMWZGSZw6+B5hIFHGPiEvs+HSjnuS83NlJo7zVBRIdVNmOph23DI0aLBA/EdxIIqdvUoUbtnwXO1pmzW9trsHK7z0r4sm7oCIraJakXRIwmCapHi6z+lcOB1PuKUwJ57oGGTWH8T8avuwi/lMNIdF3XDnGJFUAwbBWi985fJv/AdrJ6VJDbdvaDCKQxDvEoBI92BlshctPMRF4cEUEIIIYQQQgjxPuR6PspcldGFUCg3GJsukys3yOZq/MNDe3D9gLXLWrBNjdcPTPPNJw7yaw+sZ2SyxMr+5ha3ofFCc9B30l5wLqqqoCsquwen+em2ISay1UXPeWyyxMt7mpvPLENjSVeCK1e0sX55K4NjRabzNTpbYkznKjz8/BFGpspEbZ2P3b4STYE9R7MMTZR4/cA0W9acGMJdqjr8dNsQAGuWZtg/lOPgsRz33TjA2EyFwAnwvIDxmSq6qnJ4NA/Aqv40nS1RAs/BmZmgcux56iP7IfBxzAiFeAajtQejfQmaHcPLT+LmJpvfC1N4hWn80ixzZWBnpAChZpDVu9iWa+WI18EVWzdz1w2refyVYzw0M4htaty3zIajT6IObiO86oYFQZtt6lyzIs7O4TpvjgcUSWDaNio+5TefpLTjCULPQQfqocGwvoyBzVvpXbsB3TDx6xVUO4oWT5/7BXMOVN1EiyTwyrMYLd20f/hfnvJ+Qa2IascwWnsWbcoT734SQAkhhBBCCCHE+4zvBxwazuN4ATFbJx41iVg6lqmhKgqO69NwfRw3oFJz8IKQtlSEZMxcNGPJcX0mslUmZisQwsxsjX94eDeeH7JuoIVf/OAV1Ooew1NlZvI1fvLCEB+5ZYDhyRLFSoO649Oaiiza5HbgWI4fPtcMjY5rT0fo64jT15GgJWkzNlPm6HiRYxMlGq7PweE8B4fz/GTbEDdd2cPm1e1Uai7bdk+w49AMqgIfvXUFA91JHC/glk29PP7KMA89d4QNK1ox52Yx/eiFo9Qdn562GJ+4cxV/8o+vMFOoU2t4OG5AMV9lemKCYkmhJZPkwLE8AOuXt1IfP0zh5YeoHXyVoLE4NDsbqhVFb+nBbF+C2dGPakYhDAh8n9BrQBBQCS3GlC5auroxd8xw6PlBDm0bJ19XeHHXOAAP3rYCJ94Fx57Fz43TGD+E3bNq/nk0VWHr8gT//NIs5XrAC3uzbIqMYx96HLXWfE3VWA9fm1jNfq+Xf/mhbjpWtKAbenNAeaOK0bEUVT/7VsLzpUUTeIWp094euA5h4GN19KIa1kU/H3HhSQAlhBBCCCGEEO8zxapDodIgYhrkSo1mq5lCM4BRwPVCgqDZamZozVAmV6wTsXTaUhHSSZuopZOfq3oqVhySMZPDowX+4eHd+H7IhuWt/MLdq6nUPUxd5ZN3reJvv7eT3YNZBnqShDB/vJMNT5V46LlBDhzLAc3Kpls393Ld+i5scy74AAhh1ZI0d2kqKjBdqHHgWJ5n3xhltljnp9uGeHL7MFeubOP1/c3g4s6r+9m8up2BnhSTuSpbr+hg+94pcqUGz7w2yt3XLmF0qsy2uQDn7muXkElY9HfGGZoosf/wBFt7AgrTxyioJeJ2lOmsQanq0KGXWb3zfzD2+OH516JaUexlV6InMvj1CkGtRFAr41fyhL6HlmjFSLWjpzsxMl0YLV0YbX1osfRpN+KFYUjou+h1n7FjBVzV5K5rlhCEIT964SjP7RgDYN1AC5tWt9MomphLN+AMvkF51zMLAihoDjjf2B/h4OFxlgw+QdQfASAwY1QGbuOvdncy6fpcvyLKFX1JInOztUKnhmJG0BMt53cRniPViqLoBqHnLmr3C8MAv1rAaO256NVY4uKRAEoIIYQQQggh3gN8P6Dh+qiqgm2e+aNcrthAURRiEYMYzQ/zQRjiugEhITFbQ1MXBiBBGM5VMpUYz1aJ2TqlmoOmqmSSNk+8coyfbhsiCOHKlW38/B0raXg+S5IBSiOPE43ykZuW871nDvPjF4+yqj9NV0sMgNlCnYMjOXYfmWXn4RmgWZ1z45U93Lm1D8cLsC0dBVBVFXWuu8rzQ+qOh++HmJrCxm6djb0DHJ5yeXbnBCNTZbbva4ZPG1e08oFrlzDQk8K2dBJRE11Tuf+mZfzvR/bz2CvHuHZ9F999+hAhsHl1O33tMZJKlbXdJkMTsO/QONemVEzLwDHTJGIWr4wU0fH5reQThFN5AKzeNcQ33EJ0xZa54ERH0QwU7Z1/xFYUBUU3iUVDYnaFesPD0E0+cO1SgiDkJy8NEbV0PnnXalwvRLds4mtvZHZwB42R/bi5SYxM5/zxbFPnxv6AD00/Qsqv4aGyLdjAY/mNFLZp+IGPpcMDW9Kk4ycqi/x6BbO9/5JVGylWBMWMELh1tLcEUH6liBZNYmS6ThvciXc/CaCEEEIIIYQQ4jJzXJ8gmKv8oVkF0/x9QN3xKNccKrVme1g8qrN6ScuiAOm4WsNjtlhjaLzImwdnKNdcKnNf5ZpL3fFwvaA5+Nv1cf0AQ1O5bn0Xt2/tpz3dHPZda3gkIiblqstff3sHg2NFAK5Z28l9Ny3D80OWttkkqyP4ToHOoELYl+bwijZ2Hp7hSz/ay6r+NAeH88wW6/PnpwBbrujgQzcsozUVYbpQozUdYUVvCk1VFgQM/tygcsdxacyM4nhZqvUGdlxj+Q0JhotpXjlcQlE1PvWBNSzvS8+Hc1FLxzQ01i9vY2XHUZzsKM98+5usrs1wS7zIhloN/eFZqoHL3UaCl9R7ODQdx7U60awaiaiJohscnPJ5ILqdNvIoVpTez/4pZlvvhb8I3kJVFTIJm6GJEom5333w+mWs6E2TSVqk4ha5Yp3WVBQz0oHVt4bGyD7Ku58lc/PHTxwocFl69IeEao1xL8UXy3cwEyQX/D3u3RinL+Hjl7KEpg2KgmpYl6z6CUBRVLRYCndmBCKJ+d8HTh2FELO195K0AoqLRwIoIYQQQgghhDiFqVyVSs0lGTOJ2QaWqV2U6otcqc6xiRLe3Da5EyFUc9MagKapmIZG1NYplBsUyg1akvYpj1esOLyxf5rvP3vkrM/B932efn2U53aMcc26Tu7c2k97Jsr2fZN864mD1B0fy9T4xJ2rWNmXBmCgJ0HSncZtVDAyHWQKs9QLk9y3tY3R6TKzxTrbdk8AzTBlSWeCVf1pNq1up6etuSmuUnexdJXe9vgph6VrqoIS+FAag/I4WiNLJPRI+i5Oo06777GuX0U3NDLDI1RGQiqBR+g6+LUSqYlhKM3wu14FUnMHPd4RWDnxPIZb4v9IPsb/U/ggQ1ln/i5+EGLMHOS26D4AUrf/4iUJn46LRQxUpXkexwPHlf3p+du9ICAWtVDrNrHV19IY2Uf18Gskt34QLZIgDEPyz36TMD+Gr0cYH/g5Hki0EFV9DL9GEE0Tae3mioFWkpaPXy3ilXKEjSp6SzeqGTnNmV0cmh3HRSEMAxRFJQwCglpprm0x9fYHEO9qEkAJIYQQQgghxFvUGx5j02WqdY+JbAVT14hFDNIJi2TMJGpfmJX0hXKDwbECQQBRu/nxTEHheMylaeai0KuqqkxmK6Ti1qIqKD8Imc5V2LanGfys6E3R2x4nHjWI2QbxqIFt6hi6iqlrGLqKYahMzFR4/NVhDo8WeGnXBNt2T9DbHp8fEL6sO8kvfnANmqqiqgrLupMklCqN6Um0WApF1Yik22j3pnBmx/jF23p5YneejkyEVf0ZlveksMyFw819P6BScxnoSRKPnPr99GsVSjufonrgZRpjBwndxoLbFU7kSeW3Phg4OdKqKlHGnAR5Nc1Vm9dSsdppX7qc9oTK2Fc/T2ejwG8lnuDN8QdZP7cwb3w8y8ft5wHwejaSXHPdKc/zYolFDGxLp97wiL3lPQrCEEUB29RQwxh6pgujrR93ZpjK3hdJbrmH0o4nqA3uAEXF2/xzrIx3ogV1nGoFtb2HRHcf7ZkYyVjzOtMiCYxMF0G9gmKeOuC8mFQrimJYhE4DxYrgVwqosfSClkLx3iUBlBBCCCGEEEK8xVSuRrXh0Z5uxhuOG1CuucyW6sRtgyuWtSzaFneuihWnGT75kE68/Zwdzw/42k/3M1us8/N3rqCzNbaoCqpcddh1ZJaJbBVDV/nVD6+fDy4cz6dYbhCiACGqoqBrKrqusrI/w9qBVo6MFXj8lWPsGZxlZKqMqjTbvu64up98uYFtaSzpSpKwoD46hqIZ821RiqKQbO+k4U3iZcf57G1L0K1o88T8CtTCZlmXqoFmkCt7tKZidGSi8+cfeA7e7DjOzCi1o29S2fcSQa00f7saSTQrYY5PKSdsflM1VCuCakVRrQiKFUWLJPATnQzXk8Q7+3ACk23PH+G69d0oPUmcQo14TwtWVCN686cpPPlPLNNnCKZ+TNh+G4QBsb0/JK42mFZaaV97G6p1aUMZXVPJJJrbAN8aQLlegKFrWIaGGlgoCsQ33Eruqf9NZd+L6Mk2Sq89AkD6xo9R71rN6Ogkmg4dy1eT6ekjHl3c0qaoGlo0uej3l4KiG2iRBF55FghRVBWztRdFuzCBr7i8JIASQgghhBBCiJOUqw7TuSrJyInqI8vUsEyNMAyZydfIlxp0tETf5khnfo7BsQKOG9CStAnCZiB0OmEY8o3HDvDa3La3F9+coLMltqgKKles89LO5oa369Z3EYsYhGFIqerieB4dLTEyCQvXC6g7PrWGS93xKVUdCGFpZ4Lf+OhGxqbLvLZ/io0r2ujriDNbqpOKWyztShK1dZypIYJ6BT3ZuuhcWzo7qHtTFAffJJ7OoKpvba1TqHsQQaUj1oY7U2D6uW/SGD2AX8pxoglx7t6mTWTpBiIrt2L1rUEzbRRVR9H05rY0be6/lcUtfL4fMHEkSy2EZMzg0/dcATQr3ExTI2obKJpGpGclx1Z+iMT+h1iujJIbfgG9sYTWxgiNUGdf2x30xVMoxqWvCkpEDcKQRdeI4/pYRvO6DHwTULCXrkOLZ/DLOXLPfB2A2Lqbia25Dq1Spq8tSqp/JdGW9kv+Os6WFkviFqbwAx+zfQlaNPH2DxLvCRJACSGEEEIIIcScMAyZmK3i+gGp+OKqpKGJEq/um8S2NFpTNtop5hYd53o+nh82q4y0E8O1yzWXwbECdccjahp88/EDvLp3khuv7OHDNw2c8pg/euEor+6dnKtdgm27J9i0po3OlhNVUHXHY9+xWQ6PFlCAWzf34XoB+XKdqG2wqjtDJmGjnqJtr1x1GM9WyBbqRCyd7rYYH25fjusFZIt12tIRlnQlsE0dr5jFK0yhx1KnnImlqQrxmd2ob/6EyrJbUVfejGWdqBbzvYCaW6E7Y2HhUHr9Rar7Xpq/XTFtjHQnRmsvsSuuJ7pyK+p5toNpmkoqYTE+U1nQ5ld3fBJxE2uuis1OpIi2dfKDfXfyczxKpnQUSkcB+HblGq5el8JMZC7LBrZYxMA2NRqOT8Q68RHedQNaktbc1jyjGcaFIfH1N1PY9kMArN7VpK69HwDdb9DS04v1Lg6foNmGp+omaiSOke643KcjLiAJoIQQQgghhBBiTr7cIFuokYotDp/8IOSffrSHXKmBqass7U6ddhC4H4QMjhUpVRw0rdnqZpoatqFTrDQo11xGp8p856nDzeoj4KnXRhiaKPLL960jfVL49fyOMR575RgAn7x7NW8cmGb/sRxPvjrCQE96vgqqWHF47o0xADasaMM2NQqVOp0tMXraYtjWqT/+aapCKm4Rjxhkk3XGZypMF2pETZ2a49HVGqO/M4Ghq9RHDuDkxtGjyWbgcQpuboLqjkcBiI2+QnHJ1VRdnWTERNMUSnWXZDJOS1sclZDq/mb4lLz2w6Rv+FhzptQFDHoSUZOxsEwYhvPHdXx/wXtsRGMYponSvpyvDt3EZ+LPAfBaYxl7tTXcF1cwY/ELdk7nwjQ0EjGT2blw8LggDInMzSI7XgmG7xFdfQ3lvS+gGhYtt/8iitoM2cIwRLNil+U1nAvFtNFSHRiJzPy5i/cHCaCEEEIIIYQQ70p1xyMIwgs28Pvt+H7AxEwFFQVDX1yFtOPgNLlScwj2zsMzTM1WScetRRVFALOFOtlCjWTUIghDvLmWt5xfp1R1ePTl5pwlgPZMhBs2dPPTbUMMjhX5i/+9nc98aC2rl2TYeXiGbz91EIB7r1/Kdeu76O9McOCr29l7NMeOg1N0ZqKk4hZHRwvsOpwF4KYru3H9gBW9GVpTi6ueTkXTVDoyURJRncnpErlckZ6YTle0QZArUpo4wvQP/zuKptP24X95yjlBYRCQe+5bEDS39+HW6KwepNJ5FfmSg6KArqp0ZCJoqkrlwCv45RyqHSN948fQY+mz+ludi6ilYxoajhtgmRq+H6ApyvzQd2iGHnYszvKWWb50cDlaTeG6lhzfyG1gbb+JbpnYscsX3qTjFtOz1fmfg+D4APK5wfWqhmraBNUSWixF58//IRDOtyWGvoeq6+ddSXYpKYqK1d53uU9DXAQSQAkhhBBCCCHeNcIwpFJzmS02K5EAlnYnT1tpdCFli3VypQatqcWr58Mw5Mntw/M/z+Tr7D06S3dbbFGrXt3xGJspYxs6lqnhuD5TuTpj0xVGp8u8sncCxw3QVIW7rlnC3dcswdBVNqxo4x8f2s3YTIW/+c6b3HhlDy/vniAM4foN3dxz3VJmS3UMXeX6Dd28uHOcx14eZuOKdhRF4cnXRvCDkKVdCTIpm86WKO2ZyFteR4BfzOJkR3FmRnCnj+HMjBL6Li23/yKqHSV0G3R4LknVwXBC3EkFRVUpvPIwhAGh5zD72D/S/pHfRYssrAoq73kOd/oYimERXX0tld3P4ux7np51N5KMWUzna6TjzS2CYeBTeuNxAGJrb0KLXJxZP7alE4sYlKsulqlRd31sS19QTaQoKlYyw5LkNKausK02wM7p5dTDkOUtoNsRjEs8gPxksYiBaWg05uY+OZ6PYagLNguqVnRuhhZzlV4nQsfAbYBuXpbNdkIcJwGUEEIIIYQQ4rLz/YBCxWkO+C43aDQ8Xtg5zuRslY/euoK1Ay20pyMXbQaP4/pMZitETH3BUO/jDo3kGZkqY+gqve1xjo4X2XFwmqtWtS8KoCZnq5SqDq/tm2LHwRmm81XChXO1GehJ8sm7VtPVeqKqpj0d4f/81Ga+8+Qhtu2e4Pk3m+106wZa+Pidq/D8EFBIJUyu29DF6/unmMhWefaNEW66spft+5oDyq/f0E3U0unIRHBzE9RHD9IY2Udj/DDO9DChWz/le5B99O9pufOXm/OEDIuoHZtvgaqPHsAZPwyqimon8Ms5Zh//Em33/uZ8K55XzFLa3ty6Ft94O7F1N1E9+Cp+eRZneDepgSuJR435QdrVQ6/hl2dRrSixdTdd1HarTMJmtth83Y2GT3tLBP0ts7asWAJdVVjRbrB33KHqNP9oy9IhdvJUw9QvHdvUiEXnQrSTqrnMkyr1VMNi0YU2J3Qb6OkOaWkTl5UEUEIIIYQQQoiLou54VGouLUn7jMFRc15Sgel8HV1VqDseX31kP6PTZQC+89QhPqWvxvcDOltiZ9VOFoYh+XIDxw0IPAfHCwiCcNF9PD+g4QbkinVKVZe29OLqJ4Ant48AcNWqdq5YmuHoeJE9g7NM56p0tkSJzQ24LpQbTM5WGRor8ujLx+YfH48Y9LTH6WqN0tseZ+1AC4am4ng+mqKgqs0h5aau8akPrGGgJ8V3njpIf0eCX75vHZqqUCg1yCQtulpj1Osed2zt58cvHuWp7aPU6j61hkdL0mZZd5KO6hEm/8ffElSLi1+MoqInW9EzXZitfejpDnJPfRV3ZoT68B7ia29c+D4FAYWXHwYguvIaois2kX38SzhTQ+Se/xaZWz8FQO75bxH6Llb3SuyBK9FMm8iKzVT3vkBp59PYyzaizYU4YeBT2vFE85irr0WPp9/2b/pORG0dTVXx/QA/CEhEzUX3sWJxNNNiZbvL3uYiQTqSOgkLIonF7YaXkqIozRCt0AzRHM+nPbMwkFV0ExSFMAwWbwQMfTT78sywEuI4CaCEEEIIIYQQF5zj+hwdL1KsNAdsn6qt7bjpXJXpfI1M3ObNQzP88+MHaLg+sYiB4/ocGS3w0q4JFEXB80N62uOnrFI6rlxzmchWyBZqBEGI4ziMTzkY8RytGY+IpVNreFTrLo4b4HoBnt8MJdRTBGXj2Qp7j86iANes62RZV4Jk1KRYddg9mKWnPU4sYuD7AePZCr4X8NirzXa92zb3csfV/cQjBqWqi+cHxGyDIAxx50Ixf25GVCpmzbdUXbe+iy1rOua353l+QKiEtGciJGMmPe0xrlzZyit7Jpgp1Hl87vmuXdNC+9Q26q99A3wPVA2jtRerazl232qs3jWYbX0o2sKPgl4xS/GVhyi+8iPsvivQEy3zt1UPv4aXG0cxLBKb7kbRDTK3fJLZJ75C7fDr6KkONDuGM34YRTdI3fgxFFVrVlGt2ET1wMu4M8M4k4NYXcvnjvk6fimLaseIrtjUrN65iKKWTsTUKFVdDENbMP/pOCsaQbVjLE/Pzv9uVadJqKpY0cs/vDsWMdB1Fc8LmgPI3zJUXtGN5t/V9+GkyqjQ91BUXdrvxGUnAZQQQgghhBDigvL8gGMTRWYLdUxDY3iyRMTSTzlMvFx1GJsuY2gq33nqEC/uapaeDPQk+fDNyzk2UeL7zxzmye3DDPQkCcIQ3w9IJSwsQ8M0tPlWqrrjMZ2rMTVbpeH6HB0rMlOoYRsKlZKDES0zW/YxNIVyzaNUcShWHArl5la6TavbuWrV4hX1T81VP21c2UZLwsY0dDasaOWFnePsOTLL5tUdtGciFMsOs4U6h4bzzORrxCMGH7phAD8IyBbqc8FRinTcIgSCIMD3Q/wgZKZQY2x0irb6MOrUAZg6iJkfhc4rCK96gGq5TtrWsLKz1PIqad2mw3C588oW/vnZZqtexFS5IdyO8erjEAbYS9fT9Qv/4azCncSWu6kdeQM3O0L++W/T+sFfR1EUAs+huP0nAMSuuAGjpYugUcFs6yd9w4PkX/gOpdceQdGaf9vk1nvRIonm0Gs7jhZNEl2xheqBlynvfBqra/nC2U8bbkXRrWb1zkWkaSqphMWR0QIdmcj88O4F91EVzGSGdG6KdCQkX1NY1aqgWBHMyOkD1EslaulELZ1y3UVTVWxzYTudopugGYS+u2BDYeA2wLDeEwPIxfubBFBCCCGEEEKIC8YPQkYmS0zlahw4lmPHwRnuurqPiGWwoi+1YO6O5weMTJcpVBy+8egBRqfLKMAdV/dz7bpOlnQlWd2fZmiiyBsHpvnGYwf417+wifFslfFsFV1TMXQF29SJ2jq5UoNy1WFoosTjrwwzlasuPLk3T9GOdpI3Dk5z/40D3HVN/3xrU6HSYPu+SQBu39IHhMQiBlvWdPDCznEODueYzlVpS0fIFmqYusqjrzRb7+7Y2k+p2sAwNJZ2J+jIRNE1BTc3gTs7hpsdw8tN4uYnIDtGR36SRfVXo2/id64lNFtIZVIQeIRBSFiv0Oo7XJko8mqbypGZgE+07yd95EUAIsuvovPjf3TWlUWaGSWx9V5mH/9HGmMHqR58ldjqa6jsepagWkSLZ4is2NI8nqLgl2aJXXE9bmGKyu7nCH0Xs2MpsbU3EdQrKIaFakdRVIPY2uupHniF+vBe3Pwk7vTIfPVTbNU1EPgXPYACSERNLFMjFTv15kKAWDxOPlS4d41PTW3hijYPN5LEMi7f/KfjVFUhk7Q4PFIgGTMXDCCHkzbh1UsLfh96DnqyVeY/ictOAighhBBCCCHEBREEIaNTZcZmKuRLDb7z1CHCEHLFOr/0oSuI2jp9HfH5cGcyW2E6V+UHzxxhdLpMPGLwCx9YTWdLlN72BD1tMer1Bh++eYDJbJXxbIWv/XQ///Lnr0LTmq1IrhdQqbvkSnWOTZR4cvswo9MVoDn3Z+OKNsrVBtOzJRxfpVR18YOQqK3TmrTJJG0yCYtKzeXVfVM8/MIg+XKDn7t9Jaqq8Ozro/hByEBPkv7OBMWqQyJm0tcZp78jzvBUmf3H8nS0RKk1PPYOzpIvNUjFTK5YkqLNnyZVGSU8NMjkxCBudpTQc075/imAb6cJ25ajdl+BMvIGyvgewuHXiW39BMlMckHrYTwOHVaKnwtzOAdeYkVuLnxauZWOj/zuObW1KaaNkW4jufkDFF/9MYWXf4jR0k3pzScBSGy5B9Uwm8GSonJ8mlbqmg8TNGo4k4Okb/44iqoS+i5asrVZFaXraLEM9pJ11I/tprzzaRqTR5vnv/7W5v0VFcW4+AFU1NZJxSxi0cWVeMdZ8QSBZtIVKdHVFyWoFtAjsUUDyy+XeMTEMjRsU8fQFwdKqhXBL+cW/tKX+U/i3UECKCGEEEIIIcQ7FoYhE9kKY9NlLF3j64/uJwxBUSBbrPP9Z47wqXsMYhGDlqRNodxgdLrCk9tHODSSxzRUfu2BDURtnd72BH0dcbzcOGq1SF+mnQduXc4/PryHwbEiP3rhKHdfu4TxbIXxmebX0fHi/NByy9S4bVMvV6/tRFEVGvUGwyPD9Pf1Y5oGnh+i6yqqoqBpKqoKYQAdLVF+/MJRnn9zjGKlwSfvWs0LO5stgXds7cfzAwwlxFR8MgmbDSvaGJ4q8+ahaa5e00pEh8deHgLgA+tsup/5v1CrWUpvfbNUDS2ewUh3oGe6MDJdGK292H1rGCvrjEyVaEtHUDM9KON7MKYPEA2LaGpq0fueilv0lnahzoVP0TXX0XL3r6BFE+f091MNE0W3iK66ltrRXbgzw8w8/NeEvovR1o/dfwUEIaphESoKqqo1ZwtpOi23/gJhGJ4YiB0EaGZz8LxqRggqeeIbb6N+bDfVg682n8+KElt3A6HroFrRS1KdY5s6Pe0xkqcYQH6caRoEZgzFnwDfwcMgFU9ctO2L5yoWMYhYOonYqUM01bQXbMILAx9UFcW8/C2EQkgAJYQQQgghhHhHgiBkKldleKpELGLw7ScPkis1aE3afPLu1fzDQ7s5Ol7kxy8MErN1NFVhZKrEtt3jvLKn2Xb26Q+saYZPHXF6O+KEtSJebpzAaZCKwdL2FB+9ZQX//PgBntg+zBPbhxedh6Gp3HhlN1ev7cQ2dWJRg3TcwnUMnIrJ0u4E0Uhzc5iuKei6iqYq6JrK6HSZrVd00p6J8s2fvIl/bAdvfu2n/KJRIB116Hv9h7CtStRrMKLpRG/9Za5MxXhUg4lslfrYIG9O1inVPFqiClvLz6BVsyi6idmxBLNrOVbXCqyelZjt/acNXLptn1K10dx4l+nHbRnAmB0kOPgc9H568XtfmELd19wmF1l3M5nrH8BItp3z31DRjGZYVC+RueUTTH3/vxL6LgCpa+8H30cxI83ZQooCuknoufPDzI8HNGEYgKKgzFVfqWYEv5jF6lyG2bEUZ6oZ0MU33Ipq2Hj1KooVPefzPV+ZxJnnIFmGhhqJEQYBeA6eFiUaf/eEN7qm0tkaWzSA/DhFM+Y24TUDwdBtoBi2zH8S7woSQAkhhBBCCCHOm+v5jE6VmchWidg6ewdn2b5vClWBB25ZTls6wifuXM3/fmQvOw7O0JK0+eD1Gtv3TfHoy81ZSffduIye9mbw1NeRQAlcGtlR/EYNALWWp02FlX0Jbt3UyzNvjAKQjlt0t8Xobo3SGg3paY2SbEmTTkRoSze3xemaSrWqkZvS6chEiEYXhx2BU8fMDRLZ8wqbs/vZnB5CCYOFdzp5nJTv0Xj9YZIbP8G6LoM3R12eOVRjz1gDgPvXm0QG9wDQ9uH/g8T6W876/TR0jb6OBPuP5ai5Kn7PVozZQeqDO/C23IOebJ2/bxgE5J77JgQ+ZvdKklfdidHac97VRKodwy/PYmS6mq1423+CvWwjVtdyvGIWPdUc0K5o+nxYBQvDmdDzmtvY5mY6qYY5X5ET33gbs4//E4oVJbbuxuMvAu1dFI4YhoZuxfBCFcWvE0TbMY131+ykzpbTB3aKYc5twvNANwjcBnq8ZdHWQyEuB7kKhRBCCCGEEKe1oLXqLco1l+GJIrlSg3TColx1+eYTBwC48+p+ejsT9LTH0FSFD904wMPPD/Lk9hHCEF7cOU4YwjXrOrlyVRs97c3wSVXAmR2nPryPwrYfENRK2Es3EF17Exmth9s29XD9hm5ScZOobeDVqpSmRjCdHCmzStL0SSQ70SJR1JPn9oQhfiVPozCOm5/EGT9CY3IQZ2YYvzgLhMROem2elWJHrYsJOvjArevRY2lyrk5Xxsb7wf+Fn58klh/kyqWreHN0lleP1gHoSOpsrG9HCTz01j6iq6895/c8Fbfobo0xNFYg09aP0bUCd+IwpZ1Pkbnp50+8/7ufxZ0+hmJYJDd/AKutD/UdtFqpZmR+tlP8yjswu5ZjtPbM/SZYcOxmWJVbdIzQd0E35mc6nVyRYy9ZT+a2T6Gn2lENm3AumLoUA8jPlqYq2NEojmIShCqqGX3XBVBnsmgTXuCjRmX+k3h3kABKCCGEEEKI9zHfD9DOcYCy6wWUaw6FUoNi1SURNYhHTCK2TsTUUFWFbKHO8GSJhuvTlmoGE199ZB91x2dpV4Jr1nXRmrLpbY9jmzp+GDKTr7Ft9wRPvTYCwPLeFHds6aOnLU5/ZwJNVfCKWUqvP0rxtZ9C4ANQH9pFY/QAsZXXUuq7k7aOfnQ1pDg9TpibIGMHtCztJWoZBI0KjYkjqGaE2tBOaodewyvnSdeKTJ80G+etFDtGI7kEtf8q1P4rURMdXBnCVTC/Mc3P17A70yib7qL4ysMo+59kYMsAqYhGodY81wfWKpiH3gAgueUe1PMMV7paY5RrLqloC5G1N5CbOEz14KskN92NFkvhFqYovvYIAInN92C0dKMlMuf1XMephomq6fOznazOZcDcHCFFWzAoXDVtQha/n6HnoCdaUJTmNafoJoqmNTfdaTrRFVtO3Nn3UDTjXRVAAUQjBg01gq/ZaLaNqb87BpCfDUXVUA2ToFGd+7upqMa7p4VQ/GyTAEoIIYQQQoj3qUrN5eh4kXTCpD195koO3w8o11wKFYdcsU6t7oKiYBsa07kaE9kKmqpimRpRW2e2WMfUtPnw6bGXj3F4tIBlaHzirlWYhkZXSxRFUWhLRwjCkLuuWcJssc7B4TytKZsHbllOf2diPnzyqyVmHvki1QMvA2AvWUds7Q2UXn8MZ2oId99ztBzbRX71R/CT3cT8Iq0dKZKZzHzIpkVTqGFI9cArFF747vzrO17DpUYSaLE0Zns/ZtcAVtdyzI5lhHaS3Udm0FR1fr6OdlLhV7NaJ8TQVSJX3UVl34v4pVkSI9vYMnAtT+4p0ZMxWFt5GSUM0NuXEhnYeN7Dqw1dZWVfmrDYwKUHs3MAZ3KQ0q5nSF1zP/lnvwm+h9W7GnvJOlQ7Nh/6nC/FtEEzCT1nQctW6LvNoOikrXqKbjY32AX+gpa/0PdR7dhJ99NB1eeOsfDjZ+h7oOnNSp13EdPQcPUojpEgYtkY76EACuaq0yoFQtdB0U1U693T4ih+tkkAJYQQQgghxPtQGIZMzlbJl+oUyg2yhTpdrTFak/Z8WBOGIbWGN397peYShiERy6AlGZmv/DnO8wMajk++1CBum1hmM3jYM5jlxy8OAvBzt6/ENDTaMxHiJ20b68hECYKQj92+ggNDeZZ0xlnRm2qGT5qKV84x8Y0/wZk4AkBs3U3E1t+Mqpmkb/kF6kO7KO98mqCaJ/PGl2HZ1bTe+FFs2+KtvOI0hW0/AJpzh8z1t3NkPMuaq7YSSyRP+54ZukrDCYgsPiR+EKJqKoauokXiJK66k/xz38Ic3c5tW65E11Jc11lDe20XAIkNt6C9w81jhq7iGRYhkLjqTrI//V9U97+Eqhs4U0Moukn6pp9vtlnZ73yQt6JqqHaEoFKAkwaDh56LYljNdro5qmGhHA+rTn6dysKWuuMVTqHXWPR8oe82N+C9y+YTmYZKoNvU7XZabeNdswHvbKmGBYSEXgM1llrwdxPicnp3/UsXQgghhBDifcb1fMKwub3qrYHOxVSsOMzka2QSzQqOctXl0HCebMKiqzVGEIbMFusUyw4N1ydi6qTj1oJwaniqxNRslY0r2zB1DV1T0SMqMU58oD02WeJLD+8hCOGatZ2sX96CH4a0pxeHL50tzRDKNg3a0jZ97VEUt0Z16BDTP/wr/HKuGarc/HFia29EiyRQdIPQdbC7lxNbdyOFbT+kun8bHH0VJ53C3vLBBc8ReA6zT3yF0HMw2vtpuetXcBSDML+4Auet4hGDSrV2yts8P8DQVExDRcHE6l6J1b+WxvBeYkee5L4bfxG2P4pCiNa7FrOtd0HF0PlSdANFUTG7V2K09uJmRyntaG69S137YbRYCr+cQzUuTJWLZsfxCjOcXCsXei5aonVBEKPozYqo0KnBXAAV+h6qps8FICeolo3XqCx6rtD3LukGvLNl6Bq6qtDwfKL2e+8j8/EAMPBcjMjpA1chLrX33r8mIYQQQggh3iPKNZcjowU8z0fXmu1rEcvANJqVNKahEY9c+AoLPwiZyDbXth1vu0vETKIRg2Klwf5jOcIwRFdVohGDVLwZGHh+wP6hWXYdybLrSJZ8qVm10tMW47P3r6M9szAsmCnU+J/f34njBaxekuETd60iV2qwtDtB1DYInDpubhw9092c5+R7tJsuVrJBJCjijNSpDb5B4eWHwPfQEq10fOz3sXtXLdzkZlhAAj3Vjt23huxP/4Hiqz+i9MbjoKgkN39g/q6Fl76Pl5tAtWOkb/4kmh2DhnNW71vEMvDDxUEJgOcFGLqKrqmENKuBklvuYXr0AGbuCP7+p9Em9hECqavuumCzjZozlHQIPBJX3cnsE18GwOpeSXTNdc3qpLe0x72j5zOs+aHh89dlEKBZiwNFLRLHrRbnfw49BzRz0etWzUhzHtFbhEGAal6Y876QTF1F05qzv95LA8iPa14zBvge6rtow6AQEkAJIYQQQghxEdQbHkPjBfKlOpau4fshDdenUHLw54ZhG7pKf2fijGvVz0e+VCdXrJNOLPxw73o+5ZrL1GyNcs2hWveo1FzKNZdKzWVkqkTdOREUND+Iq4zNVPiLr73Gp+5ew6bV7UAzXPu77+2kXHXpbY/zq/evo+74xCIGrSkbv1pi6nv/hdrgDvR0J7F1N2J1r0RRFCwgVFTKe56jsvu55nN1r6TrF/49eix1xtemKCrJqz9E4NQov/kkpdcfRVFUEpvuonLwVaoHXgEUUtd9FDPTNVf1dHYBlGGogHLKzX+eHxKPaiiK0vyAb1hoJImuvYnq7mfQDj0DgNp/JWa6FVR1wdDu86XoBugGoe9hL12P2bEUr5glffPHURSFwHOa7XEXaJC3atioc+EFukEYBKAoKPrioKi5FS+Y/zn0XVQ7sajS7FTn1nyPQT3FcS83VVUw58LG99IA8uMU3WjO1lK1d7QVUYgLTQIoIYQQQgghLjDX8zk6UeTFneP86IWjuN6JD+mGpmIYzeqnmK1z9zVLuXVLLx2ZCxNCuV7ARLaCPtd29+jLQ4xnK8zka5Sq7ts+Ph41WD/QyoYVraxekqFW9/jyj/dyeLTAl360h8OjPdx3wwD/6we7mM7VyCQsfuOjGzANjWKpwkCrBtODVPNT1Iaa85C8/CSFF76LnukicdWd2L2rmX3m6zSG9wEQXX0trff8+tuGT8epVpTY6mtQTJvSqz+m+Noj+PUy1f3N4eWJzXdjtPWhRs5t/bxlNNsMfT9E198SQAXB/HByADUSx6uVSG2+m8qh7SiNCuFcNdZbN8G9E4qioplRvHIOxY7Rdt/vNDfKzQ3uDj0HLZ6+YFV0imGCbhB4DppuNIeH68YpwzTFMEHR5geRh563YAD5/P00AwWFMAxOvCdzW/HebQPIj7ONZgj1nqyA0vS5IfHau/b9FT+bJIASQgghhBDiAvL9gKGJEtt2TfDDZ48QvGVTvesHuH5Ate6RLzX41pMHaU3baCsVWlMnqhX8IMRxfRzXx/MDXK/5dfx3iahJZ2sUQ1/4AXm2WKdQdkjHLf7bP7/B6HR5we3xqEFbKkIqbhGPGMQiOjHbIBYxaIvr9Bs51NlBlLFnYdcxrEaFf7n8Bn7cuopH38zz3I4xXtkzQcMNiJgqv3l3Nyl3mtJojTR1omWdwDTxchMQ+GiJFuy+NVQPvYaXmyD31FdB1ZoteZpO8ur7ia25Fj2RPuv3WLUiKLpJfO0NKGFIcftPqOx5HgCrZxXxjXcQVAvn3H5kGhqGruB6AfpbK19CMI0TH580K4IXhqimjb3pPhrbvkmw7FrirR14xewpg5jzpVgRKE43/1tVQT3p3MIA7QLOUVJUDc2K4ZVngdiJAeSnqGI6Ppg89N1mABWGi+Y/wdy8qLkqruPHCT0XLlCb4sVg6CoRS3vPbcA7TosmZPi4eNeRAEoIIYQQQgig4fpM56q0JG2i9vl9cAuCkJHpMq/umeB7Tx8mCOGqVe08eOsK/JNDJM/H9QK+98xhJmer/ODZI8QjBp4fEoYhlbmWONcLcP3mEHNQUBTQVRVFhVypQaHSoKc9TjpuoSgKdcdjfKZM1NJ59OVjjE6Xido6P3/7KtozEdrSESxTI19soKkhCRPU0IPyDMprX4PJ/ShhuOh1abt/zP2xbazbdDP/c0+aqhOgqfBr11t0qbMERQhqLi1dLVjpFIqiUh/ZD0BkYBPJrfcQXXUt9ZG9lHc9S+jU0GJpMnf8EpodxUh3Lpz59DZUw0K1ogSNComr7iQMfEqvP4oaTZK57dMQeM1w5BwDKF1TsQyNasMjctJHpTAMgXBBGKHoc7OSgoD4qs3MWj20tbfO3cgpW9bOl6qbnOLPQhgGgHLB5j/NP18kRjgXeIWeg5bInLLC6vjsqdBrEGoGiqqe8lyOt4Q12/rmAijfQzHtd90GvOOilkp3W+w9twHvOCPTBe/RcxfvX+/Of+1CCCGEEEKcoyAIyRXraNrxyoWzDzT8IGR4ssT4TIVcsU5/Z3LR/KSzef6JbIXte6f41hOH8PzmYO4Hbh047Satj9+1kr/9zk4ODefZtnsCz28GCrqmoKkqQxNFDhzLE4sYdGaidLREaM9EsQyNIBpSLDscOJanMxOhM20wPVOkVihSqrq8vH0/D0Z2c2NyFHN2I2HmJoKSRaFUJRHRCF2HYqVGJH8E+8gzKF4dgNCI4Ce7aST70TqWo1az6HsfQa3MsrzyA/5/KzfyiHsNa5a2sKK7WbFVrbpEMirJliSKohIGPvWRufa6FZsxMt0E1RLxdTcRX3czjdEDmN0rCD0X1Y6hxc59U5cWS+GV82hAcvMHsHtXoyVa0SJx/GoB1Y6jnkd1TSxiUqwsnBnlByGqpi4MoAxzrqrHwTIs2jpaScbM5uBnzUC9APOfFjyXqhIGQbMCak7oufPb6C4k1bBRmAvewgDtNHOEFEVptiLmyoT68WHop6iUUjVU3SRoVE+cu++i2a0X9LwvJF1TiEfeuxVE5xLoCnGpSAAlhBBCCCHe88IwZDxbJVvyUKC5bc42SMVMIpZOPGKgaadvpZnIlpmardKeilCuuRweydPXmaA9HUFVT19F4AchtbpLqeowW6wzOFbgG4/tp+H6LOtO8sm7V7FmScv8lrm3as9EufuaIj956SiPvXyMDctbsQyNF94c55U9kxQqpx6enUlYbFiW4f5r2lHcBtMHD1NWPXzXwa5XGHxlO/8xtR9T8cEFDj0Hgy/jdl1JYmArXfEWVNUid+RJ/KE3mq8l1k796l+ilBggFjXpao3RkrQoFKsMRXpIDT+LOr4be2InDxgHCbUHgVUEQYjj+XS1xtDmwhFn8ihho4pi2lh9q9EicfR0B+7MCFqylcjAlYSBj+/Uz7n66TjVjKCoynwoY3Ysnb8tcF30TOKcjwlgW9qitknPCzA0FdM4uQLKRDFsQq+Bati0JJvVVkGj3mwtu4Ch0PFNeM1WtxPHPVN73Dt6PqO5yS70nOYA8jO8Fs2K4AXBiXM5TduXYkUJT96Y9y7dgCeEuHgkgBJCCCGEEO9pYRgyW/KoKBUURcc2dQihVHGYLdRQFMgkIyzpTCwYIn1ctlBjdKrC1GyV7z19mE2r2lk70MLgaIFaw6O3PT5f+eL7AQ3Xx3EDqnWX2WKdat3DDwIKZYevP3qAat2jpy3Gv/jgmjOGTwAtKZu7runnyFiBA8dy/Pdv7qDhnthCF7N1Ng6kMYM6+XyJYrGM5zhYNY/JvUf5zlGFD6wxaE0YNHwFI3cMffQNrtebx/CT3SgD16Aceh6lkiUy+irKzB7ctTdSPfI6fjELKGgDW6it+hBBuo+BTITWVGR++HImHWe6dwVlNSS+dAvKnp+iFCfhzYcJ7/xdqo2AWMQgGT8RPNSP7QHA6l45PxNIT3fglfMEtTJaNIlfLaFGk+dV/QTNQeSK3mz/Uk6q0Jnfrnae279MXUMhXLAJz/MDjLmtaMc1q39ieLmFM7ZCz0WNJi5oBcrJm/AwTg6gTt8e946ez7BgrmJJeZswbb4V0XXQEi2nPRfVtJob9eYfCIr27pz/JIS4OCSAEkIIIYR4jypVHWxTf88Oyb1QpnI1pose1XyeHzw3BIACzVAkZpKImiztTnDr5l6WdqUWtNZVai7DkyUOjeT558cP4Pshe4/O0tMW494blhGEIQ3HJ2rrVGouDbc5u8nzfEIULF1lJl/j2TdG2X0kSwi0pSP80oeu4IplLW/bxqepCj3tcR64ZTl/972dFCsOigJXLG1h85p2ljNM2/b/hhJ4zQdE5r5OdqT57eQx1INeG/qqm+i99i48zaKYXENmZgfm6Gv4xRlKbzzWfP5YiuR1H8XqGqC7exWKbi5qXdRUhc7ebg7PzuAHGtqNn4Mn/wqlUSIY3YWbXkNXy4nqpzAMqc0FUHbvGhS1+ZFD1U3Mlm4a44cI3AYE/nlXP0EzlFEjMYJKAU4OoDwHRTdRrfMMoAwVXdfw/BBDPx5AhcSj2qJwRTOb1T8nCz0X1bpwA8ihuQlPNSP45fzCG4LTt8e90+fT7BhOKYuWaD3jJrXjrYhBo3rGc1E0o/kPk+b8J1XTL2ibohDi3U8CKCGEEEKIS8DzAxqOT+wCzRQpVhwOj+SxLY3+zuR7elbJOzGVqzI8VUHX4JnXxoHmZ9wQKNdcyjUXqLD/WI7B0SIP3r6CVf1pOltieH7AsYkirx+Ybg4MD0IGepJMZKuMzVT4+x/uZnV/mlu39NLZEsPQVQxNJWLphKbGnsFZnnpthOHJ0vz5rF6S4SM3D7BhRRuZxNkNwE7GTAZ6UnzqA2vIFmqsXdba/JyuQtvLX4O58ClUVELVaA5t1g0CNPK1kIYbNMMwQ2XWs3i8upbOZSt48Jr1eHqE2WKdjr6ldHSbaFddR2NkH+Xdz2K09pK65n4Cp4bR0oVhnz48SCdsUl29lI7tJxW4hMuuRdn/BBx5kegN60nETlx/Xn4Kv5QFVcPsWblgyLSWyKCVW3BnJ9DTHedd/TR/vEgSrzDDyRFW6Doohn3ebWmW0dx85nr+fLjrBQGRU8zxUoy56p8wQFHmAjiFc96+dzZUK4pfmJn/OQyCufa4C/9cAKodBUVBs6Pzr+1Umq2IFspc8HfG+6nN+WCh74KqnzHYEkK8/0gAJYQQQghxCUzNVskW6qxemsEy3llrjucHjE6VaLg+Dden1pilryNBW+rM84rebYIgfEfnO5OvMTRewtJVjk075MsO8YjB7396C47nU641ZzNNzFR4/NURDo7k+Z/f28lHb1vJ1Vd0EITw7I4xHnruCGEIW9Z08C8+eAX1hsejLw/x3I4xDgznOTicJx415jbSBfj+wgFBhqaydW0HV61qp6c9xkB3aj58Cpw6bm4CLZKYa5U69Qf5jpYIS7oStGciBGFAOm7RlVDITTQHeXf94n8iSHYzNVMimyuh+Q5xzSHt1Xn+sMP3dzbw5gpxOpMan7t1Db4ZY7ZQo6MlytKuJGFJwZkaIrpyC7HV1wDglXNosTR6vOWM77WqKnR2tVHMZvGqk+hLNhMeehatPE2qPoauZebve7z9zuwcaIYYJwVQiqJiZLoJXQcj1fGO29Sac6A0wsCfP1boOejp9vNuS9PmNuFVau6JX4Zg6qcOoBTdmJ9/1DyPU2+Ce6dU3eTkKy/0nbkB5BenikjVLVTTfttqLkVRUO0Yods4c6uepqOoOqHvEXrHN+BJACXEzxIJoIQQQgghLjLX85nO1yiUG0zPVunrPL/hyMdNzlbIlxpEbWO+NezIaJ5qzaWnPT4/u+d8eX6wYNbNhRIEIbWGR6XuUqw0cL2AZd2pU85lOh3XC6jUXAqVBtO5WnNbnKaz40hzu9Z167uwLB3L1EjMDdJe1Z+htyPB958+TLZY5ys/3svIVAnL0PjxC0cJgWvXdfHRW5eTL9UxdI37bhzglk29/OiFo7y2f4pS1V10LvGowU1X9nDlyjZMXaMlZdPdFiMRbQYCfrWEM30Mv1rEU6fQq20YLd2nnE1kmzo9bXHGZsp0ZJqb7qpvPAq+h5ZsI7J0A4qiEMu00lJ2GJ8pM1Ookk763Jyqsrwry1dezJOvhfzS3cvRYilmCjVa0xGWdiUwdJUw2YZfzuNXCuiJFkLPhTDEyHQtqFI6nWTMJN3VTWEwTyrwcLuvxBzZDodfhFXr5+9XHz7efrcSVbcWt61F4lhdy1EuQJWQakWawY/bQLGaTYhhGKCa0bd55JnFIgb5cmPueCEQnrLV9Xj1T+i5YFjN9j/NPK/te2/nrZvwmqHX+Vd6ve3zmXZzk+BZhGmqFSGo22cMwxTdnJ9j1dyAd+bQUwjx/iMBlBBCCCHERVYoOxwZzTNbbBCxdVpSNlH7/P7Pf7Oip8rB4TzfeeoQK/rSfPb+dSRNi7GZCpW6S19H4oyDr0/mByENx6PW8Kg3PIoVB8cL6G6L0ZF5Zx/ioRkYlWsO5apLodyg2vDwvWbA5foBilJkeU/qjKGZ5weUqg7FikO+1KDWcAlRiFsGEVtn265RClUf29S4fUsfG1c0V7uHc+UiQRjSno7QkYnw/WeOsPfoLI+/Mjx//Bs2dHHnNf003ICOTJRqw6XW8AjCkPtuXMYdW/vwvBDTULHUAENxMUOXIAioYBNP2vS0xUgnbDRVIQxD/FIWZ3qYMPDRU+3ge7j5afxaGbO1Z25Y88JAoy1tk4ybWIZGGIaU9z4PQGzNtfMhjqIopBMWsYjBqKUznq0Qt+P0rOnk/7usgusFGPFm+JRJWHPhU/O9VTQds7WHxthBAreOXytjpDrQYqmz+lsqikJXe4pCthOnOEyt80rMkddwxg7g5iYwMl34tRLO1DEAzK6Vp22xOt/5TIvOSdPRInG80iyqFW3OX9LNd9wCd3yQPTT/jaiaeuoAaq76x8tPAZyo7LkIrWUnNuF5KKpJ6LnN+UwXeAD5yc9npNpR7befZ6VFEiiKduZWPUVBNSMElfzcBryL0zoohHj3kgBKCCGEEOIi8oOQ0akS33jsIJVaM9hoT0VY2p085w+Onh8wMlXi6ESB7zx9CD8I5zanvcFvPLiRtnSEfKnBoeE8/Z3Ndq7TPUe17jI5W20GTm6A5/ugKJi6ioLC0bEiYQgdZzjG6Tiu36xSKjfIlxvUHY8QBdvQSEZM9LkP8kEQMlOooasqy3qSp6y6qtZd9h+bpVR2ME2diKXTkjjRahiEIU++NgrAltXtdLXFTgprmsdQaQ76jkUMUpbP9m1FhvYfpBSYpFdv4bYtfaQTNt2tMVJxizAMqTs+lVqDcrFCsVAjoAa1MoFbBdfBCQN0VaE3naDFCrA1HRWTMAB3dhx3dgxFt9DjczOOdAM92UpQL9MYP4xeLWJkuhcEMYqizLdneqUs9eFm+1183c2L3hdDV1nSlcQyNYanyji+QiqWxAhDssX63OD1ZDNIOYkWTaKlOnCmj6FZUYx0xzn9feNRk5bODiZzE8RjBtbSDTSGdlLe9QyZWz5JfXgvEGK09aFZ0UsSMmiRBF5+GqA53NywUMx31gJnGioozU14nhdgaGrzd6d6fiuKFzb7H0PPQUu2vqPnPp0Tm/BcMMzmAPILFOSd8vkUBT3Zdlb3Vc3IWW0dVM0IfnFGNuAJ8TNKAighhBBCiIuoVHF4+vXR+Xkyz74xysaVbWSS9llXKR03NVtlaLzIt584hO+HrOpPM5GtMDZT4b9+43V+68GNdLXGmi15YwUark9PexztpDlLQRCSLdQZnS5Ra3hELYNExEDXm+dSqbm8cWCaZb1Jjo4VCIKArtbYWYcUI1NlpnNV6o6PokD0LYHR/GvJNQd9r1vWwlSuiq6rLOlMLLjfbLHOgaFZ/p9vvIGqwG8+uJG21MIPubuPZJmcrWFoCluvaFtQWRb6Hn6tTP75b1Mf2Y9XmCRaK3MLcMtcUYfDFEnz58hE0ui+h1fSCX0XtVYh2qgQ9T1adIdADQijOugtBKoBKM1ZQapPUM3RqMyi2jFUw8ItzqBFE6iGTeA51A69htHej9naixZJEBp2sxqqWsJs6z1lFUtl93MQ+GjJNsyeVad8r1VVobstjmXqHJsoMlOooSoKEUtnWU/qtFV2RrqDoFZCi6XOqrrlrTpb45STKTJaheTG25ge2kn18Oskt947P//JXrIO4Kxa+94pxYyAps7NFnLQzzBr62yZhoahabh+gOcHGLp62rbUkweRE4YXLRQ6vgnveAURqoqiX/hZUxeTapjN6ifdQJUB5EL8zJEASgghhBDiIgnDkLFsmRd3NrezmbpKte7x9PYRulubs4LOdgh3qeowNFHku08dplR16WmL8Wsf2UC55vC339vJdK7Gf/vnN/i1B9azojeNrqmMTJVwvYD+zjiGrlF3PMamK0zlKliGTnv6RItdEIa8smeSHz53hErNpTVl89sf28ixuQ1vZxNCeX7AT7cdJQzgqtVtpOMLq1/CMOTwaIGnXhth95EsAPfduIzbNvcxPlPG0BV62uIEIUxmK4xMl3lp9wTVmkOIwv/7rR38xoMbWd6Tmj/eoy83273W9NmkYwZGdZp6sU7oNnCmh8k//y380uyC81DtOMQyBNlhzPGd8GqAf/WH8BV1foWeojU3dCmmjRmJnyHQ0FHnhk8HjSpeo4oez6BoOl4xy+wT/4Q7Ow4oRFZuIbX1g2ixNEaqDb9WpjE5iKWo6IkT83ACt0Fl/8sARFduRVXPHKa0JG1MQ+PYRBHH9VnWfeatiKphYXWvOO9wKGob9Pe2ouXrmJklmB3LcKaOUtr5FI3RgwBElqwnVAD14n/caM6BspvVT6GP9jZDs8+GaWjouorrBXh+SDyqnfb6VwwLRTMIXae5le4ihkLHN+GFvoOiGe+40utSUzQDRVVAu3jD04UQ714SQAkhhBBCXCSVuscTrwxTrrmk4xb33rCUrz96gO37Jtl8RQdt6QgtybdvUao7HiNTJb771GHGZirEIga/fN86CpUGiajJv/7kZv7XD3ZxdLzI33znTX7x3rVsWtVORrUZz5ZxPJ/WZISJbHnuXOwF82zGZsp864mDDI4VgWYGky3U+cZjB/mVD61laKIZQnW3xc94njsOTPPdpw4D8L1nDtPTFuOKpS1csSxDseLw1GsjjEyVFzzmqe0j3HJVL4mIychUGU1VqRby5A7uJJ4/zMYDu7k3M8NY0MZ/KdzD33znTT734fVcsayF/cdyDE+WMHSVld0WKTskLEziBz61Q69R2vE4BD5qNEnmtk9jdy1vDgGfq/rJb3uI2ce/RP3YbggDWu74pTPO7gkDH684g5ebxM1NoOgG0ZVb0aJJFFVDi5wYLl8f3svs018ndGrzQ7Jrh7ZTH3yT+MZbiW+8HS0Sx68WcbKjqCe1q7m5CRrjhwCIr7vpba8PgHjEYGVfGtcLiJ0hfDrubAZLn/H5EjHqpWYgE994K7OPH21WbQFaPIOW6iCoFi5NBZSqoUWTuLPjKJp2QYaba6qCbWqUqi5eEBCxT/86FN1E0U2CRvWibqWD5iY8FOa37r3XtsgputEMoXTzPXfuQoh3TgIoIYQQQoiLZHK2wvM7xgC4fkMX65e3csXSDPuGcjz+8jGW9zQrVU43gLtSc5kt1pnJ13js5WPsPTqLpir80r1XoKqQSdrMFuq0JGx+5+eu5Cs/2cvOw1n+6eE9VO9cxY1X9tCWipIt1Jrb3TSNttTcTKcwoFHK88jrWZ5+Y4wgbM69uff6ZSzvSfHX33mTQyN5frJtiHuuW8pssf62VVBHx5sBljFXOTI202wPfGL7iYHfhqZyzbpObt3cy9//cDdTuRrPvjHCBzZ3ooy+QvHRH6NXpsjM3X9g7q1Zpk2ypU/ntRGfL/5gF7/0obU8+0Zz9tO1a9uxDJeYHuCVC5Ref4zGSHN+ktmzkrb7fhu7c2DR+Sa33kPgNcg/+8/Uh/cy89P/ResHPotq2IRBgJeboDE1hDN9DG92DDc/BYG/4BjF7Y8QWbaR2LqbMDuWAiGlNx6n9PpjQIjRvoTWO38Jv1qi8PJDOJODlN54nMr+l0luuYfIyqvxyznc2THMzmUQBJR3Pz/XfteK2bPyba6yE0xDe8cbEM+WohsoKIRBgN2/Di3Zil9sVrXZS9ahhAGKqqFol+Z8NDuOGwQoVuyCzZ2KRwxypQaEYOpnCKCODyIvZdETrRdtKx0wF24phE79og4gv1gU3QBVR4288yo1IcR7jwRQQgghhBDnwfMDCuUGlqmfst2p7ng8+tIQ5ZpLMmZy86YeOlti3L61j4PDeQ6PFnh17xSuFxCxdOJRg4hlYJsarheQLdTJFetU6g47D2V5Zi5seeCW5bSlIvS0x+lui6JrKtO5Kq2pCJ+9fz3feeoQz785xreePEgqYbF+oJX2dIQgCNGOz7AJQw4fOMpXnhohX2uu+rpyZRsP3rYCy9Ao1Rw+dvsKvvHoAZ5/c4z2tM3mKzpwveCMAcfEbBWATavauffGZQyOFtg3lGP/UA5VhRs39nDjlT3ELQWcOvdc1cJXnhplx2u7uXv6K0RmB+ePFcZa2FFqY2+1lY+m9xD1CnxknU4QaeGNg9P808N7CAFNU7huXSdTk2MYlQlmH/1HgnoZNJ3kpg8QueJ6rLa+U56vqpskNtwCQUDhxe/iTBxh+qG/RrNjONPHCD1n0WMU3URPd2JkuvCK0ziTR6kN7qA2uAOjtRfVjMxXL8WuuIHUdR9pbmqLpWm777epD+2i8MqP8EtZ8s9/m/Ke58nc+incwnSzgkrVqA2+AUBkYBPaO6xUuliaVSwGYeCh6ibx9bdQePF7QDOACgMPVO2SVEBBsw1PNS00O4aiXpjQyzJ1wjBEgVNuwFvw/HYU5oKoixkKNautDIJGFc1651sqL7Vm26CNasgGPCF+FkkAJYQQQghxDvwgJF+qM5GtUCg7xCIGy7qTiwaKz+Tr86HRjVd209/ZvM/KvgzXruvixV3jPPXaCFeubKNcdckV6wQhGLpGEARUGx47D83wws7x+QHm12/oZv3yVvo7E3S1xlBVhf7OBA3HI19s0JKy+fk7VuIHAS/tmuDLP9rLv/7kpuYgcu3Eh+IXth/k28+PE4TQElX4+S0x1q1ux7E0ClWP7tYYuqbyweuX8pOXhvjBc4PEYxar+zNnDKAmZ8rcY7/JFUEaZcrnyqUDbF3V0lxH5/vgVqE+CbkSeHU2p1wqqZ3cqL6JNusTKiqsvIVw88d441idL/1oDxFL45NdVRjZgVUa5V/ccw22pfPSruZcrWvXdWEYKrah4B14gaBeRk+2kbnjl1AMEyvTecZWHz2eIbJkHZodI/f01/By43hztymGhdm+BLNjCUZrH0amC+0tA66d7CiVPS9QPfI6brb590bTSd/4c8RWXb3guRRFIbJsI3b/Wir7XqT4+mN4uQlyT3+N1nt+DWdmlFBRcCaPAhBfe+PpL8TLTNEN0HTwPdBNoquubrbgKSpW5wCBU29WP12CGVAAimk3q5+iZ24TPRfG3EZIVVNOuwHvOFW3UE0b9SKHQsffd0U337MzlIxk24Ltj0KInx0SQAkhhBBCnIUgCClUGkzOVskXG+i6SjJmUa05HBktsKwnSSbR/L/6nh/w4xcHKVVdElGDu7b2k45bqKpCT3uM27b0svPwDDP5Gl9/dD89bTFiEZNYpFkBdWgkz7ZdEzTcZrtXS9Lmho3dbFnTwbKeJO3pyHyVhWVo9HcmOTico1xziUcMPn7HKrKFOgeH8/zPH+zi//OpzaRiFn4Q8r3Hd/Pc7iwxpc59PVNcu7YdPaITZIcohVm6lg2wpDuFqihsXtPO5GyV1w9M8+0nDnLDxi7i0dN/6I3kDnF/9A2YBqafwjcThO3LUTpWQiQFtQI4FUKngVsro2cPcbuWA+Cw10XPLQ9grbiaUFF5/NUDAGy9opNIxzKckR3YlTGKjscn71pFKm6y7+gs91y7lHKlSsLy8YeboVR8wy1okTiKbqLFM6c52yZFMzAyXfj1Em33/TaVAy9jpDowO5aipztR3mYAuNnai3nLJ0hecx/VAy/jTA+TuOpOzJOqrkLPbW4sm6vMUTSd+PpbiAxsYur7/wUvP0ll97PE1t1IdXBns/0u0YrVs+KMz305KaqGOjf3CJrVZB0f+/3mEG5Vg8BHsaOXrEVMUVTM1t4LOpTbMjQMXUVVlbetgFIMC9WKvePZWm9HUVRUK0oQBM3te+9BerL1cp+CEOIykQBKCCGEEOItwjDE8QIc18dxfRqOT7HqUCg3UFFwXZ8ntg/z6t5JWpI2D962giAMWdYd0pqKMJOv8eSrIwDcfFUvfZ2J+W13iajJkq4kt23u5eEXjrJncJY9g7OnPI/uthg3X9XDit4UsYjB0q4kmVMMLU/GTPo7ExwZzWPqKqah8dn71/Ffv/E6U7ka/+sHu/ncR9bz1R/vYnJsigcje7glegC97sHrzWMoikprJIVxtJNc9wrattxPMWpy300DHB0vkis12Hc0x5LO5CnP1Q9CtNosWBDqFkroozklGN3R/HqL43VUgRnj+9Wreaq4hPuzbdy9SuPAsRwjU2UMXeX6Dd1EtBoOoJcnaTg+ROHe65dx7/XL8LyAekNFVX38wiQAerqTwG1gt/efVQuYFk+jRdME9Qrp6x542/uf8hh2jMSVdyz4XRgG+JUCEEIYEoYhqmGhmpFmW140QebmT5B99B8o734Wq+8KnPHmEHd76QZU891dJaJYUcJq8cTPJ73XYeBf8oBEiybe/k7nwDwpgNK1tw+g9ETLRa+AAlDNCKHnNgeSCyHEe4gEUEIIIYR4TyjXXBzXJwxDwhCCue+GrpKKmSfmG52C6/kUKw6moRG1DTR1cVVGGIZU6h6Fcp1csYHj+rheQBCEoICuqkzP1nh2x+iCwGhytsoXf7CLu69ZQhCE+EHIj188SqnqEI8YfPD6pYuqhjpbotx4VQ8R26BScynX3LnvDuWqSyJmcs3aTvo64sQiBm2pCC0pm6h9+laytlSEat1jbLpMaypC1Db49Y9u5L9+/TWGJ0v8v//wOHdYO7kufQhDCZqZSLy9+eBqDiXwUKo5nGoOZ2QfXm6C3nt/j4PDeXra4+RKDUamSqd9/mK5geVXALCXb6bzQ79Bcffz5PZsI5we5P/P3n+HaXbW9/346z796WX6zPai1a7KSiuhgpDo3WCa4wo2jg12YvsXO8E4PTFxYv9k7CtxTGwgjjEETFEwlkBCQgIhhCrq23uZ/vR+6v3948zM7mhn+2qlXd2v65prZp7T7nOe88zz3O95f94fEfSIrDQikcFM57EzeXpGhmpyNWOzITzZ4wfPTHHrllXc/8QhAK7bMEhfziGVXUsdkM1ZHD2i54Uk7PhjbNcLcCwdzasj3Q4g0JwMejKLnsqfcLzHIjQdMz+EO7EbGQaLhRQp445jun5G2UJR4BG26+jJLFbfGABhr03YrhF1m8gwRBgm1vBakhtupLPzMWo/+hphN+4SmNpwwwXLTzpbNMtGRtGSy6SMLnqBRNMEjmOgwSmdXEIIzMLwBRmXnsyet6B1hUKhuJC8st/VFAqFQqFQKIi7we05XKXrxuk8AoFELvycTVsMFZPk0/YiIcr1Qyr1LjPVLu2uj65rpByDYtYhk7JIOiZRJGm0Xcr1HvWWRxiG2JaBbRqkE/G+ntk9y/1PHGKi1J47Jlyxpo/XXjXCj5+f5IV9Zb776EH2Hqnxrteu5nuPxwLKbdeOMTZ4fCaNZeqMDaTp9HxMXUcCMjpGWEOSTpj05xMUcwns0+hspmmCsYE0PS+g2uzRn3UYSGt89K0rOHL/17jN3o4u4msmsyPIVTfAwBrcSKMXCsYKJsmwgTu+i+bT9+FO7WMwbTJYSJJJxsLXZKkdO52WEPCOzLTIaD0A7FwRI52ncMO7SG66hUO79+HWShSyDrm+IpYTO3ua7R6VfYe4esMo9+6ZZrbW5avf28nuwzU0AddtHCKbsrH7Cgt5Q/mwzExvcEGAcr2AvqxNrxGX3+mZImgCMz90RgKOns6hpwuE7Rqak0T6LlHgI4iDn6NeEIsqpoNmJ04oRkkpibotZOhhFkcwiyMLQoyeyiGLw0Rul8htE7ZqhO06mc1vwp3YQ9iMu8jp2X6c0fWnPfaXC6Gb8YthqWXzyy9yMks0GHi50RPnL+dKoVAoLiRKgFIoFAqFQvGKJggjJistjsy2SNomCdvAsXQc28DQNcJI0ux47DpUJZuyGCykSCUMak2XmWqHTi8gYRv0z3WC6/YCDk410LRYjAojSafnY2gaqYSJNVc2FIYRT26f5ntPHGK21gXAMjRuuGKY264ZY6CQJAwjLltZ4NEXpvjWg3vZc6TOZ+54liCUpBIm73ndGhxr6Y9bhYzDaF+arhug6wJN0zA0ga4LbMsgl7ZPmDsTdpp45XGC2jRm3yhGfijO3AkDRswuXmeWdrVHKqyx7vlvs96JS9OC4mq0K94KQxvAsAikTr0dsHI0y/BAXL4UXvYamk/fR9iqElQmGe0fYbgvbpleqnXx/KPuo2OZLLXJiPg66ekiELtCnEyeVVddTdBpondrhK0qfr2NZiewQxczncNL9PPWGx2+/N0dPL1rFoBrNwySS1ukEkbsUCoM45eOkOpMIjKDhGEUu1IEpEzwW/F2Rq4fPZlDT+fP6D4TQsPMDxL1WkjfR7NTGIUsmpVAsxxk4BF2mwTNKmGrhkSiGXPihDy6nyjw0ewk9uA69HThOOeMEBq6k0J3Upi5QbzKJN7MQQq3/gylu/8apCSxYuNF4XARhoXQtLjcbglB7pXu4DodBoupl3sICoVCcclw8b8rKBQKhUKhuKSZrnR59IVZvvHA7uOWmbrG2mU5PvKuTWSSFq2Ox+7DVWxTx/VDUo65KLBb0wWZlEUGiyCM6LoBQgj6cgm0uXV6XsBPdsxw/xOHqDZdAJKOwa3XjHHTlcMYmobrh8zUOhhaLIBdvrLA2Ic287X7dzE555J643XLGO4/8eRV0wQrRpbOU4q8HkFtgnZthqA+Q1CbIahN41cm8euzc6VmR9EzReyxDThjl2Hkhxi0QqYP70bsuQ8R9JCGjbzhF9HW3XL0GJGk0ugy2JdiuO+oo0JPZGInUKtKZ/9z5LYMc9mKPADleu/EAlS5zbAWC1BGprhomWUaWLkC5ApE7hBBq0rQKKMbBrnRUSaagi0bBrn3sYOU5sS+W68ZwzL0hbJDs28Mv3QEUT1MevB6Wj0fS9dxLIOEHtBsx2WRRnYAMz94RuVy82jJLPboeoRhHh8mbTnoySxmYZio1ybsNhcCuGMECIFumJi5gdPObzJzA0TdJqFmkLvpp+nseYrkhpsQF0GXMKEbCM2IyxaPud4yCkHTYtfaRc5Sbj+FQqFQnB0X/7uCQqFQKBSKS5ZWL6Qy2eC7jx4AIOUYBJGMg6gBP4zYcbDK331nG7/201eRS9tEkcQPInLpkwcgG7qGZegcnmlyZKbJ4ekWR2aazFa7C4aWdNLkjVuWc/3GQbpeiEBgGBqFrE0qYeFYOl4QUWu6WKbLL73jch59fopm1+N9r197yuDiyO3gzhzCmzmAN7Ufb/YwfmWCqHvirKV59FQeLZnFL48TNit0djxCZ8cj6JkiZt8YmQPPA3HOk7z+Z2H5NQvbhpGkXO9SyNgsH8ocN8k2+5cTtqp40wfwG2WWD8buqFrLpd3zl7y2U5U26+dK8E7WeU6zk1h2EiM3gPRdcqHFRCsWj9558yq+ePd2rlrbTzHjYFkajhULG1b/cjo7HyMoH6E/a7N3okmoSfryCfSohtatxWPvG0U7yxIlIcQpy5uEpsf5UsmlxcMzPqZuYBZGiLotkmuvxRnbgNk3ihAnv3deCQjDAsNEhgEcI9jFjijjrERAhUKhUFy6KAFKoVAoFArFKxLPDynVfR7fO06z49OfT/Cx915JIhGHiIdRxFSpw2e/9Tw7Dlb5x4f28v7Xr0PTBLZ18olvqd7lh0+P89jWSTz/+BDlvpzDbdcu46Yrh0HGwsvywQz9eQfHMhY62s1TzDq4fkir4zE6kMLQNAYLcTcsGfgErQpBfRavPIE/cxBv9hB+eYKwXTvhGIVpo6fyGNk+jOwARn4Qq38ZZv+yOFfItJFS4k7sobXtR3hT+3DHdxM2K4TNWNAJxq6hO3YDqcH1MOfwCsOIcrNHXy7BqtHskvlS1uAKegeeI2iWCWrT9PWvxjQ0/CBifKbNaP9ikSaMJKVqd6EEzziJADWPZlhgWKTCiIRt0HUDtmwYZKiYZCCfoN7xGCgcda+Zgyvic6pNkzcjHEun4wbk0hZRqYrWi0U7s3/5RZc9pCczGIUhvNnDIASafXGUfQkh0KwE0Yvv4zAETb8kSvAUCoVCcf5Q7woKhUKhUChecUSRZLLUZvdEj20HWggB73/DWgb7UrR7Pl4Q4vsR+YzNB96wjq9+bxc/fHqckb4UN105csL97p+o84OnjvD83hJyzuaUT8cuoGWDaZYPplk2mCGTikOjvSCk1nIZG0wzNpg+YTlO2K4Tlo5gzB4iN30AvzbNkWYl7njWa5/0XLVkFrM4ijW4AmtwFfbwasy+MXTn1CKEEAJ7ZA1C1/GXb0S7NYM3sYve+C6cZRtwE/002w49YeMQ52lVGj368wlWjWSxThBubg+tBiCozxB5XUSnSjHrMF3pcHi6wWs2DS1a3/NDao0OKc0DOO3ucxA70YpZh/GZJumEydhAGiklSEgdEwBtD66Mx9QoY0Y9ilkHWe+RMKFTOoJAIkwbszhyyo5lr0TM/CBhp4n0umgXQfndPJqVIGyUFz0mo7jDnxKgFAqFQnEsl8y7Qq1W48/+7M/4wQ9+QKvVYsOGDfzLf/kvuf766wF45JFHuP3229m7dy8jIyP89m//Nu9+97sXtp+cnOT222/nsccew/M8rr76av7gD/6A9euPdiC5++67+Yu/+AuOHDnCmjVr+OQnP8nNN998wc9VoVAoFK9OwjAijOQJRYOXg3rLZXymRToZh0U7VhwQrp+i9OxUlOs9Dk63eGpvnLFz4xXDXH/5EKMDaaJI4gUhrhfS7vkAvP3GlXz3sYN8/YHd9OcTrFuWX9iXH0Q8u3uWHz07zsGpo6Vtl68s8IbrlnPZ8vySgoUfRNQaXUYSHsXWNM1D44TtOlGnQdhtEHVbhN0WYbN8SpEJ3UBP5jAyRcyB5diDK7GGV2MNrDznjlZC0zH7lxEFPlG7hrPqKhKrrybye1iey0BxlCM1H03TqLVcBgsJVo5kMY0T30fW8JwAVZ1GsxyiZpn+rMV0pcNUuYMfRIsC0l0vIGzVIANSaGiJM3PwZFMW40IsdNjz/AjL1BZlTRmFYYRhIQMPd+YAxWXXEkmwRUCzPA6Aluk/LeHulYjQTay+MYJ2FfHi/KlXMJppsaDmzhMFCFN1alMoFArFYi4ZAer3fu/3mJ2d5c/+7M/o6+vji1/8Iv/0n/5TvvnNbyKl5OMf/zgf/ehHuf322/nBD37A7//+71MsFrn55pvxPI+Pfexj5PN5/uqv/grHcfiLv/gLfvmXf5m77rqLYrHIo48+yic+8Ql+//d/n1tuuYVvfOMbfOxjH+Mf/uEfWLt27ct9+gqFQqF4FXBktkW767NuWf4VI0KVaj2qLZdGx0NGEt3QsE2ddMLEsXRMQ0fXBYauoetxns/JcpE8P6TadBmfafLg0xN0vYi+nMM7X7uagULsCtE0MSd0GaQSJuV6j9dePcJMtcPTu2b527u28i9+fgsAjzw3yWPbpmh3Y6FK1wXXXz7E67csY6TvGKEi8KAxDbUjUJ9EVsfRa5MMdyvI0Gf2NK6Fni5gFoYx+5djDizDzA1i5AYwMn1oifRL6srRDAt7YAW9wCds1zDSBcJOC7NvhJHCIO2wSqneY6Q/xcrh7Am7681j5AYRloP0eoTtOsJyGEzBVmC22sH1w0X7qDRcnCgW4TQnfcb5RemESXKuDC+dMOn5AUnbWFRKqekGRn4Iv3QYb2o/hfXXk03lCBolgvoMAHq2H2FcXOV3x6InM+jJzMs9jDNC6CYIkFIu3OMyihCm9TKPTKFQKBSvNC4JAergwYM8/PDDfPnLX+a6664D4N//+3/PQw89xJ133km5XGbDhg387u/+LgBr165l27ZtfP7zn+fmm2/mySefZNeuXfzwhz9kaCi2lN9+++3ceOONPPDAA3zoQx/ic5/7HG95y1v4yEc+AsAnP/lJnn76ab7whS/wh3/4hy/PiSsUCoXiVUO95TJd6eD7IUdmWqwayR6XQ3Sh6fR8as0euZSFY8UfKYIwwvVDZmsdwlCiCUAIBKBpGralU8w6ZFMW6aS1UNLm+iGVepeZapd21+fAZIMX9lURwDtuXMbK4cySjh1D1+jPOeyfaPBzb9tAud7j0HSTP//yU3TdYCFMPJ+xufnKEW7e2E/Gm4Hyk7D7MEH5MHprBs1tcMKrKTSMXD9mYXgh+FtPZtETmbh8LjcYB19bznm+wmeGZiewB1fgTu4laJTRTAszO4BmaCwfzpJNWQz1pU4ZjA6gGSZmYTgOIa9M4izfyHAmzncqzXXC45jyuInZFpn5APKzCOfWdY3CMWV4nh8y0pc6TrQz+0bxS4fxq5NIr4dwUoTdFlEzLgHT84NxtpTigrFQaheFC13vZBSp50GhUCgUx3FJCFCFQoHPfvazXHXVVQuPCSEQQtBoNHjyySd5y1vesmibm266iT/6oz9CSsn69ev57Gc/uyA+QfwhGaDRaBBFEU899RR/8Ad/sGgfN954I/fee+9LeGYKhUKhUMSizsRsCyQUswmmKx1SCZOhYvJlHVe95eK9qNucoWs8uX2abz64ZyHcW9cFhqah64JVI1neeN0yChmHVMKkmI1Fm5lqh04vdr0kbIO7frQPgMuXO2xaXSSfObG4k8842FabKJT86k9t5P999W628AK2GZBzJHlHktQjOOzBrhrimHKhRVNk04HMADIzhFZYRt/qtThDqzDzgxdNlo2ezGINrMCbOYiRH1zIEkonTNKJ03cGCd3ALI7GAlR5nMSqKxnJxgJgtTknQB3D+GyL7HwAeSp3VmPPpiwmNEEQRggBSef48VoDc53wajNEXg9hOQSdBmGjFB+7MKqcNxcYYZigGcjQX3idCAFCuzheMwqFQqG4cFwS7wzZbJbXv/71ix777ne/y8GDB/k3/+bf8M1vfpPh4eFFywcHB+l2u1SrVQYGBo7b/otf/CK9Xo9bbrmFRqNBp9NZch9TU1MvzUkpFAqFQjHHbLVDtenSl0uga4KkbXBkuknCNsimzn2yfWzpzOkShhHleg/nRaWAL+wt8bX7dy2KhAlDSRiG4MO2/RX2HKnxthtWct3GIQ5NNZAIErZBLm3x6PNT3P/kIZodn4G8w1WrkgwWEkuGf0sZIcMAK3IpaG3K0xUKosWvpL6P7sfZUURA50XbGQ4yM4SbHqawch35leuxB1agJbMXZXj1i9EzRSxNP+csJHNgOWwHvzyB0AyGs/G1abQ96k2X4bkSxjCSzFQ7Rx1Q6fxZHS+dMElYBrWWi2XqJJzjP6aa/csBCBolQreNZieImmWk10Ui0IujF10HvIsdoZsIw0QGcZmrlBIQF41oq1AoFIoLxyX5zvDUU0/xr//1v+Ztb3sbb3jDG+j1eljW4g/o8797nnfc9vfddx+f/vSn+ZVf+RU2bNiwIDK9eB+2beO67lmPU0pJp9M59YqvELrd7qLvCsVSqPtEcbqoe+X06PQCDkzU0IXA91x8QBfQ6LjsOTTLmtETdzI7liiS9LyAnhcShBI/iHC9ANePiCJJ0jFIOga2qWOZOrapnTRIvNZyKdda5NM2vV4sPByabvJ3d+9ASrh6bZHbrhkhCOP9R5Gk3Qt56NlJjsy2uevh/fxkxzTvu201I31JHnthnAefnqDZ8RFIrsg2eP2aNvnGToIfP8e42yTqNLDXbMFecw3S6yH9HjIMIPSxuj5Ro0s4/iim3yFKFvE3vh10E3QTqRmgW8jMIIGTp9J0GRtIkRtIgRC4AJfSvahZ4Pnx11kic3E3Qa8yQdfzSGoupiHwA8neI2XG+m00TdBzA2YqbdZo8fWTdvqsP98kTMlkqcNwIUHou3ReNPwoMwhA2KzSnp3EjASdqYPxMieDr9sX1WerSwU/EoSdFrowkFFI5PtIz0cTr5znQr3nKM4Edb8oToW6R45yJv/IvOQEqO9973v8q3/1r9iyZQt/+qd/CsRC0YuFpvnfE4nFbW6/8pWv8KlPfYr3vve9/P7v//7C9sduM4/rusdtfyb4vs/27dvPevuXiwMHDrzcQ1BcBKj7RHG6qHvlxERSMlXxqXcCcqnFb9lSSg4cCpkYNxjKm2hLvPFHUuL6kq4X0eyEuH7cRQ/iUnVNg64bMV72yDg6uZSOaQh0TWAagqG8SdJeWtyaKHs0uiGNZLy83g741qNV/EAy1mdy5TIBbglbEwgBmiHIpCS3bXLYNy14em+byXKH//XNrTimoOfH4xp2uvxa9ocMBNNwID6Wd/jocb3xncyMHyLMj4GmIzUdNJ0IQa80jjm9DYAjo7fS1MfijcK5Lx/o1Wl0yqQcnaS0aJYvfsfTS4XW7pEVGiLwOLzjedxAkrGzVALYtvswBbOGZWi0eyFTpQab50rwSi2X8bP8fNPuhZTLHrpnErQnj1/Bd8nrFiL0GN/+DGFhBvvIPmwgSuQYn55FNo7/56LipUXrVNGbM0ROFUIfEQYEHT0WgF9hqPccxZmg7hfFqVD3SMyLzTon4pISoL70pS/xR3/0R7zjHe/gT/7kTxYuwsjICDMzM4vWnZmZIZlMkskc7TRy++238/nPf56PfvSjfPKTn1xQ8fL5PMlkcsl9HJsbdaaYpsm6devOevsLTbfb5cCBA6xateqchDfFpY26TxSnyyvpXpFSxvlDjvGKKsGqNHp0RINlyy1MQ6Pd9Wl1fQYLCYQQ+EFEve3SP5whYRtEkSSc+wrCiHrLQ7oBhiEZzsUt7Y/tXOZ6IX/xjecpN2I3rwAGCg5j/Sn6cw7DI/2sXVM8zmHVdQN6epVRK3ZMtbo+3/jmVnq+ZGwgxQfesJqVQxmWD8Vt2CO/R1idIqhM0sxmWD5Q4NZNIfc/U+KpfU16viSXELx/+Syb699H87tEmgHZIULDITkwgpUfxJ/cg3fgOVKHnyS7cQtGbmBhTDL0qTz/jwAEw5vov+o2+s3jc6NaXZ8BYN2y7JIZQ4qjhK0KlecGCOvTDKcMZHaYoX0ulXYXzDRr1q4nk7Qo1Xu491XIzpXgDa++jOTGjWd3zDCiMNlksJggkzz+w6wMA8rPDhKUjjCQENhjY7QOPYJPLEAtX7WGVHHwXE5bcRaErQr+lI2eKRJ5XZASa9nlCO2V0a0TXlnvOYpXPup+UZwKdY8cZc+ePae97iUjQH35y1/mU5/6FB/+8If5t//23y6aQFx//fU8/vjji9Z/9NFH2bJly0LY+Lz49MlPfpJf/dVfXbSuEIItW7bw+OOP8zM/8zMLjz/22GNcf/31Zz1mIQTJ5MsbIHs2JBKJi3LciguLuk8Up8sr4V6pNHpMVjqsGHbIZ+xTb3ABcP2QaqtNOpUgk7LZP1Hnf9+5lXbXZ7CQ5PqNg1x3+RCFXJrpqgf4SGILtJSxmGSbJgP5BIaxdCndHQ/uoNxwF0rvqk2XmWqPmWosJBwptRkbyrNyOL2o416900JoJrlMEtcP+eI926g0XPpyDr/201cRduqkn/sG1eoRgtoUYbu+6LijuWFaxcv5+Ss28LoVSSptybVsQ9/7IwSSIFEguvVjjGzYxJ7dO1m+cSPJZJKgVWPy//4n/NJhWg99mcH3/DaaHd87jZ/8ANoVIiuJu/7NJNK5OAn5GDw/BC1i7ViB/sKr+8Pi6RBKn1ZxiG59GpqzJEfWMJSN2E6XRjtA022SyQQ0Ahptj8xcl7xE39A5vaY3JpMn7dTXLI4SlI5Ap46tSxpzHfDCZJFEOvuy/z15NRIS0rNtdNsikj7CsEmkM6fe8GXglfCeo7h4UPeL4lSoe4Qz+uftJSFA7d+/n//6X/8rb33rW/n4xz9OqVRaWOY4Dh/+8Id5//vfz5/+6Z/y/ve/nwcffJB77rmHz3/+80AsJH3+85/nwx/+MO95z3uYnZ1d2D6ZTJJKpfjoRz/Kxz72MTZt2sRtt93GHXfcwfbt2/mjP/qjC36+CoVCoTh/+EHEZKlFteliGi0ySfOk2UcvRkpJremSsA0c+9zeVoMwoucGdN2QRtudC+JO8PTOGb587w6CMC5Tm6l2+M6PD/CdHx9g7ViOzesHsC09DvuOIoJQIqVk0+o+MicIKX9i+zRPbp9GCPjQm9azfDBNqxswU+lwZLbJQ89MsPtwnUNTTVIJk8FCEq80TqQZlOo6CSs+1288sJtD001SjsHH3ncVhibI7LwLd//Di46n2Un0dAG/Mgn1KdL1KaIjj7NqxbWsac0ipncB4PWtx775nzC2aTOBvzhnUU9lKbzxFyl9538RNspUHvgSfW//pwS1GZrP/QAA4/LX0zWLJF70YajnxSLJaH+K/vyJO+opjkE3MArDsP85/PIEadNkcC7XvNp06XkBAFPlNmEkj3bByxTP6bAnE58AzOIoELtuwk6DcE6AipLFuCOb4oIjDDMOHQ9DZBiiJ14ZQr5CoVAoXllcEgLUd7/7XXzf57777uO+++5btOz9738/f/zHf8xnPvMZbr/9dr7whS+wbNkybr/9dm6++WYA7rrrLiDufPfFL35x0fa/9Vu/xW//9m/zute9jv/6X/8rn/nMZ/jzP/9z1q1bx1/91V+xdu3aC3OSCoVCoXhJmK12ODjZ5Pm9JTavH6Avl2CweHr/yZJSMllqc3i6iW3pDBWT9OUSJwwF94MQ1wsJ50K5IykXfm50PDpdfy4UPEITglza4v4nDvPtH+8H4Mo1fXzozevZcaDCk9tn2Hukxt7xOnvH60se7+5HDvBzb9nAlssXlyTNVjt844FY8Ll18yg3XjFMNmXT8wKaIxk2dgps3Vem0nA5ONUgY0u0/Y/TuOcvEXaS9pv/M4VCjlbX56mdcXn6R99zBYOFJKWZMtmpFwDI3fTTpDbcgFkcQ09mkFLSPfgCzafvo3vgeeg0YG8sVEmh461/I4UN1zKw/jJ0Uyd4UQC1EBpW3xj5m99P9Qdfxp3cQ/3Rf8Qrj4OMcJZvwlqxkdkoiReEWIaO58dinmnojA2mGe1PvaLKLF/JCN1YEHv8yjhCMxjJxuJQpdGj3fUJI8lkuYNBSEKLnzA9VXhJx2UNrgAgqJfibotSIqwEUSL7iir5ejUhjLmw/9CHKESY596dU6FQKBSXHpeEAPUbv/Eb/MZv/MZJ17ntttu47bbbllz2qU99ik996lOnPM773vc+3ve+953NEBUKhULxCqTT85kstfjOj/dzcKpJqdZlpD9FNm3hWCd/i5RSMlVuz7l/TKJIsn+iwWyty3AxRSHrYOiCrhvQ6QXUWx7NjovrhURSHrMngecHOKZB0jHJpwx0XSMMI77+wG4e2xp3Yn39tWO899a1aJrgxitGuPGKEarNHj/ZMcOewzWEiJ0jui4wdI1yvceByQZfvGc7R2abvPuWNeiaIAgj/u7u7Xh+xNrRLK+7op+0EZC1DLKOwVDOIpBw7YZB7n/iMDt2T3CVbFJ/4esIGSF7LRKHHkUvvJVnds0QRZJlg2nWjuUJel2c6eehWwfNoHDrz6BZR0vdhBA4Y5cBgvSVt9KePEh964+JvB765ncz1JcnPbIMPZE+4XXXE2nM/BD5236W6gNfor3jkXjfpk32+negOWlyWo5KKw6i1jTBYDHFYDFJOqHcMWeC0HSM4gggiLotIq/LSC4WoBrt+H7u9nzKtS6ZuQ54aPpJn7/zgTW4EpjLHZqNO+Dp2QGkqcoqXy6EpqOZFpHbiUuBDSVAKRQKheJ4LgkBSqFQKBSKM0VKyUSpzQv7yhycagKw42CVvUdqFDIOK4ZPnF8yLz4dnGoShZL7Hj/IiqEsV67to+sG7B2vkala6Jqg0wvw/BBd10hYBoWMiaYJpJTsOFjlB08dYdehKgC2qZN0YiHKDyJmqh2EgA+8YR2v2zx23DgKGYfXbR7lug2Dc13t4i99zuHzwE8O8b0nDvP9nxxhfLrOR24p8sTTe9HKNTY5ER9a2SB18CCyk6E7tDJ2jwgNhMaNwz3uB/aPV8mE30UELlIIhJQkp5+D2iae3BaXrF+/cQiigO7sYVKVnQA4yy5bJD7No5k2Vt8Y7uQeMquuwFx+JT0vJGMEaJpYFCy+FJqTQtgJ7OE1ZK97O42f3ANA9vp3IgwLPZWjz0nT6jXIpiwGCkmyKUu5ns4CoRvodhI920fYKOHXpsnbWWxTw/UjZio9lg36lBtdMiLODdOc9Et+rY10Ac1OEbltOnufiY+b7Ueq8ruXFWEnkJ1G/LOuphgKhUKhOB717qBQKBSKS5JG28MPQopZZ8kJca3pMlNt8+BT4wDYlo7rhTy+dZqVw1mKWZv0Ul24pGS60uHQdBPfD/k/397GbDV2f/TlHN64ZTnXbxzE9SOklCRsg1z6aB6KH0Q8vm2KHzx1hOlKZ9G+XT+Mw8ebcfaRZWp85F2buGJ133Hj6LkBza6PZWgUcg7ICL/XI3B7sQuh1+YNox5jN6V45Kn93FD9Ec69B3iTiHhTbm4nsVZEHegOriR7009jZvtBRqzuN+lPwYe0B9G6VaSdpn3Z20k/fwda5QDTRyY4OO2iCdhyWT/Up4maZczGOBJIrrvuhM+Nns5jFIbwyxMksn0kbJ2g0cQYWoVmnjw7Rmg6eipPUJkkffUbkWGADDxSl99E0KigJzIU0s6cmGcuCk9XnDnCtDHzg4SNEkFlEn0oTzFjMllxma11aPd8ak1vwQGlJ7Mv/Zh0AyM3gDfTxi8dBsDIDoCmPta+nGimg4wihBBKgFIoFArFkqh3B4VCoVBcMKSUNDs+Sefs3346PZ+EbZzQZSGlpFzvcXCqge9HjA6kGRtILQoW94OIiVKL53aVma11SToGH3zjOr509w627i/z2tIIubTFmhcJGGEkKde6HJxq0vNC/vaubZRqXXIpiyCMKNd7fOP7u7nn0QPces0Ya0ZzNNoe9bYbf2+57D5So9WJs3JsS2fLZYNcs6Ef2zLwvAgZSfwwoucFrB7NUcwuDszu1Su40wewG0cYah9Bb0wQtWsY6QKpXD96pg8900/XylE5vItrS9vYkj7anKMZOWiGSdIxCdGwbAvZnMWbOUjprr8kc/UbyFz9JhIZi5/Pf5t13Ul8DPQtH0KMXofceTfC63Dw0CRQZMNIgkxQI6hOohsGsjoBQOIkApQQArMwTNRpErYbCE2gJzKY2eOFtqXQExkCJgBJdsvb4uc98NEME81OomliSfFQceYIw8LIDQLb8MsTGCOb6EsbTFZcqo0eUSSpt1xG5wWoVO7kOzwfGCZGfhBv5sDCQ3phGKkrB9TLiTBMkBHCsJQApVAoFIolUe8OCoVCobggzJetjc+2STkGhfSZhQWHkWSq3GK63CGXdhjpT5J0Fk84oyg+xuGZFpahkUlaHJlp4vkBy4ez2HPh4KVah5lqlwefPgLALZtHuWptP5evKrL9QIXHt04xWEhiWy1kJHGDEM8PCUI516Uu4P/ctY1Ko0cx6/CbH7iaTMri8a2xs6nS6HH3IwdOeC75jM1t14yxcXWRhG2wfCgDEhqNJp3x3YjprVilXWgvNJGhj4gCiAJEFJCUEcdGpIdz3/1KF78yseg480k8UjPwhzZyX2UVM9ogv3C9TS+KCCUMj/Uhwh6NJ76Ne3gHzWfup7vvWazlG1nXfR6AL7Vfx8/2X04ilYSRTXDwSczZncDNXD8WQX2SrrRJtXYDErM4ilUYPunzqRkWZt8Y7uRuoiDCGViJOE0BQXdSCNNBei7Cjsv8Iq+HsBIIS3W4O59o5rwABV5lHNvQ6Zt77VabcaZZreWyYa4E78I4oEyMwtAxg9TRC0PQVgHkLydCn+uEJzRQApRCoVAolkC9OygUCoXiJSeKJBOzLY7MNEk4Js22T7nWolX3WOuHnKrnnB+EHJ5uMVVuk3RMZqpt6q0ew30pBgoJTEMnCCOOTDeZLLeREr7ywG7qLZcPv3MjM7UuXhCxYjiLJmCy3ObpnTO0uj59OYcbrxgmk7K45eoRth+o8NzuErddM4aUEl1oaLpA1+IvP4z4mzu3Um269OUcfu29VxJGkkbb5TWbhnjt1aM8u3uWh54Zp93zyaUssik7/p40GMiabBhL0Wp1MaM6IwYYzz9I7/B2jMk9pN3OKa6GQM/2YQ0sxx5ajTW6DiORpXPwefzSEcJ2Db86TdgoQ6af9uDVJFZeiRH6vDMzCJl+CANq1QaFBJiOIOqFFG79WbzJvdQe/RZBo0Sw9SEAHgi28Iy7gisnA64rgFx+LeLgk2wQB0maN3Hlmn6kiMU5u7yHELBXbIzdEKdAT+Uw8sNIr4uezp/OrRRfAcNET+UI6rNo8wJU4GLlB1XW03lGaAZmIRagwkYZjYj+uRdsrenS7MTuvkxi3gGVf+nHJARW/7KF341sP7qTgU73JT+24sQIY06A0g3VjVChUCgUS6IEKIVCoVC8pIRhxJHZFhOzLQ5NNfnuYwdZO5bnpk39zDZC9hxpsFaY5DP2kuJBp+dzaLpJpd6jkHEwDY10wqTT8zkw2aDSiIWoSqNHqdal2uzx5e/upNGOu6D99T88zz/74NU02h57DldJJUzKtS4PPxu7hV6/ZRlDhST9uQTLhzJcsbrI1v0Vfvz8JL/0jo2LxnJ4psnf3LmVWtNlIJ/g1993FVJKlg1miKK4BK/Z6nDFiMV1pachcJGjmyC3DCIfoi4yDGgecnHoka/tpH3wWaTXWziGMEyskXWk1l+PNbwGzXIQhoVm2vH3RHrJnCRraCXu9AGibhM9UwQp6XgR1UOzWL6Lnh+B3DBoOtKQ+Amd/IoCTtYhqM/izRzAHruMoQ/8Kxo/uZv2jsfQVl1LtXoVNCTP7Clz3aYRGLqMnnBIaT3eOlLFslbhegJLcwln9gKQXHvi8rtjiYWEsbht+xlOWPVkFr86hZQSpEQg0J3UGe1DcWqEbsRljckcUacO7QqD6fg6lxs9ZqpdpIScNueAuhAleIA1uGrhZyM3MOeEUwLUy4kwzFh80k0lQCkUCoViSZQApVAoFIqXjCCMODTVZLLU4plds9zzaNwyfbba5cntU1y+zGF4qMeuQ1XSSZNM0iZhGzi2jmPpdHoBh6YatLs+/bnEojympGPi2MaCsBRJybZ9Fe58eD9RJBnuSxJFMFPt8L/ueI7f+plrCMM4QPzRrdOxI2oow6ZVRfryCRzbIJOyeO3Vo2zdX+GpnTO87caVpBMmT+2c4bGtUxyZaQEwmHf4+E+tJerVGcrbDFoawu+RNZvUWk3c5x5GHHoUAHHwSaSZIOxfTzi8iY5wyMw8gzHxAl4UAKCnC9hjl+Gs2ERq/Wswcv1nPIHT7CT20Grc6QMEzQpGpogjfNK6R8vsJ5cfiUtjiMPOLVMn5ZgIEXeek6GPVzqMnsyRf+0HyN3wHprNNlfsqvDD/R12HKzQcwM0YfOsu4IbrV1scQ4B19LzQnLtwxAGaMkc9vDq0x63EBock8912ufrpNBMGxm4EEmEaaPZp/LSKc4Y3QBNw8wP4nbqhM0Kw+m4uLPR9ogiCUDBmBeg8hdmWKksWiJD1G3GApShMr9eboTQYsFcld8pFAqF4gSodwiFQqFQvCT0vIAj000mSm0eeOIwP9k5A8CNVwxTqnXZO17nhYNddo1v43XXjHHjpmGaHR8pJZoQWKZOGEmklPTlEgvuqDCMEJpAE/FXPm3T6fp8/fu7eWbXLABbNgzyT95yGT0v4C+/8Syz1S6fueNZ/vmHNiOAJ7ZNAfDG65ZRyDqkE3G5WD7t0J9PcMXqIvqRp3nkmwf5UXsVQRhPsnUNrhy1eN9mCzG7m1zSpM9PEcxqCE3D0Q0GbI/ZI0/GY+1bi1YfR/hdjMnnMCaf41jvktm/nNSGG7BHL8PsH8PM9p9W6dqJ0OwE9vAq3OmDBPUSQtcpLF9DpW4RScG8ftd1A3JpG8eOPwYIITCLI8goxC9PINIFhGFiRC7Do4MM5KeZrXXZur+MhuTJXixA5Rp7CMOQSEZY5b0EgD26Du0C5DBppo2WzBC26oDESBfP6doplkboBkKLu865E7sJ6iWKYytxLJ2eF7LnSB3gaBe8TOECjcvEHttAb/+z2KPrlQD1CkGzkwtCt0KhUCgUL0YJUAqFQqE4r4SRpFLvMVFqMVvr8K0H93FgsoEm4P2vX8f1G4fQdcH2/bPc9dBeZhsBDzx5mIeeHufKtX1suXyQ9csLyEhiGuBYBvW2y3O7Szyze5b943UkoOsCy9AxDY0gjOj0AjRN8NO3ruF1m0dpdHwiKflnH9zMX379GUr1Hp+54zkKGRsp4YrVRZb1WfQnJVGvhQxDHK9NojXOm5e1WVX7IbqQHBIOvdwIN6yyuW5VknTSpNYJSGTSjAzmsK2jTiUZRZS/9wWIAqyRtQx96JN4s4fpje/CndiNe2gr0ndxVmwifeXr0TPFuAxtaBVG+vxM3DUrgT20Ck830FNZzGQfSa9Cp+cvdIbzw4h8ZnEZnxAaVt8YhAFBbQZhJ7ESCSyjj01rfB58apxnds0SScmeYBhP2Fheh2BmP3ZhOdHkTgCcZZdfMDHASOUJGyWQsSNGcf4RugGajpHtByCoz2Ash2LaZKISsvNgFYD0XPmbcQZZXuc2LpPMNW8m95p3gZRIJT6+IjDzg4DKYVMoFArF0igBSqFQKC4Bmh2PmUoXUxeYph4HZusCQ9dIOgamcWHyOBptj8lym0q9S63h8vff20Wl0cOxdH7xHZczWEjiBSF+L6KYtXnHdTlCo8D3n55kstTm6V2zPL1rlpRjcM1lgwwUEjy/p8S+OdHpWMJQ0g0Dum78ezZl8cvv3sSywTSlRo9sWCX0fSI7xz979yr+5517KdW6lGpdNAFvWeWRbR/ELCfpVUDKCCElSekyHE6hi/iIHx/bivm66xGaNnetfSzbYmQgu0h8Amht+xH+7CGEYZG74b0Y6TyabiCQJJZfjnbLB5Ghj2YnCTtNQGINnj/xaR7NcrBH1i64xgbyCQ5MNUgnLTw/xDb0BdfXsQhNx+pfjoxCguo05uAKMkGGDctdHnxqnO0HK0gJERpBcTVWeQdMbSeTShD1WgjTxhpdizAvjACl2SmEbgESzUpckGO+2hCajtAN9DkByq9O4RgaxbTBRCUucTUJMPEB0NPFCzMu3UAzTGTgoTkp5Gl2UFS8tJxuJ0uFQqFQvDpRApRCoVBc5EgpmS63ma52MTWNkDiUGUCI2EGUS9vk0jbphIllnl8xSkpJ1w0o1XrMVDt03YAnt03xg6fHiSJJX87hZ99yGcVcgqFCgsFikiCUTM/WmJ0WjA4k+ehPbaLR8nl+7yxP7Zyl2fF4+LmJRcdZNZLlmvUDXLW2H8vS8YMQ34/wgwDfDxjJ6oSz+4h+/CzD5R3QnAVNp3HFB0lli/zzmy3+548Cqh3JjasdckmDQj6HmUqApsVZREBW9KjsfnjhuE7zCFF5PwyspdPzEcBIf5qkvfgtNKjP0vjJPQBkrnkzZmEIoenoqRxW/zLc6f3IuUDnsNsEGWENrcZ4iUqWjg10z2ds7JKO64X0vICkY5Cwl/4IIAwTa2BF3P0s20+yI+jLOQwWksxU4w59ywcSOGProbwDa3Y3ZjaNB1jDazASmYVr+VIjLAdhJ+MQc1sJUC8VwrQXnE1Rt4kWePSljz7H8+V3aDqak74wYzJM0AyibivOMFPdDxUKhUKheMWjBCiFQqG4yGm0PcoNl+Jch7hjiaSk5wbMVDpMlds4lkE2ZVPI2mRTFsZZhD9LKXH9kG4voN31qbddem6I64dMlzt866G9lOtxIPGm1UXeesNKRvqTjA6kyaePdrozRJrKjM3y5XncQMPQe9x67Rjveu1q9k/UeXLHDPVmj40rc2xeU6CYNqB8CPHwF2KBTdNjhU2IWG+rjaN57cWDjUJyzX3M5leS67f5/70zz87JHpeP2Ji6IJtLIV50DZKOQat+JD7XRB7RrSF2fp9OZgV+KBnrT5NNLnb4SBlR/dE3IAywR9bhrLwK7ZiObHq2H9N38UpHkHPladbQqpdMfHoxScckn3Eo1TuEkWRZLrNkx8F5NNNeCBJ3Qg9d17h6fT/fe/wQANdvGICCgTQcNL+Nv+cxAOyRdYvO+6VGCIGZ7SMKgwsmer0ame/AqKdyhO069Br0JfMLyzMifr1ricwFC6AWmh6LUCLOHQovyFEVCoVCoVCcC0qAUigUiosYKSWz1Q4gjxOfADQhSDomScckkhLXCynXusxUO6Qcg768Qy7tkHKMEwoSUSTpeQE9L6Tb82m0PTpugOdHCCS2aRCGEd999ABP7YxDwHNpi7fesJIr1/Yx3JdksJBacnyGHoeIJ5NJiimDqekqtdI0Y5bPZdfoiNAC2YJuE5oe4idfRbQrx+1nYeS6gT2yjuRlr0G3U5Tu/is48hz59W+g3nHJp21uWJum0ugxmE8tKcCZ0kNrxYHpcvN74YmvIOqTyKkdjGzcQiFrH7dNe/sjeNP7EYZF/nUfAhmhmUfXWwj5DjzCdh1rYAVG5sKUKs3Tl3OYrXUwdI3UEuV3J8KxdCxT54pVRb73+CE0TXDt5UPQ6OIVVmPPbkcGPggNa3jVBQ+DNnIDF/R4r0aEYSKjCCM/RNiuI9tVBo8VoOYDyBPpkwqb55u445qpAsgVCoVCobhIUAKUQqFQXMTMu5+yyeNFkXlaXZ/xmSZHZluMz7SYKncoZG2uWtvPypEMCbtDNmWRTcWTOClBIpGRJAgjmh0f1wvxgthjYJk6jmmQTWoIIag0evyPrz1Dve0hgBuvHOaWzWOM9qcYHUgvmTUUH0dC4BI2SvSqLqbbYVR6ZPUe1WaPWiBIJhLYth27nSa3IdoVpOkgt/wMeG3CTgO/2yZpCTIDQ2TWX4/Zvww9kSb0etR+fAdBfZZseRtucTPtboBpaNimTja19DXzZw4ikIR2FpEfIxjdjHn4STKHH6Zw/Y3Hr1+ZpPHkdwDIXv8u9FSesF07LgdpPl8pyg2gJzKnfG7PN5mURSYZPxcvLh88Gaah41g6hZzDh9+xEcfWyaSThC0Lvy8WoACs4dUYicwi4U1xaSA0AyHAyA/hju8iapUZLKxeWF40YweUnrywQfCa5aAZFpppoSxQCoVCoVC88lEClEKhUFykzLufpDze/TRRavH41ime21Oi2nSP23ay3Gbb/gpJ22Dz+gE2rS4yWExy1LwgEAI0BJapkXAMsrp1nLuh3fP57D88T73tMZBP8O7XrmDtSJqRvIWx6x7qP9iK9vqfw+5fHpfLzXmVIq+LV5rAqB7Bc3y0ZBrNsjHtHMVskUwQUWn0qNR7dHsRGdHG2P1gfN4b3gQb3kDPDWi2e4xmBYNpiWkn0DOFhVIszTBJbriRxuN34e56lMF33sSR2TZu12OomDwuQHwed2ofAGFuGV6oE/RvIj/1ArIxS+/AsyTXbllYt3twK9UHv4IMfKzhNaQ23oQM/Lh1/RKuDGGY6C9Tty5dEwz3pQgjiaadmUslk7SotT22XD648FgHC6e4DGE6SL+HM7oedEu5US5B4rI6gZGPn/+wUSIzDElbp+OG9FseANoFFqCEbiKsRHzPhd4FPbZCoVAoFIozRwlQCoVCcZHSaHtUGu6Cc6nT83lq5wyPb5vm8HRz0br9OYexwQzLBtLkMzaHZ5o8u2uWetvjkRcmeeSFSYb7krz+2mVsuXwQ6zS65vlBxN/cuZXpSods0uCXXmOzKlcl707S/vY/0p6J84Kmv/7HFG792aPtuYVARiGEEqlbEEVU7v8CWiJN8fW/gLATmIbGUDFJJmlSqncJnrgLEXjIzCCsuYlOz6fjBqwYyTHSn15SUBGaTvKyG2g+8z3CVgW7speB/GpqrR7Z9IldOu5kLEDRt5xOaDBczJG66g00n7qHxlP3kli9GYSg+ewDNJ+6F4jDt4tv+jBCaESBjzBemUJMX+7sgroTjsGL2xB6mAxmEyRe8066B7fhrNw0VxKlPlpcagjdAE1g5mIBKqjPYGlQzFh03C59Rhci0JO5CzouzU5ipHNz95wSoBQKhUKheKWjPiUqFArFRci8+ymSEsvQ+eEz49z50F6CMFYJNE1wxeo+btg4yNrlhYWOZ82ORxRJNq4ucsvVoxyYqLN1f4Vt+ytMlTt89Xu7+M7D+3jTxiQ3joYkNB9WvQa0xW8XkZR8+bs72Ddex7F0fmGLyYYhk0R7nPqj30K6HdBNjHSeoD5L9aGv0f+OX8csjoAEoWmEvR5G/WnqT30VgnjyWLr7r+l7+6+hJ+JOWknHZKByiMrMNiTQXHYzkafhayErhzMM96VOmjmjJ7MkVm+ms/MxWtt+RP/bN5JyjBOWoEV+D788DkBm2XoSg/0Uel2M4dfS3vYjwmaF9raHcWcO0jvwPACpTbeQu+GnEFos2snQR09lL2gWzkuNYxnouiAIIwxdw/NDTMshYVgkh28gdfnNBI3yBQ0gV1xAdAOhGeiZPgCiTgNdehTSJkdKkNPmBKi5TnkXCs1OoKnuhwqFQqFQXDQoAUqhUCguQo51P/XcgLt+tI8glIz0p7hx0zDXrcuTli3olKDRBCdDN9TwI5NVI2nSYYO2O8tocoZrx8q46QqN0gxaq0SfqGMfCOBAfKzJQ4fJvfYDONbRt4y7frSPZ3bPomuCn78pz+pMC33/o9S2PwzEWTHFN/0S9vAapv7+j/ArE5Tu/iz97/g1rP7lSCnpvPAgiZ33A2ANrSZozMbrfed/0f+OX0dP5ZFRSOPRfwAgcdmNGGMrqVs2y0azDOQTpxR5NMsmseZaOruewJvcS1SbJl0cOeH63vRBkBF6KkffsmVYA0V6h6YQmkZm85uoP/aP1B+/a27nOvnXvp/UZTcs2oeMQjQ7eQbP5isf29KxTR3PDzF0jXbPJ5tN40R1ZOAhrAQgVf7TJUrsgDLQhFjohKd1a1y3aiUdX9AnehCAkcq/3ENVKBQKhULxCkYJUAqF4oIThhGNjkch47zcQ3lZ8PyQrhsQSUkUSaIodhRJGWfz6JpA00Q82dM1bFPDPKYkTkrJbK274H56dMckfhAxWEjyiX+yCdGtQesABC4YDngtvGYF3w0ZSQvaf/u3tPyjuVD23FcWYC5KKkSjFdnktC69fT/h///cMKtGsmxYUSCMJN//yREAfv62UVaaMyR23UenHJfcpTa+ltSm15JYcQV6Mkv/e/45pbs+g18ep3TP5+h780do73iM7v5nEYC9/gb6bnk/QbNC+Z7PEdRnmf12LEJ1D20jqE2jOSny174FgKHhQZz06Qk8QjfRU1mclVfQO/A8rW0PU3jdh064/nz+kzmwYq67lgm6gQx9UpffROuFHxK2a3G54Js+gj20aunjGpeWEGPocQ5Yo+mRsCV+ENFXyCGaDtLrIg0LhHZc8Lri0kBoOkLXkYG/0AlPdOusyEk+9p4NWP/YAUBTApRCoVAoFIqToAQohUJxwZmpdmL3TtJC17VTb3AJUW32ODjVpNlyMRaCw+PAbykXh+wIYiHKNDQStkE6YZJwDKSESr0XZz9FIU9snQTgNasTiNm9EPhgJyAVl8v4YUTL8xgaTeBM/ISm74JuYKSL6KksWjKLnszhW1lKog+tbzlO3wjVAxPkHv5DVukl0rLNvnHJvvH6wvjefdMyriy0kdU6snwIYZgU3/hLGLlBjFw/2lynN7t/OYU3/AK1h76GN3OQ0t2fnTtBje7qm+h7zTsQmo6ZG6D/3b9J6Z7PETZKzH77fyHnhLLs9e9CGBZSRtiJ0xcuhWEhNI3UxpvpHXiezt6nyF7/TvQTlIp5cwKU1b8s3lZoaHaSqF1DOCmKb/4I3X3PkL7idehLTLZlGKDpRtyV6xIjm7Qo13q4Xohj66STJlqQxu80kKEfC3bKAXXJIkwb6XUXOuHRrqBlPALXw/ZiAUo5oBQKhUKhUJwMJUApFIoLSqvrM1lqn3EXrosdP4iYKrd5bvcsX753J6ah8S9+bgvpxIk7osk5h5QXRLR7PtWWC1FEZvs/4hg21urNlKpd9k02EcD1gy7oKXAyC/sIQ0lzrkPdQCFF7en9AORv+mmKb/iF446plVocmGygS40Va1cit44hauN84poZnrNfw85SxIHJJls2DPDmtTqNUptCM3Y+OSuvwhpeE09ScwML5XGak8LsGyV38/upP34n3uReNCdF+nU/S6MtkTIiaFYRpoWRLjDw7t+kdM/nCaqxsGYOrCC5/jqibhtxhiHXwjARmoHZtwyzbxS/PEFn5+NkNr/xuHUj38ObPRwfs285woiPo1kJwkYZiIUpq3/ZiZ+zwAfdfEUGkJ8r810D2z2f/nwSxzIIrAQQxZ3/TBuhvzwd/hQvPZppE4YhZmEIgKhVxiDCb1URUQCAnim8nENUKBQKhULxCkcJUAqF4oIRRpKpUotmxyeXPvsJuh+EVJtuXKom5srVNBGXCZ0gXPrlpNXxODzdZPfhGl+5dyetrg/At364l198++Un3E4Iga4LEseeV/kQ2p7vITUdObqOJw/F4d3rRxzyA32Ltg9DSb3tUsw5DPUl0YgWOrwlVl215DGHiilcL2Si1KY/l0AbuwpRGyfTPsJrV1/NazeNQfZKaFcIZvaBk0FMxgHhyTWbCTsNzOIIeiKzaL9mtp+wUab4+p/HndyLPbwGX7dh316iZhUt30/YbaI7KfREhoF3fZzy/X+HX5kk/9oPIIQWh3s7xTO69kI3wTAhCklteh21h75Ge8ePSV9120Jo+DzezNH8Jz2dQ8wFr8e5RnKJvR+PDH00O3lJdoJzLAPL0HCDkEI2djoJ0wKhI30XPVO8pILXFYuJHYgSMz8nQDVm0URE1IzFWXQDzVYh9AqFQqFQKE7MpfcJWaFQvGKp1HvM1uZKx86Bcr3HvvE683NdIeJyNcvUWbssf877P5/MVrscmm4wUWoviE/FrEOl0ePJ7dNs2TDIxlUnFlW6brBYVJvdA4CIQiIpefJAXKL2mjWLJ37z4lM+YzNcTKFrGt7MIaTfQ5g21si6JY+naYKxwTRdN6Dc7DGw7BrYeg9UDoImoD4ZX/DmLJ1AJydnkb0Wwkpg9i8HGWFm+4/fr51Ez/bjlydIrr0WAK/dQnNbaOnVGLl+wl4TKSVCCDQ7ycC7fiN21hixq0bKCM08s9wwIQSalSBq10iu3kzjiW8TtuvUH7+L3PXvWtg3HFN+N7wGIcSCQBW7mQRSRghx8pJRGfhouUtzEm6bOqapo+uCTDK+bvOup7DXQrNenZlurxaEboAAIz8IQNRtogddZKcLgO6kELp+sl0oFAqFQqF4lXPW4SsPPvgg/+2//Td+93d/l8OHD3PvvfcyPj5+PsemUCheoUgp6bnBGW3T8wImSi0cU8c4h9ynIIyYrXVJWAYD+SQD+ST9uSSFrIPrBVQb3bPe9/kmiiSTpRYzlQ5f/u4OWl2f4b4kv/Uzm3nNpthF8PX7d+E2KlA9AqWDEEUL29/72EH+7f96mDu+v3vhMVHev/Dz5OQM5VaAbQiuWn40lNsPowXn09hAGnMua8qdiPdjDa0+aUaRaeisGM6SsHTq5gAykUdEIVTHQdOgMUXodohMB3t2FwCJVVcSeT30bD/aCfKVzGw/mmkRuV1k4BO2a4RODnNgBXoyg6abyNBftM2xAtFSv58OmpVAhiHCMMlsfhMA7W0PM/0Pf4Y7uWdhvfkAcmtoFQgN5gUo00IYJjI4jXteyktWiNG0WHgqZhMLofiaYSFMG80w0S6x4HXFYoRpIzQNYVjoqRwAlltH89oAaE7mOFehQqFQKBQKxbGc8Syw2+3yq7/6q3z84x/njjvu4J577qHRaPCVr3yFD3zgA+zevfvUO1EoFBctQRhxeLrF3vE6nh+e1jZSSqZKbTo9n3Ty3DJi6i2XVscn9aLspCiKnTPlRo+ed2bi2EtFEEZMTVf4wre30er4jPQl+OW3rWHNoMM7rimQTxlUmy7feXAHNGehUwa3CcA9jxzg7kcOIIEfPTvB83tLEHixCDTHkcMzAGxemcQ24z/nXhDR6sSZT6P9qUViX29OgLJH151yophKmKwczoJh4RbXACCmd8X5UppOV0+TtA2CI1sBcJZdjmbamLnj3U/zaHYCIzdA2G0SdOoYhWGizECc02TaYNpxhtISyChcmPyeKZppwVzAe/qKWym++SNoySxho0zp7s9SfejrhJ063mycZWUPrlro+gUs6oR3MqSMQIhLrgPesYz0pxjpX9yBUEuk48D2SzB4XXEUzbQQuoX0PYy5Mjy9V8XwWvHyRHpBtFUoFAqFQqFYijMuwfuzP/sztm7dyt/+7d9y/fXXc+WVVwLwJ3/yJ/zar/0a//2//3f+5//8n+d9oAqF4uWn0/M5PN1iptqm3vRYNZrFMk894ai1XKarXbIp+5wyYqJIUqr1qDS6/OiZcapNl3rLpdp0aXU8JPCm65ezbCCDU3z5KoxlFBJ1W0wfmeBvvr2bticZzWl85IoeK6qPE03X6IsSvOfyQb74E3hor8+W9X2sTPeQzVnuebrCvY/HYsiKoQyHppt87Xu7WPXBdWSbMwvHaVXKwDJesyYNgOuFdNyAwUKKgUIC/Zig98j34owjwFm24bTOo5B1WLeyj6mJTTD+FMzshihEmgm8nkt/MIHnttGcFHp+KO58ZyVOuk8j20/YbqCnc/h2DmbjyasQGrqTImiUgOMdVDL0EZp5Vg4ooZsw12VQCEFi5ZXYI2tpPHkP7R2P0Nn9BN39z0IUoiUyaOk8hOFCBlTcCS9B1K6f9DgyCObEtEtXiHGs419Xup0gspxLMnhdcRShm/HroNda6ISndeuYfvweoCczKgNMoVAoFArFSTnjGdrdd9/N7/3e73HTTTcRhkfdD4ODg/zmb/4mf/iHf3heB6hQKF5+pJRUGj0OTzfp9nzu/vEBnt9bJowifvr1S2cJzeMHEROzLTQRZ8icC62uT63l8u2HD3B4urnkOoemmszWOvTlFwsw55PWth/R3f8c1tAq7JF16MnsouVBq0bUbbD9+Ulu0Z5jXa7M2kQV44UWPuATZ1atueFjXL/G4sl9bb76aJnfe8cg9z41y3074mDx9966hls3j/Hnf/8UE6U2dz6wlV/yj5YY5mhSSOmsGbJx/ZCuFzBcTNKfTxzXZdCb3h8LLMksRnH0tM81l7bRr7yOmWf+H8Lr0BrfAwNrcGwd7cA2IO5+p2kampM+5f40y8EeXYswLILu4nJJzUkiq0u71xbEnbPoshZvZ0AUgn60s13+te8nseYaag/fQVCPhT17eA1CSqSmwTF5NpqVJGxUTnocGfpgnJ1IdjGjJTKYQlflV68CNCdN2KotdMKT7Qq6iB1x2ov+DioUCoVCoVC8mDMWoBqNBmNjY0suy+VydDqdcx6UQqG48PS8gK4bEEUSTYg4hFnEuS+1pstEqY2hCx7fNsPze+OuR9PVU+ct1ZoujZZHX+7kzpjToVLv0mi7C+LT+25bSzHnkM/YlKpd/u7u7TQ7Hs2OT7Ptkc+8NKVQpbs/R9RrLfyup4tYA8sxB5Zh9i0jbFbo7n+WteO7WDdfreTNrZvpQwYeUbdJorSTd19zE9vHu0zWfP77vbMcqcQr/vSta3jDdcsB+MW3X86ffeUp6jNTcMwcr09r8ppVaTQh6LoBfbkEA4XEki6EhfynwZXoZ5hR5KRSJMbW0d3/HMnaXiq5FYwUHNxDc+V3KzYhDOu0s4/irnJLPe7E3e6WCPuWYYCeODuHhTBM0AxkGBzXnc4eXs3g+/4FzWcfoLP3aVIbbozL/Qx70RjiMUecDBn4GOnCKYPKLzU00z7hc6q4tNAsB8nRTniyWUZPxOWteir/Mo5MoVAoFArFxcAZC1Dr16/nzjvv5HWve91xyx544AHWr19/XgamUCjOD103YLLUxjY1TFPHNDRMQ8fQBK4f0un51FsenZ6P50cLpUoggFiMCiNJNmXx3O4S33vi0MK+g/DkE3KAQ9MN9k826M+fmwDV6fmUGz2OTMfCz4qhDK/fsixeKCWOV+N9iSd5qnMZQlxJud57SQQoKaMF8UnP9hE2yoStCt1WLDodiwC2+yPUUmt4y60bSRX6QEb0Dm2j8cS3sWdeIFh5Ix94TZEv/qi0ID6972qb12/KIaWk0fEY6kvxri19NF+IBR/fymJ6Dfr0FtevSSGlREpJKmGeUKBxJ+KwbWtgZRwkfgYI08IevYzu/ucwS7tZ/pr3YlX20fC6sfulMIIwnTjH6RwQpj0X9u0fv68wQHOSS294KjRjYb9LHlc3yG55G9ktb4sP1a4dV0YXl5ctLY7NI6Pw7MeoUFwEzAeRa5k+AGSviabFjj9DCVAKhUKhUChOwRkLUL/5m7/Jb/3Wb1Gr1XjjG9+IEIInnniC//f//h9///d/z6c//emXYpwKxVkjpWSy3KaQcRa3s79IaHV9yrUOy4eyx5VVnQ6eHzJdaSMQyLnHdE2g6wI/iJASLEPDtnQySes4ASOSEgHsHa/ztfvjjmfphEmr6+OfRgj5//jq01QaLs/smuVDb1pPMXt2HcJqTRfXC9l1qArAFctT0CqB1yHqtSk+/XXemDhIwnUxxNuoNXt0ekmSzvkth5Keu/Dz2K/eTlCbprPvGdzJvQTlCfzqFJrlkLzsNXy3uoqvPSe5bcQhlc/FIdzZfsz8II2f3IPWKhHWp7h21XKeO5zk+UMdfvq6AretDKFdoYuD70e0ww5vWAW79tdAwqPNMW61G+S0LpkUuEGEZeg41tIlUGG3hV+ZAMAaWrmQbXS6CMOKg8sNi6jTIOOXaB16HoDE6qshCtBT2XPOf4mDrB1k4MKLBSjBWZXfAQgh0OwEgXt6HRJlFB2XZyTmSutkGJw460hGl3QAuUIxH0QuNB09lSNs1xGduDRVT+df3sEpFAqFQqF4xXPGs/G3vOUt3H777Xz605/mwQcfBOCP//iP6evr4z/9p//EO97xjvM+SIXiXPCCiJlKB8+PWDVycWVUuH7Iwck6QShZNjjvSjpzBCxyIIVhRBBJMgntlKKWJgQz1Q7/586thJFk8/oBMkmTHz07QRDKk24L0GjHrpPtByr8yRef4N23rOG6ywdPuZ2UEUQRMgrx3R6liWnsbptdB+PJzrpEjdaRGiFg1g+Trs4FbAuftutjGBr1lnveBajInSszFhp6MouRymENrCBoVQnqs0SdOmixE6nyUA3okUo6OKPrY5FGNwm7TeyRdbjjO7FntiGHlvPLt/bT8SJStg5hAN0anTBJYXCA2tQEWuRyWbIBbdjpDXG9uYeE5kOnhqflSSaNE2ZsuZOx+8kojKA76TPO6hGGhWYnsUbW4h7eTnffs/Tmyu8Sq65GItGsc3f+CCHQEmmCShOOMcxJGQHinEKuNSsRX9fTQUZoL8pxEqYVd8ILfFhiHDIM0HQj7rinUFyivDiIPDwmmF9PF17GkSkUCoVCobgYOCs7yHve8x7e8573sG/fPmq1GtlsljVr1qCdYVmHQnEh6LkBPTekHHbpzydIJy6OgOAwjDg83aRc75FNnd2kVkrJ331nGw8+NU4+Y9OXcyhmj34NFZMM5BPo+olfu+2ez+e/9QIdN2DlcIb33rqax16YiscYnVqAiqK4TG+0P8VEqc03f7CHPVt38sHhA5R3JdBME7S5AOOF79qi3zsijV/tMd7S8UJJ1tEYHMiTSds4hsR74asL7i6TkFrTZcVQhlKty0AhiXGS8ztTIi920Wj20awlzXKwiiMYmSJBqxaHfZsWrrEL6JEq9GFk+xb2IQyLxJrNcwLUdlzvzdiOGYtPALqB74fYok4uNUrLaxBGEqMbZ2+NhwUqUZoxrQqdKkEySzZ54ntkvvzOHl0LmlgI4j5dhBBoThJ7dB3u4e20tj0MUYieymP0jYDnotln52x7MbqdJGDxfRW7js4t3DvuhHfq+/Xo+ouvkRAamuUQdZYOv5ehD/ql3QFPoYCjQeTznfDm0ZP5l29QCoVCoVAoLgrOWID6yEc+wn/8j/+RtWvXsmbNmkXLduzYwSc+8QnuvPPO8zZAheJccb2QCIkfhMxWO6Sccy8VOlM8P8Q0tNM+rpSSyVKb2WqHzEmEhVPxhW9v497H4sym6UqH6crxTQJ0XTBUSDLcl2KkL4VEUmm4VBpdKg2XaqNHGEkKGZtf/akr6AUhyTkR71QZUFJK5jWqj7/3cp7fNcX3H9/LB727KIx3aI2f3nlI08HY/HNsK8XXYv2wTSGXZLgvSf2J7+B2jv4X3hAhM02Xy1cWKTd6NNreWZf9LUXk9YA5R82L0Ewba647FEA3iIO/E86Lyrl0A3vsMoSVQPNaBLP7sZdftmidNjZF0aVAk6rs4XXbmFGI1E3edvM6MkeegWYV2a6hpVfhnKC8VEq5EEBuD69BaMZZdSvT7CTW4GoQWtxNjrnyuyBAWOee/zSPMG0QWhwEPj/OMADdODcByjA5VYbTPBJAHH+NNDtF2Kwuvc38dTjLMkGF4mJhIYj8mL91QjfRVf6ZQqFQKBSKU3BaAtSTTz45F0oMjz/+OE888QSVyvHtqL///e9z+PDh8ztCheIcaXV9DE0jlTAp1Xr05xPnJOqcCVEkma60ma50SCdM+nIJsinrpI4jgHK9x3ipRSZp8eyuEk/smOKTH76ekf5Tt7mf5xsP7OaO78fOl7fdsILVYzkqjR7VRo9yPf6aqrTx/IiJUpuJUvuE+8qnbX79p69C1zWSulhwkUWncEAd65CSM3u5pd/jppGHMJsdZsIMcngTawYMIreD9F1k4CGDABkGyCiAKCTstsHrkH7mK9Q7bwWKrB+ySdg6fnWa1gs/BOJSsO6B5xYcUJomMDRBqdalkLHPm+go50rwhH3qUPWOG5d8JezFYobQdHQnjbNiI909T2FOvQDHCFBhKBGGRTrhI7sN0ragMlOKF6b6uXHTIKJVgOZ+wlYZZ7mOc4Lyu7BZIWxVQdMx+5eD0BD6mQtQcRmegz28ZqGkL7F6M9J30TPF89b5TTNthGEhAw8xJ/LJ0EdzMmclnB0dvxm7msIQjBOPVUqJQCx5jeJOb0vf8zL00Z2+JZcpFJcS80HkRrZ/4THNScE5vD4VCoVCoVC8OjgtAerrX/863/rWt+basgv+83/+z8etMy9Q/dRP/dT5HaFCcQ6EkaTe7PHk9mmuuWwATRMLYtBL7YLyg4jxmSaT5Q4JS6dSdynVu6QTFgOFJLm0hWMd/xJsdjwOTTWwDJ0Dkw2+dv9OIglPbJvmvbedngD13UcP8IVvbwPg59+2gTWjWfrzx/93OpKSWsNlotxiqtRhqtJGCEFf1qGYtSlmTPpSBrmEhiZdyqVZRgsGRqc2d44nDyE/1iEVSoHY/zhmcxIPk88138Rbb76Rm9+6Ie7iFvpI30P6LpHvEvXaRF6P0kyJ3qPfwGhN8UvGd/ms9VbWDA1jGBq1H34TZIQ9dhnOms10DzyHISKqzdillEqa1Fse7V5w3kov50vwpH5qV1XPm3MK2ccfW7MTOMtiAcou78bzXEwrdhG1ez7phEkqlyZolEhmMjTbcwJUZgB0E5nIxolgnRqZpHXCLK9595M1uCIWYDQNzjCEHGLxRdN0nOUbcSf3oKeLmP3LCJpldCd1xvs7EcIw41I3tw3zAlQQoJ2G4HfS/epmnOE0V853QmSEmC8BPW5sFiCWdlHJCN06f047heKVSiwS2+ipo5lP2llkyykUCoVCoXj1cVqzkH/37/4dH/zgB5FS8su//Mv8h//wH1i3bt2idTRNI5vNsn79+pdkoArF2eB6AU/vmuXuRw7wyPOT/Iufv5ZyvcdAPkEu/dJ1q+q6AYemmpTrXfIZG8uIP5iHkaTd9dl7pIZj6/TlEjiWgSbirnQCmCi1CAJJ1/P5229vWyhh84OTl7vN8/CzE3zmG88C8KE3refdt6xmx8Eqs/UuhiYwdA1D1zB1DcPQKOYcihmDK5clwU9D4EHggt+AKIBuCO0A14tIyIi0zKPLWFiZz3c6EeExIeXWzDbE4aeQwI/Tb2GmkiOYOych5gKmDQsSR0U2GQboYoLWZe8k2vpdiu4Ev5m+j7DXhzx8EG9qH0I3yVz9JjDiP2fzDigAy9Cphx6dOUHnfDAvQPni1C46d0GAWtpNY/aNomeKhM0K0fgOWL2ZMJILJY+GbSP1PnTNwOzGApTMDMYZTnN5K1qvRtI58Z/y3nz53eh6iKJ48ngW4uv885NYvZmwXcNZsQnCAE2PBaPziZbILAo3BjnnPjp7hG7Ezqq5EsoTIaMwdnIskZN1ok54MgxAnFtIukJxsSB0A81KEEXBQic8LZGKxW2FQqFQKBSKk3BaAlQmk+GGG24A4O/+7u/YtGkT6fTplwIpFOdCFEnK9R4JWyd9hqVzrhcyVYlLy2otlzsf2sc7X7uK6UpnSdeI54d4fkjqHBxS9ZbLoekmzbZHXy6BfswxdE2QTVlkkiY9N2Sy1EbKuEtd3ONOghDomuBz33p+QcAACE8h9gA8vXOGP/2/TxJJePtNK/nIuzYSRpK1Yzk8P6TrBnR7HoHXpdfrQdAjZwRofg9CF+a6jTEXAI5mgGGDptOJXIaKKZKFJIY1E4/pFF3w5kvw1hjTZPbdD4BcfRMz3Q1A5ZSimtANSGSRdpr/676Zd/j3st6cRj79VZpmLCilr3kzWiq74EgxREh1ToBi/pqefvb0KYncWIAKdIsgjE4YcB5GEs+fF6CWEjMshBAk1l5L65n70adegNWb6bkBSccgnTTn1jMRgN6KrznZofh5SeQB0Ht1HGtp54GMItzJvUAsQMkoPGuRROgGmmkTRR1yN74nPsduC0wbcb4FqLmMGTjqrj0f4o5mOQS91slXisK4THFJB5R5XCe8yPcIO3XM/GBchqRQvArQnBRhs7LQCe9cS2QVCoVCoVC8OjjjOowbbriBZrPJfffdR6fTWZgcHMv73ve+8zE2xSVCEEa0uz6OfeI28Sfbdny2xeRsC8vSWTGUpS/nnLY41HUDKo2jYsRPdsxw+coijEG97VLIxBNnPwipNFymym1cP2Qwn2BkIH3C8ba7PrPVDl03dj5ALCJBXD4VhZKBfNwlLQgjjkw3WT6UWch+EkKQcAwSSzhXel7AX3ztGeotj8FCkqFiguf3lgmCxa+1sNPEL4/jlY7gl4/gzh4h3LOHf58JwE4z7A0z8w8PoCXS6IkshTWb6bMSRGEbP3Lp6V0qrS4NNyKRTGInMifM8HD9EFPXyaXjSfe8qHaqLnhhGJHX2vxq+kGEjAgHL0OsuQVjt7Fw3U+F0A2aIs3eSp2/5s18atWPSDQOEYUeRm6Q1IYbIQoXRBBThNSbLpGUaEIgYwnqvCHnHFChZuP54QkFqCiKcOcEqKUcSvOZRMlVm2k9cz9mZT9Bt4XrGwwWk+jHuAnCXht6cfe1MDuKjoBELhYtQx/N74Jx/D8F/MoE0u0gTBurfxlhq3ZOXdo0J7XImSQDDyNTOG/5TwvHmSv3k2GcoSXOMYB8Yb92Ahme/J6TUQS6vuRrQWj6ok54kdslctuYfWNYfaNqAq541aBZDlKANbgSd3wXRn5QZUApFAqFQqE4JWcsQD300EP8zu/8Dr1eb0nxSQihBCgFYRjR6vo02h6VRo9uL6A/77B6LL/IEXQyPD/k0HSTmUqHfNrG9UP2jtfo9NKMDqROOPE/lmbXXyjHWjWS5cBkg2/+YA+//r6rmK50SDkmtZbLdKVDs+2RtA1StslEuU2z4zE6kKaQcRacUj0vYLbaZabawfOjJQUqU9dIpuLJcqvr87//8QUOTDZYMZThw+/cSH/+xFk2YST5wre3MVFqk06afOx9V/LA4we5zJhgcKrE7HcexC8fwSsdIeo0jtu+OH9J/C69A7OLltV+9HWsodUk112Hs/JKsukMqb448Hy21sXtBKRNN+7u9iKBr9vzF8oFAXK1nfxB9kEe8d5y0usfRpJfTD1MRusRZQbprXodiXQR3YiDvP1TdNGbZ9ds7IcZLCToXv0BMvvuIZzdT/6WD8yJTwk0O864MggJI0mz45FLxaHRS/2tOlvmHVChbuN6IUlnaWEkDOWCALVUBpQwTNAM9HQOo385Qekw3sHncFa/5riQ/KA6CYB0snS1JGmhgWYSWWl0r0XYLKMnjhegFrrfjaxFaHocsL1EadnpolkOHHMtZRSh2+ff9SMsBwwbGXjxvaidHwFK6NZRpfhEROFJyxTnO+GF3RYy8DAHVmIWBs+7CKdQvJKZF4nTV9waC7DDay54d1mFQqFQKBQXH2c8E/n0pz/NmjVr+Nf/+l8zNDSEpmr+FccQhBHT5TaVRo+OGyAjScI2yaYtZqpdUgnztDq5dd2Ag1MNKvUexayDoWtYpo7rhRyZadL1ApYPpk84+Yc4M6nTjQUwgH/ylsv4yr07OTzd5Ds/3s/PvHkdu4KIRtvDsQz68wk0IYikZCCXoNHx2H24xmAhyWAhQbPjMV3p0OkFZJLWnLhxYmaqHT73D89TqsfHPzTd5E+//BN+5k3rue7yoePWd72Qrz+wix0Hq5iGxq+/90ryaZura/ezMfsUjENzfPE2erYfq38Ms28ZfnqIP/nWOD4Gt3/sWsJuk6jTIGzX6ex7Bm9qH970frzp/Wg/uZvE6s0gBEazQl+jTNiqIkKfMD1E95p/grRTcWmgBE3TyWfi83Wn9jO079sII2RlsO+k1yAII1YZsRCmbf4pvMAmkchh6PE18f3TE6B2T8Wiz+WDOoblkH/zL2NpsZji10tYheGFyY8pYtGn1nRP+RydDfMZUIFmLwhMSxGE0dESvKUcULo51+3NJbVuC/XSYczpraSuuhXzRV3a/MoUAFq2HzcSpIXAjyJ0Jwdei6BZwRpcedwx3On9ANjDa+JjChBnEUC+MGbDAhGHcBNFaLp+3vOfYM5p5CSJ2jXQdIRhxyHi57pfw0AIDRnFQeNLIaPopC4xzbSRkY+QJvbwGoys6nynePUhTDsuQ5USq28M7RyclQqFQqFQKF49nPFMZO/evXzmM5/h+uuvfynGo7iICedKzSZKbZK2QT7tLHI7pRMmE7Ntko550gDwVsfjwGSDZsejP5dYlNNkWzp9RoJKvYvrBawYyi4IIy/G9eLyOz+IEAIG8gl+6e2X86df/gm7D9d4dneZ12waoj+XwPVCfvzcBI88P0ml0ePn37aBq9cN4AcR05UO1UYP14/dLgP5BKVal8/+w/NYpsbNV45y1dq+hfI6gL1HavzNnVvpuAHFrMM/efN67n38EPvG63zpnh3sOFjlg29ct+Aoen5Pif/3gz3UWi4C+PA7NzI6kKbc6DESHAGgmlrF6s1bMPuXYfUvw+wbjd1Kc8xUOuy94z4sQyO59tpF1yJ343to73qc3qFtdPY+TdRp0N7+40XrzF9lvTVN8pm/x3vNLyLNJFJCNmWQsA2CZoXKA3+HmAshF/LkAlIUSXTidRxLJ9QyYCUw9PhopxOsHoQR+ybisq8NfRLL1LAMDSHmu5EJdDsZh0dzVICqNl1WDsdndh4NUAsCVKRbtLoesLQDqOeFC8dNnSAkXLMTBG6bxOrN1B+7E6s1RSqsAYs7FvqV2AFl5gfRDZMglLiBJJXMQWOcsFk5bt9SRnjTBwGwhlfHj8E5lckI045DuIMAGfovSf7TPLqTIqiXELpET+XPyz6FYSHmO+FpJ5gwnyInS5g2erqIVRxFT+XOy7gUiouNhSDybjP+O3weBGKFQqFQKBSXPmcsQI2OjtJqnSLEVfGqI4wkh+fEp0LGOc7BAZB0TCqNHkdmmiRsA+tF5WtSSiqNHoenm7h+SH8usaSlX9cE/bkE9ZbH3iM1Vo1m6csdX9bW80Jma3Gp17yLarCY5L23ruGO7+/h3kcP0pd12HGwwtO7ZheJIX971zbe9/q13HbtMgbysUCVSVloQrB3fE5c6sX5NLsO1cgkLW66cpibrxxhz3idr963kzCSrBzO8PHNXZJP/jHrr/sQ9w72c+8zJZ7cPs2BIxXed0M/j+5zeWF/LCD05Rx+5k3rWTuWp9LoMZh3kEEZgK3DP8V1b3zjCZ+DYC6kXF+iNFFPZrGXbUB30mS2vA1vYg/dQ9vQrARGpoieLqBnihCFlO75HLRmyTz3dfrf+bEFkSvyepTv+z9EvfbCfk8lQPlBiC5iFcY0DTSnjyA4Gtx9OiV4uw/V8PyITMKgP6ORtLSF+0L6XiyK2Anw41JLDYlGtFB6GQe8n/8SPM1O0ukGhJFcsqy03fUXfnaWKMGDuRyVKMRIF7CXbcA9vB33he+TeuMvLlrPr0zE+ykMkkg6dNyAKAIrkyecgmAJASqozSC9LsIwMYujsbNHaAj9HAQowwTDRIZ+nP+U7X/Jco+E6YAAGYZo9onLVs9on7oRd7eLAmBpkelUZYp6Io0zuv6cShkViksBzUkRtiqA6gCpUCgUCoXi9DjjT9Af//jH+cu//Euuuuoqli1b9lKMSXGREUWS8ZkWE6U2+bS9pPg0Tz5jU6p1mZhtsXIkuyAk+EHEZKnN4ekGB6eahKGk4/r03IBOL8D1Q667fIiNq4pAnDWWz9g02x77xhtEEQwUFk9SO72AWtOLj5u26bkBjm1wy9WjbN1XZsfBKn939/aF9Uf6Utx01QjT5TY/fn6Sbz64l2rT5T23rsGe6zL2kx3TfOW+ndhRj/f0T5AaWs6398flefc9fojvPXFowfWyeXWOX7hWx374fyP8Hvreh3jHhjeyPpvkS493KTV9Pn9/7GzRNMGbrlvOW29cgUBQafYYLCYZMRtMyxBP6jS0k7stgjkB7UTZWGZ+iKjdQLodnOUbcZZvXHK9/nd8jNLdf4VfHqd879/Q9/ZfQ+gmlR98maA2jZbI0MqtJTn1zIIT6kSExwQ+O9kClszQOya4+3QcUM/tKQGwaXUfwgxw8BaWSb+HlsiiGRbRMTYng5BqMy7zQ4A8RVj6mRC5sahpOEm8IC6zW6rLXacXC1CmoZ0w9+zYSVt2y9uZPbyD7v5n8a543UJJnYxC/No0AFZxhEI2yf6yjy10zEyREAhaxwtQ3vSBeJuBlXH+U+AjNP3cSvCEhm4lCVpVCMMlc6fOF5plo+kmke/G2U3nAaHpaKZDNBfovuQ6p1GmqMQnhQI0KxFL+1Kek7CtUCgUCoXi1cMZf4q+8847mZ6e5q1vfSvFYhHHWVx+IYTge9/73nkboOKVTRRJxmdbjM82yaVtLFNnptqhc4z7AyEQwFBfEscyyKdtpiod0kmL/nyCdtfn8EyTSr3HQ89M8PBzE0sea9ehGv/p125aVJKXSVm0uj77J+pEUjJYSMyVZkmaHZd6K3bBFDI2HTcWsrIpi5976wb+7CtP0XUDrr1sgJuvHFkQxKSUFLIO3354Pz946gi1eptfeP0Y9z89zdPP7uEDznZudPZhRgFySuf6W3+e59v9/HhPdyGr6E2XJ3n3xhB9x/cQ/pwQ4nUgVWRtCj4xFPLVRys8d6jD6qEEP/O2KxjpS+EHEdVmj+G+FCuGM3S3PQPAVJjnVFrNfEc60zhBeLJhYRZHcSd3x2LECUKdzcIQfW//dUp3/zXezEHK9/0fzMIw7pEdoBv0veVXaL7wfPzUnkKAivyAeTnMLgyS8R1mK130hRK8U3Qkk3JBgLp8VRHSPga1o/sPAsxUNh7LMaKAKcJFDqjzqD8RufHzadgJ2kGI6y0tQLXnHHIn6/woDHMhk8jqGyW5/jo6u5+k/vhd9L/7n8VdFBtlCAOEbqJn+8lkkpi1FrZt4hgFerBkCZ47L0ANrQLikjyEFnd4Owc0J4msTcUZVuZLU34HcxkzpoWIwvMSQL6wX8tBtmsnXH6uZYoKxasFzbTQNJ1oTtxWKBQKhUKhOBVnLEANDw8zPDz8UoxFcZEhpWSy3GJ8pkUmaWGbOvc9fpDv/PjAkuuP9KX4V794HZapYxs6R2aaBGHsfHL9kJRj8uT22Olx2Yo82ZRNwo6zhx56Zpxmx2PfeJ11y/OL9ptOmLQFHJisE0URw30pvCDC9UKqcyJEfz7BiuEM05UO5XqXQjbBv/mVGxCwUAoYSUnw2Fcx9z3EWxNZrluR4anZBNOHs9zx98+yWdvNu/JHU8ClYSMCF+OFu7jmhp/nmiGL2aZG25WsGk5BYxoxddRhRae68GPS1vmV2/qp1+rkshlEXwopJdVWj9H+FMuHMui6tuBimQzzhOHJVZR5N9FSJXjz6Ok8RnYAvzaDke07Ydciq2+U/rf/U0r3fC4OL5+Kw8aLt/0c1sByhLYVOHUJXhj4CwKUls6T7hlMyfZpO6C6bkCpFot6y4cymJqPbXSJAm/OzaOhWXFektD0WDiIQgyOClDAS5IBJeb++3+iIPKuG4uwJxegFmcSZa97e+yAmjlId/9zJNdsXii/M/KDCMMkmXRIJXokcTDCPABhuxbv4xgRzpsLIJ8XoIhC0PVznigKwwYEwnRekgDyheMIDd1JE55ELD0bNMtGRkvfd1JGCIRycygUp8FCEHngg1CvGYVCoVAoFKfmjAWo//bf/ttLMQ7FRUiz4zM+0yadMHEsg50HK9w9Jz4Vsw7Hahv1lstkuc1ze0pcc9kAmZRFqdbhwGQd2zTozyX44dNHcP2QgXyCj73vKvRjulTVWy6PbZ3i6V0zxwlQACnHRBOCg1MNwlCSTlp4frTQAW+gkKA/nyCbsjg83aJc7y44tnpeQKfjQu0wfbvvR0Qh+F36mOatL4qekQB9qwjXvo5aei3FH30arVuDXQ8ir/0AA0nBAMSOlRfuBiAorsao7IduIxYB5gQAIQT5tANBD0KflitJ2gbD/akFEcmbiUOkJ8M8wSnykuYFqhOV4M0f0ywOE3YaRL32SUuorIEV9L31Vynf+3lk4JPZ8jYSq68GQJuboGunEKCCIGReOtDtJAkidE1j3sR2KgHKO6ZLnhCQyqQxtR5RtwmGhTBtNPuoCCIMC+l1McXREjzBXNe288R8CZ5mJdA1baHU7sXMZ0DNl28uhTBM0I25QG8LPZkjfdUbaD59H40nv0NixaaFDnhGfhChGeiGwdhABmpNtE4nzjQKA8J2DSPbD0DYrhO2qiAE1uAKYK67m2GduwBlWgjDQHdSL3kpmuYkibzeec2XEbp1NHH/xUQRQj+3MkWF4tXCfBC59Don7CqpUCgUCoVCcSxn/Sl77969PPzww8zMzPDhD3+Yw4cPc/nll5NOv3SZIIpXFlEkCSOJYxvUWy5fumcHErjpyhF+9i2XLVr37kcOcO9jB7n/yUNsXt+PEIJiLkEUSQxdI5KSh56NnR7Xbxyi2nTpPyZY/JrLBnhs6xTP7SnxgTeuXzJTJ2EbCAGHZ1r0JSJkt0F5zj0zmAJNSJKOydplORK2wWS5Rb0lcXAphhWs6UcIohCtMEJ7xS2I6jh21MFt1nCbDaK+VeRWbyIsrqSs9dNXzBJe+0HE419ETG5D9q2CldfFg9n3Y0S7TGQm6F7x02Qe/p+IKMBrVjFz/UcHbVjQqRO6Xbquwbpl+YXOeDIM8MrxNZkM8+RPIUDNC1TzHeZOhGYlsPpG6U3tRfouEomQIEU8LxeGhZ6My9rs4dUMvOd3CBqzOCuuWNjHvIghOEUXvDA4+ovQSFgC29IXSuJOKUDNlejpmiCMJOmkjWEW6TWrCCkx0sVF3ZeEYS4IUKWOH+diCc5jBDlIb66k0kpgGRrtrh8HV7/ITXZaApTQ0CyHqHM0kyh95etp73yMsFWltf1hgmqcE2ZkB9DMuONjPmPjeTZ+B4xMH0FtmqBZWRCg5svvzOII2nyZ3HkqZdNMC2El0JIv/d96PZFBCP2ETr2zQRgm2nwm1ouuh4zCuExRTaYVitNCS6QJOzVVtqpQKBQKheK0OGMBKooi/sN/+A/ccccdC5Oud77znXzmM5/h0KFDfOlLX1Ileq8ywkjyd3dvp9X1Ge1P8f43rD1unVuvGeMHPznMkZkWuw5V2bCyiCYE2pxYsvNAhVKti23q3HrNGGEUUW+55NI2dBtcJg4z4ATMdmHP4Xj7pXAsAxH61A7txm938YKItcY0y7//RWaOvIbiG38RzbQZTZukdBuvVcNxy5hElMfjsrL8lreR2/hWDu7ei9+cIeXoWHY6ForsLGWtn8H+LCuGs4SZm5kq70HueRix9buE+VE0w0Ls+REAct0trL58HbXnY5GgV52BVPFoULvQQEqa9QaFwRH6ckfdPGGnTtiMO+BNBgXSpyjBOypAnXryrGeKWFEYG0GEFgtKQiPyuvizhxetaxaGMAtDix6bz+E6ZQmeH4swIXHnOl0XpBPWQij4qVxdxwarCxGLjJqVRjMtIreDnswsWn9ejLJ1CSHUWi66JjhfBigpJdKf64JnOZiGTs+Ps8XmhcN55rskvvjxF6PZScLm0fJMzbTIXvcOag99jeYzDyyUgxnZfsQxJW9Ci+8dI1MkqE0vyoHyZg4AYA2tPjr2KIxLZs4RoZvoqTy689ILUJqVWOjCeN72aSfQ0wWCRhkj27d4YRSCZqiQcYXiNNFMB2E6KgNKoVAoFArFaXHG/+b9zGc+w5133sl/+S//hYcffhg5F67yiU98giiK+PM///PzPkjFK5t7HtnPvvE6tqXzK+/ehGUc/0E0nTC56coRAO5/8vBxy3/4TJytdPX6fvrNNsPlp0g88X/gG59A+/rvYvzgf/DR3MMAPL1r9qTjsXtV8mZA24i7xr0ptRMhJZ1dj9PZ+zTu1D564ztJ1PaRcWdxHIewMUvYqiIsh/SVt1HIJVh52TrCwgragQGtMr6Vpmz0MzyYZ+VILs6ySmcYvO4N6MPrETJE/OQOwmfujIOTB1YzdMX1pHN5jEwsmOW1Ns2Oh3+M8OKhIbwWo/3pRflN7sxBkJJQd6jLxKnFmvDUGVDzCE3HKgxjFoYx84MY2T6MTAEjlUMYBjJYuqxsYfs5T5F2SgdU7GAKj/lTk0mZC2M8tQNq/pwElqFjWzqa5aAnc3Ep2IvEiflSrUIi3n+t6c45oM6PB0r67tFAKTOBaWoEc3lji9aTko4bP+acxAEFxK6mF4VUJddtwewbQ/o9ol4bAD3XjzCOEUaEhiQWEwGCYwWo+fynwVVH148itPOUpWT3L0Ozk+dlXxcaITSM/BBCN4jm3WxzyIUSPDWZVihOB820Ypelcg0qFAqFQqE4Dc74E8Mdd9zB7/zO7/DBD36QfD6/8PjGjRv5nd/5HR5++OHzOT7FK5w9R2p874lYUPrZt1zGQOFFk9IohOmd8PQ3eetQCU0T7D5c4+B4BaIAwoCZmQo7DlYRwNutp+h+6ffoPPA5nMNPoHWOTqr7tbhM6fk9pROLMb0mtEtoiQzlVkhCuFyuHxW82tsfwcj2Y2b70RIZjGwRzU7S2v5jABJrt6DPdVUrZB1Wrh7Dz6+g7oxQNQYZGymycjiz4GDSLAc9laV447vQkjn0bhWzdjjuFnfDOzGTGYTloOcG4v0HTQbyCZptj2DO0dTxBQUnImMvLjPyJvYC4KcGAHHKEPL5a2KehgB1IoSdQFgJIr93ijXnBKhTWIuiOSFLHvOnJmEbJJxYSPFOEOA9z/xyXdOwLX0h0FtP59ETWTT7RQKUGQtQ2UR8LavN3lwG1ClO5zSZDyCXwGe+tQMZSaRcnFUFsSvQ9eYdUCcXM4RuxiLZMYMUQiN3w08t/K6n8miWsyibaL4sbV7cnHdARX4PvxKX7dnzAeQAAiWszKEn0hj5QcJuc9F1R57fjnsKxaWOsJOYfaML5cEKhUKhUCgUJ+OM6wxKpRIbN25cctnQ0BCNRuOcB6W4OCjXu9z5UCySvG7zKNdeNggyojdzCHt6K9r0DpjdiwjibmQZofHm0fdx35E0D/x4Jx+9JXYo/eip+J65caBB/+HvA2AOrMBZvolmbg2VdkTx8b/CwieT0Gl2A3YfqrJx9YvLZwJoTIOMwLCZbXa4xjqIQQiJLPRauOM7cSf2YI+uWyizCRpl3CO74jFe9XqEOCqW9OUSyOX9HJmxWZ5LMDqQPi5/ykgVCOolim/4BUp3/zXIiOw1b0Fz0hiZQhz8PSdAhc0yQ32xSDdb62IZOqbjkE9ESL8HcwKKDH28UiycBZm4pPXUDqh4Iq2fIgPqZAihoacLeDOH0BOZJdeRYYAxN0k/VQZUOJcBFR0jQDmWQcLW58Z88u39/4+9e4+Tq67vx//6fM45c9lbspuQkJBAIChGRTSCQhECCIjWC6HypYBUW9SgIIqicvmJViqFEqlaUEvBqlBQEW0FLBTQAiKIAYQqASQJ4U7uu8nuzsw55/P5/fE558yZ2bnuzuyc3X09+0CSmcnuZ3ZPtp6X74tXnGvV152OQherZzZkOjsmUJFBBdSsjHndjl35MeHOROgggMprB39+YRAvbRlGNmNjNO+VvM4EUCY8y6ZrBxrhJjyzpa74Izm9YCkye74Buef+BHtgQbCdrbQCSoh4BZRp1yxseg7QGlbPAKzuWcWzAwCHa0fsWbvB27UdKrcrutZNBRQDKKJGCSFgZbo7fQwiIiKaIpq+G9lrr71wzz334C/+4i/GPPfQQw9hr732asnBKPluuvvPGM37WLRbNz5w0Fxg83r4j/wnul79U8nrtJMBnC6IkW14F+7Dr3As/u/FAl7dpTArK/HQswUIKLwv9TuIUYX04mVYeNrFZkucp+D98Y/mAykPB+zh4DfP+Hj06c1jA6hd24DRQaCrHwCwZaeHI1MmIEstPQh2fhAjf16DwTW/xG7v+1QUZgw/+QAAjdTu+0Qbw+Lmzs6iK2MHQ87Hhjsy0w3ppGF19WLgyFPhbn0R3cv+AqowApk2/8XcigVQlpSYP6cLWpsKnd3ndCElRqAKuWj4t8rnou1nqs+0LjbagtfIDKharEw3hBBmZlCFihlVGIVMZ6AAWPVa8LwggIqFeo4t0ddtgqJ6LXhuMITctiS6MvHqHzmm/Q5AVL3SHVSTbR/KQwB1Ttk4lTcBVE6bz7NtKIe9e2Zh12ih5HW+r5ALqrfS6ToVULYNSLMJr3z20Oy/OB5DmW50vfYgCCnLAijTCGn3lLbgFYIB5KlY9ZPWOgiwWAEVkk4aqYEFyL38DGS6y1zrym/pxj0iIiIiIipqOoD68Ic/jIsuugiu6+LII4+EEAIbN27E7373O3zve9/Deeed145zUgK9do8evPCSg9MOcmA//WuIp38Np2BW1Fvz9oFasAw7+1+HXT17Ij26FbPv/Sc4I5vx4Xl/xPc2HYBfP5XDHgMp5D2N98z6M3pGXwasFOYc/ZEo6HFsiYXzZ2MTACgfb14g8JtngP9btwWep2CHw7wLo8CuTUAqG82icIe2Yh9nMzQE0ksPQjYlMLrhcbhbXkDu2f9Ddu83QXkFDD/9ewBA19LlkE7lgcddmepVEWYmUR+8XduRXbI/skv2hz+6CzLVFbWIObPNEG9v5zZopWBJid3ndiGbsTGrJwU9UoA/OgRn9jwAgCqMwBsKZl3N3gPAcN0Aym9RACXTXRDprAnEKvwv26qQh93VhwIAidotdH4QQOmybt/ZPWaYdqMzoBxb1h3mDRQDqJ4gQ4gqoFRrKqDCFrx4ALXfnv3IF3y4ng8nmH+mYi142TrnFpYDYaegg0rBOKtrFvrf8UEoN2/mT5UFUECxAkoXRqHyo1EAVdJ+p3wTYLEFr4TV0w+7ZwD+8CDs3gFojdI5W0RERERE1DJN/zftE088Edu2bcN3vvMd3HjjjdBa47Of/Swcx8FHP/pRnHzyye04JyXQEfvPwZL8k5j17G8hXlkLANDZ2djtXX+HvjccCsDM8Nk5UsCW7VkMLz0aPU/eijd5j2Efe3es2TAfT7+Sw4DciaPthwENZN54JFJzF5V8nkxXEAopD3sv7MOsbA6Doz6e3LgNb1w617Tc7dwEuAUgqAZRWmNp4SkgA4z27IG5A/OQSjvoeu1BGH7ifgw+/N/I7PUGjK7/A3RhFFZPP9J77AeRGt8cC6t7NtzBzdFmSO3mYM9aFN3w231zzZpq5cMf3gG7dwCWlBjoM0GMctJQo8NBFYwDd/smqJGgnbV/EYCnoha7atzgeXsCLXgAICwbVvcseNteBcoCKB0EGXamKwigdPSeK4la8ERpANXbZRIiX2kopaOteuXckgCqfngiLPNxux3ztWj5DKh82IJnfnRuG8rBcSwM5z3kC8UAylc6ml+VqVMBBZjNbF5+uMYnNu158QBJCAkBU8kjMz1QuV3whjajsHkjgPIKKGWuP253KyGkBad/d6iRISi3ACFQMmeLiIiIiIhaZ1z/TXvVqlU49dRT8eijj2LHjh3o6+vDAQccUDKUnKY/7+U/o++PP4XwctAQKCw4APMOez96l74xek3KsTBnVhaWlPjzwrega/s6yFfX4iN99+Nr296L7cMOzux7EJb24PctRO/+7xizKj5siRFaQTppHLCHjXufcfHo05tMADU6CIxsM3OeAkMjHpY7681v5r8GTioNmc4g+5oDMbr+MfhDWzH81O8w8vRDAILqp0xXNEOoWWEbnvbygJUChChZUy8sC1b3LPg7t5n170HVSvS8k4IaHoTK5yBSOgoRZLYXTjDHx2+wAqqRLXj1WJleuHh5TLik8qNm6Gy2uAXPV7pq6KWDFjqN0hBmdm/xe+z6CukqlTlu2MaWshrb7hdUQGWDn2w7dpqqolbNgKpUAWVJAeUr5F0f4XfcBFDm+5F26v+YlekstF+9mkz7PkSqbNW5kAAEtNawegegcrswuvFP0J4LkcrCDqrpzMF9QHK7WyUy2wtr1m5wt70SBFD8GhERERERtUPTd6rnn38+nn/+efT09OCwww7D+973PqxYsQKzZ8/G+vXrccYZZ7TjnJRA+T/eDenloHt2w+AbP4juN78TsxfvW/EGrrfLQbZvFkb3OgQ6OxuzsAsndP8eb089g9faL0NLG/J1RyIza86YappwsxkA+K6Lt+xjApk/rd+KQj4HDG0yw5Vj1R3DLz2LOdYu5LUDMXcfWKkUZCoDO9uLnv1XAACGfv9LuFtfAiwbmT3fAKur8tDtRoRteCo/Cu3mIJwMZKa4EVAICat7tnkPO7eM+fNCWtDKhyqMQudH4W57CQBgz54H2zFhR6MzoCayBS96P5kuSDtt2r5ilJuD3TMbMvieWEEAVU21CqiUU7xG3Bqb8MIWvFotkHFhWJmxzJlyBR/5ggfVqiHk+eIQcsDMmAIASIFcbBC57+vY2Rus3KpRuKaVP3bLlBDmH62jQHN03SMATPtdfJi+VgpCSlMFRSWEEHBmz4NMZUyox68REREREVFbNFQB9dJLL0W//s///E8cffTRsCoMs7333nvx29/+tnWno0TLHnwitlsD8BYegC7kMHfx3lW34ViWxMDcfrz4SheybzwO+P2PcHB6HZanngUAjOz5F5gzZx5kumvMn40PBfbyeew1rwf9XQLbRxTWrt2IA/p3Ad2lFUWpV/4PALBO7o1902nYtgPhpCFSWWSXHIDhJx+I1tZ37fNmiHQGssJQ62aEbXhKKdj980u3aQkJu6cfBZite5UIyzFr4ZWCt8PMf3L6d4eTCgOo2iFKK7bghaSThuzqgb9r0NyYI2i/Cyq7LGeHeZ3QpvLKqXzTHg4h12UBlG2JMDupOQfKjUKcxoo1wwooW3joytgYyXkYHC6gr6c1g6X9CkPItdZIWRI7R93i65SKteA1NrtKCFl18DuUP7YyUIggrC0GUP7wIAAgNW/J2D+fylZtlZzpZCoLu393eIObOKidiIiIiKhNGrqr+/u//3vce++90e/POuusiq/TWuPQQw9tzcko8WTvHLhzlkK6I5iz1yJk58yr+fpZfd14pasPrqeRWvoXwLrfIiV8qL4FcBfsj0x3d+UASlqmMkEruJ6LtBB4817d+PXaXXj0ma044LA50UBmAIDvYmDn0wCAF7v2wzLHgbDNBjurqw9qZBB9bz0O2//3BgBA12vfBimtsRUmzX49gjY85eaite7FNyFg9ZjtfNUCKOmkoHLD0J4Lf6d5jTNnURQoTdYWvJDdNQv+YLFaSxVyEKksZKYbdnCTXq8CSvlhAFV6Uy+EgGNJFDxVJ4AyIU7KbiwUCAMo+B76ezMYye3C0K489Lye2n+wQX7eDNkPA6i862M45yFlW8jlPXi+gm1JeF4xgMo2GkBZNrTvVQygtNZjh2MLaf5RClZv6UbI+PwnIAgP7caqyGYqp28OhBRjgj4iIiIiImqNhgKor371q/jtb38LrTUuuOACfOITn8Cee5auq5dSoq+vD29/+9vbclBKJimA2bN70L/HnnVnp3RlbHT392P0hc1wXrMC2LoR2LkZuWXvQUoqZGYNVP0Ywnag3Tz8oCXszXv34Ndrd+GPL7m45fERvGM/C/3dweU8vA2OdjGiUvB6F8BxnGh9vUxnoQFkluyPnjccBuGk4MyeZ7ZfBZU+4/5aBG14GDFhVOkbkJA9swEA3s4qFVBOGmp4ENr34A2aCqjUvL2ilrp6M6BaHUDJTHewnc01X/9CDvbAAgjLhgzCEAuqZjAWzjUqD6AAM1i84Cm4Nf58OEfJsRt7T9G8MOVidm8aL27ehcHhAlq0BC82hLwY5mwbymHhnG6MjppB5Ha2NFhreHuf7UD7HlApABGAkGUBkpSAENDQsHv7Y49bYwb5Q6mSSkIaS1g2nFm1Q3QiIiIiIhq/hgKo+fPnY+XKlQBM5cKKFSswMDBQ50/RdCcE0NWVxW57LoHdwPwkIQTmzO3HxhdtaOUDh3wY8F3k8wKzxQhSPX3V/6xlAiihPGitsXgghf0WZPDUyzn86k9D+N8nhrD/4i4cvqwXe9sFAMCITmFOt4CdcsyMKJhWG2mnAN/HrLe/DwDg7doBq2d2S4YPWz39gJRjqqmEELCDCih/aCu0ViUzeoCg0ksr+MM7oYJKm9Rui2AFr3PrteB5rQ2gRCoDkcpCFXKQwdcmrOyKAj1htthVo/3KLXgAgo1xXkMteA0HUEHbo/A99AeDzgd3FQeRT7QFza8SQO05vxd+MIi8O+vA9Xzkm6mAEhIylYEaHhrznNYaAiL6msf+EADTxxivgErNXTym2kmjQgUVERERERHRJGr6jmTlypXI5/N4/PHHUSgUou1SSimMjo5izZo1OPfcc1t+UEqenu4sUnsvRtfc3Rv+M719vXC6elEYGUF6Vj8gLehdQ8gOZCu234Wi2T7Q8JSGY0l8/Kh5+NOLo7h37RCeeTWPx54bwWPPjeAvBjbhJAAFbaM/C1jp4uwb4aQhnIwZrh0M0tbKg5VtTYuW1dMPK6h0Kn0DElbXLEBIaN+FGtkJK9huV/o+0/CGno8+lkx3wfbN2etuwQuCoGob6ZolhITVMxuFTc9BWBZEKhPN+ArDOlMBVb8FDxUqoOwgVCrUGEIeteBVmTE15szxCqieIIAaLgBamyq3CX5pVFkLHgBsH8pFvw7fS971m55fJVNd8Ie2Vfikvvn6W2PbGMNBWuG1Ba3GtN8BZr65qPA9ICIiIiIimixNB1C/+93v8OlPfxqDg4MVn+/u7mYANUM43b1wupvbHJdO2eibuxu2bXgaaZhtYVIVkO2dW3MGUzGAMhUzjiUhpcD+i7uw/+IuvLS9gPue3ImHNwxj184c0Avk4WAg7cNOF1vrhBCwuvvgbnkRQFhdAkhnYu138Y9fcZ2ZlBCWDatnNvyd2+ANbakYQFldvdD5Xea9ztoNwnJgB8sqfaVrVvG0ugIKAKxMD4SU8HPDcAYWRN8HUTIDqkYLXvCclmPPlAoCqJZWQNnFCqjZYQXUzjw0gFZ04alC6RBywFRAAYBjWdg1UoDf34VcvhiqZdONzV6STspMZS+jlW8CvDEVUMEMKK0hpITdNxfe4Cakd9+74scfU0FFREREREQ0iZq+U/3nf/5n9Pf341vf+haOPvpoHHvssfjud7+LU045BUII/Nu//Vs7zknTyKz+WYC04LsuCp6PlFTIzp5T88+ErVUZS0dBS9zC/hROOmQOvvxXe+BtS0wVTDabhm2JkgAKMJUmGibMMfONUm0fPBxuLLODVqlqc6AAwN3+CgDAnj3fhFaxQKlWtZEXVkA1GNY0Qma6gtlYGlY21iIpiy14fo0z6RoVUGGoVOn7GSpEAVRj1TsyDKC0i1lBBdSOoAWvUrjTLF0wYVNeF8OcKICyJYZzHlzPR65g3rcQQNppYn6VlFBeofQJ5QOWVaEFTwYdeOZrNPvQE9B34HuQXrRf6ZmVb17bghZTIiIiIiKi8Wr6TvWpp57CWWedhWOOOQZHHnkkXn75ZaxYsQJf+tKX8MEPfhDf+c532nFOmkZ6Z89Cprsb+ZFhFAoFZDMZOF21W+DC1qqUrWtW3HSnLbxhgblR362/G1IK2E5pBYpMZyDtFLTvQnuFoC2vzZuvgmoVq9fMTqu2CQ8A3O2vAgCc/t0hbKekpa7WwO8wyLFka1rwANNqZ3XPgkx1QWa7Sx4H6m/B0yoIoCqEH2EAVXsIebgFr8kh5L6HWd3m10PDBfhKtbwCKvy+RAGUY7bfjeY95PJecG4LssHvh8z2wJ49zwyiV8UKKu37EJYzdmaYEOaxIFhL774Pet90xJjXQSkIObaFj4iIiIiIaDI1HUAppTB//nwAwF577YU///nP0XPvete78MQTT7TudDQt2baNWfN2g5vPQRdyyPb2QKazNf9M2FplaR9CCKha1SxBBYmWjgmgUqUBlHAyEE4a2s1DewXIbM+Eh1PXFczrsXpMAOVXCaC0VvCCCihnYCGEtEpa6mrNgfJUc+1qjbK7Z8OetZsZ3h4KAiVbKPhe9RlOOjxvxQDKPObW+PNhqOY0XEUUVEApFz3dKQhhWheHR9yG/nw9ulAcQr5bv5lZtm0oB63NXDLX8zGa8zBaCGdXScgGry0hJFJzFsLqmwNv5/Zovp5WHmSqSkAqLdRrLtTaB6QFIdmCR0REREREndP0neqee+6Jp556CgCw9957Y3R0FOvXrwcAeJ6H4eHh1p6QpqW+/n7YloClCsjOHhhbtVEmbMGz4MOxJDyv+k238MMAyoZlObDLNoIJIWB19UG7BUArWDWGn7eKCCqg7F6zCc/buaXi6/xdO6C9AiAtOHMXAiitaKrZghdVQLU2gLK6+pCas7DksXg1je9XD5AQVvJU3IIXDiGv1YLnB69tcAi5FQ4h9yAhMKu72IbXgg68qAUvpx3sNtuEpgVXYTjnQQgBDWA07yEftOClHKviSLDq53eQmrsIMtsDf3iHeVApCLtyAGU2J9Z5Y0oBUgKsgCIiIiIiog5q+k71fe97H1avXo3rr78eAwMDeOMb34iLL74Yv/rVr3DVVVdh3333bcc569qxYwcuuugiHH744Vi+fDlOPvlkrFmzJnr+gQcewAknnIADDjgAxx13HG677baqH+uiiy7CeeedN+bx3/72t/irv/orvPnNb8bRRx+Na6+9ti3vZSbo7u1Dd08PHFuiq2/sMO5yUQUUfDiOrFk1E1ZAKWnDStljVtIDgEx3m9k5Qra//Q4wAUCsAsob2hpVuMS5218GANh9cyBTJhgTQkTtXrVa8Pw2zICqRsQqmmpVQKGRFrwGZkA13oJXrIBSWkeDyM0cqIklUFprwC224HVlbPQFbX5hG54lJTxfIR+EamnHargCKiRTWaR3WwwhLfi5YTN43q5SvSTN5rua51aVW/iIiIiIiIgmU9N3JB/96Efx13/913jssccAAF/+8pexdu1afPKTn8T69evxhS98oeWHbMRnP/tZPProo7jiiitw8803Y9myZTj99NOxfv16rFu3DqtWrcJhhx2Gn/3sZzjxxBPxhS98AQ888EDJx1BK4YorrsCPf/zjMR9//fr1WLVqFY488kjccsst+OxnP4tvfetb+I//+I/JeovTinRSmLXbXPT29SJVZ/4TUJzto30P3ZlUzblBCCqglLCQcuyK279kysyBEnYKMtWaDXg1BS14ds8sAALazUPlxlYLesH8J7tvrtmKFgjb8GoFUGGQY7dwBlRVsUDJ86q3t4Vb8MZscENjM6C8KIBqsAIqDBt9D0pr9Ieb8HYVJlwBpX03qujKw4HrKQz0mWsnDKBStkTBVXDdYgXUeNo7ra4+pOYugnZzADSErLxJT0hZMcgsofzS9kkiIiIiIqIOaHooiJQSX/ziF6Pf77///rjrrruwfv167LPPPujpqR8mtNrGjRtx//3344YbbsBb3/pWAMCXvvQl3HfffbjllluwdetW7LfffjjnnHMAAEuXLsUTTzyBa665BocccggAYN26dbjwwguxceNGLFy4cMznuPfee9HV1YWzzjoLALB48WL88pe/xH333YdTTz11kt7p9NK/2zz09WYrViiVi17jucikrNozoHwTiGgh4aSzJdU60cdLmcHjwnai9r52EkKaFi1pw+qeBX94B7yhLbCypX9fwg14Vt9u0aY5AMEmPL/2EPLguUmpgIoFSsrzqr9Qh9vgKrXg1Z8BFQ4hb/Q9RUPIlQutihVQg7vyEx5CrvOj0a/z2oYlBQb6Mnj25SFsjwaRW8gVvKit0FRAje/zWX1zYbs5+INbKoaoAMw1UieA0ko19HeMiIiIiIioncZ9p7phwwb85Cc/wdVXX43/+Z//wcDAQEfCJwDo7+/H1Vdfjf333z96LFx7PzQ0hDVr1kRBU+jggw/Gww8/HFUPPPjgg1i6dCluvfVWLFq0aMznmDNnDnbs2IFbb70VWms89dRTePjhh3HAAQe0981NY3ZvP1JzFzf02vAGWvseUo6EJSX8avOQYkPI7XTl6iYhJKye2ZDZvuYPPl7SNjOn+uYAAPydYweRhwGUM3teSWjgBBVQVd9z7Dm7xTOgKooFSn6tACqogKoUoIQVUF4jLXjNDiH3XSgNzO413//B4UL9SqE6wg14rnCgIWHbVlQBtXUwCKBsCddVyIfnTlmm+m0chBBIDSyEM7CgapVeIzOgtFYQDiugiIiIiIios5qugCoUCjjvvPPw3//93yU3dFJKnHTSSbjooovav1GsTF9fH1asWFHy2B133IGNGzfiggsuwM9//nPsvvvuJc/PmzcPo6Oj2L59OwYGBupWMb373e/G7373O3z+85/HF77wBfi+j/e9730444wzxn1urTVGRkbG/ecn2+joaMm/J5Ovg3at/Cgs3wWUh5FR3wx5LpNyc7AA+ArwNKp+jXXazJ7yJul7UCgUoPM5iK7ZAIDctlchc7noeVUYhbdjk/l11wBy+QKEMn+Xwkxp5/AIRkYq/7XNu6byy/fdSbmufEhYUBgdHS75fPHrRPsmnFJajDmTgAlphkfyVc9bCIZ5+15j78kLKqbgu8jlcuhJm6/fjqEcRkZGobzxD+J2B7ebf8OEXFIo9GTMN2bLjhHkgu/laC6HXM6EoI4EcqMjE/uZmO6DW3CBwthWRy+fN//ErqNKr9H5AtwE/qzp5M8Umhp4jVCjeK1QPbxGqBm8XqgeXiNFWuuG73eaDqBWr16Nu+++G+eddx7e9a53YWBgAFu3bsXtt9+Ob3zjG9h9992xatWqpg/dSo888gjOP/98HHvssTjiiCOQy+WQSpVWAIS/LxQKDX3MrVu34sUXX8TZZ5+NFStW4IknnsBll12Gf/mXf8HZZ589rnO6rou1a9eO68920rPPPjvpnzM7tBMZAEPbt2HTcxuxZYeLvKuQTY+tjNljdBgWgKGRUYy88CJe3ZmMzYxy8GXI/DAcV5j38spzeLV3Q/S8vWU9urSCn+nDi9t2wvvzM1GlkQqCnHXr1iM/WHlo+q5dJmB46aUXsFaMra5qtR4tYAngpedfQCY1tgrq2WefhRdsjRvJjY651ncO7QAAvPzqJqxdm6/4OYZHzZ9/6YXnYOVfrXsmObIDswBor4CNzz2HXMGEXNt3juLJJ59EusFKqoofe9tzmAXTfgcAwzuH0G2Z/4ezadtObHjWfC89X2NoaBcAIDe6C08++eS4P2fdM43sgLXzVajMYNXXiNEh+Ls0dHpT284xUZ34KsNMRwAAmNhJREFUmUJTC68RahSvFaqH1wg1g9cL1cNrxCjPW6ppOoC67bbbcM455+DDH/5w9NiCBQvwt3/7t/A8DzfeeGNHA6i77roL5557LpYvX47Vq1cDANLp9JigKfx9Nptt6ONeeOGFWLBgAT7xiU8AAF7/+tdDa42vfOUr+NCHPoSBgYGmz+o4Tse2Bo7H6Ogonn32WSxZsqThr1ur7Nz6OIY3Ar3dXViw997o3TGKV7eNYlbP2DAm9az5d9/sfuyx32vR3T9nUs9ajbu5G/7OrfC6JXY9twZZncfue+8dPb/zpTUoAOha/DrM3Wcp0nu8Nnoue8c27BgewaLFe2HZkv6KH9/51Q4ALvZesheW7dv+97zxdjOXat5uu2HZsmXR4/Hr5AVbAgWgp3dWyWsA4OGNTwNPD2P27AEsW/ZaVHTLZgA+XrPvPth7Yf12SX/XDmy+FxDax6I9FkNDAw9sh68E9ttvP2TTTf/Ii4ysy2EIgCtNO9y83Qbw2kWzcccjg9iV01iy15Io+X/ipQ0ARrHb3P4x77uV/KEtKGxyYPdW/n5rraB27UBqj9dCZnvbdo7x6uTPFJoaeI1Qo3itUD28RqgZvF6oHl4jRc8880zDr236bmxkZAT77LNPxeeWLVuG7du3N/shW+b666/H1772NRx33HG47LLLohRuwYIF2LSp9H/937RpE7q6utDb29hN2cMPPzxmw9+b3/xmeJ6HF154YVwBlBACXV1dTf+5Tstms5N+7lzGfD4JhUwmg95eiW27PKTTY5NWoUw1jp3tRm9fHzIJ+Rrnu7rh5XciNbA7dgHwd21HJmPCDK18bHvZ/MXtWrwfuvpmIx07txO0GtpOqurXXmkTfnR3ZSbl+6NhAXAhZeXrOJvNQgRtunZq7LmzWRMeaiGrntcL5lr19nQ19J58Ecyc0gqObcFyzI84pbS5bjPjH8Zd0Ka9zxXmmuvKpjF3wMy9cz0FX1voyZrnvKB1sqfN3wvP64ZMpWFnKs+I0r4H1dWFTE8vZDoZfw8q6cTPFJpaeI1Qo3itUD28RqgZvF6oHl4jaGrcSNP9KO9617tw/fXXQ6mxg4P/67/+C0ceeWSzH7IlbrjhBlx88cU49dRTccUVV5SUgB144IF46KGHSl7/4IMPYvny5ZANDmyeP38+nnrqqZLHnnrqKQghsNdee038DVBN4XazcKZQ2pGwpBUFFCX8QvBnMrATNHw5HBgdDiHX+RGovGmbK7y6AbowCpnphjN7/pih03YwhLyhLXjWJAwhB6CC9kBdY4udCEIbYY2dvRQOIXdrDCEPN+RVmvVV8fPFt72pAqzg77evJroDD/CDLXj5YAZUyrEghMCsbnONbRsqzmEKt/dlUuOfOdUQIWoOOddKmTbOCpsgiYiIiIiIJlPTFVD7778/vvnNb+K9730v3ve+92HevHnYvn077r77bjz22GP48Ic/jCuvvBKAScLOPPPMlh+63IYNG3DJJZfgmGOOwapVq7Bly5bouUwmg9NOOw0rV67E6tWrsXLlStxzzz24/fbbcc011zT8Of72b/8WX/3qV7HPPvvgyCOPxFNPPYVLL70Up5xyCmbNmtWOt0Ux0RY8zwxidmwLji3gej7s8g1rwRY8K52B5SRn/byQEtAa0klDZnuhRnfC27kVqXQXRp8z85Eyi5dBCAlhlZ7btkzIUHsLXgcCKA34fvUteEKbM8lKW/CsRgIo81wYVtVTEkD5LixZDGdqfe0aEQVQ2nyOtGPBVxr9fRkMDhewbSiPPYNdB7lCEEBNoOWvIUKYNsNqtA8IacJPIiIiIiKiDmr67ujiiy8GAAwNDeGb3/zmmOf//d//Pfr1ZAVQd9xxB1zXxZ133ok777yz5LmVK1fi0ksvxbe//W1cfvnl+MEPfoBFixbh8ssvxyGHHNLw5zjppJOQTqfx7//+77jiiiswf/58nHLKKfjYxz7W6rdDFRQroEwAZUmBroyNHTsLyKRiU/e1ilrwnGwPRIXgo2OEhA7OaffNQWF0J7yhrXDmLELuuScAmAAKAmPOncQKKB0UUCqvVgAVVEBVCEDqVUD5vooqlxy7wQooIQHLBnwPUvslAZRb42vXCD9nqtVyQQCVsiWUrzHQl8GzLw91pAJKCIlaBa9aKbNCkQEUERERERF1WNN35+3c6DReZ5xxBs4444yarzn88MNx+OGHN/TxrrvuuoqPH3/88Tj++OObPR61gCxrwQOAroyDncMuduwKKp6kgAMX3cHzdk/9odWTSUgJEVSr2H1zUXj1WXhDW+Ht2AR/51ZAWkgtWArt5sYZQJmPbVmN9+BOhBYm1PCDqrTKLwpmMtkVKqCCtjq3SgtfPJhKNVgBZT5XylwnngsZ+1p4NVoFG6ELpgIqF2zBS6ds+DABFFDagpcPKqCy6Xa34EkAovrqU60grHRTfdlERERERETtkKDyEKLqogqoWNjR35tGV8ZGwVNwXR8jORe5oWHzOgjYXUnb+lUMAcKtZf7QFuSeN9VP6YX7mkohaZsqnphiAFW93SoMp5zJngGlqgc7MqiAkpUqoOq04MUrlhptwQMAaTvw84BQbjQDCgC8Cc6BUkEANeqbCijHMi2VFQMoNwyg2twCGs6A0rryLCilKoZ/REREREREk413JjQllLfgAabFM5OykQnmjM+ZlUU+NYotMLOAZs/u6cBJaxAymtYTDiL3hrbCGzIzyzKLXw8oH7Ds0llGKFY1NVIBNVkteGikBQ/hDKixQUy9FrywjU1KAauJ9xTOzxK+F1WcAYDnTTCACmZAjSrzY9O2TfXRQJ/Z5lcxgGp7C54Iqpsqvzet1Zh5YkRERERERJ3AAIqmhDCAgl+j3QuI5j9JO4V0Klk33iJWjWMHAZS7/WVo17QQZvdcBu17kOkuM8soJgyV/AZmQE1WC54KqppUvSHkAhAVZjjVC6DCx5tpvwOK14rUHjQELCngKw3Pb00LXhhAZVIWtNYYmJUFAGwfykWtcPmC+ZpkM+2ugJLmH10lXFOq+HeHiIiIiIiogyarVIJoQoQTtuBVDzsARGGOqSBK2NwbISAAaK2jFjzt5gFoOHMWwuqeDa18CCc95o+GAVS1QdpKaSg1yRVQwQwoXSPYkdEWvFoBVO0ZUI0OII+OFVSPSe1Bax0NIp/oFrywBW/EC2dAWRBSoq8rBQGg4CnsGnXh+yqqRstOwhY8CAGtK18XGhqiwteeiIiIiIhosjGAoikhDBV0nQooE+gEVTBJG7wcq1aR6S7IdFf0VGbx680vlBrTfgcUq5qqhSi+KgYQk7YFr5EZUAja6Cq8p5QdDiGv3YLXzPwnIFYBpVworSFl/fbFRoQVUMPKnDuTtmFLASGBvh7zObcN5aL2O2ASAqiwqq5KBZRA5Q2EREREREREk23cd0dbt25FoVCADm58lFIYHR3FmjVrcPLJJ7fsgERAfAZUnQooL7kVUEKI4EjBtrq+uVCbnwMAZPYMAiitKwYGTp0tePHh5HaTgc146agCqvr3JJx6VakCym60Bc9pNoAKZkApD1qFgZzfggAqBwEgp83Hz6ZtjOY8KGUGkQ/uKmDbUA593eZataRo+/fCXFPVW/A0EGzKIyIiIiIi6qymA6gnn3wS5557LtatW1fxeSEEAyhquagtTSvTplalqkOVVEBN1ukaJCSEsKKwwO6bA3fzc5Bds+DM2QNA9cDAqrMFLx6u2HKS3nhQfaNqtuCZ5yxr7I+aqAWvSjDUihY8FWvBq7VBsCGuGTKeDwKorrSNHcF8qYG+DDa8NIRtQzksnNsNwARnst1VeHVmQLECioiIiIiIkqLpAOqf/umfMDg4iC9+8Yv49a9/jVQqhSOPPBL33nsv7r33Xvzwhz9sxzlphotvUdOeC1Flu1i8Aqp8kHfHSRnN6xEAUnP2wOi6R5Fdsn+wySwc6TM2tLCjFrxqFVAq+vNysgKooAIKtQKocAueXSOAqtaC542zBc8yFUjCL23Bi7cpjotrWvBy2oEQ5ly2JVAoKAz0ZQAA24fyyBXCc1vt7wItq6qL01qZcEom7O8BERERERHNSE3fmTz22GP49Kc/jY985CN4z3veg9HRUZxyyin47ne/i6OPPhrXXXddO85JM1w4hByo3fJVHEKewM1fYRoRVKt0L/sLDBx1GmYd+O6y1439a2nXa8HzgrY+KSsGWG0RVNZoXWMLXthuWGEGVBRAuZUDrII73i148RY8Xbd6rBG+60YbFvPagW2Zr3PaseBrHQVQ24Zy0eyqlGO1vQJKCHMOXSlcUwpCSlZAERERERFRIjQdQBUKBSxZsgQAsGTJEjz55JPRcyeccAL+8Ic/tOpsRBEhJBC0cdUaRK695A4hF2XtUsKyTfVTLJyp1oJn1wlRwuoex57E9yzrb8GzUH0LXr0h5N64W/CCGUzag9aIteCNvwLKy49Ev87FAqiUbUH5Gv2xACofVEClbDk5baDSRu0KKAZQRERERETUeU0HUAsXLsTzzz8PwARQu3btwgsvvAAASKVSGBwcbO0JiQBAAEIGAZRXPYBSYQWUlbwh5IgGRlcPQszMnkozoGqHKGGIY01mu1X4uaq0tmmtoxY8y6k9A0pXmGEUteCNdwg5SmdAVdsg2Ag/ZwIoJW0oSNiWhBSA41jwtSqpgApb8NKp9ldAAcGMp0ozoJQJoCpdT0RERERERJOt6TuTY489Fl//+tdxxx13YP78+dhnn33wjW98A0899RS+973vYfHixe04J814AiKqgKrRghdUQEkneRVQphpFVAxbAASPi4oVUPW34JnHJ2sDHoCg8gbQqvL3Q+vYDCiregue1oCvKgVQE2vBs5RXMgNqQhVQOTP/SVkmaLJtAQgRBIMC/T1pCJggcNuQGVZuZkBNwjUoqwwh18o8xwooIiIiIiJKgKbvVs866ywsX74cP/3pTwEA559/Pu68804cf/zxePDBB/GpT32q5YckgogHUDVa8OIzoBIWQAkhTBtelQAKWodTyMc8ZdUJoMLqnknbgIfidjVRpaLL8xUsEQZjY0OQeFhWqQ3P9YrDvJs6lx0OIfegFVpTARW04KlgwLltSQgUWyNtW6Kvxzz30pZhAGYL3mRcgkJK025XRisFIa3kDeMnIiIiIqIZqekteOl0Gt/61rfguiYEOOyww3Drrbfij3/8I97whjdgzz33bPkhiQBEARRqBFAqNgMqWfGTYcKCagGUMiFVhZap4ha8yn+2ExVQYQClVeUZUL7SsILZRJW34BWDpYLrI5sufY3rhjOgmt2CF7TgabMFLwrvJrAFL2zB84MKKMcy4ZIJtzR0MIh8cFcBr2w1AVTamawKqCoteNqHsLra//mJiIiIiIga0HQAFXKcYkvN4sWL2XpH7RcEC7VmQEUVUE6qYitbx0kLQJUgRGtz5gqhRVhp49ZpwZvcGVBBBVTNACoIxpyxLXiWFJBSQCldsbIrfK8pZ5wVUMqDRnEGlFdl2HkjVN604PkyqIAKQjHLkrCkhNLAQF8GG14awubtI9G5J6MgrdoMKK00RIXgj4iIiIiIqBMaujv5m7/5m6Y+6A9/+MNxHYaoKtHoDKh4C96knKwpQtrQFeYdAcEMKFF5BlRYxePXCaCarRaaiKgiTVcJoHwNGbTgWVWCkJQtkSv4FVvwCm7YgjfOIeS+C4HYFrwqX/dG+EEA5ck0AERb8OygCspXxUHk4adJpyanAspUolWeASUqzN4iIiIiIiLqhIbu7LTWJf888sgjePTRR6G1xty5c2HbNv74xz/i//7v/zB37tx2n5lmIIHmZkBJO4VEJlBSomJYAJih0UJWnNnjRFvwqrXgmcfDbXmTIZoBVaW1zVcqqoCSVuUAKtqEV3EG1PiGkMsggILvARDREPJq4V0jwgooN6iAcoIZUJYlTRWXr6MAKpS2rcm5AoWArvSZlCqGhERERERERB3W0N3JddddF/36+9//PrZt24Zrr70Wu+++e/T4tm3b8PGPfxyLFi1q/SmJRLGypWYLXjgDykknbgg5EIQ21WYRhRVQFdro6g0hj2ZAWZNZARW0xlWrgIrNgAo35pVrJIAa7xBy+C40im2JExlCrgpBACXCFjwBBNVPpgJqbACVSkmISenBE5Vb8FAMCYmIiIiIiDqt6bvVa665Bp/+9KdLwicAGBgYwBlnnIEf//jHLTscUZGAkPVb8FSCt+ABYdtatRY8VbUFz7ZqhyjRFrxJDaDM90NUbcHzIYUOXls5CAm34xW8sR9joi144bD6aAveBIaQRwEUYlvwhKmucmwJVSGASk/WDCghK1ZaCYFoThcREREREVGnNX23msvlqm7xGh4envCBiCoSAggroKq04Gmtod34FrzkBVCmXaoKrSFk5blBdtSCVzlEcaMKqMl7zzIKoKq04Ll+/MUVX+NYDbTgOc1uwStWQAkgasGr1r7YiLAFrxBUQDm2jMIlx7HgK43ZvemSKy6TsidnC56QFbtNdfgcERERERFRAjR9d3LwwQfjiiuuwPr160se/9Of/oRvfOMbWLFiRcsORxQXzYCq1oKnfDNHCWEL3mSdrHFCyKojoKIteBXYdVrw/E604IUzoKpWQHljXlsuDJda24JXrIASQYscMMEKqLzZbFeA+djm62w+bsq24CsF25KY1ZOO/kw61bkZUForMzeNFVBERERERJQQTU+ovfDCC3Hqqafive99LxYvXoz+/n5s3boVL7zwAl7zmtfgggsuaMc5aaZrYAteuAEPAISTSmb1R5V2KUNVbVVL4gyo+hVQsQCqyvsK2+u8SlvwvIm34ElRHEJe6XM0ShdyEADy2onOFBY3pRwZVYX296WxY5epwks7k7QFT0iMqavTGkJKiArzxIiIiIiIiDqh6QBqwYIFuO222/Czn/0MDz/8MAYHB7HHHntg1apV+MAHPgDH4dpvagcRrZSv1oKngvY7SCuaF5U4QlSdTaWVrnpuu8EteJ0YQl41gIoHhdVa8ILqpooVUO74tuCFQ8i150KK1rTgade04OURtuAVq5ssKaMKpIG+DDa8NGTO7VjR524rIQAIaK2LgZdS5mvOCigiIiIiIkqIcd2lZ7NZnHrqqTj11FNbfR6iquptwdPhAHInZbqjEjiEHEJCV+vB0wqoNqy7wQooa1JnQNVuwVOeCaCUFqb1sIJwBlSlIeThXKvxtuBpv2CWCoqwBW98AZRSGnBzAICcNj8ybasYJJqvufnY8UHk2fQkhT9CFjfhBWfS2gfYgkdERERERAnC/gyaEkRDLXjFAeRhVUjSCFFjNHowhLyS4ha8BM2ACr4fEpXPpHwTKqkaP2Zsu/oMqGgLXrNDyIMKKHgupIy14PmVg7J6lC4GUKPKvOfSCigBEVQgzZkVD6AmpwpPCBFc6rGALaqA4o94IiIiIiJKBt6d0JQRBQvVtuAFFVDSTgUFUMkLoMxcKlF5k2QDAVT9LXiTOAPKDgKoai14QaWaqvF9aGQIefMteMVWTSFEtK3OH2cLnlIawgsDqGAIeWwGlG1JSCmglC6pgMo4k9QGKiSEsEwFVEArFcyAYgUUERERERElAwMomjKiGVBVWvBUVAHlJHMAOWAqUoSItvXFaaDqua06M6D8aAbUJLbghVvw6lZAVQ9BHKvGDKhoCHmTLXhWbAYUYjOgxtmC5ysNUV4BZcko4LSCTXu+0thtdhcAoCtjw2qycmvcwrli8VBTq6hCjYiIiIiIKAl4h0JTR1TZUqUFL5wBZSd0Ax6CFrzysCB6rnrVllOnBa8jW/BsGxrVK6AaacFzoha8se1xBU+VvKZR0RY8rWBLFc2AUlW+dvX4ng/hm2tr1LcBFEqqsixLwrJMBdTs3jT+5j3LAA1Yk1WBF819UlFboFYqCmyJiIiIiIiSYNwB1NDQEP7whz9g586d6O/vx5ve9Cb09PS08mxEJcKWr2pb8LRXDKAS2X4HBAOjZcUAChA1KqCCoCZBW/CkZcMHIFFnCHmNWVxhuOTVasFzxjeEHMHZwmthvBVQXn40+vWwZwIoOxZA2ZaAFCIacv6W187D9qHc5GzAAyBkhWtKqyiwJSIiIiIiSoJxBVBXX301vv3tbyOfz0ezbFKpFFatWoUzzzyzpQckCsVbqyrRbqwFL6nDl4N2Ka31mFhGQ1c9d9haV68CajK34Fm2CaBEla1+UQAlarTg2eEWvAoBVDiEfLwVUABs7Udf0mpfu3r83AgAQEsLeWW+vvFQTAgBx5YYzReDOD2pFVCyQguehmQARURERERECdJ0AHXzzTfjiiuuwAc/+EG8//3vx9y5c7F582b813/9F6688kosXLgQK1eubMdZaYYTdVrwVFgBZaWQxA14ACDCCqgKc5NE+HwF0RY8pU14VRZuhAGUM8kVUABg1ZkBpRtqwauwBW+8LXhCApYN+B4s7UFigjOg8iaAgp2BmzdnSpedKeVY2DVaDEYVNMQkVUBFM6BiQWCtMJOIiIiIiKgTmg6gvv/97+Pkk0/Gl7/85eixffbZB29/+9uRyWTwwx/+kAEUtUV8u1klxRlQTtUgp+PCIeRlYYipJKzfggeYdjvHLgugPDXmde1mOeEWvCoteH64Ba9WABUOIS/9GFrr2Ba85je5CTsF7Xuw4EVB0Li34IUteKks3OEgFEuVninlWFDx76mevGo0IcxAdK2KIZ4JM7kBj4iIiIiIkqPpu9WNGzfi6KOPrvjcO9/5Tqxfv37ChyKqRNhpAI224CWzAqpStQoA0z4VPTdWfLudV6GVrCNDyIMKKCl01IobF1VA1QygKldAxd9jsxVQAKL2M6sFLXgqVgEVBn2psq+zY0soXVqBJCdzDpmwSjYraoAVUERERERElChN36HMnz8fL730UsXnXnjhBQ4ip7YJt3pV3YLnTYUteEG1Snlgo5XZkFd1BlTx8UpBih8NIZ/cGVCAacHzK7S36WAGlEb9GVBu2XsquMXfp5zmv5fCNvPChPJghRVQ427BCyqgnEx0zvLB6JaUECVtn2JSB+ELWRxCbuaLCQjJCigiIiIiIkqOpu/sjjrqKHzzm9/E448/XvL4Y489hn/5l3/BUUcd1bLDEcUJp3YLXnEGlJPYAAoAIO2SahUAQQWUrFoBZcUqusrDmvhj9jiqhcYr3EooqwRQSjVRAeWWvqd4RdR4qrrCdk2hXEgRzs+a2BByOJnoXE5ZW6BtCTN3KTJ2yHxbWXZxCLlWpgKQARQRERERESVI0zOgPvWpT+G3v/0tTjrpJOyxxx6YO3cutmzZghdffBFLly7F5z73uXackyjaggffqziIO96CN5nVJ80S0hpTAaWjFrzKYYsQArYl4Pm64iyj8DFrEtuu7CAQtIQ2VVllVUE6asFroAKqrAWv4BU34I3ne1m8VlxIaX493hlQfn4UAoC2M9Gcp/KqLMsyFVDhdSk6UAEVXVNKQQirajUdERERERFRJzQdQPX09OCnP/0pbr75Zvz+97/H4OAg9t9/f/zd3/0dTjjhBGQymXackwgilS7+xveAsjXz8SHkya6AkhUqoBQgZM3h6bYl4fl+zRlQ5cPJ28myTLBUrQVPBa2StSugKg8hLw4gH9/3sVgB5UFOsAVPFUZgAVBW8fpLlwdQUkBaAr7SUTXUpOY/sjgDSmtlwkxWQBERERERUYI0HUD953/+J1asWIFTTjkFp5xySslzmzdvxnXXXYePfexjLTsgUSic6wOYNjxRHkB5QQWU5SS6+qNSBVTUglfj3GbDXe0AalKHkAdffwlV8UxaNVEB5VduwXOc8YUoxRlQLuwJBlC6kDN/3i4GUE6q9EenZQlYUpgKKQvA5DbgmeAyVgEFaXEGFBERERERJUrTd6vnn38+nn/++YrPrV27Ft/61rcmfCiiSkx1kLmxrzQHSrmxGVBJJq1iWBAwVSuoWbnlBOFSpVayMACyJjWACoaQCx21psWFLXi1QrWqLXiuX/J8s6IKKN+DFQxmV6rytr66XDOEXEkTQFlSwC5rr7MtCUuKKOQSYnK34AnLRrhZUWtlvuZJrgIkIiIiIqIZp6EKqI9//ONYt24dADOr5swzz0QqlRrzuq1bt2LPPfds7QmJAsKyICwb2nejDWtx4RY8OOmqw7yTQFQIoKA1hGXXnBsUBimVhpCHoZQziQFUGCyZCqjqAVRDFVBVhpBPvAXPjUI5X2mEo7aaoQumss4LZknZloQs2zZoSQEpZRRAaT25M6AgRHEEulIQdirRc9CIiIiIiGjmaSiAOuOMM3DTTTcBAH7+85/j9a9/PQYGBkpeI6VEX18fTjjhhNafkggAIMy2L9+tWAFVHEJuJzyAkpUDqDptg1GQUmMLnmVN5uDroAIKquKGOa3DCqhGWvDKZ0CFFVATa8GD7xYrx5RCs/VPWmsIz1RAecEMKMsyQ8ZLPp8QSNkSI7kwGNWTewnGP5n2x7SnEhERERERdVpDAdTy5cuxfPny6Pef/OQnsXjx4rYdiqgSIYSpgMLYFjytFbRnHpNWakxAkChCQpcfT6u6Q6OdIFyqVG3kd2AGVDhjyBIanjc2gEIwhBw1KqBS0RDy8i144VD1iVVAoawFzwR/jV8bSgNwzQwoT5hQy7FkxXAp5UjsHFHQ2rTfTeoWPCEhgstCK8UAioiIiIiIEqfpIeT/+I//2I5zENUXBFAAxrTgmd+bO3DpOImvgBqTP2kdVRRVE1ZAJWUIeTww8/0KLZFBVZSuUdllV5kBFbXgjXcIuVWsgLJTsRa8Jj+O1hoiCKBckQLgRWcu59hW1OYHISAn9RIUxVytgWuJiIiIiIhosjV0l7Js2TL8+Mc/xpve9Ca87nWvq/m/7Ash8MQTT7TsgERxUQBVXgEVbMAzbXoOJnsLWXMqnE0rwKodttg1AygdvGYyB1/HAii3QktksAWvVhhSbQi5Gw4hH2egFlUAKRd2EICpMBxqgtYAgmurEARQlqxc3eTYEloHoRUwuTOYpIzCNR3MEyMiIiIiIkqShu5SzjzzTMyfPz/6NYfbUkcIAcgqAVS4Ac92zPWZ5Gs0FhZEGqhaCcOlpGzBi59Xef7YF6hmtuCV/vmoBc+Z6Ba82BByXwNN1kCZCigzA8pFCsAIHHtsBRtgAkIBBIPOxaRegiK28c4sUxxf5RgREREREVG7NBRAnXXWWdGvP/WpT7XtMES11WrBCwIoJxVEDMkNoOJhQaSBIeRhBVTStuABgOeNrYASUQVUjSHkVuUZUMUteBMbQq49N9qkV2lQej0agAgqoPIwoZZlyYohvCUFNEybnxSTXAElioPRtUDN0I+IiIiIiKgTxtWn8fzzz6NQKGDp0qXYuXMnvvGNb+DFF1/Ecccdh+OPP77FRyQKiOoteCragJdGyTycJArCAq11FFJoAKgUTMXYiduCZyEc6a28sTOgoINz1gigUk7YVqihlIYMBicVt+CNL0iRQQWU9grR5xhPC57y/agFLwygqg0htywJKYQZdj7ZRXhB1Z9WKmj/YwBFRERERETJ0vRdyj333IN3v/vd+OlPfwoAuOiii/CjH/0Ir776Ks4//3zcdNNNLT8kEQBT4RHOthkzA8pUQEknBUAn+wZcSBMYxNIQ0UDFTK0ZUJ3YggcAfvAjxK9QAQVlQqmaFVCxgCn+vgruRLfgxSqggkHmSgOqyQTKL+Qggpq6nA4roCq319mWgJACXhACyUmtgJJBEuibX7MFj4iIiIiIEqbpu7vvfOc7eMc73oEzzzwTQ0NDuPPOO/Hxj38cP//5z/Hxj38cP/zhD9txTiKzWSyqgCprwYtVQCW5+AkIgiYBlM4jEnUroMLqJq/GDKjJDqBU8CNE+RVmQAUVULUGYscDpngb3sS34JmwSHmFqp+jEbpg5j9pIVDwzVmqfY0tS8KSAr6vOzIDSggJrXwIaXEGFBERERERJU7Td6tPPvkkPvzhD6Onpwf33nsvfN/Hu971LgDAoYceio0bN7b8kESRaAZUlSHkjql8SfQQciEhhFVSAaWh687tqdaCp7WObcHrTADlV2jBEzqYAVUjgIqftxAbRD7RFjwRteC5JXOxKrUv1uLnc8FBM3CVjs5UbQaUJQU8XzVU0dZSwgSYWvnBsP4EVwASEREREdGM1PRdSjqdhhfcbP7mN7/BnDlz8LrXvQ4AsGXLFvT19bX2hEQRUX0GlBdWQKUQ7AGb5LM1QZoWPK2LYUgjc3uqDSH3lY69ZnLfd1QBVWMGVK1qHCFE8X3FqpOiLXgTbcHzXdixQeaVqsdqUfkR8wsnG50v3HZXzgRQEr6vggqoSQ6gANP2KCQroIiIiIiIKHGaHkK+fPlyfO9738PQ0BDuuOMOrFy5EgDwxz/+EVdeeSWWL1/e8kMShYSs0oIXbsGzU9FA5sQKzxZUQGkdjPJusAXPLwtRvFhwM9kVUFpYgK5SARVuwbNqhyGOLeH5quR9TLgFLzaE3LGL14JXqVWwBhW04MHJROezLFkx3xRCIGVLeL4OZkCN6+jjIoQ0FVBeASLlcAYUERERERElTtN3qxdccAFeeeUVfO5zn8Mee+yBT3ziEwCAVatWoVAo4Nxzz235IYkAmO1x06AFLwwLoi1xWjcUmjlVhpB7sQooa9Jb8MyZlT82gJINzIACipvwSiqg3KAFb5zvJz6E3Las6EvbbAWUzhcDqLDyzLHMFsNKHMcyQ8gnuwIqrKpTHoS0J/dzExERERERNaDpCqjFixfjl7/8JbZu3Yq5c+dGj1911VV4/etfj1Qq1dIDEhUVt+BVG0Iu7ZS5+Z/0szUhmNcTzYDSQWBRZ26PFQVQtSqgJved16qAQjADyqpXAVWhBS/8teNMdAZUAUIgmM2k4XnNbsGLBVCxCqhq+U7akWhgnFfrhQGm70PYTf9YJyIiIiIiartx3akIITA4OIg777wTO3fuRH9/P5YvX87widpLoMYMqKnUgicBKaBVvAJK1j2zHW3BK58BFQQjcpKrblCcAaUrtLYJBOesUwHlBDOaSgMo8/FS9nhb8IoVUAAgpQB8DU81uQUvVgHl5cMKqMpDyAHAti1IKSAnOYEyW/CE2YIXbAAkIiIiIiJKkqYDKK01vvzlL+Omm24KZtcYQgisXLkSl1xySUsPSFQkamzBKxtCnuAAyrRnSeigQkhHLXjj24IXDcce58DuidCi+ha8sAVP1qmACs8d34I34SHkVrwCSpgACmPnZ9Wj4xVQw8UzVbu8LGk+12TOf4oI83UOwzciIiIiIqIkaejubs2aNdGvr7nmGtx88804++yzcffdd+Pxxx/HXXfdhbPOOgu/+MUv8P3vf79dZ6UZTsRnQFUdQh5WfyQ3gAJg2u1iLXhmc9nEtuBN9gByIGjBA6DKKtIAQEQBVL0KqLEteGFb4fgroMIAyjUteCKsHmt2CHkuOGQ2qsqyqmzBM88J808HEigRzIGqN/SdiIiIiIioExq6Y/3IRz6Cn/3sZwCAn/70p/joRz+KT3ziE9hjjz2QSqWwaNEinHnmmfjoRz+Kn/zkJ209MM1sskoLXjSEfCq04AHBlrLyFryJbcGb7PlPQLECSvljW9uEDrfg1RlCXiGACoeQj7eqq9iCV4BAsQKq6SHk8S14fqzSrFoLniVhiclvwQMASGla8bgBj4iIiIiIEqihu6QPf/jD+Id/+Ac899xzePnll3HwwQdXfN3b3/52vPDCCy09IFEJWbkFT5VXQCU8gBLShg4ql7RWpmCrTgBVdQteGIx0pAIqnAFVoQUP4dDuxmZAxYephy14qQkPIXcBaFiy8teunjCA0nZxCLlj16iACuY/dSJ/EpZtgk3BAIqIiIiIiJKnodukz3/+87jrrrswZ84c7LHHHnjqqacqvu7JJ5/EwMBASw9IFIm14KHKFrxwBlTC9+ABlgUgbMHTENKqO0DcqhNAWR1twRsbQIVDyOu1hEUteLH2OHfCLXjhHCQNof1YBVSTAZQbtuDFAqgaW/AsS8KSgKwTJraFtCBk/W2KREREREREndDwncrAwAC6u7vx3ve+F//yL/+C//7v/46GkGut8ctf/hJXXnkl3vOe97TtsDTTieJw6fIWvDFb8Cb9cE0RQgKxLXiNhAZ2tRa84PdOR1rwTEBUaQteNITcbmwGVMEduwVv3EPI7eImOKHclgwhD8OrWmeygyHkHcgCzTUlLHSk/IqIiIiIiKiOprfgfexjH8OaNWtwzjnn4POf/zz6+/uxfft2+L6Pt73tbfj0pz/djnMSmeV2dr0teE7QfpfsBMpUcsWGkDcwt6faEPJOVkCFYcdEWvDsijOgWrMFDwDgudFQ8HibXyNKtuAF15ypgKp8fVmWhG3JjsyAEtKCkJwBRUREREREydR0AJVKpfDv//7vuOeee/D73/8eg4ODmDVrFg466CCsWLGiHWckCgigyha8cAaUtB3zuoTPgIIQYfwErXXdQd1AMWDyy7fg+Z3fgqdVhQooNFYBVWkIedSC54yzBU+Yajntu0CsAspT423By8LzTMhp12jBC8/ckctPhhVQDKCIiIiIiCh5mg6gQitWrMBee+2FwcFBDAwMYPHixa08F9FYonILnlZ+NBPKtOAh8QGUEBLFBKqxCqiwxa58k1txCHkH3rNsoAWv7gwo83zpDKiJteABphpO+y7gecUKqCZb8BCvgAq/zk71CigASDsWZCeuPyEAy+IMKCIiIiIiSqRxBVA/+tGP8O1vfxubN2+OHlu4cCE+97nPcQYUtY1AcaB1vAUvnP8EALCmRgseRGyTmtYQsvEKqCRtwYs299WogLIcZ8xzcU6lFjxvYi14QBBG5kcA340CofLqsboqDiGvPeJ+/pyuKPCaTEJIcx2xAoqIiIiIiBKo6QDqxhtvxN///d/jne98J4499ljMmTMHW7Zswe23347Pfe5zSKVSOProo9txVprphIAMZ/toBa18CGlBu0EAJaTZBAbU3SjXcUJAh0dseAh5AgMoWbklEoi14NVpL4wCqGDuk+8rKGUqlcbbggfEBpGr2Awo1XgFlNY6CqC0nYnmR9l27Ra8TGrchaUTZLZEik5s4CMiIiIiIqqj6TuV73//+zjllFNw1VVX4QMf+ADe8Y534Pjjj8d3v/tdnHjiibjqqqvacc6aduzYgYsuugiHH344li9fjpNPPhlr1qyJnn/ggQdwwgkn4IADDsBxxx2H2267rerHuuiii3DeeeeNeXzDhg34+Mc/jre85S049NBD8dWvfhWjo6NteT9UjTBVLYEw9FDBbB7hpE1lylS4AY+dUQvR0JnrbcHrTAAVBER6bAWUJYIKqAa34IUtbvFKKGcC7ykKoPz4FrzGK6C0VzDtkQB8Kx11TKZtC0mssBNOCla2u9PHICIiIiIiqqjpu7tXXnkF73znOys+9653vQvr16+f8KGa9dnPfhaPPvoorrjiCtx8881YtmwZTj/9dKxfvx7r1q3DqlWrcNhhh+FnP/sZTjzxRHzhC1/AAw88UPIxlFK44oor8OMf/3jMx9++fTs+9KEPwbZt3HTTTbj88stx55134rLLLpust0ih2HazsA0vrICSTgqAnhIBlBDFNi6B5iqgqm/B60Dbl6zcgqe0hgwim/oBVDADKgieCvEAaiIteFYQVvpu9LUpD+9qUfliwOzGikXrVUB1ipXthTOwsNPHICIiIiIiqqjpXpH9998f9913Hw499NAxzz366KPYb7/9WnKwRm3cuBH3338/brjhBrz1rW8FAHzpS1/Cfffdh1tuuQVbt27Ffvvth3POOQcAsHTpUjzxxBO45pprcMghhwAA1q1bhwsvvBAbN27EwoVjb+Cuv/562LaNf/7nf0Y6nca+++6Ls88+GzfeeKPZYJbEu9HpSAStddIClB9VQGk3qICy0yZ/mgrfDykBCNPmhcZmVlXfgtfJFrzKW/CUAqymZ0D5Jf+2pIje83hUqoAqb1+sRQcDyLWdQXAkCARb8MZ9KiIiIiIiopmp6bu7T3ziE/j5z3+OL33pS1izZg2ef/55PP744/jnf/5nXH311TjhhBPw+9//Pvqn3fr7+3H11Vdj//33jx4TQkAIgaGhIaxZsyYKmkIHH3wwHn744eDmH3jwwQexdOlS3HrrrVi0aNGYz/Gb3/wGxxxzDNLpdPTYiSeeiJ/97GdTI+yYNkTFTXjhEHITOKgpUQEFIc2wdK2goYNAqja7yhY8NwEzoETFCqjwXPW24JUOIXdbMIAcQLFd03dhyXB+VvMVUNpOR2cy1U8i8VsWiYiIiIiIkqbpCqjTTz8dAHDTTTfhpz/9afR4GOb8/d//ffR7IQTWrl3binNW1dfXhxUrVpQ8dscdd2Djxo244IIL8POf/xy77757yfPz5s3D6Ogotm/fjoGBAZx66qk1P8eGDRvwzne+E//4j/+IO+64A47j4JhjjsGnP/3pklCqWVprjIyMjPvPT7Zw5lWnZl9pN498Lg9YFuAC+ZFh+Ole5EeGzfOWg1wuD0umoBL+dVX5HAquCzk6CpXPQ+dysGTtM3uuCdxc1yu5bkZzpgIMWk369aSDWiDlF880OjpqKqCE+ZlQ8Pya59LKVLKN5lyMjIxgaKf5fjq2nND7UUEQWRgZhoCZjZTL5xv+mIWd283HsdLYNWKueUsK5PN5jI6MRFVVNH6d/plCycdrhBrFa4Xq4TVCzeD1QvXwGilqpius6QDqhz/8YdMHmkyPPPIIzj//fBx77LE44ogjkMvlkEqlSl4T/r5QKDT0MXft2oV/+7d/w1/+5V/iyiuvxEsvvYSLL74YmzdvxuWXXz7us7qu2/aArh2effbZznxi34W9/Xl0K1O699Lzz8HfMQpn04vIAhgteNj+3HNQmR6obfnOnLFRXgH29hegrRSEOwp/WECnumr+kRe2mOt1NF8ouW5efnkIALBr5+CkX08jo2ZLnFfIl3xuX+moBW/Dxg3Apm1VP8bmTSZw2jE4hLVr1+LlbcHfS+1P6P10j+aRAvDKSy9gdGQxAGDT5i1Yu3bsxr5K7FefRi+AvBbY+PzzAMy8ruee2wiZe4XVjy3UsZ8pNGXwGqFG8VqheniNUDN4vVA9vEaM8sylmqYDqLe97W1NH2ay3HXXXTj33HOxfPlyrF69GgCQTqfHBE3h77PZbEMf17Zt7L333vjKV74CAHjjG98I3/fxmc98Bueddx7mzJkzrvM6joN99913XH+2E0ZHR/Hss89iyZIlDX/tWkl7BeRfAIaeykIVhrFg/m5w5u+N0cKrGAHQ3Tcbuy1eDKunH868vSb9fM3QXgH55wWE7UAXRpHaYz/ITO0NZtmXdwL/swlSWli2bFn0+B9fXgdgCHPnDJQ8Phn+708PAIOmWin83KOjo/i/teuiFrzX7vc6WN2zq36MLYWXgd9tRzrThWXLlsF6bgeATejKpCf0fnas70duE7D73Dno29IDvJLHrNkDWLassTl1I3obhgCkuvowb94CANuRTtlYstdeeP3eA+M+FxV1+mcKJR+vEWoUrxWqh9cINYPXC9XDa6TomWeeafi1TQdQALBt2zZce+21+O1vf4vNmzfjmmuuwV133YXXve51OProo8fzISfs+uuvx9e+9jUcd9xxuOyyy6IEbsGCBdi0aVPJazdt2oSuri709vY29LF33313vOY1ryl5LPz9iy++OO4ASgiBrq7aVS9JlM1mO3Ju7TkQ6Qx2OQ4UAMeSyGQycMNZQ5ks0ukU7GwW6YR/XbXnQGSzZpaQBWS6uyHTtc/c3W0qd3yFkq+/tMxf40wmNenfF8sxf88kdMnnVr6PsEOtq7sXVo1z9XSbH9hKm/dl2aZFLpWyJ/R+dmXMx3UsE/YCgBCy4Y9ZCK4rkeqKvsaOYyGbzUzJv7dJ1qmfKTR18BqhRvFaoXp4jVAzeL1QPbxGmlsC1vSU3+effx7vf//78ZOf/ATz58/H1q1b4fs+NmzYgLPPPhv/+7//2+yHnLAbbrgBF198MU499VRcccUVJeVfBx54IB566KGS1z/44INYvnw5ZAODnwHgoIMOwuOPPx7NuQKAp59+GpZlVRxaTm0iEAwhN2GA9sxMJFWyBU9Hm9kSTQZDyJWCGa5e/1p0rHCQdukmNy8YkG11YCaRDAaMlw8h16p4RtHkEPJCsHJuwkPIreDngOdGXxtfNT6E3A+GkMPJRl9jx5IQ3IFHRERERETUtKbv8C677DLMmTMHd999N6688soolPn617+Oo446Ct/97ndbfshaNmzYgEsuuQTHHHMMVq1ahS1btmDz5s3YvHkzdu7cidNOOw2PP/44Vq9ejXXr1uF73/sebr/9dnz0ox9t+HOcfvrpeP755/HlL38ZGzZswH333YfLLrsMH/jABzAwwFacyWNu/KMAaswWPBM4TInZPMEmNa386Nf1WFblTW6eas3WuPEIK4OgSwMo3/fjL6r5McJgLQqgXPPv1IS34IXbEgvjCqBUPhhW7mRKNg1y+DgREREREVHzmm7Be+CBB3DJJZegr6+v9CYTwEknnYTPfOYzrTpbQ+644w64ros777wTd955Z8lzK1euxKWXXopvf/vbuPzyy/GDH/wAixYtwuWXX45DDjmk4c+xzz774Ic//CH+6Z/+CR/4wAfQ29uL97///TjnnHNa/XaoliCoETIMFkxLmnZNACWdlKmAaqCaqNOEkBBhAGXZEA1U49mWCT6qV0BN/vsOw0ChS89UUgFVL4CKKqDMz5Pw/aSciVWyhQEUfBdW+LXzVI0/UUoVTAWUdjJROGZZopGskIiIiIiIiMqMawaUbVf+Y4VCYdKrT8444wycccYZNV9z+OGH4/DDD2/o41133XUVH3/Tm96E66+/vunzUasJCLu0BU97QQuekwagGwpzEkHa0NqHELKh0MwOKoWU0iWrLsOqHtue/GQkbK8LB46HwnDQPDm+Fjx7whVQpiJOl7TgNR5A6SCAQioThX6OJSFYAUVERERERNS0pu/wDjzwQPzrv/4rRkZGoseEEFBK4cYbb8Ty5ctbekCiEgIQsrQFT7mxFrzGO6w6TkjLzIASaCiAClvwgNI2vDC4sTsQvIUteGNnQJnz+VrUDaXDSqdiANWaFjwZteC5UXWY7zfTgmcCKGEXK6BsSzb/Q5OIiIiIiIiar4D63Oc+h5NPPhnHHnss3v72t0MIgWuvvRbr1q3Dxo0bccMNN7TjnETFOUlhBVTYghdUQEknDd3gPKVEkBJa+RDSaqhyMGzBA0wbXlg5FIYqE60YGo8ogCqrgFJBe65qIK6xy2ZAha14KXuiLXhjh5CXty/WErbgwcnAzcVb8KbI9UVERERERJQgTd+xvva1r8XNN9+Mt7/97fjd734Hy7Lw29/+FnvuuSd+9KMfYdmyZe04JxFM+ZMoVkCFLXjxCihoYIpsKRPSArSuOyMpZMcqoPxYkBKGKnYHWsOiFrzyGVBNBFBRC17wPtxgCPmEW/CsoALKK0TVY80MIdeFnPlFKhuFY44lGUARERERERGNw7hmQC1ZsgRf//rXW30WoprCG/8xW/DccAaUacGbMgFBGDw12DpnxQImt1IAlaAKKB0EUqqB1sIogHJNaFVo8RBy7buwUuOpgDJtxsIpzoCybNnot4uIiIiIiIhiGgqgXnrppaY+6MKFC8d1GKJ6BAQQhB4IWvBUUAkl7JTpvpsiAVRY+RQGanVfLwRsS8Dzdcksoygc6cQMqKAdsrwCCk1VQJmvg9KmsqvYgte6IeRhdVgzM6CiCqjYFjxbSsgpUmFHRERERESUJA3d+R511FFNVZWsXbt23AciqkmIYmuVX2kLHjB1WvAkAFF3S1ycbUl4vl9SydPRGVAy3IJXOoRcqcYDqHjQ5Hqq2O424QAqbMFzo/bF5lrwgiHkqSxcz1RD2bbgFjwiIiIiIqJxaCiAuuSSS6IAanBwEKtXr8YhhxyCd7/73dhtt92wY8cO/OpXv8L//u//4rzzzmvrgWmmE9HcIe250FpHM6CkkzJzoaZIBRSEBGRxplUjzCyj0gAqbMeLDymfLJZtQwGQZS14UEELXhMzoADzXgpBK57ToiHkJTOgmmjB09EQ8iw8fxcA8/Vn/kRERERERNS8hu58TzjhhOjXZ555Jo4//nj8wz/8Q8lr3ve+9+FrX/sa/vu//xsnnXRSa09JFBICQoYVUJ5pwwvav4SdDtrxpkZCIKSEgAwqoRrjBEGKF2sl86MAavIroETQgid0aWWRDgIo3cAMqDDUUbq0AirltKgCyndhBeFcoxVQ2nOBoIor3oLnSMkKKCIiIiIionFo+g7v/vvvx7vf/e6Kzx1xxBF49NFHJ3woomqEECVDyJVXKD4XVLxMkfwJgAAsaSqhGhQGKV6lIeQdCKCs4HtR3oLXzBY8ALCDaqeC67ewBa9YAZVqsgVPhdVPAGCnozNZtjRzyIiIiIiIiKgpTd/h9ff34/HHH6/43IMPPoj58+dP+FBEVQlZ2oIXbMCDZccqiaZIQCAlhLCaqoCyogqoeAAVzIDqUAseAFjlW/DCGVCisTa6aBNeyQyoCbbgWcUZUJW+brWovJn5pK0UIK1iyCfFlOnwJCIiIiIiSpLGh88ETjzxRFx11VXI5XI44ogj0N/fjy1btuD222/HjTfeiAsuuKAd5yQyBKIteNr3oL1w/lM6erqZgfmdJKIwrfHzOtbYbW7RFrwOVEBFW/CqzIBqpAUPMIPIh2HeS8ELZ0C1fgi5argCymzAU3YaAog283Vi0DsREREREdF00HQA9YlPfAI7d+7Etddei6uvvhoAoLVGJpPBpz/9aZx66qktPyRRRMiSFrxwAHnUfgdMoSHkIhhEPrEKqDCMcjrRgheEPBIaWuso/NO6uQCqpALKDWZAtbAFz7abnAEVtOBpOxMEUMVB73KqXF9EREREREQJ0nQAJYTAF7/4RXzyk5/EH/7wBwwODqK/vx9vectb0NXV1Y4zEpUQstiCpzzTgiecNLTWCGqgOne4ZggJSBuiiRlQdoUAyo0qoDrRgme+F5ZQ8JWO2gDDGVAa42jBC96P40x0C16sAko2twVP5YsBFBBvc5RT5vIiIiIiIiJKkqYDqFBvby8OO+ywVp6FqC4hJGAVt+CVVEBpHVQVdfKEjRNCmPlPTQVQY1vwOrkFT8ZmQJkAKngibMFrsLrLiQ0hL7itasELq+I0bGnO0+wQcm2b1s6oBc/iEHIiIiIiIqLx4EATmlqEKA4h913ooALKzIAKwoUmAp2OCtvvmmjpCkMmNyFb8Gyn2IJXUl0UtOChwSHk4Wwl1y8OIZ94C54T/ToVbOlrOIAqq4AqtuDJKdPhSURERERElCRT5E6dqEjIoHCv0gyoqVMAZbbgSbupLXhhyOQnJICKtuAFLXihcAuebnQLnhVrwYuGkLdmCx4A2NKcLV45VktUAeWELXjFGVAMoIiIiIiIiJrHAIqmFimBsALK86DccAaUacETormKok4Slg3ppEqCknoqzYAqmU80yaxYC55XoQKq4S14TjGAKgTVRhNuwRMi+tra8AAAvmpsBpSuUgE10VCMiIiIiIhopmIARVOMKFZAQUetUtEMKIipE0BJC6l5e5W0itUTDhr3YpU88eqcyRZuJJTQUPH2tjDokY0OITev8zy/uAVvgkPIgWIbnhUEUErpYFh9bWEFFMIZUNGgd0Sb/oiIiIiIiKhx4xpCXigUcPPNN+Ohhx7C0NAQ+vv7ceCBB+L4449HJpNp9RmJIqaqpXjZqvwwgHAGVPSqST7V5CmvgPKVRpin2BOsGBqPcCOhFDpqnQMANNuCF5y9EGvBm+gMKCAIJvMjsHVxBlQ4q76WYgteFkrrqHXPDCEnIiIiIiKiZjUdQA0NDeFv/uZv8OSTT2LhwoXYbbfdsGHDBtx66634j//4D9xwww3o7e1tx1mJzOBuIWFCJg2VMwGUsFPQCLfgTd+IoDyAire9WbIDFVCxCiffc4tPBC14jc63is+AClvwWhGohbPBSiqgGvhzKj8CwMyA8rzi19i2rOmcbxIREREREbVN03d4X//61/HKK6/g+uuvx69+9Sv8+Mc/xq9+9Stcf/312Lp1K775zW+245xEAIIKqFgVlMrtMo87aTSULExxYQteWJETH0Y+0ZlJ4ztQMcP23WIFlNDNteCFYVPB9WNb8FrXghdWQGmUfs2q0YVccLB0ycZBxxKQ0zjgJCIiIiIiapem71jvvvtufOYzn8GBBx5Y8viBBx6Is88+G//zP//TssMRjSFM5ROCYEHlTKWKdFIAFABhBpFPU05ZBZTrxSugOtGCV/ycvucVn2gygArnPY3mvdhjrauAkrr4cb0GAqhoBpSTjb7GUgqIDlSZERERERERTQdN3+ENDw9j8eLFFZ9bvHgxduzYMdEzEdWmEW03C2dAmSHkCFrwOni2NrOiACqogAoGf0spIDsRjshYBVSsBa/ZCqiwemsk5415bCLKh5ADpQPcqwmH2yPWgudYEgKCQ8iJiIiIiIjGoek7vH322Qe//vWvKz7361//GnvttdeED0VUlRDQArEWPFMBJew0EM6AmsYJlB1twQtmQIXzkjpUmSOEgNLmc6uSCijT8iYaDaCCYG04VwyxwnlXEzpfEEBJXWwP9Hy/2ssjxS14magFz7bldB8xRkRERERE1DZNDyE//fTT8bnPfQ6+7+Mv//IvMXfuXGzZsgW33norfvKTn+DLX/5yO85JFBAmZwqChXDwk3BSMOvgpndCEIYy4RwjT7VuYPd4KUhI+PBiFVAyqoBq7EdMVAE1akKslC1bUmkkrGAIuSqezfOaqIBKFVvwHEsCQkzjeJOIiIiIiKh9mg6g3vOe9+DZZ5/Fd7/7XfzoRz8CAGitkUql8MlPfhInnXRSyw9JVEIUW/Cih5x09NxMCKDcsgqoTsx/CvlCwoYP5cUqi5rdghcGUHm35PcTFQWVyoOUAkrpKLSrRUczoNLwcrEKKGBaX19ERERERETt0nQABQCf/OQn8aEPfQiPPvoohoaGMGvWLBxwwAGYNWtWq89HVCqYQS6s0ktX2iloPf1b8MZswQtmQDl2596zCjp5lT92BpRouALKtOqFFVCOM/ENeEAsgPJcWFKaAKrODCitfGivYH5jZ6Owz7HMfLHpe3URERERERG1z7gCKADo6+vDihUrWnkWorrCIdDFFrzg8aACSojpPSTarrIFz2rBvKTxCgMoP1YBFQVQdnNDyMMZUK2rgDItePBdSJEBAHhe7RlQUfsdAOFk4Hq7AAC2bQXXX0uORkRERERENKM0FEAdddRRTd3U33333eM+EFFNwXU4pgXPDmZAic4FMZOhPIAKK6FaMbB7vHRYARUbQi6broAKt+CZACrV6hY834Uls+aXdSqgVMEMttfShrCdaGaUbYlgCDkTKCIiIiIiomY1dHf4tre9LbrpUkrhtttuQ29vL1asWIHddtsNO3bswP33349t27ZxBhS1mQC0HtOCJ5wUtJufAQFUsAUvCEXCICp8vBMqteAB5lzSarYCKmjBa7Byqp6wAkr7LmSwKTBsqatG53Pm33YGEMXX25aZAcX4iYiIiIiIqHkNBVCXXnpp9OvVq1fjTW96E6699lpks9nocdd18YlPfAIjIyOtPyVRnEBZC56AsBzoQn7aV6dEFVDBIG0vFo50ihIS0CgZQh5WQEmruQooFc20as37kbEKqDCACge3V6OCAeTayUAIwA3eV3Sm6X2JERERERERtUXTd3k33XQTPvaxj5WETwDgOA5OO+00/PKXv2zZ4YjGqNCCJ5xUEDypaV8BFc568v3kBFBahBVQsRa8oAKqvFKtmvLAKdWqIeRWcQaUFQZQdbbgqXzQgmdnICGiwMq2pAk/p3nISURERERE1A7jumsdHBys+PhLL72EdDo9oQMR1SagASAWbESDpjUw3SdEO2ELnq9L/t3RCiiYsCg+A0roZlvwrLLft3gGlBevgKo3AypswUubFrwggHJsaWZAteRkREREREREM0vTd3lHHXUUVq9ejfvvvz96TGuNO++8E9/4xjfwnve8p6UHJCoR3P2XVkCFoaee9gGUVTaEPEkVUL4fa8GbYAVUqwMo7RdgydL2xWp00IKn7AyEEGUzoLgFj4iIiIiIaDwauzuMOf/88/HMM8/g9NNPRyqVwqxZs7B9+3b4vo9DDz0Un//859txTqIS8RlQMhw0rQEhp3cLXvkWvPDfVgeHkEcteOUVUAKQDQ4TH9OC14Yh5GELnl9nCHmxBS8NIRBrwQvDJyZQREREREREzWo6gOrr68NPfvIT3HPPPXj44YcxODiI/v5+HHzwwTjkkEPacUaimHAGVKwFzwla8EwP3uQfaRKF2+78oPXOT0QFVNCCV2kGlBxfAOU4bWzB8xtswbMyECi24NlBOyEroIiIiIiIiJrXdAAFmCG8RxxxBI444ogWH4eoNiEEBMpa8OygBU9roMHAY6oKg6awLcyNZkAloAKqpAXPnEuWbCusbswMqBYFalEFlNdEBVS4Bc9Ol7XgCXP9MYEiIiIiIiJq2vTuV6JpSkDYlSqgpv+GsvIteMmogDKfW1eogGp0CHmqbVvwggDML0RtinUroIIWPGVnzOu90q/x9L7CiIiIiIiI2oMBFE0tQgDQJRVQ0olVQInpfUnbUYiSnCHkCFrwSgKoYAueZTdWZGm3ewh5SQtevSHksS14iLXg2dJU3zGBIiIiIiIiatr0vlunaUiYf+IzoOziDKjpXgFVHEKuS/7d0QqooO1RqyRuwas0hLxeBVTQgudkAZSFfGzBIyIiIiIiGhcGUDS1BPf+olIApTHty1OSuAWvYgWUCCugxjcDqmUteFEFVAGWLP3aVaMKYQteWQWUFJDT+/IiIiIiIiJqm5YGUCMjI7j33ntb+SGJyghThSLjM6BMUKBnQH+UXTYDKgxTWjW0ezx0EOzEK6CsJmdAjamAavEQcnhucQaUqhNA5cMWPDMDKhpCbsvpfnkRERERERG1TdNb8F588UV85StfwUMPPYRCoVDxNWvXrp3wwYgqChKA+BByGRtCPt1HRJcP0g4HZFsdnQFlvhelLXjmfI3OgCoPnByntQGUKozCTpsz1WvB08EWPAQVUNEQcikhmUARERERERGNS9N3ef/4j/+IRx55BCeeeCKWLVuG5cuX4+/+7u+w3377QQiBK6+8sh3nJCoSKBlCHm/Bm+7zeZyyFjxfhTOgOvi+gwoo+GNnQDXagielKHkPKbs1LXhO/3zIrj5oN4+F/ovBMetVQIUteGYGVMkQ8ml+fREREREREbVL0wHU73//e5xzzjn4//6//w8nnHAC0uk0Pv/5z+Pmm2/GQQcdhLvvvrsd5yQCEI4gF6UzoIIWPDEDWvCs8iHkXgK24FUYQm5FAVTjQVK8Da9lQ8ilhe7Xvg0AsHfhaQDFr101KtqCZ4LNsAXPkmK6X15ERERERERt0/Rd3vDwMPbbbz8AwD777IMnnngCAGBZFk455RQ8+OCDrT0hUZwIZkBV3IIHTPcWPDtqwQtmQIUVUC0KbMZDBAEUggBKa910BRQA2LF5Ua2qgAKA7tcdDABYnH8GAqrmEHKtFbRrAqiwAipqc7QFBKeQExERERERjUvTd63z5s3Dli1bAAB77bUXBgcHsXnzZgDA7NmzsXXr1taekKiEqYGCVW0G1PQWVjoppaGULoYjHQxGogBKmwBKKQ1LBDOgnMbHzJVUQLVoBhQAZJfsD5npQVYNYx97c9S2WIkOqp/MIYIh5J55X46UXBtKREREREQ0Tk3fT61YsQLf+MY38Oijj2KPPfbA7rvvju9973vYtWsXbr75ZsyfP78d5yQygpylZAteMCxamycm/0yTKD5s3Fcq2ujWqpa1cSmrgPJVvAKq8QAq5bS+BQ8AhGWj67UHAgAOSG2sWQGl8qPhH4KUpnorasGzBCQroIiIiIiIiMal6bu8s88+G319ffjmN78JADjnnHPwgx/8AAcddBBuueUW/O3f/m3LD0lUFGzBK5kBlSp/etqKD+r2/HgFVAdb8MLvRSyAssbRghcPnVrZggcA3a87BABwQOo5+F6NACrcgOdkgCBsis/ZEtP9AiMiIiIiImqTxssTAv39/bjpppuwadMmAMD73/9+LFy4EH/4wx/wpje9CW9729tafkiiSDADClJC2ClorwCZ7gqfxHRPoOLDxj1fFbfgJWAGlNDBXCpPRS14dhMVUE5sBlQrW/AAoGvvA+DKFGZjBH2jzwNYXvF1UQWUk4EQZmNe2LFnWRIdzPmIiIiIiIimtKZvp6688kq8+uqrmDdvXvTYgQceiI9+9KNYuHAhvvrVr7b0gEQVaaD/8JMw+y9OgJXtBQAIaIhpvqYsPuvJ8xXcoDrHsTo4A8oqa8Hzveg52UwAFZ8B1eKtfsJ2sLnntQCABbuerPo6VRgBAGgnAyFE1H4HALaUENO8xZOIiIiIiKhdmr6buuqqq/Dqq69WfO6xxx7DTTfdNOFDEVUVBUwa2SX7RxvOxj4/PQkhojY839fwo/lEnW/BE8EQct+LBVBW4wFUvIor5bS2BQ8ANve9AQCwx8iT0LryIHKdN0PItZ2BQLH9DgAsa9pfXkRERERERG3T0N3hX//1X+Oxxx4DYFasn3TSSVVfu//++7fmZERVjU0BTKAw/VvwANOG5/k+PF/B83X0WKdEM6CCFrx4AAWr8SCppAKqDS2Fg7P3Rf55G93+EAqvrEd6wdIxr4nPgBJCRBVmtmVaPzmDnIiIiIiIaHwaCqD+4R/+Abfffju01rjqqqvwV3/1V9h9991LXiOlRF9fH4499ti2HJQIgBkCLQSCnXcxOpgP1YlTTS5T7RQGULGApENkMBgprIBSbjGACudDNSI+eLwdAZR0MniisAfekt6I4ScfqBxA5YMWPDsNIYob8GxLQmtAMIEiIiIiIiIal4YCqH333RdnnXUWANMCdOKJJ2L+/PltPRhRRcUOvFJhS9UMmNETzkfyfB0LoDr3vmWw6S4cQu77PqIoqYnvh9PmFjxLSjzm7om3pDdi19oH0H/EqWNmhqlCaQteNGPLlgA0t+ARERERERGNU9Nb8MIgauvWrSgUCtEsFaUURkdHsWbNGpx88smtPSVRpFoFVPDUpJ9n8llBtVO8AqqjM6DKtuD5ngsLgKdlU0Ph292C51gCTxQWwYMFbH8FhU0bkZ6/pOQ1OmjBU7ZpwfOiACp4jzPhAiMiIiIiImqDpgOoJ598Eueeey7WrVtX8XkhBAMoah8RzHmqUAElhJwRCYEVVUAVZ0C1emtcM6QVBlBBC14wA0o1ueOgNIBqfQWUbVvIw8Hz9hLs7a0zbXhlAVSxBS8DIYCC58fOJqb9lkUiIiIiIqJ2afqu9Z/+6Z8wODiIL37xi3jb296Gd7zjHfjSl76EFStWQAiBH/7wh+04J1GZsgRqBg0hd2Jb8IoVUJ1738IyLXgy1oIHAKrJ70W4Bc+SAlYbZi2Fc7Kesczsp+EnHxzzmmILXhoCAvmCeS9px4KAngFXFxERERERUXs0HUA99thj+PSnP42PfOQjeM973oPR0VGccsop+O53v4ujjz4a1113XTvOSWTUGzQ+AypUogooT8FPxAyooAIK5izKH18FVDiEvB3td0AxpFsnlwDShrvlBRQ2P1/ymnALXlgBlXdNAJVJWybynP6XFxERERERUVs0fadXKBSwZMkSAMCSJUvw5JNPRs+dcMIJ+MMf/tCqsxFVYBKAcPZYSEdb8KZ/QhCGTZ5SyRhCHrTgybIWPH+cLXjtaL8Dil+jUZVC1z4HABhbBaWDFjzlpCGEQC4fVkDZEMH/ERERERERUfOavmtduHAhnn/eVA0sWbIEu3btwgsvvAAASKVSGBwcbO0JiWJEtZCpwkzy6SpsJfO84gwou4MteDJswSurgNJNbiQMA6iU054wzY7Nzup+3cEAxgZQUQuelQEEkHPNe8mkrOL8eyIiIiIiImpa03d6xx57LL7+9a/jjjvuwPz587HPPvvgG9/4Bp566il873vfw+LFi9txTqKIAIKZT3EKZkh05yqBJkuxAkonowLKLt2Cp6IZUOOtgGpTC540H9dXGl2vPQiQFgqbnoW77eXoNWNa8MIZUCkLWmsGUEREREREROPU9J3eWWedheXLl+OnP/0pAOD888/HnXfeieOPPx4PPvggPvWpT7X8kEQlKoVMGvXnQ00TYdjk+/EKqM4FUJZllmlGFVDeRAOoNrXg2eHwdgUr24vsXm8EUFoFFW7BU3YGAgK5IIDKpGzMiIuLiIiIiIioTexm/0A6nca3vvUtuK4LADjssMNw66234o9//CPe8IY3YM8992z5IYlKVQoCghlQMyAkiLeSJWELnrRtKLSiBc8ET+1uwfOVCe26X3cwRjc8huEnH8Dsv1gJoNiC51upoALKvJd0ygKgIVkCRURERERENC7jutNTSmHnzp3Ytm0btNZYvHgx3v3udzN8oskhBMYMfQpXlM2AgCAMm1xPQanOV0BJu7QCSkdb8JqrZIoqoNr0XsYEUPu9HRAS+ZfXwR3cBK01dD7eghevgArey/S/vIiIiIiIiNqiqTu9W2+9FR/60IdwwAEH4NBDD8Whhx6K5cuX4/TTT8ddd93VrjM2ZMeOHbjoootw+OGHY/ny5Tj55JOxZs2a6PkHHngAJ5xwAg444AAcd9xxuO2226p+rIsuugjnnXde1ee11jj99NNx2mmntfQ9UGOEEBWGjmsTDsyAACoMUsL5RPHHOsEqG0LuhzOgmqyASjlWyb9bLRzU7gdti1b3LGT2XAbAtOFpN4fwwlJWGgKIAqh00ILHLXhERERERETj09Adou/7+MxnPoNzzz0Xzz//PP7yL/8Sp59+Ov7u7/4ORx11FJ5++ml86lOfqhnatNtnP/tZPProo7jiiitw8803Y9myZTj99NOxfv16rFu3DqtWrcJhhx2Gn/3sZzjxxBPxhS98AQ888EDJx1BK4YorrsCPf/zjmp/rBz/4AX7zm9+08+1QTWMroHQ0lHz6BwRh2JSLB1BtGtzdiHAIuVXegtdkgeVbXrsbDnr9fLz3Hfu09oABK6qAUtFj3a87BAAwvPZBqLxpv4MQ0LK0BS+TsiDAIeRERERERETj1dAMqBtuuAH/8z//gwsvvBAf+tCHTAVKjO/7+NGPfoRLLrkEBx54ID74wQ+25bDVbNy4Effffz9uuOEGvPWtbwUAfOlLX8J9992HW265BVu3bsV+++2Hc845BwCwdOlSPPHEE7jmmmtwyCHmBnTdunW48MILsXHjRixcuLDq53rqqadw1VVX4c1vfnPb3xdVISu04MFURpVfm9NR2IKXC8IRoMMVUFELnvme6KACqtkZULN60rjo9INbe7gYO9iCF7YtAqYNb+sd1yD/4lNwt74AABBOFpCo0II3/a8tIiIiIiKidmnoDvE///M/8dd//dc47bTTKt7gW5aFU089Ff/v//0//PznP2/5Ievp7+/H1Vdfjf333z96LAwjhoaGsGbNmihoCh188MF4+OGHo8qZBx98EEuXLsWtt96KRYsWVfw8+Xwe5557Ls4++2zsvffe7XtDVEeFFjytK2/Hm4acshY8IQBLdi4csZxiC57WOjaEvD2tdOMVbcGLBVB27wDSi14HANj5f/8LABCpDLQ2r827QQueY5klizMg4CQiIiIiImqHhu7YN2zYgMMPP7zu6w477DA8/fTTEz5Us/r6+rBixQqkUqnosTvuuAMbN27EYYcdhldeeQW77757yZ+ZN28eRkdHsX37dgDAqaeeiq997WuYM2dO1c9z+eWXY968efjQhz7UnjdCjak0hBwzJ4CyylrwOln9BJgAGjAteL7S466AarfyIeShnmVhG17QkutkEF5fubwJ01LBEHLmT0REREREROPTUAve6OgoZs2aVfd1/f39GB4envChJuqRRx7B+eefj2OPPRZHHHEEcrlcSTgFIPp9oVBo6GPee++9uOWWW/CLX/yiZVUQWmuMjIy05GNNhtHR0ZJ/d4qby8PP5WFZuegxlcsBSkBPoa/nuGkT8AyP5AGY6qdOXkeuZ85jCYWdO4fhBX+nFGSirm/PDc6lNIaHh6O/x3LPNwEAtGu+ntpOI5/PY3RURBVQUB7yvrn2LXhjPziNS1J+plBy8RqhRvFaoXp4jVAzeL1QPbxGirTWDWckDQVQWuuoyqEWKWVsGHRn3HXXXTj33HOxfPlyrF69GgCQTqfHBE3h77PZbN2PuW3bNlxwwQX4yle+gvnz57fsrK7rYu3atS37eJPl2Wef7ejnl0OvQuaGoNM90WOiMALtZOAPTv9wYHDHDgDAlm3m3wK6o9eRPzyEuTAzoJ548kkM79oJAPBUZ89Vbtuu4rXxpyfWlrQt9s5aCHvwJQDAiKvwwgsvYltaIvxx9spLL6Dga8j8JmRTyarsmg46/TOFko/XCDWK1wrVw2uEmsHrherhNWKUF/xU01AANVVcf/31+NrXvobjjjsOl112WfRFWLBgATZt2lTy2k2bNqGrqwu9vb11P+4999yDzZs344ILLsAFF1wAwARYSim85S1vwW233VZzcHk1juNg3333bfrPdcro6CieffZZLFmypKHgrl3czd3wd26F1T07eswfGYLM9iK1e3s2qCXJo8//GXhyF5x0F4AcUikby5Yt69h5vJ07sOU+wBYKS5fui6E/PQIAkE6qo+cqt21oFMArAIDXvGY/pFPFUH3XrsOw6zdm+2XXrAEsXrQHUo4FYDMEgKX7LMFwzsPr9upHV2Za/djsqKT8TKHk4jVCjeK1QvXwGqFm8HqheniNFD3zzDMNv7bhO6mvfOUr6OnpqfmaXbt2NfyJW+2GG27AxRdfjNNOOw0XXnhhSQnYgQceiIceeqjk9Q8++CCWL18OKetXMxxzzDFYvnx5yWOrV6/GK6+8gtWrV2PevHnjOrMQAl1dXeP6s52UzWY7eu58Vxe8wi7YmUz0mO/nILNZZKbg17NZmYwJVl3flOc4ttXR74cXa0lLpVLRYDkhO3uucq4q/l13Uml0dRVTeudNh0cBlJXpRiqdjqqf0ikL2UwWnnbR1ZVFV8aZ1HPPBJ3+mULJx2uEGsVrherhNULN4PVC9fAaaW5RU0MB1EEHHQQAddvruru7ceCBBzb8yVtlw4YNuOSSS3DMMcdg1apV2LJlS/RcJpPBaaedhpUrV2L16tVYuXIl7rnnHtx+++245pprGvr4PT09Y8K37u5uZDIZ7LXXXi19L9QIAZRdi2YJ3sxojbLLtuDZVmcnY0urGMj4rgetgrlJCduCZ8WuD1+pkuec/t2Rmr83Cq9uAJwsAIF8wQRrmZQNDXALHhERERER0QQ0FEBdd9117T7HhNxxxx1wXRd33nkn7rzzzpLnVq5ciUsvvRTf/va3cfnll+MHP/gBFi1ahMsvvxyHHHJIh05ME1E5AtBVn5lu7GgLnlfy+46JBzueV9yCJxMWQFkSIsguXW9smN534HHYctt3IOftA0BHX990yoKGhsBMucKIiIiIiIhab1oMMznjjDNwxhln1HzN4YcfjsMPP7yhj9dI4HbppZc29LGoDaQcUwEFrYGEBR7tElY85aIKqM4GUMIq/hjxXRci2NInRLIq0oQApBTwfQ3XV2Oe73vz0eje7+14ZReAV3ZFFWZpxyrmm0ygiIiIiIiIxiVZd4hEDamcAsyUbKDYghdWQHX4nceCJt/3iy14CQsEhRDR5jvfGxtAAYCV7YVWJqwKA75M2irmT2zBIyIiIiIiGhcGUDTlmBBg5lZAWVELnl/y+04RQsDXJpjxXBdIagAFRAFUpQqokNKAhIhVQNlRBRTjJyIiIiIiovFhAEVTjxBj8idAz5jqFCeoeAq7EDvdggcAfvCjRPlecgMogWjrpedXX6igtAJEccZWJpoBJTBDLjEiIiIiIqKW6/ydK9F4lAcB4ZqyGaC84qnjLXgAVPCjxPc8QJvqIpG4ACrWghcMSq9EKQ0hgLwbVEClLLNlkVvwiIiIiIiIxo0BFE09QgQ7yYq0GdDTmfNMsvKKpyRUQIUBlPKKFVCJC6BghpADdSqglKmmi2ZApeyo4m5mXGFERERERESt1/k7V6KmVYoBZs6KsvKKp0QEUKJYASWDLXiwkhVAIVYBVWsGlK9NvBkOeU+HLXimBGoyTkpERERERDTtdP7OlahZAqg4hHyGZANjW/A6/9dYxWdARS14diePNEZ8CLlXawi5QlkFlBVdbTPkEiMiIiIiImq5zt+5EjVJYOwQclOcMjMu5/LAyUrEDChT7eR7HkQYQCWsAkpKEQ0h92u24CkIUdwymA5a8ITgEHIiIiIiIqLxmhl37DS9VAoCNDBT6lOS2IIXzuTSvgcRzICSCQugAMSGkFevgAqL6fIlW/CCJk8mUEREREREROPS+TtXoqaNrYCaIdkTgLGBk2N3/q+xEiZsUp5fbMFLcABVbQi51rrCEHIL0JrVT0RERERERBPQ+TtXovEoCwNMAdTMuJzHtODJzicj4RBy5XsQCLfgJWsGFFBsV6w2A0rrYjFd3i224Glw/jgREREREdFEzIw7dpoZZkhAUB5A2QmogNKxIeQyqIBKZgueOWf1AEpDaw0JgVw+aMFzLGgNSCZQRERERERE49b5O1eiZgmBsWlTpcemp/Kh47bs/F9jHbXgJXcIORCvgKrcgqeih3WxAiptQUNz/hMREREREdEEdP7OlahpArpsCJSYQQGBk8AKqGILnh8FUNJKXgueLWu34AEaSmu4voIOLrGME2zB6/yXmYiIiIiIaMriLRVNPSL6j7LHZ0YAZZUHUAmYAYXYDCgZzoBKYAAVfu2qbcFT2syBKrhBFReAlCOhwRY8IiIiIiKiiWAARVOQQHwNntYaM6kFzy5vwUtABVTUgud7EEHpUCJnQNUbQq7MFPLiAHLLVNZpzJgKOyIiIiIionbo/J0rUZPGBgHaVD/NkHxg7Ba8zv811rEWvGIFVPICqPBrV20GlA7+KQQBVCZlB49rVkARERERERFNQOfvXInGoSQKCIf1zJAEakwLnt359x1WQMH3IJHgGVBRC16VAEqbGVDxCijzxIzp8CQiIiIiImoLBlA09VRKAsTMaZEa04JnJeCvsSy24BUDqORVQFl1hpCroAQqnAGVCQIoMwNqMk5IREREREQ0PSXgzpWoWWbekw4rn7SGMAlUR081WcoDpyQEUGELHpSCDLfg2QmugFJVtuBpDa018gUPQHkFVOe/zkRERERERFMV76hoehASM6YFT5ZXQCXgfQcVUDpWAWUlOICqNgMq3IKXL5sBpaBnSr5JRERERETUFgygaOoRCKqdihVQ5vGZkRAIIUpCpyRUQCGYAaWVDyvJLXj1tuBpDQ2NfCGYAeUUK6DYgkdERERERDR+CbhzJWpWkASE+VO0BW/mJATx0Kl8KHlHyGIAJYNvjGU7nTxRRWH1WPUh5AAgihVQ6XALHiATsG2QiIiIiIhoquIdFU09QgQZVJRAzTjx0MlJRAAVzoDyi0PIE9yCV20GlJkrppErr4BiCx4REREREdGEJODOlag5Y3MABcygIeRAaehkJWAGlJBB2KR8WCKYAZXAFrz6M6A0ABENIQ+34BEREREREdHEMICiqUcIs/VOxyqghICYQQGUlbQZUCUteMmtgAq/blW34AEoqYCKAqiZdX0RERERERG1WgLuXImaVV7tpIuPzxDxFrwkBFDCKm7Bs4Lvh53AACpqwatWAaUAQEQBVLgFT0DPoKuLiIiIiIio9Tp/50rULBH8R0kFlJxhLXjxCqjOv28RVEBBeZDCfF+SWAFl19uCBzMDKmzBiyqgorljRERERERENB4MoGgKKk8CtHloBgVQiauACgIo4bvRY4mugFK1t+AVK6CCAErDtH0SERERERHRuHT+zpVoPGJhk9YzrwXPTloAZQWtasqLHrNsp1PHqarYgld9C56ARj6aAWXel+YWPCIiIiIiognp/J0rUbOCJEBDxx6aWUOi4213tt35v8YymAElVWHMY0liRS141SugNARyFbbgzaDLi4iIiIiIqOU6f+dKNF5hhqC1mQE1g8SrniyZgGQkqICytBd7LHkBlC3DFrzKFVCmMkoj73ILHhERERERUSvNrLt2mh6EgGm3ixIozKT2O6A0gHISUQEVBFBBC57SAiKBoaBl19mCpwHf09F8+3ALHrgFj4iIiIiIaEKSd4dIVIeACEKo4hY8kYQqoElUWgHV+b/GYbudBTOEXCU0rgm/btVa8JRWyHum+kkIIBUP95L5loiIiIiIiKaEzt+5EjUrDAKiDEEDInntXu1kJW4GlKkUcoIWPD+hP1rC2VnVWvCU0nCDACrtWFHbnQj+j4iIiIiIiMYnmXeJRDWVJVBaz7jqlJIteAmo/gq34NkIWvAS+qOluAWvSgWU0igUTDhVbL8DILgFj4iIiIiIaCKSeZdIVIsIWvBKKqBm1qVcEkAlogLKVKDZMNVDya2AqjOEXGsUvPIB5AA00yciIiIiIqKJSOZdIlFdxRlQWiORA6/bKd6Cl4QteGELXkqEFVCdP1MlYQtetRlQWgEFL6yAMgGU1jrIPJP5noiIiIiIiKaCmXXXTtNHSRagMdP6o5ygkse2RCKCEWEHM6CmSgtetQoopVAohBVQ5j2FUVUCvsxERERERERTVjLvEolqKU8CtAYSsAluMllBkGJZyXjfUppqobAYK/kBVJUKKI2oBa9YAQVAJCPoIyIiIiIimqqSeZdIVJOZAaW1jj0ys8KBsJXMTkgAZdl2ye8TG0DZwRa8Ci14WmsoDeTd0gAKWkNgxs25JyIiIiIiaqlk3iUS1SBEWdykNSCtai+fluxYC14SiKkSQAXD0lWFCiitTQiVd017XkkLnmALHhERERER0UQk8y6RqB4hg94oANAzrj2qGEAl46+wbU2VACqogKowA0prDa11NAOqWAE18yrsiIiIiIiIWi2Zd4lEzQhm9Mwk4Ra8xMyAKq+ASuj3w7FNqFRpBlT4UCFowUs7wQwomNlWMy3kJCIiIiIiaqVk3L0SNUtIhPvJtMCMC6DCyicnIS14YwKohP5ocYIZUFpXasPTUFojF82AClvwzOuS8ZUmIiIiIiKampJ5l0hUhxAI86fikJ4ZJGkteJbtlPxeJ/RHix3blljehqd0sAUvrICKteBxCjkREREREdHEJPMukaiueAKFGRcO2AlrwbPs0iHwWiTjXOVsu3gu1ysLoJQGNJAvmwEV5U8zrMqOiIiIiIiolZJ5l0hUTyzgEAIQCQ082qXYgpeM9z11WvDiFVClLXi+r+ApjXxZBZTWGhBmDhQRERERERGNTzLvEonqEUBUATUDW/DCyicrITOg7LIWPJXQQDDesuj5pRVQvtLQSsUqoIJQLdqCl4yvNRERERER0VSUzLtEonqELHbgzcDWqHD4eHJmQJW14CX0R4sQAjIoZfL90gooz1fQAHIFD0CsAgphld1knpSIiIiIiGh6SeZdIlEdIjYDSkPPuHRgzqwsAGDu7GyHT2JYTqrk90mdAQUAVhBAjamA8jW0LrbgxSugANY/ERERERERTYRd/yVECSQFdLyAZYYFUG9+7W649Mx3YMmCvk4fBQBgl82ASnIAFVVAlc2Acn0frqej66pYAaXNAPIZdo0RERERERG1EgMomqLKtuDNsPoUIQTesM+cTh8jYjlTJ4CqVgHleip6TAggFQwsj7bgTeYhiYiIiIiIppnk3iUS1RKrRhEwgQx1jmWVBVAJ/tESBVBeaQBViAVQaccqXlPBECheYkREREREROOX3LtEolqEREkPHtOBjhLlLXgyuT9arOBs5RVQhYIPNwilMuni+4kqoHiNERERERERjVty7xKJGqA1G6SSQAiJkpFKwqr62k6TUQte8cC+0vCVjqqi0k7x/Fpr5ptEREREREQTxACKpqRiNUqwAY8BQcep2I+TqTYDyvcVfF+hEFZApWIB2sxbskhERERERNRyyb1LJKolbMGLiliYEHSaP1UCKCvYghcLoDxfQWlELXjpVGkLnkxwSyEREREREdFUwLsqmpJKK6A4nycJ4hVQSW7BC2dAufEKKKVNBZTrAyitgNKJHqlOREREREQ0NfC+iqamaEOZhjAJVGfPQ6UBlEzu9yOsgCqZAeVrKI2KAZQpgZrMExIREREREU0/vK2iqSvcgick2ILXeVOnAmpsC56vFACNXMEEUOUteBYDTiIiIiIioglhAEVTkxDQArEQqqOnIZTOgIJMbgBlW0ELnhefAaUhAOSrVECxxZOIiIiIiGhiGEDRFCUAbebzmC14vJQ7rWTweIIDm0oteJ7vAxDI5T0AQNopnQHFAIqIiIiIiGhieNdOU5MI/tH1XkiTRU2RCqhwCLkJnYxCQcGSIlYBVWzBCzNOIiIiIiIiGj8GUDR16fA/OIQ8CUpnQCX3R4tthTOgiullwfMhpUCuEFRAxbfg6UTPVCciIiIiIpoSknuXSFSDgDCZkzblKWyR6rx4C56wkvujpVgBVZwB5XpBBVRh7Awo04KX3PdDREREREQ0FUybu6odO3bgoosuwuGHH47ly5fj5JNPxpo1a6LnH3jgAZxwwgk44IADcNxxx+G2226r+rEuuuginHfeeWMev/nmm/G+970Pb37zm3Hsscfi6quvhh9r46FJJMp78BhAdVq8AkokuAUvqoBS5trxfQXPV7CkjG3BiwdQrIAiIiIiIiKaqGkTQH32s5/Fo48+iiuuuAI333wzli1bhtNPPx3r16/HunXrsGrVKhx22GH42c9+hhNPPBFf+MIX8MADD5R8DKUUrrjiCvz4xz8e8/F/8Ytf4Mtf/jI+9KEP4Re/+AU+85nP4F//9V/xne98Z7LeIpUIwicN0+7FCqiO0yIWOsnk/mixrNIKKE9pKKUhrXgFVNkMqOS+HSIiIiIioinBrv+S5Nu4cSPuv/9+3HDDDXjrW98KAPjSl76E++67D7fccgu2bt2K/fbbD+eccw4AYOnSpXjiiSdwzTXX4JBDDgEArFu3DhdeeCE2btyIhQsXjvkcN954I44//nicdNJJAIA999wTGzZswE033YSzzjprkt4plQpCKGZPiVDSgieSXAEVBlDFCihfAZaoMgMKgGQCRURERERENCHT4q6qv78fV199Nfbff//oMRHMBRoaGsKaNWuioCl08MEH4+GHH4bW5ib0wQcfxNKlS3Hrrbdi0aJFYz7Hueeei9NPP73kMSklBgcH2/COqC4zACr6/rFEpfNU/HuQ6AqocAi5qYDylYZSCkKi8hY8aBbYERERERERTdC0qIDq6+vDihUrSh674447sHHjRlxwwQX4+c9/jt13373k+Xnz5mF0dBTbt2/HwMAATj311JqfI6ysCu3cuRM33ngjDjvssNa8CWqSCPffcQh5QpS24E2dCijPV1Baw/M1wjwzXgHFa4uIiIiIiGjipkUAVe6RRx7B+eefj2OPPRZHHHEEcrkcUqlUyWvC3xcKhaY//vDwMD75yU8in8/jC1/4wrjPqbXGyMjIuP/8ZBsdHS35dyf5uVG4+TyEEoBlA1Po6zhd6VgvpJQyEddJRcpUOeXyBYyMjGDXrhzy+QIGfdN+JwSgvAJyvnk/+VweuVwOIyMMolotST9TKJl4jVCjeK1QPbxGqBm8XqgeXiNFWuuG/0f7aRdA3XXXXTj33HOxfPlyrF69GgCQTqfHBE3h77PZbFMff/PmzVi1ahVeeOEFXHvttRXb9Rrlui7Wrl077j/fKc8++2ynjwCR3wVr+4uA5UBbNvyduv4forZy/dj3wLIScZ1UMjS0AwCwZes2rF27Ftt3eXhleyHap+hYAs9ufDZ6/eCwB28kha3d0+7HZWIk9Vqh5OA1Qo3itUL18BqhZvB6oXp4jRjlBT/VTKs7quuvvx5f+9rXcNxxx+Gyyy6LvggLFizApk2bSl67adMmdHV1obe3t+GPv27dOnz0ox+FUgr/8R//gde85jUTOq/jONh3330n9DEm0+joKJ599lksWbKk6eCu1fzhQbgvCwg7BaSySC+c2PeCJu7BX6eAvPm1EDIR10klv3/2KeDpYfT1zcKyZcvw4uZhpHqGMZLzAGxDNuNg7yV7R6/fOjiKvRf2Ye7s5L2XqS5JP1MomXiNUKN4rVA9vEaoGbxeqB5eI0XPPPNMw6+dNgHUDTfcgIsvvhinnXYaLrzwwpISsAMPPBAPPfRQyesffPBBLF++HLLBYcnPP/88PvzhD6Ovrw/XXnstFixYMOEzCyHQ1dU14Y8z2bLZbMfP7WsXuXQawk5BZrqQmYJfx+lGyOKPE2FZibhOKslm0uYXQqKrqwuW7SKb9TGcN+WzmZSNTCYTvT6d0+jq6kJX18z+fyztlNRrhZKD1wg1itcK1cNrhJrB64Xq4TXS3MzcaRFAbdiwAZdccgmOOeYYrFq1Clu2bImey2QyOO2007By5UqsXr0aK1euxD333IPbb78d11xzTcOf44ILLkChUMAVV1wB27axefPm6Lnddtutpe+HGmU24YGjeRJBy/jg7uRuwbODLXhesAWv4PqQUiBXCDfglQ5Q19yCR0RERERENGHTIoC644474Lou7rzzTtx5550lz61cuRKXXnopvv3tb+Pyyy/HD37wAyxatAiXX345DjnkkIY+/quvvhpVUH3gAx8Y8/xTTz018TdBzQkTAa2BBIcdM0psC56wErwFzy5uwdNao+ApWFIiHwRQ6dS0+LFIRERERESUKNPiTuuMM87AGWecUfM1hx9+OA4//PCGPt51111X8vv58+czZEocE0CZifsMoBIh1s4qGmxt7QRbhgGUgq80lDIBVK5gtuCVV0ABAlKyBIqIiIiIiGgiknuXSFRLmAdoDfZHJUSsBU8muQIqasHTUQhlSRFVQMUDKM9XsCyBlJ3c90NERERERDQVMICiKUqY4Enrksob6qD4DCgrud8TKzib7yv4voavdMkMqHgLnusppGyJlMMAioiIiIiIaCKSe5dIVEtU9aQhOIU8EUq24MnkBjaOVdaC55sKqM07zBa8Wd2p6LWup5B2LDg2f1QSERERERFNBO+qaEoSwX9orVgBlRRTZAaUFbTg+UrD91Ww5U7gxU07AQCL5vdGr3U9H93ZVMWPQ0RERERERI1L7l0iUS1CmMonDiFPDGEVK6Ckndz9BuEWPN9X8HxTQTea87BlMAcAWDSvJ3qtr3WFoeRERERERETULN6509QlBKDBIeQJEW+7kwmugCpuwdPwlamAemGzqX4a6MugO+MAMBsWJcD5T0RERERERC2Q3LtEoppE8A+34CWFKBlCntzQJqqAUgoFT0EKgRc27QJQWv3k+Rq2bSHl8MckERERERHRRPHOiqam4gzy2G+ok+Khk5XkCqhoC56G6/qwpMTzr5oKqMXzSuc/ObZEmhVQREREREREE5bcu0SimgQgBDQ086eEiM+ASvIQcjs2hLzg+pCycgWU6ylkUhYsK7nvhYiIiIiIaKrgnRVNTUHbnWnEYwKVBDJowfO1SHgAVRxC7noKrudj845RAOUb8BS6gnlQRERERERENDHJvUskaogAuAUvEUSw+U4l/MeKE82A0vCVxqvbRgAA/b1p9GRLA6dMKrnb/IiIiIiIiKaSZN8pElUTDh5n8VNiyKAFz0/4j5WoAkppKKXx0pZhAKXtd0prAOAAciIiIiIiohbh3RVNSSLcgickt+AlhAyGkKuEp4LxAMpXGi9vCec/FdvvPE9xADkREREREVELMYCiqUkgVgWV7MBjppCWaV9LegueFQ4h9xV8paoOIHdsCYcBFBERERERUUsk+06RqB4R/Qd1mAgqoKZSC17BVdi83QwgXzyvfAC5DUvy2iIiIiIiImqFZN8pElUlACEggn+o88IWPJ3wHyvxAOrVbSPQAGb1pNDbnYpe4yqFbIYDyImIiIiIiFol2XeKRNWIYAYUq58SI2zBS3oFVNiCp5TGy1vHzn8CAGjNDXhEREREREQtlOw7RaJawvY7wcs4CaxUOAMq2XOTwgooAHh5ywiAsg14SkMKgRTnPxEREREREbUM79xpaoq33bEIKhGWvmU5NqZfg9xrjuz0UWqKz3V6abOpgCqf/+TYkgEUERERERFRC7HHhKao+AY8JlBJkMlmceS5l2JkZARr167t9HGqildAbd+ZB1C+Ac9HyrGQspnPExERERERtQrvsGhKEsIMITdjoBhAUeMsq/THXm9XCrN60tHvXV8hm7Y53J6IiIiIiKiFGEDRlGVqn7gFj5pjSVFSM7d4fk/J856v0J11JvdQRERERERE0xwDKJq6hAwGkDOAouZIq3jNxNvvQpz/RERERERE1FoMoGgKEyX/ImpUfBD5otgAct9XsCQHkBMREREREbUaAyiauqI5ULyMqTmWLF4zpQPIzQa8tMNrioiIiIiIqJV4l0VTFmc/0XiFFVA9WQezywaQpxxZsimPiIiIiIiIJo53WTR1hfOfGERRk8KAadG8npIg0/UUujIOw00iIiIiIqIWYwBFU5cAIAQEh0BRk6xgCHl8/hMAKGUCKCIiIiIiImotBlA0hYVDyBlAUXPCCqjF80s34GkIpDj/iYiIiIiIqOV4p0VTVzSEnAEUNeeYt+2JfRfNxuv2GgAAKK2xc6QA25JIcwMeERERERFRy9mdPgDReAkhGT7RuLzzoD2x5+69EEJg+84cPN+03i2a04VMij8WiYiIiIiIWo13WjR1hdmTYCEfNUcIQClT9TSrJ425szPo607DsXktERERERERtQMDKJrCTPsdN5ZRs7JpG0sW9KGvJ42eLLfeERERERERtRsDKJq6pDRteERN6so43HZHREREREQ0iXj3TlOYQLEPj4iIiIiIiIiSigEUTVmCG/CIiIiIiIiIpgQGUDR1CbbgEREREREREU0FvHunqU2yAoqIiIiIiIgo6RhA0ZQlpARYAUVERERERESUeLx7pylNSF7CREREREREREnHu3ea2lgBRURERERERJR4vHunqUsIQFidPgURERERERER1WF3+gBE4yXT3ZCO3+ljEBEREREREVEdDKBoyrKyPZ0+AhERERERERE1gC14RERERERERETUVgygiIiIiIiIiIiorRhAERERERERERFRWzGAIiIiIiIiIiKitmIARUREREREREREbcUAioiIiIiIiIiI2ooBFBERERERERERtRUDKCIiIiIiIiIiaisGUERERERERERE1FYMoIiIiIiIiIiIqK0YQBERERERERERUVsxgCIiIiIiIiIiorZiAEVERERERERERG3FAIqIiIiIiIiIiNqKARQREREREREREbUVAygiIiIiIiIiImorBlBERERERERERNRWDKCIiIiIiIiIiKitGEAREREREREREVFbMYAiIiIiIiIiIqK2Elpr3elDzESPPPIItNZIpVKdPkrDtNZwXReO40AI0enjUELxOqFG8VqheniNUKN4rVA9vEaoGbxeqB5eI0WFQgFCCCxfvrzua+1JOA9VMBUvUiHElArMqDN4nVCjeK1QPbxGqFG8VqgeXiPUDF4vVA+vkSIhRMP5BiugiOj/b+/Ow6qq1j+AfxlCRVQIDUyz8hpH5iEGUUkhNFIywbw3B7g5XyVuigp4SwwwJRXHRCXMgpRsADVPamKhlooMOXSb5ILgBCjjRRkP6/eHz9nXI7M/DnLs+3me8zycfdbae629X9bZvOy1NxEREREREZFa8R5QRERERERERESkVkxAERERERERERGRWjEBRUREREREREREasUEFBERERERERERqRUTUEREREREREREpFZMQBERERERERERkVoxAUVERERERERERGrFBBQREREREREREakVE1BERERERERERKRWTEAREREREREREZFaMQFFRERERERERERqxQTUI6CsrAxhYWF44YUX4ODggClTpiAjI0P6/PTp0/D19YWtrS28vLwgl8tV6t+4cQNBQUEYMWIEnJycMGvWLFy6dEmlzKFDhzBu3DjY2Nhg4sSJOH36dKvtqqmpQXh4OFxdXWFvb4/FixejpKSkybJ5eXmws7PD1atXH2APUFtoapx4eHhAJpM1+UpPT/9/7hVqSmfEilJmZibMzc3b1C6OKV2HpsYIx5OHQ93x0tDQgLi4OLz00kuws7PD+PHj8cUXX7TartLSUixevBhOTk5wdnZGeHg4qqqqmizbnjik9tPUGGluPJHJZLh+/XoH7Bm6n7pjRaFQYPPmzXB3d4eNjQ18fX2Rmpraart4jtJ1aGqM/GnOUQRpvBkzZghvb2+Rnp4ucnJyRHh4uLCxsRH/+c9/RHZ2trC2thbr168X2dnZIi4uTlhYWIhTp04JIYSoqakR3t7eYvr06eLChQvijz/+EIGBgcLV1VUUFxcLIYQ4ffq0sLS0FJ988onIzs4WUVFRwsrKSmRnZ7fYrtDQUOHp6SnS09PF+fPnxcSJE8W0adMalcvOzhYeHh7CzMxMXLlypeN3EAkhNDdOiouLRVFRkfS6evWqGDt2rPD39xd1dXXq22F/YuqOFaWMjAzh7OwszMzM2tQujildh6bGCMeTh0Pd8RITEyMcHR2FXC4XeXl54rPPPhMWFhYiOTm5xXZNnz5dTJo0Sfz888/i1KlTwt3dXQQHBzcq1944pPbT1Bi5dzwpKioSly5dEi4uLk3GEXUMdcdKdHS0GDZsmPj+++9Ffn6+iImJEebm5uLixYsttovnKF2HpsbIn+UchQkoDXf58mVhZmYmMjIypGUNDQ3C09NTbNy4USxfvly89tprKnWCgoLEzJkzhRBC/Pjjj8LMzEwUFBRIn1dXVwtbW1vxxRdfCCGEmDlzpnjrrbdU1vG3v/1NLF++vNl2FRQUiKFDh4rU1FRpWU5OjjAzMxNZWVnSsu3btws7Ozvh4+PDgViNND1O7hUVFSWGDRvW6A9V6hidESt1dXVi1apVwtLSUvrdbw3HlK5D02PkXhxP1K8z4sXNzU3ExMSorGPZsmVi6tSpzbYrKytLmJmZqfyT5OTJk0Imk0nbepA4pPbT5Bi5X2BgoPDy8hI1NTVt7D21R2fESlRUlPj6669V1uHo6Cg+/PDDZtvFc5SuQ9Nj5F6P6jkKp+BpOCMjI8TGxsLa2lpapqWlBS0tLVRUVCAjIwOurq4qdYYNG4bMzEwIIfDcc88hNjYWJiYm0ufa2nfDoqKiAg0NDcjKymq0DhcXlxYvBczMzJS2pfTss8/CxMREpV5KSgpWr16NkJCQB+g9tZWmx4lSdnY24uPjERoaiscff7wde4DaSt2xAgB37txBeno64uLiMH369Da1i2NK16HpMaLE8aRzdMb3z/vvvw8fHx+VdWhra0vx1JSMjAz069cPf/nLX6Rlzs7O0NLSkmLpQeKQ2k+TY+ReP/zwA7799ltERkZCT0+vfTuB2qQzvn9CQkLg7e0NAKiurkZCQgKqqqrg4uLSbLt4jtJ1aHqMKD3K5yhMQGm43r17Y9SoUSpfdEeOHEFeXh7c3NxQUFAAU1NTlTpPPPEEqqqqUFpain79+mHUqFEqnyckJKC6uhojRoxARUUF7ty50+Q6CgoKmm1XYWEhjIyM0K1btxbrffHFF/Dy8mp3v6l9ND1OlDZv3gwzMzO8+uqrbe47tY+6Y0W5jaSkJJUv4dZwTOk6ND1GlDiedA51x4u2tjZcXV1V1nH9+nXI5XKMHDmy2XYVFhaif//+Ksv09PRgaGiIGzduSG1vbxxS+2lyjNxr/fr1ePHFF+Ho6Niu/lPbdcb3j9KBAwdgZ2eHlStX4h//+IdKQuN+PEfpOjQ9RpQe5XMUJqAeMVlZWVi2bBnGjh2L0aNHo7q6utF/YZTva2trG9U/evQooqOj8cYbb0Amk6G6ulqljlK3bt1QU1PTbDuqqqqa/O9Pa/Woc2hinFy5cgVHjx7F/Pnz29ZJ6hAdHSsPimNK16WJMcLx5OFRd7zcunULc+bMgbGxcYvHl2NK16WJMZKeno5///vfWLBgQZv6SB1DnbHi5OSEffv2ITg4GNu2bcOePXuabQfHk65LE2PkUT9H0X3YDaCOk5KSgiVLlsDBwQHr1q0DcDeo7/9lUr7v0aOHyvLExERERkZiwoQJCA4OlurfW0eppqZGqj979myVS5HDw8PRvXv3Jn+J761HD4emxsmBAwdgbGwMT0/PdveZHow6YqUtOKZoDk2NEY4nD4e64yUnJwdz586FQqFAfHw8evfuDQAYP368yhPJPvzwwxbjRV9f///XUXpgmhojycnJsLGxgaWl5QP0mh6EumOlf//+6N+/P4YOHYq8vDzs3LkTU6dO5TmKBtHUGHnUz1GYgHpEfPrpp3jvvffg5eWF999/X8qw9u/fH0VFRSpli4qKoK+vj169eknL1q5di7i4OMyYMQMhISHQ0tICABgaGkJfX7/JdSjnxr733nvSFTAAYGxsjBMnTqCsrAy1tbUq2d5761Hn0+Q4SUlJwfjx46V52KRe6oqVtuCYohk0OUY4nnQ+dcdLZmYm5s+fDxMTE8TFxakc89jYWNTX10vvTUxM8NNPPyElJUVlHbW1tSgrK8MTTzzRYf2mttPUGGloaMB3333Hq586kbpipb6+HqmpqbCwsMCTTz4plZfJZEhKSgLAcxRNockx8qifozyavfqT2bNnDyIjIzFt2jSsX79eJagdHR1x9uxZlfJnzpyBg4ODFNTKX7CQkBCEhoaqfGFraWnBwcGh0TrS0tKkOe4mJiZ4+umnpZeBgQGef/55NDQ0qGR/c3NzUVhYCCcnpw7fB9Q6TY6TyspK/Prrrxg+fHjH7RBqljpjpS04pnR9mhwjHE86n7rj5cKFC5g9ezaee+457N69u9HJ/IABA1TipXv37nByckJBQQHy8vKkcsp2PP/88x3af2qdJsdIdnY2SktLOaZ0EnXGio6ODpYvX47ExESVdZw/fx5DhgwBwHMUTaDJMfKnOEd5eA/go46Qk5MjLC0tRUBAgCgqKlJ5VVRUiD/++ENYWlqKtWvXiuzsbLFz505hYWEhTp06JYQQ4syZM8LMzExERkY2ql9ZWSmEuPvIWXNzc/HRRx+J7Oxs8f777wsbGxuVx9I2JSgoSHh4eIgzZ86I8+fPi4kTJ4rp06c3WVbZDj6OVD00PU7S09MbPRKV1KMzYuVeX331VZsfbc4xpWvQ9BjheNK51B0vdXV1YsyYMeLFF18U+fn5Kp+39OjqhoYG8frrrwsfHx9x/vx5cfr0aeHu7i5CQ0ObLN+eOKT20fQYSU5OFpaWlkKhUKh1P1HnfP/ExsYKGxsbceDAAZGbmyt27NghzM3NRUpKSott4zlK16DpMfJnOEdhAkrDbdu2TZiZmTX5CgkJEUIIcfz4ceHt7S2srKyEl5eXkMvlUv133nmn2fqbN2+WyiUnJ4sxY8YIa2tr4ePjI/2StuT27dvi7bffFo6OjsLR0VEEBQWJkpKSJstyIFYvTY8TuVwuzMzMRHV1dQftEWpOZ8WKUnv+qOOY0jVoeoxwPOlc6o6XzMzMZj93d3dvsW23bt0SgYGBws7OTri4uIgVK1Y0GxdMQKmPpsdIbGysGD58eMfvGGqkM75/FAqF2LVrlxgzZoywsrISEyZMEEePHm21bTxH6Ro0PUb+DOcoWkII8bCvwiIiIiIiIiIiokcX7wFFRERERERERERqxQQUERERERERERGpFRNQRERERERERESkVkxAERERERERERGRWjEBRUREREREREREasUEFBERERERERERqRUTUEREREREREREpFZMQBERERERERERkVoxAUVERERERERERGrFBBQREREREREREakVE1BERERERERERKRWTEAREREREREREZFaMQFFRERERERERERqxQQUERERERERERGpFRNQRERERERERESkVkxAERERERERERGRWjEBRUREREREREREasUEFBERERERERERqRUTUEREREREREREpFZMQBERERERERERkVoxAUVERERERERERGrFBBQREREREREREakVE1BERERERERERKRWTEAREREREREREZFaMQFFRERED50Q4mE3gUitGONERPRnxwQUERERtZmfnx9kMpn0Gjp0KOzt7eHr64v4+HjU19e3e52XLl3ClClT1NDau0JDQ+Hh4aG29bdXUlISZDIZrl692myZtLQ0yGQypKWlAQC2bNkCmUzWWU2UlJSUwNfXF+bm5rCwsICFhQVGjBiB8vJytWyvLfvmYWtvGysqKhAcHIyMjAw1t4yIiKhr033YDSAiIiLNYmFhgRUrVgAAFAoFysvLceLECaxevRoZGRnYuHEjtLXb/j+uw4cP46efflJXcx8JkydPhpubW6dvt1u3boiKikJ1dTV0dXWhp6eHgQMHonv37p3elq5i9OjR2Lt3L5544ok2lf/111+xf/9+TJo0Sc0tIyIi6tqYgCIiIqJ2MTAwgJ2dncoyDw8PDB48GO+99x4OHjyICRMmPJzGPaJMTU1hamra6dvt2bMnzMzMOn27Xdnjjz+Oxx9//GE3g4iISONwCh4RERF1iOnTp8PExASfffaZtKy6uhrR0dEYO3YsrKys4ODggBkzZuDXX38FcHdq2QcffAAAkMlk2LJlC4C7U7/Cw8Ph7u4OKysrODs7IyAgoNVpT+Xl5Vi2bBmcnZ3h5OSEtWvXoqGhoVG5lJQU+Pr6wtraGiNGjMDKlStx586dFtft4eGBDRs2YNWqVXBycoKLiwuCg4NRVlYmlfHz84Ofn59Kvfun0yllZWVh4sSJsLKygre3N7755ptmt93UFLx9+/bBx8cHtra2GD16NKKjo1FbW6vSx6lTp8Le3h5WVlbw8vLC7t27VdZRVFSEkJAQuLq6wt7eHn5+fipXo7X1OHzzzTfw9fWFvb09RowYgbCwsFan6TU0NCAmJgajR4+Gra0tFixY0GSdtvTjfqGhofj73/+OFStWwMHBAePGjYNCoUBDQwNiY2MxZswYWFlZ4aWXXkJCQoJUb/v27bCysmrUjo8//hiWlpYoLi5uNAWvpKQEixcvxogRI2BtbY1XX30V+/btA3D32Pv7+wMA/P39pdhQKBSIjY2Ft7c3bGxsYGdnh9dffx1nzpxpsV9ERESajFdAERERUYfQ1taGq6sr5HI56uvroaurK937JigoCIMGDUJeXh42bdqExYsXQy6XY/LkySgoKMCXX36JvXv3wtTUFEIIzJs3D+Xl5ViyZAn69u2L33//HRs3bsSKFSuwc+fOJrff0NCA2bNn49q1awgJCYGhoSHi4uJw8eJFlelSX3/9NZYsWYJXXnkFCxcuxLVr17BhwwZkZ2dj165d0NLSaraPe/bswdNPP43Vq1ejpKQE0dHRyMvLw2effdZivaaEhYVh/vz5MDc3R3JyMhYtWgQ9PT14enq2Wnf37t2IiIjA5MmTERQUhCtXrmDNmjUoLy9HREQEUlNTERAQAH9/fwQGBqK6uhp79uxBREQErKysYGtri9u3b2PKlClQKBRYunQpTExM8NFHH2HmzJnYv38/nnrqqTYdh5iYGGzevBlTp07FokWLcOXKFWzatAnnzp3D559/3ux0vbVr1yI+Ph7z58+Hra0tDh06hOjoaJUybelHczIyMtCtWzds3boVd+7cgY6ODsLCwpCUlIR58+bB3t4e6enpWLVqFSoqKhAQEIBXXnkFGzduxLfffovJkydL65LL5Rg5ciSMjY0bbWfp0qUoLi5GeHg4DAwMsH//foSEhMDU1BRWVlYICwtDREQEwsLC4OLiAgBYt24dEhMTsXjxYshkMhQWFmLr1q146623kJqaih49erQaA0RERJqGCSgiIiLqMH379kVdXR3KysrQu3dv3L59G++88w7GjRsHAHB2dkZlZSWioqJw69Ytlallyml9hYWF6NGjB0JCQuDo6AgAcHFxQX5+Pvbu3dvstk+cOIELFy7gww8/xAsvvAAAcHV1VbkBuRAC69atg5ubG9atWyctf+aZZ/DGG2/g+PHjGD16dLPb0NbWxq5du9CrVy8Ad6djBQQE4OTJk9I22yowMBCzZs0CALzwwgu4fPkyYmJiWk1ANTQ0YOvWrfD09MTKlSul5VVVVZDL5airq0N2djZ8fHzw9ttvS5/b29vDxcUFaWlpsLW1RXJyMq5du4bk5GSYm5sDABwcHDBx4kSkp6ejW7durR6H8vJybNu2DX/9618RFhYmbcvMzAzTpk3DV199hWnTpjXqQ0VFBRISEjBjxgy8+eabAAA3NzcUFRXh5MmTUrm29KM59fX1iIiIkOIrNzcXn3/+OYKCgjB37lwAwMiRI6GlpYUdO3Zg6tSpGDBgAJycnHDw4EEpAZWfn48LFy5gw4YNTW7n7NmzCAgIkI6bs7MzDA0NoaenBwMDAwwZMgQAMGTIEOnnoqIiLFq0SOVquW7duiEwMBC///57oymuREREjwImoIiIiKjDKB81r6WlBT09PekqmcLCQuTm5uLy5cv4/vvvAUBluti9TExMEB8fDyEErl69iry8POTk5CArK6vZOsDdK14ee+wxlZt16+vrY9SoUUhPTwcA5OTkoKCgAPPmzVN5Yp+TkxMMDAzw448/tpiA8vDwkJJPyve6urpIT09vdwJKmZRT8vT0xJYtW3D79u0W6+Xm5qK4uBhjxoxRWT5r1iwpoTV79mwAwO3bt5Gbm4v8/HxcvHgRwP/2e2ZmJgYOHCglnwCgR48eOHLkiPS+teNw7tw51NbWwtvbW6Utjo6OGDBgAM6ePdtkAurcuXOoq6uDu7u7yvKXX35ZJQHVln40x9DQUOW+WWfOnIEQAh4eHirH3sPDA9u2bUNmZiY8PT0xYcIErFixAjdv3kS/fv0gl8thYGDQ7JMUXVxcsGXLFvzyyy9wc3PDqFGjEBIS0mLblFd6lZSUICcnB3l5ea3+XhAREWk6JqCIiIiowxQWFqJ79+4wNDQEAJw8eRKrVq1CTk4OevbsiaFDh0JfXx/A/5JVTTlw4ADWr1+PGzduwNDQEObm5q0+ea28vByGhoaNpsL169dP+ll5v6bw8HCEh4c3WkdRUVGL2zAxMVF5r62tDSMjo1bvd9SUvn37qrw3NjaGEAKVlZUt1lP2oanpYEolJSVYsWIFUlJSoKWlhaefflq6ikm538vKylpcB9D6cVD2+/6+KJf997//bXK9ynpGRkYqy+89Vm3tR3N69uyp8l6538aPH99k+cLCQgCAl5cXIiMjcejQIfj7+0Mul+Oll15qNv42bNiA7du349ChQzhy5Ai0tbUxfPhwREREYMCAAU3WuXjxIsLDw3Hx4kX06NEDQ4YMwZNPPtmmfhEREWkqJqCIiIioQ9TX1yMtLQ0ODg7Q0dFBfn6+NDVpx44deOqpp6ClpYXdu3erXOVyv4yMDISEhMDPzw+zZs2Skj5r1qxBZmZms/WMjIxQWloKhUIBHR0dafm9Nwnv3bs3ACA4OBjOzs6N1tGnT58W+1haWqryXqFQoLS0VOWpaAqFQqVMczc3Ly8vV0nc3Lp1Czo6Oq22QdmHkpKSRm375ZdfYG9vjyVLliAnJwcff/wx7O3toaenh6qqKnz++edS+V69ejV5U/fMzEwYGhqitLS01eOgbOutW7cwePBglfXcvHkTTz31VJN9UCaeiouLVerde6wAtKkfbaXcb5988kmj5BQAKQHUq1cveHh44NChQxg2bBguXbqE5cuXN7veXr16YenSpVi6dClycnJw7NgxxMTEIDw8HLGxsY3KV1ZWYvbs2ZDJZJDL5Rg8eDC0tbVx/PhxlavPiIiIHjV8Ch4RERF1iL179+LmzZuYMmUKAODnn39GTU0N5s6di0GDBklXJimTT8orPbS1VU9HfvrpJzQ0NCAwMFBKeigUCpw6dQoAmnyqHXD3fk/19fVISUmRltXW1uLHH3+U3g8ePBjGxsa4evUqrK2tpZeJiQmio6Pxyy+/tNjHEydOqEyROnbsGOrr6+Hq6goAMDAwQEFBgUqd5pJmqamp0s8NDQ04fPgwbG1tW73Sa/DgwTAyMpKmbCnt378fc+fORV1dHTIzMzF27Fi4uLhAT09PartyW8DdaXJXrlzBpUuXpHVUV1fjzTffRFJSUpuOg62tLfT09HDw4EGVtmRkZOD69etwcHBosg/29vbo3r07Dh8+rLL8/j61pR9tpbxyqrS0VOXYl5SUYNOmTSrJr1dffRXnzp1DYmIinnzyySaTlQBw7do1jBo1SurH4MGDMWfOHAwfPhzXr18HAJVkKHB3GmhZWRn8/f0xZMgQKf4ftF9ERESagldAERERUbtUVlbi3LlzAO7+sVxaWooffvgBe/fuxYQJEzB27FgAgKWlJXR1dbF27VrMnDkTtbW1SEpKkhIvyiuDlFemHDx4ELa2trCxsQEAREREYNKkSSgvL8fu3bvx22+/SfUMDAwatcvV1RUjR47EO++8g+LiYgwYMADx8fEoKSmRpprp6Ohg0aJFCAsLg46ODtzd3VFRUYGYmBgUFhbC0tKyxb7fuHED8+fPh7+/P27cuIH169fDzc1NerqZu7s7vvvuO6xevRoeHh7IyMjAvn37mlzXxo0boVAo0L9/fyQmJiI3Nxe7du1qdf/r6OggMDAQERERMDY2hoeHB3Jzc7F582ZMmzYNffr0gY2NDb7++mtYWlrC1NQUWVlZiI2NhZaWFqqqqgAAvr6+SEhIwPz58/HPf/4TRkZGiI+Ph0KhwNSpU6Wro1o6DoaGhpg7dy62bt2Kxx57DO7u7rh69So2bdqEIUOGwMfHp8k+9OzZEwsWLMDGjRvRo0cPDBs2DMePH2+UgGpLP9pKJpNhwoQJWL58Oa5duwYrKyvk5uZiw4YNGDhwIJ555hmprJubGwwNDbF3717Mnj272SccDhgwAKampli5ciUqKysxaNAg/Pzzzzh+/DjmzZsHANI9w1JTU9GnTx88++yzMDAwwPbt26GrqwtdXV0cOXIEX375JQC0u19ERESaQktwojkRERG1kZ+fH86ePSu919LSQs+ePWFmZgYfHx9MnjxZ5Y/1w4cP44MPPkB+fj769OkDOzs7+Pv7w8/PD8uXL8e0adNQWFiIgIAA/Pbbb3jttdfw7rvvYvfu3di1axcKCwvRt29fuLi4wNPTEwEBAYiNjcWoUaOabF9VVRXWrVsHuVyOmpoajBs3Dvr6+jh27Bi+++47qdw333yDuLg4XLp0Cfr6+nBwcMDChQshk8ma7buHhwfs7e3Ru3dv7Nu3D/r6+vD29saiRYukq5YUCgU2bNiA5ORkVFZWwsnJCQsWLMCUKVMQHx8PFxcXJCUlYdmyZYiLi0NUVBTy8vJgZmaGJUuWYPjw4QCAtLQ0+Pv7S3W2bNmCDz74AL///rvUnuTkZOzcuROXL1+GqakpJk2ahDlz5kBXVxfXrl1DZGQkMjIyANx9yp+/vz8OHDiAsrIyKdlRWFiINWvWSFcwjRw5EkuXLsXQoUMBoM3HITExEZ9++iny8vJgaGiIMWPGYOHCha1OJ0xISMAnn3yCwsJC2Nvb4+WXX8a7776LY8eOYeDAgW3ux/1CQ0Nx9uxZlWMO3J0mumPHDiQnJ6OgoADGxsZwd3fHwoULpfuWKa1cuRIJCQmQy+XS0+sASMdP2cabN29i/fr1+OGHH1BaWor+/ftj0qRJmDt3LrS1tdHQ0IClS5fi6NGjGDRoEA4ePIi0tDSsWbMG2dnZ6NmzJ8zNzbFgwQLMmTMHr7/+OoKDg1vcb0RERJqICSgiIiKiNvDw8ICzszOioqIedlM6lBACo0ePhqOjI/71r3+1emNyIiIiogfBe0ARERER/Yn99ttviIyMxPHjx5GYmPiwm0NERESPKN4DioiIiOhP7K233kJhYSGsra3h6+v7sJtDREREjyhOwSMiIiIiIiIiIrXiFDwiIiIiIiIiIlIrJqCIiIiIiIiIiEitmIAiIiIiIiIiIiK1YgKKiIiIiIiIiIjUigkoIiIiIiIiIiJSKyagiIiIiIiIiIhIrZiAIiIiIiIiIiIitWICioiIiIiIiIiI1IoJKCIiIiIiIiIiUqv/A3ZO9Jx2fJMSAAAAAElFTkSuQmCC",
=======
      "image/png": "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",
>>>>>>> Stashed changes
      "text/plain": [
       "<Figure size 1200x600 with 1 Axes>"
      ]
     },
     "metadata": {},
     "output_type": "display_data"
    }
   ],
   "source": [
    "# Crie o gráfico de barras com Seaborn\n",
    "plt.figure(figsize=(12, 6))\n",
    "sns.set(style=\"whitegrid\")  # Estilo de fundo\n",
    "\n",
    "# Crie o gráfico de barras com as porcentagens\n",
    "sns.lineplot(x='data_publicacao', y='data_deposito', hue='ifes', data=df, legend=False)\n",
    "\n",
    "plt.xticks(rotation=0)  # Rotacione os rótulos no eixo x para melhor legibilidade\n",
    "plt.xlabel('\\nData de publicação da revista')\n",
    "plt.ylabel('Data do depósito da patente\\n')\n",
    "#plt.title('')\n",
    "\n",
    "# Mostre o gráfico\n",
    "plt.tight_layout()\n",
    "plt.show()\n"
   ]
  },
  {
   "cell_type": "markdown",
   "id": "3fc3a825",
   "metadata": {},
   "source": [
    "### Patentes depositadas entre 20/05/2003 e 11/01/2023 por data de depósito e segundo participação de IFEs"
   ]
  },
  {
   "cell_type": "code",
<<<<<<< Updated upstream
   "execution_count": 8,
=======
   "execution_count": 25,
>>>>>>> Stashed changes
   "id": "516ae9a8",
   "metadata": {},
   "outputs": [
    {
     "data": {
      "image/png": "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",
      "text/plain": [
       "<Figure size 1200x600 with 1 Axes>"
      ]
     },
     "metadata": {},
     "output_type": "display_data"
    }
   ],
   "source": [
    "# Agrupe os dados e conte IDs distintos em cada categoria da coluna 'ifes'\n",
    "counts = df.groupby(['mes_dep', 'ano_dep', 'mes_ano_dep', 'ifes'],observed=True)['ID'].nunique().reset_index()\n",
    "counts = counts.sort_values(['ano_dep', 'mes_dep', 'ifes']).copy()\n",
    "\n",
    "# Crie o gráfico de barras com Seaborn\n",
    "plt.figure(figsize=(12, 6))\n",
    "sns.set(style=\"whitegrid\")  # Estilo de fundo\n",
    "\n",
    "# Crie o gráfico de barras com as porcentagens\n",
    "sns.lineplot(x='mes_ano_dep', y='ID', hue='ifes', data=counts)\n",
    "\n",
    "plt.xticks(rotation=90)  # Rotacione os rótulos no eixo x para melhor legibilidade\n",
    "plt.xlabel('\\n\\Data de depósito da patente')\n",
    "plt.ylabel('Número absoluto de patentes depositadas\\n')\n",
    "#plt.title('')\n",
    "\n",
    "# Mostre o gráfico\n",
    "plt.tight_layout()\n",
    "plt.show()"
   ]
  },
  {
   "cell_type": "code",
<<<<<<< Updated upstream
   "execution_count": 9,
=======
   "execution_count": 26,
>>>>>>> Stashed changes
   "metadata": {},
   "outputs": [
    {
     "name": "stderr",
     "output_type": "stream",
     "text": [
      "c:\\Users\\DELL\\AppData\\Local\\Programs\\Python\\Python311\\Lib\\site-packages\\plotly\\express\\_core.py:2044: FutureWarning:\n",
      "\n",
      "The default of observed=False is deprecated and will be changed to True in a future version of pandas. Pass observed=False to retain current behavior or observed=True to adopt the future default and silence this warning.\n",
      "\n"
     ]
    },
    {
     "data": {
      "application/vnd.plotly.v1+json": {
       "config": {
        "plotlyServerURL": "https://plot.ly"
       },
       "data": [
        {
         "hovertemplate": "ifes=Não<br>mes_ano_dep=%{x}<br>ID=%{y}<extra></extra>",
         "legendgroup": "Não",
         "line": {
          "color": "#636efa",
          "dash": "solid"
         },
         "marker": {
          "symbol": "circle"
         },
         "mode": "lines",
         "name": "Não",
         "orientation": "v",
         "showlegend": true,
         "type": "scatter",
         "x": [
          "05/2003",
          "07/2007",
          "11/2007",
          "12/2007",
          "03/2008",
          "05/2008",
          "08/2008",
          "07/2009",
          "08/2009",
          "09/2009",
          "10/2009",
          "12/2009",
          "01/2010",
          "04/2010",
          "05/2010",
          "07/2010",
          "08/2010",
          "10/2010",
          "11/2010",
          "12/2010",
          "01/2011",
          "02/2011",
          "03/2011",
          "04/2011",
          "05/2011",
          "06/2011",
          "07/2011",
          "08/2011",
          "09/2011",
          "11/2011",
          "12/2011",
          "01/2012",
          "02/2012",
          "03/2012",
          "04/2012",
          "05/2012",
          "06/2012",
          "07/2012",
          "08/2012",
          "09/2012",
          "10/2012",
          "11/2012",
          "12/2012",
          "02/2013",
          "03/2013",
          "04/2013",
          "05/2013",
          "06/2013",
          "08/2013",
          "09/2013",
          "10/2013",
          "11/2013",
          "12/2013",
          "01/2014",
          "02/2014",
          "03/2014",
          "04/2014",
          "05/2014",
          "06/2014",
          "07/2014",
          "08/2014",
          "09/2014",
          "10/2014",
          "11/2014",
          "12/2014",
          "01/2015",
          "02/2015",
          "03/2015",
          "04/2015",
          "05/2015",
          "06/2015",
          "07/2015",
          "08/2015",
          "09/2015",
          "10/2015",
          "12/2015",
          "01/2016",
          "02/2016",
          "03/2016",
          "04/2016",
          "05/2016",
          "06/2016",
          "07/2016",
          "08/2016",
          "09/2016",
          "10/2016",
          "11/2016",
          "12/2016",
          "01/2017",
          "02/2017",
          "03/2017",
          "04/2017",
          "05/2017",
          "06/2017",
          "07/2017",
          "09/2017",
          "10/2017",
          "11/2017",
          "12/2017",
          "01/2018",
          "02/2018",
          "03/2018",
          "04/2018",
          "05/2018",
          "06/2018",
          "07/2018",
          "08/2018",
          "09/2018",
          "10/2018",
          "11/2018",
          "12/2018",
          "01/2019",
          "02/2019",
          "03/2019",
          "04/2019",
          "05/2019",
          "06/2019",
          "07/2019",
          "08/2019",
          "09/2019",
          "10/2019",
          "11/2019",
          "12/2019",
          "01/2020",
          "02/2020",
          "03/2020",
          "04/2020",
          "05/2020",
          "06/2020",
          "07/2020",
          "08/2020",
          "09/2020",
          "10/2020",
          "11/2020",
          "12/2020",
          "01/2021",
          "02/2021",
          "03/2021",
          "04/2021",
          "05/2021",
          "06/2021",
          "07/2021",
          "08/2021",
          "09/2021",
          "10/2021",
          "11/2021",
          "12/2021",
          "01/2022",
          "02/2022",
          "03/2022",
          "04/2022",
          "05/2022",
          "06/2022",
          "07/2022",
          "08/2022",
          "09/2022",
          "10/2022",
          "11/2022",
          "12/2022",
          "01/2023"
         ],
         "xaxis": "x",
         "y": [
          1,
          1,
          1,
          1,
          1,
          1,
          1,
          1,
          2,
          2,
          1,
          1,
          2,
          5,
          1,
          2,
          7,
          5,
          3,
          2,
          2,
          3,
          3,
          7,
          2,
          3,
          9,
          2,
          3,
          2,
          1,
          5,
          4,
          11,
          9,
          5,
          1,
          3,
          2,
          3,
          4,
          2,
          2,
          2,
          3,
          3,
          5,
          3,
          1,
          3,
          5,
          2,
          5,
          3,
          7,
          6,
          4,
          4,
          7,
          2,
          2,
          5,
          1,
          4,
          7,
          3,
          5,
          9,
          2,
          4,
          2,
          3,
          2,
          1,
          4,
          1,
          2,
          1,
          2,
          2,
          2,
          5,
          5,
          10,
          3,
          5,
          10,
          8,
          3,
          2,
          10,
          9,
          2,
          2,
          1,
          4,
          2,
          3,
          14,
          7,
          11,
          3,
          7,
          13,
          132,
          372,
          314,
          416,
          369,
          392,
          488,
          336,
          394,
          347,
          462,
          502,
          421,
          590,
          543,
          541,
          565,
          557,
          796,
          401,
          411,
          512,
          419,
          433,
          488,
          547,
          510,
          480,
          489,
          453,
          701,
          364,
          416,
          547,
          459,
          405,
          421,
          502,
          485,
          444,
          458,
          491,
          588,
          227,
          128,
          147,
          92,
          123,
          129,
          114,
          94,
          102,
          76,
          76,
          70,
          12
         ],
         "yaxis": "y"
        },
        {
         "hovertemplate": "ifes=Sim<br>mes_ano_dep=%{x}<br>ID=%{y}<extra></extra>",
         "legendgroup": "Sim",
         "line": {
          "color": "#EF553B",
          "dash": "solid"
         },
         "marker": {
          "symbol": "circle"
         },
         "mode": "lines",
         "name": "Sim",
         "orientation": "v",
         "showlegend": true,
         "type": "scatter",
         "x": [
          "05/2003",
          "11/2003",
          "03/2007",
          "04/2011",
          "05/2011",
          "01/2012",
          "03/2012",
          "08/2012",
          "04/2013",
          "05/2013",
          "11/2013",
          "02/2014",
          "04/2014",
          "05/2014",
          "09/2014",
          "11/2014",
          "12/2014",
          "01/2015",
          "02/2015",
          "04/2015",
          "05/2015",
          "07/2015",
          "09/2015",
          "10/2015",
          "12/2015",
          "02/2016",
          "03/2016",
          "06/2016",
          "07/2016",
          "08/2016",
          "09/2016",
          "12/2016",
          "01/2017",
          "03/2017",
          "04/2017",
          "05/2017",
          "06/2017",
          "07/2017",
          "08/2017",
          "09/2017",
          "11/2017",
          "12/2017",
          "01/2018",
          "02/2018",
          "03/2018",
          "04/2018",
          "05/2018",
          "06/2018",
          "07/2018",
          "08/2018",
          "09/2018",
          "10/2018",
          "11/2018",
          "12/2018",
          "01/2019",
          "02/2019",
          "03/2019",
          "04/2019",
          "05/2019",
          "06/2019",
          "07/2019",
          "08/2019",
          "09/2019",
          "10/2019",
          "11/2019",
          "12/2019",
          "01/2020",
          "02/2020",
          "03/2020",
          "04/2020",
          "05/2020",
          "06/2020",
          "07/2020",
          "08/2020",
          "09/2020",
          "10/2020",
          "11/2020",
          "12/2020",
          "01/2021",
          "02/2021",
          "03/2021",
          "04/2021",
          "05/2021",
          "06/2021",
          "07/2021",
          "08/2021",
          "09/2021",
          "10/2021",
          "11/2021",
          "12/2021",
          "01/2022",
          "02/2022",
          "05/2022",
          "06/2022",
          "07/2022",
          "11/2022"
         ],
         "xaxis": "x",
         "y": [
          1,
          1,
          1,
          1,
          1,
          1,
          1,
          1,
          1,
          1,
          1,
          1,
          1,
          1,
          3,
          4,
          2,
          1,
          1,
          1,
          1,
          1,
          1,
          3,
          3,
          1,
          1,
          2,
          4,
          2,
          2,
          5,
          4,
          3,
          3,
          5,
          1,
          2,
          2,
          4,
          1,
          11,
          3,
          4,
          1,
          6,
          5,
          33,
          79,
          74,
          100,
          62,
          110,
          132,
          55,
          85,
          78,
          77,
          118,
          61,
          105,
          92,
          87,
          110,
          109,
          151,
          64,
          70,
          97,
          71,
          87,
          103,
          124,
          97,
          98,
          81,
          108,
          111,
          30,
          52,
          67,
          60,
          69,
          55,
          74,
          61,
          76,
          67,
          78,
          136,
          12,
          1,
          1,
          1,
          2,
          1
         ],
         "yaxis": "y"
        }
       ],
       "layout": {
        "legend": {
         "title": {
          "text": "ifes"
         },
         "tracegroupgap": 0
        },
        "margin": {
         "t": 60
        },
        "template": {
         "data": {
          "bar": [
           {
            "error_x": {
             "color": "#2a3f5f"
            },
            "error_y": {
             "color": "#2a3f5f"
            },
            "marker": {
             "line": {
              "color": "#E5ECF6",
              "width": 0.5
             },
             "pattern": {
              "fillmode": "overlay",
              "size": 10,
              "solidity": 0.2
             }
            },
            "type": "bar"
           }
          ],
          "barpolar": [
           {
            "marker": {
             "line": {
              "color": "#E5ECF6",
              "width": 0.5
             },
             "pattern": {
              "fillmode": "overlay",
              "size": 10,
              "solidity": 0.2
             }
            },
            "type": "barpolar"
           }
          ],
          "carpet": [
           {
            "aaxis": {
             "endlinecolor": "#2a3f5f",
             "gridcolor": "white",
             "linecolor": "white",
             "minorgridcolor": "white",
             "startlinecolor": "#2a3f5f"
            },
            "baxis": {
             "endlinecolor": "#2a3f5f",
             "gridcolor": "white",
             "linecolor": "white",
             "minorgridcolor": "white",
             "startlinecolor": "#2a3f5f"
            },
            "type": "carpet"
           }
          ],
          "choropleth": [
           {
            "colorbar": {
             "outlinewidth": 0,
             "ticks": ""
            },
            "type": "choropleth"
           }
          ],
          "contour": [
           {
            "colorbar": {
             "outlinewidth": 0,
             "ticks": ""
            },
            "colorscale": [
             [
              0,
              "#0d0887"
             ],
             [
              0.1111111111111111,
              "#46039f"
             ],
             [
              0.2222222222222222,
              "#7201a8"
             ],
             [
              0.3333333333333333,
              "#9c179e"
             ],
             [
              0.4444444444444444,
              "#bd3786"
             ],
             [
              0.5555555555555556,
              "#d8576b"
             ],
             [
              0.6666666666666666,
              "#ed7953"
             ],
             [
              0.7777777777777778,
              "#fb9f3a"
             ],
             [
              0.8888888888888888,
              "#fdca26"
             ],
             [
              1,
              "#f0f921"
             ]
            ],
            "type": "contour"
           }
          ],
          "contourcarpet": [
           {
            "colorbar": {
             "outlinewidth": 0,
             "ticks": ""
            },
            "type": "contourcarpet"
           }
          ],
          "heatmap": [
           {
            "colorbar": {
             "outlinewidth": 0,
             "ticks": ""
            },
            "colorscale": [
             [
              0,
              "#0d0887"
             ],
             [
              0.1111111111111111,
              "#46039f"
             ],
             [
              0.2222222222222222,
              "#7201a8"
             ],
             [
              0.3333333333333333,
              "#9c179e"
             ],
             [
              0.4444444444444444,
              "#bd3786"
             ],
             [
              0.5555555555555556,
              "#d8576b"
             ],
             [
              0.6666666666666666,
              "#ed7953"
             ],
             [
              0.7777777777777778,
              "#fb9f3a"
             ],
             [
              0.8888888888888888,
              "#fdca26"
             ],
             [
              1,
              "#f0f921"
             ]
            ],
            "type": "heatmap"
           }
          ],
          "heatmapgl": [
           {
            "colorbar": {
             "outlinewidth": 0,
             "ticks": ""
            },
            "colorscale": [
             [
              0,
              "#0d0887"
             ],
             [
              0.1111111111111111,
              "#46039f"
             ],
             [
              0.2222222222222222,
              "#7201a8"
             ],
             [
              0.3333333333333333,
              "#9c179e"
             ],
             [
              0.4444444444444444,
              "#bd3786"
             ],
             [
              0.5555555555555556,
              "#d8576b"
             ],
             [
              0.6666666666666666,
              "#ed7953"
             ],
             [
              0.7777777777777778,
              "#fb9f3a"
             ],
             [
              0.8888888888888888,
              "#fdca26"
             ],
             [
              1,
              "#f0f921"
             ]
            ],
            "type": "heatmapgl"
           }
          ],
          "histogram": [
           {
            "marker": {
             "pattern": {
              "fillmode": "overlay",
              "size": 10,
              "solidity": 0.2
             }
            },
            "type": "histogram"
           }
          ],
          "histogram2d": [
           {
            "colorbar": {
             "outlinewidth": 0,
             "ticks": ""
            },
            "colorscale": [
             [
              0,
              "#0d0887"
             ],
             [
              0.1111111111111111,
              "#46039f"
             ],
             [
              0.2222222222222222,
              "#7201a8"
             ],
             [
              0.3333333333333333,
              "#9c179e"
             ],
             [
              0.4444444444444444,
              "#bd3786"
             ],
             [
              0.5555555555555556,
              "#d8576b"
             ],
             [
              0.6666666666666666,
              "#ed7953"
             ],
             [
              0.7777777777777778,
              "#fb9f3a"
             ],
             [
              0.8888888888888888,
              "#fdca26"
             ],
             [
              1,
              "#f0f921"
             ]
            ],
            "type": "histogram2d"
           }
          ],
          "histogram2dcontour": [
           {
            "colorbar": {
             "outlinewidth": 0,
             "ticks": ""
            },
            "colorscale": [
             [
              0,
              "#0d0887"
             ],
             [
              0.1111111111111111,
              "#46039f"
             ],
             [
              0.2222222222222222,
              "#7201a8"
             ],
             [
              0.3333333333333333,
              "#9c179e"
             ],
             [
              0.4444444444444444,
              "#bd3786"
             ],
             [
              0.5555555555555556,
              "#d8576b"
             ],
             [
              0.6666666666666666,
              "#ed7953"
             ],
             [
              0.7777777777777778,
              "#fb9f3a"
             ],
             [
              0.8888888888888888,
              "#fdca26"
             ],
             [
              1,
              "#f0f921"
             ]
            ],
            "type": "histogram2dcontour"
           }
          ],
          "mesh3d": [
           {
            "colorbar": {
             "outlinewidth": 0,
             "ticks": ""
            },
            "type": "mesh3d"
           }
          ],
          "parcoords": [
           {
            "line": {
             "colorbar": {
              "outlinewidth": 0,
              "ticks": ""
             }
            },
            "type": "parcoords"
           }
          ],
          "pie": [
           {
            "automargin": true,
            "type": "pie"
           }
          ],
          "scatter": [
           {
            "fillpattern": {
             "fillmode": "overlay",
             "size": 10,
             "solidity": 0.2
            },
            "type": "scatter"
           }
          ],
          "scatter3d": [
           {
            "line": {
             "colorbar": {
              "outlinewidth": 0,
              "ticks": ""
             }
            },
            "marker": {
             "colorbar": {
              "outlinewidth": 0,
              "ticks": ""
             }
            },
            "type": "scatter3d"
           }
          ],
          "scattercarpet": [
           {
            "marker": {
             "colorbar": {
              "outlinewidth": 0,
              "ticks": ""
             }
            },
            "type": "scattercarpet"
           }
          ],
          "scattergeo": [
           {
            "marker": {
             "colorbar": {
              "outlinewidth": 0,
              "ticks": ""
             }
            },
            "type": "scattergeo"
           }
          ],
          "scattergl": [
           {
            "marker": {
             "colorbar": {
              "outlinewidth": 0,
              "ticks": ""
             }
            },
            "type": "scattergl"
           }
          ],
          "scattermapbox": [
           {
            "marker": {
             "colorbar": {
              "outlinewidth": 0,
              "ticks": ""
             }
            },
            "type": "scattermapbox"
           }
          ],
          "scatterpolar": [
           {
            "marker": {
             "colorbar": {
              "outlinewidth": 0,
              "ticks": ""
             }
            },
            "type": "scatterpolar"
           }
          ],
          "scatterpolargl": [
           {
            "marker": {
             "colorbar": {
              "outlinewidth": 0,
              "ticks": ""
             }
            },
            "type": "scatterpolargl"
           }
          ],
          "scatterternary": [
           {
            "marker": {
             "colorbar": {
              "outlinewidth": 0,
              "ticks": ""
             }
            },
            "type": "scatterternary"
           }
          ],
          "surface": [
           {
            "colorbar": {
             "outlinewidth": 0,
             "ticks": ""
            },
            "colorscale": [
             [
              0,
              "#0d0887"
             ],
             [
              0.1111111111111111,
              "#46039f"
             ],
             [
              0.2222222222222222,
              "#7201a8"
             ],
             [
              0.3333333333333333,
              "#9c179e"
             ],
             [
              0.4444444444444444,
              "#bd3786"
             ],
             [
              0.5555555555555556,
              "#d8576b"
             ],
             [
              0.6666666666666666,
              "#ed7953"
             ],
             [
              0.7777777777777778,
              "#fb9f3a"
             ],
             [
              0.8888888888888888,
              "#fdca26"
             ],
             [
              1,
              "#f0f921"
             ]
            ],
            "type": "surface"
           }
          ],
          "table": [
           {
            "cells": {
             "fill": {
              "color": "#EBF0F8"
             },
             "line": {
              "color": "white"
             }
            },
            "header": {
             "fill": {
              "color": "#C8D4E3"
             },
             "line": {
              "color": "white"
             }
            },
            "type": "table"
           }
          ]
         },
         "layout": {
          "annotationdefaults": {
           "arrowcolor": "#2a3f5f",
           "arrowhead": 0,
           "arrowwidth": 1
          },
          "autotypenumbers": "strict",
          "coloraxis": {
           "colorbar": {
            "outlinewidth": 0,
            "ticks": ""
           }
          },
          "colorscale": {
           "diverging": [
            [
             0,
             "#8e0152"
            ],
            [
             0.1,
             "#c51b7d"
            ],
            [
             0.2,
             "#de77ae"
            ],
            [
             0.3,
             "#f1b6da"
            ],
            [
             0.4,
             "#fde0ef"
            ],
            [
             0.5,
             "#f7f7f7"
            ],
            [
             0.6,
             "#e6f5d0"
            ],
            [
             0.7,
             "#b8e186"
            ],
            [
             0.8,
             "#7fbc41"
            ],
            [
             0.9,
             "#4d9221"
            ],
            [
             1,
             "#276419"
            ]
           ],
           "sequential": [
            [
             0,
             "#0d0887"
            ],
            [
             0.1111111111111111,
             "#46039f"
            ],
            [
             0.2222222222222222,
             "#7201a8"
            ],
            [
             0.3333333333333333,
             "#9c179e"
            ],
            [
             0.4444444444444444,
             "#bd3786"
            ],
            [
             0.5555555555555556,
             "#d8576b"
            ],
            [
             0.6666666666666666,
             "#ed7953"
            ],
            [
             0.7777777777777778,
             "#fb9f3a"
            ],
            [
             0.8888888888888888,
             "#fdca26"
            ],
            [
             1,
             "#f0f921"
            ]
           ],
           "sequentialminus": [
            [
             0,
             "#0d0887"
            ],
            [
             0.1111111111111111,
             "#46039f"
            ],
            [
             0.2222222222222222,
             "#7201a8"
            ],
            [
             0.3333333333333333,
             "#9c179e"
            ],
            [
             0.4444444444444444,
             "#bd3786"
            ],
            [
             0.5555555555555556,
             "#d8576b"
            ],
            [
             0.6666666666666666,
             "#ed7953"
            ],
            [
             0.7777777777777778,
             "#fb9f3a"
            ],
            [
             0.8888888888888888,
             "#fdca26"
            ],
            [
             1,
             "#f0f921"
            ]
           ]
          },
          "colorway": [
           "#636efa",
           "#EF553B",
           "#00cc96",
           "#ab63fa",
           "#FFA15A",
           "#19d3f3",
           "#FF6692",
           "#B6E880",
           "#FF97FF",
           "#FECB52"
          ],
          "font": {
           "color": "#2a3f5f"
          },
          "geo": {
           "bgcolor": "white",
           "lakecolor": "white",
           "landcolor": "#E5ECF6",
           "showlakes": true,
           "showland": true,
           "subunitcolor": "white"
          },
          "hoverlabel": {
           "align": "left"
          },
          "hovermode": "closest",
          "mapbox": {
           "style": "light"
          },
          "paper_bgcolor": "white",
          "plot_bgcolor": "#E5ECF6",
          "polar": {
           "angularaxis": {
            "gridcolor": "white",
            "linecolor": "white",
            "ticks": ""
           },
           "bgcolor": "#E5ECF6",
           "radialaxis": {
            "gridcolor": "white",
            "linecolor": "white",
            "ticks": ""
           }
          },
          "scene": {
           "xaxis": {
            "backgroundcolor": "#E5ECF6",
            "gridcolor": "white",
            "gridwidth": 2,
            "linecolor": "white",
            "showbackground": true,
            "ticks": "",
            "zerolinecolor": "white"
           },
           "yaxis": {
            "backgroundcolor": "#E5ECF6",
            "gridcolor": "white",
            "gridwidth": 2,
            "linecolor": "white",
            "showbackground": true,
            "ticks": "",
            "zerolinecolor": "white"
           },
           "zaxis": {
            "backgroundcolor": "#E5ECF6",
            "gridcolor": "white",
            "gridwidth": 2,
            "linecolor": "white",
            "showbackground": true,
            "ticks": "",
            "zerolinecolor": "white"
           }
          },
          "shapedefaults": {
           "line": {
            "color": "#2a3f5f"
           }
          },
          "ternary": {
           "aaxis": {
            "gridcolor": "white",
            "linecolor": "white",
            "ticks": ""
           },
           "baxis": {
            "gridcolor": "white",
            "linecolor": "white",
            "ticks": ""
           },
           "bgcolor": "#E5ECF6",
           "caxis": {
            "gridcolor": "white",
            "linecolor": "white",
            "ticks": ""
           }
          },
          "title": {
           "x": 0.05
          },
          "xaxis": {
           "automargin": true,
           "gridcolor": "white",
           "linecolor": "white",
           "ticks": "",
           "title": {
            "standoff": 15
           },
           "zerolinecolor": "white",
           "zerolinewidth": 2
          },
          "yaxis": {
           "automargin": true,
           "gridcolor": "white",
           "linecolor": "white",
           "ticks": "",
           "title": {
            "standoff": 15
           },
           "zerolinecolor": "white",
           "zerolinewidth": 2
          }
         }
        },
        "xaxis": {
         "anchor": "y",
         "domain": [
          0,
          1
         ],
         "title": {
          "text": "mes_ano_dep"
         }
        },
        "yaxis": {
         "anchor": "x",
         "domain": [
          0,
          1
         ],
         "title": {
          "text": "ID"
         }
        }
       }
      }
     },
     "metadata": {},
     "output_type": "display_data"
    }
   ],
   "source": [
    "counts = df.groupby(['mes_dep', 'ano_dep', 'mes_ano_dep', 'ifes'], observed=True)['ID'].nunique().reset_index()\n",
    "counts = counts.sort_values(['ano_dep', 'mes_dep']).copy()\n",
    "\n",
    "px.line(counts,\n",
    "    x='mes_ano_dep', \n",
    "    y='ID',\n",
    "    color='ifes')"
   ]
  },
  {
   "cell_type": "markdown",
   "id": "2829da5c",
   "metadata": {},
   "source": [
    "### Patentes depositadas entre 01/01/2018 e 11/01/2023 por data de depósito e segundo participação de IFEs"
   ]
  },
  {
   "cell_type": "code",
<<<<<<< Updated upstream
   "execution_count": 10,
=======
   "execution_count": 27,
>>>>>>> Stashed changes
   "id": "08bbe5f7",
   "metadata": {},
   "outputs": [
    {
     "data": {
      "image/png": "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",
      "text/plain": [
       "<Figure size 1200x600 with 1 Axes>"
      ]
     },
     "metadata": {},
     "output_type": "display_data"
    }
   ],
   "source": [
    "# Agrupe os dados e conte IDs distintos em cada categoria da coluna 'ifes'\n",
    "counts = df.loc[df['data_deposito'] >= '2018-01-01'].copy()\n",
    "counts = counts.groupby(['mes_dep', 'ano_dep', 'mes_ano_dep', 'ifes'], observed=True)['ID'].nunique().reset_index()\n",
    "counts = counts.sort_values(['ano_dep', 'mes_dep']).copy()\n",
    "\n",
    "# Crie o gráfico de barras com Seaborn\n",
    "plt.figure(figsize=(12, 6))\n",
    "sns.set(style=\"whitegrid\")  # Estilo de fundo\n",
    "\n",
    "# Crie o gráfico de barras com as porcentagens\n",
    "sns.lineplot(x='mes_ano_dep', y='ID', hue='ifes', data=counts)\n",
    "\n",
    "plt.xticks(rotation=90)  # Rotacione os rótulos no eixo x para melhor legibilidade\n",
    "plt.xlabel('\\nData de depósito da patente')\n",
    "plt.ylabel('Número absoluto de patentes depositadas\\n')\n",
    "plt.title('Patentes depositadas entre 01/01/2018 e 11/01/2023 por data de depósito e segundo participação de IFEs')\n",
    "\n",
    "# Mostre o gráfico\n",
    "plt.tight_layout()\n",
    "plt.show()"
   ]
  },
  {
   "cell_type": "code",
<<<<<<< Updated upstream
   "execution_count": 11,
=======
   "execution_count": 28,
>>>>>>> Stashed changes
   "metadata": {},
   "outputs": [
    {
     "name": "stderr",
     "output_type": "stream",
     "text": [
      "c:\\Users\\DELL\\AppData\\Local\\Programs\\Python\\Python311\\Lib\\site-packages\\plotly\\express\\_core.py:2044: FutureWarning:\n",
      "\n",
      "The default of observed=False is deprecated and will be changed to True in a future version of pandas. Pass observed=False to retain current behavior or observed=True to adopt the future default and silence this warning.\n",
      "\n"
     ]
    },
    {
     "data": {
      "application/vnd.plotly.v1+json": {
       "config": {
        "plotlyServerURL": "https://plot.ly"
       },
       "data": [
        {
         "hovertemplate": "IFEs=Não<br>Data de depósito=%{x}<br>Número absoluto de pantentes=%{y}<extra></extra>",
         "legendgroup": "Não",
         "line": {
          "color": "blue",
          "dash": "solid"
         },
         "marker": {
          "symbol": "circle"
         },
         "mode": "lines+markers",
         "name": "Não",
         "orientation": "v",
         "showlegend": true,
         "type": "scatter",
         "x": [
          "01/2018",
          "02/2018",
          "03/2018",
          "04/2018",
          "05/2018",
          "06/2018",
          "07/2018",
          "08/2018",
          "09/2018",
          "10/2018",
          "11/2018",
          "12/2018",
          "01/2019",
          "02/2019",
          "03/2019",
          "04/2019",
          "05/2019",
          "06/2019",
          "07/2019",
          "08/2019",
          "09/2019",
          "10/2019",
          "11/2019",
          "12/2019",
          "01/2020",
          "02/2020",
          "03/2020",
          "04/2020",
          "05/2020",
          "06/2020",
          "07/2020",
          "08/2020",
          "09/2020",
          "10/2020",
          "11/2020",
          "12/2020",
          "01/2021",
          "02/2021",
          "03/2021",
          "04/2021",
          "05/2021",
          "06/2021",
          "07/2021",
          "08/2021",
          "09/2021",
          "10/2021",
          "11/2021",
          "12/2021",
          "01/2022",
          "02/2022",
          "03/2022",
          "04/2022",
          "05/2022",
          "06/2022",
          "07/2022",
          "08/2022",
          "09/2022",
          "10/2022",
          "11/2022",
          "12/2022",
          "01/2023"
         ],
         "xaxis": "x",
         "y": [
          7,
          11,
          3,
          7,
          13,
          132,
          372,
          314,
          416,
          369,
          392,
          488,
          336,
          394,
          347,
          462,
          502,
          421,
          590,
          543,
          541,
          565,
          557,
          796,
          401,
          411,
          512,
          419,
          433,
          488,
          547,
          510,
          480,
          489,
          453,
          701,
          364,
          416,
          547,
          459,
          405,
          421,
          502,
          485,
          444,
          458,
          491,
          588,
          227,
          128,
          147,
          92,
          123,
          129,
          114,
          94,
          102,
          76,
          76,
          70,
          12
         ],
         "yaxis": "y"
        },
        {
         "hovertemplate": "IFEs=Sim<br>Data de depósito=%{x}<br>Número absoluto de pantentes=%{y}<extra></extra>",
         "legendgroup": "Sim",
         "line": {
          "color": "red",
          "dash": "solid"
         },
         "marker": {
          "symbol": "circle"
         },
         "mode": "lines+markers",
         "name": "Sim",
         "orientation": "v",
         "showlegend": true,
         "type": "scatter",
         "x": [
          "01/2018",
          "02/2018",
          "03/2018",
          "04/2018",
          "05/2018",
          "06/2018",
          "07/2018",
          "08/2018",
          "09/2018",
          "10/2018",
          "11/2018",
          "12/2018",
          "01/2019",
          "02/2019",
          "03/2019",
          "04/2019",
          "05/2019",
          "06/2019",
          "07/2019",
          "08/2019",
          "09/2019",
          "10/2019",
          "11/2019",
          "12/2019",
          "01/2020",
          "02/2020",
          "03/2020",
          "04/2020",
          "05/2020",
          "06/2020",
          "07/2020",
          "08/2020",
          "09/2020",
          "10/2020",
          "11/2020",
          "12/2020",
          "01/2021",
          "02/2021",
          "03/2021",
          "04/2021",
          "05/2021",
          "06/2021",
          "07/2021",
          "08/2021",
          "09/2021",
          "10/2021",
          "11/2021",
          "12/2021",
          "01/2022",
          "02/2022",
          "05/2022",
          "06/2022",
          "07/2022",
          "11/2022"
         ],
         "xaxis": "x",
         "y": [
          3,
          4,
          1,
          6,
          5,
          33,
          79,
          74,
          100,
          62,
          110,
          132,
          55,
          85,
          78,
          77,
          118,
          61,
          105,
          92,
          87,
          110,
          109,
          151,
          64,
          70,
          97,
          71,
          87,
          103,
          124,
          97,
          98,
          81,
          108,
          111,
          30,
          52,
          67,
          60,
          69,
          55,
          74,
          61,
          76,
          67,
          78,
          136,
          12,
          1,
          1,
          1,
          2,
          1
         ],
         "yaxis": "y"
        }
       ],
       "layout": {
        "height": 600,
        "legend": {
         "title": {
          "text": "IFEs"
         },
         "tracegroupgap": 0
        },
        "template": {
         "data": {
          "bar": [
           {
            "error_x": {
             "color": "rgb(36,36,36)"
            },
            "error_y": {
             "color": "rgb(36,36,36)"
            },
            "marker": {
             "line": {
              "color": "white",
              "width": 0.5
             },
             "pattern": {
              "fillmode": "overlay",
              "size": 10,
              "solidity": 0.2
             }
            },
            "type": "bar"
           }
          ],
          "barpolar": [
           {
            "marker": {
             "line": {
              "color": "white",
              "width": 0.5
             },
             "pattern": {
              "fillmode": "overlay",
              "size": 10,
              "solidity": 0.2
             }
            },
            "type": "barpolar"
           }
          ],
          "carpet": [
           {
            "aaxis": {
             "endlinecolor": "rgb(36,36,36)",
             "gridcolor": "white",
             "linecolor": "white",
             "minorgridcolor": "white",
             "startlinecolor": "rgb(36,36,36)"
            },
            "baxis": {
             "endlinecolor": "rgb(36,36,36)",
             "gridcolor": "white",
             "linecolor": "white",
             "minorgridcolor": "white",
             "startlinecolor": "rgb(36,36,36)"
            },
            "type": "carpet"
           }
          ],
          "choropleth": [
           {
            "colorbar": {
             "outlinewidth": 1,
             "tickcolor": "rgb(36,36,36)",
             "ticks": "outside"
            },
            "type": "choropleth"
           }
          ],
          "contour": [
           {
            "colorbar": {
             "outlinewidth": 1,
             "tickcolor": "rgb(36,36,36)",
             "ticks": "outside"
            },
            "colorscale": [
             [
              0,
              "#440154"
             ],
             [
              0.1111111111111111,
              "#482878"
             ],
             [
              0.2222222222222222,
              "#3e4989"
             ],
             [
              0.3333333333333333,
              "#31688e"
             ],
             [
              0.4444444444444444,
              "#26828e"
             ],
             [
              0.5555555555555556,
              "#1f9e89"
             ],
             [
              0.6666666666666666,
              "#35b779"
             ],
             [
              0.7777777777777778,
              "#6ece58"
             ],
             [
              0.8888888888888888,
              "#b5de2b"
             ],
             [
              1,
              "#fde725"
             ]
            ],
            "type": "contour"
           }
          ],
          "contourcarpet": [
           {
            "colorbar": {
             "outlinewidth": 1,
             "tickcolor": "rgb(36,36,36)",
             "ticks": "outside"
            },
            "type": "contourcarpet"
           }
          ],
          "heatmap": [
           {
            "colorbar": {
             "outlinewidth": 1,
             "tickcolor": "rgb(36,36,36)",
             "ticks": "outside"
            },
            "colorscale": [
             [
              0,
              "#440154"
             ],
             [
              0.1111111111111111,
              "#482878"
             ],
             [
              0.2222222222222222,
              "#3e4989"
             ],
             [
              0.3333333333333333,
              "#31688e"
             ],
             [
              0.4444444444444444,
              "#26828e"
             ],
             [
              0.5555555555555556,
              "#1f9e89"
             ],
             [
              0.6666666666666666,
              "#35b779"
             ],
             [
              0.7777777777777778,
              "#6ece58"
             ],
             [
              0.8888888888888888,
              "#b5de2b"
             ],
             [
              1,
              "#fde725"
             ]
            ],
            "type": "heatmap"
           }
          ],
          "heatmapgl": [
           {
            "colorbar": {
             "outlinewidth": 1,
             "tickcolor": "rgb(36,36,36)",
             "ticks": "outside"
            },
            "colorscale": [
             [
              0,
              "#440154"
             ],
             [
              0.1111111111111111,
              "#482878"
             ],
             [
              0.2222222222222222,
              "#3e4989"
             ],
             [
              0.3333333333333333,
              "#31688e"
             ],
             [
              0.4444444444444444,
              "#26828e"
             ],
             [
              0.5555555555555556,
              "#1f9e89"
             ],
             [
              0.6666666666666666,
              "#35b779"
             ],
             [
              0.7777777777777778,
              "#6ece58"
             ],
             [
              0.8888888888888888,
              "#b5de2b"
             ],
             [
              1,
              "#fde725"
             ]
            ],
            "type": "heatmapgl"
           }
          ],
          "histogram": [
           {
            "marker": {
             "line": {
              "color": "white",
              "width": 0.6
             }
            },
            "type": "histogram"
           }
          ],
          "histogram2d": [
           {
            "colorbar": {
             "outlinewidth": 1,
             "tickcolor": "rgb(36,36,36)",
             "ticks": "outside"
            },
            "colorscale": [
             [
              0,
              "#440154"
             ],
             [
              0.1111111111111111,
              "#482878"
             ],
             [
              0.2222222222222222,
              "#3e4989"
             ],
             [
              0.3333333333333333,
              "#31688e"
             ],
             [
              0.4444444444444444,
              "#26828e"
             ],
             [
              0.5555555555555556,
              "#1f9e89"
             ],
             [
              0.6666666666666666,
              "#35b779"
             ],
             [
              0.7777777777777778,
              "#6ece58"
             ],
             [
              0.8888888888888888,
              "#b5de2b"
             ],
             [
              1,
              "#fde725"
             ]
            ],
            "type": "histogram2d"
           }
          ],
          "histogram2dcontour": [
           {
            "colorbar": {
             "outlinewidth": 1,
             "tickcolor": "rgb(36,36,36)",
             "ticks": "outside"
            },
            "colorscale": [
             [
              0,
              "#440154"
             ],
             [
              0.1111111111111111,
              "#482878"
             ],
             [
              0.2222222222222222,
              "#3e4989"
             ],
             [
              0.3333333333333333,
              "#31688e"
             ],
             [
              0.4444444444444444,
              "#26828e"
             ],
             [
              0.5555555555555556,
              "#1f9e89"
             ],
             [
              0.6666666666666666,
              "#35b779"
             ],
             [
              0.7777777777777778,
              "#6ece58"
             ],
             [
              0.8888888888888888,
              "#b5de2b"
             ],
             [
              1,
              "#fde725"
             ]
            ],
            "type": "histogram2dcontour"
           }
          ],
          "mesh3d": [
           {
            "colorbar": {
             "outlinewidth": 1,
             "tickcolor": "rgb(36,36,36)",
             "ticks": "outside"
            },
            "type": "mesh3d"
           }
          ],
          "parcoords": [
           {
            "line": {
             "colorbar": {
              "outlinewidth": 1,
              "tickcolor": "rgb(36,36,36)",
              "ticks": "outside"
             }
            },
            "type": "parcoords"
           }
          ],
          "pie": [
           {
            "automargin": true,
            "type": "pie"
           }
          ],
          "scatter": [
           {
            "fillpattern": {
             "fillmode": "overlay",
             "size": 10,
             "solidity": 0.2
            },
            "type": "scatter"
           }
          ],
          "scatter3d": [
           {
            "line": {
             "colorbar": {
              "outlinewidth": 1,
              "tickcolor": "rgb(36,36,36)",
              "ticks": "outside"
             }
            },
            "marker": {
             "colorbar": {
              "outlinewidth": 1,
              "tickcolor": "rgb(36,36,36)",
              "ticks": "outside"
             }
            },
            "type": "scatter3d"
           }
          ],
          "scattercarpet": [
           {
            "marker": {
             "colorbar": {
              "outlinewidth": 1,
              "tickcolor": "rgb(36,36,36)",
              "ticks": "outside"
             }
            },
            "type": "scattercarpet"
           }
          ],
          "scattergeo": [
           {
            "marker": {
             "colorbar": {
              "outlinewidth": 1,
              "tickcolor": "rgb(36,36,36)",
              "ticks": "outside"
             }
            },
            "type": "scattergeo"
           }
          ],
          "scattergl": [
           {
            "marker": {
             "colorbar": {
              "outlinewidth": 1,
              "tickcolor": "rgb(36,36,36)",
              "ticks": "outside"
             }
            },
            "type": "scattergl"
           }
          ],
          "scattermapbox": [
           {
            "marker": {
             "colorbar": {
              "outlinewidth": 1,
              "tickcolor": "rgb(36,36,36)",
              "ticks": "outside"
             }
            },
            "type": "scattermapbox"
           }
          ],
          "scatterpolar": [
           {
            "marker": {
             "colorbar": {
              "outlinewidth": 1,
              "tickcolor": "rgb(36,36,36)",
              "ticks": "outside"
             }
            },
            "type": "scatterpolar"
           }
          ],
          "scatterpolargl": [
           {
            "marker": {
             "colorbar": {
              "outlinewidth": 1,
              "tickcolor": "rgb(36,36,36)",
              "ticks": "outside"
             }
            },
            "type": "scatterpolargl"
           }
          ],
          "scatterternary": [
           {
            "marker": {
             "colorbar": {
              "outlinewidth": 1,
              "tickcolor": "rgb(36,36,36)",
              "ticks": "outside"
             }
            },
            "type": "scatterternary"
           }
          ],
          "surface": [
           {
            "colorbar": {
             "outlinewidth": 1,
             "tickcolor": "rgb(36,36,36)",
             "ticks": "outside"
            },
            "colorscale": [
             [
              0,
              "#440154"
             ],
             [
              0.1111111111111111,
              "#482878"
             ],
             [
              0.2222222222222222,
              "#3e4989"
             ],
             [
              0.3333333333333333,
              "#31688e"
             ],
             [
              0.4444444444444444,
              "#26828e"
             ],
             [
              0.5555555555555556,
              "#1f9e89"
             ],
             [
              0.6666666666666666,
              "#35b779"
             ],
             [
              0.7777777777777778,
              "#6ece58"
             ],
             [
              0.8888888888888888,
              "#b5de2b"
             ],
             [
              1,
              "#fde725"
             ]
            ],
            "type": "surface"
           }
          ],
          "table": [
           {
            "cells": {
             "fill": {
              "color": "rgb(237,237,237)"
             },
             "line": {
              "color": "white"
             }
            },
            "header": {
             "fill": {
              "color": "rgb(217,217,217)"
             },
             "line": {
              "color": "white"
             }
            },
            "type": "table"
           }
          ]
         },
         "layout": {
          "annotationdefaults": {
           "arrowhead": 0,
           "arrowwidth": 1
          },
          "autotypenumbers": "strict",
          "coloraxis": {
           "colorbar": {
            "outlinewidth": 1,
            "tickcolor": "rgb(36,36,36)",
            "ticks": "outside"
           }
          },
          "colorscale": {
           "diverging": [
            [
             0,
             "rgb(103,0,31)"
            ],
            [
             0.1,
             "rgb(178,24,43)"
            ],
            [
             0.2,
             "rgb(214,96,77)"
            ],
            [
             0.3,
             "rgb(244,165,130)"
            ],
            [
             0.4,
             "rgb(253,219,199)"
            ],
            [
             0.5,
             "rgb(247,247,247)"
            ],
            [
             0.6,
             "rgb(209,229,240)"
            ],
            [
             0.7,
             "rgb(146,197,222)"
            ],
            [
             0.8,
             "rgb(67,147,195)"
            ],
            [
             0.9,
             "rgb(33,102,172)"
            ],
            [
             1,
             "rgb(5,48,97)"
            ]
           ],
           "sequential": [
            [
             0,
             "#440154"
            ],
            [
             0.1111111111111111,
             "#482878"
            ],
            [
             0.2222222222222222,
             "#3e4989"
            ],
            [
             0.3333333333333333,
             "#31688e"
            ],
            [
             0.4444444444444444,
             "#26828e"
            ],
            [
             0.5555555555555556,
             "#1f9e89"
            ],
            [
             0.6666666666666666,
             "#35b779"
            ],
            [
             0.7777777777777778,
             "#6ece58"
            ],
            [
             0.8888888888888888,
             "#b5de2b"
            ],
            [
             1,
             "#fde725"
            ]
           ],
           "sequentialminus": [
            [
             0,
             "#440154"
            ],
            [
             0.1111111111111111,
             "#482878"
            ],
            [
             0.2222222222222222,
             "#3e4989"
            ],
            [
             0.3333333333333333,
             "#31688e"
            ],
            [
             0.4444444444444444,
             "#26828e"
            ],
            [
             0.5555555555555556,
             "#1f9e89"
            ],
            [
             0.6666666666666666,
             "#35b779"
            ],
            [
             0.7777777777777778,
             "#6ece58"
            ],
            [
             0.8888888888888888,
             "#b5de2b"
            ],
            [
             1,
             "#fde725"
            ]
           ]
          },
          "colorway": [
           "#1F77B4",
           "#FF7F0E",
           "#2CA02C",
           "#D62728",
           "#9467BD",
           "#8C564B",
           "#E377C2",
           "#7F7F7F",
           "#BCBD22",
           "#17BECF"
          ],
          "font": {
           "color": "rgb(36,36,36)"
          },
          "geo": {
           "bgcolor": "white",
           "lakecolor": "white",
           "landcolor": "white",
           "showlakes": true,
           "showland": true,
           "subunitcolor": "white"
          },
          "hoverlabel": {
           "align": "left"
          },
          "hovermode": "closest",
          "mapbox": {
           "style": "light"
          },
          "paper_bgcolor": "white",
          "plot_bgcolor": "white",
          "polar": {
           "angularaxis": {
            "gridcolor": "rgb(232,232,232)",
            "linecolor": "rgb(36,36,36)",
            "showgrid": false,
            "showline": true,
            "ticks": "outside"
           },
           "bgcolor": "white",
           "radialaxis": {
            "gridcolor": "rgb(232,232,232)",
            "linecolor": "rgb(36,36,36)",
            "showgrid": false,
            "showline": true,
            "ticks": "outside"
           }
          },
          "scene": {
           "xaxis": {
            "backgroundcolor": "white",
            "gridcolor": "rgb(232,232,232)",
            "gridwidth": 2,
            "linecolor": "rgb(36,36,36)",
            "showbackground": true,
            "showgrid": false,
            "showline": true,
            "ticks": "outside",
            "zeroline": false,
            "zerolinecolor": "rgb(36,36,36)"
           },
           "yaxis": {
            "backgroundcolor": "white",
            "gridcolor": "rgb(232,232,232)",
            "gridwidth": 2,
            "linecolor": "rgb(36,36,36)",
            "showbackground": true,
            "showgrid": false,
            "showline": true,
            "ticks": "outside",
            "zeroline": false,
            "zerolinecolor": "rgb(36,36,36)"
           },
           "zaxis": {
            "backgroundcolor": "white",
            "gridcolor": "rgb(232,232,232)",
            "gridwidth": 2,
            "linecolor": "rgb(36,36,36)",
            "showbackground": true,
            "showgrid": false,
            "showline": true,
            "ticks": "outside",
            "zeroline": false,
            "zerolinecolor": "rgb(36,36,36)"
           }
          },
          "shapedefaults": {
           "fillcolor": "black",
           "line": {
            "width": 0
           },
           "opacity": 0.3
          },
          "ternary": {
           "aaxis": {
            "gridcolor": "rgb(232,232,232)",
            "linecolor": "rgb(36,36,36)",
            "showgrid": false,
            "showline": true,
            "ticks": "outside"
           },
           "baxis": {
            "gridcolor": "rgb(232,232,232)",
            "linecolor": "rgb(36,36,36)",
            "showgrid": false,
            "showline": true,
            "ticks": "outside"
           },
           "bgcolor": "white",
           "caxis": {
            "gridcolor": "rgb(232,232,232)",
            "linecolor": "rgb(36,36,36)",
            "showgrid": false,
            "showline": true,
            "ticks": "outside"
           }
          },
          "title": {
           "x": 0.05
          },
          "xaxis": {
           "automargin": true,
           "gridcolor": "rgb(232,232,232)",
           "linecolor": "rgb(36,36,36)",
           "showgrid": false,
           "showline": true,
           "ticks": "outside",
           "title": {
            "standoff": 15
           },
           "zeroline": false,
           "zerolinecolor": "rgb(36,36,36)"
          },
          "yaxis": {
           "automargin": true,
           "gridcolor": "rgb(232,232,232)",
           "linecolor": "rgb(36,36,36)",
           "showgrid": false,
           "showline": true,
           "ticks": "outside",
           "title": {
            "standoff": 15
           },
           "zeroline": false,
           "zerolinecolor": "rgb(36,36,36)"
          }
         }
        },
        "title": {
         "text": "Patentes depositadas entre 01/01/2018 e 11/01/2023 por tipo de organização"
        },
        "width": 900,
        "xaxis": {
         "anchor": "y",
         "domain": [
          0,
          1
         ],
         "tickangle": -90,
         "title": {
          "text": "Data de depósito"
         }
        },
        "yaxis": {
         "anchor": "x",
         "domain": [
          0,
          1
         ],
         "title": {
          "text": "Número absoluto de pantentes"
         }
        }
       }
      }
     },
     "metadata": {},
     "output_type": "display_data"
    }
   ],
   "source": [
    "counts = df.loc[df['data_deposito'] >= '2018-01-01'].copy()\n",
    "counts = counts.groupby(['mes_dep', 'ano_dep', 'mes_ano_dep', 'ifes'], observed=True)['ID'].nunique().reset_index()\n",
    "counts = counts.sort_values(['ano_dep', 'mes_dep']).copy()\n",
    "\n",
    "fig=px.line(counts,\n",
    "    x='mes_ano_dep', y='ID',\n",
    "    color='ifes', \n",
    "    markers=True,\n",
    "    title='Patentes depositadas entre 01/01/2018 e 11/01/2023 por tipo de organização',\n",
    "    width=900, height=600,\n",
    "    labels={ # replaces default labels by column name\n",
    "                \"ID\": \"Número absoluto de pantentes\",  \n",
    "                \"mes_ano_dep\": \"Data de depósito\",\n",
    "                \"ifes\": \"IFEs\"\n",
    "            },\n",
    "    color_discrete_map={ # replaces default color mapping by value\n",
    "                \"Não\": \"blue\", \"Sim\": \"red\"\n",
    "            },\n",
    "    template=\"simple_white\")\n",
    "fig.update_xaxes(tickangle=-90)\n",
    "fig.write_html(\"fig_serie_temp_total_por_tipo_org.html\")\n",
    "fig.show()"
   ]
  },
  {
   "cell_type": "markdown",
   "id": "ecb26963",
   "metadata": {},
   "source": [
    "### Distribuição das patentes depositadas por IFEs entre 20/05/2003 e 11/01/2023 por condição de participação"
   ]
  },
  {
   "cell_type": "code",
<<<<<<< Updated upstream
   "execution_count": 12,
=======
   "execution_count": 29,
>>>>>>> Stashed changes
   "id": "6c45f54f",
   "metadata": {},
   "outputs": [
    {
     "data": {
      "image/png": "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",
      "text/plain": [
       "<Figure size 640x480 with 1 Axes>"
      ]
     },
     "metadata": {},
     "output_type": "display_data"
    }
   ],
   "source": [
    "# Agrupe os dados e conte IDs distintos em cada categoria da coluna 'ifes'\n",
    "counts = df.loc[df['ifes'] == 'Sim'].copy()\n",
    "counts = counts.groupby('parceria', observed=True)['ID'].nunique().reset_index()\n",
    "\n",
    "colors = sns.color_palette('Set3')  # Usando uma paleta de cores do Seaborn\n",
    "labels = ['Parceiro', 'Titular']\n",
    "# Crie um gráfico de pizza com o Matplotlib\n",
    "plt.pie(counts['ID'], labels=labels, colors=colors, autopct='%1.1f%%', startangle=140)\n",
    "\n",
    "# Personalize o gráfico com o Seaborn\n",
    "sns.set(style='white')\n",
    "plt.axis('equal')  # Para garantir que o gráfico seja um círculo\n",
    "\n",
    "# Exiba o gráfico\n",
<<<<<<< Updated upstream
    "plt.savefig(\"fig_total_geral_ifes_por_tipo_partic.png\")\n",
=======
    "plt.savefig(\"fig_total_ifes_por_tipo_partic.png\")\n",
>>>>>>> Stashed changes
    "plt.show()"
   ]
  },
  {
   "cell_type": "markdown",
   "id": "ec97b980",
   "metadata": {},
   "source": [
    "### Distribuição das patentes depositadas por IFEs entre 01/01/2018 e 11/01/2023 por data de depósito e segundo condição de participação"
   ]
  },
  {
   "cell_type": "code",
<<<<<<< Updated upstream
   "execution_count": 13,
=======
   "execution_count": 30,
>>>>>>> Stashed changes
   "id": "ea48ea3b",
   "metadata": {},
   "outputs": [
    {
     "data": {
      "image/png": "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",
      "text/plain": [
       "<Figure size 1200x600 with 1 Axes>"
      ]
     },
     "metadata": {},
     "output_type": "display_data"
    }
   ],
   "source": [
    "# Agrupe os dados e conte IDs distintos em cada categoria da coluna 'ifes'\n",
    "counts = df.loc[(df['ifes'] == 'Sim') & (df['data_deposito'] >= '2018-01-01')].copy()\n",
    "counts = counts.groupby(['mes_dep', 'ano_dep', 'mes_ano_dep', 'parceria'], observed=True)['ID'].nunique().reset_index()\n",
    "counts = counts.sort_values(['ano_dep', 'mes_dep']).copy()\n",
    "\n",
    "# Crie o gráfico de barras com Seaborn\n",
    "plt.figure(figsize=(12, 6))\n",
    "sns.set(style=\"whitegrid\")  # Estilo de fundo\n",
    "\n",
    "# Crie o gráfico de barras com as porcentagens\n",
    "sns.lineplot(x='mes_ano_dep', y='ID', hue='parceria', data=counts)\n",
    "\n",
    "plt.xticks(rotation=90)  # Rotacione os rótulos no eixo x para melhor legibilidade\n",
    "plt.xlabel('\\nData de depósito da patente')\n",
    "plt.ylabel('Número absoluto de patentes depositadas\\n')\n",
    "#plt.title('')\n",
    "\n",
    "# Mostre o gráfico\n",
    "plt.tight_layout()\n",
    "plt.show()"
   ]
  },
  {
   "cell_type": "code",
<<<<<<< Updated upstream
   "execution_count": 14,
=======
   "execution_count": 31,
>>>>>>> Stashed changes
   "id": "b66c68d8",
   "metadata": {},
   "outputs": [
    {
     "name": "stderr",
     "output_type": "stream",
     "text": [
      "c:\\Users\\DELL\\AppData\\Local\\Programs\\Python\\Python311\\Lib\\site-packages\\plotly\\express\\_core.py:2044: FutureWarning:\n",
      "\n",
      "The default of observed=False is deprecated and will be changed to True in a future version of pandas. Pass observed=False to retain current behavior or observed=True to adopt the future default and silence this warning.\n",
      "\n"
     ]
    },
    {
     "data": {
      "application/vnd.plotly.v1+json": {
       "config": {
        "plotlyServerURL": "https://plot.ly"
       },
       "data": [
        {
         "hovertemplate": "Tipo de participação=Titular<br>Data de depósito=%{x}<br>Número absoluto de pantentes=%{y}<extra></extra>",
         "legendgroup": "Titular",
         "line": {
          "color": "lightgreen",
          "dash": "solid"
         },
         "marker": {
          "symbol": "circle"
         },
         "mode": "lines+markers",
         "name": "Titular",
         "orientation": "v",
         "showlegend": true,
         "type": "scatter",
         "x": [
          "01/2018",
          "02/2018",
          "03/2018",
          "04/2018",
          "05/2018",
          "06/2018",
          "07/2018",
          "08/2018",
          "09/2018",
          "10/2018",
          "11/2018",
          "12/2018",
          "01/2019",
          "02/2019",
          "03/2019",
          "04/2019",
          "05/2019",
          "06/2019",
          "07/2019",
          "08/2019",
          "09/2019",
          "10/2019",
          "11/2019",
          "12/2019",
          "01/2020",
          "02/2020",
          "03/2020",
          "04/2020",
          "05/2020",
          "06/2020",
          "07/2020",
          "08/2020",
          "09/2020",
          "10/2020",
          "11/2020",
          "12/2020",
          "01/2021",
          "02/2021",
          "03/2021",
          "04/2021",
          "05/2021",
          "06/2021",
          "07/2021",
          "08/2021",
          "09/2021",
          "10/2021",
          "11/2021",
          "12/2021",
          "01/2022",
          "02/2022",
          "05/2022",
          "07/2022",
          "11/2022"
         ],
         "xaxis": "x",
         "y": [
          3,
          4,
          1,
          6,
          5,
          31,
          75,
          73,
          95,
          56,
          101,
          123,
          51,
          78,
          72,
          66,
          113,
          59,
          101,
          87,
          83,
          104,
          97,
          137,
          59,
          66,
          88,
          68,
          85,
          96,
          114,
          91,
          87,
          74,
          94,
          99,
          27,
          47,
          64,
          57,
          67,
          49,
          68,
          57,
          67,
          59,
          74,
          123,
          9,
          1,
          1,
          1,
          1
         ],
         "yaxis": "y"
        },
        {
         "hovertemplate": "Tipo de participação=Parceiro<br>Data de depósito=%{x}<br>Número absoluto de pantentes=%{y}<extra></extra>",
         "legendgroup": "Parceiro",
         "line": {
          "color": "darkgreen",
          "dash": "solid"
         },
         "marker": {
          "symbol": "circle"
         },
         "mode": "lines+markers",
         "name": "Parceiro",
         "orientation": "v",
         "showlegend": true,
         "type": "scatter",
         "x": [
          "02/2018",
          "03/2018",
          "04/2018",
          "05/2018",
          "06/2018",
          "07/2018",
          "08/2018",
          "09/2018",
          "10/2018",
          "11/2018",
          "12/2018",
          "01/2019",
          "02/2019",
          "03/2019",
          "04/2019",
          "05/2019",
          "06/2019",
          "07/2019",
          "08/2019",
          "09/2019",
          "10/2019",
          "11/2019",
          "12/2019",
          "01/2020",
          "02/2020",
          "03/2020",
          "04/2020",
          "05/2020",
          "06/2020",
          "07/2020",
          "08/2020",
          "09/2020",
          "10/2020",
          "11/2020",
          "12/2020",
          "01/2021",
          "02/2021",
          "03/2021",
          "04/2021",
          "05/2021",
          "06/2021",
          "07/2021",
          "08/2021",
          "09/2021",
          "10/2021",
          "11/2021",
          "12/2021",
          "01/2022",
          "06/2022",
          "07/2022",
          "11/2022"
         ],
         "xaxis": "x",
         "y": [
          1,
          1,
          1,
          2,
          5,
          12,
          15,
          22,
          10,
          14,
          22,
          13,
          17,
          15,
          16,
          26,
          9,
          16,
          9,
          15,
          15,
          25,
          31,
          13,
          11,
          15,
          10,
          10,
          16,
          26,
          20,
          22,
          15,
          30,
          24,
          7,
          13,
          11,
          9,
          13,
          11,
          18,
          14,
          20,
          15,
          13,
          27,
          3,
          1,
          1,
          1
         ],
         "yaxis": "y"
        }
       ],
       "layout": {
        "height": 600,
        "legend": {
         "title": {
          "text": "Tipo de participação"
         },
         "tracegroupgap": 0
        },
        "template": {
         "data": {
          "bar": [
           {
            "error_x": {
             "color": "rgb(36,36,36)"
            },
            "error_y": {
             "color": "rgb(36,36,36)"
            },
            "marker": {
             "line": {
              "color": "white",
              "width": 0.5
             },
             "pattern": {
              "fillmode": "overlay",
              "size": 10,
              "solidity": 0.2
             }
            },
            "type": "bar"
           }
          ],
          "barpolar": [
           {
            "marker": {
             "line": {
              "color": "white",
              "width": 0.5
             },
             "pattern": {
              "fillmode": "overlay",
              "size": 10,
              "solidity": 0.2
             }
            },
            "type": "barpolar"
           }
          ],
          "carpet": [
           {
            "aaxis": {
             "endlinecolor": "rgb(36,36,36)",
             "gridcolor": "white",
             "linecolor": "white",
             "minorgridcolor": "white",
             "startlinecolor": "rgb(36,36,36)"
            },
            "baxis": {
             "endlinecolor": "rgb(36,36,36)",
             "gridcolor": "white",
             "linecolor": "white",
             "minorgridcolor": "white",
             "startlinecolor": "rgb(36,36,36)"
            },
            "type": "carpet"
           }
          ],
          "choropleth": [
           {
            "colorbar": {
             "outlinewidth": 1,
             "tickcolor": "rgb(36,36,36)",
             "ticks": "outside"
            },
            "type": "choropleth"
           }
          ],
          "contour": [
           {
            "colorbar": {
             "outlinewidth": 1,
             "tickcolor": "rgb(36,36,36)",
             "ticks": "outside"
            },
            "colorscale": [
             [
              0,
              "#440154"
             ],
             [
              0.1111111111111111,
              "#482878"
             ],
             [
              0.2222222222222222,
              "#3e4989"
             ],
             [
              0.3333333333333333,
              "#31688e"
             ],
             [
              0.4444444444444444,
              "#26828e"
             ],
             [
              0.5555555555555556,
              "#1f9e89"
             ],
             [
              0.6666666666666666,
              "#35b779"
             ],
             [
              0.7777777777777778,
              "#6ece58"
             ],
             [
              0.8888888888888888,
              "#b5de2b"
             ],
             [
              1,
              "#fde725"
             ]
            ],
            "type": "contour"
           }
          ],
          "contourcarpet": [
           {
            "colorbar": {
             "outlinewidth": 1,
             "tickcolor": "rgb(36,36,36)",
             "ticks": "outside"
            },
            "type": "contourcarpet"
           }
          ],
          "heatmap": [
           {
            "colorbar": {
             "outlinewidth": 1,
             "tickcolor": "rgb(36,36,36)",
             "ticks": "outside"
            },
            "colorscale": [
             [
              0,
              "#440154"
             ],
             [
              0.1111111111111111,
              "#482878"
             ],
             [
              0.2222222222222222,
              "#3e4989"
             ],
             [
              0.3333333333333333,
              "#31688e"
             ],
             [
              0.4444444444444444,
              "#26828e"
             ],
             [
              0.5555555555555556,
              "#1f9e89"
             ],
             [
              0.6666666666666666,
              "#35b779"
             ],
             [
              0.7777777777777778,
              "#6ece58"
             ],
             [
              0.8888888888888888,
              "#b5de2b"
             ],
             [
              1,
              "#fde725"
             ]
            ],
            "type": "heatmap"
           }
          ],
          "heatmapgl": [
           {
            "colorbar": {
             "outlinewidth": 1,
             "tickcolor": "rgb(36,36,36)",
             "ticks": "outside"
            },
            "colorscale": [
             [
              0,
              "#440154"
             ],
             [
              0.1111111111111111,
              "#482878"
             ],
             [
              0.2222222222222222,
              "#3e4989"
             ],
             [
              0.3333333333333333,
              "#31688e"
             ],
             [
              0.4444444444444444,
              "#26828e"
             ],
             [
              0.5555555555555556,
              "#1f9e89"
             ],
             [
              0.6666666666666666,
              "#35b779"
             ],
             [
              0.7777777777777778,
              "#6ece58"
             ],
             [
              0.8888888888888888,
              "#b5de2b"
             ],
             [
              1,
              "#fde725"
             ]
            ],
            "type": "heatmapgl"
           }
          ],
          "histogram": [
           {
            "marker": {
             "line": {
              "color": "white",
              "width": 0.6
             }
            },
            "type": "histogram"
           }
          ],
          "histogram2d": [
           {
            "colorbar": {
             "outlinewidth": 1,
             "tickcolor": "rgb(36,36,36)",
             "ticks": "outside"
            },
            "colorscale": [
             [
              0,
              "#440154"
             ],
             [
              0.1111111111111111,
              "#482878"
             ],
             [
              0.2222222222222222,
              "#3e4989"
             ],
             [
              0.3333333333333333,
              "#31688e"
             ],
             [
              0.4444444444444444,
              "#26828e"
             ],
             [
              0.5555555555555556,
              "#1f9e89"
             ],
             [
              0.6666666666666666,
              "#35b779"
             ],
             [
              0.7777777777777778,
              "#6ece58"
             ],
             [
              0.8888888888888888,
              "#b5de2b"
             ],
             [
              1,
              "#fde725"
             ]
            ],
            "type": "histogram2d"
           }
          ],
          "histogram2dcontour": [
           {
            "colorbar": {
             "outlinewidth": 1,
             "tickcolor": "rgb(36,36,36)",
             "ticks": "outside"
            },
            "colorscale": [
             [
              0,
              "#440154"
             ],
             [
              0.1111111111111111,
              "#482878"
             ],
             [
              0.2222222222222222,
              "#3e4989"
             ],
             [
              0.3333333333333333,
              "#31688e"
             ],
             [
              0.4444444444444444,
              "#26828e"
             ],
             [
              0.5555555555555556,
              "#1f9e89"
             ],
             [
              0.6666666666666666,
              "#35b779"
             ],
             [
              0.7777777777777778,
              "#6ece58"
             ],
             [
              0.8888888888888888,
              "#b5de2b"
             ],
             [
              1,
              "#fde725"
             ]
            ],
            "type": "histogram2dcontour"
           }
          ],
          "mesh3d": [
           {
            "colorbar": {
             "outlinewidth": 1,
             "tickcolor": "rgb(36,36,36)",
             "ticks": "outside"
            },
            "type": "mesh3d"
           }
          ],
          "parcoords": [
           {
            "line": {
             "colorbar": {
              "outlinewidth": 1,
              "tickcolor": "rgb(36,36,36)",
              "ticks": "outside"
             }
            },
            "type": "parcoords"
           }
          ],
          "pie": [
           {
            "automargin": true,
            "type": "pie"
           }
          ],
          "scatter": [
           {
            "fillpattern": {
             "fillmode": "overlay",
             "size": 10,
             "solidity": 0.2
            },
            "type": "scatter"
           }
          ],
          "scatter3d": [
           {
            "line": {
             "colorbar": {
              "outlinewidth": 1,
              "tickcolor": "rgb(36,36,36)",
              "ticks": "outside"
             }
            },
            "marker": {
             "colorbar": {
              "outlinewidth": 1,
              "tickcolor": "rgb(36,36,36)",
              "ticks": "outside"
             }
            },
            "type": "scatter3d"
           }
          ],
          "scattercarpet": [
           {
            "marker": {
             "colorbar": {
              "outlinewidth": 1,
              "tickcolor": "rgb(36,36,36)",
              "ticks": "outside"
             }
            },
            "type": "scattercarpet"
           }
          ],
          "scattergeo": [
           {
            "marker": {
             "colorbar": {
              "outlinewidth": 1,
              "tickcolor": "rgb(36,36,36)",
              "ticks": "outside"
             }
            },
            "type": "scattergeo"
           }
          ],
          "scattergl": [
           {
            "marker": {
             "colorbar": {
              "outlinewidth": 1,
              "tickcolor": "rgb(36,36,36)",
              "ticks": "outside"
             }
            },
            "type": "scattergl"
           }
          ],
          "scattermapbox": [
           {
            "marker": {
             "colorbar": {
              "outlinewidth": 1,
              "tickcolor": "rgb(36,36,36)",
              "ticks": "outside"
             }
            },
            "type": "scattermapbox"
           }
          ],
          "scatterpolar": [
           {
            "marker": {
             "colorbar": {
              "outlinewidth": 1,
              "tickcolor": "rgb(36,36,36)",
              "ticks": "outside"
             }
            },
            "type": "scatterpolar"
           }
          ],
          "scatterpolargl": [
           {
            "marker": {
             "colorbar": {
              "outlinewidth": 1,
              "tickcolor": "rgb(36,36,36)",
              "ticks": "outside"
             }
            },
            "type": "scatterpolargl"
           }
          ],
          "scatterternary": [
           {
            "marker": {
             "colorbar": {
              "outlinewidth": 1,
              "tickcolor": "rgb(36,36,36)",
              "ticks": "outside"
             }
            },
            "type": "scatterternary"
           }
          ],
          "surface": [
           {
            "colorbar": {
             "outlinewidth": 1,
             "tickcolor": "rgb(36,36,36)",
             "ticks": "outside"
            },
            "colorscale": [
             [
              0,
              "#440154"
             ],
             [
              0.1111111111111111,
              "#482878"
             ],
             [
              0.2222222222222222,
              "#3e4989"
             ],
             [
              0.3333333333333333,
              "#31688e"
             ],
             [
              0.4444444444444444,
              "#26828e"
             ],
             [
              0.5555555555555556,
              "#1f9e89"
             ],
             [
              0.6666666666666666,
              "#35b779"
             ],
             [
              0.7777777777777778,
              "#6ece58"
             ],
             [
              0.8888888888888888,
              "#b5de2b"
             ],
             [
              1,
              "#fde725"
             ]
            ],
            "type": "surface"
           }
          ],
          "table": [
           {
            "cells": {
             "fill": {
              "color": "rgb(237,237,237)"
             },
             "line": {
              "color": "white"
             }
            },
            "header": {
             "fill": {
              "color": "rgb(217,217,217)"
             },
             "line": {
              "color": "white"
             }
            },
            "type": "table"
           }
          ]
         },
         "layout": {
          "annotationdefaults": {
           "arrowhead": 0,
           "arrowwidth": 1
          },
          "autotypenumbers": "strict",
          "coloraxis": {
           "colorbar": {
            "outlinewidth": 1,
            "tickcolor": "rgb(36,36,36)",
            "ticks": "outside"
           }
          },
          "colorscale": {
           "diverging": [
            [
             0,
             "rgb(103,0,31)"
            ],
            [
             0.1,
             "rgb(178,24,43)"
            ],
            [
             0.2,
             "rgb(214,96,77)"
            ],
            [
             0.3,
             "rgb(244,165,130)"
            ],
            [
             0.4,
             "rgb(253,219,199)"
            ],
            [
             0.5,
             "rgb(247,247,247)"
            ],
            [
             0.6,
             "rgb(209,229,240)"
            ],
            [
             0.7,
             "rgb(146,197,222)"
            ],
            [
             0.8,
             "rgb(67,147,195)"
            ],
            [
             0.9,
             "rgb(33,102,172)"
            ],
            [
             1,
             "rgb(5,48,97)"
            ]
           ],
           "sequential": [
            [
             0,
             "#440154"
            ],
            [
             0.1111111111111111,
             "#482878"
            ],
            [
             0.2222222222222222,
             "#3e4989"
            ],
            [
             0.3333333333333333,
             "#31688e"
            ],
            [
             0.4444444444444444,
             "#26828e"
            ],
            [
             0.5555555555555556,
             "#1f9e89"
            ],
            [
             0.6666666666666666,
             "#35b779"
            ],
            [
             0.7777777777777778,
             "#6ece58"
            ],
            [
             0.8888888888888888,
             "#b5de2b"
            ],
            [
             1,
             "#fde725"
            ]
           ],
           "sequentialminus": [
            [
             0,
             "#440154"
            ],
            [
             0.1111111111111111,
             "#482878"
            ],
            [
             0.2222222222222222,
             "#3e4989"
            ],
            [
             0.3333333333333333,
             "#31688e"
            ],
            [
             0.4444444444444444,
             "#26828e"
            ],
            [
             0.5555555555555556,
             "#1f9e89"
            ],
            [
             0.6666666666666666,
             "#35b779"
            ],
            [
             0.7777777777777778,
             "#6ece58"
            ],
            [
             0.8888888888888888,
             "#b5de2b"
            ],
            [
             1,
             "#fde725"
            ]
           ]
          },
          "colorway": [
           "#1F77B4",
           "#FF7F0E",
           "#2CA02C",
           "#D62728",
           "#9467BD",
           "#8C564B",
           "#E377C2",
           "#7F7F7F",
           "#BCBD22",
           "#17BECF"
          ],
          "font": {
           "color": "rgb(36,36,36)"
          },
          "geo": {
           "bgcolor": "white",
           "lakecolor": "white",
           "landcolor": "white",
           "showlakes": true,
           "showland": true,
           "subunitcolor": "white"
          },
          "hoverlabel": {
           "align": "left"
          },
          "hovermode": "closest",
          "mapbox": {
           "style": "light"
          },
          "paper_bgcolor": "white",
          "plot_bgcolor": "white",
          "polar": {
           "angularaxis": {
            "gridcolor": "rgb(232,232,232)",
            "linecolor": "rgb(36,36,36)",
            "showgrid": false,
            "showline": true,
            "ticks": "outside"
           },
           "bgcolor": "white",
           "radialaxis": {
            "gridcolor": "rgb(232,232,232)",
            "linecolor": "rgb(36,36,36)",
            "showgrid": false,
            "showline": true,
            "ticks": "outside"
           }
          },
          "scene": {
           "xaxis": {
            "backgroundcolor": "white",
            "gridcolor": "rgb(232,232,232)",
            "gridwidth": 2,
            "linecolor": "rgb(36,36,36)",
            "showbackground": true,
            "showgrid": false,
            "showline": true,
            "ticks": "outside",
            "zeroline": false,
            "zerolinecolor": "rgb(36,36,36)"
           },
           "yaxis": {
            "backgroundcolor": "white",
            "gridcolor": "rgb(232,232,232)",
            "gridwidth": 2,
            "linecolor": "rgb(36,36,36)",
            "showbackground": true,
            "showgrid": false,
            "showline": true,
            "ticks": "outside",
            "zeroline": false,
            "zerolinecolor": "rgb(36,36,36)"
           },
           "zaxis": {
            "backgroundcolor": "white",
            "gridcolor": "rgb(232,232,232)",
            "gridwidth": 2,
            "linecolor": "rgb(36,36,36)",
            "showbackground": true,
            "showgrid": false,
            "showline": true,
            "ticks": "outside",
            "zeroline": false,
            "zerolinecolor": "rgb(36,36,36)"
           }
          },
          "shapedefaults": {
           "fillcolor": "black",
           "line": {
            "width": 0
           },
           "opacity": 0.3
          },
          "ternary": {
           "aaxis": {
            "gridcolor": "rgb(232,232,232)",
            "linecolor": "rgb(36,36,36)",
            "showgrid": false,
            "showline": true,
            "ticks": "outside"
           },
           "baxis": {
            "gridcolor": "rgb(232,232,232)",
            "linecolor": "rgb(36,36,36)",
            "showgrid": false,
            "showline": true,
            "ticks": "outside"
           },
           "bgcolor": "white",
           "caxis": {
            "gridcolor": "rgb(232,232,232)",
            "linecolor": "rgb(36,36,36)",
            "showgrid": false,
            "showline": true,
            "ticks": "outside"
           }
          },
          "title": {
           "x": 0.05
          },
          "xaxis": {
           "automargin": true,
           "gridcolor": "rgb(232,232,232)",
           "linecolor": "rgb(36,36,36)",
           "showgrid": false,
           "showline": true,
           "ticks": "outside",
           "title": {
            "standoff": 15
           },
           "zeroline": false,
           "zerolinecolor": "rgb(36,36,36)"
          },
          "yaxis": {
           "automargin": true,
           "gridcolor": "rgb(232,232,232)",
           "linecolor": "rgb(36,36,36)",
           "showgrid": false,
           "showline": true,
           "ticks": "outside",
           "title": {
            "standoff": 15
           },
           "zeroline": false,
           "zerolinecolor": "rgb(36,36,36)"
          }
         }
        },
        "title": {
         "text": "Patentes depositadas entre 01/01/2018 e 11/01/2023 por tipo de participação"
        },
        "width": 900,
        "xaxis": {
         "anchor": "y",
         "domain": [
          0,
          1
         ],
         "tickangle": -90,
         "title": {
          "text": "Data de depósito"
         }
        },
        "yaxis": {
         "anchor": "x",
         "domain": [
          0,
          1
         ],
         "title": {
          "text": "Número absoluto de pantentes"
         }
        }
       }
      }
     },
     "metadata": {},
     "output_type": "display_data"
    }
   ],
   "source": [
    "counts = df.loc[(df['ifes'] == 'Sim') & (df['data_deposito'] >= '2018-01-01')].copy()\n",
    "counts = counts.groupby(['mes_dep', 'ano_dep', 'mes_ano_dep', 'parceria'], observed=True)['ID'].nunique().reset_index()\n",
    "counts = counts.sort_values(['ano_dep', 'mes_dep']).copy()\n",
    "\n",
    "fig=px.line(counts,\n",
    "    x='mes_ano_dep', y='ID',\n",
    "    color='parceria', \n",
    "    markers=True,\n",
    "    title='Patentes depositadas entre 01/01/2018 e 11/01/2023 por tipo de participação',\n",
    "    width=900, height=600,\n",
    "    labels={ # replaces default labels by column name\n",
    "                \"ID\": \"Número absoluto de pantentes\",  \n",
    "                \"mes_ano_dep\": \"Data de depósito\",\n",
    "                \"parceria\": \"Tipo de participação\"\n",
    "            },\n",
    "    color_discrete_map={ # replaces default color mapping by value\n",
    "                \"Titular\": \"lightgreen\", \"Parceiro\": \"darkgreen\"\n",
    "            },\n",
    "    template=\"simple_white\")\n",
    "fig.update_xaxes(tickangle=-90)\n",
    "fig.write_html(\"fig_serie_temp_total_por_tipo_part.html\")\n",
    "fig.show()"
   ]
  },
  {
   "cell_type": "markdown",
   "id": "d683d3bd",
   "metadata": {},
   "source": [
    "### Distribuição dos parceiros das IFEs titulares por tipo de organização"
   ]
  },
  {
   "cell_type": "code",
<<<<<<< Updated upstream
   "execution_count": 15,
=======
   "execution_count": 32,
>>>>>>> Stashed changes
   "id": "e2a211c5",
   "metadata": {},
   "outputs": [
    {
     "data": {
      "image/png": "iVBORw0KGgoAAAANSUhEUgAAAm8AAAHQCAYAAAD3Qo21AAAAOXRFWHRTb2Z0d2FyZQBNYXRwbG90bGliIHZlcnNpb24zLjguMCwgaHR0cHM6Ly9tYXRwbG90bGliLm9yZy81sbWrAAAACXBIWXMAAA9hAAAPYQGoP6dpAABT7UlEQVR4nO3dd3xN9+PH8feVLYmIIFZI8S0R0UpRSsVWqmqW2qtmKkaL+PZr1WpRRGIXX6PUaL9tUdpSozWqRs2U2psgMZLIcH9/5Oe2aYLc5N6kl9fz8fB4uOdz7jnvo83xdqbBaDQaBQAAAJuQK6cDAAAAIOMobwAAADaE8gYAAGBDKG8AAAA2hPIGAABgQyhvAAAANoTyBgAAYEMobwAAADbEPqcD2KK8efPq/v37Kly4cE5HAQAAT4nLly/LyclJ0dHRj52P8pYJ9+/fV1JSUk7HAAAAT5GMdgvKWyY8POJ26tSpHE4CAACeFiVLlszQfFzzBgAAYEMob3gmxcfHy8HBQQaDIdUvNzc30zzFihVLM24wGBQVFZWhdSQlJalKlSqqVatWqum3b99W69at5eHhocDAQP3yyy+pxi9fvqx8+fLp9OnTWd5OAMDTh9OmeCYdPnxYSUlJWrp0qUqVKmWabmdnJ0mKiorSxYsXNWnSJNWoUSPVd/PmzZuhdUycOFF79uxRUFBQqukffvihfvvtN61YsUJffPGFWrdurRMnTsjR0VGSNGrUKHXs2FHPPfdcFrYQAPC0orzhmXTgwAHZ29urVatWcnJySndckpo3b56q3GXUb7/9pvHjx6tQoUJpxn744Qf16tVLjRo1UtWqVTV//nydOHFC/v7+ioyM1KpVq/T777+bvU4AwLOB06Z4Jh04cEBly5ZNt7g9HHd3d8/wxaN/lZCQoE6dOql///4qU6ZMmnGDwSAXFxdJMh1tS05OliQNGzZMISEhKlCggNnrBQA8GyhveCY9PPLWoEEDubq6Kl++fOrVq5fu3LljGs+XL59atWolDw8Pubm5qU2bNrp8+fITlz1mzBglJiZq9OjR6Y5Xq1ZNq1atUlRUlBYsWKCCBQvq+eef188//6xdu3Zp8ODBFt1WAMDThfKGZ47RaNTBgwf1xx9/6M0339S3336rf//731q+fLkaN26sBw8e6MCBA7p48aJeeuklrV27Vp988om2bt2qoKAg3bt375HL3rNnjyZPnqxFixY98qjeqFGjZDQaVaBAAU2YMEFLly6Vs7OzhgwZog8++EBxcXFq3ry5/Pz8NHz4cNNROQAAJK55wzPIaDTq66+/VoECBeTv7y9JqlmzpgoVKqQOHTpo48aNmjdvnuzt7VW5cmVJ0quvvip/f3/VqFFDixcvVp8+fdIsNz4+Xp07d9aAAQNUpUqVR66/QIEC2rJli+7duydXV1dJ0hdffKErV66oV69eatOmjdzd3bV69Wq99dZbKlKkiIKDg63wJwEAsEUcecMzJ1euXKpVq5apuD30+uuvS0q52aBatWqm4vZQ9erV5eHhod9++y3d5X7wwQd68OCB/vOf/ygpKUlJSUkyGo0yGo2m3//Vw+KWlJSk0NBQjR07VpL09ddfKzg4WP7+/urcubPWrFljke0GADwdKG945ly6dEnz5s3TuXPnUk2Pi4uTJLm4uGjBggU6fPhwqvEHDx4oISHhkTcTrF69Wr///rvc3Nzk4OAgBwcHbdu2Tdu2bZODg4P++9//pvu9+fPnK3fu3Grbtq1u3Lih5ORk5cuXT5Lk6empK1euZHWTAQBPEU6b4pmTlJSknj17avjw4Ro3bpxp+ueffy47OzvVrl1bVatWVfPmzbVs2TLT+Ndff624uDjVrl073eV+8803un//fqppvXr1kiTNmTMn3ee23b17V6NHj9aiRYtkMBiUP39+5cqVS1euXFHp0qV1+fJlFSxY0BKbDQB4SlDe8MwpXry4unbtqkmTJsnFxUXVqlXTTz/9pPHjxys4OFgVKlTQsGHDNHLkSHl7e6tx48Y6dOiQRo0apTfffFN16tSRlPKmhKNHj6pUqVIqUKCAAgIC0qzL3d1dklSpUqV0s0yZMkXlypVTw4YNJUn29vZq2LChPvzwQ/Xv31+ffvqpQkJCrPQnAQCwRQbj3y/EwRM9fPYXL6a3Xffv39ekSZO0ZMkSnT17VsWKFdM777yj999/X7ly5dKDBw80Z84cRURE6OTJk/Ly8lL79u01atQo0zPatmzZotq1a2vhwoXq0qVLuut5+GqsLVu2pBm7du2aSpcurU2bNqW6vu7s2bPq0KGDDh06pNatWysiIsL0PDgAwNMro/2C8pYJlDcAAGBpGe0X3LAAAABgQ7jmzQacO3dOUVFROR0DeKrkz59fxYsXz+kYAGA2yts/3Llz5+Tn56fY2NicjgI8VXLnzq1jx45R4ADYHMrbP1xUVJRiY2M1eOwnKvZc6ZyOAzwVLpz+Q1M+GKSoqCjKGwCbQ3mzEcWeK63SfuVzOgYAAMhh3LAAAABgQyhvAAAANoTyBgAAYEMobwAAADaE8gYAAGBDKG8AAAA2hPIGAABgQyhvAAAANoTyBgAAYEMobwAAADaE8gYAAGBDKG8AAAA2hPIGAABgQyxS3q5fv64jR44oOTnZEosDAADAI5hd3u7evavQ0FAtW7ZMkvTtt9+qdu3aatWqlZo0aaLLly9bPCQAAABSmF3epkyZoo0bN8rDw0OSNHnyZJUtW1bh4eGyt7fX5MmTLR4SAAAAKezN/cKmTZs0bNgwNWnSRIcPH9bFixc1ZMgQ1a1bV0lJSRo5cqQ1cgIAAECZOPIWHR2tkiVLSpK2bt0qe3t7Va9eXZLk4eGh+/fvWzYhAAAATMwub0WLFtXvv/8uSfrhhx/04osvys3NTVJKmStWrJhlEwIAAMDE7PLWtm1bTZw4UY0bN9axY8fUrl07SVJwcLAWLVqktm3bWjwkAAAAUph9zVvnzp3l5eWlPXv2KDg4WI0bN5YkOTg4aNSoUWrTpo3FQwIAACCF2eVNkpo0aaImTZqkmjZ16lSLBAIAAMCjZaq8HTx4ULt371ZCQoKMRqMkyWg0KjY2Vnv37tXKlSstGhIAAAApzC5vy5Yt09ixY02l7a9y5cqlGjVqWCQYAAAA0jL7hoWlS5eqZs2a2r17t7p166a33npLBw4c0PTp0+Xk5KSmTZtaIycAAACUifJ24cIFtWvXTh4eHipfvrz27t0rZ2dnNWzYUD179tTixYutkRMAAADKRHlzcHCQs7OzJKlEiRI6e/asEhMTJUkvvfSSzpw5Y9GAAAAA+JPZ5c3Pz08//vijJOm5557TgwcP9Ntvv0mSrly5Ytl0Zrh48aIMBkOaX4sWLZIkHThwQEFBQXJ1dZWvr6/CwsJyLCsAAEBmmX3DQteuXRUcHKzbt29r/Pjxqlu3roYMGaIGDRrom2++0UsvvWSNnE908OBBOTs769SpUzIYDKbpHh4eunHjhurXr6+mTZtq9uzZ2rVrl/r27St3d3d17do1R/ICAABkhtnlrV69epo9e7ZOnjwpSRozZowGDx6sFStWKCAgQCNGjLB4yIw4dOiQnn/+eRUuXDjN2LRp0+To6Kg5c+bI3t5efn5+OnHihCZOnEh5AwAANiVTz3mrVauWatWqJUny9PTUggULLJkpUw4ePCg/P790x7Zv366goCDZ2/+5uXXq1NGECRN09epVeXt7Z1dMAACALMlQebt06ZJZCy1SpEimwmTFoUOHlD9/ftWsWVO///67/vWvf+mDDz7Qa6+9pgsXLiggICDdjOfPn89UeXv4UGJri4uLs/o6gGdVXFxctvwcA0BGGI3GVJd+PUqGyludOnUytLCHjh07luF5LSEpKUmRkZEqV66cPvnkE+XJk0fLly9X48aN9f333ys2NlZOTk6pvvPwjtn4+PhMrTMxMTFbtpO7dwHrOXPmjGlfAAA5LTExUY6Ojk+cL0Plbfz48abyFhMTo8mTJ6tatWpq1KiRChQooOjoaG3evFlbtmzRsGHDspY8E+zt7XXjxg3Z2dnJxcVFUspjS44cOaLJkyfLxcVF9+/fT/Wdh6XN1dU1U+t0cHB45GlaS8psuQTwZL6+vtnycwwAGeHg4JCh+TJU3lq0aGH6fb9+/dSsWTONHTs21TxvvPGGxo0bp2+//VZt2rQxI6pluLm5pZlWvnx5bdiwQT4+PmlO/T78XLRo0Uytz2AwKHfu3Jn6rjkellEAlufi4pItP8cAkBEZPctp9nPefv75ZzVq1CjdsVq1amn//v3mLjLLjhw5ojx58mjLli2ppu/Zs0f+/v6qWbOmtm/fruTkZNPY5s2bVaZMGRUsWDCb0wIAAGSe2eXN09NTBw8eTHds165dOXLnpp+fn8qWLat+/fpp+/btioyM1KBBg7Rr1y598MEH6tatm27fvq3u3bvr6NGjWrRokaZOnarQ0NBszwoAAJAVZj8qpHXr1oqIiFB8fLxq1aolT09PRUVFacOGDVq+fLmGDx9ujZyPlStXLn3zzTcKDQ3VW2+9pejoaAUGBur7779X+fLlJUkbN25U//79FRgYqMKFC2vSpEnq3LlztmcFAADICrPLW58+fXTnzh19+umnmjt3rqSUW1udnZ0VEhKi9u3bWzxkRnh7ez/2eXOVK1fWzp07szERAACA5Zld3gwGg4YOHaq+fftq//79un37tjw9PVWxYkUu/AUAALCyTL1hQZLc3d1Vs2bNNNNPnTqlkiVLZikUAAAA0md2eYuJidHUqVP1yy+/KCEhQUajUdKfbxyIiYnJ9of0AgAAPCvMvtt0/PjxWr16tUqUKCE7Ozu5u7srICBAiYmJun37tsaMGWONnAAAAFAmytv27dv17rvvatasWWrTpo0KFSqkadOmacOGDSpTpoz++OMPa+QEAACAMlHebt++rYoVK0qSSpUqpcOHD0tKec1Ut27d0jwoFwAAAJaTqYf03rlzR1LKewFv3Lih6OhoSSmP67h69apFAwIAAOBPZpe3atWqafbs2bp48aKKFy8uDw8Pffnll5KkH3/8UZ6enhYPCQAAgBRml7eQkBDduHFDQ4cOlcFgUK9evfTRRx/p5Zdf1qJFi9SyZUtr5AQAAIAy8aiQokWLav369Tpz5owkqWvXrsqfP7/27dunChUqqHnz5pbOCAAAgP9n9pG3//3vf4qLi1PZsmVN09544w2NHDlSNWrU0Lx58ywaEAAAAH8yu7yFhobq/Pnz6Y4dO3ZMYWFhWQ4FAACA9GXotGnPnj118uRJSSlvUujXr58cHR3TzHfjxg0VL17csgkBAABgkqEjb71791aVKlVUpUoVSVK5cuVMnx/+qlq1qt5++21NmzbNmnkBAMhRLVq0kK+v7yPHp0+fLoPBYLo2/HEiIyPVtGlT5cmTR/ny5VPz5s116tSpVPP85z//UcGCBVWiRAktWrQo1ZjRaFSlSpW0bNmyTGwJbFWGjrwFBgYqMDDQ9Llv377y8fGxWigAAP6Jli5dqi+//FIlSpRId/z48eMKDQ3N0LLOnz+v6tWrq0yZMlq+fLliY2P1wQcfqEGDBjp06JBcXFy0bt06TZ48WfPnz9fNmzf1zjvvqHLlyvL395ckrVixQsnJyWrXrp3FthH/fGbfbTphwgRr5AAA4B/t0qVL6t+/v4oVK5bueHJysrp06SIvLy9duHDhicsbNWqUPDw89MMPPyh37tySpOeee05NmzbVr7/+qldffVU//PCD6tWrp/bt20uS5s+fry1btsjf318JCQn697//rZkzZ8pgMFhuQ/GPl6Hy5ufnp88//1wVKlRQ2bJlH/s/icFg0NGjRy0WEACAf4IePXqoQYMGcnZ2TvdVkJMnT9bVq1cVGhqqfv36PXZZRqNRa9as0XvvvWcqbpJUqVIlXbp0yfTZYDDIxcXF9NnR0VHJycmSpJkzZ6pEiRJ67bXXsrhlsDUZKm/9+vWTt7e36fc0fADAs2T+/Pnau3evjhw5ovfeey/N+JEjRzRq1Cht2LBBp0+ffuLyzpw5o5iYGJUoUUL9+vUznTZt2LChIiIiTEf3qlWrpn79+un48eO6deuWDh06pOrVqysmJkbjxo3TunXrLL6t+OfLUHkLDg42/f7dd9+1WhgAAP5pzp49q0GDBmnhwoXKnz9/mvGkpCR16tRJPXr0UFBQUIbK2/Xr1yVJQ4cOVZUqVbRixQpdu3ZNoaGhql27tg4cOCBXV1e1atVKmzZtkr+/vxwcHPThhx/qpZde0vDhwxUUFKSXXnpJgwYN0vr16/Xiiy8qPDw83Yx4upj9nDcp5SLLh48OuXPnjj788EP17t1b//vf/yyZDQCAHGU0GtWtWzc1btz4ka9/HDdunKKjozVx4sQMLzchIUGS5O3trS+++EINGjRQhw4dtGrVKv3xxx+mu0cNBoNmz56tu3fv6s6dO3r//fd18eJFhYeHa9y4cYqIiND333+vNWvWyM7OTr179876RuMfz+zytnXrVjVq1EirV6+WJI0YMUIrVqwwnedftWqVxUMCAJATIiIidPDgQU2bNk1JSUlKSkqS0WiUlHLEbe/evRo/frzmzp0rJycnJSUl6cGDB5JSbmB4eH3a37m7u0uSGjVqpFy5/vyruGrVqvLw8ND+/ftTze/k5CQ7OztJKX/vvv322ypTpoxWr16tjh07yt/fXyEhIfrqq68euU48Pcy+23TWrFmqUaOG+vXrp9u3b+v7779Xz549FRISoqlTp2rx4sVq3bq1NbICAJCtVq9eraioKBUuXDjNmIODg0aOHKmEhATVq1cvzXjp0qUVFBSU7s0NpUqVksFg0P3799OMJSUlpbpJ4a+OHDmilStX6vfff5ckXbt2Tfny5ZMkeXp6KikpSVFRUabr1PF0Mru8RUZGatasWXJzc9PatWuVnJyshg0bSpKqV6+uhQsXWjwkAAA5Yc6cObpz506qaaNHj9bevXv19ddfq0iRImrSpEmq8bVr12r06NH6+uuv9fzzz6e7XDc3N9WsWVNffPGFxo8fLycnJ0nSpk2bdO/ePb366qvpfm/o0KEKDg5WkSJFJEkFCxbUlStXJEmXL1+WnZ2dvLy8srTN+Oczu7w9PCwsST/99JO8vLxML6mPiopSnjx5LJsQAIAcUqZMmTTTvLy85OjoqEqVKkmSqUg9dPjwYUlSQEBAqjcx7Nq1SwUKFFCpUqUkpTw3tVatWmrcuLHee+89Xb16VUOHDtXLL7+spk2bplnv1q1btXPnzlRvU2jSpIkiIiJUsWJFhYWFqXHjxrK3N/uvdtgYs695CwwM1IIFC7Ru3Tpt3LhRDRo0kJTyP2t4eHiqNzEAAIAU1apV04cffpjq848//qgHDx6oZcuWeu+99/TGG29ow4YNpuvb/mrIkCEKDQ2Vh4eHaVr//v0VFBSkdu3aKTExUbNmzcqWbUHOMhgfXnmZQefPn1fPnj11+vRplS5dWgsXLlSBAgVUvXp1ubi4aMGCBU/9y+lLliwpSWneP2cN+/bt00svvaSpy75Wab/yVl8f8Cz449hhDWzfVHv37uUfnAD+MTLaL8w+turj46P169frxo0bqZ4lExERoXLlysnR0dHcRQIAACCDMnVi3GAwKCYmRt9//73u3LkjT09PBQYGUtwAIIedO3dOUVFROR0DeKrkz5//H3VW0ezyZjQaNXLkSK1atUp/PeNqMBjUvHlzjR8/3qIBAQAZc+7cOZUp66f4uNicjgI8VZxdcuv3yGP/mAJndnmbP3++1qxZo/79+6tp06YqUKCArl27pq+++kqzZs3S888/ry5dulghKgDgcaKiohQfF6sKrQbItWCxnI4DPBXuXbugg6unKSoqynbL2+rVq9WjRw/16dPHNK1YsWLq16+fEhMTtXLlSsobAOQg14LF5FGkVE7HAGAlZj8q5PLly6patWq6Yy+//LIuXLiQ5VAAAABIn9nlrWjRoqbXcvxdZGSk6TUdAAAAsDyzy1uTJk00Y8YMffvtt6YbFoxGo9avX6/w8HA1btzY4iEBAACQwuxr3t555x39+uuvGjhwoN5//315enrq1q1bSk5OVpUqVRQSEmKNnAAAAFAmypujo6MWLlyorVu3as+ePYqJiZGHh4cqV66soKAga2QEAADA/8v022uDgoJUokQJxcTEKF++fPLx8bFkLgAAAKQjU+VtxYoVmjlzpq5fv26aVqRIEQ0ePJhr3gAAAKzI7PK2fPlyjR49WnXr1lWDBg3k5eWlqKgobdiwQYMHD5ajo6Pq1atnjawAAADPPLPL26JFi9SuXTuNGDEi1fRmzZppxIgRioiIoLwBAABYidmPCrly5Yrq1q2b7ljDhg116tSpLIcCAABA+swubwEBAdq+fXu6Y/v371eZMmWyHAoAAADpM/u0aZ8+fTRo0CDdu3dPb775pry9vXXr1i1t2rRJCxcu1PDhw7Vnzx7T/JUrV7ZoYAAAgGeZ2eWte/fukqRVq1Zp9erVpukP37YwevRo02eDwaBjx45ZIicAAACUifK2ePFia+QAAABABphd3qpUqWKNHAAAAMiATD2k9+bNm/r000+1Y8cOXb9+XfPnz9cPP/ygsmXL8pgQAAAAKzL7btPz58+radOmWrlypby9vXXjxg0lJyfr9OnT6t+/v7Zs2WKFmAAAAJAyceTto48+kpeXl5YsWaLcuXOrfPnykqQpU6bo/v37mj17tmrVqmXpnAAAAFAmjrzt3LlTffv2VZ48eWQwGFKNtWnTRidOnLBYOAAAAKRmdnmTJHv79A/YJSQkpCl0AAAAsByzy1ulSpU0Z84cxcbGmqYZDAY9ePBAy5cvV2BgoEUDAgAA4E9mX/M2ePBgvf3222rQoIFefvllGQwGffrppzp58qTOnj2rzz77zBo5AQAAoEwceXv++ee1Zs0avfzyy9q9e7fs7Oy0Y8cOFS9eXCtWrJCfn581cmbY8ePH5ebmpkWLFpmmHThwQEFBQXJ1dZWvr6/CwsJyLiAAAEAWZOo5b76+vpoyZYqls2RZYmKi2rdvr3v37pmm3bhxQ/Xr11fTpk01e/Zs7dq1S3379pW7u7u6du2ag2kBAADMl6HydunSJbMWWqRIkUyFyaqRI0cqT548qabNnTtXjo6OmjNnjuzt7eXn56cTJ05o4sSJlDcAAGBzMlTe6tSpY9ZdpDnxMvpt27Zpzpw5OnDggIoXL26avn37dgUFBaW6Q7ZOnTqaMGGCrl69Km9v72zPCgAAkFkZKm/jx483lbeYmBhNnjxZ1apVU6NGjVSgQAFFR0dr8+bN2rJli4YNG2bVwOmJjo5Wx44dNWPGDPn4+KQau3DhggICAlJNe3hk8Pz585kub0ajMdUdt9YSFxdn9XUAz6q4uLhs+TnOLuwvAOvJjv2F0WjM0MGyDJW3Fi1amH7fr18/NWvWTGPHjk01zxtvvKFx48bp22+/VZs2bcyMmzV9+vTRK6+8onbt2qUZi42NlZOTU6ppzs7OkqT4+PhMrzMxMTFbjjCeOXPG6usAnlVnzpwx7Q+eBuwvAOvJjv1FYmKiHB0dnzif2Tcs/Pzzz4qIiEh3rFatWlq5cqW5i8ySJUuWaPv27Tp06FC64y4uLrp//36qaQ9Lm6ura6bX6+DgkC131malYAJ4PF9f3xy/Q96S2F8A1pMd+wsHB4cMzWd2efP09NTBgwdVvXr1NGO7du3K9mvIFixYoKtXr6Y5Xdq7d299/vnn8vHxSXPDxcPPRYsWzfR6DQaDcufOnenvZ5SLi4vV1wE8q1xcXLLl5zi7sL8ArCc79hcZvb/A7PLWunVrRUREKD4+XrVq1ZKnp6eioqK0YcMGLV++XMOHDzc7bFYsXbo0zXUe//rXvzRmzBi1b99eS5Ys0ezZs5WcnCw7OztJ0ubNm1WmTBkVLFgwW7MCAABkldnlrU+fPrpz544+/fRTzZ07V1LKBXbOzs4KCQlR+/btLR7ycR519KxgwYIqWrSounXrpo8//ljdu3fXkCFD9Msvv2jq1KmaPXt2tuYEAACwBLPLm8Fg0NChQ9W3b18dOHBAMTEx8vT0VMWKFf+Rpx8KFiyojRs3qn///goMDFThwoU1adIkde7cOaejAQAAmC1Tb1iQJHd3d7366quWzGIxRqMx1efKlStr586dOZQGAADAcsx+tykAAAByDuUNAADAhlDeAAAAbAjlDQAAwIZk6oaF8+fPKyEhQaVKldKdO3c0bdo0Xbx4Ua+99pqaNWtm4YgAAAB4yOwjb1u3blWjRo20evVqSdKIESO0YsUKXb16VaGhoVq1apXFQwIAACCF2eVt1qxZqlGjhvr166fbt2/r+++/V8+ePfXll1+qZ8+eWrx4sTVyAgAAQJkob5GRkercubPc3Ny0bds2JScnq2HDhpKk6tWr6+zZsxYPCQAAgBRmlzcnJyclJSVJkn766Sd5eXmpbNmykqSoqCjlyZPHsgkBAABgYvYNC4GBgVqwYIFu376tjRs3qnnz5pKkw4cPKzw8XIGBgRYPCQAAgBRmH3kbPny4rly5osGDB6to0aLq06ePJKlXr15KSEjQe++9Z/GQAAAASGH2kTcfHx+tX79eN27cUP78+U3TIyIiVK5cOTk6Olo0IAAAAP6Uqee8GQwGOTg4aNOmTbp27ZoaNmyoPHnyyMHBwdL5AAAA8BeZKm+zZs3SnDlzFB8fL4PBoAoVKmjatGm6deuWFixYwE0LAAAAVmL2NW9Lly7VjBkz1LVrV61cuVJGo1GS1KFDB50/f17Tp0+3eEgAAACkMLu8LVmyRD179lRISIj8/f1N04OCgjRgwABt3rzZogEBAADwJ7PL26VLl1SlSpV0x0qWLKmoqKgshwIAAED6zC5vhQsX1v79+9MdO3z4sAoXLpzlUAAAAEif2TcstGrVSjNmzJCzs7Nq1aolSYqNjdXGjRs1Z84cde3a1dIZAQAA8P/MLm/vvPOOLly4oMmTJ2vy5MmSpE6dOkmS3njjDfXq1cuyCQEAAGBidnkzGAwaM2aMunXrpl27dik6Olru7u6qXLmynn/+eWtkBAAAwP8zu7yFh4erdevW8vX1la+vb6qxCxcuaMGCBRoxYoSl8gEAAOAvzL5hISIiQlevXk137LffftOqVauyHAoAAADpy9CRt7Zt2+q3336TJBmNRrVp0+aR8wYEBFgmGQAAANLIUHkbO3asNmzYIKPRqIiICLVs2VKFChVKNU+uXLmUJ08eNWjQwCpBAQAAkMHyVrp0aQUHB0tKuWGhdevW8vb2tmowAAAApGX2DQsPS1xMTIzi4uL04MGDNPMUKVIk68kAAACQhtnl7dy5cxoyZIjpGrj0HDt2LEuhAAAAkD6zy9uYMWN05swZBQcHq1ChQsqVy+wbVgEAAJBJZpe3PXv2aNy4cWrSpIk18gAAAOAxzD5s5ubmJg8PD2tkAQAAwBOYXd7efPNNLVu2TEaj0Rp5AAAA8BhmnzZ1cXHR3r17Vb9+fQUEBMjZ2TnVuMFg0Pjx4y0WEAAAAH8yu7x9+eWXcnd314MHD9K949RgMFgkGAAAANIyu7xt3rzZGjkAAACQAZl+zseDBw8UGRmpbdu26e7du4qOjrZgLAAAAKTH7CNvkvTVV19pypQpunbtmgwGg1avXq0ZM2bIwcFBU6ZMkaOjo6VzAgAAQJk48rZ+/XoNHTpUVatW1dSpU013ndavX19bt27VzJkzLR4SAAAAKcw+8jZ79my1bdtWo0aNUnJysml6y5YtdfPmTa1cuVIDBgywZEYAAAD8P7OPvJ0+fVr169dPd+yFF17Q1atXsxwKAAAA6TO7vHl5eenkyZPpjp08eVJeXl5ZDgUAAID0mV3eGjdurLCwMG3YsEEJCQmSUp7tdvjwYc2cOVOvvfaaxUMCAAAghdnXvA0YMEDHjx/XgAEDlCtXSvfr2LGjYmNjValSJYWEhFg8JAAAAFKYXd4cHR01f/58/fzzz9q1a5eio6Pl7u6uKlWqKCgoiDcsAAAAWJHZ5e1///ufgoKCVL16dVWvXj3V2PXr1/W///1P77zzjsUCAgAA4E9mX/MWGhqq8+fPpzt27NgxhYWFZTkUAAAA0pehI289e/Y03WFqNBrVr1+/dN+icOPGDRUvXtyyCQEAAGCSofLWu3dvrVq1SpL05Zdfqly5csqXL1+qeXLlyqU8efKoRYsWlk8JAAAASRksb4GBgQoMDDR97tu3r3x8fKwWCgAAAOkz+5q3CRMmPLK4xcbGatu2bVkOBQAAgPSZfbfppUuXNHLkSP3yyy+mh/T+3bFjx7IcDAAAAGmZXd7Gjx+vffv2qXXr1tq3b59cXFz04osv6ueff9bx48c1Y8YMa+QEAACAMnHadM+ePRo4cKA++OADtWjRQk5OTnr//fe1Zs0aVa5cWZs2bbJGTgAAACgT5e3evXsqU6aMJKlkyZI6evSoJMnOzk7t2rXTrl27LJswg65du6aOHTuqQIECcnNz0+uvv67IyEjT+IEDBxQUFCRXV1f5+vryPDoAAGCTzC5vBQsWVFRUlCSpRIkSiomJ0fXr1yVJefPm1Y0bNyybMIOaNWumEydOaP369dqzZ49cXFxUt25dxcbG6saNG6pfv75Kly6tX3/9VSNHjtTQoUO1cOHCHMkKAACQWWZf8xYUFKRp06apUKFCqlixogoVKqQFCxaoX79+WrNmjby9va2R87Fu3bolX19fDR8+XOXLl5ck/ec//9GLL76oI0eO6IcffpCjo6PmzJkje3t7+fn56cSJE5o4caK6du2a7XkBAAAyy+wjb/3791eePHk0ffp0SdLAgQP13//+V5UrV9Y333yTI2XI09NTn332mam4Xb9+XVOnTlWxYsVUrlw5bd++XUFBQbK3/7Or1qlTR8ePH9fVq1ezPS8AAEBmmX3kzdPTU6tWrdK1a9ckSU2bNlWRIkV04MABVahQQVWqVLF4SHP07NlT8+bNk5OTk77++mu5urrqwoULCggISDVfkSJFJEnnz5/P1NFCo9Go2NhYi2R+nLi4OKuvA3hWxcXFZcvPcXZhfwFYT3bsL4xGowwGwxPnM7u8PVSwYEGdOXNGMTEx8vb2Vo8ePTK7KIsaMGCAevXqpfDwcDVr1kw//fSTYmNj5eTklGo+Z2dnSVJ8fHym1pOYmJgtz7M7c+aM1dcBPKvOnDlj2hc8DdhfANaTHfuLxMTEdN8d/3eZKm8rVqzQzJkzTTcqSClHsgYPHqzGjRtnZpEWU65cOUnSp59+qt27dys8PFwuLi66f/9+qvkeljZXV9dMrcfBwUF+fn5ZC5sBmS2XAJ7M19c3W36Oswv7C8B6smN/4eDgkKH5zC5vy5cv1+jRo1W3bl01aNBAXl5eioqK0oYNGzR48GA5OjqqXr16ZgfOiqioKP3www9q1aqV6bq2XLlyyd/fXxcvXpSPj48uXbqU6jsPPxctWjRT6zQYDMqdO3fWgmeAi4uL1dcBPKtcXFyy5ec4u7C/AKwnO/YXGTllKmWivC1atEjt2rXTiBEjUk1v1qyZRowYoYiIiGwvb1euXNHbb78tT09PNWzYUFLKocd9+/apadOm8vb21uzZs5WcnCw7OztJ0ubNm1WmTBkVLFgwW7MCAABkhdl3m165ckV169ZNd6xhw4Y6depUlkOZq3z58mrUqJHeffddbdu2TYcPH1bnzp1169YtDRw4UN26ddPt27fVvXt3HT16VIsWLdLUqVMVGhqa7VkBAACywuzyFhAQoO3bt6c7tn//ftPbF7Lb8uXLVa9ePbVt21ZVqlTRjRs3tH37dhUvXlwFCxbUxo0b9fvvvyswMFCjR4/WpEmT1Llz5xzJCgAAkFlmnzbt06ePBg0apHv37unNN9+Ut7e3bt26pU2bNmnhwoUaPny49uzZY5q/cuXKFg38KB4eHpo5c6ZmzpyZ7njlypW1c+fObMkCAABgLWaXt+7du0uSVq1apdWrV5umG41GSdLo0aNNnw0GQ7Y8TgMAAOBZYXZ5W7x4sTVyAAAAIAPMLm85/QYFAACAZ5nZNywAAAAg51DeAAAAbAjlDQAAwIZQ3gAAAGxIpsvbgwcPFBkZqW3btunu3buKjo62YCwAAACkx+y7TSXpq6++0pQpU3Tt2jXlypVLq1at0owZM+Tg4KApU6bI0dHR0jkBAACgTBx5W79+vYYOHaqqVatq6tSpevDggSSpfv362rp16yPfcAAAAICsM/vI2+zZs9W2bVuNGjVKycnJpuktW7bUzZs3tXLlSg0YMMCSGQEAAPD/zD7ydvr0adWvXz/dsRdeeEFXr17NcigAAACkz+zy5uXlpZMnT6Y7dvLkSXl5eWU5FAAAANJndnlr3LixwsLCtGHDBiUkJEiSDAaDDh8+rJkzZ+q1116zeEgAAACkMPuatwEDBuj48eMaMGCAcuVK6X4dO3ZUbGysKlWqpJCQEIuHBAAAQAqzy5ujo6Pmz5+vn3/+WTt37lRMTIzc3d1VpUoVBQUFyWAwWCMnAAAAlMnnvElS9erVVb16dUtmAQAAwBNkqLyFh4ebtdDg4OBMhQEAAMDjZaq8GQwGGY1G2dnZydPTUzExMUpMTJSDg4M8PDwobwAAAFaSofIWGRlp+v3OnTs1aNAg/ec//1HDhg1lZ2cnSdq2bZv+/e9/a9iwYdZJCgAAAPMfFTJmzBj1799fjRs3NhU3SapZs6ZCQkI0depUiwYEAADAn8wub5cvX1bRokXTHfPy8tKNGzeyHAoAAADpM7u8lS1bVsuWLUv1XlNJun//vubPn68KFSpYLBwAAABSM/tRIYMGDVL37t1Vr149vfrqq/L09FRUVJS2bt2quLg4LV261Bo5AQAAoEyUtypVqmjFihWaM2eONm/erOjoaHl6euqVV15Rv379VKJECWvkBAAAgDL5kF5/f3+FhYVZOgsAAACewOxr3gAAAJBzKG8AAAA2hPIGAABgQyhvAAAANiRL5S0uLk7Xr19XYmKipfIAAADgMTJ1t+mvv/6qjz/+WIcPH5bRaJQkVahQQQMHDlTVqlUtGhAAAAB/Mru87du3T126dJGPj4/69u2r/Pnz69q1a1q3bp169OihJUuWqGLFitbICgAA8Mwzu7xNmzZNlSpV0qeffprqxfTBwcHq3r27ZsyYoQULFlg0JAAAAFKYfc3boUOH1KlTp1TFTZJy5cqlDh066ODBgxYLBwAAgNTMLm+urq5KSkpKdywpKcl0DRwAAAAsz+zyFhgYqLlz5youLi7V9NjYWM2dO1eVKlWyWDgAAACkZvY1b4MHD1aLFi1Ut25d1apVSwUKFND169e1ZcsWxcfHa9y4cdbICQAAAGWivJUoUUIrV67UjBkztHXrVsXExMjDw0NVqlRRcHCwSpcubY2cAAAAUCbK26VLl1S8eHFNmzYtzdj9+/e1b98+BQYGWiIbAAAA/sbsa97q1q2rY8eOpTt28OBBde3aNcuhAAAAkL4MHXn76KOPFB0dLUkyGo2aOXOmPD0908x37Ngxubu7WzQgAAAA/pSh8layZEnNmjVLkmQwGHT48GE5OjqmmsfOzk7u7u4KDQ21fEoAAABIymB5a926tVq3bi1JqlOnjiIiIuTn52fVYAAAAEjL7BsWNm/ebI0cAAAAyACzy1tGTotOmDAhU2EAAADweGaXt927d6eZFhsbq+joaOXNm1cBAQEWCQYAAIC0LHba9OTJkwoODlazZs2ymgkAAACPYPZz3h6lVKlSevfddxUeHm6pRQIAAOBvLFbeJMnNzU0XL1605CIBAADwF5l6PdbfJScn6+rVqwoLC1OpUqUsEgwAAABpmV3e6tSpI4PBkGa60WiUs7Mzp00BAACsyOzyNn78+DTlzWAwyM3NTS+//DKvxwIAALAis8tbixYtrJEjy27evKnhw4dr7dq1un37tipUqKCJEyeqRo0aklLukh0yZIiOHj2q4sWLa9SoUWrbtm0OpwYAADBPhsqbOadCDQaD+vXrl+lAmdW2bVtduXJFy5cvl7e3t8LCwtSgQQPt379fRqNRr7/+ugYPHqylS5dq7dq16tixowoUKKC6detme1YAAIDMeirK2x9//KHvv/9eP/30k6pXry5JmjFjhjZs2KBly5bp6tWrqlChgsaOHStJKlu2rPbt26ePP/6Y8gYAAGxKhspbZGSktXNkSf78+bVu3TpVqlTJNM1gMMhgMOjWrVvavn17mocH16lTRyEhITIajenegAEAAPBPlOnnvN2+fVvbtm3TunXrtHPnTt29e9eSucySN29eNW7cWE5OTqZpa9as0R9//KHXXntNFy5ckI+PT6rvFClSRLGxsbpx40Z2xwUAAMg0s29YkKS5c+dq5syZio+PN01zdHRUr169cuR6t7/bsWOHunbtqhYtWuj1119XbGxsqmInSc7OzpKUahvMYTQaFRsbm+WsTxIXF2f1dQDPqri4uGz5Oc4u7C8A68mO/UVGzwaaXd7WrFmjTz75RK1atVLTpk2VP39+Xb9+XV999ZXCw8NVpEgRNW/ePFOhLeGrr75Su3btVL16dS1btkyS5OLiovv376ea72Fpc3V1zdR6EhMTdezYsayFzYAzZ85YfR3As+rMmTOmf8g9DdhfANaTHfuLxMREOTo6PnE+s8vbokWL9Pbbb2vkyJGmaSVLltTLL78sZ2dnLV68OMfKW3h4uEJCQtS6dWstXrzY9Afg4+OT5s0Qly5dkpubmzw8PDK1LgcHB/n5+WU585Nk9sgggCfz9fXNlp/j7ML+ArCe7NhfODg4ZGg+s8vb2bNnNWzYsHTH6tatqzVr1pi7SIuYNWuW3n33XfXv31/Tpk1LddixZs2a2rJlS6r5N2/erOrVqytXrsxd9mcwGJQ7d+6sRM4QFxcXq68DeFa5uLhky89xdmF/AVhPduwvMnoDpdnlzdvbO933m0rShQsX5ObmZu4is+z48eMKCQlR8+bNFRoaqqtXr5rGXFxc9O6776pixYoaNmyYunTponXr1mnVqlXauHFjtmcFAADICrMPO9WpU0fTp0/XwYMHU03/7bffNGPGDNWpU8di4TJq9erVSkxM1JdffqnChQun+hUSEiJ/f399/fXXWr9+vV588UXNnz9fy5Yty5GsAAAAWWH2kbd3331XO3bsUJs2bVS0aFHlz59fUVFRunjxokqVKqXBgwdbI+djDR8+XMOHD3/sPK+99ppee+21bEoEAABgHWaXNzc3N61evVpr1qzRnj17FBMTo4CAAHXr1k0tWrR4qu7cAgAA+KfJ1HPenJyc1K5dO7Vr106SlJSUpLt371LcAAAArMzsa96SkpIUHh6ub775RpK0e/duVa9eXdWqVVPnzp0VExNj8ZAAAABIYXZ5CwsL06xZs3T79m1J0tixY5U3b16Fhobq3LlzmjJlisVDAgAAIIXZ5W3dunUaNGiQ2rdvr5MnT+rEiRPq06ePOnXqpIEDB2rz5s3WyAkAAABlorxdu3ZNL7zwgiRpy5YtypUrl2rWrClJKlSokO7cuWPZhAAAADAxu7wVLFhQFy5ckJTylgI/Pz/ly5dPkrR//34VKlTIsgkBAABgYnZ5a9KkiSZMmKDu3btr7969atmypSRp3LhxmjFjht544w2LhwQAAEAKsx8VMmDAAOXOnVt79uzR4MGDTY8LOXTokLp166a+fftaPCQAAABSmF3eDAaDevXqpV69eqWavmLFCouFAgAAQPoy9ZDeK1euaPHixfr1118VExMjLy8vVa1aVR07dpSnp6elMwIAAOD/mX3N27Fjx9SkSRN99tlnyp07t8qXLy97e3vNmzdPzZo10/nz562REwAAAMrEkbePPvpIPj4+mjdvnvLnz2+afvnyZfXo0UMTJkzQzJkzLRoSAAAAKcw+8rZ//34FBwenKm6SVLhwYfXv3187d+60WDgAAACkZnZ5y5cvn+7du5fumJ2dnVxdXbMcCgAAAOkzu7z16dNHU6ZM0ZEjR1JNP3/+vKZPn66ePXtaLBwAAABSy9A1b3Xq1JHBYDB9joqKUqtWreTj46P8+fMrJiZGp0+flqOjozZu3KhOnTpZLTAAAMCzLEPlrUqVKqnKW3oqVKhgkUAAAAB4tAyVt4kTJ1o7BwAAADIgUw/plaQbN24oISFBRqNRkvTgwQPFxcXp119/1dtvv22xgAAAAPiT2eUtMjJS7733nk6ePJnuuMFgoLwBAABYidnl7eOPP1ZMTIyGDh2qH3/8UY6Ojqpdu7a2bdumbdu2afHixdbICQAAAGXiUSG//fabQkJC1KVLFzVu3FhxcXFq166dZs+erXr16mnJkiXWyAkAAABlorwlJCTI19dXkuTr66vIyEjTWIsWLXTgwAFLZQMAAMDfmF3eihQpYnr5vK+vr+7evasLFy5IkhwdHRUTE2PZhAAAADAxu7w1aNBAU6ZM0caNG+Xt7a2SJUtq2rRp+v3337VgwQL5+PhYIycAAACUifIWHByswMBArV69WpIUGhqq77//Xs2aNdOuXbv07rvvWjwkAAAAUph9t6mTk5PCwsKUmJgoSXr11Ve1du1aHT58WP7+/ipevLjFQwIAACBFph/S6+DgYPq9j48Pp0sBAACygdmnTQEAAJBzKG8AAAA2hPIGAABgQyhvAAAANiRTNywkJCRozZo1+uWXX3T79m15enqqUqVKatasmZydnS2dEQAAAP/P7PJ2+/ZtderUSZGRkSpSpIgKFCig06dPa+3atVq2bJk+++wzubu7WyMrAADAM8/s06ZTpkzRlStXtHTpUm3evFmff/65Nm/erKVLl+rGjRuaPn26NXICAABAmShvmzZt0oABA1SpUqVU0ytVqqT+/fvru+++s1g4AAAApGZ2ebt3794jH8jr4+Oj6OjorGYCAADAI5hd3kqWLKkff/wx3bEff/xRJUqUyHIoAAAApM/sGxa6d++uwYMHKzk5Wa+//rry58+vqKgorV27VitXrtTIkSOtkRMAAADKRHlr3Lixzpw5o9mzZ2vFihWSJKPRKEdHR/Xt21dt2rSxeEgAAACkMLu8nTx5Un379lWHDh104MABxcTEyMPDQy+88II8PDyskREAAAD/z+zy1q5dO4WGhqpZs2aqWbOmNTIBAADgEcy+YcHBwUGenp7WyAIAAIAnMPvIW0hIiD7++GPduXNHZcuWVe7cudPMU6RIEYuEAwAAQGpml7dRo0YpOTlZ77///iPnOXbsWJZCAQAAIH1ml7exY8daIwcAAAAywOzy1rx5c2vkAAAAQAaYXd4kKSEhQatXr9aOHTt0/fp1jR8/Xr/88ov8/f1VoUIFS2cEAADA/zP7btObN2+qZcuWGjdunM6ePauDBw8qPj5eW7ZsUceOHbV//35r5AQAAIAyUd4+/vhj3bt3T+vXr9eXX34po9EoSQoLC1NAQIDCwsIsHhIAAAApzC5vP/74o0JCQlSiRAkZDAbTdCcnJ3Xr1k1HjhyxaEAAAAD8yezydv/+feXNmzfdMTs7OyUmJmY1EwAAAB7B7PIWEBCgzz77LN2xb775RuXLl89yqKyaMGGCatWqlWragQMHFBQUJFdXV/n6+nJ6FwAA2CSzy1tISIh+/vlnvfnmm5o+fboMBoPWrl2r3r17a8OGDerXr581cmbYzJkz9cEHH6SaduPGDdWvX1+lS5fWr7/+qpEjR2ro0KFauHBhDqUEAADIHLPLW6VKlbRw4UK5uLho/vz5MhqNWrRoka5fv645c+aoatWq1sj5RJcuXdIbb7yhIUOG6Pnnn081NnfuXDk6OmrOnDny8/NT165dNXDgQE2cODFHsgIAAGRWpp7zVrlyZa1YsULx8fGKiYmRm5ubXF1dLZ3NLHv37pWjo6MOHjyoMWPG6MyZM6ax7du3KygoSPb2f25unTp1NGHCBF29elXe3t45kBgAAMB8mSpvknT37l3dvn1bkhQTE6OYmBjTWE68mP6NN97QG2+8ke7YhQsXFBAQkGraw4znz5+nvAEAAJthdnmLjIzU+++/rz/++OOR8/zTXkwfGxsrJyenVNOcnZ0lSfHx8ZlaptFoVGxsbJazPUlcXJzV1wE8q+Li4rLl5zi7sL8ArCc79hdGozHVY9gexezyNmLECN26dUtDhgx55CND/mlcXFx0//79VNMelrbMnu5NTEzMlpL619O/ACzrzJkzpn/IPQ3YXwDWkx37i8TERDk6Oj5xPrPL2/HjxzV16lTVrl07U8Fygo+Pjy5dupRq2sPPRYsWzdQyHRwc5Ofnl+VsT5LZI4MAnszX1zdbfo6zC/sLwHqyY3/h4OCQofnMLm8+Pj42d2i+Zs2amj17tpKTk2VnZydJ2rx5s8qUKaOCBQtmapkGg0G5c+e2ZMx0ubi4WH0dwLPKxcUlW36Oswv7C8B6smN/kZFTplImHhUyaNAgTZ8+Xb/88ovN/CuvW7duun37trp3766jR49q0aJFmjp1qkJDQ3M6GgAAgFnMPvL23HPPyWg0qnPnzumOGwwGHT16NMvBLKlgwYLauHGj+vfvr8DAQBUuXFiTJk165DYAAAD8U5ld3kJDQxUdHa02bdoof/781siUZYsWLUozrXLlytq5c2f2hwEAALAgs8vb0aNHNWHCBDVu3NgaeQAAAPAYZl/zVrBgQS6KBQAAyCFml7d33nlH06ZN43lCAAAAOcDs06bfffedLly4oEaNGilPnjxyc3NLNW4wGPTDDz9YLCAAAAD+ZHZ5K1CggBo0aGCNLAAAAHgCs8vbhAkTrJEDAAAAGWD2NW8AAADIOWYfeStbtuwTX9+QHS9sBwAAeBZlqLwdOXJE/v7+kqR+/fqlKW/37t3Tvn37dO7cOb333nuWTwkAAABJGSxv7du319ixY9WkSRO9++67j5xvyJAhOnz4sFq2bGmxgAAAAPhThq55e/vttzVixAidP3/+sfM1b95c69evt0gwAAAApJWh8jZ06FD98MMP8vLyeux8586dU1JSkkWCAQAAIK0M37CQL18+SVJ4eHiasQcPHujKlStav369ateubbl0AAAASMXsu03TK2+S5Obmpnr16ik0NDTLoQAAAJA+s8tbZGSkNXIAAAAgA3hILwAAgA3J0JE3c06FGgwGjR8/PtOBAAAA8GgZKm+7d+9+4jy3bt1SXFwc5Q0AAMCKMlTeNm/e/MixpKQkzZw5U3PnzlX+/Pk1atQoS2UDAADA35h9w8JfHTt2TKGhofr999/1+uuv6z//+Y88PDwslQ0AAAB/k6nylpSUpIiICM2bN0958+ZVeHi46tata+lsAAAA+Buzy9vRo0dNR9uaNm2qDz74QHny5LFGNgAAAPxNhstbUlKSwsPDNX/+fHl6emrWrFm8TQEAACCbZai8HTlyRMOGDdMff/yhZs2aafjw4XJ3d7d2NgAAAPxNhsrbW2+9pQcPHsjd3V0XL15Uv379HjmvwWDQf//7X4sFBAAAwJ8yVN4CAwNNvzcajY+d90njAAAAyLwMlbclS5ZYOwcAAAAygHebAgAA2BDKGwAAgA2hvAEAANgQyhsAAIANobwBAADYEMobAACADaG8AQAA2BDKGwAAgA2hvAEAANgQyhsAAIANobwBAADYEMobAACADaG8AQAA2BDKGwAAgA2hvAEAANgQyhsAAIANobwBAADYEMobAACADaG8AQAA2BDKGwAAgA2hvAEAANgQyhsAAIANobwBAADYEMobAACADaG8AQAA2BDKGwAAgA15ZsrbgwcPNHLkSBUtWlSurq5q3LixTp8+ndOxAAAAzPLMlLcPP/xQM2fO1Ny5c7Vjxw4lJyerYcOGSkhIyOloAAAAGfZMlLeEhARNmTJFY8aM0euvv64XXnhBn3/+uS5cuKA1a9bkdDwAAIAMeybK24EDB3Tnzh3VrVvXNC1v3rwKDAzUtm3bcjAZAACAeZ6J8nbhwgVJko+PT6rpRYoU0fnz53MiEgAAQKbY53SA7BAbGytJcnJySjXd2dlZN2/eNHt5ly9fVlJSkp577jmL5Huc+/fvS5JGBXeRnb2D1dcHPAuSkxIlSU2aNEmzX7BlD/cXe/87Rga7Z2L3DlidMTlJUvbsLy5cuCB7+yf/7D4TP90uLi6SUnZsD38vSfHx8XJ1dTV7eQ//4xkMBssEfAxnZ+dsKYnAsyZfXo+cjmBx7C8Aa/HKlrXY29tnqCA+E+Xt4enSS5cuqVSpUqbply5dUoUKFcxeXnR0tKWiAQAAmOWZuObthRdeUJ48ebRlyxbTtOjoaO3bt081a9bMuWAAAABmeiaOvDk5OSk4OFhDhw5VgQIF5Ovrq/fff18+Pj5q2bJlTscDAADIsGeivEnSmDFjlJSUpB49eiguLk41a9bUxo0b5eDATQAAAMB2GIxGozGnQwAAACBjnolr3gAAAJ4WlDcAAAAbQnkDAACwIZQ3AAAAG0J5AwAAsCGUNwAAABtCeQMAALAhlDfgEXx9feXr66s7d+6kGevSpYtq1aolSUpISFCtWrVUunRpbdmyRdOnT9eAAQOyNyyAf4xly5apatWqcnV1lZubmypXrqw5c+aYxn19fTVq1KicCwib98y8YQHIjLNnz+r999/X7NmzHznPxo0bJUnz5s1T3759df78eW3atCm7IgL4B1mwYIH69++vsLAw1ahRQ0ajUd9995369++vq1evasSIEdqzZ49cXFxyOipsGG9YAB7B19dXdnZ2OnXqlL7//nvVq1fPNNalSxedOXNGW7ZsUWxsrBISEpQ3b14ZjUbFxcUpd+7cOZgcQE6pVKmSqlevrunTp6eaPmzYMM2dO1c3b97MoWR4mnDaFHiMDh06qG7duurevXu6p08l6dSpU+rQoYM8PT3l5OSk8uXLa8qUKanmWbdunapWrSo3NzcVLlxYgwYNUlxcXHZsAoBslCtXLu3YsUO3bt1KNX3YsGHatWuXpNSnTUeNGqV69eppzJgx8vb2lru7u3r16qXz58+rSZMmyp07t0qXLq1169Zl96bgH4zyBjyGwWDQp59+qlu3bmnw4MFpxmNjY1W/fn15eXlpx44dOnLkiFq3bq333ntPBw4ckCR9+eWXatq0qZo0aaJ9+/Zpzpw5+vzzz/X2229n89YAsLYhQ4Zo3759Klq0qF5//XV99NFH2rNnjzw8PPT888+n+51t27YpMjJS27dvV1hYmObOnavKlSurTZs22rt3r/z8/NSlSxdxogwmRgDpKlGihHHkyJFGo9FonDNnjlGScePGjUaj0Wjs3LmzMSgoyHjt2jXjxIkTjXfu3DF9Ly4uzijJuHjxYqPRaDRWqVLF2LJly1TL/t///meUZDxy5Ej2bAyAbLNz505j27Ztjfny5TNKMkoyPv/888affvrJaDSm3reMHDnSaGdnZ7x9+7bp+/nz5ze2a9fO9Hn9+vVGScZLly5l63bgn4sjb0AG9OzZU/Xr11ePHj10+/Zt0/QCBQqob9+++uyzz9SnTx/Vr19fxYsXlyQlJydLkg4dOqQaNWqkWl5QUJBpDMDTpWrVqlq+fLmuX7+uffv2aezYsYqJiVGjRo107dq1NPM/PF36kKurq0qVKmX6/PDmhvv371s/PGwC5Q3IoPnz5ysmJkaDBg0yTbty5YoCAgI0f/58FS1aVH379tW+fftSfc+YzqmOBw8eSJIcHBysGxpAtrlw4YL69eunCxcuSEq5/q1ixYr697//rU2bNunOnTvatm1bmu+ltx/IlYu/nvFoPCoEyKDixYtrypQpeuedd1SyZEn5+Pjos88+082bN3XixAnTDvjh0bSHpa1ChQr66aefUj37bfv27ZIkPz+/7N0IAFbj7OysefPmqXjx4ho6dGiqsbx580pKOcoGZBXVHjBDjx491KBBA506dUqS5OPjo3v37mnVqlU6d+6cvvvuO7Vt21bSn6c4hgwZoi+++EJjx47V8ePHtXbtWgUHB6tJkyaUN+Apkj9/fg0dOlQffPCB/v3vf+vAgQM6deqU1q5dqxYtWqh27dp69dVXczomngKUN8BM8+fPl4eHhySpVatWev/99zVo0CCVLVtWAwYM0DvvvKMaNWpoz549kqSWLVtq+fLlWrlypQICAtS7d2+9/fbbWrlyZU5uBgAr+PDDD/Xpp59q27ZtqlWrlsqWLauBAweqfv36+uabb3I6Hp4SPKQXAADAhnDkDQAAwIZQ3gAAAGwI5Q0AAMCGUN4AAABsCOUNAADAhlDeAAAAbAjlDQAAwIZQ3gAAAGwI5Q0AAMCGUN4AAABsCOUNAADAhlDeAAAAbAjlDQAAwIZQ3gAAAGwI5Q0AAMCGUN4AAABsCOUNAADAhlDeAAAAbAjlDQAAwIZQ3gAAAGwI5Q0AAMCGUN4AAABsCOUNAADAhlDeAAAAbAjlDcA/gtFozOkIAGATKG8AHqljx44qU6ZMql/ly5dXrVq1NHr0aMXExFhkPZs2bdLQoUNNn3fv3q0yZcpo9+7dGfq+ufNb2qBBg1S+fHn5+fmpXLlyKl++vNWyXLhwQWXKlNEXX3yR5WWVKVNGM2bMMH0eNmxYmv/ef/21YcMGSdKMGTMeO1+ZMmV0//5903Jv3bqlCRMmqF69eipfvryqVKmizp076/vvv0+T6ciRI+revbtefvllvfLKK+rdu7dOnDiR5W0Fnib2OR0AwD9buXLlNHLkSNPnxMREHTlyRJ988omOHTum5cuXy2AwZGkdixYtSvXZ399fn3/+uUqXLp2h75s7vyUZjUb17t1bXbt2lcFgkIODg7y9vZU3b95sz2IJBQoUUHh4eLpjvr6+qT5//vnnj1yOo6OjJCk+Pl7t27dXcnKyevbsqRIlSujOnTv69ttvFRwcrOHDh6tz586SpNOnT6tDhw7617/+pfHjxyspKUmzZs1S69attXLlSj3//POW2UjAxlHeADyWm5ubXnzxxVTTKleurHv37iksLEy//fZbmnFrrNOS81uSwWB4qkqFo6Njhv8sMzLfhg0bdPLkSW3cuDFV+atXr57i4+MVFhamDh06yM7OTvPmzZOdnZ3mzp1rKr+VK1dWvXr1tHDhQk2YMMH8DQKeQpw2BZAp5cuXlyRdunRJkpScnKy5c+eqSZMmqlChgl588UW1bdtWu3btMn1nxowZql+/vsLDw1WlShXVqFFDTZs21S+//KJffvnFdOozvdOgBw4cULdu3RQYGKiqVatq0KBBunr1qqS0p01nzJihOnXq6Mcff9Rrr72mF154QW+99VaaU5mRkZEKDg5W1apV5e/vr1dffVVjx45VfHy8aZ6EhARNmzZNdevW1QsvvKAmTZroyy+/NI1nZLsl6dChQ6bTgYGBgRk+Hfjdd9+padOmqlChgpo3b67IyMg080RHR2vEiBF65ZVXFBAQoLfeeks7d+584rKzQ1RUlCTpwYMHacZ69eqlvn37KiEhQZJUrFgxdevWLdVRy3z58qlEiRK6fv16tuQFbAHlDUCmnD59WpLk4+MjSZo8ebJmzpypNm3aaP78+frwww8VHR2tkJAQxcXFmb536dIlbd26VVOnTlVoaKg++eQTlStXTuXKldPnn38uf3//NOs6evSoOnTooPv37+vjjz/W6NGjdfjwYXXv3l1JSUnp5rt586aGDh2qdu3aafr06XJ2dlb37t117NgxSdK1a9fUvn17xcXFaeLEiZo3b55ef/11LVmyRIsXLzYt57333tPChQv11ltvafbs2apRo4aGDRum9evXZ3i7d+3apbfffluSNH78eI0dO1aXL19W27ZtdfLkyUf+GW/evFn9+/dXmTJlFBERoUaNGun9999PNc/9+/fVuXNnbdq0SQMHDlR4eLgKFSqkHj16ZLrAJSUlpfmV3g0l6c2XlJSUqqi9+uqrsre3V+fOnRUeHq4DBw4oMTFRklShQgV1795dLi4ukqS+ffuqb9++qdZx9uxZnThxwvSPBQCcNgXwBEajMVVBiomJ0S+//KJZs2apYsWKpr9Ur127poEDB6pjx46meZ2cnPTuu+/q999/N51iS0pK0tChQ1WpUiXTfG5ubpIefRpu9uzZyps3rxYsWCAnJydJUsGCBTV48OBHHr2Ki4vTqFGj1KxZM0lS1apVVa9ePc2dO1dTp07V8ePH5efnp+nTp5vW/8orr+jnn3/W7t271bNnTx0/flwbN25MdV1WtWrVdPHiRe3atUuNGzfO0HZPmTJFJUqU0Ny5c2VnZydJqlGjhurXr6+wsDBNnz493W2IiIhQhQoVNGnSJEkpRUiSpkyZYprnq6++UmRkpFauXKkXXnhBklSzZk117NhRkydP1po1a9Jd9qNcvHgx3QI9ePBg9ezZM9W09OaTpPbt22vEiBGSUm6KmDp1qkaPHq0ZM2ZoxowZcnZ2VqVKldSqVSs1atTosVm6deumYsWKqUePHmZtB/A0o7wBeKw9e/ak+Us6V65ceuWVVzRmzBjTzQoPC8XNmzd16tQpnT17Vj/++KMkmU6LPeTn52dWhr179yooKMhU3CSpYsWK2rx5sySle2envb29mjRpYvrs7OysmjVratu2bZJSylONGjWUmJioP/74Q2fPntXx48d18+ZN02m7vXv3SpIaNGiQatl/vUPzSdsdGxurQ4cOKTg42FTcJClPnjyqXbu2tm7dmu42x8fH68iRIwoJCUk1vVGjRqnK286dO1WgQAH5+/unKtm1a9fWxx9/rJiYGHl4eKS7jvQUKFBAs2bNSjO9UKFCaaatXr063WV4eXml+tygQQPVrl1bu3bt0o4dO7R7927t2LFDP/30k7799ltNnz49zU0v9+7dU5cuXWRvb6///ve/poINgPIG4An8/f01evRoSSkX5zs5Oalw4cJp/jI9dOiQRo8erUOHDsnFxUWlS5dWkSJFJKV9hpurq6tZGaKjo9MUgifJnz+/7O1T7+K8vLwUHR0tKeUarE8++UTLli1TbGysChcurAoVKqQqiA/nfdy6n7Tdd+7ckdFoVP78+dPNeOfOnXSXGxMTI6PRKE9Pz1TTCxYsmOpzdHS0rl+//sijYNevXzervDk6OiogICBD82Z0PklycHDQq6++ajp6ePXqVY0dO1YbN27Uli1bVLt27VTzL1u2TFFRUfr222/l7e2d4fUAzwLKG4DHcnV1feJf0nfv3lWPHj1UpkwZrVu3TiVLllSuXLm0detWbdy4McsZ3N3ddfPmzTTTt27d+sijeA+L119FRUWZitjcuXO1aNEijR49Wg0aNJC7u7skqVWrVqb58+TJIynlqNpfjzydPHlS0dHRKlOmzBO3293dXQaDwXTh/l9dv379kY8UyZs3r3LlypXme3/fLnd3d/n6+mry5MnpLqdYsWLpTs8ubdu21XPPPZfmTlFvb2+NGzdO3333nf7444805e3w4cN65ZVX0j3iBzzruGEBQJadOnVK0dHR6tSpk0qXLq1cuVJ2LQ9PUaZ3p+FfPZz/USpVqqSff/451enXo0ePqmfPnjpy5Ei634mPj9f27dtTfd62bZuqVasmKeWUaOnSpdWyZUtTcbt69aqOHz9uyvvSSy9Jkun07EOTJk3SxIkTM7TduXPnVvny5fXtt98qOTnZtIw7d+5oy5YtpnX8nZOTkypWrKjvvvsu1ZHLv2epUqWKLl++LC8vLwUEBJh+/fzzz5o/f36qU7U5oWjRotqwYYPOnz+fZuzhTS/pPWqlbt26atGihdXzAbaII28Asuy5556Tm5ubZs+eLXt7e9nb22vjxo2ma6L+erdpevLkyaP9+/dr586dKleuXJrxvn37qk2bNurVq5c6deqk+Ph4TZs2TRUqVFD16tW1f//+dJcbGhqqAQMGyMvLS59++qliY2PVp08fSSl3Os6cOVNz587Viy++qLNnz2rOnDlKSEgw5S1btqxee+01TZo0SfHx8fLz89O2bdu0ZcsWhYeHZ3i7Bw8erO7du6tnz55q166dEhMTNXfuXCUkJKhfv36P/HMZNGiQOnfurODgYLVp00anT5/W7NmzU83TokULLV26VF27dlXv3r1VuHBh7dixQ/PmzVOHDh3k4ODw2D/7rDhw4MAjx5577jl5eHho4MCB2r17t1q1aqVOnTqpYsWKypUrlw4dOqQFCxaoZs2aqlmzZprv/+tf/zI96BdAapQ3AFnm7u6umTNn6uOPP1ZISIhcXV3l5+enpUuX6p133tGvv/6qOnXqPPL77du31+HDh/XOO+9owoQJaa7rKleunJYsWaIpU6ZowIABcnNzU1BQkN57773H/gU/atQojR8/Xjdv3lRgYKCWL1+uEiVKSEp5xtitW7e0ePFiRUREqHDhwnrzzTdlMBg0Z84c3b59W3ny5NGkSZMUHh6ujz76yJQlLCxM9erVk6QMbXe1atW0cOFChYWFadCgQXJ0dFSlSpX00Ucf6V//+tcj81eqVEnz5s3TJ598ouDgYBUrVkzjx49X7969TfPkzp1by5Yt05QpUzRp0iTduXNHRYsW1eDBg9WtW7cn/8fLgjZt2jxyLCIiQvXq1VOxYsX05Zdfas6cOfrmm280b948GY1GlShRQt27d1enTp3SfUNHcHCwihYtqiVLllhzEwCbZDDyNmgAT5kZM2YoPDxcv//+u8WWOXjwYJ07d04jRoww60J9ALA0rnkDgCc4f/682rZtK0n6+OOPczgNgGcd5Q0AnmDWrFnq2rWr7t69a7pmDgByCqdNAQAAbAhH3gAAAGwI5Q0AAMCGUN4AAABsCOUNAADAhlDeAAAAbAjlDQAAwIZQ3gAAAGwI5Q0AAMCGUN4AAABsyP8BJNk1XDqExrEAAAAASUVORK5CYII=",
      "text/plain": [
       "<Figure size 640x480 with 1 Axes>"
      ]
     },
     "metadata": {},
     "output_type": "display_data"
    }
   ],
   "source": [
    "ids = df.loc[(df['ifes'] == 'Sim') & (df['parceria'] == 'Titular')].copy()['ID']\n",
    "counts = df[df['ID'].isin(ids) & (df['parceria'] != 'Titular')].copy()\n",
    "grouped_counts1 = counts.groupby('ifes', observed=True).agg(n=('ID', 'nunique')).reset_index()\n",
    "grouped_counts1['variavel'] = \"IFEs\"\n",
    "\n",
    "# Crie o gráfico de barras com Seaborn\n",
    "#plt.figure(figsize=(12, 6))\n",
    "#sns.set(style=\"whitegrid\")  # Estilo de fundo\n",
    "\n",
    "total = grouped_counts1['n'].sum()\n",
    "grouped_counts1['Perc'] = (grouped_counts1['n'] / total * 100).round(1)\n",
    "\n",
    "barplot = sns.barplot(x='ifes', y='Perc', hue='ifes', data=grouped_counts1,\n",
    "    palette=\"Blues\", legend=False, edgecolor='black')\n",
    "\n",
    "for index, row in grouped_counts1.iterrows():\n",
    "    barplot.text(row.name, row['Perc']+0.5, f\"{row['Perc']}%\", color='black', ha=\"center\")\n",
    "\n",
    "plt.xticks(rotation=0)  # Rotacione os rótulos no eixo x para melhor legibilidade\n",
    "plt.xlabel('\\nParticipação de IFES?')\n",
    "plt.ylabel('Número absoluto de patentes depositadas\\n')\n",
    "#plt.title('Distribuição das patentes depositadas entre 20/05/2003 e 11/01/2023 por participação de IFEs')\n",
    "\n",
    "# Personalize os contornos das barras\n",
    "barplot.spines['top'].set_color('black')\n",
    "barplot.spines['right'].set_color('black')\n",
    "barplot.spines['bottom'].set_color('black')\n",
    "barplot.spines['left'].set_color('black')\n",
    "\n",
    "# Personalize os ticks dos eixos\n",
    "barplot.tick_params(axis='x', colors='black')\n",
    "barplot.tick_params(axis='y', colors='black')\n",
    "\n",
    "# Mostre o gráfico\n",
    "plt.tight_layout()\n",
    "plt.show()"
   ]
  },
  {
   "cell_type": "markdown",
   "id": "fe82147e",
   "metadata": {},
   "source": [
    "### Distribuição dos parceiros das IFEs e não-IFEs titulares por tipo de organização"
   ]
  },
  {
   "cell_type": "code",
<<<<<<< Updated upstream
   "execution_count": 16,
=======
   "execution_count": 33,
>>>>>>> Stashed changes
   "id": "fb349ccb",
   "metadata": {},
   "outputs": [
    {
     "data": {
      "image/png": "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",
      "text/plain": [
       "<Figure size 640x480 with 1 Axes>"
      ]
     },
     "metadata": {},
     "output_type": "display_data"
    }
   ],
   "source": [
    "ids = df.loc[(df['ifes'] == 'Não') & (df['parceria'] == 'Titular')].copy()['ID']\n",
    "counts = df[df['ID'].isin(ids) & (df['parceria'] != 'Titular')].copy()\n",
    "grouped_counts2 = counts.groupby('ifes', observed=True).agg(n=('ID', 'nunique')).reset_index()\n",
    "grouped_counts2['variavel'] = \"Não IFEs\"\n",
    "\n",
    "# Crie o gráfico de barras com Seaborn\n",
    "#plt.figure(figsize=(12, 6))\n",
    "#sns.set(style=\"whitegrid\")  # Estilo de fundo\n",
    "\n",
    "total = grouped_counts2['n'].sum()\n",
    "grouped_counts2['Perc'] = (grouped_counts2['n'] / total * 100).round(1)\n",
    "\n",
    "barplot = sns.barplot(x='ifes', y='Perc', hue='ifes', data=grouped_counts2,\n",
    "    palette=\"Blues\", legend=False, edgecolor='black')\n",
    "\n",
    "for index, row in grouped_counts2.iterrows():\n",
    "    barplot.text(row.name, row['Perc']+1, f\"{row['Perc']}%\", color='black', ha=\"center\")\n",
    "\n",
    "plt.xticks(rotation=0)  # Rotacione os rótulos no eixo x para melhor legibilidade\n",
    "plt.xlabel('\\nParticipação de IFES?')\n",
    "plt.ylabel('Número absoluto de patentes depositadas\\n')\n",
    "#plt.title('Distribuição das patentes depositadas entre 20/05/2003 e 11/01/2023 por participação de IFEs')\n",
    "\n",
    "# Personalize os contornos das barras\n",
    "barplot.spines['top'].set_color('black')\n",
    "barplot.spines['right'].set_color('black')\n",
    "barplot.spines['bottom'].set_color('black')\n",
    "barplot.spines['left'].set_color('black')\n",
    "\n",
    "# Personalize os ticks dos eixos\n",
    "barplot.tick_params(axis='x', colors='black')\n",
    "barplot.tick_params(axis='y', colors='black')\n",
    "\n",
    "# Mostre o gráfico\n",
    "plt.tight_layout()\n",
    "plt.show()"
   ]
  },
  {
   "cell_type": "code",
<<<<<<< Updated upstream
   "execution_count": 17,
=======
   "execution_count": 34,
>>>>>>> Stashed changes
   "id": "59d45254",
   "metadata": {},
   "outputs": [
    {
     "name": "stderr",
     "output_type": "stream",
     "text": [
      "c:\\Users\\DELL\\AppData\\Local\\Programs\\Python\\Python311\\Lib\\site-packages\\plotly\\express\\_core.py:2044: FutureWarning:\n",
      "\n",
      "The default of observed=False is deprecated and will be changed to True in a future version of pandas. Pass observed=False to retain current behavior or observed=True to adopt the future default and silence this warning.\n",
      "\n"
     ]
    },
    {
     "data": {
      "application/vnd.plotly.v1+json": {
       "config": {
        "plotlyServerURL": "https://plot.ly"
       },
       "data": [
        {
         "alignmentgroup": "True",
         "hovertemplate": "IFEs=%{x}<br>Tipo de organização do titular=IFEs<br>n=%{y}<extra></extra>",
         "legendgroup": "Não",
         "marker": {
          "color": "lightgreen",
          "pattern": {
           "shape": ""
          }
         },
         "name": "Não",
         "offsetgroup": "Não",
         "orientation": "v",
         "showlegend": true,
         "textposition": "auto",
         "type": "bar",
         "x": [
          "Não"
         ],
         "xaxis": "x",
         "y": [
          534
         ],
         "yaxis": "y"
        },
        {
         "alignmentgroup": "True",
         "hovertemplate": "IFEs=%{x}<br>Tipo de organização do titular=Não IFEs<br>n=%{y}<extra></extra>",
         "legendgroup": "Não",
         "marker": {
          "color": "lightgreen",
          "pattern": {
           "shape": ""
          }
         },
         "name": "Não",
         "offsetgroup": "Não",
         "orientation": "v",
         "showlegend": false,
         "textposition": "auto",
         "type": "bar",
         "x": [
          "Não"
         ],
         "xaxis": "x2",
         "y": [
          2193
         ],
         "yaxis": "y2"
        },
        {
         "alignmentgroup": "True",
         "hovertemplate": "IFEs=%{x}<br>Tipo de organização do titular=IFEs<br>n=%{y}<extra></extra>",
         "legendgroup": "Sim",
         "marker": {
          "color": "darkgreen",
          "pattern": {
           "shape": ""
          }
         },
         "name": "Sim",
         "offsetgroup": "Sim",
         "orientation": "v",
         "showlegend": true,
         "textposition": "auto",
         "type": "bar",
         "x": [
          "Sim"
         ],
         "xaxis": "x",
         "y": [
          430
         ],
         "yaxis": "y"
        },
        {
         "alignmentgroup": "True",
         "hovertemplate": "IFEs=%{x}<br>Tipo de organização do titular=Não IFEs<br>n=%{y}<extra></extra>",
         "legendgroup": "Sim",
         "marker": {
          "color": "darkgreen",
          "pattern": {
           "shape": ""
          }
         },
         "name": "Sim",
         "offsetgroup": "Sim",
         "orientation": "v",
         "showlegend": false,
         "textposition": "auto",
         "type": "bar",
         "x": [
          "Sim"
         ],
         "xaxis": "x2",
         "y": [
          279
         ],
         "yaxis": "y2"
        }
       ],
       "layout": {
        "annotations": [
         {
          "font": {},
          "showarrow": false,
          "text": "Tipo de organização do titular=IFEs",
          "x": 0.245,
          "xanchor": "center",
          "xref": "paper",
          "y": 1,
          "yanchor": "bottom",
          "yref": "paper"
         },
         {
          "font": {},
          "showarrow": false,
          "text": "Tipo de organização do titular=Não IFEs",
          "x": 0.755,
          "xanchor": "center",
          "xref": "paper",
          "y": 1,
          "yanchor": "bottom",
          "yref": "paper"
         }
        ],
        "barmode": "relative",
        "height": 600,
        "legend": {
         "title": {
          "text": "IFEs"
         },
         "tracegroupgap": 0
        },
        "showlegend": false,
        "template": {
         "data": {
          "bar": [
           {
            "error_x": {
             "color": "rgb(36,36,36)"
            },
            "error_y": {
             "color": "rgb(36,36,36)"
            },
            "marker": {
             "line": {
              "color": "white",
              "width": 0.5
             },
             "pattern": {
              "fillmode": "overlay",
              "size": 10,
              "solidity": 0.2
             }
            },
            "type": "bar"
           }
          ],
          "barpolar": [
           {
            "marker": {
             "line": {
              "color": "white",
              "width": 0.5
             },
             "pattern": {
              "fillmode": "overlay",
              "size": 10,
              "solidity": 0.2
             }
            },
            "type": "barpolar"
           }
          ],
          "carpet": [
           {
            "aaxis": {
             "endlinecolor": "rgb(36,36,36)",
             "gridcolor": "white",
             "linecolor": "white",
             "minorgridcolor": "white",
             "startlinecolor": "rgb(36,36,36)"
            },
            "baxis": {
             "endlinecolor": "rgb(36,36,36)",
             "gridcolor": "white",
             "linecolor": "white",
             "minorgridcolor": "white",
             "startlinecolor": "rgb(36,36,36)"
            },
            "type": "carpet"
           }
          ],
          "choropleth": [
           {
            "colorbar": {
             "outlinewidth": 1,
             "tickcolor": "rgb(36,36,36)",
             "ticks": "outside"
            },
            "type": "choropleth"
           }
          ],
          "contour": [
           {
            "colorbar": {
             "outlinewidth": 1,
             "tickcolor": "rgb(36,36,36)",
             "ticks": "outside"
            },
            "colorscale": [
             [
              0,
              "#440154"
             ],
             [
              0.1111111111111111,
              "#482878"
             ],
             [
              0.2222222222222222,
              "#3e4989"
             ],
             [
              0.3333333333333333,
              "#31688e"
             ],
             [
              0.4444444444444444,
              "#26828e"
             ],
             [
              0.5555555555555556,
              "#1f9e89"
             ],
             [
              0.6666666666666666,
              "#35b779"
             ],
             [
              0.7777777777777778,
              "#6ece58"
             ],
             [
              0.8888888888888888,
              "#b5de2b"
             ],
             [
              1,
              "#fde725"
             ]
            ],
            "type": "contour"
           }
          ],
          "contourcarpet": [
           {
            "colorbar": {
             "outlinewidth": 1,
             "tickcolor": "rgb(36,36,36)",
             "ticks": "outside"
            },
            "type": "contourcarpet"
           }
          ],
          "heatmap": [
           {
            "colorbar": {
             "outlinewidth": 1,
             "tickcolor": "rgb(36,36,36)",
             "ticks": "outside"
            },
            "colorscale": [
             [
              0,
              "#440154"
             ],
             [
              0.1111111111111111,
              "#482878"
             ],
             [
              0.2222222222222222,
              "#3e4989"
             ],
             [
              0.3333333333333333,
              "#31688e"
             ],
             [
              0.4444444444444444,
              "#26828e"
             ],
             [
              0.5555555555555556,
              "#1f9e89"
             ],
             [
              0.6666666666666666,
              "#35b779"
             ],
             [
              0.7777777777777778,
              "#6ece58"
             ],
             [
              0.8888888888888888,
              "#b5de2b"
             ],
             [
              1,
              "#fde725"
             ]
            ],
            "type": "heatmap"
           }
          ],
          "heatmapgl": [
           {
            "colorbar": {
             "outlinewidth": 1,
             "tickcolor": "rgb(36,36,36)",
             "ticks": "outside"
            },
            "colorscale": [
             [
              0,
              "#440154"
             ],
             [
              0.1111111111111111,
              "#482878"
             ],
             [
              0.2222222222222222,
              "#3e4989"
             ],
             [
              0.3333333333333333,
              "#31688e"
             ],
             [
              0.4444444444444444,
              "#26828e"
             ],
             [
              0.5555555555555556,
              "#1f9e89"
             ],
             [
              0.6666666666666666,
              "#35b779"
             ],
             [
              0.7777777777777778,
              "#6ece58"
             ],
             [
              0.8888888888888888,
              "#b5de2b"
             ],
             [
              1,
              "#fde725"
             ]
            ],
            "type": "heatmapgl"
           }
          ],
          "histogram": [
           {
            "marker": {
             "line": {
              "color": "white",
              "width": 0.6
             }
            },
            "type": "histogram"
           }
          ],
          "histogram2d": [
           {
            "colorbar": {
             "outlinewidth": 1,
             "tickcolor": "rgb(36,36,36)",
             "ticks": "outside"
            },
            "colorscale": [
             [
              0,
              "#440154"
             ],
             [
              0.1111111111111111,
              "#482878"
             ],
             [
              0.2222222222222222,
              "#3e4989"
             ],
             [
              0.3333333333333333,
              "#31688e"
             ],
             [
              0.4444444444444444,
              "#26828e"
             ],
             [
              0.5555555555555556,
              "#1f9e89"
             ],
             [
              0.6666666666666666,
              "#35b779"
             ],
             [
              0.7777777777777778,
              "#6ece58"
             ],
             [
              0.8888888888888888,
              "#b5de2b"
             ],
             [
              1,
              "#fde725"
             ]
            ],
            "type": "histogram2d"
           }
          ],
          "histogram2dcontour": [
           {
            "colorbar": {
             "outlinewidth": 1,
             "tickcolor": "rgb(36,36,36)",
             "ticks": "outside"
            },
            "colorscale": [
             [
              0,
              "#440154"
             ],
             [
              0.1111111111111111,
              "#482878"
             ],
             [
              0.2222222222222222,
              "#3e4989"
             ],
             [
              0.3333333333333333,
              "#31688e"
             ],
             [
              0.4444444444444444,
              "#26828e"
             ],
             [
              0.5555555555555556,
              "#1f9e89"
             ],
             [
              0.6666666666666666,
              "#35b779"
             ],
             [
              0.7777777777777778,
              "#6ece58"
             ],
             [
              0.8888888888888888,
              "#b5de2b"
             ],
             [
              1,
              "#fde725"
             ]
            ],
            "type": "histogram2dcontour"
           }
          ],
          "mesh3d": [
           {
            "colorbar": {
             "outlinewidth": 1,
             "tickcolor": "rgb(36,36,36)",
             "ticks": "outside"
            },
            "type": "mesh3d"
           }
          ],
          "parcoords": [
           {
            "line": {
             "colorbar": {
              "outlinewidth": 1,
              "tickcolor": "rgb(36,36,36)",
              "ticks": "outside"
             }
            },
            "type": "parcoords"
           }
          ],
          "pie": [
           {
            "automargin": true,
            "type": "pie"
           }
          ],
          "scatter": [
           {
            "fillpattern": {
             "fillmode": "overlay",
             "size": 10,
             "solidity": 0.2
            },
            "type": "scatter"
           }
          ],
          "scatter3d": [
           {
            "line": {
             "colorbar": {
              "outlinewidth": 1,
              "tickcolor": "rgb(36,36,36)",
              "ticks": "outside"
             }
            },
            "marker": {
             "colorbar": {
              "outlinewidth": 1,
              "tickcolor": "rgb(36,36,36)",
              "ticks": "outside"
             }
            },
            "type": "scatter3d"
           }
          ],
          "scattercarpet": [
           {
            "marker": {
             "colorbar": {
              "outlinewidth": 1,
              "tickcolor": "rgb(36,36,36)",
              "ticks": "outside"
             }
            },
            "type": "scattercarpet"
           }
          ],
          "scattergeo": [
           {
            "marker": {
             "colorbar": {
              "outlinewidth": 1,
              "tickcolor": "rgb(36,36,36)",
              "ticks": "outside"
             }
            },
            "type": "scattergeo"
           }
          ],
          "scattergl": [
           {
            "marker": {
             "colorbar": {
              "outlinewidth": 1,
              "tickcolor": "rgb(36,36,36)",
              "ticks": "outside"
             }
            },
            "type": "scattergl"
           }
          ],
          "scattermapbox": [
           {
            "marker": {
             "colorbar": {
              "outlinewidth": 1,
              "tickcolor": "rgb(36,36,36)",
              "ticks": "outside"
             }
            },
            "type": "scattermapbox"
           }
          ],
          "scatterpolar": [
           {
            "marker": {
             "colorbar": {
              "outlinewidth": 1,
              "tickcolor": "rgb(36,36,36)",
              "ticks": "outside"
             }
            },
            "type": "scatterpolar"
           }
          ],
          "scatterpolargl": [
           {
            "marker": {
             "colorbar": {
              "outlinewidth": 1,
              "tickcolor": "rgb(36,36,36)",
              "ticks": "outside"
             }
            },
            "type": "scatterpolargl"
           }
          ],
          "scatterternary": [
           {
            "marker": {
             "colorbar": {
              "outlinewidth": 1,
              "tickcolor": "rgb(36,36,36)",
              "ticks": "outside"
             }
            },
            "type": "scatterternary"
           }
          ],
          "surface": [
           {
            "colorbar": {
             "outlinewidth": 1,
             "tickcolor": "rgb(36,36,36)",
             "ticks": "outside"
            },
            "colorscale": [
             [
              0,
              "#440154"
             ],
             [
              0.1111111111111111,
              "#482878"
             ],
             [
              0.2222222222222222,
              "#3e4989"
             ],
             [
              0.3333333333333333,
              "#31688e"
             ],
             [
              0.4444444444444444,
              "#26828e"
             ],
             [
              0.5555555555555556,
              "#1f9e89"
             ],
             [
              0.6666666666666666,
              "#35b779"
             ],
             [
              0.7777777777777778,
              "#6ece58"
             ],
             [
              0.8888888888888888,
              "#b5de2b"
             ],
             [
              1,
              "#fde725"
             ]
            ],
            "type": "surface"
           }
          ],
          "table": [
           {
            "cells": {
             "fill": {
              "color": "rgb(237,237,237)"
             },
             "line": {
              "color": "white"
             }
            },
            "header": {
             "fill": {
              "color": "rgb(217,217,217)"
             },
             "line": {
              "color": "white"
             }
            },
            "type": "table"
           }
          ]
         },
         "layout": {
          "annotationdefaults": {
           "arrowhead": 0,
           "arrowwidth": 1
          },
          "autotypenumbers": "strict",
          "coloraxis": {
           "colorbar": {
            "outlinewidth": 1,
            "tickcolor": "rgb(36,36,36)",
            "ticks": "outside"
           }
          },
          "colorscale": {
           "diverging": [
            [
             0,
             "rgb(103,0,31)"
            ],
            [
             0.1,
             "rgb(178,24,43)"
            ],
            [
             0.2,
             "rgb(214,96,77)"
            ],
            [
             0.3,
             "rgb(244,165,130)"
            ],
            [
             0.4,
             "rgb(253,219,199)"
            ],
            [
             0.5,
             "rgb(247,247,247)"
            ],
            [
             0.6,
             "rgb(209,229,240)"
            ],
            [
             0.7,
             "rgb(146,197,222)"
            ],
            [
             0.8,
             "rgb(67,147,195)"
            ],
            [
             0.9,
             "rgb(33,102,172)"
            ],
            [
             1,
             "rgb(5,48,97)"
            ]
           ],
           "sequential": [
            [
             0,
             "#440154"
            ],
            [
             0.1111111111111111,
             "#482878"
            ],
            [
             0.2222222222222222,
             "#3e4989"
            ],
            [
             0.3333333333333333,
             "#31688e"
            ],
            [
             0.4444444444444444,
             "#26828e"
            ],
            [
             0.5555555555555556,
             "#1f9e89"
            ],
            [
             0.6666666666666666,
             "#35b779"
            ],
            [
             0.7777777777777778,
             "#6ece58"
            ],
            [
             0.8888888888888888,
             "#b5de2b"
            ],
            [
             1,
             "#fde725"
            ]
           ],
           "sequentialminus": [
            [
             0,
             "#440154"
            ],
            [
             0.1111111111111111,
             "#482878"
            ],
            [
             0.2222222222222222,
             "#3e4989"
            ],
            [
             0.3333333333333333,
             "#31688e"
            ],
            [
             0.4444444444444444,
             "#26828e"
            ],
            [
             0.5555555555555556,
             "#1f9e89"
            ],
            [
             0.6666666666666666,
             "#35b779"
            ],
            [
             0.7777777777777778,
             "#6ece58"
            ],
            [
             0.8888888888888888,
             "#b5de2b"
            ],
            [
             1,
             "#fde725"
            ]
           ]
          },
          "colorway": [
           "#1F77B4",
           "#FF7F0E",
           "#2CA02C",
           "#D62728",
           "#9467BD",
           "#8C564B",
           "#E377C2",
           "#7F7F7F",
           "#BCBD22",
           "#17BECF"
          ],
          "font": {
           "color": "rgb(36,36,36)"
          },
          "geo": {
           "bgcolor": "white",
           "lakecolor": "white",
           "landcolor": "white",
           "showlakes": true,
           "showland": true,
           "subunitcolor": "white"
          },
          "hoverlabel": {
           "align": "left"
          },
          "hovermode": "closest",
          "mapbox": {
           "style": "light"
          },
          "paper_bgcolor": "white",
          "plot_bgcolor": "white",
          "polar": {
           "angularaxis": {
            "gridcolor": "rgb(232,232,232)",
            "linecolor": "rgb(36,36,36)",
            "showgrid": false,
            "showline": true,
            "ticks": "outside"
           },
           "bgcolor": "white",
           "radialaxis": {
            "gridcolor": "rgb(232,232,232)",
            "linecolor": "rgb(36,36,36)",
            "showgrid": false,
            "showline": true,
            "ticks": "outside"
           }
          },
          "scene": {
           "xaxis": {
            "backgroundcolor": "white",
            "gridcolor": "rgb(232,232,232)",
            "gridwidth": 2,
            "linecolor": "rgb(36,36,36)",
            "showbackground": true,
            "showgrid": false,
            "showline": true,
            "ticks": "outside",
            "zeroline": false,
            "zerolinecolor": "rgb(36,36,36)"
           },
           "yaxis": {
            "backgroundcolor": "white",
            "gridcolor": "rgb(232,232,232)",
            "gridwidth": 2,
            "linecolor": "rgb(36,36,36)",
            "showbackground": true,
            "showgrid": false,
            "showline": true,
            "ticks": "outside",
            "zeroline": false,
            "zerolinecolor": "rgb(36,36,36)"
           },
           "zaxis": {
            "backgroundcolor": "white",
            "gridcolor": "rgb(232,232,232)",
            "gridwidth": 2,
            "linecolor": "rgb(36,36,36)",
            "showbackground": true,
            "showgrid": false,
            "showline": true,
            "ticks": "outside",
            "zeroline": false,
            "zerolinecolor": "rgb(36,36,36)"
           }
          },
          "shapedefaults": {
           "fillcolor": "black",
           "line": {
            "width": 0
           },
           "opacity": 0.3
          },
          "ternary": {
           "aaxis": {
            "gridcolor": "rgb(232,232,232)",
            "linecolor": "rgb(36,36,36)",
            "showgrid": false,
            "showline": true,
            "ticks": "outside"
           },
           "baxis": {
            "gridcolor": "rgb(232,232,232)",
            "linecolor": "rgb(36,36,36)",
            "showgrid": false,
            "showline": true,
            "ticks": "outside"
           },
           "bgcolor": "white",
           "caxis": {
            "gridcolor": "rgb(232,232,232)",
            "linecolor": "rgb(36,36,36)",
            "showgrid": false,
            "showline": true,
            "ticks": "outside"
           }
          },
          "title": {
           "x": 0.05
          },
          "xaxis": {
           "automargin": true,
           "gridcolor": "rgb(232,232,232)",
           "linecolor": "rgb(36,36,36)",
           "showgrid": false,
           "showline": true,
           "ticks": "outside",
           "title": {
            "standoff": 15
           },
           "zeroline": false,
           "zerolinecolor": "rgb(36,36,36)"
          },
          "yaxis": {
           "automargin": true,
           "gridcolor": "rgb(232,232,232)",
           "linecolor": "rgb(36,36,36)",
           "showgrid": false,
           "showline": true,
           "ticks": "outside",
           "title": {
            "standoff": 15
           },
           "zeroline": false,
           "zerolinecolor": "rgb(36,36,36)"
          }
         }
        },
        "title": {
         "text": "Distribuição dos parceiros das IFEs e não-IFEs por tipo de organização"
        },
        "width": 900,
        "xaxis": {
         "anchor": "y",
         "categoryarray": [
          "Não",
          "Sim"
         ],
         "categoryorder": "array",
         "domain": [
          0,
          0.49
         ],
         "tickangle": 0,
         "title": {
          "text": "IFEs"
         }
        },
        "xaxis2": {
         "anchor": "y2",
         "categoryarray": [
          "Não",
          "Sim"
         ],
         "categoryorder": "array",
         "domain": [
          0.51,
          1
         ],
         "matches": "x",
         "tickangle": 0,
         "title": {
          "text": "IFEs"
         }
        },
        "yaxis": {
         "anchor": "x",
         "domain": [
          0,
          1
         ],
         "title": {
          "text": "n"
         }
        },
        "yaxis2": {
         "anchor": "x2",
         "domain": [
          0,
          1
         ],
         "matches": "y",
         "showticklabels": false
        }
       }
      }
     },
     "metadata": {},
     "output_type": "display_data"
    }
   ],
   "source": [
    "grouped_counts = pd.concat([grouped_counts1, grouped_counts2])\n",
    "\n",
    "fig=px.bar(grouped_counts,\n",
    "    x='ifes', y='n',\n",
    "    color='ifes', \n",
    "    facet_col= 'variavel',\n",
    "    \n",
    "    title='Distribuição dos parceiros das IFEs e não-IFEs por tipo de organização',\n",
    "    width=900, height=600,\n",
    "    labels={ # replaces default labels by column name\n",
    "            \"variavel\": \"Tipo de organização do titular\",  \n",
    "            \"ifes\": \"IFEs\"\n",
    "            },\n",
    "    color_discrete_map={ # replaces default color mapping by value\n",
    "                \"Não\": \"lightgreen\", \"Sim\": \"darkgreen\"\n",
    "            },\n",
    "    template=\"simple_white\")\n",
    "fig.update_xaxes(tickangle=0)\n",
    "fig.update_layout(showlegend=False)\n",
<<<<<<< Updated upstream
    "fig.write_html(\"fig_total_geral_titulares_e_parceiros_por_tipo_org.html\")\n",
=======
    "fig.write_html(\"fig_total_tit_e_parc_por_tipo_org.html\")\n",
>>>>>>> Stashed changes
    "fig.show()"
   ]
  }
 ],
 "metadata": {
  "celltoolbar": "Slideshow",
  "kernelspec": {
   "display_name": "Python 3 (ipykernel)",
   "language": "python",
   "name": "python3"
  },
  "language_info": {
   "codemirror_mode": {
    "name": "ipython",
    "version": 3
   },
   "file_extension": ".py",
   "mimetype": "text/x-python",
   "name": "python",
   "nbconvert_exporter": "python",
   "pygments_lexer": "ipython3",
   "version": "3.11.5"
  },
  "toc": {
   "base_numbering": 1,
   "nav_menu": {},
   "number_sections": true,
   "sideBar": true,
   "skip_h1_title": false,
   "title_cell": "Table of Contents",
   "title_sidebar": "Contents",
   "toc_cell": false,
   "toc_position": {},
   "toc_section_display": true,
   "toc_window_display": false
  }
 },
 "nbformat": 4,
 "nbformat_minor": 5
}
