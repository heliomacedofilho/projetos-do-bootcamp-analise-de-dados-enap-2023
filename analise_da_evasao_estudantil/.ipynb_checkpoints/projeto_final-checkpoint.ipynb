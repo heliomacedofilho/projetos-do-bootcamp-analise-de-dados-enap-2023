{
 "cells": [
  {
   "cell_type": "code",
   "execution_count": null,
   "id": "76b5295a-4a65-4989-b4a9-0a6e5caaf8dd",
   "metadata": {},
   "outputs": [],
   "source": [
    "import pandas as pd"
   ]
  },
  {
   "cell_type": "code",
   "execution_count": null,
   "id": "c90b4740-444c-420f-a13e-9bb92764a36b",
   "metadata": {},
   "outputs": [],
   "source": [
    "import os \n",
    "filepath = os.path.join(os.getcwd(), 'Dados', 'dataset_grad_pres.csv')"
   ]
  },
  {
   "cell_type": "code",
   "execution_count": null,
   "id": "dc12c08e-ff4e-43af-8aa9-dabf18e2beca",
   "metadata": {},
   "outputs": [],
   "source": [
    "# Cria o DataFrame completo, com todos os dados do arquivo dataset_grad_pres.csv\n",
    "\n",
    "df_completo = pd.read_csv(filepath, engine='python', \n",
    "                     on_bad_lines='warn', encoding='iso-8859-1', header=0, sep = \";\")"
   ]
  },
  {
   "cell_type": "code",
   "execution_count": null,
   "id": "e7dac6fa-c786-42b1-a0f0-c2ac946c1aec",
   "metadata": {},
   "outputs": [],
   "source": [
    "########################### TABELA ##################\n",
    "# Grupo / Baixa renda / Escola Pública /  Etnia-PPI / PCD\n",
    "# Grupo A sim sim sim não\n",
    "# Grupo A1 sim sim sim sim\n",
    "# Grupo B sim sim não não\n",
    "# Grupo B1 sim sim não sim\n",
    "# Grupo C não não não não\n",
    "# Grupo D não sim sim não\n",
    "# Grupo D1 não sim  sim sim\n",
    "# Grupo E não sim não não\n",
    "# Grupo E1 não sim não sim"
   ]
  },
  {
   "cell_type": "code",
   "execution_count": null,
   "id": "3e9d709e-fa5d-4167-a7d9-1cb19a9159b5",
   "metadata": {},
   "outputs": [],
   "source": [
    "# Inclui no final do DataFrame df_completo as colunas:\n",
    "# Baixa renda; Escola pública; Etnia; PPI; PCD\n",
    "# e preenche seus valores com \"Sim\" ou \"Não\", de acordo com a tabela acima\n",
    "\n",
    "def classificar_baixa_renda(cota):\n",
    "    baixa_renda_categorias = [\"Grupo A\", \"Grupo A1\", \"Grupo B\", \"Grupo B1\"]\n",
    "\n",
    "    if cota in baixa_renda_categorias:\n",
    "        return \"Sim\"\n",
    "    else:\n",
    "        return \"Não\"\n",
    "\n",
    "df_completo['Baixa renda'] = df_completo['COTA'].apply(classificar_baixa_renda)\n",
    "\n",
    "def classificar_escola_publica(cota):\n",
    "    escola_publica_categorias = [\"Grupo A\", \"Grupo A1\", \"Grupo B\", \"Grupo B1\", \"Grupo D\", \"Grupo D1\", \"Grupo E\", \"Grupo E1\"]\n",
    "\n",
    "    if cota in escola_publica_categorias:\n",
    "        return \"Sim\"\n",
    "    else:\n",
    "        return \"Não\"\n",
    "\n",
    "df_completo['Escola pública'] = df_completo['COTA'].apply(classificar_escola_publica)\n",
    "\n",
    "def classificar_etnia_PPI(cota):\n",
    "    etnia_ppi_categorias = [\"Grupo A\", \"Grupo A1\", \"Grupo D\", \"Grupo D1\"]\n",
    "\n",
    "    if cota in etnia_ppi_categorias:\n",
    "        return \"Sim\"\n",
    "    else:\n",
    "        return \"Não\"\n",
    "\n",
    "df_completo['Etnia PPI'] = df_completo['COTA'].apply(classificar_etnia_PPI)\n",
    "\n",
    "def classificar_PCD(cota):\n",
    "    pcd_categorias = [\"Grupo A1\", \"Grupo B1\", \"Grupo D1\", \"Grupo E1\"]\n",
    "\n",
    "    if cota in pcd_categorias:\n",
    "        return \"Sim\"\n",
    "    else:\n",
    "        return \"Não\"\n",
    "\n",
    "df_completo['PCD'] = df_completo['COTA'].apply(classificar_PCD)"
   ]
  },
  {
   "cell_type": "code",
   "execution_count": null,
   "id": "0eccfe0a-0871-4135-9c14-d04717f9970c",
   "metadata": {},
   "outputs": [],
   "source": [
    "# Para visualizar os 5 primeiros registros do DataFrame completo, retire o # do início da linha abaixo\n",
    "\n",
    "#df_completo.head()"
   ]
  },
  {
   "cell_type": "code",
   "execution_count": null,
   "id": "0dcfd01b-ac1a-402b-993b-4e76db17b8c2",
   "metadata": {},
   "outputs": [],
   "source": [
    "# DataFrame somente com alunos que ingressaram de 2013 em diante\n",
    "\n",
    "df_ingressantes_apos_2012 = df_completo.loc[(df_completo['ANO_INGRESSO'] > 2012)]"
   ]
  },
  {
   "cell_type": "code",
   "execution_count": null,
   "id": "135f008d-5e6b-4827-975b-e1ea4239cb08",
   "metadata": {},
   "outputs": [],
   "source": [
    "# Para visualizar os 5 primeiros registros do DataFrame somente com alunos que ingressaram de 2013 em diante, retire o # do início da linha abaixo\n",
    "\n",
    "#df_ingressantes_apos_2012.head()"
   ]
  },
  {
   "cell_type": "code",
   "execution_count": null,
   "id": "309606fe-8845-46c4-9a49-cbecfd8f0a06",
   "metadata": {},
   "outputs": [],
   "source": [
    "# Mantém no DataFrame df_ingressantes_apos_2012 apenas os alunos que ingressaram por SiSU ou PISM\n",
    "\n",
    "df_ingressantes_apos_2012 = df_ingressantes_apos_2012.loc[(df_ingressantes_apos_2012['TIPO_INGRESSO'] == 'SiSU') \n",
    "            | (df_ingressantes_apos_2012['TIPO_INGRESSO'] == 'PISM') \n",
    "            | (df_ingressantes_apos_2012['TIPO_INGRESSO'] == 'SiSU VAGA OCIOSA')\n",
    "            | (df_ingressantes_apos_2012['TIPO_INGRESSO'] == 'PISM VAGA OCIOSA')]"
   ]
  },
  {
   "cell_type": "code",
   "execution_count": null,
   "id": "2e5bfd0a-6aa2-4452-bffa-2759334b1772",
   "metadata": {},
   "outputs": [],
   "source": [
    "# Retira do DataFrame df_ingressantes_apos_2012 os cursos que contêm \"ABI -\" no nome\n",
    "# REGISTRAR AQUI POR QUE RESOLVEMOS ELIMINAR ESSES REGISTROS\n",
    "\n",
    "df_ingressantes_apos_2012 = df_ingressantes_apos_2012[~df_ingressantes_apos_2012['CURSO_NOME'].str.contains(\"ABI -\", regex=False)]"
   ]
  },
  {
   "cell_type": "code",
   "execution_count": null,
   "id": "8de129f0-ed3a-4a89-a93c-0a8c22b71db6",
   "metadata": {},
   "outputs": [],
   "source": [
    "# Retira do DataFrame df_ingressantes_apos_2012 os cursos que contêm \"OPÇÃO 2º CICLO CIÊNCIAS EXATAS\" no nome\n",
    "# REGISTRAR AQUI POR QUE RESOLVEMOS ELIMINAR ESSES REGISTROS\n",
    "\n",
    "df_ingressantes_apos_2012 = df_ingressantes_apos_2012[~df_ingressantes_apos_2012['CURSO_NOME'].str.contains(\"OPÇÃO 2º CICLO CIÊNCIAS EXATAS\", regex=False)]"
   ]
  },
  {
   "cell_type": "code",
   "execution_count": null,
   "id": "889221f4-2f26-4a0a-ad65-15436253e512",
   "metadata": {},
   "outputs": [],
   "source": [
    "# Retira do DataFrame df_ingressantes_apos_2012 os cursos que contêm \"BACHARELADO INTERDISCIPLINAR\" no nome\n",
    "# REGISTRAR AQUI POR QUE RESOLVEMOS ELIMINAR ESSES REGISTROS\n",
    "\n",
    "df_ingressantes_apos_2012 = df_ingressantes_apos_2012[~df_ingressantes_apos_2012['CURSO_NOME'].str.contains(\"BACHARELADO INTERDISCIPLINAR\", regex=False)]"
   ]
  },
  {
   "cell_type": "code",
   "execution_count": null,
   "id": "97dbd9ca-242d-4a73-b1fc-2bf421019f3f",
   "metadata": {},
   "outputs": [],
   "source": [
    "# Retira do DataFrame df_ingressantes_apos_2012 os cursos que contêm \"CIÊNCIAS EXATAS\" no nome\n",
    "# REGISTRAR AQUI POR QUE RESOLVEMOS ELIMINAR ESSES REGISTROS\n",
    "\n",
    "df_ingressantes_apos_2012 = df_ingressantes_apos_2012[~df_ingressantes_apos_2012['CURSO_NOME'].str.contains(\"CIÊNCIAS EXATAS\", regex=False)]"
   ]
  },
  {
   "cell_type": "code",
   "execution_count": null,
   "id": "41b104e5-8315-405a-9690-3ca7912f4f93",
   "metadata": {},
   "outputs": [],
   "source": [
    "# DataFrame de alunos evadidos de 2013 em diante\n",
    "df_evadidos = df_ingressantes_apos_2012.loc[df_ingressantes_apos_2012['SITUACAO'] == 'Evadido']\n",
    "\n",
    "# Quantidade de evadidos por curso\n",
    "qtt_evadidos_por_curso = df_evadidos['CURSO_NOME'].value_counts()"
   ]
  },
  {
   "cell_type": "code",
   "execution_count": null,
   "id": "c8cffc9d-3d56-46a7-99da-7ef665261ec0",
   "metadata": {},
   "outputs": [],
   "source": [
    "import matplotlib.pyplot as plt\n",
    "import seaborn as sns"
   ]
  },
  {
   "cell_type": "code",
   "execution_count": null,
   "id": "1d49083f-91c7-4582-acd3-84df849e6600",
   "metadata": {},
   "outputs": [],
   "source": [
    "f, axes = plt.subplots(1, 1,  figsize=(16, 6))\n",
    "\n",
    "g = sns.barplot(x=qtt_evadidos_por_curso.index, \n",
    "                y=qtt_evadidos_por_curso)\n",
    "\n",
    "axes.set_title('Evadidos x Curso (2013 - 2023)', fontsize=14)\n",
    "axes.set_ylabel('Total', fontsize=14)\n",
    "axes.set(xlabel='') \n",
    "\n",
    "plt.xticks(rotation=90)\n",
    "\n",
    "plt.show()"
   ]
  },
  {
   "cell_type": "code",
   "execution_count": null,
   "id": "2d909804-a893-44ff-8688-b2ed0beb07f2",
   "metadata": {},
   "outputs": [],
   "source": [
    "# EXPLICAR O QUE A FUNÇÃO ABAIXO FAZ \n",
    "\n",
    "def evadido_vs_ingressante_por_filtro(df_ingressantes_apos_2012, filtro):\n",
    "    qtt_filtro_por_curso = df_ingressantes_apos_2012.groupby('CURSO_NOME')[filtro].value_counts()\n",
    "    df_evadidos = df_ingressantes_apos_2012.loc[df_ingressantes_apos_2012['SITUACAO'] == 'Evadido']\n",
    "    qtt_evadidos_por_filtro = df_evadidos.groupby('CURSO_NOME')[filtro].value_counts()\n",
    "    evadido_vs_ingressante = pd.merge(qtt_evadidos_por_filtro, qtt_filtro_por_curso, how='right', on=['CURSO_NOME', filtro]).fillna(0)\n",
    "    evadido_vs_ingressante['pct_evasao'] = evadido_vs_ingressante['count_x']/evadido_vs_ingressante['count_y']\n",
    "    evadido_vs_ingressante['evadidos'] = evadido_vs_ingressante['count_x']\n",
    "    evadido_vs_ingressante['nao_evadidos'] = evadido_vs_ingressante['count_y'] - evadido_vs_ingressante['evadidos']\n",
    "    return evadido_vs_ingressante"
   ]
  },
  {
   "cell_type": "code",
   "execution_count": null,
   "id": "dace9006-a08d-4958-8a20-704dd904ae86",
   "metadata": {},
   "outputs": [],
   "source": [
    "# EXPLICAR O QUE A FUNÇÃO FAZ \n",
    "\n",
    "def cota_por_curso(evadido_vs_ingressante, curso):\n",
    "    df_exemplo = evadido_vs_ingressante[['evadidos', 'nao_evadidos', 'pct_evasao', 'count_y']].loc[curso]\n",
    "\n",
    "    ax = df_exemplo[['evadidos', 'nao_evadidos']].plot(kind='bar', stacked=True)\n",
    "    for i, (eixo_x, eixo_y1, eixo_y2) in enumerate(zip(ax.get_xticklabels(), df_exemplo['evadidos'], df_exemplo['evadidos'] + df_exemplo['nao_evadidos'])):\n",
    "        ax.annotate(f\"{df_exemplo['pct_evasao'].loc[eixo_x.get_text()]:.2%}\", xy=(i, eixo_y1), rotation=45)\n",
    "        ax.annotate(df_exemplo['count_y'].loc[eixo_x.get_text()], xy=(i, eixo_y2), rotation=45)"
   ]
  },
  {
   "cell_type": "code",
   "execution_count": null,
   "id": "c8b1aa08-4aef-4ded-a0ce-051c451623ab",
   "metadata": {},
   "outputs": [],
   "source": [
    "# Para gerar um gráfico que mostra a relação entre ingressantes e evadidos por curso, \n",
    "# incluindo qualquer outra coluna do DataFrame df_ingressantes_apos_2012,\n",
    "# substitua as variáveis abaixo (coluna e curso)\n",
    "\n",
    "coluna = \"COTA\"\n",
    "curso = \"DIREITO\"\n",
    "\n",
    "cota_por_curso(evadido_vs_ingressante_por_filtro(df_ingressantes_apos_2012, coluna), curso)"
   ]
  },
  {
   "cell_type": "code",
   "execution_count": null,
   "id": "6bbb1daf-bc5d-4f66-8a1f-ba303599ce54",
   "metadata": {},
   "outputs": [],
   "source": []
  },
  {
   "cell_type": "code",
   "execution_count": null,
   "id": "ed88d5ac-faa1-436a-8b4d-0ea5263eaa00",
   "metadata": {},
   "outputs": [],
   "source": []
  }
 ],
 "metadata": {
  "kernelspec": {
   "display_name": "Python 3 (ipykernel)",
   "language": "python",
   "name": "python3"
  },
  "language_info": {
   "codemirror_mode": {
    "name": "ipython",
    "version": 3
   },
   "file_extension": ".py",
   "mimetype": "text/x-python",
   "name": "python",
   "nbconvert_exporter": "python",
   "pygments_lexer": "ipython3",
   "version": "3.11.6"
  }
 },
 "nbformat": 4,
 "nbformat_minor": 5
}
