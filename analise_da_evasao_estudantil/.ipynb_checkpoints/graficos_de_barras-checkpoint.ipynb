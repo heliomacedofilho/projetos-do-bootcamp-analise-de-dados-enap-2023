{
 "cells": [
  {
   "cell_type": "code",
   "execution_count": null,
   "id": "76b5295a-4a65-4989-b4a9-0a6e5caaf8dd",
   "metadata": {},
   "outputs": [],
   "source": [
    "import pandas as pd"
   ]
  },
  {
   "cell_type": "code",
   "execution_count": null,
   "id": "c90b4740-444c-420f-a13e-9bb92764a36b",
   "metadata": {},
   "outputs": [],
   "source": [
    "import os \n",
    "filepath = os.path.join(os.getcwd(), 'Dados', 'dataset_tratado.csv')"
   ]
  },
  {
   "cell_type": "code",
   "execution_count": null,
   "id": "dc12c08e-ff4e-43af-8aa9-dabf18e2beca",
   "metadata": {},
   "outputs": [],
   "source": [
    "# Cria o DataFrame completo, com todos os dados do arquivo dataset_tratado.csv\n",
    "\n",
    "df_completo = pd.read_csv(filepath, engine='python', \n",
    "                     on_bad_lines='warn', header=0, sep = \",\")"
   ]
  },
  {
   "cell_type": "code",
   "execution_count": null,
   "id": "7bd5232a-4054-4974-a75c-24e09732e0c5",
   "metadata": {},
   "outputs": [],
   "source": [
    "df_completo.head()"
   ]
  },
  {
   "cell_type": "code",
   "execution_count": null,
   "id": "2cadfa91-ffb8-4332-85bc-128e7f4bedae",
   "metadata": {},
   "outputs": [],
   "source": [
    "# Cria um novo DataFrame somente com alunos que ingressaram de 2013 em diante\n",
    "\n",
    "df_ingressantes_apos_2012 = df_completo.loc[(df_completo['ANO_INGRESSO'] > 2012)]"
   ]
  },
  {
   "cell_type": "code",
   "execution_count": null,
   "id": "e1315eae-b330-42dd-bc6f-4e184c15d08e",
   "metadata": {},
   "outputs": [],
   "source": [
    "# Para visualizar os 5 primeiros registros do DataFrame somente com alunos que ingressaram de 2013 em diante, retire o # do início da linha abaixo\n",
    "\n",
    "#df_ingressantes_apos_2012.head()"
   ]
  },
  {
   "cell_type": "code",
   "execution_count": null,
   "id": "c3b405c3-e319-48f8-aa85-90ab4de4a103",
   "metadata": {},
   "outputs": [],
   "source": [
    "# Mantém no DataFrame df_ingressantes_apos_2012 apenas os alunos que ingressaram por SiSU ou PISM\n",
    "# REGISTRAR AQUI POR QUE RESOLVEMOS MANTER SOMENTE ESSES REGISTROS\n",
    "\n",
    "df_ingressantes_apos_2012 = df_ingressantes_apos_2012.loc[(df_ingressantes_apos_2012['TIPO_INGRESSO'] == 'SiSU') \n",
    "            | (df_ingressantes_apos_2012['TIPO_INGRESSO'] == 'PISM') \n",
    "            | (df_ingressantes_apos_2012['TIPO_INGRESSO'] == 'SiSU VAGA OCIOSA')\n",
    "            | (df_ingressantes_apos_2012['TIPO_INGRESSO'] == 'PISM VAGA OCIOSA')]"
   ]
  },
  {
   "cell_type": "code",
   "execution_count": null,
   "id": "14c62b79-7e0c-48f1-b7f7-ba9dcdbbd028",
   "metadata": {},
   "outputs": [],
   "source": [
    "# Retira do DataFrame df_ingressantes_apos_2012 os cursos que contêm \"ABI -\" no nome\n",
    "# REGISTRAR AQUI POR QUE RESOLVEMOS ELIMINAR ESSES REGISTROS\n",
    "\n",
    "df_ingressantes_apos_2012 = df_ingressantes_apos_2012[~df_ingressantes_apos_2012['CURSO_NOME'].str.contains(\"ABI -\", regex=False)]"
   ]
  },
  {
   "cell_type": "code",
   "execution_count": null,
   "id": "31351ea1-dd61-4a88-be1e-cb2d5decc43b",
   "metadata": {},
   "outputs": [],
   "source": [
    "# Retira do DataFrame df_ingressantes_apos_2012 os cursos que contêm \"OPÇÃO 2º CICLO CIÊNCIAS EXATAS\" no nome\n",
    "# REGISTRAR AQUI POR QUE RESOLVEMOS ELIMINAR ESSES REGISTROS\n",
    "\n",
    "df_ingressantes_apos_2012 = df_ingressantes_apos_2012[~df_ingressantes_apos_2012['CURSO_NOME'].str.contains(\"OPÇÃO 2º CICLO CIÊNCIAS EXATAS\", regex=False)]"
   ]
  },
  {
   "cell_type": "code",
   "execution_count": null,
   "id": "90f83412-c660-4103-8fce-b926cd44233b",
   "metadata": {},
   "outputs": [],
   "source": [
    "# Retira do DataFrame df_ingressantes_apos_2012 os cursos que contêm \"BACHARELADO INTERDISCIPLINAR\" no nome\n",
    "# REGISTRAR AQUI POR QUE RESOLVEMOS ELIMINAR ESSES REGISTROS\n",
    "\n",
    "df_ingressantes_apos_2012 = df_ingressantes_apos_2012[~df_ingressantes_apos_2012['CURSO_NOME'].str.contains(\"BACHARELADO INTERDISCIPLINAR\", regex=False)]"
   ]
  },
  {
   "cell_type": "code",
   "execution_count": null,
   "id": "9893eaad-b939-4253-b4e8-1c8d3f295583",
   "metadata": {},
   "outputs": [],
   "source": [
    "# Retira do DataFrame df_ingressantes_apos_2012 os cursos que contêm \"CIÊNCIAS EXATAS\" no nome\n",
    "# REGISTRAR AQUI POR QUE RESOLVEMOS ELIMINAR ESSES REGISTROS\n",
    "\n",
    "df_ingressantes_apos_2012 = df_ingressantes_apos_2012[~df_ingressantes_apos_2012['CURSO_NOME'].str.contains(\"CIÊNCIAS EXATAS\", regex=False)]"
   ]
  },
  {
   "cell_type": "code",
   "execution_count": null,
   "id": "78242350-f2b9-48d2-ab94-0e8c55533217",
   "metadata": {},
   "outputs": [],
   "source": [
    "#Vendo como o DataFrame ficou após limpeza e tratamento de dados\n",
    "\n",
    "df_ingressantes_apos_2012.head()"
   ]
  },
  {
   "cell_type": "code",
   "execution_count": null,
   "id": "41b104e5-8315-405a-9690-3ca7912f4f93",
   "metadata": {},
   "outputs": [],
   "source": [
    "# Cria um DataFrame somente com alunos evadidos de 2013 em diante\n",
    "df_evadidos = df_ingressantes_apos_2012.loc[df_ingressantes_apos_2012['SITUACAO'] == 'Evadido']"
   ]
  },
  {
   "cell_type": "code",
   "execution_count": null,
   "id": "5d34f612-f573-4e5c-90d9-64cff54847af",
   "metadata": {},
   "outputs": [],
   "source": [
    "# Quantidade de evadidos por curso\n",
    "qtt_evadidos_por_curso = df_evadidos['CURSO_NOME'].value_counts()"
   ]
  },
  {
   "cell_type": "code",
   "execution_count": null,
   "id": "c8cffc9d-3d56-46a7-99da-7ef665261ec0",
   "metadata": {},
   "outputs": [],
   "source": [
    "import matplotlib.pyplot as plt\n",
    "import seaborn as sns"
   ]
  },
  {
   "cell_type": "code",
   "execution_count": null,
   "id": "1d49083f-91c7-4582-acd3-84df849e6600",
   "metadata": {},
   "outputs": [],
   "source": [
    "# Gera um gráfico de barras com a quantidade absoluta de evadidos por curso, de 2013 em diante\n",
    "\n",
    "f, axes = plt.subplots(1, 1,  figsize=(16, 6))\n",
    "\n",
    "g = sns.barplot(x=qtt_evadidos_por_curso.index, \n",
    "                y=qtt_evadidos_por_curso)\n",
    "\n",
    "axes.set_title('Evadidos x Curso (2013 - 2023)', fontsize=14)\n",
    "axes.set_ylabel('Total', fontsize=14)\n",
    "axes.set(xlabel='') \n",
    "\n",
    "plt.xticks(rotation=90)\n",
    "\n",
    "plt.show()"
   ]
  },
  {
   "cell_type": "code",
   "execution_count": null,
   "id": "495bb191-e385-4599-ba90-6595115e9ad5",
   "metadata": {},
   "outputs": [],
   "source": [
    "def calcular_qtt_situacao(df_ingressantes_apos_2012, filtro, situacao):\n",
    "    df = df_ingressantes_apos_2012.loc[df_ingressantes_apos_2012['SITUACAO'] == situacao]\n",
    "    return df.groupby('CURSO_NOME')[filtro].value_counts()"
   ]
  },
  {
   "cell_type": "code",
   "execution_count": null,
   "id": "2d909804-a893-44ff-8688-b2ed0beb07f2",
   "metadata": {},
   "outputs": [],
   "source": [
    "# EXPLICAR O QUE A FUNÇÃO ABAIXO FAZ \n",
    "\n",
    "def evadido_vs_ingressante_por_filtro(df_ingressantes, filtro):\n",
    "    #calcular uma série com o número de alunos, evadidos, número de concluídos e número de ativos\n",
    "    qtt_filtro_por_curso = df_ingressantes.groupby('CURSO_NOME')[filtro].value_counts()\n",
    "    qtt_evadidos_por_filtro = calcular_qtt_situacao(df_ingressantes, filtro, 'Evadido')\n",
    "    qtt_concluidos_por_filtro =  calcular_qtt_situacao(df_ingressantes, filtro, 'Concluido')\n",
    "    qtt_ativos_por_filtro =  calcular_qtt_situacao(df_ingressantes, filtro, 'Ativo')\n",
    "    \n",
    "    #cruzamento das Series criadas anterioresmente    \n",
    "    df = pd.merge(qtt_filtro_por_curso, qtt_evadidos_por_filtro, \n",
    "                                      how='left', on=['CURSO_NOME', filtro], suffixes=('_total', '_evadidos')).fillna(0)\n",
    "    df = pd.merge(df, qtt_concluidos_por_filtro, \n",
    "                                      how='left', on=['CURSO_NOME', filtro], suffixes=('', '_concluintes')).fillna(0)\n",
    "    df = pd.merge(df, qtt_ativos_por_filtro, \n",
    "                                      how='left', on=['CURSO_NOME', filtro], suffixes=('', '_ativos')).fillna(0)\n",
    "    df = df.rename(columns={'count': 'count_concluintes'}).sort_values(filtro)\n",
    "    df.columns = ['total', 'evadidos', 'concluidos', 'ativos']\n",
    "\n",
    "    #calculando os percentuais\n",
    "    df['pct_evasao'] = df['evadidos']/df['total']\n",
    "    df['pct_concluido'] = df['concluidos']/df['total']\n",
    "    df['pct_ativo'] = df['ativos']/df['total']\n",
    "   \n",
    "    return df"
   ]
  },
  {
   "cell_type": "code",
   "execution_count": null,
   "id": "dace9006-a08d-4958-8a20-704dd904ae86",
   "metadata": {},
   "outputs": [],
   "source": [
    "# EXPLICAR O QUE A FUNÇÃO FAZ \n",
    "\n",
    "def cota_por_curso(evadido_vs_ingressante, curso):\n",
    "    \n",
    "    ax = evadido_vs_ingressante[['evadidos', 'concluidos', 'ativos']].loc[curso].plot(kind='bar', stacked=True, figsize=[10,6])\n",
    "    \n",
    "    df = evadido_vs_ingressante.loc[curso]\n",
    "    \n",
    "    for i, eixo_x in enumerate(ax.get_xticklabels()):\n",
    "        \n",
    "        linha = int(eixo_x.get_text()) if eixo_x.get_text().isdigit() else eixo_x.get_text()\n",
    "        \n",
    "        pct_evasao_float = df['pct_evasao'].loc[linha]\n",
    "        pct_evasao_str = f\"{pct_evasao_float:.2%}\"\n",
    "        altura_y_evadidos = df['evadidos'].loc[linha]\n",
    "        \n",
    "        pct_concluintes_float = df['pct_concluido'].loc[linha]\n",
    "        pct_concluintes_str = f\"{pct_concluintes_float:.2%}\"\n",
    "        altura_y_concluintes = df['concluidos'].loc[linha]\n",
    "        \n",
    "        pct_ativos_float = df['pct_ativo'].loc[linha]\n",
    "        pct_ativos_str = f\"{pct_ativos_float:.2%}\"\n",
    "        altura_y_ativos = df['ativos'].loc[linha]\n",
    "        \n",
    "        if pct_evasao_float >= 0.05:\n",
    "            ax.annotate(pct_evasao_str, xy=(i, altura_y_evadidos), rotation=45)\n",
    "        \n",
    "        if pct_concluintes_float >= 0.05:\n",
    "            ax.annotate(pct_concluintes_str, xy=(i, altura_y_evadidos + altura_y_concluintes), rotation=45)\n",
    "            \n",
    "        if pct_ativos_float >= 0.05:\n",
    "            ax.annotate(pct_ativos_str, xy=(i, altura_y_evadidos + altura_y_concluintes + altura_y_ativos), rotation=45)"
   ]
  },
  {
   "cell_type": "code",
   "execution_count": null,
   "id": "a726f266-bedc-45ea-b565-0779bafa1f92",
   "metadata": {},
   "outputs": [],
   "source": [
    "# Para gerar um gráfico que mostra a relação entre ingressantes e evadidos por curso, \n",
    "# incluindo qualquer outra coluna do DataFrame df_ingressantes_apos_2012,\n",
    "# substitua as variáveis abaixo (coluna e curso)\n",
    "\n",
    "# coluna =\n",
    "# Funciona para : ANO_INGRESSO, SEMESTRE_INGRESSO, TIPO_INGRESSO, \n",
    "# COTA, CAMPUS, ETNIA, SEXO\n",
    "# TURNO - faz sentido para os cursos com turnos diferentes como por exemplo: \n",
    "# LETRAS, FÍSICA, MATEMÁTICA\n",
    "# Não funciona para: CURSO_NOME, AREA, SITUACAO, MOTIVO_SAIDA\n",
    "\n",
    "# cursos: 'CIÊNCIAS BIOLÓGICAS', 'ADMINISTRAÇÃO', 'CIÊNCIAS CONTÁBEIS',\n",
    "#       'CIÊNCIAS ECONÔMICAS', 'DIREITO', 'FARMÁCIA', 'FISIOTERAPIA',\n",
    "#       'MEDICINA', 'FILOSOFIA', 'NUTRIÇÃO', 'FÍSICA', 'ODONTOLOGIA',\n",
    "#       'GEOGRAFIA', 'EDUCAÇÃO FÍSICA', 'HISTÓRIA', 'LETRAS', 'PEDAGOGIA',\n",
    "#       'SERVIÇO SOCIAL', 'ENFERMAGEM', 'ENGENHARIA CIVIL', 'PSICOLOGIA',\n",
    "#       'ARQUITETURA E URBANISMO', 'CIÊNCIA DA COMPUTAÇÃO',\n",
    "#       'ENGENHARIA DE PRODUÇÃO', 'MÚSICA', 'CIÊNCIAS EXATAS',\n",
    "#       'ENGENHARIA COMPUTACIONAL', 'ESTATÍSTICA', 'MATEMÁTICA', 'QUÍMICA',\n",
    "#       'ENGENHARIA ELÉTRICA - ENERGIA',\n",
    "#       'ENGENHARIA ELÉTRICA - ROBÓTICA E AUTOMAÇÃO INDUSTRIAL',\n",
    "#       'ENGENHARIA ELÉTRICA - SISTEMAS DE POTÊNCIA',\n",
    "#       'ENGENHARIA ELÉTRICA - SISTEMAS ELETRÔNICOS',\n",
    "#       'ENGENHARIA ELÉTRICA -  TELECOMUNICAÇÕES', 'ENGENHARIA MECÂNICA',\n",
    "#       'BACHARELADO INTERDISCIPLINAR EM ARTES E DESIGN',\n",
    "#       'CINEMA E AUDIOVISUAL', 'BACHARELADO EM ARTES VISUAIS',\n",
    "#       'BACHARELADO EM DESIGN', 'BACHARELADO EM MODA',\n",
    "#       'LICENCIATURA EM ARTES VISUAIS',\n",
    "#       'ENGENHARIA AMBIENTAL E SANITÁRIA',\n",
    "#       'BACHARELADO INTERDISCIPLINAR EM CIÊNCIAS HUMANAS',\n",
    "#       'CIÊNCIA DA RELIGIÃO', 'CIÊNCIAS SOCIAIS', 'TURISMO',\n",
    "#       'SISTEMAS DE INFORMAÇÃO', 'JORNALISMO', 'MEDICINA VETERINÁRIA',\n",
    "#       'LETRAS - LIBRAS', 'LICENCIATURA EM MÚSICA',\n",
    "#       'RÁDIO  TV E INTERNET'\n",
    "\n",
    "coluna = \"ANO_INGRESSO\"\n",
    "curso = \"ADMINISTRAÇÃO\"\n",
    "\n",
    "cota_por_curso(evadido_vs_ingressante_por_filtro(df_ingressantes_apos_2012, coluna), curso)"
   ]
  },
  {
   "cell_type": "code",
   "execution_count": null,
   "id": "15998087-ea2b-4302-b85b-d73eeba2e29a",
   "metadata": {},
   "outputs": [],
   "source": [
    "# Função utilizada para gerar um gráfico que mostra os cursos com as maiores taxas\n",
    "# de evasão de acordo com o grupo de cotas escolhido.\n",
    "\n",
    "def evasao_por_grupo(d, grupo):\n",
    "    d = evadido_vs_ingressante_por_filtro(d, 'COTA')\n",
    "    filtro_por_grupo = d.loc[d.index.get_level_values('COTA') == grupo]\n",
    "    ordena_por_evasao = filtro_por_grupo.sort_values(by=['pct_evasao'], ascending=False)\n",
    "    plot_grafico(ordena_por_evasao.index.get_level_values('CURSO_NOME'),\n",
    "                ordena_por_evasao['pct_evasao'], grupo)"
   ]
  },
  {
   "cell_type": "code",
   "execution_count": null,
   "id": "c9a1060e-d60e-426f-b72f-546339180ef4",
   "metadata": {},
   "outputs": [],
   "source": [
    "# Função utilizada para gerar o gráfico.\n",
    "\n",
    "def plot_grafico(x, y, grupo):\n",
    "    f, axes = plt.subplots(1, 1,  figsize=(16, 6))\n",
    "    g = sns.barplot(x=x, y=y)\n",
    "    axes.set_title(f'Curso X Taxa de Evasão - {grupo} (2013 - 2023)', fontsize=14)\n",
    "    axes.set_ylabel('Taxa de Evasão', fontsize=14)\n",
    "    axes.set(xlabel='')     \n",
    "    plt.xticks(rotation=90)    \n",
    "    plt.show()"
   ]
  },
  {
   "cell_type": "code",
   "execution_count": null,
   "id": "9cd66dce-7eda-45d9-9d85-4c9d38378eb7",
   "metadata": {},
   "outputs": [],
   "source": [
    "evasao_por_grupo(df_ingressantes_apos_2012, 'Grupo A')"
   ]
  },
  {
   "cell_type": "code",
   "execution_count": null,
   "id": "1234a44b-3439-4432-9c07-9aea729fd02e",
   "metadata": {},
   "outputs": [],
   "source": [
    "#"
   ]
  },
  {
   "cell_type": "code",
   "execution_count": null,
   "id": "33937331-bee9-404c-a6d5-61305fb60dba",
   "metadata": {},
   "outputs": [],
   "source": []
  }
 ],
 "metadata": {
  "kernelspec": {
   "display_name": "Python 3 (ipykernel)",
   "language": "python",
   "name": "python3"
  },
  "language_info": {
   "codemirror_mode": {
    "name": "ipython",
    "version": 3
   },
   "file_extension": ".py",
   "mimetype": "text/x-python",
   "name": "python",
   "nbconvert_exporter": "python",
   "pygments_lexer": "ipython3",
   "version": "3.11.6"
  }
 },
 "nbformat": 4,
 "nbformat_minor": 5
}
