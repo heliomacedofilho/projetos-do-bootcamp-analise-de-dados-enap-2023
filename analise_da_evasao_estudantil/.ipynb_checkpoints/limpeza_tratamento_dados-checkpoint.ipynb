{
 "cells": [
  {
   "cell_type": "code",
   "execution_count": null,
   "id": "76b5295a-4a65-4989-b4a9-0a6e5caaf8dd",
   "metadata": {},
   "outputs": [],
   "source": [
    "import pandas as pd"
   ]
  },
  {
   "cell_type": "code",
   "execution_count": null,
   "id": "c90b4740-444c-420f-a13e-9bb92764a36b",
   "metadata": {},
   "outputs": [],
   "source": [
    "import os \n",
    "filepath = os.path.join(os.getcwd(), 'Dados', 'dataset_grad_pres.csv')"
   ]
  },
  {
   "cell_type": "code",
   "execution_count": null,
   "id": "dc12c08e-ff4e-43af-8aa9-dabf18e2beca",
   "metadata": {},
   "outputs": [],
   "source": [
    "# Cria o DataFrame completo, com todos os dados do arquivo dataset_grad_pres.csv\n",
    "\n",
    "df_completo = pd.read_csv(filepath, engine='python', \n",
    "                     on_bad_lines='warn', encoding='iso-8859-1', header=0, sep = \";\")"
   ]
  },
  {
   "cell_type": "code",
   "execution_count": null,
   "id": "7bd5232a-4054-4974-a75c-24e09732e0c5",
   "metadata": {},
   "outputs": [],
   "source": [
    "df_completo.head()"
   ]
  },
  {
   "cell_type": "code",
   "execution_count": null,
   "id": "e7dac6fa-c786-42b1-a0f0-c2ac946c1aec",
   "metadata": {},
   "outputs": [],
   "source": [
    "########################### TABELA DE COTAS ##################\n",
    "# Grupo / Baixa renda / Escola Pública /  Etnia-PPI / PCD\n",
    "# Grupo A sim sim sim não\n",
    "# Grupo A1 sim sim sim sim\n",
    "# Grupo B sim sim não não\n",
    "# Grupo B1 sim sim não sim\n",
    "# Grupo C não não não não\n",
    "# Grupo D não sim sim não\n",
    "# Grupo D1 não sim  sim sim\n",
    "# Grupo E não sim não não\n",
    "# Grupo E1 não sim não sim"
   ]
  },
  {
   "cell_type": "code",
   "execution_count": null,
   "id": "3e9d709e-fa5d-4167-a7d9-1cb19a9159b5",
   "metadata": {},
   "outputs": [],
   "source": [
    "# Inclui no final do DataFrame df_completo as seguintes colunas:\n",
    "# Baixa renda; Escola pública; Etnia; PPI; PCD\n",
    "# e preenche seus valores com \"Sim\" ou \"Não\", de acordo com a tabela acima.\n",
    "\n",
    "def classificar_baixa_renda(cota):\n",
    "    baixa_renda_categorias = [\"Grupo A\", \"Grupo A1\", \"Grupo B\", \"Grupo B1\"]\n",
    "\n",
    "    if cota in baixa_renda_categorias:\n",
    "        return \"Sim\"\n",
    "    else:\n",
    "        return \"Não\"\n",
    "\n",
    "df_completo['Baixa renda'] = df_completo['COTA'].apply(classificar_baixa_renda)\n",
    "\n",
    "def classificar_escola_publica(cota):\n",
    "    escola_publica_categorias = [\"Grupo A\", \"Grupo A1\", \"Grupo B\", \"Grupo B1\", \"Grupo D\", \"Grupo D1\", \"Grupo E\", \"Grupo E1\"]\n",
    "\n",
    "    if cota in escola_publica_categorias:\n",
    "        return \"Sim\"\n",
    "    else:\n",
    "        return \"Não\"\n",
    "\n",
    "df_completo['Escola pública'] = df_completo['COTA'].apply(classificar_escola_publica)\n",
    "\n",
    "def classificar_etnia_PPI(cota):\n",
    "    etnia_ppi_categorias = [\"Grupo A\", \"Grupo A1\", \"Grupo D\", \"Grupo D1\"]\n",
    "\n",
    "    if cota in etnia_ppi_categorias:\n",
    "        return \"Sim\"\n",
    "    else:\n",
    "        return \"Não\"\n",
    "\n",
    "df_completo['Etnia PPI'] = df_completo['COTA'].apply(classificar_etnia_PPI)\n",
    "\n",
    "def classificar_PCD(cota):\n",
    "    pcd_categorias = [\"Grupo A1\", \"Grupo B1\", \"Grupo D1\", \"Grupo E1\"]\n",
    "\n",
    "    if cota in pcd_categorias:\n",
    "        return \"Sim\"\n",
    "    else:\n",
    "        return \"Não\"\n",
    "\n",
    "df_completo['PCD'] = df_completo['COTA'].apply(classificar_PCD)"
   ]
  },
  {
   "cell_type": "code",
   "execution_count": null,
   "id": "13d155a5-7de9-4d9e-a6e1-b104980cb71a",
   "metadata": {},
   "outputs": [],
   "source": [
    "# Ajustes nos dados de latitude e longitude\n",
    "\n",
    "df_completo['LAT'] = df_completo['LAT'].str.replace(',', '.').astype(float)\n",
    "df_completo['LNG'] = df_completo['LNG'].str.replace(',', '.').astype(float)\n",
    "df_completo['LAT_ORGM'] = df_completo['LAT_ORGM'].str.replace(',', '.').astype(float)\n",
    "df_completo['LNG_ORGM'] = df_completo['LNG_ORGM'].str.replace(',', '.').astype(float)\n",
    "df_completo['LAT'] = pd.to_numeric(df_completo['LAT'])\n",
    "df_completo['LNG'] = pd.to_numeric(df_completo['LNG'])\n",
    "df_completo['LAT_ORGM'] = pd.to_numeric(df_completo['LAT_ORGM'])\n",
    "df_completo['LNG_ORGM'] = pd.to_numeric(df_completo['LNG_ORGM'])"
   ]
  },
  {
   "cell_type": "code",
   "execution_count": null,
   "id": "3032b320-543d-4c5d-80a4-688de8e7b6c3",
   "metadata": {},
   "outputs": [],
   "source": [
    "# Cria a coluna \"Estado\" inicialmente com valores vazios\n",
    "\n",
    "df_completo['Estado'] = \"\""
   ]
  },
  {
   "cell_type": "code",
   "execution_count": null,
   "id": "d198b99a-dded-4212-affc-c9de35e32106",
   "metadata": {},
   "outputs": [],
   "source": [
    "# Preenche a coluna \"Estado\" com as UFs retiradas da coluna \"LOCAL_ORGM\"\n",
    "\n",
    "for i, local in enumerate(df_completo['LOCAL_ORGM']):\n",
    "    if pd.notna(local):\n",
    "        lista_local = local.split(',')\n",
    "        estado_pais = lista_local[-2:]\n",
    "        estado = estado_pais[0].lstrip()\n",
    "        df_completo.at[i, 'Estado'] = estado"
   ]
  },
  {
   "cell_type": "code",
   "execution_count": null,
   "id": "0eccfe0a-0871-4135-9c14-d04717f9970c",
   "metadata": {},
   "outputs": [],
   "source": [
    "# Para visualizar os 5 primeiros registros do DataFrame completo, retire o # do início da linha abaixo\n",
    "\n",
    "#df_completo.head()"
   ]
  },
  {
   "cell_type": "code",
   "execution_count": null,
   "id": "b4af756e-e133-49d3-a7ea-130dd830f9f1",
   "metadata": {},
   "outputs": [],
   "source": [
    "# Gera um arquivo csv com os dados do DataFrame resultante após a limpeza\n",
    "\n",
    "caminho_arquivo = os.path.join(os.getcwd(), 'Dados', 'dataset_tratado.csv')\n",
    "df_completo.to_csv(caminho_arquivo, index=False)"
   ]
  },
  {
   "cell_type": "code",
   "execution_count": null,
   "id": "d746dad6-ec91-497a-a906-d8ef2840581a",
   "metadata": {},
   "outputs": [],
   "source": []
  },
  {
   "cell_type": "code",
   "execution_count": null,
   "id": "77b1d5ab-5c42-4000-9fab-88c8ef55f058",
   "metadata": {},
   "outputs": [],
   "source": [
    "#### FIM DO SCRIPT DE LIMPEZA E TRATAMENTO DOS DADOS ####"
   ]
  }
 ],
 "metadata": {
  "kernelspec": {
   "display_name": "Python 3 (ipykernel)",
   "language": "python",
   "name": "python3"
  },
  "language_info": {
   "codemirror_mode": {
    "name": "ipython",
    "version": 3
   },
   "file_extension": ".py",
   "mimetype": "text/x-python",
   "name": "python",
   "nbconvert_exporter": "python",
   "pygments_lexer": "ipython3",
   "version": "3.11.6"
  }
 },
 "nbformat": 4,
 "nbformat_minor": 5
}
