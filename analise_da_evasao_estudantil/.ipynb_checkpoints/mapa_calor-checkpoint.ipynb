{
 "cells": [
  {
   "cell_type": "code",
   "execution_count": 57,
   "id": "cf10b397-88dd-4237-b353-e9145af4e8eb",
   "metadata": {},
   "outputs": [],
   "source": [
    "import pandas as pd\n",
    "from folium.plugins import HeatMap\n",
    "import folium\n",
    "import seaborn as sns\n",
    "import matplotlib.pyplot as plt"
   ]
  },
  {
   "cell_type": "code",
   "execution_count": 58,
   "id": "1315cdba-2b74-4f14-8200-6dcc0bb6986b",
   "metadata": {},
   "outputs": [],
   "source": [
    "import os \n",
    "filepath = os.path.join(os.getcwd(), 'dataset_grad_pres.csv')"
   ]
  },
  {
   "cell_type": "code",
   "execution_count": 59,
   "id": "f91f577d-5273-4f6c-b9a7-f42e64bf5f69",
   "metadata": {},
   "outputs": [],
   "source": [
    "df_completo = pd.read_csv(filepath, engine='python', \n",
    "                     on_bad_lines='warn', encoding='iso-8859-1', header=0, sep = \";\")"
   ]
  },
  {
   "cell_type": "code",
   "execution_count": 60,
   "id": "d987e389-d3ab-418a-b803-10949e73018b",
   "metadata": {},
   "outputs": [
    {
     "data": {
      "text/plain": [
       "Index(['ANO_INGRESSO', 'SEMESTRE_INGRESSO', 'TIPO_INGRESSO', 'COTA',\n",
       "       'CURSO_NOME', 'AREA', 'SITUACAO', 'MOTIVO_SAIDA', 'CAMPUS', 'TURNO',\n",
       "       'ETNIA', 'SEXO', 'TIPOCURSO', 'LNG', 'LAT', 'LOCAL', 'LNG_ORGM',\n",
       "       'LAT_ORGM', 'LOCAL_ORGM'],\n",
       "      dtype='object')"
      ]
     },
     "execution_count": 60,
     "metadata": {},
     "output_type": "execute_result"
    }
   ],
   "source": [
    "df_completo.keys()"
   ]
  },
  {
   "cell_type": "code",
   "execution_count": 61,
   "id": "fc809ac5-50fa-43fd-a8b5-fc53a0c02bd8",
   "metadata": {},
   "outputs": [],
   "source": [
    "# Inclui no final do DataFrame df_completo as colunas:\n",
    "# Baixa renda; Escola pública; Etnia; PPI; PCD\n",
    "# e preenche seus valores com \"Sim\" ou \"Não\", de acordo com a tabela acima\n",
    "\n",
    "def classificar_baixa_renda(cota):\n",
    "    baixa_renda_categorias = [\"Grupo A\", \"Grupo A1\", \"Grupo B\", \"Grupo B1\"]\n",
    "\n",
    "    if cota in baixa_renda_categorias:\n",
    "        return \"Sim\"\n",
    "    else:\n",
    "        return \"Não\"\n",
    "\n",
    "df_completo['Baixa renda'] = df_completo['COTA'].apply(classificar_baixa_renda)\n",
    "\n",
    "def classificar_escola_publica(cota):\n",
    "    escola_publica_categorias = [\"Grupo A\", \"Grupo A1\", \"Grupo B\", \"Grupo B1\", \"Grupo D\", \"Grupo D1\", \"Grupo E\", \"Grupo E1\"]\n",
    "\n",
    "    if cota in escola_publica_categorias:\n",
    "        return \"Sim\"\n",
    "    else:\n",
    "        return \"Não\"\n",
    "\n",
    "df_completo['Escola pública'] = df_completo['COTA'].apply(classificar_escola_publica)\n",
    "\n",
    "def classificar_etnia_PPI(cota):\n",
    "    etnia_ppi_categorias = [\"Grupo A\", \"Grupo A1\", \"Grupo D\", \"Grupo D1\"]\n",
    "\n",
    "    if cota in etnia_ppi_categorias:\n",
    "        return \"Sim\"\n",
    "    else:\n",
    "        return \"Não\"\n",
    "\n",
    "df_completo['Etnia PPI'] = df_completo['COTA'].apply(classificar_etnia_PPI)\n",
    "\n",
    "def classificar_PCD(cota):\n",
    "    pcd_categorias = [\"Grupo A1\", \"Grupo B1\", \"Grupo D1\", \"Grupo E1\"]\n",
    "\n",
    "    if cota in pcd_categorias:\n",
    "        return \"Sim\"\n",
    "    else:\n",
    "        return \"Não\"\n",
    "\n",
    "df_completo['PCD'] = df_completo['COTA'].apply(classificar_PCD)\n"
   ]
  },
  {
   "cell_type": "code",
   "execution_count": 62,
   "id": "75e65e23-d269-425f-8f34-d398d5875e27",
   "metadata": {},
   "outputs": [],
   "source": [
    "df_completo['LAT'] = df_completo['LAT'].str.replace(',', '.').astype(float)\n",
    "df_completo['LNG'] = df_completo['LNG'].str.replace(',', '.').astype(float)\n",
    "df_completo['LAT_ORGM'] = df_completo['LAT_ORGM'].str.replace(',', '.').astype(float)\n",
    "df_completo['LNG_ORGM'] = df_completo['LNG_ORGM'].str.replace(',', '.').astype(float)\n",
    "df_completo['LAT'] = pd.to_numeric(df_completo['LAT'])\n",
    "df_completo['LNG'] = pd.to_numeric(df_completo['LNG'])\n",
    "df_completo['LAT_ORGM'] = pd.to_numeric(df_completo['LAT_ORGM'])\n",
    "df_completo['LNG_ORGM'] = pd.to_numeric(df_completo['LNG_ORGM'])"
   ]
  },
  {
   "cell_type": "code",
   "execution_count": 70,
   "id": "d764c494-e46a-4216-ad18-8e4bc9193500",
   "metadata": {},
   "outputs": [
    {
     "data": {
      "text/html": [
       "<div>\n",
       "<style scoped>\n",
       "    .dataframe tbody tr th:only-of-type {\n",
       "        vertical-align: middle;\n",
       "    }\n",
       "\n",
       "    .dataframe tbody tr th {\n",
       "        vertical-align: top;\n",
       "    }\n",
       "\n",
       "    .dataframe thead th {\n",
       "        text-align: right;\n",
       "    }\n",
       "</style>\n",
       "<table border=\"1\" class=\"dataframe\">\n",
       "  <thead>\n",
       "    <tr style=\"text-align: right;\">\n",
       "      <th></th>\n",
       "      <th>ANO_INGRESSO</th>\n",
       "      <th>SEMESTRE_INGRESSO</th>\n",
       "      <th>TIPO_INGRESSO</th>\n",
       "      <th>COTA</th>\n",
       "      <th>CURSO_NOME</th>\n",
       "      <th>AREA</th>\n",
       "      <th>SITUACAO</th>\n",
       "      <th>MOTIVO_SAIDA</th>\n",
       "      <th>CAMPUS</th>\n",
       "      <th>TURNO</th>\n",
       "      <th>...</th>\n",
       "      <th>LAT</th>\n",
       "      <th>LOCAL</th>\n",
       "      <th>LNG_ORGM</th>\n",
       "      <th>LAT_ORGM</th>\n",
       "      <th>LOCAL_ORGM</th>\n",
       "      <th>Baixa renda</th>\n",
       "      <th>Escola pública</th>\n",
       "      <th>Etnia PPI</th>\n",
       "      <th>PCD</th>\n",
       "      <th>Estado</th>\n",
       "    </tr>\n",
       "  </thead>\n",
       "  <tbody>\n",
       "    <tr>\n",
       "      <th>27</th>\n",
       "      <td>2010</td>\n",
       "      <td>2</td>\n",
       "      <td>PISM</td>\n",
       "      <td>Grupo C</td>\n",
       "      <td>CIÊNCIAS BIOLÓGICAS</td>\n",
       "      <td>Ciências Biológicas</td>\n",
       "      <td>Evadido</td>\n",
       "      <td>A Especificar</td>\n",
       "      <td>JUIZ DE FORA</td>\n",
       "      <td>INTEGRAL</td>\n",
       "      <td>...</td>\n",
       "      <td>-21.776524</td>\n",
       "      <td>ALTO DOS PASSOS, JUIZ DE FORA, MG, BRASIL</td>\n",
       "      <td>-43.347358</td>\n",
       "      <td>-21.776524</td>\n",
       "      <td>ALTO DOS PASSOS, JUIZ DE FORA, MG, BRASIL</td>\n",
       "      <td>Não</td>\n",
       "      <td>Não</td>\n",
       "      <td>Não</td>\n",
       "      <td>Não</td>\n",
       "      <td>MG</td>\n",
       "    </tr>\n",
       "    <tr>\n",
       "      <th>49</th>\n",
       "      <td>2011</td>\n",
       "      <td>2</td>\n",
       "      <td>VESTIBULAR</td>\n",
       "      <td>Grupo A</td>\n",
       "      <td>CIÊNCIAS BIOLÓGICAS</td>\n",
       "      <td>Ciências Biológicas</td>\n",
       "      <td>Concluido</td>\n",
       "      <td>Conclusão</td>\n",
       "      <td>JUIZ DE FORA</td>\n",
       "      <td>INTEGRAL</td>\n",
       "      <td>...</td>\n",
       "      <td>NaN</td>\n",
       "      <td>, JUIZ DE FORA, MG, BRASIL</td>\n",
       "      <td>-45.251176</td>\n",
       "      <td>-21.694662</td>\n",
       "      <td>TRES CORACOES, MG, BRASIL</td>\n",
       "      <td>Sim</td>\n",
       "      <td>Sim</td>\n",
       "      <td>Sim</td>\n",
       "      <td>Não</td>\n",
       "      <td>MG</td>\n",
       "    </tr>\n",
       "    <tr>\n",
       "      <th>50</th>\n",
       "      <td>2011</td>\n",
       "      <td>2</td>\n",
       "      <td>PISM</td>\n",
       "      <td>Grupo A</td>\n",
       "      <td>CIÊNCIAS BIOLÓGICAS</td>\n",
       "      <td>Ciências Biológicas</td>\n",
       "      <td>Concluido</td>\n",
       "      <td>Conclusão</td>\n",
       "      <td>JUIZ DE FORA</td>\n",
       "      <td>INTEGRAL</td>\n",
       "      <td>...</td>\n",
       "      <td>-21.731437</td>\n",
       "      <td>ELDORADO, JUIZ DE FORA, MG, BRASIL</td>\n",
       "      <td>-43.364319</td>\n",
       "      <td>-21.731437</td>\n",
       "      <td>ELDORADO, JUIZ DE FORA, MG, BRASIL</td>\n",
       "      <td>Sim</td>\n",
       "      <td>Sim</td>\n",
       "      <td>Sim</td>\n",
       "      <td>Não</td>\n",
       "      <td>MG</td>\n",
       "    </tr>\n",
       "    <tr>\n",
       "      <th>51</th>\n",
       "      <td>2011</td>\n",
       "      <td>2</td>\n",
       "      <td>VESTIBULAR</td>\n",
       "      <td>Grupo B</td>\n",
       "      <td>CIÊNCIAS BIOLÓGICAS</td>\n",
       "      <td>Ciências Biológicas</td>\n",
       "      <td>Concluido</td>\n",
       "      <td>Conclusão</td>\n",
       "      <td>JUIZ DE FORA</td>\n",
       "      <td>INTEGRAL</td>\n",
       "      <td>...</td>\n",
       "      <td>-21.762424</td>\n",
       "      <td>CENTRO, JUIZ DE FORA, MG, BRASIL</td>\n",
       "      <td>-43.791998</td>\n",
       "      <td>-21.839869</td>\n",
       "      <td>LIMA DUARTE, MG, BRASIL</td>\n",
       "      <td>Sim</td>\n",
       "      <td>Sim</td>\n",
       "      <td>Não</td>\n",
       "      <td>Não</td>\n",
       "      <td>MG</td>\n",
       "    </tr>\n",
       "    <tr>\n",
       "      <th>52</th>\n",
       "      <td>2011</td>\n",
       "      <td>2</td>\n",
       "      <td>VESTIBULAR</td>\n",
       "      <td>Grupo B</td>\n",
       "      <td>CIÊNCIAS BIOLÓGICAS</td>\n",
       "      <td>Ciências Biológicas</td>\n",
       "      <td>Concluido</td>\n",
       "      <td>Conclusão</td>\n",
       "      <td>JUIZ DE FORA</td>\n",
       "      <td>INTEGRAL</td>\n",
       "      <td>...</td>\n",
       "      <td>-21.762323</td>\n",
       "      <td>STA RITA, JUIZ DE FORA, MG, BRASIL</td>\n",
       "      <td>-43.364151</td>\n",
       "      <td>-21.740906</td>\n",
       "      <td>SANTA TEREZINHA, JUIZ DE FORA, MG, BRASIL</td>\n",
       "      <td>Sim</td>\n",
       "      <td>Sim</td>\n",
       "      <td>Não</td>\n",
       "      <td>Não</td>\n",
       "      <td>MG</td>\n",
       "    </tr>\n",
       "    <tr>\n",
       "      <th>...</th>\n",
       "      <td>...</td>\n",
       "      <td>...</td>\n",
       "      <td>...</td>\n",
       "      <td>...</td>\n",
       "      <td>...</td>\n",
       "      <td>...</td>\n",
       "      <td>...</td>\n",
       "      <td>...</td>\n",
       "      <td>...</td>\n",
       "      <td>...</td>\n",
       "      <td>...</td>\n",
       "      <td>...</td>\n",
       "      <td>...</td>\n",
       "      <td>...</td>\n",
       "      <td>...</td>\n",
       "      <td>...</td>\n",
       "      <td>...</td>\n",
       "      <td>...</td>\n",
       "      <td>...</td>\n",
       "      <td>...</td>\n",
       "      <td>...</td>\n",
       "    </tr>\n",
       "    <tr>\n",
       "      <th>64535</th>\n",
       "      <td>2023</td>\n",
       "      <td>1</td>\n",
       "      <td>SiSU</td>\n",
       "      <td>Grupo A</td>\n",
       "      <td>BACHARELADO EM DESIGN</td>\n",
       "      <td>Lingüística  Letras e Artes</td>\n",
       "      <td>Ativo</td>\n",
       "      <td>A Especificar</td>\n",
       "      <td>JUIZ DE FORA</td>\n",
       "      <td>INTEGRAL</td>\n",
       "      <td>...</td>\n",
       "      <td>-20.678101</td>\n",
       "      <td>CANAA, MG, BRASIL</td>\n",
       "      <td>-42.609760</td>\n",
       "      <td>-20.678101</td>\n",
       "      <td>CANAA, MG, BRASIL</td>\n",
       "      <td>Sim</td>\n",
       "      <td>Sim</td>\n",
       "      <td>Sim</td>\n",
       "      <td>Não</td>\n",
       "      <td>MG</td>\n",
       "    </tr>\n",
       "    <tr>\n",
       "      <th>64536</th>\n",
       "      <td>2023</td>\n",
       "      <td>1</td>\n",
       "      <td>SiSU</td>\n",
       "      <td>Grupo C</td>\n",
       "      <td>BACHARELADO EM DESIGN</td>\n",
       "      <td>Lingüística  Letras e Artes</td>\n",
       "      <td>Ativo</td>\n",
       "      <td>A Especificar</td>\n",
       "      <td>JUIZ DE FORA</td>\n",
       "      <td>INTEGRAL</td>\n",
       "      <td>...</td>\n",
       "      <td>-15.601411</td>\n",
       "      <td>CUIABA, MT, BRASIL</td>\n",
       "      <td>-56.097892</td>\n",
       "      <td>-15.601411</td>\n",
       "      <td>CUIABA, MT, BRASIL</td>\n",
       "      <td>Não</td>\n",
       "      <td>Não</td>\n",
       "      <td>Não</td>\n",
       "      <td>Não</td>\n",
       "      <td>MT</td>\n",
       "    </tr>\n",
       "    <tr>\n",
       "      <th>64537</th>\n",
       "      <td>2023</td>\n",
       "      <td>1</td>\n",
       "      <td>SiSU</td>\n",
       "      <td>Grupo C</td>\n",
       "      <td>BACHARELADO EM DESIGN</td>\n",
       "      <td>Lingüística  Letras e Artes</td>\n",
       "      <td>Ativo</td>\n",
       "      <td>A Especificar</td>\n",
       "      <td>JUIZ DE FORA</td>\n",
       "      <td>INTEGRAL</td>\n",
       "      <td>...</td>\n",
       "      <td>-22.470962</td>\n",
       "      <td>RESENDE, RJ, BRASIL</td>\n",
       "      <td>-44.451329</td>\n",
       "      <td>-22.470962</td>\n",
       "      <td>RESENDE, RJ, BRASIL</td>\n",
       "      <td>Não</td>\n",
       "      <td>Não</td>\n",
       "      <td>Não</td>\n",
       "      <td>Não</td>\n",
       "      <td>RJ</td>\n",
       "    </tr>\n",
       "    <tr>\n",
       "      <th>64538</th>\n",
       "      <td>2023</td>\n",
       "      <td>1</td>\n",
       "      <td>PISM</td>\n",
       "      <td>Grupo B</td>\n",
       "      <td>BACHARELADO EM DESIGN</td>\n",
       "      <td>Lingüística  Letras e Artes</td>\n",
       "      <td>Evadido</td>\n",
       "      <td>Desistência</td>\n",
       "      <td>JUIZ DE FORA</td>\n",
       "      <td>INTEGRAL</td>\n",
       "      <td>...</td>\n",
       "      <td>-21.120123</td>\n",
       "      <td>UBA, MG, BRASIL</td>\n",
       "      <td>-42.942619</td>\n",
       "      <td>-21.120123</td>\n",
       "      <td>UBA, MG, BRASIL</td>\n",
       "      <td>Sim</td>\n",
       "      <td>Sim</td>\n",
       "      <td>Não</td>\n",
       "      <td>Não</td>\n",
       "      <td>MG</td>\n",
       "    </tr>\n",
       "    <tr>\n",
       "      <th>64539</th>\n",
       "      <td>2023</td>\n",
       "      <td>1</td>\n",
       "      <td>PISM</td>\n",
       "      <td>Grupo D</td>\n",
       "      <td>BACHARELADO EM DESIGN</td>\n",
       "      <td>Lingüística  Letras e Artes</td>\n",
       "      <td>Ativo</td>\n",
       "      <td>A Especificar</td>\n",
       "      <td>JUIZ DE FORA</td>\n",
       "      <td>INTEGRAL</td>\n",
       "      <td>...</td>\n",
       "      <td>-21.735352</td>\n",
       "      <td>FRANCISCO BERNARDINO, JUIZ DE FORA, MG, BRASIL</td>\n",
       "      <td>-42.614181</td>\n",
       "      <td>-21.196919</td>\n",
       "      <td>MIRAI, MG, BRASIL</td>\n",
       "      <td>Não</td>\n",
       "      <td>Sim</td>\n",
       "      <td>Sim</td>\n",
       "      <td>Não</td>\n",
       "      <td>MG</td>\n",
       "    </tr>\n",
       "  </tbody>\n",
       "</table>\n",
       "<p>41989 rows × 24 columns</p>\n",
       "</div>"
      ],
      "text/plain": [
       "       ANO_INGRESSO  SEMESTRE_INGRESSO TIPO_INGRESSO     COTA  \\\n",
       "27             2010                  2          PISM  Grupo C   \n",
       "49             2011                  2    VESTIBULAR  Grupo A   \n",
       "50             2011                  2          PISM  Grupo A   \n",
       "51             2011                  2    VESTIBULAR  Grupo B   \n",
       "52             2011                  2    VESTIBULAR  Grupo B   \n",
       "...             ...                ...           ...      ...   \n",
       "64535          2023                  1          SiSU  Grupo A   \n",
       "64536          2023                  1          SiSU  Grupo C   \n",
       "64537          2023                  1          SiSU  Grupo C   \n",
       "64538          2023                  1          PISM  Grupo B   \n",
       "64539          2023                  1          PISM  Grupo D   \n",
       "\n",
       "                  CURSO_NOME                         AREA   SITUACAO  \\\n",
       "27       CIÊNCIAS BIOLÓGICAS          Ciências Biológicas    Evadido   \n",
       "49       CIÊNCIAS BIOLÓGICAS          Ciências Biológicas  Concluido   \n",
       "50       CIÊNCIAS BIOLÓGICAS          Ciências Biológicas  Concluido   \n",
       "51       CIÊNCIAS BIOLÓGICAS          Ciências Biológicas  Concluido   \n",
       "52       CIÊNCIAS BIOLÓGICAS          Ciências Biológicas  Concluido   \n",
       "...                      ...                          ...        ...   \n",
       "64535  BACHARELADO EM DESIGN  Lingüística  Letras e Artes      Ativo   \n",
       "64536  BACHARELADO EM DESIGN  Lingüística  Letras e Artes      Ativo   \n",
       "64537  BACHARELADO EM DESIGN  Lingüística  Letras e Artes      Ativo   \n",
       "64538  BACHARELADO EM DESIGN  Lingüística  Letras e Artes    Evadido   \n",
       "64539  BACHARELADO EM DESIGN  Lingüística  Letras e Artes      Ativo   \n",
       "\n",
       "        MOTIVO_SAIDA        CAMPUS     TURNO  ...        LAT  \\\n",
       "27     A Especificar  JUIZ DE FORA  INTEGRAL  ... -21.776524   \n",
       "49         Conclusão  JUIZ DE FORA  INTEGRAL  ...        NaN   \n",
       "50         Conclusão  JUIZ DE FORA  INTEGRAL  ... -21.731437   \n",
       "51         Conclusão  JUIZ DE FORA  INTEGRAL  ... -21.762424   \n",
       "52         Conclusão  JUIZ DE FORA  INTEGRAL  ... -21.762323   \n",
       "...              ...           ...       ...  ...        ...   \n",
       "64535  A Especificar  JUIZ DE FORA  INTEGRAL  ... -20.678101   \n",
       "64536  A Especificar  JUIZ DE FORA  INTEGRAL  ... -15.601411   \n",
       "64537  A Especificar  JUIZ DE FORA  INTEGRAL  ... -22.470962   \n",
       "64538    Desistência  JUIZ DE FORA  INTEGRAL  ... -21.120123   \n",
       "64539  A Especificar  JUIZ DE FORA  INTEGRAL  ... -21.735352   \n",
       "\n",
       "                                                LOCAL   LNG_ORGM   LAT_ORGM  \\\n",
       "27          ALTO DOS PASSOS, JUIZ DE FORA, MG, BRASIL -43.347358 -21.776524   \n",
       "49                         , JUIZ DE FORA, MG, BRASIL -45.251176 -21.694662   \n",
       "50                 ELDORADO, JUIZ DE FORA, MG, BRASIL -43.364319 -21.731437   \n",
       "51                   CENTRO, JUIZ DE FORA, MG, BRASIL -43.791998 -21.839869   \n",
       "52                 STA RITA, JUIZ DE FORA, MG, BRASIL -43.364151 -21.740906   \n",
       "...                                               ...        ...        ...   \n",
       "64535                               CANAA, MG, BRASIL -42.609760 -20.678101   \n",
       "64536                              CUIABA, MT, BRASIL -56.097892 -15.601411   \n",
       "64537                             RESENDE, RJ, BRASIL -44.451329 -22.470962   \n",
       "64538                                 UBA, MG, BRASIL -42.942619 -21.120123   \n",
       "64539  FRANCISCO BERNARDINO, JUIZ DE FORA, MG, BRASIL -42.614181 -21.196919   \n",
       "\n",
       "                                      LOCAL_ORGM Baixa renda  Escola pública  \\\n",
       "27     ALTO DOS PASSOS, JUIZ DE FORA, MG, BRASIL         Não             Não   \n",
       "49                     TRES CORACOES, MG, BRASIL         Sim             Sim   \n",
       "50            ELDORADO, JUIZ DE FORA, MG, BRASIL         Sim             Sim   \n",
       "51                       LIMA DUARTE, MG, BRASIL         Sim             Sim   \n",
       "52     SANTA TEREZINHA, JUIZ DE FORA, MG, BRASIL         Sim             Sim   \n",
       "...                                          ...         ...             ...   \n",
       "64535                          CANAA, MG, BRASIL         Sim             Sim   \n",
       "64536                         CUIABA, MT, BRASIL         Não             Não   \n",
       "64537                        RESENDE, RJ, BRASIL         Não             Não   \n",
       "64538                            UBA, MG, BRASIL         Sim             Sim   \n",
       "64539                          MIRAI, MG, BRASIL         Não             Sim   \n",
       "\n",
       "       Etnia PPI  PCD Estado  \n",
       "27           Não  Não     MG  \n",
       "49           Sim  Não     MG  \n",
       "50           Sim  Não     MG  \n",
       "51           Não  Não     MG  \n",
       "52           Não  Não     MG  \n",
       "...          ...  ...    ...  \n",
       "64535        Sim  Não     MG  \n",
       "64536        Não  Não     MT  \n",
       "64537        Não  Não     RJ  \n",
       "64538        Não  Não     MG  \n",
       "64539        Sim  Não     MG  \n",
       "\n",
       "[41989 rows x 24 columns]"
      ]
     },
     "execution_count": 70,
     "metadata": {},
     "output_type": "execute_result"
    }
   ],
   "source": [
    "df_completo"
   ]
  },
  {
   "cell_type": "code",
   "execution_count": 64,
   "id": "072939b7-87c5-49fb-b5e7-0f958ed20cbd",
   "metadata": {},
   "outputs": [
    {
     "data": {
      "text/plain": [
       "22551"
      ]
     },
     "execution_count": 64,
     "metadata": {},
     "output_type": "execute_result"
    }
   ],
   "source": [
    "valores_nan = df_completo['LOCAL_ORGM'].isna().sum()\n",
    "valores_nan"
   ]
  },
  {
   "cell_type": "code",
   "execution_count": 65,
   "id": "047f40a6-e876-4e5c-b6a7-7158c4da92f4",
   "metadata": {},
   "outputs": [],
   "source": [
    "df_completo = df_completo.dropna(subset=['LOCAL_ORGM'])"
   ]
  },
  {
   "cell_type": "code",
   "execution_count": 66,
   "id": "92fdc44e-e69c-4650-9b2d-a844e375ff7c",
   "metadata": {},
   "outputs": [
    {
     "data": {
      "text/plain": [
       "0"
      ]
     },
     "execution_count": 66,
     "metadata": {},
     "output_type": "execute_result"
    }
   ],
   "source": [
    "valores_nan = df_completo['LOCAL_ORGM'].isna().sum()\n",
    "valores_nan"
   ]
  },
  {
   "cell_type": "code",
   "execution_count": 67,
   "id": "aa7cb3d9-667f-4250-b368-9041fadfe720",
   "metadata": {},
   "outputs": [],
   "source": [
    "# Crie uma lista para armazenar os estados\n",
    "estados = []\n",
    "\n",
    "# Itere sobre os valores da coluna 'LOCAL_ORGM'\n",
    "for local in df_completo['LOCAL_ORGM']:\n",
    "    lista_local = local.split(',')\n",
    "    estado_pais = lista_local[-2:]\n",
    "    estado = estado_pais[0]\n",
    "    estados.append(estado)"
   ]
  },
  {
   "cell_type": "code",
   "execution_count": 68,
   "id": "fc46ba21-20a1-4512-888d-02fe78efb858",
   "metadata": {},
   "outputs": [],
   "source": [
    "df_completo['Estado'] = estados"
   ]
  },
  {
   "cell_type": "code",
   "execution_count": 69,
   "id": "e57d48c3-bd20-4902-902e-fff2ff0cb53b",
   "metadata": {},
   "outputs": [
    {
     "data": {
      "text/plain": [
       "27        MG\n",
       "49        MG\n",
       "50        MG\n",
       "51        MG\n",
       "52        MG\n",
       "        ... \n",
       "64535     MG\n",
       "64536     MT\n",
       "64537     RJ\n",
       "64538     MG\n",
       "64539     MG\n",
       "Name: Estado, Length: 41989, dtype: object"
      ]
     },
     "execution_count": 69,
     "metadata": {},
     "output_type": "execute_result"
    }
   ],
   "source": [
    "df_completo['Estado']"
   ]
  },
  {
   "cell_type": "code",
   "execution_count": 72,
   "id": "89bea896-7d27-43ed-a5d8-44a1ce3b23f3",
   "metadata": {},
   "outputs": [],
   "source": [
    "df_evadidos = df_completo[df_completo['SITUACAO'] == 'Evadido']"
   ]
  },
  {
   "cell_type": "code",
   "execution_count": 73,
   "id": "6e212faf-d682-4525-afec-5d6520d5ecf5",
   "metadata": {},
   "outputs": [
    {
     "data": {
      "text/plain": [
       "Estado\n",
       " MG    11955\n",
       " RJ     1442\n",
       " SP      338\n",
       " ES      122\n",
       " BA       39\n",
       " DF       20\n",
       " GO       13\n",
       " RS       12\n",
       " PR        9\n",
       " PA        9\n",
       " CE        8\n",
       " SC        7\n",
       " MS        7\n",
       " RO        6\n",
       " SE        4\n",
       " AM        4\n",
       " MT        4\n",
       " AC        3\n",
       " MA        2\n",
       " PB        2\n",
       " PI        1\n",
       " TO        1\n",
       " PE        1\n",
       " RN        1\n",
       "Name: count, dtype: int64"
      ]
     },
     "execution_count": 73,
     "metadata": {},
     "output_type": "execute_result"
    }
   ],
   "source": [
    "# Contar o número de alunos evadidos por estado\n",
    "contagem_evadidos_por_estado = df_evadidos['Estado'].value_counts()\n",
    "contagem_evadidos_por_estado"
   ]
  },
  {
   "cell_type": "code",
   "execution_count": 74,
   "id": "2e5956c6-e711-4b02-bbf2-36c2e195b6f9",
   "metadata": {},
   "outputs": [],
   "source": [
    "# Use groupby para agrupar os dados por 'estado' e aplique a função count() para contar as linhas por estado\n",
    "evadidos_por_estado = df_evadidos.groupby('Estado').size().reset_index(name='Número de evadidos')"
   ]
  },
  {
   "cell_type": "code",
   "execution_count": 75,
   "id": "7d196a58-eff0-49eb-bff8-aacbe920f35b",
   "metadata": {},
   "outputs": [
    {
     "data": {
      "text/plain": [
       "Estado\n",
       " MG    35760\n",
       " RJ     4435\n",
       " SP      991\n",
       " ES      387\n",
       " BA      103\n",
       " DF       49\n",
       " GO       42\n",
       " RS       33\n",
       " PA       27\n",
       " MS       24\n",
       " PR       20\n",
       " MT       19\n",
       " CE       17\n",
       " SC       14\n",
       " RO       13\n",
       " AM       10\n",
       " MA        9\n",
       " SE        8\n",
       " PE        6\n",
       " PB        6\n",
       " RN        4\n",
       " AC        4\n",
       " RR        2\n",
       " TO        2\n",
       " PI        2\n",
       " AP        2\n",
       "Name: count, dtype: int64"
      ]
     },
     "execution_count": 75,
     "metadata": {},
     "output_type": "execute_result"
    }
   ],
   "source": [
    "# Contar o número total de alunos por estado\n",
    "contagem_total_por_estado = df_completo['Estado'].value_counts()\n",
    "contagem_total_por_estado"
   ]
  },
  {
   "cell_type": "code",
   "execution_count": 76,
   "id": "55bebff6-ea77-43fe-baf2-57773eae5b1a",
   "metadata": {},
   "outputs": [],
   "source": [
    "# Garantir que as séries tenham os mesmos índices para a divisão\n",
    "evadidos_por_estado = contagem_total_por_estado.reindex(contagem_total_por_estado.index, fill_value=0)"
   ]
  },
  {
   "cell_type": "code",
   "execution_count": 79,
   "id": "47809843-519c-483d-b127-97db9e7f0f2d",
   "metadata": {},
   "outputs": [
    {
     "data": {
      "text/plain": [
       "Estado\n",
       " AC    75.000000\n",
       " AM    40.000000\n",
       " AP          NaN\n",
       " BA    37.864078\n",
       " CE    47.058824\n",
       " DF    40.816327\n",
       " ES    31.524548\n",
       " GO    30.952381\n",
       " MA    22.222222\n",
       " MG    33.431208\n",
       " MS    29.166667\n",
       " MT    21.052632\n",
       " PA    33.333333\n",
       " PB    33.333333\n",
       " PE    16.666667\n",
       " PI    50.000000\n",
       " PR    45.000000\n",
       " RJ    32.514092\n",
       " RN    25.000000\n",
       " RO    46.153846\n",
       " RR          NaN\n",
       " RS    36.363636\n",
       " SC    50.000000\n",
       " SE    50.000000\n",
       " SP    34.106963\n",
       " TO    50.000000\n",
       "Name: count, dtype: float64"
      ]
     },
     "execution_count": 79,
     "metadata": {},
     "output_type": "execute_result"
    }
   ],
   "source": [
    "# Calcular a proporção de alunos evadidos por estado em relação ao total de alunos por estado\n",
    "proporcao_por_estado = ( contagem_evadidos_por_estado / contagem_total_por_estado ) * 100\n",
    "proporcao_por_estado"
   ]
  },
  {
   "cell_type": "code",
   "execution_count": 81,
   "id": "8b6617ed-2887-4fd7-af2b-3e47bb6a0938",
   "metadata": {},
   "outputs": [],
   "source": [
    "# Ordenar o DataFrame por proporção\n",
    "proporcao_por_estado = proporcao_por_estado.sort_values(ascending=False)"
   ]
  },
  {
   "cell_type": "code",
   "execution_count": 85,
   "id": "4af5649a-06a7-4a62-badd-3725d8583247",
   "metadata": {},
   "outputs": [
    {
     "name": "stderr",
     "output_type": "stream",
     "text": [
      "posx and posy should be finite values\n",
      "posx and posy should be finite values\n",
      "posx and posy should be finite values\n",
      "posx and posy should be finite values\n"
     ]
    },
    {
     "data": {
      "image/png": "[encoded data removed]",
      "text/plain": [
       "<Figure size 2000x600 with 1 Axes>"
      ]
     },
     "metadata": {},
     "output_type": "display_data"
    }
   ],
   "source": [
    "# Criar um gráfico de barras\n",
    "plt.figure(figsize=(20, 6))\n",
    "bars = proporcao_por_estado.plot(kind='bar')\n",
    "plt.title('Proporção de Alunos Evadidos por Estado')\n",
    "plt.xlabel('Estado')\n",
    "plt.ylabel('Proporção (%)')\n",
    "\n",
    "# Adicionar os números nas barras\n",
    "for i, v in enumerate(proporcao_por_estado):\n",
    "    plt.text(i, v + 0.5, f'{v:.2f}%', ha='center', va='bottom')\n",
    "\n",
    "plt.show()"
   ]
  },
  {
   "cell_type": "code",
   "execution_count": 18,
   "id": "0faae58a-8bbe-4cab-8667-39922e377643",
   "metadata": {},
   "outputs": [
    {
     "data": {
      "image/png": "[encoded data removed]",
      "text/plain": [
       "<Figure size 640x480 with 2 Axes>"
      ]
     },
     "metadata": {},
     "output_type": "display_data"
    }
   ],
   "source": [
    "# Use pivot_table para criar uma tabela agregada\n",
    "heatmap_data = evadidos_por_estado.pivot_table(index='Estado', aggfunc='sum')\n",
    "\n",
    "# Crie o mapa de calor com o Seaborn\n",
    "sns.heatmap(heatmap_data, annot=True, fmt='g', cmap='YlGnBu')\n",
    "\n",
    "# Exiba o mapa de calor\n",
    "plt.show()"
   ]
  },
  {
   "cell_type": "code",
   "execution_count": null,
   "id": "7915859d-1ef8-4b96-b684-597da941ca4d",
   "metadata": {},
   "outputs": [],
   "source": []
  }
 ],
 "metadata": {
  "kernelspec": {
   "display_name": "Python 3 (ipykernel)",
   "language": "python",
   "name": "python3"
  },
  "language_info": {
   "codemirror_mode": {
    "name": "ipython",
    "version": 3
   },
   "file_extension": ".py",
   "mimetype": "text/x-python",
   "name": "python",
   "nbconvert_exporter": "python",
   "pygments_lexer": "ipython3",
   "version": "3.11.1"
  }
 },
 "nbformat": 4,
 "nbformat_minor": 5
}
