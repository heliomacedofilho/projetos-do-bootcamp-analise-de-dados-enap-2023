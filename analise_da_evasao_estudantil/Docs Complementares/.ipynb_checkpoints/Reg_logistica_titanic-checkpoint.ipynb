{
 "cells": [
  {
   "cell_type": "markdown",
   "id": "c12e3ace-c83f-4243-a538-857e69757ae0",
   "metadata": {},
   "source": [
    "# Modelo de Regressão Logística\n",
    "\n",
    "trabalhando com variável dependente binária"
   ]
  },
  {
   "cell_type": "markdown",
   "id": "pleasant-spank",
   "metadata": {},
   "source": [
    "# Introduction"
   ]
  },
  {
   "cell_type": "markdown",
   "id": "described-oakland",
   "metadata": {},
   "source": [
    "In the last class we saw how to do Linear Regression, which **draws a line for us to predict continuous values**! However, when it comes to **discrete/categorical values**, Linear Regression perform poorly, as a simple straight line is not the best to model it. Let's take an example to visualize that"
   ]
  },
  {
   "cell_type": "code",
   "execution_count": 1,
   "id": "plain-footwear",
   "metadata": {},
   "outputs": [
    {
     "data": {
      "text/html": [
       "<div>\n",
       "<style scoped>\n",
       "    .dataframe tbody tr th:only-of-type {\n",
       "        vertical-align: middle;\n",
       "    }\n",
       "\n",
       "    .dataframe tbody tr th {\n",
       "        vertical-align: top;\n",
       "    }\n",
       "\n",
       "    .dataframe thead th {\n",
       "        text-align: right;\n",
       "    }\n",
       "</style>\n",
       "<table border=\"1\" class=\"dataframe\">\n",
       "  <thead>\n",
       "    <tr style=\"text-align: right;\">\n",
       "      <th></th>\n",
       "      <th>survived</th>\n",
       "      <th>pclass</th>\n",
       "      <th>sex</th>\n",
       "      <th>age</th>\n",
       "      <th>sibsp</th>\n",
       "      <th>parch</th>\n",
       "      <th>fare</th>\n",
       "      <th>embarked</th>\n",
       "      <th>class</th>\n",
       "      <th>who</th>\n",
       "      <th>adult_male</th>\n",
       "      <th>deck</th>\n",
       "      <th>embark_town</th>\n",
       "      <th>alive</th>\n",
       "      <th>alone</th>\n",
       "    </tr>\n",
       "  </thead>\n",
       "  <tbody>\n",
       "    <tr>\n",
       "      <th>0</th>\n",
       "      <td>0</td>\n",
       "      <td>3</td>\n",
       "      <td>male</td>\n",
       "      <td>22.0</td>\n",
       "      <td>1</td>\n",
       "      <td>0</td>\n",
       "      <td>7.2500</td>\n",
       "      <td>S</td>\n",
       "      <td>Third</td>\n",
       "      <td>man</td>\n",
       "      <td>True</td>\n",
       "      <td>NaN</td>\n",
       "      <td>Southampton</td>\n",
       "      <td>no</td>\n",
       "      <td>False</td>\n",
       "    </tr>\n",
       "    <tr>\n",
       "      <th>1</th>\n",
       "      <td>1</td>\n",
       "      <td>1</td>\n",
       "      <td>female</td>\n",
       "      <td>38.0</td>\n",
       "      <td>1</td>\n",
       "      <td>0</td>\n",
       "      <td>71.2833</td>\n",
       "      <td>C</td>\n",
       "      <td>First</td>\n",
       "      <td>woman</td>\n",
       "      <td>False</td>\n",
       "      <td>C</td>\n",
       "      <td>Cherbourg</td>\n",
       "      <td>yes</td>\n",
       "      <td>False</td>\n",
       "    </tr>\n",
       "    <tr>\n",
       "      <th>2</th>\n",
       "      <td>1</td>\n",
       "      <td>3</td>\n",
       "      <td>female</td>\n",
       "      <td>26.0</td>\n",
       "      <td>0</td>\n",
       "      <td>0</td>\n",
       "      <td>7.9250</td>\n",
       "      <td>S</td>\n",
       "      <td>Third</td>\n",
       "      <td>woman</td>\n",
       "      <td>False</td>\n",
       "      <td>NaN</td>\n",
       "      <td>Southampton</td>\n",
       "      <td>yes</td>\n",
       "      <td>True</td>\n",
       "    </tr>\n",
       "    <tr>\n",
       "      <th>3</th>\n",
       "      <td>1</td>\n",
       "      <td>1</td>\n",
       "      <td>female</td>\n",
       "      <td>35.0</td>\n",
       "      <td>1</td>\n",
       "      <td>0</td>\n",
       "      <td>53.1000</td>\n",
       "      <td>S</td>\n",
       "      <td>First</td>\n",
       "      <td>woman</td>\n",
       "      <td>False</td>\n",
       "      <td>C</td>\n",
       "      <td>Southampton</td>\n",
       "      <td>yes</td>\n",
       "      <td>False</td>\n",
       "    </tr>\n",
       "    <tr>\n",
       "      <th>4</th>\n",
       "      <td>0</td>\n",
       "      <td>3</td>\n",
       "      <td>male</td>\n",
       "      <td>35.0</td>\n",
       "      <td>0</td>\n",
       "      <td>0</td>\n",
       "      <td>8.0500</td>\n",
       "      <td>S</td>\n",
       "      <td>Third</td>\n",
       "      <td>man</td>\n",
       "      <td>True</td>\n",
       "      <td>NaN</td>\n",
       "      <td>Southampton</td>\n",
       "      <td>no</td>\n",
       "      <td>True</td>\n",
       "    </tr>\n",
       "  </tbody>\n",
       "</table>\n",
       "</div>"
      ],
      "text/plain": [
       "   survived  pclass     sex   age  sibsp  parch     fare embarked  class  \\\n",
       "0         0       3    male  22.0      1      0   7.2500        S  Third   \n",
       "1         1       1  female  38.0      1      0  71.2833        C  First   \n",
       "2         1       3  female  26.0      0      0   7.9250        S  Third   \n",
       "3         1       1  female  35.0      1      0  53.1000        S  First   \n",
       "4         0       3    male  35.0      0      0   8.0500        S  Third   \n",
       "\n",
       "     who  adult_male deck  embark_town alive  alone  \n",
       "0    man        True  NaN  Southampton    no  False  \n",
       "1  woman       False    C    Cherbourg   yes  False  \n",
       "2  woman       False  NaN  Southampton   yes   True  \n",
       "3  woman       False    C  Southampton   yes  False  \n",
       "4    man        True  NaN  Southampton    no   True  "
      ]
     },
     "execution_count": 1,
     "metadata": {},
     "output_type": "execute_result"
    }
   ],
   "source": [
    "import pandas as pd\n",
    "import matplotlib.pyplot as plt\n",
    "import numpy as np\n",
    "import seaborn as sns\n",
    "\n",
    "titanic = sns.load_dataset('titanic') #Aqui, o código carrega um conjunto de dados chamado 'titanic' usando a função load_dataset da biblioteca Seaborn. O conjunto de dados 'titanic' é um conjunto de dados de exemplo incluído no Seaborn que contém informações sobre os passageiros do Titanic, incluindo detalhes como idade, sexo, classe da cabine, etc.\n",
    "titanic.head()"
   ]
  },
  {
   "cell_type": "markdown",
   "id": "b6097fb8-24f1-432a-932a-ec83f2f8e93a",
   "metadata": {},
   "source": [
    "### Nosso objetivo será tentar entender melhor os fatores que determinaram a sobrevivencia da pessoa \n",
    "\n",
    "- survived = 1 = sobrevivente\n",
    "- survived = 0 = não sobrevivente"
   ]
  },
  {
   "cell_type": "markdown",
   "id": "popular-overall",
   "metadata": {},
   "source": [
    "## Trying a simple linear regression (visually)"
   ]
  },
  {
   "cell_type": "code",
   "execution_count": 2,
   "id": "proper-atlas",
   "metadata": {},
   "outputs": [
    {
     "data": {
      "text/plain": [
       "<Axes: xlabel='fare', ylabel='survived'>"
      ]
     },
     "execution_count": 2,
     "metadata": {},
     "output_type": "execute_result"
    },
    {
     "data": {
      "image/png": "[encoded data removed]",
      "text/plain": [
       "<Figure size 640x480 with 1 Axes>"
      ]
     },
     "metadata": {},
     "output_type": "display_data"
    }
   ],
   "source": [
    "sns.scatterplot(x='fare', y='survived', data=titanic)   #fare é a tarifa paga"
   ]
  },
  {
   "cell_type": "code",
   "execution_count": 3,
   "id": "generic-schema",
   "metadata": {},
   "outputs": [
    {
     "data": {
      "text/plain": [
       "<Axes: xlabel='fare', ylabel='survived'>"
      ]
     },
     "execution_count": 3,
     "metadata": {},
     "output_type": "execute_result"
    },
    {
     "data": {
      "image/png": "[encoded data removed]",
      "text/plain": [
       "<Figure size 640x480 with 1 Axes>"
      ]
     },
     "metadata": {},
     "output_type": "display_data"
    }
   ],
   "source": [
    "sns.regplot(x='fare', y='survived', data=titanic)"
   ]
  },
  {
   "cell_type": "code",
   "execution_count": 4,
   "id": "international-accessory",
   "metadata": {},
   "outputs": [
    {
     "data": {
      "text/plain": [
       "Intercept    0.302699\n",
       "fare         0.002520\n",
       "dtype: float64"
      ]
     },
     "execution_count": 4,
     "metadata": {},
     "output_type": "execute_result"
    }
   ],
   "source": [
    "import statsmodels.formula.api as smf\n",
    "\n",
    "model0 = smf.ols(formula=\"survived ~ fare\", data=titanic).fit()\n",
    "model0.params"
   ]
  },
  {
   "cell_type": "markdown",
   "id": "4585e461-b8ed-4f24-b2d8-4494cd1fdeb7",
   "metadata": {},
   "source": [
    "A pessoa teria uns 30 % de chance de sobrevivencia se ela não pagasse nada no tiket?\n",
    "Mas e a parte do grafico que ultrapassa 100%?"
   ]
  },
  {
   "cell_type": "markdown",
   "id": "be87d8b8-c81a-4907-b6e4-5e08187680e5",
   "metadata": {},
   "source": [
    "## Problema: estamos usando um modelo usado para prever variavel continua, para tentar explicar uma variável categorica"
   ]
  },
  {
   "cell_type": "markdown",
   "id": "f89a5645-03a0-49f1-8aa8-4f0f605b8a50",
   "metadata": {},
   "source": [
    "Queremos um modelo que nos traga como resultado, uma analise de probabilidade entre 0 e 1"
   ]
  },
  {
   "cell_type": "markdown",
   "id": "australian-reproduction",
   "metadata": {},
   "source": [
    "Nesse caso, Uma linha reta não seria a melhor opção para nós"
   ]
  },
  {
   "cell_type": "markdown",
   "id": "ignored-jesus",
   "metadata": {},
   "source": [
    "# Regressão Logistica"
   ]
  },
  {
   "cell_type": "markdown",
   "id": "hollow-reunion",
   "metadata": {},
   "source": [
    "## Sigmoid"
   ]
  },
  {
   "cell_type": "markdown",
   "id": "7dae7772-24b1-42c1-8b63-ee4fd27fa755",
   "metadata": {},
   "source": [
    "Vamos querer fazer o fit da melhor função sigmoid (que sempre nos trará algo entre zero e um)"
   ]
  },
  {
   "cell_type": "markdown",
   "id": "divine-meaning",
   "metadata": {},
   "source": [
    "A função sigmoide fornecerá a probabilidade de ocorrência de um evento, também conhecida como:\n",
    "\n",
    "Não usaremos mais MQO para encontrar, mas sim, maxima verossimilhança\n",
    "\n",
    "$$\\frac{1}{1 + e^{-(\\beta_0 + \\beta_1 * X_1)}}$$"
   ]
  },
  {
   "cell_type": "markdown",
   "id": "centered-third",
   "metadata": {},
   "source": [
    "This equation will result in a number between 0 or 1, which we'll refer to the probability of something occurring.\n",
    "<img src=\"https://www.researchgate.net/profile/Tali-Leibovich-Raveh/publication/325868989/figure/fig2/AS:639475206074368@1529474178211/A-Basic-sigmoid-function-with-two-parameters-c1-and-c2-as-commonly-used-for-subitizing.png\" width=\"500\">\n",
    "\n"
   ]
  },
  {
   "cell_type": "markdown",
   "id": "designed-pitch",
   "metadata": {},
   "source": [
    "## Odds (chances)"
   ]
  },
  {
   "cell_type": "markdown",
   "id": "smaller-group",
   "metadata": {},
   "source": [
    "Odds of something occurring, which is basically dividing the probability of it occurring by the probability of not occurring\n",
    "\n",
    "$$\\frac{p}{1-p}$$"
   ]
  },
  {
   "cell_type": "markdown",
   "id": "relevant-peter",
   "metadata": {},
   "source": [
    "## Log Odds (a.k.a Logit)"
   ]
  },
  {
   "cell_type": "markdown",
   "id": "instructional-delaware",
   "metadata": {},
   "source": [
    "The log of the chances.\n",
    "\n",
    "$$ln(\\frac{p}{1-p})$$"
   ]
  },
  {
   "cell_type": "markdown",
   "id": "conscious-appreciation",
   "metadata": {},
   "source": [
    "## Logistic Regression with Statsmodels"
   ]
  },
  {
   "cell_type": "code",
   "execution_count": 8,
   "id": "2077c9f1-20d7-4f18-8efa-2780804000e9",
   "metadata": {},
   "outputs": [
    {
     "data": {
      "text/plain": [
       "Intercept    0.302699\n",
       "fare         0.002520\n",
       "dtype: float64"
      ]
     },
     "execution_count": 8,
     "metadata": {},
     "output_type": "execute_result"
    }
   ],
   "source": [
    "# se fosse regressão linear:\n",
    "import statsmodels.formula.api as smf\n",
    "\n",
    "model2 = smf.ols(formula=\"survived ~ fare\", data=titanic).fit()\n",
    "model2.params"
   ]
  },
  {
   "cell_type": "markdown",
   "id": "middle-summer",
   "metadata": {},
   "source": [
    "### With one independent variable"
   ]
  },
  {
   "cell_type": "markdown",
   "id": "conscious-thompson",
   "metadata": {},
   "source": [
    "Ok! Now lets try to log-reg the survival based on the fare paid"
   ]
  },
  {
   "cell_type": "code",
   "execution_count": 9,
   "id": "municipal-windsor",
   "metadata": {},
   "outputs": [
    {
     "name": "stdout",
     "output_type": "stream",
     "text": [
      "Optimization terminated successfully.\n",
      "         Current function value: 0.627143\n",
      "         Iterations 6\n"
     ]
    },
    {
     "data": {
      "text/plain": [
       "Intercept   -0.941330\n",
       "fare         0.015197\n",
       "dtype: float64"
      ]
     },
     "execution_count": 9,
     "metadata": {},
     "output_type": "execute_result"
    }
   ],
   "source": [
    "model2 = smf.logit(formula=\"survived ~ fare\", data=titanic).fit()\n",
    "model2.params"
   ]
  },
  {
   "cell_type": "markdown",
   "id": "9c3eabdd-8895-41c3-82cf-67d23f0385a2",
   "metadata": {},
   "source": [
    "Como interpretar os parâmetros da reg logística? \n",
    "A regressão logistica nos tras como parametros o log odd (para tirar o log do parametro, usamos a fção exponencial)\n",
    "\n",
    "- para interpretar os parametros como probabilidades, precisamos transforma-los em probabilidade "
   ]
  },
  {
   "cell_type": "markdown",
   "id": "further-deadline",
   "metadata": {},
   "source": [
    "**What is the probability of survival after spending a single dolar on fare?** 🤔"
   ]
  },
  {
   "cell_type": "code",
   "execution_count": 15,
   "id": "expanded-costa",
   "metadata": {},
   "outputs": [
    {
     "name": "stdout",
     "output_type": "stream",
     "text": [
      "Ln Odd of survival per dollar spent on fare:\t\t\t 0.58\n",
      "Odds of survival by spending a single dollar on fare:\t\t 1.78\n",
      "Probability of survival by spending a single dollar on fare:\t 0.6406892073219391\n"
     ]
    }
   ],
   "source": [
    "fare = 100\n",
    "ln_odd  = model2.params[0] + model2.params[1] * fare\n",
    "odd     = np.exp(ln_odd)\n",
    "prob    = odd / (1 + odd)\n",
    "\n",
    "print(f\"Ln Odd of survival per dollar spent on fare:\\t\\t\\t {ln_odd:.2f}\")\n",
    "print(f\"Odds of survival by spending a single dollar on fare:\\t\\t {odd:.2f}\")\n",
    "print(f\"Probability of survival by spending a single dollar on fare:\\t {prob}\")"
   ]
  },
  {
   "cell_type": "markdown",
   "id": "11ef7a38",
   "metadata": {},
   "source": [
    "**Another way of doing this calculation is by using the sigmoid directly 💡**"
   ]
  },
  {
   "cell_type": "code",
   "execution_count": 17,
   "id": "sunrise-australian",
   "metadata": {},
   "outputs": [
    {
     "data": {
      "text/plain": [
       "0.6406892073219392"
      ]
     },
     "execution_count": 17,
     "metadata": {},
     "output_type": "execute_result"
    }
   ],
   "source": [
    "ln_odd = model2.params[0] + model2.params[1] * fare\n",
    "sigmoid = 1 / (1 + np.exp(-ln_odd))\n",
    "sigmoid"
   ]
  },
  {
   "cell_type": "markdown",
   "id": "bda88d0c",
   "metadata": {},
   "source": [
    "**But we'll usually do it like this 😉**"
   ]
  },
  {
   "cell_type": "code",
   "execution_count": 19,
   "id": "foreign-desert",
   "metadata": {},
   "outputs": [
    {
     "data": {
      "text/plain": [
       "0    0.283710\n",
       "1    0.312306\n",
       "2    0.640689\n",
       "dtype: float64"
      ]
     },
     "execution_count": 19,
     "metadata": {},
     "output_type": "execute_result"
    }
   ],
   "source": [
    "model2.predict(pd.DataFrame({'fare': [1, 10, 100]}))"
   ]
  },
  {
   "cell_type": "markdown",
   "id": "individual-portland",
   "metadata": {},
   "source": [
    "### Categorical/Multiple variables"
   ]
  },
  {
   "cell_type": "code",
   "execution_count": 21,
   "id": "centered-gauge",
   "metadata": {},
   "outputs": [
    {
     "data": {
      "text/plain": [
       "array([3, 1, 2])"
      ]
     },
     "execution_count": 21,
     "metadata": {},
     "output_type": "execute_result"
    }
   ],
   "source": [
    "titanic['pclass'].unique()"
   ]
  },
  {
   "cell_type": "code",
   "execution_count": 28,
   "id": "6f32f0a9",
   "metadata": {},
   "outputs": [
    {
     "data": {
      "text/plain": [
       "Intercept             2423.300000\n",
       "C(origin)[T.japan]    -202.072152\n",
       "C(origin)[T.usa]       938.631727\n",
       "dtype: float64"
      ]
     },
     "execution_count": 28,
     "metadata": {},
     "output_type": "execute_result"
    }
   ],
   "source": [
    "mpg = sns.load_dataset('mpg')\n",
    "mpg.head()\n",
    "model_extra = smf.ols(formula='weight ~ C(origin)', data=mpg).fit()\n",
    "model_extra.params"
   ]
  },
  {
   "cell_type": "code",
   "execution_count": 22,
   "id": "incorrect-macedonia",
   "metadata": {},
   "outputs": [
    {
     "name": "stdout",
     "output_type": "stream",
     "text": [
      "Optimization terminated successfully.\n",
      "         Current function value: 0.607805\n",
      "         Iterations 5\n"
     ]
    },
    {
     "data": {
      "text/plain": [
       "Intercept         0.530628\n",
       "C(pclass)[T.2]   -0.639431\n",
       "C(pclass)[T.3]   -1.670399\n",
       "dtype: float64"
      ]
     },
     "execution_count": 22,
     "metadata": {},
     "output_type": "execute_result"
    }
   ],
   "source": [
    "model3 = smf.logit(formula='survived ~ C(pclass)', data=titanic).fit()\n",
    "model3.params"
   ]
  },
  {
   "cell_type": "code",
   "execution_count": 29,
   "id": "designing-salem",
   "metadata": {},
   "outputs": [
    {
     "name": "stdout",
     "output_type": "stream",
     "text": [
      "Optimization terminated successfully.\n",
      "         Current function value: 0.602028\n",
      "         Iterations 6\n"
     ]
    },
    {
     "data": {
      "text/plain": [
       "Intercept        -0.005520\n",
       "C(pclass)[T.2]   -0.246759\n",
       "C(pclass)[T.3]   -1.230826\n",
       "fare              0.006939\n",
       "dtype: float64"
      ]
     },
     "execution_count": 29,
     "metadata": {},
     "output_type": "execute_result"
    }
   ],
   "source": [
    "model4 = smf.logit(formula='survived ~ fare + C(pclass)', data=titanic).fit()\n",
    "model4.params"
   ]
  },
  {
   "cell_type": "markdown",
   "id": "owned-granny",
   "metadata": {},
   "source": [
    "## Evaluating our performance"
   ]
  },
  {
   "cell_type": "code",
   "execution_count": 30,
   "id": "beneficial-works",
   "metadata": {},
   "outputs": [
    {
     "data": {
      "text/html": [
       "<table class=\"simpletable\">\n",
       "<caption>Logit Regression Results</caption>\n",
       "<tr>\n",
       "  <th>Dep. Variable:</th>       <td>survived</td>     <th>  No. Observations:  </th>  <td>   891</td>  \n",
       "</tr>\n",
       "<tr>\n",
       "  <th>Model:</th>                 <td>Logit</td>      <th>  Df Residuals:      </th>  <td>   887</td>  \n",
       "</tr>\n",
       "<tr>\n",
       "  <th>Method:</th>                 <td>MLE</td>       <th>  Df Model:          </th>  <td>     3</td>  \n",
       "</tr>\n",
       "<tr>\n",
       "  <th>Date:</th>            <td>Fri, 14 Oct 2022</td> <th>  Pseudo R-squ.:     </th>  <td>0.09593</td> \n",
       "</tr>\n",
       "<tr>\n",
       "  <th>Time:</th>                <td>10:10:14</td>     <th>  Log-Likelihood:    </th> <td> -536.41</td> \n",
       "</tr>\n",
       "<tr>\n",
       "  <th>converged:</th>             <td>True</td>       <th>  LL-Null:           </th> <td> -593.33</td> \n",
       "</tr>\n",
       "<tr>\n",
       "  <th>Covariance Type:</th>     <td>nonrobust</td>    <th>  LLR p-value:       </th> <td>1.635e-24</td>\n",
       "</tr>\n",
       "</table>\n",
       "<table class=\"simpletable\">\n",
       "<tr>\n",
       "         <td></td>           <th>coef</th>     <th>std err</th>      <th>z</th>      <th>P>|z|</th>  <th>[0.025</th>    <th>0.975]</th>  \n",
       "</tr>\n",
       "<tr>\n",
       "  <th>Intercept</th>      <td>   -0.0055</td> <td>    0.225</td> <td>   -0.025</td> <td> 0.980</td> <td>   -0.447</td> <td>    0.435</td>\n",
       "</tr>\n",
       "<tr>\n",
       "  <th>C(pclass)[T.2]</th> <td>   -0.2468</td> <td>    0.240</td> <td>   -1.029</td> <td> 0.304</td> <td>   -0.717</td> <td>    0.223</td>\n",
       "</tr>\n",
       "<tr>\n",
       "  <th>C(pclass)[T.3]</th> <td>   -1.2308</td> <td>    0.226</td> <td>   -5.453</td> <td> 0.000</td> <td>   -1.673</td> <td>   -0.788</td>\n",
       "</tr>\n",
       "<tr>\n",
       "  <th>fare</th>           <td>    0.0069</td> <td>    0.002</td> <td>    2.838</td> <td> 0.005</td> <td>    0.002</td> <td>    0.012</td>\n",
       "</tr>\n",
       "</table>"
      ],
      "text/plain": [
       "<class 'statsmodels.iolib.summary.Summary'>\n",
       "\"\"\"\n",
       "                           Logit Regression Results                           \n",
       "==============================================================================\n",
       "Dep. Variable:               survived   No. Observations:                  891\n",
       "Model:                          Logit   Df Residuals:                      887\n",
       "Method:                           MLE   Df Model:                            3\n",
       "Date:                Fri, 14 Oct 2022   Pseudo R-squ.:                 0.09593\n",
       "Time:                        10:10:14   Log-Likelihood:                -536.41\n",
       "converged:                       True   LL-Null:                       -593.33\n",
       "Covariance Type:            nonrobust   LLR p-value:                 1.635e-24\n",
       "==================================================================================\n",
       "                     coef    std err          z      P>|z|      [0.025      0.975]\n",
       "----------------------------------------------------------------------------------\n",
       "Intercept         -0.0055      0.225     -0.025      0.980      -0.447       0.435\n",
       "C(pclass)[T.2]    -0.2468      0.240     -1.029      0.304      -0.717       0.223\n",
       "C(pclass)[T.3]    -1.2308      0.226     -5.453      0.000      -1.673      -0.788\n",
       "fare               0.0069      0.002      2.838      0.005       0.002       0.012\n",
       "==================================================================================\n",
       "\"\"\""
      ]
     },
     "execution_count": 30,
     "metadata": {},
     "output_type": "execute_result"
    }
   ],
   "source": [
    "model4.summary()"
   ]
  },
  {
   "cell_type": "markdown",
   "id": "synthetic-perspective",
   "metadata": {},
   "source": [
    "### Likelihood"
   ]
  },
  {
   "cell_type": "markdown",
   "id": "veterinary-source",
   "metadata": {},
   "source": [
    "To understand Likelihood, let's start with an experiment: suppose we got a **rigged** coin, with 60% probability of landing heads. What is the probability that, after tossing it 3 times, we end up having head/tails/head?\n"
   ]
  },
  {
   "cell_type": "code",
   "execution_count": 31,
   "id": "scenic-humor",
   "metadata": {},
   "outputs": [
    {
     "data": {
      "text/plain": [
       "0.144"
      ]
     },
     "execution_count": 31,
     "metadata": {},
     "output_type": "execute_result"
    }
   ],
   "source": [
    "# suppose that heads == 1 and tails == 0\n",
    "p = 0.6\n",
    "\n",
    "p*(1 - p)*p"
   ]
  },
  {
   "cell_type": "markdown",
   "id": "stone-ireland",
   "metadata": {},
   "source": [
    "When predicting the probability of several samples, each sample will end up having a different probability (instead of all having the same 0.6, like the coin example above). Even so, we can check how well we did by **multiplying those probabilities** applying the following rules:\n",
    "- If the event occurred (`y_original == True | 1`), we multiply the resulting probability\n",
    "\n",
    "- If the event didn't occurred (`y_original == False | 0`), we multiply (1 - the resulting probability)\n",
    "\n",
    "\n",
    "So if we have\n",
    "$$y_{original} = [1, 1, 0, 1]$$\n",
    "$$probabilities = [0.9, 0.8, 0.2, 0.3]$$\n",
    "\n",
    "Our likelihood would be\n",
    "$$L(\\beta) = 0.9 * 0.8 * (1 - 0.2) * 0.3 = 0.1728$$\n",
    "\n",
    "Likelihoods range from 0 (awful) to 1 (perfect). And are very sensitive to outliers!!"
   ]
  },
  {
   "cell_type": "markdown",
   "id": "joined-worthy",
   "metadata": {},
   "source": [
    "# Multicolinearity"
   ]
  },
  {
   "cell_type": "code",
   "execution_count": 33,
   "id": "cultural-hours",
   "metadata": {},
   "outputs": [
    {
     "data": {
      "text/html": [
       "<div>\n",
       "<style scoped>\n",
       "    .dataframe tbody tr th:only-of-type {\n",
       "        vertical-align: middle;\n",
       "    }\n",
       "\n",
       "    .dataframe tbody tr th {\n",
       "        vertical-align: top;\n",
       "    }\n",
       "\n",
       "    .dataframe thead th {\n",
       "        text-align: right;\n",
       "    }\n",
       "</style>\n",
       "<table border=\"1\" class=\"dataframe\">\n",
       "  <thead>\n",
       "    <tr style=\"text-align: right;\">\n",
       "      <th></th>\n",
       "      <th>mpg</th>\n",
       "      <th>cylinders</th>\n",
       "      <th>horsepower</th>\n",
       "      <th>weight</th>\n",
       "      <th>acceleration</th>\n",
       "      <th>model_year</th>\n",
       "    </tr>\n",
       "  </thead>\n",
       "  <tbody>\n",
       "    <tr>\n",
       "      <th>0</th>\n",
       "      <td>18.0</td>\n",
       "      <td>8</td>\n",
       "      <td>130.0</td>\n",
       "      <td>3504</td>\n",
       "      <td>12.0</td>\n",
       "      <td>70</td>\n",
       "    </tr>\n",
       "    <tr>\n",
       "      <th>1</th>\n",
       "      <td>15.0</td>\n",
       "      <td>8</td>\n",
       "      <td>165.0</td>\n",
       "      <td>3693</td>\n",
       "      <td>11.5</td>\n",
       "      <td>70</td>\n",
       "    </tr>\n",
       "    <tr>\n",
       "      <th>2</th>\n",
       "      <td>18.0</td>\n",
       "      <td>8</td>\n",
       "      <td>150.0</td>\n",
       "      <td>3436</td>\n",
       "      <td>11.0</td>\n",
       "      <td>70</td>\n",
       "    </tr>\n",
       "    <tr>\n",
       "      <th>3</th>\n",
       "      <td>16.0</td>\n",
       "      <td>8</td>\n",
       "      <td>150.0</td>\n",
       "      <td>3433</td>\n",
       "      <td>12.0</td>\n",
       "      <td>70</td>\n",
       "    </tr>\n",
       "    <tr>\n",
       "      <th>4</th>\n",
       "      <td>17.0</td>\n",
       "      <td>8</td>\n",
       "      <td>140.0</td>\n",
       "      <td>3449</td>\n",
       "      <td>10.5</td>\n",
       "      <td>70</td>\n",
       "    </tr>\n",
       "  </tbody>\n",
       "</table>\n",
       "</div>"
      ],
      "text/plain": [
       "    mpg  cylinders  horsepower  weight  acceleration  model_year\n",
       "0  18.0          8       130.0    3504          12.0          70\n",
       "1  15.0          8       165.0    3693          11.5          70\n",
       "2  18.0          8       150.0    3436          11.0          70\n",
       "3  16.0          8       150.0    3433          12.0          70\n",
       "4  17.0          8       140.0    3449          10.5          70"
      ]
     },
     "execution_count": 33,
     "metadata": {},
     "output_type": "execute_result"
    }
   ],
   "source": [
    "mpg = sns.load_dataset('mpg').dropna().drop(columns=['origin', 'name', 'displacement'])\n",
    "mpg.head()"
   ]
  },
  {
   "cell_type": "markdown",
   "id": "official-verse",
   "metadata": {},
   "source": [
    "## Strict linear combination"
   ]
  },
  {
   "cell_type": "markdown",
   "id": "animated-louis",
   "metadata": {},
   "source": [
    "When a value can be calculated from 1+ other features in the table"
   ]
  },
  {
   "cell_type": "code",
   "execution_count": 34,
   "id": "graduate-saint",
   "metadata": {},
   "outputs": [
    {
     "data": {
      "text/html": [
       "<div>\n",
       "<style scoped>\n",
       "    .dataframe tbody tr th:only-of-type {\n",
       "        vertical-align: middle;\n",
       "    }\n",
       "\n",
       "    .dataframe tbody tr th {\n",
       "        vertical-align: top;\n",
       "    }\n",
       "\n",
       "    .dataframe thead th {\n",
       "        text-align: right;\n",
       "    }\n",
       "</style>\n",
       "<table border=\"1\" class=\"dataframe\">\n",
       "  <thead>\n",
       "    <tr style=\"text-align: right;\">\n",
       "      <th></th>\n",
       "      <th>mpg</th>\n",
       "      <th>cylinders</th>\n",
       "      <th>horsepower</th>\n",
       "      <th>weight</th>\n",
       "      <th>acceleration</th>\n",
       "      <th>model_year</th>\n",
       "      <th>lin_comb</th>\n",
       "    </tr>\n",
       "  </thead>\n",
       "  <tbody>\n",
       "    <tr>\n",
       "      <th>0</th>\n",
       "      <td>18.0</td>\n",
       "      <td>8</td>\n",
       "      <td>130.0</td>\n",
       "      <td>3504</td>\n",
       "      <td>12.0</td>\n",
       "      <td>70</td>\n",
       "      <td>41.0</td>\n",
       "    </tr>\n",
       "    <tr>\n",
       "      <th>1</th>\n",
       "      <td>15.0</td>\n",
       "      <td>8</td>\n",
       "      <td>165.0</td>\n",
       "      <td>3693</td>\n",
       "      <td>11.5</td>\n",
       "      <td>70</td>\n",
       "      <td>30.5</td>\n",
       "    </tr>\n",
       "    <tr>\n",
       "      <th>2</th>\n",
       "      <td>18.0</td>\n",
       "      <td>8</td>\n",
       "      <td>150.0</td>\n",
       "      <td>3436</td>\n",
       "      <td>11.0</td>\n",
       "      <td>70</td>\n",
       "      <td>35.0</td>\n",
       "    </tr>\n",
       "  </tbody>\n",
       "</table>\n",
       "</div>"
      ],
      "text/plain": [
       "    mpg  cylinders  horsepower  weight  acceleration  model_year  lin_comb\n",
       "0  18.0          8       130.0    3504          12.0          70      41.0\n",
       "1  15.0          8       165.0    3693          11.5          70      30.5\n",
       "2  18.0          8       150.0    3436          11.0          70      35.0"
      ]
     },
     "execution_count": 34,
     "metadata": {},
     "output_type": "execute_result"
    }
   ],
   "source": [
    "mpg['lin_comb'] = 10 * mpg['cylinders'] - 0.3 * mpg['horsepower']\n",
    "mpg.head(3)"
   ]
  },
  {
   "cell_type": "markdown",
   "id": "consecutive-medicaid",
   "metadata": {},
   "source": [
    "When printing the correlation matrix, however, we can't see it 😨"
   ]
  },
  {
   "cell_type": "code",
   "execution_count": 36,
   "id": "beneficial-syndicate",
   "metadata": {
    "scrolled": true
   },
   "outputs": [
    {
     "data": {
      "text/html": [
       "<style type=\"text/css\">\n",
       "#T_cd0e5_row0_col0, #T_cd0e5_row1_col1, #T_cd0e5_row2_col2, #T_cd0e5_row3_col3, #T_cd0e5_row4_col4, #T_cd0e5_row5_col5, #T_cd0e5_row6_col6 {\n",
       "  background-color: #b40426;\n",
       "  color: #f1f1f1;\n",
       "}\n",
       "#T_cd0e5_row0_col1, #T_cd0e5_row0_col2, #T_cd0e5_row0_col3, #T_cd0e5_row0_col6, #T_cd0e5_row2_col4, #T_cd0e5_row2_col5, #T_cd0e5_row3_col0 {\n",
       "  background-color: #3b4cc0;\n",
       "  color: #f1f1f1;\n",
       "}\n",
       "#T_cd0e5_row0_col4 {\n",
       "  background-color: #f7ba9f;\n",
       "  color: #000000;\n",
       "}\n",
       "#T_cd0e5_row0_col5 {\n",
       "  background-color: #f7aa8c;\n",
       "  color: #000000;\n",
       "}\n",
       "#T_cd0e5_row1_col0, #T_cd0e5_row2_col0 {\n",
       "  background-color: #4358cb;\n",
       "  color: #f1f1f1;\n",
       "}\n",
       "#T_cd0e5_row1_col2, #T_cd0e5_row2_col1 {\n",
       "  background-color: #d24b40;\n",
       "  color: #f1f1f1;\n",
       "}\n",
       "#T_cd0e5_row1_col3, #T_cd0e5_row3_col1 {\n",
       "  background-color: #c83836;\n",
       "  color: #f1f1f1;\n",
       "}\n",
       "#T_cd0e5_row1_col4 {\n",
       "  background-color: #5b7ae5;\n",
       "  color: #f1f1f1;\n",
       "}\n",
       "#T_cd0e5_row1_col5, #T_cd0e5_row4_col2 {\n",
       "  background-color: #4961d2;\n",
       "  color: #f1f1f1;\n",
       "}\n",
       "#T_cd0e5_row1_col6 {\n",
       "  background-color: #e7745b;\n",
       "  color: #f1f1f1;\n",
       "}\n",
       "#T_cd0e5_row2_col3 {\n",
       "  background-color: #cd423b;\n",
       "  color: #f1f1f1;\n",
       "}\n",
       "#T_cd0e5_row2_col6 {\n",
       "  background-color: #e0dbd8;\n",
       "  color: #000000;\n",
       "}\n",
       "#T_cd0e5_row3_col2 {\n",
       "  background-color: #cf453c;\n",
       "  color: #f1f1f1;\n",
       "}\n",
       "#T_cd0e5_row3_col4 {\n",
       "  background-color: #6e90f2;\n",
       "  color: #f1f1f1;\n",
       "}\n",
       "#T_cd0e5_row3_col5 {\n",
       "  background-color: #516ddb;\n",
       "  color: #f1f1f1;\n",
       "}\n",
       "#T_cd0e5_row3_col6 {\n",
       "  background-color: #f7af91;\n",
       "  color: #000000;\n",
       "}\n",
       "#T_cd0e5_row4_col0 {\n",
       "  background-color: #f7b194;\n",
       "  color: #000000;\n",
       "}\n",
       "#T_cd0e5_row4_col1 {\n",
       "  background-color: #6b8df0;\n",
       "  color: #f1f1f1;\n",
       "}\n",
       "#T_cd0e5_row4_col3, #T_cd0e5_row5_col6 {\n",
       "  background-color: #85a8fc;\n",
       "  color: #f1f1f1;\n",
       "}\n",
       "#T_cd0e5_row4_col5 {\n",
       "  background-color: #dcdddd;\n",
       "  color: #000000;\n",
       "}\n",
       "#T_cd0e5_row4_col6 {\n",
       "  background-color: #90b2fe;\n",
       "  color: #000000;\n",
       "}\n",
       "#T_cd0e5_row5_col0 {\n",
       "  background-color: #f29072;\n",
       "  color: #f1f1f1;\n",
       "}\n",
       "#T_cd0e5_row5_col1 {\n",
       "  background-color: #8badfd;\n",
       "  color: #000000;\n",
       "}\n",
       "#T_cd0e5_row5_col2 {\n",
       "  background-color: #7da0f9;\n",
       "  color: #f1f1f1;\n",
       "}\n",
       "#T_cd0e5_row5_col3 {\n",
       "  background-color: #9abbff;\n",
       "  color: #000000;\n",
       "}\n",
       "#T_cd0e5_row5_col4 {\n",
       "  background-color: #efcfbf;\n",
       "  color: #000000;\n",
       "}\n",
       "#T_cd0e5_row6_col0, #T_cd0e5_row6_col5 {\n",
       "  background-color: #80a3fa;\n",
       "  color: #f1f1f1;\n",
       "}\n",
       "#T_cd0e5_row6_col1 {\n",
       "  background-color: #e0654f;\n",
       "  color: #f1f1f1;\n",
       "}\n",
       "#T_cd0e5_row6_col2 {\n",
       "  background-color: #f2cab5;\n",
       "  color: #000000;\n",
       "}\n",
       "#T_cd0e5_row6_col3 {\n",
       "  background-color: #f39778;\n",
       "  color: #000000;\n",
       "}\n",
       "#T_cd0e5_row6_col4 {\n",
       "  background-color: #b6cefa;\n",
       "  color: #000000;\n",
       "}\n",
       "</style>\n",
       "<table id=\"T_cd0e5_\">\n",
       "  <thead>\n",
       "    <tr>\n",
       "      <th class=\"blank level0\" >&nbsp;</th>\n",
       "      <th class=\"col_heading level0 col0\" >mpg</th>\n",
       "      <th class=\"col_heading level0 col1\" >cylinders</th>\n",
       "      <th class=\"col_heading level0 col2\" >horsepower</th>\n",
       "      <th class=\"col_heading level0 col3\" >weight</th>\n",
       "      <th class=\"col_heading level0 col4\" >acceleration</th>\n",
       "      <th class=\"col_heading level0 col5\" >model_year</th>\n",
       "      <th class=\"col_heading level0 col6\" >lin_comb</th>\n",
       "    </tr>\n",
       "  </thead>\n",
       "  <tbody>\n",
       "    <tr>\n",
       "      <th id=\"T_cd0e5_level0_row0\" class=\"row_heading level0 row0\" >mpg</th>\n",
       "      <td id=\"T_cd0e5_row0_col0\" class=\"data row0 col0\" >1.000000</td>\n",
       "      <td id=\"T_cd0e5_row0_col1\" class=\"data row0 col1\" >-0.777618</td>\n",
       "      <td id=\"T_cd0e5_row0_col2\" class=\"data row0 col2\" >-0.778427</td>\n",
       "      <td id=\"T_cd0e5_row0_col3\" class=\"data row0 col3\" >-0.832244</td>\n",
       "      <td id=\"T_cd0e5_row0_col4\" class=\"data row0 col4\" >0.423329</td>\n",
       "      <td id=\"T_cd0e5_row0_col5\" class=\"data row0 col5\" >0.580541</td>\n",
       "      <td id=\"T_cd0e5_row0_col6\" class=\"data row0 col6\" >-0.445237</td>\n",
       "    </tr>\n",
       "    <tr>\n",
       "      <th id=\"T_cd0e5_level0_row1\" class=\"row_heading level0 row1\" >cylinders</th>\n",
       "      <td id=\"T_cd0e5_row1_col0\" class=\"data row1 col0\" >-0.777618</td>\n",
       "      <td id=\"T_cd0e5_row1_col1\" class=\"data row1 col1\" >1.000000</td>\n",
       "      <td id=\"T_cd0e5_row1_col2\" class=\"data row1 col2\" >0.842983</td>\n",
       "      <td id=\"T_cd0e5_row1_col3\" class=\"data row1 col3\" >0.897527</td>\n",
       "      <td id=\"T_cd0e5_row1_col4\" class=\"data row1 col4\" >-0.504683</td>\n",
       "      <td id=\"T_cd0e5_row1_col5\" class=\"data row1 col5\" >-0.345647</td>\n",
       "      <td id=\"T_cd0e5_row1_col6\" class=\"data row1 col6\" >0.762622</td>\n",
       "    </tr>\n",
       "    <tr>\n",
       "      <th id=\"T_cd0e5_level0_row2\" class=\"row_heading level0 row2\" >horsepower</th>\n",
       "      <td id=\"T_cd0e5_row2_col0\" class=\"data row2 col0\" >-0.778427</td>\n",
       "      <td id=\"T_cd0e5_row2_col1\" class=\"data row2 col1\" >0.842983</td>\n",
       "      <td id=\"T_cd0e5_row2_col2\" class=\"data row2 col2\" >1.000000</td>\n",
       "      <td id=\"T_cd0e5_row2_col3\" class=\"data row2 col3\" >0.864538</td>\n",
       "      <td id=\"T_cd0e5_row2_col4\" class=\"data row2 col4\" >-0.689196</td>\n",
       "      <td id=\"T_cd0e5_row2_col5\" class=\"data row2 col5\" >-0.416361</td>\n",
       "      <td id=\"T_cd0e5_row2_col6\" class=\"data row2 col6\" >0.294914</td>\n",
       "    </tr>\n",
       "    <tr>\n",
       "      <th id=\"T_cd0e5_level0_row3\" class=\"row_heading level0 row3\" >weight</th>\n",
       "      <td id=\"T_cd0e5_row3_col0\" class=\"data row3 col0\" >-0.832244</td>\n",
       "      <td id=\"T_cd0e5_row3_col1\" class=\"data row3 col1\" >0.897527</td>\n",
       "      <td id=\"T_cd0e5_row3_col2\" class=\"data row3 col2\" >0.864538</td>\n",
       "      <td id=\"T_cd0e5_row3_col3\" class=\"data row3 col3\" >1.000000</td>\n",
       "      <td id=\"T_cd0e5_row3_col4\" class=\"data row3 col4\" >-0.416839</td>\n",
       "      <td id=\"T_cd0e5_row3_col5\" class=\"data row3 col5\" >-0.309120</td>\n",
       "      <td id=\"T_cd0e5_row3_col6\" class=\"data row3 col6\" >0.554685</td>\n",
       "    </tr>\n",
       "    <tr>\n",
       "      <th id=\"T_cd0e5_level0_row4\" class=\"row_heading level0 row4\" >acceleration</th>\n",
       "      <td id=\"T_cd0e5_row4_col0\" class=\"data row4 col0\" >0.423329</td>\n",
       "      <td id=\"T_cd0e5_row4_col1\" class=\"data row4 col1\" >-0.504683</td>\n",
       "      <td id=\"T_cd0e5_row4_col2\" class=\"data row4 col2\" >-0.689196</td>\n",
       "      <td id=\"T_cd0e5_row4_col3\" class=\"data row4 col3\" >-0.416839</td>\n",
       "      <td id=\"T_cd0e5_row4_col4\" class=\"data row4 col4\" >1.000000</td>\n",
       "      <td id=\"T_cd0e5_row4_col5\" class=\"data row4 col5\" >0.290316</td>\n",
       "      <td id=\"T_cd0e5_row4_col6\" class=\"data row4 col6\" >-0.067730</td>\n",
       "    </tr>\n",
       "    <tr>\n",
       "      <th id=\"T_cd0e5_level0_row5\" class=\"row_heading level0 row5\" >model_year</th>\n",
       "      <td id=\"T_cd0e5_row5_col0\" class=\"data row5 col0\" >0.580541</td>\n",
       "      <td id=\"T_cd0e5_row5_col1\" class=\"data row5 col1\" >-0.345647</td>\n",
       "      <td id=\"T_cd0e5_row5_col2\" class=\"data row5 col2\" >-0.416361</td>\n",
       "      <td id=\"T_cd0e5_row5_col3\" class=\"data row5 col3\" >-0.309120</td>\n",
       "      <td id=\"T_cd0e5_row5_col4\" class=\"data row5 col4\" >0.290316</td>\n",
       "      <td id=\"T_cd0e5_row5_col5\" class=\"data row5 col5\" >1.000000</td>\n",
       "      <td id=\"T_cd0e5_row5_col6\" class=\"data row5 col6\" >-0.113309</td>\n",
       "    </tr>\n",
       "    <tr>\n",
       "      <th id=\"T_cd0e5_level0_row6\" class=\"row_heading level0 row6\" >lin_comb</th>\n",
       "      <td id=\"T_cd0e5_row6_col0\" class=\"data row6 col0\" >-0.445237</td>\n",
       "      <td id=\"T_cd0e5_row6_col1\" class=\"data row6 col1\" >0.762622</td>\n",
       "      <td id=\"T_cd0e5_row6_col2\" class=\"data row6 col2\" >0.294914</td>\n",
       "      <td id=\"T_cd0e5_row6_col3\" class=\"data row6 col3\" >0.554685</td>\n",
       "      <td id=\"T_cd0e5_row6_col4\" class=\"data row6 col4\" >-0.067730</td>\n",
       "      <td id=\"T_cd0e5_row6_col5\" class=\"data row6 col5\" >-0.113309</td>\n",
       "      <td id=\"T_cd0e5_row6_col6\" class=\"data row6 col6\" >1.000000</td>\n",
       "    </tr>\n",
       "  </tbody>\n",
       "</table>\n"
      ],
      "text/plain": [
       "<pandas.io.formats.style.Styler at 0x7fd9e54017c0>"
      ]
     },
     "execution_count": 36,
     "metadata": {},
     "output_type": "execute_result"
    }
   ],
   "source": [
    "mpg.corr().style.background_gradient(cmap='coolwarm')"
   ]
  },
  {
   "cell_type": "markdown",
   "id": "heard-adolescent",
   "metadata": {},
   "source": [
    "To find out if you have strict multicolinearity in your df, all you have to do is print its **matrix rank**"
   ]
  },
  {
   "cell_type": "code",
   "execution_count": 37,
   "id": "extraordinary-store",
   "metadata": {},
   "outputs": [
    {
     "name": "stdout",
     "output_type": "stream",
     "text": [
      "7\n",
      "6\n"
     ]
    }
   ],
   "source": [
    "print(mpg.shape[1])\n",
    "print(np.linalg.matrix_rank(mpg))"
   ]
  },
  {
   "cell_type": "markdown",
   "id": "western-infrastructure",
   "metadata": {},
   "source": [
    "Why be concerned about multicolinearity, though? 🤔"
   ]
  },
  {
   "cell_type": "code",
   "execution_count": 41,
   "id": "colonial-target",
   "metadata": {},
   "outputs": [
    {
     "data": {
      "text/plain": [
       "Intercept     529.170183\n",
       "horsepower     16.940487\n",
       "lin_comb       29.026389\n",
       "dtype: float64"
      ]
     },
     "execution_count": 41,
     "metadata": {},
     "output_type": "execute_result"
    }
   ],
   "source": [
    "smf.ols(formula='weight ~ horsepower + cylinders + lin_comb', data=mpg).fit().params"
   ]
  },
  {
   "cell_type": "code",
   "execution_count": 40,
   "id": "competitive-twelve",
   "metadata": {},
   "outputs": [
    {
     "data": {
      "text/plain": [
       "Intercept       524.838981\n",
       "horsepower     -325.000813\n",
       "cylinders     11398.211049\n",
       "lin_comb      -1110.583430\n",
       "dtype: float64"
      ]
     },
     "execution_count": 40,
     "metadata": {},
     "output_type": "execute_result"
    }
   ],
   "source": [
    "mpg.loc[0,'horsepower'] = mpg.loc[0,'horsepower']*1.01\n",
    "smf.ols(formula='weight ~ horsepower + cylinders + lin_comb', data=mpg).fit().params"
   ]
  },
  {
   "cell_type": "code",
   "execution_count": 45,
   "id": "tribal-baghdad",
   "metadata": {},
   "outputs": [
    {
     "data": {
      "text/html": [
       "<table class=\"simpletable\">\n",
       "<caption>OLS Regression Results</caption>\n",
       "<tr>\n",
       "  <th>Dep. Variable:</th>         <td>weight</td>      <th>  R-squared:         </th> <td>   0.846</td> \n",
       "</tr>\n",
       "<tr>\n",
       "  <th>Model:</th>                   <td>OLS</td>       <th>  Adj. R-squared:    </th> <td>   0.845</td> \n",
       "</tr>\n",
       "<tr>\n",
       "  <th>Method:</th>             <td>Least Squares</td>  <th>  F-statistic:       </th> <td>   712.9</td> \n",
       "</tr>\n",
       "<tr>\n",
       "  <th>Date:</th>             <td>Fri, 14 Oct 2022</td> <th>  Prob (F-statistic):</th> <td>1.99e-157</td>\n",
       "</tr>\n",
       "<tr>\n",
       "  <th>Time:</th>                 <td>10:42:36</td>     <th>  Log-Likelihood:    </th> <td> -2832.3</td> \n",
       "</tr>\n",
       "<tr>\n",
       "  <th>No. Observations:</th>      <td>   392</td>      <th>  AIC:               </th> <td>   5673.</td> \n",
       "</tr>\n",
       "<tr>\n",
       "  <th>Df Residuals:</th>          <td>   388</td>      <th>  BIC:               </th> <td>   5689.</td> \n",
       "</tr>\n",
       "<tr>\n",
       "  <th>Df Model:</th>              <td>     3</td>      <th>                     </th>     <td> </td>    \n",
       "</tr>\n",
       "<tr>\n",
       "  <th>Covariance Type:</th>      <td>nonrobust</td>    <th>                     </th>     <td> </td>    \n",
       "</tr>\n",
       "</table>\n",
       "<table class=\"simpletable\">\n",
       "<tr>\n",
       "       <td></td>         <th>coef</th>     <th>std err</th>      <th>t</th>      <th>P>|t|</th>  <th>[0.025</th>    <th>0.975]</th>  \n",
       "</tr>\n",
       "<tr>\n",
       "  <th>Intercept</th>  <td>  524.8390</td> <td>   56.865</td> <td>    9.230</td> <td> 0.000</td> <td>  413.038</td> <td>  636.640</td>\n",
       "</tr>\n",
       "<tr>\n",
       "  <th>horsepower</th> <td> -325.0008</td> <td>  258.480</td> <td>   -1.257</td> <td> 0.209</td> <td> -833.198</td> <td>  183.196</td>\n",
       "</tr>\n",
       "<tr>\n",
       "  <th>cylinders</th>  <td>  1.14e+04</td> <td> 8616.113</td> <td>    1.323</td> <td> 0.187</td> <td>-5541.902</td> <td> 2.83e+04</td>\n",
       "</tr>\n",
       "<tr>\n",
       "  <th>lin_comb</th>   <td>-1110.5834</td> <td>  861.454</td> <td>   -1.289</td> <td> 0.198</td> <td>-2804.285</td> <td>  583.118</td>\n",
       "</tr>\n",
       "</table>\n",
       "<table class=\"simpletable\">\n",
       "<tr>\n",
       "  <th>Omnibus:</th>       <td>12.222</td> <th>  Durbin-Watson:     </th> <td>   1.199</td>\n",
       "</tr>\n",
       "<tr>\n",
       "  <th>Prob(Omnibus):</th> <td> 0.002</td> <th>  Jarque-Bera (JB):  </th> <td>  24.236</td>\n",
       "</tr>\n",
       "<tr>\n",
       "  <th>Skew:</th>          <td> 0.069</td> <th>  Prob(JB):          </th> <td>5.46e-06</td>\n",
       "</tr>\n",
       "<tr>\n",
       "  <th>Kurtosis:</th>      <td> 4.210</td> <th>  Cond. No.          </th> <td>5.84e+04</td>\n",
       "</tr>\n",
       "</table><br/><br/>Notes:<br/>[1] Standard Errors assume that the covariance matrix of the errors is correctly specified.<br/>[2] The condition number is large, 5.84e+04. This might indicate that there are<br/>strong multicollinearity or other numerical problems."
      ],
      "text/plain": [
       "<class 'statsmodels.iolib.summary.Summary'>\n",
       "\"\"\"\n",
       "                            OLS Regression Results                            \n",
       "==============================================================================\n",
       "Dep. Variable:                 weight   R-squared:                       0.846\n",
       "Model:                            OLS   Adj. R-squared:                  0.845\n",
       "Method:                 Least Squares   F-statistic:                     712.9\n",
       "Date:                Fri, 14 Oct 2022   Prob (F-statistic):          1.99e-157\n",
       "Time:                        10:42:36   Log-Likelihood:                -2832.3\n",
       "No. Observations:                 392   AIC:                             5673.\n",
       "Df Residuals:                     388   BIC:                             5689.\n",
       "Df Model:                           3                                         \n",
       "Covariance Type:            nonrobust                                         \n",
       "==============================================================================\n",
       "                 coef    std err          t      P>|t|      [0.025      0.975]\n",
       "------------------------------------------------------------------------------\n",
       "Intercept    524.8390     56.865      9.230      0.000     413.038     636.640\n",
       "horsepower  -325.0008    258.480     -1.257      0.209    -833.198     183.196\n",
       "cylinders    1.14e+04   8616.113      1.323      0.187   -5541.902    2.83e+04\n",
       "lin_comb   -1110.5834    861.454     -1.289      0.198   -2804.285     583.118\n",
       "==============================================================================\n",
       "Omnibus:                       12.222   Durbin-Watson:                   1.199\n",
       "Prob(Omnibus):                  0.002   Jarque-Bera (JB):               24.236\n",
       "Skew:                           0.069   Prob(JB):                     5.46e-06\n",
       "Kurtosis:                       4.210   Cond. No.                     5.84e+04\n",
       "==============================================================================\n",
       "\n",
       "Notes:\n",
       "[1] Standard Errors assume that the covariance matrix of the errors is correctly specified.\n",
       "[2] The condition number is large, 5.84e+04. This might indicate that there are\n",
       "strong multicollinearity or other numerical problems.\n",
       "\"\"\""
      ]
     },
     "execution_count": 45,
     "metadata": {},
     "output_type": "execute_result"
    }
   ],
   "source": [
    "smf.ols(formula='weight ~ horsepower + cylinders + lin_comb', data=mpg).fit().summary()"
   ]
  },
  {
   "cell_type": "markdown",
   "id": "normal-track",
   "metadata": {},
   "source": [
    "## Strong linear combination"
   ]
  },
  {
   "cell_type": "markdown",
   "id": "sealed-motion",
   "metadata": {},
   "source": [
    "When a value can be uses 1+ other features in the table to be calculated + some other info not present in the df"
   ]
  },
  {
   "cell_type": "code",
   "execution_count": 46,
   "id": "affected-gallery",
   "metadata": {},
   "outputs": [
    {
     "data": {
      "text/plain": [
       "7"
      ]
     },
     "execution_count": 46,
     "metadata": {},
     "output_type": "execute_result"
    }
   ],
   "source": [
    "mpg['lin_comb'] = 10 * mpg['cylinders'] - 0.3 * mpg['horsepower'] +  0.05 * np.random.rand(mpg.shape[0])\n",
    "np.linalg.matrix_rank(mpg)"
   ]
  },
  {
   "cell_type": "markdown",
   "id": "aquatic-norwegian",
   "metadata": {},
   "source": [
    "⚠ The matrix rank can't help us! But the problem is still there ⚠"
   ]
  },
  {
   "cell_type": "code",
   "execution_count": 47,
   "id": "permanent-cycling",
   "metadata": {},
   "outputs": [
    {
     "data": {
      "text/html": [
       "<table class=\"simpletable\">\n",
       "<caption>OLS Regression Results</caption>\n",
       "<tr>\n",
       "  <th>Dep. Variable:</th>         <td>weight</td>      <th>  R-squared:         </th> <td>   0.846</td> \n",
       "</tr>\n",
       "<tr>\n",
       "  <th>Model:</th>                   <td>OLS</td>       <th>  Adj. R-squared:    </th> <td>   0.845</td> \n",
       "</tr>\n",
       "<tr>\n",
       "  <th>Method:</th>             <td>Least Squares</td>  <th>  F-statistic:       </th> <td>   709.5</td> \n",
       "</tr>\n",
       "<tr>\n",
       "  <th>Date:</th>             <td>Fri, 14 Oct 2022</td> <th>  Prob (F-statistic):</th> <td>4.39e-157</td>\n",
       "</tr>\n",
       "<tr>\n",
       "  <th>Time:</th>                 <td>10:44:18</td>     <th>  Log-Likelihood:    </th> <td> -2833.1</td> \n",
       "</tr>\n",
       "<tr>\n",
       "  <th>No. Observations:</th>      <td>   392</td>      <th>  AIC:               </th> <td>   5674.</td> \n",
       "</tr>\n",
       "<tr>\n",
       "  <th>Df Residuals:</th>          <td>   388</td>      <th>  BIC:               </th> <td>   5690.</td> \n",
       "</tr>\n",
       "<tr>\n",
       "  <th>Df Model:</th>              <td>     3</td>      <th>                     </th>     <td> </td>    \n",
       "</tr>\n",
       "<tr>\n",
       "  <th>Covariance Type:</th>      <td>nonrobust</td>    <th>                     </th>     <td> </td>    \n",
       "</tr>\n",
       "</table>\n",
       "<table class=\"simpletable\">\n",
       "<tr>\n",
       "       <td></td>         <th>coef</th>     <th>std err</th>      <th>t</th>      <th>P>|t|</th>  <th>[0.025</th>    <th>0.975]</th>  \n",
       "</tr>\n",
       "<tr>\n",
       "  <th>Intercept</th>  <td>  519.0152</td> <td>   67.692</td> <td>    7.667</td> <td> 0.000</td> <td>  385.927</td> <td>  652.104</td>\n",
       "</tr>\n",
       "<tr>\n",
       "  <th>cylinders</th>  <td>-3011.2610</td> <td> 1.22e+04</td> <td>   -0.248</td> <td> 0.804</td> <td>-2.69e+04</td> <td> 2.09e+04</td>\n",
       "</tr>\n",
       "<tr>\n",
       "  <th>horsepower</th> <td>  107.2812</td> <td>  364.636</td> <td>    0.294</td> <td> 0.769</td> <td> -609.628</td> <td>  824.190</td>\n",
       "</tr>\n",
       "<tr>\n",
       "  <th>lin_comb</th>   <td>  330.2059</td> <td> 1215.568</td> <td>    0.272</td> <td> 0.786</td> <td>-2059.719</td> <td> 2720.131</td>\n",
       "</tr>\n",
       "</table>\n",
       "<table class=\"simpletable\">\n",
       "<tr>\n",
       "  <th>Omnibus:</th>       <td>11.905</td> <th>  Durbin-Watson:     </th> <td>   1.185</td>\n",
       "</tr>\n",
       "<tr>\n",
       "  <th>Prob(Omnibus):</th> <td> 0.003</td> <th>  Jarque-Bera (JB):  </th> <td>  23.077</td>\n",
       "</tr>\n",
       "<tr>\n",
       "  <th>Skew:</th>          <td> 0.077</td> <th>  Prob(JB):          </th> <td>9.75e-06</td>\n",
       "</tr>\n",
       "<tr>\n",
       "  <th>Kurtosis:</th>      <td> 4.179</td> <th>  Cond. No.          </th> <td>8.23e+04</td>\n",
       "</tr>\n",
       "</table><br/><br/>Notes:<br/>[1] Standard Errors assume that the covariance matrix of the errors is correctly specified.<br/>[2] The condition number is large, 8.23e+04. This might indicate that there are<br/>strong multicollinearity or other numerical problems."
      ],
      "text/plain": [
       "<class 'statsmodels.iolib.summary.Summary'>\n",
       "\"\"\"\n",
       "                            OLS Regression Results                            \n",
       "==============================================================================\n",
       "Dep. Variable:                 weight   R-squared:                       0.846\n",
       "Model:                            OLS   Adj. R-squared:                  0.845\n",
       "Method:                 Least Squares   F-statistic:                     709.5\n",
       "Date:                Fri, 14 Oct 2022   Prob (F-statistic):          4.39e-157\n",
       "Time:                        10:44:18   Log-Likelihood:                -2833.1\n",
       "No. Observations:                 392   AIC:                             5674.\n",
       "Df Residuals:                     388   BIC:                             5690.\n",
       "Df Model:                           3                                         \n",
       "Covariance Type:            nonrobust                                         \n",
       "==============================================================================\n",
       "                 coef    std err          t      P>|t|      [0.025      0.975]\n",
       "------------------------------------------------------------------------------\n",
       "Intercept    519.0152     67.692      7.667      0.000     385.927     652.104\n",
       "cylinders  -3011.2610   1.22e+04     -0.248      0.804   -2.69e+04    2.09e+04\n",
       "horsepower   107.2812    364.636      0.294      0.769    -609.628     824.190\n",
       "lin_comb     330.2059   1215.568      0.272      0.786   -2059.719    2720.131\n",
       "==============================================================================\n",
       "Omnibus:                       11.905   Durbin-Watson:                   1.185\n",
       "Prob(Omnibus):                  0.003   Jarque-Bera (JB):               23.077\n",
       "Skew:                           0.077   Prob(JB):                     9.75e-06\n",
       "Kurtosis:                       4.179   Cond. No.                     8.23e+04\n",
       "==============================================================================\n",
       "\n",
       "Notes:\n",
       "[1] Standard Errors assume that the covariance matrix of the errors is correctly specified.\n",
       "[2] The condition number is large, 8.23e+04. This might indicate that there are\n",
       "strong multicollinearity or other numerical problems.\n",
       "\"\"\""
      ]
     },
     "execution_count": 47,
     "metadata": {},
     "output_type": "execute_result"
    }
   ],
   "source": [
    "smf.ols(formula='weight ~ cylinders + horsepower + lin_comb', data=mpg).fit().summary()"
   ]
  },
  {
   "cell_type": "code",
   "execution_count": null,
   "id": "numerous-discipline",
   "metadata": {},
   "outputs": [],
   "source": [
    "mpg.loc[0,'horsepower'] = mpg.loc[0,'horsepower']*0.99\n",
    "smf.ols(formula='weight ~ cylinders + horsepower + lin_comb', data=mpg).fit().params"
   ]
  },
  {
   "cell_type": "markdown",
   "id": "statewide-thesis",
   "metadata": {},
   "source": [
    "Comes **VIF Values** to the rescue!"
   ]
  },
  {
   "cell_type": "markdown",
   "id": "b873cf45",
   "metadata": {},
   "source": [
    "First, don't forget to scale your data when using multiple features (VIF uses a linear model) 😉"
   ]
  },
  {
   "cell_type": "code",
   "execution_count": 48,
   "id": "ba055f98",
   "metadata": {},
   "outputs": [
    {
     "data": {
      "text/html": [
       "<div>\n",
       "<style scoped>\n",
       "    .dataframe tbody tr th:only-of-type {\n",
       "        vertical-align: middle;\n",
       "    }\n",
       "\n",
       "    .dataframe tbody tr th {\n",
       "        vertical-align: top;\n",
       "    }\n",
       "\n",
       "    .dataframe thead th {\n",
       "        text-align: right;\n",
       "    }\n",
       "</style>\n",
       "<table border=\"1\" class=\"dataframe\">\n",
       "  <thead>\n",
       "    <tr style=\"text-align: right;\">\n",
       "      <th></th>\n",
       "      <th>mpg</th>\n",
       "      <th>cylinders</th>\n",
       "      <th>horsepower</th>\n",
       "      <th>weight</th>\n",
       "      <th>acceleration</th>\n",
       "      <th>model_year</th>\n",
       "      <th>lin_comb</th>\n",
       "    </tr>\n",
       "  </thead>\n",
       "  <tbody>\n",
       "    <tr>\n",
       "      <th>0</th>\n",
       "      <td>-0.697747</td>\n",
       "      <td>1.482053</td>\n",
       "      <td>0.696932</td>\n",
       "      <td>0.619748</td>\n",
       "      <td>-1.283618</td>\n",
       "      <td>-1.623241</td>\n",
       "      <td>1.794243</td>\n",
       "    </tr>\n",
       "    <tr>\n",
       "      <th>1</th>\n",
       "      <td>-1.082115</td>\n",
       "      <td>1.482053</td>\n",
       "      <td>1.572406</td>\n",
       "      <td>0.842258</td>\n",
       "      <td>-1.464852</td>\n",
       "      <td>-1.623241</td>\n",
       "      <td>0.739293</td>\n",
       "    </tr>\n",
       "    <tr>\n",
       "      <th>2</th>\n",
       "      <td>-0.697747</td>\n",
       "      <td>1.482053</td>\n",
       "      <td>1.182729</td>\n",
       "      <td>0.539692</td>\n",
       "      <td>-1.646086</td>\n",
       "      <td>-1.623241</td>\n",
       "      <td>1.212804</td>\n",
       "    </tr>\n",
       "    <tr>\n",
       "      <th>3</th>\n",
       "      <td>-0.953992</td>\n",
       "      <td>1.482053</td>\n",
       "      <td>1.182729</td>\n",
       "      <td>0.536160</td>\n",
       "      <td>-1.283618</td>\n",
       "      <td>-1.623241</td>\n",
       "      <td>1.210528</td>\n",
       "    </tr>\n",
       "    <tr>\n",
       "      <th>4</th>\n",
       "      <td>-0.825870</td>\n",
       "      <td>1.482053</td>\n",
       "      <td>0.922945</td>\n",
       "      <td>0.554997</td>\n",
       "      <td>-1.827320</td>\n",
       "      <td>-1.623241</td>\n",
       "      <td>1.523293</td>\n",
       "    </tr>\n",
       "    <tr>\n",
       "      <th>...</th>\n",
       "      <td>...</td>\n",
       "      <td>...</td>\n",
       "      <td>...</td>\n",
       "      <td>...</td>\n",
       "      <td>...</td>\n",
       "      <td>...</td>\n",
       "      <td>...</td>\n",
       "    </tr>\n",
       "    <tr>\n",
       "      <th>393</th>\n",
       "      <td>0.455359</td>\n",
       "      <td>-0.862911</td>\n",
       "      <td>-0.479892</td>\n",
       "      <td>-0.220842</td>\n",
       "      <td>0.021267</td>\n",
       "      <td>1.634321</td>\n",
       "      <td>-0.955852</td>\n",
       "    </tr>\n",
       "    <tr>\n",
       "      <th>394</th>\n",
       "      <td>2.633448</td>\n",
       "      <td>-0.862911</td>\n",
       "      <td>-1.363160</td>\n",
       "      <td>-0.997859</td>\n",
       "      <td>3.283479</td>\n",
       "      <td>1.634321</td>\n",
       "      <td>0.105556</td>\n",
       "    </tr>\n",
       "    <tr>\n",
       "      <th>395</th>\n",
       "      <td>1.095974</td>\n",
       "      <td>-0.862911</td>\n",
       "      <td>-0.531849</td>\n",
       "      <td>-0.803605</td>\n",
       "      <td>-1.428605</td>\n",
       "      <td>1.634321</td>\n",
       "      <td>-0.895090</td>\n",
       "    </tr>\n",
       "    <tr>\n",
       "      <th>396</th>\n",
       "      <td>0.583482</td>\n",
       "      <td>-0.862911</td>\n",
       "      <td>-0.661742</td>\n",
       "      <td>-0.415097</td>\n",
       "      <td>1.108671</td>\n",
       "      <td>1.634321</td>\n",
       "      <td>-0.737515</td>\n",
       "    </tr>\n",
       "    <tr>\n",
       "      <th>397</th>\n",
       "      <td>0.967851</td>\n",
       "      <td>-0.862911</td>\n",
       "      <td>-0.583806</td>\n",
       "      <td>-0.303253</td>\n",
       "      <td>1.398646</td>\n",
       "      <td>1.634321</td>\n",
       "      <td>-0.833231</td>\n",
       "    </tr>\n",
       "  </tbody>\n",
       "</table>\n",
       "<p>392 rows × 7 columns</p>\n",
       "</div>"
      ],
      "text/plain": [
       "          mpg  cylinders  horsepower    weight  acceleration  model_year  \\\n",
       "0   -0.697747   1.482053    0.696932  0.619748     -1.283618   -1.623241   \n",
       "1   -1.082115   1.482053    1.572406  0.842258     -1.464852   -1.623241   \n",
       "2   -0.697747   1.482053    1.182729  0.539692     -1.646086   -1.623241   \n",
       "3   -0.953992   1.482053    1.182729  0.536160     -1.283618   -1.623241   \n",
       "4   -0.825870   1.482053    0.922945  0.554997     -1.827320   -1.623241   \n",
       "..        ...        ...         ...       ...           ...         ...   \n",
       "393  0.455359  -0.862911   -0.479892 -0.220842      0.021267    1.634321   \n",
       "394  2.633448  -0.862911   -1.363160 -0.997859      3.283479    1.634321   \n",
       "395  1.095974  -0.862911   -0.531849 -0.803605     -1.428605    1.634321   \n",
       "396  0.583482  -0.862911   -0.661742 -0.415097      1.108671    1.634321   \n",
       "397  0.967851  -0.862911   -0.583806 -0.303253      1.398646    1.634321   \n",
       "\n",
       "     lin_comb  \n",
       "0    1.794243  \n",
       "1    0.739293  \n",
       "2    1.212804  \n",
       "3    1.210528  \n",
       "4    1.523293  \n",
       "..        ...  \n",
       "393 -0.955852  \n",
       "394  0.105556  \n",
       "395 -0.895090  \n",
       "396 -0.737515  \n",
       "397 -0.833231  \n",
       "\n",
       "[392 rows x 7 columns]"
      ]
     },
     "execution_count": 48,
     "metadata": {},
     "output_type": "execute_result"
    }
   ],
   "source": [
    "mpg_scaled = mpg.copy()\n",
    "\n",
    "for feature in mpg_scaled.columns:\n",
    "    mu = mpg[feature].mean()\n",
    "    sigma = mpg[feature].std()\n",
    "    mpg_scaled[feature] = mpg_scaled[feature].apply(lambda x: (x-mu)/sigma)\n",
    "    \n",
    "mpg_scaled"
   ]
  },
  {
   "cell_type": "markdown",
   "id": "47e4e8a6",
   "metadata": {},
   "source": [
    "Then, calculate VIF of a given column like so:"
   ]
  },
  {
   "cell_type": "code",
   "execution_count": 49,
   "id": "martial-authentication",
   "metadata": {},
   "outputs": [
    {
     "data": {
      "text/plain": [
       "51.257814920329764"
      ]
     },
     "execution_count": 49,
     "metadata": {},
     "output_type": "execute_result"
    }
   ],
   "source": [
    "from statsmodels.stats.outliers_influence import variance_inflation_factor as vif\n",
    "\n",
    "# compute VIF factor for the first feature\n",
    "vif(mpg.values, 0)"
   ]
  },
  {
   "cell_type": "code",
   "execution_count": 50,
   "id": "grand-month",
   "metadata": {},
   "outputs": [
    {
     "data": {
      "text/html": [
       "<div>\n",
       "<style scoped>\n",
       "    .dataframe tbody tr th:only-of-type {\n",
       "        vertical-align: middle;\n",
       "    }\n",
       "\n",
       "    .dataframe tbody tr th {\n",
       "        vertical-align: top;\n",
       "    }\n",
       "\n",
       "    .dataframe thead th {\n",
       "        text-align: right;\n",
       "    }\n",
       "</style>\n",
       "<table border=\"1\" class=\"dataframe\">\n",
       "  <thead>\n",
       "    <tr style=\"text-align: right;\">\n",
       "      <th></th>\n",
       "      <th>vif_index</th>\n",
       "      <th>features</th>\n",
       "    </tr>\n",
       "  </thead>\n",
       "  <tbody>\n",
       "    <tr>\n",
       "      <th>0</th>\n",
       "      <td>5.125781e+01</td>\n",
       "      <td>mpg</td>\n",
       "    </tr>\n",
       "    <tr>\n",
       "      <th>1</th>\n",
       "      <td>1.690743e+07</td>\n",
       "      <td>cylinders</td>\n",
       "    </tr>\n",
       "    <tr>\n",
       "      <th>2</th>\n",
       "      <td>5.740816e+06</td>\n",
       "      <td>horsepower</td>\n",
       "    </tr>\n",
       "    <tr>\n",
       "      <th>3</th>\n",
       "      <td>1.349897e+02</td>\n",
       "      <td>weight</td>\n",
       "    </tr>\n",
       "    <tr>\n",
       "      <th>4</th>\n",
       "      <td>6.728620e+01</td>\n",
       "      <td>acceleration</td>\n",
       "    </tr>\n",
       "    <tr>\n",
       "      <th>5</th>\n",
       "      <td>2.677377e+02</td>\n",
       "      <td>model_year</td>\n",
       "    </tr>\n",
       "    <tr>\n",
       "      <th>6</th>\n",
       "      <td>3.293612e+06</td>\n",
       "      <td>lin_comb</td>\n",
       "    </tr>\n",
       "  </tbody>\n",
       "</table>\n",
       "</div>"
      ],
      "text/plain": [
       "      vif_index      features\n",
       "0  5.125781e+01           mpg\n",
       "1  1.690743e+07     cylinders\n",
       "2  5.740816e+06    horsepower\n",
       "3  1.349897e+02        weight\n",
       "4  6.728620e+01  acceleration\n",
       "5  2.677377e+02    model_year\n",
       "6  3.293612e+06      lin_comb"
      ]
     },
     "execution_count": 50,
     "metadata": {},
     "output_type": "execute_result"
    }
   ],
   "source": [
    "df = pd.DataFrame()\n",
    "df[\"vif_index\"] = [vif(mpg.values, i) for i in range(mpg.shape[1])]\n",
    "df[\"features\"] = mpg.columns\n",
    "df"
   ]
  },
  {
   "cell_type": "code",
   "execution_count": 55,
   "id": "starting-fight",
   "metadata": {},
   "outputs": [
    {
     "data": {
      "text/html": [
       "<div>\n",
       "<style scoped>\n",
       "    .dataframe tbody tr th:only-of-type {\n",
       "        vertical-align: middle;\n",
       "    }\n",
       "\n",
       "    .dataframe tbody tr th {\n",
       "        vertical-align: top;\n",
       "    }\n",
       "\n",
       "    .dataframe thead th {\n",
       "        text-align: right;\n",
       "    }\n",
       "</style>\n",
       "<table border=\"1\" class=\"dataframe\">\n",
       "  <thead>\n",
       "    <tr style=\"text-align: right;\">\n",
       "      <th></th>\n",
       "      <th>vif_index</th>\n",
       "      <th>features</th>\n",
       "    </tr>\n",
       "  </thead>\n",
       "  <tbody>\n",
       "    <tr>\n",
       "      <th>0</th>\n",
       "      <td>3.323045</td>\n",
       "      <td>mpg</td>\n",
       "    </tr>\n",
       "    <tr>\n",
       "      <th>1</th>\n",
       "      <td>5.991591</td>\n",
       "      <td>horsepower</td>\n",
       "    </tr>\n",
       "    <tr>\n",
       "      <th>2</th>\n",
       "      <td>6.576103</td>\n",
       "      <td>lin_comb</td>\n",
       "    </tr>\n",
       "  </tbody>\n",
       "</table>\n",
       "</div>"
      ],
      "text/plain": [
       "   vif_index    features\n",
       "0   3.323045         mpg\n",
       "1   5.991591  horsepower\n",
       "2   6.576103    lin_comb"
      ]
     },
     "execution_count": 55,
     "metadata": {},
     "output_type": "execute_result"
    }
   ],
   "source": [
    "df = pd.DataFrame()\n",
    "mpg1 = mpg.drop(columns=['weight', 'cylinders', 'model_year', 'acceleration'])\n",
    "df[\"vif_index\"] = [vif(mpg1.values, i) for i in range(mpg1.shape[1])]\n",
    "df[\"features\"] = mpg1.columns\n",
    "df"
   ]
  },
  {
   "cell_type": "code",
   "execution_count": null,
   "id": "coral-chancellor",
   "metadata": {},
   "outputs": [],
   "source": [
    "df = pd.DataFrame()\n",
    "mpg2 = mpg.drop(columns=['weight', 'cylinders', 'model_year', 'acceleration'])\n",
    "df[\"vif_index\"] = [vif(mpg2.values, i) for i in range(mpg2.shape[1])]\n",
    "df[\"features\"] = mpg2.columns\n",
    "df"
   ]
  },
  {
   "cell_type": "code",
   "execution_count": 57,
   "id": "apart-distance",
   "metadata": {},
   "outputs": [
    {
     "data": {
      "text/html": [
       "<table class=\"simpletable\">\n",
       "<caption>OLS Regression Results</caption>\n",
       "<tr>\n",
       "  <th>Dep. Variable:</th>         <td>weight</td>      <th>  R-squared:         </th> <td>   0.889</td> \n",
       "</tr>\n",
       "<tr>\n",
       "  <th>Model:</th>                   <td>OLS</td>       <th>  Adj. R-squared:    </th> <td>   0.888</td> \n",
       "</tr>\n",
       "<tr>\n",
       "  <th>Method:</th>             <td>Least Squares</td>  <th>  F-statistic:       </th> <td>   777.7</td> \n",
       "</tr>\n",
       "<tr>\n",
       "  <th>Date:</th>             <td>Fri, 14 Oct 2022</td> <th>  Prob (F-statistic):</th> <td>1.73e-183</td>\n",
       "</tr>\n",
       "<tr>\n",
       "  <th>Time:</th>                 <td>10:53:58</td>     <th>  Log-Likelihood:    </th> <td> -2768.1</td> \n",
       "</tr>\n",
       "<tr>\n",
       "  <th>No. Observations:</th>      <td>   392</td>      <th>  AIC:               </th> <td>   5546.</td> \n",
       "</tr>\n",
       "<tr>\n",
       "  <th>Df Residuals:</th>          <td>   387</td>      <th>  BIC:               </th> <td>   5566.</td> \n",
       "</tr>\n",
       "<tr>\n",
       "  <th>Df Model:</th>              <td>     4</td>      <th>                     </th>     <td> </td>    \n",
       "</tr>\n",
       "<tr>\n",
       "  <th>Covariance Type:</th>      <td>nonrobust</td>    <th>                     </th>     <td> </td>    \n",
       "</tr>\n",
       "</table>\n",
       "<table class=\"simpletable\">\n",
       "<tr>\n",
       "       <td></td>         <th>coef</th>     <th>std err</th>      <th>t</th>      <th>P>|t|</th>  <th>[0.025</th>    <th>0.975]</th>  \n",
       "</tr>\n",
       "<tr>\n",
       "  <th>Intercept</th>  <td> -974.2818</td> <td>  348.721</td> <td>   -2.794</td> <td> 0.005</td> <td>-1659.907</td> <td> -288.656</td>\n",
       "</tr>\n",
       "<tr>\n",
       "  <th>mpg</th>        <td>  -42.9352</td> <td>    3.594</td> <td>  -11.948</td> <td> 0.000</td> <td>  -50.001</td> <td>  -35.870</td>\n",
       "</tr>\n",
       "<tr>\n",
       "  <th>horsepower</th> <td>   12.4482</td> <td>    0.599</td> <td>   20.770</td> <td> 0.000</td> <td>   11.270</td> <td>   13.626</td>\n",
       "</tr>\n",
       "<tr>\n",
       "  <th>lin_comb</th>   <td>   20.6290</td> <td>    1.715</td> <td>   12.029</td> <td> 0.000</td> <td>   17.257</td> <td>   24.001</td>\n",
       "</tr>\n",
       "<tr>\n",
       "  <th>model_year</th> <td>   41.7906</td> <td>    4.906</td> <td>    8.518</td> <td> 0.000</td> <td>   32.145</td> <td>   51.437</td>\n",
       "</tr>\n",
       "</table>\n",
       "<table class=\"simpletable\">\n",
       "<tr>\n",
       "  <th>Omnibus:</th>       <td>18.673</td> <th>  Durbin-Watson:     </th> <td>   1.248</td>\n",
       "</tr>\n",
       "<tr>\n",
       "  <th>Prob(Omnibus):</th> <td> 0.000</td> <th>  Jarque-Bera (JB):  </th> <td>  48.392</td>\n",
       "</tr>\n",
       "<tr>\n",
       "  <th>Skew:</th>          <td> 0.088</td> <th>  Prob(JB):          </th> <td>3.10e-11</td>\n",
       "</tr>\n",
       "<tr>\n",
       "  <th>Kurtosis:</th>      <td> 4.712</td> <th>  Cond. No.          </th> <td>3.32e+03</td>\n",
       "</tr>\n",
       "</table><br/><br/>Notes:<br/>[1] Standard Errors assume that the covariance matrix of the errors is correctly specified.<br/>[2] The condition number is large, 3.32e+03. This might indicate that there are<br/>strong multicollinearity or other numerical problems."
      ],
      "text/plain": [
       "<class 'statsmodels.iolib.summary.Summary'>\n",
       "\"\"\"\n",
       "                            OLS Regression Results                            \n",
       "==============================================================================\n",
       "Dep. Variable:                 weight   R-squared:                       0.889\n",
       "Model:                            OLS   Adj. R-squared:                  0.888\n",
       "Method:                 Least Squares   F-statistic:                     777.7\n",
       "Date:                Fri, 14 Oct 2022   Prob (F-statistic):          1.73e-183\n",
       "Time:                        10:53:58   Log-Likelihood:                -2768.1\n",
       "No. Observations:                 392   AIC:                             5546.\n",
       "Df Residuals:                     387   BIC:                             5566.\n",
       "Df Model:                           4                                         \n",
       "Covariance Type:            nonrobust                                         \n",
       "==============================================================================\n",
       "                 coef    std err          t      P>|t|      [0.025      0.975]\n",
       "------------------------------------------------------------------------------\n",
       "Intercept   -974.2818    348.721     -2.794      0.005   -1659.907    -288.656\n",
       "mpg          -42.9352      3.594    -11.948      0.000     -50.001     -35.870\n",
       "horsepower    12.4482      0.599     20.770      0.000      11.270      13.626\n",
       "lin_comb      20.6290      1.715     12.029      0.000      17.257      24.001\n",
       "model_year    41.7906      4.906      8.518      0.000      32.145      51.437\n",
       "==============================================================================\n",
       "Omnibus:                       18.673   Durbin-Watson:                   1.248\n",
       "Prob(Omnibus):                  0.000   Jarque-Bera (JB):               48.392\n",
       "Skew:                           0.088   Prob(JB):                     3.10e-11\n",
       "Kurtosis:                       4.712   Cond. No.                     3.32e+03\n",
       "==============================================================================\n",
       "\n",
       "Notes:\n",
       "[1] Standard Errors assume that the covariance matrix of the errors is correctly specified.\n",
       "[2] The condition number is large, 3.32e+03. This might indicate that there are\n",
       "strong multicollinearity or other numerical problems.\n",
       "\"\"\""
      ]
     },
     "execution_count": 57,
     "metadata": {},
     "output_type": "execute_result"
    }
   ],
   "source": [
    "smf.ols(formula='weight ~ mpg + horsepower + lin_comb + model_year', data=mpg).fit().summary()"
   ]
  },
  {
   "cell_type": "markdown",
   "id": "environmental-philippines",
   "metadata": {},
   "source": [
    "**Bonus** [What is an Acceptable Value for VIF?](https://quantifyinghealth.com/vif-threshold/)"
   ]
  },
  {
   "cell_type": "code",
   "execution_count": null,
   "id": "amended-incident",
   "metadata": {},
   "outputs": [],
   "source": []
  }
 ],
 "metadata": {
  "kernelspec": {
   "display_name": "Python 3 (ipykernel)",
   "language": "python",
   "name": "python3"
  },
  "language_info": {
   "codemirror_mode": {
    "name": "ipython",
    "version": 3
   },
   "file_extension": ".py",
   "mimetype": "text/x-python",
   "name": "python",
   "nbconvert_exporter": "python",
   "pygments_lexer": "ipython3",
   "version": "3.11.5"
  },
  "toc": {
   "base_numbering": 1,
   "nav_menu": {},
   "number_sections": true,
   "sideBar": true,
   "skip_h1_title": false,
   "title_cell": "Table of Contents",
   "title_sidebar": "Contents",
   "toc_cell": false,
   "toc_position": {},
   "toc_section_display": true,
   "toc_window_display": false
  },
  "varInspector": {
   "cols": {
    "lenName": 16,
    "lenType": 16,
    "lenVar": 40
   },
   "kernels_config": {
    "python": {
     "delete_cmd_postfix": "",
     "delete_cmd_prefix": "del ",
     "library": "var_list.py",
     "varRefreshCmd": "print(var_dic_list())"
    },
    "r": {
     "delete_cmd_postfix": ") ",
     "delete_cmd_prefix": "rm(",
     "library": "var_list.r",
     "varRefreshCmd": "cat(var_dic_list()) "
    }
   },
   "types_to_exclude": [
    "module",
    "function",
    "builtin_function_or_method",
    "instance",
    "_Feature"
   ],
   "window_display": false
  }
 },
 "nbformat": 4,
 "nbformat_minor": 5
}
