{
 "cells": [
  {
   "cell_type": "code",
   "execution_count": null,
   "id": "b8aecdce-1355-41aa-b517-bdd6ccb49586",
   "metadata": {},
   "outputs": [],
   "source": [
    "# Análise descritiva dos dados de Evasão da UFJF "
   ]
  },
  {
   "cell_type": "code",
   "execution_count": null,
   "id": "ca84da55-5113-4fbf-a3d2-ef1752499f96",
   "metadata": {},
   "outputs": [],
   "source": [
    "# Na falta dos dados de ano de evasão, \n",
    "# vamos selecionar os dados de ingresso de 2013 - 2023 e analisar a evasão por ano de entrada?\n",
    "# tb pensei em limitar as entradas em PISM e SISU"
   ]
  },
  {
   "cell_type": "code",
   "execution_count": null,
   "id": "ab9a2090-1da9-420b-9ac8-1143ea454665",
   "metadata": {},
   "outputs": [],
   "source": [
    "# Pensei em transformar os dados de cotas nas categorias = Renda, Escola Pública, Etnia PPI e PCD"
   ]
  },
  {
   "cell_type": "code",
   "execution_count": null,
   "id": "0f9fab80-b806-4232-81b1-d0f0fb32b398",
   "metadata": {},
   "outputs": [],
   "source": [
    "# E analisar os dados de evasão a partir dessas categorias "
   ]
  }
 ],
 "metadata": {
  "kernelspec": {
   "display_name": "Python 3 (ipykernel)",
   "language": "python",
   "name": "python3"
  },
  "language_info": {
   "codemirror_mode": {
    "name": "ipython",
    "version": 3
   },
   "file_extension": ".py",
   "mimetype": "text/x-python",
   "name": "python",
   "nbconvert_exporter": "python",
   "pygments_lexer": "ipython3",
   "version": "3.11.6"
  }
 },
 "nbformat": 4,
 "nbformat_minor": 5
}
