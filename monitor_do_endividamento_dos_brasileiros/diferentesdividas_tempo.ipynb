{
 "cells": [
  {
   "cell_type": "code",
   "execution_count": 1,
   "id": "c033ca6b-3cbd-4f6d-93e2-bc9ff8fab734",
   "metadata": {
    "tags": []
   },
   "outputs": [],
   "source": [
    "import zipfile\n",
    "import os\n",
    "import pandas as pd"
   ]
  },
  {
   "cell_type": "code",
   "execution_count": 27,
   "id": "e0f9aa6d-4c6c-48e2-997f-e2a92355f88d",
   "metadata": {
    "tags": []
   },
   "outputs": [],
   "source": [
    "def concatenar_csvs(diretorio):\n",
    "    frames = []\n",
    "\n",
    "    for arquivo in os.listdir(diretorio):\n",
    "        if arquivo.endswith('.csv'):\n",
    "            caminho_arquivo = os.path.join(diretorio, arquivo)\n",
    "            \n",
    "            df = pd.read_csv(caminho_arquivo, encoding='utf-8', delimiter=\";\", decimal=\",\")\n",
    "            df = df.rename(columns={df.columns[0]: \"data_base\"})\n",
    "            df.iloc[:, 0] = pd.to_datetime(df.iloc[:, 0], format=\"%Y-%m-%d\")  #2018 tem duas colunas chamadas de data_base, por isso precisamos renomear o nome das colunas\n",
    "            df = df.iloc[:, [0] + list(range(13, 23))]  \n",
    "            df = df.groupby(df.iloc[:, 0]).apply(lambda x: x.iloc[:, 1:].sum(axis=0)).reset_index(drop=False)\n",
    "            \n",
    "            frames.append(df)\n",
    "\n",
    "    df_concatenado = pd.concat(frames, ignore_index=True)\n",
    "\n",
    "    return df_concatenado"
   ]
  },
  {
   "cell_type": "code",
   "execution_count": 28,
   "id": "7831383f-52fa-4855-9b68-ca426b0bcb56",
   "metadata": {
    "tags": []
   },
   "outputs": [],
   "source": [
    "anos = list(range(2012, 2024))\n",
    "dataframes = []\n",
    "\n",
    "for ano in anos:\n",
    "    diretorio = f\"planilha_{ano}\"\n",
    "    dataframe_ano = concatenar_csvs(diretorio)\n",
    "    dataframes.append(dataframe_ano)\n",
    "\n",
    "df_total = pd.concat(dataframes, ignore_index=False)"
   ]
  },
  {
   "cell_type": "code",
   "execution_count": 37,
   "id": "2445c089-345b-4900-88a5-c01f6b74be84",
   "metadata": {
    "tags": []
   },
   "outputs": [
    {
     "name": "stdout",
     "output_type": "stream",
     "text": [
      "<class 'pandas.core.frame.DataFrame'>\n",
      "Index: 135 entries, 0 to 7\n",
      "Data columns (total 11 columns):\n",
      " #   Column                          Non-Null Count  Dtype         \n",
      "---  ------                          --------------  -----         \n",
      " 0   data_base                       135 non-null    datetime64[ns]\n",
      " 1   a_vencer_ate_90_dias            135 non-null    float64       \n",
      " 2   a_vencer_de_91_ate_360_dias     135 non-null    float64       \n",
      " 3   a_vencer_de_361_ate_1080_dias   135 non-null    float64       \n",
      " 4   a_vencer_de_1081_ate_1800_dias  135 non-null    float64       \n",
      " 5   a_vencer_de_1801_ate_5400_dias  135 non-null    float64       \n",
      " 6   a_vencer_acima_de_5400_dias     135 non-null    float64       \n",
      " 7   vencido_acima_de_15_dias        135 non-null    float64       \n",
      " 8   carteira_ativa                  135 non-null    float64       \n",
      " 9   carteira_inadimplida_arrastada  135 non-null    float64       \n",
      " 10  ativo_problematico              135 non-null    float64       \n",
      "dtypes: datetime64[ns](1), float64(10)\n",
      "memory usage: 12.7 KB\n"
     ]
    }
   ],
   "source": [
    "df_total.info()"
   ]
  },
  {
   "cell_type": "code",
   "execution_count": 35,
   "id": "a99f4ecc-f173-4695-9ae1-26ec0a758f46",
   "metadata": {
    "tags": []
   },
   "outputs": [],
   "source": [
    "df_total.to_csv(\"analise_divida_tempo.csv\", index = False)"
   ]
  },
  {
   "cell_type": "code",
   "execution_count": 1,
   "id": "ae77b42f-a9be-4415-bca1-c611b5d4982f",
   "metadata": {
    "tags": []
   },
   "outputs": [
    {
     "ename": "NameError",
     "evalue": "name 'df_total' is not defined",
     "output_type": "error",
     "traceback": [
      "\u001b[0;31m---------------------------------------------------------------------------\u001b[0m",
      "\u001b[0;31mNameError\u001b[0m                                 Traceback (most recent call last)",
      "Cell \u001b[0;32mIn[1], line 1\u001b[0m\n\u001b[0;32m----> 1\u001b[0m df_total\n",
      "\u001b[0;31mNameError\u001b[0m: name 'df_total' is not defined"
     ]
    }
   ],
   "source": [
    "fig = go.Figure()\n",
    "\n",
    "for col in df_total.columns[1:]:\n",
    "    if col != 'carteira_ativa':\n",
    "        fig.add_trace(go.Scatter(x=df_total['data_base'], \n",
    "                                 y=df_total[col], \n",
    "                                 mode='lines', \n",
    "                                 name=col,\n",
    "                                yaxis='y2'))\n",
    "\n",
    "fig.add_trace(go.Bar(x=df_total['data_base'], \n",
    "                     y=df_total['carteira_ativa'],\n",
    "                    opacity=0.5,\n",
    "                    showlegend=False))\n",
    "\n",
    "fig.update_layout(\n",
    "    title='Parcelas a vencer vs Carteira ativa',\n",
    "    xaxis_title='Data',\n",
    "    yaxis_title='Parcelas das operações de crédito',\n",
    "    yaxis2=dict(\n",
    "        title='Carteira ativa',\n",
    "        overlaying='y',\n",
    "        side='right'\n",
    "    ),\n",
    "    legend=dict(\n",
    "        y=-0.2,\n",
    "        traceorder='normal',\n",
    "        orientation='h',\n",
    "        font=dict(\n",
    "            size=12,\n",
    "            \n",
    "        ),\n",
    "    ),\n",
    "    template='seaborn'\n",
    ")\n",
    "\n",
    "st.plotly_chart(fig, use_container_width=True, height=200)"
   ]
  }
 ],
 "metadata": {
  "kernelspec": {
   "display_name": "Python 3 (ipykernel)",
   "language": "python",
   "name": "python3"
  },
  "language_info": {
   "codemirror_mode": {
    "name": "ipython",
    "version": 3
   },
   "file_extension": ".py",
   "mimetype": "text/x-python",
   "name": "python",
   "nbconvert_exporter": "python",
   "pygments_lexer": "ipython3",
   "version": "3.11.5"
  }
 },
 "nbformat": 4,
 "nbformat_minor": 5
}
