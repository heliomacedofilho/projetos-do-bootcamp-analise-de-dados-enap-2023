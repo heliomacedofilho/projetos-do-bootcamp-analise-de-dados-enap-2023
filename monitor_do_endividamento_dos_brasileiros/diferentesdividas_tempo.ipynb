{
 "cells": [
  {
   "cell_type": "code",
   "execution_count": 1,
   "id": "c033ca6b-3cbd-4f6d-93e2-bc9ff8fab734",
   "metadata": {
    "tags": []
   },
   "outputs": [],
   "source": [
    "import zipfile\n",
    "import os\n",
    "import pandas as pd"
   ]
  },
  {
   "cell_type": "code",
   "execution_count": 27,
   "id": "e0f9aa6d-4c6c-48e2-997f-e2a92355f88d",
   "metadata": {
    "tags": []
   },
   "outputs": [],
   "source": [
    "def concatenar_csvs(diretorio):\n",
    "    frames = []\n",
    "\n",
    "    for arquivo in os.listdir(diretorio):\n",
    "        if arquivo.endswith('.csv'):\n",
    "            caminho_arquivo = os.path.join(diretorio, arquivo)\n",
    "            \n",
    "            df = pd.read_csv(caminho_arquivo, encoding='utf-8', delimiter=\";\", decimal=\",\")\n",
    "            df = df.rename(columns={df.columns[0]: \"data_base\"})\n",
    "            df.iloc[:, 0] = pd.to_datetime(df.iloc[:, 0], format=\"%Y-%m-%d\")  #2018 tem duas colunas chamadas de data_base, por isso precisamos renomear o nome das colunas\n",
    "            df = df.iloc[:, [0] + list(range(13, 23))]  \n",
    "            df = df.groupby(df.iloc[:, 0]).apply(lambda x: x.iloc[:, 1:].sum(axis=0)).reset_index(drop=False)\n",
    "            \n",
    "            frames.append(df)\n",
    "\n",
    "    df_concatenado = pd.concat(frames, ignore_index=True)\n",
    "\n",
    "    return df_concatenado"
   ]
  },
  {
   "cell_type": "code",
   "execution_count": 28,
   "id": "7831383f-52fa-4855-9b68-ca426b0bcb56",
   "metadata": {
    "tags": []
   },
   "outputs": [],
   "source": [
    "anos = list(range(2012, 2024))\n",
    "dataframes = []\n",
    "\n",
    "for ano in anos:\n",
    "    diretorio = f\"planilha_{ano}\"\n",
    "    dataframe_ano = concatenar_csvs(diretorio)\n",
    "    dataframes.append(dataframe_ano)\n",
    "\n",
    "df_total = pd.concat(dataframes, ignore_index=False)"
   ]
  },
  {
   "cell_type": "code",
   "execution_count": 37,
   "id": "2445c089-345b-4900-88a5-c01f6b74be84",
   "metadata": {
    "tags": []
   },
   "outputs": [
    {
     "name": "stdout",
     "output_type": "stream",
     "text": [
      "<class 'pandas.core.frame.DataFrame'>\n",
      "Index: 135 entries, 0 to 7\n",
      "Data columns (total 11 columns):\n",
      " #   Column                          Non-Null Count  Dtype         \n",
      "---  ------                          --------------  -----         \n",
      " 0   data_base                       135 non-null    datetime64[ns]\n",
      " 1   a_vencer_ate_90_dias            135 non-null    float64       \n",
      " 2   a_vencer_de_91_ate_360_dias     135 non-null    float64       \n",
      " 3   a_vencer_de_361_ate_1080_dias   135 non-null    float64       \n",
      " 4   a_vencer_de_1081_ate_1800_dias  135 non-null    float64       \n",
      " 5   a_vencer_de_1801_ate_5400_dias  135 non-null    float64       \n",
      " 6   a_vencer_acima_de_5400_dias     135 non-null    float64       \n",
      " 7   vencido_acima_de_15_dias        135 non-null    float64       \n",
      " 8   carteira_ativa                  135 non-null    float64       \n",
      " 9   carteira_inadimplida_arrastada  135 non-null    float64       \n",
      " 10  ativo_problematico              135 non-null    float64       \n",
      "dtypes: datetime64[ns](1), float64(10)\n",
      "memory usage: 12.7 KB\n"
     ]
    }
   ],
   "source": [
    "df_total.info()"
   ]
  },
  {
   "cell_type": "code",
   "execution_count": 35,
   "id": "a99f4ecc-f173-4695-9ae1-26ec0a758f46",
   "metadata": {
    "tags": []
   },
   "outputs": [],
   "source": [
    "df_total.to_csv(\"analise_divida_tempo.csv\", index = False)"
   ]
  }
 ],
 "metadata": {
  "kernelspec": {
   "display_name": "Python 3 (ipykernel)",
   "language": "python",
   "name": "python3"
  },
  "language_info": {
   "codemirror_mode": {
    "name": "ipython",
    "version": 3
   },
   "file_extension": ".py",
   "mimetype": "text/x-python",
   "name": "python",
   "nbconvert_exporter": "python",
   "pygments_lexer": "ipython3",
   "version": "3.11.4"
  }
 },
 "nbformat": 4,
 "nbformat_minor": 5
}
