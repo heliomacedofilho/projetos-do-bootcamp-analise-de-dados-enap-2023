{
 "cells": [
  {
   "cell_type": "code",
   "execution_count": 1,
   "id": "3b4c2ff3-418d-4e4b-b8ba-bba1599319fa",
   "metadata": {
    "tags": []
   },
   "outputs": [
    {
     "name": "stdout",
     "output_type": "stream",
     "text": [
      "Projeto: PL   4620 / 2012 - Altera o art. 49 da Lei nº 8.171, de 17 de janeiro de 1991, com o objetivo de incluir como beneficiários de crédito rural as comunidades quilombolas, ribeirinhas e quebradoras de coco babaçu, atingidos por barragens e assentados da reforma agrária.\n",
      "Projeto: PL   8676 / 2017 - Acrescenta Capítulo VI-A à Lei nº 4.829, de 5 de novembro de 1965, para instituir os procedimentos de prorrogação e de recomposição de débitos de crédito rural.\n",
      "Projeto: PL   4347 / 2019 - Altera a Lei nº 13.606, de 9 de janeiro de 2018, para prorrogar os prazos para adesão à renegociação de dívidas de operações de crédito rural que especifica.\n",
      "Projeto: PL   4927 / 2020 - Altera a redação do art. 10 da Lei 4.829/1965 para considerar inidôneo para fins de obtenção de crédito rural os condenados pelo crime previsto no 41 da Lei 9.605/1998\n",
      "Projeto: PL   348 / 2021 - Institui linha especial de crédito rural\n",
      "Projeto: PL   3156 / 2021 - Dispõe sobre a prevenção e combate ao Superendividamento do Consumidor e dá outras previdências.\n",
      "Projeto: PL   60 / 2022 - Dispõe sobre a remissão e a prorrogação de parcelas de dívidas originárias de operações de crédito rural de responsabilidade de produtores cuja produção da safra do ciclo agrícola 2021/2022 tenha sido prejudicada em razão de excesso hídrico.\n",
      "Projeto: PL   486 / 2020 - Altera a Lei nº 11.326, de 24 de julho de 2006, para incluir a redução das desigualdades sociais e regionais entre os princípios a serem observados pela Política Nacional da Agricultura Familiar e Empreendimentos Familiares Rurais e determina ao poder público tratamento especial quanto a linhas de crédito rural e serviços de assistência técnica e extensão rural destinados a agricultores familiares e empreendimentos familiares rurais situados na Região do Marajó.\n",
      "Projeto: PL   2685 / 2022 - Institui o Programa Nacional de Renegociação das Dívidas das Famílias – ReFamília e estabelece a necessidade de imposição de limite aos juros cobrados na modalidade cartão de crédito rotativo.\n",
      "  NOVA EMENTA: Institui o Programa Emergencial de Renegociação de Dívidas de Pessoas Físicas Inadimplentes - Desenrola Brasil; estabelece normas para facilitação de acesso a crédito e mitigação de riscos de inadimplemento e de superendividamento de pessoas físicas; altera a Consolidação das Leis do Trabalho, aprovada pelo Decreto-Lei nº 5.452, de 1º de maio de 1943, e as Leis nºs 10.406, de 10 de janeiro de 2002 (Código Civil), 10.522, de 19 de julho de 2002 e 12.087, de 11 de novembro de 2009; e revoga dispositivo da Lei nº 4.737, de 15 de julho de 1965 (Código Eleitoral), e a Medida Provisória nº 1.176, de 5 de junho de 2023.\n",
      "Projeto: PL   2632 / 2023 - Estabelece o crédito responsável e assegura a garantia do mínimo existencial para os endividados.\n",
      "Projeto: PL   4601 / 2023 - Autoriza a criação de linha emergencial de crédito rural e a renegociação e prorrogação de operações de crédito rural de custeio e investimento para produtores rurais da pecuária de corte e produtores de leite, que tenham sido prejudicados pela queda de preços de comercialização.\n",
      "Projeto: PL   4722 / 2023 - Dispõe sobre a concessão de rebate nas operações de crédito rural de custeio de leite contratadas no âmbito do Programa Nacional de Fortalecimento da Agricultura Familiar e do Programa Nacional de Apoio ao Médio Produtor Rural, cujos empreendimentos tenham sido prejudicados por seca ou estiagem.\n",
      "Projeto: PL   5118 / 2023 - Autoriza a criação de linha emergencial de crédito rural e a prorrogação de operações de crédito rural de custeio e investimento para mandiocultores com produções afetadas pela pragaErinnyis ello (mandarová).\n",
      "Projeto: PL   5122 / 2023 - Dispõe sobre a liquidação, anistia, renegociação e rebate de dívidas originárias de crédito rural para agricultores, pecuaristas, piscicultores, pescadores e carcinicultores, em geral, e dá outras providências, bem como altera a Lei no 14.554, de 20 de abril de 2023, que altera as Leis nos 13.999, de 18 de maio de 2020, 14.166, de 10 de junho de 2021, 11.540, de 12 de novembro de 2007, e 14.042, de 19 de agosto de 2020, para tratar do refinanciamento de dívidas e altera a Lei no 7.827, de 27 de setembro de 1989, a fim de sanar omissão legislativa.\n",
      "Projeto: PL   5213 / 2023 - Concede subvenção extraordinária aos produtores de leite enquadrados na Lei 11.326/2006, prorroga o pagamento de parcela de crédito rural e dá outras providências.\n",
      "Projeto: PL   5221 / 2023 - Altera a Lei nº 13.340, de 28 de setembro de 2016, para conceder rebate para liquidação de operações de crédito rural, amortização da dívida a ser repactuada e dá outras providências.\n"
     ]
    }
   ],
   "source": [
    "import requests\n",
    "import datetime\n",
    "\n",
    "# Definir a URL da API para o endpoint de projetos\n",
    "url = \"https://dadosabertos.camara.leg.br/api/v2/proposicoes\"\n",
    "\n",
    "# Definir os parâmetros da requisição\n",
    "data_inicio = (datetime.datetime.now() - datetime.timedelta(days=30)).strftime(\"%Y-%m-%d\")\n",
    "data_fim = datetime.datetime.now().strftime(\"%Y-%m-%d\")\n",
    "params = {\n",
    "    \"dataInicio\": data_inicio,\n",
    "    \"dataFim\": data_fim,\n",
    "    \"ordenarPor\": \"id\",\n",
    "    \"itens\": 100,  # Quantidade de itens por página\n",
    "    \"pagina\": 1,   # Começar pela primeira página\n",
    "    \"siglaTipo\": [\"PL\", \"PLP\", \"MPV\"],\n",
    "}\n",
    "# Definir as palavras-chave que deseja filtrar na ementa dos projetos\n",
    "palavras_chave = [ \n",
    "\"superendividamento\",\n",
    "\"inadimplimento das obrigações\", \n",
    "\"mínimo existencial\",   \n",
    "\"repactuação de dívidas\",\n",
    "\"taxa de juros\"\n",
    "\"crédito ao consumidor\",\n",
    "\"parcelamento de dívidas\",\n",
    "\"renegociação de dívidas\"\n",
    "\"rotativo\"\n",
    "\"cartão de crédito\",\n",
    "\"crédito rural\",\n",
    "\"crédito habitacional\",\n",
    "\"empréstimo consignado\"\n",
    "\"capital de giro\",\n",
    "\"crédito para investimento\",\n",
    "\"sistemas de informação de crédito\",\n",
    "\"ativo problemático\",\n",
    "\"crédito a vencer\"\n",
    "]\n",
    "\n",
    "# Fazer requisições para todas as páginas de resultados\n",
    "projetos = []\n",
    "while True:\n",
    "    # Fazer a requisição para a API\n",
    "    response = requests.get(url, params=params)\n",
    "    # Verificar se a requisição foi bem-sucedida\n",
    "    if response.status_code == 200:\n",
    "        # Acessar o conteúdo da resposta em formato JSON\n",
    "        dados = response.json()[\"dados\"]\n",
    "        # Verificar se há projetos na página atual\n",
    "        if len(dados) == 0:\n",
    "            break\n",
    "        # Filtrar os projetos que contêm pelo menos uma palavra-chave na ementa\n",
    "        projetos.extend([projeto for projeto in dados if any(palavra in projeto[\"ementa\"].lower() for palavra in palavras_chave)])\n",
    "        # Avançar para a próxima página\n",
    "        params[\"pagina\"] += 1\n",
    "    else:\n",
    "        print(\"Erro ao fazer requisição para a API:\", response.status_code)\n",
    "        break\n",
    "\n",
    "# Imprimir os resultados\n",
    "#for projeto in projetos:\n",
    "   # print(\"Projeto:\", projeto[\"siglaTipo\"], \" \", projeto[\"numero\"], \"/\",projeto[\"ano\"], \"-\", projeto[\"ementa\"])"
   ]
  },
  {
   "cell_type": "code",
   "execution_count": 2,
   "id": "2e2820ab-0250-4ca3-a04d-d2cac241759d",
   "metadata": {
    "tags": []
   },
   "outputs": [],
   "source": [
    "import requests\n",
    "from datetime import datetime, timedelta\n",
    "\n",
    "token = \"seu_token_de_acesso_aqui\"\n",
    "\n",
    "# Definir o período de tempo desejado (última semana)\n",
    "data_atual = datetime.now()\n",
    "data_inicio = data_atual - timedelta(days=30)\n",
    "\n",
    "# Percorrer a lista de proposições\n",
    "for proposicao in projetos:\n",
    "    id_proposicao = proposicao['id']\n",
    "    \n",
    "    # Fazer uma chamada ao endpoint /proposicoes/{id}/tramitacoes para obter as tramitações da proposição\n",
    "    url_tramitacoes = f\"https://dadosabertos.camara.leg.br/api/v2/proposicoes/{id_proposicao}/tramitacoes\"\n",
    "    response_tramitacoes = requests.get(url_tramitacoes, headers={\"Authorization\": f\"Bearer {token}\"})\n",
    "    \n",
    "    if response_tramitacoes.status_code == 200:\n",
    "        tramitacoes = response_tramitacoes.json()['dados']\n",
    "        \n",
    "        # Obter a última tramitação da proposição\n",
    "        ultima_tramitacao = tramitacoes[-1]\n",
    "        \n",
    "        # Extrair a situação de tramitação dessa última tramitação\n",
    "        situacao_tramitacao = ultima_tramitacao['descricaoSituacao']\n",
    "        \n",
    "        # Adicionar a situação de tramitação à proposição\n",
    "        proposicao['situacaoTramitacao'] = situacao_tramitacao\n",
    "    else:\n",
    "        print(f\"Erro ao obter as tramitações da proposição {id_proposicao}: {response_tramitacoes.status_code}\")"
   ]
  },
  {
   "cell_type": "code",
   "execution_count": 3,
   "id": "26b3cb84-373e-49c7-9eca-6b456a328a14",
   "metadata": {
    "tags": []
   },
   "outputs": [],
   "source": [
    "import pandas as pd\n",
    "\n",
    "colunas = ['id', 'siglaTipo', 'numero', 'ano', 'ementa', 'situacaoTramitacao']"
   ]
  },
  {
   "cell_type": "code",
   "execution_count": 4,
   "id": "21ad97d0-f3ab-4ea9-99b2-1d25c271a6ba",
   "metadata": {
    "tags": []
   },
   "outputs": [
    {
     "data": {
      "text/html": [
       "<style type=\"text/css\">\n",
       "#T_37cf1_row0_col0, #T_37cf1_row0_col1, #T_37cf1_row0_col2, #T_37cf1_row0_col3, #T_37cf1_row0_col4, #T_37cf1_row0_col5, #T_37cf1_row1_col0, #T_37cf1_row1_col1, #T_37cf1_row1_col2, #T_37cf1_row1_col3, #T_37cf1_row1_col4, #T_37cf1_row1_col5, #T_37cf1_row2_col0, #T_37cf1_row2_col1, #T_37cf1_row2_col2, #T_37cf1_row2_col3, #T_37cf1_row2_col4, #T_37cf1_row2_col5, #T_37cf1_row3_col0, #T_37cf1_row3_col1, #T_37cf1_row3_col2, #T_37cf1_row3_col3, #T_37cf1_row3_col4, #T_37cf1_row3_col5, #T_37cf1_row4_col0, #T_37cf1_row4_col1, #T_37cf1_row4_col2, #T_37cf1_row4_col3, #T_37cf1_row4_col4, #T_37cf1_row4_col5, #T_37cf1_row5_col0, #T_37cf1_row5_col1, #T_37cf1_row5_col2, #T_37cf1_row5_col3, #T_37cf1_row5_col4, #T_37cf1_row5_col5, #T_37cf1_row6_col0, #T_37cf1_row6_col1, #T_37cf1_row6_col2, #T_37cf1_row6_col3, #T_37cf1_row6_col4, #T_37cf1_row6_col5, #T_37cf1_row7_col0, #T_37cf1_row7_col1, #T_37cf1_row7_col2, #T_37cf1_row7_col3, #T_37cf1_row7_col4, #T_37cf1_row7_col5, #T_37cf1_row8_col0, #T_37cf1_row8_col1, #T_37cf1_row8_col2, #T_37cf1_row8_col3, #T_37cf1_row8_col4, #T_37cf1_row8_col5, #T_37cf1_row9_col0, #T_37cf1_row9_col1, #T_37cf1_row9_col2, #T_37cf1_row9_col3, #T_37cf1_row9_col4, #T_37cf1_row9_col5, #T_37cf1_row10_col0, #T_37cf1_row10_col1, #T_37cf1_row10_col2, #T_37cf1_row10_col3, #T_37cf1_row10_col4, #T_37cf1_row10_col5, #T_37cf1_row11_col0, #T_37cf1_row11_col1, #T_37cf1_row11_col2, #T_37cf1_row11_col3, #T_37cf1_row11_col4, #T_37cf1_row11_col5, #T_37cf1_row12_col0, #T_37cf1_row12_col1, #T_37cf1_row12_col2, #T_37cf1_row12_col3, #T_37cf1_row12_col4, #T_37cf1_row12_col5, #T_37cf1_row13_col0, #T_37cf1_row13_col1, #T_37cf1_row13_col2, #T_37cf1_row13_col3, #T_37cf1_row13_col4, #T_37cf1_row13_col5, #T_37cf1_row14_col0, #T_37cf1_row14_col1, #T_37cf1_row14_col2, #T_37cf1_row14_col3, #T_37cf1_row14_col4, #T_37cf1_row14_col5, #T_37cf1_row15_col0, #T_37cf1_row15_col1, #T_37cf1_row15_col2, #T_37cf1_row15_col3, #T_37cf1_row15_col4, #T_37cf1_row15_col5 {\n",
       "  lw: {0;\n",
       "}\n",
       "</style>\n",
       "<table id=\"T_37cf1\">\n",
       "  <thead>\n",
       "    <tr>\n",
       "      <th class=\"blank level0\" >&nbsp;</th>\n",
       "      <th id=\"T_37cf1_level0_col0\" class=\"col_heading level0 col0\" >id</th>\n",
       "      <th id=\"T_37cf1_level0_col1\" class=\"col_heading level0 col1\" >siglaTipo</th>\n",
       "      <th id=\"T_37cf1_level0_col2\" class=\"col_heading level0 col2\" >numero</th>\n",
       "      <th id=\"T_37cf1_level0_col3\" class=\"col_heading level0 col3\" >ano</th>\n",
       "      <th id=\"T_37cf1_level0_col4\" class=\"col_heading level0 col4\" >ementa</th>\n",
       "      <th id=\"T_37cf1_level0_col5\" class=\"col_heading level0 col5\" >situacaoTramitacao</th>\n",
       "    </tr>\n",
       "  </thead>\n",
       "  <tbody>\n",
       "    <tr>\n",
       "      <th id=\"T_37cf1_level0_row0\" class=\"row_heading level0 row0\" >0</th>\n",
       "      <td id=\"T_37cf1_row0_col0\" class=\"data row0 col0\" >558073</td>\n",
       "      <td id=\"T_37cf1_row0_col1\" class=\"data row0 col1\" >PL</td>\n",
       "      <td id=\"T_37cf1_row0_col2\" class=\"data row0 col2\" >4620</td>\n",
       "      <td id=\"T_37cf1_row0_col3\" class=\"data row0 col3\" >2012</td>\n",
       "      <td id=\"T_37cf1_row0_col4\" class=\"data row0 col4\" >Altera o art. 49 da Lei nº 8.171, de 17 de janeiro de 1991, com o objetivo de incluir como beneficiários de crédito rural as comunidades quilombolas, ribeirinhas e quebradoras de coco babaçu, atingidos por barragens e assentados da reforma agrária.</td>\n",
       "      <td id=\"T_37cf1_row0_col5\" class=\"data row0 col5\" >Aguardando Parecer</td>\n",
       "    </tr>\n",
       "    <tr>\n",
       "      <th id=\"T_37cf1_level0_row1\" class=\"row_heading level0 row1\" >1</th>\n",
       "      <td id=\"T_37cf1_row1_col0\" class=\"data row1 col0\" >2152723</td>\n",
       "      <td id=\"T_37cf1_row1_col1\" class=\"data row1 col1\" >PL</td>\n",
       "      <td id=\"T_37cf1_row1_col2\" class=\"data row1 col2\" >8676</td>\n",
       "      <td id=\"T_37cf1_row1_col3\" class=\"data row1 col3\" >2017</td>\n",
       "      <td id=\"T_37cf1_row1_col4\" class=\"data row1 col4\" >Acrescenta Capítulo VI-A à Lei nº 4.829, de 5 de novembro de 1965, para instituir os procedimentos de prorrogação e de recomposição de débitos de crédito rural.</td>\n",
       "      <td id=\"T_37cf1_row1_col5\" class=\"data row1 col5\" >Aguardando Encaminhamento</td>\n",
       "    </tr>\n",
       "    <tr>\n",
       "      <th id=\"T_37cf1_level0_row2\" class=\"row_heading level0 row2\" >2</th>\n",
       "      <td id=\"T_37cf1_row2_col0\" class=\"data row2 col0\" >2214197</td>\n",
       "      <td id=\"T_37cf1_row2_col1\" class=\"data row2 col1\" >PL</td>\n",
       "      <td id=\"T_37cf1_row2_col2\" class=\"data row2 col2\" >4347</td>\n",
       "      <td id=\"T_37cf1_row2_col3\" class=\"data row2 col3\" >2019</td>\n",
       "      <td id=\"T_37cf1_row2_col4\" class=\"data row2 col4\" >Altera a Lei nº 13.606, de 9 de janeiro de 2018, para prorrogar os prazos para adesão à renegociação de dívidas de operações de crédito rural que especifica.</td>\n",
       "      <td id=\"T_37cf1_row2_col5\" class=\"data row2 col5\" >None</td>\n",
       "    </tr>\n",
       "    <tr>\n",
       "      <th id=\"T_37cf1_level0_row3\" class=\"row_heading level0 row3\" >3</th>\n",
       "      <td id=\"T_37cf1_row3_col0\" class=\"data row3 col0\" >2264343</td>\n",
       "      <td id=\"T_37cf1_row3_col1\" class=\"data row3 col1\" >PL</td>\n",
       "      <td id=\"T_37cf1_row3_col2\" class=\"data row3 col2\" >4927</td>\n",
       "      <td id=\"T_37cf1_row3_col3\" class=\"data row3 col3\" >2020</td>\n",
       "      <td id=\"T_37cf1_row3_col4\" class=\"data row3 col4\" >Altera a redação do art. 10 da Lei 4.829/1965 para considerar inidôneo para fins de obtenção de crédito rural os condenados pelo crime previsto no 41 da Lei 9.605/1998</td>\n",
       "      <td id=\"T_37cf1_row3_col5\" class=\"data row3 col5\" >None</td>\n",
       "    </tr>\n",
       "    <tr>\n",
       "      <th id=\"T_37cf1_level0_row4\" class=\"row_heading level0 row4\" >4</th>\n",
       "      <td id=\"T_37cf1_row4_col0\" class=\"data row4 col0\" >2269820</td>\n",
       "      <td id=\"T_37cf1_row4_col1\" class=\"data row4 col1\" >PL</td>\n",
       "      <td id=\"T_37cf1_row4_col2\" class=\"data row4 col2\" >348</td>\n",
       "      <td id=\"T_37cf1_row4_col3\" class=\"data row4 col3\" >2021</td>\n",
       "      <td id=\"T_37cf1_row4_col4\" class=\"data row4 col4\" >Institui linha especial de crédito rural</td>\n",
       "      <td id=\"T_37cf1_row4_col5\" class=\"data row4 col5\" >Aguardando Vistas</td>\n",
       "    </tr>\n",
       "    <tr>\n",
       "      <th id=\"T_37cf1_level0_row5\" class=\"row_heading level0 row5\" >5</th>\n",
       "      <td id=\"T_37cf1_row5_col0\" class=\"data row5 col0\" >2298695</td>\n",
       "      <td id=\"T_37cf1_row5_col1\" class=\"data row5 col1\" >PL</td>\n",
       "      <td id=\"T_37cf1_row5_col2\" class=\"data row5 col2\" >3156</td>\n",
       "      <td id=\"T_37cf1_row5_col3\" class=\"data row5 col3\" >2021</td>\n",
       "      <td id=\"T_37cf1_row5_col4\" class=\"data row5 col4\" >Dispõe sobre a prevenção e combate ao Superendividamento do Consumidor e dá outras previdências.</td>\n",
       "      <td id=\"T_37cf1_row5_col5\" class=\"data row5 col5\" >Aguardando Parecer</td>\n",
       "    </tr>\n",
       "    <tr>\n",
       "      <th id=\"T_37cf1_level0_row6\" class=\"row_heading level0 row6\" >6</th>\n",
       "      <td id=\"T_37cf1_row6_col0\" class=\"data row6 col0\" >2313849</td>\n",
       "      <td id=\"T_37cf1_row6_col1\" class=\"data row6 col1\" >PL</td>\n",
       "      <td id=\"T_37cf1_row6_col2\" class=\"data row6 col2\" >60</td>\n",
       "      <td id=\"T_37cf1_row6_col3\" class=\"data row6 col3\" >2022</td>\n",
       "      <td id=\"T_37cf1_row6_col4\" class=\"data row6 col4\" >Dispõe sobre a remissão e a prorrogação de parcelas de dívidas originárias de operações de crédito rural de responsabilidade de produtores cuja produção da safra do ciclo agrícola 2021/2022 tenha sido prejudicada em razão de excesso hídrico.</td>\n",
       "      <td id=\"T_37cf1_row6_col5\" class=\"data row6 col5\" >Tramitando em Conjunto</td>\n",
       "    </tr>\n",
       "    <tr>\n",
       "      <th id=\"T_37cf1_level0_row7\" class=\"row_heading level0 row7\" >7</th>\n",
       "      <td id=\"T_37cf1_row7_col0\" class=\"data row7 col0\" >2317628</td>\n",
       "      <td id=\"T_37cf1_row7_col1\" class=\"data row7 col1\" >PL</td>\n",
       "      <td id=\"T_37cf1_row7_col2\" class=\"data row7 col2\" >486</td>\n",
       "      <td id=\"T_37cf1_row7_col3\" class=\"data row7 col3\" >2020</td>\n",
       "      <td id=\"T_37cf1_row7_col4\" class=\"data row7 col4\" >Altera a Lei nº 11.326, de 24 de julho de 2006, para incluir a redução das desigualdades sociais e regionais entre os princípios a serem observados pela Política Nacional da Agricultura Familiar e Empreendimentos Familiares Rurais e determina ao poder público tratamento especial quanto a linhas de crédito rural e serviços de assistência técnica e extensão rural destinados a agricultores familiares e empreendimentos familiares rurais situados na Região do Marajó.</td>\n",
       "      <td id=\"T_37cf1_row7_col5\" class=\"data row7 col5\" >Pronta para Pauta</td>\n",
       "    </tr>\n",
       "    <tr>\n",
       "      <th id=\"T_37cf1_level0_row8\" class=\"row_heading level0 row8\" >8</th>\n",
       "      <td id=\"T_37cf1_row8_col0\" class=\"data row8 col0\" >2336393</td>\n",
       "      <td id=\"T_37cf1_row8_col1\" class=\"data row8 col1\" >PL</td>\n",
       "      <td id=\"T_37cf1_row8_col2\" class=\"data row8 col2\" >2685</td>\n",
       "      <td id=\"T_37cf1_row8_col3\" class=\"data row8 col3\" >2022</td>\n",
       "      <td id=\"T_37cf1_row8_col4\" class=\"data row8 col4\" >Institui o Programa Nacional de Renegociação das Dívidas das Famílias – ReFamília e estabelece a necessidade de imposição de limite aos juros cobrados na modalidade cartão de crédito rotativo.\n",
       "  NOVA EMENTA: Institui o Programa Emergencial de Renegociação de Dívidas de Pessoas Físicas Inadimplentes - Desenrola Brasil; estabelece normas para facilitação de acesso a crédito e mitigação de riscos de inadimplemento e de superendividamento de pessoas físicas; altera a Consolidação das Leis do Trabalho, aprovada pelo Decreto-Lei nº 5.452, de 1º de maio de 1943, e as Leis nºs 10.406, de 10 de janeiro de 2002 (Código Civil), 10.522, de 19 de julho de 2002 e 12.087, de 11 de novembro de 2009; e revoga dispositivo da Lei nº 4.737, de 15 de julho de 1965 (Código Eleitoral), e a Medida Provisória nº 1.176, de 5 de junho de 2023.</td>\n",
       "      <td id=\"T_37cf1_row8_col5\" class=\"data row8 col5\" >Transformado em Norma Jurídica</td>\n",
       "    </tr>\n",
       "    <tr>\n",
       "      <th id=\"T_37cf1_level0_row9\" class=\"row_heading level0 row9\" >9</th>\n",
       "      <td id=\"T_37cf1_row9_col0\" class=\"data row9 col0\" >2362887</td>\n",
       "      <td id=\"T_37cf1_row9_col1\" class=\"data row9 col1\" >PL</td>\n",
       "      <td id=\"T_37cf1_row9_col2\" class=\"data row9 col2\" >2632</td>\n",
       "      <td id=\"T_37cf1_row9_col3\" class=\"data row9 col3\" >2023</td>\n",
       "      <td id=\"T_37cf1_row9_col4\" class=\"data row9 col4\" >Estabelece o crédito responsável e assegura a garantia do mínimo existencial para os endividados.</td>\n",
       "      <td id=\"T_37cf1_row9_col5\" class=\"data row9 col5\" >Pronta para Pauta</td>\n",
       "    </tr>\n",
       "    <tr>\n",
       "      <th id=\"T_37cf1_level0_row10\" class=\"row_heading level0 row10\" >10</th>\n",
       "      <td id=\"T_37cf1_row10_col0\" class=\"data row10 col0\" >2389585</td>\n",
       "      <td id=\"T_37cf1_row10_col1\" class=\"data row10 col1\" >PL</td>\n",
       "      <td id=\"T_37cf1_row10_col2\" class=\"data row10 col2\" >4601</td>\n",
       "      <td id=\"T_37cf1_row10_col3\" class=\"data row10 col3\" >2023</td>\n",
       "      <td id=\"T_37cf1_row10_col4\" class=\"data row10 col4\" >Autoriza a criação de linha emergencial de crédito rural e a renegociação e prorrogação de operações de crédito rural de custeio e investimento para produtores rurais da pecuária de corte e produtores de leite, que tenham sido prejudicados pela queda de preços de comercialização.</td>\n",
       "      <td id=\"T_37cf1_row10_col5\" class=\"data row10 col5\" >Aguardando Parecer</td>\n",
       "    </tr>\n",
       "    <tr>\n",
       "      <th id=\"T_37cf1_level0_row11\" class=\"row_heading level0 row11\" >11</th>\n",
       "      <td id=\"T_37cf1_row11_col0\" class=\"data row11 col0\" >2391477</td>\n",
       "      <td id=\"T_37cf1_row11_col1\" class=\"data row11 col1\" >PL</td>\n",
       "      <td id=\"T_37cf1_row11_col2\" class=\"data row11 col2\" >4722</td>\n",
       "      <td id=\"T_37cf1_row11_col3\" class=\"data row11 col3\" >2023</td>\n",
       "      <td id=\"T_37cf1_row11_col4\" class=\"data row11 col4\" >Dispõe sobre a concessão de rebate nas operações de crédito rural de custeio de leite contratadas no âmbito do Programa Nacional de Fortalecimento da Agricultura Familiar e do Programa Nacional de Apoio ao Médio Produtor Rural, cujos empreendimentos tenham sido prejudicados por seca ou estiagem.</td>\n",
       "      <td id=\"T_37cf1_row11_col5\" class=\"data row11 col5\" >Tramitando em Conjunto</td>\n",
       "    </tr>\n",
       "    <tr>\n",
       "      <th id=\"T_37cf1_level0_row12\" class=\"row_heading level0 row12\" >12</th>\n",
       "      <td id=\"T_37cf1_row12_col0\" class=\"data row12 col0\" >2398405</td>\n",
       "      <td id=\"T_37cf1_row12_col1\" class=\"data row12 col1\" >PL</td>\n",
       "      <td id=\"T_37cf1_row12_col2\" class=\"data row12 col2\" >5118</td>\n",
       "      <td id=\"T_37cf1_row12_col3\" class=\"data row12 col3\" >2023</td>\n",
       "      <td id=\"T_37cf1_row12_col4\" class=\"data row12 col4\" >Autoriza a criação de linha emergencial de crédito rural e a prorrogação de operações de crédito rural de custeio e investimento para mandiocultores com produções afetadas pela pragaErinnyis ello (mandarová).</td>\n",
       "      <td id=\"T_37cf1_row12_col5\" class=\"data row12 col5\" >None</td>\n",
       "    </tr>\n",
       "    <tr>\n",
       "      <th id=\"T_37cf1_level0_row13\" class=\"row_heading level0 row13\" >13</th>\n",
       "      <td id=\"T_37cf1_row13_col0\" class=\"data row13 col0\" >2398530</td>\n",
       "      <td id=\"T_37cf1_row13_col1\" class=\"data row13 col1\" >PL</td>\n",
       "      <td id=\"T_37cf1_row13_col2\" class=\"data row13 col2\" >5122</td>\n",
       "      <td id=\"T_37cf1_row13_col3\" class=\"data row13 col3\" >2023</td>\n",
       "      <td id=\"T_37cf1_row13_col4\" class=\"data row13 col4\" >Dispõe sobre a liquidação, anistia, renegociação e rebate de dívidas originárias de crédito rural para agricultores, pecuaristas, piscicultores, pescadores e carcinicultores, em geral, e dá outras providências, bem como altera a Lei no 14.554, de 20 de abril de 2023, que altera as Leis nos 13.999, de 18 de maio de 2020, 14.166, de 10 de junho de 2021, 11.540, de 12 de novembro de 2007, e 14.042, de 19 de agosto de 2020, para tratar do refinanciamento de dívidas e altera a Lei no 7.827, de 27 de setembro de 1989, a fim de sanar omissão legislativa.</td>\n",
       "      <td id=\"T_37cf1_row13_col5\" class=\"data row13 col5\" >None</td>\n",
       "    </tr>\n",
       "    <tr>\n",
       "      <th id=\"T_37cf1_level0_row14\" class=\"row_heading level0 row14\" >14</th>\n",
       "      <td id=\"T_37cf1_row14_col0\" class=\"data row14 col0\" >2399527</td>\n",
       "      <td id=\"T_37cf1_row14_col1\" class=\"data row14 col1\" >PL</td>\n",
       "      <td id=\"T_37cf1_row14_col2\" class=\"data row14 col2\" >5213</td>\n",
       "      <td id=\"T_37cf1_row14_col3\" class=\"data row14 col3\" >2023</td>\n",
       "      <td id=\"T_37cf1_row14_col4\" class=\"data row14 col4\" >Concede subvenção extraordinária aos produtores de leite enquadrados na Lei 11.326/2006, prorroga o pagamento de parcela de crédito rural e dá outras providências.</td>\n",
       "      <td id=\"T_37cf1_row14_col5\" class=\"data row14 col5\" >None</td>\n",
       "    </tr>\n",
       "    <tr>\n",
       "      <th id=\"T_37cf1_level0_row15\" class=\"row_heading level0 row15\" >15</th>\n",
       "      <td id=\"T_37cf1_row15_col0\" class=\"data row15 col0\" >2399578</td>\n",
       "      <td id=\"T_37cf1_row15_col1\" class=\"data row15 col1\" >PL</td>\n",
       "      <td id=\"T_37cf1_row15_col2\" class=\"data row15 col2\" >5221</td>\n",
       "      <td id=\"T_37cf1_row15_col3\" class=\"data row15 col3\" >2023</td>\n",
       "      <td id=\"T_37cf1_row15_col4\" class=\"data row15 col4\" >Altera a Lei nº 13.340, de 28 de setembro de 2016, para conceder rebate para liquidação de operações de crédito rural, amortização da dívida a ser repactuada e dá outras providências.</td>\n",
       "      <td id=\"T_37cf1_row15_col5\" class=\"data row15 col5\" >None</td>\n",
       "    </tr>\n",
       "  </tbody>\n",
       "</table>\n"
      ],
      "text/plain": [
       "<pandas.io.formats.style.Styler at 0x211e4ac1060>"
      ]
     },
     "execution_count": 4,
     "metadata": {},
     "output_type": "execute_result"
    }
   ],
   "source": [
    "df = pd.DataFrame(projetos, columns=colunas)\n",
    "df.style.set_properties(lw={0: 2})"
   ]
  },
  {
   "cell_type": "code",
   "execution_count": 5,
   "id": "caa349dc-0853-45a8-b4b1-3795ed214d56",
   "metadata": {},
   "outputs": [
    {
     "data": {
      "text/plain": [
       "situacaoTramitacao\n",
       "Aguardando Parecer                3\n",
       "Tramitando em Conjunto            2\n",
       "Pronta para Pauta                 2\n",
       "Aguardando Encaminhamento         1\n",
       "Aguardando Vistas                 1\n",
       "Transformado em Norma Jurídica    1\n",
       "Name: count, dtype: int64"
      ]
     },
     "execution_count": 5,
     "metadata": {},
     "output_type": "execute_result"
    }
   ],
   "source": [
    "df[\"situacaoTramitacao\"].value_counts()"
   ]
  },
  {
   "cell_type": "code",
   "execution_count": 66,
   "id": "72e19f7d-36d2-4f5c-b1c8-ac928e1f64ab",
   "metadata": {
    "tags": []
   },
   "outputs": [
    {
     "data": {
      "text/html": [
       "<style type=\"text/css\">\n",
       "#T_3441f_row0_col0, #T_3441f_row0_col1, #T_3441f_row0_col2, #T_3441f_row0_col3, #T_3441f_row0_col4, #T_3441f_row0_col5, #T_3441f_row1_col0, #T_3441f_row1_col1, #T_3441f_row1_col2, #T_3441f_row1_col3, #T_3441f_row1_col4, #T_3441f_row1_col5, #T_3441f_row2_col0, #T_3441f_row2_col1, #T_3441f_row2_col2, #T_3441f_row2_col3, #T_3441f_row2_col4, #T_3441f_row2_col5 {\n",
       "  lw: {0;\n",
       "}\n",
       "</style>\n",
       "<table id=\"T_3441f\">\n",
       "  <thead>\n",
       "    <tr>\n",
       "      <th class=\"blank level0\" >&nbsp;</th>\n",
       "      <th id=\"T_3441f_level0_col0\" class=\"col_heading level0 col0\" >id</th>\n",
       "      <th id=\"T_3441f_level0_col1\" class=\"col_heading level0 col1\" >siglaTipo</th>\n",
       "      <th id=\"T_3441f_level0_col2\" class=\"col_heading level0 col2\" >numero</th>\n",
       "      <th id=\"T_3441f_level0_col3\" class=\"col_heading level0 col3\" >ano</th>\n",
       "      <th id=\"T_3441f_level0_col4\" class=\"col_heading level0 col4\" >ementa</th>\n",
       "      <th id=\"T_3441f_level0_col5\" class=\"col_heading level0 col5\" >situacaoTramitacao</th>\n",
       "    </tr>\n",
       "  </thead>\n",
       "  <tbody>\n",
       "    <tr>\n",
       "      <th id=\"T_3441f_level0_row0\" class=\"row_heading level0 row0\" >0</th>\n",
       "      <td id=\"T_3441f_row0_col0\" class=\"data row0 col0\" >558073</td>\n",
       "      <td id=\"T_3441f_row0_col1\" class=\"data row0 col1\" >PL</td>\n",
       "      <td id=\"T_3441f_row0_col2\" class=\"data row0 col2\" >4620</td>\n",
       "      <td id=\"T_3441f_row0_col3\" class=\"data row0 col3\" >2012</td>\n",
       "      <td id=\"T_3441f_row0_col4\" class=\"data row0 col4\" >Altera o art. 49 da Lei nº 8.171, de 17 de janeiro de 1991, com o objetivo de incluir como beneficiários de crédito rural as comunidades quilombolas, ribeirinhas e quebradoras de coco babaçu, atingidos por barragens e assentados da reforma agrária.</td>\n",
       "      <td id=\"T_3441f_row0_col5\" class=\"data row0 col5\" >Aguardando Parecer</td>\n",
       "    </tr>\n",
       "    <tr>\n",
       "      <th id=\"T_3441f_level0_row1\" class=\"row_heading level0 row1\" >5</th>\n",
       "      <td id=\"T_3441f_row1_col0\" class=\"data row1 col0\" >2298695</td>\n",
       "      <td id=\"T_3441f_row1_col1\" class=\"data row1 col1\" >PL</td>\n",
       "      <td id=\"T_3441f_row1_col2\" class=\"data row1 col2\" >3156</td>\n",
       "      <td id=\"T_3441f_row1_col3\" class=\"data row1 col3\" >2021</td>\n",
       "      <td id=\"T_3441f_row1_col4\" class=\"data row1 col4\" >Dispõe sobre a prevenção e combate ao Superendividamento do Consumidor e dá outras previdências.</td>\n",
       "      <td id=\"T_3441f_row1_col5\" class=\"data row1 col5\" >Aguardando Parecer</td>\n",
       "    </tr>\n",
       "    <tr>\n",
       "      <th id=\"T_3441f_level0_row2\" class=\"row_heading level0 row2\" >10</th>\n",
       "      <td id=\"T_3441f_row2_col0\" class=\"data row2 col0\" >2389585</td>\n",
       "      <td id=\"T_3441f_row2_col1\" class=\"data row2 col1\" >PL</td>\n",
       "      <td id=\"T_3441f_row2_col2\" class=\"data row2 col2\" >4601</td>\n",
       "      <td id=\"T_3441f_row2_col3\" class=\"data row2 col3\" >2023</td>\n",
       "      <td id=\"T_3441f_row2_col4\" class=\"data row2 col4\" >Autoriza a criação de linha emergencial de crédito rural e a renegociação e prorrogação de operações de crédito rural de custeio e investimento para produtores rurais da pecuária de corte e produtores de leite, que tenham sido prejudicados pela queda de preços de comercialização.</td>\n",
       "      <td id=\"T_3441f_row2_col5\" class=\"data row2 col5\" >Aguardando Parecer</td>\n",
       "    </tr>\n",
       "  </tbody>\n",
       "</table>\n"
      ],
      "text/plain": [
       "<pandas.io.formats.style.Styler at 0x211eb5df370>"
      ]
     },
     "execution_count": 66,
     "metadata": {},
     "output_type": "execute_result"
    }
   ],
   "source": [
    "Proposicoes_apresentadas = df[df[\"situacaoTramitacao\"] == \"Aguardando Parecer\"]\n",
    "Proposicoes_apresentadas.style.set_properties(lw={0: 2})"
   ]
  },
  {
   "cell_type": "code",
   "execution_count": 92,
   "id": "39ab0ba6-0429-470e-9a06-cf456c4ba7e3",
   "metadata": {},
   "outputs": [
    {
     "name": "stdout",
     "output_type": "stream",
     "text": [
      "<class 'pandas.core.frame.DataFrame'>\n",
      "RangeIndex: 16 entries, 0 to 15\n",
      "Data columns (total 6 columns):\n",
      " #   Column              Non-Null Count  Dtype \n",
      "---  ------              --------------  ----- \n",
      " 0   id                  16 non-null     int64 \n",
      " 1   siglaTipo           16 non-null     object\n",
      " 2   numero              16 non-null     int64 \n",
      " 3   ano                 16 non-null     int64 \n",
      " 4   ementa              16 non-null     object\n",
      " 5   situacaoTramitacao  10 non-null     object\n",
      "dtypes: int64(3), object(3)\n",
      "memory usage: 896.0+ bytes\n"
     ]
    }
   ],
   "source": [
    "new_df=df.copy()\n",
    "new_df.info()"
   ]
  },
  {
   "cell_type": "code",
   "execution_count": 93,
   "id": "4400a767-45b4-4b4e-a856-558106e1a9cb",
   "metadata": {
    "tags": []
   },
   "outputs": [
    {
     "data": {
      "text/plain": [
       "0                 Aguardando Parecer\n",
       "1          Aguardando Encaminhamento\n",
       "2                               None\n",
       "3                               None\n",
       "4                  Aguardando Vistas\n",
       "5                 Aguardando Parecer\n",
       "6             Tramitando em Conjunto\n",
       "7                  Pronta para Pauta\n",
       "8     Transformado em Norma Jurídica\n",
       "9                  Pronta para Pauta\n",
       "10                Aguardando Parecer\n",
       "11            Tramitando em Conjunto\n",
       "12                              None\n",
       "13                              None\n",
       "14                              None\n",
       "15                              None\n",
       "Name: situacaoTramitacao, dtype: object"
      ]
     },
     "execution_count": 93,
     "metadata": {},
     "output_type": "execute_result"
    }
   ],
   "source": [
    "new_df['situacaoTramitacao'].astype('str')"
   ]
  },
  {
   "cell_type": "code",
   "execution_count": 94,
   "id": "95bfd5e6-76a7-4638-a588-afb07c33ee4d",
   "metadata": {
    "tags": []
   },
   "outputs": [],
   "source": [
    "new_df['situacaoTramitacao']=new_df['situacaoTramitacao'].astype('str')"
   ]
  },
  {
   "cell_type": "code",
   "execution_count": 95,
   "id": "e3f119e8-3aa2-44c0-8e47-80bc9f5a18f6",
   "metadata": {
    "tags": []
   },
   "outputs": [],
   "source": [
    "new_df['situacaoTramitacao']=new_df['situacaoTramitacao'].replace(to_replace='None', value='Não informado')"
   ]
  },
  {
   "cell_type": "code",
   "execution_count": 96,
   "id": "9f229215-757c-4981-b9ff-4028752ef0cf",
   "metadata": {
    "tags": []
   },
   "outputs": [
    {
     "data": {
      "text/plain": [
       "Index(['id', 'siglaTipo', 'numero', 'ano', 'ementa', 'situacaoTramitacao'], dtype='object')"
      ]
     },
     "execution_count": 96,
     "metadata": {},
     "output_type": "execute_result"
    }
   ],
   "source": [
    "new_df.columns"
   ]
  },
  {
   "cell_type": "code",
   "execution_count": 97,
   "id": "21855395-6f9b-406f-a801-93526c80382b",
   "metadata": {
    "tags": []
   },
   "outputs": [
    {
     "data": {
      "text/html": [
       "<div>\n",
       "<style scoped>\n",
       "    .dataframe tbody tr th:only-of-type {\n",
       "        vertical-align: middle;\n",
       "    }\n",
       "\n",
       "    .dataframe tbody tr th {\n",
       "        vertical-align: top;\n",
       "    }\n",
       "\n",
       "    .dataframe thead th {\n",
       "        text-align: right;\n",
       "    }\n",
       "</style>\n",
       "<table border=\"1\" class=\"dataframe\">\n",
       "  <thead>\n",
       "    <tr style=\"text-align: right;\">\n",
       "      <th></th>\n",
       "      <th>id</th>\n",
       "      <th>Tipo</th>\n",
       "      <th>Número</th>\n",
       "      <th>Ano</th>\n",
       "      <th>Ementa</th>\n",
       "      <th>Situação</th>\n",
       "    </tr>\n",
       "  </thead>\n",
       "  <tbody>\n",
       "    <tr>\n",
       "      <th>0</th>\n",
       "      <td>558073</td>\n",
       "      <td>PL</td>\n",
       "      <td>4620</td>\n",
       "      <td>2012</td>\n",
       "      <td>Altera o art. 49 da Lei nº 8.171, de 17 de jan...</td>\n",
       "      <td>Aguardando Parecer</td>\n",
       "    </tr>\n",
       "    <tr>\n",
       "      <th>1</th>\n",
       "      <td>2152723</td>\n",
       "      <td>PL</td>\n",
       "      <td>8676</td>\n",
       "      <td>2017</td>\n",
       "      <td>Acrescenta Capítulo VI-A à Lei nº 4.829, de 5 ...</td>\n",
       "      <td>Aguardando Encaminhamento</td>\n",
       "    </tr>\n",
       "    <tr>\n",
       "      <th>2</th>\n",
       "      <td>2214197</td>\n",
       "      <td>PL</td>\n",
       "      <td>4347</td>\n",
       "      <td>2019</td>\n",
       "      <td>Altera a Lei nº 13.606, de 9 de janeiro de 201...</td>\n",
       "      <td>Não informado</td>\n",
       "    </tr>\n",
       "    <tr>\n",
       "      <th>3</th>\n",
       "      <td>2264343</td>\n",
       "      <td>PL</td>\n",
       "      <td>4927</td>\n",
       "      <td>2020</td>\n",
       "      <td>Altera a redação do art. 10 da Lei 4.829/1965 ...</td>\n",
       "      <td>Não informado</td>\n",
       "    </tr>\n",
       "    <tr>\n",
       "      <th>4</th>\n",
       "      <td>2269820</td>\n",
       "      <td>PL</td>\n",
       "      <td>348</td>\n",
       "      <td>2021</td>\n",
       "      <td>Institui linha especial de crédito rural</td>\n",
       "      <td>Aguardando Vistas</td>\n",
       "    </tr>\n",
       "    <tr>\n",
       "      <th>5</th>\n",
       "      <td>2298695</td>\n",
       "      <td>PL</td>\n",
       "      <td>3156</td>\n",
       "      <td>2021</td>\n",
       "      <td>Dispõe sobre a prevenção e combate ao Superend...</td>\n",
       "      <td>Aguardando Parecer</td>\n",
       "    </tr>\n",
       "    <tr>\n",
       "      <th>6</th>\n",
       "      <td>2313849</td>\n",
       "      <td>PL</td>\n",
       "      <td>60</td>\n",
       "      <td>2022</td>\n",
       "      <td>Dispõe sobre a remissão e a prorrogação de par...</td>\n",
       "      <td>Tramitando em Conjunto</td>\n",
       "    </tr>\n",
       "    <tr>\n",
       "      <th>7</th>\n",
       "      <td>2317628</td>\n",
       "      <td>PL</td>\n",
       "      <td>486</td>\n",
       "      <td>2020</td>\n",
       "      <td>Altera a Lei nº 11.326, de 24 de julho de 2006...</td>\n",
       "      <td>Pronta para Pauta</td>\n",
       "    </tr>\n",
       "    <tr>\n",
       "      <th>8</th>\n",
       "      <td>2336393</td>\n",
       "      <td>PL</td>\n",
       "      <td>2685</td>\n",
       "      <td>2022</td>\n",
       "      <td>Institui o Programa Nacional de Renegociação d...</td>\n",
       "      <td>Transformado em Norma Jurídica</td>\n",
       "    </tr>\n",
       "    <tr>\n",
       "      <th>9</th>\n",
       "      <td>2362887</td>\n",
       "      <td>PL</td>\n",
       "      <td>2632</td>\n",
       "      <td>2023</td>\n",
       "      <td>Estabelece o crédito responsável e assegura a ...</td>\n",
       "      <td>Pronta para Pauta</td>\n",
       "    </tr>\n",
       "    <tr>\n",
       "      <th>10</th>\n",
       "      <td>2389585</td>\n",
       "      <td>PL</td>\n",
       "      <td>4601</td>\n",
       "      <td>2023</td>\n",
       "      <td>Autoriza a criação de linha emergencial de cré...</td>\n",
       "      <td>Aguardando Parecer</td>\n",
       "    </tr>\n",
       "    <tr>\n",
       "      <th>11</th>\n",
       "      <td>2391477</td>\n",
       "      <td>PL</td>\n",
       "      <td>4722</td>\n",
       "      <td>2023</td>\n",
       "      <td>Dispõe sobre a concessão de rebate nas operaçõ...</td>\n",
       "      <td>Tramitando em Conjunto</td>\n",
       "    </tr>\n",
       "    <tr>\n",
       "      <th>12</th>\n",
       "      <td>2398405</td>\n",
       "      <td>PL</td>\n",
       "      <td>5118</td>\n",
       "      <td>2023</td>\n",
       "      <td>Autoriza a criação de linha emergencial de cré...</td>\n",
       "      <td>Não informado</td>\n",
       "    </tr>\n",
       "    <tr>\n",
       "      <th>13</th>\n",
       "      <td>2398530</td>\n",
       "      <td>PL</td>\n",
       "      <td>5122</td>\n",
       "      <td>2023</td>\n",
       "      <td>Dispõe sobre a liquidação, anistia, renegociaç...</td>\n",
       "      <td>Não informado</td>\n",
       "    </tr>\n",
       "    <tr>\n",
       "      <th>14</th>\n",
       "      <td>2399527</td>\n",
       "      <td>PL</td>\n",
       "      <td>5213</td>\n",
       "      <td>2023</td>\n",
       "      <td>Concede subvenção extraordinária aos produtore...</td>\n",
       "      <td>Não informado</td>\n",
       "    </tr>\n",
       "    <tr>\n",
       "      <th>15</th>\n",
       "      <td>2399578</td>\n",
       "      <td>PL</td>\n",
       "      <td>5221</td>\n",
       "      <td>2023</td>\n",
       "      <td>Altera a Lei nº 13.340, de 28 de setembro de 2...</td>\n",
       "      <td>Não informado</td>\n",
       "    </tr>\n",
       "  </tbody>\n",
       "</table>\n",
       "</div>"
      ],
      "text/plain": [
       "         id Tipo  Número   Ano  \\\n",
       "0    558073   PL    4620  2012   \n",
       "1   2152723   PL    8676  2017   \n",
       "2   2214197   PL    4347  2019   \n",
       "3   2264343   PL    4927  2020   \n",
       "4   2269820   PL     348  2021   \n",
       "5   2298695   PL    3156  2021   \n",
       "6   2313849   PL      60  2022   \n",
       "7   2317628   PL     486  2020   \n",
       "8   2336393   PL    2685  2022   \n",
       "9   2362887   PL    2632  2023   \n",
       "10  2389585   PL    4601  2023   \n",
       "11  2391477   PL    4722  2023   \n",
       "12  2398405   PL    5118  2023   \n",
       "13  2398530   PL    5122  2023   \n",
       "14  2399527   PL    5213  2023   \n",
       "15  2399578   PL    5221  2023   \n",
       "\n",
       "                                               Ementa  \\\n",
       "0   Altera o art. 49 da Lei nº 8.171, de 17 de jan...   \n",
       "1   Acrescenta Capítulo VI-A à Lei nº 4.829, de 5 ...   \n",
       "2   Altera a Lei nº 13.606, de 9 de janeiro de 201...   \n",
       "3   Altera a redação do art. 10 da Lei 4.829/1965 ...   \n",
       "4            Institui linha especial de crédito rural   \n",
       "5   Dispõe sobre a prevenção e combate ao Superend...   \n",
       "6   Dispõe sobre a remissão e a prorrogação de par...   \n",
       "7   Altera a Lei nº 11.326, de 24 de julho de 2006...   \n",
       "8   Institui o Programa Nacional de Renegociação d...   \n",
       "9   Estabelece o crédito responsável e assegura a ...   \n",
       "10  Autoriza a criação de linha emergencial de cré...   \n",
       "11  Dispõe sobre a concessão de rebate nas operaçõ...   \n",
       "12  Autoriza a criação de linha emergencial de cré...   \n",
       "13  Dispõe sobre a liquidação, anistia, renegociaç...   \n",
       "14  Concede subvenção extraordinária aos produtore...   \n",
       "15  Altera a Lei nº 13.340, de 28 de setembro de 2...   \n",
       "\n",
       "                          Situação  \n",
       "0               Aguardando Parecer  \n",
       "1        Aguardando Encaminhamento  \n",
       "2                    Não informado  \n",
       "3                    Não informado  \n",
       "4                Aguardando Vistas  \n",
       "5               Aguardando Parecer  \n",
       "6           Tramitando em Conjunto  \n",
       "7                Pronta para Pauta  \n",
       "8   Transformado em Norma Jurídica  \n",
       "9                Pronta para Pauta  \n",
       "10              Aguardando Parecer  \n",
       "11          Tramitando em Conjunto  \n",
       "12                   Não informado  \n",
       "13                   Não informado  \n",
       "14                   Não informado  \n",
       "15                   Não informado  "
      ]
     },
     "execution_count": 97,
     "metadata": {},
     "output_type": "execute_result"
    }
   ],
   "source": [
    "new_df.columns = [\"id\", \"Tipo\", \"Número\", \"Ano\", \"Ementa\", \"Situação\"] \n",
    "new_df"
   ]
  },
  {
   "cell_type": "code",
   "execution_count": 98,
   "id": "8c405329-e2a6-4b49-ae49-230520b11dae",
   "metadata": {
    "tags": []
   },
   "outputs": [
    {
     "data": {
      "text/html": [
       "<div>\n",
       "<style scoped>\n",
       "    .dataframe tbody tr th:only-of-type {\n",
       "        vertical-align: middle;\n",
       "    }\n",
       "\n",
       "    .dataframe tbody tr th {\n",
       "        vertical-align: top;\n",
       "    }\n",
       "\n",
       "    .dataframe thead th {\n",
       "        text-align: right;\n",
       "    }\n",
       "</style>\n",
       "<table border=\"1\" class=\"dataframe\">\n",
       "  <thead>\n",
       "    <tr style=\"text-align: right;\">\n",
       "      <th></th>\n",
       "      <th>Tipo</th>\n",
       "      <th>Número</th>\n",
       "      <th>Ano</th>\n",
       "      <th>Ementa</th>\n",
       "      <th>Situação</th>\n",
       "    </tr>\n",
       "  </thead>\n",
       "  <tbody>\n",
       "    <tr>\n",
       "      <th>0</th>\n",
       "      <td>PL</td>\n",
       "      <td>4620</td>\n",
       "      <td>2012</td>\n",
       "      <td>Altera o art. 49 da Lei nº 8.171, de 17 de jan...</td>\n",
       "      <td>Aguardando Parecer</td>\n",
       "    </tr>\n",
       "    <tr>\n",
       "      <th>1</th>\n",
       "      <td>PL</td>\n",
       "      <td>8676</td>\n",
       "      <td>2017</td>\n",
       "      <td>Acrescenta Capítulo VI-A à Lei nº 4.829, de 5 ...</td>\n",
       "      <td>Aguardando Encaminhamento</td>\n",
       "    </tr>\n",
       "    <tr>\n",
       "      <th>2</th>\n",
       "      <td>PL</td>\n",
       "      <td>4347</td>\n",
       "      <td>2019</td>\n",
       "      <td>Altera a Lei nº 13.606, de 9 de janeiro de 201...</td>\n",
       "      <td>Não informado</td>\n",
       "    </tr>\n",
       "    <tr>\n",
       "      <th>3</th>\n",
       "      <td>PL</td>\n",
       "      <td>4927</td>\n",
       "      <td>2020</td>\n",
       "      <td>Altera a redação do art. 10 da Lei 4.829/1965 ...</td>\n",
       "      <td>Não informado</td>\n",
       "    </tr>\n",
       "    <tr>\n",
       "      <th>4</th>\n",
       "      <td>PL</td>\n",
       "      <td>348</td>\n",
       "      <td>2021</td>\n",
       "      <td>Institui linha especial de crédito rural</td>\n",
       "      <td>Aguardando Vistas</td>\n",
       "    </tr>\n",
       "    <tr>\n",
       "      <th>5</th>\n",
       "      <td>PL</td>\n",
       "      <td>3156</td>\n",
       "      <td>2021</td>\n",
       "      <td>Dispõe sobre a prevenção e combate ao Superend...</td>\n",
       "      <td>Aguardando Parecer</td>\n",
       "    </tr>\n",
       "    <tr>\n",
       "      <th>6</th>\n",
       "      <td>PL</td>\n",
       "      <td>60</td>\n",
       "      <td>2022</td>\n",
       "      <td>Dispõe sobre a remissão e a prorrogação de par...</td>\n",
       "      <td>Tramitando em Conjunto</td>\n",
       "    </tr>\n",
       "    <tr>\n",
       "      <th>7</th>\n",
       "      <td>PL</td>\n",
       "      <td>486</td>\n",
       "      <td>2020</td>\n",
       "      <td>Altera a Lei nº 11.326, de 24 de julho de 2006...</td>\n",
       "      <td>Pronta para Pauta</td>\n",
       "    </tr>\n",
       "    <tr>\n",
       "      <th>8</th>\n",
       "      <td>PL</td>\n",
       "      <td>2685</td>\n",
       "      <td>2022</td>\n",
       "      <td>Institui o Programa Nacional de Renegociação d...</td>\n",
       "      <td>Transformado em Norma Jurídica</td>\n",
       "    </tr>\n",
       "    <tr>\n",
       "      <th>9</th>\n",
       "      <td>PL</td>\n",
       "      <td>2632</td>\n",
       "      <td>2023</td>\n",
       "      <td>Estabelece o crédito responsável e assegura a ...</td>\n",
       "      <td>Pronta para Pauta</td>\n",
       "    </tr>\n",
       "    <tr>\n",
       "      <th>10</th>\n",
       "      <td>PL</td>\n",
       "      <td>4601</td>\n",
       "      <td>2023</td>\n",
       "      <td>Autoriza a criação de linha emergencial de cré...</td>\n",
       "      <td>Aguardando Parecer</td>\n",
       "    </tr>\n",
       "    <tr>\n",
       "      <th>11</th>\n",
       "      <td>PL</td>\n",
       "      <td>4722</td>\n",
       "      <td>2023</td>\n",
       "      <td>Dispõe sobre a concessão de rebate nas operaçõ...</td>\n",
       "      <td>Tramitando em Conjunto</td>\n",
       "    </tr>\n",
       "    <tr>\n",
       "      <th>12</th>\n",
       "      <td>PL</td>\n",
       "      <td>5118</td>\n",
       "      <td>2023</td>\n",
       "      <td>Autoriza a criação de linha emergencial de cré...</td>\n",
       "      <td>Não informado</td>\n",
       "    </tr>\n",
       "    <tr>\n",
       "      <th>13</th>\n",
       "      <td>PL</td>\n",
       "      <td>5122</td>\n",
       "      <td>2023</td>\n",
       "      <td>Dispõe sobre a liquidação, anistia, renegociaç...</td>\n",
       "      <td>Não informado</td>\n",
       "    </tr>\n",
       "    <tr>\n",
       "      <th>14</th>\n",
       "      <td>PL</td>\n",
       "      <td>5213</td>\n",
       "      <td>2023</td>\n",
       "      <td>Concede subvenção extraordinária aos produtore...</td>\n",
       "      <td>Não informado</td>\n",
       "    </tr>\n",
       "    <tr>\n",
       "      <th>15</th>\n",
       "      <td>PL</td>\n",
       "      <td>5221</td>\n",
       "      <td>2023</td>\n",
       "      <td>Altera a Lei nº 13.340, de 28 de setembro de 2...</td>\n",
       "      <td>Não informado</td>\n",
       "    </tr>\n",
       "  </tbody>\n",
       "</table>\n",
       "</div>"
      ],
      "text/plain": [
       "   Tipo  Número   Ano                                             Ementa  \\\n",
       "0    PL    4620  2012  Altera o art. 49 da Lei nº 8.171, de 17 de jan...   \n",
       "1    PL    8676  2017  Acrescenta Capítulo VI-A à Lei nº 4.829, de 5 ...   \n",
       "2    PL    4347  2019  Altera a Lei nº 13.606, de 9 de janeiro de 201...   \n",
       "3    PL    4927  2020  Altera a redação do art. 10 da Lei 4.829/1965 ...   \n",
       "4    PL     348  2021           Institui linha especial de crédito rural   \n",
       "5    PL    3156  2021  Dispõe sobre a prevenção e combate ao Superend...   \n",
       "6    PL      60  2022  Dispõe sobre a remissão e a prorrogação de par...   \n",
       "7    PL     486  2020  Altera a Lei nº 11.326, de 24 de julho de 2006...   \n",
       "8    PL    2685  2022  Institui o Programa Nacional de Renegociação d...   \n",
       "9    PL    2632  2023  Estabelece o crédito responsável e assegura a ...   \n",
       "10   PL    4601  2023  Autoriza a criação de linha emergencial de cré...   \n",
       "11   PL    4722  2023  Dispõe sobre a concessão de rebate nas operaçõ...   \n",
       "12   PL    5118  2023  Autoriza a criação de linha emergencial de cré...   \n",
       "13   PL    5122  2023  Dispõe sobre a liquidação, anistia, renegociaç...   \n",
       "14   PL    5213  2023  Concede subvenção extraordinária aos produtore...   \n",
       "15   PL    5221  2023  Altera a Lei nº 13.340, de 28 de setembro de 2...   \n",
       "\n",
       "                          Situação  \n",
       "0               Aguardando Parecer  \n",
       "1        Aguardando Encaminhamento  \n",
       "2                    Não informado  \n",
       "3                    Não informado  \n",
       "4                Aguardando Vistas  \n",
       "5               Aguardando Parecer  \n",
       "6           Tramitando em Conjunto  \n",
       "7                Pronta para Pauta  \n",
       "8   Transformado em Norma Jurídica  \n",
       "9                Pronta para Pauta  \n",
       "10              Aguardando Parecer  \n",
       "11          Tramitando em Conjunto  \n",
       "12                   Não informado  \n",
       "13                   Não informado  \n",
       "14                   Não informado  \n",
       "15                   Não informado  "
      ]
     },
     "execution_count": 98,
     "metadata": {},
     "output_type": "execute_result"
    }
   ],
   "source": [
    "new_df = new_df.drop('id', axis=1)\n",
    "new_df"
   ]
  },
  {
   "cell_type": "code",
   "execution_count": 99,
   "id": "8aca0e26-b2a5-491f-898e-743c93aec109",
   "metadata": {
    "tags": []
   },
   "outputs": [],
   "source": [
    "# Print DataFrame without index \n",
    "blankIndex=[''] * len(new_df)\n",
    "new_df.index=blankIndex"
   ]
  },
  {
   "cell_type": "code",
   "execution_count": 90,
   "id": "e62f1f7d-41c8-4c2a-babd-88274ab3f713",
   "metadata": {
    "tags": []
   },
   "outputs": [
    {
     "data": {
      "text/html": [
       "<style type=\"text/css\">\n",
       "</style>\n",
       "<table id=\"T_c729c\">\n",
       "  <caption>Situação da Tramitação das Proposições Legislativas</caption>\n",
       "  <thead>\n",
       "    <tr>\n",
       "      <th class=\"blank level0\" >&nbsp;</th>\n",
       "      <th id=\"T_c729c_level0_col0\" class=\"col_heading level0 col0\" >Tipo</th>\n",
       "      <th id=\"T_c729c_level0_col1\" class=\"col_heading level0 col1\" >Número</th>\n",
       "      <th id=\"T_c729c_level0_col2\" class=\"col_heading level0 col2\" >Ano</th>\n",
       "      <th id=\"T_c729c_level0_col3\" class=\"col_heading level0 col3\" >Ementa</th>\n",
       "      <th id=\"T_c729c_level0_col4\" class=\"col_heading level0 col4\" >Situação</th>\n",
       "    </tr>\n",
       "  </thead>\n",
       "  <tbody>\n",
       "    <tr>\n",
       "      <th id=\"T_c729c_level0_row0\" class=\"row_heading level0 row0\" ></th>\n",
       "      <td id=\"T_c729c_row0_col0\" class=\"data row0 col0\" >PL</td>\n",
       "      <td id=\"T_c729c_row0_col1\" class=\"data row0 col1\" >4620</td>\n",
       "      <td id=\"T_c729c_row0_col2\" class=\"data row0 col2\" >2012</td>\n",
       "      <td id=\"T_c729c_row0_col3\" class=\"data row0 col3\" >Altera o art. 49 da Lei nº 8.171, de 17 de janeiro de 1991, com o objetivo de incluir como beneficiários de crédito rural as comunidades quilombolas, ribeirinhas e quebradoras de coco babaçu, atingidos por barragens e assentados da reforma agrária.</td>\n",
       "      <td id=\"T_c729c_row0_col4\" class=\"data row0 col4\" >Aguardando Parecer</td>\n",
       "    </tr>\n",
       "    <tr>\n",
       "      <th id=\"T_c729c_level0_row1\" class=\"row_heading level0 row1\" ></th>\n",
       "      <td id=\"T_c729c_row1_col0\" class=\"data row1 col0\" >PL</td>\n",
       "      <td id=\"T_c729c_row1_col1\" class=\"data row1 col1\" >8676</td>\n",
       "      <td id=\"T_c729c_row1_col2\" class=\"data row1 col2\" >2017</td>\n",
       "      <td id=\"T_c729c_row1_col3\" class=\"data row1 col3\" >Acrescenta Capítulo VI-A à Lei nº 4.829, de 5 de novembro de 1965, para instituir os procedimentos de prorrogação e de recomposição de débitos de crédito rural.</td>\n",
       "      <td id=\"T_c729c_row1_col4\" class=\"data row1 col4\" >Aguardando Encaminhamento</td>\n",
       "    </tr>\n",
       "    <tr>\n",
       "      <th id=\"T_c729c_level0_row2\" class=\"row_heading level0 row2\" ></th>\n",
       "      <td id=\"T_c729c_row2_col0\" class=\"data row2 col0\" >PL</td>\n",
       "      <td id=\"T_c729c_row2_col1\" class=\"data row2 col1\" >4347</td>\n",
       "      <td id=\"T_c729c_row2_col2\" class=\"data row2 col2\" >2019</td>\n",
       "      <td id=\"T_c729c_row2_col3\" class=\"data row2 col3\" >Altera a Lei nº 13.606, de 9 de janeiro de 2018, para prorrogar os prazos para adesão à renegociação de dívidas de operações de crédito rural que especifica.</td>\n",
       "      <td id=\"T_c729c_row2_col4\" class=\"data row2 col4\" >Não informado</td>\n",
       "    </tr>\n",
       "    <tr>\n",
       "      <th id=\"T_c729c_level0_row3\" class=\"row_heading level0 row3\" ></th>\n",
       "      <td id=\"T_c729c_row3_col0\" class=\"data row3 col0\" >PL</td>\n",
       "      <td id=\"T_c729c_row3_col1\" class=\"data row3 col1\" >4927</td>\n",
       "      <td id=\"T_c729c_row3_col2\" class=\"data row3 col2\" >2020</td>\n",
       "      <td id=\"T_c729c_row3_col3\" class=\"data row3 col3\" >Altera a redação do art. 10 da Lei 4.829/1965 para considerar inidôneo para fins de obtenção de crédito rural os condenados pelo crime previsto no 41 da Lei 9.605/1998</td>\n",
       "      <td id=\"T_c729c_row3_col4\" class=\"data row3 col4\" >Não informado</td>\n",
       "    </tr>\n",
       "    <tr>\n",
       "      <th id=\"T_c729c_level0_row4\" class=\"row_heading level0 row4\" ></th>\n",
       "      <td id=\"T_c729c_row4_col0\" class=\"data row4 col0\" >PL</td>\n",
       "      <td id=\"T_c729c_row4_col1\" class=\"data row4 col1\" >348</td>\n",
       "      <td id=\"T_c729c_row4_col2\" class=\"data row4 col2\" >2021</td>\n",
       "      <td id=\"T_c729c_row4_col3\" class=\"data row4 col3\" >Institui linha especial de crédito rural</td>\n",
       "      <td id=\"T_c729c_row4_col4\" class=\"data row4 col4\" >Aguardando Vistas</td>\n",
       "    </tr>\n",
       "    <tr>\n",
       "      <th id=\"T_c729c_level0_row5\" class=\"row_heading level0 row5\" ></th>\n",
       "      <td id=\"T_c729c_row5_col0\" class=\"data row5 col0\" >PL</td>\n",
       "      <td id=\"T_c729c_row5_col1\" class=\"data row5 col1\" >3156</td>\n",
       "      <td id=\"T_c729c_row5_col2\" class=\"data row5 col2\" >2021</td>\n",
       "      <td id=\"T_c729c_row5_col3\" class=\"data row5 col3\" >Dispõe sobre a prevenção e combate ao Superendividamento do Consumidor e dá outras previdências.</td>\n",
       "      <td id=\"T_c729c_row5_col4\" class=\"data row5 col4\" >Aguardando Parecer</td>\n",
       "    </tr>\n",
       "    <tr>\n",
       "      <th id=\"T_c729c_level0_row6\" class=\"row_heading level0 row6\" ></th>\n",
       "      <td id=\"T_c729c_row6_col0\" class=\"data row6 col0\" >PL</td>\n",
       "      <td id=\"T_c729c_row6_col1\" class=\"data row6 col1\" >60</td>\n",
       "      <td id=\"T_c729c_row6_col2\" class=\"data row6 col2\" >2022</td>\n",
       "      <td id=\"T_c729c_row6_col3\" class=\"data row6 col3\" >Dispõe sobre a remissão e a prorrogação de parcelas de dívidas originárias de operações de crédito rural de responsabilidade de produtores cuja produção da safra do ciclo agrícola 2021/2022 tenha sido prejudicada em razão de excesso hídrico.</td>\n",
       "      <td id=\"T_c729c_row6_col4\" class=\"data row6 col4\" >Tramitando em Conjunto</td>\n",
       "    </tr>\n",
       "    <tr>\n",
       "      <th id=\"T_c729c_level0_row7\" class=\"row_heading level0 row7\" ></th>\n",
       "      <td id=\"T_c729c_row7_col0\" class=\"data row7 col0\" >PL</td>\n",
       "      <td id=\"T_c729c_row7_col1\" class=\"data row7 col1\" >486</td>\n",
       "      <td id=\"T_c729c_row7_col2\" class=\"data row7 col2\" >2020</td>\n",
       "      <td id=\"T_c729c_row7_col3\" class=\"data row7 col3\" >Altera a Lei nº 11.326, de 24 de julho de 2006, para incluir a redução das desigualdades sociais e regionais entre os princípios a serem observados pela Política Nacional da Agricultura Familiar e Empreendimentos Familiares Rurais e determina ao poder público tratamento especial quanto a linhas de crédito rural e serviços de assistência técnica e extensão rural destinados a agricultores familiares e empreendimentos familiares rurais situados na Região do Marajó.</td>\n",
       "      <td id=\"T_c729c_row7_col4\" class=\"data row7 col4\" >Pronta para Pauta</td>\n",
       "    </tr>\n",
       "    <tr>\n",
       "      <th id=\"T_c729c_level0_row8\" class=\"row_heading level0 row8\" ></th>\n",
       "      <td id=\"T_c729c_row8_col0\" class=\"data row8 col0\" >PL</td>\n",
       "      <td id=\"T_c729c_row8_col1\" class=\"data row8 col1\" >2685</td>\n",
       "      <td id=\"T_c729c_row8_col2\" class=\"data row8 col2\" >2022</td>\n",
       "      <td id=\"T_c729c_row8_col3\" class=\"data row8 col3\" >Institui o Programa Nacional de Renegociação das Dívidas das Famílias – ReFamília e estabelece a necessidade de imposição de limite aos juros cobrados na modalidade cartão de crédito rotativo.\n",
       "  NOVA EMENTA: Institui o Programa Emergencial de Renegociação de Dívidas de Pessoas Físicas Inadimplentes - Desenrola Brasil; estabelece normas para facilitação de acesso a crédito e mitigação de riscos de inadimplemento e de superendividamento de pessoas físicas; altera a Consolidação das Leis do Trabalho, aprovada pelo Decreto-Lei nº 5.452, de 1º de maio de 1943, e as Leis nºs 10.406, de 10 de janeiro de 2002 (Código Civil), 10.522, de 19 de julho de 2002 e 12.087, de 11 de novembro de 2009; e revoga dispositivo da Lei nº 4.737, de 15 de julho de 1965 (Código Eleitoral), e a Medida Provisória nº 1.176, de 5 de junho de 2023.</td>\n",
       "      <td id=\"T_c729c_row8_col4\" class=\"data row8 col4\" >Transformado em Norma Jurídica</td>\n",
       "    </tr>\n",
       "    <tr>\n",
       "      <th id=\"T_c729c_level0_row9\" class=\"row_heading level0 row9\" ></th>\n",
       "      <td id=\"T_c729c_row9_col0\" class=\"data row9 col0\" >PL</td>\n",
       "      <td id=\"T_c729c_row9_col1\" class=\"data row9 col1\" >2632</td>\n",
       "      <td id=\"T_c729c_row9_col2\" class=\"data row9 col2\" >2023</td>\n",
       "      <td id=\"T_c729c_row9_col3\" class=\"data row9 col3\" >Estabelece o crédito responsável e assegura a garantia do mínimo existencial para os endividados.</td>\n",
       "      <td id=\"T_c729c_row9_col4\" class=\"data row9 col4\" >Pronta para Pauta</td>\n",
       "    </tr>\n",
       "    <tr>\n",
       "      <th id=\"T_c729c_level0_row10\" class=\"row_heading level0 row10\" ></th>\n",
       "      <td id=\"T_c729c_row10_col0\" class=\"data row10 col0\" >PL</td>\n",
       "      <td id=\"T_c729c_row10_col1\" class=\"data row10 col1\" >4601</td>\n",
       "      <td id=\"T_c729c_row10_col2\" class=\"data row10 col2\" >2023</td>\n",
       "      <td id=\"T_c729c_row10_col3\" class=\"data row10 col3\" >Autoriza a criação de linha emergencial de crédito rural e a renegociação e prorrogação de operações de crédito rural de custeio e investimento para produtores rurais da pecuária de corte e produtores de leite, que tenham sido prejudicados pela queda de preços de comercialização.</td>\n",
       "      <td id=\"T_c729c_row10_col4\" class=\"data row10 col4\" >Aguardando Parecer</td>\n",
       "    </tr>\n",
       "    <tr>\n",
       "      <th id=\"T_c729c_level0_row11\" class=\"row_heading level0 row11\" ></th>\n",
       "      <td id=\"T_c729c_row11_col0\" class=\"data row11 col0\" >PL</td>\n",
       "      <td id=\"T_c729c_row11_col1\" class=\"data row11 col1\" >4722</td>\n",
       "      <td id=\"T_c729c_row11_col2\" class=\"data row11 col2\" >2023</td>\n",
       "      <td id=\"T_c729c_row11_col3\" class=\"data row11 col3\" >Dispõe sobre a concessão de rebate nas operações de crédito rural de custeio de leite contratadas no âmbito do Programa Nacional de Fortalecimento da Agricultura Familiar e do Programa Nacional de Apoio ao Médio Produtor Rural, cujos empreendimentos tenham sido prejudicados por seca ou estiagem.</td>\n",
       "      <td id=\"T_c729c_row11_col4\" class=\"data row11 col4\" >Tramitando em Conjunto</td>\n",
       "    </tr>\n",
       "    <tr>\n",
       "      <th id=\"T_c729c_level0_row12\" class=\"row_heading level0 row12\" ></th>\n",
       "      <td id=\"T_c729c_row12_col0\" class=\"data row12 col0\" >PL</td>\n",
       "      <td id=\"T_c729c_row12_col1\" class=\"data row12 col1\" >5118</td>\n",
       "      <td id=\"T_c729c_row12_col2\" class=\"data row12 col2\" >2023</td>\n",
       "      <td id=\"T_c729c_row12_col3\" class=\"data row12 col3\" >Autoriza a criação de linha emergencial de crédito rural e a prorrogação de operações de crédito rural de custeio e investimento para mandiocultores com produções afetadas pela pragaErinnyis ello (mandarová).</td>\n",
       "      <td id=\"T_c729c_row12_col4\" class=\"data row12 col4\" >Não informado</td>\n",
       "    </tr>\n",
       "    <tr>\n",
       "      <th id=\"T_c729c_level0_row13\" class=\"row_heading level0 row13\" ></th>\n",
       "      <td id=\"T_c729c_row13_col0\" class=\"data row13 col0\" >PL</td>\n",
       "      <td id=\"T_c729c_row13_col1\" class=\"data row13 col1\" >5122</td>\n",
       "      <td id=\"T_c729c_row13_col2\" class=\"data row13 col2\" >2023</td>\n",
       "      <td id=\"T_c729c_row13_col3\" class=\"data row13 col3\" >Dispõe sobre a liquidação, anistia, renegociação e rebate de dívidas originárias de crédito rural para agricultores, pecuaristas, piscicultores, pescadores e carcinicultores, em geral, e dá outras providências, bem como altera a Lei no 14.554, de 20 de abril de 2023, que altera as Leis nos 13.999, de 18 de maio de 2020, 14.166, de 10 de junho de 2021, 11.540, de 12 de novembro de 2007, e 14.042, de 19 de agosto de 2020, para tratar do refinanciamento de dívidas e altera a Lei no 7.827, de 27 de setembro de 1989, a fim de sanar omissão legislativa.</td>\n",
       "      <td id=\"T_c729c_row13_col4\" class=\"data row13 col4\" >Não informado</td>\n",
       "    </tr>\n",
       "    <tr>\n",
       "      <th id=\"T_c729c_level0_row14\" class=\"row_heading level0 row14\" ></th>\n",
       "      <td id=\"T_c729c_row14_col0\" class=\"data row14 col0\" >PL</td>\n",
       "      <td id=\"T_c729c_row14_col1\" class=\"data row14 col1\" >5213</td>\n",
       "      <td id=\"T_c729c_row14_col2\" class=\"data row14 col2\" >2023</td>\n",
       "      <td id=\"T_c729c_row14_col3\" class=\"data row14 col3\" >Concede subvenção extraordinária aos produtores de leite enquadrados na Lei 11.326/2006, prorroga o pagamento de parcela de crédito rural e dá outras providências.</td>\n",
       "      <td id=\"T_c729c_row14_col4\" class=\"data row14 col4\" >Não informado</td>\n",
       "    </tr>\n",
       "    <tr>\n",
       "      <th id=\"T_c729c_level0_row15\" class=\"row_heading level0 row15\" ></th>\n",
       "      <td id=\"T_c729c_row15_col0\" class=\"data row15 col0\" >PL</td>\n",
       "      <td id=\"T_c729c_row15_col1\" class=\"data row15 col1\" >5221</td>\n",
       "      <td id=\"T_c729c_row15_col2\" class=\"data row15 col2\" >2023</td>\n",
       "      <td id=\"T_c729c_row15_col3\" class=\"data row15 col3\" >Altera a Lei nº 13.340, de 28 de setembro de 2016, para conceder rebate para liquidação de operações de crédito rural, amortização da dívida a ser repactuada e dá outras providências.</td>\n",
       "      <td id=\"T_c729c_row15_col4\" class=\"data row15 col4\" >Não informado</td>\n",
       "    </tr>\n",
       "  </tbody>\n",
       "</table>\n"
      ],
      "text/plain": [
       "<pandas.io.formats.style.Styler at 0x211ee0ed390>"
      ]
     },
     "execution_count": 90,
     "metadata": {},
     "output_type": "execute_result"
    }
   ],
   "source": [
    "new_df.style.set_caption(\"Situação da Tramitação das Proposições Legislativas\")\n"
   ]
  },
  {
   "cell_type": "code",
   "execution_count": 100,
   "id": "b93e6744-2125-42ba-9578-cecf4a259311",
   "metadata": {
    "tags": []
   },
   "outputs": [],
   "source": [
    "import plotly.graph_objects as go"
   ]
  },
  {
   "cell_type": "code",
   "execution_count": 101,
   "id": "6bc7e703-2ef6-4aa2-8877-d1fc6eeae6e8",
   "metadata": {
    "tags": []
   },
   "outputs": [
    {
     "data": {
      "application/vnd.plotly.v1+json": {
       "config": {
        "plotlyServerURL": "https://plot.ly"
       },
       "data": [
        {
         "cells": {
          "align": [
           "left",
           "center"
          ],
          "fill": {
           "color": "lavender"
          },
          "values": [
           [
            "PL",
            "PL",
            "PL",
            "PL",
            "PL",
            "PL",
            "PL",
            "PL",
            "PL",
            "PL",
            "PL",
            "PL",
            "PL",
            "PL",
            "PL",
            "PL"
           ],
           [
            4620,
            8676,
            4347,
            4927,
            348,
            3156,
            60,
            486,
            2685,
            2632,
            4601,
            4722,
            5118,
            5122,
            5213,
            5221
           ],
           [
            2012,
            2017,
            2019,
            2020,
            2021,
            2021,
            2022,
            2020,
            2022,
            2023,
            2023,
            2023,
            2023,
            2023,
            2023,
            2023
           ],
           [
            "Altera o art. 49 da Lei nº 8.171, de 17 de janeiro de 1991, com o objetivo de incluir como beneficiários de crédito rural as comunidades quilombolas, ribeirinhas e quebradoras de coco babaçu, atingidos por barragens e assentados da reforma agrária.",
            "Acrescenta Capítulo VI-A à Lei nº 4.829, de 5 de novembro de 1965, para instituir os procedimentos de prorrogação e de recomposição de débitos de crédito rural.",
            "Altera a Lei nº 13.606, de 9 de janeiro de 2018, para prorrogar os prazos para adesão à renegociação de dívidas de operações de crédito rural que especifica.",
            "Altera a redação do art. 10 da Lei 4.829/1965 para considerar inidôneo para fins de obtenção de crédito rural os condenados pelo crime previsto no 41 da Lei 9.605/1998",
            "Institui linha especial de crédito rural",
            "Dispõe sobre a prevenção e combate ao Superendividamento do Consumidor e dá outras previdências.",
            "Dispõe sobre a remissão e a prorrogação de parcelas de dívidas originárias de operações de crédito rural de responsabilidade de produtores cuja produção da safra do ciclo agrícola 2021/2022 tenha sido prejudicada em razão de excesso hídrico.",
            "Altera a Lei nº 11.326, de 24 de julho de 2006, para incluir a redução das desigualdades sociais e regionais entre os princípios a serem observados pela Política Nacional da Agricultura Familiar e Empreendimentos Familiares Rurais e determina ao poder público tratamento especial quanto a linhas de crédito rural e serviços de assistência técnica e extensão rural destinados a agricultores familiares e empreendimentos familiares rurais situados na Região do Marajó.",
            "Institui o Programa Nacional de Renegociação das Dívidas das Famílias – ReFamília e estabelece a necessidade de imposição de limite aos juros cobrados na modalidade cartão de crédito rotativo.\n  NOVA EMENTA: Institui o Programa Emergencial de Renegociação de Dívidas de Pessoas Físicas Inadimplentes - Desenrola Brasil; estabelece normas para facilitação de acesso a crédito e mitigação de riscos de inadimplemento e de superendividamento de pessoas físicas; altera a Consolidação das Leis do Trabalho, aprovada pelo Decreto-Lei nº 5.452, de 1º de maio de 1943, e as Leis nºs 10.406, de 10 de janeiro de 2002 (Código Civil), 10.522, de 19 de julho de 2002 e 12.087, de 11 de novembro de 2009; e revoga dispositivo da Lei nº 4.737, de 15 de julho de 1965 (Código Eleitoral), e a Medida Provisória nº 1.176, de 5 de junho de 2023.",
            "Estabelece o crédito responsável e assegura a garantia do mínimo existencial para os endividados.",
            "Autoriza a criação de linha emergencial de crédito rural e a renegociação e prorrogação de operações de crédito rural de custeio e investimento para produtores rurais da pecuária de corte e produtores de leite, que tenham sido prejudicados pela queda de preços de comercialização.",
            "Dispõe sobre a concessão de rebate nas operações de crédito rural de custeio de leite contratadas no âmbito do Programa Nacional de Fortalecimento da Agricultura Familiar e do Programa Nacional de Apoio ao Médio Produtor Rural, cujos empreendimentos tenham sido prejudicados por seca ou estiagem.",
            "Autoriza a criação de linha emergencial de crédito rural e a prorrogação de operações de crédito rural de custeio e investimento para mandiocultores com produções afetadas pela pragaErinnyis ello (mandarová).",
            "Dispõe sobre a liquidação, anistia, renegociação e rebate de dívidas originárias de crédito rural para agricultores, pecuaristas, piscicultores, pescadores e carcinicultores, em geral, e dá outras providências, bem como altera a Lei no 14.554, de 20 de abril de 2023, que altera as Leis nos 13.999, de 18 de maio de 2020, 14.166, de 10 de junho de 2021, 11.540, de 12 de novembro de 2007, e 14.042, de 19 de agosto de 2020, para tratar do refinanciamento de dívidas e altera a Lei no 7.827, de 27 de setembro de 1989, a fim de sanar omissão legislativa.",
            "Concede subvenção extraordinária aos produtores de leite enquadrados na Lei 11.326/2006, prorroga o pagamento de parcela de crédito rural e dá outras providências.",
            "Altera a Lei nº 13.340, de 28 de setembro de 2016, para conceder rebate para liquidação de operações de crédito rural, amortização da dívida a ser repactuada e dá outras providências."
           ],
           [
            "Aguardando Parecer",
            "Aguardando Encaminhamento",
            "Não informado",
            "Não informado",
            "Aguardando Vistas",
            "Aguardando Parecer",
            "Tramitando em Conjunto",
            "Pronta para Pauta",
            "Transformado em Norma Jurídica",
            "Pronta para Pauta",
            "Aguardando Parecer",
            "Tramitando em Conjunto",
            "Não informado",
            "Não informado",
            "Não informado",
            "Não informado"
           ]
          ]
         },
         "header": {
          "align": [
           "left",
           "center"
          ],
          "fill": {
           "color": "paleturquoise"
          },
          "values": [
           "Tipo",
           "Número",
           "Ano",
           "Ementa",
           "Situação"
          ]
         },
         "type": "table"
        }
       ],
       "layout": {
        "autosize": true,
        "template": {
         "data": {
          "bar": [
           {
            "error_x": {
             "color": "#2a3f5f"
            },
            "error_y": {
             "color": "#2a3f5f"
            },
            "marker": {
             "line": {
              "color": "#E5ECF6",
              "width": 0.5
             },
             "pattern": {
              "fillmode": "overlay",
              "size": 10,
              "solidity": 0.2
             }
            },
            "type": "bar"
           }
          ],
          "barpolar": [
           {
            "marker": {
             "line": {
              "color": "#E5ECF6",
              "width": 0.5
             },
             "pattern": {
              "fillmode": "overlay",
              "size": 10,
              "solidity": 0.2
             }
            },
            "type": "barpolar"
           }
          ],
          "carpet": [
           {
            "aaxis": {
             "endlinecolor": "#2a3f5f",
             "gridcolor": "white",
             "linecolor": "white",
             "minorgridcolor": "white",
             "startlinecolor": "#2a3f5f"
            },
            "baxis": {
             "endlinecolor": "#2a3f5f",
             "gridcolor": "white",
             "linecolor": "white",
             "minorgridcolor": "white",
             "startlinecolor": "#2a3f5f"
            },
            "type": "carpet"
           }
          ],
          "choropleth": [
           {
            "colorbar": {
             "outlinewidth": 0,
             "ticks": ""
            },
            "type": "choropleth"
           }
          ],
          "contour": [
           {
            "colorbar": {
             "outlinewidth": 0,
             "ticks": ""
            },
            "colorscale": [
             [
              0,
              "#0d0887"
             ],
             [
              0.1111111111111111,
              "#46039f"
             ],
             [
              0.2222222222222222,
              "#7201a8"
             ],
             [
              0.3333333333333333,
              "#9c179e"
             ],
             [
              0.4444444444444444,
              "#bd3786"
             ],
             [
              0.5555555555555556,
              "#d8576b"
             ],
             [
              0.6666666666666666,
              "#ed7953"
             ],
             [
              0.7777777777777778,
              "#fb9f3a"
             ],
             [
              0.8888888888888888,
              "#fdca26"
             ],
             [
              1,
              "#f0f921"
             ]
            ],
            "type": "contour"
           }
          ],
          "contourcarpet": [
           {
            "colorbar": {
             "outlinewidth": 0,
             "ticks": ""
            },
            "type": "contourcarpet"
           }
          ],
          "heatmap": [
           {
            "colorbar": {
             "outlinewidth": 0,
             "ticks": ""
            },
            "colorscale": [
             [
              0,
              "#0d0887"
             ],
             [
              0.1111111111111111,
              "#46039f"
             ],
             [
              0.2222222222222222,
              "#7201a8"
             ],
             [
              0.3333333333333333,
              "#9c179e"
             ],
             [
              0.4444444444444444,
              "#bd3786"
             ],
             [
              0.5555555555555556,
              "#d8576b"
             ],
             [
              0.6666666666666666,
              "#ed7953"
             ],
             [
              0.7777777777777778,
              "#fb9f3a"
             ],
             [
              0.8888888888888888,
              "#fdca26"
             ],
             [
              1,
              "#f0f921"
             ]
            ],
            "type": "heatmap"
           }
          ],
          "heatmapgl": [
           {
            "colorbar": {
             "outlinewidth": 0,
             "ticks": ""
            },
            "colorscale": [
             [
              0,
              "#0d0887"
             ],
             [
              0.1111111111111111,
              "#46039f"
             ],
             [
              0.2222222222222222,
              "#7201a8"
             ],
             [
              0.3333333333333333,
              "#9c179e"
             ],
             [
              0.4444444444444444,
              "#bd3786"
             ],
             [
              0.5555555555555556,
              "#d8576b"
             ],
             [
              0.6666666666666666,
              "#ed7953"
             ],
             [
              0.7777777777777778,
              "#fb9f3a"
             ],
             [
              0.8888888888888888,
              "#fdca26"
             ],
             [
              1,
              "#f0f921"
             ]
            ],
            "type": "heatmapgl"
           }
          ],
          "histogram": [
           {
            "marker": {
             "pattern": {
              "fillmode": "overlay",
              "size": 10,
              "solidity": 0.2
             }
            },
            "type": "histogram"
           }
          ],
          "histogram2d": [
           {
            "colorbar": {
             "outlinewidth": 0,
             "ticks": ""
            },
            "colorscale": [
             [
              0,
              "#0d0887"
             ],
             [
              0.1111111111111111,
              "#46039f"
             ],
             [
              0.2222222222222222,
              "#7201a8"
             ],
             [
              0.3333333333333333,
              "#9c179e"
             ],
             [
              0.4444444444444444,
              "#bd3786"
             ],
             [
              0.5555555555555556,
              "#d8576b"
             ],
             [
              0.6666666666666666,
              "#ed7953"
             ],
             [
              0.7777777777777778,
              "#fb9f3a"
             ],
             [
              0.8888888888888888,
              "#fdca26"
             ],
             [
              1,
              "#f0f921"
             ]
            ],
            "type": "histogram2d"
           }
          ],
          "histogram2dcontour": [
           {
            "colorbar": {
             "outlinewidth": 0,
             "ticks": ""
            },
            "colorscale": [
             [
              0,
              "#0d0887"
             ],
             [
              0.1111111111111111,
              "#46039f"
             ],
             [
              0.2222222222222222,
              "#7201a8"
             ],
             [
              0.3333333333333333,
              "#9c179e"
             ],
             [
              0.4444444444444444,
              "#bd3786"
             ],
             [
              0.5555555555555556,
              "#d8576b"
             ],
             [
              0.6666666666666666,
              "#ed7953"
             ],
             [
              0.7777777777777778,
              "#fb9f3a"
             ],
             [
              0.8888888888888888,
              "#fdca26"
             ],
             [
              1,
              "#f0f921"
             ]
            ],
            "type": "histogram2dcontour"
           }
          ],
          "mesh3d": [
           {
            "colorbar": {
             "outlinewidth": 0,
             "ticks": ""
            },
            "type": "mesh3d"
           }
          ],
          "parcoords": [
           {
            "line": {
             "colorbar": {
              "outlinewidth": 0,
              "ticks": ""
             }
            },
            "type": "parcoords"
           }
          ],
          "pie": [
           {
            "automargin": true,
            "type": "pie"
           }
          ],
          "scatter": [
           {
            "fillpattern": {
             "fillmode": "overlay",
             "size": 10,
             "solidity": 0.2
            },
            "type": "scatter"
           }
          ],
          "scatter3d": [
           {
            "line": {
             "colorbar": {
              "outlinewidth": 0,
              "ticks": ""
             }
            },
            "marker": {
             "colorbar": {
              "outlinewidth": 0,
              "ticks": ""
             }
            },
            "type": "scatter3d"
           }
          ],
          "scattercarpet": [
           {
            "marker": {
             "colorbar": {
              "outlinewidth": 0,
              "ticks": ""
             }
            },
            "type": "scattercarpet"
           }
          ],
          "scattergeo": [
           {
            "marker": {
             "colorbar": {
              "outlinewidth": 0,
              "ticks": ""
             }
            },
            "type": "scattergeo"
           }
          ],
          "scattergl": [
           {
            "marker": {
             "colorbar": {
              "outlinewidth": 0,
              "ticks": ""
             }
            },
            "type": "scattergl"
           }
          ],
          "scattermapbox": [
           {
            "marker": {
             "colorbar": {
              "outlinewidth": 0,
              "ticks": ""
             }
            },
            "type": "scattermapbox"
           }
          ],
          "scatterpolar": [
           {
            "marker": {
             "colorbar": {
              "outlinewidth": 0,
              "ticks": ""
             }
            },
            "type": "scatterpolar"
           }
          ],
          "scatterpolargl": [
           {
            "marker": {
             "colorbar": {
              "outlinewidth": 0,
              "ticks": ""
             }
            },
            "type": "scatterpolargl"
           }
          ],
          "scatterternary": [
           {
            "marker": {
             "colorbar": {
              "outlinewidth": 0,
              "ticks": ""
             }
            },
            "type": "scatterternary"
           }
          ],
          "surface": [
           {
            "colorbar": {
             "outlinewidth": 0,
             "ticks": ""
            },
            "colorscale": [
             [
              0,
              "#0d0887"
             ],
             [
              0.1111111111111111,
              "#46039f"
             ],
             [
              0.2222222222222222,
              "#7201a8"
             ],
             [
              0.3333333333333333,
              "#9c179e"
             ],
             [
              0.4444444444444444,
              "#bd3786"
             ],
             [
              0.5555555555555556,
              "#d8576b"
             ],
             [
              0.6666666666666666,
              "#ed7953"
             ],
             [
              0.7777777777777778,
              "#fb9f3a"
             ],
             [
              0.8888888888888888,
              "#fdca26"
             ],
             [
              1,
              "#f0f921"
             ]
            ],
            "type": "surface"
           }
          ],
          "table": [
           {
            "cells": {
             "fill": {
              "color": "#EBF0F8"
             },
             "line": {
              "color": "white"
             }
            },
            "header": {
             "fill": {
              "color": "#C8D4E3"
             },
             "line": {
              "color": "white"
             }
            },
            "type": "table"
           }
          ]
         },
         "layout": {
          "annotationdefaults": {
           "arrowcolor": "#2a3f5f",
           "arrowhead": 0,
           "arrowwidth": 1
          },
          "autotypenumbers": "strict",
          "coloraxis": {
           "colorbar": {
            "outlinewidth": 0,
            "ticks": ""
           }
          },
          "colorscale": {
           "diverging": [
            [
             0,
             "#8e0152"
            ],
            [
             0.1,
             "#c51b7d"
            ],
            [
             0.2,
             "#de77ae"
            ],
            [
             0.3,
             "#f1b6da"
            ],
            [
             0.4,
             "#fde0ef"
            ],
            [
             0.5,
             "#f7f7f7"
            ],
            [
             0.6,
             "#e6f5d0"
            ],
            [
             0.7,
             "#b8e186"
            ],
            [
             0.8,
             "#7fbc41"
            ],
            [
             0.9,
             "#4d9221"
            ],
            [
             1,
             "#276419"
            ]
           ],
           "sequential": [
            [
             0,
             "#0d0887"
            ],
            [
             0.1111111111111111,
             "#46039f"
            ],
            [
             0.2222222222222222,
             "#7201a8"
            ],
            [
             0.3333333333333333,
             "#9c179e"
            ],
            [
             0.4444444444444444,
             "#bd3786"
            ],
            [
             0.5555555555555556,
             "#d8576b"
            ],
            [
             0.6666666666666666,
             "#ed7953"
            ],
            [
             0.7777777777777778,
             "#fb9f3a"
            ],
            [
             0.8888888888888888,
             "#fdca26"
            ],
            [
             1,
             "#f0f921"
            ]
           ],
           "sequentialminus": [
            [
             0,
             "#0d0887"
            ],
            [
             0.1111111111111111,
             "#46039f"
            ],
            [
             0.2222222222222222,
             "#7201a8"
            ],
            [
             0.3333333333333333,
             "#9c179e"
            ],
            [
             0.4444444444444444,
             "#bd3786"
            ],
            [
             0.5555555555555556,
             "#d8576b"
            ],
            [
             0.6666666666666666,
             "#ed7953"
            ],
            [
             0.7777777777777778,
             "#fb9f3a"
            ],
            [
             0.8888888888888888,
             "#fdca26"
            ],
            [
             1,
             "#f0f921"
            ]
           ]
          },
          "colorway": [
           "#636efa",
           "#EF553B",
           "#00cc96",
           "#ab63fa",
           "#FFA15A",
           "#19d3f3",
           "#FF6692",
           "#B6E880",
           "#FF97FF",
           "#FECB52"
          ],
          "font": {
           "color": "#2a3f5f"
          },
          "geo": {
           "bgcolor": "white",
           "lakecolor": "white",
           "landcolor": "#E5ECF6",
           "showlakes": true,
           "showland": true,
           "subunitcolor": "white"
          },
          "hoverlabel": {
           "align": "left"
          },
          "hovermode": "closest",
          "mapbox": {
           "style": "light"
          },
          "paper_bgcolor": "white",
          "plot_bgcolor": "#E5ECF6",
          "polar": {
           "angularaxis": {
            "gridcolor": "white",
            "linecolor": "white",
            "ticks": ""
           },
           "bgcolor": "#E5ECF6",
           "radialaxis": {
            "gridcolor": "white",
            "linecolor": "white",
            "ticks": ""
           }
          },
          "scene": {
           "xaxis": {
            "backgroundcolor": "#E5ECF6",
            "gridcolor": "white",
            "gridwidth": 2,
            "linecolor": "white",
            "showbackground": true,
            "ticks": "",
            "zerolinecolor": "white"
           },
           "yaxis": {
            "backgroundcolor": "#E5ECF6",
            "gridcolor": "white",
            "gridwidth": 2,
            "linecolor": "white",
            "showbackground": true,
            "ticks": "",
            "zerolinecolor": "white"
           },
           "zaxis": {
            "backgroundcolor": "#E5ECF6",
            "gridcolor": "white",
            "gridwidth": 2,
            "linecolor": "white",
            "showbackground": true,
            "ticks": "",
            "zerolinecolor": "white"
           }
          },
          "shapedefaults": {
           "line": {
            "color": "#2a3f5f"
           }
          },
          "ternary": {
           "aaxis": {
            "gridcolor": "white",
            "linecolor": "white",
            "ticks": ""
           },
           "baxis": {
            "gridcolor": "white",
            "linecolor": "white",
            "ticks": ""
           },
           "bgcolor": "#E5ECF6",
           "caxis": {
            "gridcolor": "white",
            "linecolor": "white",
            "ticks": ""
           }
          },
          "title": {
           "x": 0.05
          },
          "xaxis": {
           "automargin": true,
           "gridcolor": "white",
           "linecolor": "white",
           "ticks": "",
           "title": {
            "standoff": 15
           },
           "zerolinecolor": "white",
           "zerolinewidth": 2
          },
          "yaxis": {
           "automargin": true,
           "gridcolor": "white",
           "linecolor": "white",
           "ticks": "",
           "title": {
            "standoff": 15
           },
           "zerolinecolor": "white",
           "zerolinewidth": 2
          }
         }
        }
       }
      },
      "image/png": "[encoded data removed]",
      "text/html": [
       "<div>                            <div id=\"2773108d-18b9-4477-939c-3d613db2b504\" class=\"plotly-graph-div\" style=\"height:525px; width:100%;\"></div>            <script type=\"text/javascript\">                require([\"plotly\"], function(Plotly) {                    window.PLOTLYENV=window.PLOTLYENV || {};                                    if (document.getElementById(\"2773108d-18b9-4477-939c-3d613db2b504\")) {                    Plotly.newPlot(                        \"2773108d-18b9-4477-939c-3d613db2b504\",                        [{\"cells\":{\"align\":[\"left\",\"center\"],\"fill\":{\"color\":\"lavender\"},\"values\":[[\"PL\",\"PL\",\"PL\",\"PL\",\"PL\",\"PL\",\"PL\",\"PL\",\"PL\",\"PL\",\"PL\",\"PL\",\"PL\",\"PL\",\"PL\",\"PL\"],[4620,8676,4347,4927,348,3156,60,486,2685,2632,4601,4722,5118,5122,5213,5221],[2012,2017,2019,2020,2021,2021,2022,2020,2022,2023,2023,2023,2023,2023,2023,2023],[\"Altera o art. 49 da Lei n\\u00ba 8.171, de 17 de janeiro de 1991, com o objetivo de incluir como benefici\\u00e1rios de cr\\u00e9dito rural as comunidades quilombolas, ribeirinhas e quebradoras de coco baba\\u00e7u, atingidos por barragens e assentados da reforma agr\\u00e1ria.\",\"Acrescenta Cap\\u00edtulo VI-A \\u00e0 Lei n\\u00ba 4.829, de 5 de novembro de 1965, para instituir os procedimentos de prorroga\\u00e7\\u00e3o e de recomposi\\u00e7\\u00e3o de d\\u00e9bitos de cr\\u00e9dito rural.\",\"Altera a Lei n\\u00ba 13.606, de 9 de janeiro de 2018, para prorrogar os prazos para ades\\u00e3o \\u00e0 renegocia\\u00e7\\u00e3o de d\\u00edvidas de opera\\u00e7\\u00f5es de cr\\u00e9dito rural que especifica.\",\"Altera a reda\\u00e7\\u00e3o do art. 10 da Lei 4.829\\u002f1965 para considerar inid\\u00f4neo para fins de obten\\u00e7\\u00e3o de cr\\u00e9dito rural os condenados pelo crime previsto no 41 da Lei 9.605\\u002f1998\",\"Institui linha especial de cr\\u00e9dito rural\",\"Disp\\u00f5e sobre a preven\\u00e7\\u00e3o e combate ao Superendividamento do Consumidor e d\\u00e1 outras previd\\u00eancias.\",\"Disp\\u00f5e sobre a remiss\\u00e3o e a prorroga\\u00e7\\u00e3o de parcelas de d\\u00edvidas origin\\u00e1rias de opera\\u00e7\\u00f5es de cr\\u00e9dito rural de responsabilidade de produtores cuja produ\\u00e7\\u00e3o da safra do ciclo agr\\u00edcola 2021\\u002f2022 tenha sido prejudicada em raz\\u00e3o de excesso h\\u00eddrico.\",\"Altera a Lei n\\u00ba 11.326, de 24 de julho de 2006, para incluir a redu\\u00e7\\u00e3o das desigualdades sociais e regionais entre os princ\\u00edpios a serem observados pela Pol\\u00edtica Nacional da Agricultura Familiar e Empreendimentos Familiares Rurais e determina ao poder p\\u00fablico tratamento especial quanto a linhas de cr\\u00e9dito rural e servi\\u00e7os de assist\\u00eancia t\\u00e9cnica e extens\\u00e3o rural destinados a agricultores familiares e empreendimentos familiares rurais situados na Regi\\u00e3o do Maraj\\u00f3.\",\"Institui o Programa Nacional de Renegocia\\u00e7\\u00e3o das D\\u00edvidas das Fam\\u00edlias \\u2013 ReFam\\u00edlia e estabelece a necessidade de imposi\\u00e7\\u00e3o de limite aos juros cobrados na modalidade cart\\u00e3o de cr\\u00e9dito rotativo.\\n  NOVA EMENTA: Institui o Programa Emergencial de Renegocia\\u00e7\\u00e3o de D\\u00edvidas de Pessoas F\\u00edsicas Inadimplentes - Desenrola Brasil; estabelece normas para facilita\\u00e7\\u00e3o de acesso a cr\\u00e9dito e mitiga\\u00e7\\u00e3o de riscos de inadimplemento e de superendividamento de pessoas f\\u00edsicas; altera a Consolida\\u00e7\\u00e3o das Leis do Trabalho, aprovada pelo Decreto-Lei n\\u00ba 5.452, de 1\\u00ba de maio de 1943, e as Leis n\\u00bas 10.406, de 10 de janeiro de 2002 (C\\u00f3digo Civil), 10.522, de 19 de julho de 2002 e 12.087, de 11 de novembro de 2009; e revoga dispositivo da Lei n\\u00ba 4.737, de 15 de julho de 1965 (C\\u00f3digo Eleitoral), e a Medida Provis\\u00f3ria n\\u00ba 1.176, de 5 de junho de 2023.\",\"Estabelece o cr\\u00e9dito respons\\u00e1vel e assegura a garantia do m\\u00ednimo existencial para os endividados.\",\"Autoriza a cria\\u00e7\\u00e3o de linha emergencial de cr\\u00e9dito rural e a renegocia\\u00e7\\u00e3o e prorroga\\u00e7\\u00e3o de opera\\u00e7\\u00f5es de cr\\u00e9dito rural de custeio e investimento para produtores rurais da pecu\\u00e1ria de corte e produtores de leite, que tenham sido prejudicados pela queda de pre\\u00e7os de comercializa\\u00e7\\u00e3o.\",\"Disp\\u00f5e sobre a concess\\u00e3o de rebate nas opera\\u00e7\\u00f5es de cr\\u00e9dito rural de custeio de leite contratadas no \\u00e2mbito do Programa Nacional de Fortalecimento da Agricultura Familiar e do Programa Nacional de Apoio ao M\\u00e9dio Produtor Rural, cujos empreendimentos tenham sido prejudicados por seca ou estiagem.\",\"Autoriza a cria\\u00e7\\u00e3o de linha emergencial de cr\\u00e9dito rural e a prorroga\\u00e7\\u00e3o de opera\\u00e7\\u00f5es de cr\\u00e9dito rural de custeio e investimento para mandiocultores com produ\\u00e7\\u00f5es afetadas pela pragaErinnyis ello (mandarov\\u00e1).\",\"Disp\\u00f5e sobre a liquida\\u00e7\\u00e3o, anistia, renegocia\\u00e7\\u00e3o e rebate de d\\u00edvidas origin\\u00e1rias de cr\\u00e9dito rural para agricultores, pecuaristas, piscicultores, pescadores e carcinicultores, em geral, e d\\u00e1 outras provid\\u00eancias, bem como altera a Lei no 14.554, de 20 de abril de 2023, que altera as Leis nos 13.999, de 18 de maio de 2020, 14.166, de 10 de junho de 2021, 11.540, de 12 de novembro de 2007, e 14.042, de 19 de agosto de 2020, para tratar do refinanciamento de d\\u00edvidas e altera a Lei no 7.827, de 27 de setembro de 1989, a fim de sanar omiss\\u00e3o legislativa.\",\"Concede subven\\u00e7\\u00e3o extraordin\\u00e1ria aos produtores de leite enquadrados na Lei 11.326\\u002f2006, prorroga o pagamento de parcela de cr\\u00e9dito rural e d\\u00e1 outras provid\\u00eancias.\",\"Altera a Lei n\\u00ba 13.340, de 28 de setembro de 2016, para conceder rebate para liquida\\u00e7\\u00e3o de opera\\u00e7\\u00f5es de cr\\u00e9dito rural, amortiza\\u00e7\\u00e3o da d\\u00edvida a ser repactuada e d\\u00e1 outras provid\\u00eancias.\"],[\"Aguardando Parecer\",\"Aguardando Encaminhamento\",\"N\\u00e3o informado\",\"N\\u00e3o informado\",\"Aguardando Vistas\",\"Aguardando Parecer\",\"Tramitando em Conjunto\",\"Pronta para Pauta\",\"Transformado em Norma Jur\\u00eddica\",\"Pronta para Pauta\",\"Aguardando Parecer\",\"Tramitando em Conjunto\",\"N\\u00e3o informado\",\"N\\u00e3o informado\",\"N\\u00e3o informado\",\"N\\u00e3o informado\"]]},\"header\":{\"align\":[\"left\",\"center\"],\"fill\":{\"color\":\"paleturquoise\"},\"values\":[\"Tipo\",\"N\\u00famero\",\"Ano\",\"Ementa\",\"Situa\\u00e7\\u00e3o\"]},\"type\":\"table\"}],                        {\"template\":{\"data\":{\"histogram2dcontour\":[{\"type\":\"histogram2dcontour\",\"colorbar\":{\"outlinewidth\":0,\"ticks\":\"\"},\"colorscale\":[[0.0,\"#0d0887\"],[0.1111111111111111,\"#46039f\"],[0.2222222222222222,\"#7201a8\"],[0.3333333333333333,\"#9c179e\"],[0.4444444444444444,\"#bd3786\"],[0.5555555555555556,\"#d8576b\"],[0.6666666666666666,\"#ed7953\"],[0.7777777777777778,\"#fb9f3a\"],[0.8888888888888888,\"#fdca26\"],[1.0,\"#f0f921\"]]}],\"choropleth\":[{\"type\":\"choropleth\",\"colorbar\":{\"outlinewidth\":0,\"ticks\":\"\"}}],\"histogram2d\":[{\"type\":\"histogram2d\",\"colorbar\":{\"outlinewidth\":0,\"ticks\":\"\"},\"colorscale\":[[0.0,\"#0d0887\"],[0.1111111111111111,\"#46039f\"],[0.2222222222222222,\"#7201a8\"],[0.3333333333333333,\"#9c179e\"],[0.4444444444444444,\"#bd3786\"],[0.5555555555555556,\"#d8576b\"],[0.6666666666666666,\"#ed7953\"],[0.7777777777777778,\"#fb9f3a\"],[0.8888888888888888,\"#fdca26\"],[1.0,\"#f0f921\"]]}],\"heatmap\":[{\"type\":\"heatmap\",\"colorbar\":{\"outlinewidth\":0,\"ticks\":\"\"},\"colorscale\":[[0.0,\"#0d0887\"],[0.1111111111111111,\"#46039f\"],[0.2222222222222222,\"#7201a8\"],[0.3333333333333333,\"#9c179e\"],[0.4444444444444444,\"#bd3786\"],[0.5555555555555556,\"#d8576b\"],[0.6666666666666666,\"#ed7953\"],[0.7777777777777778,\"#fb9f3a\"],[0.8888888888888888,\"#fdca26\"],[1.0,\"#f0f921\"]]}],\"heatmapgl\":[{\"type\":\"heatmapgl\",\"colorbar\":{\"outlinewidth\":0,\"ticks\":\"\"},\"colorscale\":[[0.0,\"#0d0887\"],[0.1111111111111111,\"#46039f\"],[0.2222222222222222,\"#7201a8\"],[0.3333333333333333,\"#9c179e\"],[0.4444444444444444,\"#bd3786\"],[0.5555555555555556,\"#d8576b\"],[0.6666666666666666,\"#ed7953\"],[0.7777777777777778,\"#fb9f3a\"],[0.8888888888888888,\"#fdca26\"],[1.0,\"#f0f921\"]]}],\"contourcarpet\":[{\"type\":\"contourcarpet\",\"colorbar\":{\"outlinewidth\":0,\"ticks\":\"\"}}],\"contour\":[{\"type\":\"contour\",\"colorbar\":{\"outlinewidth\":0,\"ticks\":\"\"},\"colorscale\":[[0.0,\"#0d0887\"],[0.1111111111111111,\"#46039f\"],[0.2222222222222222,\"#7201a8\"],[0.3333333333333333,\"#9c179e\"],[0.4444444444444444,\"#bd3786\"],[0.5555555555555556,\"#d8576b\"],[0.6666666666666666,\"#ed7953\"],[0.7777777777777778,\"#fb9f3a\"],[0.8888888888888888,\"#fdca26\"],[1.0,\"#f0f921\"]]}],\"surface\":[{\"type\":\"surface\",\"colorbar\":{\"outlinewidth\":0,\"ticks\":\"\"},\"colorscale\":[[0.0,\"#0d0887\"],[0.1111111111111111,\"#46039f\"],[0.2222222222222222,\"#7201a8\"],[0.3333333333333333,\"#9c179e\"],[0.4444444444444444,\"#bd3786\"],[0.5555555555555556,\"#d8576b\"],[0.6666666666666666,\"#ed7953\"],[0.7777777777777778,\"#fb9f3a\"],[0.8888888888888888,\"#fdca26\"],[1.0,\"#f0f921\"]]}],\"mesh3d\":[{\"type\":\"mesh3d\",\"colorbar\":{\"outlinewidth\":0,\"ticks\":\"\"}}],\"scatter\":[{\"fillpattern\":{\"fillmode\":\"overlay\",\"size\":10,\"solidity\":0.2},\"type\":\"scatter\"}],\"parcoords\":[{\"type\":\"parcoords\",\"line\":{\"colorbar\":{\"outlinewidth\":0,\"ticks\":\"\"}}}],\"scatterpolargl\":[{\"type\":\"scatterpolargl\",\"marker\":{\"colorbar\":{\"outlinewidth\":0,\"ticks\":\"\"}}}],\"bar\":[{\"error_x\":{\"color\":\"#2a3f5f\"},\"error_y\":{\"color\":\"#2a3f5f\"},\"marker\":{\"line\":{\"color\":\"#E5ECF6\",\"width\":0.5},\"pattern\":{\"fillmode\":\"overlay\",\"size\":10,\"solidity\":0.2}},\"type\":\"bar\"}],\"scattergeo\":[{\"type\":\"scattergeo\",\"marker\":{\"colorbar\":{\"outlinewidth\":0,\"ticks\":\"\"}}}],\"scatterpolar\":[{\"type\":\"scatterpolar\",\"marker\":{\"colorbar\":{\"outlinewidth\":0,\"ticks\":\"\"}}}],\"histogram\":[{\"marker\":{\"pattern\":{\"fillmode\":\"overlay\",\"size\":10,\"solidity\":0.2}},\"type\":\"histogram\"}],\"scattergl\":[{\"type\":\"scattergl\",\"marker\":{\"colorbar\":{\"outlinewidth\":0,\"ticks\":\"\"}}}],\"scatter3d\":[{\"type\":\"scatter3d\",\"line\":{\"colorbar\":{\"outlinewidth\":0,\"ticks\":\"\"}},\"marker\":{\"colorbar\":{\"outlinewidth\":0,\"ticks\":\"\"}}}],\"scattermapbox\":[{\"type\":\"scattermapbox\",\"marker\":{\"colorbar\":{\"outlinewidth\":0,\"ticks\":\"\"}}}],\"scatterternary\":[{\"type\":\"scatterternary\",\"marker\":{\"colorbar\":{\"outlinewidth\":0,\"ticks\":\"\"}}}],\"scattercarpet\":[{\"type\":\"scattercarpet\",\"marker\":{\"colorbar\":{\"outlinewidth\":0,\"ticks\":\"\"}}}],\"carpet\":[{\"aaxis\":{\"endlinecolor\":\"#2a3f5f\",\"gridcolor\":\"white\",\"linecolor\":\"white\",\"minorgridcolor\":\"white\",\"startlinecolor\":\"#2a3f5f\"},\"baxis\":{\"endlinecolor\":\"#2a3f5f\",\"gridcolor\":\"white\",\"linecolor\":\"white\",\"minorgridcolor\":\"white\",\"startlinecolor\":\"#2a3f5f\"},\"type\":\"carpet\"}],\"table\":[{\"cells\":{\"fill\":{\"color\":\"#EBF0F8\"},\"line\":{\"color\":\"white\"}},\"header\":{\"fill\":{\"color\":\"#C8D4E3\"},\"line\":{\"color\":\"white\"}},\"type\":\"table\"}],\"barpolar\":[{\"marker\":{\"line\":{\"color\":\"#E5ECF6\",\"width\":0.5},\"pattern\":{\"fillmode\":\"overlay\",\"size\":10,\"solidity\":0.2}},\"type\":\"barpolar\"}],\"pie\":[{\"automargin\":true,\"type\":\"pie\"}]},\"layout\":{\"autotypenumbers\":\"strict\",\"colorway\":[\"#636efa\",\"#EF553B\",\"#00cc96\",\"#ab63fa\",\"#FFA15A\",\"#19d3f3\",\"#FF6692\",\"#B6E880\",\"#FF97FF\",\"#FECB52\"],\"font\":{\"color\":\"#2a3f5f\"},\"hovermode\":\"closest\",\"hoverlabel\":{\"align\":\"left\"},\"paper_bgcolor\":\"white\",\"plot_bgcolor\":\"#E5ECF6\",\"polar\":{\"bgcolor\":\"#E5ECF6\",\"angularaxis\":{\"gridcolor\":\"white\",\"linecolor\":\"white\",\"ticks\":\"\"},\"radialaxis\":{\"gridcolor\":\"white\",\"linecolor\":\"white\",\"ticks\":\"\"}},\"ternary\":{\"bgcolor\":\"#E5ECF6\",\"aaxis\":{\"gridcolor\":\"white\",\"linecolor\":\"white\",\"ticks\":\"\"},\"baxis\":{\"gridcolor\":\"white\",\"linecolor\":\"white\",\"ticks\":\"\"},\"caxis\":{\"gridcolor\":\"white\",\"linecolor\":\"white\",\"ticks\":\"\"}},\"coloraxis\":{\"colorbar\":{\"outlinewidth\":0,\"ticks\":\"\"}},\"colorscale\":{\"sequential\":[[0.0,\"#0d0887\"],[0.1111111111111111,\"#46039f\"],[0.2222222222222222,\"#7201a8\"],[0.3333333333333333,\"#9c179e\"],[0.4444444444444444,\"#bd3786\"],[0.5555555555555556,\"#d8576b\"],[0.6666666666666666,\"#ed7953\"],[0.7777777777777778,\"#fb9f3a\"],[0.8888888888888888,\"#fdca26\"],[1.0,\"#f0f921\"]],\"sequentialminus\":[[0.0,\"#0d0887\"],[0.1111111111111111,\"#46039f\"],[0.2222222222222222,\"#7201a8\"],[0.3333333333333333,\"#9c179e\"],[0.4444444444444444,\"#bd3786\"],[0.5555555555555556,\"#d8576b\"],[0.6666666666666666,\"#ed7953\"],[0.7777777777777778,\"#fb9f3a\"],[0.8888888888888888,\"#fdca26\"],[1.0,\"#f0f921\"]],\"diverging\":[[0,\"#8e0152\"],[0.1,\"#c51b7d\"],[0.2,\"#de77ae\"],[0.3,\"#f1b6da\"],[0.4,\"#fde0ef\"],[0.5,\"#f7f7f7\"],[0.6,\"#e6f5d0\"],[0.7,\"#b8e186\"],[0.8,\"#7fbc41\"],[0.9,\"#4d9221\"],[1,\"#276419\"]]},\"xaxis\":{\"gridcolor\":\"white\",\"linecolor\":\"white\",\"ticks\":\"\",\"title\":{\"standoff\":15},\"zerolinecolor\":\"white\",\"automargin\":true,\"zerolinewidth\":2},\"yaxis\":{\"gridcolor\":\"white\",\"linecolor\":\"white\",\"ticks\":\"\",\"title\":{\"standoff\":15},\"zerolinecolor\":\"white\",\"automargin\":true,\"zerolinewidth\":2},\"scene\":{\"xaxis\":{\"backgroundcolor\":\"#E5ECF6\",\"gridcolor\":\"white\",\"linecolor\":\"white\",\"showbackground\":true,\"ticks\":\"\",\"zerolinecolor\":\"white\",\"gridwidth\":2},\"yaxis\":{\"backgroundcolor\":\"#E5ECF6\",\"gridcolor\":\"white\",\"linecolor\":\"white\",\"showbackground\":true,\"ticks\":\"\",\"zerolinecolor\":\"white\",\"gridwidth\":2},\"zaxis\":{\"backgroundcolor\":\"#E5ECF6\",\"gridcolor\":\"white\",\"linecolor\":\"white\",\"showbackground\":true,\"ticks\":\"\",\"zerolinecolor\":\"white\",\"gridwidth\":2}},\"shapedefaults\":{\"line\":{\"color\":\"#2a3f5f\"}},\"annotationdefaults\":{\"arrowcolor\":\"#2a3f5f\",\"arrowhead\":0,\"arrowwidth\":1},\"geo\":{\"bgcolor\":\"white\",\"landcolor\":\"#E5ECF6\",\"subunitcolor\":\"white\",\"showland\":true,\"showlakes\":true,\"lakecolor\":\"white\"},\"title\":{\"x\":0.05},\"mapbox\":{\"style\":\"light\"}}}},                        {\"responsive\": true}                    ).then(function(){\n",
       "                            \n",
       "var gd = document.getElementById('2773108d-18b9-4477-939c-3d613db2b504');\n",
       "var x = new MutationObserver(function (mutations, observer) {{\n",
       "        var display = window.getComputedStyle(gd).display;\n",
       "        if (!display || display === 'none') {{\n",
       "            console.log([gd, 'removed!']);\n",
       "            Plotly.purge(gd);\n",
       "            observer.disconnect();\n",
       "        }}\n",
       "}});\n",
       "\n",
       "// Listen for the removal of the full notebook cells\n",
       "var notebookContainer = gd.closest('#notebook-container');\n",
       "if (notebookContainer) {{\n",
       "    x.observe(notebookContainer, {childList: true});\n",
       "}}\n",
       "\n",
       "// Listen for the clearing of the current output cell\n",
       "var outputEl = gd.closest('.output');\n",
       "if (outputEl) {{\n",
       "    x.observe(outputEl, {childList: true});\n",
       "}}\n",
       "\n",
       "                        })                };                });            </script>        </div>"
      ]
     },
     "metadata": {},
     "output_type": "display_data"
    }
   ],
   "source": [
    "\n",
    "    \n",
    "    fig = go.Figure(data=[go.Table(\n",
    "    header=dict(values=list(new_df.columns),\n",
    "                fill_color='paleturquoise',\n",
    "                align=['left','center']),\n",
    "    cells=dict(values=[new_df.Tipo, new_df.Número, new_df.Ano, new_df.Ementa, new_df.Situação],\n",
    "               fill_color='lavender',\n",
    "               align=['left', 'center']))\n",
    "])\n",
    "\n",
    "fig.show()"
   ]
  },
  {
   "cell_type": "code",
   "execution_count": 102,
   "id": "5f2e3d0c-dacd-4891-b27e-d5b5ffc45af3",
   "metadata": {
    "tags": []
   },
   "outputs": [
    {
     "data": {
      "application/vnd.plotly.v1+json": {
       "config": {
        "plotlyServerURL": "https://plot.ly"
       },
       "data": [
        {
         "cells": {
          "align": [
           "left",
           "center"
          ],
          "fill": {
           "color": [
            "paleturquoise",
            "white"
           ]
          },
          "font": {
           "size": 12
          },
          "height": 60,
          "line": {
           "color": "darkslategray"
          },
          "values": [
           [
            "PL",
            "PL",
            "PL",
            "PL",
            "PL",
            "PL",
            "PL",
            "PL",
            "PL",
            "PL",
            "PL",
            "PL",
            "PL",
            "PL",
            "PL",
            "PL"
           ],
           [
            4620,
            8676,
            4347,
            4927,
            348,
            3156,
            60,
            486,
            2685,
            2632,
            4601,
            4722,
            5118,
            5122,
            5213,
            5221
           ],
           [
            2012,
            2017,
            2019,
            2020,
            2021,
            2021,
            2022,
            2020,
            2022,
            2023,
            2023,
            2023,
            2023,
            2023,
            2023,
            2023
           ],
           [
            "Altera o art. 49 da Lei nº 8.171, de 17 de janeiro de 1991, com o objetivo de incluir como beneficiários de crédito rural as comunidades quilombolas, ribeirinhas e quebradoras de coco babaçu, atingidos por barragens e assentados da reforma agrária.",
            "Acrescenta Capítulo VI-A à Lei nº 4.829, de 5 de novembro de 1965, para instituir os procedimentos de prorrogação e de recomposição de débitos de crédito rural.",
            "Altera a Lei nº 13.606, de 9 de janeiro de 2018, para prorrogar os prazos para adesão à renegociação de dívidas de operações de crédito rural que especifica.",
            "Altera a redação do art. 10 da Lei 4.829/1965 para considerar inidôneo para fins de obtenção de crédito rural os condenados pelo crime previsto no 41 da Lei 9.605/1998",
            "Institui linha especial de crédito rural",
            "Dispõe sobre a prevenção e combate ao Superendividamento do Consumidor e dá outras previdências.",
            "Dispõe sobre a remissão e a prorrogação de parcelas de dívidas originárias de operações de crédito rural de responsabilidade de produtores cuja produção da safra do ciclo agrícola 2021/2022 tenha sido prejudicada em razão de excesso hídrico.",
            "Altera a Lei nº 11.326, de 24 de julho de 2006, para incluir a redução das desigualdades sociais e regionais entre os princípios a serem observados pela Política Nacional da Agricultura Familiar e Empreendimentos Familiares Rurais e determina ao poder público tratamento especial quanto a linhas de crédito rural e serviços de assistência técnica e extensão rural destinados a agricultores familiares e empreendimentos familiares rurais situados na Região do Marajó.",
            "Institui o Programa Nacional de Renegociação das Dívidas das Famílias – ReFamília e estabelece a necessidade de imposição de limite aos juros cobrados na modalidade cartão de crédito rotativo.\n  NOVA EMENTA: Institui o Programa Emergencial de Renegociação de Dívidas de Pessoas Físicas Inadimplentes - Desenrola Brasil; estabelece normas para facilitação de acesso a crédito e mitigação de riscos de inadimplemento e de superendividamento de pessoas físicas; altera a Consolidação das Leis do Trabalho, aprovada pelo Decreto-Lei nº 5.452, de 1º de maio de 1943, e as Leis nºs 10.406, de 10 de janeiro de 2002 (Código Civil), 10.522, de 19 de julho de 2002 e 12.087, de 11 de novembro de 2009; e revoga dispositivo da Lei nº 4.737, de 15 de julho de 1965 (Código Eleitoral), e a Medida Provisória nº 1.176, de 5 de junho de 2023.",
            "Estabelece o crédito responsável e assegura a garantia do mínimo existencial para os endividados.",
            "Autoriza a criação de linha emergencial de crédito rural e a renegociação e prorrogação de operações de crédito rural de custeio e investimento para produtores rurais da pecuária de corte e produtores de leite, que tenham sido prejudicados pela queda de preços de comercialização.",
            "Dispõe sobre a concessão de rebate nas operações de crédito rural de custeio de leite contratadas no âmbito do Programa Nacional de Fortalecimento da Agricultura Familiar e do Programa Nacional de Apoio ao Médio Produtor Rural, cujos empreendimentos tenham sido prejudicados por seca ou estiagem.",
            "Autoriza a criação de linha emergencial de crédito rural e a prorrogação de operações de crédito rural de custeio e investimento para mandiocultores com produções afetadas pela pragaErinnyis ello (mandarová).",
            "Dispõe sobre a liquidação, anistia, renegociação e rebate de dívidas originárias de crédito rural para agricultores, pecuaristas, piscicultores, pescadores e carcinicultores, em geral, e dá outras providências, bem como altera a Lei no 14.554, de 20 de abril de 2023, que altera as Leis nos 13.999, de 18 de maio de 2020, 14.166, de 10 de junho de 2021, 11.540, de 12 de novembro de 2007, e 14.042, de 19 de agosto de 2020, para tratar do refinanciamento de dívidas e altera a Lei no 7.827, de 27 de setembro de 1989, a fim de sanar omissão legislativa.",
            "Concede subvenção extraordinária aos produtores de leite enquadrados na Lei 11.326/2006, prorroga o pagamento de parcela de crédito rural e dá outras providências.",
            "Altera a Lei nº 13.340, de 28 de setembro de 2016, para conceder rebate para liquidação de operações de crédito rural, amortização da dívida a ser repactuada e dá outras providências."
           ],
           [
            "Aguardando Parecer",
            "Aguardando Encaminhamento",
            "Não informado",
            "Não informado",
            "Aguardando Vistas",
            "Aguardando Parecer",
            "Tramitando em Conjunto",
            "Pronta para Pauta",
            "Transformado em Norma Jurídica",
            "Pronta para Pauta",
            "Aguardando Parecer",
            "Tramitando em Conjunto",
            "Não informado",
            "Não informado",
            "Não informado",
            "Não informado"
           ]
          ]
         },
         "columnwidth": [
          300,
          600
         ],
         "header": {
          "align": [
           "left",
           "center"
          ],
          "fill": {
           "color": "royalblue"
          },
          "font": {
           "color": "white",
           "size": 12
          },
          "height": 60,
          "line": {
           "color": "darkslategray"
          },
          "values": [
           "Tipo",
           "Número",
           "Ano",
           "Ementa",
           "Situação"
          ]
         },
         "type": "table"
        }
       ],
       "layout": {
        "autosize": true,
        "template": {
         "data": {
          "bar": [
           {
            "error_x": {
             "color": "#2a3f5f"
            },
            "error_y": {
             "color": "#2a3f5f"
            },
            "marker": {
             "line": {
              "color": "#E5ECF6",
              "width": 0.5
             },
             "pattern": {
              "fillmode": "overlay",
              "size": 10,
              "solidity": 0.2
             }
            },
            "type": "bar"
           }
          ],
          "barpolar": [
           {
            "marker": {
             "line": {
              "color": "#E5ECF6",
              "width": 0.5
             },
             "pattern": {
              "fillmode": "overlay",
              "size": 10,
              "solidity": 0.2
             }
            },
            "type": "barpolar"
           }
          ],
          "carpet": [
           {
            "aaxis": {
             "endlinecolor": "#2a3f5f",
             "gridcolor": "white",
             "linecolor": "white",
             "minorgridcolor": "white",
             "startlinecolor": "#2a3f5f"
            },
            "baxis": {
             "endlinecolor": "#2a3f5f",
             "gridcolor": "white",
             "linecolor": "white",
             "minorgridcolor": "white",
             "startlinecolor": "#2a3f5f"
            },
            "type": "carpet"
           }
          ],
          "choropleth": [
           {
            "colorbar": {
             "outlinewidth": 0,
             "ticks": ""
            },
            "type": "choropleth"
           }
          ],
          "contour": [
           {
            "colorbar": {
             "outlinewidth": 0,
             "ticks": ""
            },
            "colorscale": [
             [
              0,
              "#0d0887"
             ],
             [
              0.1111111111111111,
              "#46039f"
             ],
             [
              0.2222222222222222,
              "#7201a8"
             ],
             [
              0.3333333333333333,
              "#9c179e"
             ],
             [
              0.4444444444444444,
              "#bd3786"
             ],
             [
              0.5555555555555556,
              "#d8576b"
             ],
             [
              0.6666666666666666,
              "#ed7953"
             ],
             [
              0.7777777777777778,
              "#fb9f3a"
             ],
             [
              0.8888888888888888,
              "#fdca26"
             ],
             [
              1,
              "#f0f921"
             ]
            ],
            "type": "contour"
           }
          ],
          "contourcarpet": [
           {
            "colorbar": {
             "outlinewidth": 0,
             "ticks": ""
            },
            "type": "contourcarpet"
           }
          ],
          "heatmap": [
           {
            "colorbar": {
             "outlinewidth": 0,
             "ticks": ""
            },
            "colorscale": [
             [
              0,
              "#0d0887"
             ],
             [
              0.1111111111111111,
              "#46039f"
             ],
             [
              0.2222222222222222,
              "#7201a8"
             ],
             [
              0.3333333333333333,
              "#9c179e"
             ],
             [
              0.4444444444444444,
              "#bd3786"
             ],
             [
              0.5555555555555556,
              "#d8576b"
             ],
             [
              0.6666666666666666,
              "#ed7953"
             ],
             [
              0.7777777777777778,
              "#fb9f3a"
             ],
             [
              0.8888888888888888,
              "#fdca26"
             ],
             [
              1,
              "#f0f921"
             ]
            ],
            "type": "heatmap"
           }
          ],
          "heatmapgl": [
           {
            "colorbar": {
             "outlinewidth": 0,
             "ticks": ""
            },
            "colorscale": [
             [
              0,
              "#0d0887"
             ],
             [
              0.1111111111111111,
              "#46039f"
             ],
             [
              0.2222222222222222,
              "#7201a8"
             ],
             [
              0.3333333333333333,
              "#9c179e"
             ],
             [
              0.4444444444444444,
              "#bd3786"
             ],
             [
              0.5555555555555556,
              "#d8576b"
             ],
             [
              0.6666666666666666,
              "#ed7953"
             ],
             [
              0.7777777777777778,
              "#fb9f3a"
             ],
             [
              0.8888888888888888,
              "#fdca26"
             ],
             [
              1,
              "#f0f921"
             ]
            ],
            "type": "heatmapgl"
           }
          ],
          "histogram": [
           {
            "marker": {
             "pattern": {
              "fillmode": "overlay",
              "size": 10,
              "solidity": 0.2
             }
            },
            "type": "histogram"
           }
          ],
          "histogram2d": [
           {
            "colorbar": {
             "outlinewidth": 0,
             "ticks": ""
            },
            "colorscale": [
             [
              0,
              "#0d0887"
             ],
             [
              0.1111111111111111,
              "#46039f"
             ],
             [
              0.2222222222222222,
              "#7201a8"
             ],
             [
              0.3333333333333333,
              "#9c179e"
             ],
             [
              0.4444444444444444,
              "#bd3786"
             ],
             [
              0.5555555555555556,
              "#d8576b"
             ],
             [
              0.6666666666666666,
              "#ed7953"
             ],
             [
              0.7777777777777778,
              "#fb9f3a"
             ],
             [
              0.8888888888888888,
              "#fdca26"
             ],
             [
              1,
              "#f0f921"
             ]
            ],
            "type": "histogram2d"
           }
          ],
          "histogram2dcontour": [
           {
            "colorbar": {
             "outlinewidth": 0,
             "ticks": ""
            },
            "colorscale": [
             [
              0,
              "#0d0887"
             ],
             [
              0.1111111111111111,
              "#46039f"
             ],
             [
              0.2222222222222222,
              "#7201a8"
             ],
             [
              0.3333333333333333,
              "#9c179e"
             ],
             [
              0.4444444444444444,
              "#bd3786"
             ],
             [
              0.5555555555555556,
              "#d8576b"
             ],
             [
              0.6666666666666666,
              "#ed7953"
             ],
             [
              0.7777777777777778,
              "#fb9f3a"
             ],
             [
              0.8888888888888888,
              "#fdca26"
             ],
             [
              1,
              "#f0f921"
             ]
            ],
            "type": "histogram2dcontour"
           }
          ],
          "mesh3d": [
           {
            "colorbar": {
             "outlinewidth": 0,
             "ticks": ""
            },
            "type": "mesh3d"
           }
          ],
          "parcoords": [
           {
            "line": {
             "colorbar": {
              "outlinewidth": 0,
              "ticks": ""
             }
            },
            "type": "parcoords"
           }
          ],
          "pie": [
           {
            "automargin": true,
            "type": "pie"
           }
          ],
          "scatter": [
           {
            "fillpattern": {
             "fillmode": "overlay",
             "size": 10,
             "solidity": 0.2
            },
            "type": "scatter"
           }
          ],
          "scatter3d": [
           {
            "line": {
             "colorbar": {
              "outlinewidth": 0,
              "ticks": ""
             }
            },
            "marker": {
             "colorbar": {
              "outlinewidth": 0,
              "ticks": ""
             }
            },
            "type": "scatter3d"
           }
          ],
          "scattercarpet": [
           {
            "marker": {
             "colorbar": {
              "outlinewidth": 0,
              "ticks": ""
             }
            },
            "type": "scattercarpet"
           }
          ],
          "scattergeo": [
           {
            "marker": {
             "colorbar": {
              "outlinewidth": 0,
              "ticks": ""
             }
            },
            "type": "scattergeo"
           }
          ],
          "scattergl": [
           {
            "marker": {
             "colorbar": {
              "outlinewidth": 0,
              "ticks": ""
             }
            },
            "type": "scattergl"
           }
          ],
          "scattermapbox": [
           {
            "marker": {
             "colorbar": {
              "outlinewidth": 0,
              "ticks": ""
             }
            },
            "type": "scattermapbox"
           }
          ],
          "scatterpolar": [
           {
            "marker": {
             "colorbar": {
              "outlinewidth": 0,
              "ticks": ""
             }
            },
            "type": "scatterpolar"
           }
          ],
          "scatterpolargl": [
           {
            "marker": {
             "colorbar": {
              "outlinewidth": 0,
              "ticks": ""
             }
            },
            "type": "scatterpolargl"
           }
          ],
          "scatterternary": [
           {
            "marker": {
             "colorbar": {
              "outlinewidth": 0,
              "ticks": ""
             }
            },
            "type": "scatterternary"
           }
          ],
          "surface": [
           {
            "colorbar": {
             "outlinewidth": 0,
             "ticks": ""
            },
            "colorscale": [
             [
              0,
              "#0d0887"
             ],
             [
              0.1111111111111111,
              "#46039f"
             ],
             [
              0.2222222222222222,
              "#7201a8"
             ],
             [
              0.3333333333333333,
              "#9c179e"
             ],
             [
              0.4444444444444444,
              "#bd3786"
             ],
             [
              0.5555555555555556,
              "#d8576b"
             ],
             [
              0.6666666666666666,
              "#ed7953"
             ],
             [
              0.7777777777777778,
              "#fb9f3a"
             ],
             [
              0.8888888888888888,
              "#fdca26"
             ],
             [
              1,
              "#f0f921"
             ]
            ],
            "type": "surface"
           }
          ],
          "table": [
           {
            "cells": {
             "fill": {
              "color": "#EBF0F8"
             },
             "line": {
              "color": "white"
             }
            },
            "header": {
             "fill": {
              "color": "#C8D4E3"
             },
             "line": {
              "color": "white"
             }
            },
            "type": "table"
           }
          ]
         },
         "layout": {
          "annotationdefaults": {
           "arrowcolor": "#2a3f5f",
           "arrowhead": 0,
           "arrowwidth": 1
          },
          "autotypenumbers": "strict",
          "coloraxis": {
           "colorbar": {
            "outlinewidth": 0,
            "ticks": ""
           }
          },
          "colorscale": {
           "diverging": [
            [
             0,
             "#8e0152"
            ],
            [
             0.1,
             "#c51b7d"
            ],
            [
             0.2,
             "#de77ae"
            ],
            [
             0.3,
             "#f1b6da"
            ],
            [
             0.4,
             "#fde0ef"
            ],
            [
             0.5,
             "#f7f7f7"
            ],
            [
             0.6,
             "#e6f5d0"
            ],
            [
             0.7,
             "#b8e186"
            ],
            [
             0.8,
             "#7fbc41"
            ],
            [
             0.9,
             "#4d9221"
            ],
            [
             1,
             "#276419"
            ]
           ],
           "sequential": [
            [
             0,
             "#0d0887"
            ],
            [
             0.1111111111111111,
             "#46039f"
            ],
            [
             0.2222222222222222,
             "#7201a8"
            ],
            [
             0.3333333333333333,
             "#9c179e"
            ],
            [
             0.4444444444444444,
             "#bd3786"
            ],
            [
             0.5555555555555556,
             "#d8576b"
            ],
            [
             0.6666666666666666,
             "#ed7953"
            ],
            [
             0.7777777777777778,
             "#fb9f3a"
            ],
            [
             0.8888888888888888,
             "#fdca26"
            ],
            [
             1,
             "#f0f921"
            ]
           ],
           "sequentialminus": [
            [
             0,
             "#0d0887"
            ],
            [
             0.1111111111111111,
             "#46039f"
            ],
            [
             0.2222222222222222,
             "#7201a8"
            ],
            [
             0.3333333333333333,
             "#9c179e"
            ],
            [
             0.4444444444444444,
             "#bd3786"
            ],
            [
             0.5555555555555556,
             "#d8576b"
            ],
            [
             0.6666666666666666,
             "#ed7953"
            ],
            [
             0.7777777777777778,
             "#fb9f3a"
            ],
            [
             0.8888888888888888,
             "#fdca26"
            ],
            [
             1,
             "#f0f921"
            ]
           ]
          },
          "colorway": [
           "#636efa",
           "#EF553B",
           "#00cc96",
           "#ab63fa",
           "#FFA15A",
           "#19d3f3",
           "#FF6692",
           "#B6E880",
           "#FF97FF",
           "#FECB52"
          ],
          "font": {
           "color": "#2a3f5f"
          },
          "geo": {
           "bgcolor": "white",
           "lakecolor": "white",
           "landcolor": "#E5ECF6",
           "showlakes": true,
           "showland": true,
           "subunitcolor": "white"
          },
          "hoverlabel": {
           "align": "left"
          },
          "hovermode": "closest",
          "mapbox": {
           "style": "light"
          },
          "paper_bgcolor": "white",
          "plot_bgcolor": "#E5ECF6",
          "polar": {
           "angularaxis": {
            "gridcolor": "white",
            "linecolor": "white",
            "ticks": ""
           },
           "bgcolor": "#E5ECF6",
           "radialaxis": {
            "gridcolor": "white",
            "linecolor": "white",
            "ticks": ""
           }
          },
          "scene": {
           "xaxis": {
            "backgroundcolor": "#E5ECF6",
            "gridcolor": "white",
            "gridwidth": 2,
            "linecolor": "white",
            "showbackground": true,
            "ticks": "",
            "zerolinecolor": "white"
           },
           "yaxis": {
            "backgroundcolor": "#E5ECF6",
            "gridcolor": "white",
            "gridwidth": 2,
            "linecolor": "white",
            "showbackground": true,
            "ticks": "",
            "zerolinecolor": "white"
           },
           "zaxis": {
            "backgroundcolor": "#E5ECF6",
            "gridcolor": "white",
            "gridwidth": 2,
            "linecolor": "white",
            "showbackground": true,
            "ticks": "",
            "zerolinecolor": "white"
           }
          },
          "shapedefaults": {
           "line": {
            "color": "#2a3f5f"
           }
          },
          "ternary": {
           "aaxis": {
            "gridcolor": "white",
            "linecolor": "white",
            "ticks": ""
           },
           "baxis": {
            "gridcolor": "white",
            "linecolor": "white",
            "ticks": ""
           },
           "bgcolor": "#E5ECF6",
           "caxis": {
            "gridcolor": "white",
            "linecolor": "white",
            "ticks": ""
           }
          },
          "title": {
           "x": 0.05
          },
          "xaxis": {
           "automargin": true,
           "gridcolor": "white",
           "linecolor": "white",
           "ticks": "",
           "title": {
            "standoff": 15
           },
           "zerolinecolor": "white",
           "zerolinewidth": 2
          },
          "yaxis": {
           "automargin": true,
           "gridcolor": "white",
           "linecolor": "white",
           "ticks": "",
           "title": {
            "standoff": 15
           },
           "zerolinecolor": "white",
           "zerolinewidth": 2
          }
         }
        }
       }
      },
      "image/png": "[encoded data removed]",
      "text/html": [
       "<div>                            <div id=\"4764d93c-61de-4b42-a1f0-82f67d371223\" class=\"plotly-graph-div\" style=\"height:525px; width:100%;\"></div>            <script type=\"text/javascript\">                require([\"plotly\"], function(Plotly) {                    window.PLOTLYENV=window.PLOTLYENV || {};                                    if (document.getElementById(\"4764d93c-61de-4b42-a1f0-82f67d371223\")) {                    Plotly.newPlot(                        \"4764d93c-61de-4b42-a1f0-82f67d371223\",                        [{\"cells\":{\"align\":[\"left\",\"center\"],\"fill\":{\"color\":[\"paleturquoise\",\"white\"]},\"font\":{\"size\":12},\"height\":60,\"line\":{\"color\":\"darkslategray\"},\"values\":[[\"PL\",\"PL\",\"PL\",\"PL\",\"PL\",\"PL\",\"PL\",\"PL\",\"PL\",\"PL\",\"PL\",\"PL\",\"PL\",\"PL\",\"PL\",\"PL\"],[4620,8676,4347,4927,348,3156,60,486,2685,2632,4601,4722,5118,5122,5213,5221],[2012,2017,2019,2020,2021,2021,2022,2020,2022,2023,2023,2023,2023,2023,2023,2023],[\"Altera o art. 49 da Lei n\\u00ba 8.171, de 17 de janeiro de 1991, com o objetivo de incluir como benefici\\u00e1rios de cr\\u00e9dito rural as comunidades quilombolas, ribeirinhas e quebradoras de coco baba\\u00e7u, atingidos por barragens e assentados da reforma agr\\u00e1ria.\",\"Acrescenta Cap\\u00edtulo VI-A \\u00e0 Lei n\\u00ba 4.829, de 5 de novembro de 1965, para instituir os procedimentos de prorroga\\u00e7\\u00e3o e de recomposi\\u00e7\\u00e3o de d\\u00e9bitos de cr\\u00e9dito rural.\",\"Altera a Lei n\\u00ba 13.606, de 9 de janeiro de 2018, para prorrogar os prazos para ades\\u00e3o \\u00e0 renegocia\\u00e7\\u00e3o de d\\u00edvidas de opera\\u00e7\\u00f5es de cr\\u00e9dito rural que especifica.\",\"Altera a reda\\u00e7\\u00e3o do art. 10 da Lei 4.829\\u002f1965 para considerar inid\\u00f4neo para fins de obten\\u00e7\\u00e3o de cr\\u00e9dito rural os condenados pelo crime previsto no 41 da Lei 9.605\\u002f1998\",\"Institui linha especial de cr\\u00e9dito rural\",\"Disp\\u00f5e sobre a preven\\u00e7\\u00e3o e combate ao Superendividamento do Consumidor e d\\u00e1 outras previd\\u00eancias.\",\"Disp\\u00f5e sobre a remiss\\u00e3o e a prorroga\\u00e7\\u00e3o de parcelas de d\\u00edvidas origin\\u00e1rias de opera\\u00e7\\u00f5es de cr\\u00e9dito rural de responsabilidade de produtores cuja produ\\u00e7\\u00e3o da safra do ciclo agr\\u00edcola 2021\\u002f2022 tenha sido prejudicada em raz\\u00e3o de excesso h\\u00eddrico.\",\"Altera a Lei n\\u00ba 11.326, de 24 de julho de 2006, para incluir a redu\\u00e7\\u00e3o das desigualdades sociais e regionais entre os princ\\u00edpios a serem observados pela Pol\\u00edtica Nacional da Agricultura Familiar e Empreendimentos Familiares Rurais e determina ao poder p\\u00fablico tratamento especial quanto a linhas de cr\\u00e9dito rural e servi\\u00e7os de assist\\u00eancia t\\u00e9cnica e extens\\u00e3o rural destinados a agricultores familiares e empreendimentos familiares rurais situados na Regi\\u00e3o do Maraj\\u00f3.\",\"Institui o Programa Nacional de Renegocia\\u00e7\\u00e3o das D\\u00edvidas das Fam\\u00edlias \\u2013 ReFam\\u00edlia e estabelece a necessidade de imposi\\u00e7\\u00e3o de limite aos juros cobrados na modalidade cart\\u00e3o de cr\\u00e9dito rotativo.\\n  NOVA EMENTA: Institui o Programa Emergencial de Renegocia\\u00e7\\u00e3o de D\\u00edvidas de Pessoas F\\u00edsicas Inadimplentes - Desenrola Brasil; estabelece normas para facilita\\u00e7\\u00e3o de acesso a cr\\u00e9dito e mitiga\\u00e7\\u00e3o de riscos de inadimplemento e de superendividamento de pessoas f\\u00edsicas; altera a Consolida\\u00e7\\u00e3o das Leis do Trabalho, aprovada pelo Decreto-Lei n\\u00ba 5.452, de 1\\u00ba de maio de 1943, e as Leis n\\u00bas 10.406, de 10 de janeiro de 2002 (C\\u00f3digo Civil), 10.522, de 19 de julho de 2002 e 12.087, de 11 de novembro de 2009; e revoga dispositivo da Lei n\\u00ba 4.737, de 15 de julho de 1965 (C\\u00f3digo Eleitoral), e a Medida Provis\\u00f3ria n\\u00ba 1.176, de 5 de junho de 2023.\",\"Estabelece o cr\\u00e9dito respons\\u00e1vel e assegura a garantia do m\\u00ednimo existencial para os endividados.\",\"Autoriza a cria\\u00e7\\u00e3o de linha emergencial de cr\\u00e9dito rural e a renegocia\\u00e7\\u00e3o e prorroga\\u00e7\\u00e3o de opera\\u00e7\\u00f5es de cr\\u00e9dito rural de custeio e investimento para produtores rurais da pecu\\u00e1ria de corte e produtores de leite, que tenham sido prejudicados pela queda de pre\\u00e7os de comercializa\\u00e7\\u00e3o.\",\"Disp\\u00f5e sobre a concess\\u00e3o de rebate nas opera\\u00e7\\u00f5es de cr\\u00e9dito rural de custeio de leite contratadas no \\u00e2mbito do Programa Nacional de Fortalecimento da Agricultura Familiar e do Programa Nacional de Apoio ao M\\u00e9dio Produtor Rural, cujos empreendimentos tenham sido prejudicados por seca ou estiagem.\",\"Autoriza a cria\\u00e7\\u00e3o de linha emergencial de cr\\u00e9dito rural e a prorroga\\u00e7\\u00e3o de opera\\u00e7\\u00f5es de cr\\u00e9dito rural de custeio e investimento para mandiocultores com produ\\u00e7\\u00f5es afetadas pela pragaErinnyis ello (mandarov\\u00e1).\",\"Disp\\u00f5e sobre a liquida\\u00e7\\u00e3o, anistia, renegocia\\u00e7\\u00e3o e rebate de d\\u00edvidas origin\\u00e1rias de cr\\u00e9dito rural para agricultores, pecuaristas, piscicultores, pescadores e carcinicultores, em geral, e d\\u00e1 outras provid\\u00eancias, bem como altera a Lei no 14.554, de 20 de abril de 2023, que altera as Leis nos 13.999, de 18 de maio de 2020, 14.166, de 10 de junho de 2021, 11.540, de 12 de novembro de 2007, e 14.042, de 19 de agosto de 2020, para tratar do refinanciamento de d\\u00edvidas e altera a Lei no 7.827, de 27 de setembro de 1989, a fim de sanar omiss\\u00e3o legislativa.\",\"Concede subven\\u00e7\\u00e3o extraordin\\u00e1ria aos produtores de leite enquadrados na Lei 11.326\\u002f2006, prorroga o pagamento de parcela de cr\\u00e9dito rural e d\\u00e1 outras provid\\u00eancias.\",\"Altera a Lei n\\u00ba 13.340, de 28 de setembro de 2016, para conceder rebate para liquida\\u00e7\\u00e3o de opera\\u00e7\\u00f5es de cr\\u00e9dito rural, amortiza\\u00e7\\u00e3o da d\\u00edvida a ser repactuada e d\\u00e1 outras provid\\u00eancias.\"],[\"Aguardando Parecer\",\"Aguardando Encaminhamento\",\"N\\u00e3o informado\",\"N\\u00e3o informado\",\"Aguardando Vistas\",\"Aguardando Parecer\",\"Tramitando em Conjunto\",\"Pronta para Pauta\",\"Transformado em Norma Jur\\u00eddica\",\"Pronta para Pauta\",\"Aguardando Parecer\",\"Tramitando em Conjunto\",\"N\\u00e3o informado\",\"N\\u00e3o informado\",\"N\\u00e3o informado\",\"N\\u00e3o informado\"]]},\"columnwidth\":[300,600],\"header\":{\"align\":[\"left\",\"center\"],\"fill\":{\"color\":\"royalblue\"},\"font\":{\"color\":\"white\",\"size\":12},\"height\":60,\"line\":{\"color\":\"darkslategray\"},\"values\":[\"Tipo\",\"N\\u00famero\",\"Ano\",\"Ementa\",\"Situa\\u00e7\\u00e3o\"]},\"type\":\"table\"}],                        {\"template\":{\"data\":{\"histogram2dcontour\":[{\"type\":\"histogram2dcontour\",\"colorbar\":{\"outlinewidth\":0,\"ticks\":\"\"},\"colorscale\":[[0.0,\"#0d0887\"],[0.1111111111111111,\"#46039f\"],[0.2222222222222222,\"#7201a8\"],[0.3333333333333333,\"#9c179e\"],[0.4444444444444444,\"#bd3786\"],[0.5555555555555556,\"#d8576b\"],[0.6666666666666666,\"#ed7953\"],[0.7777777777777778,\"#fb9f3a\"],[0.8888888888888888,\"#fdca26\"],[1.0,\"#f0f921\"]]}],\"choropleth\":[{\"type\":\"choropleth\",\"colorbar\":{\"outlinewidth\":0,\"ticks\":\"\"}}],\"histogram2d\":[{\"type\":\"histogram2d\",\"colorbar\":{\"outlinewidth\":0,\"ticks\":\"\"},\"colorscale\":[[0.0,\"#0d0887\"],[0.1111111111111111,\"#46039f\"],[0.2222222222222222,\"#7201a8\"],[0.3333333333333333,\"#9c179e\"],[0.4444444444444444,\"#bd3786\"],[0.5555555555555556,\"#d8576b\"],[0.6666666666666666,\"#ed7953\"],[0.7777777777777778,\"#fb9f3a\"],[0.8888888888888888,\"#fdca26\"],[1.0,\"#f0f921\"]]}],\"heatmap\":[{\"type\":\"heatmap\",\"colorbar\":{\"outlinewidth\":0,\"ticks\":\"\"},\"colorscale\":[[0.0,\"#0d0887\"],[0.1111111111111111,\"#46039f\"],[0.2222222222222222,\"#7201a8\"],[0.3333333333333333,\"#9c179e\"],[0.4444444444444444,\"#bd3786\"],[0.5555555555555556,\"#d8576b\"],[0.6666666666666666,\"#ed7953\"],[0.7777777777777778,\"#fb9f3a\"],[0.8888888888888888,\"#fdca26\"],[1.0,\"#f0f921\"]]}],\"heatmapgl\":[{\"type\":\"heatmapgl\",\"colorbar\":{\"outlinewidth\":0,\"ticks\":\"\"},\"colorscale\":[[0.0,\"#0d0887\"],[0.1111111111111111,\"#46039f\"],[0.2222222222222222,\"#7201a8\"],[0.3333333333333333,\"#9c179e\"],[0.4444444444444444,\"#bd3786\"],[0.5555555555555556,\"#d8576b\"],[0.6666666666666666,\"#ed7953\"],[0.7777777777777778,\"#fb9f3a\"],[0.8888888888888888,\"#fdca26\"],[1.0,\"#f0f921\"]]}],\"contourcarpet\":[{\"type\":\"contourcarpet\",\"colorbar\":{\"outlinewidth\":0,\"ticks\":\"\"}}],\"contour\":[{\"type\":\"contour\",\"colorbar\":{\"outlinewidth\":0,\"ticks\":\"\"},\"colorscale\":[[0.0,\"#0d0887\"],[0.1111111111111111,\"#46039f\"],[0.2222222222222222,\"#7201a8\"],[0.3333333333333333,\"#9c179e\"],[0.4444444444444444,\"#bd3786\"],[0.5555555555555556,\"#d8576b\"],[0.6666666666666666,\"#ed7953\"],[0.7777777777777778,\"#fb9f3a\"],[0.8888888888888888,\"#fdca26\"],[1.0,\"#f0f921\"]]}],\"surface\":[{\"type\":\"surface\",\"colorbar\":{\"outlinewidth\":0,\"ticks\":\"\"},\"colorscale\":[[0.0,\"#0d0887\"],[0.1111111111111111,\"#46039f\"],[0.2222222222222222,\"#7201a8\"],[0.3333333333333333,\"#9c179e\"],[0.4444444444444444,\"#bd3786\"],[0.5555555555555556,\"#d8576b\"],[0.6666666666666666,\"#ed7953\"],[0.7777777777777778,\"#fb9f3a\"],[0.8888888888888888,\"#fdca26\"],[1.0,\"#f0f921\"]]}],\"mesh3d\":[{\"type\":\"mesh3d\",\"colorbar\":{\"outlinewidth\":0,\"ticks\":\"\"}}],\"scatter\":[{\"fillpattern\":{\"fillmode\":\"overlay\",\"size\":10,\"solidity\":0.2},\"type\":\"scatter\"}],\"parcoords\":[{\"type\":\"parcoords\",\"line\":{\"colorbar\":{\"outlinewidth\":0,\"ticks\":\"\"}}}],\"scatterpolargl\":[{\"type\":\"scatterpolargl\",\"marker\":{\"colorbar\":{\"outlinewidth\":0,\"ticks\":\"\"}}}],\"bar\":[{\"error_x\":{\"color\":\"#2a3f5f\"},\"error_y\":{\"color\":\"#2a3f5f\"},\"marker\":{\"line\":{\"color\":\"#E5ECF6\",\"width\":0.5},\"pattern\":{\"fillmode\":\"overlay\",\"size\":10,\"solidity\":0.2}},\"type\":\"bar\"}],\"scattergeo\":[{\"type\":\"scattergeo\",\"marker\":{\"colorbar\":{\"outlinewidth\":0,\"ticks\":\"\"}}}],\"scatterpolar\":[{\"type\":\"scatterpolar\",\"marker\":{\"colorbar\":{\"outlinewidth\":0,\"ticks\":\"\"}}}],\"histogram\":[{\"marker\":{\"pattern\":{\"fillmode\":\"overlay\",\"size\":10,\"solidity\":0.2}},\"type\":\"histogram\"}],\"scattergl\":[{\"type\":\"scattergl\",\"marker\":{\"colorbar\":{\"outlinewidth\":0,\"ticks\":\"\"}}}],\"scatter3d\":[{\"type\":\"scatter3d\",\"line\":{\"colorbar\":{\"outlinewidth\":0,\"ticks\":\"\"}},\"marker\":{\"colorbar\":{\"outlinewidth\":0,\"ticks\":\"\"}}}],\"scattermapbox\":[{\"type\":\"scattermapbox\",\"marker\":{\"colorbar\":{\"outlinewidth\":0,\"ticks\":\"\"}}}],\"scatterternary\":[{\"type\":\"scatterternary\",\"marker\":{\"colorbar\":{\"outlinewidth\":0,\"ticks\":\"\"}}}],\"scattercarpet\":[{\"type\":\"scattercarpet\",\"marker\":{\"colorbar\":{\"outlinewidth\":0,\"ticks\":\"\"}}}],\"carpet\":[{\"aaxis\":{\"endlinecolor\":\"#2a3f5f\",\"gridcolor\":\"white\",\"linecolor\":\"white\",\"minorgridcolor\":\"white\",\"startlinecolor\":\"#2a3f5f\"},\"baxis\":{\"endlinecolor\":\"#2a3f5f\",\"gridcolor\":\"white\",\"linecolor\":\"white\",\"minorgridcolor\":\"white\",\"startlinecolor\":\"#2a3f5f\"},\"type\":\"carpet\"}],\"table\":[{\"cells\":{\"fill\":{\"color\":\"#EBF0F8\"},\"line\":{\"color\":\"white\"}},\"header\":{\"fill\":{\"color\":\"#C8D4E3\"},\"line\":{\"color\":\"white\"}},\"type\":\"table\"}],\"barpolar\":[{\"marker\":{\"line\":{\"color\":\"#E5ECF6\",\"width\":0.5},\"pattern\":{\"fillmode\":\"overlay\",\"size\":10,\"solidity\":0.2}},\"type\":\"barpolar\"}],\"pie\":[{\"automargin\":true,\"type\":\"pie\"}]},\"layout\":{\"autotypenumbers\":\"strict\",\"colorway\":[\"#636efa\",\"#EF553B\",\"#00cc96\",\"#ab63fa\",\"#FFA15A\",\"#19d3f3\",\"#FF6692\",\"#B6E880\",\"#FF97FF\",\"#FECB52\"],\"font\":{\"color\":\"#2a3f5f\"},\"hovermode\":\"closest\",\"hoverlabel\":{\"align\":\"left\"},\"paper_bgcolor\":\"white\",\"plot_bgcolor\":\"#E5ECF6\",\"polar\":{\"bgcolor\":\"#E5ECF6\",\"angularaxis\":{\"gridcolor\":\"white\",\"linecolor\":\"white\",\"ticks\":\"\"},\"radialaxis\":{\"gridcolor\":\"white\",\"linecolor\":\"white\",\"ticks\":\"\"}},\"ternary\":{\"bgcolor\":\"#E5ECF6\",\"aaxis\":{\"gridcolor\":\"white\",\"linecolor\":\"white\",\"ticks\":\"\"},\"baxis\":{\"gridcolor\":\"white\",\"linecolor\":\"white\",\"ticks\":\"\"},\"caxis\":{\"gridcolor\":\"white\",\"linecolor\":\"white\",\"ticks\":\"\"}},\"coloraxis\":{\"colorbar\":{\"outlinewidth\":0,\"ticks\":\"\"}},\"colorscale\":{\"sequential\":[[0.0,\"#0d0887\"],[0.1111111111111111,\"#46039f\"],[0.2222222222222222,\"#7201a8\"],[0.3333333333333333,\"#9c179e\"],[0.4444444444444444,\"#bd3786\"],[0.5555555555555556,\"#d8576b\"],[0.6666666666666666,\"#ed7953\"],[0.7777777777777778,\"#fb9f3a\"],[0.8888888888888888,\"#fdca26\"],[1.0,\"#f0f921\"]],\"sequentialminus\":[[0.0,\"#0d0887\"],[0.1111111111111111,\"#46039f\"],[0.2222222222222222,\"#7201a8\"],[0.3333333333333333,\"#9c179e\"],[0.4444444444444444,\"#bd3786\"],[0.5555555555555556,\"#d8576b\"],[0.6666666666666666,\"#ed7953\"],[0.7777777777777778,\"#fb9f3a\"],[0.8888888888888888,\"#fdca26\"],[1.0,\"#f0f921\"]],\"diverging\":[[0,\"#8e0152\"],[0.1,\"#c51b7d\"],[0.2,\"#de77ae\"],[0.3,\"#f1b6da\"],[0.4,\"#fde0ef\"],[0.5,\"#f7f7f7\"],[0.6,\"#e6f5d0\"],[0.7,\"#b8e186\"],[0.8,\"#7fbc41\"],[0.9,\"#4d9221\"],[1,\"#276419\"]]},\"xaxis\":{\"gridcolor\":\"white\",\"linecolor\":\"white\",\"ticks\":\"\",\"title\":{\"standoff\":15},\"zerolinecolor\":\"white\",\"automargin\":true,\"zerolinewidth\":2},\"yaxis\":{\"gridcolor\":\"white\",\"linecolor\":\"white\",\"ticks\":\"\",\"title\":{\"standoff\":15},\"zerolinecolor\":\"white\",\"automargin\":true,\"zerolinewidth\":2},\"scene\":{\"xaxis\":{\"backgroundcolor\":\"#E5ECF6\",\"gridcolor\":\"white\",\"linecolor\":\"white\",\"showbackground\":true,\"ticks\":\"\",\"zerolinecolor\":\"white\",\"gridwidth\":2},\"yaxis\":{\"backgroundcolor\":\"#E5ECF6\",\"gridcolor\":\"white\",\"linecolor\":\"white\",\"showbackground\":true,\"ticks\":\"\",\"zerolinecolor\":\"white\",\"gridwidth\":2},\"zaxis\":{\"backgroundcolor\":\"#E5ECF6\",\"gridcolor\":\"white\",\"linecolor\":\"white\",\"showbackground\":true,\"ticks\":\"\",\"zerolinecolor\":\"white\",\"gridwidth\":2}},\"shapedefaults\":{\"line\":{\"color\":\"#2a3f5f\"}},\"annotationdefaults\":{\"arrowcolor\":\"#2a3f5f\",\"arrowhead\":0,\"arrowwidth\":1},\"geo\":{\"bgcolor\":\"white\",\"landcolor\":\"#E5ECF6\",\"subunitcolor\":\"white\",\"showland\":true,\"showlakes\":true,\"lakecolor\":\"white\"},\"title\":{\"x\":0.05},\"mapbox\":{\"style\":\"light\"}}}},                        {\"responsive\": true}                    ).then(function(){\n",
       "                            \n",
       "var gd = document.getElementById('4764d93c-61de-4b42-a1f0-82f67d371223');\n",
       "var x = new MutationObserver(function (mutations, observer) {{\n",
       "        var display = window.getComputedStyle(gd).display;\n",
       "        if (!display || display === 'none') {{\n",
       "            console.log([gd, 'removed!']);\n",
       "            Plotly.purge(gd);\n",
       "            observer.disconnect();\n",
       "        }}\n",
       "}});\n",
       "\n",
       "// Listen for the removal of the full notebook cells\n",
       "var notebookContainer = gd.closest('#notebook-container');\n",
       "if (notebookContainer) {{\n",
       "    x.observe(notebookContainer, {childList: true});\n",
       "}}\n",
       "\n",
       "// Listen for the clearing of the current output cell\n",
       "var outputEl = gd.closest('.output');\n",
       "if (outputEl) {{\n",
       "    x.observe(outputEl, {childList: true});\n",
       "}}\n",
       "\n",
       "                        })                };                });            </script>        </div>"
      ]
     },
     "metadata": {},
     "output_type": "display_data"
    }
   ],
   "source": [
    "fig = go.Figure(data=[go.Table(\n",
    "  columnwidth = [300,600],\n",
    "  header = dict(\n",
    "    values=list(new_df.columns),\n",
    "    line_color='darkslategray',\n",
    "    fill_color='royalblue',\n",
    "    align=['left','center'],\n",
    "    font=dict(color='white', size=12),\n",
    "    height=60,\n",
    "  ),\n",
    "  cells=dict(\n",
    "    values=[new_df.Tipo, new_df.Número, new_df.Ano, new_df.Ementa, new_df.Situação],\n",
    "    line_color='darkslategray',\n",
    "    fill=dict(color=['paleturquoise', 'white']),\n",
    "    align=['left', 'center'],\n",
    "    font_size=12,\n",
    "    height=60)\n",
    "    )\n",
    "])\n",
    "\n",
    "fig.show()"
   ]
  },
  {
   "cell_type": "code",
   "execution_count": null,
   "id": "16360b70-55e3-4b8a-a146-27e4ef6eeab2",
   "metadata": {
    "tags": []
   },
   "outputs": [],
   "source": []
  },
  {
   "cell_type": "code",
   "execution_count": null,
   "id": "be5d16dc-6615-428b-b806-859bc2e3850c",
   "metadata": {},
   "outputs": [],
   "source": []
  }
 ],
 "metadata": {
  "kernelspec": {
   "display_name": "Python 3 (ipykernel)",
   "language": "python",
   "name": "python3"
  },
  "language_info": {
   "codemirror_mode": {
    "name": "ipython",
    "version": 3
   },
   "file_extension": ".py",
   "mimetype": "text/x-python",
   "name": "python",
   "nbconvert_exporter": "python",
   "pygments_lexer": "ipython3",
   "version": "3.10.9"
  }
 },
 "nbformat": 4,
 "nbformat_minor": 5
}
