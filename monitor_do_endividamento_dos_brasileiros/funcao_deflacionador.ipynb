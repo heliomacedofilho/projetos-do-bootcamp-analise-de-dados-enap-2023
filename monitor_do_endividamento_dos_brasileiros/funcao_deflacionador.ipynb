{
 "cells": [
  {
   "cell_type": "code",
   "execution_count": null,
   "id": "ab7f375e-6b54-4bd6-b831-2b7aff66f2bb",
   "metadata": {},
   "outputs": [],
   "source": [
    "#Depois que você criou o df_total da função mestra"
   ]
  },
  {
   "cell_type": "code",
   "execution_count": null,
   "id": "c3c4f559-0e01-4723-a7b1-7faea292575e",
   "metadata": {},
   "outputs": [],
   "source": [
    "pip install deflateBR"
   ]
  },
  {
   "cell_type": "code",
   "execution_count": null,
   "id": "f176ebff-610e-487c-a49e-980d1f1aa990",
   "metadata": {},
   "outputs": [],
   "source": [
    "import deflatebr as dbr"
   ]
  },
  {
   "cell_type": "code",
   "execution_count": null,
   "id": "ea63d1aa-233b-4436-bf6b-35645c059d17",
   "metadata": {},
   "outputs": [],
   "source": [
    "df_total['valor_deflacionado'] = dbr.deflate(nominal_values=df_total['colunavalor'], nominal_dates=df_total['data_base'], real_date='2023-01')"
   ]
  },
  {
   "cell_type": "code",
   "execution_count": null,
   "id": "f9d413a0-5b4b-41b8-a4a9-91309cc10252",
   "metadata": {},
   "outputs": [],
   "source": [
    "pd.set_option('display.float_format', '{:.2f}'.format)\n",
    "df_total"
   ]
  },
  {
   "cell_type": "code",
   "execution_count": null,
   "id": "75964c7d-f655-4730-8a46-0d4ef12b2bbc",
   "metadata": {},
   "outputs": [],
   "source": [
    "#Quer conferir se os seus valores estão certinhos?\n",
    "#https://www3.bcb.gov.br/CALCIDADAO/publico/exibirFormCorrecaoValores.do?method=exibirFormCorrecaoValores"
   ]
  }
 ],
 "metadata": {
  "kernelspec": {
   "display_name": "Python 3 (ipykernel)",
   "language": "python",
   "name": "python3"
  },
  "language_info": {
   "codemirror_mode": {
    "name": "ipython",
    "version": 3
   },
   "file_extension": ".py",
   "mimetype": "text/x-python",
   "name": "python",
   "nbconvert_exporter": "python",
   "pygments_lexer": "ipython3",
   "version": "3.11.5"
  }
 },
 "nbformat": 4,
 "nbformat_minor": 5
}
