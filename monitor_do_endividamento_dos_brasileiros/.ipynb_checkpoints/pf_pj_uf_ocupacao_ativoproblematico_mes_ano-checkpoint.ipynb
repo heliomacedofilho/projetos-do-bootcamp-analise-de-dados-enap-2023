{
 "cells": [
  {
   "cell_type": "code",
   "execution_count": 1,
   "id": "60d865d7-90a2-4ddc-8f98-4ba9d508942f",
   "metadata": {
    "tags": []
   },
   "outputs": [],
   "source": [
    "import zipfile\n",
    "import os\n",
    "import pandas as pd"
   ]
  },
  {
   "cell_type": "code",
   "execution_count": 2,
   "id": "3b9e419a-bd66-4e01-a4bd-1ac31f887db3",
   "metadata": {
    "tags": []
   },
   "outputs": [],
   "source": [
    "def concatenar_csvs(diretorio):\n",
    "    frames = []\n",
    "\n",
    "    for arquivo in os.listdir(diretorio):\n",
    "        if arquivo.endswith('.csv'):\n",
    "            caminho_arquivo = os.path.join(diretorio, arquivo)\n",
    "            \n",
    "            df = pd.read_csv(caminho_arquivo, encoding='utf-8', delimiter=\";\", decimal=\",\")\n",
    "            df = df.rename(columns={df.columns[0]: \"data_base\"})\n",
    "            df['data_base'] = pd.to_datetime(df['data_base'], format=\"%Y-%m-%d\")\n",
    "            df = df[['data_base', 'cliente', 'uf', 'ocupacao', 'cnae_secao', 'ativo_problematico']]\n",
    "            df.loc[df['ocupacao'] == '-', 'ocupacao'] = df['cnae_secao'] #Adiciona o valor da coluna cnae_secao quando a coluna ocupacao é \"-\"\n",
    "            df['data_base'] = df['data_base'].dt.strftime('%Y-%m')\n",
    "            df = df.groupby(['data_base','cliente','uf', 'ocupacao'])['ativo_problematico'].sum().reset_index()\n",
    "            \n",
    "            frames.append(df)\n",
    "\n",
    "    df_concatenado = pd.concat(frames, ignore_index=True)\n",
    "\n",
    "    return df_concatenado"
   ]
  },
  {
   "cell_type": "code",
   "execution_count": 3,
   "id": "130a2d01-bdd2-42b5-8043-c5f316962816",
   "metadata": {
    "tags": []
   },
   "outputs": [],
   "source": [
    "anos = list(range(2012, 2024))\n",
    "dataframes = []\n",
    "\n",
    "for ano in anos:\n",
    "    diretorio = f\"planilha_{ano}\"\n",
    "    dataframe_ano = concatenar_csvs(diretorio)\n",
    "    dataframes.append(dataframe_ano)\n",
    "\n",
    "df_total = pd.concat(dataframes, ignore_index=False)"
   ]
  },
  {
   "cell_type": "code",
   "execution_count": 4,
   "id": "150d62b5-5fb0-4ad9-ba66-9caef7b8c04b",
   "metadata": {
    "tags": []
   },
   "outputs": [
    {
     "name": "stdout",
     "output_type": "stream",
     "text": [
      "<class 'pandas.core.frame.DataFrame'>\n",
      "Index: 100768 entries, 0 to 6077\n",
      "Data columns (total 5 columns):\n",
      " #   Column              Non-Null Count   Dtype  \n",
      "---  ------              --------------   -----  \n",
      " 0   data_base           100768 non-null  object \n",
      " 1   cliente             100768 non-null  object \n",
      " 2   uf                  100768 non-null  object \n",
      " 3   ocupacao            100768 non-null  object \n",
      " 4   ativo_problematico  100768 non-null  float64\n",
      "dtypes: float64(1), object(4)\n",
      "memory usage: 4.6+ MB\n"
     ]
    }
   ],
   "source": [
    "df_total.info()"
   ]
  },
  {
   "cell_type": "code",
   "execution_count": 5,
   "id": "4a30f87f-db45-4b88-97b7-65a869314f3b",
   "metadata": {
    "tags": []
   },
   "outputs": [
    {
     "data": {
      "text/html": [
       "<div>\n",
       "<style scoped>\n",
       "    .dataframe tbody tr th:only-of-type {\n",
       "        vertical-align: middle;\n",
       "    }\n",
       "\n",
       "    .dataframe tbody tr th {\n",
       "        vertical-align: top;\n",
       "    }\n",
       "\n",
       "    .dataframe thead th {\n",
       "        text-align: right;\n",
       "    }\n",
       "</style>\n",
       "<table border=\"1\" class=\"dataframe\">\n",
       "  <thead>\n",
       "    <tr style=\"text-align: right;\">\n",
       "      <th></th>\n",
       "      <th>data_base</th>\n",
       "      <th>cliente</th>\n",
       "      <th>uf</th>\n",
       "      <th>ocupacao</th>\n",
       "      <th>ativo_problematico</th>\n",
       "    </tr>\n",
       "  </thead>\n",
       "  <tbody>\n",
       "    <tr>\n",
       "      <th>0</th>\n",
       "      <td>2012-06</td>\n",
       "      <td>PF</td>\n",
       "      <td>AC</td>\n",
       "      <td>PF - Aposentado/pensionista</td>\n",
       "      <td>11059627.37</td>\n",
       "    </tr>\n",
       "    <tr>\n",
       "      <th>1</th>\n",
       "      <td>2012-06</td>\n",
       "      <td>PF</td>\n",
       "      <td>AC</td>\n",
       "      <td>PF - Autônomo</td>\n",
       "      <td>9468465.85</td>\n",
       "    </tr>\n",
       "    <tr>\n",
       "      <th>2</th>\n",
       "      <td>2012-06</td>\n",
       "      <td>PF</td>\n",
       "      <td>AC</td>\n",
       "      <td>PF - Empregado de empresa privada</td>\n",
       "      <td>6425010.86</td>\n",
       "    </tr>\n",
       "  </tbody>\n",
       "</table>\n",
       "</div>"
      ],
      "text/plain": [
       "  data_base cliente  uf                           ocupacao  ativo_problematico\n",
       "0   2012-06      PF  AC        PF - Aposentado/pensionista         11059627.37\n",
       "1   2012-06      PF  AC                      PF - Autônomo          9468465.85\n",
       "2   2012-06      PF  AC  PF - Empregado de empresa privada          6425010.86"
      ]
     },
     "execution_count": 5,
     "metadata": {},
     "output_type": "execute_result"
    }
   ],
   "source": [
    "df_total.head(3)"
   ]
  },
  {
   "cell_type": "code",
   "execution_count": 6,
   "id": "bc7aa4e5-2ba8-4a9d-ac29-81cf104aafe5",
   "metadata": {
    "tags": []
   },
   "outputs": [],
   "source": [
    "df_total.to_csv(\"cliente_uf_ocupacao_carteira_ativa.csv\")"
   ]
  }
 ],
 "metadata": {
  "kernelspec": {
   "display_name": "Python 3 (ipykernel)",
   "language": "python",
   "name": "python3"
  },
  "language_info": {
   "codemirror_mode": {
    "name": "ipython",
    "version": 3
   },
   "file_extension": ".py",
   "mimetype": "text/x-python",
   "name": "python",
   "nbconvert_exporter": "python",
   "pygments_lexer": "ipython3",
   "version": "3.11.5"
  }
 },
 "nbformat": 4,
 "nbformat_minor": 5
}
