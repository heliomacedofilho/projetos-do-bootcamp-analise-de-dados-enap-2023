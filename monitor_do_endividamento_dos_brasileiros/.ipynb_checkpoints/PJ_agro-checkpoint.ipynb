{
 "cells": [
  {
   "cell_type": "code",
   "execution_count": 1,
   "id": "8e319040-b794-4597-8dc5-b372186c1983",
   "metadata": {},
   "outputs": [],
   "source": [
    "import zipfile\n",
    "import os\n",
    "import pandas as pd"
   ]
  },
  {
   "cell_type": "code",
   "execution_count": 2,
   "id": "e7a84bca-b42a-4b15-9e73-185dc25accda",
   "metadata": {},
   "outputs": [],
   "source": [
    "def concatenar_csvs(diretorio):\n",
    "    frames = []\n",
    "\n",
    "    for arquivo in os.listdir(diretorio):\n",
    "        if arquivo.endswith('.csv'):\n",
    "            caminho_arquivo = os.path.join(diretorio, arquivo)\n",
    "            \n",
    "            df = pd.read_csv(caminho_arquivo, encoding='utf-8', delimiter=\";\", decimal=\",\")\n",
    "            df = df.rename(columns={df.columns[0]: \"data_base\"})\n",
    "            df = df.rename(columns={df.columns[6]: \"cnae_secao\"})\n",
    "            df = df.rename(columns={df.columns[7]: \"cnae_subclasse\"})\n",
    "            df['data_base'] = pd.to_datetime(df['data_base'], format=\"%Y-%m-%d\")\n",
    "            df['mes'] = df['data_base'].dt.month #cria uma nova coluna com mês\n",
    "            df['ano'] = df['data_base'].dt.year\n",
    "            #Filtros:\n",
    "            df = df[df['mes'] == 12] #trocar para o ano que você quer filtrar\n",
    "            df = df[df['cliente'] == 'PJ']\n",
    "            df = df[df['cnae_secao'] == \"PJ - Agricultura, pecuária, produção florestal, pesca e aqüicultura\"]\n",
    "            df = df[['data_base', 'cnae_secao', 'cnae_subclasse','carteira_ativa']]\n",
    "            df['data_base'] = df['data_base'].dt.strftime('%Y-%m')\n",
    "            #Agrupamentos para análise\n",
    "            df = df.groupby(['data_base', 'cnae_secao', 'cnae_subclasse'])['carteira_ativa'].sum().reset_index()\n",
    "            frames.append(df)\n",
    "\n",
    "    df_concatenado = pd.concat(frames, ignore_index=True)\n",
    "\n",
    "    return df_concatenado"
   ]
  },
  {
   "cell_type": "code",
   "execution_count": 3,
   "id": "963d93e2-399b-4260-85a1-a334986d9819",
   "metadata": {},
   "outputs": [],
   "source": [
    "anos = list(range(2012, 2024))\n",
    "dataframes = []\n",
    "\n",
    "for ano in anos:\n",
    "    diretorio = f\"planilha_{ano}\"\n",
    "    dataframe_ano = concatenar_csvs(diretorio)\n",
    "    dataframes.append(dataframe_ano)\n",
    "\n",
    "df_total = pd.concat(dataframes, ignore_index=False)"
   ]
  },
  {
   "cell_type": "code",
   "execution_count": 23,
   "id": "bb2c2feb-cd75-4a77-9f13-bcab3b7f94d4",
   "metadata": {},
   "outputs": [],
   "source": [
    "df_total.to_csv(\"analise_pj_agro.csv\")"
   ]
  },
  {
   "cell_type": "code",
   "execution_count": 5,
   "id": "c4ad4b88-6f9e-4599-90c7-eb649c39c5f4",
   "metadata": {},
   "outputs": [
    {
     "name": "stdout",
     "output_type": "stream",
     "text": [
      "Requirement already satisfied: deflateBR in c:\\users\\casa\\appdata\\local\\programs\\python\\python311\\lib\\site-packages (0.2.1)\n",
      "Requirement already satisfied: requests in c:\\users\\casa\\appdata\\local\\programs\\python\\python311\\lib\\site-packages (from deflateBR) (2.31.0)\n",
      "Requirement already satisfied: pandas in c:\\users\\casa\\appdata\\local\\programs\\python\\python311\\lib\\site-packages (from deflateBR) (2.1.1)\n",
      "Requirement already satisfied: numpy in c:\\users\\casa\\appdata\\local\\programs\\python\\python311\\lib\\site-packages (from deflateBR) (1.26.0)\n",
      "Requirement already satisfied: datetime in c:\\users\\casa\\appdata\\local\\programs\\python\\python311\\lib\\site-packages (from deflateBR) (5.2)\n",
      "Requirement already satisfied: tqdm in c:\\users\\casa\\appdata\\local\\programs\\python\\python311\\lib\\site-packages (from deflateBR) (4.66.1)\n",
      "Requirement already satisfied: zope.interface in c:\\users\\casa\\appdata\\local\\programs\\python\\python311\\lib\\site-packages (from datetime->deflateBR) (6.1)\n",
      "Requirement already satisfied: pytz in c:\\users\\casa\\appdata\\local\\programs\\python\\python311\\lib\\site-packages (from datetime->deflateBR) (2023.3.post1)\n",
      "Requirement already satisfied: python-dateutil>=2.8.2 in c:\\users\\casa\\appdata\\local\\programs\\python\\python311\\lib\\site-packages (from pandas->deflateBR) (2.8.2)\n",
      "Requirement already satisfied: tzdata>=2022.1 in c:\\users\\casa\\appdata\\local\\programs\\python\\python311\\lib\\site-packages (from pandas->deflateBR) (2023.3)\n",
      "Requirement already satisfied: charset-normalizer<4,>=2 in c:\\users\\casa\\appdata\\local\\programs\\python\\python311\\lib\\site-packages (from requests->deflateBR) (3.3.0)\n",
      "Requirement already satisfied: idna<4,>=2.5 in c:\\users\\casa\\appdata\\local\\programs\\python\\python311\\lib\\site-packages (from requests->deflateBR) (3.4)\n",
      "Requirement already satisfied: urllib3<3,>=1.21.1 in c:\\users\\casa\\appdata\\local\\programs\\python\\python311\\lib\\site-packages (from requests->deflateBR) (1.26.17)\n",
      "Requirement already satisfied: certifi>=2017.4.17 in c:\\users\\casa\\appdata\\local\\programs\\python\\python311\\lib\\site-packages (from requests->deflateBR) (2023.7.22)\n",
      "Requirement already satisfied: colorama in c:\\users\\casa\\appdata\\local\\programs\\python\\python311\\lib\\site-packages (from tqdm->deflateBR) (0.4.6)\n",
      "Requirement already satisfied: six>=1.5 in c:\\users\\casa\\appdata\\local\\programs\\python\\python311\\lib\\site-packages (from python-dateutil>=2.8.2->pandas->deflateBR) (1.16.0)\n",
      "Requirement already satisfied: setuptools in c:\\users\\casa\\appdata\\local\\programs\\python\\python311\\lib\\site-packages (from zope.interface->datetime->deflateBR) (65.5.0)\n",
      "Note: you may need to restart the kernel to use updated packages.\n"
     ]
    },
    {
     "name": "stderr",
     "output_type": "stream",
     "text": [
      "\n",
      "[notice] A new release of pip is available: 23.2.1 -> 23.3\n",
      "[notice] To update, run: python.exe -m pip install --upgrade pip\n"
     ]
    }
   ],
   "source": [
    "pip install deflateBR"
   ]
  },
  {
   "cell_type": "code",
   "execution_count": 6,
   "id": "c7299ca4-0899-4023-a65e-25f952e198b5",
   "metadata": {},
   "outputs": [],
   "source": [
    "import deflatebr as dbr"
   ]
  },
  {
   "cell_type": "code",
   "execution_count": 7,
   "id": "d394e2ac-43c0-4d04-9693-06abeb451caf",
   "metadata": {},
   "outputs": [
    {
     "name": "stderr",
     "output_type": "stream",
     "text": [
      "C:\\Users\\Casa\\AppData\\Local\\Programs\\Python\\Python311\\Lib\\site-packages\\deflatebr\\deflate.py:90: FutureWarning: Series.__getitem__ treating keys as positions is deprecated. In a future version, integer keys will always be treated as labels (consistent with DataFrame behavior). To access a value by position, use `ser.iloc[pos]`\n",
      "  df['deflated'] = df[['nom_values', 'VALVALOR']].apply(lambda x: ((real_indx/x[1]) * x[0])[0], axis=1)\n"
     ]
    }
   ],
   "source": [
    "df_total['valor_deflacionado'] = dbr.deflate(nominal_values=df_total['carteira_ativa'], nominal_dates=df_total['data_base'], real_date='2022-12')"
   ]
  },
  {
   "cell_type": "code",
   "execution_count": 8,
   "id": "65f2ceda-eae3-4006-ad6f-14659d1d382a",
   "metadata": {},
   "outputs": [
    {
     "data": {
      "text/html": [
       "<div>\n",
       "<style scoped>\n",
       "    .dataframe tbody tr th:only-of-type {\n",
       "        vertical-align: middle;\n",
       "    }\n",
       "\n",
       "    .dataframe tbody tr th {\n",
       "        vertical-align: top;\n",
       "    }\n",
       "\n",
       "    .dataframe thead th {\n",
       "        text-align: right;\n",
       "    }\n",
       "</style>\n",
       "<table border=\"1\" class=\"dataframe\">\n",
       "  <thead>\n",
       "    <tr style=\"text-align: right;\">\n",
       "      <th></th>\n",
       "      <th>data_base</th>\n",
       "      <th>cnae_secao</th>\n",
       "      <th>cnae_subclasse</th>\n",
       "      <th>carteira_ativa</th>\n",
       "      <th>valor_deflacionado</th>\n",
       "    </tr>\n",
       "  </thead>\n",
       "  <tbody>\n",
       "    <tr>\n",
       "      <th>0</th>\n",
       "      <td>2012-12</td>\n",
       "      <td>PJ - Agricultura, pecuária, produção florestal...</td>\n",
       "      <td>-</td>\n",
       "      <td>1035943645.68</td>\n",
       "      <td>1876435249.39</td>\n",
       "    </tr>\n",
       "    <tr>\n",
       "      <th>1</th>\n",
       "      <td>2012-12</td>\n",
       "      <td>PJ - Agricultura, pecuária, produção florestal...</td>\n",
       "      <td>PJ - Apicultura</td>\n",
       "      <td>6502447.56</td>\n",
       "      <td>11778074.86</td>\n",
       "    </tr>\n",
       "    <tr>\n",
       "      <th>2</th>\n",
       "      <td>2012-12</td>\n",
       "      <td>PJ - Agricultura, pecuária, produção florestal...</td>\n",
       "      <td>PJ - Atividades de apoio à agricultura não esp...</td>\n",
       "      <td>1895589256.99</td>\n",
       "      <td>3433536674.52</td>\n",
       "    </tr>\n",
       "  </tbody>\n",
       "</table>\n",
       "</div>"
      ],
      "text/plain": [
       "  data_base                                         cnae_secao  \\\n",
       "0   2012-12  PJ - Agricultura, pecuária, produção florestal...   \n",
       "1   2012-12  PJ - Agricultura, pecuária, produção florestal...   \n",
       "2   2012-12  PJ - Agricultura, pecuária, produção florestal...   \n",
       "\n",
       "                                      cnae_subclasse  carteira_ativa  \\\n",
       "0                                                  -   1035943645.68   \n",
       "1                                    PJ - Apicultura      6502447.56   \n",
       "2  PJ - Atividades de apoio à agricultura não esp...   1895589256.99   \n",
       "\n",
       "   valor_deflacionado  \n",
       "0       1876435249.39  \n",
       "1         11778074.86  \n",
       "2       3433536674.52  "
      ]
     },
     "execution_count": 8,
     "metadata": {},
     "output_type": "execute_result"
    }
   ],
   "source": [
    "pd.set_option('display.float_format', '{:.2f}'.format)\n",
    "df_total.head(3)"
   ]
  },
  {
   "cell_type": "code",
   "execution_count": 16,
   "id": "4ece6f3c-9c61-408b-9564-879cec5adf26",
   "metadata": {},
   "outputs": [
    {
     "name": "stdout",
     "output_type": "stream",
     "text": [
      "A soma da coluna \"valor_deflacionado\" é: 374475114223.8739\n",
      "cnae_subclasse\n",
      "PJ - Cultivo de soja                                                       20.68\n",
      "PJ - Cultivo de cana-de-açúcar                                             15.62\n",
      "PJ - Atividades de apoio à agricultura não especificadas anteriormente      8.79\n",
      "PJ - Criação de bovinos para corte                                          7.69\n",
      "-                                                                           5.79\n",
      "PJ - Atividades de apoio à produção florestal                               4.94\n",
      "PJ - Produção de sementes certificadas, exceto de forrageiras para pasto    3.76\n",
      "PJ - Cultivo de maçã                                                        2.52\n",
      "PJ - Atividades de pós-colheita                                             2.30\n",
      "PJ - Produção de ovos                                                       2.14\n",
      "PJ - Cultivo de eucalipto                                                   1.89\n",
      "PJ - Serviço de preparação de terreno, cultivo e colheita                   1.79\n",
      "PJ - Cultivo de laranja                                                     1.74\n",
      "PJ - Atividades de apoio à pecuária não especificadas anteriormente         1.74\n",
      "PJ - Criação de frangos para corte                                          1.69\n",
      "PJ - Extração de madeira em florestas plantadas                             1.30\n",
      "PJ - Cultivo de café                                                        1.29\n",
      "PJ - Criação de suínos                                                      1.27\n",
      "PJ - Produção de pintos de um dia                                           1.10\n",
      "PJ - Cultivo de manga                                                       1.09\n",
      "Name: valor_deflacionado, dtype: float64\n"
     ]
    }
   ],
   "source": [
    "#para aplicar regra de Pareto\n",
    "soma_valor_deflacionado = df_total['valor_deflacionado'].sum()\n",
    "print(f'A soma da coluna \"valor_deflacionado\" é: {soma_valor_deflacionado}')\n",
    "\n",
    "grupo_por_cnae = df_total.groupby('cnae_subclasse')['valor_deflacionado'].sum()\n",
    "\n",
    "total = grupo_por_cnae.sum()\n",
    "grupo_por_cnae_percentual = (grupo_por_cnae / total) * 100\n",
    "\n",
    "grupo_por_cnae_percentual = grupo_por_cnae_percentual.sort_values(ascending=False).head(20)\n",
    "\n",
    "print(grupo_por_cnae_percentual)"
   ]
  },
  {
   "cell_type": "code",
   "execution_count": 9,
   "id": "51ccbcf1-cd09-4ab3-a23d-5ba8ac49e123",
   "metadata": {},
   "outputs": [],
   "source": [
    "import plotly.express as px\n",
    "import numpy as np"
   ]
  },
  {
   "cell_type": "code",
   "execution_count": 22,
   "id": "c978bc1e-6bfc-480c-be52-5970b91f2176",
   "metadata": {},
   "outputs": [
    {
     "data": {
      "application/vnd.plotly.v1+json": {
       "config": {
        "plotlyServerURL": "https://plot.ly"
       },
       "data": [
        {
         "branchvalues": "total",
         "domain": {
          "x": [
           0,
           1
          ],
          "y": [
           0,
           1
          ]
         },
         "hovertemplate": "labels=%{label}<br>valor_deflacionado=%{value}<br>parent=%{parent}<br>id=%{id}<extra></extra>",
         "ids": [
          "PJ - Agricultura, pecuária, produção florestal, pesca e aqüicultura/-",
          "PJ - Agricultura, pecuária, produção florestal, pesca e aqüicultura/PJ - Atividades de apoio à agricultura não especificadas anteriormente",
          "PJ - Agricultura, pecuária, produção florestal, pesca e aqüicultura/PJ - Atividades de apoio à pecuária não especificadas anteriormente",
          "PJ - Agricultura, pecuária, produção florestal, pesca e aqüicultura/PJ - Atividades de apoio à produção florestal",
          "PJ - Agricultura, pecuária, produção florestal, pesca e aqüicultura/PJ - Atividades de pós-colheita",
          "PJ - Agricultura, pecuária, produção florestal, pesca e aqüicultura/PJ - Criação de bovinos para corte",
          "PJ - Agricultura, pecuária, produção florestal, pesca e aqüicultura/PJ - Criação de suínos",
          "PJ - Agricultura, pecuária, produção florestal, pesca e aqüicultura/PJ - Cultivo de cana-de-açúcar",
          "PJ - Agricultura, pecuária, produção florestal, pesca e aqüicultura/PJ - Cultivo de laranja",
          "PJ - Agricultura, pecuária, produção florestal, pesca e aqüicultura/PJ - Cultivo de manga",
          "PJ - Agricultura, pecuária, produção florestal, pesca e aqüicultura/PJ - Cultivo de pinus",
          "PJ - Agricultura, pecuária, produção florestal, pesca e aqüicultura/PJ - Cultivo de soja",
          "PJ - Agricultura, pecuária, produção florestal, pesca e aqüicultura/PJ - Extração de madeira em florestas plantadas",
          "PJ - Agricultura, pecuária, produção florestal, pesca e aqüicultura/PJ - Produção de ovos",
          "PJ - Agricultura, pecuária, produção florestal, pesca e aqüicultura/PJ - Produção de sementes certificadas, exceto de forrageiras para pasto",
          "PJ - Agricultura, pecuária, produção florestal, pesca e aqüicultura/PJ - Serviço de preparação de terreno, cultivo e colheita",
          "PJ - Agricultura, pecuária, produção florestal, pesca e aqüicultura"
         ],
         "labels": [
          "-",
          "PJ - Atividades de apoio à agricultura não especificadas anteriormente",
          "PJ - Atividades de apoio à pecuária não especificadas anteriormente",
          "PJ - Atividades de apoio à produção florestal",
          "PJ - Atividades de pós-colheita",
          "PJ - Criação de bovinos para corte",
          "PJ - Criação de suínos",
          "PJ - Cultivo de cana-de-açúcar",
          "PJ - Cultivo de laranja",
          "PJ - Cultivo de manga",
          "PJ - Cultivo de pinus",
          "PJ - Cultivo de soja",
          "PJ - Extração de madeira em florestas plantadas",
          "PJ - Produção de ovos",
          "PJ - Produção de sementes certificadas, exceto de forrageiras para pasto",
          "PJ - Serviço de preparação de terreno, cultivo e colheita",
          "PJ - Agricultura, pecuária, produção florestal, pesca e aqüicultura"
         ],
         "name": "",
         "parents": [
          "PJ - Agricultura, pecuária, produção florestal, pesca e aqüicultura",
          "PJ - Agricultura, pecuária, produção florestal, pesca e aqüicultura",
          "PJ - Agricultura, pecuária, produção florestal, pesca e aqüicultura",
          "PJ - Agricultura, pecuária, produção florestal, pesca e aqüicultura",
          "PJ - Agricultura, pecuária, produção florestal, pesca e aqüicultura",
          "PJ - Agricultura, pecuária, produção florestal, pesca e aqüicultura",
          "PJ - Agricultura, pecuária, produção florestal, pesca e aqüicultura",
          "PJ - Agricultura, pecuária, produção florestal, pesca e aqüicultura",
          "PJ - Agricultura, pecuária, produção florestal, pesca e aqüicultura",
          "PJ - Agricultura, pecuária, produção florestal, pesca e aqüicultura",
          "PJ - Agricultura, pecuária, produção florestal, pesca e aqüicultura",
          "PJ - Agricultura, pecuária, produção florestal, pesca e aqüicultura",
          "PJ - Agricultura, pecuária, produção florestal, pesca e aqüicultura",
          "PJ - Agricultura, pecuária, produção florestal, pesca e aqüicultura",
          "PJ - Agricultura, pecuária, produção florestal, pesca e aqüicultura",
          "PJ - Agricultura, pecuária, produção florestal, pesca e aqüicultura",
          ""
         ],
         "textinfo": "label+percent entry",
         "type": "treemap",
         "values": [
          1994850387.202427,
          2711870407.257759,
          609414223.4737916,
          702187560.8899709,
          1349841296.886826,
          3647535825.8218355,
          524631990.9702676,
          3039486581.01183,
          771798854.3901293,
          681545895.4347512,
          571274484.0812454,
          13556826280.817635,
          505354399.5449471,
          1184369141.8107083,
          1389301071.1829123,
          1171197671.0785015,
          34411486071.85554
         ]
        }
       ],
       "layout": {
        "autosize": true,
        "legend": {
         "tracegroupgap": 0
        },
        "margin": {
         "b": 25,
         "l": 25,
         "r": 25,
         "t": 50
        },
        "template": {
         "data": {
          "bar": [
           {
            "error_x": {
             "color": "#2a3f5f"
            },
            "error_y": {
             "color": "#2a3f5f"
            },
            "marker": {
             "line": {
              "color": "#E5ECF6",
              "width": 0.5
             },
             "pattern": {
              "fillmode": "overlay",
              "size": 10,
              "solidity": 0.2
             }
            },
            "type": "bar"
           }
          ],
          "barpolar": [
           {
            "marker": {
             "line": {
              "color": "#E5ECF6",
              "width": 0.5
             },
             "pattern": {
              "fillmode": "overlay",
              "size": 10,
              "solidity": 0.2
             }
            },
            "type": "barpolar"
           }
          ],
          "carpet": [
           {
            "aaxis": {
             "endlinecolor": "#2a3f5f",
             "gridcolor": "white",
             "linecolor": "white",
             "minorgridcolor": "white",
             "startlinecolor": "#2a3f5f"
            },
            "baxis": {
             "endlinecolor": "#2a3f5f",
             "gridcolor": "white",
             "linecolor": "white",
             "minorgridcolor": "white",
             "startlinecolor": "#2a3f5f"
            },
            "type": "carpet"
           }
          ],
          "choropleth": [
           {
            "colorbar": {
             "outlinewidth": 0,
             "ticks": ""
            },
            "type": "choropleth"
           }
          ],
          "contour": [
           {
            "colorbar": {
             "outlinewidth": 0,
             "ticks": ""
            },
            "colorscale": [
             [
              0,
              "#0d0887"
             ],
             [
              0.1111111111111111,
              "#46039f"
             ],
             [
              0.2222222222222222,
              "#7201a8"
             ],
             [
              0.3333333333333333,
              "#9c179e"
             ],
             [
              0.4444444444444444,
              "#bd3786"
             ],
             [
              0.5555555555555556,
              "#d8576b"
             ],
             [
              0.6666666666666666,
              "#ed7953"
             ],
             [
              0.7777777777777778,
              "#fb9f3a"
             ],
             [
              0.8888888888888888,
              "#fdca26"
             ],
             [
              1,
              "#f0f921"
             ]
            ],
            "type": "contour"
           }
          ],
          "contourcarpet": [
           {
            "colorbar": {
             "outlinewidth": 0,
             "ticks": ""
            },
            "type": "contourcarpet"
           }
          ],
          "heatmap": [
           {
            "colorbar": {
             "outlinewidth": 0,
             "ticks": ""
            },
            "colorscale": [
             [
              0,
              "#0d0887"
             ],
             [
              0.1111111111111111,
              "#46039f"
             ],
             [
              0.2222222222222222,
              "#7201a8"
             ],
             [
              0.3333333333333333,
              "#9c179e"
             ],
             [
              0.4444444444444444,
              "#bd3786"
             ],
             [
              0.5555555555555556,
              "#d8576b"
             ],
             [
              0.6666666666666666,
              "#ed7953"
             ],
             [
              0.7777777777777778,
              "#fb9f3a"
             ],
             [
              0.8888888888888888,
              "#fdca26"
             ],
             [
              1,
              "#f0f921"
             ]
            ],
            "type": "heatmap"
           }
          ],
          "heatmapgl": [
           {
            "colorbar": {
             "outlinewidth": 0,
             "ticks": ""
            },
            "colorscale": [
             [
              0,
              "#0d0887"
             ],
             [
              0.1111111111111111,
              "#46039f"
             ],
             [
              0.2222222222222222,
              "#7201a8"
             ],
             [
              0.3333333333333333,
              "#9c179e"
             ],
             [
              0.4444444444444444,
              "#bd3786"
             ],
             [
              0.5555555555555556,
              "#d8576b"
             ],
             [
              0.6666666666666666,
              "#ed7953"
             ],
             [
              0.7777777777777778,
              "#fb9f3a"
             ],
             [
              0.8888888888888888,
              "#fdca26"
             ],
             [
              1,
              "#f0f921"
             ]
            ],
            "type": "heatmapgl"
           }
          ],
          "histogram": [
           {
            "marker": {
             "pattern": {
              "fillmode": "overlay",
              "size": 10,
              "solidity": 0.2
             }
            },
            "type": "histogram"
           }
          ],
          "histogram2d": [
           {
            "colorbar": {
             "outlinewidth": 0,
             "ticks": ""
            },
            "colorscale": [
             [
              0,
              "#0d0887"
             ],
             [
              0.1111111111111111,
              "#46039f"
             ],
             [
              0.2222222222222222,
              "#7201a8"
             ],
             [
              0.3333333333333333,
              "#9c179e"
             ],
             [
              0.4444444444444444,
              "#bd3786"
             ],
             [
              0.5555555555555556,
              "#d8576b"
             ],
             [
              0.6666666666666666,
              "#ed7953"
             ],
             [
              0.7777777777777778,
              "#fb9f3a"
             ],
             [
              0.8888888888888888,
              "#fdca26"
             ],
             [
              1,
              "#f0f921"
             ]
            ],
            "type": "histogram2d"
           }
          ],
          "histogram2dcontour": [
           {
            "colorbar": {
             "outlinewidth": 0,
             "ticks": ""
            },
            "colorscale": [
             [
              0,
              "#0d0887"
             ],
             [
              0.1111111111111111,
              "#46039f"
             ],
             [
              0.2222222222222222,
              "#7201a8"
             ],
             [
              0.3333333333333333,
              "#9c179e"
             ],
             [
              0.4444444444444444,
              "#bd3786"
             ],
             [
              0.5555555555555556,
              "#d8576b"
             ],
             [
              0.6666666666666666,
              "#ed7953"
             ],
             [
              0.7777777777777778,
              "#fb9f3a"
             ],
             [
              0.8888888888888888,
              "#fdca26"
             ],
             [
              1,
              "#f0f921"
             ]
            ],
            "type": "histogram2dcontour"
           }
          ],
          "mesh3d": [
           {
            "colorbar": {
             "outlinewidth": 0,
             "ticks": ""
            },
            "type": "mesh3d"
           }
          ],
          "parcoords": [
           {
            "line": {
             "colorbar": {
              "outlinewidth": 0,
              "ticks": ""
             }
            },
            "type": "parcoords"
           }
          ],
          "pie": [
           {
            "automargin": true,
            "type": "pie"
           }
          ],
          "scatter": [
           {
            "fillpattern": {
             "fillmode": "overlay",
             "size": 10,
             "solidity": 0.2
            },
            "type": "scatter"
           }
          ],
          "scatter3d": [
           {
            "line": {
             "colorbar": {
              "outlinewidth": 0,
              "ticks": ""
             }
            },
            "marker": {
             "colorbar": {
              "outlinewidth": 0,
              "ticks": ""
             }
            },
            "type": "scatter3d"
           }
          ],
          "scattercarpet": [
           {
            "marker": {
             "colorbar": {
              "outlinewidth": 0,
              "ticks": ""
             }
            },
            "type": "scattercarpet"
           }
          ],
          "scattergeo": [
           {
            "marker": {
             "colorbar": {
              "outlinewidth": 0,
              "ticks": ""
             }
            },
            "type": "scattergeo"
           }
          ],
          "scattergl": [
           {
            "marker": {
             "colorbar": {
              "outlinewidth": 0,
              "ticks": ""
             }
            },
            "type": "scattergl"
           }
          ],
          "scattermapbox": [
           {
            "marker": {
             "colorbar": {
              "outlinewidth": 0,
              "ticks": ""
             }
            },
            "type": "scattermapbox"
           }
          ],
          "scatterpolar": [
           {
            "marker": {
             "colorbar": {
              "outlinewidth": 0,
              "ticks": ""
             }
            },
            "type": "scatterpolar"
           }
          ],
          "scatterpolargl": [
           {
            "marker": {
             "colorbar": {
              "outlinewidth": 0,
              "ticks": ""
             }
            },
            "type": "scatterpolargl"
           }
          ],
          "scatterternary": [
           {
            "marker": {
             "colorbar": {
              "outlinewidth": 0,
              "ticks": ""
             }
            },
            "type": "scatterternary"
           }
          ],
          "surface": [
           {
            "colorbar": {
             "outlinewidth": 0,
             "ticks": ""
            },
            "colorscale": [
             [
              0,
              "#0d0887"
             ],
             [
              0.1111111111111111,
              "#46039f"
             ],
             [
              0.2222222222222222,
              "#7201a8"
             ],
             [
              0.3333333333333333,
              "#9c179e"
             ],
             [
              0.4444444444444444,
              "#bd3786"
             ],
             [
              0.5555555555555556,
              "#d8576b"
             ],
             [
              0.6666666666666666,
              "#ed7953"
             ],
             [
              0.7777777777777778,
              "#fb9f3a"
             ],
             [
              0.8888888888888888,
              "#fdca26"
             ],
             [
              1,
              "#f0f921"
             ]
            ],
            "type": "surface"
           }
          ],
          "table": [
           {
            "cells": {
             "fill": {
              "color": "#EBF0F8"
             },
             "line": {
              "color": "white"
             }
            },
            "header": {
             "fill": {
              "color": "#C8D4E3"
             },
             "line": {
              "color": "white"
             }
            },
            "type": "table"
           }
          ]
         },
         "layout": {
          "annotationdefaults": {
           "arrowcolor": "#2a3f5f",
           "arrowhead": 0,
           "arrowwidth": 1
          },
          "autotypenumbers": "strict",
          "coloraxis": {
           "colorbar": {
            "outlinewidth": 0,
            "ticks": ""
           }
          },
          "colorscale": {
           "diverging": [
            [
             0,
             "#8e0152"
            ],
            [
             0.1,
             "#c51b7d"
            ],
            [
             0.2,
             "#de77ae"
            ],
            [
             0.3,
             "#f1b6da"
            ],
            [
             0.4,
             "#fde0ef"
            ],
            [
             0.5,
             "#f7f7f7"
            ],
            [
             0.6,
             "#e6f5d0"
            ],
            [
             0.7,
             "#b8e186"
            ],
            [
             0.8,
             "#7fbc41"
            ],
            [
             0.9,
             "#4d9221"
            ],
            [
             1,
             "#276419"
            ]
           ],
           "sequential": [
            [
             0,
             "#0d0887"
            ],
            [
             0.1111111111111111,
             "#46039f"
            ],
            [
             0.2222222222222222,
             "#7201a8"
            ],
            [
             0.3333333333333333,
             "#9c179e"
            ],
            [
             0.4444444444444444,
             "#bd3786"
            ],
            [
             0.5555555555555556,
             "#d8576b"
            ],
            [
             0.6666666666666666,
             "#ed7953"
            ],
            [
             0.7777777777777778,
             "#fb9f3a"
            ],
            [
             0.8888888888888888,
             "#fdca26"
            ],
            [
             1,
             "#f0f921"
            ]
           ],
           "sequentialminus": [
            [
             0,
             "#0d0887"
            ],
            [
             0.1111111111111111,
             "#46039f"
            ],
            [
             0.2222222222222222,
             "#7201a8"
            ],
            [
             0.3333333333333333,
             "#9c179e"
            ],
            [
             0.4444444444444444,
             "#bd3786"
            ],
            [
             0.5555555555555556,
             "#d8576b"
            ],
            [
             0.6666666666666666,
             "#ed7953"
            ],
            [
             0.7777777777777778,
             "#fb9f3a"
            ],
            [
             0.8888888888888888,
             "#fdca26"
            ],
            [
             1,
             "#f0f921"
            ]
           ]
          },
          "colorway": [
           "#636efa",
           "#EF553B",
           "#00cc96",
           "#ab63fa",
           "#FFA15A",
           "#19d3f3",
           "#FF6692",
           "#B6E880",
           "#FF97FF",
           "#FECB52"
          ],
          "font": {
           "color": "#2a3f5f"
          },
          "geo": {
           "bgcolor": "white",
           "lakecolor": "white",
           "landcolor": "#E5ECF6",
           "showlakes": true,
           "showland": true,
           "subunitcolor": "white"
          },
          "hoverlabel": {
           "align": "left"
          },
          "hovermode": "closest",
          "mapbox": {
           "style": "light"
          },
          "paper_bgcolor": "white",
          "plot_bgcolor": "#E5ECF6",
          "polar": {
           "angularaxis": {
            "gridcolor": "white",
            "linecolor": "white",
            "ticks": ""
           },
           "bgcolor": "#E5ECF6",
           "radialaxis": {
            "gridcolor": "white",
            "linecolor": "white",
            "ticks": ""
           }
          },
          "scene": {
           "xaxis": {
            "backgroundcolor": "#E5ECF6",
            "gridcolor": "white",
            "gridwidth": 2,
            "linecolor": "white",
            "showbackground": true,
            "ticks": "",
            "zerolinecolor": "white"
           },
           "yaxis": {
            "backgroundcolor": "#E5ECF6",
            "gridcolor": "white",
            "gridwidth": 2,
            "linecolor": "white",
            "showbackground": true,
            "ticks": "",
            "zerolinecolor": "white"
           },
           "zaxis": {
            "backgroundcolor": "#E5ECF6",
            "gridcolor": "white",
            "gridwidth": 2,
            "linecolor": "white",
            "showbackground": true,
            "ticks": "",
            "zerolinecolor": "white"
           }
          },
          "shapedefaults": {
           "line": {
            "color": "#2a3f5f"
           }
          },
          "ternary": {
           "aaxis": {
            "gridcolor": "white",
            "linecolor": "white",
            "ticks": ""
           },
           "baxis": {
            "gridcolor": "white",
            "linecolor": "white",
            "ticks": ""
           },
           "bgcolor": "#E5ECF6",
           "caxis": {
            "gridcolor": "white",
            "linecolor": "white",
            "ticks": ""
           }
          },
          "title": {
           "x": 0.05
          },
          "xaxis": {
           "automargin": true,
           "gridcolor": "white",
           "linecolor": "white",
           "ticks": "",
           "title": {
            "standoff": 15
           },
           "zerolinecolor": "white",
           "zerolinewidth": 2
          },
          "yaxis": {
           "automargin": true,
           "gridcolor": "white",
           "linecolor": "white",
           "ticks": "",
           "title": {
            "standoff": 15
           },
           "zerolinecolor": "white",
           "zerolinewidth": 2
          }
         }
        },
        "title": {
         "text": "Endividamento do Agro por subsetor - Ano 2022"
        }
       }
      },
      "image/png": "[encoded data removed]",
      "text/html": [
       "<div>                            <div id=\"ae1f5963-67b9-4071-8c1d-285fa28780ca\" class=\"plotly-graph-div\" style=\"height:525px; width:100%;\"></div>            <script type=\"text/javascript\">                require([\"plotly\"], function(Plotly) {                    window.PLOTLYENV=window.PLOTLYENV || {};                                    if (document.getElementById(\"ae1f5963-67b9-4071-8c1d-285fa28780ca\")) {                    Plotly.newPlot(                        \"ae1f5963-67b9-4071-8c1d-285fa28780ca\",                        [{\"branchvalues\":\"total\",\"domain\":{\"x\":[0.0,1.0],\"y\":[0.0,1.0]},\"hovertemplate\":\"labels=%{label}\\u003cbr\\u003evalor_deflacionado=%{value}\\u003cbr\\u003eparent=%{parent}\\u003cbr\\u003eid=%{id}\\u003cextra\\u003e\\u003c\\u002fextra\\u003e\",\"ids\":[\"PJ - Agricultura, pecu\\u00e1ria, produ\\u00e7\\u00e3o florestal, pesca e aq\\u00fcicultura\\u002f-\",\"PJ - Agricultura, pecu\\u00e1ria, produ\\u00e7\\u00e3o florestal, pesca e aq\\u00fcicultura\\u002fPJ - Atividades de apoio \\u00e0 agricultura n\\u00e3o especificadas anteriormente\",\"PJ - Agricultura, pecu\\u00e1ria, produ\\u00e7\\u00e3o florestal, pesca e aq\\u00fcicultura\\u002fPJ - Atividades de apoio \\u00e0 pecu\\u00e1ria n\\u00e3o especificadas anteriormente\",\"PJ - Agricultura, pecu\\u00e1ria, produ\\u00e7\\u00e3o florestal, pesca e aq\\u00fcicultura\\u002fPJ - Atividades de apoio \\u00e0 produ\\u00e7\\u00e3o florestal\",\"PJ - Agricultura, pecu\\u00e1ria, produ\\u00e7\\u00e3o florestal, pesca e aq\\u00fcicultura\\u002fPJ - Atividades de p\\u00f3s-colheita\",\"PJ - Agricultura, pecu\\u00e1ria, produ\\u00e7\\u00e3o florestal, pesca e aq\\u00fcicultura\\u002fPJ - Cria\\u00e7\\u00e3o de bovinos para corte\",\"PJ - Agricultura, pecu\\u00e1ria, produ\\u00e7\\u00e3o florestal, pesca e aq\\u00fcicultura\\u002fPJ - Cria\\u00e7\\u00e3o de su\\u00ednos\",\"PJ - Agricultura, pecu\\u00e1ria, produ\\u00e7\\u00e3o florestal, pesca e aq\\u00fcicultura\\u002fPJ - Cultivo de cana-de-a\\u00e7\\u00facar\",\"PJ - Agricultura, pecu\\u00e1ria, produ\\u00e7\\u00e3o florestal, pesca e aq\\u00fcicultura\\u002fPJ - Cultivo de laranja\",\"PJ - Agricultura, pecu\\u00e1ria, produ\\u00e7\\u00e3o florestal, pesca e aq\\u00fcicultura\\u002fPJ - Cultivo de manga\",\"PJ - Agricultura, pecu\\u00e1ria, produ\\u00e7\\u00e3o florestal, pesca e aq\\u00fcicultura\\u002fPJ - Cultivo de pinus\",\"PJ - Agricultura, pecu\\u00e1ria, produ\\u00e7\\u00e3o florestal, pesca e aq\\u00fcicultura\\u002fPJ - Cultivo de soja\",\"PJ - Agricultura, pecu\\u00e1ria, produ\\u00e7\\u00e3o florestal, pesca e aq\\u00fcicultura\\u002fPJ - Extra\\u00e7\\u00e3o de madeira em florestas plantadas\",\"PJ - Agricultura, pecu\\u00e1ria, produ\\u00e7\\u00e3o florestal, pesca e aq\\u00fcicultura\\u002fPJ - Produ\\u00e7\\u00e3o de ovos\",\"PJ - Agricultura, pecu\\u00e1ria, produ\\u00e7\\u00e3o florestal, pesca e aq\\u00fcicultura\\u002fPJ - Produ\\u00e7\\u00e3o de sementes certificadas, exceto de forrageiras para pasto\",\"PJ - Agricultura, pecu\\u00e1ria, produ\\u00e7\\u00e3o florestal, pesca e aq\\u00fcicultura\\u002fPJ - Servi\\u00e7o de prepara\\u00e7\\u00e3o de terreno, cultivo e colheita\",\"PJ - Agricultura, pecu\\u00e1ria, produ\\u00e7\\u00e3o florestal, pesca e aq\\u00fcicultura\"],\"labels\":[\"-\",\"PJ - Atividades de apoio \\u00e0 agricultura n\\u00e3o especificadas anteriormente\",\"PJ - Atividades de apoio \\u00e0 pecu\\u00e1ria n\\u00e3o especificadas anteriormente\",\"PJ - Atividades de apoio \\u00e0 produ\\u00e7\\u00e3o florestal\",\"PJ - Atividades de p\\u00f3s-colheita\",\"PJ - Cria\\u00e7\\u00e3o de bovinos para corte\",\"PJ - Cria\\u00e7\\u00e3o de su\\u00ednos\",\"PJ - Cultivo de cana-de-a\\u00e7\\u00facar\",\"PJ - Cultivo de laranja\",\"PJ - Cultivo de manga\",\"PJ - Cultivo de pinus\",\"PJ - Cultivo de soja\",\"PJ - Extra\\u00e7\\u00e3o de madeira em florestas plantadas\",\"PJ - Produ\\u00e7\\u00e3o de ovos\",\"PJ - Produ\\u00e7\\u00e3o de sementes certificadas, exceto de forrageiras para pasto\",\"PJ - Servi\\u00e7o de prepara\\u00e7\\u00e3o de terreno, cultivo e colheita\",\"PJ - Agricultura, pecu\\u00e1ria, produ\\u00e7\\u00e3o florestal, pesca e aq\\u00fcicultura\"],\"name\":\"\",\"parents\":[\"PJ - Agricultura, pecu\\u00e1ria, produ\\u00e7\\u00e3o florestal, pesca e aq\\u00fcicultura\",\"PJ - Agricultura, pecu\\u00e1ria, produ\\u00e7\\u00e3o florestal, pesca e aq\\u00fcicultura\",\"PJ - Agricultura, pecu\\u00e1ria, produ\\u00e7\\u00e3o florestal, pesca e aq\\u00fcicultura\",\"PJ - Agricultura, pecu\\u00e1ria, produ\\u00e7\\u00e3o florestal, pesca e aq\\u00fcicultura\",\"PJ - Agricultura, pecu\\u00e1ria, produ\\u00e7\\u00e3o florestal, pesca e aq\\u00fcicultura\",\"PJ - Agricultura, pecu\\u00e1ria, produ\\u00e7\\u00e3o florestal, pesca e aq\\u00fcicultura\",\"PJ - Agricultura, pecu\\u00e1ria, produ\\u00e7\\u00e3o florestal, pesca e aq\\u00fcicultura\",\"PJ - Agricultura, pecu\\u00e1ria, produ\\u00e7\\u00e3o florestal, pesca e aq\\u00fcicultura\",\"PJ - Agricultura, pecu\\u00e1ria, produ\\u00e7\\u00e3o florestal, pesca e aq\\u00fcicultura\",\"PJ - Agricultura, pecu\\u00e1ria, produ\\u00e7\\u00e3o florestal, pesca e aq\\u00fcicultura\",\"PJ - Agricultura, pecu\\u00e1ria, produ\\u00e7\\u00e3o florestal, pesca e aq\\u00fcicultura\",\"PJ - Agricultura, pecu\\u00e1ria, produ\\u00e7\\u00e3o florestal, pesca e aq\\u00fcicultura\",\"PJ - Agricultura, pecu\\u00e1ria, produ\\u00e7\\u00e3o florestal, pesca e aq\\u00fcicultura\",\"PJ - Agricultura, pecu\\u00e1ria, produ\\u00e7\\u00e3o florestal, pesca e aq\\u00fcicultura\",\"PJ - Agricultura, pecu\\u00e1ria, produ\\u00e7\\u00e3o florestal, pesca e aq\\u00fcicultura\",\"PJ - Agricultura, pecu\\u00e1ria, produ\\u00e7\\u00e3o florestal, pesca e aq\\u00fcicultura\",\"\"],\"values\":[1994850387.202427,2711870407.257759,609414223.4737916,702187560.8899709,1349841296.886826,3647535825.8218355,524631990.9702676,3039486581.01183,771798854.3901293,681545895.4347512,571274484.0812454,13556826280.817635,505354399.5449471,1184369141.8107083,1389301071.1829123,1171197671.0785015,34411486071.85554],\"type\":\"treemap\",\"textinfo\":\"label+percent entry\"}],                        {\"template\":{\"data\":{\"histogram2dcontour\":[{\"type\":\"histogram2dcontour\",\"colorbar\":{\"outlinewidth\":0,\"ticks\":\"\"},\"colorscale\":[[0.0,\"#0d0887\"],[0.1111111111111111,\"#46039f\"],[0.2222222222222222,\"#7201a8\"],[0.3333333333333333,\"#9c179e\"],[0.4444444444444444,\"#bd3786\"],[0.5555555555555556,\"#d8576b\"],[0.6666666666666666,\"#ed7953\"],[0.7777777777777778,\"#fb9f3a\"],[0.8888888888888888,\"#fdca26\"],[1.0,\"#f0f921\"]]}],\"choropleth\":[{\"type\":\"choropleth\",\"colorbar\":{\"outlinewidth\":0,\"ticks\":\"\"}}],\"histogram2d\":[{\"type\":\"histogram2d\",\"colorbar\":{\"outlinewidth\":0,\"ticks\":\"\"},\"colorscale\":[[0.0,\"#0d0887\"],[0.1111111111111111,\"#46039f\"],[0.2222222222222222,\"#7201a8\"],[0.3333333333333333,\"#9c179e\"],[0.4444444444444444,\"#bd3786\"],[0.5555555555555556,\"#d8576b\"],[0.6666666666666666,\"#ed7953\"],[0.7777777777777778,\"#fb9f3a\"],[0.8888888888888888,\"#fdca26\"],[1.0,\"#f0f921\"]]}],\"heatmap\":[{\"type\":\"heatmap\",\"colorbar\":{\"outlinewidth\":0,\"ticks\":\"\"},\"colorscale\":[[0.0,\"#0d0887\"],[0.1111111111111111,\"#46039f\"],[0.2222222222222222,\"#7201a8\"],[0.3333333333333333,\"#9c179e\"],[0.4444444444444444,\"#bd3786\"],[0.5555555555555556,\"#d8576b\"],[0.6666666666666666,\"#ed7953\"],[0.7777777777777778,\"#fb9f3a\"],[0.8888888888888888,\"#fdca26\"],[1.0,\"#f0f921\"]]}],\"heatmapgl\":[{\"type\":\"heatmapgl\",\"colorbar\":{\"outlinewidth\":0,\"ticks\":\"\"},\"colorscale\":[[0.0,\"#0d0887\"],[0.1111111111111111,\"#46039f\"],[0.2222222222222222,\"#7201a8\"],[0.3333333333333333,\"#9c179e\"],[0.4444444444444444,\"#bd3786\"],[0.5555555555555556,\"#d8576b\"],[0.6666666666666666,\"#ed7953\"],[0.7777777777777778,\"#fb9f3a\"],[0.8888888888888888,\"#fdca26\"],[1.0,\"#f0f921\"]]}],\"contourcarpet\":[{\"type\":\"contourcarpet\",\"colorbar\":{\"outlinewidth\":0,\"ticks\":\"\"}}],\"contour\":[{\"type\":\"contour\",\"colorbar\":{\"outlinewidth\":0,\"ticks\":\"\"},\"colorscale\":[[0.0,\"#0d0887\"],[0.1111111111111111,\"#46039f\"],[0.2222222222222222,\"#7201a8\"],[0.3333333333333333,\"#9c179e\"],[0.4444444444444444,\"#bd3786\"],[0.5555555555555556,\"#d8576b\"],[0.6666666666666666,\"#ed7953\"],[0.7777777777777778,\"#fb9f3a\"],[0.8888888888888888,\"#fdca26\"],[1.0,\"#f0f921\"]]}],\"surface\":[{\"type\":\"surface\",\"colorbar\":{\"outlinewidth\":0,\"ticks\":\"\"},\"colorscale\":[[0.0,\"#0d0887\"],[0.1111111111111111,\"#46039f\"],[0.2222222222222222,\"#7201a8\"],[0.3333333333333333,\"#9c179e\"],[0.4444444444444444,\"#bd3786\"],[0.5555555555555556,\"#d8576b\"],[0.6666666666666666,\"#ed7953\"],[0.7777777777777778,\"#fb9f3a\"],[0.8888888888888888,\"#fdca26\"],[1.0,\"#f0f921\"]]}],\"mesh3d\":[{\"type\":\"mesh3d\",\"colorbar\":{\"outlinewidth\":0,\"ticks\":\"\"}}],\"scatter\":[{\"fillpattern\":{\"fillmode\":\"overlay\",\"size\":10,\"solidity\":0.2},\"type\":\"scatter\"}],\"parcoords\":[{\"type\":\"parcoords\",\"line\":{\"colorbar\":{\"outlinewidth\":0,\"ticks\":\"\"}}}],\"scatterpolargl\":[{\"type\":\"scatterpolargl\",\"marker\":{\"colorbar\":{\"outlinewidth\":0,\"ticks\":\"\"}}}],\"bar\":[{\"error_x\":{\"color\":\"#2a3f5f\"},\"error_y\":{\"color\":\"#2a3f5f\"},\"marker\":{\"line\":{\"color\":\"#E5ECF6\",\"width\":0.5},\"pattern\":{\"fillmode\":\"overlay\",\"size\":10,\"solidity\":0.2}},\"type\":\"bar\"}],\"scattergeo\":[{\"type\":\"scattergeo\",\"marker\":{\"colorbar\":{\"outlinewidth\":0,\"ticks\":\"\"}}}],\"scatterpolar\":[{\"type\":\"scatterpolar\",\"marker\":{\"colorbar\":{\"outlinewidth\":0,\"ticks\":\"\"}}}],\"histogram\":[{\"marker\":{\"pattern\":{\"fillmode\":\"overlay\",\"size\":10,\"solidity\":0.2}},\"type\":\"histogram\"}],\"scattergl\":[{\"type\":\"scattergl\",\"marker\":{\"colorbar\":{\"outlinewidth\":0,\"ticks\":\"\"}}}],\"scatter3d\":[{\"type\":\"scatter3d\",\"line\":{\"colorbar\":{\"outlinewidth\":0,\"ticks\":\"\"}},\"marker\":{\"colorbar\":{\"outlinewidth\":0,\"ticks\":\"\"}}}],\"scattermapbox\":[{\"type\":\"scattermapbox\",\"marker\":{\"colorbar\":{\"outlinewidth\":0,\"ticks\":\"\"}}}],\"scatterternary\":[{\"type\":\"scatterternary\",\"marker\":{\"colorbar\":{\"outlinewidth\":0,\"ticks\":\"\"}}}],\"scattercarpet\":[{\"type\":\"scattercarpet\",\"marker\":{\"colorbar\":{\"outlinewidth\":0,\"ticks\":\"\"}}}],\"carpet\":[{\"aaxis\":{\"endlinecolor\":\"#2a3f5f\",\"gridcolor\":\"white\",\"linecolor\":\"white\",\"minorgridcolor\":\"white\",\"startlinecolor\":\"#2a3f5f\"},\"baxis\":{\"endlinecolor\":\"#2a3f5f\",\"gridcolor\":\"white\",\"linecolor\":\"white\",\"minorgridcolor\":\"white\",\"startlinecolor\":\"#2a3f5f\"},\"type\":\"carpet\"}],\"table\":[{\"cells\":{\"fill\":{\"color\":\"#EBF0F8\"},\"line\":{\"color\":\"white\"}},\"header\":{\"fill\":{\"color\":\"#C8D4E3\"},\"line\":{\"color\":\"white\"}},\"type\":\"table\"}],\"barpolar\":[{\"marker\":{\"line\":{\"color\":\"#E5ECF6\",\"width\":0.5},\"pattern\":{\"fillmode\":\"overlay\",\"size\":10,\"solidity\":0.2}},\"type\":\"barpolar\"}],\"pie\":[{\"automargin\":true,\"type\":\"pie\"}]},\"layout\":{\"autotypenumbers\":\"strict\",\"colorway\":[\"#636efa\",\"#EF553B\",\"#00cc96\",\"#ab63fa\",\"#FFA15A\",\"#19d3f3\",\"#FF6692\",\"#B6E880\",\"#FF97FF\",\"#FECB52\"],\"font\":{\"color\":\"#2a3f5f\"},\"hovermode\":\"closest\",\"hoverlabel\":{\"align\":\"left\"},\"paper_bgcolor\":\"white\",\"plot_bgcolor\":\"#E5ECF6\",\"polar\":{\"bgcolor\":\"#E5ECF6\",\"angularaxis\":{\"gridcolor\":\"white\",\"linecolor\":\"white\",\"ticks\":\"\"},\"radialaxis\":{\"gridcolor\":\"white\",\"linecolor\":\"white\",\"ticks\":\"\"}},\"ternary\":{\"bgcolor\":\"#E5ECF6\",\"aaxis\":{\"gridcolor\":\"white\",\"linecolor\":\"white\",\"ticks\":\"\"},\"baxis\":{\"gridcolor\":\"white\",\"linecolor\":\"white\",\"ticks\":\"\"},\"caxis\":{\"gridcolor\":\"white\",\"linecolor\":\"white\",\"ticks\":\"\"}},\"coloraxis\":{\"colorbar\":{\"outlinewidth\":0,\"ticks\":\"\"}},\"colorscale\":{\"sequential\":[[0.0,\"#0d0887\"],[0.1111111111111111,\"#46039f\"],[0.2222222222222222,\"#7201a8\"],[0.3333333333333333,\"#9c179e\"],[0.4444444444444444,\"#bd3786\"],[0.5555555555555556,\"#d8576b\"],[0.6666666666666666,\"#ed7953\"],[0.7777777777777778,\"#fb9f3a\"],[0.8888888888888888,\"#fdca26\"],[1.0,\"#f0f921\"]],\"sequentialminus\":[[0.0,\"#0d0887\"],[0.1111111111111111,\"#46039f\"],[0.2222222222222222,\"#7201a8\"],[0.3333333333333333,\"#9c179e\"],[0.4444444444444444,\"#bd3786\"],[0.5555555555555556,\"#d8576b\"],[0.6666666666666666,\"#ed7953\"],[0.7777777777777778,\"#fb9f3a\"],[0.8888888888888888,\"#fdca26\"],[1.0,\"#f0f921\"]],\"diverging\":[[0,\"#8e0152\"],[0.1,\"#c51b7d\"],[0.2,\"#de77ae\"],[0.3,\"#f1b6da\"],[0.4,\"#fde0ef\"],[0.5,\"#f7f7f7\"],[0.6,\"#e6f5d0\"],[0.7,\"#b8e186\"],[0.8,\"#7fbc41\"],[0.9,\"#4d9221\"],[1,\"#276419\"]]},\"xaxis\":{\"gridcolor\":\"white\",\"linecolor\":\"white\",\"ticks\":\"\",\"title\":{\"standoff\":15},\"zerolinecolor\":\"white\",\"automargin\":true,\"zerolinewidth\":2},\"yaxis\":{\"gridcolor\":\"white\",\"linecolor\":\"white\",\"ticks\":\"\",\"title\":{\"standoff\":15},\"zerolinecolor\":\"white\",\"automargin\":true,\"zerolinewidth\":2},\"scene\":{\"xaxis\":{\"backgroundcolor\":\"#E5ECF6\",\"gridcolor\":\"white\",\"linecolor\":\"white\",\"showbackground\":true,\"ticks\":\"\",\"zerolinecolor\":\"white\",\"gridwidth\":2},\"yaxis\":{\"backgroundcolor\":\"#E5ECF6\",\"gridcolor\":\"white\",\"linecolor\":\"white\",\"showbackground\":true,\"ticks\":\"\",\"zerolinecolor\":\"white\",\"gridwidth\":2},\"zaxis\":{\"backgroundcolor\":\"#E5ECF6\",\"gridcolor\":\"white\",\"linecolor\":\"white\",\"showbackground\":true,\"ticks\":\"\",\"zerolinecolor\":\"white\",\"gridwidth\":2}},\"shapedefaults\":{\"line\":{\"color\":\"#2a3f5f\"}},\"annotationdefaults\":{\"arrowcolor\":\"#2a3f5f\",\"arrowhead\":0,\"arrowwidth\":1},\"geo\":{\"bgcolor\":\"white\",\"landcolor\":\"#E5ECF6\",\"subunitcolor\":\"white\",\"showland\":true,\"showlakes\":true,\"lakecolor\":\"white\"},\"title\":{\"x\":0.05},\"mapbox\":{\"style\":\"light\"}}},\"legend\":{\"tracegroupgap\":0},\"margin\":{\"t\":50,\"l\":25,\"r\":25,\"b\":25},\"title\":{\"text\":\"Endividamento do Agro por subsetor - Ano 2022\"}},                        {\"responsive\": true}                    ).then(function(){\n",
       "                            \n",
       "var gd = document.getElementById('ae1f5963-67b9-4071-8c1d-285fa28780ca');\n",
       "var x = new MutationObserver(function (mutations, observer) {{\n",
       "        var display = window.getComputedStyle(gd).display;\n",
       "        if (!display || display === 'none') {{\n",
       "            console.log([gd, 'removed!']);\n",
       "            Plotly.purge(gd);\n",
       "            observer.disconnect();\n",
       "        }}\n",
       "}});\n",
       "\n",
       "// Listen for the removal of the full notebook cells\n",
       "var notebookContainer = gd.closest('#notebook-container');\n",
       "if (notebookContainer) {{\n",
       "    x.observe(notebookContainer, {childList: true});\n",
       "}}\n",
       "\n",
       "// Listen for the clearing of the current output cell\n",
       "var outputEl = gd.closest('.output');\n",
       "if (outputEl) {{\n",
       "    x.observe(outputEl, {childList: true});\n",
       "}}\n",
       "\n",
       "                        })                };                });            </script>        </div>"
      ]
     },
     "metadata": {},
     "output_type": "display_data"
    }
   ],
   "source": [
    "df_filtrado = df_total.query(\"data_base == '2022-12'\")\n",
    "df_filtrado = df_filtrado.sort_values(by='valor_deflacionado', ascending=False)\n",
    "df_filtrado = df_filtrado.head(16)\n",
    "\n",
    "fig = px.treemap(df_filtrado, \n",
    "                 path=['cnae_secao', 'cnae_subclasse'],\n",
    "                 values='valor_deflacionado')\n",
    "\n",
    "fig.update_layout(title='Endividamento do Agro por subsetor - Ano 2022',\n",
    "                  margin=dict(t=50, l=25, r=25, b=25))\n",
    "\n",
    "fig.update_traces(textinfo='label+percent entry')\n",
    "\n",
    "fig.show()"
   ]
  },
  {
   "cell_type": "code",
   "execution_count": null,
   "id": "6bba31ba-c7ca-456d-a44b-e0161046b80d",
   "metadata": {},
   "outputs": [],
   "source": []
  }
 ],
 "metadata": {
  "kernelspec": {
   "display_name": "Python 3 (ipykernel)",
   "language": "python",
   "name": "python3"
  },
  "language_info": {
   "codemirror_mode": {
    "name": "ipython",
    "version": 3
   },
   "file_extension": ".py",
   "mimetype": "text/x-python",
   "name": "python",
   "nbconvert_exporter": "python",
   "pygments_lexer": "ipython3",
   "version": "3.11.5"
  }
 },
 "nbformat": 4,
 "nbformat_minor": 5
}
