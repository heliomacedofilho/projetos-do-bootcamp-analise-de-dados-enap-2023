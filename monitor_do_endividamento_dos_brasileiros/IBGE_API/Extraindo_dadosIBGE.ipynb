{
 "cells": [
  {
   "cell_type": "code",
   "execution_count": null,
   "id": "28c084dd-9bc0-4493-a9a1-53029da34f1f",
   "metadata": {},
   "outputs": [],
   "source": [
    "#pip install sidrapy"
   ]
  },
  {
   "cell_type": "code",
   "execution_count": 127,
   "id": "b4287e68-562c-4e86-a796-ddcae4cf9fe7",
   "metadata": {
    "tags": []
   },
   "outputs": [],
   "source": [
    "import sidrapy\n",
    "import pandas as pd\n",
    "import requests\n",
    "import numpy as np"
   ]
  },
  {
   "cell_type": "code",
   "execution_count": 136,
   "id": "b9db8bf9-ec45-468e-abba-b36a8c601076",
   "metadata": {
    "tags": []
   },
   "outputs": [],
   "source": [
    "#na página do ibge você pode clicar em gerar link para visualizar quais parâmetros devem ser inseridos aqui\n",
    "#mas não é intuitivo, tem que seguir essa documentação: https://apisidra.ibge.gov.br/home/ajuda\n",
    "\n",
    "empresas = sidrapy.table.get_table(\n",
    "    table_code=\"2718\",\n",
    "    territorial_level=\"1\",\n",
    "    ibge_territorial_code=\"all\",\n",
    "    period=\"last 9\",\n",
    "    variable=\"630\",\n",
    "    classifications={\"12762\": \"all\", \"370\": \"9504\", \"369\": \"all\"},\n",
    "    \n",
    ")\n",
    "\n",
    "empresas.columns = empresas.iloc[0] #troca a primeira linha para o nome da coluna\n",
    "empresas = empresas.iloc[1:, :] #retira a primeira obs. que virou o nome da coluna\n",
    "\n",
    "#Essa tabela tem todas as info. possíveis. Vamos gerar tabelas específicas abaixo:"
   ]
  },
  {
   "cell_type": "code",
   "execution_count": 137,
   "id": "ccb9b821-0032-4490-8f91-e4ea0b7442e8",
   "metadata": {
    "tags": []
   },
   "outputs": [],
   "source": [
    "empresas = empresas.drop(columns = ['Nível Territorial', 'Unidade de Medida', 'Nível Territorial (Código)', 'Unidade de Medida (Código)',\n",
    "                                    'Brasil (Código)', 'Brasil', 'Variável (Código)', \n",
    "                                    'Classificação Nacional de Atividades Econômicas (CNAE 2.0) (Código)',\n",
    "                                    'Faixas de pessoal ocupado assalariado (Código)',\n",
    "                                    'Faixas de pessoal ocupado assalariado',\n",
    "                                    'Tipo de evento da empresa (Código)',\n",
    "                                    'Ano (Código)',\n",
    "                                   'Variável'])"
   ]
  },
  {
   "cell_type": "code",
   "execution_count": 138,
   "id": "1a499347-7fa3-4e47-891b-89bc3fb7c314",
   "metadata": {
    "tags": []
   },
   "outputs": [],
   "source": [
    "empresas = empresas.rename(columns={\"Classificação Nacional de Atividades Econômicas (CNAE 2.0)\": \"cnae_secao\",\n",
    "                                     \"Tipo de evento da empresa\": \"evento\",\n",
    "                                    \"Valor\": \"qtde_empresas\"}) "
   ]
  },
  {
   "cell_type": "code",
   "execution_count": 139,
   "id": "a84b90a9-501e-4a14-811a-dbf7ed908de5",
   "metadata": {
    "tags": []
   },
   "outputs": [],
   "source": [
    "empresas['qtde_empresas'] = empresas['qtde_empresas'].replace(\"-\", np.nan)"
   ]
  },
  {
   "cell_type": "code",
   "execution_count": 140,
   "id": "2ac64b21-5401-4849-ad56-b41e0b936925",
   "metadata": {
    "tags": []
   },
   "outputs": [],
   "source": [
    "empresas['qtde_empresas'] = empresas['qtde_empresas'].astype(\"float\")"
   ]
  },
  {
   "cell_type": "code",
   "execution_count": 171,
   "id": "5d4335b5-3108-4b28-89fe-a4ad5138c143",
   "metadata": {
    "tags": []
   },
   "outputs": [],
   "source": [
    "empresas_pivot = empresas.pivot_table(index=['Ano', 'cnae_secao'], \n",
    "                                      columns='evento', \n",
    "                                      values='qtde_empresas').reset_index()"
   ]
  },
  {
   "cell_type": "code",
   "execution_count": 172,
   "id": "73815c57-bf24-48b9-b13e-ae2c523ede51",
   "metadata": {
    "tags": []
   },
   "outputs": [
    {
     "data": {
      "text/html": [
       "<div>\n",
       "<style scoped>\n",
       "    .dataframe tbody tr th:only-of-type {\n",
       "        vertical-align: middle;\n",
       "    }\n",
       "\n",
       "    .dataframe tbody tr th {\n",
       "        vertical-align: top;\n",
       "    }\n",
       "\n",
       "    .dataframe thead th {\n",
       "        text-align: right;\n",
       "    }\n",
       "</style>\n",
       "<table border=\"1\" class=\"dataframe\">\n",
       "  <thead>\n",
       "    <tr style=\"text-align: right;\">\n",
       "      <th>evento</th>\n",
       "      <th>Ano</th>\n",
       "      <th>cnae_secao</th>\n",
       "      <th>Entrada</th>\n",
       "      <th>Nascimento</th>\n",
       "      <th>Reentrada</th>\n",
       "      <th>Saída de atividade</th>\n",
       "      <th>Sobrevivente</th>\n",
       "      <th>Total de empresas ativas</th>\n",
       "    </tr>\n",
       "  </thead>\n",
       "  <tbody>\n",
       "    <tr>\n",
       "      <th>0</th>\n",
       "      <td>2012</td>\n",
       "      <td>A Agricultura, pecuária, produção florestal, p...</td>\n",
       "      <td>7100.0</td>\n",
       "      <td>4898.0</td>\n",
       "      <td>2202.0</td>\n",
       "      <td>5849.0</td>\n",
       "      <td>26458.0</td>\n",
       "      <td>33558.0</td>\n",
       "    </tr>\n",
       "    <tr>\n",
       "      <th>1</th>\n",
       "      <td>2012</td>\n",
       "      <td>B Indústrias extrativas</td>\n",
       "      <td>2005.0</td>\n",
       "      <td>1248.0</td>\n",
       "      <td>757.0</td>\n",
       "      <td>1618.0</td>\n",
       "      <td>8638.0</td>\n",
       "      <td>10643.0</td>\n",
       "    </tr>\n",
       "    <tr>\n",
       "      <th>2</th>\n",
       "      <td>2012</td>\n",
       "      <td>C Indústrias de transformação</td>\n",
       "      <td>65094.0</td>\n",
       "      <td>45640.0</td>\n",
       "      <td>19454.0</td>\n",
       "      <td>64606.0</td>\n",
       "      <td>370890.0</td>\n",
       "      <td>435984.0</td>\n",
       "    </tr>\n",
       "    <tr>\n",
       "      <th>3</th>\n",
       "      <td>2012</td>\n",
       "      <td>D Eletricidade e gás</td>\n",
       "      <td>595.0</td>\n",
       "      <td>440.0</td>\n",
       "      <td>155.0</td>\n",
       "      <td>378.0</td>\n",
       "      <td>1697.0</td>\n",
       "      <td>2292.0</td>\n",
       "    </tr>\n",
       "    <tr>\n",
       "      <th>4</th>\n",
       "      <td>2012</td>\n",
       "      <td>E Água, esgoto, atividades de gestão de resídu...</td>\n",
       "      <td>2031.0</td>\n",
       "      <td>1473.0</td>\n",
       "      <td>558.0</td>\n",
       "      <td>1530.0</td>\n",
       "      <td>7761.0</td>\n",
       "      <td>9792.0</td>\n",
       "    </tr>\n",
       "  </tbody>\n",
       "</table>\n",
       "</div>"
      ],
      "text/plain": [
       "evento   Ano                                         cnae_secao  Entrada  \\\n",
       "0       2012  A Agricultura, pecuária, produção florestal, p...   7100.0   \n",
       "1       2012                            B Indústrias extrativas   2005.0   \n",
       "2       2012                      C Indústrias de transformação  65094.0   \n",
       "3       2012                               D Eletricidade e gás    595.0   \n",
       "4       2012  E Água, esgoto, atividades de gestão de resídu...   2031.0   \n",
       "\n",
       "evento  Nascimento  Reentrada  Saída de atividade  Sobrevivente  \\\n",
       "0           4898.0     2202.0              5849.0       26458.0   \n",
       "1           1248.0      757.0              1618.0        8638.0   \n",
       "2          45640.0    19454.0             64606.0      370890.0   \n",
       "3            440.0      155.0               378.0        1697.0   \n",
       "4           1473.0      558.0              1530.0        7761.0   \n",
       "\n",
       "evento  Total de empresas ativas  \n",
       "0                        33558.0  \n",
       "1                        10643.0  \n",
       "2                       435984.0  \n",
       "3                         2292.0  \n",
       "4                         9792.0  "
      ]
     },
     "execution_count": 172,
     "metadata": {},
     "output_type": "execute_result"
    }
   ],
   "source": [
    "empresas_pivot.head(5)"
   ]
  },
  {
   "cell_type": "code",
   "execution_count": 173,
   "id": "0f438a26-3aab-4768-a858-8aed60d398d5",
   "metadata": {
    "tags": []
   },
   "outputs": [],
   "source": [
    "empresas_pivot['cnae_secao'] = empresas_pivot['cnae_secao'].str.slice(start=2)"
   ]
  },
  {
   "cell_type": "code",
   "execution_count": 174,
   "id": "d804376d-fb7c-45b7-815a-bab3ec676b2a",
   "metadata": {
    "tags": []
   },
   "outputs": [
    {
     "data": {
      "text/html": [
       "<div>\n",
       "<style scoped>\n",
       "    .dataframe tbody tr th:only-of-type {\n",
       "        vertical-align: middle;\n",
       "    }\n",
       "\n",
       "    .dataframe tbody tr th {\n",
       "        vertical-align: top;\n",
       "    }\n",
       "\n",
       "    .dataframe thead th {\n",
       "        text-align: right;\n",
       "    }\n",
       "</style>\n",
       "<table border=\"1\" class=\"dataframe\">\n",
       "  <thead>\n",
       "    <tr style=\"text-align: right;\">\n",
       "      <th>evento</th>\n",
       "      <th>Ano</th>\n",
       "      <th>cnae_secao</th>\n",
       "      <th>Entrada</th>\n",
       "      <th>Nascimento</th>\n",
       "      <th>Reentrada</th>\n",
       "      <th>Saída de atividade</th>\n",
       "      <th>Sobrevivente</th>\n",
       "      <th>Total de empresas ativas</th>\n",
       "    </tr>\n",
       "  </thead>\n",
       "  <tbody>\n",
       "    <tr>\n",
       "      <th>0</th>\n",
       "      <td>2012</td>\n",
       "      <td>Agricultura, pecuária, produção florestal, pes...</td>\n",
       "      <td>7100.0</td>\n",
       "      <td>4898.0</td>\n",
       "      <td>2202.0</td>\n",
       "      <td>5849.0</td>\n",
       "      <td>26458.0</td>\n",
       "      <td>33558.0</td>\n",
       "    </tr>\n",
       "    <tr>\n",
       "      <th>1</th>\n",
       "      <td>2012</td>\n",
       "      <td>Indústrias extrativas</td>\n",
       "      <td>2005.0</td>\n",
       "      <td>1248.0</td>\n",
       "      <td>757.0</td>\n",
       "      <td>1618.0</td>\n",
       "      <td>8638.0</td>\n",
       "      <td>10643.0</td>\n",
       "    </tr>\n",
       "    <tr>\n",
       "      <th>2</th>\n",
       "      <td>2012</td>\n",
       "      <td>Indústrias de transformação</td>\n",
       "      <td>65094.0</td>\n",
       "      <td>45640.0</td>\n",
       "      <td>19454.0</td>\n",
       "      <td>64606.0</td>\n",
       "      <td>370890.0</td>\n",
       "      <td>435984.0</td>\n",
       "    </tr>\n",
       "    <tr>\n",
       "      <th>3</th>\n",
       "      <td>2012</td>\n",
       "      <td>Eletricidade e gás</td>\n",
       "      <td>595.0</td>\n",
       "      <td>440.0</td>\n",
       "      <td>155.0</td>\n",
       "      <td>378.0</td>\n",
       "      <td>1697.0</td>\n",
       "      <td>2292.0</td>\n",
       "    </tr>\n",
       "    <tr>\n",
       "      <th>4</th>\n",
       "      <td>2012</td>\n",
       "      <td>Água, esgoto, atividades de gestão de resíduos...</td>\n",
       "      <td>2031.0</td>\n",
       "      <td>1473.0</td>\n",
       "      <td>558.0</td>\n",
       "      <td>1530.0</td>\n",
       "      <td>7761.0</td>\n",
       "      <td>9792.0</td>\n",
       "    </tr>\n",
       "  </tbody>\n",
       "</table>\n",
       "</div>"
      ],
      "text/plain": [
       "evento   Ano                                         cnae_secao  Entrada  \\\n",
       "0       2012  Agricultura, pecuária, produção florestal, pes...   7100.0   \n",
       "1       2012                              Indústrias extrativas   2005.0   \n",
       "2       2012                        Indústrias de transformação  65094.0   \n",
       "3       2012                                 Eletricidade e gás    595.0   \n",
       "4       2012  Água, esgoto, atividades de gestão de resíduos...   2031.0   \n",
       "\n",
       "evento  Nascimento  Reentrada  Saída de atividade  Sobrevivente  \\\n",
       "0           4898.0     2202.0              5849.0       26458.0   \n",
       "1           1248.0      757.0              1618.0        8638.0   \n",
       "2          45640.0    19454.0             64606.0      370890.0   \n",
       "3            440.0      155.0               378.0        1697.0   \n",
       "4           1473.0      558.0              1530.0        7761.0   \n",
       "\n",
       "evento  Total de empresas ativas  \n",
       "0                        33558.0  \n",
       "1                        10643.0  \n",
       "2                       435984.0  \n",
       "3                         2292.0  \n",
       "4                         9792.0  "
      ]
     },
     "execution_count": 174,
     "metadata": {},
     "output_type": "execute_result"
    }
   ],
   "source": [
    "empresas_pivot.head(5)"
   ]
  },
  {
   "cell_type": "code",
   "execution_count": 175,
   "id": "917b9d30-6265-499f-8ecf-20fc98675863",
   "metadata": {
    "tags": []
   },
   "outputs": [],
   "source": [
    "empresas_pivot.to_csv(\"informacoes_empresas.csv\")"
   ]
  }
 ],
 "metadata": {
  "kernelspec": {
   "display_name": "Python 3 (ipykernel)",
   "language": "python",
   "name": "python3"
  },
  "language_info": {
   "codemirror_mode": {
    "name": "ipython",
    "version": 3
   },
   "file_extension": ".py",
   "mimetype": "text/x-python",
   "name": "python",
   "nbconvert_exporter": "python",
   "pygments_lexer": "ipython3",
   "version": "3.11.5"
  }
 },
 "nbformat": 4,
 "nbformat_minor": 5
}
