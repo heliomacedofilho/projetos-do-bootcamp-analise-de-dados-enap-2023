{
 "cells": [
  {
   "cell_type": "code",
   "execution_count": null,
   "id": "902f92b1-c15c-4e44-bc78-99f8d312964c",
   "metadata": {},
   "outputs": [],
   "source": [
    "#Se você já está com os zips na sua área de trabalho aqui na esquerda, não precisa rodar essa parte novamente\n",
    "\n",
    "import requests\n",
    "\n",
    "# Criar uma lista de anos para os quais você deseja baixar os arquivos\n",
    "anos = list(range(2012, 2024))\n",
    "\n",
    "for ano in anos:\n",
    "    # Construir o URL dinamicamente com base no ano\n",
    "    url = f'https://www.bcb.gov.br/pda/desig/planilha_{ano}.zip'\n",
    "    \n",
    "    # Baixar o arquivo ZIP\n",
    "    r = requests.get(url, allow_redirects=True)\n",
    "\n",
    "    # Especificar o nome do arquivo ZIP para salvar\n",
    "    arquivo_zip = f'planilha_{ano}.zip'\n",
    "\n",
    "    # Salvar o arquivo ZIP\n",
    "    with open(arquivo_zip, 'wb') as f:\n",
    "        f.write(r.content)\n",
    "    \n",
    "    print(f\"Arquivo {arquivo_zip} baixado com sucesso!\")"
   ]
  },
  {
   "cell_type": "code",
   "execution_count": null,
   "id": "c033ca6b-3cbd-4f6d-93e2-bc9ff8fab734",
   "metadata": {
    "tags": []
   },
   "outputs": [],
   "source": [
    "import zipfile\n",
    "import os"
   ]
  },
  {
   "cell_type": "code",
   "execution_count": null,
   "id": "3fc87499-6fbe-4040-b018-767a2fe13e54",
   "metadata": {
    "tags": []
   },
   "outputs": [],
   "source": [
    "#Se você já está com os zips na sua área de trabalho aqui na esquerda, não precisa rodar essa parte novamente\n",
    "\n",
    "def extrair_zip_por_ano(ano):\n",
    "    zip_file_name = f'planilha_{ano}.zip'\n",
    "    extracao_dir = f'planilha_{ano}'\n",
    "\n",
    "    with zipfile.ZipFile(zip_file_name, 'r') as zip_ref:\n",
    "        zip_ref.extractall(extracao_dir)\n",
    "        \n",
    "    extracted_files = os.listdir(extracao_dir)\n",
    "    for file_name in extracted_files:\n",
    "        print(f\"Arquivo extraído: {file_name}\")"
   ]
  },
  {
   "cell_type": "code",
   "execution_count": null,
   "id": "0f2f35a2-96fc-4942-877d-1c40172275a8",
   "metadata": {
    "tags": []
   },
   "outputs": [],
   "source": [
    "extrair_zip_por_ano(2013) #trocar o ano pelo ano que você deseja extrair o arquivo\n",
    "#Se você quiser extrair para mais de um ano de uma vez, use a linha abaixo e não precisa rodar essa"
   ]
  },
  {
   "cell_type": "code",
   "execution_count": null,
   "id": "e94883f8-5e67-4d3b-a980-f7af6d582c70",
   "metadata": {
    "tags": []
   },
   "outputs": [],
   "source": [
    "anos = list(range(2012, 2024))\n",
    "\n",
    "for ano in anos:\n",
    "    extrair_zip_por_ano(ano)"
   ]
  },
  {
   "cell_type": "code",
   "execution_count": null,
   "id": "3b8fccd1-741b-4815-9fc1-34dc3b725fa8",
   "metadata": {
    "tags": []
   },
   "outputs": [],
   "source": [
    "import pandas as pd"
   ]
  },
  {
   "cell_type": "code",
   "execution_count": null,
   "id": "e0f9aa6d-4c6c-48e2-997f-e2a92355f88d",
   "metadata": {
    "tags": []
   },
   "outputs": [],
   "source": [
    "def concatenar_csvs(diretorio):\n",
    "    frames = []\n",
    "\n",
    "    for arquivo in os.listdir(diretorio):\n",
    "        if arquivo.endswith('.csv'):\n",
    "            caminho_arquivo = os.path.join(diretorio, arquivo)\n",
    "            \n",
    "            df = pd.read_csv(caminho_arquivo, encoding='utf-8', delimiter = \";\")\n",
    "            \n",
    "            frames.append(df)\n",
    "\n",
    "    df_concatenado = pd.concat(frames, ignore_index=True)\n",
    "\n",
    "    return df_concatenado"
   ]
  },
  {
   "cell_type": "markdown",
   "id": "8dd24139-6772-4bdd-94b2-8beab3c0b28e",
   "metadata": {},
   "source": [
    "**A partir daqui, a concatenação é feita planilha por planilha para não sobrecarregar\n",
    "\n",
    "***Sugiro usar o to_csv apenas após fazer as transformações necessárias\n",
    "\n",
    "****Mas, se você quiser automatizar e fazer tudo de uma vez, tem um código para isso após a linha dicionario_2012.head(5)"
   ]
  },
  {
   "cell_type": "code",
   "execution_count": null,
   "id": "195b506f-f0a9-4371-bc8b-1a8acdc2d354",
   "metadata": {
    "tags": []
   },
   "outputs": [],
   "source": [
    "dados_2012 = concatenar_csvs(\"planilha_2012\")"
   ]
  },
  {
   "cell_type": "code",
   "execution_count": null,
   "id": "7fbd8259-9cba-4702-9191-ab6433527f02",
   "metadata": {
    "tags": []
   },
   "outputs": [],
   "source": [
    "dados_2012['a_vencer_de_361_ate_1080_dias'] = dados_2012['a_vencer_de_361_ate_1080_dias'].str.replace(',', '.')"
   ]
  },
  {
   "cell_type": "code",
   "execution_count": null,
   "id": "17aced0b-1291-4b56-aead-0ad9fb9ec45a",
   "metadata": {
    "tags": []
   },
   "outputs": [],
   "source": [
    "dados_2012['a_vencer_de_361_ate_1080_dias'] = pd.to_numeric(dados_2012['a_vencer_de_361_ate_1080_dias'], errors='coerce')"
   ]
  },
  {
   "cell_type": "code",
   "execution_count": null,
   "id": "fa4edb1c-e27c-45fa-81e3-ae018a0d4152",
   "metadata": {
    "tags": []
   },
   "outputs": [],
   "source": [
    "dados_2012['a_vencer_de_361_ate_1080_dias']"
   ]
  },
  {
   "cell_type": "code",
   "execution_count": null,
   "id": "3738670a-6dfc-4702-b2ad-67bc6d43d1e3",
   "metadata": {
    "tags": []
   },
   "outputs": [],
   "source": [
    "dados_2012['data_base'] = pd.to_datetime(dados_2012['data_base'], format = \"%Y-%m-%d\")"
   ]
  },
  {
   "cell_type": "code",
   "execution_count": null,
   "id": "a4cd2a7e-5c79-456d-b6c3-fc3289122d1e",
   "metadata": {
    "tags": []
   },
   "outputs": [],
   "source": [
    "dados_2012['data_base'] = dados_2012['data_base'].dt.to_period('M')"
   ]
  },
  {
   "cell_type": "code",
   "execution_count": null,
   "id": "9a64306e-20de-4626-81fb-eaab13d9b2fa",
   "metadata": {
    "tags": []
   },
   "outputs": [],
   "source": [
    "dados_2012['data_base']"
   ]
  },
  {
   "cell_type": "code",
   "execution_count": null,
   "id": "284f863a-7d12-4b36-9b03-586113d36d30",
   "metadata": {
    "tags": []
   },
   "outputs": [],
   "source": [
    "meu_dicionario = dados_2012.groupby(['data_base'])['a_vencer_de_361_ate_1080_dias'].sum().reset_index()"
   ]
  },
  {
   "cell_type": "code",
   "execution_count": null,
   "id": "68170c9b-69e9-4e41-94fa-ccc0a8b776e4",
   "metadata": {
    "tags": []
   },
   "outputs": [],
   "source": [
    "dicionario_2012 = pd.DataFrame(meu_dicionario)"
   ]
  },
  {
   "cell_type": "code",
   "execution_count": null,
   "id": "e1659de2-7785-4b9e-8cc1-ec50d8f20948",
   "metadata": {
    "tags": []
   },
   "outputs": [],
   "source": [
    "dicionario_2012.head(5)"
   ]
  },
  {
   "cell_type": "code",
   "execution_count": null,
   "id": "0c8abc46-6c0d-421d-ba52-311d59a6e815",
   "metadata": {
    "tags": []
   },
   "outputs": [],
   "source": [
    "def automatizacao_groupby(ano):\n",
    "    dados = concatenar_csvs(f\"planilha_{ano}\")\n",
    "    \n",
    "    dados['a_vencer_de_361_ate_1080_dias'] = dados['a_vencer_de_361_ate_1080_dias'].str.replace(',', '.')\n",
    "    dados['a_vencer_de_361_ate_1080_dias'] = pd.to_numeric(dados['a_vencer_de_361_ate_1080_dias'], errors='coerce')\n",
    "    \n",
    "    dados['data_base'] = pd.to_datetime(dados['data_base'], format=\"%Y-%m-%d\")\n",
    "    dados['data_base'] = dados['data_base'].dt.to_period('M')\n",
    "    \n",
    "    meu_dicionario = dados.groupby(['data_base'])['a_vencer_de_361_ate_1080_dias'].sum().reset_index()\n",
    "    dicionario = pd.DataFrame(meu_dicionario)\n",
    "    \n",
    "    dataframes.append(dicionario)\n",
    "    \n",
    "dataframes = []"
   ]
  },
  {
   "cell_type": "code",
   "execution_count": null,
   "id": "7371f82a-6b6a-450c-a327-78983cc64e27",
   "metadata": {
    "tags": []
   },
   "outputs": [],
   "source": [
    "for ano in range(2012, 2024):\n",
    "    automatizacao_groupby(ano)"
   ]
  },
  {
   "cell_type": "code",
   "execution_count": null,
   "id": "24507378-1fb6-47f2-b61f-bcd59ed89894",
   "metadata": {
    "tags": []
   },
   "outputs": [],
   "source": [
    "dataframes"
   ]
  },
  {
   "cell_type": "code",
   "execution_count": null,
   "id": "95386c81-7de6-42f5-971a-fae47ea4c6b7",
   "metadata": {
    "tags": []
   },
   "outputs": [],
   "source": [
    "resultado_final = pd.concat(dataframes, ignore_index=True)"
   ]
  },
  {
   "cell_type": "code",
   "execution_count": null,
   "id": "8c4740a7-3362-4488-91cf-8dbf7fe96e5a",
   "metadata": {
    "tags": []
   },
   "outputs": [],
   "source": [
    "df_para_estudo = pd.DataFrame(resultado_final)"
   ]
  },
  {
   "cell_type": "code",
   "execution_count": null,
   "id": "c6e5f032-dff0-4976-a4ad-8faa4e2f83e7",
   "metadata": {
    "tags": []
   },
   "outputs": [],
   "source": [
    "df_para_estudo.head(5)"
   ]
  }
 ],
 "metadata": {
  "kernelspec": {
   "display_name": "Python 3 (ipykernel)",
   "language": "python",
   "name": "python3"
  },
  "language_info": {
   "codemirror_mode": {
    "name": "ipython",
    "version": 3
   },
   "file_extension": ".py",
   "mimetype": "text/x-python",
   "name": "python",
   "nbconvert_exporter": "python",
   "pygments_lexer": "ipython3",
   "version": "3.11.4"
  }
 },
 "nbformat": 4,
 "nbformat_minor": 5
}
