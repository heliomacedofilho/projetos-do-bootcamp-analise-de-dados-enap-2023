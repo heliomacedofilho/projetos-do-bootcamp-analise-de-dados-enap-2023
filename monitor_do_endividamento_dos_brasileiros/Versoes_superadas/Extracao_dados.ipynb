{
 "cells": [
  {
   "cell_type": "code",
   "execution_count": 1,
   "id": "998e5bea-0bb6-4be9-a0ee-ef39ea6fdb09",
   "metadata": {
    "tags": []
   },
   "outputs": [
    {
     "name": "stdout",
     "output_type": "stream",
     "text": [
      "Arquivo planilha_2012.zip baixado com sucesso!\n",
      "Arquivo planilha_2013.zip baixado com sucesso!\n",
      "Arquivo planilha_2014.zip baixado com sucesso!\n",
      "Arquivo planilha_2015.zip baixado com sucesso!\n",
      "Arquivo planilha_2016.zip baixado com sucesso!\n",
      "Arquivo planilha_2017.zip baixado com sucesso!\n",
      "Arquivo planilha_2018.zip baixado com sucesso!\n",
      "Arquivo planilha_2019.zip baixado com sucesso!\n",
      "Arquivo planilha_2020.zip baixado com sucesso!\n",
      "Arquivo planilha_2021.zip baixado com sucesso!\n",
      "Arquivo planilha_2022.zip baixado com sucesso!\n",
      "Arquivo planilha_2023.zip baixado com sucesso!\n"
     ]
    }
   ],
   "source": [
    "import requests\n",
    "\n",
    "# Criar uma lista de anos para os quais você deseja baixar os arquivos\n",
    "anos = list(range(2012, 2024))\n",
    "\n",
    "for ano in anos:\n",
    "    # Construir o URL dinamicamente com base no ano\n",
    "    url = f'https://www.bcb.gov.br/pda/desig/planilha_{ano}.zip'\n",
    "    \n",
    "    # Baixar o arquivo ZIP\n",
    "    r = requests.get(url, allow_redirects=True)\n",
    "\n",
    "    # Especificar o nome do arquivo ZIP para salvar\n",
    "    arquivo_zip = f'planilha_{ano}.zip'\n",
    "\n",
    "    # Salvar o arquivo ZIP\n",
    "    with open(arquivo_zip, 'wb') as f:\n",
    "        f.write(r.content)\n",
    "    \n",
    "    print(f\"Arquivo {arquivo_zip} baixado com sucesso!\")"
   ]
  },
  {
   "cell_type": "code",
   "execution_count": 2,
   "id": "c033ca6b-3cbd-4f6d-93e2-bc9ff8fab734",
   "metadata": {
    "tags": []
   },
   "outputs": [],
   "source": [
    "import zipfile\n",
    "import os"
   ]
  },
  {
   "cell_type": "code",
   "execution_count": null,
   "id": "3fc87499-6fbe-4040-b018-767a2fe13e54",
   "metadata": {
    "tags": []
   },
   "outputs": [],
   "source": [
    "def extrair_zip_por_ano(ano):\n",
    "    zip_file_name = f'planilha_{ano}.zip'\n",
    "    extracao_dir = f'planilha_{ano}'\n",
    "\n",
    "    with zipfile.ZipFile(zip_file_name, 'r') as zip_ref:\n",
    "        zip_ref.extractall(extracao_dir)\n",
    "        \n",
    "    extracted_files = os.listdir(extracao_dir)\n",
    "    for file_name in extracted_files:\n",
    "        print(f\"Arquivo extraído: {file_name}\")"
   ]
  },
  {
   "cell_type": "code",
   "execution_count": null,
   "id": "0f2f35a2-96fc-4942-877d-1c40172275a8",
   "metadata": {
    "tags": []
   },
   "outputs": [],
   "source": [
    "extrair_zip_por_ano(2013) #trocar o ano pelo ano que você deseja extrair o arquivo"
   ]
  },
  {
   "cell_type": "code",
   "execution_count": 1,
   "id": "3b8fccd1-741b-4815-9fc1-34dc3b725fa8",
   "metadata": {
    "tags": []
   },
   "outputs": [],
   "source": [
    "import pandas as pd"
   ]
  },
  {
   "cell_type": "code",
   "execution_count": 7,
   "id": "e0f9aa6d-4c6c-48e2-997f-e2a92355f88d",
   "metadata": {
    "tags": []
   },
   "outputs": [],
   "source": [
    "def concatenar_csvs(diretorio):\n",
    "    frames = []\n",
    "\n",
    "    for arquivo in os.listdir(diretorio):\n",
    "        if arquivo.endswith('.csv'):\n",
    "            caminho_arquivo = os.path.join(diretorio, arquivo)\n",
    "            \n",
    "            df = pd.read_csv(caminho_arquivo, encoding='utf-8', delimiter = \";\")\n",
    "            \n",
    "            frames.append(df)\n",
    "\n",
    "    df_concatenado = pd.concat(frames, ignore_index=True)\n",
    "\n",
    "    return df_concatenado"
   ]
  },
  {
   "cell_type": "code",
   "execution_count": 35,
   "id": "195b506f-f0a9-4371-bc8b-1a8acdc2d354",
   "metadata": {
    "tags": []
   },
   "outputs": [],
   "source": [
    "dados_2013 = concatenar_csvs(\"planilha_2013\")"
   ]
  },
  {
   "cell_type": "code",
   "execution_count": 9,
   "id": "61f62d18-20b8-416d-982c-094127c20775",
   "metadata": {
    "tags": []
   },
   "outputs": [],
   "source": [
    "dados_2013.to_csv(\"dados_2013_teste.csv\", index=True)"
   ]
  },
  {
   "cell_type": "code",
   "execution_count": 36,
   "id": "27c951a9-e832-43c5-a76c-e90a8003818b",
   "metadata": {
    "tags": []
   },
   "outputs": [
    {
     "data": {
      "text/plain": [
       "Index(['data_base', 'uf', 'tcb', 'sr', 'cliente', 'ocupacao', 'cnae_secao',\n",
       "       'cnae_subclasse', 'porte', 'modalidade', 'origem', 'indexador',\n",
       "       'numero_de_operacoes', 'a_vencer_ate_90_dias',\n",
       "       'a_vencer_de_91_ate_360_dias', 'a_vencer_de_361_ate_1080_dias',\n",
       "       'a_vencer_de_1081_ate_1800_dias', 'a_vencer_de_1801_ate_5400_dias',\n",
       "       'a_vencer_acima_de_5400_dias', 'vencido_acima_de_15_dias',\n",
       "       'carteira_ativa', 'carteira_inadimplida_arrastada',\n",
       "       'ativo_problematico'],\n",
       "      dtype='object')"
      ]
     },
     "execution_count": 36,
     "metadata": {},
     "output_type": "execute_result"
    }
   ],
   "source": [
    "dados_2013.columns"
   ]
  },
  {
   "cell_type": "code",
   "execution_count": 38,
   "id": "7fbd8259-9cba-4702-9191-ab6433527f02",
   "metadata": {
    "tags": []
   },
   "outputs": [],
   "source": [
    "dados_2013['vencido_acima_de_15_dias'] = dados_2013['vencido_acima_de_15_dias'].str.replace(',', '.')"
   ]
  },
  {
   "cell_type": "code",
   "execution_count": 40,
   "id": "17aced0b-1291-4b56-aead-0ad9fb9ec45a",
   "metadata": {
    "tags": []
   },
   "outputs": [],
   "source": [
    "dados_2013['vencido_acima_de_15_dias'] = pd.to_numeric(dados_2013['vencido_acima_de_15_dias'], errors='coerce')"
   ]
  },
  {
   "cell_type": "code",
   "execution_count": 41,
   "id": "fa4edb1c-e27c-45fa-81e3-ae018a0d4152",
   "metadata": {
    "tags": []
   },
   "outputs": [
    {
     "data": {
      "text/plain": [
       "0               0.00\n",
       "1           82410.77\n",
       "2          436612.39\n",
       "3          130408.40\n",
       "4               0.00\n",
       "             ...    \n",
       "5634492         0.00\n",
       "5634493      1942.87\n",
       "5634494         0.00\n",
       "5634495         0.00\n",
       "5634496         0.00\n",
       "Name: vencido_acima_de_15_dias, Length: 5634497, dtype: float64"
      ]
     },
     "execution_count": 41,
     "metadata": {},
     "output_type": "execute_result"
    }
   ],
   "source": [
    "dados_2013['vencido_acima_de_15_dias']"
   ]
  },
  {
   "cell_type": "code",
   "execution_count": 42,
   "id": "284f863a-7d12-4b36-9b03-586113d36d30",
   "metadata": {
    "tags": []
   },
   "outputs": [],
   "source": [
    "resultado = dados_2013.groupby(['data_base', 'ocupacao'])['vencido_acima_de_15_dias'].sum().reset_index()"
   ]
  },
  {
   "cell_type": "code",
   "execution_count": 43,
   "id": "df5b9c76-3435-4d34-9862-3a99c1105909",
   "metadata": {
    "tags": []
   },
   "outputs": [
    {
     "name": "stdout",
     "output_type": "stream",
     "text": [
      "      data_base                                         ocupacao  \\\n",
      "0    2013-01-31                                                -   \n",
      "1    2013-01-31                      PF - Aposentado/pensionista   \n",
      "2    2013-01-31                                    PF - Autônomo   \n",
      "3    2013-01-31                PF - Empregado de empresa privada   \n",
      "4    2013-01-31  PF - Empregado de entidades sem fins lucrativos   \n",
      "..          ...                                              ...   \n",
      "103  2013-12-31  PF - Empregado de entidades sem fins lucrativos   \n",
      "104  2013-12-31                                  PF - Empresário   \n",
      "105  2013-12-31                                         PF - MEI   \n",
      "106  2013-12-31                                      PF - Outros   \n",
      "107  2013-12-31               PF - Servidor ou empregado público   \n",
      "\n",
      "     vencido_acima_de_15_dias  \n",
      "0                2.094189e+10  \n",
      "1                1.554289e+09  \n",
      "2                2.882347e+09  \n",
      "3                3.568390e+09  \n",
      "4                2.880310e+07  \n",
      "..                        ...  \n",
      "103              2.743084e+07  \n",
      "104              4.225969e+09  \n",
      "105              1.291975e+04  \n",
      "106              2.084415e+10  \n",
      "107              4.467407e+09  \n",
      "\n",
      "[108 rows x 3 columns]\n"
     ]
    }
   ],
   "source": [
    "print(resultado)"
   ]
  },
  {
   "cell_type": "code",
   "execution_count": 44,
   "id": "68170c9b-69e9-4e41-94fa-ccc0a8b776e4",
   "metadata": {
    "tags": []
   },
   "outputs": [],
   "source": [
    "dicionario = pd.DataFrame(resultado)"
   ]
  },
  {
   "cell_type": "code",
   "execution_count": 45,
   "id": "455b9544-b046-4264-9d49-808ac982d15d",
   "metadata": {
    "tags": []
   },
   "outputs": [
    {
     "data": {
      "text/html": [
       "<div>\n",
       "<style scoped>\n",
       "    .dataframe tbody tr th:only-of-type {\n",
       "        vertical-align: middle;\n",
       "    }\n",
       "\n",
       "    .dataframe tbody tr th {\n",
       "        vertical-align: top;\n",
       "    }\n",
       "\n",
       "    .dataframe thead th {\n",
       "        text-align: right;\n",
       "    }\n",
       "</style>\n",
       "<table border=\"1\" class=\"dataframe\">\n",
       "  <thead>\n",
       "    <tr style=\"text-align: right;\">\n",
       "      <th></th>\n",
       "      <th>data_base</th>\n",
       "      <th>ocupacao</th>\n",
       "      <th>vencido_acima_de_15_dias</th>\n",
       "    </tr>\n",
       "  </thead>\n",
       "  <tbody>\n",
       "    <tr>\n",
       "      <th>0</th>\n",
       "      <td>2013-01-31</td>\n",
       "      <td>-</td>\n",
       "      <td>2.094189e+10</td>\n",
       "    </tr>\n",
       "    <tr>\n",
       "      <th>1</th>\n",
       "      <td>2013-01-31</td>\n",
       "      <td>PF - Aposentado/pensionista</td>\n",
       "      <td>1.554289e+09</td>\n",
       "    </tr>\n",
       "    <tr>\n",
       "      <th>2</th>\n",
       "      <td>2013-01-31</td>\n",
       "      <td>PF - Autônomo</td>\n",
       "      <td>2.882347e+09</td>\n",
       "    </tr>\n",
       "    <tr>\n",
       "      <th>3</th>\n",
       "      <td>2013-01-31</td>\n",
       "      <td>PF - Empregado de empresa privada</td>\n",
       "      <td>3.568390e+09</td>\n",
       "    </tr>\n",
       "    <tr>\n",
       "      <th>4</th>\n",
       "      <td>2013-01-31</td>\n",
       "      <td>PF - Empregado de entidades sem fins lucrativos</td>\n",
       "      <td>2.880310e+07</td>\n",
       "    </tr>\n",
       "    <tr>\n",
       "      <th>...</th>\n",
       "      <td>...</td>\n",
       "      <td>...</td>\n",
       "      <td>...</td>\n",
       "    </tr>\n",
       "    <tr>\n",
       "      <th>103</th>\n",
       "      <td>2013-12-31</td>\n",
       "      <td>PF - Empregado de entidades sem fins lucrativos</td>\n",
       "      <td>2.743084e+07</td>\n",
       "    </tr>\n",
       "    <tr>\n",
       "      <th>104</th>\n",
       "      <td>2013-12-31</td>\n",
       "      <td>PF - Empresário</td>\n",
       "      <td>4.225969e+09</td>\n",
       "    </tr>\n",
       "    <tr>\n",
       "      <th>105</th>\n",
       "      <td>2013-12-31</td>\n",
       "      <td>PF - MEI</td>\n",
       "      <td>1.291975e+04</td>\n",
       "    </tr>\n",
       "    <tr>\n",
       "      <th>106</th>\n",
       "      <td>2013-12-31</td>\n",
       "      <td>PF - Outros</td>\n",
       "      <td>2.084415e+10</td>\n",
       "    </tr>\n",
       "    <tr>\n",
       "      <th>107</th>\n",
       "      <td>2013-12-31</td>\n",
       "      <td>PF - Servidor ou empregado público</td>\n",
       "      <td>4.467407e+09</td>\n",
       "    </tr>\n",
       "  </tbody>\n",
       "</table>\n",
       "<p>108 rows × 3 columns</p>\n",
       "</div>"
      ],
      "text/plain": [
       "      data_base                                         ocupacao  \\\n",
       "0    2013-01-31                                                -   \n",
       "1    2013-01-31                      PF - Aposentado/pensionista   \n",
       "2    2013-01-31                                    PF - Autônomo   \n",
       "3    2013-01-31                PF - Empregado de empresa privada   \n",
       "4    2013-01-31  PF - Empregado de entidades sem fins lucrativos   \n",
       "..          ...                                              ...   \n",
       "103  2013-12-31  PF - Empregado de entidades sem fins lucrativos   \n",
       "104  2013-12-31                                  PF - Empresário   \n",
       "105  2013-12-31                                         PF - MEI   \n",
       "106  2013-12-31                                      PF - Outros   \n",
       "107  2013-12-31               PF - Servidor ou empregado público   \n",
       "\n",
       "     vencido_acima_de_15_dias  \n",
       "0                2.094189e+10  \n",
       "1                1.554289e+09  \n",
       "2                2.882347e+09  \n",
       "3                3.568390e+09  \n",
       "4                2.880310e+07  \n",
       "..                        ...  \n",
       "103              2.743084e+07  \n",
       "104              4.225969e+09  \n",
       "105              1.291975e+04  \n",
       "106              2.084415e+10  \n",
       "107              4.467407e+09  \n",
       "\n",
       "[108 rows x 3 columns]"
      ]
     },
     "execution_count": 45,
     "metadata": {},
     "output_type": "execute_result"
    }
   ],
   "source": [
    "dicionario"
   ]
  },
  {
   "cell_type": "code",
   "execution_count": 46,
   "id": "dd1a5a7b-3e1f-41ea-adb8-147a477d9219",
   "metadata": {
    "tags": []
   },
   "outputs": [],
   "source": [
    "dicionario.to_csv(\"dicionario_teste.csv\", index=False)"
   ]
  }
 ],
 "metadata": {
  "kernelspec": {
   "display_name": "Python 3 (ipykernel)",
   "language": "python",
   "name": "python3"
  },
  "language_info": {
   "codemirror_mode": {
    "name": "ipython",
    "version": 3
   },
   "file_extension": ".py",
   "mimetype": "text/x-python",
   "name": "python",
   "nbconvert_exporter": "python",
   "pygments_lexer": "ipython3",
   "version": "3.11.4"
  }
 },
 "nbformat": 4,
 "nbformat_minor": 5
}
