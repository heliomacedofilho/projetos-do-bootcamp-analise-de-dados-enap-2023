{
 "cells": [
  {
   "cell_type": "code",
   "execution_count": null,
   "id": "39ee6f3a-647c-4a14-a4e9-6c3a506245b9",
   "metadata": {},
   "outputs": [],
   "source": [
    "# Pendências\n",
    "# 1 - Legenda do Gráfico Geral descrições das contas\n",
    "# 2 - Inserir no caderno a Função para baixar automaticamente os arquivos da API do SICONFI\n",
    "# 3 - Definir os tópicos da apresentação\n",
    "# 4 - Criar a apresentação\n",
    "# 5 - Criar caderno com os comentários com markdown\n",
    "# 6 - Contas que não aparecem em balanco_final_exercicio\n",
    "# - OBRIGAÇÕES TRABALHISTAS, PREVIDENCIÁRIAS E ASSISTENCIAIS A PAGAR A CURTO PRAZO * não aparece em balanco_final_exercicio\n",
    "# - RESULTADOS ACUMULADOS -  não aparece em balanco_final_exercicio"
   ]
  },
  {
   "cell_type": "code",
   "execution_count": null,
   "id": "7af3c546-afd0-45ea-980d-86596f8382ba",
   "metadata": {
    "tags": []
   },
   "outputs": [],
   "source": [
    "import os, pandas as pd, re\n",
    "from datetime import date\n",
    "import numpy as np\n",
    "from sklearn import preprocessing\n",
    "import numpy as np\n",
    "\n",
    "\n",
    "def build_path(subfolder = 'data'):\n",
    "    folderpath = os.path.join(os.getcwd(), \n",
    "                              'projeto', subfolder)\n",
    "    folderpath = os.path.abspath(folderpath)\n",
    "    if not os.path.exists(folderpath): \n",
    "        os.makedirs(folderpath)\n",
    "    return folderpath\n",
    "\n",
    "\n",
    "def get_dados_pcasp(\n",
    "        filename='CPU_PCASP_2022.xlsx'):\n",
    "    filepath = os.path.join(build_path(), filename)\n",
    "    return pd.read_excel(filepath, sheet_name= 'Federação 2022')\n",
    "\n",
    "\n",
    "pcasp = get_dados_pcasp()\n",
    "\n",
    "pcasp = pcasp.drop(columns=['FUNÇÃO','STATUS','NATUREZA DO SALDO','CONTROLE','ÍTEM','SUBÍTEM'])\n",
    "\n",
    "pcasp = pcasp.loc[pcasp['CLASSE'].isin([1, 2])]\n",
    "\n",
    "pcasp.loc[pcasp['TÍTULO.1'] == 'OBRIGAÇÕES TRABALHISTAS, PREVIDENCIÁRIAS E ASSISTENCIAIS A PAGAR A LONGO PRAZO','TÍTULO.1'] = 'OBRIGAÇÕES TRAB., PREV. E ASSIST. A PAGAR A LONGO PRAZO'\n",
    "\n",
    "pcasp.loc[pcasp['TÍTULO.1'] == 'OBRIGAÇÕES TRABALHISTAS, PREVIDENCIÁRIAS E ASSISTENCIAIS A PAGAR A CURTO PRAZO','TÍTULO.1'] = 'OBRIGAÇÕES TRAB., PREV. E ASSIST. A PAGAR A CURTO PRAZO'\n",
    "\n",
    "pcasp['NÍVEL3'] = pcasp['CLASSE'].astype(str) + pcasp['GRUPO'].astype(str) + pcasp['SUBGRUPO'].astype(str)\n",
    "\n",
    "pcasp['NÍVEL2'] = pcasp['CLASSE'].astype(str) + pcasp['GRUPO'].astype(str)\n",
    "\n",
    "pcasp['NÍVEL1'] = pcasp['CLASSE'].astype(str)\n",
    "\n",
    "pcasp_nivel_3 = pcasp.loc[(pcasp['SUBGRUPO']!= 0) & (pcasp['TÍTULO']== 0)]\n",
    "\n",
    "pcasp_nivel_2 = pcasp.loc[(pcasp['GRUPO']!= 0) & (pcasp['SUBGRUPO']== 0)]\n",
    "\n",
    "pcasp_nivel_1 = pcasp.loc[(pcasp['GRUPO']== 0)]\n",
    "\n",
    "pcasp_nivel_1_2_3 = pd.concat([pcasp_nivel_1,pcasp_nivel_2,pcasp_nivel_3],axis=0)\n",
    "\n",
    "build_path()\n",
    "\n",
    "\n",
    "def get_dados_instancia(filename='instancia_MSC_API.csv'):\n",
    "    filepath = os.path.join(build_path(), filename)\n",
    "    return pd.read_csv(filepath, sep=';')\n",
    "\n",
    "instancia = get_dados_instancia()\n",
    "\n",
    "instancia = instancia.drop(columns=['tipo_matriz','cod_ibge','poder_orgao','financeiro_permanente','ano_fonte_recursos','fonte_recursos','mes_referencia','divida_consolidada','data_referencia','entrada_msc','tipo_valor','complemento_fonte'])\n",
    "\n",
    "instancia = instancia.rename(columns={'classe_conta':'NÍVEL1', 'conta_contabil':'CONTA', 'exercicio': 'EXERCÍCIO', 'valor':'VALOR', 'natureza_conta':'NATUREZA_VALOR'})\n",
    "\n",
    "instancia['CONTA'] = instancia['CONTA'].astype(str)\n",
    "\n",
    "#  Multiplica por 1 - Desnecessária\n",
    "instancia.loc[instancia['NÍVEL1'].isin([1]) & \n",
    "              (instancia['NATUREZA_VALOR']=='D'), 'VALOR'] = instancia['VALOR']*1\n",
    "\n",
    "#  Multiplica por -1\n",
    "instancia.loc[instancia['NÍVEL1'].isin([1]) & \n",
    "              (instancia['NATUREZA_VALOR']=='C'), 'VALOR'] = instancia['VALOR']*(-1)\n",
    "\n",
    "#  Multiplica por 1 - Desnecessária\n",
    "instancia.loc[instancia['NÍVEL1'].isin([2]) & \n",
    "              (instancia['NATUREZA_VALOR']=='C'), 'VALOR'] = instancia['VALOR']*1\n",
    "\n",
    "#  Multiplica por -1\n",
    "instancia.loc[instancia['NÍVEL1'].isin([2]) & \n",
    "              (instancia['NATUREZA_VALOR']=='D'), 'VALOR'] = instancia['VALOR']*(-1)\n",
    "\n",
    "instancia['NÍVEL3'] = instancia['CONTA'].str.slice(0, 3)\n",
    "instancia['NÍVEL2'] = instancia['CONTA'].str.slice(0,2)\n",
    "\n",
    "\n",
    "coluna = [col for col in instancia if col != 'NÍVEL1'] + ['NÍVEL1']\n",
    "\n",
    "instancia=instancia[coluna]\n",
    "\n",
    "instancia_grouped = instancia[['VALOR']].groupby([instancia['EXERCÍCIO'], instancia['NÍVEL3'], instancia['NATUREZA_VALOR']])\n",
    "\n",
    "instancia_soma_nivel_3 = instancia[['VALOR']].groupby([instancia['EXERCÍCIO'], instancia['NÍVEL3']]).sum()\n",
    "\n",
    "instancia_soma_nivel_2 = instancia[['VALOR']].groupby([instancia['EXERCÍCIO'], instancia['NÍVEL2']]).sum()\n",
    "\n",
    "instancia_soma_nivel_1 = instancia[['VALOR']].groupby([instancia['EXERCÍCIO'], instancia['NÍVEL1']]).sum()\n",
    "\n",
    "instancia_soma_nivel_3=instancia_soma_nivel_3.reset_index(level=['NÍVEL3','EXERCÍCIO'])\n",
    "\n",
    "instancia_soma_nivel_2 = instancia_soma_nivel_2.reset_index(level=['NÍVEL2','EXERCÍCIO'])\n",
    "\n",
    "instancia_soma_nivel_1 = instancia_soma_nivel_1.reset_index(level=['NÍVEL1','EXERCÍCIO'])\n",
    "\n",
    "balanco_nivel_3 = pd.merge(pcasp_nivel_3, instancia_soma_nivel_3, how='inner')\n",
    "\n",
    "balanco_nivel_3 = balanco_nivel_3.sort_values(by=['EXERCÍCIO','CONTA'])\n",
    "\n",
    "balanco_nivel_3 = balanco_nivel_3.drop(columns=['CLASSE','GRUPO','SUBGRUPO','TÍTULO','SUBTÍTULO'])\n",
    "\n",
    "balanco_nivel_2 = pd.merge(pcasp_nivel_2, instancia_soma_nivel_2, how='inner')\n",
    "\n",
    "balanco_nivel_2 = balanco_nivel_2.sort_values(by=['EXERCÍCIO','CONTA'])\n",
    "\n",
    "balanco_nivel_2 = balanco_nivel_2.drop(columns=['CLASSE','GRUPO','SUBGRUPO','TÍTULO','SUBTÍTULO'])\n",
    "\n",
    "instancia_soma_nivel_1['NÍVEL1'] = instancia_soma_nivel_1['NÍVEL1'].astype(str)\n",
    "\n",
    "balanco_nivel_1 = pd.merge(pcasp_nivel_1, instancia_soma_nivel_1, how='inner')\n",
    "\n",
    "balanco_nivel_1 = balanco_nivel_1.sort_values(by=['EXERCÍCIO','CONTA'])\n",
    "\n",
    "balanco_nivel_1 = balanco_nivel_1.drop(columns=['CLASSE','GRUPO','SUBGRUPO','TÍTULO','SUBTÍTULO'])\n",
    "\n",
    "balanco_123 = pd.concat([balanco_nivel_1,balanco_nivel_2,balanco_nivel_3],axis=0)\n",
    "\n",
    "balanco_123 = balanco_123.sort_values(by=['EXERCÍCIO','CONTA'])\n"
   ]
  },
  {
   "cell_type": "code",
   "execution_count": null,
   "id": "b2e59514-5074-47c9-a316-3dfefb168e84",
   "metadata": {
    "tags": []
   },
   "outputs": [],
   "source": [
    "balanco_123 = balanco_123.drop(columns=['NÍVEL3','NÍVEL2','NÍVEL1'])\n",
    "lista_exercicios = list(set(balanco_123['EXERCÍCIO']))\n",
    "balanco = []\n",
    "for ano in lista_exercicios:\n",
    "    balanco_ano = balanco_123.loc[balanco_123['EXERCÍCIO'] == ano]\n",
    "    balanco_ano = balanco_ano.rename(columns={'VALOR': f'{ano}'})\n",
    "    balanco_ano = balanco_ano.drop(columns=['EXERCÍCIO'])\n",
    "    balanco.append(balanco_ano)\n",
    "balanco_final = pd.merge(balanco[0], balanco[1], how='outer', on=['CONTA','TÍTULO.1'])\n",
    "balanco_final = pd.merge(balanco_final, balanco[2], how='outer', on=['CONTA','TÍTULO.1'])\n",
    "balanco_final = pd.merge(balanco_final, balanco[3], how='outer', on=['CONTA','TÍTULO.1'])\n",
    "balanco_final = balanco_final.sort_values(by='CONTA')"
   ]
  },
  {
   "cell_type": "code",
   "execution_count": null,
   "id": "85b0e743-5af4-48a0-8caf-ff2e5e69b6ed",
   "metadata": {
    "tags": []
   },
   "outputs": [],
   "source": [
    "balanco_final_exercicio = balanco_final.T"
   ]
  },
  {
   "cell_type": "code",
   "execution_count": null,
   "id": "1f888e40-8491-4941-88b9-59b18a8dcf1e",
   "metadata": {
    "tags": []
   },
   "outputs": [],
   "source": [
    "lista = []\n",
    "for i in range(len(balanco_final)):\n",
    "    lista.append( list(balanco_final_exercicio.loc['TÍTULO.1'])[i])"
   ]
  },
  {
   "cell_type": "code",
   "execution_count": null,
   "id": "417efa64-b27e-4ed6-99ad-689937cff367",
   "metadata": {
    "tags": []
   },
   "outputs": [],
   "source": [
    "balanco_final_exercicio = balanco_final_exercicio.rename(columns=balanco_final_exercicio.iloc[1])\n",
    "balanco_final_exercicio = balanco_final_exercicio[2:]\n",
    "balanco_final_exercicio.index.names = ['EXERCÍCIO']\n",
    "balanco_final_exercicio = balanco_final_exercicio.reset_index(level=['EXERCÍCIO'])"
   ]
  },
  {
   "cell_type": "code",
   "execution_count": null,
   "id": "6b3829ea-950b-4078-bfe7-081e7245f046",
   "metadata": {
    "tags": []
   },
   "outputs": [],
   "source": [
    "balanco_final['CONTA'] = balanco_final['CONTA'].astype(str)\n",
    "balanco_final['CLASSE'] = balanco_final['CONTA'].str.slice(0,1)\n",
    "\n",
    "balanco_final = balanco_final.rename(columns={2019: '2019', 2020: '2020', 2021: '2021', 2022: '2022'})"
   ]
  },
  {
   "cell_type": "code",
   "execution_count": null,
   "id": "77751a20-1739-49ce-a57b-5920331b71bd",
   "metadata": {},
   "outputs": [],
   "source": [
    "balanco_normalizado = balanco_final.copy()"
   ]
  },
  {
   "cell_type": "code",
   "execution_count": null,
   "id": "5a59a55b-a7ba-42fa-895b-d3f04bfc77bd",
   "metadata": {
    "tags": []
   },
   "outputs": [],
   "source": [
    "listaAnos = ['2019', '2020', '2021', '2022' ]\n",
    "for ano in listaAnos:\n",
    "    coluna_ano = listaAnos[listaAnos.index(ano)]\n",
    "\n",
    "    if balanco_final[coluna_ano].min() < 0 :\n",
    "\n",
    "        listanorm = preprocessing.normalize([balanco_normalizado[coluna_ano].values.tolist()]) \n",
    "        coluna_ano = coluna_ano+'ABS'\n",
    "        listanormal = listanorm-(listanorm.min()*2)\n",
    "        balanco_normalizado[coluna_ano] = pd.DataFrame(listanormal).T\n"
   ]
  },
  {
   "cell_type": "code",
   "execution_count": null,
   "id": "3b14da8c-4fe8-47d6-be35-5896d1b7786e",
   "metadata": {},
   "outputs": [],
   "source": []
  }
 ],
 "metadata": {
  "kernelspec": {
   "display_name": "Python 3 (ipykernel)",
   "language": "python",
   "name": "python3"
  },
  "language_info": {
   "codemirror_mode": {
    "name": "ipython",
    "version": 3
   },
   "file_extension": ".py",
   "mimetype": "text/x-python",
   "name": "python",
   "nbconvert_exporter": "python",
   "pygments_lexer": "ipython3",
   "version": "3.11.5"
  }
 },
 "nbformat": 4,
 "nbformat_minor": 5
}
